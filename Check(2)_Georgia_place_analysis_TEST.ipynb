{
  "nbformat": 4,
  "nbformat_minor": 0,
  "metadata": {
    "colab": {
      "provenance": [],
      "machine_shape": "hm",
      "include_colab_link": true
    },
    "kernelspec": {
      "name": "python3",
      "display_name": "Python 3"
    },
    "language_info": {
      "name": "python"
    },
    "gpuClass": "standard"
  },
  "cells": [
    {
      "cell_type": "markdown",
      "metadata": {
        "id": "view-in-github",
        "colab_type": "text"
      },
      "source": [
        "<a href=\"https://colab.research.google.com/github/ykim71/georgia_analysis/blob/main/Check(2)_Georgia_place_analysis_TEST.ipynb\" target=\"_parent\"><img src=\"https://colab.research.google.com/assets/colab-badge.svg\" alt=\"Open In Colab\"/></a>"
      ]
    },
    {
      "cell_type": "code",
      "execution_count": 1,
      "metadata": {
        "id": "e7PpN2VVxH5c",
        "colab": {
          "base_uri": "https://localhost:8080/"
        },
        "outputId": "f5c3a54a-ef9b-4d12-d7a1-e8e20c064915"
      },
      "outputs": [
        {
          "output_type": "stream",
          "name": "stdout",
          "text": [
            "Drive already mounted at /content/drive; to attempt to forcibly remount, call drive.mount(\"/content/drive\", force_remount=True).\n"
          ]
        }
      ],
      "source": [
        "from google.colab import drive\n",
        "drive.mount('/content/drive')"
      ]
    },
    {
      "cell_type": "code",
      "source": [
        "# need access to the folder(s) below:\n",
        "\n",
        "#%cd /content/drive/MyDrive/Georgia/\n",
        "#%cd /content/drive/MyDrive/Colab Notebooks/'Check code for others'/\n",
        "%cd /content/drive/MyDrive/Colab Notebooks/'Check code for others'/'Check Georgia code for Yujin, apr 2023'/Georgia/\n",
        "#%cd /content/drive/MyDrive/Colab Notebooks/'Check code for others'/'Check Georgia code for Yujin, apr 2023'/Georgia/'Locations Analysis'\n",
        "!ls"
      ],
      "metadata": {
        "id": "aPvEBRBtxzje",
        "colab": {
          "base_uri": "https://localhost:8080/"
        },
        "outputId": "1edd0b8a-584f-42ee-de48-ca858b2c455f"
      },
      "execution_count": 6,
      "outputs": [
        {
          "output_type": "stream",
          "name": "stdout",
          "text": [
            "/content/drive/.shortcut-targets-by-id/1YSQ9BBnwwRu7fyeM_9V6eoFgKQBPl4Rr/Georgia\n",
            " 2020-count-by-county-population--with-2010.pdf\n",
            "'Georgia Left to Do Feb 2023.gdoc'\n",
            "'Georgia Media Landscape Report Draft.gdoc'\n",
            "'Georgia MEETING NOTES.gdoc'\n",
            "'Locations Analysis'\n",
            "'Organization Analysis'\n",
            "'[SHARED] GNC Research Component.gdoc'\n",
            "'Topic Dictionaries'\n",
            "'Web Scraping'\n"
          ]
        }
      ]
    },
    {
      "cell_type": "markdown",
      "source": [
        "# Location analysis"
      ],
      "metadata": {
        "id": "5yLkNpuLL3Sr"
      }
    },
    {
      "cell_type": "markdown",
      "source": [
        "## Prep for place analysis"
      ],
      "metadata": {
        "id": "JgTpKxDx-YMU"
      }
    },
    {
      "cell_type": "code",
      "source": [
        "#%cd /content/drive/MyDrive/Georgia/Locations Analysis\n",
        "%cd /content/drive/MyDrive/Colab Notebooks/'Check code for others'/'Check Georgia code for Yujin, apr 2023'/Georgia/'Web Scraping' \n",
        "#%cd /content/drive/MyDrive/Colab Notebooks/'Check code for others'/'Check Georgia code for Yujin, apr 2023'/Georgia/ \n",
        "#!ls\n",
        "\n",
        "!pwd\n",
        "!ls"
      ],
      "metadata": {
        "id": "PFZz3K7xSlBq",
        "colab": {
          "base_uri": "https://localhost:8080/"
        },
        "outputId": "2a2a62d9-5770-46be-b9c4-2b507dd1157e"
      },
      "execution_count": 15,
      "outputs": [
        {
          "output_type": "stream",
          "name": "stdout",
          "text": [
            "/content/drive/.shortcut-targets-by-id/1YSQ9BBnwwRu7fyeM_9V6eoFgKQBPl4Rr/Georgia/Web Scraping\n",
            "/content/drive/.shortcut-targets-by-id/1YSQ9BBnwwRu7fyeM_9V6eoFgKQBPl4Rr/Georgia/Web Scraping\n",
            " CrowdTangle_GA.xlsx\n",
            "'Georgia Batches Justification for Scraping.gdoc'\n",
            " Georgia_data_v2_translation_ner3_lem.pkl\n",
            "'Georgia Media RFP.gdoc'\n",
            "'Georgia Scraping Methods - Emily.gdoc'\n",
            "'Keeping track of media sites'\n",
            "'List of Potential Web Scrapers (Georgia).gdoc'\n",
            "'Marquee data'\n",
            "'Updated Marquee data'\n"
          ]
        }
      ]
    },
    {
      "cell_type": "markdown",
      "source": [],
      "metadata": {
        "id": "VQKgKuVdPbIK"
      }
    },
    {
      "cell_type": "code",
      "source": [
        "import pandas as pd\n",
        "\n",
        "#df = pd.read_pickle('/Web Scraping/Georgia_data_v2_translation_ner2_lem.pkl') #CH: this threw an error\n",
        "df = pd.read_pickle('Georgia_data_v2_translation_ner3_lem.pkl') #CH: I assume this is the relevant file!"
      ],
      "metadata": {
        "id": "7WKF8OS4RkoU"
      },
      "execution_count": 16,
      "outputs": []
    },
    {
      "cell_type": "code",
      "source": [
        "# lemmatization if needed\n",
        "import spacy\n",
        "from spacy import displacy\n",
        "\n",
        "sp = spacy.load('en_core_web_sm', disable=[\"tok2vec\", \"tagger\", \"parser\", \"attribute_ruler\", \"lemmatizer\"])\n",
        "# CH: not familiar with \"en_core_web_sm\" but sounds reasonable. "
      ],
      "metadata": {
        "id": "Leu0aduT9jp5"
      },
      "execution_count": 17,
      "outputs": []
    },
    {
      "cell_type": "code",
      "source": [
        "help(spacy.load)"
      ],
      "metadata": {
        "colab": {
          "base_uri": "https://localhost:8080/"
        },
        "id": "BTXxYV2jQgw6",
        "outputId": "fdf7cda1-982f-4611-c739-8c009ba092e4"
      },
      "execution_count": 19,
      "outputs": [
        {
          "output_type": "stream",
          "name": "stdout",
          "text": [
            "Help on function load in module spacy:\n",
            "\n",
            "load(name: Union[str, pathlib.Path], *, vocab: Union[spacy.vocab.Vocab, bool] = True, disable: Union[str, Iterable[str]] = [], enable: Union[str, Iterable[str]] = [], exclude: Union[str, Iterable[str]] = [], config: Union[Dict[str, Any], confection.Config] = {}) -> spacy.language.Language\n",
            "    Load a spaCy model from an installed package or a local path.\n",
            "    \n",
            "    name (str): Package name or model path.\n",
            "    vocab (Vocab): A Vocab object. If True, a vocab is created.\n",
            "    disable (Union[str, Iterable[str]]): Name(s) of pipeline component(s) to disable. Disabled\n",
            "        pipes will be loaded but they won't be run unless you explicitly\n",
            "        enable them by calling nlp.enable_pipe.\n",
            "    enable (Union[str, Iterable[str]]): Name(s) of pipeline component(s) to enable. All other\n",
            "        pipes will be disabled (but can be enabled later using nlp.enable_pipe).\n",
            "    exclude (Union[str, Iterable[str]]): Name(s) of pipeline component(s) to exclude. Excluded\n",
            "        components won't be loaded.\n",
            "    config (Dict[str, Any] / Config): Config overrides as nested dict or dict\n",
            "        keyed by section values in dot notation.\n",
            "    RETURNS (Language): The loaded nlp object.\n",
            "\n"
          ]
        }
      ]
    },
    {
      "cell_type": "code",
      "source": [
        "\n",
        "def text_ner_place(text):\n",
        "  text = sp(text)\n",
        "  \n",
        "  ner_list = []\n",
        "  \n",
        "  for entity in text.ents:\n",
        "    if entity.label_ == \"FAC\":\n",
        "      ner_list.append(entity.text + \" (\" + entity.label_ + \")\")\n",
        "    if entity.label_ == \"GPE\":\n",
        "      ner_list.append(entity.text + \" (\" + entity.label_ + \")\")\n",
        "    if entity.label_ == \"LOC\":\n",
        "      ner_list.append(entity.text + \" (\" + entity.label_ + \")\")\n",
        "    else:\n",
        "      None\n",
        "  return str(set(ner_list))\n"
      ],
      "metadata": {
        "id": "r2S86oeO-Pqd"
      },
      "execution_count": 20,
      "outputs": []
    },
    {
      "cell_type": "code",
      "source": [
        "df['ner_places'] = df['article_final'].astype(str).apply(text_ner_place)"
      ],
      "metadata": {
        "id": "ydmHijaN-WNn"
      },
      "execution_count": null,
      "outputs": []
    },
    {
      "cell_type": "code",
      "source": [
        "#df.to_pickle('Georgia_data_v2_translation_ner.pkl') # commented this line to prevent from saving it"
      ],
      "metadata": {
        "id": "lKyUNAawaALt"
      },
      "execution_count": null,
      "outputs": []
    },
    {
      "cell_type": "markdown",
      "source": [
        "## Find rough location from spaCy"
      ],
      "metadata": {
        "id": "R2H0iUp_X1Hh"
      }
    },
    {
      "cell_type": "code",
      "source": [
        "import pandas as pd\n",
        "\n",
        "df = pd.read_pickle('/content/drive/MyDrive/Georgia/Web Scraping/Georgia_data_v2_translation_ner2_lem.pkl')\n"
      ],
      "metadata": {
        "id": "vh4PyWlOX0Wq"
      },
      "execution_count": null,
      "outputs": []
    },
    {
      "cell_type": "code",
      "source": [
        "df_ner = df.loc[df['ner_places'] != 'set()']"
      ],
      "metadata": {
        "id": "yy41J8P9PlYN"
      },
      "execution_count": null,
      "outputs": []
    },
    {
      "cell_type": "code",
      "source": [
        "print(len(df))\n",
        "print(len(df_ner))"
      ],
      "metadata": {
        "colab": {
          "base_uri": "https://localhost:8080/"
        },
        "id": "Uj_17ZSjQeRP",
        "outputId": "90d6de0e-1585-4cb6-f957-c0fbb573c2be"
      },
      "execution_count": null,
      "outputs": [
        {
          "output_type": "stream",
          "name": "stdout",
          "text": [
            "192206\n",
            "144929\n"
          ]
        }
      ]
    },
    {
      "cell_type": "code",
      "source": [
        "df_expand = df_ner['ner_places'].str.split(',').explode().str.strip('{} ')\n"
      ],
      "metadata": {
        "id": "ucqy79j7QbkQ"
      },
      "execution_count": null,
      "outputs": []
    },
    {
      "cell_type": "code",
      "source": [
        "df_expand = pd.DataFrame(df_expand)\n"
      ],
      "metadata": {
        "id": "pLmMPrC4Qo0n"
      },
      "execution_count": null,
      "outputs": []
    },
    {
      "cell_type": "code",
      "source": [
        "df_expand['ner_places_clean'] = df_expand['ner_places'].str.replace(r\"\\'\",\"\")\n",
        "df_expand['ner_places_clean'] = df_expand['ner_places_clean'].str.replace(r\" \\\"\",\"\")\n",
        "df_expand['ner_places_clean'] = df_expand['ner_places_clean'].str.replace(r\"\\\"\",\"\")\n",
        "df_expand['ner_places_clean'] = df_expand['ner_places_clean'].str.replace(r\"\\(.*\\)\",\"\")"
      ],
      "metadata": {
        "colab": {
          "base_uri": "https://localhost:8080/"
        },
        "id": "NPh4arGwQqEg",
        "outputId": "f395a42c-aa77-4c8e-8e66-e280f33e7239"
      },
      "execution_count": null,
      "outputs": [
        {
          "output_type": "stream",
          "name": "stderr",
          "text": [
            "<ipython-input-8-03789092516e>:1: FutureWarning: The default value of regex will change from True to False in a future version.\n",
            "  df_expand['ner_places_clean'] = df_expand['ner_places'].str.replace(r\"\\'\",\"\")\n",
            "<ipython-input-8-03789092516e>:2: FutureWarning: The default value of regex will change from True to False in a future version.\n",
            "  df_expand['ner_places_clean'] = df_expand['ner_places_clean'].str.replace(r\" \\\"\",\"\")\n",
            "<ipython-input-8-03789092516e>:3: FutureWarning: The default value of regex will change from True to False in a future version.\n",
            "  df_expand['ner_places_clean'] = df_expand['ner_places_clean'].str.replace(r\"\\\"\",\"\")\n",
            "<ipython-input-8-03789092516e>:4: FutureWarning: The default value of regex will change from True to False in a future version.\n",
            "  df_expand['ner_places_clean'] = df_expand['ner_places_clean'].str.replace(r\"\\(.*\\)\",\"\")\n"
          ]
        }
      ]
    },
    {
      "cell_type": "code",
      "source": [
        "df_expand_count = df_expand.groupby('ner_places_clean').count().reset_index()"
      ],
      "metadata": {
        "id": "40t2DcFSRamc"
      },
      "execution_count": null,
      "outputs": []
    },
    {
      "cell_type": "code",
      "source": [
        "df_freq_n5 = df_expand_count[df_expand_count[\"ner_places\"] >= 5]\n",
        "df_freq_n5.to_excel('df_freq_n5_ner_v2.xlsx')"
      ],
      "metadata": {
        "id": "fdLEo3K0Rt71"
      },
      "execution_count": null,
      "outputs": []
    },
    {
      "cell_type": "code",
      "source": [
        "# # compare place entities with v1\n",
        "\n",
        "# df_freq_n5_v2 = pd.read_excel('df_freq_n5_ner_v2.xlsx')\n",
        "# df_freq_n5_v1 = pd.read_excel('df_freq_n5_ner.xlsx')\n",
        "\n",
        "# df_freq_n5_v1['version'] = 'v1'\n",
        "# df_freq_n5_v2['version'] = 'v2'\n",
        "\n",
        "# df_freq_n5_merge = pd.merge( df_freq_n5_v1,df_freq_n5_v2, how=\"outer\", on=[\"ner_places_clean\"])"
      ],
      "metadata": {
        "id": "TG-YAtO6xsDf"
      },
      "execution_count": null,
      "outputs": []
    },
    {
      "cell_type": "markdown",
      "source": [
        "## Find sentence example of location"
      ],
      "metadata": {
        "id": "Ggu0MvMFQmx-"
      }
    },
    {
      "cell_type": "code",
      "source": [
        "import pandas as pd\n",
        "\n",
        "#ner_places = pd.read_csv('Georgia_ner_places.csv') # previous data\n",
        "ner_places = pd.read_csv('Georgia_ner_places_v2.csv') # updated data"
      ],
      "metadata": {
        "id": "ZU1S_6coQpR5"
      },
      "execution_count": null,
      "outputs": []
    },
    {
      "cell_type": "code",
      "source": [
        "ner_places['ner_places_clean'] = ner_places['ner_places_clean'].str.rstrip()"
      ],
      "metadata": {
        "id": "Dd9WWAzOR4D6"
      },
      "execution_count": null,
      "outputs": []
    },
    {
      "cell_type": "code",
      "source": [
        "ner_places_raw = list(set(ner_places['ner_places_clean'].tolist()))"
      ],
      "metadata": {
        "id": "XLlz4OzHRpob"
      },
      "execution_count": null,
      "outputs": []
    },
    {
      "cell_type": "code",
      "source": [
        "import nltk\n",
        "nltk.download('punkt')"
      ],
      "metadata": {
        "colab": {
          "base_uri": "https://localhost:8080/"
        },
        "id": "EWfelpd-Q7zr",
        "outputId": "5ca60a2d-9972-48d2-f773-ecb6c49b663c"
      },
      "execution_count": null,
      "outputs": [
        {
          "output_type": "stream",
          "name": "stderr",
          "text": [
            "[nltk_data] Downloading package punkt to /root/nltk_data...\n",
            "[nltk_data]   Unzipping tokenizers/punkt.zip.\n"
          ]
        },
        {
          "output_type": "execute_result",
          "data": {
            "text/plain": [
              "True"
            ]
          },
          "metadata": {},
          "execution_count": 72
        }
      ]
    },
    {
      "cell_type": "code",
      "source": [
        "# df[\"id\"] = df.index + 1\n",
        "df_ner = df.loc[df['ner_places'] != 'set()']"
      ],
      "metadata": {
        "id": "pqUoeTQCQ_aI"
      },
      "execution_count": null,
      "outputs": []
    },
    {
      "cell_type": "code",
      "source": [
        "\n",
        "import numpy as np\n",
        "\n",
        "df_ner['place_ng1'] = df_ner['article_final'].astype(str).apply(lambda x: [i for i in ner_places_raw if i in x])\n"
      ],
      "metadata": {
        "colab": {
          "base_uri": "https://localhost:8080/"
        },
        "id": "3ChBQadJQ4LC",
        "outputId": "bf22103e-4f13-4b8e-ba20-366236b3440c"
      },
      "execution_count": null,
      "outputs": [
        {
          "output_type": "stream",
          "name": "stderr",
          "text": [
            "<ipython-input-76-22b7966504e5>:3: SettingWithCopyWarning: \n",
            "A value is trying to be set on a copy of a slice from a DataFrame.\n",
            "Try using .loc[row_indexer,col_indexer] = value instead\n",
            "\n",
            "See the caveats in the documentation: https://pandas.pydata.org/pandas-docs/stable/user_guide/indexing.html#returning-a-view-versus-a-copy\n",
            "  df_ner['place_ng1'] = df_ner['article_final'].astype(str).apply(lambda x: [i for i in ner_places_raw if i in x])\n"
          ]
        }
      ]
    },
    {
      "cell_type": "code",
      "source": [
        "text_df_uni_dict = df_ner[['id',  'place_ng1']]\n",
        "text_df_uni_article = df_ner[['id', \"article_final\"]]\n"
      ],
      "metadata": {
        "id": "-xeJVvdJgd5q"
      },
      "execution_count": null,
      "outputs": []
    },
    {
      "cell_type": "code",
      "source": [
        "\n",
        "sample_sentence = text_df_uni_dict['place_ng1'].astype(str).str.split(',').explode().str.strip('[] ')\n",
        "sample_sentence_df = pd.DataFrame(sample_sentence)"
      ],
      "metadata": {
        "id": "YI4Sb5o_gf0x"
      },
      "execution_count": null,
      "outputs": []
    },
    {
      "cell_type": "code",
      "source": [
        "merge_uni = pd.merge(sample_sentence_df, text_df_uni_article, left_index=True, right_index=True)\n",
        "\n",
        "merge_uni['place_ng1'] = merge_uni['place_ng1'].str.strip('\\'')"
      ],
      "metadata": {
        "id": "XG3Hpg9GTFFM"
      },
      "execution_count": null,
      "outputs": []
    },
    {
      "cell_type": "code",
      "source": [
        "merge_uni_count = merge_uni.groupby('place_ng1').count() #\n"
      ],
      "metadata": {
        "id": "fcHSmbdKb_DV"
      },
      "execution_count": null,
      "outputs": []
    },
    {
      "cell_type": "code",
      "source": [
        "# articles mentioned a location less than 3\n",
        "merge_uni_count_l3 = merge_uni_count[merge_uni_count['article_final'] < 3].reset_index()\n"
      ],
      "metadata": {
        "id": "7mMK-srPLvtN"
      },
      "execution_count": null,
      "outputs": []
    },
    {
      "cell_type": "code",
      "source": [
        "merge_uni_count_l3_places = merge_uni_count_l3.place_ng1.values.tolist()\n",
        "merge_uni_count_l3_places"
      ],
      "metadata": {
        "colab": {
          "base_uri": "https://localhost:8080/"
        },
        "id": "9GCZ_VtNLyt2",
        "outputId": "1cf8a0c5-eaa3-44af-c708-a6f11278d79a"
      },
      "execution_count": null,
      "outputs": [
        {
          "output_type": "execute_result",
          "data": {
            "text/plain": [
              "['Mountain Views',\n",
              " 'St. Giles Cathedral',\n",
              " 'St. Judes',\n",
              " 'the State Fire Marshals Office']"
            ]
          },
          "metadata": {},
          "execution_count": 83
        }
      ]
    },
    {
      "cell_type": "code",
      "source": [
        "merge_uni_l3 = merge_uni[merge_uni['place_ng1'].isin(merge_uni_count_l3_places)]\n",
        "merge_uni_l3_group = merge_uni_l3.groupby('place_ng1').apply(lambda x: x.sample(3, replace=True)).reset_index(drop=True)"
      ],
      "metadata": {
        "id": "7Nb6l6aAcraj"
      },
      "execution_count": null,
      "outputs": []
    },
    {
      "cell_type": "code",
      "source": [
        "# articles mentioned a location more than 3 --> random sample\n",
        "\n",
        "merge_uni_m3 = merge_uni[~merge_uni['place_ng1'].isin(merge_uni_count_l3_places)]\n",
        "merge_uni_m3_group = merge_uni_m3.groupby('place_ng1').apply(lambda x: x.sample(3, replace=False)).reset_index(drop=True)\n"
      ],
      "metadata": {
        "id": "ikE7eLK3L4eK"
      },
      "execution_count": null,
      "outputs": []
    },
    {
      "cell_type": "code",
      "source": [
        "# merge 3 samples + those with less than 3 \n",
        "merge_uni_m3_group2 = pd.concat([merge_uni_m3_group, merge_uni_l3_group]).reset_index()"
      ],
      "metadata": {
        "id": "TrUO6epMhDjO"
      },
      "execution_count": null,
      "outputs": []
    },
    {
      "cell_type": "code",
      "source": [
        "merge_uni_m3_group2.rename(columns={'place_ng1':'places'}, inplace=True)\n"
      ],
      "metadata": {
        "id": "TdAGYk_AhPdP"
      },
      "execution_count": null,
      "outputs": []
    },
    {
      "cell_type": "code",
      "source": [
        "merge_uni_m3_group2"
      ],
      "metadata": {
        "colab": {
          "base_uri": "https://localhost:8080/",
          "height": 424
        },
        "id": "vYjcABVpd-I5",
        "outputId": "7459dd8b-5947-41e6-a558-1f0090d13260"
      },
      "execution_count": null,
      "outputs": [
        {
          "output_type": "execute_result",
          "data": {
            "text/plain": [
              "      index                          places      id  \\\n",
              "0         0                                  158151   \n",
              "1         1                                   39128   \n",
              "2         2                                  152966   \n",
              "3         3                  14 W. Main St.   47531   \n",
              "4         4                  14 W. Main St.   30084   \n",
              "...     ...                             ...     ...   \n",
              "8284      7                       St. Judes  173845   \n",
              "8285      8                       St. Judes  173907   \n",
              "8286      9  the State Fire Marshals Office  102767   \n",
              "8287     10  the State Fire Marshals Office  102767   \n",
              "8288     11  the State Fire Marshals Office  102767   \n",
              "\n",
              "                                          article_final  \n",
              "0     Panel recommends anxiety screening for adults ...  \n",
              "1     This month, we’re recognizing a Springfield ed...  \n",
              "2     Watch CBS News\\n\"\"Broadway in the Boros\"\" brin...  \n",
              "3     GRAFTON — A new attraction described as a \"\"th...  \n",
              "4     Gazebo Downtown Franklin decorated for Fall. p...  \n",
              "...                                                 ...  \n",
              "8284  September 23, 2022\\nPublication: Northeast Geo...  \n",
              "8285  By News Staff\\nSeptember 23, 2022\\nPublication...  \n",
              "8286  SUMMERVILLE, S.C. (WCBD) – A deadly early morn...  \n",
              "8287  SUMMERVILLE, S.C. (WCBD) – A deadly early morn...  \n",
              "8288  SUMMERVILLE, S.C. (WCBD) – A deadly early morn...  \n",
              "\n",
              "[8289 rows x 4 columns]"
            ],
            "text/html": [
              "\n",
              "  <div id=\"df-6dfa8884-1b09-4521-8271-b356ba723f4f\">\n",
              "    <div class=\"colab-df-container\">\n",
              "      <div>\n",
              "<style scoped>\n",
              "    .dataframe tbody tr th:only-of-type {\n",
              "        vertical-align: middle;\n",
              "    }\n",
              "\n",
              "    .dataframe tbody tr th {\n",
              "        vertical-align: top;\n",
              "    }\n",
              "\n",
              "    .dataframe thead th {\n",
              "        text-align: right;\n",
              "    }\n",
              "</style>\n",
              "<table border=\"1\" class=\"dataframe\">\n",
              "  <thead>\n",
              "    <tr style=\"text-align: right;\">\n",
              "      <th></th>\n",
              "      <th>index</th>\n",
              "      <th>places</th>\n",
              "      <th>id</th>\n",
              "      <th>article_final</th>\n",
              "    </tr>\n",
              "  </thead>\n",
              "  <tbody>\n",
              "    <tr>\n",
              "      <th>0</th>\n",
              "      <td>0</td>\n",
              "      <td></td>\n",
              "      <td>158151</td>\n",
              "      <td>Panel recommends anxiety screening for adults ...</td>\n",
              "    </tr>\n",
              "    <tr>\n",
              "      <th>1</th>\n",
              "      <td>1</td>\n",
              "      <td></td>\n",
              "      <td>39128</td>\n",
              "      <td>This month, we’re recognizing a Springfield ed...</td>\n",
              "    </tr>\n",
              "    <tr>\n",
              "      <th>2</th>\n",
              "      <td>2</td>\n",
              "      <td></td>\n",
              "      <td>152966</td>\n",
              "      <td>Watch CBS News\\n\"\"Broadway in the Boros\"\" brin...</td>\n",
              "    </tr>\n",
              "    <tr>\n",
              "      <th>3</th>\n",
              "      <td>3</td>\n",
              "      <td>14 W. Main St.</td>\n",
              "      <td>47531</td>\n",
              "      <td>GRAFTON — A new attraction described as a \"\"th...</td>\n",
              "    </tr>\n",
              "    <tr>\n",
              "      <th>4</th>\n",
              "      <td>4</td>\n",
              "      <td>14 W. Main St.</td>\n",
              "      <td>30084</td>\n",
              "      <td>Gazebo Downtown Franklin decorated for Fall. p...</td>\n",
              "    </tr>\n",
              "    <tr>\n",
              "      <th>...</th>\n",
              "      <td>...</td>\n",
              "      <td>...</td>\n",
              "      <td>...</td>\n",
              "      <td>...</td>\n",
              "    </tr>\n",
              "    <tr>\n",
              "      <th>8284</th>\n",
              "      <td>7</td>\n",
              "      <td>St. Judes</td>\n",
              "      <td>173845</td>\n",
              "      <td>September 23, 2022\\nPublication: Northeast Geo...</td>\n",
              "    </tr>\n",
              "    <tr>\n",
              "      <th>8285</th>\n",
              "      <td>8</td>\n",
              "      <td>St. Judes</td>\n",
              "      <td>173907</td>\n",
              "      <td>By News Staff\\nSeptember 23, 2022\\nPublication...</td>\n",
              "    </tr>\n",
              "    <tr>\n",
              "      <th>8286</th>\n",
              "      <td>9</td>\n",
              "      <td>the State Fire Marshals Office</td>\n",
              "      <td>102767</td>\n",
              "      <td>SUMMERVILLE, S.C. (WCBD) – A deadly early morn...</td>\n",
              "    </tr>\n",
              "    <tr>\n",
              "      <th>8287</th>\n",
              "      <td>10</td>\n",
              "      <td>the State Fire Marshals Office</td>\n",
              "      <td>102767</td>\n",
              "      <td>SUMMERVILLE, S.C. (WCBD) – A deadly early morn...</td>\n",
              "    </tr>\n",
              "    <tr>\n",
              "      <th>8288</th>\n",
              "      <td>11</td>\n",
              "      <td>the State Fire Marshals Office</td>\n",
              "      <td>102767</td>\n",
              "      <td>SUMMERVILLE, S.C. (WCBD) – A deadly early morn...</td>\n",
              "    </tr>\n",
              "  </tbody>\n",
              "</table>\n",
              "<p>8289 rows × 4 columns</p>\n",
              "</div>\n",
              "      <button class=\"colab-df-convert\" onclick=\"convertToInteractive('df-6dfa8884-1b09-4521-8271-b356ba723f4f')\"\n",
              "              title=\"Convert this dataframe to an interactive table.\"\n",
              "              style=\"display:none;\">\n",
              "        \n",
              "  <svg xmlns=\"http://www.w3.org/2000/svg\" height=\"24px\"viewBox=\"0 0 24 24\"\n",
              "       width=\"24px\">\n",
              "    <path d=\"M0 0h24v24H0V0z\" fill=\"none\"/>\n",
              "    <path d=\"M18.56 5.44l.94 2.06.94-2.06 2.06-.94-2.06-.94-.94-2.06-.94 2.06-2.06.94zm-11 1L8.5 8.5l.94-2.06 2.06-.94-2.06-.94L8.5 2.5l-.94 2.06-2.06.94zm10 10l.94 2.06.94-2.06 2.06-.94-2.06-.94-.94-2.06-.94 2.06-2.06.94z\"/><path d=\"M17.41 7.96l-1.37-1.37c-.4-.4-.92-.59-1.43-.59-.52 0-1.04.2-1.43.59L10.3 9.45l-7.72 7.72c-.78.78-.78 2.05 0 2.83L4 21.41c.39.39.9.59 1.41.59.51 0 1.02-.2 1.41-.59l7.78-7.78 2.81-2.81c.8-.78.8-2.07 0-2.86zM5.41 20L4 18.59l7.72-7.72 1.47 1.35L5.41 20z\"/>\n",
              "  </svg>\n",
              "      </button>\n",
              "      \n",
              "  <style>\n",
              "    .colab-df-container {\n",
              "      display:flex;\n",
              "      flex-wrap:wrap;\n",
              "      gap: 12px;\n",
              "    }\n",
              "\n",
              "    .colab-df-convert {\n",
              "      background-color: #E8F0FE;\n",
              "      border: none;\n",
              "      border-radius: 50%;\n",
              "      cursor: pointer;\n",
              "      display: none;\n",
              "      fill: #1967D2;\n",
              "      height: 32px;\n",
              "      padding: 0 0 0 0;\n",
              "      width: 32px;\n",
              "    }\n",
              "\n",
              "    .colab-df-convert:hover {\n",
              "      background-color: #E2EBFA;\n",
              "      box-shadow: 0px 1px 2px rgba(60, 64, 67, 0.3), 0px 1px 3px 1px rgba(60, 64, 67, 0.15);\n",
              "      fill: #174EA6;\n",
              "    }\n",
              "\n",
              "    [theme=dark] .colab-df-convert {\n",
              "      background-color: #3B4455;\n",
              "      fill: #D2E3FC;\n",
              "    }\n",
              "\n",
              "    [theme=dark] .colab-df-convert:hover {\n",
              "      background-color: #434B5C;\n",
              "      box-shadow: 0px 1px 3px 1px rgba(0, 0, 0, 0.15);\n",
              "      filter: drop-shadow(0px 1px 2px rgba(0, 0, 0, 0.3));\n",
              "      fill: #FFFFFF;\n",
              "    }\n",
              "  </style>\n",
              "\n",
              "      <script>\n",
              "        const buttonEl =\n",
              "          document.querySelector('#df-6dfa8884-1b09-4521-8271-b356ba723f4f button.colab-df-convert');\n",
              "        buttonEl.style.display =\n",
              "          google.colab.kernel.accessAllowed ? 'block' : 'none';\n",
              "\n",
              "        async function convertToInteractive(key) {\n",
              "          const element = document.querySelector('#df-6dfa8884-1b09-4521-8271-b356ba723f4f');\n",
              "          const dataTable =\n",
              "            await google.colab.kernel.invokeFunction('convertToInteractive',\n",
              "                                                     [key], {});\n",
              "          if (!dataTable) return;\n",
              "\n",
              "          const docLinkHtml = 'Like what you see? Visit the ' +\n",
              "            '<a target=\"_blank\" href=https://colab.research.google.com/notebooks/data_table.ipynb>data table notebook</a>'\n",
              "            + ' to learn more about interactive tables.';\n",
              "          element.innerHTML = '';\n",
              "          dataTable['output_type'] = 'display_data';\n",
              "          await google.colab.output.renderOutput(dataTable, element);\n",
              "          const docLink = document.createElement('div');\n",
              "          docLink.innerHTML = docLinkHtml;\n",
              "          element.appendChild(docLink);\n",
              "        }\n",
              "      </script>\n",
              "    </div>\n",
              "  </div>\n",
              "  "
            ]
          },
          "metadata": {},
          "execution_count": 101
        }
      ]
    },
    {
      "cell_type": "code",
      "source": [
        "# split an article into sentences\n",
        "\n",
        "from nltk.tokenize import sent_tokenize\n",
        "by_sentence = merge_uni_m3_group2['article_final'].apply(lambda x : sent_tokenize(x)).apply(pd.Series,1).stack()\n",
        "by_sentence_df = pd.DataFrame(by_sentence)\n",
        "by_sentence_df.rename(columns={0:'sentence_each'}, inplace=True)\n",
        "\n",
        "by_sentence_df['sentence_turn'] = by_sentence_df.index.get_level_values(1)\n",
        "by_sentence_df.index = by_sentence_df.index.get_level_values(0)\n"
      ],
      "metadata": {
        "id": "NVb3pCFWhLSI"
      },
      "execution_count": null,
      "outputs": []
    },
    {
      "cell_type": "code",
      "source": [
        "by_sentence_df"
      ],
      "metadata": {
        "colab": {
          "base_uri": "https://localhost:8080/",
          "height": 424
        },
        "id": "3JYgzu7hde2c",
        "outputId": "1ae93734-dea6-4c48-de18-4e0598544840"
      },
      "execution_count": null,
      "outputs": [
        {
          "output_type": "execute_result",
          "data": {
            "text/plain": [
              "                                          sentence_each  sentence_turn\n",
              "0     Panel recommends anxiety screening for adults ...              0\n",
              "0     The proposed measure intends to identify early...              1\n",
              "0     \"\"Screening all adults for depression, includi...              2\n",
              "0     The panel includes generalized anxiety disorde...              3\n",
              "0     According to the panel, screening and follow-u...              4\n",
              "...                                                 ...            ...\n",
              "8288  The cause of the fire is being investigated by...             12\n",
              "8288                             “It’s cooling off now.             13\n",
              "8288  We’re going to go in and try to collect eviden...             14\n",
              "8288  Editor’s Note: This is developing with updates...             15\n",
              "8288                            Count on 2 for updates.             16\n",
              "\n",
              "[280020 rows x 2 columns]"
            ],
            "text/html": [
              "\n",
              "  <div id=\"df-afea8550-66f5-4f34-b8a2-b02d08f3c9c5\">\n",
              "    <div class=\"colab-df-container\">\n",
              "      <div>\n",
              "<style scoped>\n",
              "    .dataframe tbody tr th:only-of-type {\n",
              "        vertical-align: middle;\n",
              "    }\n",
              "\n",
              "    .dataframe tbody tr th {\n",
              "        vertical-align: top;\n",
              "    }\n",
              "\n",
              "    .dataframe thead th {\n",
              "        text-align: right;\n",
              "    }\n",
              "</style>\n",
              "<table border=\"1\" class=\"dataframe\">\n",
              "  <thead>\n",
              "    <tr style=\"text-align: right;\">\n",
              "      <th></th>\n",
              "      <th>sentence_each</th>\n",
              "      <th>sentence_turn</th>\n",
              "    </tr>\n",
              "  </thead>\n",
              "  <tbody>\n",
              "    <tr>\n",
              "      <th>0</th>\n",
              "      <td>Panel recommends anxiety screening for adults ...</td>\n",
              "      <td>0</td>\n",
              "    </tr>\n",
              "    <tr>\n",
              "      <th>0</th>\n",
              "      <td>The proposed measure intends to identify early...</td>\n",
              "      <td>1</td>\n",
              "    </tr>\n",
              "    <tr>\n",
              "      <th>0</th>\n",
              "      <td>\"\"Screening all adults for depression, includi...</td>\n",
              "      <td>2</td>\n",
              "    </tr>\n",
              "    <tr>\n",
              "      <th>0</th>\n",
              "      <td>The panel includes generalized anxiety disorde...</td>\n",
              "      <td>3</td>\n",
              "    </tr>\n",
              "    <tr>\n",
              "      <th>0</th>\n",
              "      <td>According to the panel, screening and follow-u...</td>\n",
              "      <td>4</td>\n",
              "    </tr>\n",
              "    <tr>\n",
              "      <th>...</th>\n",
              "      <td>...</td>\n",
              "      <td>...</td>\n",
              "    </tr>\n",
              "    <tr>\n",
              "      <th>8288</th>\n",
              "      <td>The cause of the fire is being investigated by...</td>\n",
              "      <td>12</td>\n",
              "    </tr>\n",
              "    <tr>\n",
              "      <th>8288</th>\n",
              "      <td>“It’s cooling off now.</td>\n",
              "      <td>13</td>\n",
              "    </tr>\n",
              "    <tr>\n",
              "      <th>8288</th>\n",
              "      <td>We’re going to go in and try to collect eviden...</td>\n",
              "      <td>14</td>\n",
              "    </tr>\n",
              "    <tr>\n",
              "      <th>8288</th>\n",
              "      <td>Editor’s Note: This is developing with updates...</td>\n",
              "      <td>15</td>\n",
              "    </tr>\n",
              "    <tr>\n",
              "      <th>8288</th>\n",
              "      <td>Count on 2 for updates.</td>\n",
              "      <td>16</td>\n",
              "    </tr>\n",
              "  </tbody>\n",
              "</table>\n",
              "<p>280020 rows × 2 columns</p>\n",
              "</div>\n",
              "      <button class=\"colab-df-convert\" onclick=\"convertToInteractive('df-afea8550-66f5-4f34-b8a2-b02d08f3c9c5')\"\n",
              "              title=\"Convert this dataframe to an interactive table.\"\n",
              "              style=\"display:none;\">\n",
              "        \n",
              "  <svg xmlns=\"http://www.w3.org/2000/svg\" height=\"24px\"viewBox=\"0 0 24 24\"\n",
              "       width=\"24px\">\n",
              "    <path d=\"M0 0h24v24H0V0z\" fill=\"none\"/>\n",
              "    <path d=\"M18.56 5.44l.94 2.06.94-2.06 2.06-.94-2.06-.94-.94-2.06-.94 2.06-2.06.94zm-11 1L8.5 8.5l.94-2.06 2.06-.94-2.06-.94L8.5 2.5l-.94 2.06-2.06.94zm10 10l.94 2.06.94-2.06 2.06-.94-2.06-.94-.94-2.06-.94 2.06-2.06.94z\"/><path d=\"M17.41 7.96l-1.37-1.37c-.4-.4-.92-.59-1.43-.59-.52 0-1.04.2-1.43.59L10.3 9.45l-7.72 7.72c-.78.78-.78 2.05 0 2.83L4 21.41c.39.39.9.59 1.41.59.51 0 1.02-.2 1.41-.59l7.78-7.78 2.81-2.81c.8-.78.8-2.07 0-2.86zM5.41 20L4 18.59l7.72-7.72 1.47 1.35L5.41 20z\"/>\n",
              "  </svg>\n",
              "      </button>\n",
              "      \n",
              "  <style>\n",
              "    .colab-df-container {\n",
              "      display:flex;\n",
              "      flex-wrap:wrap;\n",
              "      gap: 12px;\n",
              "    }\n",
              "\n",
              "    .colab-df-convert {\n",
              "      background-color: #E8F0FE;\n",
              "      border: none;\n",
              "      border-radius: 50%;\n",
              "      cursor: pointer;\n",
              "      display: none;\n",
              "      fill: #1967D2;\n",
              "      height: 32px;\n",
              "      padding: 0 0 0 0;\n",
              "      width: 32px;\n",
              "    }\n",
              "\n",
              "    .colab-df-convert:hover {\n",
              "      background-color: #E2EBFA;\n",
              "      box-shadow: 0px 1px 2px rgba(60, 64, 67, 0.3), 0px 1px 3px 1px rgba(60, 64, 67, 0.15);\n",
              "      fill: #174EA6;\n",
              "    }\n",
              "\n",
              "    [theme=dark] .colab-df-convert {\n",
              "      background-color: #3B4455;\n",
              "      fill: #D2E3FC;\n",
              "    }\n",
              "\n",
              "    [theme=dark] .colab-df-convert:hover {\n",
              "      background-color: #434B5C;\n",
              "      box-shadow: 0px 1px 3px 1px rgba(0, 0, 0, 0.15);\n",
              "      filter: drop-shadow(0px 1px 2px rgba(0, 0, 0, 0.3));\n",
              "      fill: #FFFFFF;\n",
              "    }\n",
              "  </style>\n",
              "\n",
              "      <script>\n",
              "        const buttonEl =\n",
              "          document.querySelector('#df-afea8550-66f5-4f34-b8a2-b02d08f3c9c5 button.colab-df-convert');\n",
              "        buttonEl.style.display =\n",
              "          google.colab.kernel.accessAllowed ? 'block' : 'none';\n",
              "\n",
              "        async function convertToInteractive(key) {\n",
              "          const element = document.querySelector('#df-afea8550-66f5-4f34-b8a2-b02d08f3c9c5');\n",
              "          const dataTable =\n",
              "            await google.colab.kernel.invokeFunction('convertToInteractive',\n",
              "                                                     [key], {});\n",
              "          if (!dataTable) return;\n",
              "\n",
              "          const docLinkHtml = 'Like what you see? Visit the ' +\n",
              "            '<a target=\"_blank\" href=https://colab.research.google.com/notebooks/data_table.ipynb>data table notebook</a>'\n",
              "            + ' to learn more about interactive tables.';\n",
              "          element.innerHTML = '';\n",
              "          dataTable['output_type'] = 'display_data';\n",
              "          await google.colab.output.renderOutput(dataTable, element);\n",
              "          const docLink = document.createElement('div');\n",
              "          docLink.innerHTML = docLinkHtml;\n",
              "          element.appendChild(docLink);\n",
              "        }\n",
              "      </script>\n",
              "    </div>\n",
              "  </div>\n",
              "  "
            ]
          },
          "metadata": {},
          "execution_count": 103
        }
      ]
    },
    {
      "cell_type": "code",
      "source": [
        "# merging split sentences to the article level\n",
        "merge_all_m3_join = pd.concat([merge_uni_m3_group2, by_sentence_df], axis=1)\n"
      ],
      "metadata": {
        "id": "Ol3WC85ghWgd"
      },
      "execution_count": null,
      "outputs": []
    },
    {
      "cell_type": "code",
      "source": [
        "merge_all_m3_join['search_words'] = merge_all_m3_join.apply(lambda x: x.places in x.sentence_each, axis=1)\n"
      ],
      "metadata": {
        "id": "y1l5DuylhZXL"
      },
      "execution_count": null,
      "outputs": []
    },
    {
      "cell_type": "code",
      "source": [
        "merge_all_m3_join['article_id'] = merge_all_m3_join.index.get_level_values(0)\n",
        "merge_all_m3_join.reset_index(drop=True, inplace=True)\n"
      ],
      "metadata": {
        "id": "KxrA6OwDWX3T"
      },
      "execution_count": null,
      "outputs": []
    },
    {
      "cell_type": "code",
      "source": [
        "# find those sentences that contain searching words (locations)\n",
        "\n",
        "merge_all_m3_join_TRUE = merge_all_m3_join[merge_all_m3_join['search_words']==True]"
      ],
      "metadata": {
        "id": "Wd_SJ1biiBUB"
      },
      "execution_count": null,
      "outputs": []
    },
    {
      "cell_type": "code",
      "source": [
        "merge_temp = merge_all_m3_join_TRUE.groupby('places').count() #"
      ],
      "metadata": {
        "colab": {
          "base_uri": "https://localhost:8080/",
          "height": 455
        },
        "id": "V7b9pXkwTeHZ",
        "outputId": "ccc32c73-65d8-4330-907b-cb5d18a12134"
      },
      "execution_count": null,
      "outputs": [
        {
          "output_type": "execute_result",
          "data": {
            "text/plain": [
              "                   index  id  article_final  sentence_each  sentence_turn  \\\n",
              "places                                                                      \n",
              "                      22  22             22             22             22   \n",
              "14 W. Main St.         3   3              3              3              3   \n",
              "1495 Roswell Road      3   3              3              3              3   \n",
              "169/28                 3   3              3              3              3   \n",
              "1:48                   3   3              3              3              3   \n",
              "...                  ...  ..            ...            ...            ...   \n",
              "uk                     5   5              5              5              5   \n",
              "west Lincoln           3   3              3              3              3   \n",
              "west Tennessee         3   3              3              3              3   \n",
              "west entrance          9   9              9              9              9   \n",
              "west.                  3   3              3              3              3   \n",
              "\n",
              "                   search_words  article_id  \n",
              "places                                       \n",
              "                             22          22  \n",
              "14 W. Main St.                3           3  \n",
              "1495 Roswell Road             3           3  \n",
              "169/28                        3           3  \n",
              "1:48                          3           3  \n",
              "...                         ...         ...  \n",
              "uk                            5           5  \n",
              "west Lincoln                  3           3  \n",
              "west Tennessee                3           3  \n",
              "west entrance                 9           9  \n",
              "west.                         3           3  \n",
              "\n",
              "[2753 rows x 7 columns]"
            ],
            "text/html": [
              "\n",
              "  <div id=\"df-659b804b-eea8-495d-a5f3-fbfc7cc1c130\">\n",
              "    <div class=\"colab-df-container\">\n",
              "      <div>\n",
              "<style scoped>\n",
              "    .dataframe tbody tr th:only-of-type {\n",
              "        vertical-align: middle;\n",
              "    }\n",
              "\n",
              "    .dataframe tbody tr th {\n",
              "        vertical-align: top;\n",
              "    }\n",
              "\n",
              "    .dataframe thead th {\n",
              "        text-align: right;\n",
              "    }\n",
              "</style>\n",
              "<table border=\"1\" class=\"dataframe\">\n",
              "  <thead>\n",
              "    <tr style=\"text-align: right;\">\n",
              "      <th></th>\n",
              "      <th>index</th>\n",
              "      <th>id</th>\n",
              "      <th>article_final</th>\n",
              "      <th>sentence_each</th>\n",
              "      <th>sentence_turn</th>\n",
              "      <th>search_words</th>\n",
              "      <th>article_id</th>\n",
              "    </tr>\n",
              "    <tr>\n",
              "      <th>places</th>\n",
              "      <th></th>\n",
              "      <th></th>\n",
              "      <th></th>\n",
              "      <th></th>\n",
              "      <th></th>\n",
              "      <th></th>\n",
              "      <th></th>\n",
              "    </tr>\n",
              "  </thead>\n",
              "  <tbody>\n",
              "    <tr>\n",
              "      <th></th>\n",
              "      <td>22</td>\n",
              "      <td>22</td>\n",
              "      <td>22</td>\n",
              "      <td>22</td>\n",
              "      <td>22</td>\n",
              "      <td>22</td>\n",
              "      <td>22</td>\n",
              "    </tr>\n",
              "    <tr>\n",
              "      <th>14 W. Main St.</th>\n",
              "      <td>3</td>\n",
              "      <td>3</td>\n",
              "      <td>3</td>\n",
              "      <td>3</td>\n",
              "      <td>3</td>\n",
              "      <td>3</td>\n",
              "      <td>3</td>\n",
              "    </tr>\n",
              "    <tr>\n",
              "      <th>1495 Roswell Road</th>\n",
              "      <td>3</td>\n",
              "      <td>3</td>\n",
              "      <td>3</td>\n",
              "      <td>3</td>\n",
              "      <td>3</td>\n",
              "      <td>3</td>\n",
              "      <td>3</td>\n",
              "    </tr>\n",
              "    <tr>\n",
              "      <th>169/28</th>\n",
              "      <td>3</td>\n",
              "      <td>3</td>\n",
              "      <td>3</td>\n",
              "      <td>3</td>\n",
              "      <td>3</td>\n",
              "      <td>3</td>\n",
              "      <td>3</td>\n",
              "    </tr>\n",
              "    <tr>\n",
              "      <th>1:48</th>\n",
              "      <td>3</td>\n",
              "      <td>3</td>\n",
              "      <td>3</td>\n",
              "      <td>3</td>\n",
              "      <td>3</td>\n",
              "      <td>3</td>\n",
              "      <td>3</td>\n",
              "    </tr>\n",
              "    <tr>\n",
              "      <th>...</th>\n",
              "      <td>...</td>\n",
              "      <td>...</td>\n",
              "      <td>...</td>\n",
              "      <td>...</td>\n",
              "      <td>...</td>\n",
              "      <td>...</td>\n",
              "      <td>...</td>\n",
              "    </tr>\n",
              "    <tr>\n",
              "      <th>uk</th>\n",
              "      <td>5</td>\n",
              "      <td>5</td>\n",
              "      <td>5</td>\n",
              "      <td>5</td>\n",
              "      <td>5</td>\n",
              "      <td>5</td>\n",
              "      <td>5</td>\n",
              "    </tr>\n",
              "    <tr>\n",
              "      <th>west Lincoln</th>\n",
              "      <td>3</td>\n",
              "      <td>3</td>\n",
              "      <td>3</td>\n",
              "      <td>3</td>\n",
              "      <td>3</td>\n",
              "      <td>3</td>\n",
              "      <td>3</td>\n",
              "    </tr>\n",
              "    <tr>\n",
              "      <th>west Tennessee</th>\n",
              "      <td>3</td>\n",
              "      <td>3</td>\n",
              "      <td>3</td>\n",
              "      <td>3</td>\n",
              "      <td>3</td>\n",
              "      <td>3</td>\n",
              "      <td>3</td>\n",
              "    </tr>\n",
              "    <tr>\n",
              "      <th>west entrance</th>\n",
              "      <td>9</td>\n",
              "      <td>9</td>\n",
              "      <td>9</td>\n",
              "      <td>9</td>\n",
              "      <td>9</td>\n",
              "      <td>9</td>\n",
              "      <td>9</td>\n",
              "    </tr>\n",
              "    <tr>\n",
              "      <th>west.</th>\n",
              "      <td>3</td>\n",
              "      <td>3</td>\n",
              "      <td>3</td>\n",
              "      <td>3</td>\n",
              "      <td>3</td>\n",
              "      <td>3</td>\n",
              "      <td>3</td>\n",
              "    </tr>\n",
              "  </tbody>\n",
              "</table>\n",
              "<p>2753 rows × 7 columns</p>\n",
              "</div>\n",
              "      <button class=\"colab-df-convert\" onclick=\"convertToInteractive('df-659b804b-eea8-495d-a5f3-fbfc7cc1c130')\"\n",
              "              title=\"Convert this dataframe to an interactive table.\"\n",
              "              style=\"display:none;\">\n",
              "        \n",
              "  <svg xmlns=\"http://www.w3.org/2000/svg\" height=\"24px\"viewBox=\"0 0 24 24\"\n",
              "       width=\"24px\">\n",
              "    <path d=\"M0 0h24v24H0V0z\" fill=\"none\"/>\n",
              "    <path d=\"M18.56 5.44l.94 2.06.94-2.06 2.06-.94-2.06-.94-.94-2.06-.94 2.06-2.06.94zm-11 1L8.5 8.5l.94-2.06 2.06-.94-2.06-.94L8.5 2.5l-.94 2.06-2.06.94zm10 10l.94 2.06.94-2.06 2.06-.94-2.06-.94-.94-2.06-.94 2.06-2.06.94z\"/><path d=\"M17.41 7.96l-1.37-1.37c-.4-.4-.92-.59-1.43-.59-.52 0-1.04.2-1.43.59L10.3 9.45l-7.72 7.72c-.78.78-.78 2.05 0 2.83L4 21.41c.39.39.9.59 1.41.59.51 0 1.02-.2 1.41-.59l7.78-7.78 2.81-2.81c.8-.78.8-2.07 0-2.86zM5.41 20L4 18.59l7.72-7.72 1.47 1.35L5.41 20z\"/>\n",
              "  </svg>\n",
              "      </button>\n",
              "      \n",
              "  <style>\n",
              "    .colab-df-container {\n",
              "      display:flex;\n",
              "      flex-wrap:wrap;\n",
              "      gap: 12px;\n",
              "    }\n",
              "\n",
              "    .colab-df-convert {\n",
              "      background-color: #E8F0FE;\n",
              "      border: none;\n",
              "      border-radius: 50%;\n",
              "      cursor: pointer;\n",
              "      display: none;\n",
              "      fill: #1967D2;\n",
              "      height: 32px;\n",
              "      padding: 0 0 0 0;\n",
              "      width: 32px;\n",
              "    }\n",
              "\n",
              "    .colab-df-convert:hover {\n",
              "      background-color: #E2EBFA;\n",
              "      box-shadow: 0px 1px 2px rgba(60, 64, 67, 0.3), 0px 1px 3px 1px rgba(60, 64, 67, 0.15);\n",
              "      fill: #174EA6;\n",
              "    }\n",
              "\n",
              "    [theme=dark] .colab-df-convert {\n",
              "      background-color: #3B4455;\n",
              "      fill: #D2E3FC;\n",
              "    }\n",
              "\n",
              "    [theme=dark] .colab-df-convert:hover {\n",
              "      background-color: #434B5C;\n",
              "      box-shadow: 0px 1px 3px 1px rgba(0, 0, 0, 0.15);\n",
              "      filter: drop-shadow(0px 1px 2px rgba(0, 0, 0, 0.3));\n",
              "      fill: #FFFFFF;\n",
              "    }\n",
              "  </style>\n",
              "\n",
              "      <script>\n",
              "        const buttonEl =\n",
              "          document.querySelector('#df-659b804b-eea8-495d-a5f3-fbfc7cc1c130 button.colab-df-convert');\n",
              "        buttonEl.style.display =\n",
              "          google.colab.kernel.accessAllowed ? 'block' : 'none';\n",
              "\n",
              "        async function convertToInteractive(key) {\n",
              "          const element = document.querySelector('#df-659b804b-eea8-495d-a5f3-fbfc7cc1c130');\n",
              "          const dataTable =\n",
              "            await google.colab.kernel.invokeFunction('convertToInteractive',\n",
              "                                                     [key], {});\n",
              "          if (!dataTable) return;\n",
              "\n",
              "          const docLinkHtml = 'Like what you see? Visit the ' +\n",
              "            '<a target=\"_blank\" href=https://colab.research.google.com/notebooks/data_table.ipynb>data table notebook</a>'\n",
              "            + ' to learn more about interactive tables.';\n",
              "          element.innerHTML = '';\n",
              "          dataTable['output_type'] = 'display_data';\n",
              "          await google.colab.output.renderOutput(dataTable, element);\n",
              "          const docLink = document.createElement('div');\n",
              "          docLink.innerHTML = docLinkHtml;\n",
              "          element.appendChild(docLink);\n",
              "        }\n",
              "      </script>\n",
              "    </div>\n",
              "  </div>\n",
              "  "
            ]
          },
          "metadata": {},
          "execution_count": 108
        }
      ]
    },
    {
      "cell_type": "code",
      "source": [
        "# extract 3 random sentences containing the searching word (location) only\n",
        "\n",
        "merge_temp_m3_group = merge_all_m3_join_TRUE.groupby('places').apply(lambda x: x.sample(3, replace=False)).reset_index(drop=True)\n"
      ],
      "metadata": {
        "id": "jYGpxaBwTso8"
      },
      "execution_count": null,
      "outputs": []
    },
    {
      "cell_type": "code",
      "source": [
        "merge_temp_m3_group"
      ],
      "metadata": {
        "colab": {
          "base_uri": "https://localhost:8080/",
          "height": 468
        },
        "id": "Ns4uUaC0er4J",
        "outputId": "b6ed7e86-1b3a-45fa-bb1d-4e092fd8359a"
      },
      "execution_count": null,
      "outputs": [
        {
          "output_type": "execute_result",
          "data": {
            "text/plain": [
              "      index          places      id  \\\n",
              "0         0                  158151   \n",
              "1         0                  158151   \n",
              "2         0                  158151   \n",
              "3         3  14 W. Main St.   47531   \n",
              "4         4  14 W. Main St.   30084   \n",
              "...     ...             ...     ...   \n",
              "8254   8271   west entrance   48058   \n",
              "8255   8272   west entrance   47270   \n",
              "8256   8275           west.   92690   \n",
              "8257   8276           west.  105640   \n",
              "8258   8274           west.  168295   \n",
              "\n",
              "                                          article_final  \\\n",
              "0     Panel recommends anxiety screening for adults ...   \n",
              "1     Panel recommends anxiety screening for adults ...   \n",
              "2     Panel recommends anxiety screening for adults ...   \n",
              "3     GRAFTON — A new attraction described as a \"\"th...   \n",
              "4     Gazebo Downtown Franklin decorated for Fall. p...   \n",
              "...                                                 ...   \n",
              "8254  UNI-Dome Render 1\\n\\nUpdated Oct 11, 2022\\n\\nA...   \n",
              "8255  Iowa pork producers would suffer huge negative...   \n",
              "8256  PHILADELPHIA — A local Republican Party in Sou...   \n",
              "8257  Darrell Brooks trial: Waukesha parade's younge...   \n",
              "8258  Ema Horvath is to star in a remake of 'The Str...   \n",
              "\n",
              "                                          sentence_each  sentence_turn  \\\n",
              "0     According to the panel, screening and follow-u...              4   \n",
              "1     In 2020, the National Alliance on Mental Illne...             10   \n",
              "2     \"\"After diagnosis, people should participate i...             14   \n",
              "3     The coaster ride is expected to be open year-r...             10   \n",
              "4     American Legion Macon Post 108 and American Le...             13   \n",
              "...                                                 ...            ...   \n",
              "8254  UNI-Dome Render 6\\n\\nUpdated Oct 11, 2022\\n\\nT...              8   \n",
              "8255  UNI-Dome Render 3\\n\\nUpdated Oct 11, 2022\\n\\nA...             36   \n",
              "8256  Now Richard Ringer, a former journalist, is ru...             54   \n",
              "8257  He said he was concerned with 25 frames as the...            169   \n",
              "8258  Renny Harlin is directing the remake, with the...              5   \n",
              "\n",
              "      search_words  article_id  \n",
              "0             True           0  \n",
              "1             True           0  \n",
              "2             True           0  \n",
              "3             True           3  \n",
              "4             True           4  \n",
              "...            ...         ...  \n",
              "8254          True        8271  \n",
              "8255          True        8272  \n",
              "8256          True        8275  \n",
              "8257          True        8276  \n",
              "8258          True        8274  \n",
              "\n",
              "[8259 rows x 8 columns]"
            ],
            "text/html": [
              "\n",
              "  <div id=\"df-c120a7f7-3cdd-4a26-8466-373b13b99b0e\">\n",
              "    <div class=\"colab-df-container\">\n",
              "      <div>\n",
              "<style scoped>\n",
              "    .dataframe tbody tr th:only-of-type {\n",
              "        vertical-align: middle;\n",
              "    }\n",
              "\n",
              "    .dataframe tbody tr th {\n",
              "        vertical-align: top;\n",
              "    }\n",
              "\n",
              "    .dataframe thead th {\n",
              "        text-align: right;\n",
              "    }\n",
              "</style>\n",
              "<table border=\"1\" class=\"dataframe\">\n",
              "  <thead>\n",
              "    <tr style=\"text-align: right;\">\n",
              "      <th></th>\n",
              "      <th>index</th>\n",
              "      <th>places</th>\n",
              "      <th>id</th>\n",
              "      <th>article_final</th>\n",
              "      <th>sentence_each</th>\n",
              "      <th>sentence_turn</th>\n",
              "      <th>search_words</th>\n",
              "      <th>article_id</th>\n",
              "    </tr>\n",
              "  </thead>\n",
              "  <tbody>\n",
              "    <tr>\n",
              "      <th>0</th>\n",
              "      <td>0</td>\n",
              "      <td></td>\n",
              "      <td>158151</td>\n",
              "      <td>Panel recommends anxiety screening for adults ...</td>\n",
              "      <td>According to the panel, screening and follow-u...</td>\n",
              "      <td>4</td>\n",
              "      <td>True</td>\n",
              "      <td>0</td>\n",
              "    </tr>\n",
              "    <tr>\n",
              "      <th>1</th>\n",
              "      <td>0</td>\n",
              "      <td></td>\n",
              "      <td>158151</td>\n",
              "      <td>Panel recommends anxiety screening for adults ...</td>\n",
              "      <td>In 2020, the National Alliance on Mental Illne...</td>\n",
              "      <td>10</td>\n",
              "      <td>True</td>\n",
              "      <td>0</td>\n",
              "    </tr>\n",
              "    <tr>\n",
              "      <th>2</th>\n",
              "      <td>0</td>\n",
              "      <td></td>\n",
              "      <td>158151</td>\n",
              "      <td>Panel recommends anxiety screening for adults ...</td>\n",
              "      <td>\"\"After diagnosis, people should participate i...</td>\n",
              "      <td>14</td>\n",
              "      <td>True</td>\n",
              "      <td>0</td>\n",
              "    </tr>\n",
              "    <tr>\n",
              "      <th>3</th>\n",
              "      <td>3</td>\n",
              "      <td>14 W. Main St.</td>\n",
              "      <td>47531</td>\n",
              "      <td>GRAFTON — A new attraction described as a \"\"th...</td>\n",
              "      <td>The coaster ride is expected to be open year-r...</td>\n",
              "      <td>10</td>\n",
              "      <td>True</td>\n",
              "      <td>3</td>\n",
              "    </tr>\n",
              "    <tr>\n",
              "      <th>4</th>\n",
              "      <td>4</td>\n",
              "      <td>14 W. Main St.</td>\n",
              "      <td>30084</td>\n",
              "      <td>Gazebo Downtown Franklin decorated for Fall. p...</td>\n",
              "      <td>American Legion Macon Post 108 and American Le...</td>\n",
              "      <td>13</td>\n",
              "      <td>True</td>\n",
              "      <td>4</td>\n",
              "    </tr>\n",
              "    <tr>\n",
              "      <th>...</th>\n",
              "      <td>...</td>\n",
              "      <td>...</td>\n",
              "      <td>...</td>\n",
              "      <td>...</td>\n",
              "      <td>...</td>\n",
              "      <td>...</td>\n",
              "      <td>...</td>\n",
              "      <td>...</td>\n",
              "    </tr>\n",
              "    <tr>\n",
              "      <th>8254</th>\n",
              "      <td>8271</td>\n",
              "      <td>west entrance</td>\n",
              "      <td>48058</td>\n",
              "      <td>UNI-Dome Render 1\\n\\nUpdated Oct 11, 2022\\n\\nA...</td>\n",
              "      <td>UNI-Dome Render 6\\n\\nUpdated Oct 11, 2022\\n\\nT...</td>\n",
              "      <td>8</td>\n",
              "      <td>True</td>\n",
              "      <td>8271</td>\n",
              "    </tr>\n",
              "    <tr>\n",
              "      <th>8255</th>\n",
              "      <td>8272</td>\n",
              "      <td>west entrance</td>\n",
              "      <td>47270</td>\n",
              "      <td>Iowa pork producers would suffer huge negative...</td>\n",
              "      <td>UNI-Dome Render 3\\n\\nUpdated Oct 11, 2022\\n\\nA...</td>\n",
              "      <td>36</td>\n",
              "      <td>True</td>\n",
              "      <td>8272</td>\n",
              "    </tr>\n",
              "    <tr>\n",
              "      <th>8256</th>\n",
              "      <td>8275</td>\n",
              "      <td>west.</td>\n",
              "      <td>92690</td>\n",
              "      <td>PHILADELPHIA — A local Republican Party in Sou...</td>\n",
              "      <td>Now Richard Ringer, a former journalist, is ru...</td>\n",
              "      <td>54</td>\n",
              "      <td>True</td>\n",
              "      <td>8275</td>\n",
              "    </tr>\n",
              "    <tr>\n",
              "      <th>8257</th>\n",
              "      <td>8276</td>\n",
              "      <td>west.</td>\n",
              "      <td>105640</td>\n",
              "      <td>Darrell Brooks trial: Waukesha parade's younge...</td>\n",
              "      <td>He said he was concerned with 25 frames as the...</td>\n",
              "      <td>169</td>\n",
              "      <td>True</td>\n",
              "      <td>8276</td>\n",
              "    </tr>\n",
              "    <tr>\n",
              "      <th>8258</th>\n",
              "      <td>8274</td>\n",
              "      <td>west.</td>\n",
              "      <td>168295</td>\n",
              "      <td>Ema Horvath is to star in a remake of 'The Str...</td>\n",
              "      <td>Renny Harlin is directing the remake, with the...</td>\n",
              "      <td>5</td>\n",
              "      <td>True</td>\n",
              "      <td>8274</td>\n",
              "    </tr>\n",
              "  </tbody>\n",
              "</table>\n",
              "<p>8259 rows × 8 columns</p>\n",
              "</div>\n",
              "      <button class=\"colab-df-convert\" onclick=\"convertToInteractive('df-c120a7f7-3cdd-4a26-8466-373b13b99b0e')\"\n",
              "              title=\"Convert this dataframe to an interactive table.\"\n",
              "              style=\"display:none;\">\n",
              "        \n",
              "  <svg xmlns=\"http://www.w3.org/2000/svg\" height=\"24px\"viewBox=\"0 0 24 24\"\n",
              "       width=\"24px\">\n",
              "    <path d=\"M0 0h24v24H0V0z\" fill=\"none\"/>\n",
              "    <path d=\"M18.56 5.44l.94 2.06.94-2.06 2.06-.94-2.06-.94-.94-2.06-.94 2.06-2.06.94zm-11 1L8.5 8.5l.94-2.06 2.06-.94-2.06-.94L8.5 2.5l-.94 2.06-2.06.94zm10 10l.94 2.06.94-2.06 2.06-.94-2.06-.94-.94-2.06-.94 2.06-2.06.94z\"/><path d=\"M17.41 7.96l-1.37-1.37c-.4-.4-.92-.59-1.43-.59-.52 0-1.04.2-1.43.59L10.3 9.45l-7.72 7.72c-.78.78-.78 2.05 0 2.83L4 21.41c.39.39.9.59 1.41.59.51 0 1.02-.2 1.41-.59l7.78-7.78 2.81-2.81c.8-.78.8-2.07 0-2.86zM5.41 20L4 18.59l7.72-7.72 1.47 1.35L5.41 20z\"/>\n",
              "  </svg>\n",
              "      </button>\n",
              "      \n",
              "  <style>\n",
              "    .colab-df-container {\n",
              "      display:flex;\n",
              "      flex-wrap:wrap;\n",
              "      gap: 12px;\n",
              "    }\n",
              "\n",
              "    .colab-df-convert {\n",
              "      background-color: #E8F0FE;\n",
              "      border: none;\n",
              "      border-radius: 50%;\n",
              "      cursor: pointer;\n",
              "      display: none;\n",
              "      fill: #1967D2;\n",
              "      height: 32px;\n",
              "      padding: 0 0 0 0;\n",
              "      width: 32px;\n",
              "    }\n",
              "\n",
              "    .colab-df-convert:hover {\n",
              "      background-color: #E2EBFA;\n",
              "      box-shadow: 0px 1px 2px rgba(60, 64, 67, 0.3), 0px 1px 3px 1px rgba(60, 64, 67, 0.15);\n",
              "      fill: #174EA6;\n",
              "    }\n",
              "\n",
              "    [theme=dark] .colab-df-convert {\n",
              "      background-color: #3B4455;\n",
              "      fill: #D2E3FC;\n",
              "    }\n",
              "\n",
              "    [theme=dark] .colab-df-convert:hover {\n",
              "      background-color: #434B5C;\n",
              "      box-shadow: 0px 1px 3px 1px rgba(0, 0, 0, 0.15);\n",
              "      filter: drop-shadow(0px 1px 2px rgba(0, 0, 0, 0.3));\n",
              "      fill: #FFFFFF;\n",
              "    }\n",
              "  </style>\n",
              "\n",
              "      <script>\n",
              "        const buttonEl =\n",
              "          document.querySelector('#df-c120a7f7-3cdd-4a26-8466-373b13b99b0e button.colab-df-convert');\n",
              "        buttonEl.style.display =\n",
              "          google.colab.kernel.accessAllowed ? 'block' : 'none';\n",
              "\n",
              "        async function convertToInteractive(key) {\n",
              "          const element = document.querySelector('#df-c120a7f7-3cdd-4a26-8466-373b13b99b0e');\n",
              "          const dataTable =\n",
              "            await google.colab.kernel.invokeFunction('convertToInteractive',\n",
              "                                                     [key], {});\n",
              "          if (!dataTable) return;\n",
              "\n",
              "          const docLinkHtml = 'Like what you see? Visit the ' +\n",
              "            '<a target=\"_blank\" href=https://colab.research.google.com/notebooks/data_table.ipynb>data table notebook</a>'\n",
              "            + ' to learn more about interactive tables.';\n",
              "          element.innerHTML = '';\n",
              "          dataTable['output_type'] = 'display_data';\n",
              "          await google.colab.output.renderOutput(dataTable, element);\n",
              "          const docLink = document.createElement('div');\n",
              "          docLink.innerHTML = docLinkHtml;\n",
              "          element.appendChild(docLink);\n",
              "        }\n",
              "      </script>\n",
              "    </div>\n",
              "  </div>\n",
              "  "
            ]
          },
          "metadata": {},
          "execution_count": 111
        }
      ]
    },
    {
      "cell_type": "code",
      "source": [
        "merge_temp_m3_group2 = merge_temp_m3_group[['places','id','sentence_each']]"
      ],
      "metadata": {
        "id": "IuA8GtipjnN9"
      },
      "execution_count": null,
      "outputs": []
    },
    {
      "cell_type": "code",
      "source": [
        "merge_temp_m3_group2['domainId'] = merge_temp_m3_group2.groupby('places')['places'].rank(method='first')\n"
      ],
      "metadata": {
        "id": "H_ta7WfUkRgb",
        "colab": {
          "base_uri": "https://localhost:8080/"
        },
        "outputId": "319e653e-f9ab-4bac-80e9-a3ff5c15affe"
      },
      "execution_count": null,
      "outputs": [
        {
          "output_type": "stream",
          "name": "stderr",
          "text": [
            "<ipython-input-114-32e3fd288afa>:1: SettingWithCopyWarning: \n",
            "A value is trying to be set on a copy of a slice from a DataFrame.\n",
            "Try using .loc[row_indexer,col_indexer] = value instead\n",
            "\n",
            "See the caveats in the documentation: https://pandas.pydata.org/pandas-docs/stable/user_guide/indexing.html#returning-a-view-versus-a-copy\n",
            "  merge_temp_m3_group2['domainId'] = merge_temp_m3_group2.groupby('places')['places'].rank(method='first')\n"
          ]
        }
      ]
    },
    {
      "cell_type": "code",
      "source": [
        "merge_temp_m3_group2.sort_values('places')"
      ],
      "metadata": {
        "colab": {
          "base_uri": "https://localhost:8080/",
          "height": 424
        },
        "id": "BiNKPGHkmz-9",
        "outputId": "627e9d4f-cea5-473d-eec7-d5811c483654"
      },
      "execution_count": null,
      "outputs": [
        {
          "output_type": "execute_result",
          "data": {
            "text/plain": [
              "              places      id  \\\n",
              "0                     158151   \n",
              "1                     158151   \n",
              "2                     158151   \n",
              "3     14 W. Main St.   47531   \n",
              "4     14 W. Main St.   30084   \n",
              "...              ...     ...   \n",
              "8253   west entrance   48058   \n",
              "8255   west entrance   47270   \n",
              "8257           west.  105640   \n",
              "8256           west.   92690   \n",
              "8258           west.  168295   \n",
              "\n",
              "                                          sentence_each  domainId  \n",
              "0     According to the panel, screening and follow-u...       1.0  \n",
              "1     In 2020, the National Alliance on Mental Illne...       2.0  \n",
              "2     \"\"After diagnosis, people should participate i...       3.0  \n",
              "3     The coaster ride is expected to be open year-r...       1.0  \n",
              "4     American Legion Macon Post 108 and American Le...       2.0  \n",
              "...                                                 ...       ...  \n",
              "8253  UNI-Dome Render 3\\n\\nUpdated Oct 11, 2022\\n\\nA...       1.0  \n",
              "8255  UNI-Dome Render 3\\n\\nUpdated Oct 11, 2022\\n\\nA...       3.0  \n",
              "8257  He said he was concerned with 25 frames as the...       2.0  \n",
              "8256  Now Richard Ringer, a former journalist, is ru...       1.0  \n",
              "8258  Renny Harlin is directing the remake, with the...       3.0  \n",
              "\n",
              "[8259 rows x 4 columns]"
            ],
            "text/html": [
              "\n",
              "  <div id=\"df-2a2dab76-6bc4-4694-ba8f-f6c0fc2fdfa0\">\n",
              "    <div class=\"colab-df-container\">\n",
              "      <div>\n",
              "<style scoped>\n",
              "    .dataframe tbody tr th:only-of-type {\n",
              "        vertical-align: middle;\n",
              "    }\n",
              "\n",
              "    .dataframe tbody tr th {\n",
              "        vertical-align: top;\n",
              "    }\n",
              "\n",
              "    .dataframe thead th {\n",
              "        text-align: right;\n",
              "    }\n",
              "</style>\n",
              "<table border=\"1\" class=\"dataframe\">\n",
              "  <thead>\n",
              "    <tr style=\"text-align: right;\">\n",
              "      <th></th>\n",
              "      <th>places</th>\n",
              "      <th>id</th>\n",
              "      <th>sentence_each</th>\n",
              "      <th>domainId</th>\n",
              "    </tr>\n",
              "  </thead>\n",
              "  <tbody>\n",
              "    <tr>\n",
              "      <th>0</th>\n",
              "      <td></td>\n",
              "      <td>158151</td>\n",
              "      <td>According to the panel, screening and follow-u...</td>\n",
              "      <td>1.0</td>\n",
              "    </tr>\n",
              "    <tr>\n",
              "      <th>1</th>\n",
              "      <td></td>\n",
              "      <td>158151</td>\n",
              "      <td>In 2020, the National Alliance on Mental Illne...</td>\n",
              "      <td>2.0</td>\n",
              "    </tr>\n",
              "    <tr>\n",
              "      <th>2</th>\n",
              "      <td></td>\n",
              "      <td>158151</td>\n",
              "      <td>\"\"After diagnosis, people should participate i...</td>\n",
              "      <td>3.0</td>\n",
              "    </tr>\n",
              "    <tr>\n",
              "      <th>3</th>\n",
              "      <td>14 W. Main St.</td>\n",
              "      <td>47531</td>\n",
              "      <td>The coaster ride is expected to be open year-r...</td>\n",
              "      <td>1.0</td>\n",
              "    </tr>\n",
              "    <tr>\n",
              "      <th>4</th>\n",
              "      <td>14 W. Main St.</td>\n",
              "      <td>30084</td>\n",
              "      <td>American Legion Macon Post 108 and American Le...</td>\n",
              "      <td>2.0</td>\n",
              "    </tr>\n",
              "    <tr>\n",
              "      <th>...</th>\n",
              "      <td>...</td>\n",
              "      <td>...</td>\n",
              "      <td>...</td>\n",
              "      <td>...</td>\n",
              "    </tr>\n",
              "    <tr>\n",
              "      <th>8253</th>\n",
              "      <td>west entrance</td>\n",
              "      <td>48058</td>\n",
              "      <td>UNI-Dome Render 3\\n\\nUpdated Oct 11, 2022\\n\\nA...</td>\n",
              "      <td>1.0</td>\n",
              "    </tr>\n",
              "    <tr>\n",
              "      <th>8255</th>\n",
              "      <td>west entrance</td>\n",
              "      <td>47270</td>\n",
              "      <td>UNI-Dome Render 3\\n\\nUpdated Oct 11, 2022\\n\\nA...</td>\n",
              "      <td>3.0</td>\n",
              "    </tr>\n",
              "    <tr>\n",
              "      <th>8257</th>\n",
              "      <td>west.</td>\n",
              "      <td>105640</td>\n",
              "      <td>He said he was concerned with 25 frames as the...</td>\n",
              "      <td>2.0</td>\n",
              "    </tr>\n",
              "    <tr>\n",
              "      <th>8256</th>\n",
              "      <td>west.</td>\n",
              "      <td>92690</td>\n",
              "      <td>Now Richard Ringer, a former journalist, is ru...</td>\n",
              "      <td>1.0</td>\n",
              "    </tr>\n",
              "    <tr>\n",
              "      <th>8258</th>\n",
              "      <td>west.</td>\n",
              "      <td>168295</td>\n",
              "      <td>Renny Harlin is directing the remake, with the...</td>\n",
              "      <td>3.0</td>\n",
              "    </tr>\n",
              "  </tbody>\n",
              "</table>\n",
              "<p>8259 rows × 4 columns</p>\n",
              "</div>\n",
              "      <button class=\"colab-df-convert\" onclick=\"convertToInteractive('df-2a2dab76-6bc4-4694-ba8f-f6c0fc2fdfa0')\"\n",
              "              title=\"Convert this dataframe to an interactive table.\"\n",
              "              style=\"display:none;\">\n",
              "        \n",
              "  <svg xmlns=\"http://www.w3.org/2000/svg\" height=\"24px\"viewBox=\"0 0 24 24\"\n",
              "       width=\"24px\">\n",
              "    <path d=\"M0 0h24v24H0V0z\" fill=\"none\"/>\n",
              "    <path d=\"M18.56 5.44l.94 2.06.94-2.06 2.06-.94-2.06-.94-.94-2.06-.94 2.06-2.06.94zm-11 1L8.5 8.5l.94-2.06 2.06-.94-2.06-.94L8.5 2.5l-.94 2.06-2.06.94zm10 10l.94 2.06.94-2.06 2.06-.94-2.06-.94-.94-2.06-.94 2.06-2.06.94z\"/><path d=\"M17.41 7.96l-1.37-1.37c-.4-.4-.92-.59-1.43-.59-.52 0-1.04.2-1.43.59L10.3 9.45l-7.72 7.72c-.78.78-.78 2.05 0 2.83L4 21.41c.39.39.9.59 1.41.59.51 0 1.02-.2 1.41-.59l7.78-7.78 2.81-2.81c.8-.78.8-2.07 0-2.86zM5.41 20L4 18.59l7.72-7.72 1.47 1.35L5.41 20z\"/>\n",
              "  </svg>\n",
              "      </button>\n",
              "      \n",
              "  <style>\n",
              "    .colab-df-container {\n",
              "      display:flex;\n",
              "      flex-wrap:wrap;\n",
              "      gap: 12px;\n",
              "    }\n",
              "\n",
              "    .colab-df-convert {\n",
              "      background-color: #E8F0FE;\n",
              "      border: none;\n",
              "      border-radius: 50%;\n",
              "      cursor: pointer;\n",
              "      display: none;\n",
              "      fill: #1967D2;\n",
              "      height: 32px;\n",
              "      padding: 0 0 0 0;\n",
              "      width: 32px;\n",
              "    }\n",
              "\n",
              "    .colab-df-convert:hover {\n",
              "      background-color: #E2EBFA;\n",
              "      box-shadow: 0px 1px 2px rgba(60, 64, 67, 0.3), 0px 1px 3px 1px rgba(60, 64, 67, 0.15);\n",
              "      fill: #174EA6;\n",
              "    }\n",
              "\n",
              "    [theme=dark] .colab-df-convert {\n",
              "      background-color: #3B4455;\n",
              "      fill: #D2E3FC;\n",
              "    }\n",
              "\n",
              "    [theme=dark] .colab-df-convert:hover {\n",
              "      background-color: #434B5C;\n",
              "      box-shadow: 0px 1px 3px 1px rgba(0, 0, 0, 0.15);\n",
              "      filter: drop-shadow(0px 1px 2px rgba(0, 0, 0, 0.3));\n",
              "      fill: #FFFFFF;\n",
              "    }\n",
              "  </style>\n",
              "\n",
              "      <script>\n",
              "        const buttonEl =\n",
              "          document.querySelector('#df-2a2dab76-6bc4-4694-ba8f-f6c0fc2fdfa0 button.colab-df-convert');\n",
              "        buttonEl.style.display =\n",
              "          google.colab.kernel.accessAllowed ? 'block' : 'none';\n",
              "\n",
              "        async function convertToInteractive(key) {\n",
              "          const element = document.querySelector('#df-2a2dab76-6bc4-4694-ba8f-f6c0fc2fdfa0');\n",
              "          const dataTable =\n",
              "            await google.colab.kernel.invokeFunction('convertToInteractive',\n",
              "                                                     [key], {});\n",
              "          if (!dataTable) return;\n",
              "\n",
              "          const docLinkHtml = 'Like what you see? Visit the ' +\n",
              "            '<a target=\"_blank\" href=https://colab.research.google.com/notebooks/data_table.ipynb>data table notebook</a>'\n",
              "            + ' to learn more about interactive tables.';\n",
              "          element.innerHTML = '';\n",
              "          dataTable['output_type'] = 'display_data';\n",
              "          await google.colab.output.renderOutput(dataTable, element);\n",
              "          const docLink = document.createElement('div');\n",
              "          docLink.innerHTML = docLinkHtml;\n",
              "          element.appendChild(docLink);\n",
              "        }\n",
              "      </script>\n",
              "    </div>\n",
              "  </div>\n",
              "  "
            ]
          },
          "metadata": {},
          "execution_count": 115
        }
      ]
    },
    {
      "cell_type": "code",
      "source": [
        "merge_temp_m3_group2_pivot = merge_temp_m3_group2.pivot(index='places', columns = 'domainId', values='sentence_each').reset_index()\n"
      ],
      "metadata": {
        "id": "9ZfRNhH_jB-S"
      },
      "execution_count": null,
      "outputs": []
    },
    {
      "cell_type": "code",
      "source": [
        "merge_temp_m3_group2_pivot.rename(columns={1:'sent_1', 2:'sent_2', 3:'sent_3'}, inplace=True)\n",
        "merge_temp_m3_group2_pivot\n"
      ],
      "metadata": {
        "colab": {
          "base_uri": "https://localhost:8080/",
          "height": 424
        },
        "id": "s7DqboNzUDOr",
        "outputId": "9f53f48d-61f8-4113-e114-37ccc83ce573"
      },
      "execution_count": null,
      "outputs": [
        {
          "output_type": "execute_result",
          "data": {
            "text/plain": [
              "domainId             places  \\\n",
              "0                             \n",
              "1            14 W. Main St.   \n",
              "2         1495 Roswell Road   \n",
              "3                    169/28   \n",
              "4                      1:48   \n",
              "...                     ...   \n",
              "2748                     uk   \n",
              "2749           west Lincoln   \n",
              "2750         west Tennessee   \n",
              "2751          west entrance   \n",
              "2752                  west.   \n",
              "\n",
              "domainId                                             sent_1  \\\n",
              "0         According to the panel, screening and follow-u...   \n",
              "1         The coaster ride is expected to be open year-r...   \n",
              "2         According to investigators, around 9:15 p.m. o...   \n",
              "3         Box: Troy Buchanan 44, Timberland 12\\n\\nUpdate...   \n",
              "4         Biden creates national monument in Colorado - ...   \n",
              "...                                                     ...   \n",
              "2748      The trio is one shot ahead of Ken Duke, who po...   \n",
              "2749      Police find 10 spent shell casings after gunsh...   \n",
              "2750      A west Tennessee woman's accused of murdering ...   \n",
              "2751      UNI-Dome Render 3\\n\\nUpdated Oct 11, 2022\\n\\nA...   \n",
              "2752      Now Richard Ringer, a former journalist, is ru...   \n",
              "\n",
              "domainId                                             sent_2  \\\n",
              "0         In 2020, the National Alliance on Mental Illne...   \n",
              "1         American Legion Macon Post 108 and American Le...   \n",
              "2         According to police, around 9:15 p.m. Saturday...   \n",
              "3         1 2 3 4 Final\\nVirden North Mac 15 7 14 14 50\\...   \n",
              "4         South Korea’s Joint Chiefs of Staff said in a ...   \n",
              "...                                                     ...   \n",
              "2748      “The DPRK clearly deems nuclear tests essentia...   \n",
              "2749      Police find 10 spent shell casings after gunsh...   \n",
              "2750      A west Tennessee woman's accused of murdering ...   \n",
              "2751      UNI-Dome Render 6\\n\\nUpdated Oct 11, 2022\\n\\nT...   \n",
              "2752      He said he was concerned with 25 frames as the...   \n",
              "\n",
              "domainId                                             sent_3  \n",
              "0         \"\"After diagnosis, people should participate i...  \n",
              "1         The coaster ride is expected to be open year-r...  \n",
              "2         Marietta PD’s Selective Traffic Enforcement Pr...  \n",
              "3         Box: Troy Buchanan 44, Timberland 12\\n\\nUpdate...  \n",
              "4         South Korea’s Joint Chiefs of Staff said in a ...  \n",
              "...                                                     ...  \n",
              "2748      Senate Minority Leader Mitch McConnell, R-Ky.,...  \n",
              "2749      Police find 10 spent shell casings after gunsh...  \n",
              "2750      A west Tennessee woman's accused of murdering ...  \n",
              "2751      UNI-Dome Render 3\\n\\nUpdated Oct 11, 2022\\n\\nA...  \n",
              "2752      Renny Harlin is directing the remake, with the...  \n",
              "\n",
              "[2753 rows x 4 columns]"
            ],
            "text/html": [
              "\n",
              "  <div id=\"df-317c0237-6322-4c52-8656-ad178217ecad\">\n",
              "    <div class=\"colab-df-container\">\n",
              "      <div>\n",
              "<style scoped>\n",
              "    .dataframe tbody tr th:only-of-type {\n",
              "        vertical-align: middle;\n",
              "    }\n",
              "\n",
              "    .dataframe tbody tr th {\n",
              "        vertical-align: top;\n",
              "    }\n",
              "\n",
              "    .dataframe thead th {\n",
              "        text-align: right;\n",
              "    }\n",
              "</style>\n",
              "<table border=\"1\" class=\"dataframe\">\n",
              "  <thead>\n",
              "    <tr style=\"text-align: right;\">\n",
              "      <th>domainId</th>\n",
              "      <th>places</th>\n",
              "      <th>sent_1</th>\n",
              "      <th>sent_2</th>\n",
              "      <th>sent_3</th>\n",
              "    </tr>\n",
              "  </thead>\n",
              "  <tbody>\n",
              "    <tr>\n",
              "      <th>0</th>\n",
              "      <td></td>\n",
              "      <td>According to the panel, screening and follow-u...</td>\n",
              "      <td>In 2020, the National Alliance on Mental Illne...</td>\n",
              "      <td>\"\"After diagnosis, people should participate i...</td>\n",
              "    </tr>\n",
              "    <tr>\n",
              "      <th>1</th>\n",
              "      <td>14 W. Main St.</td>\n",
              "      <td>The coaster ride is expected to be open year-r...</td>\n",
              "      <td>American Legion Macon Post 108 and American Le...</td>\n",
              "      <td>The coaster ride is expected to be open year-r...</td>\n",
              "    </tr>\n",
              "    <tr>\n",
              "      <th>2</th>\n",
              "      <td>1495 Roswell Road</td>\n",
              "      <td>According to investigators, around 9:15 p.m. o...</td>\n",
              "      <td>According to police, around 9:15 p.m. Saturday...</td>\n",
              "      <td>Marietta PD’s Selective Traffic Enforcement Pr...</td>\n",
              "    </tr>\n",
              "    <tr>\n",
              "      <th>3</th>\n",
              "      <td>169/28</td>\n",
              "      <td>Box: Troy Buchanan 44, Timberland 12\\n\\nUpdate...</td>\n",
              "      <td>1 2 3 4 Final\\nVirden North Mac 15 7 14 14 50\\...</td>\n",
              "      <td>Box: Troy Buchanan 44, Timberland 12\\n\\nUpdate...</td>\n",
              "    </tr>\n",
              "    <tr>\n",
              "      <th>4</th>\n",
              "      <td>1:48</td>\n",
              "      <td>Biden creates national monument in Colorado - ...</td>\n",
              "      <td>South Korea’s Joint Chiefs of Staff said in a ...</td>\n",
              "      <td>South Korea’s Joint Chiefs of Staff said in a ...</td>\n",
              "    </tr>\n",
              "    <tr>\n",
              "      <th>...</th>\n",
              "      <td>...</td>\n",
              "      <td>...</td>\n",
              "      <td>...</td>\n",
              "      <td>...</td>\n",
              "    </tr>\n",
              "    <tr>\n",
              "      <th>2748</th>\n",
              "      <td>uk</td>\n",
              "      <td>The trio is one shot ahead of Ken Duke, who po...</td>\n",
              "      <td>“The DPRK clearly deems nuclear tests essentia...</td>\n",
              "      <td>Senate Minority Leader Mitch McConnell, R-Ky.,...</td>\n",
              "    </tr>\n",
              "    <tr>\n",
              "      <th>2749</th>\n",
              "      <td>west Lincoln</td>\n",
              "      <td>Police find 10 spent shell casings after gunsh...</td>\n",
              "      <td>Police find 10 spent shell casings after gunsh...</td>\n",
              "      <td>Police find 10 spent shell casings after gunsh...</td>\n",
              "    </tr>\n",
              "    <tr>\n",
              "      <th>2750</th>\n",
              "      <td>west Tennessee</td>\n",
              "      <td>A west Tennessee woman's accused of murdering ...</td>\n",
              "      <td>A west Tennessee woman's accused of murdering ...</td>\n",
              "      <td>A west Tennessee woman's accused of murdering ...</td>\n",
              "    </tr>\n",
              "    <tr>\n",
              "      <th>2751</th>\n",
              "      <td>west entrance</td>\n",
              "      <td>UNI-Dome Render 3\\n\\nUpdated Oct 11, 2022\\n\\nA...</td>\n",
              "      <td>UNI-Dome Render 6\\n\\nUpdated Oct 11, 2022\\n\\nT...</td>\n",
              "      <td>UNI-Dome Render 3\\n\\nUpdated Oct 11, 2022\\n\\nA...</td>\n",
              "    </tr>\n",
              "    <tr>\n",
              "      <th>2752</th>\n",
              "      <td>west.</td>\n",
              "      <td>Now Richard Ringer, a former journalist, is ru...</td>\n",
              "      <td>He said he was concerned with 25 frames as the...</td>\n",
              "      <td>Renny Harlin is directing the remake, with the...</td>\n",
              "    </tr>\n",
              "  </tbody>\n",
              "</table>\n",
              "<p>2753 rows × 4 columns</p>\n",
              "</div>\n",
              "      <button class=\"colab-df-convert\" onclick=\"convertToInteractive('df-317c0237-6322-4c52-8656-ad178217ecad')\"\n",
              "              title=\"Convert this dataframe to an interactive table.\"\n",
              "              style=\"display:none;\">\n",
              "        \n",
              "  <svg xmlns=\"http://www.w3.org/2000/svg\" height=\"24px\"viewBox=\"0 0 24 24\"\n",
              "       width=\"24px\">\n",
              "    <path d=\"M0 0h24v24H0V0z\" fill=\"none\"/>\n",
              "    <path d=\"M18.56 5.44l.94 2.06.94-2.06 2.06-.94-2.06-.94-.94-2.06-.94 2.06-2.06.94zm-11 1L8.5 8.5l.94-2.06 2.06-.94-2.06-.94L8.5 2.5l-.94 2.06-2.06.94zm10 10l.94 2.06.94-2.06 2.06-.94-2.06-.94-.94-2.06-.94 2.06-2.06.94z\"/><path d=\"M17.41 7.96l-1.37-1.37c-.4-.4-.92-.59-1.43-.59-.52 0-1.04.2-1.43.59L10.3 9.45l-7.72 7.72c-.78.78-.78 2.05 0 2.83L4 21.41c.39.39.9.59 1.41.59.51 0 1.02-.2 1.41-.59l7.78-7.78 2.81-2.81c.8-.78.8-2.07 0-2.86zM5.41 20L4 18.59l7.72-7.72 1.47 1.35L5.41 20z\"/>\n",
              "  </svg>\n",
              "      </button>\n",
              "      \n",
              "  <style>\n",
              "    .colab-df-container {\n",
              "      display:flex;\n",
              "      flex-wrap:wrap;\n",
              "      gap: 12px;\n",
              "    }\n",
              "\n",
              "    .colab-df-convert {\n",
              "      background-color: #E8F0FE;\n",
              "      border: none;\n",
              "      border-radius: 50%;\n",
              "      cursor: pointer;\n",
              "      display: none;\n",
              "      fill: #1967D2;\n",
              "      height: 32px;\n",
              "      padding: 0 0 0 0;\n",
              "      width: 32px;\n",
              "    }\n",
              "\n",
              "    .colab-df-convert:hover {\n",
              "      background-color: #E2EBFA;\n",
              "      box-shadow: 0px 1px 2px rgba(60, 64, 67, 0.3), 0px 1px 3px 1px rgba(60, 64, 67, 0.15);\n",
              "      fill: #174EA6;\n",
              "    }\n",
              "\n",
              "    [theme=dark] .colab-df-convert {\n",
              "      background-color: #3B4455;\n",
              "      fill: #D2E3FC;\n",
              "    }\n",
              "\n",
              "    [theme=dark] .colab-df-convert:hover {\n",
              "      background-color: #434B5C;\n",
              "      box-shadow: 0px 1px 3px 1px rgba(0, 0, 0, 0.15);\n",
              "      filter: drop-shadow(0px 1px 2px rgba(0, 0, 0, 0.3));\n",
              "      fill: #FFFFFF;\n",
              "    }\n",
              "  </style>\n",
              "\n",
              "      <script>\n",
              "        const buttonEl =\n",
              "          document.querySelector('#df-317c0237-6322-4c52-8656-ad178217ecad button.colab-df-convert');\n",
              "        buttonEl.style.display =\n",
              "          google.colab.kernel.accessAllowed ? 'block' : 'none';\n",
              "\n",
              "        async function convertToInteractive(key) {\n",
              "          const element = document.querySelector('#df-317c0237-6322-4c52-8656-ad178217ecad');\n",
              "          const dataTable =\n",
              "            await google.colab.kernel.invokeFunction('convertToInteractive',\n",
              "                                                     [key], {});\n",
              "          if (!dataTable) return;\n",
              "\n",
              "          const docLinkHtml = 'Like what you see? Visit the ' +\n",
              "            '<a target=\"_blank\" href=https://colab.research.google.com/notebooks/data_table.ipynb>data table notebook</a>'\n",
              "            + ' to learn more about interactive tables.';\n",
              "          element.innerHTML = '';\n",
              "          dataTable['output_type'] = 'display_data';\n",
              "          await google.colab.output.renderOutput(dataTable, element);\n",
              "          const docLink = document.createElement('div');\n",
              "          docLink.innerHTML = docLinkHtml;\n",
              "          element.appendChild(docLink);\n",
              "        }\n",
              "      </script>\n",
              "    </div>\n",
              "  </div>\n",
              "  "
            ]
          },
          "metadata": {},
          "execution_count": 117
        }
      ]
    },
    {
      "cell_type": "code",
      "source": [
        "ner_places['places'] = ner_places['ner_places_clean']"
      ],
      "metadata": {
        "id": "wwHdQ-R7iony"
      },
      "execution_count": null,
      "outputs": []
    },
    {
      "cell_type": "code",
      "source": [
        "merge_temp_final = pd.merge(ner_places, merge_temp_m3_group2_pivot, on=\"places\", how='left').reset_index()\n"
      ],
      "metadata": {
        "id": "zDopHL8lnnGW"
      },
      "execution_count": null,
      "outputs": []
    },
    {
      "cell_type": "code",
      "source": [
        "merge_temp_final['sent_1'] = merge_temp_final['sent_1'].str.replace('\\n', ' ')\n",
        "merge_temp_final['sent_2'] = merge_temp_final['sent_2'].str.replace('\\n', ' ')\n",
        "merge_temp_final['sent_3'] = merge_temp_final['sent_3'].str.replace('\\n', ' ')"
      ],
      "metadata": {
        "id": "rEJHlTVfhavY"
      },
      "execution_count": null,
      "outputs": []
    },
    {
      "cell_type": "code",
      "source": [
        "# Mt. Pisgah\n",
        "merge_temp_final.to_excel('/content/drive/MyDrive/Georgia/Locations Analysis/Georgia_ner_places_v2_wsent.xlsx')"
      ],
      "metadata": {
        "id": "Z2lYrXCaprjW"
      },
      "execution_count": null,
      "outputs": []
    },
    {
      "cell_type": "markdown",
      "source": [
        "## Look up location (w updated data) on articles"
      ],
      "metadata": {
        "id": "cY1vi4e0QNqS"
      }
    },
    {
      "cell_type": "code",
      "source": [
        "%cd /content/drive/MyDrive/Georgia/Locations Analysis"
      ],
      "metadata": {
        "id": "rEsOC72WTTib"
      },
      "execution_count": null,
      "outputs": []
    },
    {
      "cell_type": "code",
      "source": [
        "# data created by manual coding\n",
        "\n",
        "import pandas as pd\n",
        "\n",
        "location_final = pd.read_excel('Georgia_place_validation_counties.xlsx')"
      ],
      "metadata": {
        "id": "6vkKM1LjQRXC"
      },
      "execution_count": null,
      "outputs": []
    },
    {
      "cell_type": "code",
      "source": [
        "location_final = location_final[location_final['final_selection']==1]"
      ],
      "metadata": {
        "id": "IhdmM7NvcwJ2"
      },
      "execution_count": null,
      "outputs": []
    },
    {
      "cell_type": "code",
      "source": [
        "location_final_st = location_final[['ner_place_clean','county_level', 'final_selection']]"
      ],
      "metadata": {
        "id": "qYuxviOCj0FF"
      },
      "execution_count": null,
      "outputs": []
    },
    {
      "cell_type": "code",
      "source": [
        "location_final_st = location_final_st.dropna()"
      ],
      "metadata": {
        "id": "l7_56rt2yiVy"
      },
      "execution_count": null,
      "outputs": []
    },
    {
      "cell_type": "code",
      "source": [
        "len(location_final_st)"
      ],
      "metadata": {
        "colab": {
          "base_uri": "https://localhost:8080/"
        },
        "id": "AzUCzxNbmsBr",
        "outputId": "cedabe8b-89dc-41db-92d0-04a297511c87"
      },
      "execution_count": null,
      "outputs": [
        {
          "output_type": "execute_result",
          "data": {
            "text/plain": [
              "1930"
            ]
          },
          "metadata": {},
          "execution_count": 8
        }
      ]
    },
    {
      "cell_type": "code",
      "source": [
        "location_final_st"
      ],
      "metadata": {
        "colab": {
          "base_uri": "https://localhost:8080/",
          "height": 424
        },
        "id": "MyGCPiwxPcuz",
        "outputId": "d05bb75a-790a-4343-f9d8-7590eeded3b7"
      },
      "execution_count": null,
      "outputs": [
        {
          "output_type": "execute_result",
          "data": {
            "text/plain": [
              "             ner_place_clean      county_level  final_selection\n",
              "0           110 Airport Road  Habersham County                1\n",
              "1          1495 Roswell Road       Cobb County                1\n",
              "2                26th Street     Fulton County                1\n",
              "3         3227 Roswell Rd NE     Fulton County                1\n",
              "4               46 Plaza Way      Rabun County                1\n",
              "...                      ...               ...              ...\n",
              "1950  Yonah Memorial Gardens  Habersham County                1\n",
              "1951                    York      Rabun County                1\n",
              "1952              Youngstown      Union County                1\n",
              "1953               Ypsilanti     Talbot County                1\n",
              "1954            Zebulon Road       Bibb County                1\n",
              "\n",
              "[1930 rows x 3 columns]"
            ],
            "text/html": [
              "\n",
              "  <div id=\"df-eeb076a6-0b36-43c2-a7dd-f9d4c8ee9b22\">\n",
              "    <div class=\"colab-df-container\">\n",
              "      <div>\n",
              "<style scoped>\n",
              "    .dataframe tbody tr th:only-of-type {\n",
              "        vertical-align: middle;\n",
              "    }\n",
              "\n",
              "    .dataframe tbody tr th {\n",
              "        vertical-align: top;\n",
              "    }\n",
              "\n",
              "    .dataframe thead th {\n",
              "        text-align: right;\n",
              "    }\n",
              "</style>\n",
              "<table border=\"1\" class=\"dataframe\">\n",
              "  <thead>\n",
              "    <tr style=\"text-align: right;\">\n",
              "      <th></th>\n",
              "      <th>ner_place_clean</th>\n",
              "      <th>county_level</th>\n",
              "      <th>final_selection</th>\n",
              "    </tr>\n",
              "  </thead>\n",
              "  <tbody>\n",
              "    <tr>\n",
              "      <th>0</th>\n",
              "      <td>110 Airport Road</td>\n",
              "      <td>Habersham County</td>\n",
              "      <td>1</td>\n",
              "    </tr>\n",
              "    <tr>\n",
              "      <th>1</th>\n",
              "      <td>1495 Roswell Road</td>\n",
              "      <td>Cobb County</td>\n",
              "      <td>1</td>\n",
              "    </tr>\n",
              "    <tr>\n",
              "      <th>2</th>\n",
              "      <td>26th Street</td>\n",
              "      <td>Fulton County</td>\n",
              "      <td>1</td>\n",
              "    </tr>\n",
              "    <tr>\n",
              "      <th>3</th>\n",
              "      <td>3227 Roswell Rd NE</td>\n",
              "      <td>Fulton County</td>\n",
              "      <td>1</td>\n",
              "    </tr>\n",
              "    <tr>\n",
              "      <th>4</th>\n",
              "      <td>46 Plaza Way</td>\n",
              "      <td>Rabun County</td>\n",
              "      <td>1</td>\n",
              "    </tr>\n",
              "    <tr>\n",
              "      <th>...</th>\n",
              "      <td>...</td>\n",
              "      <td>...</td>\n",
              "      <td>...</td>\n",
              "    </tr>\n",
              "    <tr>\n",
              "      <th>1950</th>\n",
              "      <td>Yonah Memorial Gardens</td>\n",
              "      <td>Habersham County</td>\n",
              "      <td>1</td>\n",
              "    </tr>\n",
              "    <tr>\n",
              "      <th>1951</th>\n",
              "      <td>York</td>\n",
              "      <td>Rabun County</td>\n",
              "      <td>1</td>\n",
              "    </tr>\n",
              "    <tr>\n",
              "      <th>1952</th>\n",
              "      <td>Youngstown</td>\n",
              "      <td>Union County</td>\n",
              "      <td>1</td>\n",
              "    </tr>\n",
              "    <tr>\n",
              "      <th>1953</th>\n",
              "      <td>Ypsilanti</td>\n",
              "      <td>Talbot County</td>\n",
              "      <td>1</td>\n",
              "    </tr>\n",
              "    <tr>\n",
              "      <th>1954</th>\n",
              "      <td>Zebulon Road</td>\n",
              "      <td>Bibb County</td>\n",
              "      <td>1</td>\n",
              "    </tr>\n",
              "  </tbody>\n",
              "</table>\n",
              "<p>1930 rows × 3 columns</p>\n",
              "</div>\n",
              "      <button class=\"colab-df-convert\" onclick=\"convertToInteractive('df-eeb076a6-0b36-43c2-a7dd-f9d4c8ee9b22')\"\n",
              "              title=\"Convert this dataframe to an interactive table.\"\n",
              "              style=\"display:none;\">\n",
              "        \n",
              "  <svg xmlns=\"http://www.w3.org/2000/svg\" height=\"24px\"viewBox=\"0 0 24 24\"\n",
              "       width=\"24px\">\n",
              "    <path d=\"M0 0h24v24H0V0z\" fill=\"none\"/>\n",
              "    <path d=\"M18.56 5.44l.94 2.06.94-2.06 2.06-.94-2.06-.94-.94-2.06-.94 2.06-2.06.94zm-11 1L8.5 8.5l.94-2.06 2.06-.94-2.06-.94L8.5 2.5l-.94 2.06-2.06.94zm10 10l.94 2.06.94-2.06 2.06-.94-2.06-.94-.94-2.06-.94 2.06-2.06.94z\"/><path d=\"M17.41 7.96l-1.37-1.37c-.4-.4-.92-.59-1.43-.59-.52 0-1.04.2-1.43.59L10.3 9.45l-7.72 7.72c-.78.78-.78 2.05 0 2.83L4 21.41c.39.39.9.59 1.41.59.51 0 1.02-.2 1.41-.59l7.78-7.78 2.81-2.81c.8-.78.8-2.07 0-2.86zM5.41 20L4 18.59l7.72-7.72 1.47 1.35L5.41 20z\"/>\n",
              "  </svg>\n",
              "      </button>\n",
              "      \n",
              "  <style>\n",
              "    .colab-df-container {\n",
              "      display:flex;\n",
              "      flex-wrap:wrap;\n",
              "      gap: 12px;\n",
              "    }\n",
              "\n",
              "    .colab-df-convert {\n",
              "      background-color: #E8F0FE;\n",
              "      border: none;\n",
              "      border-radius: 50%;\n",
              "      cursor: pointer;\n",
              "      display: none;\n",
              "      fill: #1967D2;\n",
              "      height: 32px;\n",
              "      padding: 0 0 0 0;\n",
              "      width: 32px;\n",
              "    }\n",
              "\n",
              "    .colab-df-convert:hover {\n",
              "      background-color: #E2EBFA;\n",
              "      box-shadow: 0px 1px 2px rgba(60, 64, 67, 0.3), 0px 1px 3px 1px rgba(60, 64, 67, 0.15);\n",
              "      fill: #174EA6;\n",
              "    }\n",
              "\n",
              "    [theme=dark] .colab-df-convert {\n",
              "      background-color: #3B4455;\n",
              "      fill: #D2E3FC;\n",
              "    }\n",
              "\n",
              "    [theme=dark] .colab-df-convert:hover {\n",
              "      background-color: #434B5C;\n",
              "      box-shadow: 0px 1px 3px 1px rgba(0, 0, 0, 0.15);\n",
              "      filter: drop-shadow(0px 1px 2px rgba(0, 0, 0, 0.3));\n",
              "      fill: #FFFFFF;\n",
              "    }\n",
              "  </style>\n",
              "\n",
              "      <script>\n",
              "        const buttonEl =\n",
              "          document.querySelector('#df-eeb076a6-0b36-43c2-a7dd-f9d4c8ee9b22 button.colab-df-convert');\n",
              "        buttonEl.style.display =\n",
              "          google.colab.kernel.accessAllowed ? 'block' : 'none';\n",
              "\n",
              "        async function convertToInteractive(key) {\n",
              "          const element = document.querySelector('#df-eeb076a6-0b36-43c2-a7dd-f9d4c8ee9b22');\n",
              "          const dataTable =\n",
              "            await google.colab.kernel.invokeFunction('convertToInteractive',\n",
              "                                                     [key], {});\n",
              "          if (!dataTable) return;\n",
              "\n",
              "          const docLinkHtml = 'Like what you see? Visit the ' +\n",
              "            '<a target=\"_blank\" href=https://colab.research.google.com/notebooks/data_table.ipynb>data table notebook</a>'\n",
              "            + ' to learn more about interactive tables.';\n",
              "          element.innerHTML = '';\n",
              "          dataTable['output_type'] = 'display_data';\n",
              "          await google.colab.output.renderOutput(dataTable, element);\n",
              "          const docLink = document.createElement('div');\n",
              "          docLink.innerHTML = docLinkHtml;\n",
              "          element.appendChild(docLink);\n",
              "        }\n",
              "      </script>\n",
              "    </div>\n",
              "  </div>\n",
              "  "
            ]
          },
          "metadata": {},
          "execution_count": 9
        }
      ]
    },
    {
      "cell_type": "code",
      "source": [
        "# # multiple counties deleted\n",
        "# location_final_st = location_final_st[location_final_st['county_level'].str.contains('Counties')==False]"
      ],
      "metadata": {
        "id": "cKbOXVZsmb1F"
      },
      "execution_count": null,
      "outputs": []
    },
    {
      "cell_type": "code",
      "source": [
        "len(set(location_final_st.county_level.values.tolist()))"
      ],
      "metadata": {
        "colab": {
          "base_uri": "https://localhost:8080/"
        },
        "id": "hFPKsq8gsiaX",
        "outputId": "ee3996d5-5087-4f14-e711-72a88052a9dd"
      },
      "execution_count": null,
      "outputs": [
        {
          "output_type": "execute_result",
          "data": {
            "text/plain": [
              "159"
            ]
          },
          "metadata": {},
          "execution_count": 10
        }
      ]
    },
    {
      "cell_type": "code",
      "source": [
        "location_final_list = list(set(location_final_st['ner_place_clean'].tolist()))"
      ],
      "metadata": {
        "id": "d3UqVKMGgFCw"
      },
      "execution_count": null,
      "outputs": []
    },
    {
      "cell_type": "code",
      "source": [
        "import pandas as pd\n",
        "\n",
        "df = pd.read_pickle('/content/drive/MyDrive/Georgia/Web Scraping/Georgia_data_v2_translation_ner2_lem.pkl')\n"
      ],
      "metadata": {
        "id": "opLFb-2OdJzM"
      },
      "execution_count": null,
      "outputs": []
    },
    {
      "cell_type": "code",
      "source": [
        "\n",
        "import re\n",
        "\n",
        "def bigrams(s):\n",
        "    return [i for i in s if re.search(r'\\s', i) ]\n",
        "  \n",
        "def unigrams(s):\n",
        "    return [i for i in s if not re.search(r'\\s', i) ]\n",
        "\n",
        "word_bigrams_done = list(set(bigrams(location_final_list)))\n",
        "print(word_bigrams_done)\n",
        "print(len(word_bigrams_done))\n",
        "                       \n",
        "word_unigrams_done = unigrams(location_final_list)\n",
        "print(word_unigrams_done)\n",
        "print(len(word_unigrams_done))\n"
      ],
      "metadata": {
        "colab": {
          "base_uri": "https://localhost:8080/"
        },
        "id": "hbjFlI7bdKsu",
        "outputId": "8de9b050-63b1-455a-e088-e52f9e646a43"
      },
      "execution_count": null,
      "outputs": [
        {
          "output_type": "stream",
          "name": "stdout",
          "text": [
            "['Mirror Lake Connector', 'North Green Street', 'Cobb DOT road', 'Greene County High School', 'Sugarloaf Parkway', 'the UGA Bookstore', 'Ridge Ferry Park', 'Meriweather County', 'Chestnut Drive', 'Peachtree Ridge', 'Grindstone Drive', 'the Fox Theatre', 'Statesboro Regional Library', 'West Armuchee', 'Covington Square', 'the Hartwell Library', 'West Georgia Tech', 'the Garden City Police Department', 'Capitol Avenue', 'Roosevelt Boulevard', 'Sandy Creek Park', 'The Classic Center', 'Rabbit Valley', 'Mirror Lake', 'Cobb Pkwy NW', 'Forest Lake', 'the Georgia Diagnostic and', 'Bobby Dodd Stadium', 'Wilder Center', 'the Wardlaw-Bible Meeting Room of the LaFayette-Walker County Library', 'Memorial Parkway', 'Kennesaw Memorial Park Cemetery', 'the Barrow County Detention Center', 'Old Mountain Road', 'Silver Creek', 'St. Charles', 'Lake Trahlyta', 'West Cobb Funeral Home and', 'Pearl Street', 'Wooten Lake Road', 'West Cobb Funeral Home', 'Bartow in', 'Gordon County’s', 'the White City', 'Five Star Stadium', 'Lookout Mountain', 'Coolray Field', 'the Griffin Bears', 'Western Springs', 'Cresta Drive', 'Southeast Whitfield', 'the East River', 'the Houlihan Bridge', 'Peachtree Creek', 'the Georgia Constitution', 'Robins Air Force Base', 'Columbus 89.5', 'Battery Avenue SE', 'Fayette County Jail', 'Healthy Savannah', 'Buckhalter Road', 'Camp Gordon', 'Grizzard Park', 'Mimosa Drive', 'E. Park Place Blvd', 'Lake Lanier', 'North Dakota', 'Capitol View', 'the Battery Atlanta', 'Salem Road', '3227 Roswell Rd NE', 'Tara Boulevard', 'Bullard Road', 'the Georgia International', 'Turner Lake Park', 'Lithonia Park', 'Kennesaw Avenue', 'Bulloch Memorial Gardens', 'los recuerdos', 'the Chickamauga Public Library', 'Santa Claus', 'T.H. Slater Elementary', 'Black Rock Mountain State Park', 'Beech Avenue', 'Abercorn Street', 'Emery Highway', 'Osprey Cove Drive', 'Oglethorpe Avenue', 'Dalton State', 'District Live', 'Britain Drive', 'Sawyer Road', 'Watkins Pond Road', 'Oak Grove', 'the City of Elberton', 'Lawrenceville Highway', 'Windy Hill Road', 'East County Line Road', 'T.A. Wright Stadium', 'Gallery West', 'Mall Blvd', 'Magnolia St.', 'the Gilmer County Library', 'Avondale Estates City Hall', 'Brumby Hall', 'Joint Venture Park', 'North Cobb', 'the City of Fairfax', 'Cedartown Memorial Stadium', 'West Sandtown Road', 'West Georgia', 'Statesboro City Hall', 'Wormsloe Historic Site Updated', 'Jones Island', 'White Bluff', 'Highland Ter', 'Dean Avenue', 'East Rome', 'East 4th Street Woodbine', 'Etowah River Park', 'Monroe Area', 'Poplar Street', 'Monroe County Jail', 'Mt. Vernon', 'Jekyll Island', 'La Crosse', 'Floyd County Jail Records', 'Chestnut Hill', 'the Golden Isles Alzheimer’s Walk', 'Coffee County Jail', 'Peyton Place', 'Bulldog Stadium', 'Cobb County Water System', 'Redfern Village', 'Mt. Paran', 'Wesley Chapel Road', 'Old Horseshoe Bend Road', 'East Central', 'North Druid Hills Road', 'Providence Canyon', 'Baconton Charter', 'Omaha Fire', 'the Ritz Theatre', 'Cobb Parkway North', 'Dallas Highway', 'Holy Ground Baptist', 'North Dahlonega', 'Clayton State', 'West Hartford', 'West Georgia’s', 'Beaver Dam Creek', 'Mossy Creek United Methodist Church', 'Ford Avenue', 'Old River Road South', 'Piedmont Center', 'W Candler Street', 'Hampton Glen', 'Oak Grove Rd', 'Alabama Highway', 'South Fulton’s', 'Lawrenceville Square', 'the Dacula at', 'the Lumpkin County', 'St. Francis Hospital', 'Lula Road', 'BRYAN COUNTY', 'River North', 'North Oconee', 'Phoebe Putney Memorial Hospital', 'Jaren Hall', 'Prince Avenue Christian', 'University Parkway', 'Bedford Park Boulevard', 'the Marietta Square', 'Cape Street', 'Fort Gillem', 'Clairmont Road', 'Beachview Drive', 'Old Decatur Cemetery', 'Cherokee Bluff', 'Roswell Area Park', 'Browns Bridge Road', 'Cedar Avenue', 'the Coosa Valley Fairgrounds', 'Almond Street', 'Lewis Nail Road', 'Mariposa Farms', 'Oregon Park Baseball', 'Rivaridge Drive', 'Godfrey Stadium', 'Lanier Islands Parkway', 'the Henry Grady College of Journalism', 'AL East', 'Ledo Road', 'Kurt Drive', 'Perimeter Mall', 'Alverson Rd.', 'Yahoola Creek Park', 'Georgia National Cemetery', 'Magnolia Drive North', 'Pine Mountain', 'North Shore', 'Floyd Springs', '5274 Dogwood Drive', 'JEFFERSON PD', 'Roswell Road', 'the Flovilla City Hall', 'Ada Street', 'Frances Avenue', 'Partin Park', 'Burruss Elementary School', 'Cherokee County Fire and Emergency Services', 'Callaway Gardens', 'Silver Mine Trail', 'Airport Road', 'Dougherty County’s', 'Shaw Park', 'Douglas Countys', 'the Port of Savannah', 'Paulding County’s', 'Morningside Road', 'the City of Auburn', 'Bluff Drive', 'the Coosa Valley Fair', 'Pleasant Hill', 'Gascoigne Bluff', 'the Ogeechee River Basin', 'the Grand Opera House', 'Miller Ferry Road', 'Tybee Island', 'West Road NW', 'North Greenville', 'Gas South Arena', 'the Etowah River', 'Park Place Restaurant', 'Azalea Park Apartments', 'Parkway South', 'Jacksonville State', 'the Truist Park', 'East Jackson', 'Morgan County Citizen', 'Rocky Mountain', 'White County’s', 'Poplar Springs Road', 'Floyd Memory Gardens', 'the Brunswick River', 'East Broughton Street', 'Barrett Parkway', '5900 Sugarloaf Parkway', 'the Ocmulgee River', 'The Oglethorpe Echo', 'the Augusta Marriott', 'Washington Road', 'The Port of Savannah', 'Union Grove', 'Red Rock Search', 'the Rome Tennis Center', 'Missouri River Bluffs', 'Pyne Road', 'New Hampstead', 'Peterson Street', 'Bridal Veil Falls', 'Allatoona Creek Park', 'Fulton County Stadium', 'Iris Drive', 'the Rabun County Detention Center', 'Lake Blackshear', 'West Hill Avenue', 'Adamson Square', 'Taliaferro County', 'St. John Bosco', 'Cumberland Mall', 'Lewis Ridge Circle', 'Univeter Road', 'the Decatur Square', 'Oak Lawn', 'Broughton Street', 'Townpark Drive', 'North Point Circle', 'Mt. Bethel', 'Brodie Field', 'Buckhead Village', 'Habersham Central', 'the Madison County Library', 'the Dawson County', 'Bethlehem Road', 'Cobb Parkway', 'Rossville Recreation Association', 'West Side', 'Bells Ferry Road', 'Plant Atkinson Road', 'Bristol Farms', 'Beacon Hill', 'The Battery Atlanta', 'Plant Wansley', 'Blossom Drive', 'Chandler Road', 'Michelin Raceway Road', 'Dunwoody City Hall', 'Palo Alto', 'Peachtree Rd', 'Buford Highway', 'Oglethorpe County High School', 'the Coastal Empire', 'Carroll Memory Gardens', 'North Hills', 'the South Forsyth', 'Holiday Park', 'the Enmarket Arena', 'Nashville Street', 'Orange Street', 'Hardman Rd.', 'Rafe Banks Park', 'the Olmstead Homes', 'Deans Bridge Road', 'West Main', 'Dale County', 'the Children’s Advocacy Center', 'Arkose Drive', 'Gwinnett County Jail', 'Mableton Parkway', 'South Marietta Parkway', 'Rabbit Valley Farmers Market in Ringgold', 'Altama Avenue', 'Glenn Hills', 'the Cobb County Water System', 'Bobo Drive', 'Eveline Avenue', 'Broadrick Drive', 'Trammell Road', 'Colfax Avenue', 'East Atlanta', 'Paper Mill Road', 'Hampton Street', 'Flat Rock', 'Augusta Regional Airport', 'Way Northeast', 'Riverside Drive', 'Southeast Atlanta', 'City of Refuge', 'W May St.', 'Pass Road', 'Kilgore Street', 'West Atlanta', 'Anderson Street', 'St. Pius', 'Phipps Plaza', 'the Buckhead Saloon', 'Wrightsboro Road', 'Gwinnett County Fire', 'Wisteria Ridge', 'Candler Park', 'Matthews Field', 'Pleasant Valley', 'Valdosta State Prison', 'Crisp County Jail', 'Crystal Springs', 'the Historic Fourth Ward Park', 'South Georgia Medical Center', 'Goshen Road', 'Commerce Rd', 'the Houston County District', 'the Buckner Rd Sidewalk', 'the Georgia National Cemetery', 'West Cobb Funeral Home and Crematory', 'Hickory Grove Road', 'Rabbit Valley Farmers Market in', 'South Main Street', 'Lawrence Street', 'North Cobb’s', 'Sylvan Road', 'Macon Regional Crime Stoppers', 'North Street', 'King Island', 'Heritage Point Park', 'Kennesaw Mountain', 'Drake Field', 'Murray County High School', 'the Sonoraville Recreation Center', 'Crooked River State Park', 'Habersham Central 1977', 'South Effingham', 'North Clayton', 'Coosa Valley', 'Twin City', 'Clinton County', 'Washington Highway', 'Union City’s', 'the Alliance Theatre', 'Forsyth Park', 'Discovery Boulevard', 'River Ridge', 'Plant Bowen', 'the Georgia Dome', 'Islands Stadium', 'North Park Square', 'the Garden City Terminal', 'the Oconee River', 'the White Oak Road Farm', 'Cobb Parkway SE', 'Red Bud Road', 'River View Nursing Home', 'Hinesville City Hall', 'Atlanta Highway', 'Callaway Road', 'Junction City', 'Villa Rica', 'the Garden District', 'the Cedartown Performing Arts Center', 'New Milford', 'Sanford Stadium', 'the Sapelo Island Welcome Center', 'Emanuel County Jail', 'South Augusta', 'the Sidney Lanier Bridge', 'Lilburn City Park', 'Cobb County Water', 'Lower Woolsey Road', 'Macedonia Road', 'the William Root House', 'Southside Commercial Parkway', 'the 405 Freeway', 'Atlanta Botanical Garden', 'Hinesville Updated', 'Fort Screven', 'Mill Creek High School Football Game', 'Pleasant Hill Road', 'South Park Square', 'Riverside Parkway', 'Collins Circle', 'Washington St.', 'Concord Rd', 'Benton Harbor', 'River Road', 'Shallowford Road', 'Panola Road', 'Rocky Creek', 'Indian Hills', 'William Walker Recreation Center', 'Maple Grove', 'Bell Auditorium', 'the Cobb Galleria Centre', 'Cauble Park', 'Russell Street', 'Burr Park', 'the Hostess City', 'Garrard Avenue', 'Hiram Douglasville Highway', 'Forsyth Street', 'Eisenhower Drive', 'the Powder Springs Library', 'Paris Lake', 'Wildcat Bridge Road', 'Willingham Avenue', 'Jonesboro Road', 'the Superior Plumbing VECTR Center', 'Unicoi State Park', 'the Oglethorpe Mall', 'the Braselton Civic Center', 'Cobb St.', 'Greater Atlanta', 'Buford Drive', 'McEver Road', 'New Macland Road', 'West Point Road', 'North Murray’s', 'Etheridge Road', 'River Valley Road', 'Westside Drive', 'East Georgia', 'Cascade Drive', 'Tattnall Square', 'Hotel Tybee', 'White Bluff Road', 'Stephens County High School', 'Walker County Sheriff', 'West Chester', 'Red Rock', 'Cherokee County’s', 'Meadowlark Drive', 'Southern Oaks Drive', 'Butts Mutts', 'Chehaw Park', 'Douglas County Courthouse', 'Dan Pitts Stadium', 'Ga. Highway', 'Bentley Rd', 'Still Family Farm', 'Cumberland Point Drive', 'Mt. Pleasant', 'the Jepson Center', 'Old Alabama Road', 'Welcome All Park', 'Downing Street', 'Advent Health Gordon', 'Shiloh Valley Drive', 'Tumlin Park', 'Mt. Pisgah', 'Newnan 31', 'Wayne County High School', 'Liberty Street', 'Macland Road', 'Veterans Park', 'Brampton Avenue', 'Dawson Road', 'Jefferson River Rd', 'Albany State', 'the Cheatham Hill', 'West Franklin', 'Brewton Cemetery', 'TYBEE ISLAND', 'the Savannah Area Chamber of Commerce', 'Red Bud', 'Albany Street', 'Oglesby Bridge Road', 'Cobb Parkway S.', 'Pike County Schools', 'the Butts County Animal Shelter', 'Virginia Drive', 'Beaver Ruin Road', 'Fairview Street', 'Maddox Rd', 'Vogel State Park', 'Weaver Street', 'Caldwell County', 'Greenville Drive', 'Quail Valley Road', 'Middle Georgias', 'State Farm Stadium', 'North Springs', 'McLane Riverview Memorial Gardens', 'East Cherokee Drive', 'Rimrock Road', 'Webster Street', 'St. Georges', 'Lynwood Park', 'Bristol Bay', 'West Central', 'the King Trail', 'Carter Center', 'Atlanta Vintage Books', 'Holt Avenue', 'Calhoun Georgia', 'Pierce County Schools', 'Mt. Paran Christian', 'Oak City Cemetery', 'Powder Springs Rd', 'Highway 80', 'Cotton Avenue', 'Bartley Rd.', 'the Toccoa River', 'Rose Garden', 'Windsor contributed', 'Clay County', 'Reynolds Street', 'Troup County Fire', 'Granger Park', 'East Park Square', 'the Upson Beacon', 'Galleria Parkway', 'the Calhoun Middle School', 'County Road 380', 'Fairground Street', 'Park Avenue', 'Chester Avenue', 'Bailey Warnix', 'Central Georgia', 'Adams Park', 'West Jackson', 'Old Pendergrass Rd', 'North 27th Street', 'South Gwinnett', 'Peach Orchard Road', 'Allen Road', 'Yonah Memorial Gardens', 'Lake Sinclair', 'Sapelo Island', 'Chapel Hill High School', 'W May Street', 'the Golden Isles', 'Dahlonega Funeral Home', 'the Plant Riverside District', 'Canton Road', 'the City of Madison’s', 'the Satilla River', 'Strand Avenue', 'the Stephens County Courthouse', 'Wake County', 'Center Stage', 'The Houlihan Bridge', 'Neptune Park', 'Tybee Islands', 'Favor Road', 'S Broad St.', 'Atlanta City', 'Mountain View', 'The Hostess City', 'South Effingham’s', 'Cook Street', 'Ft. Valley', 'Parker Road', 'Beech Island', 'First Street', 'Inman Park', 'Butler Island', 'St. Simons', 'Peachtree Road', 'The Lee County', 'the Highland Park', 'Butts County’s', 'the Truman Parkway', 'East Washington', 'Paulding Avenue', 'Boling Park', 'Ball Ground', 'Crazy P Arena', 'Oak St.', 'Lake Oconee', 'Mimosa Boulevard', 'Brown Bridge Road', 'the Conyers Depot on Railroad Street', 'Pulaski Square', 'Jackson Heights', 'Oak Street', 'Fort Benning', 'Sunset Drive', 'Saddle Ridge', 'Lee Road', 'Keith Road in Ringgold', 'Swamp Park', 'Blue Ridge', '110 Airport Road', 'the Ruby Fulbright Aquatic Center', 'Joe Stock Memorial Park', 'Clay Street', 'Tybee Island’s', 'Winkenhofer Pine Ridge Funeral Home', 'the Carter Center', 'North Oconee’s', 'Lake Park', 'Windsor Parkway', 'Westover Boulevard', 'East Cobb Park', 'Hillside Memorial Chapel', 'South Georgia Tech', 'Olmsted Linear Park', 'Wilson Avenue', 'Plum Orchard', 'Cedar Creek', 'South Calhoun Bypass', 'Butterworth Lane', 'Bobo Street', 'Apple Valley', 'Pulaski Street', 'New Manchester', 'Bethany Hospice', 'Auburn Street', 'Grey Hill Cemetery', 'Sugarloaf Mills Mall', 'Kendrick Road', 'HABERSHAM COUNTY', 'Buckhead City', 'Cobb Medical Center', 'Moreland Avenue', 'Pennsylvania Avenue', 'Cedar Point', 'Stone Mountain Lake', 'Decatur City Hall', 'Prospect Heights', 'Myrtle Avenue', 'Lake Allatoona', 'Kinridge Road', 'KIPP Atlanta', 'James Street', 'Sugar Valley', 'the Rome-Floyd County Library', 'the Teacher Walk of Honor on Marietta Square', 'Rock Hill', 'the Oostanaula River', 'The Carter Center', 'Arnall Drive', 'the Knights Inn on Boy Scout Road', 'the Gordon Central High School’s', 'Brookhaven Park', 'West Village', 'Underground Atlanta', 'East View Cemetery', 'the Georgia Sports Hall of Fame', 'Bryson Park', 'Decatur Square', 'Old River Road', 'South Cobb', 'Jackson Memorial Gardens', 'the Village Green', 'Old Savannah City Mission', 'the Sandy Springs Performing Arts Center', 'East Lake Drive', 'East Macon', 'Clayton Street', 'Ponderosa Drive', 'Lexington city', 'Fort Valley State', 'West Ponce de Leon Avenue', 'Richmond Hill', 'Stephens Memorial Gardens', 'Harris Drive', 'Wesley Woods of', 'Six Flags Parkway', 'the Ogeechee River', 'Richardson Street', 'Turner Lake Road', 'Logan Farm Park', 'Georgia State', 'the Rossville Public Library', 'Mount Pisgah', 'the Noonday Creek Trail', 'Red Rocks', 'Tommy Cash Stadium', 'Buford City', 'Paulson Stadium', 'Mill Creek’s', 'Lanier Drive', 'Dogwood Drive', 'Park Ridge', 'Edwards Park', 'Highland Av', 'the Rome Area History Center', 'Walton -', 'South Forsyth', 'the Summit on Fire Prevention', 'West Englewood', 'Jefferson County Jail', 'Fair Road', 'Carrollton City', 'Newnan 34', 'Bailey York', 'Rock City', 'Springfield Street', 'Hickman Drive', 'Lake Oconee Village', 'Cumberland Valleys', 'Cumberland Boulevard SE', 'Swift Cantrell Park', 'Lewiston Road', 'the Carson McLane Funeral Home', 'Woodland of Cartersville', 'the Bowers Meeting Room of the Rossville Public Library', 'the East Side', 'S. Columbia Drive', 'Pooler Parkway', 'Sun Valley', 'Zebulon Road', 'Wildwood Park', 'Pleasant Grove Road', 'The City of Rome', 'Mount Paran Christian', 'Roswell City Hall', 'Buckhead Saloon', 'Jackson Street', 'the Georgia Aquarium', 'South Main', 'Sand Mountain', 'North 25th Street', 'Saddle Creek Road', 'Oglethorpe Mall', 'Talking Rock', 'Beverly Hills', 'Coastal Georgia', 'Main S', 'Peach Belt Conference', 'the City of Decatur', 'Crooked Creek Rd', 'Athens Highway', 'Key Road', 'Orchard Park', 'North Gwinnett', 'the Callaway Conference Center', 'Floyd County Jail', 'the City of St. Marys', 'Adams Stadium', 'Decatur Area', 'Flint Avenue', 'Northside Drive', 'Stokes Avenue', 'Epps Bridge Parkway', 'Whitlock Avenue', 'Isle of Hope', 'FORSYTH PARK', 'North Pierce Avenue', 'Craigtown Road', 'West Madison', 'Fahm Street', 'Clifton Road', 'Plant Riverside District', 'Mount Carmel', 'Atlanta Road', 'the Cedar Valley', 'Cherry Street', 'the Rome Civic Center', 'Forrest Road', 'Brockton Rd', 'Savannah Airport', 'Bluffs Parkway', 'Little River', 'Walter Cantrell Stadium', 'River City Bank', 'North Macedonia', 'Lake Acworth Drive', 'the Macon City Auditorium', 'Laurel Island Links', 'the Glynn County Detention Center', 'Middle Georgia', 'Oak Forest', 'the Lake Erie Walleye Trail', 'Clifton Road NE', 'Pine Island Road', 'Bethesda Academy Savannah', 'Red Devil Hill', 'Tunnel Hill', 'Truman Parkway', 'Atlanta Street Trail/Cobb', 'the Chatham County Police Department’s', 'Peachtree Street', 'Lindbergh Center Station', 'South DeKalb', 'the Habersham County Extension', 'Meadowbrook Memory Gardens', '26th Street', 'Sky Valley Way', 'the Enmarket Arena Updated', 'Interstate 575', 'Barron Stadium', 'Southwest DeKalb', 'Floyd County Superior Court', 'Westend Area', 'Veterans Plaza', 'Crest Lawn', 'Little Cumberland Island', 'the Granite Bowl', 'Henry County’s', 'Gwendolyn Street', 'the Buckhalter Road', 'the Mount Paran North Church', 'Euclid Avenue', 'Heritage Hills', 'Southview Cemetery', 'Erwin Street', 'Mt. Bethel’s', 'Mt. Sinai Road', 'Titan Stadium', 'McDowell Road', 'Lake Dow Road', 'Holcomb Bridge Road', 'Old Airport Road', 'Anderson Avenue', 'Wild Adventures', 'Northcutt Stadium', 'North Point', 'St. Simons Island', 'Kelly’s Market', 'West Savannah Street', 'Mt. Zion Road', 'South State Street', 'Pinecrest Drive', 'Cobb Galleria', 'Fair Haven', 'Highway 53', 'Belle Isle', 'Buena Vista', 'Liberty Plaza', 'Oak Drive', 'East 4th Street', 'Gaines Road', 'Mount Pleasant', 'Gordon County Schools', 'West Street', 'Greystone Drive', 'East Tugalo Street', 'North Paulding', 'Saint Louis', 'Jenkins County High School', 'Oregon Park', 'Perimeter Center West', 'Valhalla Stadium', 'Clark Street', 'Habersham Central 21', 'New River', 'Mineral Springs Road', 'the Star Bar', 'the Columbia County Detention Center', 'Seaboard Ind.', 'Truist Park', 'Callaway Stadium', 'City Pond Park', 'the Walker County', 'the Hall County Jail', 'the Talmadge Bridge', 'South Cobbs', 'Butler Avenue', 'Lake Toccoa', 'Marietta Square', 'the GGC Tennis Facility', 'the J.W. Marriott Savannah', 'The City of Pineville', 'Jaycee Stadium', 'Calhoun Square', 'Georgia Highway', 'Manchester Avenue', 'Mountain Views', 'Parkway Trail', 'Center City', 'La Vista', 'Hamilton Road', 'East Forsyths', 'Willow Ridge', 'Morris Street', 'Sky Valley', 'Grayson Stadium', 'Jardine Stadium', 'Valdosta State', 'East Cobb’s', 'Local Church Forsyth', 'Thomasville Heights', 'Logan Farm House', 'Cochran Road', 'Granade Street', 'Peachtree Street NE', 'Middle Georgia’s', 'Fort Gordon', 'Coahulla Creek', 'Brownlee Mountain Road', 'North West', 'Atlanta Rd', 'Riverside Park', 'Georgetown Drive', 'Rainbow Drive', 'Grady Memorial Hospital', 'Lafayette Road', 'Roberts Drive', 'North Academy', 'Access Road', 'Cave Spring', 'Eisenhower Plaza', 'East Second Street', 'Mount Paran North', 'Chastain Rd', 'Arbor Place Mall', 'Presbyterian Village', 'Waters Avenue', 'Davis Street', 'Mount Moriah Road', 'Fairview Avenue', 'Kona Ice', 'west Georgia', 'The Grand Opera House', 'the Columbia County Exhibition Center', 'Franklin Springs', 'Marietta City Hall', 'Redmond Circle', 'Diamond Lakes', 'Johnstonville Road', 'Crown Mountain Place', 'Calhoun City Schools', 'Sea Island', 'Benson Street', 'Victory Home Lane', 'Cotton Hall', 'the Calhoun Rec. Department', 'Wayne County High', 'North DeKalb Stadium', 'Thompson Stadium', 'Lincoln Heights', 'Park Street', 'Northwest Whitfield', 'Northeast Georgia', 'West End', 'Columbus 58th Wettest', 'Westside Road', 'Cateechee Golf Center', 'Chatham County District', 'Ft. Oglethorpe', 'Swainsboro City Cemetery', 'Long Branch', 'Madison Street', 'Saint Mary’s', 'Four Oaks', 'Fayetteville Drive', 'Griffin Memorial Stadium', 'Stone Mountain Park', 'the Polk County Jail', 'the Middle District', 'South Atlanta', 'Big Springs', 'Pleasant Grove', 'Courthouse Square', 'Rose Hill Cemetery', 'Bethany Lilly', 'Al Bishop Drive', 'Buckner Rd', 'Bob Pearson Field', 'Jackson County Jail', 'Myrtle Hill’s', 'Renaissance Park', 'Albany City', 'Eastern Wharf', 'Lamar Murphy Park', 'Oak Hill', 'North Rome', 'Historic District', 'Seaboard Industrial', 'Newcastle Street', 'Dougherty County Jail', 'Kennedy Funeral Homes', 'Edmondson Avenue', 'Cleveland Avenue', 'Langford Parkway', 'Georgia Avenue', 'Center Parc Stadium', 'Naval Submarine Base Kings Bay', 'Memorial Drive', 'Mount Vernon', 'Herb St. John Stadium', 'Bates Road', 'McFarland Avenue', 'Olde Town', 'Adair Park', 'Rountree Stadium', 'the Stimson Center', 'West Ave.', 'Brantley Middle', 'Copper Creek Lane', 'Sunset Hill Cemetery', 'Brook Run Park', 'Oaknoll Memorial Gardens', 'Kennesaw Memorial Park', 'Windy Ridge Road', 'the Economy Inn on Deans Bridge Road', 'The City of Valdosta', 'St. Simon’s', 'Watts Drive', 'Hammond Drive', 'Old Town', 'Middle Atlantic', 'the Gordon County Fire Department Station', 'Holloman Road', 'Duncan Bridge Rd', 'the City of Smyrna', 'Diamond Lakes Park', 'the Lee County Jail', 'Avondale Stadium', 'MacArthur Drive', 'Hillcrest Dr', 'Burn Center', 'Cumberland Island', 'Curtis Parkway', 'Silver Bluff', 'West Forsyth', 'Southern Soul Barbecue', 'Atlanta City Hall', 'Speedway Boulevard', 'Polk County Jail', 'Talmadge Bridge', 'the Hilton Atlanta/Marietta Hotel & Conference Center', 'Grove Level Park', 'Interstate 475', 'Eastview Cemetery', 'Colony Square', 'the Olde Town Pavilion', 'Academy Drive', 'Burnt Hickory Road', 'Cobb Countys', 'Princeton Road', 'The Peach State', 'Woolfork Avenue', 'Shannon Way', 'Lazy River Motocross', 'Central Gwinnett', 'Shorty Howell Park', 'New England', 'the Rose Garden', 'Mount Paran Road', 'Madison Countys', 'Newton Ridge Drive', 'Crestlawn Memorial Park Cemetery', 'Chapel Hill', 'Lula Grocery', 'West Broad', 'Macon State Prison', 'Holly Hill', 'Richmond Hill 28', 'Kennesaw Mountain Park', 'Gainesville’s Memorial Park Cemetery', 'Oak Brook', 'Lake Acworth', 'Trident Training Facility', 'North Broad Street', 'Washington Farms', 'Callaway Middle', 'North Georgia', 'Henderson Park', 'North Gwinnett’s', 'Liberty Avenue', 'North Wildwood', 'New Georgia', 'Glendale Avenue', 'East Forsyth', 'Chattahoochee Hills', 'Chapel Drive', 'Carver Street', 'the Albany Civic Center', 'Eatonton Road', 'Oak Ridge', 'Pine Avenue', 'North Marietta Parkway', 'the Kia Georgia Training Center', 'Kings Island', 'Skidaway Road', 'Lakewood Stadium', 'the Carroll County Jail', 'The Wimberly Center for Community Development', 'Wade Walker Park', 'Tallulah Gorge State Park', 'the Richmond Hill City Center', 'the Georgia State Prison', 'McGregor Street', 'Mountain Valley', 'Muscogee County Sheriff', 'Riverview Park', 'Lenox Square', 'Blue Ridge Drive', 'Atlanta Airport', 'Mooty Bridge Rd', 'Georgia Memorial Park', 'Cedar Valley', 'Habersham Central 0', 'West Laurens', 'PnB Rock', 'the Dalton Convention Center', 'East Atlanta Village', 'Mount Zion United Methodist Church', 'the North Georgia State Fair', 'Bay Street', 'the Saint Andrews', 'Ponce City Market', 'Tiftarea 21', 'Baskin Road', 'the Georgia State Capitol', 'the City of Dahlonega', 'Columbus Avenue', 'Lakeview-Fort Oglethorpe', 'Crawford County', 'Public Safety Drive', 'Lavonia Road', 'South Forsyth’s', 'Mount de Sales', 'the Historic District', 'Marietta 0', 'Chattahoochee Avenue', 'Amberly Drive', 'Southwest Macon', 'Bailey Reidling', 'Evans Memorial Updated', 'West 14th Street', 'Austell Road', 'River Street', 'Lindbergh Center', 'Sandy Springs United Methodist Church Preschool', 'Travelers Rest', 'North Cobb High School', 'Mount Vernon Road', 'Avalon Ridge Place', 'the City of White', 'Calhoun State Prison', 'Brookhaven City Hall', 'Balus Creek Park', 'Rocky Face', 'Cherokee Street', 'the Henry County Kiwanis Fair', 'West Lake Street', 'the City of Winder', 'North Main Street', 'Oglethorpe Road', 'Indian Lake Drive', 'Field Street', 'Hamilton Street', 'the City of Boston', 'East Broad', 'Thomas County Central', 'Church Street', 'Maple Avenue', 'W Athens Street', 'Cobb Parkway N.', 'Turtle Creek Drive', 'the City of Tybee Island', 'Loch Highland Pass', 'Myrtle Street', 'Butler County', 'Bailey Falter', 'Cherokee Avenue', 'McLeod Drive', 'The Talmadge Bridge', 'Carmichael Funeral Home', 'Atlanta Medical Center', 'Southwest Regional Airport', 'Peters Street', 'Hall County Jail', 'East Point’s', 'West Atlanta Street', 'Patterson Street', 'West Point Rd.', 'South Forsyths', 'the Albany Mall', 'Prince Tate', 'North Murray', 'Sandy Creek', 'Mack Tharpe Stadium', 'Franklin County Citize', 'the Georgia Theatre', 'Hickory Hills', 'Red Hill', 'White Hall', 'Colonial Park Cemetery', 'Bailey Avenue', 'the Cumberland Island', 'Lexington Heights', 'Douglas County Jail', 'Oak Hill Drive', 'Shorter Avenue', 'Haralson County High School', 'Cunningham Road', 'the Savannah Civic Center', 'Mineral Bluff', 'the Stephens County Senior Center', 'Hallford Stadium', 'Interstate 520', 'West Highland Street', 'the Washington W. King/College Avenue Bridge', 'Mud Creek Road', 'Lake Marion', 'the Cobb Civic Center', 'the Coca-Cola Roxy', 'Oakland City', 'Hammond Park', 'Piedmont Park', 'Southeast Bulloch', 'Oslo Road', 'Cook County State’s', 'Liberty Road', 'Clay Road', 'Gordy Parkway', 'Hamilton Medical Center', 'a White House', 'Burns Road', 'Corky Kell Stadium', 'El Don', 'West Hill Cemetery', 'Piedmont Henry', 'West Lake', 'Forest Park 10', 'Fairmont State', 'Pine Street', 'Henderson Stadium', 'Agnes Scott', 'Camp Creek Elementary', 'Canton Rd', 'the Gwinnett County Fair', 'W. Sandtown Road', 'Hickory Hills Elementary School PTA', 'Cobb mall', 'North Brown Road Suite', 'ORCHARD PARK', 'the DeSoto Theatre', 'St. Vincent de Paul', 'Piedmont Village', 'the Douglas County Courthouse', 'Sawyer Road Elementary', 'Woodruff Riverfront Park', 'Amerson River Park', 'Marietta High', 'Catoosa Parkway', '46 Plaza Way', 'Cobb Parkway NW', 'Chastain Road', 'the Acree-Davis Funeral Home', 'FORT BENNING', 'South Paulding', 'Fieldale Farms', 'The City of Tempe', 'Peachtree Industrial Boulevard', 'Cheatham Hills Memorial Park', '900 Newnan Road', 'Whitaker Street', 'Clayton City Hall', 'North Heights', '49 Hammond Drive', 'Diver’s Den', 'the Golden Isles Development Authority', 'Monarch Village Way', 'Sims Funeral Home', 'Pine Hills Golf Course', 'Randolph Street', 'New Hope', 'Fields Ferry Golf Club', 'Vidalia 36', 'Midway Road', 'Southern Willow Farms', 'Highway 411', 'Mt. Zion-Carrollton', 'Haralson County Rebels', 'Veterans Memorial Pkwy', 'Giles Road', 'Lee Street', 'Silverton Road', 'Henry Street', 'East-West Connector', 'Lincoln Park', 'Hicks Road', 'Newnan 14', 'Heritage Park', 'Spencer Park', 'Whitesville Rd.', 'West Avenue', 'the St. Simons Casino Theater', 'West Main Street', 'Peachtree Dunwoody Road', 'Cordova Street', 'Atlanta Street', 'Cedar Grove', 'the Hartwell First United Methodist Church', 'Giving Kitchen', 'the Jefferson Civic Center', 'St. Anne-Pacelli', 'Calhoun P.D.', 'Hartley Bridge Road', '1495 Roswell Road', 'Saint Simons Island', 'the Lees Crossing Clubhouse', 'Trickum Road', 'the Russell Union', 'Cedar Crest', 'Calhoun City Park', 'Collins Street', 'Braves Field', 'New Macland Road/Cobb', 'New Holland', 'Rocky Mount', 'Bentley Road', 'Little Cottage Brewery', 'Douglas Medical Center', 'Rabbit Valley Christmas Markets', 'the Gwinnett County Animal Shelter', 'Magnolia Street', 'Monroe Street', 'Shaw Road', 'north metro', 'Green Street', 'West Savannah', 'Gainesville 55', 'East Georgia Regional Airport', 'Briarcliff Road', 'Mount Parans', 'Cloudland Canyon State Park', 'Apple Valley Rd', 'Amicalola Creek', 'Sugarloaf Mill', 'Jackson County High School', 'the Gordon County Campus', 'Fort Valley State University']\n",
            "1368\n",
            "['Pretoria', 'Ashburn', 'Allendale', 'Randall', 'Newborn', 'Cleveland', 'Atkinson', 'Malibu', 'canoe', 'Lagrange', 'Cochran', 'Hephzibah', 'Hartwell', 'Youngstown', 'Beverly', 'Alto', 'Ithaca', 'BOSTON', 'Brighton', 'NAHUNTA', 'Colonnade', 'Altamaha', 'Birdy', 'casa', 'Sherrod', 'Alma', 'Leary', 'Fairburn', 'Horn', 'Winterville', 'BIRMINGHAM', 'Oglethorpe', 'Adel', 'Astoria', 'PROVIDENCE', 'LaFayette', 'Marysville', 'Beach', 'Piedmont', 'Berkmar', 'Menlo', 'Crandall', 'Morgan', 'Omaha', 'Ripley', 'THOMSON', 'Cannon', 'Anguilla', 'Dacula', 'Carmel', 'Jekyll', 'Byron', 'Westchester', 'Plymouth', 'Broncos', 'Adamsville', 'Center', 'Dover', 'Shiloh', 'Browning', 'BOULDER', 'Rochelle', 'DOVER', 'Relay', 'Westside-Macon', 'Ypsilanti', 'Miramar', 'Bowman', 'Budapest', 'Bowdon', 'Westwood', 'Hartley', 'Parkersburg', 'Murphy', 'Hebron', 'Collier', 'Wrens', 'Blackshear', 'Homerville', 'Villanow', 'Kirkland', 'Pitts', 'Nahunta', 'Milan', 'PLAINFIELD', 'Bethesda', 'Drayton', 'Redfield', 'Monticello', 'Burlington', 'Brookfield', 'Potter', 'Grady', 'Pomona', 'William', 'Corinth', 'Bladen', 'Hillsboro', 'Southgate', 'Lilburn', 'Mayfair', 'Harlem', 'Durham', 'Maysville', 'Normandy', 'Reno', 'Bethany', 'Clayton', 'Northwestern', 'Westbrook', 'Cary', 'Caruso', 'N.H.', 'Naylor', 'Haddock', 'NEWARK', 'Marshallville', 'Manassas', 'Rosemont', 'Moca', 'Andalusia', 'Copeland', 'Newark', 'Davisboro', 'Brentwood', 'Morris', 'Patterson', 'Armuchee', 'Murrayville', 'Woodbury', 'Siloam', 'Ringgold', 'Bennington', 'Clinton', 'Brooklet', 'Prescott', 'Bates', 'Montreal', 'Trafford', 'Nelms', 'Rollins', 'Rogers', 'Wellington', 'ARLINGTON', 'Providence', 'Carlton', 'McKinnon', 'Beulah', 'Appling', 'Alamo', 'Rosewood', 'Chastain', 'Sylvania', 'Jersey', 'Milford', 'Phoenix', 'Charles', 'Bartow', 'Rockmart', 'Oxford', 'Bridgeport', 'DeSoto', 'Jarrett', 'Bonaire', 'Colbert', 'Adairsville', 'Blanton', 'Rossville', 'Magnolia', 'Betts', 'Soperton', 'Loganville', 'Shenandoah', 'Linwood', 'Kathleen', 'Hinesville', 'Lewiston', 'Bridgewater', 'Bellevue', 'Kimberly', 'Douglassville', 'Crestview', 'Collinsville', 'BEVERLY', 'Inman', 'Martin', 'Wesleyan', 'Branson', 'Indianola', 'Meridian', 'GROVETOWN', 'Oldtown', 'White', 'Lowery', 'Millwood', 'Aubrey', 'Portland', 'Sandy', 'Lisbon', 'Cordele', 'Lakewood', 'Manheim', 'Hull', 'Woodbine', 'Knoxville', 'Sacketts', 'Bloomingdale', 'LEXINGTON', 'Mershon', 'Mitchell', 'Abbotsford', 'Dutchtown', 'Beaumont', 'Clyattville', 'Chamberlin', 'Moore', 'Pittsburg', 'Centegix', 'Pembroke', 'Whitesville', 'Whitworth', 'Pumpkin', 'Redding', 'Amsterdam', 'ST', 'Coosa', 'Jake', 'Veranda', 'Pittman', 'Fairmount', 'Salem', 'Claxton', 'Westminister', 'Whitewater', 'Alps', 'Maxeys', 'Winnersville', 'Belmont', 'Swainsboro', 'Sanford', 'Leland', 'Bulletin', 'DENVER', 'Leesburg', 'Linden', 'Hazlehurst', 'Madison', 'Suwanee.', 'Merrillville', 'Weatherford', 'Newtown', 'Lewis', 'Guyton', 'BRISTOL', 'GEORGETOWN', 'Bay', 'Reinhardt', 'Rebecca', 'Loving', 'Baxley', 'Rockville', 'Capitol', 'Roscoe', 'Darien', 'Pressley', 'Greensboro', 'Howard', 'Wesley', 'Atwater', 'Register', 'Curtis', 'Redmond', 'Brooks', 'Riverwood', 'Aquinas', 'S.M.', 'Wildwood', 'Meansville', 'Smokey', 'Blakely', 'Folkston', 'Hogansville', 'Matthews', 'Lakemont', 'Chatsworth', 'Lehigh', 'Lavina', 'Chula', 'LEO', 'Baconton', 'Clarksville', 'Morganton', 'Canon', 'N.E.', 'Waynesboro', 'Plainville', 'Reese', 'Marshall', 'Eastman', 'Darlington', 'Montpelier', 'Clarkesville', 'Rutland', 'Warrenton', 'Ludowici', 'Rutledge', 'Minn.', 'Billy', 'Allen', 'Gough', 'Roseville', 'Oakland', 'RINGGOLD', 'Sautee', 'Turnerville', 'Demorest', 'Glennville', 'Morton', 'Plains', 'Brewton', 'Boulder', 'Decatur', 'Ballground', 'Sardis', 'Northview', 'Dawson', 'Waleska', 'Bostwick', 'Berryville', 'Adrian', 'Norwich', 'Fannin', 'Parent', 'Dahlonega', 'Butner', 'Marlborough', 'Nicholasville', 'FORSYTH', 'Skyline', 'Oakville', 'York', 'Woodland', 'Barnesville', 'Pasco', 'Nottingham', 'R-Acworth', 'Montevideo', 'Westlake', 'Etowah', 'Lincolnton', 'Doerun', 'Lithonia', 'Birmingham', 'Ashland', 'Brownlee', 'Broughton', 'Allatoona', 'Nevils', 'Quitman', 'Brooklyn', 'Hoschton', 'Westfield', 'Westover', 'Monterey', 'Levy', 'Oostanaula', 'Chestatee', 'Lumpkin', 'Barretts', 'Newport', 'Rialto', 'Plainfield', 'Hahira', 'Bogart', 'Anna', 'Riceboro', 'Lithuania', 'Bellville', 'Briarwood', 'Cordova', 'Cobbham', 'RICHFIELD', 'Barrington', 'Norris', 'Macedonia', 'Portal', 'Ridgeland', 'Ellaville', 'Hiawassee', 'Maplewood', 'Chickamauga', 'Suwanee', 'Rydal', 'Lyons', 'Pelham', 'Paxton', 'Forsyth', 'Louise', 'Calgary', 'Reece', 'Maynard', 'Pleasant', 'Panhandle', 'R-York', 'Barnes', 'Riverside', 'Richardson', 'Brownsville', 'Roberta', 'Gordon', 'Hawkinsville', 'Flint', 'Weston', 'Trenton', 'Broxton', 'Unionville', 'Yatesville', 'Butler', 'Dawsonville', 'Benton', 'Jenkinsburg', 'BLUFFTON', 'Camelot', 'Boynton', 'Williamsburg', 'Rock', 'Nashville', 'Orange', 'Raymond', 'Norristown', 'PHOENIX', 'Tatemville', 'Hartsfield', 'Boston', 'Bailey', 'Roland', 'Lula', 'Lawton', 'Maddox', 'Dillard', 'Mayfield', 'Chester', 'Southside', 'Pace', 'Bowersville', 'Chattahoochee', 'Owensboro', 'Leefield', 'Glenwood', 'Clarksdale', 'Pineville', 'Lavonia', 'Wiley', 'Phillips', 'NE', 'Woodmont', 'Cottonwood', 'Chicopee', 'Canterfield', 'Bradley', 'Mooney', 'Danielsville', 'Hortense', 'Juliette', 'Midville', 'Brookwood', 'Raleigh', 'Collins', 'LOUISVILLE', 'Clarkston', 'Lowell', 'Oliver', 'Pineland', 'STOCKTON', 'cottonwood', 'Princeton', 'Smithville', 'Lynn', 'Elberton', 'Blairsville', 'Moreland', 'Comer', 'Woodlawn', 'Odessa', 'Berry', 'Norman', 'Victory', 'Clifton', 'R-Minnesota', 'Pearl', 'Roopville', 'Tybee', 'Burnsville', 'Waynesville', 'Aquarium', 'Auburn', 'Cisco', 'Abbeville', 'Clyo', 'Rincon', 'Lexington', 'Lakeland', 'Midway', 'Pitt', 'Metter', 'CLAXTON', 'STATENVILLE', 'Sylvester', 'Fairfield', 'Louisville', 'Marks', 'Carnesville', 'Lafayette', 'Royston', 'Winston', 'Eatonton', 'Lombard', 'Buffalo', 'NORMAN', 'Lakeview', 'Tibet', 'Lester', 'Carbondale', 'Colquitt', 'Wrightsville', 'Crawfordville', 'DECATUR', 'Bullard', 'Stephens', 'Middleton', 'Haralson', 'Southlake', 'Bermuda', 'Rentz', 'Bristol', 'Dubois', 'Molena', 'Wheeler', 'Carvana', 'NASHVILLE', 'Braxton', 'Pearson', 'Pruitt', 'Whitesburg', 'Pebblebrook', 'Thurman', 'Normaltown', 'APPLING', 'Bucktown', 'Bryant', 'Gillsville', 'Westside', 'Cedartown', 'Millard', 'Grovetown', 'Windsor', 'Flovilla', 'R-Dahlonega', 'Ellijay', 'Franklin', 'Millen', 'Donalsonville']\n",
            "562\n"
          ]
        }
      ]
    },
    {
      "cell_type": "code",
      "source": [
        "\n",
        "import numpy as np\n",
        "\n",
        "df['place_ng1'] = df['article_final'].astype(str).apply(lambda x: set.intersection(set(x.split(' ')), word_unigrams_done))\n",
        "df['place_ng2'] = df['article_final'].astype(str).apply(lambda x: [i for i in word_bigrams_done if i in x])\n"
      ],
      "metadata": {
        "id": "NuLnSpGCgXyr"
      },
      "execution_count": null,
      "outputs": []
    },
    {
      "cell_type": "code",
      "source": [
        "df_uni = df[(df['place_ng1'].str.len()) >= 1]\n",
        "df_bi = df[(df['place_ng2'].str.len()) >= 1]\n",
        "\n",
        "df_uni = df_uni[['id', 'source', 'place_ng1']]\n",
        "df_bi = df_bi[['id', 'source', 'place_ng2']]\n",
        "\n",
        "df_uni_df = df_uni.explode('place_ng1')\n",
        "df_bi_df = df_bi.explode('place_ng2')\n",
        "\n",
        "df_uni_df = df_uni_df.rename(columns={'place_ng1': 'place_ner'})\n",
        "df_bi_df = df_bi_df.rename(columns={'place_ng2': 'place_ner'})\n"
      ],
      "metadata": {
        "id": "83NMMSwcggCD"
      },
      "execution_count": null,
      "outputs": []
    },
    {
      "cell_type": "code",
      "source": [
        "df_ng_all = pd.concat([df_uni_df, df_bi_df])"
      ],
      "metadata": {
        "id": "FbOHNB_whKXX"
      },
      "execution_count": null,
      "outputs": []
    },
    {
      "cell_type": "code",
      "source": [
        "count = df_ng_all.groupby(['source']).count()"
      ],
      "metadata": {
        "id": "xDdANgf1hdTH"
      },
      "execution_count": null,
      "outputs": []
    },
    {
      "cell_type": "code",
      "source": [
        "count_20 = count[count['place_ner'] >= 20].reset_index()"
      ],
      "metadata": {
        "id": "tHu85ziIhfyT"
      },
      "execution_count": null,
      "outputs": []
    },
    {
      "cell_type": "code",
      "source": [
        "count_20_id = list(set(count_20['source'].tolist()))\n",
        "\n",
        "df_ng_all_m20 = df_ng_all[df_ng_all['source'].isin(count_20_id)]\n"
      ],
      "metadata": {
        "id": "IvB7I52rhsHg"
      },
      "execution_count": null,
      "outputs": []
    },
    {
      "cell_type": "code",
      "source": [
        "len(count_20_id)"
      ],
      "metadata": {
        "colab": {
          "base_uri": "https://localhost:8080/"
        },
        "id": "1awRlpXFkXzD",
        "outputId": "86e89712-e6a1-4a37-ffee-7fe0e33e796a"
      },
      "execution_count": null,
      "outputs": [
        {
          "output_type": "execute_result",
          "data": {
            "text/plain": [
              "198"
            ]
          },
          "metadata": {},
          "execution_count": 48
        }
      ]
    },
    {
      "cell_type": "code",
      "source": [
        "location_final_st = location_final_st.rename(columns={'ner_place_clean': 'place_ner'})\n"
      ],
      "metadata": {
        "id": "imJj-NCGkOZz"
      },
      "execution_count": null,
      "outputs": []
    },
    {
      "cell_type": "code",
      "source": [
        "df_ng_all_m20_county = pd.merge(df_ng_all_m20, location_final_st, how='left', on='place_ner')"
      ],
      "metadata": {
        "id": "Ry1nnH47h1h4"
      },
      "execution_count": null,
      "outputs": []
    },
    {
      "cell_type": "code",
      "source": [
        "df_ng_all_m20_county"
      ],
      "metadata": {
        "colab": {
          "base_uri": "https://localhost:8080/",
          "height": 424
        },
        "id": "qiK6jMxOjoGi",
        "outputId": "3c45de5f-712c-4f2e-db28-ecfd163fefda"
      },
      "execution_count": null,
      "outputs": [
        {
          "output_type": "execute_result",
          "data": {
            "text/plain": [
              "            id             source             place_ner      county_level  \\\n",
              "0            3  Metter Advertiser               Charles     Toombs County   \n",
              "1            3  Metter Advertiser              Franklin      Heard County   \n",
              "2            3  Metter Advertiser                Metter    Candler County   \n",
              "3            3  Metter Advertiser               William    Chatham County   \n",
              "4            3  Metter Advertiser                Murphy   Colquitt County   \n",
              "...        ...                ...                   ...               ...   \n",
              "194285  191910   WALB TV 10 (NBC)     Osprey Cove Drive   Muscogee County   \n",
              "194286  191944   WALB TV 10 (NBC)  Magnolia Drive North  Effingham County   \n",
              "194287  191955   WALB TV 10 (NBC)           Pine Street     Fulton County   \n",
              "194288  191985   WALB TV 10 (NBC)           Wake County     Walker County   \n",
              "194289  192159   WALB TV 10 (NBC)         North Academy     Turner County   \n",
              "\n",
              "        final_selection  \n",
              "0                     1  \n",
              "1                     1  \n",
              "2                     1  \n",
              "3                     1  \n",
              "4                     1  \n",
              "...                 ...  \n",
              "194285                1  \n",
              "194286                1  \n",
              "194287                1  \n",
              "194288                1  \n",
              "194289                1  \n",
              "\n",
              "[194290 rows x 5 columns]"
            ],
            "text/html": [
              "\n",
              "  <div id=\"df-5e725cd4-583b-4cec-ab37-36cb4fcdd812\">\n",
              "    <div class=\"colab-df-container\">\n",
              "      <div>\n",
              "<style scoped>\n",
              "    .dataframe tbody tr th:only-of-type {\n",
              "        vertical-align: middle;\n",
              "    }\n",
              "\n",
              "    .dataframe tbody tr th {\n",
              "        vertical-align: top;\n",
              "    }\n",
              "\n",
              "    .dataframe thead th {\n",
              "        text-align: right;\n",
              "    }\n",
              "</style>\n",
              "<table border=\"1\" class=\"dataframe\">\n",
              "  <thead>\n",
              "    <tr style=\"text-align: right;\">\n",
              "      <th></th>\n",
              "      <th>id</th>\n",
              "      <th>source</th>\n",
              "      <th>place_ner</th>\n",
              "      <th>county_level</th>\n",
              "      <th>final_selection</th>\n",
              "    </tr>\n",
              "  </thead>\n",
              "  <tbody>\n",
              "    <tr>\n",
              "      <th>0</th>\n",
              "      <td>3</td>\n",
              "      <td>Metter Advertiser</td>\n",
              "      <td>Charles</td>\n",
              "      <td>Toombs County</td>\n",
              "      <td>1</td>\n",
              "    </tr>\n",
              "    <tr>\n",
              "      <th>1</th>\n",
              "      <td>3</td>\n",
              "      <td>Metter Advertiser</td>\n",
              "      <td>Franklin</td>\n",
              "      <td>Heard County</td>\n",
              "      <td>1</td>\n",
              "    </tr>\n",
              "    <tr>\n",
              "      <th>2</th>\n",
              "      <td>3</td>\n",
              "      <td>Metter Advertiser</td>\n",
              "      <td>Metter</td>\n",
              "      <td>Candler County</td>\n",
              "      <td>1</td>\n",
              "    </tr>\n",
              "    <tr>\n",
              "      <th>3</th>\n",
              "      <td>3</td>\n",
              "      <td>Metter Advertiser</td>\n",
              "      <td>William</td>\n",
              "      <td>Chatham County</td>\n",
              "      <td>1</td>\n",
              "    </tr>\n",
              "    <tr>\n",
              "      <th>4</th>\n",
              "      <td>3</td>\n",
              "      <td>Metter Advertiser</td>\n",
              "      <td>Murphy</td>\n",
              "      <td>Colquitt County</td>\n",
              "      <td>1</td>\n",
              "    </tr>\n",
              "    <tr>\n",
              "      <th>...</th>\n",
              "      <td>...</td>\n",
              "      <td>...</td>\n",
              "      <td>...</td>\n",
              "      <td>...</td>\n",
              "      <td>...</td>\n",
              "    </tr>\n",
              "    <tr>\n",
              "      <th>194285</th>\n",
              "      <td>191910</td>\n",
              "      <td>WALB TV 10 (NBC)</td>\n",
              "      <td>Osprey Cove Drive</td>\n",
              "      <td>Muscogee County</td>\n",
              "      <td>1</td>\n",
              "    </tr>\n",
              "    <tr>\n",
              "      <th>194286</th>\n",
              "      <td>191944</td>\n",
              "      <td>WALB TV 10 (NBC)</td>\n",
              "      <td>Magnolia Drive North</td>\n",
              "      <td>Effingham County</td>\n",
              "      <td>1</td>\n",
              "    </tr>\n",
              "    <tr>\n",
              "      <th>194287</th>\n",
              "      <td>191955</td>\n",
              "      <td>WALB TV 10 (NBC)</td>\n",
              "      <td>Pine Street</td>\n",
              "      <td>Fulton County</td>\n",
              "      <td>1</td>\n",
              "    </tr>\n",
              "    <tr>\n",
              "      <th>194288</th>\n",
              "      <td>191985</td>\n",
              "      <td>WALB TV 10 (NBC)</td>\n",
              "      <td>Wake County</td>\n",
              "      <td>Walker County</td>\n",
              "      <td>1</td>\n",
              "    </tr>\n",
              "    <tr>\n",
              "      <th>194289</th>\n",
              "      <td>192159</td>\n",
              "      <td>WALB TV 10 (NBC)</td>\n",
              "      <td>North Academy</td>\n",
              "      <td>Turner County</td>\n",
              "      <td>1</td>\n",
              "    </tr>\n",
              "  </tbody>\n",
              "</table>\n",
              "<p>194290 rows × 5 columns</p>\n",
              "</div>\n",
              "      <button class=\"colab-df-convert\" onclick=\"convertToInteractive('df-5e725cd4-583b-4cec-ab37-36cb4fcdd812')\"\n",
              "              title=\"Convert this dataframe to an interactive table.\"\n",
              "              style=\"display:none;\">\n",
              "        \n",
              "  <svg xmlns=\"http://www.w3.org/2000/svg\" height=\"24px\"viewBox=\"0 0 24 24\"\n",
              "       width=\"24px\">\n",
              "    <path d=\"M0 0h24v24H0V0z\" fill=\"none\"/>\n",
              "    <path d=\"M18.56 5.44l.94 2.06.94-2.06 2.06-.94-2.06-.94-.94-2.06-.94 2.06-2.06.94zm-11 1L8.5 8.5l.94-2.06 2.06-.94-2.06-.94L8.5 2.5l-.94 2.06-2.06.94zm10 10l.94 2.06.94-2.06 2.06-.94-2.06-.94-.94-2.06-.94 2.06-2.06.94z\"/><path d=\"M17.41 7.96l-1.37-1.37c-.4-.4-.92-.59-1.43-.59-.52 0-1.04.2-1.43.59L10.3 9.45l-7.72 7.72c-.78.78-.78 2.05 0 2.83L4 21.41c.39.39.9.59 1.41.59.51 0 1.02-.2 1.41-.59l7.78-7.78 2.81-2.81c.8-.78.8-2.07 0-2.86zM5.41 20L4 18.59l7.72-7.72 1.47 1.35L5.41 20z\"/>\n",
              "  </svg>\n",
              "      </button>\n",
              "      \n",
              "  <style>\n",
              "    .colab-df-container {\n",
              "      display:flex;\n",
              "      flex-wrap:wrap;\n",
              "      gap: 12px;\n",
              "    }\n",
              "\n",
              "    .colab-df-convert {\n",
              "      background-color: #E8F0FE;\n",
              "      border: none;\n",
              "      border-radius: 50%;\n",
              "      cursor: pointer;\n",
              "      display: none;\n",
              "      fill: #1967D2;\n",
              "      height: 32px;\n",
              "      padding: 0 0 0 0;\n",
              "      width: 32px;\n",
              "    }\n",
              "\n",
              "    .colab-df-convert:hover {\n",
              "      background-color: #E2EBFA;\n",
              "      box-shadow: 0px 1px 2px rgba(60, 64, 67, 0.3), 0px 1px 3px 1px rgba(60, 64, 67, 0.15);\n",
              "      fill: #174EA6;\n",
              "    }\n",
              "\n",
              "    [theme=dark] .colab-df-convert {\n",
              "      background-color: #3B4455;\n",
              "      fill: #D2E3FC;\n",
              "    }\n",
              "\n",
              "    [theme=dark] .colab-df-convert:hover {\n",
              "      background-color: #434B5C;\n",
              "      box-shadow: 0px 1px 3px 1px rgba(0, 0, 0, 0.15);\n",
              "      filter: drop-shadow(0px 1px 2px rgba(0, 0, 0, 0.3));\n",
              "      fill: #FFFFFF;\n",
              "    }\n",
              "  </style>\n",
              "\n",
              "      <script>\n",
              "        const buttonEl =\n",
              "          document.querySelector('#df-5e725cd4-583b-4cec-ab37-36cb4fcdd812 button.colab-df-convert');\n",
              "        buttonEl.style.display =\n",
              "          google.colab.kernel.accessAllowed ? 'block' : 'none';\n",
              "\n",
              "        async function convertToInteractive(key) {\n",
              "          const element = document.querySelector('#df-5e725cd4-583b-4cec-ab37-36cb4fcdd812');\n",
              "          const dataTable =\n",
              "            await google.colab.kernel.invokeFunction('convertToInteractive',\n",
              "                                                     [key], {});\n",
              "          if (!dataTable) return;\n",
              "\n",
              "          const docLinkHtml = 'Like what you see? Visit the ' +\n",
              "            '<a target=\"_blank\" href=https://colab.research.google.com/notebooks/data_table.ipynb>data table notebook</a>'\n",
              "            + ' to learn more about interactive tables.';\n",
              "          element.innerHTML = '';\n",
              "          dataTable['output_type'] = 'display_data';\n",
              "          await google.colab.output.renderOutput(dataTable, element);\n",
              "          const docLink = document.createElement('div');\n",
              "          docLink.innerHTML = docLinkHtml;\n",
              "          element.appendChild(docLink);\n",
              "        }\n",
              "      </script>\n",
              "    </div>\n",
              "  </div>\n",
              "  "
            ]
          },
          "metadata": {},
          "execution_count": 52
        }
      ]
    },
    {
      "cell_type": "code",
      "source": [
        "df_ng_all_m20_county_unique = df_ng_all_m20_county.drop_duplicates(subset=['id', 'source', 'county_level'])"
      ],
      "metadata": {
        "id": "qeTXN7_YkrEM"
      },
      "execution_count": null,
      "outputs": []
    },
    {
      "cell_type": "code",
      "source": [
        "df_ng_all_m20_county_unique_count = df_ng_all_m20_county_unique.groupby(['source','county_level'])['id'].count().reset_index()"
      ],
      "metadata": {
        "id": "RC6nhVn2lbLm"
      },
      "execution_count": null,
      "outputs": []
    },
    {
      "cell_type": "code",
      "source": [
        "df_ng_all_m20_county_unique_count = df_ng_all_m20_county_unique_count.rename(columns={'id': 'article_id_count'})\n"
      ],
      "metadata": {
        "id": "yfmDfAVDfV6H"
      },
      "execution_count": null,
      "outputs": []
    },
    {
      "cell_type": "code",
      "source": [
        "df_ng_all_m20_county_unique_count.to_excel('Georgia_m20_county_unique_count_v2.xlsx')"
      ],
      "metadata": {
        "id": "ZyOM2c0klvSB"
      },
      "execution_count": null,
      "outputs": []
    }
  ]
}