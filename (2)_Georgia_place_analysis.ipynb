{
  "nbformat": 4,
  "nbformat_minor": 0,
  "metadata": {
    "colab": {
      "provenance": [],
      "machine_shape": "hm",
      "collapsed_sections": [
        "JgTpKxDx-YMU",
        "R2H0iUp_X1Hh"
      ],
      "include_colab_link": true
    },
    "kernelspec": {
      "name": "python3",
      "display_name": "Python 3"
    },
    "language_info": {
      "name": "python"
    },
    "gpuClass": "standard"
  },
  "cells": [
    {
      "cell_type": "markdown",
      "metadata": {
        "id": "view-in-github",
        "colab_type": "text"
      },
      "source": [
        "<a href=\"https://colab.research.google.com/github/ykim71/georgia_analysis/blob/main/(2)_Georgia_place_analysis.ipynb\" target=\"_parent\"><img src=\"https://colab.research.google.com/assets/colab-badge.svg\" alt=\"Open In Colab\"/></a>"
      ]
    },
    {
      "cell_type": "code",
      "execution_count": null,
      "metadata": {
        "id": "e7PpN2VVxH5c",
        "colab": {
          "base_uri": "https://localhost:8080/"
        },
        "outputId": "f28c0346-17ab-4424-abca-84544be56e7f"
      },
      "outputs": [
        {
          "output_type": "stream",
          "name": "stdout",
          "text": [
            "Mounted at /content/drive\n"
          ]
        }
      ],
      "source": [
        "from google.colab import drive\n",
        "drive.mount('/content/drive')"
      ]
    },
    {
      "cell_type": "code",
      "source": [
        "# need access to the folder(s) below:\n",
        "\n",
        "#%cd /content/drive/MyDrive/Georgia/\n"
      ],
      "metadata": {
        "id": "aPvEBRBtxzje",
        "colab": {
          "base_uri": "https://localhost:8080/"
        },
        "outputId": "ae273421-18f5-44ab-fb44-8797ca3ade05"
      },
      "execution_count": null,
      "outputs": [
        {
          "output_type": "stream",
          "name": "stdout",
          "text": [
            "/content/drive/.shortcut-targets-by-id/1YSQ9BBnwwRu7fyeM_9V6eoFgKQBPl4Rr/Georgia/Locations Analysis\n"
          ]
        }
      ]
    },
    {
      "cell_type": "markdown",
      "source": [
        "# Location analysis"
      ],
      "metadata": {
        "id": "5yLkNpuLL3Sr"
      }
    },
    {
      "cell_type": "markdown",
      "source": [
        "## Prep for place analysis"
      ],
      "metadata": {
        "id": "JgTpKxDx-YMU"
      }
    },
    {
      "cell_type": "code",
      "source": [
        "%cd /content/drive/MyDrive/Georgia/Locations Analysis"
      ],
      "metadata": {
        "id": "PFZz3K7xSlBq",
        "colab": {
          "base_uri": "https://localhost:8080/"
        },
        "outputId": "13f9d3bb-122a-4587-f175-7ebf4593d183"
      },
      "execution_count": null,
      "outputs": [
        {
          "output_type": "stream",
          "name": "stdout",
          "text": [
            "/content/drive/.shortcut-targets-by-id/1YSQ9BBnwwRu7fyeM_9V6eoFgKQBPl4Rr/Georgia/Locations Analysis\n"
          ]
        }
      ]
    },
    {
      "cell_type": "code",
      "source": [
        "import pandas as pd\n",
        "\n",
        "df = pd.read_pickle('/content/drive/MyDrive/Georgia/Web Scraping/Georgia_data_v2_translation_ner2_lem.pkl')\n"
      ],
      "metadata": {
        "id": "7WKF8OS4RkoU"
      },
      "execution_count": null,
      "outputs": []
    },
    {
      "cell_type": "code",
      "source": [
        "df_temp = df.sample(10)"
      ],
      "metadata": {
        "id": "bZAcRbtWFkjf"
      },
      "execution_count": null,
      "outputs": []
    },
    {
      "cell_type": "code",
      "source": [
        "# lemmatization if needed\n",
        "import spacy\n",
        "from spacy import displacy\n",
        "\n",
        "sp = spacy.load('en_core_web_sm', disable=[\"tok2vec\", \"tagger\", \"parser\", \"attribute_ruler\", \"lemmatizer\"])\n"
      ],
      "metadata": {
        "id": "Leu0aduT9jp5"
      },
      "execution_count": null,
      "outputs": []
    },
    {
      "cell_type": "code",
      "source": [
        "\n",
        "def text_ner_place(text):\n",
        "  text = sp(text)\n",
        "  \n",
        "  ner_list = []\n",
        "  \n",
        "  for entity in text.ents:\n",
        "    if entity.label_ == \"FAC\":\n",
        "      ner_list.append(entity.text + \" (\" + entity.label_ + \")\")\n",
        "    if entity.label_ == \"GPE\":\n",
        "      ner_list.append(entity.text + \" (\" + entity.label_ + \")\")\n",
        "    if entity.label_ == \"LOC\":\n",
        "      ner_list.append(entity.text + \" (\" + entity.label_ + \")\")\n",
        "    else:\n",
        "      None\n",
        "  return set(ner_list)\n"
      ],
      "metadata": {
        "id": "r2S86oeO-Pqd"
      },
      "execution_count": null,
      "outputs": []
    },
    {
      "cell_type": "code",
      "source": [
        "\n",
        "def text_ner_place2(text):\n",
        "  text = sp(text)\n",
        "  \n",
        "  ner_list = []\n",
        "  \n",
        "  for entity in text.ents:\n",
        "    if (entity.label_ == \"FAC\") or  (entity.label_ == \"GPE\") or (entity.label_ == \"LOC\") or (entity.label_ == \"ORG\") :\n",
        "      ner_list.append(entity.text + \" (\" + entity.label_ + \")\")\n",
        "    else:\n",
        "      None\n",
        "  return set(ner_list)\n"
      ],
      "metadata": {
        "id": "K778xB3bD2O_"
      },
      "execution_count": null,
      "outputs": []
    },
    {
      "cell_type": "code",
      "source": [
        "\n",
        "def text_ner_person(text):\n",
        "  text = sp(text)\n",
        "  \n",
        "  ner_list = []\n",
        "  \n",
        "  for entity in text.ents:\n",
        "    if (entity.label_ == \"PERSON\") :\n",
        "      ner_list.append(entity.text + \" (\" + entity.label_ + \")\")\n",
        "    else:\n",
        "      None\n",
        "  return set(ner_list)\n"
      ],
      "metadata": {
        "id": "Mt5v5_TBdKSF"
      },
      "execution_count": null,
      "outputs": []
    },
    {
      "cell_type": "code",
      "source": [
        "\n",
        "def text_ner_all(text):\n",
        "  text = sp(text)\n",
        "  \n",
        "  ner_list = []\n",
        "  \n",
        "  for entity in text.ents:\n",
        "      ner_list.append(entity.text + \" (\" + entity.label_ + \")\")\n",
        "  return set(ner_list)\n"
      ],
      "metadata": {
        "id": "NMblGYHizeSY"
      },
      "execution_count": null,
      "outputs": []
    },
    {
      "cell_type": "code",
      "source": [
        "df['ner_places'] = df['article_final'].astype(str).apply(text_ner_place)"
      ],
      "metadata": {
        "id": "ydmHijaN-WNn"
      },
      "execution_count": null,
      "outputs": []
    },
    {
      "cell_type": "code",
      "source": [
        "df['ner_places_orgs'] = df['article_final'].astype(str).apply(text_ner_place2)"
      ],
      "metadata": {
        "id": "TEQrfD6LR6Zh"
      },
      "execution_count": null,
      "outputs": []
    },
    {
      "cell_type": "code",
      "source": [
        "df['ner_person'] = df['article_final'].astype(str).apply(text_ner_person)"
      ],
      "metadata": {
        "id": "AYcGyf32dHS-"
      },
      "execution_count": null,
      "outputs": []
    },
    {
      "cell_type": "code",
      "source": [
        "df.to_pickle('/content/drive/MyDrive/Georgia/Web Scraping/Georgia_data_v2_translation_ner3_lem.pkl') # commented this line to prevent from saving it"
      ],
      "metadata": {
        "id": "lKyUNAawaALt"
      },
      "execution_count": null,
      "outputs": []
    },
    {
      "cell_type": "markdown",
      "source": [
        "## Find rough location from spaCy"
      ],
      "metadata": {
        "id": "R2H0iUp_X1Hh"
      }
    },
    {
      "cell_type": "code",
      "source": [
        "import pandas as pd\n",
        "\n",
        "df = pd.read_pickle('/content/drive/MyDrive/Georgia/Web Scraping/Georgia_data_v2_translation_ner2_lem.pkl')\n"
      ],
      "metadata": {
        "id": "vh4PyWlOX0Wq"
      },
      "execution_count": null,
      "outputs": []
    },
    {
      "cell_type": "code",
      "source": [
        "df_ner = df.loc[df['ner_places'] != 'set()']"
      ],
      "metadata": {
        "id": "yy41J8P9PlYN"
      },
      "execution_count": null,
      "outputs": []
    },
    {
      "cell_type": "code",
      "source": [
        "print(len(df))\n",
        "print(len(df_ner))"
      ],
      "metadata": {
        "colab": {
          "base_uri": "https://localhost:8080/"
        },
        "id": "Uj_17ZSjQeRP",
        "outputId": "90d6de0e-1585-4cb6-f957-c0fbb573c2be"
      },
      "execution_count": null,
      "outputs": [
        {
          "output_type": "stream",
          "name": "stdout",
          "text": [
            "192206\n",
            "144929\n"
          ]
        }
      ]
    },
    {
      "cell_type": "code",
      "source": [
        "df_expand = df_ner['ner_places'].str.split(',').explode().str.strip('{} ')\n"
      ],
      "metadata": {
        "id": "ucqy79j7QbkQ"
      },
      "execution_count": null,
      "outputs": []
    },
    {
      "cell_type": "code",
      "source": [
        "df_expand = pd.DataFrame(df_expand)\n"
      ],
      "metadata": {
        "id": "pLmMPrC4Qo0n"
      },
      "execution_count": null,
      "outputs": []
    },
    {
      "cell_type": "code",
      "source": [
        "df_expand['ner_places_clean'] = df_expand['ner_places'].str.replace(r\"\\'\",\"\")\n",
        "df_expand['ner_places_clean'] = df_expand['ner_places_clean'].str.replace(r\" \\\"\",\"\")\n",
        "df_expand['ner_places_clean'] = df_expand['ner_places_clean'].str.replace(r\"\\\"\",\"\")\n",
        "df_expand['ner_places_clean'] = df_expand['ner_places_clean'].str.replace(r\"\\(.*\\)\",\"\")"
      ],
      "metadata": {
        "colab": {
          "base_uri": "https://localhost:8080/"
        },
        "id": "NPh4arGwQqEg",
        "outputId": "f395a42c-aa77-4c8e-8e66-e280f33e7239"
      },
      "execution_count": null,
      "outputs": [
        {
          "output_type": "stream",
          "name": "stderr",
          "text": [
            "<ipython-input-8-03789092516e>:1: FutureWarning: The default value of regex will change from True to False in a future version.\n",
            "  df_expand['ner_places_clean'] = df_expand['ner_places'].str.replace(r\"\\'\",\"\")\n",
            "<ipython-input-8-03789092516e>:2: FutureWarning: The default value of regex will change from True to False in a future version.\n",
            "  df_expand['ner_places_clean'] = df_expand['ner_places_clean'].str.replace(r\" \\\"\",\"\")\n",
            "<ipython-input-8-03789092516e>:3: FutureWarning: The default value of regex will change from True to False in a future version.\n",
            "  df_expand['ner_places_clean'] = df_expand['ner_places_clean'].str.replace(r\"\\\"\",\"\")\n",
            "<ipython-input-8-03789092516e>:4: FutureWarning: The default value of regex will change from True to False in a future version.\n",
            "  df_expand['ner_places_clean'] = df_expand['ner_places_clean'].str.replace(r\"\\(.*\\)\",\"\")\n"
          ]
        }
      ]
    },
    {
      "cell_type": "code",
      "source": [
        "df_expand_count = df_expand.groupby('ner_places_clean').count().reset_index()"
      ],
      "metadata": {
        "id": "40t2DcFSRamc"
      },
      "execution_count": null,
      "outputs": []
    },
    {
      "cell_type": "code",
      "source": [
        "df_freq_n5 = df_expand_count[df_expand_count[\"ner_places\"] >= 5]\n",
        "df_freq_n5.to_excel('df_freq_n5_ner_v2.xlsx')"
      ],
      "metadata": {
        "id": "fdLEo3K0Rt71"
      },
      "execution_count": null,
      "outputs": []
    },
    {
      "cell_type": "code",
      "source": [
        "# # compare place entities with v1\n",
        "\n",
        "# df_freq_n5_v2 = pd.read_excel('df_freq_n5_ner_v2.xlsx')\n",
        "# df_freq_n5_v1 = pd.read_excel('df_freq_n5_ner.xlsx')\n",
        "\n",
        "# df_freq_n5_v1['version'] = 'v1'\n",
        "# df_freq_n5_v2['version'] = 'v2'\n",
        "\n",
        "# df_freq_n5_merge = pd.merge( df_freq_n5_v1,df_freq_n5_v2, how=\"outer\", on=[\"ner_places_clean\"])"
      ],
      "metadata": {
        "id": "TG-YAtO6xsDf"
      },
      "execution_count": null,
      "outputs": []
    },
    {
      "cell_type": "code",
      "source": [
        "%cd /content/drive/MyDrive/Georgia/Locations Analysis/Validation_test"
      ],
      "metadata": {
        "colab": {
          "base_uri": "https://localhost:8080/"
        },
        "id": "h8y-v--yUimk",
        "outputId": "3a53c364-5686-40a1-d8d1-5c35eec14054"
      },
      "execution_count": null,
      "outputs": [
        {
          "output_type": "stream",
          "name": "stdout",
          "text": [
            "/content/drive/.shortcut-targets-by-id/1YSQ9BBnwwRu7fyeM_9V6eoFgKQBPl4Rr/Georgia/Locations Analysis/Validation_test\n"
          ]
        }
      ]
    },
    {
      "cell_type": "code",
      "source": [
        "import pandas as pd\n",
        "\n",
        "df = pd.read_pickle('/content/drive/MyDrive/Georgia/Web Scraping/Georgia_data_v2_translation_ner3_lem.pkl')\n"
      ],
      "metadata": {
        "id": "pvAaier1QK10"
      },
      "execution_count": null,
      "outputs": []
    },
    {
      "cell_type": "code",
      "source": [
        "df_ner_place_org = df.loc[df['ner_places_orgs'] != 'set()']\n",
        "df_ner_person = df.loc[df['ner_person'] != 'set()']"
      ],
      "metadata": {
        "id": "Rx7fED4yQRp0"
      },
      "execution_count": null,
      "outputs": []
    },
    {
      "cell_type": "code",
      "source": [
        "df_ner_place_org_expand = df_ner_place_org['ner_places_orgs'].explode()\n",
        "df_ner_person_expand = df_ner_person['ner_person'].explode()\n"
      ],
      "metadata": {
        "id": "Jbs6K79VQRI6"
      },
      "execution_count": null,
      "outputs": []
    },
    {
      "cell_type": "code",
      "source": [
        "df_ner_place_org_expand = pd.DataFrame(df_ner_place_org_expand)\n",
        "df_ner_person_expand = pd.DataFrame(df_ner_person_expand)\n"
      ],
      "metadata": {
        "id": "QzegpIqlSIyX"
      },
      "execution_count": null,
      "outputs": []
    },
    {
      "cell_type": "code",
      "source": [
        "df_ner_place_org_expand['ner_clean'] = df_ner_place_org_expand['ner_places_orgs'].str.replace(r\" \\(.*\\)\",\"\")\n",
        "df_ner_person_expand['ner_clean'] = df_ner_person_expand['ner_person'].str.replace(r\" \\(.*\\)\",\"\")"
      ],
      "metadata": {
        "colab": {
          "base_uri": "https://localhost:8080/"
        },
        "id": "gouBK22BSZ-3",
        "outputId": "a603072b-8927-41f1-f831-e1241709a282"
      },
      "execution_count": null,
      "outputs": [
        {
          "output_type": "stream",
          "name": "stderr",
          "text": [
            "<ipython-input-17-f99989c57b0f>:1: FutureWarning: The default value of regex will change from True to False in a future version.\n",
            "  df_ner_place_org_expand['ner_clean'] = df_ner_place_org_expand['ner_places_orgs'].str.replace(r\" \\(.*\\)\",\"\")\n",
            "<ipython-input-17-f99989c57b0f>:2: FutureWarning: The default value of regex will change from True to False in a future version.\n",
            "  df_ner_person_expand['ner_clean'] = df_ner_person_expand['ner_person'].str.replace(r\" \\(.*\\)\",\"\")\n"
          ]
        }
      ]
    },
    {
      "cell_type": "code",
      "source": [
        "df_ner_place_org_expand = df_ner_place_org_expand.dropna()\n",
        "df_ner_person_expand = df_ner_person_expand.dropna()"
      ],
      "metadata": {
        "id": "Xlcly82WSuVA"
      },
      "execution_count": null,
      "outputs": []
    },
    {
      "cell_type": "code",
      "source": [
        "df_ner_place_org_expand['ner_clean'] = df_ner_place_org_expand['ner_clean'].str.strip()\n",
        "df_ner_person_expand['ner_clean'] = df_ner_person_expand['ner_clean'].str.strip()"
      ],
      "metadata": {
        "colab": {
          "base_uri": "https://localhost:8080/"
        },
        "id": "d-wcfgc9X3sm",
        "outputId": "6d13719e-b303-4672-d5eb-f881b79d6cf2"
      },
      "execution_count": null,
      "outputs": [
        {
          "output_type": "stream",
          "name": "stderr",
          "text": [
            "<ipython-input-42-7804014b2939>:1: SettingWithCopyWarning: \n",
            "A value is trying to be set on a copy of a slice from a DataFrame.\n",
            "Try using .loc[row_indexer,col_indexer] = value instead\n",
            "\n",
            "See the caveats in the documentation: https://pandas.pydata.org/pandas-docs/stable/user_guide/indexing.html#returning-a-view-versus-a-copy\n",
            "  df_ner_place_org_expand['ner_clean'] = df_ner_place_org_expand['ner_clean'].str.strip()\n",
            "<ipython-input-42-7804014b2939>:2: SettingWithCopyWarning: \n",
            "A value is trying to be set on a copy of a slice from a DataFrame.\n",
            "Try using .loc[row_indexer,col_indexer] = value instead\n",
            "\n",
            "See the caveats in the documentation: https://pandas.pydata.org/pandas-docs/stable/user_guide/indexing.html#returning-a-view-versus-a-copy\n",
            "  df_ner_person_expand['ner_clean'] = df_ner_person_expand['ner_clean'].str.strip()\n"
          ]
        }
      ]
    },
    {
      "cell_type": "code",
      "source": [
        "df_ner_person_expand"
      ],
      "metadata": {
        "colab": {
          "base_uri": "https://localhost:8080/",
          "height": 424
        },
        "id": "XSKPRkOcX5mD",
        "outputId": "40de9360-8528-40f2-e395-58f3f3e36dce"
      },
      "execution_count": null,
      "outputs": [
        {
          "output_type": "execute_result",
          "data": {
            "text/plain": [
              "                        ner_person          ner_clean\n",
              "0                 Pickers (PERSON)            Pickers\n",
              "1                   Covid (PERSON)              Covid\n",
              "2          Theresa K. Gay (PERSON)     Theresa K. Gay\n",
              "2          Lisa Longgrear (PERSON)     Lisa Longgrear\n",
              "2           Anna Williams (PERSON)      Anna Williams\n",
              "...                            ...                ...\n",
              "192168       Zack Duhaime (PERSON)       Zack Duhaime\n",
              "192172         Evansville (PERSON)         Evansville\n",
              "192181  Evansville Marine (PERSON)  Evansville Marine\n",
              "192188       Crimson Tide (PERSON)       Crimson Tide\n",
              "192199             Martha (PERSON)             Martha\n",
              "\n",
              "[1169744 rows x 2 columns]"
            ],
            "text/html": [
              "\n",
              "  <div id=\"df-879ec2ab-4bdc-467b-b05e-a60e7d86927d\">\n",
              "    <div class=\"colab-df-container\">\n",
              "      <div>\n",
              "<style scoped>\n",
              "    .dataframe tbody tr th:only-of-type {\n",
              "        vertical-align: middle;\n",
              "    }\n",
              "\n",
              "    .dataframe tbody tr th {\n",
              "        vertical-align: top;\n",
              "    }\n",
              "\n",
              "    .dataframe thead th {\n",
              "        text-align: right;\n",
              "    }\n",
              "</style>\n",
              "<table border=\"1\" class=\"dataframe\">\n",
              "  <thead>\n",
              "    <tr style=\"text-align: right;\">\n",
              "      <th></th>\n",
              "      <th>ner_person</th>\n",
              "      <th>ner_clean</th>\n",
              "    </tr>\n",
              "  </thead>\n",
              "  <tbody>\n",
              "    <tr>\n",
              "      <th>0</th>\n",
              "      <td>Pickers (PERSON)</td>\n",
              "      <td>Pickers</td>\n",
              "    </tr>\n",
              "    <tr>\n",
              "      <th>1</th>\n",
              "      <td>Covid (PERSON)</td>\n",
              "      <td>Covid</td>\n",
              "    </tr>\n",
              "    <tr>\n",
              "      <th>2</th>\n",
              "      <td>Theresa K. Gay (PERSON)</td>\n",
              "      <td>Theresa K. Gay</td>\n",
              "    </tr>\n",
              "    <tr>\n",
              "      <th>2</th>\n",
              "      <td>Lisa Longgrear (PERSON)</td>\n",
              "      <td>Lisa Longgrear</td>\n",
              "    </tr>\n",
              "    <tr>\n",
              "      <th>2</th>\n",
              "      <td>Anna Williams (PERSON)</td>\n",
              "      <td>Anna Williams</td>\n",
              "    </tr>\n",
              "    <tr>\n",
              "      <th>...</th>\n",
              "      <td>...</td>\n",
              "      <td>...</td>\n",
              "    </tr>\n",
              "    <tr>\n",
              "      <th>192168</th>\n",
              "      <td>Zack Duhaime (PERSON)</td>\n",
              "      <td>Zack Duhaime</td>\n",
              "    </tr>\n",
              "    <tr>\n",
              "      <th>192172</th>\n",
              "      <td>Evansville (PERSON)</td>\n",
              "      <td>Evansville</td>\n",
              "    </tr>\n",
              "    <tr>\n",
              "      <th>192181</th>\n",
              "      <td>Evansville Marine (PERSON)</td>\n",
              "      <td>Evansville Marine</td>\n",
              "    </tr>\n",
              "    <tr>\n",
              "      <th>192188</th>\n",
              "      <td>Crimson Tide (PERSON)</td>\n",
              "      <td>Crimson Tide</td>\n",
              "    </tr>\n",
              "    <tr>\n",
              "      <th>192199</th>\n",
              "      <td>Martha (PERSON)</td>\n",
              "      <td>Martha</td>\n",
              "    </tr>\n",
              "  </tbody>\n",
              "</table>\n",
              "<p>1169744 rows × 2 columns</p>\n",
              "</div>\n",
              "      <button class=\"colab-df-convert\" onclick=\"convertToInteractive('df-879ec2ab-4bdc-467b-b05e-a60e7d86927d')\"\n",
              "              title=\"Convert this dataframe to an interactive table.\"\n",
              "              style=\"display:none;\">\n",
              "        \n",
              "  <svg xmlns=\"http://www.w3.org/2000/svg\" height=\"24px\"viewBox=\"0 0 24 24\"\n",
              "       width=\"24px\">\n",
              "    <path d=\"M0 0h24v24H0V0z\" fill=\"none\"/>\n",
              "    <path d=\"M18.56 5.44l.94 2.06.94-2.06 2.06-.94-2.06-.94-.94-2.06-.94 2.06-2.06.94zm-11 1L8.5 8.5l.94-2.06 2.06-.94-2.06-.94L8.5 2.5l-.94 2.06-2.06.94zm10 10l.94 2.06.94-2.06 2.06-.94-2.06-.94-.94-2.06-.94 2.06-2.06.94z\"/><path d=\"M17.41 7.96l-1.37-1.37c-.4-.4-.92-.59-1.43-.59-.52 0-1.04.2-1.43.59L10.3 9.45l-7.72 7.72c-.78.78-.78 2.05 0 2.83L4 21.41c.39.39.9.59 1.41.59.51 0 1.02-.2 1.41-.59l7.78-7.78 2.81-2.81c.8-.78.8-2.07 0-2.86zM5.41 20L4 18.59l7.72-7.72 1.47 1.35L5.41 20z\"/>\n",
              "  </svg>\n",
              "      </button>\n",
              "      \n",
              "  <style>\n",
              "    .colab-df-container {\n",
              "      display:flex;\n",
              "      flex-wrap:wrap;\n",
              "      gap: 12px;\n",
              "    }\n",
              "\n",
              "    .colab-df-convert {\n",
              "      background-color: #E8F0FE;\n",
              "      border: none;\n",
              "      border-radius: 50%;\n",
              "      cursor: pointer;\n",
              "      display: none;\n",
              "      fill: #1967D2;\n",
              "      height: 32px;\n",
              "      padding: 0 0 0 0;\n",
              "      width: 32px;\n",
              "    }\n",
              "\n",
              "    .colab-df-convert:hover {\n",
              "      background-color: #E2EBFA;\n",
              "      box-shadow: 0px 1px 2px rgba(60, 64, 67, 0.3), 0px 1px 3px 1px rgba(60, 64, 67, 0.15);\n",
              "      fill: #174EA6;\n",
              "    }\n",
              "\n",
              "    [theme=dark] .colab-df-convert {\n",
              "      background-color: #3B4455;\n",
              "      fill: #D2E3FC;\n",
              "    }\n",
              "\n",
              "    [theme=dark] .colab-df-convert:hover {\n",
              "      background-color: #434B5C;\n",
              "      box-shadow: 0px 1px 3px 1px rgba(0, 0, 0, 0.15);\n",
              "      filter: drop-shadow(0px 1px 2px rgba(0, 0, 0, 0.3));\n",
              "      fill: #FFFFFF;\n",
              "    }\n",
              "  </style>\n",
              "\n",
              "      <script>\n",
              "        const buttonEl =\n",
              "          document.querySelector('#df-879ec2ab-4bdc-467b-b05e-a60e7d86927d button.colab-df-convert');\n",
              "        buttonEl.style.display =\n",
              "          google.colab.kernel.accessAllowed ? 'block' : 'none';\n",
              "\n",
              "        async function convertToInteractive(key) {\n",
              "          const element = document.querySelector('#df-879ec2ab-4bdc-467b-b05e-a60e7d86927d');\n",
              "          const dataTable =\n",
              "            await google.colab.kernel.invokeFunction('convertToInteractive',\n",
              "                                                     [key], {});\n",
              "          if (!dataTable) return;\n",
              "\n",
              "          const docLinkHtml = 'Like what you see? Visit the ' +\n",
              "            '<a target=\"_blank\" href=https://colab.research.google.com/notebooks/data_table.ipynb>data table notebook</a>'\n",
              "            + ' to learn more about interactive tables.';\n",
              "          element.innerHTML = '';\n",
              "          dataTable['output_type'] = 'display_data';\n",
              "          await google.colab.output.renderOutput(dataTable, element);\n",
              "          const docLink = document.createElement('div');\n",
              "          docLink.innerHTML = docLinkHtml;\n",
              "          element.appendChild(docLink);\n",
              "        }\n",
              "      </script>\n",
              "    </div>\n",
              "  </div>\n",
              "  "
            ]
          },
          "metadata": {},
          "execution_count": 44
        }
      ]
    },
    {
      "cell_type": "code",
      "source": [
        "df_ner_place_org_count = df_ner_place_org_expand.groupby('ner_clean').count().reset_index()\n",
        "df_ner_person_count = df_ner_person_expand.groupby('ner_clean').count().reset_index()"
      ],
      "metadata": {
        "id": "Cm6-KCWmThk2"
      },
      "execution_count": null,
      "outputs": []
    },
    {
      "cell_type": "code",
      "source": [
        "print(len(df_ner_place_org_count))\n",
        "print(len(df_ner_person_count))"
      ],
      "metadata": {
        "colab": {
          "base_uri": "https://localhost:8080/"
        },
        "id": "8bi0ZTFlUqEw",
        "outputId": "687a3778-26b0-4a80-f6c5-d72625f9a221"
      },
      "execution_count": null,
      "outputs": [
        {
          "output_type": "stream",
          "name": "stdout",
          "text": [
            "227146\n",
            "215208\n"
          ]
        }
      ]
    },
    {
      "cell_type": "code",
      "source": [
        "df_freq_place_org_n5 = df_ner_place_org_count[df_ner_place_org_count[\"ner_places_orgs\"] >= 5]\n",
        "df_freq_person_n5 = df_ner_person_count[df_ner_person_count[\"ner_person\"] >= 5]\n"
      ],
      "metadata": {
        "id": "CgUyxCAbUt-T"
      },
      "execution_count": null,
      "outputs": []
    },
    {
      "cell_type": "code",
      "source": [
        "print(len(df_freq_place_org_n5))\n",
        "print(len(df_freq_person_n5))"
      ],
      "metadata": {
        "colab": {
          "base_uri": "https://localhost:8080/"
        },
        "id": "PFtQv-Q0VSQs",
        "outputId": "ab24ef45-32f3-46b7-d64c-af6e7de54ab0"
      },
      "execution_count": null,
      "outputs": [
        {
          "output_type": "stream",
          "name": "stdout",
          "text": [
            "46373\n",
            "44328\n"
          ]
        }
      ]
    },
    {
      "cell_type": "code",
      "source": [
        "df_freq_place_org_n5.to_excel('df_freq_place_org_n5.xlsx')"
      ],
      "metadata": {
        "id": "8O74FTaVY7pR"
      },
      "execution_count": null,
      "outputs": []
    },
    {
      "cell_type": "code",
      "source": [
        "df_freq_person_n5.to_excel('df_freq_person_n5.xlsx')"
      ],
      "metadata": {
        "id": "pd9VZx3EVtrF"
      },
      "execution_count": null,
      "outputs": []
    },
    {
      "cell_type": "markdown",
      "source": [
        "## Find sentence example of location"
      ],
      "metadata": {
        "id": "Ggu0MvMFQmx-"
      }
    },
    {
      "cell_type": "code",
      "source": [
        "%cd /content/drive/MyDrive/Georgia/Locations Analysis\n",
        "\n",
        "import pandas as pd\n",
        "\n",
        "#ner_places = pd.read_csv('Georgia_ner_places.csv') # previous data\n",
        "#ner_places = pd.read_csv('Georgia_ner_places_v2.csv') # updated data\n",
        "ner_places = pd.read_excel('Georgia_place_review_final_validation.xlsx') # updated data"
      ],
      "metadata": {
        "id": "ZU1S_6coQpR5",
        "colab": {
          "base_uri": "https://localhost:8080/"
        },
        "outputId": "e6d83c16-b4bd-4cb6-ae63-f389778612af"
      },
      "execution_count": null,
      "outputs": [
        {
          "output_type": "stream",
          "name": "stdout",
          "text": [
            "/content/drive/.shortcut-targets-by-id/1YSQ9BBnwwRu7fyeM_9V6eoFgKQBPl4Rr/Georgia/Locations Analysis\n"
          ]
        }
      ]
    },
    {
      "cell_type": "code",
      "source": [
        "#ner_places['ner_places_clean'] = ner_places['ner_places_clean'].str.rstrip()"
      ],
      "metadata": {
        "id": "Dd9WWAzOR4D6"
      },
      "execution_count": null,
      "outputs": []
    },
    {
      "cell_type": "code",
      "source": [
        "ner_places_raw = list(set(ner_places['ner_places_clean2'].tolist()))"
      ],
      "metadata": {
        "id": "XLlz4OzHRpob"
      },
      "execution_count": null,
      "outputs": []
    },
    {
      "cell_type": "code",
      "source": [
        "import pandas as pd\n",
        "import re\n",
        "\n",
        "df = pd.read_pickle('/content/drive/MyDrive/Georgia/Web Scraping/Georgia_data_v2_translation_ner2_lem.pkl')\n",
        "\n",
        "# remove bracket and quotes\n",
        "df['ner_places_clean'] = df['ner_places'].apply(lambda x: re.sub(r'[{}]', '', x))\n",
        "#df['ner_places_clean'] = df['ner_places_clean'].str.replace(r\" \\(GPE\\)\",\"\")\n",
        "df['ner_places_clean'] = df['ner_places_clean'].str.replace(r\"\\', \\'\", \" \")\n",
        "df['ner_places_clean'] = df['ner_places_clean'].str.rstrip(\"'\")\n",
        "df['ner_places_clean'] = df['ner_places_clean'].str.lstrip(\"'\")\n",
        "\n"
      ],
      "metadata": {
        "colab": {
          "base_uri": "https://localhost:8080/"
        },
        "id": "BLg2CGksWuZI",
        "outputId": "de3ca5a5-1f44-4841-db99-2a0dead6ad87"
      },
      "execution_count": null,
      "outputs": [
        {
          "output_type": "stream",
          "name": "stderr",
          "text": [
            "<ipython-input-6-148d7c36fdc9>:9: FutureWarning: The default value of regex will change from True to False in a future version.\n",
            "  df['ner_places_clean'] = df['ner_places_clean'].str.replace(r\"\\', \\'\", \" \")\n"
          ]
        }
      ]
    },
    {
      "cell_type": "code",
      "source": [
        "import nltk\n",
        "nltk.download('punkt')"
      ],
      "metadata": {
        "colab": {
          "base_uri": "https://localhost:8080/"
        },
        "id": "EWfelpd-Q7zr",
        "outputId": "3db853c8-cad1-4433-e359-03b62cd814e8"
      },
      "execution_count": null,
      "outputs": [
        {
          "output_type": "stream",
          "name": "stderr",
          "text": [
            "[nltk_data] Downloading package punkt to /root/nltk_data...\n",
            "[nltk_data]   Unzipping tokenizers/punkt.zip.\n"
          ]
        },
        {
          "output_type": "execute_result",
          "data": {
            "text/plain": [
              "True"
            ]
          },
          "metadata": {},
          "execution_count": 7
        }
      ]
    },
    {
      "cell_type": "code",
      "source": [
        "\n",
        "import re\n",
        "\n",
        "def bigrams(s):\n",
        "    return [i for i in s if re.search(r'\\s', i) ]\n",
        "  \n",
        "def unigrams(s):\n",
        "    return [i for i in s if not re.search(r'\\s', i) ]\n",
        "\n",
        "word_bigrams_done = list(set(bigrams(ner_places_raw)))\n",
        "print(word_bigrams_done)\n",
        "print(len(word_bigrams_done))\n",
        "                       \n",
        "word_unigrams_done = unigrams(ner_places_raw)\n",
        "print(word_unigrams_done)\n",
        "print(len(word_unigrams_done))\n"
      ],
      "metadata": {
        "colab": {
          "base_uri": "https://localhost:8080/"
        },
        "id": "7od0UrvGXYt4",
        "outputId": "ceffa212-4343-452b-8398-6cbd888018d9"
      },
      "execution_count": null,
      "outputs": [
        {
          "output_type": "stream",
          "name": "stdout",
          "text": [
            "['Wheeler County', 'Wilder Center', 'North Pole', 'Ohio River', 'North Main Street', 'the Mizzou Aquatic Center', 'The City of Pineville', 'SOUTH CAROLINA -', 'the Golden State Stimulus', 'Tommy Cash Stadium', 'South CarolinaSavannah', 'Eagle County', 'TOOMBS COUNTY', 'East Forsyth', 'Watts Drive', 'Bells Ferry Road', 'Sugarloaf Mill', 'Manatee County', 'Union Grove', 'West Virginia’s', 'Sarasota County', 'LAKE CITY', 'Cocoa Beach', 'Wildwood Lake State Wildlife Management Area', 'Polk County District Court', 'Northcutt Stadium', 'New South Wales', 'Dooley Field', 'St. Pius', 'West Avenue', 'Athens Highway', 'Waseca County', 'Turtle Creek Drive', 'Hollywood Boulevard', 'the Carter Center', 'Newcastle Street', 'University Parkway', 'Madison County\\\\n\\\\nUpdated', 'Guatemala City', 'Auburn 61', 'Bacon County', 'Old Tampa Highway', 'Savage River', 'Panorama City', 'Fairfield County', 'the Wisconsin River', 'los 13', 'Memorial Stadium', 'Beech Island', 'the Great Temple Mound', 'Hancock County\\\\n\\\\nUpdated', 'the White House', 'Cotton Hall', 'Payette Lake', 'Peachtree Street NE', 'Quail Hollow Club', 'NEW HAMPSHIRE', 'Glenwood Springs', 'Green Valley', 'the Louisville 5', 'the Coosa Valley Fair', 'Laredo Port of Entry', 'St. George’s Hall', 'Crystal Springs', 'Pamlico River', 'Cobb Parkway SE', 'North Lawndale', 'Edgefield County', 'San Bernardino County Sheriff Shannon Dicus', 'Mirror Lake', 'Geneva County', 'Hiram Acworth Highway', 'Anderson Avenue', 'Jackson State', 'D-Iowa City', 'York County\\\\n\\\\nUpdated', 'Middle Georgia', 'Hooper Bay', 'the Upson Beacon', 'Bluffs Parkway', 'Bowie County', 'Lee Street', 'Troup County', 'San Franciscos', 'St. Lucie Village', 'Dalston Drive', 'Irving Park', 'Madison Countys', 'Bucks County’s', 'the west bank', 'the West Terrace', 'Goat Island', 'Minneopa State Park', 'Redondo Beach', 'Dougherty County’s', 'Lake Forest Golf Club', 'Southeast Ohio', 'Albemarle County', '10th Street', 'west Tennessee', 'Hard Rock', 'COWETA COUNTY', 'Grady County', 'Rabbit Valley Christmas Markets', 'DeKalb County Schools', 'Foster County', 'LaGrange 21', 'South Sioux City High School', 'White Sulphur Springs', 'Butts County’s', 'Citrus Heights', 'Bellahouston Park', 'Cumberland Valley Football\\\\n\\\\nCarlisle', 'the Hill District', 'Nowhere Road', 'ATHENS CLARKE COUNTY', 'the Dominican Republics', 'Miller Ferry Road', 'FORT WAYNE', 'S. Columbia Drive', 'the Cheatham Hill', 'West Knoxville', 'Blount County', 'Festival Hall', 'Cheatham Hills Memorial Park', 'Douglas County', 'Skydive Chicago', 'Taliaferro County', 'Weld County', 'the Golden Isles', 'Bethel Park', 'Mercy Park', 'McLean County', 'THE VEGAS STRIP', 'Washington DC', 'Cartersville City', 'Red Bud Road', 'San Bernardino County', 'Alpharetta 21', 'Buffalo Bills', 'Lake Minatare', 'Shasta Lake', 'Terrace Avenue', 'Santa Rosa Beach', 'DeKalb County', 'the Lake County Prosecutors Office', 'Oak Glen', 'Litchfield Park', 'Wildwood Road', 'Chip Ganassi Racing', 'The Port of Savannah', 'Windy Hill Road', 'Westside Road', 'Kennesaw Memorial Park Cemetery', 'The City of New York', 'the River City', 'Glynn County’s', 'San José', 'South Military Trail', 'the Civic Center', 'Wood Park', 'Rhode Island’s', 'Cape Fear', 'Perry County', 'Adams State', 'Governors Island', 'Mississippi States', 'the Rossville Public Library', 'Barbour County', 'West San Jose', 'Lafayette Road', 'Mahnomen County', 'the Dane County Farmers’ Market', 'Fashion District', 'Bailey Falter', 'Trickum Road', 'Atlanta Airport', 'Fort Pierce Jetty Park', 'Little Haiti', 'Lake Blackshear', 'South Gwinnett', 'San Francisco', 'Beaver County', 'Woodland Hills', 'Tappan Cemetery', 'Cobb Countys', 'Allen Park', 'St. Martin', 'District 5', 'West Ponce de Leon Avenue', 'Chattahoochee County', 'the Minnesota Landscape Arboretum', 'Minnesota County', 'JASPER COUNTY', 'the Pettit Road', 'Specking Avenue', 'Michelin Raceway Road', 'Cassia County', 'Memorial Field', 'West Main', 'the Carriage Kia Concert Series Arena', 'Murray County', 'Missouri State', 'Roosevelt Road', 'North Druid Hills Road', 'Cambria Heights', 'Mandalay Bay Resort', 'North Allegheny', 'Staten Island', 'the Best Video', 'Shawnee County District Court', 'Coliseum Drive', 'the Butts County Animal Shelter', 'Oak Street', 'Santa Clara County District', 'Bay Area', 'San Diego City College', 'the City of Chicago', 'Greater Georgia', 'Advent Health Gordon', 'Greene County', 'Boca Chica Key', 'Highmark Stadium', 'Lycoming County', 'Tranquility Village', 'Savannah State’s', 'the Great Plains Industrial Park', 'Mountain View’s', 'Collins Circle', 'Hill District', 'Oklahoma State', 'BARROW COUNTY', 'Ledo Road', 'Metro Crime Stoppers', 'Reagan Washington National Airport', 'Discover Samsung', 'East Lansing', 'Fishermens Wharf', 'the Air Force', 'the City of Alpharetta', 'the Pitt County Fairgrounds', 'the County', 'Uvalde County', 'Idaho Legislature', 'Macon County', 'East Java', 'Omaha Burke High School', 'North Miami', 'the Alaska Railroad', 'the North Georgia Area', 'Towns County', 'Bel Air', 'Windy Ridge Road', 'Nassau County', 'Boca Grande', 'the United Nations', 'North Branch', 'El Dorado Hills', 'Spartanburg County', 'Lakeview Drive', 'Protective Stadium', 'the Lake Erie Walleye Trail', 'Manheim Township', 'Oregon States', 'T.A. Wright Stadium', 'Powder Springs', 'Uriah Hall', 'Hamilton County Coroner’s Office', 'the Cedar Grove', 'Kennesaw Mountain Park', 'Goose Pond Colony Marina', 'Lake Buena Vista', 'Oglethorpe Mall', 'The City of Manitou Springs', 'Central Martinsburg', 'Cumberland Mall', 'the North Carolina', 'Burkina Faso', 'Notre Dames', 'The Grove Drive', 'Wayne County High', 'the Ramsey House', 'Concord Rd', 'Tucker) Saturdays', 'Cedar Valley Water Trail', 'Atkinson County', 'White Bluff Road', 'K -pop', 'New York City Comic', 'North Side Chicago', 'North Oconee', 'LaGuardia Airport', 'Western Michigan', 'Sunrise Memorial Gardens', 'Towne Center', 'Rehoboth Beach', 'Oglesby Bridge Road', 'ICON Park', 'Marsh Harbour Parkway', 'Perry County\\\\n\\\\nUpdated', 'Silver Creek', 'Minnesota Reformer', 'the White Mountain Apache', 'Chase County', 'Petco Park', 'Garden Center', 'Charlton County', 'Interstate 16', 'Vermont State', 'Saddle Creek Road', 'the Flovilla City Hall', 'Anoka County', 'Lake Sinclair', 'Henry County Schools', 'Callaway Stadium', 'Johnson County\\\\n\\\\nUpdated', 'Centennial Park', 'Sun Prairie', 'west Georgia', 'New Kentucky', 'the Napa Valley', 'Tybee Islands', 'WEST MIFFLIN', 'Ocean Isle Beach', 'Black Lowndes County', 'Overland Park', 'Defiance County', 'Bailey Warnix', 'West Cobb Funeral Home', 'the Atlanta Campaign', 'East Bay Assemblymember Buffy Wicks', 'POLK COUNTY', 'Woods Richardson', 'New York Citys', 'the North Beach', 'Carter Center', 'the Upper Valley', 'Georgia Memorial Park', 'William Walker Recreation Center', 'War Memorial Plaza', 'West Lake', '1st Street', 'United Center', 'Haralson County Rebels', 'Omaha Fire', 'Liberty County', 'Briar Cliff', 'the Abbey Restaurant', 'the City of Valdosta', 'the Georgia Bulldogs', 'Greene County High School', 'Freeborn county', 'Boling Park', 'Lincoln Avenue', 'Powder Springs Rd', 'St. Johns River', 'Ellis Field', 'Fulton County’s', 'Prospect Heights', 'Haralson County', 'North Greenville', 'Floyd Springs', 'Lower Allen Township', 'las mujeres con embarazos de alto', 'Fountain Valley', 'Miami-Dade Fire Rescues', 'el 44%', 'Lake Oswego', 'the Oostanaula River', 'the Wilson Center', 'Blue Ridge', 'Greene County’s', 'Missouri River Bluffs', 'the Bret Stephenses', 'Ware County’s', 'Rocky Mount', 'Thurston County’s', 'East Jacksons', 'the Old South', 'Z-64 ALLIANCE INDUSTRIAL PARTNERS', 'Park MGM', 'Crawford County Sherriff’s Office', '19th Avenue', 'the Venice Municipal Airport', 'Golden Gate', 'the San Francisco Bay', 'Nord Stream', 'Cunningham Road', 'West Columbus', 'Plymouth Harbor', 'Vancouver Island', 'Delray Beach', 'South Lawn', 'Treutlen County', 'Real California Butter', 'Mission District', 'Troy Franklin', 'New Hanover County', 'the Fremont County Courthouse', 'Ramsey County', 'Britain Drive', 'Highway 27', 'the Caldor Fire', 'the Anclote River', 'Northwest Baltimore', 'East LA', 'the Markkula Center for Applied Ethics', 'East Bay', 'Houston County’s', 'St. Bernard', 'Grand Canyon National Park', 'Prince Georges County', 'Phoenix Raceway', 'Morris Street', 'Mount Tabor United Methodist Church', 'Habersham Central 1977', 'East San Jose', 'Greenville County', 'Atlantic Beach', 'Port Sanibel Marina', 'Townpark Drive', 'General Pickett', 'the Georgia National Cemetery', 'Decatur County\\\\n\\\\nUpdated', 'Davis Islands', 'Hall County', 'Powder Springs Street', 'Highland 4-1 3-0', 'Grant Street', 'Macomb County', 'Los Angeles', 'the Hartwell First United Methodist Church', 'the Elbert County Public Library', 'South Forsyths', 'Southern Wisconsin', 'Yellowstone National Park', 'Eisenhower Drive', 'Saint Petersburg', 'Old Highway', 'Ft. Myers', '3rd Street', 'Phoebe Putney Memorial Hospital', 'Kaiser Permanente Southern California', 'San Rafael', 'Battery Creek', 'the Greensboro Swarm', 'Cedars-Sinai Kerlan Jobe Institute', 'Union City’s', 'West Chester East', 'Cartersville City Schools', 'Walk of Fame Ceremony', 'the Al Cannon Detention Center', 'Heritage Hills', 'The City of Palestine', 'Southwestern Pennsylvania', 'Fort Screven', 'the Las Vegas Strip', 'Univeter Road', 'Chalker Park', 'the Mexican Republic', 'Camelback Road', 'Sharp Stadium', 'Hilton Avenue', 'MYRTLE BEACH', 'the South Plains', 'Mikkeller Bar', 'el 77%', 'Paulson Stadium', 'District 1', 'the San Francisco Bay Area', 'Fulton County', 'Westminster Hall', 'Piedmont Village', 'the Westminster Abbey', 'Mountain View Football\\\\n\\\\nScenes', 'Town Square', 'MACON COUNTY', 'McDuffie County', 'the Cedar Rapids Community School District', 'Little Econ River', 'Monterey Park', 'el sitio', 'the North Shore', 'Wayne County\\\\n\\\\nUpdated', 'Gainesville City Schools', 'Kansas State', 'the Savannah Civic Center', 'Wicker Park', 'Kennedy International', 'Fellowship Hall', 'Beaver City', 'Oak Grove Rd', 'Memphis City Schools', 'the Golden Isles Alzheimer’s Walk', 'Stonebridge Drive', 'East Sandford Blvd', 'River City Bank', 'USS Savannah', 'South Dakota’s', 'the Cleveland County Fair', 'Oakland County', 'North Chapel', 'Westover Boulevard', 'Crunchem Hall', 'New Hampshire', 'Interstate 35W', 'the Caesars Superdome', 'the City of Auburn', 'Kinney County', 'District 8', 'Berrien County', 'Times Square', 'HAMILTON COUNTY', 'St. Pauls', 'Rescue America', 'Interstate 95', 'Ormond Beach', 'the East Room', 'Fort Oglethorpe Veteran', 'Highland Park Hospital', 'Burr Park', 'Logan Farm Park', 'the Glass Recreation Center', 'Taylor County', 'Middle Tennessee', 'Taylor Street', 'Mountain View 0', 'Bloomfield Township', 'the Cedar Grove Community Center', 'Fair Park', 'West Rd', 'the Arizona State Fair', 'the San Fernando Valley', 'Highland Ter', 'Pulaski Street', 'West Point Road', '79th Avenue', 'Green Bays', 'Southwest Philadelphia', 'Old Horseshoe Bend Road', 'Monterey Peninsula', 'Mill Creek High School Football Game', 'Howard County', 'Cayo Costa', 'SOUTH CAROLINA ELECTIONS', 'South Loop', 'Los Angeles Live', 'Caicos Islands', 'SACRAMENTO COUNTY', 'Washington Township', '14th Street', 'Oconee County’s', 'the Brownsville Port of Entry', 'Alabama State', 'Grayson Stadium', 'Fast Start', 'Chowan County', 'Stephens County High School', 'the Yuba City Unified School District', 'south Georgia', 'Marion City Square', 'Doux South', 'Central Europe', 'San Quentin', 'Lake Placid', 'Riverside Stadium', 'Newton County', 'North Brunswick High School', 'the Busan International Film Festival', 'Atlantic Coast', 'School District', 'Yahoola Creek Park', 'Quezon province', 'Ellis Rd.', 'Citizens Bank Park', 'Goodness Village', 'Interstate 5', 'Dickinson County', 'Progress Iowa Corn Feed', 'South Forsyth’s', 'South Shore', 'Southern Mississippi', 'the Mint Casino', 'RICHMOND COUNTY', 'La Crosse', 'Fair Road', 'Waters Avenue', 'Walker County Sheriff', 'East Texas History', 'North Port’s', 'Santa Cruz County', 'Cobb County’s', 'Shaw Road', 'PEACH COUNTY', 'Fort Walker', 'the Port of Brunswick', 'the David L. Lawrence Convention Center', 'Seivern Road', 'FOX Carolina', 'The City of Nacogdoches', 'east Cobb', 'Murray State', 'WEST CHESTER', 'Rock Hill', 'Little River', 'Panama City', 'Plant Bowen', 'Lake Acworth Drive', 'Cross Creek', 'the Kickapoo River', 'El Paso', 'the Steel City', 'Rock Creek Station', 'the U.S. Penitentiary Atlanta', 'Isle of Palms', 'Clay County\\\\n\\\\nUpdated', 'Kennedy Airport', 'the west coast', 'Chatham County Detention Center', 'Chapel Hill Evidence', 'Livingston County', 'the Medical Center', 'HIGHLAND PARK', 'Yolo County’s', 'Brantley County’s', 'Sixth Avenue', 'Ridgefield Park', 'Coffee County', 'Erasmus MC', 'Bibb County', 'Shadow Creek Golf Course', 'Glade Road', 'Mexico Citys', 'Horry County Schools', 'Northern York', 'Savannah Harbor', 'Atlanta Vintage Books', 'Mill Creek', 'Dominic Martinez', 'Will County', 'Irving Park East', 'the St. Marys River', 'The Harrison County Sand Beach Authority', 'San Francisco Supervisors', 'Cotton Bowl Stadium', 'MacArthur Park', 'Nash County', 'Randalls Island', 'Route 26', 'Classic City', 'Harlem Heights', 'Travelers Rest', 'Cumberland Valley', 'La Habana', 'Lake Jocassee', 'Lumen Field', 'Franklin Springs', 'Pass Road', 'Westview Cemetery', 'Cedar Rapids Regis', 'Grove City', 'Old Airport Road', 'the Georgia Sports Hall of Fame', 'Westmoreland County', 'Multnomah County', 'Forest County', 'Green Street', 'Fort Rucker', 'the National Mall', 'the Gulf Coast Center for Nonviolence', 'Miller Center', 'the Chicago Fires', 'Mount Paran', 'McLane Riverview Memorial Gardens', 'RABUN COUNTY', 'KIPP Atlanta', 'Hicks Road', 'South Warren', 'North Beach', 'Spectrum Center\\\\nJul', 'the Bay State', 'Second Round', 'the Kaiser Permanente Southern California', 'Otoe County', 'Denver International Airport', 'the Decatur Square', 'West Alabama', 'Fort Pulaski', 'Pasco County', 'the Twin Cities', 'North Cobb High School', 'the Sandy Hook Elementary School', 'League City Elementary', 'Pebble Beach Golf Links', 'West Philly', 'Fairview Heights', 'River Street', 'Johnstonville Road', 'Southern Soul Barbecue', 'West Maui', 'East Paulding', 'the Maricopa County Recorder’s Office', 'Sanford International', 'the Gulf of St. Lawrence', 'West Third Street', 'West Point Rd.', 'Sandy Creek Park', 'Jefferson County’s', 'Cabell County', 'the Angel Ballroom', 'Fort Lupton', 'Saint Paul', 'the Chapel of Radney Funeral Home', 'Metcalfe County', 'the City of Tyler', 'Chapman Field', 'Mooty Bridge Rd', 'Autzen Stadium', 'Wizink Center', 'New Yorks', 'Whitesville Rd.', 'West Road NW', 'Smith County', 'Santa Monica', 'Albany Eats', 'LEE COUNTY', 'GWINNETT COUNTY', 'Butts County', 'Field Street', 'Lakeshore Drive', 'Niagara County’s', 'Bulloch County Fire Department', 'West Covina', 'Westfield 35', 'East Washington', 'BULLHEAD CITY', 'Owen County', 'Morgan Park', 'Ewa Beach', 'Little Caesars Arena', 'the Isle of Palms', 'East Germantown', 'Waverly Hills', 'Fieldale Farms', 'Forsyth County Schools', 'Essentials Fall 100', 'North Port', 'Baker County', 'COLUMBIA COUNTY', 'Etheridge Road', 'Coconut Creek', 'Culver City', 'Historic District', 'Porter Avenue', 'Bailey Reidling', 'Vine City', 'West Madison', 'Peachtree Parkway', 'Oscoda Township', 'Hilton Head Island', 'Ada Street', 'Inner East', 'the Louisville Zoo', 'Colfax Avenue', 'Green Park', 'Catoosa County', 'Beaver Dam Creek', 'Winter Springs', 'the Idaho Constitution', 'EAST NORTHPORT', 'Meriweather County', 'Summit County', 'Las Vegas Blvd', 'Old River Road South', 'the Harrison County Sand Beach Authority', 'Red Rocks', 'Las Vegas Metropolitan', 'the Grand Opera House', 'the Salton Sea', 'South Chicago', 'the Enmarket Arena', 'Lanier Islands Parkway', 'Brown County\\\\n\\\\nUpdated', 'North Schuylkill', 'Cobb County Water System', 'Pickens County Senior', 'Village Circle', 'Oklahoma City', 'the Southeast Coast', 'Pine Street', 'Peachtree Creek', 'Cedartown Memorial Stadium', 'Midtown Atlanta', 'Lexington Heights', 'HARRIS COUNTY', 'San Miguel', 'Hamilton Avenue', 'Railroad Avenue', 'Nazir Griffin', 'Bulloch Memorial Gardens', 'Kennywood Park', 'the Pine Ridge Reservation', 'the GGC Tennis Facility', 'Cobb Diaper Day', 'Constitution Hall', 'Ga. -', 'Auburn 61-16', 'the Georgia Constitution', 'Northern Iowa', 'Kyle Field', 'Newton County’s', 'the Democratic Republic of Congo', 'Erie East', 'Stanton Springs North', 'Newton Ridge Drive', 'Fairview Avenue', 'Cedar County', 'Kobe Pace', 'Interstate 520', 'Villa Park', 'Fort Liberty', 'Southern Regional Jail', 'North Springs', 'Pima County', 'Oracle Park', 'Route 105', 'Zebulon Road', 'the Parthenon Cafe', 'Zoo Berlin', 'Chattahoochee Hills', 'West York', 'Wrigley Field', 'the Gold Dome', 'Fort Gillem', 'the Linn County Fairgrounds', 'Polk County District', 'South Ga.', 'Panther Stadium', 'North Hall', 'Camp Ozark', 'Mistletoe Market', 'North Gwinnett', 'West Garfield Park', 'Bayshore Boulevard', 'Camp Crystal Lake', 'Cobb Parkway North', 'Gray Road', 'Gelora Bung Karno', 'the Vandenberg Space Force Base Western Range', 'Great Falls', 'Goshen Road', 'NORTH CAROLINA', 'GEORGIA COUNTY', 'Homan Square', 'Truax Field', 'the Wingfoot XC Classic', 'Belleville East 4-3 2-2', 'St. Augustine Beach', 'the Miami Edison', 'El Camino', 'Atlanta Medical Center', 'Rainbow Drive', 'Great Neck', 'Baltimore City States', 'Parkway Trail', 'the Hostess City', 'Marthas Vineyard', 'Avondale Estates', 'the Cobb County', 'the School District', 'Davis Park', 'Ponce City Market', 'Grand Cayman', 'Browns Bridge Road', 'San Marino', 'Boise State', 'Sioux City', 'Winston Salem', 'Kansas City', 'Camp Atterbury', 'Ashland Avenue', 'Dorchester County', 'NEVADA COUNTY', 'Cougar Island', 'Sunset Boulevard', 'Himes Avenue Complex', 'Phoenix 2.0', 'the United States Marine Corps', 'Chicago City Clerk', 'Inter Miami', 'Buford Girls Soccer\\\\n\\\\nScenes', 'Pulaski Road', 'Ala. Finley', 'East Cobb Park', 'Cayden Bridges', 'Clayton County’s', 'the Powder Springs Library', 'the Savannah River', 'Old Savannah City Mission', 'Rogers Park', 'the Gilmer County Courthouse', 'the Chase Center', 'Santa Clauses', 'Truman Parkway', 'Minn.\\\\n\\\\nFranco Fragapane', 'Zelenskyy in Kyiv', 'Lloyd Wilson Field', 'the bay area', 'Maxeys Historic District', 'Hancock Park', 'the Republic of the Marshall Islands', 'Allendale County', 'DEKALB COUNTY', 'Real California', 'The Indian River', 'the Economy Inn on Deans Bridge Road', 'Southeast Alaska', 'Learning Center', 'Marietta City', 'Dade County\\\\nCartersville', 'the Flournoy-Granberry House', 'Wayne County', 'the Brunswick River', 'Montefiore Medical Center/Albert Einstein College of Medicine', 'East Village', 'The Battery Atlanta', 'Daley Plaza', 'Webster County', 'Shorty Howell Park', 'South Main Street', 'Lithia Springs', 'Illinois Family Relief Plan', 'Lilburn City Park', 'the City of Cornelia', 'North Carolinas', 'Burke County', 'the Misty Mountains', 'WASHINGTON COUNTY', 'Oak Hill', 'the Sunshine State', 'the 3rd District', 'Wilkes County', 'Calhoun P.D.', 'Comedy Central', 'Edwards Park', 'Wyandotte County', 'Sheremetyevo International Airport', 'Normal Boulevard and South Street', 'Philadelphia International Airport', 'Nob Hill', 'Mount Spurr', 'Mansion Global', 'the Hudson Valley', 'Santa Rosa County', 'Hartley Bridge Road', 'Mississippi Riverboat', 'Brooklyn Center', 'PnB Rock', 'Elm Street', 'Sumner Avenue', 'the Columbia Marriott', 'South Central', '7th Street', 'Atlantic Avenue', 'Wildwood Park', 'Guignard Park', 'Swainsboro City Cemetery', 'Windsor Castle', 'Crawford County', 'Fort Campbell', 'South Florida’s', 'the City of Nome', 'the Waterloo Career Centers', 'International Drive', 'Mount Vernon', 'Chapel Hill', 'The West Wing', 'Los Angeles City Councilmembers', 'West Main Street', 'West Woodward', 'Fannin County', 'Butterworth Lane', 'Habersham County', 'the White Oak Road Farm', 'the Southern United States', 'Chattahoochee River', 'Ada County', 'Beaver Area', 'Laney Walker Boulevard', 'Northern Cambria', 'Palace Arcade', 'the San Francisco Bay Bridge', 'Progressive Field', 'Washington Heights', 'Woodland Knoll Lane', 'Mohegan Sun Arena', 'the Indian River', 'Houston Street', 'North Oconee’s', 'GREENVILLE COUNTY', 'Ancient Mars', 'Park Place Restaurant', 'Wilkinson County', 'Faurot Field', 'Mt. Zion Road', 'New England', 'Altamonte Springs', 'Savannah Pittman', 'St. Francis', 'New Mexico', 'TYBEE ISLAND', 'Snyder 27-24', 'Sunset Drive', 'Palm Avenue', 'Early County 7', 'Osceola County', 'Interstate 10', 'Lenox Road', 'the U.S. Naval Observatory', 'Folly Beach', 'Lawrenceville Square', 'Gordon County', 'Chapel Hill High School', 'Hurricane Mills', 'Union Springs', 'the White House Conference on Hunge', 'the Gaitway Plaza', 'Mill Creek Football\\\\n\\\\nScenes', 'Sheridan County', 'Middle River', 'West Poplar', 'Cypress Avenue', 'the Palmer Hay Flats', 'Battlefield Park', 'Carter Finley Stadium', 'Redwood City', 'Cop City', 'Wharton County', 'Rivaridge Drive', 'the San Francisco International Airport', 'Norwood Learning Village', 'Canton Baseball', 'Orange County Fire Rescue', 'Wynn Las Vegas', 'the Charlotte Motor Speedway', 'Mill Creek’s', 'the Baseball Hall of Fame', 'Way Northeast', '2nd District', 'Banner County', 'Weber State', 'Dalton Del Don', 'Depot Street', 'La Jolla', 'the Tamiami Trail', 'Hinesville City Hall', 'Access Road', 'Bethlehem Road', 'the Aero Center of', 'Mount Pleasant', 'Mableton Parkway', 'Evans County', 'Quebec Street', 'Cobb Pkwy NW', 'Savannah River', 'Stephens Countys', 'Schuylkill County', 'Fort Carson', 'Forrest Road', 'the Dominican Republic', 'PICKENS COUNTY', 'the Dominican Republic and Turks', 'The City of Essex Junction', 'East Main Street', 'Sycamore Farms', 'Harris County District Court', 'Yolo County', 'Eastlake Park', 'New York City’s', 'Honolulu Harbor', 'the Ruby Fulbright Aquatic Center', 'Mountain View Rd', 'Southeast Iowa', 'Hadley Fire', 'Spring Hill', 'Fisherman’s Wharf', 'MONROE COUNTY', 'Scott Township', '12th Street', 'the River View Middle School’s', 'Mountain View', 'Baxter Street', 'Clayton County Schools', 'Muscatine County', 'the Granite State', 'Matanuska River', 'Riverside County', 'GRANADA HILLS', 'Freedom Plaza', 'Altamaha Sound', 'Long Beach', 'Lafayette Square', 'Western Cuba', 'Forsyth Park', 'Euclid Avenue', 'Meriwether County', 'Highway 411', 'East Lake', 'Camden Countys', 'Grand Ole Opry', 'Mount Carmel', 'San Francisco Bay Area', 'North Portland', 'Rocky Face', 'Penns Valley', 'Dulles International Airport', 'Rhode Island', 'MOSES LAKE', 'Columbus County', 'Lumpkin County', 'Sand Mountain', 'the City of Winder', 'Gloucester Street', 'Louisiana Kitchen', 'the Gwinnett County Animal Shelter', 'Jardine Stadium', 'Delaware Valley', 'Colerain Township', 'LOS COLONIAS PARK', 'Hersheypark Stadium', 'Hillsborough Park', 'War Eagles', 'Cocke County', 'Omaha\\\\n\\\\nIndigenous Peoples', 'Fort Smith', 'Leakin Park', 'CASEY COUNTY', 'Golden States', 'Salt Lake', 'Plum Orchard', 'The Lee County', 'Kennedy Space Center’s', 'Alverson Rd.', 'Delaware County Memorial Hospital', 'Cherokee County’s', 'Alexander City', 'South Middleton Township', 'West Desert', 'Washington Road', 'Helen Highway', 'Germantown Avenue', 'Liberty Road', 'Hilltop Drive', 'new county', 'Tampa Bay 2-1', 'the Terner Center', 'Islands Stadium', 'Healthy Savannah’s', 'Pierce County Schools', 'Gas South Arena', 'West Midtown Area', 'Southeast Colorado Springs', 'Elkhorn South High School', 'Michigan City', 'Chesterfield County', 'the Clarke County Treasurers', 'THE DOMINICAN REPUBLIC', 'Camp Resolute Support', 'Third Street', 'Minot State', 'Bexar County', 'Blue Springs', 'Albemarle Road', 'Bentley Rd', 'the Pinellas County Emergency Operations Center', 'Leopard Stadium', 'Crisp County Jail', 'the East Valley', 'Talbot County', 'Lavonia Road', 'East High', 'Mountain Park', 'Inman Park', 'Southwest Louisiana', 'Green Bay rookie', 'San Diego Padres', 'the Lumpkin County', 'the South Forsyth', 'Jelenia Góra', 'the Tenderloin Center', 'Piedmont Center', 'Eastern Illinois', 'Locust Grove', 'Napa Valley', 'Xueyuan Yang', 'Lanier Drive', 'Los Angeles City', 'Jenkins County High School', 'Effingham County', 'Green Connection on E. 15th Avenue', 'Interstate 985/', 'Mechanic Street', 'Oregon Park', 'Stoddard county', 'Lake Acworth', 'Route 9', 'Chandler Road', 'the Albert Einstein College of Medicine', 'Symphony Hall', 'East Windsor', 'San Marcos', 'Baseball Hall of Fame', 'Southwest Minnesota', 'Theatre UNI', 'West City', 'Sun Valley', 'Traverse City', 'Washington 5-yard', 'Hazleton Area', 'First District', 'Milledge Avenue', 'Long Islands', 'Augusta Regional Airport', 'West Jackson', 'Essex Junction', 'East Grant Road', 'Leicester City', 'McCutcheon Hall', 'SoFi Stadium', 'Lake Havasu City-Kingman', 'Boyle Heights', 'the Hard Rock', 'the Lincoln Airport', 'Butte County Jail', 'Cobb DOT road', 'South Carolinas', 'the Hall Memorial', 'Palo Alto', 'North Avenue', 'Key West', 'Six Flags Great America', 'Crystal Lucas-Perry', 'Wesleyan Football\\\\n\\\\nUpdated', 'Fresh Take', 'Buford Highway', 'South-Eastern Asia', 'BRANTLEY COUNTY', 'the South Bronx', 'Oakwood Street', 'Veterans Parkway', 'Rittenhouse Square', 'Garrison Beach', 'the Bay Area’s', 'Georgia Avenue', 'Chattahoochee Valley', 'DOOLY COUNTY', 'Gate Cottage', 'Logan Farm House', 'Cobb mall', 'Walsh Jennings', 'green salsa', 'New York City Ballets', 'the City of Savannah', 'Hollywood Landmark', 'Rock Spring', 'the North Pole', 'W. Va.', 'the Harris County’s', 'Charleston Harbor', 'Edisto Beach', 'Central State', 'Knox County\\\\n\\\\nUpdated', 'W New York', 'the Burke County Detention Center', 'Lake Mendota', 'Bobo Street', 'the Pascagoula River', 'North Township', 'Stock Island', 'Wild Adventures', 'Henry County', 'San Juan', 'the Columbia County Exhibition Center', 'Wanda Barfield', 'Turner Lake Road', 'ATLANTIC CITY', 'the Adult Learning Center', 'SOUTH FULTON', 'Elwood Olsen Stadium', 'Williamson County', 'Discovery Park', 'Butler Island', 'Strand Avenue', 'New Moon', 'Six Flags Parkway', 'Salem Road', 'Imperial Valley', 'the Grand Manse', 'the Central Valley', 'E. Park Place Blvd', 'Frances Avenue', 'Scaly Mountain', 'the 405 Freeway', 'West O Street', 'The City of Valdosta', 'Beer Garden', 'Peace River', 'the Central District', 'the Connecticut River', 'Prince Andrew', 'St. Clair County', 'Wood Street', 'Massachusetts city', 'Henry County’s', 'Clear Creek County', 'North End', 'SIOUX CITY', 'Mack Tharpe Stadium', 'Magic Kingdom', 'Sunset Strip', 'San Diego Open', 'Alameda County', 'The Dome at Americas', 'Lakewood Stadium', 'Anaehoomalu Bay', 'TD Garden', 'the Talmadge Bridge', 'Southwest Regional Airport', 'Phong Le', 'Morgan County Citizen', 'Windsor Parkway', 'Las Vegas Justice', 'Route 25', 'Veterans Memorial Pkwy', 'PALM BEACH COUNTY', 'the Cook County States', 'PUTNAM COUNTY', 'S Broad St.', 'Silver Mine Trail', 'the Iowa Statehouse', 'the Country Music Hall of Fame and Museum', 'the Louisiana State Capitol', 'the River District', 'East Naples', 'Brownsville Road', 'Davenport West High School', 'Harris County District', 'the Florida Keys', 'East Cape Sable', 'Olde Town', 'Des Moines Area Community College', 'the Birmingham-Shuttlesworth International Airport', 'Gourd Island', 'The City of Savannah', 'COBB COUNTY', 'St. Francois County', 'Cherry Avenue', 'American Sign Language', 'the Kennedy Expressway', 'the Bellevue West', 'St. Charles', 'Beachview Drive', 'Lake Trahlyta', 'Ellis Island', 'Peachtree Street', 'the Tombigbee River', 'Sangamon Countys', 'the Lee County Jail', 'Madison City Schools', 'Gulf Coast Humane Society', 'Arrest Date 09/19/2022', 'Ole Miss', 'Red River Revel', 'Manhattan Beach', 'Mt. Zion-Carrollton', 'LaGrange Fire', 'The Santa Clauses', 'Lula Grocery', 'New Mexico State', 'Sea Island', 'the Korean Peninsula’s', 'the City of South Fulton', 'Madison Square Garden', 'Broad Street', 'Red Lake', 'Blue Valley West', 'Upper Township', 'Wolfpack 44', 'the Hearnes Center', 'Iron River', 'Eastern Iowa', 'Northern Virginia', '46 Plaza Way', 'West Highland Street', 'the City of Atlanta', 'South China Sea', 'Magnolia Street', 'Busch Stadium', 'Shawnee County', 'Indian River County', 'Georgia National Cemetery', 'Mississippi State Bulldogs', 'the Zocalo of Mexico City', 'Boynton Beach', 'gwinnett county', 'South Memphis', 'South Mississippi', 'the Plant Riverside District', 'the Lees Crossing Clubhouse', 'Glynn County Schools', 'Interstate 285', 'New San Jose Sharks', 'Sanibel Island’s', 'Denver Ogle', 'The River Room', 'Valencia Street', 'the Savannah Area Economic Development Authority', 'Sioux County', 'Myakka River', 'the City of Dahlonega', 'West Englewood', 'Emporia State', 'Sheremetyevo Airport', 'Blitchon Road', 'the Georgia District', 'Seaboard Ind.', 'the Cook Farm Horse Show and', 'Red Rock Search', 'the San Bernardino Mountains', 'Ligonier Valley', 'Laguna Beach', 'Union County\\\\n\\\\nUpdated', 'Lehigh Valley', 'South Main', 'the Boston Marathon', 'the Lake Superior Performance Rally', 'North Point', 'the Javits Center', 'Southwest Atlanta', 'Newberry County', 'Southern California’s', 'Palm Harbor Marina', 'Capitol Middle Magnet', 'Sandy Creek', 'Lehigh Acres', 'Jones Street', 'Silicon Valley’s', 'Riverside Parkway', 'South Georgia Tech', 'Great Lakes', 'Wildcat Bridge Road', 'Lewiston Road', 'Indian Hills', 'the State Fire Marshals Office', 'the Eugene Korea Open Tennis Championships', 'Muddy Creek Road', 'the Noonday Creek Trail', 'Truman State', 'West Allis', 'Cuyahoga County', 'Faurot Field at Memorial Stadium', 'St. Francis Hospital', 'Landon England', 'South Park Square', 'the People’s Republic of China', 'Bryson Park\\\\n\\\\nScenes', 'East Third Street', 'Kings Bay', 'Macedonia Road', 'East Cobb', 'Fernandina Beach', 'Gills Rock', 'Southwest Macon', 'Linn County', 'the Richardson Center', 'the Enterprise Center', 'Centre Avenue', 'the Carnegie Medal of Philanthropy', 'New Macland Road/Cobb', '40th Street', 'Douglas Medical Center', 'Garden Lakes', 'Petersburg Park', 'Seaport District', 'Yogi Berra Stadium', 'WEST COLUMBIA', 'the Ozark Mountains', '104 Vintage Drive', 'Coweta County', 'Sonoma County', 'Washington County', 'First Avenue', 'Piedmont Park', 'Riverfront Park', 'Cape Street', 'Lauren Victory\\\\nLauren Victory', 'Dungeness Spit', 'the North Georgia Championships', 'Mountain City', 'Fresno County', 'BLOUNT COUNTY', 'the Great Smoky Mountains', 'Barnwell County', 'Carolina Beach', 'Jerad Drive', '4th Avenue', 'Jr. Drive', 'Hickory Hills', 'Bell Gardens', 'New York', 'White Bluff', 'Fort Worth', 'Washington Park', 'SAN FRANCISCO', 'Ulmerton Road', 'Dakota County', 'Nationals Park', 'Glenridge Drive', 'Lake Eola', 'Los Angeles Rams', 'Reagan National Airport', 'the NFC East', 'Middle East', 'Bryan County', 'SANTA ANA', 'FORSYTH PARK', 'Mizzou Softball Stadium', 'the North Tonawanda City Market', 'North West', 'Creekside Village', 'Bluffton Parkway', 'the Tampa Bay 2', 'Sugarloaf Parkway', 'New Orleans-Metairie', 'Commerce Avenue\\\\n\\\\nPrint Article\\\\n\\\\nLaGrange Living Magazine', 'Mount Paran Christian', 'Sky Valley Way', 'Tarrant County District', 'Gotham Hall', 'Whitfield County', 'Jefferson County', 'Wesley Chapel Road', 'Clayton Street', 'Las Vegas-Henderson-Paradise', 'San Andrés', 'the Matera Film Festival', 'Dustin Salter', 'Tenn. Charges', 'New York Comic Con — Chloë', 'West Texas', 'Canton Rd', 'Foster Beach', 'Goodhue County', 'Naval Base San Diego', 'Jaren Hall', 'the First District', 'West End', 'Buff City', 'West Lawn', 'British Columbia', 'Little America', 'Blaine Perkin', 'Gulf Stream', 'Allegheny County', 'Patterson Street', 'San Andres Island', 'the Arctic Circle', 'the Gateway International Bridge', 'the City of San Francisco', 'JEFFERSON COUNTY', 'Vandenberg Space Force Base', 'East Atlanta', 'the Sapelo Island Welcome Center', 'The Miami Township Police Department', 'Kansas City’s', 'St. Louis City', 'Ocean City', 'New Jerseys', 'Tippecanoe County', 'Sugar Grove', 'St. Andrews', 'Yellowstone Park', 'NEW YORK - Forced', 'Southern California Dermatology', 'Elk Grove', 'Johnson County', 'Cascade Drive', 'Palestine Creek', 'Belle’s Ole South Diner', 'the Cumberland Island', 'Gold Coast', 'EFFINGHAM COUNTY', 'Marietta Square', '24th Street', 'West Ash Creek', 'the Mississippi Aquarium', 'the Faena Forum', 'The Great Hall', 'the Panama Canal', 'Goose Creek', 'St. Matthews', 'Mt. Zion', 'Costa Este', 'East L.A.', 'Notre Dame', 'Braden Auditorium', 'Beaufort County', 'Diamond Lakes Park', 'Troy Hill', 'Virginia Tech', 'TWIGGS COUNTY', 'the Russell Union', 'Cedar Crest', 'North Dallas', 'Terre Haute', 'MIAMI TOWNSHIP', 'Parker County', 'Spur 408', 'the Iowa State Fairgrounds', 'City Hall Park', 'Kermit Lane', 'W. Sandtown Road', 'Cantigny Park', 'Crown Heights', 'West Tennessee', 'Memorial Drive', 'Caesars Sportsbook', 'North Cobbs', 'Cochran Road', 'New Hampshire’s', 'COLLETON COUNTY', 'Azalea Park Apartments', 'Mariachi Plaza', 'Eastern Michigan', 'Forest Hills', 'the West Bank', 'los gastos', 'Bay Harbor', 'Long Island Jewish Childrens Hospital', 'Sandy Springs', 'Lake Countys', 'West Savannah Street', 'Swain County', 'the Children’s Advocacy Center', 'the Blue Earth County Historic Courthouse', 'SUMTER COUNTY', 'the Calhoun Middle School', 'Lehigh County', 'Chapel Drive', 'Grove Park', 'Las Vegas Motor Speedway', 'Ulyanovsk Road', 'East Rome', 'Brooklyn West', 'SW Miami-Dade', 'Madison Central', 'Hanes City', 'Lake Springfield', 'Auburn 21-17', 'Grove Level Park', 'Lock Haven', 'North Florida', 'the Columbia River', 'The County', 'The City of', 'Memorial Stadium’s', 'Schuylkill Haven', 'West Hill Avenue', 'North Philadelphia', 'Bilby Road', 'the Great Southern Golf Club', 'Schuyler County', 'Pleasant Grove Road', 'Savannah States', 'Fort Polk', 'Henderson Road', 'Tybee Island’s', 'The Golden Rams', 'Jones County’s', 'AutoZone Park', 'Carver County', 'Point Pleasant Beach', 'North Green Street', 'the Conyers Depot on Railroad Street', 'the Kiewit Luminarium', 'Brownlee Mountain Road', 'Lions Gate Bridge', 'Northeast Philadelphia', 'the Chicago Marathon', 'the Thompson Divide', 'Prince George', 'Fort Collins', 'The Ocean Springs Cruisin', 'the Barrow County Detention Center', 'the Spartanburg County Detention Center', 'Interstate 75/', 'the Grand Canyon', 'Lamar Murphy Park', 'the Conasauga River', 'Sand Bar Ferry Road', 'San Joses', 'Jackson Dome', 'Monroe County Jail', 'Lombard Street', 'El Paso County', 'Fayette County Jail', 'the Cape Girardeau County Sheriff’s Office', 'Genesis East', 'North Forsyth', 'Theatre UNIs', 'Copper Basin', 'Kaden Beard', 'Moses Lake', 'Mississippi River', 'Kinridge Road', 'Red Bud', 'St Paul', 'Lindbergh Center', 'Broughton Street', 'Atlanta Rd', 'Mississippi SEC', 'Early County', 'San Lorenzo', 'Eastview Cemetery', 'Yonah Memorial Gardens', 'Cumberland Valleys', 'Adams County District', 'The City', 'Cedar Avenue', 'the Broad River', 'Bristol Farms', 'Mecklenburg County', 'Menard County', 'Tyler Fire', 'Oak Forest', 'the Gem State', 'Oak Island', 'San Diego States', 'Fannin County Rebels', 'Southeast Nebraska', 'Forest Avenue', 'Peach County', 'Clay Stadium', 'Orland Park', 'Broward County’s', 'East Lake Drive', 'the Bay Area', 'Walker Street', 'Mineral Springs Road', 'the Harvard T.H. Chan School of Public Health', 'Palm Beach County', 'Arapahoe County', 'Carroll Park', 'Middle Georgia’s', 'the Chatham County', 'Atlanta Highway', 'Esmeralda County', 'The Oglethorpe Echo', 'PAULDING COUNTY', 'St. Louis', 'Crooked Creek Rd', 'Castle Rock', 'Georgetown County', 'Dublin City Schools', 'the Keystone State', 'Sands Avenue', 'south county', 'Lake Fisher', 'Davison County', 'Candler County', 'Brumby Hall', 'Four Oaks', 'North Omaha', 'Atchison County', 'Bartley Rd.', 'the Loudoun County Fire Department', 'South Africa', 'Jackson Hole', 'Worth County', 'South Austin', 'MacArthur Drive', 'the Savannah Area Chamber of Commerce', 'Boone County', 'Sanford Mall', 'Southern Rock', 'Corky Kell Stadium', 'Kiski Area', 'Dawson County’s', 'los recuerdos', 'Green Bay Packers', 'Tiftarea 21', 'Northwestern Alaska', 'St. Matthew', 'the Cape Canaveral Space Force Station', 'the Gulf of Maine', 'Copper Creek Lane', 'St. Joseph', 'Winter Park', 'Westside Drive', 'Pink Ribbon', 'loanDepot Park', 'the Kennedy Center Honors', 'Calhoun Georgia', 'Legacy Park', 'North Wilkesboro', 'the Horn of Africa', 'White County’s', 'Merritt Island', 'Battleground Road', 'Center City', 'Bossier City', 'North DeKalb Stadium', 'East Forsyths', 'Mobile County Metro', 'Loudoun County', 'Bartow County', 'Cherry Street', 'King Street', 'Miami Beach', 'River Road', 'Ferry Point', 'Cañon City', 'Bedford Avenue', 'St. Augustine', 'Halas Hall', 'Liquid Retina', 'the Ninth District', 'BEAUFORT COUNTY', 'Chester Avenue', 'Gascoigne Bluff', 'Jekyll Island', 'Bad River', 'Lapeer County', 'Northampton County', 'LEAGUE CITY', 'Family Center’s', 'Anclote River', 'Cobb St.', 'Fayette County', 'Lake Monona', 'Bullhead City', 'City Hall', 'West Lafayette', 'Space Mountain', 'Edwards Road', 'North Carolina’s', 'Victory Drive', 'the Georgia Aquarium', 'McLean Countys', 'Boca Raton', 'the Jersey Shore', 'Lake City', 'VIRGINIA BEACH', 'Screven County', 'Bay area', 'Key Colony Beach', 'Highway 53', 'the Statue of Liberty', 'Atlanta Botanical Garden', 'Kilgore Street', 'Whidbey Island', 'Wisteria Ridge', 'Richland County', 'Highway 301 South', 'West Philadelphia', 'Inver Grove Heights', 'the Eastern District', 'Mountain View High School Football Game', 'Lincoln Heights', 'Whitemarsh Island', 'Laurens County', 'Bell Auditorium', 'Cimarron Parkway', 'Wake Medical Center', 'the City of Los Angeles', 'Port Charlotte', 'Mars Petcare’s', 'South Georgia’s', 'Oak Hill Drive', 'Foxboro Stadium', 'KANSAS CITY', 'South Boston', 'NRG Stadium', 'Lincoln County', 'Northeast Baltimore', 'Otero County', 'The Peach State', 'South Santee River', 'San Francisco International', 'the Motor City', 'Southeast Georgia', 'the Palmetto State', 'La Schiazza', 'Hong Kong', 'Mossy Creek United Methodist Church', 'Hudson Road', 'Lane Park', 'Shorter Avenue', 'Studio City', 'Big Springs', 'Heathrow Airport', 'Fort Worths', 'Long Island', 'Hudson Valley', 'Great Plains', 'the Orange County District', 'Jasper County\\\\n\\\\nUpdated', 'Quinn Legal', 'new city', 'South Carolina State', 'Holly Springs', 'the Camp Hale', 'Highway 76', 'St. Pete', 'the McLeod Center', 'Glynn County Stadium', 'Lexington city', 'Rice County', 'Walnut Hill', 'Statesboro Regional Library', 'New Brighton', 'Rock County', 'Phil Reeve Stadium', 'East Oakland', 'St. Simon’s', 'Round Hill', 'Mount Marty', 'Belleville East 13 28', 'Santa Clara County', 'River Drive', 'Central City', 'Gulf South Conference', 'Essex County', 'McEver Road', 'south London', 'Ellicott City', 'Lutheran South', 'Macland Road', 'the Macon Telegraph', 'Western Illinois', 'Pine Island Road', 'La. - Halfway', 'the DeSoto Theatre', 'Carroll Memory Gardens', '62nd Avenue', 'Brantley Middle', 'Penn Hills', 'Prospect Park', 'North Marietta Parkway', 'Key West International Airport', 'West Virginia', 'Missouri Avenue', 'West Roosevelt Road', 'The City of Statesville', 'the Georgia Theatre', 'Buckhalter Street', 'North Omaha Cat Lady', 'Randolph County\\\\n\\\\nUpdated', 'Tate Park', 'Fort Oglethorpe', 'Harrison Avenue', 'Wizink Centre', 'the Kansas City', 'Myrtle Street', 'the Brookfield Zoo', 'McMullen County', 'New Caledonia', 'Cedar Falls Hy-Vee\\\\n\\\\nUpdated', 'the Westminster Hall', 'Gans Creek Classic', '23 Rapid City', 'Gwinnett County’s', 'HABERSHAM COUNTY', 'Riviera Beach', 'South Broadway', 'Midland Valley', 'Westside Park', 'BAY COUNTY', 'the Strand Theatre', 'Humboldt County', 'Indian Orchard', 'W Candler Street', 'the Sarasota Area', 'Liberty Plaza', 'East Africa', 'West Baltimore', 'Hanover Area', 'Lynn Haven', 'Eastern U.S.', 'Shadow Ridge Country Club', 'Hillside Memorial Chapel', 'the Lee County', 'the Opry House', 'Lawrence County\\\\n\\\\nUpdated', 'Cobb District', 'Buena Park', 'Castro Valley', 'North Minneapolis', 'Atlanta Fire', 'South State Street', 'Windy City', 'ROAD AMERICA', 'Victory Home Lane', 'Georgia Dairy Conference', 'Miami International Airport', 'the West End', 'Angel City', 'the Talladega Superspeedway', 'the North Georgia State Fair', 'Niobrara River', 'Saline County\\\\n\\\\nUpdated', 'the Jepson Center', 'Habersham Countys', 'Daytona International Speedway', 'League City', 'Banks County Leopard', 'Forest Park', 'MIAMI GARDENS', 'St. Louisans', 'East Jackson’s', 'Lake Victoria', 'the Liberty Bowl', 'Flat Rock', 'Ft. Valley', 'Tarleton State', 'North Georgia State Fair', 'Cook County', 'Memorial Medical Center', 'North Jackson', 'Eisenhower Plaza', 'Southwest 27th Avenue', 'Faidley Avenue', 'the Old North End', 'Saucon Valley', 'SOUTH CAROLINA STATE UNIVERSITY IN', 'Pennsylvania Avenue', 'North Carolina State University', 'South Street', 'Santa Clarita', 'Plant Riverside District', 'Calhoun County', 'the Ostrander Auditorium', 'Lazy River Motocross', 'Indian River', 'the Golden Isles Development Authority', 'Habersham Street', 'SUFFOLK COUNTY', 'South Beach', 'San Luis Obispo', 'River North', 'Tanner Brown', 'The Dome at America’s Center', 'the Imperial Valley', 'the City of Naples', 'the Olmstead Homes', 'Coastal Georgia', 'Fort Sill', 'the Rock Island Arsenal', 'the Rose Garden', 'Cherokee County', 'Thomasville Heights', 'Hempfield Area', 'Black Creek Gorge', 'Southbend Park', 'Fort Stewart', 'Levis Stadium', 'Trammell Road', 'Greenwood County', 'Cobb County Line', 'Idaho Medicaid', 'Brookhaven City Hall', '71st Street', 'Miami-Dade County', 'Charge\\\\n\\\\nZack and', 'Blossom Drive', 'Peters Street', 'Appalachian State', 'Cape Town', 'the Fisherman’s Wharf', 'Crawford County\\\\n\\\\nUpdated', 'The Philadelphia Eagles - Arizona Cardinals', 'Washington Street', 'Bluff Drive', 'Grand Cayman Island', 'Bowling Green', 'Dekalb County Police', 'La Coloma', 'Johns Creek', 'NORTH PORT', 'St Louis', 'Heathwood Hall', 'Everglades City', 'Gage County', 'the Hollywood Walk of Fame', 'Nikolas Cruz Marjory Stoneman', 'The Village Dunwoody', 'Henderson County', 'the Tampa-St. Petersburg', 'el 74%', 'the Countess of Chester Hospital', 'east Kentucky', 'North Fulton', 'the AFC West', 'The City of Arnold', 'the Sugar Land', 'Rome City Schools\\\\n\\\\nMore', 'Kendrick Road', 'Hill Street', 'New York City Transit Authoritys', 'West Portal', 'LUMPKIN COUNTY', 'West Des Moines Valley', 'Magnolia St.', 'Colbert County', 'Genoa City', 'Paper Mill Road', 'LAURENS COUNTY', 'Chatham County District', 'Collins Hill Football\\\\n\\\\nScenes', 'Colorado Springs City Council', 'Arrest Date 09/15/2022', 'Summerhill Avenue', 'the Scorpion King', 'East Central', 'South Fulton', 'St. Francis CARE', 'Mt. Paran Christian', 'Gadsden City', 'Boca Grande North', 'Rocky Mountains', 'the Ogeechee River Basin', 'West Forsyths', 'the Missouri Constitution', 'Mount Vernon Highway', 'Legislature District', 'Mt. Sinai', 'the Coosa River', 'the Rabun County Detention Center', 'West Hollywood', 'Route 91', 'the Broad River Bridge', 'Chester County\\\\n\\\\nUpdated', 'Southern Memorial Cemetery', 'West Gwinnett Street', 'Michigan State', 'Raegan Pitts', 'Arbor Place Mall', 'Ashton Gate Stadium', 'First Street', 'Naval Submarine Base Kings Bay', 'Northern Colorado', 'St. Lukes Hospital', 'Dougherty County Jail', 'Dahlonega Funeral Home', 'Glover Park', 'Piedmont Road', 'K Street', 'Rose Bowl Stadium', 'Van Nuys', 'Madison Southern', 'Plant Wansley', 'Club Drive\\\\n\\\\nLAURENCE REISMAN/TCPALM', 'Solomon Islands', 'Mystic Lake Casino', 'North Rhine-Westphalia', 'the Strip District', 'Pine Hills Golf Course', 'the Tampa Bay Rays 4-0', 'new jersey', 'TROUP COUNTY', '14 W. Main St.', 'Broadview Heights', 'the International Ayrshire Show', 'the San Diego Open', 'Rabbit Valley Farmers Market in Ringgold', 'Whitfield County Schools', 'Bentley Road', 'Halsted Street', 'Oak Drive', 'Peyton Lands', 'St. Pierre', 'the Alliance Theatre', 'Grand Boulevard', 'the Buckhalter Road', 'Interstate 575', 'ORANGE COUNTY', 'Woodford County’s', 'East Alabama', 'spur states', 'L.A. City', 'the City Hall', 'Point Park University', 'Western Kentucky', 'New Jersey State', 'Lexington Park', 'Black Sand Beach', 'AFC East', 'the Beau Rivage', 'Semmes Avenue', 'Eastern Europe', 'Mauna Loa', 'Hong Kong’s', 'Alexandria City Public Schools', 'Bay St. Louis', 'the NGAC West', 'Elbert Countys', 'Mackenzie Pickens', 'Volusia County', 'Stuckey Family', 'Charlotte County Prummell', 'River Valley High School', '110 Airport Road', 'Atlantic Station', 'Sac State', 'Gotham City', 'the Battle of Alberta', 'Dalton State', 'Old Decatur Cemetery', 'the Greater Des Moines Partnership', 'The City of Philadelphia', 'Dallastown Area', 'Western Missouri', 'North Dakota', 'Buckner Rd', 'Corbin Carroll', 'Second District', 'Hart County', 'Old Pendergrass Rd', 'Kennesaw Mountain', 'Douglas Countys', 'Pine Avenue', 'City Square', 'Owings Mills', 'Hall County Schools', 'Tattnall County', 'East Garfield Park', 'Grindstone Drive', 'the Hall County Jail', 'the Lincoln Memorial', 'South Dakota State', 'Schuykill County', 'Southeast Michigan', 'Beaver Ruin Road', 'Windsor Hills', 'Cobb County Fire', 'the Card Sound Bridge', 'Henry Street', 'Mercatus Center', '8th avenue', 'Saunders County', 'Union Street', 'the Ogeechee River', 'Charlottesville City Schools', 'Sarasota Bay', 'Ware County', 'South Point 400', 'Pine Mountain', 'Pine Lake', 'Prior Lake', 'Interstate 85', 'Merced County', 'Spyglass Hill', 'Del Rey', 'Carbon America', 'Geiger Point', 'Leon County', 'Gregg County', 'Midway Road', 'Key Largo', 'the Saline County Jail', 'South Omaha', 'Grand Avenue', 'Olympic Drive', 'East Baltimore', 'San Joaquin Valley', 'Coney Island', 'the Financial District', 'Interstate 580', 'Green Bay-Chicago', 'EAST CHICAGO', 'Minneapolis City Hall', 'Rapid City', 'the North Perry Airport', 'LETCHER COUNTY', 'Poinsett State Park', 'New Manchester', 'East Java’s Blitar', 'Polk City', 'Fort Crook', 'Green Bay\\\\nNew England Patriots', 'Citizens United', 'The Prince of Egypt', 'North Baltimore', 'South Miami-Dade', 'Championship Girls', 'the Mercatus Center', 'Jefferson City', 'Pinal County', 'Washington state’s', 'Caldwell County', 'The Grand Opera House', 'David City', 'JEFFERSON PD', 'Stephens County', 'the District of Columbia', 'the Wilmington International Airport', 'the Dublin Fighting Irish', 'Skylands Stadium', 'North and South Carolina', 'the Flint River', 'Navy Pier', 'MD Anderson Cancer Center', 'Exit 41', 'Mt. Zion-Jonesboro', 'Langford Parkway', 'the Osage Centre', 'Platte County', 'Richmond County', 'Wood River', 'Joint Venture Park', 'NEWTON COUNTY', 'the Glen Canyon Dam', 'Lakeview-Fort Oglethorpe', 'Colorado Parks', 'Haralson County’s', 'Cook County State’s', 'Davis Street', 'Peyton Place', 'Los Angeles District', 'Woodland of Cartersville', 'Metro Manila', 'DeRenne Avenue\\\\nUpdated', 'San Fernando Valley', 'Spencer Park', 'northeastern city', 'Jacksonville International Airport', '125th Street', 'The Haralson County Rebels', 'Fort Zumwalt', 'Evans Memorial\\\\nUpdated', 'Western Pennsylvania', 'Glenwood Boulevard', 'Gate 14', 'Saline County', 'Butts Mutts', 'Community United', 'T-Mobile Park', 'Fall River', 'the Healthy Choice', 'Logan County Cougars', 'Sin City', 'Grand Rapids', 'the Great Mississippi River Flood', 'the Oconee River', 'Middle District', 'Jackson Street', '5th Congressional District', 'the Mississippi Gulf Coast', 'Whitaker Street', 'West Bend-Mallard', 'the Space Coast', 'Dry Creek Trails', 'Angelina County', 'the Beau Rivages', 'Beaver Road', 'Toa Alta', 'Clearwater Beach', 'South Allegheny', 'the Golden State', 'Myrtle Beach', 'the Moscone Center', 'Aiken County', 'The War Eagles', 'Harris Drive', 'the Lakeview Room Chapel', 'the Sunbelt Ag Expo\\\\nUpdated', 'Newport History', 'Sugarloaf Mills Mall', 'Bristol Bay', 'North Broad Street', 'Calhoun State Prison', 'East View Cemetery', 'North Central Avenue', 'Kiska Island', 'Greene Street', 'Emanuel County', 'Cumberland Boulevard SE', 'Myrtle Hill’s', 'Marin County', 'Quan Hampton', 'Bonita Beach', 'North Port Estates', 'Hotel Tybee', 'Windsor on', 'Boynton Beach Blvd', 'el futuro', 'the Le Bonheur Children’s Hospital', 'Empower Field At', 'Welcome All Park', 'the Georgia Diagnostic and', 'Benton County', 'the Gwinnett County Fair', 'The Georgia Gang', 'New York Mets', 'Team Alpha Male', 'Chastain Road', 'Polk County', 'Cleveland Avenue', 'West Road', 'Isanti County', 'Jefferson City Schools', 'the Peace River', 'Sacramento State', 'Ford Avenue', 'Second Harvest', 'Indiana Football Hall of Fame', 'Lucas Oil Stadium', 'Chambers County', 'Daly City', 'South Florida', 'North Shore', '8th Street', 'Sheboygan County', 'North Dahlonega', 'the Brooklyn Nets', 'Lake County Sheriff', 'South Burlington', 'Madison County State’s', 'Latah County', 'the Lake Erie Walleye Trail Championship', 'HALL COUNTY', 'Hamilton County\\\\n\\\\nUpdated', 'Parkway South', 'Allen Road', 'St. Mark’s', 'San Diego Open\\\\n\\\\nSecond', 'Burke County’s', 'EL PASO', 'Cade York', 'Mississippi Valley State', 'Grand Strand', 'the Balboa Reservoir', 'St. Anthony', 'Jackson Countys', 'Lake Pontchartrain', 'Atlanta\\\\n\\\\nUpdated Sep ', 'Fort Washington', 'Red River', 'Worship Center', 'Carmichael Funeral Home', 'Dallas County', 'the Princeville Fall Classic', 'Upper East', 'Big East', '4th Congressional District', 'Target Field', 'Burbank Drive', 'Carroll County', 'Tunnel Hill', 'Chatham County’s', 'Gwinnett County Jail', 'Riverside Drive', 'the Harvard Kennedy School', 'Toombs County', 'Mount Sinai Hospital', 'Austell Road', 'Spaceport Camden', 'South Carolina Gamecocks', 'Valdosta State', 'WEST PALM BEACH', 'Crown Jewel', 'the Orange County', 'Hyde Street Pier', 'Lower Manhattan', 'West Hill Cemetery', 'HONG KONG', 'Baton Rouge', 'Cedar Cliff', 'Eastern District', 'the City of Savannah’s', 'Mill Creek Football\\\\n\\\\nUpdated', 'Kia Georgia', 'Clifton Forge', 'West Lake Street', 'El Tiny', 'Providence Park', 'Central Texas', 'Walter Cantrell Stadium', 'the Garden District', 'Sacramento County', 'Montgomery County’s', 'Duchess of York', 'Cresta Drive', 'East 120th Street', 'the City of Oregon', 'New Smyrna Beach', 'the City of Miami', 'Hay Bale Trail', 'East Texas Now', 'Turpin Stadium', 'the Florida Straits', 'Ponderosa Drive', 'Sioux Center', 'Daytona Beach International Airport', 'South Choctaw Drive', 'the Casco Bay Ferry Lines', 'Savannah 0', 'Hardman Rd.', 'Baltimore County', 'Park Avenue', 'Guaranteed Rate Field', 'JEFFERSON CITY', 'Thayer County', 'New Macland Road', 'Page County', 'Damian Bowden', 'Golden Rams', 'Salt Lakes', 'Madison Cawthorn of North Carolina', 'North Loop', 'Ventura County', 'the Walker County', 'the Travis County Expo Center', 'Garden City’s', 'the Kanawha River', 'I-16 East', 'Talmadge Bridge', 'Greater Johnstown', 'North Fulton County', 'Wakisha Bailey', 'Charlottesville United', 'Calhoun 40', 'Coffee Countys', 'Fort Gordon', 'the Air Force Memorial', 'the Stimson Center', 'the Hudson River Derby', 'Raider Valley', 'Florida State', 'Canary Islands', 'Middle Township', 'the Port of Savannah', 'SAN ANTONIO', 'City of Refuge', 'Six Flags Road', 'Elk Grove Village', 'Richmond Hill 28', 'the Central Iowa Healthy Kids Coalition', 'Wildcat Park', 'Brooks County', 'the Spice Girls', 'Marion County', 'Newport Township', 'Pearl Harbor', 'The South Carolina', 'Green Bay Packers @', 'Amazon Prime', 'Dane County', 'the Georgia-South Carolina', 'American Family Field', 'Magnolia Drive North', '2nd Avenue Pier', 'Gwinnett County', 'Silver Star', 'The Houlihan Bridge', 'PEACHTREE CITY', 'Polillo Island', 'HENRY COUNTY', 'Red Hill', 'Fort Zumwalt East 0 0 0', 'the Stephens County Senior Center', 'California Golden Bears', 'Flagler County', 'the Rose Bowl', 'Port of', 'Lee County Sheriff', 'West said', 'Bulloch County’s', 'New York’s', 'Hiram Douglasville Highway', 'Columbia County', 'West Cobb', 'King Island', 'North Cobb - North Cobbs', 'Dell Rapids', 'South Douglass Road', 'Redfern Village', 'SALT LAKE CITY', 'East Broughton Street', 'North Clayton', 'Hamilton Street', 'West Point Lake', 'San Diego/Dodgers', 'the Phoenix Crime Lab', 'New Orleans', 'Cumberland Point Drive', 'Duncan Bridge Rd', '26th Street', 'St. Peters', 'Hyde Park', 'St. Albans', 'Southwest Georgia', 'Nueces County', 'North Georgia State Fair\\\\n\\\\nMARIETTA', 'Rhode Island\\\\n\\\\nUpdated', 'the Yates Family Orchard', 'Patriots Hall of Fame', 'South Oak Cliff High School', 'Charm City', 'the Parish Hall', 'East Coweta', 'Michigan Stadium', 'Harris County', 'Anne Arundel County', 'the Evergreen State', 'Mount Zion Cemetery', 'Lula Road', 'West Texass', 'Port Wentworth', 'Santa Barbara', 'El Sereno', 'Hendry County', 'Fort A.P. Hill', 'Martha’s Vineyard', 'the Fighting Illinis', 'Mason City', 'the Chattanooga Valley Lady Eagles', 'Camden County’s', 'Mesa County’s', 'Tooele County', 'San Jose’s', 'Jefferson Street', 'Woodruff Riverfront Park', 'Cobb Parkway N.', 'East Liberty', 'North Platte', 'Briarcliff Road', 'the Lower Mississippi', 'St. Vincent de Paul', 'the City of Decatur', 'South Carolina’s', 'Star Garden', 'Cape Airport', 'Windsor Castle.', 'The Carter Center', 'Genesis West', 'Mississippi State’s', 'The Hostess City', 'Lowndes County Schools', 'West Houston Street', 'Lincoln County\\\\n\\\\nUpdated', 'North 27th Street', 'L Streets', 'Avondale Stadium', 'Grundy County', 'Pacific coast', 'Santa Rosa-Petaluma', 'Clairmont Road', 'Oglethorpe County’s', 'Southside Commercial Parkway', 'Cooper River', 'West Metro', 'Ashley Avenue', 'the Naval Special Warfare Training Center', 'Myakkahatchee Creek Environmental Park', 'Haymarket Park', 'St. Michael', 'Holton King', 'West Mifflin', 'U.S. Highway 301', 'the Woodbury County Courthouse', 'Putnam County', 'Appling County', 'New Hampshire\\\\n\\\\nSmuttynoser', 'Myrtle Avenue', 'Arrest Date 09/16/2022', 'Mexico Beach', 'the Altamaha River', 'publicChatham County', 'Gay Street', 'Cane Bay', 'the City of Elberton', 'San Gabriel Mountains', 'the Cathedral Lake Trail', 'the Dawn Center', 'MERCED COUNTY', 'WAYNE COUNTY', 'Northern California', 'Burnt Hickory Road', 'the Red Sea', 'Braves Field', 'Helen Pirkle', 'the Texas State Cemetery', 'Sarpy County', 'el 71%', 'Union Square', 'Northwest Georgia’s', 'St. Simons Island', 'West Georgia', 'St. Judes', 'Houston County', 'West Wing', 'the Great Lakes', 'the Parker Family', 'Northwest Florida', 'East Laurens', 'Orchid Island', 'Taipei City', 'East Drive', 'Atlanta City', 'New Hampstead', 'Kinnick Stadium', 'East Georgia', 'South DeKalb', 'Oglethorpe Road', 'Wilcox County', 'Prince Edward', 'INDUSTRIAL TOWNSHIP', 'Keep Golden Isles Beautiful', 'Al Bishop Drive', 'Savannah State', 'Second Street', 'East Cobb’s', 'Kiawah Island', 'Pierce County’s', 'McCracken County', 'New York City Queer Club Scene', 'Southwest Missouri', 'the City of Fairfax', 'Sunset Memorial Park', 'Heedum Field', 'the Creek Water', 'Hawaii Island', 'Missouri Senate', 'Crisp County', 'Humboldt Park', 'Peoria County', 'FAIRFAX COUNTY', 'West Central', 'Sedgwick County', 'the Jefferson Civic Center', 'Crenshaw Boulevard', 'SHIAWASSEE COUNTY', 'Kankakee County', 'Oglethorpe County', 'Jaycee Stadium', 'South Mountain Park', 'Death Valley', 'North Oconees', 'Adams Park', 'west Lincoln', 'Ft. Lauderdale', 'the City of White', 'the Mayo Clinic', 'Hart County Golden K', 'the City of', 'UFC Vegas 62', 'Cloudland Canyon State Park', 'El Campo', 'Feeding America', 'West Georgia Tech', '5274 Dogwood Drive', 'North Idaho', 'FirstEnergy Stadium', 'Baylor 31-24', 'the Knox County Sheriff’s Office', 'Bonita Springs', 'Watkins Pond Road', 'Punta Gorda', 'Shiawassee County', 'Los Angeles Sparks', 'Robins Air Force Base', 'El Dorado County', 'the Great Pumpkin Farm', 'Walker County', 'River City', 'East Second Street', 'Silicon Valleys', 'Western Dubuque', 'Waterford Township', 'the City of Roswell', 'Brantley County', 'North Bay', 'Pigeon Forge', 'Telegraph District', 'McIntosh County', 'Burruss Elementary School', 'Blue Ribbon', 'Lucas County Regional Dispatch', 'New Bedford', 'Pooler Parkway', 'the Historic District', 'Husky Stadium', 'College Avenue', 'the City of Madison’s', 'Broad River', 'the Greater Savannah', 'Mount Sinai South Nassau', 'Santa Clara', 'Mt. Bethel', 'the Chatham County Detention Center', 'the Guardian Building', '16th Street', 'Hollywood Discotheque', 'Druid Hills', 'the Philadelphia Eagles', 'Thompson Stadium', 'Carrollton City', 'OKLAHOMA CITY', 'The Franklin County High School Class', 'Upper Manhattan', 'Pacific Ocean', 'the North Carolina Marine Corps', '39th Avenue', 'New Englands', 'Waihere Bay', 'the Philadelphia Union', 'Wadley Drive', 'Crittenden County', 'Spann Circle', 'South Los Angeles', 'the Mississippi Coast', 'Northern Illinois', 'Sumter County\\\\n\\\\nUpdated', 'the Crenshaw District', '71st Avenue', 'Saddle Ridge', 'the Kia Georgia Training Center', 'Bull Street', 'Washington D.C. Copyright', 'the Hamilton County', 'Panama City Beach', 'Ames Avenue', 'Santa Maria', 'Woodbury County', 'Peachtree Rd', 'McGregor Street', 'Camp Creek Elementary', 'Third Avenue', 'these Jalapeno Bacon', 'Madeira Beach', 'Valdosta State Prison', 'the Rome-Floyd County Library', 'Orange Street', 'the Loch Ness Monster', 'Rocky Mountain', 'Effingham County’s', 'Nehemiah Martinez', 'the Griffin Bears', 'Grady Memorial Hospital', 'Peachtree Road', 'Lincoln Park', 'the Burke County', 'Ohio State', 'Ala Moana', 'East Columbus', 'Center Parc Stadium', 'East 12th Street', 'LAS VEGAS', 'the Macon City Auditorium', 'the BP Husky Toledo Refinery', 'Canton Road', 'Penta Center', 'Camp Hale', 'Salt Lake Boulevard', 'Beech Avenue', 'Lay Lake', 'Sanford Stadium', 'Cedar Falls', 'Southern California', 'Nakai Poole', 'Freeman Park', 'Hillcrest Drive', 'St. Louis Rams', 'Newnan 14', 'St. Tammany', 'Athens Street', 'Citi Field', 'Nashville Street', 'Fairmount Park', 'Oaknoll Memorial Gardens', 'Wade Walker Park', 'The Breast Center', 'Western Europe', 'North Carolina Highway Patrol', 'Boca Chica', 'BRYAN COUNTY', 'Dan Pitts Stadium', 'DES MOINES', 'Coolray Field', 'New Jersey’s', 'St. Stanislaus', 'DuPage County', 'the Cabo Verde Islands', 'Golden Harvest', 'Hudson River Valley', 'Rockingham County', 'the Callaway Conference Center', 'Brookstone 33', 'the Gordon County Campus', 'North St.', 'the Gulf of Mexico at Mobile', 'Surf City', 'Decatur City Hall', 'McDonough County', 'North London', 'Polo Club Boulevard', 'Birmingham City Schools', 'the Cook County Sheriff’s Office', 'Black Point Inn', 'Oglethorpe Avenue', 'the King Trail', 'Greater Cincinnati', 'Arden Hills', 'the Jackson County Panthers', 'East Chain', 'Berks County', 'Camelback Family Planning', 'Highway 90', 'West Hartford', 'a Bay Area', 'the North East', 'Garland City', 'Jackson Memorial Gardens', 'L.A. Rams', 'Holyoke city', 'Mt. Pisgah', 'West Midlands', 'Santa Anita', 'North Sacramento', 'Calf Canyon-Hermits Creek', 'Monument Park', 'Video Vault', 'the White County Courthouse', 'the Kennedy Space Center Visitor Complex', 'Rocky Creek', 'Lewis Nail Road', 'SHI Stadium', 'Palos Heights', 'the Cobb Civic Center', 'Mt. Lebanon', 'Lee County’s', 'St. Mary’s', 'St. Johns', 'Aquatic Park', 'Ryman Auditorium', 'New York State', 'the Island View Casino', 'San Salvador', 'Dean Avenue', 'Wenatchee River', 'Fort Niobrara', 'South Cobb Drive', 'New York Fashion Week', 'Gilmer County', 'Raider Valley\\\\n\\\\nMARIETTA', 'The Heights', 'Williams Field', 'the Essex County Fairgrounds', 'HAMPTON COUNTY', 'West Sides', 'Ocean Beach', 'Mountain Views', 'Kona Ice', 'Peachtree Corners', 'the Olde Town Pavilion', 'Pickens County', 'University Avenue', 'Priest Lake', 'the Anamosa State Penitentiary', 'San Lorenzo Valley High', 'the Henry County Kiwanis Fair', 'Carver Street', 'The City of Rome', 'East London', 'the North Orlando Rowing', 'Lake Charles', 'Hampton Glen', 'LaPorte County', 'Riverside Military', 'Ellis County', 'South Downtown', 'Nebraska City', 'Cedar Creek', 'the Florida Peninsula', 'MacDill Air Force Base', 'Los Angeles County', 'Rose Hill Cemetery', 'Catoosa County’s', 'Minnesota Uniteds', 'Washington Highway', 'the Pro Football Hall of Fame', 'Gallery West', 'Old Dixie Highway', 'Discovery Boulevard', 'the Washington W. King/College Avenue Bridge', 'the Tampa-St. Pete', 'South Minneapolis', 'the Fox Theatre', 'West Monroe', 'Florida Atlantic', 'Changi Airport', 'Kinloch Field', 'Katmai National Park', '27th Street', 'Beehive Daycare', 'Prosser Lake', 'Cass County\\\\n\\\\nUpdated', 'the Twin Falls Presbyterian Church', 'Craigtown Road', 'Second Street South', 'David Booth Memorial Stadium', 'Yosemite National Park', 'Harney Street', 'Bay District Schools', 'Windsor Great Park', 'Chastain Rd', 'Merced County Undersheriff', 'Simpson County', 'the Pacific Ocean', 'GILMER COUNTY', 'Charlotte Fire', 'Hempfield Township', 'East Brunswick', 'Echo Park', 'Lake Dow Road', 'L Word', 'East-West Connector', 'Glendale Avenue', 'the City of Gainesville', 'Atlanta Road', 'East Point’s', 'St. Mary the Virgin', 'St. Paul', 'Roosevelt Boulevard', 'San Antonios', 'West Allegheny', 'Mimosa Drive', 'Louisiana Tech', 'Yellowstone County', 'the East Side', 'Ridge Road or Highway 92', 'the Lincoln Air Force Base', '279/40\\\\nNorthwest Cedar Hill', 'East Carolina-Navy', 'the Braselton Civic Center', 'the Farnam Pier', 'Red Lodge', 'Rafe Banks Park', '2nd Avenue', 'Hidalgo County', 'North Brown Road Suite', 'Sunni Broughton', 'Fort Pierce', 'the Calhoun Rec. Department', 'Brittany Gilleland', 'Princess Anne', 'Northeast Georgia', 'Silverado Resort and Spas North Course', 'the Golden Hotel', 'the Wynn Casino', 'the Fellowship Hall', 'North Atlanta', 'the Augusta Marriott', 'Wrightsville Beach', 'Callaway Gardens', 'Gautier City Hall', 'the LIV Golf Invitational Jeddah', 'El Segundo', 'Southeast Portland', 'Meridian Township', 'Suffolk County', 'Spence Field', 'Paris Lake', 'Nunaka Valley Elementary', 'Hickory Hills Elementary School PTA', 'Jackson Heights', 'Marconi Plaza', 'Cotton Avenue', 'Jenkins County', 'the Tunbridge Fairgrounds', 'N.C. State', 'Daytona Beach', 'Commerce Rd', 'Brevard County', 'Chatham Parkway', 'Maverick County', 'Prince Avenue', 'SANTA CLARITA', 'the Golden Girls', 'Thousand Oaks', 'Jefferson Avenue', 'Deans Bridge Road', 'Holcomb Bridge Road', 'Spirit Lake', 'Whitney Hall', 'Community Newspapers', 'Agnes Scott', 'Santa Catalina', 'Santa Fe', 'East Cleveland', 'Bay Bridge', 'Pompano Beach', 'GARDEN CITY', 'Iowa City', 'Pinellas County', 'Pierce County', 'the Shiloh Cemetery', 'West Shore', 'South Georgia', 'South Cobbs', 'Gwendolyn Street', '35th Avenue', 'the Ocmulgee River', 'Troup County Fire', 'Virginia Beach', 'Big Sky', 'Oak Grove', 'Giving Kitchen', 'Neuse River Greenway Trail', 'Southern Illinois', 'Tampa Bay ace Shane McClanahan', 'Darrin Hall', 'The Brennan Center for Justice', 'the Plattsburgh Thunderbirds', 'Highway 24', 'Western Alaska', 'Cherokee Avenue', 'Northwest Georgia', 'Hazelwood Drive', 'Basking Ridge', 'Palm Desert', 'the Susquehanna Greenway', 'Clark County', 'Providence Canyon', 'Tupuangi Beach', 'Oregon State', 'Floyd County Superior Court', 'FULTON COUNTY', 'the Marshall Islands', 'Benton Harbor', 'the Town of Cottage Grove', 'Hidden Hills', 'the Middle East', 'Rich Harvest Farms', 'Valley County', 'Clayton State', 'St Rose', 'County Donegal', '17th Street', 'Northern Arizona', 'the Patrica Grand Hotel', 'Saint Simons Island', 'Ellis Park', 'South Fulton’s', 'Sophia Hall', 'Manchester City', 'Lake Carmi', 'Granade Street', 'the Harvest Moon', 'Marietta City Hall', 'SCHUYLKILL COUNTY', 'Colquitt County’s', 'Buena Vista', 'Camp David', 'Lake Wales', 'The City of Pittsburgh', 'the Brunswick Judicial District', 'North Star', 'the Test Kitchen', 'Arnall Drive', 'South Park', 'Cafe Pesto', 'West Germany', 'West Oakland', 'Wooten Lake Road', 'Quebec City', 'Genesis Medical Center-East Rusholme Street', 'New Hartford', 'Tierra Caliente', 'Luzerne County', 'Blue Ridge Drive', 'Kentucky ‘Run for the Fallen', 'south Cobb', 'SAN JOSE', 'W Athens Street', 'Mosquito Fire', 'Bay Harbor Drive', 'Key Biscayne', '5900 Sugarloaf Parkway', 'Jasper County', 'Middle Ponil Creek', 'Upper Peninsula', 'Schley County', 'West Nassau', 'Fort Riley', 'Ocean Springs', 'St. Lawrence Island', 'San Luis', 'Tampa Bay', 'St. Thomas', 'Hingham Harbor', 'Colleton County', 'San Diego', 'Granite City', 'the Circle K', 'Amicalola Creek', 'Lewis Ridge Circle', 'the Cornhusker State', 'Tiger Stadium', 'Fifth Avenue', 'Central Louisiana', 'River Valley Road', 'Coastal Carolinas', 'Minnesota Twins', 'Heard County', 'Turner County', 'New York Comic Con 2022', 'Baltic Sea', 'Courthouse Square', 'Central Michigan', 'La Vista', 'Route 53', 'Granger Park', 'Memorial Parkway', 'Wake County District', 'Holy Name Cathedral', 'Wood County', 'Green Ridge Square', 'Esme Murphy', 'Madison Park Academy', 'St. Teresa', 'West Village', 'the Bay Area Council’s', 'Buckhalter Road', 'Newton County Schools', 'Grizzard Park', 'Central Arkansas', 'Gainesville’s Memorial Park Cemetery', 'Henrys Lake', 'Unicoi State Park', 'Columbus 58th Wettest', 'the Mount Rushmore', 'Baseline Road', 'Lithonia Park', 'Maple Grove', 'the City of Statesboro', 'New Bern', 'Scott County', 'the Harris County Public Defenders Office', 'South Carolina ETV', 'Brook Run Park', 'Hamilton County Commissioner’s Court', 'Magic Hour Rooftop Bar & Lounge', 'the David H. Koch Theatre', 'Leddy Beach', 'Central Gwinnett', 'Baltimore City', 'Ocean Inlet Park', 'Columbus Avenue', 'St. John', 'Delaware County', 'South Island', 'St. Joe’s', 'Haynes Street', 'R-west Cobb', 'West Des Moines', 'The Liberty County Republican Party', 'Phipps Plaza', 'St. Helena Island', 'Meadowbrook Memory Gardens', 'Zoo Miami', 'the Schuylkill Expressway', 'Kharkiv city', 'Princess Charlotte', 'Manitowoc County', 'Flint Avenue', 'South Augusta', 'Westchester County', 'Fort Dodge', 'River Valley', 'Underground Atlanta', 'East Stroudsburg South', 'Nacogdoches County', 'Seton Hall', 'North Richland Hills', 'the Dawson County', 'Interstate 20', 'Sadie Ware', 'Progress Iowa', 'Crescent Beach Drive', 'Pocono Mountain', 'Westend Area', 'Doyt Perry Stadium', 'Fort Valley', 'Lewis County', 'Heard County’s', 'South Philly', 'HART COUNTY', 'South Broadway Avenue', 'Lookout Mountain', 'Bob Pearson Field', 'Mission Bay', 'PNC Park', 'Lake Oconee Village', 'Medina County', 'Humphries Park', 'Southeast Bulloch', 'the St. Simons Casino Theater', 'the Indian River County Jail', 'Altama Avenue', 'Maricopa County Superior Court', 'North Charleston', 'Callaway County', 'Cultural District', 'Razorback Stadium', 'Lake Allatoona', 'the Naval Observatory', 'East Northport', '7611 Nashville St. Call Wayne Pennington', 'the Northern Cheyenne', 'Juliana Lyon’s', 'Pine Flat Lake', '6th District', 'Cypress Hills', 'the City of Whittier', 'Mt. Paran', 'Lowndes County’s', 'Bulloch County Schools', 'Local Church Forsyth', 'Key Road', 'St. Jude', 'the City of Madison', 'Diver’s Den', 'Mid Valley', 'Presbyterian Village', 'Mount Airy', 'Northeast Ohio', 'West Milford', 'Northwestern State', 'East Java’s', 'Beverly Hills', 'Harrington Station', 'North Hollywood', 'the 101 Freeway', 'Truist Park', 'the Green Line', 'Thunder Valley', 'the Mission District', 'Long Grove', 'Godfrey Stadium', 'Walnut Creek', 'Hwy 90', 'the Jackson County Courthouse', 'Rodenburg Avenue', 'the C.W. Grant Student Union Amphitheatre', 'Black Hawk County', 'Still Family Farm', 'Campbell County', 'the Garden City Police Department', 'PHENIX CITY', 'Marion County\\\\n\\\\nUpdated', 'the Habersham County Detention Center', 'Washington D.C.s', 'Tumlin Park', 'Green Bay’s', 'Prince Tate', 'Washington D.C.', 'the Ohio River', 'the White County Sheriffs', 'the Houlihan Bridge', 'Patriot Homecare', 'Suwannee River', 'Hickory Grove Road', 'Chattanooga State', 'Osprey Cove Drive', 'the Kennedy Space Center', 'NC State', 'Eastern Kentucky', 'Weaver Street', 'Ozone Park', 'Potter Drive', 'Empower Field', 'South Effingham’s', 'the Renaissance Tower', 'Jupiter Inlet', 'St Edward’s', 'Ga. Highway', 'Hudspeth County', 'The Gem City', 'Skyview Drive', 'Mount Paran Chri', 'Seaboard Industrial', 'Cobb Parkway NW', 'Pooler Stadium', 'San Antonio', 'Black Rock Mountain State Park', 'Austen Earp', 'Montana State', 'Lake Underhill', 'Sheridan Road', 'the Charleston Battery', 'Los Altos Pkwy', 'Northside Drive', 'South Marietta Parkway', 'Jefferson County\\\\n\\\\nUpdated', 'Washington Farms', 'Pacific Palisades', 'the East Bay', 'Mountain View Road', 'The South Carolina Gamecocks', 'Las Vegas Boulevard', 'St. Louis\\\\n\\\\nUpdated', 'the United States Parachute Association', 'East Ridge', 'Texas City', 'Marco Island', 'SAN MATEO', 'the Carroll County Jail', 'the Georgia State Prison', 'Green Connection', 'Dodger Stadium', 'Barron Stadium', 'St. Louis-area', 'the Grand Ole Opry', 'Michigan Avenue', 'Hampton 7\\\\nParkview 41', 'ZOLFO SPRINGS', 'District Live', 'Wayne County High School', 'Alcatraz Island', 'Centre County', 'South LA', 'the Highland Park', 'Lakeside Drive', 'Calhoun 50', '13th Street', 'Oak Lake Park', 'the Etowah River', 'Hickory Grove', 'the Summit on Fire Prevention', 'Greater Savannah', 'the Crow Creek Reservation', 'Orlando Citys', 'Adair Park', 'Cobb County Water', 'Kan. Kansas', '251 Airport Plaza Blvd', 'the NGAC East', 'DeSoto County', 'Warm Springs', 'Hamilton Medical Center', 'Huntington Beach', 'City Park', 'Sea Pines Resort', 'North East', 'Kootenai County', 'Horseshoe Lake', 'the Tahquitz Peak Fire Lookout', 'Porter County', 'Paso Robles', 'Columbia County’s', 'the Chickamauga Public Library', 'Pinar del Rio city', 'Salt Lake City', 'the City of West Point', 'Stone Mountain Park', 'Public Safety Drive', 'Fort Oglethorpe Assisted Living', 'South Rome', 'the Golden Eagles', 'Clarke County', 'Mimosa Boulevard', 'Cabarrus County', 'East Broad', 'Newnan 31', 'Silk Citys', 'Niagara County', 'the Anderson County Detention Center', 'Cayman Islands', 'the San Francisco', 'North Gwinnett’s', 'Incheon International Airport', 'Columbiana Centre', 'Lower Woolsey Road', 'Union City', 'West Loop', 'the Palace Arcade', 'the UFC Apex', 'San Andreas', 'Washtenaw County', 'Allatoona Creek Park', 'Redstone Hill Road', 'San Quentin State Prison', 'the Chicago River', 'Beal Parkway', 'North Las Vegas', 'Stephens Memorial Gardens', 'Grand Island', 'Lake County', 'the Port St. John Boat Ramp', 'Van Zandt', 'the Colorado River State Historic Park', 'San Mateo', 'District 7', 'west Phoenix', 'Savannah High', 'Trail Ridge', 'Black San Franciscans', 'North Mountain Avenue', 'North beach', 'the Empire State', 'Ash Street', 'Fahm Street', 'Hall County Jail', 'North Philly', 'Northview Cemetery', 'St Petersburg Beach', 'Grey Hill Cemetery', 'HENDERSON COUNTY', 'Mountain View Volleyball', 'State Farm Stadium', 'Cape Coral', 'North Miami Beach', 'the Long Island Rail Road', 'Southeast Atlanta', 'North Heights', 'Mount Vernon Road', 'Faribault Airfest', 'Jones Island', 'Eglin Air Force Base', 'Highland Avenue', 'Isle of Hope', 'Detroit City', 'Peachtree Industrial Boulevard', 'Brooklyn Park', 'Huntington Beach State', 'James Street', 'the Hartwell Library', 'Royal Oak Michigan', 'los pacientes con', 'Naugatuck Valley', 'East Chicago', 'Walnut Grove Road', 'the Chattahoochee River', 'Fort Meade', 'North County', 'East Boston', 'the North Carolina Legislature', 'KC Wright', 'Cedar Grove’s', 'Cedar Rapids', 'Moss Point', 'West Armuchee', 'Sanibel Island', 'Eastern Tennessee', 'DuSable Lake Shore Drive', 'King County', 'Pocono Raceway', 'Santa Barbara County', 'San Bernardino', 'Middle East Matters', 'Floyd County Jail Records', 'Woodall Road', 'Lincoln Square', 'west Cobb', 'East Texas', 'San Leandro', 'Hall County’s', 'VERO BEACH', 'St. Timothys', 'the Cherry Grove Pier', 'District 4', 'the Lake Country', 'Bamberg County', 'Perimeter Center West', 'North Gulfport', 'Lake Haiyaha', 'Rose Garden', 'East Carolina', 'Naval Air Station Key West', 'Northern Illinois --', 'South Burlington’s', 'the Great Galveston Hurricane', 'Gillette Stadium', 'Chatham Countys', 'Columbus 4-1', 'San Mateo County', 'Little Village', 'Saudi Arabia’s', 'Cape Canaveral', 'St. Maarten', 'Chartiers Valley', '11th Avenue', 'Karns City', 'the City of St. Marys', 'St. Louis County', 'Oak City Cemetery', 'Hillcrest Dr', 'the Tennessee River', 'Central California', 'Buford Girls Soccer\\\\n\\\\nSuccess', 'Bryan County’s', 'Richmond County Schools', 'Perimeter Mall', 'YUBA CITY', 'the Rocky Mountain Institute', 'Music City', 'WASHINGTON D.C.', 'PARKER COUNTY', 'Rountree Stadium', 'the Carson McLane Funeral Home', 'Piedmont Henry Hospital', 'John Street', 'North Hall’s', 'Sevier County', 'Fremont County', 'Tybee Island', 'Floyd County Jail', 'West Columbia', 'West Oak Lane', 'Queens District', 'BIBB COUNTY', 'Gulfport Care Center', 'New Ulms', 'Richmond County’s', 'Rome City', 'Lauryn Hill', 'Mount Charleston', 'West Atlanta', 'The Barbara Berlanti Heroes Gala', 'New Delhi', 'Lake Station', 'New Lenox', 'Kane County', 'El Paso International Airport', 'Fort Robinson State Park', 'Forsyth Street', 'Cave Spring', 'Lake Toccoa', 'St. James', 'Queen Creek', 'McFarland Avenue', 'the Oglethorpe Mall', 'Jackson County Jail', 'West Ave.', 'I-39 Construction', 'Augusta Fire', 'the United States Supreme Court', 'South Calhoun Bypass', 'Soldier Field', 'the Bexar County', 'the Lincoln Chamber of Commerce', 'Liberty Avenue', 'Junction City', 'St. Pete Beach', 'Congressional District 7', 'East Rusholme Street', 'the Bay Area Council', 'Rabun Countys', 'Nine Mile Prairie', 'Game 2', 'Fort Knox', 'the United States Agency', 'Lap 156', 'new moon', 'the Grand Strand', 'Payette County', 'Northern California Retina Vitreous Associates', 'Sapelo Island', 'the Beaufort County Detention Center', 'the Sand Creek Massacre National Historical Site', 'South Aiken', 'Douglass Park', 'LaGrange County', 'the Wi-Fi', 'Willingham Avenue', 'Mountain View Football\\\\n\\\\nUpdated', 'Beaufort County Schools', 'Cherokee Bluff', 'Indian Lake Drive', 'Tampa Bays', 'the Kootenai County', 'Southeast Missouri Pets', 'Lake Michigan', 'Buford 39', 'Forest Park 10', 'the Teacher Walk of Honor on Marietta Square', 'Mercer County', 'Florence County', 'Oak Lawn', 'Buckner Hall', 'San Joaquin County', 'the City of Dunwoody', 'the Golden Rams', 'NEW JERSEY', 'the Oval Office', 'Shaw Park', 'Griffin Memorial Stadium', 'Grant County\\\\n\\\\nUpdated', 'GREEN BAY', 'East Park Square', 'the Barclays Center', 'Acrisure Statdium', 'CLAYTON COUNTY', 'BARTOW COUNTY', 'Railroad Street', 'Clarion Area', 'Ohio Stadium', 'Town Hall', 'Bethany Hospice', 'the Eagle Pass International Bridge', 'Hamilton County', 'Central Dauphin', 'north metro', 'Western New York', 'PINELLAS COUNTY', 'Duchess York', 'Northwest Iowa', 'AIKEN COUNTY', 'Cook County\\\\n\\\\nUpdated', 'St. Martin’s', 'St. Louis County’s', 'Martin Stadium', 'Bezuidenhout of South Africa', 'Bailey York', 'west entrance', 'Angel Stadium', 'the Henry Grady College of Journalism', 'the Northwest District Patrol', 'Carroll County Schools', 'Baldwin County', 'Meadowlark Drive', 'Fair Haven', 'Colorado Avalanche', 'Metro East', 'the Biloxi River', 'Eagle Pass', 'Pulaski County', 'Front Beach Road', 'North Paulding', 'Roswell Street', 'Upson County', 'Jackson County’s', 'Gordon County’s', 'Greenwood Cemetery', 'San Diegos', 'Fort Lauderdale', 'East Los Angeles', 'Prince Williams', 'Southern Maryland', 'Kadena Air Base', 'The Russian Federation', 'Florida Highway Patrol', 'Peach Orchard Road', 'the Pacific Coast Highway', 'the Rabun County Courthouse', 'the Atlantic Ocean', 'Southeast Kansas', 'the South Jetty', 'New Tork', 'East Jackson', 'Poplar Street', 'Lambeau Field', 'Dawson County', 'Calina Lawrence', 'Dekalb County', 'Mt. Sinai Hospital', 'Thomas County Central', 'the Second District', 'Cardinal Drive', 'Garden Grove', 'MARION COUNTY', 'Stanford Stadium', 'Kennedy Space Center', 'Henry County Eats', 'Atlanta City Hall', 'Redskins Stadium', 'the Field of Dreams at', 'Washington Avenue', 'Fort Lee', 'Old Dominion', 'Payette Lake’s', 'Las Vegas', 'CHARLESTON COUNTY', 'North 25th Street', 'the Dominican Republic’s', 'BOULDER COUNTY', 'East St. Louis', 'Battery Avenue SE', 'los ojos', 'Clark County\\\\n\\\\nUpdated', 'Lemon Street', 'Roswell City Hall', 'Lincoln Center', 'Peach Belt Conference', 'L.A. County', 'South Sioux City', 'Eighth Street', 'Mt. Washington', 'the Upper East Side', 'Membership Plan', 'St. Browns', 'Brewton Cemetery', 'Santa Rosa', 'Cedar Valley', 'Fort Mitchell', 'the Convention Center', 'Douglas County Jail', 'East Tugalo Street', 'Satellite Beach', 'St. Cloud', 'Lake Okeechobee', 'Superior Township', 'St. Georges', 'North Englewood', 'The End Zone', 'County Antrim', 'Fort Lyon', 'Fresh Air', 'Amerson River Park', 'Mariposa Farms', 'Gordy Parkway', 'Elliott Avenue', 'West Franklin', 'Parkway East', 'the Ryman Auditorium', 'Sterling Heights', 'Camp David Middle Eastern', 'New York Beer Project', 'Itasca County', 'the Tennessee Highway Patrol', 'Donald W. Reynolds Razorback Stadium', 'Delta Dental', 'Manitou Springs', 'Dahlia House', 'Gaston County Schools', 'Escambia County', 'Northeast Philly', 'South Sacramento', 'the Zachry Industrial', 'Clough State Park', 'Chattooga County', 'Gwinnett County Fire', 'Pawleys Island', 'Webster County\\\\n\\\\nUpdated', 'Telegraph Avenue', 'Charleston Southern', 'Spottsville Bridge', 'the Parkway East', 'the Ritz Theatre', 'Titan Stadium', 'Granby Road', 'Waukesha County', 'Johns Island', 'Parker Road', 'Martin County', 'Gwinnett County Public Schools', 'East Atlanta Village', 'St. Lucie', 'North Augusta’s', 'East Hartford', 'East Hall', 'Hometown Heroes', 'Daffin Park', 'Auburn Avenue', 'the Laredo Port of Entry', 'the City of Tybee Island', 'The West Wing and', 'the John F. Kennedy International Airport', 'the Silver Spur Resort', 'New Berlin', 'Cedar Point', 'the @opry ♥️ Now', 'Fort Worth ISD', 'Levi’s Stadium', 'Lee Countys', 'St. Paul UMC', 'Nashville 14-2', 'Old Alabama Road', 'Lauderdale County', 'the Historic Fourth Ward Park', 'Spartan Stadium', 'Cobb County Courier', 'East River', 'LA County', 'Big Oaks', 'St. Marys', 'Cave Creek', 'Port St. Lucie', 'Stewart County', 'the Douglas County Courthouse', 'Middle Georgias', 'Antelope Valley', 'Cape Girardeau County', 'Tallulah Gorge State Park', 'Upper Valley', 'the Ocean Center', 'The Tampa Bay', 'the Family Life Center', 'the Gordon County Fire Department Station', 'Mallory Beach', 'the John W. Harshbarger Building', 'San Juan Island', 'Zayquantez Jones', 'Dauphin County', 'Pepin County', 'Shelby County', 'Baby Eden', 'Winnebago County', 'Philadelphia Eagles', 'STEPHENS COUNTY', 'NEW YORK CITY', 'Sunset Hill Cemetery', 'LA Rams', 'Damascus Road', 'the San Joaquin Valley', 'Henderson Park', 'Miami Gardens', 'the Apache Pier', 'the Gilmer County Library', 'Winnersville Classic', 'Los Gatos', 'the White County', 'the Daleville Memorial Gardens', 'Chehaw Park', 'Montgomery County', 'VOLUSIA COUNTY', 'the Mount Paran North Church', 'Tennessee Street', 'the Oyo Empire', 'Hillsborough Bay', 'Wilmington Island', 'Skidaway Road', 'Pleasant Valley', 'Delta State', 'Savannah-Chatham County Public Schools', 'Veterans Plaza', 'Lake Hartwell', 'the East River', 'the Granite Bowl', 'DeKalb Avenue', 'Joe Stock Memorial Park', 'the Buckner Rd Sidewalk', 'New York-Presbyterian', 'Camden Yards', 'West Palm Beach', 'Camden County', 'Cheyenne County', 'Floyd Medical Center', 'Columbus Park', 'Tyrie Cleveland', 'Valdosta City Schools', 'WELD COUNTY', 'the Global Life Field Arlington', 'the Clark County Detention Center', 'the Fulton County Courthouse', 'Griffin Dorsey', 'West Virginia Senate', 'the Marietta Square', 'Bryson Park', 'the United States Navy', 'Tift County', 'Quilted Raven', 'Bailey Avenue', 'JFK Drive', 'DeRenne Avenue', 'Liberty Township', 'the Burlington International Airport', 'South Fayette', 'OHare International Airport', 'Shasta County', 'Pleasant Hill', 'Cape Fire', 'North Pacific Ocean', 'Broward County', 'Southern Pines Drive', 'Cass County', 'HERNANDO COUNTY', 'the Tampa International Airport', 'the Cedartown Performing Arts Center', '6th Avenue', 'East Berlin', 'Princeton Road', 'Vandalia 13', 'the Potomac River', 'Jerek Hall', 'Etowah River Park', 'Hollywood Bowl', 'Oklahoma States', 'Pico Canyon Park', 'Metro Detroit', 'GUILFORD COUNTY', 'the Republic of Texas', 'Northern Lebanon', 'Forest Lawn Memorial Park', 'Vermont’s Environmental Court', 'Fort Calhoun', 'Homemade Nachos Worth', 'North Augusta', 'Atlantic City’s', 'Paulding Avenue', 'Green Bay', 'the Mill Creek', 'Monroe County', 'Arizona Stadium', 'Nye County', 'Douglas County’s', 'Lower East Side', 'Interstate 475', 'Clayton City Hall', 'Bayfront Park', 'District of Columbia', 'Adams County\\\\n\\\\nUpdated', 'Calhoun City Park', 'Monarch Village Way', 'Waikoloa Beach Drive', 'Hollingsworth Road', 'Chester County', 'the Mount Carmel Presbyterian Church', 'Washtenaw Avenue', 'Hampton Roads', 'DUNN COUNTY', 'Panola Road', 'Des Moines', 'Card Sound Bridge', 'Kauffman Stadium', 'Matthews Field', '5th Street', 'the UGA Bookstore', 'the Republic of Ireland', 'LaGrange 24', 'Dey Street', 'North Korea', 'Rio Linda', 'the City of Toccoa', 'Pearl Street', 'Windsor contributed', 'Oyster Bay', 'Central Valley', 'Beacon Hills', 'McHenry County', 'Marina Del Rey', 'the Cleveland 31', 'the Estero Recreation Center', 'Central Georgia', 'Russian Cradle Duo', 'Prince Edward Island', 'Gaines Road', 'the Kia Forum', 'Cedar Bluff', 'the SEC East', 'Barrett Parkway', 'Long Branch', 'el 61%', 'the Biloxi Lighthouse Pier', 'Kent State', 'Whitney Ard', 'FedEx Field', 'the Florida Atlantic Owls', 'Northwest Whitfield', 'Clayton County', 'Jefferson River Rd', 'the Glynn County', 'Brunswick 49', 'Mill Village Historic District', 'San Pedro', 'Seminole County', 'Cape May', 'Madison County’s', 'Drake Field', 'West 14th Street', 'St. Peter', 'South Alabama', 'Sugar Valley', 'San Francisco State University', 'Fannin Countys', 'Travis County', 'the Washington 5', 'Silverton Road', 'Five Star Stadium', 'Washington States', 'Island Drive', 'Fulton county', 'Swamp Park', 'Baltimore County Public Schools', 'Luella Avenue', 'the Star Bar', 'the Saint Andrews', 'Indian Island', 'Green Lawn Cemetery', 'Chestnut Drive', 'Orlando International Airport', 'Bonners Ferry', 'Grand Tower', 'North Ashley Street', 'Snow Creek', 'Tokyo International Airport', 'the City of Valdosta’s', 'CEDAR RAPIDS', 'the Brooks River', 'L.A. County’s', 'Fox Carolinas', 'Jacksonville State', 'Columbus 89.5', 'the Cedar Valley', 'the Kennedy Center', 'Lake Marion', 'Bomba Street', 'Greece 7-6', 'Guthrie County', 'PEPIN COUNTY', 'Tupper Lake', 'Oregon Park Baseball', 'the Chatham County Police Department’s', 'New Bedford\\\\n\\\\nLEONARDO', 'the North Coast', 'Richardson County', 'FORT LAUDERDALE', 'St. Louis County\\\\n\\\\n', 'Trask Parkway', 'Church Street', 'Mississippi 42-0', 'los padres', 'Heartland of American Park', 'Interstate 88', 'Cape May County', 'West Los Angeles', 'Mastic Beach', 'Oakland City Hall', 'College Park', 'the Met Gala - explained', 'Hanson Lake No', 'the Aleutian Islands', 'CLARE COUNTY', 'the Coca-Cola Roxy', 'the Glynn County Detention Center', 'Middle Tennessee State', 'Mitchell Street', 'St. Louis Giovanny Gallegos', 'Notre Dame’s', 'North Highlands', 'West Rebound Road', 'Kahakai Boulevard', 'Liberty Street', 'the County of Los Angeles', 'Garfield County', 'Terrell County', 'Point Park', 'Albany City', 'West Virginia\\\\n\\\\nBrown', 'Mt. Vernon', 'Detroit Lakes', 'Ragged Islands', 'Boyle County', 'North Ocean Boulevard', 'West Coast', 'New Haven', 'New York City', 'International Boulevard', 'Freedom Area', 'Washington State', 'Baltimore Citys', 'Long Island Jewish Medical Center', 'Lancaster Countys', 'Fairfield Township', 'Murray County High School', 'Lake Park', 'Columbus State', 'West Midtown', 'Heard Street', 'the MD Anderson Cancer Center', 'Camelback Mountain', 'Hancock County', 'New Mexicos', 'Quail Valley Road', 'North Atlanta’s', 'Morgan County', 'United Valley', 'FORSYTH COUNTY', 'County Road 380', 'B.L. England', 'New River', 'Heritage Park', 'Missouri River', 'Noe Valley', 'Moreno Valley', 'the Berlin Airlift', 'North Carolina State', 'Vero Beach', 'UNION CITY', 'the Ringling Bridge', 'West Ashley', 'East Tennessee', 'Calhoun Road', 'Ansborough Avenue', 'Dogwood Drive', 'North Carolina Central', 'Northern Africa', 'north county', 'BALDWIN COUNTY', 'the Madison County Library', 'New Rochelle', 'Bulloch County', 'Dakota Hudson', 'The Bay Area CyberRays', 'Fontaine Street', 'New Madrid', 'Holly Hill', 'Atlanta Street Trail/Cobb', 'Union Street Park', 'La Borinqueña', 'North Alabama', 'CHATHAM COUNTY', 'Council District 6', 'Elmore County', 'Latin Kings', 'Florida Bay', 'Miami 0\\\\nJune 25', 'North Dakota State', 'the Peoples Republic of China', 'Webster Street', 'Cobb\\\\n\\\\nCobb County', 'Falls City', 'El Dorado', 'Kennedy Center', 'Arlington Heights', 'Los Angeles Countys', 'Oak Cliff', 'Ram Stadium', 'Tennessee Highway Patrol', 'West Cobb Funeral Home and', 'Glascock County', 'Bobo Drive', 'Putnam County’s', 'Chastain Park', 'Barren County', 'the West Sea', 'Franklin County Citize', 'Route 51', 'Duke of York', 'Saint Louis', 'South Jersey', 'Union County', 'Camp Gordon', 'Coahulla Creek', 'Mill Street Plaza', 'San Francisco County', 'the Mid-Atlantic', 'Dooly County', 'the Brennan Center for Justice', 'Rockdale County', 'Elk County', 'the Columbia Convention Center', 'Poplar Bluff', 'the Capitol Building', 'Port Canaveral', 'Rainbow City', 'Monterey County', 'Hillcrest Cemetery', 'The City of Davenport', 'Eastern Washington', 'El Paso City Council', 'Rabbit Valley', 'Fairground Street', 'the Lake County', 'Black South Carolina', 'Keith Road in Ringgold', 'Flowery Branch', 'Fourth Avenue', 'FDR Drive', 'New Castle', 'Arizona State', 'Second State', 'the Waterloo Career Center Extension', 'North Middleton Township', 'Bourbon Street', 'HOUSTON COUNTY', 'Fort Pickett', 'West Springfield', 'the Niobrara River', 'New Mexico’s', 'St. Anne-Pacelli', 'St. Josephs', 'Idaho Lorax', 'Augusta State Prison', 'new City', 'Walton -', 'Legacy Healing Center', 'HILLSBOROUGH COUNTY', 'the Pensacola Lighthouse', 'Macon Regional Crime Stoppers', 'Cape Cod', 'Professional Building', 'his Hall of Fame', 'Raider Stadium', 'Cobb Parkway S.', 'R-West Grove', 'AL East', 'South Effingham', 'Middlesex Township', 'the Walker County Campus', 'The Dominican Republic', 'South Ccooa Beach', 'Appalachian Georgia', 'Winter Haven', 'Hurley Medical Center', 'the Golden Gate Bridge', 'Brundage Mountain', 'Little River Inlet', 'the Giveaway Arcade', 'Cooper City', 'Plant City', 'White Countys', 'Fort Valley State', 'Calhoun Square', 'Greeley County', 'San Jorge', 'Monument Marathon', 'Glenn Hills', 'Wheeless Road', 'the Columbia Edgewater Country Club', 'Ball State', 'Clay Road', 'Cole County', 'Poplar Springs Road', 'the Russian Federation', 'Santa Fe District', 'Pirate Harbor', 'SAN RAMON', 'St Petersburg', 'Pulaski County\\\\n\\\\nUpdated', 'St. Louis\\\\n\\\\n', 'Coeur d’Alene', 'Crazy P Arena', 'Kurt Drive', 'the Albany Civic Center', 'the Music City Bowl', 'Live Oak', 'the Superior Plumbing VECTR Center', 'Sky Valley', 'Olmsted Linear Park', 'Seventh Street', 'Brown Bridge Road', 'Wesley Arbor', 'Corinth Drive', 'Los Colinas', 'the Cayman Islands', 'Crown Point', 'Johnson City', 'the Neuse River Greenway', 'the Denaina Center', 'San Carlos Island', 'Parris Island', 'Sawyer Road Elementary', 'Venango County', 'the City of El Paso', 'Davenport Field', 'Civic Center', 'Reddick 104-110;K.', 'the South Carolina Gamecocks', 'Zolfo Springs', 'Lake Lanier', 'Back Bay', 'Black Belt', '3rd District\\\\n\\\\nIowa', 'Central Park', 'Camp Randall Stadium', 'Cape Girardeau', 'Wesley Woods of', 'Cobb County-', 'West coast', 'D-San Francisco', 'Sheriff Hill', 'Middle Eastern', 'Bay Street', 'Lackawanna County', 'the California Clasico', 'Sweet Dome', 'Jefferson County Coroner', 'Logan Airport', 'Missouri States', 'Paycor Stadium', 'the Lincoln Center', 'Stanislaus County', 'North Point Circle', 'Ector County', 'Puerto Rico’s', 'CHESTERFIELD TOWNSHIP', 'the Duke of York', 'Boiling Springs', 'Mirror Lake Connector', 'Minute Maid Park', 'Greater Perimeter', 'Mill Street', 'Pueblo County', 'Fort Masons', 'Clearfield County', 'Hart Countys', 'Fort Walton Beach', 'South Point', 'Imperial County', 'Academy Drive', 'Estero Island', 'Cranberry Lake', 'Graves Road', 'Fort Benning', 'Hawaii County', 'East Harlem', 'el 99%', 'PNC Stadium', 'Easter Island', 'Island Park', 'Rock Island', 'GROVE BEACH', 'Speedway Boulevard', 'Capitol Avenue', 'Highland Drive', 'Kanye West - who', 'Rock Creek', 'Cook County States', 'Hot Springs', 'Macon State Prison', 'WEST LAFAYETTE', 'Yuba City', 'Des Plaines', 'Buckhead Saloon', 'Maricopa County', 'Twiggs County', 'Minutemen Causeway', 'South Baltimore', 'Camp Lejeune', 'Fort Mill', 'Amelia Island', 'New York Police', 'west coast', 'Memorial Park', 'The United Kingdom’s', 'Yamacraw Village', 'Silicon Valley', 'Southwest Missouri’s', 'the Bay', 'Monroe Area', 'the Columbia County Detention Center', 'Covington Square', 'Vineyard Airport', 'Camp Hialeah', 'Golden Empire', 'Safe City', 'Fentress County', 'a White House', 'the City of Albany', 'West Sacramento', 'Cedar Grove', 'Fort Mason', 'Randolph Street', 'CU Boulder', 'Montpelier Avenue', 'Pike County Schools', 'Garden Street', 'Bartow in', '900 Newnan Road', 'the Newton County Detention Center', 'Blue Valley Northwest', 'Nashville 2-0', 'North Dakota States', 'Woodbury County District Court', 'San Diego County', 'Bourbon County', 'Fourth Street', 'Wayne Countys', 'the Las Vegas Raiders', 'Beneva Rd', 'Lindbergh Drive', 'Eagle River', 'Interstate 17', 'McDowell Road', 'Telfair County', 'Milwaukee County', 'the Rome Tennis Center', 'East Tennessee State', 'East Granby', 'Eagle Field', 'the Fountain City', 'Saint Mary’s', 'Yankee Stadium', 'Candler Park', 'Pelzer Street', 'Indiana County', 'W May St.', 'Hollywood Hills', 'St Francis Hospital', 'Neptune Park', 'South Bay', 'Swift Cantrell Park', 'Southwest DeKalb', 'North Wildwood', 'Santa Cruz', 'the Iowa River', 'San Francisco Bay', 'Arctic Boulevard', 'Barrow Countys', 'Vogel State Park', 'NEW LONDON', 'the Pardon My Take', 'Hallandale Beach', '35th Street', 'the Big E.', 'Baltimore City State’s', 'Long County', 'the Lee County Detention Center', 'Shannon Way', 'Albany Park', 'MESA COUNTY', 'Whitlock Avenue', 'Hickman Drive', 'Northern Indiana', 'Center Stage', 'Peachtree Dunwoody Road', 'Hennepin County', 'Hamilton Road', 'Polk County Jail', 'New Talavan', 'Warren County', 'the Stockton Heat', 'the Satilla River', 'Northern Iowas', 'DeKalb County’s', '56th Street', 'the David H. Koch Theater', 'Plant Atkinson Road', 'Nayak Farms', 'the southeast coast', 'Camp Hill', 'Austin FC', 'Cherokee County Fire and Emergency Services', 'the Sonoraville Recreation Center', 'Treasure Island', 'SANTA ROSA', 'Grand Forks', 'the Walker County Area', 'Thomas County', 'the Maui Invitational', 'Buckhead Village', 'Peach County’s', 'the Rams 37', 'Fort Valley State University', 'Forest Drive', 'Gordon County Schools', 'Holmes Hall', 'Fort Crook Road', 'Severna Park', 'ANN ARBOR', 'Western Avenue', 'Wilson Street', 'MENLO PARK', 'Tuscaloosa County', 'BEVERLY HILLS', 'T.H. Slater Elementary', 'Bullard Road', 'Liberty Island', 'the Amelia Park Arena', 'Allen County', 'the Fort Myers', 'Giles Road', 'Garden City', 'Wake County', 'South River', 'Esports Stadium Arlington', 'South New Hampshire Avenue', 'Boone County\\\\n\\\\nUpdated', 'Beacon Hill', 'the Heartland of American Park', 'Western Carolina', 'Erwin Street', 'Rockland County', 'Savannah City', 'R.T. Conant', 'Charleston County', 'Albany State', 'Oconee County', 'Miami 1-0', 'Park Street', 'San Mateo County Sheriffs', 'Mount Berry Mall', 'Western North Carolina', 'Decatur Square', 'the Empire Polo Club', 'Walnut Street', 'New Orleans’ Memorial Medical Center', 'Mount Zion United Methodist Church', 'Vinton-Shellsburg High School', 'Reynolds Street', 'Stokes Avenue', 'the West Point City Council', 'Wichita Falls', 'Coral Springs', 'Hanscom Park', 'Del Toro', 'Temple 16-14', 'FARMINGTON HILLS', 'Savannah Airport', 'Highway 80', 'Alumni Parks', 'the Mississippi Delta', 'the Imperial Trailer Park', 'Fort Yargo', 'Heritage Point Park', 'Monroe County\\\\n\\\\nUpdated', 'Route 70', 'South Asia', 'the Greater Valley Area', 'Charlotte County', 'Coosa Valley', 'Oak Hill Cemetery', 'MARSHALL COUNTY', 'Green Bay.', 'Hampton County', 'Tift County’s', 'the South Bay', 'Newnan 34', 'Gainesville East Forsyth', 'Southwest Baltimore', 'the Battery Atlanta', '20th Street', 'Bulldog Stadium', 'Caesars Superdome', 'NORTH CHARLESTON', 'Southwest Florida', 'NORTH KOREA', 'the Lodge Room', 'the White City', 'Philadelphia County', 'McCormick County', 'Mt. Sinai Road', 'The White House', 'Pine Island', 'Mount Union', 'the City of Philadelphia', 'San Juan County', 'Sterling Road', 'BURKE COUNTY', 'Forest City', 'Columbus 2', 'Camp Randall', 'River Ridge', 'the Mississippi River Basin Ag & Water Desk', 'the Houston County District', 'Anderson County', 'the Lehigh Valley', 'cinnamon sugar', 'the City of Superior Police Department', 'the Citi Field', 'Cedar Falls Hy-Vee', '3rd District', 'Auburn Street', 'Washington DC\\\\n\\\\nUpdated', 'Tower Rock', 'Mountain Valley', 'Park Hill South', 'East Orange', 'Tampa Bay’s', 'Tyrese Maxey', 'Lawrence Street', 'the Caloosahatchee River', 'Vidalia 36', 'Frame Park', 'Salt Lake County', 'Rossville Recreation Association', 'ALLEN PARK', 'Butte County', 'CRISP COUNTY', 'Dade County', 'Hernando County', 'VA Greater Los Angeles Healthcare System', 'The Marshall Islands', 'Newport Beach', 'the Dakin Humane Society', 'Dutchess County', 'Pinecrest Drive', 'Las Vegas Metro', 'Pike County', 'West Atlanta Street', 'Ardsley Park', 'Platte River', 'the Northern District of Illinois', 'Muscogee County Sheriff', 'Merakey Woodhaven', 'the City of Atlanta’s', 'The City of North Mankato', 'a Republic of Korea Army', 'Blue Valley', 'Night Heights', 'the Colorado State Patrol', 'Mill Rd.', 'the West Indies', 'Lowndes County Jail', 'South Atlanta', 'D. C.', 'Tenn. Lynn', 'Fairfax County Crime Solvers', 'Vanesa Circle', 'Sullivan County\\\\n\\\\nUpdated', 'Voyageurs National Park', 'the Bessey Ranger District', 'West Ponce', 'Southeastern Georgia', 'Fairview Street', 'Ross Township', 'the Cotton Bowl', 'North Cobb', 'Letcher County', 'Nissan Stadium', 'South L.A.', 'ORCHARD PARK', 'Mount Parans', 'South Carolin', 'Eveline Avenue', 'Decatur Area', 'Manchester Avenue', 'North Perry Airport', 'the Floyd County Campus', 'San Francisco’s', 'Warrensville Heights', 'OKALOOSA COUNTY', 'Mitchell County\\\\n\\\\nUpdated', 'the Rome Area History Center', 'Surfside Beach', 'North Point 0 0', 'Berkeley County', 'Forsyth County', 'Middle Atlantic', 'Flint River', 'Georgia Degrees Pay', 'Independence Hall', 'Randolph County', 'Kennesaw Avenue', 'Orange County', 'South Chickamauga Creek', 'the Border Patrol’s Del Rio', 'the Bay Bridge', 'SPARTANBURG COUNTY', 'Fort Falls', 'the Lake District', 'La Puente', 'the Albuquerque International Balloon Fiesta', 'Tarrant County', 'Fairfax County', 'Acrisure Stadium', '5th Avenue', 'the Myakka River', 'I-20 East', 'Wabash Avenue', 'Southern Columbia', 'Southeast Missouri State', 'Glen Erin Golf Club', 'Pulaski Square', 'Monroe Street', 'Farmington Hills', 'South Cobb', 'Einstein Medical Center', 'Los Angeles City Council', 'Hillsborough County', 'Red Devil Hill', 'Greater Cleveland', 'Highline Park', 'St. Clair', 'Chattanooga Valley', 'W May Street', 'King of Prussia', 'Cheatham Hill Memorial Park', 'Weld County Road', 'Walnut Grove', 'Sand Creek', 'the Valdosta 31', 'Pismo Beach', 'Paulding County', 'Stevens County\\\\n\\\\nUpdated', 'Veterans Memorial Parkway', 'South St.', 'the Mississippi Ridge Kennels', 'Barton County', 'Central Florida', 'Centennial Plaza', 'Rancho Cucamonga', 'McCarran Airport', 'Ann Arbor', 'Marshall County', 'Bradley International Airport', 'NEW ORLEANS', 'Holmesburg Prison', 'Woodward Avenue', 'Butler Avenue', 'Santa Claus', 'Savannah-Chatham County', 'Fort Meyers', 'Lap 104', 'LA City Hall', 'SAN JUAN', 'Heather Park', 'North Fort Myers', 'West Georgia’s', 'Fleming County', 'Daviess County', 'Hamilton County Justice Center', 'Clark County District', 'Ybor City', 'Northern California Bats', 'Rome City Hall', 'Santa Teresa', 'Callaway Road', 'Raleigh Ogle', 'Doris Bair Complex', 'Washoe County', 'Devils Hole', 'Chapel Street', 'Chatham County', 'Coral Canyon', 'the Gwinnett County', 'A Bay Area', 'East Longmeadow', 'Orangeburg County', 'Sumter County', 'Los Angeless', 'Branscomb Auditorium', 'Interstate 75', 'Norfolk State', 'Cordova Street', 'Elizabeth Park', 'East County Line Road', 'Clinch County', 'Fort Meyers Beach', 'New Holland', 'La Paz', 'Reid Health', 'Naval Observatory', 'the Knights Inn on Boy Scout Road', 'North Little Rock', 'the City-County Building', 'Seward County\\\\n\\\\nUpdated', 'Colonial Park Cemetery', 'Mahanoy Area', 'Logan Hall', '3rd Avenue', 'West Savannah', 'Jonesboro Road', 'Mississippi State', 'Arlington National Cemetery', 'Palm Island', 'South Forsyth', '4th District', 'Vance Brand Airport', 'Shannon LeCounte', 'Belmont Park', 'Shallowford Road', '1st Avenue', 'West Virginias', 'Glynn County', 'Oyster Bay Lane', 'Atlanta Street', 'Traverse County', 'Mineral Bluff', 'Northern State', 'Crest Lawn', 'Common Threads Family Resource Center School Program', 'Menlo Park', 'the Bay Areas', 'West Berlin', 'El Gordo', 'Bay Area Rent\\\\n', 'Idaho Falls', 'the Lower East Side', 'Harrison County', 'Springfield Street', 'Stone Mountain', 'Lee County', 'the Cobb Galleria Centre', 'the Sandy Springs Performing Arts', 'Blaine County', 'North Murray', 'Viking Lakes', 'Pitt County', 'Clark Street', 'Floyd County’s', 'Port Wentworths', 'city hall', 'Webb County', 'Dodge County', 'the United Center', 'Maddox Rd', 'Marietta Funeral Home', 'the Fort Des Moines Museum', 'Brooks River', 'San Gabriel Valley', 'the Henry Vilas Zoo', 'the Republic of Korea', 'Raymond James Stadium', 'City Springs', 'Red Cloud', 'Georgia State', 'Aliso Canyon', 'Half Moon Bay', 'Kings County', 'Salisbury Township', 'Ga. Charles', 'Roberts Drive', 'Washington D.C. Biden', 'Hinds County', 'Savannah city', 'Cypress Creek', 'Santa Monica Pier', 'Calif 9', 'Keegan Akin', 'Hammond Drive', 'North Street', 'East 4th Street Woodbine', 'Jackson Sparks', 'Oconee Countys', 'the Hastings City Auditorium', 'West Florida', 'the Gulf of Mexico', 'Southern Miss.', 'the Chattahoochee Valley', 'New York Yankees', 'Rocky River', 'Pottawattamie County', 'Hika Bay Tavern', 'Logan County', 'the Acree-Davis Funeral Home', 'the Peach State', 'Galleria Parkway', 'Austin Stogners', 'Park Ridge', 'the Truist Park', 'Mount Sinai Morningside', 'the Georgia International', 'Cranberry Township', 'West Hall', 'West Peachtree Street', 'Sawyer Road', 'Floyd County Schools', 'North Hall 69', 'the Upper Peninsula', 'Tampa Bay.', '6th Street', 'West Point', 'Louisiana State', 'Cabot Cove', 'the Copper Basin Community Center', 'Coffee County’s', 'West Omaha', 'Makiki Street', 'Oak Ridge', 'the Big E', 'Mount Moriah Road', 'Dougherty County', 'West Lane', 'East Point', 'the Nebraska Legislature', 'Sparks Street to Depot Street', 'Green Bay OB-GYN', 'Edmondson Avenue', 'Old Fourth Ward', 'the Coastal Empire', 'Penn State', 'Morning Pointe Senior Living', 'Ludlow Fire', 'Glover Park\\\\n\\\\nBusinesses', 'the United States Peanut Federation', 'Laurel Island Links', 'Thurston County', 'Holy Ground Baptist', 'Eastern Wharf', 'White County', 'York County', 'Clinton County', 'North Park Square', 'New Brunswick', 'Alabama Highway', 'South Dakota', 'the City', 'Jefferson Highway', 'Atlantic Ocean', 'Peachtree Ridge', 'the Georgia Dome', 'South Texas', 'Fresno State', 'Paradise Valley', 'Leimert Park', 'Jaiden Duran', 'Lake Country', 'Villa Rica', 'North Murray’s', 'Park Drive', 'West Orange', 'Wildwood Crest', 'West Street', 'Oak St.', 'Orchard Park', 'SRP Park', 'Rikers Island', 'Hinds County District', 'Southern Californias', 'Barrow County', 'Benson Street', 'Excelsior Springs', 'Kelly Park', 'Baldwin Park', 'Buford Drive', 'San Ramon', 'Interstate 24 East', 'North Academy', 'Interstate 89', 'The Saticoy Club', 'the Stock Island', 'CAMDEN County', 'Los Angeles Kings', 'Carbon County', 'the Port Sanibel Marina', 'West Broad', 'North City', 'Gordon Park', 'Dawes County', 'Buchanan County', 'The Classic Center', 'the City of Rome', 'Fort Myers Beach', 'Pittston Area', 'Obispo County', 'the Dorothy Chandler Pavilion', 'the City of LaGrange', 'Larimer County', 'Curtis Parkway', 'Bates Road', 'Licking County', 'Fulton County Stadium', 'Hallford Stadium', 'Breakneck Road', 'Interstate 40', 'the Carrier Dome', 'Apple Valley Rd', 'Forsyth County’s', 'Franklin County', 'Grand Park', 'Yavapai County', 'Interstate 40 West', 'Coastal Carolina', 'Silver Spring', 'Belle Isle', 'Solano County', 'Rush Island', 'San Jose State', 'Sims Funeral Home', 'Lexington County', 'the Queen Creek Police Department', 'Dawson Road', 'Cobb County Schools', 'Washington St.', 'Oakland City', 'Blood Drive', 'Acworth Baseball', 'Scott County\\\\n\\\\nUpdated', 'Perimeter Center Parkway', 'New York Liberty', 'the Sidney Lanier Bridge', 'D.C. Beltway', 'the Hard Rock Stadium', 'Northwestern 515-342', 'the NewBo City Market', 'BUTTS COUNTY', 'Lost Island', 'Biscayne Boulevard', 'Celtics Hall', 'Bridal Veil Falls', 'Antelope Park', 'North Myrtle Beach', 'the Sunset Cafe in Cocoa Beach', 'Northeast Florida', 'Highland Park', 'Airport Road', 'Knox County', 'Allegiant Stadium', 'Mount Zion', 'DeKalb County Fire', 'West Chester', 'South Paulding', 'Virginia Drive', 'Cherry County', 'Marietta City Schools', 'Fields Ferry Golf Club', 'South Carolina', 'Oslo Road', 'Lyon County\\\\n\\\\nUpdated', 'Interstate 4', 'Colorado Springs', 'the Patriots Hall of Fame', 'Stockton Springs', 'Nicholson City Park', 'Fulton County Schools', 'Arkose Drive', 'Marina Green', 'Del Norte', 'the Jackson County', 'Interstate 91', 'Lee Road', 'Coon Rapids', 'Thompson Street', 'Dripping Springs', 'The Common Ground', 'Rancho Cordova', 'Sylvan Road', 'East New York', 'Madison Street', 'Scammon Bay', 'New York-Newark-Jersey City', 'Sugar Hill', 'Wyoming County', 'South Gate', 'Little Rock', 'Collins Street', 'Mesa County', 'Pecos Street', 'the Nashville Sound', 'the South Carolina', 'OCEAN CITY', 'the New York Comic Con', 'Coffee County Jail', 'Rock City', 'Greene County Public Schools', 'the Florida Panhandle', 'St. Croix - 1', 'Cobb\\\\n\\\\nSarah Mangold', 'the Coosa Valley Fairgrounds', 'the Home Stretch', 'Fenway Park', 'Motor City', 'Millennium Park', 'the City and County of San Francisco', 'St. Petersburg', 'SAN SALVADOR', 'Elk River', 'Henderson Stadium', 'the Downtown City Park', 'the Ronald Reagan Building and International Trade Center', 'Martha’s Vineyard Airport', 'East Rutherford', 'Skelton Rd', 'Douglas County Courthouse', 'Jones Park', 'the Gulf South Conference', 'Central York', 'North Columbia', 'Elston Avenue', 'Tops Park', 'JUNCTION CITY', 'North Rome', 'Mt. Airy', 'East 4th Street', 'North Lee Street', 'Wilson Avenue', 'East Athens', 'Mon Valley', 'Golden State', 'POLK CITY', 'Tattnall Square', 'Lar Park Lincoln', 'the Patricia Grand Hotel', 'DAVIESS COUNTY', 'Iris Drive', 'Brockton Rd', 'Lap 107', 'the Georgia Railroad', 'Alpine Lake', 'the Bowers Meeting Room of the Rossville Public Library', 'Nicollet Avenue', 'Lowndes County', 'Southern Oaks Drive', 'Almond Street', 'HANCOCK COUNTY', 'Epps Bridge Parkway', 'Chattahoochee Avenue', 'Neyland Stadium', 'Rush Oak Brook Surgery Center', 'the Wardlaw-Bible Meeting Room of the LaFayette-Walker County Library', 'Ellwood City', 'the New York Shakespeare Festival', 'East Raleigh', 'South Floridas', 'Coors Field', 'Dougherty County District', 'Graves County Sheriff', 'Hard Rock Stadium', '30th Street', 'South Anchorage', 'the City of Rochester', 'New York Comic Con', 'Cameron County', 'Southview Cemetery', 'SOUTH CAROLINA', 'West Rome', 'Eatonton Road', 'City Pond Park', 'North Macedonia', 'Round Rock', 'the Beverly Hilton', 'Burkina Fasos', 'West Forsyth', 'Main S', 'Bleckley County', 'Paulding County’s', 'the NL East', 'Golden Gate Park', 'Healthy Savannah', 'the Klamath River', 'the War Eagles', 'the Tucker Observer', 'Floyd County', 'East Knoxville', 'the North Bay', 'Dale County', 'the Kohl Center', 'Crooked River State Park', 'Fort Wayne', 'the Nebraska Panhandle', 'Silver Bluff', 'Old Mountain Road', 'the Wortham Theater', 'Twin City', 'the Blue Earth County Library', 'Johnston County', 'the Silver State', 'Cumberland Island', 'Atlanta Intown', 'Freedom Park', 'Skyline Drive', 'Holloman Road', 'Abercorn Street', 'the Garden City Terminal', 'Richmond Hill', 'University Park', 'the Franklin County', 'North Atlantic', 'the NFL Hall of Fame', 'Catoosa Parkway', '34th Street', 'St. Simons', 'Kelly’s Market', 'Russell County', 'South Georgia Medical Center', 'Baton Rouge’s', 'La Grange', 'Blue Earth County', 'Mexico City’s', 'East Mt. Airy', 'East Macon', 'M.D. Anderson', 'Fort Madison', 'Buckhead City', 'Linwood Street', 'Eastern York', 'Morningside Road', 'the Buckhead Saloon', 'Helen Bernstein High School', 'North Texas', 'Mt. Pleasant', 'Colorado State', 'the Oconee County', 'Forest Lake', 'Camelot Illinois', 'Westroads Mall', 'North Pocono', 'Georgetown Drive', 'Woolfork Avenue', 'Adams County', 'Morten Harket', 'Silver Peak', 'Scott City', 'Boulder County', 'Banks County', 'West Bloomfield', 'the Seashore District', 'San Jose', 'Old Town', 'Rome City Schools', 'FAIRFIELD TOWNSHIP', 'New Amsterdam', 'the Cobb County Water System', 'Piedmont Avenue', 'DirectTV Stream', 'Emanuel County Jail', 'Northwestern 31-24', 'The City of Phoenix', 'Lake Oconee', 'Granada Hills', 'Mandalay Bay', 'Stony Island', 'St. Georges Hall', 'Stack Island', 'Buford Football\\\\n\\\\nUpdated', 'Tahquitz Rock', 'Fayetteville Drive', 'the Market Pavilion', 'Gadsden County', 'Brodie Field', 'New Britain', 'Marine City', 'LOS ANGELES', 'Lake Fairview', 'North St. Paul', 'East Haven', 'the West Coast', 'Statesboro City Hall', 'Palm Springs', 'Sawyer Road Elementary\\\\n\\\\nMARIETTA', 'North Carolina', 'Cristiano Ronaldo', 'Barrel City', 'the Studebaker Theater', 'the Schuylkill River', 'Arrowhead Stadium', 'North Versailles', 'Capitol View', 'Detroit Rock City', 'Garfield Park', 'Ridge Ferry Park', 'the Battle of Culloden', 'Veterans Park', 'Albany Street', 'University City', 'El Don', 'Highway 441', 'PANAMA CITY BEACH', 'Pittsburgh City Paper', 'the Great Hall', 'Habersham County’s', 'Garrard Avenue', 'Route 100', 'Central Mountain', 'Clifton Road NE', 'Del Mar', '58th Street', 'Central Columbia', 'Monroe County Schools', 'the Gary State', 'New Bank', 'Camp Carpenter', 'CLT Airport', 'LOS COLONIAS', 'Whiskey on Water', 'Costa Mesa', 'East Baton Rouge', 'HOCKING COUNTY', 'El Paso’s', 'Sandy Springs United Methodist Church Preschool', 'Pascagoula Beach Park', 'Colorado Springs Airport', 'Habersham Central 21', 'Pebble Beach', 'Tara Boulevard', 'Mississippi County', 'Alta Verapaz', 'Palm Coast', 'St. Paul’s', 'Placer County', 'Raccoon City', 'Eisenhower Parkway', 'New Franklin Rd', 'West Rowan Middle School', 'Emanuel County Schools', 'Neale Woods', 'Kennesaw Memorial Park', 'Riverside Park', 'Paisley Park Estate', 'Burns Road', 'Habersham Central', 'Arthur Ashe Stadium', 'Prince Avenue Christian', 'East Cherokee Drive', 'Rose Lake', 'Clay Street', 'Shiloh Valley Drive', 'Hywind Scotland', 'Lexington Road', 'Darlington Raceway', 'Cobb Galleria', 'the Triple Crown', 'Hardee County', 'Effingham Countys', 'Captiva Island', 'Sixth Street', 'Brookhaven Park', 'Bay County', 'Gainesville 55', 'the Eugene C. Barker Texas History Center', 'Lake Mead', 'Atlantic City', 'Cobb County', 'South Side', 'the Rocky Mountain', 'Lower Cape Fear River', 'Macon Road', 'Peterson Street', 'Habersham County Schools', 'the Rome Civic Center', 'Fort Atkinson', 'Edgewood Avenue', 'Los Angeles County Sheriffs', 'Missing Savannah', 'the Dalton Convention Center', 'Rimrock Road', 'Trident Training Facility', 'the Georgia Southern Eagles', 'Pleasant Hill Road', 'Mount Lebanon', 'CAMDEN COUNTY', 'Dodge City', 'The City of Atlanta', 'Buford City', 'Pikeville Road', 'Lynwood Park', 'Collins Hill Eagles', 'The Wimberly Center for Community Development', 'Avondale Estates City Hall', 'Johnson Street', 'Lawrenceville Highway', 'Amberly Drive', 'St. John’s', 'Vestavia Hills', 'Perimeter Center', 'Robb Elementary', 'Austin’s Zilker Park', 'the Lake County Bar', 'Richardson Street', 'Albuquerque International Sunport', 'Southeast Whitfield County', 'NASSAU COUNTY', 'Bannock County', 'Jersey City', 'Tibet Avenue', 'Potter County', 'Pawleys Island Pier', 'Ingham County', 'Stowe Mountain Resort', 'Collier County', 'the Hawaiian Railway Society', 'the AFC East', 'the Governors Island', 'Habersham Central 0', 'West Paducah', 'Lancaster County', 'Floyd Memory Gardens', 'Madison County', 'R-Ash Grove', 'the Upper West Side', 'Kosciusko County', 'Freedom Rock', 'West Chatham', 'Schenley Park', 'Metro Atlanta', 'Holiday Park', 'NEW YORK', 'Tara Molina', 'Wildcat Stadium', 'Lindbergh Center Station', 'Bucks County', 'Rome Highway', 'Broward State', 'West Laurens', 'Healthy America', 'Rochester Hills', 'South San Francisco', 'Oak Ridge Fire', 'Anderson Street', 'Talking Rock', 'Phenix City', 'Chatham County Police', 'Wrightsboro Road', 'Kennedy Funeral Homes', 'the Los Angeles Rams', 'Highway 138', 'Wallace Wade Stadium', 'Parish Hall', 'Branched Oak State Recreation Area', 'Mobile County', 'St. Nick', 'Columbia Park', 'Reser Stadium', 'the Sandy Springs Performing Arts Center', 'Loch Highland Pass', 'Bryson City', 'the Clara Shortridge Foltz Criminal Justice Center', 'Roswell Road', 'Bethany Lilly', 'the Heyward-Washington House', 'Jackson County High School', 'North Side', 'the J.W. Marriott Savannah', 'Bedford Park Boulevard', 'South Salem', 'the Empire State Building', 'the Big Island', 'Glacier Drive', 'Georgia Highway', 'District 11', 'the French Quarter', 'Falcon Stadium', 'Tharptown Elementary', 'Mount Paran North', 'Cactus Road', 'Las Vegas Strip', 'Northumberland County', 'the Polk County Jail', 'Partin Park', 'Pearl City', 'the Mon Valley', 'St. George', 'Southwest Florida’s', 'Little Gasparilla', 'Dunwoody City Hall', 'Cateechee Golf Center', 'Clifton Road', 'Lexington Avenue', 'the Detroit Auto Show', 'Irving Park Road', 'Big Boi', 'Renaissance Park', 'the Stephens County Courthouse', 'Tenn. Alabama', 'Central Avenue', 'Capitol Hill', 'FORT MYERS BEACH', 'Dudley Street', 'the Village Green', 'Orlando City', 'the Green Zone', 'the Buffalo Bills', 'Western Albemarle High', 'New Georgia', 'Moreland Avenue', 'Oak Tree Village', 'Forthlin Road', 'Muscogee County', 'Madison Avenue', 'Piedmont Henry', 'McLean County District', 'Lanier County', 'Lake Central’s Noah Pettit', 'Greenville Drive', 'Northeast Georgias', 'the Stephens County Juvenile Court', 'East Stroudsburg', 'Baconton Charter', 'Turner Lake Park', 'Jones County', 'the Dacula at', 'Lake Minatare\\\\n\\\\nUpdated', 'Broadrick Drive', 'Cape Breton Island', 'Silverado Resort and Spa', 'Adams Stadium', 'Highland Av', 'the Copper Basin', 'Collin County', 'Santa Ana', 'St. John Bosco', 'FORT BENNING', 'the Union County Panthers', 'Franklin Park', 'Old River Road', 'Savannah Fire', 'Monroe Elementary', 'St. Lucie County', 'the William Root House', 'Tattnall County Schools', 'Downing Street', 'District 2', 'Central Maryland', 'Colquitt County', 'Jurupa Valley', 'East Georgia Regional Airport', 'Monroe Township', 'Sanibel Islands', 'Tre Jones', 'Hawaii Big Island', 'the Albany Mall', 'Oak Park', 'Fort Jackson', 'Camp Smith', 'James Island', 'the Comedy Store', 'River Falls', '1st District', 'Calhoun City Schools', 'Stone Mountain Lake', 'the Tampa Bay', 'the Front Range', 'City Hall’s', 'West Side', 'Highway 80 East', 'Decatur County', 'Adamson Square', 'the Tel Aviv Open', 'The Dade County Wolverines', 'Apple Valley', 'Palm Beach', 'Shannon Burden', 'Jackson County\\\\n\\\\nUpdated', 'the City of Powder Springs', 'Brooks Stadium', 'Lawrence County', 'Town Center', 'San Diego State', 'Pontoon Beach', 'WHITE COUNTY', 'the North Atlantic', 'Lamar County', 'North Hills', 'Gays Mills', 'Crystal Lake', 'Brampton Avenue', 'Miami-Dade Fire Rescue', 'the Art Center', 'Walton County', 'FRANKLIN COUNTY', 'Vineyard Road', 'the Truman Parkway', 'Mud Creek Road', 'Red Rock', 'Vermont State Police', 'San Clemente', 'Jackson Avenue', 'Kentucky State', 'Kansas City Southern', 'Los Angeles City Hall', 'Haralson County High School', 'BREVARD COUNTY', 'Greystone Drive', 'the South River', 'Hurricane Charley', 'Wekiva Trail', 'the Charlotte Motor Speedway Road Course', 'New Buffalo', 'Floyd County\\\\n\\\\nUpdated', 'Skidaway Island', 'Crestlawn Memorial Park Cemetery', 'Balus Creek Park', 'Pyne Road', 'MD FACS of South Carolina Surgical', 'Favor Road', 'Baltimore States', 'Council Bluffs', 'Kennesaw State', 'the Los Angeles Kings', 'Central Illinois', 'Jefferson County High School', 'Mount Davis', 'Winkenhofer Pine Ridge Funeral Home', 'Fort Worth-Star Telegram', 'Healthy Choice', 'Industrial Boulevard', 'Rabun County', '1495 Roswell Road', 'Elkins Park', 'the Georgia State Patrol', 'New Jersey', 'the Cedar Falls Hy-Vee', 'the Genesis East Campus', 'the Marriott Marquis Hotel', 'Sarasota County Schools', 'Echols County', 'Charleston International Airport', 'Courtland Street', 'the Richmond Hill City Center', 'Cumberland County', 'Clinton Township', 'New Hope', 'East Cape', 'Los Angeles Field Office', 'Tell City', '84th Street', 'Maple Avenue', 'Marietta Street', 'Comerica Park', 'South Bend', 'the Upper Midwest', 'the Plata River', 'Chestnut Hill', 'North Georgia', 'FORT WORTH', 'Lehigh Valley State', 'The Spires', 'Black Canyon City', 'Boise City', 'Jackson County', 'Lanett Fire', 'Canyon County', 'Southern Miss', 'Crown Mountain Place', 'East Allegheny', 'Healthy Air:', 'San Francisco International Airport', 'Cauble Park', 'New Hyde Park', 'Tampa International Airport', 'Redmond Circle', 'Loring Park', 'Dallas Highway', 'EAST RUTHERFORD', 'Pro Baseball', 'South Middleton', 'Frederick County', 'Wichita County', 'the Queen Citys', '3227 Roswell Rd NE', 'Diamond Lakes', 'Early County’s', 'Emery Highway', 'Little Cottage Brewery', 'Gwinnett Countys', 'the FedEx St. Jude Championship', '49 Hammond Drive', 'Orange Beach', 'Horry County', 'College Street', 'East Savannah', 'North Thurston Public Schools', 'Eastern Michigans', 'Layers of Nature', 'Pinellas Park', 'the Hilton Atlanta/Marietta Hotel & Conference Center', 'SANTA CLARA', 'Rams Park', 'Russell Street', 'Main Street', 'Sierra Madre', 'Florida Atlantics', 'Lake Hollingsworth Drive', 'the Suwannee River', 'Lincoln Airport\\\\n\\\\nUpdated', 'Fox Creek', 'Nikola Jokic - C', 'Miller County', 'Clifton Ridge', 'the San Francisco AIDS Foundation', 'Cook Street', 'Nueva York', 'Irwin County', 'Elbert County', 'the Neighbor Store', 'San Joaquin County Sheriffs', 'the Middle District', 'West Cobb Funeral Home and Crematory', 'Mt. Bethel’s', 'Old City Hall', 'the Japanese Consulate General', 'Crooked River', 'Herb St. John Stadium', 'Nicollet County', 'Chicago Heights', 'Apache County', 'The Atlantic Ocean', 'the Westgate Cocoa Beach Pier', 'Lyon County', 'Little Gasparilla Island', 'Northwest Indiana', 'las tortillas', 'the City of Boston', 'the River Campus', 'Anson County', 'JASPER COUNTY DEPUTIES', 'Commerce City', 'Illinois Pacesetter', 'Pinar del Rio province', 'the Broward County Courthouse', 'the United States Naval Observatory', 'Chesterfield Township', 'LIBERTY COUNTY', 'Peachtree City', 'Goliad County', 'Hole 8', 'Houston Avenue', 'East Hammer Lane', 'McLeod Drive', 'Burn Center', 'Valhalla Stadium', 'Mitchell County', 'Williston Road', 'Roswell Area Park', 'the Camelback Family Planning', 'Beaver Dam', 'Steamboat Springs', 'Wheat Ridge', 'Jefferson County Jail', 'Oak Brook', 'San Carlos Boulevard', 'Lake Erie in Upstate', 'Cape Fear to Duck', 'Peachtree Center', 'the State of South Carolina', 'East Buffalo', 'BERGEN COUNTY', 'St. Helena', 'Packer Park', 'Costa County', 'JACKSON COUNTY', 'Lake Balboa', 'Mount Pisgah', 'FORT MYERS', 'South Dade', 'Glenwood Road', 'Camden Brown', 'Hampton Street', 'Marietta High', 'Ga. Patty', 'Orchard Beach', 'FORT VALLEY', 'Spalding County', 'Fort Myers', 'East Avenue', 'North Cobb’s', 'Lincoln Airport', 'West Union', 'Fairmont State', 'Pleasant Grove', 'Carolina Avenue', 'Simi Valley', 'Cape Fear River', 'Guilford County', 'the Pro Bowl', 'NFC East', 'the Urbana Union', 'Marietta 0', 'Savannah River Nuclear Solutions', 'Hammond Park', '156th Street', 'Chattooga 7\\\\nPerry 49', 'Newark Liberty International Airport', 'Piatt County', 'Illinois State', 'Washington Farms\\\\n\\\\nUpdated', 'Little Cumberland Island', 'North Dakotas', 'Lavaca County', 'the San Francisco VA Health Care System', 'Kings Island', 'Port Arthur', 'Ft. Oglethorpe', 'The City of Tempe', 'Lenox Square', 'Watkins Glen', 'Brown County', 'Old Savannah Road', 'Cordarrius Bailey', 'Heartland of America Park', 'North Sea', 'Cobb Medical Center', 'Peachtree Ridge Football\\\\n\\\\nScenes', 'The Minnesota Golden Gophers', 'the Grain Grabber', 'the Bulloch County Emergency Operations Center', 'MetLife Stadium', 'St. Charles County', 'Denham Springs', 'Adeline Tudor', 'Gaston County', 'Grant Park', 'Seward County', 'Willow Ridge', 'South Hills', 'South Philadelphia', 'Oriole Park', 'Yucaipa Ridge', 'Charlotte Harbor', 'North Booth Rd', 'the Tomato Bowl', 'Indiana State', 'Khyair Spain', 'ESCAMBIA COUNTY', 'Napa County', 'Highway 14', 'River View Nursing Home', 'Fort Hood', 'the Gordon Central High School’s', 'Jefferson Park', 'north coast', 'Erie County', 'Butler County', 'Los Angeles International Airport', 'Cade Yorks', 'Bullock County', 'Kansas Citys', 'The City of Wilmington', 'the Habersham County Extension', 'Bay City', 'Los Angeles’s', 'Southeast Whitfield', 'Western Carolina’s', 'the South Loop', 'Chase Field', '28th Street', 'St. George Island', 'HORRY COUNTY', 'the Plato River', 'British Virgin Islands', 'Southern Willow Farms', 'Riverview Park', 'the Hudson River', 'Indian Harbour Beach', 'Woodcock Brothers Brewery', 'East Carolina Pirates', 'the City of Monticello', 'the Strait of', 'Ga. Photo', 'the Lula Ballpark', 'North Face', 'Clay County', 'the Dallas Cowboys', 'the Delaware Valley', 'Old Bridge', 'Kincaid Park', 'North Pierce Avenue', 'Aston Park', 'Cornhusker Road', 'LaGrange City', 'New Ulm', 'the Cath Lab at Genesis East', 'Bremer County', 'Interstate 24', 'Avalon Ridge Place', 'the Toccoa River', 'Houston County Jail', 'the Lancaster County', 'Cobb Parkway', 'Orange City', 'las personas con', 'Port Chester The Capitol Theatre', 'Collins Hill', 'Colony Square', 'the City of Smyrna', 'Hope Haven Garden of Memory Cemetery in Prairieville', 'the United States Constitution', 'Cherokee Street', 'Mount Paran Road', 'Oglethorpe County High School', 'Monroe County’s', 'Holt Avenue', 'Moore Haven', 'Del Rio', 'Citizens Field', 'Ball Ground', 'Morgan County’s', 'Queen Avenue', 'Galveston County', 'West Sandtown Road', 'Fort Bragg', 'New Milford', 'Eden Prairie', 'South Kona', 'Bobby Dodd Stadium', 'Palos Park', 'Beaver Stadium', 'Clearwater Florida', 'the British Virgin Islands', 'Whitmer Memorial Stadium', 'LOUIS COUNTY', 'the Wave Organ']\n",
            "5966\n",
            "['Barnesville', 'Wyoming', 'Dekalb', 'Chatham', 'Ariz.\\\\n\\\\nBadgers', 'Easthampton', 'AAPI', 'DOUGLAS', 'Route', 'Reisterstown', 'Jupiter', 'Peralta', 'Carmel', 'Brookline', 'R-Macon', 'Roxbury', 'Mathis', 'Beckville', 'Matlacha', 'Northup', 'pre-K', 'Illinois\\\\n\\\\nUpdated', 'Kremer', 'Metairie', 'Columbus', 'Seminoles', 'Appleton', 'Clearwater', 'Palisades', 'Durham', 'Holly', 'Millard', 'Winsberg', 'Chappell', 'Maddox', 'Joplin', 'Krakow', 'Wofford', 'Navassa', 'Hyattsville', 'Underwood', 'Zavala', 'Truckee', 'Granda', 'Bossier', 'Donaldsonville', 'Bassitt', 'Hinesville', 'Cornelia', 'Selena', 'Switzerland', 'Belmont', 'Foresthill', 'LEADVILLE', 'Jeffersonville', 'Calexico', 'Brookside', 'Colombia', 'R-Portageville', 'Bowie', 'Harvey', 'Worcester', 'VENICE', 'Newton', 'Maplewood', 'Winston', 'Lithuania', 'Avenue', 'Lyon', 'Aquarium', 'Burrow', 'Enterprise', 'Utah', 'China', 'Rebeka', 'Morganton', 'Okmulgee', 'W.R.', 'Algoma', 'DALLAS', 'Bainbridge', 'Godby', 'Samford', 'Abington', 'Cecil', 'Tinseltown', 'Cumberland', 'Columbus\\\\n\\\\nUpdated', 'Inwood', 'Cambridge', 'Hixson', 'Santa’s', 'Graceland', 'Norwalk', 'Stanton', 'Emmanuel', 'Kissimmee', 'Glamour', 'Helaena', 'Neville', 'Clemson', 'Scarborough', 'Bucktown', 'Bingham', 'Rebecca', 'Hoschton', 'Miriam', 'Sevastopol', 'Pressley', 'Highland', 'Jenkinsburg', 'Idyllwild', 'Murphy', 'Sandy', 'Shiloh', 'Yuma', 'Jerusalem', 'Eufaula', 'Montpelier', 'Pensilvania', 'CR', 'Dale', 'SF', 'Bladen', 'Grove', 'Nouri', 'Rosemont', 'Dakota', 'Portal', 'Collinsville', 'Northampton', 'Sikeston', 'Delgado', 'Kolomoki', 'Beaumont', 'Hull', 'Ypsilanti', 'Evansville', 'Coralville', 'McKeesport', 'Horn', 'BEVERLY', 'Atkinson', 'Douglassville', 'Homestead', 'Louisiana\\\\n\\\\nUpdated', 'Waltham', 'Tucson', 'Zachary', 'Neenah', 'Edgartown', 'Stephens', 'Harris', 'Geneva', 'Northglenn', 'Davenport', 'Burbank', 'Menlo', 'Wilkes', 'Oglethorpe', 'Farner', 'Hagerstown', 'Loveland', 'Clearfield', 'Oshu', 'Gary', 'Wonderland', 'Santos', 'R-Columbia', 'Trafford', 'Monongahela', 'Batesville', 'L.A.', 'Honshu', 'Stockholm', 'Landers', 'Arden', 'Nikki', 'Kivalina', 'Hatch', 'Dudley', 'Giorgia', 'Cologne', 'Tustin', 'chick', 'Pocono', 'Belle', 'Swansea', 'Xenia', 'Superior', 'Curtis', 'Norristown', 'Broncos', 'Tama', 'Zaatar', 'William', 'Siris', 'Prague', 'Edén', 'Gunn', 'Nassau', 'Lakeville', 'Amina', 'Berwyn', 'Bermuda', 'Opp', 'Med', 'GAINESVILLE', 'Calabasas', 'Tully', 'R-Alaska', 'Hensel', 'Martinez', 'Northwood', 'Sunnyvale', 'Jesup', 'Brooke', 'Batavia', 'Barrington', 'Mullin', 'Conley', 'LEXINGTON', 'Sunrise', 'Lowden', 'Colby', 'Legendary', 'Oldham', 'S.D.', 'Paterson', 'Auckland', 'Frederick', 'Shandon', 'Dada', 'ALABAMA', 'WARREN', 'Gibson', 'Turnerville', 'Achilles', 'LANETT', 'Bronx', 'Lamar', 'la', 'Chattooga', 'Bale', 'Rapids', 'Alpharetta’s', 'Belvidere', 'Pakistan', 'Waterford', 'Bethlehem', 'Heath', 'Alma', 'Berkmar', 'Donegal', 'Dunwoody', 'KS', 'R-Kansas', 'Gurmendi', 'Sonora', 'MnDOT', 'Sampson', 'Massachusetts', 'Orangeburg', 'Paulding', 'Carmichaels', 'Burris', 'Chambersburg', 'Galilee', 'Milford', 'Janney', 'Virginia', 'infoGeorgia', 'Sylvania', 'Hudso', 'Shindig', 'WCHS', 'Southfield', 'Tigerville', 'Karl', 'Freeport', 'MD', 'Whites', 'Lindbergh', 'Sautee', 'Crayton', 'Jennifer', 'Garland', 'Kirkland', 'Morelli', 'Dillard', 'Hortense', 'Polk', 'Paraiso', 'Molina', 'STORIESGeorgia', 'Cambria', 'KENNESAW', 'Murrayville', 'Starks', 'Evelyn', 'Hawaii', 'Lavaca', 'Schaumburg', 'Yakutat', 'Medford', 'Margot', 'KELLY', 'Linn', 'Strait', 'Millbrae', 'Southside', 'Hephzibah', 'Smyrna', 'Radcliff', 'Quincy', 'Keokuk', 'Huntingdon', 'STOCKHOLM', 'WA', 'Malvern', 'Yulee', 'Newtown', 'Pearl', 'Nala', 'west.', 'SEATTLE', 'Newborn', 'D.A.', 'Belem', 'Bowman', 'Shreveport', 'Devers', 'Xavier', 'Hindi', 'snaps', 'Oldtown', 'Superspeedway', 'Tenn.\\\\n\\\\nDart', 'Fellowship', 'West.', 'Bonta', 'Lockesburg', 'Seabrook', 'Dasher', 'UNI', 'Natalia', 'NC', 'Logistics', 'Midville', 'Anderson', 'aOR', 'Cuba', 'Kentwood', 'L.P.', 'Hedingham', 'Quinton', 'Morristown', 'Carina', 'Camelot', 'MBoB', 'Allendale', 'DEARBORN', 'Plymouth', 'Chestatee', 'I-16', 'R-Okla.', 'Kearney', 'Carnesville', 'Kaufman', 'Fields', 'Chattahoochee', 'Brixton', 'Brighten', 'Glastonbury', 'Kronish', 'Anglesey', 'Bedminster', 'KFWS', 'strawberry', 'Stillwater', 'Cheshire', 'Georgia', 'Warrensburg', 'Lena', 'Phoenix', 'Marshall', 'Peabody', 'Murfreesboro', 'Westfield', 'Appling', 'Xinjiang', 'Duke', 'Redfield', 'Magnolia', 'Doncaster', 'Andrews', 'Pasadena', 'Inglewood', 'Dickerson', 'Crowder', 'Maynard', 'Shrout', 'JACKSON', 'Perimeter', 'Sardis', 'GA', 'Amherst', 'Adamsville', 'Germantown', 'Largo', 'Kaliningrad', 'Racine', 'Carlisle', 'Rochelle', 'ANCHORAGE', 'I-1', 'Nevis', 'Bourbonnais', 'California', 'I-565', 'Carleton', 'Brookhaven', 'NORTHEAST', 'Shippensburg', 'Santee', 'Latham', 'Manoa', 'East', 'Westchester', 'SYDNEY', 'Waterville', 'Coronado', 'Tennessee', 'Jayhawks', 'Westside-Macon', 'Tenn.', 'Spokane', 'Birdy', 'Kerrville', 'Effingham', 'Aquinas', 'Salem', 'Collierville', 'ORLANDO', 'Swainsboro', 'Blanchard', 'Somerton', 'Flynn', 'nova', 'MS', 'Manhasset', 'Sheffield', 'Hesperia', 'Doylestown', 'Nola', 'Maryville', 'Catonsville', 'Fayetteville', 'Atwater', 'Upton', 'Cuernavaca', 'Munich', 'Sourwood', 'Sedona', 'Idaho', 'Byron', 'Roseville', 'RAPIDS', 'Whitesville', 'Springdale', 'Manila', 'Crawford', 'Katy', 'S.C.', 'Moscow', 'Attica', 'Lebanon', 'Maidens', 'Baseball', 'Gaston', 'Basin', 'Rabun', 'Mercer', 'Flushing', 'Ed', 'Photo', 'Lawndale', 'Monroeville', 'Calif', 'Novato', 'Modesto', 'Watts', 'Mitchell', 'Frankfort', 'Holt', 'TEXAS', 'Boston', 'White', 'Tokyo', 'Grovetown', 'Lexington', 'Bondurant', 'Wilber', 'Briscoe', 'Arnoldsville', 'MORGANTOWN', 'Bryan', 'Ashland', 'Nobels', 'Salisbury', 'Whitefield', 'Bonaire', 'Bulldoggs', 'Holden', 'Astoria', 'Thomas', 'Primera', 'Pretoria', 'Woodland', 'FREMONT', 'Westville', 'Oahu', 'Nappa', 'Delft', 'Illinois\\\\n\\\\nStacker', 'Conyers', 'Rankin', 'Vol', 'Norcross', 'Prosper', 'Nicetown', 'AUSTIN', 'MOSCOW', 'Victoryland', 'Reynoldstown', 'Minot', 'Wheeler', 'Weldon', 'Alpha', 'Bethany', 'Peoria', 'Ventura', 'Connecticut', 'Chicagoland', 'Liverpool', 'Meggs', 'Havertown', 'Mendocino', 'Brigham', 'Helena', 'IDYLLWILD', 'Suddaby', 'Austen', 'Pacific', 'McLean', 'Paradise', 'Dalke', 'Austell', 'Manatee', 'Westover', 'Burgess', 'Hill', 'Monsma', 'Chester', 'Shirley', 'MIAMI', 'Bortles', 'Coolsville', 'Frenchmen', 'Barstow', 'Taylors', 'Bridgewater', 'Cardiff', 'LAWRENCE', 'Duarte', 'Savannah\\\\nUpdated', 'SeaPoint', 'Poole', 'Brownlee', 'R.I.', 'Zebley', 'Philadelphia', 'Chadwick', 'LEO', 'Lynchburg', 'Toronto', 'Octavia', 'Selma', 'Nice', 'Aberdeen', 'Fontana', 'Bluefield', 'Vesper', 'Deeks', 'Atchison', 'Chaska', 'Surry', 'Elberton', 'Knox', 'Tuberville', 'Sonoma', 'Monterrey', 'INDIANAPOLIS', 'Yemassee', 'farmland', 'GREENVILLE', 'Woodville', 'Apple', 'Frederica', 'Sevierville', 'Balmoral', 'Carolinas', 'APPLING', 'Hardaway', 'Cobb', 'NV', 'Riverwood', 'Waynesville', 'Riley', 'Ouachita', 'Denmark', 'Carbondale', 'Emporia', 'Pickett', 'Calgary', 'JASPER', 'Thornton', 'Darius', 'Handley', 'Straits', 'Zuni', 'Johnston', 'Wauchulu', 'Pembroke', 'Arcadia', 'Gastonia', 'WARSAW', 'India', 'Englewood', 'whns', 'Hahira', 'Simsbury', 'Tobin', 'Pottstown', 'HOUSTON', 'Lancaster', 'BRYAN', 'RICHMOND', 'Bostwick', 'Fairplay', 'Habersham', 'Rylee', 'Nurse', 'Auburn', 'Coolidge', 'Chattanooga', 'Comerio', 'New-york-giants', 'Chickasaw', 'ANAHEIM', 'Monroe', 'Clifton', 'Tuscumbia', 'Smallville', 'Charlotte', 'Carolina', 'Aspen', 'Avante', 'Pueblo', 'Rendon', 'Clairton', 'Waterloo', 'Comer', 'R-Acworth', 'LaFayette', 'Henrico', 'Johnson', 'PLAINFIELD', 'GROVETOWN', 'Rockland', 'Hemby', 'Colma', 'Brooklyn', 'Moca', 'Ellis', 'los', 'Chicana', 'Gillespie', 'Christakis', 'Minden', 'MACON', 'NASHVILLE', 'Lipscomb', 'Dubois', 'Salina', 'Nicholasville', 'ARIZONA', 'Talladega', 'Ellenwood', 'Mid-Atlantic', 'Kobe', 'Beulah', 'Wilkinsburg', 'Rydal', 'Reidsville', 'Hampton', 'Manning', 'Minn.', 'Marketing', 'mascot', 'Hampden', 'BOSTON', 'Heroes', 'Ranger', 'Wakefield', 'NE', 'Lola', 'Tyler', 'Blacksburg', 'SAVANNAH', 'Tusing', 'France', 'Lowery', 'Alton', 'Muscogee', 'Montpellier', 'German', 'georgia', 'Bismarck', 'Healy', 'Peachtree', 'Oslo', 'Ayden', 'R-Calif.', 'Malibu', 'Rockdale', 'Illini', 'Bridgeport', 'Texas', 'Madigan', 'I-10', 'Utica', 'Kentucky', 'Clarendon', 'Honolulu', 'Sherwood', 'Soto', 'Ala.', 'Thurston', 'NATS', 'Newbille', 'Norman', 'Boulevard', 'Beloit', 'Quran', 'Dawson', 'Havana', 'PROVIDENCE', 'Scarlet', 'Valle', 'Gridley', 'Petersburg', 'Monessen', 'Lakewood', 'Welling', 'Hoboken', 'Newburgh', 'Flovilla', 'Allentown', 'canoe', 'Mayfield', 'DAVENPORT', 'Reaume', 'Southlands', 'Kodiak', 'Leadville', 'Jacksonville', 'Naylor', 'Walston', 'Delaware', 'D-Ga.', 'Montdurausse', 'Kimberly', 'Boaz', 'FLORIDA', 'FL', 'Brooksville', 'Hayward', 'Jake', 'Winnipeg', 'Sacramento', 'Det', 'LG', 'Vikings', 'Provivi', 'Blackshear', 'Barcelona', 'Pentagon', 'Colbys', 'Manassas', 'Brawley', 'Ottumwa', 'Illinois', 'Hannibal', 'Meansville', 'Camp', 'NY', 'Frisco', 'Nordic', 'Ore.', 'Bailey', 'Perth', 'Algeria', 'Diamond', 'Farmington', 'Philippi', 'Bixby', 'Newtok', 'Candlestick', 'Orlando', 'Charles', 'Sacketts', 'Panya', 'Cornwall', 'Schwarz', 'Sycamores', 'NAHUNTA', 'Encino', 'Joliet', 'Martinsburg', 'A.D.', 'Acton', 'Delhi', 'Smithville', 'M.A.', 'Northwestern', 'Randolph', 'Malden', 'Juliette', 'Keyton', 'Schofield', 'Stribling', 'Wyo.', 'Norris', 'Siloam', 'Islamorada', 'Armuchee', 'Bremer', 'Blairsville', 'Shenandoah', 'Hodge', 'Herring', 'Hewitt', 'LaGRANGE', 'Devonshire', 'Olympia', 'LANSING', 'Aggies', 'Allen', 'Bellagio', 'Spartanburg', 'Urbana', 'Goshen', 'Elko', 'Louisville', 'Chad', 'Lehigh', 'Thursdays', 'Barnet', 'Mershon', 'Mullinax', 'Gainesville', 'Norway', 'Skips', 'D-N.J.', 'Chastain', 'Greensboro', 'Chadbourn', 'Haywood', 'Laredo', 'Hinch', 'sugar', 'Tampa', 'Whitesburg', 'Casper', 'Grady', 'Stephen', 'Dillsboro', 'Ladson', 'Edgefield', 'MODESTO', 'Villanow', 'Pelham', 'Hamlin', 'Laveen', 'McDonalds', 'McCowan', 'Roberts', 'Lumpkin', 'Colleton', 'Summit', 'Little', 'Ark.', 'Essex', 'Greenlawn', 'Hobart', 'Mills', 'Vidalia', 'Bohannan', 'Wallingford', 'Mechanicsburg', 'Oxford', 'Emmitsburg', 'Luton', 'NM', 'Fargo', 'Somis', 'Corona', 'Jakob', 'Hancock', 'SoCal', 'Pumpkin', 'Guideline', 'Bay', 'Muncie', 'Royston', 'Christiansburg', 'Eurasia', 'Engineering', 'Verona', 'MOBILE', 'Wesley', 'Lucedale', 'Langston', 'Worth', 'Tatemville', 'Daybreak', 'Lansing', 'Paris', 'Luzon', 'Monterey', 'Sherrod', 'Gazprom', 'Hempstead', 'Lowell', 'Lyman', 'BIRMINGHAM', 'Fla', 'Ayala', 'Vail', 'Tribeca', 'Shawneetown', 'Buckhead', 'Coffee', 'Meadville', 'Greenwich', 'NEWARK', 'Blair', 'Zebulon', 'Jersey', 'Batesburg', 'Wiggins', 'Satterfield', 'Ga', 'Gonzales', 'SMYRNA', 'Scotlandville', 'Vatican', 'Münster', 'NORMAN', 'Greeneville', 'Houston\\\\n\\\\nUpdated', 'Stull', 'R-Minnesota', 'Forest', 'Lavina', 'Tallapoosa', 'Chattooga\\\\nDarlington', 'Portageville', 'Yorktown', 'Winterville', 'Cassada', 'Bayfield', 'Hammond', 'Boulder', 'Koester', 'Wilhelmina', 'John', 'Harrison', 'Springs', 'Finley', 'Glenwood', 'Nextalk', 'Boyce', 'Kelly', 'Jamestown', 'Waunakee', 'Malin', 'Cameroon', 'Bowdon', 'DeWitt', 'GEORGETOWN', 'Fruitland', 'Cincinnati', 'Breece', 'Blaine', 'Marcus', 'Sandersville', 'Hilliard', 'WINSTON-SALEM', 'Nance', 'Dexter', 'Oceanside', 'Friendswood', 'Berrien', 'County', 'Peyton', 'HENDERSON', 'Ithaca', 'Ohatchee', 'Boden', 'Charlottesville', 'Klein', 'Brockton', 'Ysleta', 'W.Va', 'I-285', 'Scottsboro', 'Louisa', 'Maury', 'McAllen', 'Ogden', 'Betts', 'Williston', 'Britt', 'Antwerp', 'PASADENA', 'Mars', 'BERKELEY', 'Wheatland', 'Dothan', 'Wesleyan', 'Holcombe', 'Parkville', 'Richmond', 'Winston-Salem', 'Elmwood', 'Newcastle', 'Okefenokee', 'midfield', 'Richland', 'Hamden', 'Coweta', 'Brewton', 'Finance', 'Barksdale', 'Pershing', 'Greenville', 'Bohannon', 'IOWA', 'Oneonta', 'Rotterdam', 'Noon', 'Reedsburg', 'Collie', 'Darlington', 'Cheatwood', 'Sky', 'Xeris', 'A.G.', 'Suwanee.', 'Branchville', 'Paxton', 'Hapeville', 'Huntington', 'Merrillville', 'Hilton', 'Nebraskans', 'Tiger', 'Bowersville', 'Art', 'Kensington', 'WY', 'AMES', 'J.C.', 'Spring', 'Suffolk', 'Bakersfield', 'Dunn', 'Heartland', 'Chattooga\\\\nSequoyah', 'Houston', 'Thunderbolt', 'Hiawatha', 'Pendleton', 'R-Wyo.', 'TOPEKA', 'Hazlehurst', 'Neilsen', 'Mar', 'ROCHESTER', 'Marian', 'Nome', 'MONONGAHELA', 'Collins', 'Euharlee', 'Philly', 'TUCSON', 'Horton', 'Bradenton', 'Mclendon', 'Doobies', 'Whipkey', 'Dallas', 'Bryant', 'CAMDEN', 'Mishawaka', 'Bartow', 'Brisbane', 'Andalusia', 'Bellflower', 'Hercules', 'Kiley', 'CHARLESTON', 'Trussville', 'Cornered', 'Courtland', 'Mo.', 'Diamondhead', 'Calhoun', 'Essay', 'Chickamauga', 'Baltic', 'Anaheim', 'Copeland', 'Plains', 'DOVER', 'Heflin', 'Shishmaref', 'WICHITA', 'Gulf', 'Etowah', 'Maxey', 'LOUISVILLE', 'Leicester', 'Transylvania', 'Va.', 'Starkville', 'Winton', 'YAKIMA', 'Ocala', 'Lawrenceburg', 'Seymour', 'WELLINGTON', 'Templeton', 'Alby', 'Hadden', 'Boseman', 'I-Vt.', 'Cordova', 'Regina', 'Aston', 'Waycross', 'Springfield', 'Chatsworth', 'Bavaria', 'East-West', 'Pottsville', 'Thurmont', 'Joliett', 'Covington', 'VT', 'Linwood', 'Seminole', 'Denny', 'Dacula', 'Hershey', 'D.C', 'Attalla', 'R-Dallas', 'Lombard', 'Loomis', 'Hastings', 'Nikolas', 'Emmett', 'Flordia', 'Linda', 'Stowe', 'Opelika', 'Overton', 'Eastland', 'Wings', 'Cabery', 'Corinth', 'a.k.a', 'Crappie', 'Eden', 'JOSEPH', 'Uvalde', 'SPRINGFIELD', 'Sterling', 'Soperton', 'Pitt', 'Brooklet', 'Union', 'Buchanan', 'Jourdan', 'Vanderbilt', 'Augusta\\\\n\\\\nUpdated', 'Hilo', 'Monticello', 'Melina', 'Vaca', 'Ketchikan', 'Somerville', 'Waukegan', 'Córdoba', 'Mich.\\\\n\\\\nEdwards', 'Volusia', 'Arcade', 'Somerset', 'Louise', 'Shenanigan', 'Okla.', 'Julington', 'Miami', 'FORSYTH', 'Gwinnett', 'Kyiv', 'Butler', 'Nanjing', 'Snellville', 'Val', 'Beale', 'Pineville', 'Santiago', 'Missouri', 'Newport', 'Centegix', 'Drayton', 'UNCASVILLE', 'Cook', 'Sonoraville', 'Rexburg', 'Avenal', 'Media', 'ccd.', 'Oconee', 'VIENNA', 'Harrington', 'Chugiak', 'Wisconsin', 'Idabel', 'Cranberry', '125th', 'Prevacus', 'Salinas', 'Minneapolis', 'Coalcomán', 'Nevada', 'Siberia', 'Bradbury', 'Bellport', 'Lisbon', 'Target', 'Harbin', 'Reinhardt', 'Wahiawa', 'Caulfield', 'Palmetto', 'Raley', 'Belgrade', 'Boccaccio', 'COLLIERVILLE', 'Fairfax', 'Alaska', 'Victorville', 'Sharpes', 'Titan', 'Haddonfield', 'Denville', 'MONROE', 'Spencer', 'Springwood', 'Galleria', 'Lucas', 'Scottdale', 'Ankeny', 'Clarksdale', 'Littleton', 'Southlake', 'Shubert', 'Dahlonega', 'Lauren', 'C.I.C.', 'Klamath', 'Conway', 'Destin', 'Hiawassee', 'Cochran', 'Merakey', 'Putnam', 'Queen', 'Cassia', 'Statham', 'Worthington', 'Guatajiagua', 'Berryville', 'VA', 'Weston', 'H.R.', 'Elmendorf', 'Wilbraham', 'Glanville', 'Shreveport-Bossier', 'Moline', 'Masses', 'Stubbs', 'Lewisville', 'Akatsuka', 'Prairieville', 'Pitts', 'Petaluma', 'Miami-Dade', 'Tifton', 'Karam', 'Torrance', 'Redding', 'Palmdale', 'Gaithersburg', 'Tussey', 'Gallatin', 'Griswold', 'Tarrant', 'Lafayette', 'Angelina', 'Nicola', 'Lawrence', 'Becca', 'Thurman', 'TIFTON', 'McGowan', 'Zahara', 'Roanoke', 'Kazakhstan', 'Pulaski', 'Denning', 'Kingshighway', 'Kanon', 'Huntley', 'Providence', 'Lagrange', 'Vt', 'BRISTOL', 'Gymnastics', 'Kent', 'Orr', 'Walnut', 'I-475', 'Miramar', 'Hokanson', 'Lindsay', 'Canton', 'LA', 'Jonesborough', 'Alto', 'Hendersonville', 'Harlem', 'Jovi', 'BRADENTON', 'Terrell', 'Madison', 'Dalton', 'Ducktown', 'Anoka', 'Dominguez', 'Easton', 'Danielsville', 'Gautier', 'Pleasanton', 'Esme', 'Domingo', 'Oregon', 'Greeley', 'Button', 'Denver', 'Jay', 'Brice', 'Rincon', 'Hillsboro', 'Boise', 'Players', 'Aragon', 'Kendall', 'Along', 'Lakeview', 'Montevideo', 'LONDON', 'Hartselle', 'Millin', 'Sylacauga', 'Zephyr', 'Brunswick', 'Sauget', 'FAYETTEVILLE', 'Hawkeye', 'Indio', 'Galveston', 'N.Y.', 'Woodside', 'Duncan', 'Hamburg', 'Zanesville', 'Cordelia', 'Metropolis', 'china', 'Jekyll', 'KENTWOOD', 'Bucks', 'Malta', 'Tegner', 'Leland', 'Howerton', 'Md.\\\\n\\\\nLongs', 'Bolingbrook', 'Waynesboro', 'Thomaston', 'Danby', 'Roseland', 'Childersburg', 'Greenland', 'Ballet', 'London', 'Littlefield', 'Valentine', 'Millsaps', '8:34', 'Mankato', 'o.r.', 'WAUKESHA', 'Blytheville', 'Hampshire', 'Dyersville', 'Yankton', 'Nampa', 'Passaic', 'Wildwood', 'McCook', 'Chula', 'Arango', 'Demorest', 'Harrisburg', 'Hillsborough', 'Barnhart', 'Clanton', 'Samms', 'Ariz.', 'Barkley', 'LAWRENCEVILLE', 'Oostanaula', 'Phillips', 'Medartis', 'Commerce', '\\\\u200b\\\\u200b”I', 'Kotzebue', 'Niceville', 'Ind.', 'Warsaw', 'Waverly', 'Oakland', 'Marshalltown', 'Gryffindorks', 'Perrin', 'Watsonville', 'Germany', 'byes', 'Lester', 'Colome', 'Bellevue', 'Butts', 'Avondale', 'McCall', 'Katmai', 'Raymond', 'Crawfordville', 'MO', 'Seattle', 'La', 'Maricopa', 'Sofia', 'Zenith', 'valorem', 'Homerville', 'Danvers', 'Darien', 'SACRAMENTO', 'Natchez', 'Beverly', 'Europe', 'Windsor', 'Keysville', 'Spain', 'Emory', 'Epworth', 'Williamsburg', 'Hale', 'Disneyland', 'Westminister', 'Kathleen', 'Lincoln', 'Creighton', 'Talmo', 'Wayne', 'Hayden', 'Lowndes', 'Willimantic', 'Branch', 'Oconto', 'Brookville', 'D-Mich.', 'Pineland', 'Saint', 'Holyoke', 'Blanton', 'Seaton', '7:19', 'Plain', 'RI', 'Rutland', 'Cade', 'Arguello', 'Texoma', 'Riverside', 'Camden', 'Lakemont', 'Gettysburg', 'Relay', 'Clyattville', 'Litchfield', 'Longwood', 'Lilburn', 'Robyn', 'Concordia', 'Beville', 'Hartwell', 'Cary', 'MT', 'CO', 'Paducah', 'Round', 'Shumake', 'Wallace', 'Tombstone', 'Adeline', 'Lufkin', 'jersey', 'Fetterman', 'Eatonton', 'DuBois', 'Nottingham', 'Kenya', 'Greenwood', 'Horseshoe', 'Zenobia', 'Snell', 'Neb.', 'Banks', 'Waukee', 'Portland', 'Nintendo', 'Presidio', 'Wild', 'ForecastGeorgia', 'Eastover', 'Scandinavia', 'Rockville', 'Emmetsburg', 'Hoover', 'Williamsport', 'Mecca', 'Fishers', 'Potter', 'Trinidad', 'Rutherfordton', 'Sand', 'Mariota', 'Saranac', 'Metroplex', 'Nissley', 'Rex', 'Newberry', 'IL', 'Streeterville', 'Crown', 'Cullman', 'Matheny', 'Twins', 'KY', 'Louis', 'Reese', 'Allatoona', 'Carvana', 'Kenyon', 'Harrisonburg', 'Sumrall', 'Hanceville', 'Billings', 'Chesterfield', 'Kilgore', 'Carroll', 'Marina', 'Grandville', 'Rialto', 'Metter', 'Anniston', 'Easley', 'Clarkesville', 'MR', 'STOCKTON', 'Waterbury', 'Borenstein', 'YOCRC', 'McCaysville', 'Emerson', 'England', 'Mallory', 'Halsey', 'Haaland', 'A.J.', 'Hockenson', 'Adrienne', 'Decorah', 'Fleetwood', 'Joppa', 'Chicopee', 'Halifax', 'CARROLLTON', 'Atlantucky', 'AFTERNOON', 'Alamo', 'Taylor', 'Concord', 'Ansley', 'Buchannon', 'Tennesee', 'Townsend', 'Topeka', 'Duffield', 'Georgiana', 'Gough', 'Thomson', 'Nev.', 'Bedford', 'Vance', 'Tblisi', 'Dunedin', 'Poston', 'Cali', 'ALPHARETTA', 'Dayton', 'Elim', 'Mass.', 'Wadley', 'Sylva', 'M.S.', 'Newville', 'Irvine', 'Braxlynn', 'Thor', 'Hartsel', 'Sandlin', 'P.C.', 'Rigby', 'Greensburg', 'Jones', 'Nelms', 'Dickey', 'Colquitt', 'Papago', 'Janning', 'Rays', 'Natomas', 'Braxton', 'Muskogee', 'Florida', 'Claudia', 'Nashville', 'Falmouth', 'Mich.', 'I-94', 'TIP411', 'Childhood', 'Maui', 'Gardendale', 'Woodbury', 'Tunisia', 'Milton', 'Asheboro', 'Herndon', 'Riverwoods', 'Westland', 'Pullman', 'Marshallville', 'Gardena', 'Roswell', 'Weare', 'Pittsburg', 'Mont.', 'Bristol', 'Palmer', 'Dynasty', 'Bombay', 'Gailey', 'Pruitt', 'CCDC', 'ISU', 'Flemming', 'Walton', 'Marion', 'Lewis', 'Mona', 'Sanford', 'Stamford', 'Ga.', 'P.A.', 'Brooks', 'Julian', 'Dover', 'Fennimore', 'Budapest', 'Hartford', 'Marietta’s', 'Indiania', 'York', 'PARKER', 'Whittier', 'Weatherford', 'Alamodome', 'Rowan', 'Throckmorton', 'GEORGIA', 'Longmeadow', 'KNOXVILLE', 'Clyo', 'Silvis', 'Ky.', 'Beaverton', 'Macedonia', 'Md.', 'Speer', 'Los', 'Colonnade', 'Adrian', 'Andersen', 'Leeds', 'Plainfield', 'Olathe', 'Livermore', 'Marfa', 'Blythewood', 'Parkland', 'Broward', 'Chamberlin', 'Tallassee', 'Vanna', 'Rock', 'Marksville', 'Bridgeview', 'Goliad', 'Hebron', 'Kakaako', 'Oviedo', 'Laurel', 'Carbo', 'Sports', 'Vernon', 'TALLAHASSEE', 'Vt.', 'Mistletoe', 'Duran', 'A.C.', 'Elkton', 'Hickson', 'Vicksburg', 'Thomasville', 'Pascagoula', 'Wisdom', 'Isle', 'Jasper', 'Forsyth', 'Kalamazoo', 'Lithonia', 'Tucker', 'ROC', 'Sarasota', 'Morgantown', 'Woodmont', 'Westminster', 'Halle', 'O.K.', 'Sanaa', 'NAPLES', 'Venice', 'Wrens', 'Anguilla', 'Citrus', 'Tybee', 'Diver', 'Russia', 'OREGON', 'Bancroft', 'Tenn.\\\\n\\\\nJudkins', 'Evansdale', 'Fairmont', 'Kamille', 'Waseca', 'N.C.', 'Plattsmouth', 'Asheville', 'Lanham', 'León', 'Niobrara', 'T.S.', 'Carrollton', 'Glenfield', 'Palestine', 'Rosewood', 'Hague', 'Bullard', 'Valencia', 'Harville', 'Ontario', 'Alvarado', 'Cumming', 'Rwanda', 'Waukesha', 'Brydges', 'Meriwether', 'Redmond', 'Wilde', 'Wrightsville', 'NORFOLK', 'Hulses', 'Cedartown', 'Garner', 'Newnan', 'Jackson', 'Cullowhee', 'Altenburg', 'Aliquippa', 'UK', 'Beckham', 'Charlton', 'Yakama', 'Uniontown', 'Hwang', 'R-Idaho', 'La.', 'Provo', 'Thornburg', 'Hensley', 'Muskegon', 'Shannon', 'Northborough', 'Murray', 'Normandy', 'Mbadinga', 'Buena', 'Kenosha', 'Bledsoe', 'ATHENS', 'Pace', '6:29\\\\n\\\\nS', 'CLAXTON', 'Goldsboro', 'Castiglia', 'Sunderland', 'Blakely', 'Annawan', 'Cobbham', 'Acworth', 'Andover', 'Gainsville', 'Ohio', 'Uncasville', 'Kam', 'POOLER', 'Hawthorne', 'Wilmington', 'Seale', 'Kaaj', 'Golden', 'Nantucket', 'Pearson', 'Hermantown', 'Catalina', 'Jacksboro', 'Billy', 'Fullerton', 'Pa.', 'Crestview', 'Beckley', 'Manheim', 'Gillsville', 'Stonecrest', 'Heard', 'Ludowici', 'Wasden', 'Dubuque', 'GEORGIA\\\\nCOUNTY', 'Osceola', 'Iguala', 'McDonough', 'cottonwood', 'Markham', 'Lillian', 'Adairsville', 'Lucille', 'I-580', 'Centre', 'Conn.', 'Wildorado', 'JESUP', 'McALLEN', 'Seward', 'Heim', 'Montague', 'Clayton', 'Doraville', 'Chadron', 'Absolute', 'Hubbard', 'Akers', 'Merced', 'Kris', 'Bluffton', 'DUNWOODY', 'Evans', 'Collin', 'Ameristar', 'WESTMINSTER', 'Norwich', 'Clarke', 'Linden', 'Odell', 'Waleska', 'Alpharetta', 'Augsburg', 'Dawsonville', 'Navsaria', 'Sykesville', 'Hillmon', 'Pittman', 'Mascot', 'Drain', 'mid-Atlantic', 'Prescott', 'WADLEY', 'Longfellow', 'Arda', 'Glennville', 'Moville', 'Weirton', 'Ast', 'NEWTON', 'Apex', 'Tuskegee', 'HR', 'Ill.\\\\n\\\\nBrown', 'Warrenville', 'insignia', 'Coast', 'Maryland', 'Wellington', 'Marbury', 'Southwest', 'Turin', 'Kitchen', 'Johnstown', 'Vierling', 'Warnock', 'Conklin', 'Odessa', 'Kirksey', 'VAIL', 'Nature', 'Milledgeville', 'Chamblee', 'Wimbledon', 'Aiken', 'Roxborough', 'Hiram', 'Edwardsville', 'Rhodes', 'Brandon', 'Botswana', 'Warren', 'Schnepf', 'Amada', 'Spalding', 'Winchesters', 'Toledo', 'Kimball', 'Martha', 'Bornholm', 'broadleaf', 'Lewiston', 'MC', 'Helen', 'Ballground', 'Juliet', 'Savarino', 'Amelia', 'D-Gary', 'Beach', 'Sparta', 'Dorado', 'Brown', 'Kemp', 'Nile', 'Missoula', 'DU', 'Franklin', 'Warwick', 'Hogansville', 'Washington', 'Buffaloes', 'junto', 'Albuquerque', 'Hinton', 'Neymar', 'Platteville', 'FORESTHILL', 'Fairfield', 'TAMPA', 'Elbert', 'Medina', 'BLUFFTON', 'Koreatown', 'Randall', 'Sc', 'PRC', 'Lula', 'Ky.\\\\n\\\\nLevis', 'Bloomingdale', 'Piedmont', 'Caldwell', 'Cowpens', 'Barrow', 'Tulsa', 'Willis', 'R-Pa.', 'Munster', 'Perrysburg', 'Collier', 'Julia', 'Fredonia', 'Kirkwood', 'Vaudeville', 'Matthews', 'Evanston', 'Alfredo', 'Farmingdale', 'Roopville', 'Marinette', 'Scottsbluff', 'Laughlin', 'Mableton', 'Parker', 'Card', 'Hillcrest', 'Las', 'Shealy', 'McNeil', 'Wittenberg', 'Mesa', 'Angola', 'llamar', 'Hartsfield', 'Temple', 'Selmer', 'WR', 'Davie', 'Dunklin', 'Fairburn', 'Daphne', 'Wewoka', 'Austin', 'Montreal', 'Dunbar', 'Cockeysville', 'Frankford', 'Colo.', 'Brantley', 'Luxembourg', 'Moab', 'Bremen', 'Sutton', 'Clinton', 'Mass', 'casa', 'Brookfield', 'Alcatraz', 'Edisto', 'Murphysboro', 'Ocoee', 'Douglasville', 'EAST', 'Felton', 'Hooch', 'Jarrett', 'Acapulco', 'Seville', 'Athens', 'Ghana', 'Oliver', 'Willowbrook', 'Marietta', 'Raleigh', 'Burke', 'N.D.', 'Akron', 'Midlothian', 'Wilcox', 'Morton', 'Gering', 'Porterdale', 'Vacaville', 'florida', 'Milwaukee', 'Eads', 'Lee', 'Carlile', 'Depot', 'Parkway', 'Varland', 'Maquoketa', 'Baltimore', 'Decorate', 'Hinson', 'Mountain', 'Bldg', 'Pebbles', 'Prentice', 'Wynn', 'Kaimuki', 'Troy', 'Moore', 'Alabama', 'Hermitage', 'Mackinnon', 'Haugen', 'Stover', 'Cummings', 'Bennington', 'Mainlands', 'Polynesia', 'DeSoto', 'Harvest', 'Bradford', 'Skilljar', 'Jefferson', 'Stanford', 'Warrenton', 'Jamaica', 'Edgewater', 'Clarkston', 'Glasgow', 'PHILADELPHIA', 'Cyclones', 'Montgomery', 'Alphabet', 'Cisco', 'Brazil', 'Haymarket', 'Centerville', 'Center', 'Honeycrisp', 'RINGGOLD', 'Hernando', 'Eagles', 'Canterfield', 'Mobile', 'Fredericksburg', 'Damascus', 'Fremont', 'Westbrook', 'Baconton', 'MISHAWAKA', 'Tallahassee', 'Catoosa', 'NBA', 'Fitzgerald', 'Fuquay-Virginia', 'LaGrange', 'Pickens', 'ND', 'Eva', 'Scottsdale', 'Winnersville', 'Villages', 'Talbot', 'Liam', 'Kaunas', 'Graniteville', 'Lumberton', 'Stonehill', 'Patterson', 'Hayesville', 'pica', 'Hutchinson', 'KC', 'Louisiana', 'U.K.', 'Poplarville', 'Ellensburg', 'JACKSONVILLE', 'Barton', 'Junkstock', 'Colfax', 'Belfast', 'Fulton', 'Burdette', 'Irvington', 'Folkston', 'Fenway', 'Kingsland', 'Gretna', 'TOKYO', 'Coalcoman', 'Valparaiso', 'Richardson', 'Knoxville', 'Corvallis', 'Leipzig', 'Hannover', 'McFARLAND', 'Benton', 'Sneads', 'Farley', 'Arctic', 'Monett', 'Timuquana', 'Florence', 'N.J.\\\\n\\\\nHall', 'Mayfair', 'Burkina', 'Tecumseh', 'Alpine', 'Carlton', 'Dollywood', 'Conrad', 'Canon', 'Baldwin', 'Lara', 'THOMSON', 'Aus', 'Reading', 'Park', 'Marshfield', 'Iowan', 'Manchester', 'Juneau', 'Gibbon', 'Bresee', 'Nayarit', 'Grimes', 'Veranda', 'Bessemer', 'Wis.', 'Napa', 'Hollenbach', 'Millen', 'Savannah', 'Egypt', 'Perryville', 'Gambell', 'Landover', 'Odesa', 'Perry', 'Cairo', 'Melbourne', 'Marysville', 'Newark', 'Bates', 'COUNTY', 'Highlands', 'Marks', 'McHenry', 'Henry', 'Nahunta', 'Augusta', 'Victory', 'Moreland', 'Borger', 'NCCC', 'Normal', 'Glasto', 'Young', 'MA', 'Frametown', 'Jet', 'Eritrea', 'Cupertino', 'Baxley', 'Boynton', 'Huntsville', 'Bishop', 'Pasco', 'Kerman', 'Kennewick', 'Alford', 'ONEONTA', 'Cleland', 'Normaltown', 'R-Ariz.', 'Inaba', 'Morrison', 'Charlee', 'Darin', 'Buford', 'GC', 'Tara', 'Arlington', 'Surfside', 'Toccoa', 'IA', 'Tibetan', 'Kennesaw', 'Stuttgart', 'Bogota', 'Lincolnton', 'Barnard', 'McComb', 'Colbert', 'Marlborough', 'Lavonia', 'Eaton', 'Griffith', 'Homer', 'SOUTHFIELD', 'Gannett', 'Elmont', 'Browning', 'Aiden', 'Rogers', 'Aleppo', 'Hattiesburg', 'Atlanta', 'ATLANTA', 'MARIETTA', 'Vienna', 'Sylmar', 'Richardton', 'Newfoundland', 'Northeast', 'Sugar', 'Mattie', 'Stafford', 'Ripley', 'Deltona', 'Gatlinburg', 'Tempe', 'Owensboro', 'Carson', 'Metz', 'Oktoberfest', 'Chandler', 'Penelope', 'Callahan', 'Wingate', 'Meanwhile', 'Michigan', 'Flint', 'post-Roe', 'Texarkana', 'Petro', 'Wes', 'Shorewood', 'Telluride', 'Minnesota', 'Oakville', 'Corner', 'Homewood', 'Hall', 'Midland', 'Americas', 'Mentore', 'Hardee', 'Buckingham', 'A.I.', 'Syracuse', 'Long', 'Oxnard', 'Delmar', 'Edmonton', 'Unionville', 'Natick', 'B.A.', 'N.J.', 'ALLENTOWN', 'JONESBORO', 'Pendergrass', 'Seoul', 'Hidalgo', 'BLOOMINGTON', 'McIver', 'Maysville', 'Stockton', 'Crest', 'Riverdale', 'Winnsboro', 'Ks', 'Beatriz', 'BALTIMORE', 'Breese', 'Housley', 'Mooney', 'NYC', 'Nebraska', 'bacon', 'Petteway', 'Kankakee', 'Nicholson', 'Douglas', 'Mercy', 'Morgan', 'I-485', 'Kansas', 'Sumter', 'Berlin', 'Langley', 'Quintana', 'I-95', 'Dagestan', 'Edina', 'Pattis', 'Meridian', 'Kingsport', 'Lyons', 'Hough', 'west', 'Brownsville', 'Orange', 'Lynn', 'Hwy', 'MINNEAPOLIS', 'Melville', 'Oklahoma', 'Leavenworth', 'Madisonville', 'AMERICUS', 'Vesi', 'MOULTRIE', 'Surrey', 'Marin', 'Matanzas', 'Colorado', 'Westport', 'Steubenville', 'Conston', 'PA', 'Berkeley', 'Davisboro', 'COLUMBUS', 'Wendell', 'Lindstrom', 'Bethesda', 'Janesville', 'Bellville', 'Barretts', 'Bentonville', 'Wadsworth', 'Davila', 'Beaufort', 'Holbrook', 'Grayson', 'Cypress', 'CANTON', 'Nepal', 'Broxton', 'Claxton', 'Shively', 'NEVADA', 'Asiatic', 'Skelton', 'Bellwood', 'Jimmy', 'Sheba', 'Bloomington', 'Grenada', 'DOUGLASVILLE', 'Gray', 'Haralson', 'Arkansas', 'Bluefields', 'Smokey', 'Hanover', 'Dearborn', 'Hawarden', 'Indiana', 'Thurs', 'Ellsworth', 'Parrish', 'VR', 'Atlantan', 'North’s', 'Kennywood', 'Leimbach', 'Arapaho', 'CINCINNATI', 'trans-Atlantic', 'Sisson', 'Waco', 'Alps', 'Eagan', 'Bearden', 'Kenai', 'Brownfield', 'Lundbeck', 'Padre', 'District', 'homefield', 'Inman', 'Caddo', 'Scotland', 'Leesburg', 'Belleville', 'Hopkinsville', 'Akright', 'Edinburgh', 'Fayette', 'Griffin', 'Roof', 'Sparks', 'TRENTON', 'Crystal', 'Maywood', 'Arizona', 'NEWNAN', 'Beltway', 'Clive', 'Loganville', 'Estero', 'Moultrie', 'Fitts', 'Ogallala', 'Princeton', 'Automatic', 'Grafton', 'Sanibel', 'MANHATTAN', 'Guyton', 'Ashburn', 'Perks', 'Dunfermline', 'Clyde', 'Fingerville', 'AZ', 'Uthai', 'W.Va.', 'Valley', 'Pleasant', 'Idaho\\\\n\\\\nStacker', 'Okemos', 'Curran', 'Austria', 'Bloomfield', 'DeKalb', 'Hardin', 'Carly', 'City', 'Watkinsville', 'Calhan', 'Midtown', 'Carlin', 'Cheyenne', 'Westwood', 'Lawrenceville', 'CHICAGO', 'Coosa', 'MILTON', 'Dreamland', 'Hawai’i', 'Applegreen', 'Ryland', 'Washburn', 'Iona', 'Aloha', 'Dulce', 'McClain', 'KENOSHA', 'Milligan', 'Indianapolis', 'Fannin', 'SEOUL', 'ST', 'Pocahontas', 'Calif.', 'Quitman', 'Lace', 'Cherokee', 'Omaha', 'Pebblebrook', 'Winchester', 'Cottonwood', 'Chinglish', 'Ste', 'Rome', 'UC', 'Portsmouth', 'R-Ind.', 'Glynn', 'Dakotas', 'Mansfield', 'Muscatine', 'Southgate', 'Finleyville', 'Howard', 'Annapolis', 'Statesboro', 'Tatum', 'Brock', 'Nantahala', 'Hadley', 'buena', 'Homeland', 'Richfield', 'Broughton', 'Plainville', 'WASHINGTON', 'Salley', 'Aubrey', 'Ellaville', 'N.E.', 'Edinburg', 'Kannapolis', 'Carlsbad', 'Eugene', 'Hudson', 'Alberta', 'Palatine', 'Sadorus', 'Vale', 'Bacon', 'Decatur', 'CT', 'Janus', 'Tanner', 'Pomona', 'WEWOKA', 'Carmichael', 'DENVER', 'Marist', 'K.C.', 'RCHS', 'Americus', 'Yangtze', 'Tibet', 'ARLINGTON', 'Baylor', 'Newburg', 'Sapkota', 'Mississippi', 'Dundalk', 'Ellijay', 'https://apnews.com/hub/capitol-siege', 'Rutledge', 'Hamilton', 'Jonesboro', 'Butner', 'Gulfport', 'Whitworth', 'Midway', 'Granbury', 'Peach', 'Cordele', 'DD', 'St', 'Abbeville', 'Boone', 'Hawkinsville', 'Quantico', 'Eastman', 'Denton', 'Shanghai', 'Daytona', 'Shadyside', 'Grey', 'Panhandle', 'Leefield', 'Glenridge', 'Lubbock', 'Naperville', 'Sebring', 'Neyland', 'Reno', 'Yatesville', 'Beaver', 'Elkhorn', 'Caruthersville', 'Hyatt', 'Clinch', 'Palms', 'DECATUR', 'Levy', 'Haddock', 'Kingbird', 'Mongo', 'Slick', 'Malaga', 'Foley', 'Plano', 'Bolivar', 'Seneca', 'Crandall', 'Brussels', 'PARIS', 'R-S.C.', 'Altamont', 'Northfield', 'Nuenen', 'Wichita', 'Manson', 'Hawkeyes', 'Schley', 'Burnsville', 'Vladeck', 'GOLDEN', 'Vermont', 'Johannesburg', 'Colton', 'Memphis', 'Christina', 'Tarzana', 'Vincennes', 'Iowa', 'Zurich', 'Lakeland', 'Chick', 'Cocoa', 'Greene', 'Madera', 'Altamaha', 'Dome', 'Independence', 'Nicollet', 'Watertown', 'Floyd', 'Monona', 'Naples', 'Suwanee', 'Skyline', 'Swanson', 'SLS', 'Clarksville', 'Sturgis', 'Jordan', '1:48', 'Micah', 'Willacoochee', 'atlanta', 'Glades', 'Jax', 'Finland', 'Youngstown', 'Geor\\\\xadgia', 'Aurora', 'Garfield', 'Ariton', 'Sylvester', 'Stuckey', 'Mumbai', 'R-Iowa', 'DUBLIN', 'Wilco', 'Stoughton', 'Tuscaloosa', 'Middletown', 'Resaca', 'Gerber.com/learning-center', 'Yucatan', 'Addison', 'Rayville', 'Register', 'Eldridge', 'PHOENIX', 'Norfolk', 'Bogart', 'Whitewater', 'Thorndale', 'Sharpsburg', 'Towson', 'Rafael', 'Martin', 'Luxor', 'Mingo', 'Cartersville', 'Castroville', 'Mertz', 'Woodstock', 'Diana', 'Willmar', 'Holland', 'Birmingham', 'Region', 'Rockford', 'Duluth', 'Dewitt', 'Jada', 'Nessle', 'Cooperstown', 'Andes', 'Titusville', 'Alexandria', 'Cedar', 'Milpitas', 'Greenfield', 'DIberville', '3:34', 'Manhattan', 'Atlantic', 'Bolles', 'Starland', 'Summerville', 'Cedars-Sinai', 'Kuemper', 'Dickinson', 'McKinnon', 'CALIFORNIA', 'Valdosta', 'Willey', 'St.', 'Dominium', 'Hardeeville', 'Woodbine', 'Loving', 'Albania', 'Myrna', 'Charter', 'Westlake', 'Riceboro', 'Creek', 'Belo', 'Iris', 'Biloxi', 'Bronzeville', 'Quito', 'Doerun', 'sear', 'Pinhook', 'Rockmart', 'Anchorage', 'Ardmore', 'Romance', 'Alabama-Birmingham', 'BROOMFIELD', 'Cleveland', 'R-Savannah', 'OH', 'Macfarlane', 'Spence', 'N.M.', 'Hodges', 'Pozniak', 'Rossford', 'Preserve', 'Hartley', 'Persia', 'L.A', 'Dutchtown', 'Sandwich', 'Daniel', 'Bamberg', 'Stratojet', 'Nutbush', 'Charley', 'Cloer', 'MacKinnon', 'ROME', 'Landon', 'Portugal', 'Coventry', 'Branson', 'Scranton', 'HU', 'MIDDLETOWN', 'Answer', 'Pensacola', 'Jodhpur', 'Northview', 'Dade', 'Irving', 'Nunn', 'Deadwood', 'Ernest', 'Taylorsville', 'Pittsburgh', 'Berry', 'Roberta', 'Shelbyville', 'Kinney', 'Elmore', '169/28', 'Mullen’s', 'Goodrich', 'Prince', 'Rochester', 'Molena', 'Arvada', 'Macon', 'Kenny', 'Aden', 'Circadia', 'Hammonds', 'R-N.C.', 'Rossville', 'Preterm', 'Triton', 'Vancouver', 'iris', 'Vaughan', 'Rollins', 'Moss', 'Koca', 'Riga', 'Wexford', 'Tributes', 'Dalbo', 'Middleton', 'Newhall', 'Pennsylvania', 'HICKORY', 'Kruesi', 'Ottawa', 'Vegas', 'Brentwood', 'Fla.', 'Romeo', 'Albany', 'Reece', 'Cross', 'Ferguson', 'Madrid', 'Benavides', 'las', 'Sicily', 'Georgetown', 'Cornhusker', 'Pulse', 'Bland', 'Lanett', 'Gibraltar', 'Kauai', 'ARCHES', 'Montecito', 'Logan', 'Woodlawn', 'Caruso', 'Zamora', 'LAGRANGE', 'Farmland', 'Chico', 'RICHFIELD', 'CORALVILLE', 'Ames', 'Sydney', 'West', 'Kinnamon', 'Mooresville', 'Ringgold', 'Paabo', 'Indianola', 'Zocalo', 'M.D.', 'Wales', 'Latrobe', 'Leary', 'Gadsden', 'Montana', 'Henderson', 'Humphrey', 'Trenton', 'Lenox', 'Kingston', 'Buffalo', 'Dearie', 'Valrico', 'Wiley', 'Columbia', 'Pittsfield', 'Pinellas', 'Hollywood', 'Gloria', 'Anna', 'Braddock', 'Kiribati', 'Sharecare', 'Tripoli', 'D.C.', 'N.A.', 'Ashford', 'Nevils', 'BPC', 'Tacoma', 'Downtown', 'Upstateherd', 'UFC', 'MD\\\\n\\\\nNov', 'Alameda', 'Butte', 'Poughkeepsie', 'Marriott', 'PERRY', 'Braselton', 'Barnes', 'Briarwood', 'Southampton', 'Sweden', 'Fuqua', 'Staunton', 'Gordon', 'Glendale', 'Pontiac', 'SW', 'Cedars', 'Wilton', 'Grantville', 'Bulldogs', 'Barwest', 'Patton', 'Lago', 'Berea', 'Nutley', 'Bremerton', 'Roscoe', 'Veronique', 'Abbotsford', 'Shawnee', 'Rentz', 'New.', 'McCormick', 'Kaukauna', 'Maxeys', 'Bulletin', 'Binghamton', 'Dublin', 'Oakwood', 'R-Ill.', 'Fairmount', 'HHC', 'FRESNO', 'Nogosek', 'Centerfield', 'Wilma', 'Dorchester', 'Embarcadero', 'Martinsville', 'Morningside', 'SE', 'Leipold', 'Broomfield', 'R-Ga.', 'Ridgeland', 'Demarest', 'Durango', 'Georgian', 'Fresno', 'Yankee', 'Auburn\\\\n\\\\nGeorgia’s', 'Broadway', 'Melton', 'Bagley', 'WV', 'Bulloch', 'Novi', 'WATERBURY', 'Copperhill', 'Liberty', 'Amsterdam', 'Chicago', 'Conn', 'Adel', 'Placida', 'D-Fla.', 'Milan', 'Kyrie', 'Windsor.', 'Poland', 'Nicky', 'Burlington', 'Penn.', 'Brookwood', 'Nuremberg', 'Walkersville', 'A.L.', 'Hawkins', 'River', 'Sun', 'Westside', 'Bellingham', 'Rocklin', 'Brimsley', 'Sara', 'Parkersburg', 'Webster', 'Monster', 'Aslin', 'LAUSD', 'Barfield', 'Sequoyah', 'Lawton', 'Highwood', 'Seekonk', 'Maine', 'Capitol', 'R-Fla.', 'George', 'N.H.', 'Parma', 'BOULDER', 'S.M.', 'Ricketts', 'Chambliss', 'Morris', 'Brig', 'STATENVILLE', 'Queens', 'Sea', 'Colima', 'Empire', 'DC', 'Junto', 'Garden', 'Lake', 'Detroit', 'Brighton', 'Anschutz', 'Brevard', 'R-Dahlonega', 'Victoria', 'Hazzard', 'Piscataway', 'AL', 'Lyles', 'PLANO', 'Copenhagen', 'Masterpiece', 'Bothell', 'Lindale', 'Paara', 'Pooler', 'Gothenburg', 'Longmont', 'Vineyard', 'D.J.', 'Foxborough', 'Samarkand', 'Ramona', 'U.N.', 'Santa', 'Jeffers', 'R-Wyo', 'Cannon', 'Otto', 'Roland', 'Wedowee', 'Graves', 'Philo', 'Hartwick', 'Cascades', 'Harper', 'Ancona', 'PinkPorchGA.com', 'Stockbridge', 'R-York', 'Cornell', 'Donalsonville', 'Gables', 'Champaign', 'Charleston', 'Lima', 'D-Calif.', 'Matthew']\n",
            "3184\n"
          ]
        }
      ]
    },
    {
      "cell_type": "code",
      "source": [
        "# only for what spaCy found\n",
        "\n",
        "df['place_ner1'] = df['ner_places_clean'].astype(str).apply(lambda x: set.intersection(set(x.split(' ')), word_unigrams_done))\n",
        "df['place_ner2'] = df['ner_places_clean'].astype(str).apply(lambda x: [i for i in word_bigrams_done if i in x])\n"
      ],
      "metadata": {
        "id": "aPE8Wa1XXaQg"
      },
      "execution_count": null,
      "outputs": []
    },
    {
      "cell_type": "code",
      "source": [
        "\n",
        "# ner identification\n",
        "\n",
        "df_uni2 = df[(df['place_ner1'].str.len()) >= 1]\n",
        "df_bi2 = df[(df['place_ner2'].str.len()) >= 1]\n",
        "\n",
        "df_uni2 = df_uni2[['id', 'source', 'place_ner1', 'article_final']]\n",
        "df_bi2 = df_bi2[['id', 'source', 'place_ner2', 'article_final']]\n",
        "\n",
        "df_uni_df2 = df_uni2.explode('place_ner1')\n",
        "df_bi_df2 = df_bi2.explode('place_ner2')\n",
        "\n",
        "df_uni_df2 = df_uni_df2.rename(columns={'place_ner1': 'place_ner'})\n",
        "df_bi_df2 = df_bi_df2.rename(columns={'place_ner2': 'place_ner'})\n",
        "\n",
        "df_ng_all2 = pd.concat([df_uni_df2, df_bi_df2])"
      ],
      "metadata": {
        "id": "BpnUAJPhXdAa"
      },
      "execution_count": null,
      "outputs": []
    },
    {
      "cell_type": "code",
      "source": [
        "df_ng_all2"
      ],
      "metadata": {
        "id": "-xeJVvdJgd5q",
        "colab": {
          "base_uri": "https://localhost:8080/",
          "height": 424
        },
        "outputId": "cfc6e498-0710-430e-815a-86849f1c8244"
      },
      "execution_count": null,
      "outputs": [
        {
          "output_type": "execute_result",
          "data": {
            "text/plain": [
              "            id             source         place_ner  \\\n",
              "0            1  Metter Advertiser           Georgia   \n",
              "1            2  Metter Advertiser            Metter   \n",
              "3            4  Metter Advertiser            County   \n",
              "3            4  Metter Advertiser             Bryan   \n",
              "4            5  Metter Advertiser           Georgia   \n",
              "...        ...                ...               ...   \n",
              "192164  192165   WALB TV 10 (NBC)  Madison Southern   \n",
              "192175  192176   WALB TV 10 (NBC)        East Texas   \n",
              "192188  192189   WALB TV 10 (NBC)   Neyland Stadium   \n",
              "192199  192200   WALB TV 10 (NBC)       St. Francis   \n",
              "192199  192200   WALB TV 10 (NBC)  St. Francis CARE   \n",
              "\n",
              "                                            article_final  \n",
              "0       The American Pickers are excited to return to ...  \n",
              "1       Candler County Health Department and Southeast...  \n",
              "3       Congratulations to the Metter Middle School La...  \n",
              "3       Congratulations to the Metter Middle School La...  \n",
              "4       In a proclamation recently signed by Gov. Bria...  \n",
              "...                                                   ...  \n",
              "192164                 West Jessamine at Madison Southern  \n",
              "192175  Fall means festival time in East Texas, and th...  \n",
              "192188  Saturday marked the sixth time in the series h...  \n",
              "192199  You can adopt Martha from St. Francis CARE in ...  \n",
              "192199  You can adopt Martha from St. Francis CARE in ...  \n",
              "\n",
              "[738914 rows x 4 columns]"
            ],
            "text/html": [
              "\n",
              "  <div id=\"df-3085bf66-8549-418e-8003-dab7f950c79e\">\n",
              "    <div class=\"colab-df-container\">\n",
              "      <div>\n",
              "<style scoped>\n",
              "    .dataframe tbody tr th:only-of-type {\n",
              "        vertical-align: middle;\n",
              "    }\n",
              "\n",
              "    .dataframe tbody tr th {\n",
              "        vertical-align: top;\n",
              "    }\n",
              "\n",
              "    .dataframe thead th {\n",
              "        text-align: right;\n",
              "    }\n",
              "</style>\n",
              "<table border=\"1\" class=\"dataframe\">\n",
              "  <thead>\n",
              "    <tr style=\"text-align: right;\">\n",
              "      <th></th>\n",
              "      <th>id</th>\n",
              "      <th>source</th>\n",
              "      <th>place_ner</th>\n",
              "      <th>article_final</th>\n",
              "    </tr>\n",
              "  </thead>\n",
              "  <tbody>\n",
              "    <tr>\n",
              "      <th>0</th>\n",
              "      <td>1</td>\n",
              "      <td>Metter Advertiser</td>\n",
              "      <td>Georgia</td>\n",
              "      <td>The American Pickers are excited to return to ...</td>\n",
              "    </tr>\n",
              "    <tr>\n",
              "      <th>1</th>\n",
              "      <td>2</td>\n",
              "      <td>Metter Advertiser</td>\n",
              "      <td>Metter</td>\n",
              "      <td>Candler County Health Department and Southeast...</td>\n",
              "    </tr>\n",
              "    <tr>\n",
              "      <th>3</th>\n",
              "      <td>4</td>\n",
              "      <td>Metter Advertiser</td>\n",
              "      <td>County</td>\n",
              "      <td>Congratulations to the Metter Middle School La...</td>\n",
              "    </tr>\n",
              "    <tr>\n",
              "      <th>3</th>\n",
              "      <td>4</td>\n",
              "      <td>Metter Advertiser</td>\n",
              "      <td>Bryan</td>\n",
              "      <td>Congratulations to the Metter Middle School La...</td>\n",
              "    </tr>\n",
              "    <tr>\n",
              "      <th>4</th>\n",
              "      <td>5</td>\n",
              "      <td>Metter Advertiser</td>\n",
              "      <td>Georgia</td>\n",
              "      <td>In a proclamation recently signed by Gov. Bria...</td>\n",
              "    </tr>\n",
              "    <tr>\n",
              "      <th>...</th>\n",
              "      <td>...</td>\n",
              "      <td>...</td>\n",
              "      <td>...</td>\n",
              "      <td>...</td>\n",
              "    </tr>\n",
              "    <tr>\n",
              "      <th>192164</th>\n",
              "      <td>192165</td>\n",
              "      <td>WALB TV 10 (NBC)</td>\n",
              "      <td>Madison Southern</td>\n",
              "      <td>West Jessamine at Madison Southern</td>\n",
              "    </tr>\n",
              "    <tr>\n",
              "      <th>192175</th>\n",
              "      <td>192176</td>\n",
              "      <td>WALB TV 10 (NBC)</td>\n",
              "      <td>East Texas</td>\n",
              "      <td>Fall means festival time in East Texas, and th...</td>\n",
              "    </tr>\n",
              "    <tr>\n",
              "      <th>192188</th>\n",
              "      <td>192189</td>\n",
              "      <td>WALB TV 10 (NBC)</td>\n",
              "      <td>Neyland Stadium</td>\n",
              "      <td>Saturday marked the sixth time in the series h...</td>\n",
              "    </tr>\n",
              "    <tr>\n",
              "      <th>192199</th>\n",
              "      <td>192200</td>\n",
              "      <td>WALB TV 10 (NBC)</td>\n",
              "      <td>St. Francis</td>\n",
              "      <td>You can adopt Martha from St. Francis CARE in ...</td>\n",
              "    </tr>\n",
              "    <tr>\n",
              "      <th>192199</th>\n",
              "      <td>192200</td>\n",
              "      <td>WALB TV 10 (NBC)</td>\n",
              "      <td>St. Francis CARE</td>\n",
              "      <td>You can adopt Martha from St. Francis CARE in ...</td>\n",
              "    </tr>\n",
              "  </tbody>\n",
              "</table>\n",
              "<p>738914 rows × 4 columns</p>\n",
              "</div>\n",
              "      <button class=\"colab-df-convert\" onclick=\"convertToInteractive('df-3085bf66-8549-418e-8003-dab7f950c79e')\"\n",
              "              title=\"Convert this dataframe to an interactive table.\"\n",
              "              style=\"display:none;\">\n",
              "        \n",
              "  <svg xmlns=\"http://www.w3.org/2000/svg\" height=\"24px\"viewBox=\"0 0 24 24\"\n",
              "       width=\"24px\">\n",
              "    <path d=\"M0 0h24v24H0V0z\" fill=\"none\"/>\n",
              "    <path d=\"M18.56 5.44l.94 2.06.94-2.06 2.06-.94-2.06-.94-.94-2.06-.94 2.06-2.06.94zm-11 1L8.5 8.5l.94-2.06 2.06-.94-2.06-.94L8.5 2.5l-.94 2.06-2.06.94zm10 10l.94 2.06.94-2.06 2.06-.94-2.06-.94-.94-2.06-.94 2.06-2.06.94z\"/><path d=\"M17.41 7.96l-1.37-1.37c-.4-.4-.92-.59-1.43-.59-.52 0-1.04.2-1.43.59L10.3 9.45l-7.72 7.72c-.78.78-.78 2.05 0 2.83L4 21.41c.39.39.9.59 1.41.59.51 0 1.02-.2 1.41-.59l7.78-7.78 2.81-2.81c.8-.78.8-2.07 0-2.86zM5.41 20L4 18.59l7.72-7.72 1.47 1.35L5.41 20z\"/>\n",
              "  </svg>\n",
              "      </button>\n",
              "      \n",
              "  <style>\n",
              "    .colab-df-container {\n",
              "      display:flex;\n",
              "      flex-wrap:wrap;\n",
              "      gap: 12px;\n",
              "    }\n",
              "\n",
              "    .colab-df-convert {\n",
              "      background-color: #E8F0FE;\n",
              "      border: none;\n",
              "      border-radius: 50%;\n",
              "      cursor: pointer;\n",
              "      display: none;\n",
              "      fill: #1967D2;\n",
              "      height: 32px;\n",
              "      padding: 0 0 0 0;\n",
              "      width: 32px;\n",
              "    }\n",
              "\n",
              "    .colab-df-convert:hover {\n",
              "      background-color: #E2EBFA;\n",
              "      box-shadow: 0px 1px 2px rgba(60, 64, 67, 0.3), 0px 1px 3px 1px rgba(60, 64, 67, 0.15);\n",
              "      fill: #174EA6;\n",
              "    }\n",
              "\n",
              "    [theme=dark] .colab-df-convert {\n",
              "      background-color: #3B4455;\n",
              "      fill: #D2E3FC;\n",
              "    }\n",
              "\n",
              "    [theme=dark] .colab-df-convert:hover {\n",
              "      background-color: #434B5C;\n",
              "      box-shadow: 0px 1px 3px 1px rgba(0, 0, 0, 0.15);\n",
              "      filter: drop-shadow(0px 1px 2px rgba(0, 0, 0, 0.3));\n",
              "      fill: #FFFFFF;\n",
              "    }\n",
              "  </style>\n",
              "\n",
              "      <script>\n",
              "        const buttonEl =\n",
              "          document.querySelector('#df-3085bf66-8549-418e-8003-dab7f950c79e button.colab-df-convert');\n",
              "        buttonEl.style.display =\n",
              "          google.colab.kernel.accessAllowed ? 'block' : 'none';\n",
              "\n",
              "        async function convertToInteractive(key) {\n",
              "          const element = document.querySelector('#df-3085bf66-8549-418e-8003-dab7f950c79e');\n",
              "          const dataTable =\n",
              "            await google.colab.kernel.invokeFunction('convertToInteractive',\n",
              "                                                     [key], {});\n",
              "          if (!dataTable) return;\n",
              "\n",
              "          const docLinkHtml = 'Like what you see? Visit the ' +\n",
              "            '<a target=\"_blank\" href=https://colab.research.google.com/notebooks/data_table.ipynb>data table notebook</a>'\n",
              "            + ' to learn more about interactive tables.';\n",
              "          element.innerHTML = '';\n",
              "          dataTable['output_type'] = 'display_data';\n",
              "          await google.colab.output.renderOutput(dataTable, element);\n",
              "          const docLink = document.createElement('div');\n",
              "          docLink.innerHTML = docLinkHtml;\n",
              "          element.appendChild(docLink);\n",
              "        }\n",
              "      </script>\n",
              "    </div>\n",
              "  </div>\n",
              "  "
            ]
          },
          "metadata": {},
          "execution_count": 13
        }
      ]
    },
    {
      "cell_type": "code",
      "source": [
        "df_sentence = df_ng_all2[['id', 'article_final']].drop_duplicates(subset=['id', 'article_final'])"
      ],
      "metadata": {
        "id": "wGq-1HJcY4Yo"
      },
      "execution_count": null,
      "outputs": []
    },
    {
      "cell_type": "code",
      "source": [
        "# split an article into sentences\n",
        "\n",
        "from nltk.tokenize import sent_tokenize\n",
        "by_sentence = df_sentence['article_final'].apply(lambda x : sent_tokenize(x)).apply(pd.Series,1).stack()\n",
        "by_sentence_df = pd.DataFrame(by_sentence)\n",
        "by_sentence_df.rename(columns={0:'sentence_each'}, inplace=True)\n",
        "\n",
        "by_sentence_df['sentence_turn'] = by_sentence_df.index.get_level_values(1)\n",
        "by_sentence_df.index = by_sentence_df.index.get_level_values(0)\n"
      ],
      "metadata": {
        "id": "-eri3IbAYzcw"
      },
      "execution_count": null,
      "outputs": []
    },
    {
      "cell_type": "code",
      "source": [
        "merge_uni = pd.merge(df_ng_all2, by_sentence_df, left_index=True, right_index=True)\n"
      ],
      "metadata": {
        "id": "XG3Hpg9GTFFM"
      },
      "execution_count": null,
      "outputs": []
    },
    {
      "cell_type": "code",
      "source": [
        "merge_uni['search_words'] = merge_uni.apply(lambda x: x.place_ner in x.sentence_each, axis=1)\n",
        "\n",
        "merge_uni_TRUE = merge_uni[merge_uni['search_words']==True]"
      ],
      "metadata": {
        "id": "fcHSmbdKb_DV"
      },
      "execution_count": null,
      "outputs": []
    },
    {
      "cell_type": "code",
      "source": [
        "merge_uni_TRUE_st = merge_uni_TRUE[['id','source','place_ner','sentence_each']]"
      ],
      "metadata": {
        "id": "QIMhsCTPa2of"
      },
      "execution_count": null,
      "outputs": []
    },
    {
      "cell_type": "code",
      "source": [
        "merge_temp = merge_uni_TRUE_st.groupby('place_ner').count() #"
      ],
      "metadata": {
        "id": "cR78RbChbAYc"
      },
      "execution_count": null,
      "outputs": []
    },
    {
      "cell_type": "code",
      "source": [
        "merge_temp"
      ],
      "metadata": {
        "colab": {
          "base_uri": "https://localhost:8080/",
          "height": 455
        },
        "id": "707-_3EMczoq",
        "outputId": "388b8c50-fe2e-4e15-95ee-8651c6f39da1"
      },
      "execution_count": null,
      "outputs": [
        {
          "output_type": "execute_result",
          "data": {
            "text/plain": [
              "                    id  source  sentence_each\n",
              "place_ner                                    \n",
              "104 Vintage Drive    5       5              5\n",
              "10th Street         55      55             55\n",
              "110 Airport Road    10      10             10\n",
              "11th Avenue         12      12             12\n",
              "125th               15      15             15\n",
              "...                ...     ...            ...\n",
              "west Tennessee       6       6              6\n",
              "west coast         698     698            698\n",
              "west entrance       23      23             23\n",
              "west.                8       8              8\n",
              "whns                 9       9              9\n",
              "\n",
              "[8870 rows x 3 columns]"
            ],
            "text/html": [
              "\n",
              "  <div id=\"df-1e662607-3985-4394-a906-1408ca754c85\">\n",
              "    <div class=\"colab-df-container\">\n",
              "      <div>\n",
              "<style scoped>\n",
              "    .dataframe tbody tr th:only-of-type {\n",
              "        vertical-align: middle;\n",
              "    }\n",
              "\n",
              "    .dataframe tbody tr th {\n",
              "        vertical-align: top;\n",
              "    }\n",
              "\n",
              "    .dataframe thead th {\n",
              "        text-align: right;\n",
              "    }\n",
              "</style>\n",
              "<table border=\"1\" class=\"dataframe\">\n",
              "  <thead>\n",
              "    <tr style=\"text-align: right;\">\n",
              "      <th></th>\n",
              "      <th>id</th>\n",
              "      <th>source</th>\n",
              "      <th>sentence_each</th>\n",
              "    </tr>\n",
              "    <tr>\n",
              "      <th>place_ner</th>\n",
              "      <th></th>\n",
              "      <th></th>\n",
              "      <th></th>\n",
              "    </tr>\n",
              "  </thead>\n",
              "  <tbody>\n",
              "    <tr>\n",
              "      <th>104 Vintage Drive</th>\n",
              "      <td>5</td>\n",
              "      <td>5</td>\n",
              "      <td>5</td>\n",
              "    </tr>\n",
              "    <tr>\n",
              "      <th>10th Street</th>\n",
              "      <td>55</td>\n",
              "      <td>55</td>\n",
              "      <td>55</td>\n",
              "    </tr>\n",
              "    <tr>\n",
              "      <th>110 Airport Road</th>\n",
              "      <td>10</td>\n",
              "      <td>10</td>\n",
              "      <td>10</td>\n",
              "    </tr>\n",
              "    <tr>\n",
              "      <th>11th Avenue</th>\n",
              "      <td>12</td>\n",
              "      <td>12</td>\n",
              "      <td>12</td>\n",
              "    </tr>\n",
              "    <tr>\n",
              "      <th>125th</th>\n",
              "      <td>15</td>\n",
              "      <td>15</td>\n",
              "      <td>15</td>\n",
              "    </tr>\n",
              "    <tr>\n",
              "      <th>...</th>\n",
              "      <td>...</td>\n",
              "      <td>...</td>\n",
              "      <td>...</td>\n",
              "    </tr>\n",
              "    <tr>\n",
              "      <th>west Tennessee</th>\n",
              "      <td>6</td>\n",
              "      <td>6</td>\n",
              "      <td>6</td>\n",
              "    </tr>\n",
              "    <tr>\n",
              "      <th>west coast</th>\n",
              "      <td>698</td>\n",
              "      <td>698</td>\n",
              "      <td>698</td>\n",
              "    </tr>\n",
              "    <tr>\n",
              "      <th>west entrance</th>\n",
              "      <td>23</td>\n",
              "      <td>23</td>\n",
              "      <td>23</td>\n",
              "    </tr>\n",
              "    <tr>\n",
              "      <th>west.</th>\n",
              "      <td>8</td>\n",
              "      <td>8</td>\n",
              "      <td>8</td>\n",
              "    </tr>\n",
              "    <tr>\n",
              "      <th>whns</th>\n",
              "      <td>9</td>\n",
              "      <td>9</td>\n",
              "      <td>9</td>\n",
              "    </tr>\n",
              "  </tbody>\n",
              "</table>\n",
              "<p>8870 rows × 3 columns</p>\n",
              "</div>\n",
              "      <button class=\"colab-df-convert\" onclick=\"convertToInteractive('df-1e662607-3985-4394-a906-1408ca754c85')\"\n",
              "              title=\"Convert this dataframe to an interactive table.\"\n",
              "              style=\"display:none;\">\n",
              "        \n",
              "  <svg xmlns=\"http://www.w3.org/2000/svg\" height=\"24px\"viewBox=\"0 0 24 24\"\n",
              "       width=\"24px\">\n",
              "    <path d=\"M0 0h24v24H0V0z\" fill=\"none\"/>\n",
              "    <path d=\"M18.56 5.44l.94 2.06.94-2.06 2.06-.94-2.06-.94-.94-2.06-.94 2.06-2.06.94zm-11 1L8.5 8.5l.94-2.06 2.06-.94-2.06-.94L8.5 2.5l-.94 2.06-2.06.94zm10 10l.94 2.06.94-2.06 2.06-.94-2.06-.94-.94-2.06-.94 2.06-2.06.94z\"/><path d=\"M17.41 7.96l-1.37-1.37c-.4-.4-.92-.59-1.43-.59-.52 0-1.04.2-1.43.59L10.3 9.45l-7.72 7.72c-.78.78-.78 2.05 0 2.83L4 21.41c.39.39.9.59 1.41.59.51 0 1.02-.2 1.41-.59l7.78-7.78 2.81-2.81c.8-.78.8-2.07 0-2.86zM5.41 20L4 18.59l7.72-7.72 1.47 1.35L5.41 20z\"/>\n",
              "  </svg>\n",
              "      </button>\n",
              "      \n",
              "  <style>\n",
              "    .colab-df-container {\n",
              "      display:flex;\n",
              "      flex-wrap:wrap;\n",
              "      gap: 12px;\n",
              "    }\n",
              "\n",
              "    .colab-df-convert {\n",
              "      background-color: #E8F0FE;\n",
              "      border: none;\n",
              "      border-radius: 50%;\n",
              "      cursor: pointer;\n",
              "      display: none;\n",
              "      fill: #1967D2;\n",
              "      height: 32px;\n",
              "      padding: 0 0 0 0;\n",
              "      width: 32px;\n",
              "    }\n",
              "\n",
              "    .colab-df-convert:hover {\n",
              "      background-color: #E2EBFA;\n",
              "      box-shadow: 0px 1px 2px rgba(60, 64, 67, 0.3), 0px 1px 3px 1px rgba(60, 64, 67, 0.15);\n",
              "      fill: #174EA6;\n",
              "    }\n",
              "\n",
              "    [theme=dark] .colab-df-convert {\n",
              "      background-color: #3B4455;\n",
              "      fill: #D2E3FC;\n",
              "    }\n",
              "\n",
              "    [theme=dark] .colab-df-convert:hover {\n",
              "      background-color: #434B5C;\n",
              "      box-shadow: 0px 1px 3px 1px rgba(0, 0, 0, 0.15);\n",
              "      filter: drop-shadow(0px 1px 2px rgba(0, 0, 0, 0.3));\n",
              "      fill: #FFFFFF;\n",
              "    }\n",
              "  </style>\n",
              "\n",
              "      <script>\n",
              "        const buttonEl =\n",
              "          document.querySelector('#df-1e662607-3985-4394-a906-1408ca754c85 button.colab-df-convert');\n",
              "        buttonEl.style.display =\n",
              "          google.colab.kernel.accessAllowed ? 'block' : 'none';\n",
              "\n",
              "        async function convertToInteractive(key) {\n",
              "          const element = document.querySelector('#df-1e662607-3985-4394-a906-1408ca754c85');\n",
              "          const dataTable =\n",
              "            await google.colab.kernel.invokeFunction('convertToInteractive',\n",
              "                                                     [key], {});\n",
              "          if (!dataTable) return;\n",
              "\n",
              "          const docLinkHtml = 'Like what you see? Visit the ' +\n",
              "            '<a target=\"_blank\" href=https://colab.research.google.com/notebooks/data_table.ipynb>data table notebook</a>'\n",
              "            + ' to learn more about interactive tables.';\n",
              "          element.innerHTML = '';\n",
              "          dataTable['output_type'] = 'display_data';\n",
              "          await google.colab.output.renderOutput(dataTable, element);\n",
              "          const docLink = document.createElement('div');\n",
              "          docLink.innerHTML = docLinkHtml;\n",
              "          element.appendChild(docLink);\n",
              "        }\n",
              "      </script>\n",
              "    </div>\n",
              "  </div>\n",
              "  "
            ]
          },
          "metadata": {},
          "execution_count": 30
        }
      ]
    },
    {
      "cell_type": "code",
      "source": [
        "# articles mentioned a location less than 3\n",
        "merge_temp_less10 = merge_temp[merge_temp['sentence_each'] < 10].reset_index()\n"
      ],
      "metadata": {
        "id": "7mMK-srPLvtN"
      },
      "execution_count": null,
      "outputs": []
    },
    {
      "cell_type": "code",
      "source": [
        "merge_temp_less10_places = merge_temp_less10.place_ner.values.tolist()\n"
      ],
      "metadata": {
        "id": "9GCZ_VtNLyt2"
      },
      "execution_count": null,
      "outputs": []
    },
    {
      "cell_type": "code",
      "source": [
        "len(merge_temp_less10_places)"
      ],
      "metadata": {
        "colab": {
          "base_uri": "https://localhost:8080/"
        },
        "id": "MSwdMLUOekJK",
        "outputId": "b3df3af5-31f1-4bb9-c41e-0358c59ec665"
      },
      "execution_count": null,
      "outputs": [
        {
          "output_type": "execute_result",
          "data": {
            "text/plain": [
              "2686"
            ]
          },
          "metadata": {},
          "execution_count": 37
        }
      ]
    },
    {
      "cell_type": "code",
      "source": [
        "merge_uni_TRUE_st_less10 = merge_uni_TRUE_st[merge_uni_TRUE_st['place_ner'].isin(merge_temp_less10_places)]\n"
      ],
      "metadata": {
        "id": "7Nb6l6aAcraj"
      },
      "execution_count": null,
      "outputs": []
    },
    {
      "cell_type": "code",
      "source": [
        "# articles mentioned a location more than 3 --> random sample\n",
        "\n",
        "merge_uni_TRUE_st_rest = merge_uni_TRUE_st[~merge_uni_TRUE_st['place_ner'].isin(merge_temp_less10_places)]\n",
        "merge_uni_TRUE_st_more10 = merge_uni_TRUE_st_rest.groupby('place_ner').apply(lambda x: x.sample(10, replace=False)).reset_index(drop=True)\n"
      ],
      "metadata": {
        "id": "ikE7eLK3L4eK"
      },
      "execution_count": null,
      "outputs": []
    },
    {
      "cell_type": "code",
      "source": [
        "merge_uni_TRUE_st_more10"
      ],
      "metadata": {
        "colab": {
          "base_uri": "https://localhost:8080/",
          "height": 424
        },
        "id": "fXHMYjTMbK_D",
        "outputId": "e1e2e9e6-7286-4437-cc8b-618eea706421"
      },
      "execution_count": null,
      "outputs": [
        {
          "output_type": "execute_result",
          "data": {
            "text/plain": [
              "           id                        source      place_ner  \\\n",
              "0      152803               WUPA TV 69 (CW)    10th Street   \n",
              "1       49413                 Atlanta Voice    10th Street   \n",
              "2       77319  Atlanta Journal-Constitution    10th Street   \n",
              "3      147226               WUPA TV 69 (CW)    10th Street   \n",
              "4       96549        Augusta Business Daily    10th Street   \n",
              "...       ...                           ...            ...   \n",
              "61835   99158            Northside Neighbor  west entrance   \n",
              "61836   70800        Marietta Daily Journal  west entrance   \n",
              "61837   56918         South Fulton Neighbor  west entrance   \n",
              "61838   48058             Paulding Neighbor  west entrance   \n",
              "61839   99158            Northside Neighbor  west entrance   \n",
              "\n",
              "                                           sentence_each  \n",
              "0      It happened around 2:30 a.m. Monday near 110th...  \n",
              "1      March Location: Stepping off from the Atlanta ...  \n",
              "2      The other grandiose plan is in Midtown, just n...  \n",
              "3      The shooting was reported at 1:42 a.m. at the ...  \n",
              "4      Hatzis, owner of Manny’s Sports Off Broad, wil...  \n",
              "...                                                  ...  \n",
              "61835  UNI-Dome Render 4\\n\\nUpdated Oct 11, 2022\\n\\nA...  \n",
              "61836  UNI-Dome Render 4\\n\\nUpdated Oct 11, 2022\\n\\nA...  \n",
              "61837  UNI-Dome Render 6\\n\\nUpdated Oct 11, 2022\\n\\nT...  \n",
              "61838  UNI-Dome Render 3\\n\\nUpdated Oct 11, 2022\\n\\nA...  \n",
              "61839  UNI-Dome Render 6\\n\\nUpdated Oct 11, 2022\\n\\nT...  \n",
              "\n",
              "[61840 rows x 4 columns]"
            ],
            "text/html": [
              "\n",
              "  <div id=\"df-87f8b4b1-d626-455f-9c79-f99ab7dcb58d\">\n",
              "    <div class=\"colab-df-container\">\n",
              "      <div>\n",
              "<style scoped>\n",
              "    .dataframe tbody tr th:only-of-type {\n",
              "        vertical-align: middle;\n",
              "    }\n",
              "\n",
              "    .dataframe tbody tr th {\n",
              "        vertical-align: top;\n",
              "    }\n",
              "\n",
              "    .dataframe thead th {\n",
              "        text-align: right;\n",
              "    }\n",
              "</style>\n",
              "<table border=\"1\" class=\"dataframe\">\n",
              "  <thead>\n",
              "    <tr style=\"text-align: right;\">\n",
              "      <th></th>\n",
              "      <th>id</th>\n",
              "      <th>source</th>\n",
              "      <th>place_ner</th>\n",
              "      <th>sentence_each</th>\n",
              "    </tr>\n",
              "  </thead>\n",
              "  <tbody>\n",
              "    <tr>\n",
              "      <th>0</th>\n",
              "      <td>152803</td>\n",
              "      <td>WUPA TV 69 (CW)</td>\n",
              "      <td>10th Street</td>\n",
              "      <td>It happened around 2:30 a.m. Monday near 110th...</td>\n",
              "    </tr>\n",
              "    <tr>\n",
              "      <th>1</th>\n",
              "      <td>49413</td>\n",
              "      <td>Atlanta Voice</td>\n",
              "      <td>10th Street</td>\n",
              "      <td>March Location: Stepping off from the Atlanta ...</td>\n",
              "    </tr>\n",
              "    <tr>\n",
              "      <th>2</th>\n",
              "      <td>77319</td>\n",
              "      <td>Atlanta Journal-Constitution</td>\n",
              "      <td>10th Street</td>\n",
              "      <td>The other grandiose plan is in Midtown, just n...</td>\n",
              "    </tr>\n",
              "    <tr>\n",
              "      <th>3</th>\n",
              "      <td>147226</td>\n",
              "      <td>WUPA TV 69 (CW)</td>\n",
              "      <td>10th Street</td>\n",
              "      <td>The shooting was reported at 1:42 a.m. at the ...</td>\n",
              "    </tr>\n",
              "    <tr>\n",
              "      <th>4</th>\n",
              "      <td>96549</td>\n",
              "      <td>Augusta Business Daily</td>\n",
              "      <td>10th Street</td>\n",
              "      <td>Hatzis, owner of Manny’s Sports Off Broad, wil...</td>\n",
              "    </tr>\n",
              "    <tr>\n",
              "      <th>...</th>\n",
              "      <td>...</td>\n",
              "      <td>...</td>\n",
              "      <td>...</td>\n",
              "      <td>...</td>\n",
              "    </tr>\n",
              "    <tr>\n",
              "      <th>61835</th>\n",
              "      <td>99158</td>\n",
              "      <td>Northside Neighbor</td>\n",
              "      <td>west entrance</td>\n",
              "      <td>UNI-Dome Render 4\\n\\nUpdated Oct 11, 2022\\n\\nA...</td>\n",
              "    </tr>\n",
              "    <tr>\n",
              "      <th>61836</th>\n",
              "      <td>70800</td>\n",
              "      <td>Marietta Daily Journal</td>\n",
              "      <td>west entrance</td>\n",
              "      <td>UNI-Dome Render 4\\n\\nUpdated Oct 11, 2022\\n\\nA...</td>\n",
              "    </tr>\n",
              "    <tr>\n",
              "      <th>61837</th>\n",
              "      <td>56918</td>\n",
              "      <td>South Fulton Neighbor</td>\n",
              "      <td>west entrance</td>\n",
              "      <td>UNI-Dome Render 6\\n\\nUpdated Oct 11, 2022\\n\\nT...</td>\n",
              "    </tr>\n",
              "    <tr>\n",
              "      <th>61838</th>\n",
              "      <td>48058</td>\n",
              "      <td>Paulding Neighbor</td>\n",
              "      <td>west entrance</td>\n",
              "      <td>UNI-Dome Render 3\\n\\nUpdated Oct 11, 2022\\n\\nA...</td>\n",
              "    </tr>\n",
              "    <tr>\n",
              "      <th>61839</th>\n",
              "      <td>99158</td>\n",
              "      <td>Northside Neighbor</td>\n",
              "      <td>west entrance</td>\n",
              "      <td>UNI-Dome Render 6\\n\\nUpdated Oct 11, 2022\\n\\nT...</td>\n",
              "    </tr>\n",
              "  </tbody>\n",
              "</table>\n",
              "<p>61840 rows × 4 columns</p>\n",
              "</div>\n",
              "      <button class=\"colab-df-convert\" onclick=\"convertToInteractive('df-87f8b4b1-d626-455f-9c79-f99ab7dcb58d')\"\n",
              "              title=\"Convert this dataframe to an interactive table.\"\n",
              "              style=\"display:none;\">\n",
              "        \n",
              "  <svg xmlns=\"http://www.w3.org/2000/svg\" height=\"24px\"viewBox=\"0 0 24 24\"\n",
              "       width=\"24px\">\n",
              "    <path d=\"M0 0h24v24H0V0z\" fill=\"none\"/>\n",
              "    <path d=\"M18.56 5.44l.94 2.06.94-2.06 2.06-.94-2.06-.94-.94-2.06-.94 2.06-2.06.94zm-11 1L8.5 8.5l.94-2.06 2.06-.94-2.06-.94L8.5 2.5l-.94 2.06-2.06.94zm10 10l.94 2.06.94-2.06 2.06-.94-2.06-.94-.94-2.06-.94 2.06-2.06.94z\"/><path d=\"M17.41 7.96l-1.37-1.37c-.4-.4-.92-.59-1.43-.59-.52 0-1.04.2-1.43.59L10.3 9.45l-7.72 7.72c-.78.78-.78 2.05 0 2.83L4 21.41c.39.39.9.59 1.41.59.51 0 1.02-.2 1.41-.59l7.78-7.78 2.81-2.81c.8-.78.8-2.07 0-2.86zM5.41 20L4 18.59l7.72-7.72 1.47 1.35L5.41 20z\"/>\n",
              "  </svg>\n",
              "      </button>\n",
              "      \n",
              "  <style>\n",
              "    .colab-df-container {\n",
              "      display:flex;\n",
              "      flex-wrap:wrap;\n",
              "      gap: 12px;\n",
              "    }\n",
              "\n",
              "    .colab-df-convert {\n",
              "      background-color: #E8F0FE;\n",
              "      border: none;\n",
              "      border-radius: 50%;\n",
              "      cursor: pointer;\n",
              "      display: none;\n",
              "      fill: #1967D2;\n",
              "      height: 32px;\n",
              "      padding: 0 0 0 0;\n",
              "      width: 32px;\n",
              "    }\n",
              "\n",
              "    .colab-df-convert:hover {\n",
              "      background-color: #E2EBFA;\n",
              "      box-shadow: 0px 1px 2px rgba(60, 64, 67, 0.3), 0px 1px 3px 1px rgba(60, 64, 67, 0.15);\n",
              "      fill: #174EA6;\n",
              "    }\n",
              "\n",
              "    [theme=dark] .colab-df-convert {\n",
              "      background-color: #3B4455;\n",
              "      fill: #D2E3FC;\n",
              "    }\n",
              "\n",
              "    [theme=dark] .colab-df-convert:hover {\n",
              "      background-color: #434B5C;\n",
              "      box-shadow: 0px 1px 3px 1px rgba(0, 0, 0, 0.15);\n",
              "      filter: drop-shadow(0px 1px 2px rgba(0, 0, 0, 0.3));\n",
              "      fill: #FFFFFF;\n",
              "    }\n",
              "  </style>\n",
              "\n",
              "      <script>\n",
              "        const buttonEl =\n",
              "          document.querySelector('#df-87f8b4b1-d626-455f-9c79-f99ab7dcb58d button.colab-df-convert');\n",
              "        buttonEl.style.display =\n",
              "          google.colab.kernel.accessAllowed ? 'block' : 'none';\n",
              "\n",
              "        async function convertToInteractive(key) {\n",
              "          const element = document.querySelector('#df-87f8b4b1-d626-455f-9c79-f99ab7dcb58d');\n",
              "          const dataTable =\n",
              "            await google.colab.kernel.invokeFunction('convertToInteractive',\n",
              "                                                     [key], {});\n",
              "          if (!dataTable) return;\n",
              "\n",
              "          const docLinkHtml = 'Like what you see? Visit the ' +\n",
              "            '<a target=\"_blank\" href=https://colab.research.google.com/notebooks/data_table.ipynb>data table notebook</a>'\n",
              "            + ' to learn more about interactive tables.';\n",
              "          element.innerHTML = '';\n",
              "          dataTable['output_type'] = 'display_data';\n",
              "          await google.colab.output.renderOutput(dataTable, element);\n",
              "          const docLink = document.createElement('div');\n",
              "          docLink.innerHTML = docLinkHtml;\n",
              "          element.appendChild(docLink);\n",
              "        }\n",
              "      </script>\n",
              "    </div>\n",
              "  </div>\n",
              "  "
            ]
          },
          "metadata": {},
          "execution_count": 42
        }
      ]
    },
    {
      "cell_type": "code",
      "source": [
        "# merge 3 samples + those with less than 3 \n",
        "merge_all = pd.concat([merge_uni_TRUE_st_more10, merge_uni_TRUE_st_less10]).reset_index()"
      ],
      "metadata": {
        "id": "TrUO6epMhDjO"
      },
      "execution_count": null,
      "outputs": []
    },
    {
      "cell_type": "code",
      "source": [
        "merge_all = merge_all.sort_values('place_ner')"
      ],
      "metadata": {
        "id": "IuA8GtipjnN9"
      },
      "execution_count": null,
      "outputs": []
    },
    {
      "cell_type": "code",
      "source": [
        "merge_all['sentenceID'] = merge_all.groupby('place_ner')['place_ner'].rank(method='first')\n"
      ],
      "metadata": {
        "id": "H_ta7WfUkRgb"
      },
      "execution_count": null,
      "outputs": []
    },
    {
      "cell_type": "code",
      "source": [
        "merge_all"
      ],
      "metadata": {
        "colab": {
          "base_uri": "https://localhost:8080/",
          "height": 424
        },
        "id": "BiNKPGHkmz-9",
        "outputId": "21069335-f0db-4eea-a1d8-d82b8fce995b"
      },
      "execution_count": null,
      "outputs": [
        {
          "output_type": "execute_result",
          "data": {
            "text/plain": [
              "        index      id                   source          place_ner  \\\n",
              "78235  176026  176027  Canton Cherokee Tribune  104 Vintage Drive   \n",
              "72108  101257  101258       Northside Neighbor  104 Vintage Drive   \n",
              "69286   73996   73997   Marietta Daily Journal  104 Vintage Drive   \n",
              "67952   58974   58975    South Fulton Neighbor  104 Vintage Drive   \n",
              "77840  171972  171973            Calhoun Times  104 Vintage Drive   \n",
              "...       ...     ...                      ...                ...   \n",
              "74687  130094  130095               WPCH TV 17               whns   \n",
              "74644  128921  128922               WPCH TV 17               whns   \n",
              "74626  128461  128462               WPCH TV 17               whns   \n",
              "74600  127729  127730               WPCH TV 17               whns   \n",
              "74472  124688  124689               WPCH TV 17               whns   \n",
              "\n",
              "                                           sentence_each  sentenceID  \n",
              "78235  So when they announced that, it was a little b...         1.0  \n",
              "72108  So when they announced that, it was a little b...         2.0  \n",
              "69286  So when they announced that, it was a little b...         3.0  \n",
              "67952  So when they announced that, it was a little b...         4.0  \n",
              "77840  So when they announced that, it was a little b...         5.0  \n",
              "...                                                  ...         ...  \n",
              "74687                                             (whns)         5.0  \n",
              "74644                                             (whns)         6.0  \n",
              "74626  Suspects charged in shooting that killed one, ...         7.0  \n",
              "74600                                             (whns)         8.0  \n",
              "74472                                             (whns)         9.0  \n",
              "\n",
              "[79323 rows x 6 columns]"
            ],
            "text/html": [
              "\n",
              "  <div id=\"df-87af4ca9-b8d5-4168-a4ea-a33bdd5164d8\">\n",
              "    <div class=\"colab-df-container\">\n",
              "      <div>\n",
              "<style scoped>\n",
              "    .dataframe tbody tr th:only-of-type {\n",
              "        vertical-align: middle;\n",
              "    }\n",
              "\n",
              "    .dataframe tbody tr th {\n",
              "        vertical-align: top;\n",
              "    }\n",
              "\n",
              "    .dataframe thead th {\n",
              "        text-align: right;\n",
              "    }\n",
              "</style>\n",
              "<table border=\"1\" class=\"dataframe\">\n",
              "  <thead>\n",
              "    <tr style=\"text-align: right;\">\n",
              "      <th></th>\n",
              "      <th>index</th>\n",
              "      <th>id</th>\n",
              "      <th>source</th>\n",
              "      <th>place_ner</th>\n",
              "      <th>sentence_each</th>\n",
              "      <th>sentenceID</th>\n",
              "    </tr>\n",
              "  </thead>\n",
              "  <tbody>\n",
              "    <tr>\n",
              "      <th>78235</th>\n",
              "      <td>176026</td>\n",
              "      <td>176027</td>\n",
              "      <td>Canton Cherokee Tribune</td>\n",
              "      <td>104 Vintage Drive</td>\n",
              "      <td>So when they announced that, it was a little b...</td>\n",
              "      <td>1.0</td>\n",
              "    </tr>\n",
              "    <tr>\n",
              "      <th>72108</th>\n",
              "      <td>101257</td>\n",
              "      <td>101258</td>\n",
              "      <td>Northside Neighbor</td>\n",
              "      <td>104 Vintage Drive</td>\n",
              "      <td>So when they announced that, it was a little b...</td>\n",
              "      <td>2.0</td>\n",
              "    </tr>\n",
              "    <tr>\n",
              "      <th>69286</th>\n",
              "      <td>73996</td>\n",
              "      <td>73997</td>\n",
              "      <td>Marietta Daily Journal</td>\n",
              "      <td>104 Vintage Drive</td>\n",
              "      <td>So when they announced that, it was a little b...</td>\n",
              "      <td>3.0</td>\n",
              "    </tr>\n",
              "    <tr>\n",
              "      <th>67952</th>\n",
              "      <td>58974</td>\n",
              "      <td>58975</td>\n",
              "      <td>South Fulton Neighbor</td>\n",
              "      <td>104 Vintage Drive</td>\n",
              "      <td>So when they announced that, it was a little b...</td>\n",
              "      <td>4.0</td>\n",
              "    </tr>\n",
              "    <tr>\n",
              "      <th>77840</th>\n",
              "      <td>171972</td>\n",
              "      <td>171973</td>\n",
              "      <td>Calhoun Times</td>\n",
              "      <td>104 Vintage Drive</td>\n",
              "      <td>So when they announced that, it was a little b...</td>\n",
              "      <td>5.0</td>\n",
              "    </tr>\n",
              "    <tr>\n",
              "      <th>...</th>\n",
              "      <td>...</td>\n",
              "      <td>...</td>\n",
              "      <td>...</td>\n",
              "      <td>...</td>\n",
              "      <td>...</td>\n",
              "      <td>...</td>\n",
              "    </tr>\n",
              "    <tr>\n",
              "      <th>74687</th>\n",
              "      <td>130094</td>\n",
              "      <td>130095</td>\n",
              "      <td>WPCH TV 17</td>\n",
              "      <td>whns</td>\n",
              "      <td>(whns)</td>\n",
              "      <td>5.0</td>\n",
              "    </tr>\n",
              "    <tr>\n",
              "      <th>74644</th>\n",
              "      <td>128921</td>\n",
              "      <td>128922</td>\n",
              "      <td>WPCH TV 17</td>\n",
              "      <td>whns</td>\n",
              "      <td>(whns)</td>\n",
              "      <td>6.0</td>\n",
              "    </tr>\n",
              "    <tr>\n",
              "      <th>74626</th>\n",
              "      <td>128461</td>\n",
              "      <td>128462</td>\n",
              "      <td>WPCH TV 17</td>\n",
              "      <td>whns</td>\n",
              "      <td>Suspects charged in shooting that killed one, ...</td>\n",
              "      <td>7.0</td>\n",
              "    </tr>\n",
              "    <tr>\n",
              "      <th>74600</th>\n",
              "      <td>127729</td>\n",
              "      <td>127730</td>\n",
              "      <td>WPCH TV 17</td>\n",
              "      <td>whns</td>\n",
              "      <td>(whns)</td>\n",
              "      <td>8.0</td>\n",
              "    </tr>\n",
              "    <tr>\n",
              "      <th>74472</th>\n",
              "      <td>124688</td>\n",
              "      <td>124689</td>\n",
              "      <td>WPCH TV 17</td>\n",
              "      <td>whns</td>\n",
              "      <td>(whns)</td>\n",
              "      <td>9.0</td>\n",
              "    </tr>\n",
              "  </tbody>\n",
              "</table>\n",
              "<p>79323 rows × 6 columns</p>\n",
              "</div>\n",
              "      <button class=\"colab-df-convert\" onclick=\"convertToInteractive('df-87af4ca9-b8d5-4168-a4ea-a33bdd5164d8')\"\n",
              "              title=\"Convert this dataframe to an interactive table.\"\n",
              "              style=\"display:none;\">\n",
              "        \n",
              "  <svg xmlns=\"http://www.w3.org/2000/svg\" height=\"24px\"viewBox=\"0 0 24 24\"\n",
              "       width=\"24px\">\n",
              "    <path d=\"M0 0h24v24H0V0z\" fill=\"none\"/>\n",
              "    <path d=\"M18.56 5.44l.94 2.06.94-2.06 2.06-.94-2.06-.94-.94-2.06-.94 2.06-2.06.94zm-11 1L8.5 8.5l.94-2.06 2.06-.94-2.06-.94L8.5 2.5l-.94 2.06-2.06.94zm10 10l.94 2.06.94-2.06 2.06-.94-2.06-.94-.94-2.06-.94 2.06-2.06.94z\"/><path d=\"M17.41 7.96l-1.37-1.37c-.4-.4-.92-.59-1.43-.59-.52 0-1.04.2-1.43.59L10.3 9.45l-7.72 7.72c-.78.78-.78 2.05 0 2.83L4 21.41c.39.39.9.59 1.41.59.51 0 1.02-.2 1.41-.59l7.78-7.78 2.81-2.81c.8-.78.8-2.07 0-2.86zM5.41 20L4 18.59l7.72-7.72 1.47 1.35L5.41 20z\"/>\n",
              "  </svg>\n",
              "      </button>\n",
              "      \n",
              "  <style>\n",
              "    .colab-df-container {\n",
              "      display:flex;\n",
              "      flex-wrap:wrap;\n",
              "      gap: 12px;\n",
              "    }\n",
              "\n",
              "    .colab-df-convert {\n",
              "      background-color: #E8F0FE;\n",
              "      border: none;\n",
              "      border-radius: 50%;\n",
              "      cursor: pointer;\n",
              "      display: none;\n",
              "      fill: #1967D2;\n",
              "      height: 32px;\n",
              "      padding: 0 0 0 0;\n",
              "      width: 32px;\n",
              "    }\n",
              "\n",
              "    .colab-df-convert:hover {\n",
              "      background-color: #E2EBFA;\n",
              "      box-shadow: 0px 1px 2px rgba(60, 64, 67, 0.3), 0px 1px 3px 1px rgba(60, 64, 67, 0.15);\n",
              "      fill: #174EA6;\n",
              "    }\n",
              "\n",
              "    [theme=dark] .colab-df-convert {\n",
              "      background-color: #3B4455;\n",
              "      fill: #D2E3FC;\n",
              "    }\n",
              "\n",
              "    [theme=dark] .colab-df-convert:hover {\n",
              "      background-color: #434B5C;\n",
              "      box-shadow: 0px 1px 3px 1px rgba(0, 0, 0, 0.15);\n",
              "      filter: drop-shadow(0px 1px 2px rgba(0, 0, 0, 0.3));\n",
              "      fill: #FFFFFF;\n",
              "    }\n",
              "  </style>\n",
              "\n",
              "      <script>\n",
              "        const buttonEl =\n",
              "          document.querySelector('#df-87af4ca9-b8d5-4168-a4ea-a33bdd5164d8 button.colab-df-convert');\n",
              "        buttonEl.style.display =\n",
              "          google.colab.kernel.accessAllowed ? 'block' : 'none';\n",
              "\n",
              "        async function convertToInteractive(key) {\n",
              "          const element = document.querySelector('#df-87af4ca9-b8d5-4168-a4ea-a33bdd5164d8');\n",
              "          const dataTable =\n",
              "            await google.colab.kernel.invokeFunction('convertToInteractive',\n",
              "                                                     [key], {});\n",
              "          if (!dataTable) return;\n",
              "\n",
              "          const docLinkHtml = 'Like what you see? Visit the ' +\n",
              "            '<a target=\"_blank\" href=https://colab.research.google.com/notebooks/data_table.ipynb>data table notebook</a>'\n",
              "            + ' to learn more about interactive tables.';\n",
              "          element.innerHTML = '';\n",
              "          dataTable['output_type'] = 'display_data';\n",
              "          await google.colab.output.renderOutput(dataTable, element);\n",
              "          const docLink = document.createElement('div');\n",
              "          docLink.innerHTML = docLinkHtml;\n",
              "          element.appendChild(docLink);\n",
              "        }\n",
              "      </script>\n",
              "    </div>\n",
              "  </div>\n",
              "  "
            ]
          },
          "metadata": {},
          "execution_count": 49
        }
      ]
    },
    {
      "cell_type": "code",
      "source": [
        "merge_all_pivot = merge_all.pivot(index='place_ner', columns = 'sentenceID', values='sentence_each').reset_index()\n"
      ],
      "metadata": {
        "id": "9ZfRNhH_jB-S"
      },
      "execution_count": null,
      "outputs": []
    },
    {
      "cell_type": "code",
      "source": [
        "merge_all_pivot.rename(columns={1:'s1', 2:'s2', 3:'s3', 4:'s4', 5:'s5', 6:'s6', 7:'s7', 8:'s8', 9:'s9', 10:'s10'}, inplace=True)\n"
      ],
      "metadata": {
        "id": "s7DqboNzUDOr"
      },
      "execution_count": null,
      "outputs": []
    },
    {
      "cell_type": "code",
      "source": [
        "len(ner_places_raw)"
      ],
      "metadata": {
        "colab": {
          "base_uri": "https://localhost:8080/"
        },
        "id": "6c3RipP1g6v1",
        "outputId": "a5b6a33f-21cc-4862-d4c5-642e676e7b37"
      },
      "execution_count": null,
      "outputs": [
        {
          "output_type": "execute_result",
          "data": {
            "text/plain": [
              "9150"
            ]
          },
          "metadata": {},
          "execution_count": 53
        }
      ]
    },
    {
      "cell_type": "code",
      "source": [
        "len(list(set(ner_places_raw) - set(merge_all_pivot['place_ner'].values.tolist())))"
      ],
      "metadata": {
        "colab": {
          "base_uri": "https://localhost:8080/"
        },
        "id": "FD70GoGNh9u0",
        "outputId": "41cc3808-a958-44a0-b2ae-3b6dd19cb038"
      },
      "execution_count": null,
      "outputs": [
        {
          "output_type": "execute_result",
          "data": {
            "text/plain": [
              "280"
            ]
          },
          "metadata": {},
          "execution_count": 61
        }
      ]
    },
    {
      "cell_type": "code",
      "source": [
        "#list(set(ner_places_raw) - set(merge_all_pivot['place_ner'].values.tolist()))"
      ],
      "metadata": {
        "id": "9zcHl6snhefo"
      },
      "execution_count": null,
      "outputs": []
    },
    {
      "cell_type": "code",
      "source": [
        "# merge_temp_final['sent_1'] = merge_temp_final['sent_1'].str.replace('\\n', ' ')\n",
        "# merge_temp_final['sent_2'] = merge_temp_final['sent_2'].str.replace('\\n', ' ')\n",
        "# merge_temp_final['sent_3'] = merge_temp_final['sent_3'].str.replace('\\n', ' ')"
      ],
      "metadata": {
        "id": "rEJHlTVfhavY"
      },
      "execution_count": null,
      "outputs": []
    },
    {
      "cell_type": "code",
      "source": [
        "ner_places['place_ner'] = ner_places['ner_places_clean2']\n",
        "ner_places_st = ner_places[['place_ner', 'address', 'address_ga', 'address_usa']]"
      ],
      "metadata": {
        "id": "Csw5rMHJmg1V"
      },
      "execution_count": null,
      "outputs": []
    },
    {
      "cell_type": "code",
      "source": [
        "merge_all_pivot_merge = pd.merge(merge_all_pivot, ner_places_st, on=\"place_ner\", how='left')\n"
      ],
      "metadata": {
        "id": "zDopHL8lnnGW"
      },
      "execution_count": null,
      "outputs": []
    },
    {
      "cell_type": "code",
      "source": [
        "# Mt. Pisgah\n",
        "merge_all_pivot_merge.to_excel('/content/drive/MyDrive/Georgia/Locations Analysis/COPY_Georgia_ner_places_validation_10_sent_example.xlsx')"
      ],
      "metadata": {
        "id": "Z2lYrXCaprjW"
      },
      "execution_count": null,
      "outputs": []
    },
    {
      "cell_type": "code",
      "source": [
        "import pandas as pd\n",
        "\n",
        "merge_all_pivot_merge = pd.read_excel('/content/drive/MyDrive/Georgia/Locations Analysis/Georgia_ner_places_validation_10_sent_example.xlsx')\n"
      ],
      "metadata": {
        "id": "ZZ2iC99tzSxP"
      },
      "execution_count": null,
      "outputs": []
    },
    {
      "cell_type": "code",
      "source": [
        "len(merge_all_pivot_merge)"
      ],
      "metadata": {
        "id": "tgKh_-hG1qQt",
        "outputId": "8b284032-3d20-4cdf-88e5-65efccb2fdb6",
        "colab": {
          "base_uri": "https://localhost:8080/"
        }
      },
      "execution_count": null,
      "outputs": [
        {
          "output_type": "execute_result",
          "data": {
            "text/plain": [
              "8870"
            ]
          },
          "metadata": {},
          "execution_count": 7
        }
      ]
    },
    {
      "cell_type": "code",
      "source": [
        "len(merge_all_pivot_merge)-2686"
      ],
      "metadata": {
        "colab": {
          "base_uri": "https://localhost:8080/"
        },
        "id": "uOHD8X4G0K5d",
        "outputId": "7e7a6e90-b81a-4150-f351-79c65631ac8a"
      },
      "execution_count": null,
      "outputs": [
        {
          "output_type": "execute_result",
          "data": {
            "text/plain": [
              "6184"
            ]
          },
          "metadata": {},
          "execution_count": 3
        }
      ]
    },
    {
      "cell_type": "code",
      "source": [
        "# those only with more than 10 examples\n",
        "merge_all_pivot_merge_filter = merge_all_pivot_merge.dropna(subset=['s1', 's2', 's3', 's4', 's5', 's6', 's7', 's8', 's9', 's10' ])"
      ],
      "metadata": {
        "id": "WTa69xRxzwg3"
      },
      "execution_count": null,
      "outputs": []
    },
    {
      "cell_type": "code",
      "source": [
        "merge_all_pivot_merge_filter.to_excel('/content/drive/MyDrive/Georgia/Locations Analysis/Georgia_ner_places_validation_10_sent_example.xlsx')"
      ],
      "metadata": {
        "id": "RgS7ZW4C0qqr"
      },
      "execution_count": null,
      "outputs": []
    },
    {
      "cell_type": "code",
      "source": [
        "## find examples of PERSON ner\n",
        "\n",
        "%cd /content/drive/MyDrive/Georgia/Locations Analysis\n",
        "\n",
        "import pandas as pd\n",
        "import re\n",
        "\n",
        "ner_person = pd.read_excel('df_person_results_GA_TRUE_wide.xlsx')\n",
        "df = pd.read_pickle('/content/drive/MyDrive/Georgia/Web Scraping/Georgia_data_v2_translation_ner3_lem.pkl')\n"
      ],
      "metadata": {
        "colab": {
          "base_uri": "https://localhost:8080/"
        },
        "id": "SxotR1O5Hl5U",
        "outputId": "d6061e15-c705-4485-9431-57a1c4fe23cd"
      },
      "execution_count": null,
      "outputs": [
        {
          "output_type": "stream",
          "name": "stdout",
          "text": [
            "/content/drive/.shortcut-targets-by-id/1YSQ9BBnwwRu7fyeM_9V6eoFgKQBPl4Rr/Georgia/Locations Analysis\n"
          ]
        }
      ]
    },
    {
      "cell_type": "code",
      "source": [
        "df"
      ],
      "metadata": {
        "colab": {
          "base_uri": "https://localhost:8080/",
          "height": 1000
        },
        "id": "T0qZg2DITpZl",
        "outputId": "c7a6e129-2fc8-4a8a-b805-89d23f3e0e42"
      },
      "execution_count": null,
      "outputs": [
        {
          "output_type": "execute_result",
          "data": {
            "text/plain": [
              "        index             source  en_source                           website  \\\n",
              "0           0  Metter Advertiser        1.0  http://www.metteradvertiser.com/   \n",
              "1           1  Metter Advertiser        1.0  http://www.metteradvertiser.com/   \n",
              "2           2  Metter Advertiser        1.0  http://www.metteradvertiser.com/   \n",
              "3           3  Metter Advertiser        1.0  http://www.metteradvertiser.com/   \n",
              "4           4  Metter Advertiser        1.0  http://www.metteradvertiser.com/   \n",
              "...       ...                ...        ...                               ...   \n",
              "192201   3074   WALB TV 10 (NBC)        NaN              http://www.walb.com/   \n",
              "192202   3075   WALB TV 10 (NBC)        NaN              http://www.walb.com/   \n",
              "192203   3076   WALB TV 10 (NBC)        NaN              http://www.walb.com/   \n",
              "192204   3077   WALB TV 10 (NBC)        NaN              http://www.walb.com/   \n",
              "192205   3078   WALB TV 10 (NBC)        NaN              http://www.walb.com/   \n",
              "\n",
              "                                              article_url  \\\n",
              "0       http://www.metteradvertiser.com/article_167b17...   \n",
              "1       http://www.metteradvertiser.com/article_248646...   \n",
              "2       http://www.metteradvertiser.com/article_2eccfd...   \n",
              "3       http://www.metteradvertiser.com/article_2f555e...   \n",
              "4       http://www.metteradvertiser.com/article_2fe7f1...   \n",
              "...                                                   ...   \n",
              "192201  https://www.walb.com/video/2022/10/22/your-fir...   \n",
              "192202  https://www.walb.com/video/2022/10/22/your-fir...   \n",
              "192203  https://www.walb.com/video/2022/10/24/organiza...   \n",
              "192204  https://www.walb.com/video/2022/10/25/fentanyl...   \n",
              "192205  https://www.walb.com/video/2022/11/16/pcom-bri...   \n",
              "\n",
              "                                            article_title article_author  \\\n",
              "0                     American Pickers to film in Georgia            NaN   \n",
              "1                    Free Covid test kits available TODAY            NaN   \n",
              "2       CLASS OF 2000 STILL LEADS THE WAY! Over $29K r...            NaN   \n",
              "3       MMS Lady Tigers to play for championship, MMS ...            NaN   \n",
              "4       ATTN Hunters & Anglers: Celebrate Hunting & Fi...            NaN   \n",
              "...                                                   ...            ...   \n",
              "192201  Your First Alert Forecast from late Sat. morni...            NaN   \n",
              "192202  Your First Alert Forecast from Sat. morning, O...            NaN   \n",
              "192203  Organizations help provide financial relief fo...            NaN   \n",
              "192204  Fentanyl fears prompts community roundtable in...            NaN   \n",
              "192205            PCOM bringing in more minority students            NaN   \n",
              "\n",
              "       date_published                                      article_final  \\\n",
              "0          2022-09-19  The American Pickers are excited to return to ...   \n",
              "1          2022-09-15  Candler County Health Department and Southeast...   \n",
              "2          2022-10-14  After the third week of the Education Foundati...   \n",
              "3          2022-09-27  Congratulations to the Metter Middle School La...   \n",
              "4          2022-09-22  In a proclamation recently signed by Gov. Bria...   \n",
              "...               ...                                                ...   \n",
              "192201     2022-10-14  Your First Alert Forecast from late Sat. morni...   \n",
              "192202     2022-10-14  Your First Alert Forecast from Sat. morning, O...   \n",
              "192203     2022-10-14  Some Nashville organizations are working to ma...   \n",
              "192204     2022-09-28  Parents, students, and professionals all gathe...   \n",
              "192205     2022-10-07            PCOM bringing in more minority students   \n",
              "\n",
              "                                               ner_places  \\\n",
              "0                      {'America (GPE)', 'Georgia (GPE)'}   \n",
              "1                                        {'Metter (GPE)'}   \n",
              "2                                                   set()   \n",
              "3       {'South Tattnall (GPE)', 'Bryan County (GPE)',...   \n",
              "4                                       {'Georgia (GPE)'}   \n",
              "...                                                   ...   \n",
              "192201                                              set()   \n",
              "192202                                              set()   \n",
              "192203                                {'Nashville (GPE)'}   \n",
              "192204                                 {'Glendale (GPE)'}   \n",
              "192205                                              set()   \n",
              "\n",
              "                                                 ner_orgs  \\\n",
              "0       {'American Pickers (ORG)', 'CDC (ORG)', 'The A...   \n",
              "1       {'SE Broad Street and (ORG)', 'Southeast Healt...   \n",
              "2       {'CarterFranklin (ORG)', 'Ronnie & Janie Sikes...   \n",
              "3       {'MHS (ORG)', 'the Metter Middle School Lady T...   \n",
              "4       {'Outdoor Adventure Days (ORG)', 'Congressiona...   \n",
              "...                                                   ...   \n",
              "192201                                              set()   \n",
              "192202                                              set()   \n",
              "192203                                              set()   \n",
              "192204                                              set()   \n",
              "192205                                              set()   \n",
              "\n",
              "                                        article_lemma_num      id  \\\n",
              "0       american picker excited return georgia plan fi...       1   \n",
              "1       candler county health department southeast hea...       2   \n",
              "2       week education foundation 2022 campaign class ...       3   \n",
              "3       congratulation metter middle school lady tiger...       4   \n",
              "4       proclamation recently sign gov brian kemp satu...       5   \n",
              "...                                                   ...     ...   \n",
              "192201        alert forecast late sat morning oct 22 2022  192202   \n",
              "192202             alert forecast sat morning oct 22 2022  192203   \n",
              "192203  nashville organization work get financial help...  192204   \n",
              "192204  parent student professional gather school glen...  192205   \n",
              "192205                        pcom bring minority student  192206   \n",
              "\n",
              "                                          ner_places_orgs  \\\n",
              "0       {The History Channel (ORG), Georgia (GPE), Ame...   \n",
              "1       {Candler County Health Department (ORG), N. Ro...   \n",
              "2       {Vaughan & Faye Lanier (ORG), Personnel of Can...   \n",
              "3       {Toombs County (GPE), the Metter Middle School...   \n",
              "4       {the U.S. Congress (ORG), Georgia (GPE), Outdo...   \n",
              "...                                                   ...   \n",
              "192201                                                 {}   \n",
              "192202                                       {Sat. (LOC)}   \n",
              "192203                                  {Nashville (GPE)}   \n",
              "192204                                   {Glendale (GPE)}   \n",
              "192205                                                 {}   \n",
              "\n",
              "                                               ner_person  \\\n",
              "0                                      {Pickers (PERSON)}   \n",
              "1                                        {Covid (PERSON)}   \n",
              "2       {Roslyn Pittman (PERSON), Penny Buxton (PERSON...   \n",
              "3                               {South Tattnall (PERSON)}   \n",
              "4           {Brian Kemp (PERSON), Richard Nixon (PERSON)}   \n",
              "...                                                   ...   \n",
              "192201                                                 {}   \n",
              "192202                                                 {}   \n",
              "192203                                                 {}   \n",
              "192204                                                 {}   \n",
              "192205                                                 {}   \n",
              "\n",
              "                                         ner_person_clean  \\\n",
              "0                                        Pickers (PERSON)   \n",
              "1                                          Covid (PERSON)   \n",
              "2       Roslyn Pittman (PERSON) Penny Buxton (PERSON) ...   \n",
              "3                                 South Tattnall (PERSON)   \n",
              "4              Brian Kemp (PERSON) Richard Nixon (PERSON)   \n",
              "...                                                   ...   \n",
              "192201                                              set()   \n",
              "192202                                              set()   \n",
              "192203                                              set()   \n",
              "192204                                              set()   \n",
              "192205                                              set()   \n",
              "\n",
              "                                              person_ner1 person_ner2  \n",
              "0                                               {Pickers}          []  \n",
              "1                                                      {}          []  \n",
              "2       {Franklin, Young, Powell, Bailey, Pittman, Han...          []  \n",
              "3                                              {Tattnall}          []  \n",
              "4                                           {Nixon, Kemp}          []  \n",
              "...                                                   ...         ...  \n",
              "192201                                                 {}          []  \n",
              "192202                                                 {}          []  \n",
              "192203                                                 {}          []  \n",
              "192204                                                 {}          []  \n",
              "192205                                                 {}          []  \n",
              "\n",
              "[192206 rows x 18 columns]"
            ],
            "text/html": [
              "\n",
              "  <div id=\"df-6f621e92-d0b0-4b6d-9e8b-7e952a18e3f3\">\n",
              "    <div class=\"colab-df-container\">\n",
              "      <div>\n",
              "<style scoped>\n",
              "    .dataframe tbody tr th:only-of-type {\n",
              "        vertical-align: middle;\n",
              "    }\n",
              "\n",
              "    .dataframe tbody tr th {\n",
              "        vertical-align: top;\n",
              "    }\n",
              "\n",
              "    .dataframe thead th {\n",
              "        text-align: right;\n",
              "    }\n",
              "</style>\n",
              "<table border=\"1\" class=\"dataframe\">\n",
              "  <thead>\n",
              "    <tr style=\"text-align: right;\">\n",
              "      <th></th>\n",
              "      <th>index</th>\n",
              "      <th>source</th>\n",
              "      <th>en_source</th>\n",
              "      <th>website</th>\n",
              "      <th>article_url</th>\n",
              "      <th>article_title</th>\n",
              "      <th>article_author</th>\n",
              "      <th>date_published</th>\n",
              "      <th>article_final</th>\n",
              "      <th>ner_places</th>\n",
              "      <th>ner_orgs</th>\n",
              "      <th>article_lemma_num</th>\n",
              "      <th>id</th>\n",
              "      <th>ner_places_orgs</th>\n",
              "      <th>ner_person</th>\n",
              "      <th>ner_person_clean</th>\n",
              "      <th>person_ner1</th>\n",
              "      <th>person_ner2</th>\n",
              "    </tr>\n",
              "  </thead>\n",
              "  <tbody>\n",
              "    <tr>\n",
              "      <th>0</th>\n",
              "      <td>0</td>\n",
              "      <td>Metter Advertiser</td>\n",
              "      <td>1.0</td>\n",
              "      <td>http://www.metteradvertiser.com/</td>\n",
              "      <td>http://www.metteradvertiser.com/article_167b17...</td>\n",
              "      <td>American Pickers to film in Georgia</td>\n",
              "      <td>NaN</td>\n",
              "      <td>2022-09-19</td>\n",
              "      <td>The American Pickers are excited to return to ...</td>\n",
              "      <td>{'America (GPE)', 'Georgia (GPE)'}</td>\n",
              "      <td>{'American Pickers (ORG)', 'CDC (ORG)', 'The A...</td>\n",
              "      <td>american picker excited return georgia plan fi...</td>\n",
              "      <td>1</td>\n",
              "      <td>{The History Channel (ORG), Georgia (GPE), Ame...</td>\n",
              "      <td>{Pickers (PERSON)}</td>\n",
              "      <td>Pickers (PERSON)</td>\n",
              "      <td>{Pickers}</td>\n",
              "      <td>[]</td>\n",
              "    </tr>\n",
              "    <tr>\n",
              "      <th>1</th>\n",
              "      <td>1</td>\n",
              "      <td>Metter Advertiser</td>\n",
              "      <td>1.0</td>\n",
              "      <td>http://www.metteradvertiser.com/</td>\n",
              "      <td>http://www.metteradvertiser.com/article_248646...</td>\n",
              "      <td>Free Covid test kits available TODAY</td>\n",
              "      <td>NaN</td>\n",
              "      <td>2022-09-15</td>\n",
              "      <td>Candler County Health Department and Southeast...</td>\n",
              "      <td>{'Metter (GPE)'}</td>\n",
              "      <td>{'SE Broad Street and (ORG)', 'Southeast Healt...</td>\n",
              "      <td>candler county health department southeast hea...</td>\n",
              "      <td>2</td>\n",
              "      <td>{Candler County Health Department (ORG), N. Ro...</td>\n",
              "      <td>{Covid (PERSON)}</td>\n",
              "      <td>Covid (PERSON)</td>\n",
              "      <td>{}</td>\n",
              "      <td>[]</td>\n",
              "    </tr>\n",
              "    <tr>\n",
              "      <th>2</th>\n",
              "      <td>2</td>\n",
              "      <td>Metter Advertiser</td>\n",
              "      <td>1.0</td>\n",
              "      <td>http://www.metteradvertiser.com/</td>\n",
              "      <td>http://www.metteradvertiser.com/article_2eccfd...</td>\n",
              "      <td>CLASS OF 2000 STILL LEADS THE WAY! Over $29K r...</td>\n",
              "      <td>NaN</td>\n",
              "      <td>2022-10-14</td>\n",
              "      <td>After the third week of the Education Foundati...</td>\n",
              "      <td>set()</td>\n",
              "      <td>{'CarterFranklin (ORG)', 'Ronnie &amp; Janie Sikes...</td>\n",
              "      <td>week education foundation 2022 campaign class ...</td>\n",
              "      <td>3</td>\n",
              "      <td>{Vaughan &amp; Faye Lanier (ORG), Personnel of Can...</td>\n",
              "      <td>{Roslyn Pittman (PERSON), Penny Buxton (PERSON...</td>\n",
              "      <td>Roslyn Pittman (PERSON) Penny Buxton (PERSON) ...</td>\n",
              "      <td>{Franklin, Young, Powell, Bailey, Pittman, Han...</td>\n",
              "      <td>[]</td>\n",
              "    </tr>\n",
              "    <tr>\n",
              "      <th>3</th>\n",
              "      <td>3</td>\n",
              "      <td>Metter Advertiser</td>\n",
              "      <td>1.0</td>\n",
              "      <td>http://www.metteradvertiser.com/</td>\n",
              "      <td>http://www.metteradvertiser.com/article_2f555e...</td>\n",
              "      <td>MMS Lady Tigers to play for championship, MMS ...</td>\n",
              "      <td>NaN</td>\n",
              "      <td>2022-09-27</td>\n",
              "      <td>Congratulations to the Metter Middle School La...</td>\n",
              "      <td>{'South Tattnall (GPE)', 'Bryan County (GPE)',...</td>\n",
              "      <td>{'MHS (ORG)', 'the Metter Middle School Lady T...</td>\n",
              "      <td>congratulation metter middle school lady tiger...</td>\n",
              "      <td>4</td>\n",
              "      <td>{Toombs County (GPE), the Metter Middle School...</td>\n",
              "      <td>{South Tattnall (PERSON)}</td>\n",
              "      <td>South Tattnall (PERSON)</td>\n",
              "      <td>{Tattnall}</td>\n",
              "      <td>[]</td>\n",
              "    </tr>\n",
              "    <tr>\n",
              "      <th>4</th>\n",
              "      <td>4</td>\n",
              "      <td>Metter Advertiser</td>\n",
              "      <td>1.0</td>\n",
              "      <td>http://www.metteradvertiser.com/</td>\n",
              "      <td>http://www.metteradvertiser.com/article_2fe7f1...</td>\n",
              "      <td>ATTN Hunters &amp; Anglers: Celebrate Hunting &amp; Fi...</td>\n",
              "      <td>NaN</td>\n",
              "      <td>2022-09-22</td>\n",
              "      <td>In a proclamation recently signed by Gov. Bria...</td>\n",
              "      <td>{'Georgia (GPE)'}</td>\n",
              "      <td>{'Outdoor Adventure Days (ORG)', 'Congressiona...</td>\n",
              "      <td>proclamation recently sign gov brian kemp satu...</td>\n",
              "      <td>5</td>\n",
              "      <td>{the U.S. Congress (ORG), Georgia (GPE), Outdo...</td>\n",
              "      <td>{Brian Kemp (PERSON), Richard Nixon (PERSON)}</td>\n",
              "      <td>Brian Kemp (PERSON) Richard Nixon (PERSON)</td>\n",
              "      <td>{Nixon, Kemp}</td>\n",
              "      <td>[]</td>\n",
              "    </tr>\n",
              "    <tr>\n",
              "      <th>...</th>\n",
              "      <td>...</td>\n",
              "      <td>...</td>\n",
              "      <td>...</td>\n",
              "      <td>...</td>\n",
              "      <td>...</td>\n",
              "      <td>...</td>\n",
              "      <td>...</td>\n",
              "      <td>...</td>\n",
              "      <td>...</td>\n",
              "      <td>...</td>\n",
              "      <td>...</td>\n",
              "      <td>...</td>\n",
              "      <td>...</td>\n",
              "      <td>...</td>\n",
              "      <td>...</td>\n",
              "      <td>...</td>\n",
              "      <td>...</td>\n",
              "      <td>...</td>\n",
              "    </tr>\n",
              "    <tr>\n",
              "      <th>192201</th>\n",
              "      <td>3074</td>\n",
              "      <td>WALB TV 10 (NBC)</td>\n",
              "      <td>NaN</td>\n",
              "      <td>http://www.walb.com/</td>\n",
              "      <td>https://www.walb.com/video/2022/10/22/your-fir...</td>\n",
              "      <td>Your First Alert Forecast from late Sat. morni...</td>\n",
              "      <td>NaN</td>\n",
              "      <td>2022-10-14</td>\n",
              "      <td>Your First Alert Forecast from late Sat. morni...</td>\n",
              "      <td>set()</td>\n",
              "      <td>set()</td>\n",
              "      <td>alert forecast late sat morning oct 22 2022</td>\n",
              "      <td>192202</td>\n",
              "      <td>{}</td>\n",
              "      <td>{}</td>\n",
              "      <td>set()</td>\n",
              "      <td>{}</td>\n",
              "      <td>[]</td>\n",
              "    </tr>\n",
              "    <tr>\n",
              "      <th>192202</th>\n",
              "      <td>3075</td>\n",
              "      <td>WALB TV 10 (NBC)</td>\n",
              "      <td>NaN</td>\n",
              "      <td>http://www.walb.com/</td>\n",
              "      <td>https://www.walb.com/video/2022/10/22/your-fir...</td>\n",
              "      <td>Your First Alert Forecast from Sat. morning, O...</td>\n",
              "      <td>NaN</td>\n",
              "      <td>2022-10-14</td>\n",
              "      <td>Your First Alert Forecast from Sat. morning, O...</td>\n",
              "      <td>set()</td>\n",
              "      <td>set()</td>\n",
              "      <td>alert forecast sat morning oct 22 2022</td>\n",
              "      <td>192203</td>\n",
              "      <td>{Sat. (LOC)}</td>\n",
              "      <td>{}</td>\n",
              "      <td>set()</td>\n",
              "      <td>{}</td>\n",
              "      <td>[]</td>\n",
              "    </tr>\n",
              "    <tr>\n",
              "      <th>192203</th>\n",
              "      <td>3076</td>\n",
              "      <td>WALB TV 10 (NBC)</td>\n",
              "      <td>NaN</td>\n",
              "      <td>http://www.walb.com/</td>\n",
              "      <td>https://www.walb.com/video/2022/10/24/organiza...</td>\n",
              "      <td>Organizations help provide financial relief fo...</td>\n",
              "      <td>NaN</td>\n",
              "      <td>2022-10-14</td>\n",
              "      <td>Some Nashville organizations are working to ma...</td>\n",
              "      <td>{'Nashville (GPE)'}</td>\n",
              "      <td>set()</td>\n",
              "      <td>nashville organization work get financial help...</td>\n",
              "      <td>192204</td>\n",
              "      <td>{Nashville (GPE)}</td>\n",
              "      <td>{}</td>\n",
              "      <td>set()</td>\n",
              "      <td>{}</td>\n",
              "      <td>[]</td>\n",
              "    </tr>\n",
              "    <tr>\n",
              "      <th>192204</th>\n",
              "      <td>3077</td>\n",
              "      <td>WALB TV 10 (NBC)</td>\n",
              "      <td>NaN</td>\n",
              "      <td>http://www.walb.com/</td>\n",
              "      <td>https://www.walb.com/video/2022/10/25/fentanyl...</td>\n",
              "      <td>Fentanyl fears prompts community roundtable in...</td>\n",
              "      <td>NaN</td>\n",
              "      <td>2022-09-28</td>\n",
              "      <td>Parents, students, and professionals all gathe...</td>\n",
              "      <td>{'Glendale (GPE)'}</td>\n",
              "      <td>set()</td>\n",
              "      <td>parent student professional gather school glen...</td>\n",
              "      <td>192205</td>\n",
              "      <td>{Glendale (GPE)}</td>\n",
              "      <td>{}</td>\n",
              "      <td>set()</td>\n",
              "      <td>{}</td>\n",
              "      <td>[]</td>\n",
              "    </tr>\n",
              "    <tr>\n",
              "      <th>192205</th>\n",
              "      <td>3078</td>\n",
              "      <td>WALB TV 10 (NBC)</td>\n",
              "      <td>NaN</td>\n",
              "      <td>http://www.walb.com/</td>\n",
              "      <td>https://www.walb.com/video/2022/11/16/pcom-bri...</td>\n",
              "      <td>PCOM bringing in more minority students</td>\n",
              "      <td>NaN</td>\n",
              "      <td>2022-10-07</td>\n",
              "      <td>PCOM bringing in more minority students</td>\n",
              "      <td>set()</td>\n",
              "      <td>set()</td>\n",
              "      <td>pcom bring minority student</td>\n",
              "      <td>192206</td>\n",
              "      <td>{}</td>\n",
              "      <td>{}</td>\n",
              "      <td>set()</td>\n",
              "      <td>{}</td>\n",
              "      <td>[]</td>\n",
              "    </tr>\n",
              "  </tbody>\n",
              "</table>\n",
              "<p>192206 rows × 18 columns</p>\n",
              "</div>\n",
              "      <button class=\"colab-df-convert\" onclick=\"convertToInteractive('df-6f621e92-d0b0-4b6d-9e8b-7e952a18e3f3')\"\n",
              "              title=\"Convert this dataframe to an interactive table.\"\n",
              "              style=\"display:none;\">\n",
              "        \n",
              "  <svg xmlns=\"http://www.w3.org/2000/svg\" height=\"24px\"viewBox=\"0 0 24 24\"\n",
              "       width=\"24px\">\n",
              "    <path d=\"M0 0h24v24H0V0z\" fill=\"none\"/>\n",
              "    <path d=\"M18.56 5.44l.94 2.06.94-2.06 2.06-.94-2.06-.94-.94-2.06-.94 2.06-2.06.94zm-11 1L8.5 8.5l.94-2.06 2.06-.94-2.06-.94L8.5 2.5l-.94 2.06-2.06.94zm10 10l.94 2.06.94-2.06 2.06-.94-2.06-.94-.94-2.06-.94 2.06-2.06.94z\"/><path d=\"M17.41 7.96l-1.37-1.37c-.4-.4-.92-.59-1.43-.59-.52 0-1.04.2-1.43.59L10.3 9.45l-7.72 7.72c-.78.78-.78 2.05 0 2.83L4 21.41c.39.39.9.59 1.41.59.51 0 1.02-.2 1.41-.59l7.78-7.78 2.81-2.81c.8-.78.8-2.07 0-2.86zM5.41 20L4 18.59l7.72-7.72 1.47 1.35L5.41 20z\"/>\n",
              "  </svg>\n",
              "      </button>\n",
              "      \n",
              "  <style>\n",
              "    .colab-df-container {\n",
              "      display:flex;\n",
              "      flex-wrap:wrap;\n",
              "      gap: 12px;\n",
              "    }\n",
              "\n",
              "    .colab-df-convert {\n",
              "      background-color: #E8F0FE;\n",
              "      border: none;\n",
              "      border-radius: 50%;\n",
              "      cursor: pointer;\n",
              "      display: none;\n",
              "      fill: #1967D2;\n",
              "      height: 32px;\n",
              "      padding: 0 0 0 0;\n",
              "      width: 32px;\n",
              "    }\n",
              "\n",
              "    .colab-df-convert:hover {\n",
              "      background-color: #E2EBFA;\n",
              "      box-shadow: 0px 1px 2px rgba(60, 64, 67, 0.3), 0px 1px 3px 1px rgba(60, 64, 67, 0.15);\n",
              "      fill: #174EA6;\n",
              "    }\n",
              "\n",
              "    [theme=dark] .colab-df-convert {\n",
              "      background-color: #3B4455;\n",
              "      fill: #D2E3FC;\n",
              "    }\n",
              "\n",
              "    [theme=dark] .colab-df-convert:hover {\n",
              "      background-color: #434B5C;\n",
              "      box-shadow: 0px 1px 3px 1px rgba(0, 0, 0, 0.15);\n",
              "      filter: drop-shadow(0px 1px 2px rgba(0, 0, 0, 0.3));\n",
              "      fill: #FFFFFF;\n",
              "    }\n",
              "  </style>\n",
              "\n",
              "      <script>\n",
              "        const buttonEl =\n",
              "          document.querySelector('#df-6f621e92-d0b0-4b6d-9e8b-7e952a18e3f3 button.colab-df-convert');\n",
              "        buttonEl.style.display =\n",
              "          google.colab.kernel.accessAllowed ? 'block' : 'none';\n",
              "\n",
              "        async function convertToInteractive(key) {\n",
              "          const element = document.querySelector('#df-6f621e92-d0b0-4b6d-9e8b-7e952a18e3f3');\n",
              "          const dataTable =\n",
              "            await google.colab.kernel.invokeFunction('convertToInteractive',\n",
              "                                                     [key], {});\n",
              "          if (!dataTable) return;\n",
              "\n",
              "          const docLinkHtml = 'Like what you see? Visit the ' +\n",
              "            '<a target=\"_blank\" href=https://colab.research.google.com/notebooks/data_table.ipynb>data table notebook</a>'\n",
              "            + ' to learn more about interactive tables.';\n",
              "          element.innerHTML = '';\n",
              "          dataTable['output_type'] = 'display_data';\n",
              "          await google.colab.output.renderOutput(dataTable, element);\n",
              "          const docLink = document.createElement('div');\n",
              "          docLink.innerHTML = docLinkHtml;\n",
              "          element.appendChild(docLink);\n",
              "        }\n",
              "      </script>\n",
              "    </div>\n",
              "  </div>\n",
              "  "
            ]
          },
          "metadata": {},
          "execution_count": 34
        }
      ]
    },
    {
      "cell_type": "code",
      "source": [
        "ner_person_raw = list(set(ner_person['ner_original'].tolist()))"
      ],
      "metadata": {
        "id": "lBm3CfADIpA_"
      },
      "execution_count": null,
      "outputs": []
    },
    {
      "cell_type": "code",
      "source": [
        "\n",
        "import nltk\n",
        "nltk.download('punkt')\n",
        "\n",
        "import re\n",
        "\n",
        "def bigrams(s):\n",
        "    return [i for i in s if re.search(r'\\s', i) ]\n",
        "  \n",
        "def unigrams(s):\n",
        "    return [i for i in s if not re.search(r'\\s', i) ]\n",
        "\n",
        "word_bigrams_done = list(set(bigrams(ner_person_raw)))\n",
        "print(word_bigrams_done)\n",
        "print(len(word_bigrams_done))\n",
        "                       \n",
        "word_unigrams_done = unigrams(ner_person_raw)\n",
        "print(word_unigrams_done)\n",
        "print(len(word_unigrams_done))\n",
        "\n"
      ],
      "metadata": {
        "colab": {
          "base_uri": "https://localhost:8080/"
        },
        "id": "urHsN_40IXa6",
        "outputId": "212eb097-3db2-4af1-c9f5-4cb0cd48176a"
      },
      "execution_count": null,
      "outputs": [
        {
          "output_type": "stream",
          "name": "stderr",
          "text": [
            "[nltk_data] Downloading package punkt to /root/nltk_data...\n",
            "[nltk_data]   Unzipping tokenizers/punkt.zip.\n"
          ]
        },
        {
          "output_type": "stream",
          "name": "stdout",
          "text": [
            "['A.J. Griffin', 'Glascock County', 'Robert Cummings', 'Elli Bryan', 'Thomas Jefferson Academy', 'West Roberts', 'Antonio White', 'WBZ midday', \"Carol Jeanne Ulmer O'Cain\", 'Zach Aston-Reese', 'Alverson Rd', 'Mama Dracula', 'Tattnall County Schools', 'Jacarre Fleming', 'Georgia Taylor', 'Fort Jackson', 'Clint Watts', 'Khalif Walters', 'Andrew Hartley', '-- Kyler Murray', \"Waterloo East's\", 'Crane St.', 'Phil Scott', 'Kyler Murray', 'Sheila Akin', 'M. Kennedy Hall', 'Matt Johnson', 'Joseph Harris 30', 'Briana Evans', 'Matt Huntley', 'Lily Akins', 'Jayden Drayton', 'Chuck Winder', 'Dakota Allen', 'Washington D.c', 'Lanier Christian', \"Carson Kelly's\", 'Kurt Russell', 'Tom Canavan', 'Ricky Fulton', 'Raegan Pitts', 'Nancy Santa', 'Nick Di Santo', 'Theresa Whitlock', 'Tory Taylor', 'David Pennington', 'Grub Shack', 'Stefan Cleveland', 'Kenneth Shane Stuart', 'Cathie Perkins', 'Orlando Mitchell', 'Kyler Gordon', 'Timothy Dudley', 'C.J. Johnson', 'Alexander Conyers', 'Judy L. Jenkins', 'McKaela Walker', 'Baker Mayfield', 'Francine Wheeler', 'Zyon McKenzie', 'Marc Beach', 'Superstorm Sandy', 'Woody Johnson', 'Griffin Dorsey', 'Matthew Dennis', 'Garrett Dempsey', 'Nan Jenkins', 'Susan W. Scarboro', 'Wayne Delk', 'Helping Mamas', 'Ryan Lamar', 'Powder Springs', 'Emma Murray', 'Teresa Crawford', 'W. Line St.', 'Alex Lines', 'Ricky Don Jaco', 'Holden Wheeler', 'Alexis Galarneau', 'Katie Waddle Atkins', 'Howard 0\\nPierce County 49', 'Patsy Lynn Russell', 'Deena Jones', 'Hapeville Charter', 'J. Wade Padgett', 'Keira Robinson', 'Matthew Middleton', 'Artez Jamil Benton', 'Bake 20 minutes', 'Jasper Loeffelsend', 'Matt Nelson', 'Conyer Smith', 'Katherine Renee Turner', 'George Busbee Parkway', 'Smith Fuquea', 'Holly Springs', 'Aubrey Burks', 'Toner Mitchell', 'Dejon Allen', 'RON WEATHERFORD', 'Aston Martin', 'Libertarian Chase Oliver', 'Glenn Compton', 'James Mitchell', 'Colombia LG', 'Caroline Henry', 'Hagstrom Miller', 'Hegwood Eslinger', 'Rookie Aidan Hutchinson', 'Tyler Trail', 'Mitchell Fineran', 'Mary Yelton Realty', 'Mark Robinson', 'Perry Bell', 'Fred Keller', 'Brian M. Conley', 'Danny Cochran', 'Taylor York -', 'Don McDowell', 'Parr Folsom', 'Emma Gibson', 'Haley Stevens', 'Redeagle Lovejoy', 'Brian Shoichet', 'Lewis Brinson', 'Armar Gordon', 'Janet Jackson', 'Tatum Sue Matthews', 'Broderick Johnson', 'Ed Oliver', 'Thomas Limerick', 'Dalton Cramer', 'Fellow American', 'Christian Braswell', 'Okefenokee Adventures', 'Tobias Harris', 'Woodland Stockbridge', 'Hilton Pelser', 'Brent Stepp', 'Osprey Cove', 'Christopher Dunn', 'Brodie Stafford', 'Madison Reaves', 'Stephen Zimmermann', \"Kendrick Lamar - '\", 'Garrett Grady', 'Ack Powell Road', 'Derrick Henry', 'Martha Bath', 'John Lawrence', 'K.J. Osborn', 'Rita Hart', \"Laurie Thomas'\", 'S.M. Schaeffer', 'Bailee Williams', 'Ralph Hickox', 'Abby Henderson', 'Keve Porter', 'Allison Aubrey', 'Colin Hogan', 'Williams Tate', 'Tommy Nance', 'Brad Johnson', 'Bradley Coleman', 'Laurie Gay', 'Rachel Polan', 'Umari Hatcher', 'Rebecca Carl', 'Screven Chapel', 'Kyron Johnson', 'Mark Mobley', 'Sanford Stadium', 'Johnny Lawrence', 'Warren Central', 'Piedmont Augusta', 'Thalian Hall', 'Cheryl Lewis Hudson', 'Keurig K-Mini', 'Larry Harris', 'Michael Bratcher', 'Tamika Auguste', 'Vincent Nichols', 'Mac Jones', 'William H. “Beau', 'Bulloch Academy', 'Jordyn Chapman', 'Savanna Graziano', 'Gavin Gray', 'Quarterback Tanner McKee', 'Helen Hwy', 'Tamara Thomsen', 'William Poole', 'Ethan Weston', 'Abby Allen', 'Tucker Henderson', 'Avery Tucker', 'Jackie Robinson', 'John Evans', 'Emma Frank', 'Deonte Banks', 'Charlie Miller', 'Marty Allan Kinard', 'Tommy Benton', 'Evan McMullin', 'Salathiel DeLoach', 'King Charles', 'Jovia Burke', 'Steve Johnson', 'Mike Mitchell', 'Idol Across America', 'Anna Wedell', 'Lewis J', 'Matt Dietrich', 'Lee Join', 'Matt Buschmann', 'Joan Elizabeth Selman Jarrett', 'Chuck Payne', 'Patrick Clayton', 'John Milner', 'Alice Faye Hall Ashworth', 'Clinton Davisson', 'Stacy Morgan', 'Joe Taylor', 'Jasmine Gibson', 'Pearson Cunningham', 'Jamie Collins', 'Franklin Sheard Jr / Shutterstock.com', 'Antoine Green', 'bibb lettuce', 'Kayden Scott', 'Doug Armstrong', 'Rebecca Flitcroft', 'Luke Hopkins', 'Lily Howell', 'R. Austin Huffaker', 'Louis Sands', 'Robert Tate Miller', 'Samara Hawkins', 'Miles Sanders', 'Becca R. Levy', 'Riverside Drive', 'Camryn Williams', 'Leah Johnson', 'Rick Tiff', 'Barbara Norman Whatley', 'Linda Hamilton', 'Jackson 992', 'Queen Camilla', \"Cook County State's\", 'Rebecca Schwartz', 'Jessica Watkins', 'Scott Cleveland', 'Jacob Jones', 'Stewart Friesen', 'Eleni Kounalakis', 'Benton Place', 'Monique Coleman', 'Diane Perry', 'Guy Bisick', 'Beatrice Grannò', 'Matthew Frank', 'Brandon Jones', 'Grayson Perry', 'Edwin Perkins', 'Simone Griffith', 'Avalon Ridge Place', 'Nick Johnson', 'Dorothy Evelyn Garland', 'Kishaun Taylor', 'Blake Alexander', 'Dent Myers', 'Will Thomas', 'Stephen Vladeck', 'Jimmy DeLoach Parkway', 'Elevate Together', 'Episcopal Dalton Ga', 'James Henry Norris', 'Anya Williams', 'Lindley Johnson', 'Adeline Martinez', 'Latravious Williams', 'Whitney Burran', 'Rachel Jones', 'Van Jefferson', 'Nick Taylor', 'Lonnie C. Johnson', 'Kayan Tara', 'Ola Adeniyi', 'Elizabeth Hartsfield', 'Isaiah Jones', 'Josh Washington', 'Laura Thomas', 'Will Fagan', 'Wolf Creek', 'Helen Hoehne', 'Max Johnson', 'Jake Matthews', 'Damien Martinez', 'Katy Haddock', \"Mitchell Fineran's\", 'LaPorscha Baldwin', 'Trent McDuffie', 'Superintendent Glenn White', 'Jay Jackson', 'Brandon Macon', 'Jeff Gordon', 'Sire Jackson', 'Taylor Barber', 'Chastain Rd', 'O.J. Alexander', 'Zach Aston', 'Thomas Cullen', 'Emma Rauch', 'Taylor Pounds', 'Tai Felton', 'Luke Kelly', 'Skyview Drive', 'Terrance Mitchell', 'Tracey Hagen', 'Carla Jordan', 'Henry Hubchen', 'Southeast Bulloch', 'James Franklin', 'Brad Thompson', 'Thad Allton', 'Michael Johnson', 'A. Bowman', 'Esperanza Spalding', 'Jivan Baly', 'Justin Thomas', 'Bryce Clark FG', 'Pelham Manor', 'Amir Jackson', 'Monaray Baldwin', 'Stephen Cina', 'Lesley Wiete', 'Mary Ann Baldwin', 'Charlie Dudley', 'Tater Ortiz', 'Larry Leon Harris', 'Martin Luther King Jr. Drive', 'St. Pius', 'Jari Tanner', 'Armstrong Jones', 'Amelia Miller', 'Della Harris', 'AdventHealth Murray', 'Jonquel Jones', 'Garrett Mitchell', 'Tywan Royal', 'B.T Potter', 'Amylee Hammond', 'Tab Griffin', 'Blake Snell', 'Sandy Springs Together', 'Broadrick Drive', 'Kailey Martin', 'Lambert Longhorns', 'Lanier Drive', 'Kash Patel', 'Reagan Hancock', 'Harrison Voelzke', 'Ben Gordon', 'Harrison Mirth', 'Charles Robinson', 'Harmon Face', 'Cutter Martin', 'Danny Harris', 'Missouri Tiger', 'Zakhari Franklin', 'Andrew Thomas', 'David O. Russell', 'Iris Drive', 'Caylie Harrell', 'Dominic Lovett', 'Keith Mitchell', 'Sarah Tuck', 'Shai Gilgeous-Alexander', 'Windy Hill Road', 'Artis Benton', 'Savannah Graziano', 'Tim Williams', 'Dennis Tuttle', 'Jordan Akins', 'Rolin Jones', 'Steve Gray', 'Isaiah Alston', 'Tavorus Jones', 'Trea Turner', 'Ed Thomas', 'Esta Spalding', 'Gordon County Antique Engine', 'Mike Elko', 'Rahul Ray', 'Latesa Bailey', 'Remy Scott', 'Jane Clayson', 'Owen Norman', 'Trey Burke', 'Gabriela Martinez', 'Jolly Rd Calhoun', 'Tom Boers', 'Kailyn Anderson', 'Scott Howard', 'Coroner Tamara Willard', 'Damian Bowden', 'Jim Nelson', 'Weatherman 147;N. Gragson', 'Stonewall Jackson', 'Rick Nelson', 'Shawn Jones', 'Tanner Mordecai', 'Leon Tucker', 'Ada Monroe', 'Pace St.', 'Carter Evans', 'B.T. Potter', 'Anwar Allen', 'Carlton Reeves', 'Scott Lanier', 'Ivan Perry', 'Ernest Barrett', 'Cam Allen', 'Jesse Collins', 'Raymond Drive', 'Jurney Madison', 'Cameron Robinson', 'Marylyn Greene', 'Madison Gilliland', 'Lady Marty Kemp', 'Roxana Hegeman', 'Quinton Jefferson', 'Walker Elrod', 'Tyler Perry', 'Rachel Keith', 'Roberta Rigano', 'Harlem Bulldogs', \"Chatt Tech's\", 'Doug Padilla', 'Maddy Bacon', 'DeWitt Clinton', 'Jake Stewart', 'Regarding Auburn', 'Deidre White', 'Rodgers Thomas', 'Brendan Davison', 'BETSY Z. RUSSELL/', 'Barbara A Perry', 'Scott Herndon', 'Clinton Liberty', 'Christopher Columbus', 'Raymond Lovett', 'Gainesville High', 'Evan Gober', 'Cave Spring', 'Samuel L. Jackson', 'Clarence Sasser', 'Ellen Coggeshall', 'Jimmy Johnson', 'Vic Miller', 'Nick [Cannon', 'John Pruitt', 'Bryce Baker', 'Elijah Thomas', 'Brayden Williams', 'Addie Thompson', 'Karli Barnett', 'Carli Pearson', 'Martin A. Canada', 'Banks Crossing', 'AJ Tucker', 'Jacob Ray', 'mark Charles', 'Savannah Wilson', 'Chase Oliver’s', 'Glenn White', 'Tisha Thompson', 'Bill Powell', 'Diane Ademu-John', 'Hamilton Streets', 'Sandra Darlene Buffington', 'Lindsey Graham', 'Margaret Ann McGuire', 'Graham Budd Auctions', 'Graci West', 'Eden Wells', 'Ernest Ray', 'Ken Morgan', 'Kip Adams', 'Daniel Charles', 'Henry Witherspoon', 'Tom Gordon', 'Barrett Parkway', 'Taylen Green', 'Collin Ridgley', 'Clay Millen', 'Joseph C. McIntyre II', 'Bryce Hicks', \"King Charles'\", 'Aaron Loup', 'Phil Collins', 'Christopher Lawton', 'Marcy Gordon', 'Sheldon Whitehouse', 'George Pickens', 'J.C. Harwell', 'Matt Gay', 'Jilly Fitzgerald', 'Scott Turner', 'Chad McBride', 'Savannah Christian', 'Shane Thomas', 'Steve Brooks', 'Ella Fitzgerald', 'Thomas W. Hardwick', 'Nini Mitchell', 'Taylor Pipkins', 'Travis Scott', 'Jaiden Patterson', 'Earl Warren', 'Howard 14', 'A.J. Hilton', 'Brody Jordan', 'Karlie Walker', 'Anna G. Rosenblatt', 'Britta Perry', 'Ruby Lee Patterson Townsend', 'Pat Warren', 'Duluth Wildcats', 'Elijah Jones', 'Creek Rd', 'Will Gordon', 'Alijah Alexander', 'Ladd Taylor', 'Steven Walker/Herald-Tribune\\nClub Drive', 'Wesley Chapel', 'Donald Baker', 'John Shearer/Country Rising', 'Deion Jones', 'Dan Romer', 'Kyon Taylor', 'Haley Townsend', 'Reliever Tanner Scott', 'Jeremy Perri', 'Miura Kite', 'Zack Godfrey', 'Gerald Johnson', 'Jeff Perry', 'Michelle Ashford', 'Ty Scott', 'Aaron Chown', 'James Buchanan', 'Thomas Blackshear', 'Orrin Morris', 'DeShun Coleman', 'Follow Curt Yeomans\\nClose', 'Jefferson Savarino', 'Mwani Wilkinson', 'Emma Thomson', 'Randy Scott', 'Glyn KIRK / POOL / AFP', 'Sulphur Springs', 'Paul Sycamore', 'Alan Bowman', 'J.D. Lindsey', 'Tiana Morrison', 'Max Rose', 'John Bishop', 'Peter Morgan', 'Forest Cove', 'Denzel Washington', 'John Alexander', 'Tom Pelissero', 'Keith Meadows', 'Kristine Johnson', 'Bill Alexander', 'Fran Hammond', 'Bryan Bakevich', 'Peggy Ann Milton', 'Sean Kingston', 'Tim Weah', 'Tom Fitzgerald', 'Tim Hall', 'Marvin James Kelley', 'Alex Garland', 'KJ Jefferson', 'Diego Lorenzo', 'Rosa Parks', 'Buckner Rd', 'Bryant Reed', 'Dana Tompkins', 'Alexandra Windsor', 'Davis Rd', 'Matt Milano', 'Phyllis Gough', 'David Calvert-Jones', 'Patterson MA', 'TED KIRK/', 'Evan Sparks', 'Gordon Lee Lady Trojans', 'Jobe Bryant 75', 'Isaiah Tucker', 'Jalen Brooks', 'Taylor Greene', 'Evan Stewart', 'Sierra Jackson', 'Chris Evans', 'Josh Hall', 'Joiner-Anderson Funeral Home & Crematory', 'Nancy New', 'Mitch Haniger', 'Kyle Kensing', 'Steve Holland', 'Vicky White', 'Trevor Sumpter', 'Bill Clinton', \"Taylor Greene's\", 'Darius Cannon', 'Libertarian Martin Cowen', 'Jaden Gibson', 'Cleotha Abston-Henderson', 'Dane Evans', 'Henry Gallups', 'Abdullah Anderson', 'Allen Mitchell', 'Jonathan Jones', 'Cobb County', 'Bill 315', 'Taylor Moton', 'Aryian Berner', 'Leftie Lee’s', 'West Harrison', 'Bryson Scott', 'Shane Bacon', 'Jeremy Stewart', 'Tykeem Wallace', 'Dadrian Henderson', 'Joe Edge', 'Terrence Howard', 'Paisley Collins', 'Aaron Seltzer\\n- Stacker', 'Elizabeth Mitchell', 'Ilan Alhadeff', 'Madison Pickens', 'Ray Perry', 'Wyatt Birke 2', 'Anna Bondar', 'Credit Jackson', 'Mark Holland', 'Athens Christian', 'Real Salt Lake', 'Harrison Jordan', 'ANDREW NELSON', 'Charles Evans', 'Darrell Henderson', 'Chamblee Dunwoody Road', 'Cherokee Christian', 'Kaia Downs', 'Ryne Nelson', 'Gwinnett County', 'Shaun Alexander', 'Shawn Burke', 'Jack Mattox Park', 'Jerry Kelly', 'Holly Taylor', 'J.D. Martinez', 'John Delzell', 'TaRyan Martin', 'Chadwick David Lyons', 'Quincey Leigh Hancock', 'Al Lopata Gardens', 'Tammy Robinson', 'Dawson Pendergrass', 'Laura Williamson', 'Grayson Rams', 'Chuck Taylor', 'Buckhead Saloon', 'Nic Claxton', 'Alexi Hawley', 'Jack Bolton', 'Renée Russell', '2050 Kennesaw', 'Haley Cotton', 'Tyler Alexander', 'Harrison Bader', 'Ari Lennox', 'Lamont McIntyre', 'Sandra McAfee Hall', 'Collins Hill', 'Henry Butler', 'Justin Lane', 'Abraham Baldwin Agricultural College', 'Dejounte Murray', 'Tim Carpenter/Kansas Reflector', 'Lynthia Ross', 'Herb Jones', 'Tommy Murphy', 'Sahmir Hagans', 'Aaron Bernstine', 'Landmark Christian', 'Lisa Colbert', 'Davis St.', 'Barb Byrum', 'Sam Nicholson', 'William Sparks', 'Bernt Nelson', 'OL Billy Turner', 'Alex Menendez', 'Sayler Fleming', 'Barry Kiya Daise', 'Tayvion Robinson', 'Ben Nelson', 'Dorrance Hall', 'Adelaide Kirk', 'Anna Sawai', 'Shelly Sterling', 'Kerry Rushin Miller', 'Tremaine Jackson', 'Royce Jones', 'Tom Bannon', 'Deep Roots Orchard', 'Nick Brooks', 'Ted Hurst', 'Kimberly Burwell', 'Morgan Brittney Johnson', 'Julian Walters', 'Pink Floyd', 'Brady Tillman', 'Wesley Vickers', 'Blayne Taylor', 'Advocacy Center', 'Doug Rosenman', 'Thomas Kent Rhinehart', 'Austin Pruitt', 'Liam Murphy', 'N.E. Suite', 'Alex Lekai', 'Derek Barnett', 'Ray Glass', 'Calvin Johnson', 'Lily Anne Harrison', 'Elaine Lawrence', 'Bailee Bowman', 'J.T. Gray', 'Andre Reynolds', 'Osprey Cove Drive', 'BJ Harris', 'Sean Kelly', 'Jennifer Walker Thomas', 'Stilwell Drive', 'Sara DeWitt', 'Harvester Christian', 'Bokeem Woodbine', 'Atlanta Braves', 'Lawrence County', 'Charles Murray', 'Skip Henderson', 'Hamilton County', 'Makaylee Randolph', 'Linton Kringle', 'Kevin Harris', 'Lillian McCullough', 'Jolene Garland', 'Henry Burch', 'Deverris Stuckey', 'Susan Hutchinson', 'Michelle Covey', 'James Drayton', 'John Pruitt’s', 'Wilson Cochran', 'Elizabeth Louise', 'Lea el libro', 'Preston Hutchinson', 'Gordon, Murray', 'Ginnie Graham', 'Lisa Leslie', 'Van Buren', 'Durrell Harris', 'Chyna Funkhouser', 'Emory Beck', 'John William Pitts', 'Bull Dempsey', 'Rick Dunn', 'Jack Jones', 'Kelly Meggs', 'Al Gore', 'Hyrin White', 'Alicia Fry', 'Steven Russell', 'Kyle Collins', 'Doug Burgum', 'North Booth Rd', 'Victor Lord Park', 'Tina Lilly', 'Mary Martin', 'Emma Smallwood', 'Derrick Freeman', 'Madison Todd', 'Glenn Hills', 'Senan West', 'Terry Cummings', 'Emma Phillips', 'Claire Dearing', 'Smokey Robinson', 'Joe Wells', 'N. MLK Jr. Blvd', 'Markus Burton', 'Arthur Freeman Mitchell', 'Scotty Middleton', 'Quil Lawrence', 'Kathleen Sgamma', 'Randy Johnson', 'Asia Marshall', 'Robert Norman Cash', 'Pierson Wilkerson', 'Annie Edison', 'Jessi Mitchell', 'Pamela Milton', 'Thurman Carl Coleman', 'Port Wentworth', 'Lisa Robin', 'Sherrod Corbin', 'Douglas Porter', 'John Nelson', 'William Morgan', 'Bill Martin', 'Jayvon Sanders', 'Adam Jones', 'Gordon Lee Middle School', 'Outlander Season 7', 'Mark Jones', 'Allen Poole', 'Bill Stewart', 'Mickey Guyton', 'Curt Miller', 'Madison Haugen', 'Monica Broncucia-Jordan', 'Lane Thomas', 'Jalapeno Bacon', 'Uriah Hall', 'Fort Smith', 'Maddox Rd', 'Hudson Carter', 'Caroline Reed', 'Ronnie Ridley', 'Miguel Cairo', 'Mackenzie McDonald', 'Gena Ann Cleland', \"Riley Dixon's\", 'Thomas Brantley', 'Keymoriona Williams', 'Sally Jackson', 'Chrystal Stuckey', \"Graham Mertz'\", 'Leo Ashton', 'Ross Chastain', 'Doug Engle', 'Alert Weather @ Noon', 'Ricky Martin', 'Linda Evans', 'Jeff Line', 'David Tucker', 'Malik D. Evans', 'Dillon Thomas', 'Greg Brooks', 'Antonio Johnson', 'Sidney Jones', 'Quentin Redding', 'Taylor Hearn', 'Liberty Plaza', 'Tara Molina', 'Tsar Nicholas', 'Dobie Gray', 'Khristopher J. Brooks', 'Romona Jackson Jones', 'Ron Washington', 'Cassandra Collins', 'Jamaal Bowman', 'Sheriff Alfonzo Williams', 'LaVarne Burton', 'Z-66 ADP - TERRELL', 'TED KIRK', 'Angel Martinez', 'Alexia Putellas', 'Bryant Turner', 'Jaley Chapman', 'Devin Taylor', 'Jimmy Carter Boulevard', 'Cornerback Shaquill Griffin', 'Tommy Garcia', 'Whitney Blaylock', 'Bill Watkins Rd', 'Jace Stewart', 'D.J. Turner', 'Nottingham Way', 'Triston Randall', 'Douglas County Courthouse', 'Eric Tucker', 'Tyrie Cleveland', 'Terry Felton', 'Jonah Jackson', 'Cal Conley', 'Stoneman Douglas', 'Kima Hamilton', 'Milton Geovany Valle', 'Dottie Jones', 'Isaac Hubert', 'Curt Yeomans', \"Ja'Lynn Polk\", 'Steve Kelly', 'Mary Persons', 'Jackson Bussey', 'Keith Taylor', 'Juno Temple', 'Avg\\nLafayette 5-2 2-', 'Donovan Mitchell', 'Graham Kates', 'Nick Maxey', 'Jonathan Martinez', 'Trevor Lawrence', 'William James Middle School', 'Akers Mill Road', 'Julian Merryweather', 'Chris Johnson', 'Robert Johnson', 'Emory Hillandale', 'Bryan County Family Connection', 'Harrison Floyd', 'the John J. Cochran Veterans Hospital', 'Rhyne Howard', 'Aliyah Boston', 'Jaxson Hayes', 'Jessica Alexander', 'Jude Bailey', 'Jan Crawford', 'Eric Morris', 'Jordan Woods', 'Christopher Robins', 'Dine Savannah', 'Lizzie Bryant Warren', 'Rutha Harris', 'Nina Shope Burton', 'Emma Fowler', 'Matthew Johnson', 'Carl Beverly', 'Oliver Martin', 'Richard Jenkins', 'Chase Anderson', 'Dana Johnson', 'Tyler Lawrence Gray', 'Billy Reece', 'Jim Matthews', 'Jackson St.', 'Joey Johnson', 'Elisabeth Underwood', 'Jody Fortson', 'Brylee Graham', 'Claire Milner', 'JaMarcus Russell', 'Jordan Washington', 'Charge James E. Dorsey', 'Stephen Murray', \"James Turner's\", 'Camden Lusk', 'Tim Perry', 'Shelby Jordan', 'Webber St.', 'Bryan Hoeing', 'Jim Banks', 'Atlanta Inno', \"La'el Collins\", 'Mekhi Miller', 'Bernice Norwood Ford', 'Tom Karnatz', 'BiP Season', 'Matthew Piers', 'Albany Harris', 'Jabari Taylor', 'Joe Harris', 'D.J. Matthews Jr.', 'R.J. Hubert', 'Franklin Miller', 'Marshall Harris', 'Nelson Price', 'Joshua Taylor', 'Trent Johnson', 'Franklin Valderrama', 'Elma Cornelison Griffin', 'Sayler A. Fleming', 'Justin Herdman-Reed', 'Keyan Burnett', 'Jevon Holland', 'Shaquill Griffin', 'Jaiden Duran', 'Mylee Howard', 'Elijah Coleman', 'Taylor Martin', 'Kelly Braswell', 'Raymond Columbus Quinn', 'Jaylen Jenkins', 'Natalie Drive', 'Anthony Perkins', 'Gabe Banks', 'Matthew Woody', 'Sweet Willie', 'Casey White', 'Cadence Blackwell', 'Chad Johnson', 'Ricky Matthews', 'Lori Nelson-Kraft', 'Jeff Nichols', 'Patty Jenkins', 'Gordon County Animal', 'Jaden Williams', 'Dolley Madison', 'Aldridge Pite', 'Randall Cobb', 'Brandon Keith', 'Gina Marie', 'Xavier Jackson', 'Darien R. Bridge', 'N. Wall St.', 'Jason Newland', 'Tucker Davidson', 'Brevin Jordan', 'Reco Hannah', 'Elmarko Jackson', 'Drew Pearson', 'Larry Felton', 'Johns Creek', 'Tracy Martinez', 'Tim Andriesen', 'Brian Robinson', 'Dexter Lawrence', 'Cole Caldwell', 'Taylor Lyles', 'Bradley Hosmer', 'Tavion Jackson', 'Elijah DeWitt', 'Emma Pistorius', 'Bull Durham', 'Annalicia Poehler', 'Artez Benton', 'Dorian Thompson-Robinson', 'Porterdale Elementary', 'Roderick Lowery', 'Hazel Terrell', 'Mary Elizabeth', 'Jamon Dumas-Johnson', 'Nic Collins', 'Tavius Robinson', 'Brandon Thomas', 'Devron Harper', 'Katy Perry', 'Lee F. Pritchett', 'Tyler Jones', 'Olivia Newman', 'Maurice Hansley', 'Jordan Lovett', 'Wild Adventures', 'Ally Hawkins', 'Ann Robinson', 'Ed Scott', 'Rookie Rachaad White', 'Luis Arráez', 'Anna Cobb', 'Jason Hancock', 'Benjamin Franklin', 'Ava Osborne', 'Hal Moore', 'Meg Oliver', \"Abilene Christian's\", 'Wayne Pennington', 'Cameron Rising', 'Salleigh Grubbs', 'Emaree Winston', 'Ricky Thomas', 'Anna Fire', 'Michael Douglas', 'Thomas County', 'Rebecca Fisk', 'Alexander E. Poor', 'M.K. Patten', 'Timothy Buchanan', 'Perry Fewell', 'Tra Barnett', 'Cayden Bridges', 'Belle Jackson', 'Chandler Jordan', 'Kyle Murray', 'George Floyd', 'Tom Barrack', 'Ford Thigpen', 'James Harrison', 'Nisha Verma', 'James Douglas Drayton', 'Ryan Howard', 'Dustin Lovejoy', 'Quincy Patterson', 'Seth Griffin', 'Trevon Jackson', 'Anna Moriarty', 'Armenian Vermonters', 'Mercier Orchards', 'Buddy Robinson', 'Scotty Miller', 'Providence Christian', 'Jake Scott', 'Jimmy Lake', 'Gerardo Mora', 'Dave Robinson', 'Ian Fagan', 'Dalton Kincaid', 'Alex Saab', 'Joanne Pike', 'Brian Drechsler', 'Alieka Anderson', 'Chuck Martin', 'Tommy Bailey', 'Alexis Evans', 'Jane Hartley', 'Don Jackson', 'Chelsea Clinton', 'Mark Taylor', 'Nelson Ceaser', 'Henry Elliott', 'Brad Reams', 'Lisa Gordon', 'Moaning Myrtle', 'Savannah Rice', 'Rayvon Griffith', 'Forge Ct', 'Katie Porter', 'Cory Weston', 'Hillcrest Orchards', 'Baker St.', 'Cal Mitchell', 'Walter Banks', 'Derek Davis/Portland Press Herald', 'Howard Copeland', 'Herbert Jones', 'Marqui Johnson', 'Said Kirby', 'Korey Jackson', 'Mike Jackson', 'Mary Ellen Matthews', 'Allen Tate', 'Ray Murphy', 'Xavier Hutchinson', 'Georgia Webster', 'Seth Coleman', 'Hubert Long', 'Charles S. Burton', 'Leon Durham', 'Brian Nelson', 'Mitch Wishnowsky', 'Ennis Meek', 'Leshon Williams', 'Nick Martinez', 'Clint Hickman', 'Tony Jefferson', 'Adonijah Green', 'Harrison Frost', 'Jordan Baker', 'Matt Stahl', 'Windy Hill Rd', 'Brooke Jewell', 'Lady Tigers', 'Mulberry St.', 'George Washington', 'Con Edison', 'Jayden Dooley', 'S. Cobb Drive', 'Gene Kelly', \"I'VE HEARD ZERO\", 'Dillon Johnson', 'Case Oliver', 'Austell Rd', 'Caine Griffith', 'Richard LeCounte III', 'Harrison Burton', 'Shawn Williamson', 'John Coffee', 'Alan Conway', 'Ronnie Baker', 'Kay Kirkpatrick', 'Hunter Echols', 'Marianne Perie', 'Graham strip', 'Elizabeth Warren', 'Evin Prison', 'Nadea Walters', 'Jack Summers Hart', 'Jewell Turner Holmes', 'Charlie Hannah', 'Marguerite Shell Hammond', 'Harold Perkins', 'Taylor Mast', 'Taylor Motter', 'Jerek Hall', 'James Fannin', 'Paul Johnson', 'Livingston Award', 'Zion Nelson', 'Montrell Johnson', 'Layton Jordan', 'Sam Sims', 'Anne Jessopp', 'Jayden Sibley', 'Kris Munroe', 'Nicholas Denton', 'Jeff Garlin’s Murray', 'Robby Hatcher', 'Virdie Rickett Holbrook', 'Joseph Charles', \"Harrison Mevis'\", 'Rip Wheeler', 'Leighton Whitfield', 'Jefferson White', 'Bob Jones', 'Tatum Lee', 'Greg Hamilton', 'Gerald Ambrose', 'Ridge Drive', 'Eric Avery', 'Annie Lennox', 'Lindsey Crawford', 'Kelly Muniz', 'Bryan Orta', 'Tom Kamenick', 'Roxie Shannon Mashburn', 'Aiden Price', 'Bridget Everett', 'Dorothy Jackson Kinsey', 'Nixon Circle', 'Josh Reynolds', 'Adriana Martinez', 'Elijah Griffin', 'Dallas Adams', 'Ryan Buchanan', 'Holton King', 'Maggie Meadows', 'Church Frederica', 'Matt Stafford', 'Margaret Ann Odom', 'ANNA REED', 'Raymond Esposito', 'Melvin Gordon', 'Johnny Mercer Blvd', 'JOHN HART', 'Maddie Carroll', 'Brad Boxberger', 'Chatham County', 'Scott Ward', 'Tyrone Taylor', 'Carol Kate Dunlap', 'Alijah Vera-Tucker', 'Frank Milstead', 'Jackson Yueill', 'Policy Center', 'Grayling Coley', 'Jackson Lamb', 'Troy Anderson', 'V.I. Warshawski', 'Jalen White', 'Kelly McCrimmon', 'Murry Crowe', 'Angie Thomas', 'Zack Green', 'Tift County', 'David Wheeler', 'Jaylen Coleman', 'Daryl Hurst', 'Robert Garner Mitchell', 'Sergeant Hank Voight', 'Kaylee Jones', 'Adonai Mitchell', 'Mitch White', 'Randolph Smith', 'Wyatt Birke', 'Brynlee Thomas', 'Ky Montgomery', 'Rylie Mainville', 'Jason Allen\\nJason', 'Jace Lewis', 'Thomas Benjamin Chastain', 'Doug Shupe', 'Jermaine Johnson', 'Zion Taylor', 'Al Holcomb', 'Ziara Thompson', 'Miles Collins', 'Carl Breed', 'Johnny Griffith', 'Cheatham Hill', 'John Winchester', 'Roger Taylor', 'Dothan Animal Shelter', 'Shabron Robinson', 'Austin McDaniel', 'Freshman Branson Robinson', 'Bria Samoné Henderson', 'Jameis Winston', 'Patrick Jones', 'Matthew Osborne', 'Ty West', 'Gotham Hall', 'O.J. Howard', 'Sheriff Lincoln', 'De’Anthony Melton', 'Alex Atkins', 'Coastal Camden', 'Brad Cowan', 'Douglas Milner', 'Monroe Oglesby', 'Brandy Rogers', 'Gary Henry', 'Brandon Graham', 'Tommy Hottovy', 'Henry “Enrique”', 'Alex MacKay', 'Fort Johnson', 'Raelan Hamilton', 'Ryan Graham', 'Andrew Clyde', 'Madeira Sirmons', 'Coroner Mark Bowen', 'Jessica Caldwell', 'Patty Hopkins', 'Robert Thomas', 'Douglas R. Clifford', 'Taylor Powell', 'Jaylen Dallas', 'Jon Robinson', 'Jon Evans', 'Archer Tigers', 'Alyssa Scott', 'Jonathan Gough', 'Nicholas Jovantay Hall', 'Jacqueline Coley', 'Monica Nia Jones', 'Tom Masella', 'Scott Alexander', 'Keionte Scott', 'Dallas Westhoff', 'Chandra Holt', 'Tanner Beckmier', 'Rex Castillo', 'Lady Louise', 'Serene Russell', 'Hyrum Smartt', 'Craig Bailey', 'Daniel Martin', 'Woodstock 0', 'Linebacker Drake Thomas', 'Taylor Williams', 'Calvary Day', 'Newton Rams', 'Brandon Robinson', 'DK Metcalf', 'Lafayette Christian', 'Dacula Falcons', 'McMorris Rodgers', 'Jim Gray', 'Ann Harris', 'Will Johnson', 'Xzavier Henderson', 'Oliver Jackson', 'Ben’s Grief Beard', 'Elijah DeWitt’s', 'Karim Bradley', 'William Mitchell', 'Windy Hill', 'Anna Hambrick', 'Gilbert Rd', \"Marietta High's\", 'Debi Thomas', 'gama de programas gratuitos', 'Ellis St.', 'Shaffer Adams', 'Mitchell Craig-Meyer 3', 'Brendan Jenkins', 'Robert Evans', 'Honi Jones', 'J.C. Deriso', 'Katelynn Johnson', 'Amicalola Falls', 'Eddie Wilder', 'Rex Nelson', 'Walter Jones', 'Dallas Goedert', 'Kristin Lyerly', 'Mega Ball 19', 'Jaylen Warren', 'Douglas W. Diamond', 'Ural Glanville', 'Becky Harris', 'WR Mike Evans', 'William Martin', 'Doug Korver', 'Jontez Adams', 'Robert Henderson', 'Ninita Brown', 'Ron White', 'Billy Dunn', 'Savannah Arts', 'Darius Garland', 'Jaylon Allen', 'Ethel Holcomb', 'H.E. Holmes', 'Tom Whitmeyer', 'Sherry Cochran', 'Emily McBurnett', 'Christine Crawford', 'Rasmus Andersson', 'Zi Johnson', 'Zane Walker Green', 'Whitfield Murray County', 'Mark Henderson', 'Austin Thomason', 'McClain Baxley', 'North Murray', 'Jaxon Lawrence 29', 'Brian Watkins', 'Keegan Thompson', 'P.J. Walker', 'Mark Bowen', 'Braydon Johnson', 'Watson Mill Bridge', 'Frog Hollow', 'Jeremiah Thomas', 'Matthew Derrick', 'Bush Arbor', 'Don Mason', 'Preston Nestrick', 'Mike Cleveland', 'William H.', 'Jim Owens Rd', 'Maysville Rd', 'Erin Garland', 'Rocco Underwood', 'Diante Reynolds', 'Taylor Rogers', 'Paige Alexander', 'Executor P. O. Box 7050 St. Marys', 'Amarion Scott', 'Keegan Akin', 'Camdyn Bassett', 'Brock Burke', 'Jayshawn Appling', 'Keyvone Lee', 'Lamar Jackson', 'Alex Wesley', 'Anna Wolfe', 'Quan Floyd', 'Angela Charlton', 'Audrey B. Morgan', 'Marcus Clarke', 'Matt Wilkinson', 'Piedmont Newton', 'Alex Harris', 'Martin Road', 'Arabia Mountain', 'Cheryl Burke', 'Casey Freeman', 'Tom Inglesby', 'Ace Armstrong 25', 'Ellie Mack', 'South Fulton', 'Pam Simpkins of Covington', 'Damien Harris', 'Laura Kelly', 'Myles Ivey', 'Marty Bass', 'Tucker Gregg', 'Wiley Tucker', 'Sandra Dallas', 'Jaden Bradley', 'Dalton Guthrie', 'Vincent Franklin', 'Dennis Pierce', 'Lee Acree Crumbley', 'Mikal Harrison-Pilot', 'Charlie Thomas', 'Amy Lane', 'Rookie Garrett Mitchell', 'Todd Graham', 'Eddie Jackson', 'George Busbee Parkway NW', 'Sergei Millian', 'Okefenokee Swamp', 'Mark Ridley-Thomas', 'Gatlin Hancock', 'Randy Jackson', 'Ken Gustafson\\nAMERICUS', 'Elijah Dewitt', 'Brett Fitzgerald', 'Ethan Hampton', \"Jo Ann Beard's\", 'Maurice McDowell', 'Karen White', 'Rasheed Bailey', 'Bishop Reginald T. Jackson', 'Anna [ Bar Paly', 'Kind Kyler Murray', 'Miller Drake', 'Kenquavious Barnes', 'Thomas Stafford', 'Cody Hall', 'Jimmie Johnson', 'Catherine Carson Wilburn', 'Pierce County', 'Jasmine Clark', 'Sandra Darlene Agan Buffington', 'Martin Kaste', 'CSI Allie Rajan', 'Lewis Gress', 'Jordan Waters', 'Melissa Norwood', 'Showrunner Judah Miller', 'Hunter Patterson', 'Forsyth County Schools', 'Bogart North Oconee', 'Cosby Johnson', 'Kerry Washington', 'Hunter Gordy', 'Texas Pete', 'Judd Bailey', 'Alfred Gough', 'Dorothy Kozlowski/UGA', 'Myiesha Stewart', 'Arsema Thomas', 'Lackawanna Trail', 'Courtenay Taylor', 'Aleksandar Kovacevic', 'Taylor Montgomery', 'Katie Ann', 'Milan Ray', 'James Baldwin', 'Lauren Graham', 'Steve C. Jones', \"Mike Evans'\", 'Andrew Lowman', 'Guy Yosub', 'Jonathan W.', 'Maria Taylor', 'Joshua Evans', 'Kelsey Conway', 'Tayvon Gray', 'Chandler Zion Richardson', 'Ja’Corey Brooks', 'Gordon Andrew', \"LJ Johnson's\", 'Shirley Louise', 'Derrick Brooks', 'Landon Jackson', 'The Reuben Gay Place', 'Beatrice Farmer Hawkins', 'Matt Sykes', 'Ametrice Jackson', 'Ely Vaughn', 'Michael Fitzgerald', 'Dalton Schoen', 'Prince Vincent', 'Collins Fletcher', 'Knoxville Marine', 'Hazel .5%', 'Daphne Babock', 'Cayden Lee', 'Quail Hollow', 'Visit Macon', 'Jason Glenn Miller', 'Bramlett Elementary', 'Truman Thompson', 'Jackson Boone', 'Gwinnett County Public Schools', 'Jason Reynolds', 'Goldie Williams', 'Ann Lipton', 'Cory James Weston', 'Hyde St. Pier', 'Conner Lee Mobbs', 'Rick Stewart', 'J.W. Marriott Savannah', 'Pete Dillard', 'Lew Nichols', 'Jason Jones', 'Tyson Miller', 'Brandon Matthews', 'Dorothy Johnson Morgan', 'Mike Dennis', 'Jay Jones', 'Timothy Ray', 'Deb Dalton', 'W. Savannah Street', 'Veteran Sammy Watkins', 'Jordan Jones', 'Ginger O’Grady', 'Donald Weatherford', 'Jefferson County', 'Chris McIntosh', 'J.J. Poole', 'Blaine Williams', 'Alonte Taylor', 'Preserve South Cobb', 'Matt Hestad', 'Tobias Williams', 'B. Wilson Rd', 'Andrew Rothwell', 'Thomas Kilbride', 'Francine Scott', 'Marylyn Eslinger Greene', 'Khyair Spain', 'Adding Kennesaw State', 'Stacey Gray', 'Odessa Nelson', 'Quadric Bullard', 'Barrie Livingstone/CNN', 'James Brown Boulevard', 'James Doyal Cochran', 'Anna Whitelock', 'Leslie Reeves', 'Derrick Jackson', \"Davis Mills'\", 'Kayton Homes', 'Brock Nelson', 'Ty Montgomery', 'Raul Zunzunegui', 'Jaray Jenkins', 'Brendan Murphy', 'Carol Clark', 'Eisenhower Plaza', 'Robert Brownwood', 'Angie Norman', 'Jackson Davis', 'Scott Neuman', 'Justin Lawrence', 'John Cleaveland', 'Tim Reynolds', 'Lefty Kirby', 'Cody Morris', 'Kaja Juvan 5-7', 'Adam Graham', 'Bre Freeman', 'Emma Garner Lawson', 'Doug Shive', 'Alice Sycamore', 'Quantavious Leslie', 'Jared Williams', 'Andrew Lincoln', 'Quarterback Devin Leary', 'Davon Coleman', 'Mary Brooks', 'Clayton Fejedelem', 'Glen Hugh Thomas', 'Brayden Johnson', 'Dorothy Tucker', 'Civic Center', 'JaQuon Griffin', 'Shepherd Center', 'Rob Ware', 'Ella Bobell', 'Cass at Woodland', 'Tammy Holbrook Bowman', 'Tex McIver', 'Scoot Henderson', 'Libbie Whatley', 'Doug Newhoff', 'David Jones', 'Jadon Adams', 'Trashelle Odom', 'Anna Blinkova', 'Charles, Anne, Princess Royal', 'Logan Etterle', 'Alexandra Dapolito Dunn', 'Emily Graham', 'Harvey L. Griffin', 'Clayton County Public Schools', 'Delinda Bryant', 'Maxham Road', 'Franklin Perry', 'Joe Howard', 'Steve Howard', 'Jontae Jones', 'Dalton Russell', 'Scott Joseph Pearson', 'John Bradberry', 'Kevin Douglas', 'Jeff Hammond', 'Jackie Williamson', 'Seth Morris', 'Matthew Stafford', 'Antonio Jackson', 'Jayden Evans', 'Gary Miller/FilmMagic', 'Candace Wheeler', 'Kellie Johnson', 'Peter Dawson', 'Jonathan Crisp', 'John Graham', 'Rise Messiah Cannon', 'Dalton Risner', 'Lori Burke', 'Angel Turner', 'Houston Gaines', 'Conwell Holbrook', 'Tia Mitchell', 'Edward Ashworth', 'Philip Jones', 'Will Harris', 'Brad Parscale', 'Miles Parks', 'Andre Dillard', 'Virgie Thompson', 'Elissa Newport', 'Kyle Pitts', 'Doug Shipman', 'W. Washington St.', 'Antonio Scott', 'Audrey Rose', 'Oliver Huntingdon', 'North Fulton', 'Mary-Ann Baldwin', 'Justin Jefferson', 'Eric Stewart', 'Madison Arrington', 'Fernando Alvarez Bognar', 'Madison Hogan', 'Treutlen 0', 'Tim Apel', 'Ray Tanner', 'Matt Theiss', 'Juwan Johnson', 'Taylor Parker', \"Harrison Butker's\", 'Kelli Jones', 'Tevin Coleman', 'Marty Ferrell', \"Mac Jones'\", 'Bert I. Gordon\\n- Stacker', 'Suzanne Scott', 'Falcon Tevin Coleman', 'Ty Robinson', 'Joseph Federer 45', 'Kylan Wallace', 'Cooper DeJean', 'Evangelist Milton Martin Jr.', 'Tom Hawver', 'Jalani Williams', 'A.J. Terrell', 'Eddrick Houston', 'Tavarez Holston', 'Will Tucker', 'Louise Ida Cochran', 'Alexander Tin', 'Michelle Randolph', 'Victoria Jones', 'Habersham North Camp', 'Kacie Vaughan', 'Brian Smithmyer', 'Romello Kimbrough', 'Rebecca Kolls', 'James Martinez', 'Glenridge Drive', 'Isaiah Stewart', 'Alec Martinez', 'Healthy Climate', 'Clark Atlanta', 'Austin Jackson', 'Historic Athens', 'Emilee Harris', 'Jahmal Banks', 'Alex Turner', 'Follow Ross', 'Don Shields', 'Greenville Drive', 'Frankie Griffin', 'AL West', 'Screven Way', 'Cornerback Lamar Jackson', 'Chris Eaton', 'Cam Jones', 'Dajhea Jones', 'Fred Warner', 'Conrad Green', 'Charles Hawkins', 'Corbin Goad', 'Corneilous Williams', 'Principal Douglas Panch', 'Roderick Perry II', 'Annake Meadows', 'C Cal Raleigh', 'Claire Rhinehart Milner', 'Tony Webster', 'Rachel Martin', 'Elizabeth Hatch Newton', 'Foster Mill Drive', 'Willow Ridge', 'Gina Stephens', 'Mason Miller', 'Mikael Scott', 'Amy Hagstrom Miller', \"Milledge Joseph O'Neal\", 'Gene Dennis', 'Willard E. Agan', 'SaRodorick Thompson', 'Kearis Jackson', 'Jaycee Brooks', 'Buena Vista', 'Covington Bypass', 'Dean Martin', 'Queen Sarah', 'Henryk Sadura / Shutterstock', 'Evelyn McGee Colbert', 'Gunnar Henderson', 'Marcille Gardner', 'Beaux Collins', 'Chuckie Robinson', 'Malik Washington', 'Jimmy Butler', 'Ashton Dulin', 'Dianne Morgan Youngblood', 'Raheem Lee', 'Madison Ristroph', 'Kareem Johnson', 'DeLaine Dobson Pearson', 'Nick Osborne', 'Mattie Myrtle Freeman', 'Bryant Appling', 'Elvis Clyde Bailey', 'Zaden Perry', 'John Stewart', 'Maribys Lorenzo', 'Erica Thomas', 'Justin Jackson', 'Douglas County', 'Mike Johnson', 'Monroe Wiggins', 'Thomas Sziros', 'Devin Henderson', 'Walker Richens', 'Rayshawn Jenkins', 'Taylor Durham', 'Augusta Mabel BeShears', 'Loren Taylor', 'Kris Murray', 'Ernestine Daisy Teem', 'Murray Kogod', 'LHP Tyler Alexander', 'Byron Buxton', 'Caleb Douglas', 'Jessica Stephens', 'Mahalia Jackson', 'Georgia Tech', 'Ezekiel Turner', 'Ansley Gordon', 'Ainsley Burns', 'Becky Collins', 'Gavin Thomas', 'Sherri McKinney', 'the Marilyn Monroe', 'Kurt Drive', 'Luke Jackson', 'Bayard Jackson', 'Highland Rivers', 'Wayne Knuckles', 'Veronica Jones', 'Curt Harris', 'Ed Lindsey', 'Resident Allen', 'Ruben Gay Place', 'Alondra Nelson', 'Vicki W. Judd', 'Erika Bailey', 'Andrew Jackson', 'A.T. Perry', 'Tatiana Dudley', 'Brittanye Blake', 'Akasha Anderson', 'Michael Martinez', 'Cambrie Carrington', 'Sherry Collins', 'Mike Early', 'Hayley Greene', 'Jessica Korona-Bailey', 'Tanner Hudson', 'Gerald Turner', 'William Byron', 'Albert O', 'Charley Hull', 'Colin McRae', 'Justin Henderson', 'Darnell Washington', 'Intermountain West', 'Plant Vogtle', 'Daisy Jade', 'James “Doc” Eaton', 'Anna Kolcheck', 'Adrienne Jones', 'Adeline Wieler', 'David Martinez', 'Stuart Martin', 'Annie Ruth Allen Crawford', 'Ann Bowman', 'Sandra Scott', 'Durand Durand', 'Eric Brooks', 'Eric Johnson', 'Bradley Warren', 'Lee Kinnamon', 'Stephan Jaeger', 'Michael Whatley', 'Jalon Calhoun', 'Kari Lake', 'Janie Hall King', 'Amare Jones', 'Tyler Stephens', 'Brice Rogers', 'Danny Gray', 'Leonard Jackson', 'Dennis Partridge', 'Tyler Grey', 'Taven Bryan', 'Peggy Mitchell', 'Jax Stewart', 'Carl Jones Jr.', 'East Campus', 'Maliek Collins', 'CALM WIND BECOMING SOUTHWEST', 'Mitch Griffis', 'Tre’Vontae Gray', 'Roswell Rd NE', 'Tanner Glisson', 'Max Porter', 'Hunter Watkins', 'Matthew Daly', 'Nick Palumbo', 'Harold Whatley', 'Riley Perkofski', 'Barry Zimmerman', 'Backup Robby Ashford', 'Clark Jackson', 'Darryl Ware II', 'Thatcher Hall', 'Deon Jackson', 'Will Baker', 'Miss Scarlet', 'Jaxson Dart', 'Jack White', 'Singer Luke Bryan', 'Stewart Rodeheaver', 'Jaylin Conyers', 'Marc Sonenshine', 'Leah Williamson', 'Palau Sant', 'Melissa Davis', 'Tricia Morgan-Tilley', 'Miguel Martinez', 'Maynard Jackson', 'Lucy C. Laney High School', 'Larry Johnson', 'Denis Pushilin', 'Larry Jack Grogan', 'James Allen Stevens', 'Hospice Satilla', 'Grady Memorial', 'Joshua Dover', 'Tom Jordan', \"Lane Thomas'\", 'Odessa High', 'Marshall Harris\\nMarshall Harris', 'Joseph Leslie', 'Miller Forristall', 'Alex Jones', 'Tanner Savasir', 'Mekialaya White\\nMekialaya White', 'Gordon Jackson', 'Tommy Sweeney', 'Doug Roberson', 'DT Eric Johnson', 'Miranda Livingston', 'Jartavius Martin', 'Thomas Szapucki', 'Bob Collins', 'Jaden Tucker', 'David Stewart', 'Willi Horner-Johnson', 'Nanrisa Lee', 'Jonathan Murphy', 'Berkmar Patriots', 'Will Horton Williams', \"D'Ernest Johnson\", 'Hank Cochran', 'Gary Hipps', 'Upson Lee', 'John Sr.', 'Tanner McKee', 'Ryleigh Murphy', 'squirrel hunt', 'Chaz Allen', 'Chuck Collins', 'Quentin Pino-Bishop', 'Shauna Green', 'Jaden Ivey', 'Abdul Harris', 'Cobb Superintendent', 'William Tayler', 'Brant Bryant', 'Michael Brantley', 'Owen Miller', 'Bailey Stockton', 'Doug Bradley', 'Carmel Martin', 'Laura McCullough', 'Thomas Conner Johnson', 'Kacie Evans', 'Keli Gambrill', 'Wayne County', 'Williams Road', 'Arbor Place', 'Travis Martinez', 'Solomon Washington', 'Michael Ryan Alexander', 'Sumner Stroh', 'Caleb Collins', 'Aaron Sanderford/Nebraska Examiner', 'Aaron Gordon', 'Ann Carlson', 'Tayven Jackson', 'Stephen Steele', 'Raymond Sherrod', 'Lithia Springs', 'Sara Fortson', 'Samantha Miller', 'Trey Rhodes', 'Racing Louisville', 'Audrey Bentham', 'Katharine Parker', 'Merritt Road', 'Janet Alexander', 'Warren LeMay', 'Kesia Morris', 'John Milledge', 'Michael Haga', 'Jacksonville State', 'Don Rainey', 'Mayans M.C.', 'Team Camila', 'Nury Martinez', 'Charles Johnson', 'Floyd Addington', 'E.J. Warner', 'Blake Griffin', 'Dennis Knight', 'Cornerbacks Donte Jackson', 'Cryss Walker', 'Brad Hoylman', 'Doug Gifford', 'Dusty Baker', 'Jerry G. Bishop', 'Mary Helene Hall', 'Anthony Alfredo', 'Follow Tucker Sargent', 'Misty Dunn', 'Southeast Whitfield', 'Adriana Heguy', 'Allen Robinson', 'Lee Martin', 'Helen Keller', 'Sarah Freeman Clarke', 'Kammeron Harris', \"Calvin Harris'\", 'Tommy Woodall', \"Mike Evans '\", 'Hulsey Cochran', 'Joyce Anna Barber', 'Quaran Williams', 'Vada Bowen', 'Cedric Gray', 'Guard Trai Turner', 'Lula Bell', 'Colquitt County', 'Brian Turner', 'C.B. Embry', 'Zamir White', 'Wesley Hunt', 'Bellwood Quarry', 'Benjamin Harrison', 'Cam Robinson', 'Gordon Lee', 'Landon Boston', 'Orvonta Tillman', 'Bessie Durham', 'Alpine Road', 'Jairo Gay', 'Twin Pines', 'Newcastle St.', 'Dillon Tate', 'Texas Ranger', \"Van Gogh's\", 'Harriet Morris', 'Frederica Academy', 'Alexander Thompson', 'Jonaz Walton', 'Harrison Mill Road', 'Hiram Garcia', 'Gary Peach', 'Aaron Glatt', 'Garland Joseph Nelson', 'Cecil Pendergrass', 'Broderick Jones', 'Kalia Richardson', 'Shelly Núñez', 'Fort Stewart', 'Eric Bogert', 'Brian Ahakuelo', 'Diana Hamer', \"Drew Stevens'\", 'Greisa Martinez', 'Laurie Thomas', 'Jahri Evans', 'Byron Donalds', 'Nance Carpet', 'Brian Johnson', 'Ethan Franklin', 'Jeff Davis', 'Skyler Perry', 'Brayden Miller', 'J.K. Dobbins', 'Leslie Lundt', 'Thomas Kadri', 'Kaleb Johnson', 'Westward Boys', 'Tyler Johnson', 'Tom Corbin', \"Damien Martinez's\", 'Kailynn Bailey', 'Loganville Christian', 'Don Yee', 'Angel Colquitt', 'Sergeant Michael Brooks', 'Louis Moore', \"Cody Ware's\", 'Olivier J. Wouters', 'Lea Brasington', 'Miller Grove', 'Ann Ellis', 'Geoffrey Thompson', 'Jalen Macon', 'Jason Jackson', 'Cornerback Donte Jackson', 'William Root', 'Tommy Wiseman', 'Aaron Potts', 'John Patterson', 'Bethan Jones', 'Steve Burke', 'Tommy Chandler', 'Stephen Edwin Blackwell', 'Stephan Blaylock', 'Clayton Tribune', 'Brittany Sanford', 'Grandpa Walton', 'Martin Cowen', 'que tengan', 'Bailey Chapman', 'Taylor Evans', 'Daily Lane', 'Chelsey Riggins', 'Brandon Stephens', 'Jackie Harris', 'James Stephens', 'Carl James Clarkson', 'Brelace Williams', 'Jamel Robinson', 'Amir Rogers', 'Zachary Brooks', 'Jayden Reed', 'Sandy Crawford', \"I'M CHRISTOPHER\", 'W. Byron', 'Mitchell Small', 'Demond Mason', 'Xavier Daisy', 'Frank Wilson’s ‘', 'Stephen Jones', 'Sarah Evans', 'Madison Plymel', 'RaJayla McBride', 'Gabriel Sterling', 'Walter Stephen', 'Avg\\nColumbia', \"Savannah Christian's\", 'Jerry Banks', 'Malti Marie', 'Jasmine Robinson', 'Santa Claus', \"Georgia Southern's\", 'Madisen Keavy', 'Keisean Nixon', 'Tom -', 'Stella Sanford', 'Patrick Collins', 'Libertarian Rick Stewart', 'Drew Loyd', \"Derick Hall's\", 'Matthew Ricci', 'Abigail Johnson', 'Aubrey Appel', 'Reynard Ellis', 'Adonicas Sanders', 'Main St', 'D.K. Metcalf', 'Russell Coggeshall', 'Rick Brown', 'Billy Johnson', 'Denis Vladimirovich Molla', 'Adrienne Wilkins', 'Elizabeth Nelson', 'Russell Graham Carey', 'Buena Ln', 'Boston Scott', 'Johnson Jr.', 'Johnson Herjavec', 'Trenton Cannon', 'Howard Auditorium', 'Akers Mill', 'Mundy’s Mill', 'Watson jerseys', 'Michael Burk', 'Britney Pridgen', 'N. Patterson St.', 'Ashtin Guyer', 'Paula W. McClure', 'Larry Walker III', 'Meghan Barwick', 'Mary-Anne Baldwin', 'Mark Canton', 'Allie Adams', 'Malachi Banks', 'Parnick Jennings Sr. - Good Shepherd Funeral Home', 'Trenele Wilkerson', 'Naomi Koppel', 'Sydney Harrison', 'Alexis Speer', 'Robert Covington', 'Bryan County Schools', 'Maegan Brownlee', 'emergencia de alto', 'Wheels Odessa', 'Ann Li', 'Josh Gordon', 'Augusta Fire', 'Hannah Jones', 'Mason Tunley 25', 'Edgar Law Firm', 'Matthew Knight', 'Ben Rollins', 'Herb Miller', 'N. Jackson St.', 'Spencer Torkelson', 'Tavion Thomas', 'Connor Griffin', 'Butch Jones', 'Fort Collins', 'Julianne Nicholson', 'Stuart Morelli', 'Robert Sylvester Kelly', 'Gary Mayfield', 'Zebulon Road', 'John Suarez', 'Derrick White', 'Alicent Hightower', 'Kelly Jordan', 'Athens Hwy', 'Bobby Butler', 'N. Madison', \"Za'Quan Bryan\", 'Abi Brighton', 'Catoosa County Sheriff', 'Taylor Spivey', 'David Boston', 'Sophia Thomas', 'Chachi Arcola', 'Sue Oglesby', 'Keith Higgins', 'Sosbee Rd', 'Judith Scott', 'Ross Williams', 'Mekialaya White', 'Rachel Denber', 'Linda Mayes-Whatley', 'Emma Meesseman', 'Finley Ross', 'Stephanie M. Hinds', 'Hunter Henry', 'Jeremy Fleming', 'Gordon Simpson', 'Taylor Washington', 'Thandiwe Newton', 'Tom Kingsley', 'Nick Mayfield', 'Hogansville Rd', 'Karen Douglas', 'Khrysta Jordan', 'Alfred Chang', 'North Forsyth', \"J.K. Dobbins'\", 'Mike Collins', 'Danny Cannon', 'Dennis Pyle', 'Carmen Hernandez of Acworth', 'Gordon Beautiful', 'Helen Cochran Abbott', 'Otis Livingston', 'Trenton Livingston', 'LaDarrius Bishop', 'Brad Edwards', 'Jasmine Scott', 'Ernest Barrett Parkway', 'Mayor Van Johnson', 'Ryan Melton', 'Steve Robinson', 'Main St.', 'Joe Kelly', 'Gregory Davis', 'Marion Crane', 'Ed Burke', 'Duncan Robinson', 'Cody Jackson', 'Charlie Robert Hammond', 'Madison Taylor Baez', \"Reilly Smith's\", 'Ezekiel Kelly', 'Antwain McDuffie', 'Neil Bradley', 'Richard Claxton', 'Chaley Rose', 'Josh Naylor', 'Beth Burton', 'Prater Ford', 'Ucambre Williams', 'Andrew Davis Tucker/UGA', 'Elijah Mitchell', 'Cardell Robinson', 'Emorie Coles', 'Jalen Green', 'Mama Rose', 'Kidding Around Greenville', 'Ketanji Brown Jackson', 'LHP MacKenzie Gore', 'Mitch Roth', 'Amy Flint', 'Bryce Johnson', 'Kris Carlyon', 'Brian Frosh', 'Carter Bradley', 'Jada Thomas', 'Joseph Arnold', 'North Paulding', 'Rivaridge Drive', 'Jerry Dan Bolton', 'Bob Henderson', 'Kwame Raoul', 'Kell Longhorns', 'Darion Williamson', 'Karmelo Burton', 'Morland Holmes', 'Riley Burdette', 'Jim Miller Park', 'Tim Cockfield', 'Bessie Barrington', 'Barney McCallum', 'Kristina Rex\\nKristina Rex', 'Joyelle Washington', 'Davis Martin', 'Anthony Wayne', 'Michalia Williams', 'Earl Grey', 'Alex Overturf', 'Jason Scott', 'Darrion Manuel', 'Derick Hall', 'Cabin Creek Rd', 'Mike Kelly', 'Nate Eaton', 'Horseshoe Hammond', 'Addison Montgomery', 'Demetrius Taylor', 'FCS Lafayette', 'Henry Augustus', 'Alfonzo Graham', 'Jaden Nixon', 'Jennifer Keller', 'Harrison Mevis', 'Ty Watkins', 'Earl Gray', 'Marlene Martinez', 'Willie A. Watkins', 'Mark Fleming', 'Veterans Drive', 'Martin Farm Rd', 'Joseph Griffin', 'Everett Lee Bollen', 'Aubrey D. Woodall', 'Qwalan Miller', 'Rebekah Miller', 'Brooke Katz\\nBrooke', 'Calvin Harris', 'Patrena Murray', 'Trent Godfrey', 'Russellville Schools', 'Tommy Mellott', 'Florence Gould Thomas', 'Rodney Dawson', 'Landrey Pike', 'Austin Jones', 'Henry Rocher', 'Tony Thomas', 'Kyle Pits', 'Martin Luther King Jr. Boulevard', 'Aaron Holiday', 'Chapel Hill', 'W. L. Wilson & Sons Funeral Home - Ft', 'Deborah Jones', 'Perry Reece', 'Lawton Davis', 'Bulloch Daily', 'Lori Evans', 'Shannon Gibson', 'Libertarian William Henry', 'John Taylor', 'Tyler Mitchell', \"Geor'quarius Spivey\", 'Montey Montgomery', 'Saahdiq Charles', 'Jammie Robinson', \"Ginni Thomas'\", 'Elton Newton', 'Mayor Adams', 'Taylor Rish', 'Savannah Jazz Festival', 'Daniel Johnson', 'James Comer', 'Darius Robinson', 'Robert Rucker', 'Codi Galloway', 'Marcus Romain', 'Townpark Lane', 'Micheál Martin', 'Sam Greene', 'JOHNNIE HASTINGS', 'Josh Oliver', 'Louisville Zoo', 'Jordan Holloman Scott', 'Bruce Lane', 'Fort Madison', 'de alto', 'Catherine Bianca Sconiers', 'Cordell Hull', 'Alex Cox', 'Lynn Whitfield', 'Trinity Christian', 'Historic Fourth Ward Park', 'Jett Lewis', 'Dylan Crawford', 'Sam Houston', 'Wyatt Ray', 'Hannah Scott', 'Malachi Thomas', 'Austin Parks', 'Eric McKinney', 'Shanika Caldwell', 'Hazel Elizabeth Cash', 'Joe Nicholson-USA', 'John Eden', \"J'Koby Williams\", 'Peters St.', 'Marguerite Hutto Drawdy', 'Landen Thomas', 'Jack Scott', 'Timothy Bishop', 'Gaines Clark', 'Fitz Hill', 'Margaret Patton Caudelle', 'Cordarrius Bailey', 'Dan Reynolds', 'Monsignor Donovan', 'Olivier Mbaizo', 'Esme Murphy', 'Doug Stein', 'Kirby Yates', 'Charles Harris', 'Juju Watkins', 'Lincoln Hough', 'Willie Clarence Caudell', 'Mike Dunn', \"Tommy Townsend's\", 'Sauce Gardner', 'Leslie Jones', 'Clint Decker', 'James Marshall Kyle', 'Nic Baker', 'Ann Miller', 'Maliah Lee', 'Travis Homer', 'Tahj Brooks', 'Holmes Evans', 'Leon Jones', 'Apalachee Softball', 'John Paul White', 'Breasia Terrell', 'Austin Butler', 'Hudson Terrell', 'Lilah Monteith', 'Andrew Gorton', 'Kendall McIntosh', 'Wesley Salter', 'Dionne Williamson', 'Jake Luke', 'Jesup Road', 'Jalen Nailor', 'Harrison Raley', 'Gordon Lee Trojans', 'Gainesville Hwy', 'Glen M. Thomas', 'Jayden Barnett 2', 'Barry Wesley Wright', 'Stefani Reynolds', 'Bill Hamilton', 'Roman Martinez', 'Chad Bailey', 'Tyrin Taylor', 'Russell McMurry', 'Ed Dudley', 'Harmon Campbell Middleton', 'George L. Smith', 'Allentown Allen', 'Zeke Miller', 'Allen Henry\\nAllen Henry', 'Selma Lane Hawkins', 'Davis Tanner', 'Bryan Reynolds', 'Evan McPherson', 'Kelee Ringo', 'Bob Griffith', 'Matt Ely', 'Bryce Kearson', 'Nate Robinson', 'Karen Hoffmann', 'Tony Warren', 'Greg Canter', 'Dean Collins', 'Mike White', 'Mike Conley', 'Jesse Metcalfe', 'Layne Hatcher', 'Jan Bolgla', 'JEREMY NELSON', 'Bobby Hull', 'Darien Gap', 'Tarell Basham', 'Denise Wiederkehr McDonald', 'Carrie Atkerson', 'Piedmont Macon', 'Mehcad Brooks', 'Henry Donald', 'Martin Thomas Adkins', 'Eslene Richmond-Shockley', 'Dan Sterling', 'Lowndes Vikings', 'Rebecca Koon', 'Jason Winston', 'Michael W. Pannell', 'Byron Pringle', 'Mykel Gordon', 'John Dixon', 'Bailee Hollis', 'Danielle Collins', 'Merrick Carey', 'Daniel Green', 'Douglas County 3', 'Terry College Ph.D.', 'John Mitchell', 'Bry Layrisson', 'Denis Bouanga', 'Stephan Waddell', 'Clay Stephenson', 'Lorraine Cochran-Johnson', 'Victoria Bryant', 'Susan Hasel', 'Kate Jackson', 'Kristina Rex', 'Jaylen Jackson', 'Stuart Higgins', 'Cindy Sark', 'Sarah DeFoor', 'Chris Hamilton', 'Don Giovanni', 'Darlene Taylor', 'Javar Myron Odom', 'Shawn Bowman', 'Elbert St.', 'Town Lilburn', 'A.D. Mitchell', 'Signy Coleman', 'Kanoa Shannon', 'Martha Puckett', 'VAN JOHNSON', 'Marlin Morgan', 'Walker County Campuses', 'Rossville Library', 'Zach Hatcher', 'Doug Jones', 'Mary Lou Studdard Green', 'Dennis Allen', 'Gary, Arnie', 'Aaron Herrera', 'Cory Turner', 'Denzell Watkins', 'Marvin Shields Norman', 'Jeff Davis II', 'Murphy Crossing', 'Matthew Jones', 'Luke Marble', 'Jason Lary', 'Makenna Clarke', 'Jerome Baker', 'Daryn Watkins', 'Dale Miller', 'Taylor Rodreguez', 'Roger Brooks', 'Jeffrey Hall', 'Aamir Banks', 'Jesse Jewell', 'Malcolm Stewart', 'Sara Harris', 'Amy K. Winter', 'Anderson-Underwood Funeral Home', 'Emily Carroll', 'Aidan Charles', 'Kathaleen Mccormick', 'Alijah Williams', \"Uncle Shuck's\", 'Wayne Lyon', 'Adriana Gomez Licon', 'Omar White', 'Matt Joyce', 'Kathleen Alfiero', 'Allen Chastain', 'Buddy Woodall', 'McKenna Major', 'Outer Loop', 'Clayton Steward/MPW.74', 'Kevin Warren', 'Josiah Allen', 'Ann Marie Baldonado', 'Karen Reynolds', 'Bryson Jackson', 'Reilly Smith', 'Barry J. Redding', 'Paul Wilkinson', 'Collin Wiles', 'East Jackson', 'Carlo Terrell', 'Wes Martin', 'Collin Kelley', 'Sidney Lanier Bridge', 'K.J. Wallace', 'Luis Arraez', 'Newton Eats', 'Richard Graham', 'JUDY LOU STANSELL JENKINS', 'Ponders Melrose Chapel', 'Josh Taylor', 'Ajay Jones', 'Keith F. Brandon', 'Pretoria Road', 'Phil Harrison', 'Audrey Lee Leberman', 'Tori Miller', 'Luke Griffin', 'Bill Barrow', 'Jamie Clayton', 'N.J. Westfield', 'Rachaad White', 'Carter Hope', 'Elijah Collins', 'Chris Granger', 'Brian Glenn', 'Lady Tiger', 'Billy Graham', 'Matt Mengel', 'AdventHealth Gordon', 'Judy Fitzgerald', 'Budda Baker', 'Amani Johnson', 'Berkmar 6\\nPerry 35', 'Marquis Williams', \"East Forsyth's\", 'Geraldine Burton', 'Leon Franklin', 'Calina Lawrence', 'John Gordon', 'Waterloo West', 'Patrick Murphy', 'Lawrence Lewis', 'Patti Anne Lodge', 'Garance Burke', 'William Fleming', 'Russell Evans', 'Devin Nicholson', 'North Gwinnett Football', 'John Ward Rd', 'Voter GA', 'Frankie Wade', 'Crawford St.', 'Jovani Moran', 'Eileen Fitzgerald', 'Erin McCrary', 'Emma Dutton', 'Jaqualan Desean Clark', 'Wesley Grimes', 'Mac Nelson', 'Rochelle Walensky', 'Tim van Rijthoven', 'Al Gough', 'Gary Crisp', 'Luis Robert', 'LaVar Ball', 'Jemarion Whatley', 'Walter Edward “Junior” Jones', 'Street Grace', 'Grandpa Jones', 'Kevin Pearson', 'Black George', 'Judd Anderson', 'Louise Hunter Patterson', 'Jordan Houston', 'Percy Butler', 'Armuchee High', 'Jabari Jones', 'Joe Frank Harris', 'Queen Elizabeth', 'Paul Stewart', 'Anna Rae Reeves', 'Naomi Thompson', 'Trevor Lanier', 'McCrae Hagarty', 'Nick Gordon', 'James Walter', 'Jennifer Scott', 'Tammy Gray', 'Bill Nelson', 'John Ross Memorial Bridge', 'Piedmont Rd', 'Alex Morgan', 'Norma Hull', 'Sydney Bullard', 'Gerald Griggs', 'Don McLaughlin', \"Rocky Top'\", 'BST Hyde Park', 'Billy Hamilton', \"Buddy Bench'\", 'Kennedy Funeral Homes', 'Max Mitchell', 'Chris Reynolds', 'Steve Watkins', 'Scooba Shack', 'Steven Scarboro', \"Alex Raynor's\", 'Davis Russell', 'Rebecca S. Gratz', 'Saddle Ridge', 'Leah K. Middelberg', 'Vera Hutcheson Murray', 'Lio Tipton', 'Terran Vaughn', 'Britt Baker', 'Montre Miller', 'Patty Pansing Brooks', 'David Nelson', 'Lee Vaughn', 'Domino Golden Sugar', 'Bulloch County', 'Kamilla Rakhimova', 'Jeff Scott', 'Brandon Scott', 'Norman York', 'Miles Jackson', 'Sandy Plains Road', 'Dreyden Norwood', 'Drew Rogers', 'Dawson Bassinger', 'Zach Collins', 'William Root House', 'Bone Burnett', 'Phillip Thomas', 'Billy Burke', 'Holger Rune of Denmark', 'Rebecca Gaunt', 'Noni Rose', 'Courtney Alexander', 'Zuri Hall', 'Floyd County Campus', 'George Wesley', 'Sharyn Abbott', 'Guy Nicolucci', 'Leslie Manahan', 'Erin Robinson', 'Jaylen Griffin', 'OL Ryan Kelly', 'Drew Bradley', 'James D. Griffin', 'Cedar Grove', 'Terrance Gore', 'Kathleen deMarrais', 'Jac Hopkins', 'Alex Glaze', 'Alex Colome', 'Mary Whitener Patterson', 'Antonyo Terrell Wicker', 'Josh Fleming', 'Glen Fitzmartin', 'Andy Murray', 'Jennifer Hampton', 'Guy Albert Culbert', 'Ryan Jackson', 'Bobby Carter Thomas', 'James Blackburn', 'West Forsyth', 'Carol Emilyn Clark', 'Roy Albert Whatley', 'Eric Gay', 'Sheridan Jones', 'William Mykell Lowery', 'Corey Gibson', 'Darren Hall', 'Brad Nitz', 'Marcus Cannon', 'Holmes Murphy', 'Jackson Suber', 'Arnaz Reese', 'Makenna Evans', 'Thomas Scott', 'Hardman Rd', 'Gladys Owens Lewis', 'Hebron Christian', 'West Armuchee', 'Liz Truss - before', 'Jimmy Ray', 'Jenna Mitchell', 'Adaleen Evelyn Eplee Robbins', 'Brad Keller', 'B. Wallace', 'Sheila Warren', 'Greg Cumming', 'Patsy Ann Wilt', 'preventivos gratuitos', 'Avg\\nEureka', 'Liberty North', 'Kerry Emanuel', 'Aaron Murray', 'Kyle Tucker', 'Sharon Soup Kitchen', 'Charles Bethel', 'Stewart County', 'Jalen Graham', 'Adam Clayton', 'Austin Johnson', 'James Austin Johnson', 'Sean Calhoun', 'Michael Road', 'Robert York', 'Lideatrick Griffin', 'Jewell Mitchell', 'Dave Warren', 'William Bowman', 'Hannah Copeland', 'Garrett Greene', 'Timothy Lawrence', 'Susan Murphy', 'Frank Hart', 'Lindsay Graham', 'Doug Stamper', 'Hailey Baldloose', 'Matt Barnard', 'Lankford Drive', 'Latavius Murray', 'Karen Caro', 'Bishop Sue Haupert-Johnson', 'Johnny Russell', 'Greene County', 'Martha Marion', 'Luke Johnson-Pool', 'Kait Newsum', 'Mitch Keller', 'Derek Butler', 'Supervisor Shamann Walton', 'Sharon Costanza', 'John Dennis', 'Hearing Ray Charles Robinson', 'Jeremy Robinson', 'Kirk 17 seconds', 'Nelson Cirino', 'Willie Roberts', 'Matt Harmon', 'Helen Pirkle', 'Justin Wilkes', 'Thomson Bulldogs', 'Anil Dhople', 'Justin Gray', 'Broad St', 'Dustin Salter', 'Yevhen Enin', 'Bill White', 'Tyler Thomas', 'Leona Scruggs Thomas', 'Jared Pike', 'Nury Martínez', 'Debra Houry', 'Mike Buffington', 'Molly Corvin', 'Frank Baker', 'Phyllis Anderson Jones', 'Ansley Hight', 'Twin Lakes', 'Josh Henderson', 'Natrice Miller', 'Sam Baker', 'Shelton Felton', 'Stevens Point', 'Jose Molina', 'Riley Huiras', 'Luke 22:26', 'EP Mark Johnson', 'Madi Kelley', 'Nolan Marshall', 'Cornerback Jaire Alexander', 'South Gwinnett', 'Ema Tanner', 'Brent Washington', 'Gloucester St.', 'Aaron Baughman', 'Braylen Burgess', 'Everett Roussaw', 'Baker Woodward', 'Heidi Johnson', 'Anina Major', 'Russell Knox', 'Matthew Brock', 'Luis Torrens', 'Darrian Burks', 'John Scott Baxter', 'Stephen Matthew Milligan', 'Chris Conley', 'Craig Reynolds', 'Taylor Zarzour', 'Letitia Jackson', 'Dennis Williams', '“Van Lear Rose', 'Harris Drive', 'Jake Bailey', 'Dominic Harrison', 'Ben Hill', 'Joyce Wyatt Johnson', 'Shalena Cook Jones', 'Dalton Anderson', 'Piper Martin', 'Aidan Williams', 'Chaz Clark', 'Brian Jorde', 'Smoke Harris', 'Darcy Holland', 'Nathan Rogers', 'Brian Kelly', 'Bobby Jones Expressway', 'Robbie Montgomery', 'Fearne Cotton', 'DJ Jackson', 'Tom Brandt', 'David White', 'Chandler Richardson', 'Bobby Dodd Stadium', 'Taurus Jones', 'Knight Hicks', 'Natasha Stevens', 'Taylor Crowe', 'Hunter Allen Myhand', 'Nolan Price', 'Jaylinn Hawkins', 'Omar Kelly', 'Matthew Wood', 'Oglethorpe Chapel', 'Jeff Gibson', 'Seth Kelley', 'Jocelyn McCallie', 'Comedores Sociales de Puerto Rico', 'Chris Burnside', 'AdventHealth Redmond', 'Thomas Glenn Kilgore', 'Stone Blanton', \"Lois Ann Minter O'Neal\", 'Zeno Robinson', \"Connor Coles'\", 'Malachi Fannin-Render', 'Moore v. Harper', 'Emma Russell', 'Josh Britt', 'Morris Lewis', 'Jones St.', 'Roy Willey', 'Frederick M. Lawrence', 'Karlee Rose', 'Harry Hamilton', 'Ogeechee Riverkeeper', 'Sylvester Brown Jr.', 'Hamilton Anxiety Scale', 'Isaac Thompson', 'Tate Mitchell', 'Stantley Thomas-Oliver', 'Jesper Fahey', 'Frank Hartley', 'Jefferson St.', 'Marilyn Monroe', 'Aaron Bradshaw', 'Jordan Mason', 'Roswell Rd', 'Dion Crawford', 'Powder Springs Rd', 'Joseph Harris 10', 'Brad Pollitt', 'St Rose', 'Rob Redding', 'Walton 51', 'Diamond Lakes', 'Bryleigh Pulliam', 'Caleb Hamilton', 'Cody Brinson', 'Stephen Straus', 'Jorge Toledo', 'Akayleb Evans', 'Kinte Green', 'MacKenzie Scott', 'Gracie Rose', 'Can Ray', 'Molly Ellis', 'Payne Durham', 'Lar Park Lincoln', 'Colin White', 'Louise Windsor', 'Cindy Keith', 'Karefa Johnson', 'Malcolm Mitchell', 'Ben Cleveland', 'Conklin Lane', 'Young Yuguo', 'Jake Sanderson', 'Alina Orobchenko’s', 'Hae Min Lee', 'Pierce County’s', 'Gabriella Lewis', 'Goaltender Andrew Hammond', 'Bryan Stockton', 'Jerry Butler', 'Finn Hogan', 'Levi Wheeler', 'Kidist Bayu', 'Gerald Everett', 'Myrtle Whatley', 'Claybank Jamboree', 'Ann Stroh', 'Kazjah Dillon', 'Josef Martinez', 'Thurmond Tillman', 'Gracie Helton', 'Sunni Broughton', 'Nicholas Sparks', 'Tavare Brewton', 'RD MARIETTA', 'Floyd County Schools', 'Liza Tucker', 'Ladeidra Jones', 'Dorothy Fielder Blackwell', 'Bret Murray', 'Kaden Chester', 'Roger Thomas', 'Amon Williams', 'Eleanor Middleton', 'Monica Ripley', 'Jordan Butler', 'Trent McPherson', 'Ponce de Leon', 'Arkose Drive', 'Justin Houston', 'Richard Allen Drawdy', 'DeSean Jackson', 'Aaron Bummer', 'Cornerback Dane Jackson', 'Oscar Columbus', 'Matthew Cook', 'Daniel Kelly', 'Mayes Ward-Dobbins Funeral Home', 'J.C. Henderson', 'Denzel Burke', 'Tommy Avalone', \"Ja'Corey Brooks\", 'Niki Kelly', 'Niele Ivey', 'Malcolm Ray', 'Anthony Brooks', 'Hayden Clark', 'Imani Howell', 'Claire Jenkins', 'Adrian Sampson', 'Matt Schulte', 'Noah Syndergaard', 'Jamie Lee Henry', 'Kayla Braxton', 'Elijah Metcalf', 'Ronnie Jenkins', 'Dee Oliver', 'Abilene Christian', 'Jimmy Hart', 'Bruce Johnson', 'Jared Lewis', 'Aaron Bernstein', 'Bunny Ware', 'Sosie Bacon', 'Starter Corbin Burnes', 'Summerlyn Homes', 'Denver Harris', 'Kyle Stuart', 'Tiger Arena', 'Collin Schlee', 'LaTanya Richardson Jackson', 'Southwest DeKalb', 'Cherokee County', 'Isaac Brooks', 'Sarah Grey', 'Franklin West', 'Clayton McCullough', 'Barrie Livingstone', 'Marcus Murphy', 'Gordon Lee Alumni', 'Donningtun Walters', 'Don Bolduc', 'Gregory Charles', 'Kristen Flemming', 'Brad Geary', 'Martin Necas', \"Seth Keller's\", 'Joel Watkins', 'Marty Lyons', 'Aron Lee Ethridge', 'MacGregor Houghton', 'Lataija Jackson', 'Spencer Leland', 'Ray Cannon', 'Andre Thompson', 'Martin Luther King Jr. Blvd', 'Madison Fairbanks', 'Ty Ty', 'Zyan Royal', 'Alexandre Pantoja', 'Mike Hart', 'Skyler Henry', 'Manor Place', 'Jules Millin', 'Shaun Barnett', 'Eric Brantley', 'Brooke Jenkins', 'Jolyn Hannah', 'Cornerback Alontae Taylor', 'Kevin Michael Johnson', 'Willie Miller Green', 'Ralph McGill', 'Jim Griffin', 'Cash Jones', 'Dewayne Warren', 'Ken Burk', 'Taylor Baez', 'Thomas Dunn', 'Broad St.', 'Cloey Mitchell', 'Jerome Newland', 'Kathleen Toomey', 'Lee Holdbrooks', 'Corey Perry', 'Garrett Hayes', 'Jabari Banks', 'Katy Watkins', \"Mitch Haniger's\", 'Emma Cannon', 'Allison Murphy', 'Ben Wheeler', \"Riley O'Connor\", 'Glen Morgan', 'Sara Marie Miller', 'Melissa Dillmon', 'Jessica Buchanan', 'Bill Jones', 'Happens Together', 'Advance Knox', 'Aaron Joel Jermundson', 'Carroll Baker', 'Grace Chiang Nicolette', 'Catherine Floyd', 'Lola Pruitt', 'J. Robin Warren', 'Doug Stoner', 'Owen Brooker', 'Ethan Bishop', 'Joseph Kirk', 'Keldon Johnson', 'Oliver Riedel', 'Byron Cardwell Jr.', 'Arthur Tanner', 'Sebastian Milton', 'Jeremy Tanner', 'Madison County State', 'Franklin German', 'Brian Connell', 'Alex Taylor', 'STEWART COUNTY', 'Currahee Campus', 'Matthew Dewitt', 'Jordan Graham', 'Lowndes County Schools', 'Kenneth McEntire', 'Ethan Glynn', 'Drew Harris', 'Zay Jones', 'Adrian Perkins', 'Howard Baker', 'Howard Belodoff', 'Bake 16 minutes', 'Davis Mills', 'Tobias Merriweather', 'Sprayberry 14', 'Lee Bogdanoff', 'South Forsyth', 'Paul Burke', 'Doug Cropper', 'Rebecca Bullock Garrett', 'Jourdan Walker', 'Edward Thomas', 'Bob Bradley', 'Randall Hartley', 'Zach Evans', 'Berkmar 0', 'Zack Collins', 'Chase Oliver', 'Devin Royal', 'Grif Chalfant', 'Joshua Nicholson', 'Monroe County Schools', 'Frank Akin', 'Sullivan Road', 'Franklin “TJ” Varney', 'Taylor Lewis', 'Kendall Milton', 'Mike Evans', 'Cecil Franklin Jackson', 'Jay Cunningham', 'Noah Kim', 'Rashaan Evans', 'Young Brimsley', 'Elizabeth Alexandra Mary Windsor', 'Jharel Cotton', 'Anne M. Burke', 'Casey Murphy', 'Deondray Bacon', 'Callum Keith', 'Jordan Mohesky 37', 'Coach Martinez', 'Betty Cason', 'Zayden Cook', 'Jacob Pearson', 'Reese Morgan', 'Sebring-Avon Park', 'Byron Merritt', 'Leslie Abrams Gardner', 'Hailey Thomas', 'Tre Tucker', 'John Middleton', 'Hassan Hall', 'Mandrell Glenn', 'Rakari Harrison', 'Brooke Eden', 'Damian Holbrook', 'Liam Cleaveland', 'Aileen Cannon', 'Tommy Orange', 'Philip Montgomery', 'Jessica Reynolds', 'Lamar Clarke', 'Fred Martin', 'Kelly Johnson', 'Caleb Martin', 'Ross Baker', 'Joshua Morrow', 'Kay Ivey', 'Tate Hermansen', 'Austin Burton', 'Annie White\\nAdd Photos\\nAdd a Memory\\nAnnie White', 'Martin Jennings', 'Cody Warren', 'N. Chestnut St', \"Brandon Jones'\", 'Dom Harrison', 'Aynslee Conner', 'Anna White', 'Ernst Tanner', 'Jordan Johnson', 'Simoni Lawrence', 'Alex Broome', 'Faith Jenkins', 'Gersha Phillips', 'Jaydon Eason', 'Bryan Allen', 'Kim Cordova', 'Max Mayfield', 'Alex Barnow', 'Thomas County Central', 'Kyle Wingfield', 'Thomas Heyward', 'Marcus Harris', 'Lee County', 'Hunter Army Airfield', 'Don Creasy', \"John House's\", 'Canon Helen Cameron', 'Monte Stewart', 'Conrad Hawkins', \"Lady Liberty's\", 'Cornerback JC Jackson', 'Lia Thomas', 'Malachi Sanders', 'Haldyn Williams', 'Andrew Putnam', 'Josh Hamilton', 'Dawson Knox', 'Rhett Jackson', 'Rosalyn Putnam', 'Jill Dasher', 'Warren Featherbone', 'Zion Williamson', 'Terry Simmons', 'Trai Turner', 'Walton Counties', 'Alaric Jackson', 'Jefferson Hwy', 'Ron Jenkins', 'Brionna Jones', 'Dan Jackson', 'Christine Triebsch', 'Dakota Wesleyan', 'Carson McLane', 'Cherard Freeman', 'Aliza Martinez', 'Agnes Elizabeth', 'Clayton Tune', 'JOHNSTON — Ryan Melton', 'Breonna Taylor', 'Alexis Lafreniere', 'Keri Farley', 'Laura Howard', 'Whitesville Rd', 'Jim Turner', 'Mitchell Marner', 'Owen Bradley', 'Dabney Coleman', 'Burchard Taylor Beasley', 'Kalif Raymond', 'Tommy Drew', 'Benjamin Thomas', 'Marjorie Lyon', 'Cali Gober', 'Aundi Lesley', 'Gabrielle Karefa-Johnson', 'Wrightsville Johnson County', 'Evelyn Jeanne Cooper Hall', 'Elaine Lucas', 'Lady Louise Windsor', 'K.J. Jefferson', 'Boone Anderson', 'Christopher Willard', 'Emma Jenkins-Purro', 'Marisol Cooks', 'Erik Hall', 'Mitchell Tinsley', 'Georgia Occupational Award', 'Donte Jackson', 'Thomas Lane', 'Tim Evans', 'Zach Dennis', 'Doris Ruthell Adams Bailey Dutton', 'Justin Tucker', 'Zack Kelly', 'Cedric Tillman', 'Blake Baker', 'Leah McEwen', 'David Livingstone Harrison', 'Carole Johnson', 'T.J. Warren', 'Gabriella Karefa-Johnson', 'Gavin Stewart', 'Lamar Vikings', 'Audrey Burton', 'LaRae Harris Wilson', 'Clayton State', 'Keala Rose', 'Camden Smith', 'Aretha Franklin', 'Apalachee Volleyball', 'Irwin County', 'Stephen Graham', 'Tharon Johnson', 'Lewis Ridge Circle', 'Phillip White', 'Chani Johnson', 'Robert Pitts', 'Tucker Barnhart', 'Jermiah Dobbins', 'Merv Griffin', 'Clayton County Schools', 'Donald Jenkins', 'ITEM OB-39-2022', 'William “Duke” Wellington', 'Anna Maxwell Martin', 'Habersham Central', 'Pataula Charter', 'Level III CSI Josh Folsom', 'Merry Acres', 'Meaghan Anderson', 'Craig T. Nelson', 'Hayden Gordy', 'Charlie Blackwell-Thompson', 'Bubba Thompson', 'Willie Goodwyn', 'Emma Castorri', 'Jay Johnson', 'Christian Cotton', 'Christopher “Scooter” Dunn', 'Rob Thomson', 'Quenton Nelson', 'Chace Crawford', 'Tommy Derer', 'Lamorne Morris', 'Carter Hart', 'Jeff Nelson', 'Quail Hollow Club', 'Keith Jenkins', 'Corben Leo', 'Brownlee Mountian', 'Aaliyah Williams', 'Tiny Stitches Workshop', 'Carrollton Chapel', 'Xavier Crawford', 'Rick York', 'Richard Fulton', 'Erik Harris', 'Martín Adames', 'Heath Hampton', 'Nate Hayes', 'Aaron Malcolm', 'Mila Friedman', 'Bethany Lilly', 'Justin Wilcox', 'Laura Jane Rice Anderson', 'Camden Hodge', 'Dakota Kai', 'Jacquez Jones', 'Marisa Tinkler Méndez', 'Isaac Rex', 'Molly Clark', 'Arthur J. Moore Drive', 'Willy Agada', 'Abby Castleberry', 'Paul Bernard', 'Lee Johnson', 'Malachi Hutchinson', 'Melissa Jefferson', 'Ann Linde', 'Landry White', 'Timothy Dalton', 'Foam Weatherstrip Seals', 'Andy Diffenderfer andy@tribune-georgian.com', 'Michael Alexander', 'Sumner Kirsch', 'Carson McLane Funeral Home', 'James Felton', 'Liam Martin', 'Tanner Knue', 'Taylor Smith', 'Thomas Moulder', 'Butts Mutts', 'Martín Pérez', 'VP Harris', 'Alex Bowman', 'Greene Balch', 'Zion Turner', 'Bruce Henry', 'CJ McCollum', 'Claire Logan', 'Peachtree Corners', 'Jaquarie Allen', 'Kevin Burke', 'Lenny Thompson', 'Fort Stockton', 'Sarah Avery', 'Camden Pritchett', 'Kickback Kemp', 'Harlem Diamond', 'Central Gwinnett', 'Jaiden Jenkins', 'Tanner Beason', 'John Flythe', 'Jaylen Blackwell', 'Jo Ann Jenkins', 'Louis Brems', 'Sharon Liner', 'Michael Anthony Louise', 'Everett Beauregard', 'Danielle Brooks', 'Atlanta Humane Society', 'Anna Ayers', 'Aaron Gulyas', 'Riley Heard', 'Ukee Washington', 'Tommy Stevens', \"N'Kosi Perry\", 'West Madison', 'Cleaston Lamar Cabe', 'Wayne Fisher', 'Jamarion Miller', 'Cheyenne Jackson', 'Kaymaya Greene', 'Bryan Lamar', 'Landing Lamar Jackson', 'Ahmad McCullough', 'Graham Zusi', 'John Harold Hull', 'Robert Craig Conner', 'Todd Murphy', 'Jeffrey Dean Morgan', 'Antonio Miller', 'Dan Waters', 'George Harrison', 'Keegan Bradley', 'Tianna Hawkins', 'Keshawn Lyons 6', 'Joyce Anna', 'Ethan Johnson', 'Cornerback J.C. Jackson', 'Sara Lou Hogan', 'Scott Morris', 'Eric Perry', 'Daniel Sohinki', 'Dallas Wagoner', 'Kenny McIntosh', 'Treyonn Tucker', 'Benjamin Crawford', 'Helen Thomas', 'Hope S. Cunningham', 'Tim Doty', 'Colquitt EMC', 'Griffin Matthews', 'Amie Stilwell', 'Dahlonega Nugget', 'Kenric Lanier', 'Andrew Nelson', 'Thaddeus Harrington', 'James Evans', 'Deejay Dallas', 'Historic Macon', 'Bryce Dallas Howard', 'Zelma Brock', 'Marsha Gray', 'Ty Thompson', \"Wilma O'Berry Pearson\", 'Walker Sconiers', 'Follow Brittanye Blake\\nClose', 'Noah Harrison', 'North Gwinnett Volleyball', 'North Cobb', 'Darien Sills-Evans', 'Windy Hill-Terrell', 'Bryan County', 'Deionte Thompson', 'Farrah Franklin', 'Ivey Stargel', 'Don Floyd', 'Pastor Kingsman', 'Donald Sterling', 'Jeremy Butler', 'Gerard Butler', 'Ernest Barrett Parkway NW', 'Cornell Johnson', 'Lauren Hemp', 'Rachel Tucker', 'Sylvester Apollo Bear', 'Cecil L. Glass Hein', 'Keynan Middleton', 'Trenton Bourguet', 'Glenda Faye Green', 'Patrick Mill Road', 'Eric Gray', 'Eleanor Columbus', 'Keon Coleman', 'Noah Williams', 'Faye DeBoard Phillips', 'Ryne Dennis', \"Ty'Son Williams\", 'Elijah Green', 'Chestnut Drive', 'Bo Naylor', 'Vince Evans', 'Reuben Gay Sr.', 'Gordon Central', 'Donald Chumley', 'Dumar Ln', 'Paul J Everett //', 'Keller Green', 'Caleb Jones', 'Myles Turner', 'Peachtree Ridge', 'Lee May', 'Gardner Deb Walser', \"Riley Patterson's\", 'Alesia Bani', 'W. Emery St.', 'John Bradley', 'Allen Road', 'Claude Felton', 'Trace Harris', 'Snow White', 'Libertarian Ryan Graham', 'Rusty Martin', 'Tritt Rd', 'Avg\\nWaterloo 5-3 3-2 188/24 126/16', 'Rookie Davis Martin', 'Janet Damita Jo Jackson', 'Douglas County Jail', \"Spencer Shrader's\", 'Zach Martin', 'Follow Bryan', 'Sam Hall', 'Gwinnett Eats', 'Ryan Clarke', 'Emma Decody', 'Kathy Johnson', \"Trenton O'Kelly\", 'Katy Thompson', 'Matthew Zuk', 'Alex Van Pelt', 'Alex Roarty', 'Reggie Pearson', 'Sylvia Norman', 'Bake 10-15 minutes', 'Gordon Hargrove', 'Mike Turner', 'Andrew Morris', 'Adam Meeks', 'J. Chandler Berg', 'Buddy Boeheim', 'Jenny Johnson', 'Norman Drive', 'Michael Barber', 'Howard Andrew Thomas', 'Rome Odunze', 'Alexis Floyd', 'Andrew ‘Randolph’ Shane', 'Georgia Honor', 'Thomas Grifford', 'Nancy Peeler', 'Jaylin Lane', 'Shay Mitchell', 'Zakiya Dalila Harris', 'Oaknoll Chapel', 'Helen June', 'Righton Books', 'Tallulah Gorge State Park', 'Tim Lane', 'Robin Montgomery', 'Caitlin C. Murphy', 'Drew Tyson Loyd', 'Daniel Brunner', 'Windy Ridge Road', 'Antonio Harris', 'Buddy Bryan', 'Whittney LaHayne', 'Marco Lee', 'Bonnie Ragsdale', 'Cam Curtis', 'Joaquin Oliver', 'Douglas Sanford', 'Brant Pace', 'Dorian Anderson', 'Dollie Burwell', 'Helen Ziegler', 'Harvey Lane', 'Baconton Charter', 'Clint Briggs', 'Shane Osborne', 'Anne Risku', 'Kylee Johnson', 'Margaret St.', 'Melron Kelly', 'Tim Johnson', \"Houston Tipping's\", 'Laura Haddock', 'Br J Haematol', 'Rubin Lublin', 'Army Ranger', 'Cordarrelle Patterson', 'Isaiah Richardson', 'AD Mitchell', 'Jayden Rey', 'Clarkesville Campus', 'Steve Reynolds Blvd', 'Breana Pitts', 'Patricia Murphy', 'Susan Jordan Caudelle', 'Coosa Dental', 'Geoff Burke', 'John Milledge Academy', 'Hickory Flat', \"A'Shaunn Pickens\", 'Brent Cobb', 'Dalton Del Don', 'Freddy Howell', 'Donovan Ollie', 'Robb Ellis', 'Gordon Mar.', 'Kamal Miller', 'Derian Thomas', 'Karl-Anthony Towns', 'Veterans Memorial', 'Daryl Robert Harrison', 'Sarah Nelson', 'Ford Ranger', 'Cook Jones', 'Jay Baker', 'Sonny Gray', 'Rich Baldwin', 'Jody Patterson', 'Frank White', 'Kennesaw State', 'Portia Jones', 'Annie Ruth Chapman Lindsey', 'Tim Norman’s', \"William 'Harrison' Hancock\", 'Abby Polk', 'Erik Brooks', 'Outer Banks', 'Jackie Morgan', 'Kathleen Funkhouser', 'Michele Taylor', 'Everett Healey', 'Tom Bath', 'Jaxon Dart', 'Connor Brogdon', 'Dana Lynn McIntyre', 'Marlin Preston Morgan', 'Howard Monroe', 'Queen Consort Camilla', 'Clay Matthews', \"Le'Raven Clark\", 'Carrie Green', 'Rashan Gary', 'Michael Register', 'Phillip Douglas Sanford', 'Martha Berry', 'Allie Bollen Elliott', 'North Paulding’s', 'Dave Thomas', 'The Tifton Gazette', 'Beth Wilkinson', 'Mason Fairchild', 'Constance Howard', 'Scott Middleton', 'Alexis Hein-Nutz', 'Ian Englewood', 'Clayton County Sheriff', 'Tommy Atha', 'Minka Kelly', 'MDJOnline\\nRegister Here', 'Kevin Parkins', 'Magnolia Crossing', 'Ashton Gibbs', 'Eisenhower Drive', 'Nick Nelson', 'Brett Martin', 'Abby Logan', 'Mitchell County', 'Anne Bink', 'Alpine Lake', 'Jon Dial', 'Brad Little’s', 'David Ade', 'John Russell', 'Cloverfield Lane', 'Lewis Morgan', 'Tim Roney', 'Jim Tanner', 'Krishon Merriweather', 'Clay Geary', 'Brad Seiss', 'Barbara Hall', 'Hope Alexander', 'Henry Benning', 'Anthony Johnson', 'Savanna Berger', 'Avg\\nWarren Central', 'Cal Raleigh', 'Cedric Alexander', 'N. Ashley St.', 'Shea Murray', 'Catherine Steele Sewell Stadium', 'Tom Cole', 'Marty Hughes', 'Lucas Raymond', 'Pendergrass Rd', 'Leah Fong', 'Alex Leow', 'Tim Fleming', 'Colts WR', 'Ryan Hall', 'Breana Rogers', 'Harry sort', 'Maddy Lee', 'Stanley Marvin Taylor', 'Mark Johnson', 'Jacob Seagraves', 'Grayson McCall', 'Christon Ridgeway', 'Noah Kreski', 'Cornerback Xavier Crawford', 'Linda Johnson', 'Ginni Thomas', 'Jim Minter', 'Jason Pitts', 'Walter Barrington', 'John Collins', 'Curren Price', 'Lee Bradley', 'Anny Xiang', 'Matt Hennessy', 'Meredith Grey', 'Anna Grace Keller', 'Doug Koebernick', 'Kwanza Hall', 'Thomas Reeg', 'Jim Fleming', 'Katrina Crawford', 'Brian Neylon', 'Elberton Hwy.', 'Frank Nelson', 'Casen Murphy', 'Roger Hutchins', 'Ri’chard Lane', 'Joe Frank Harris Parkway', 'Alex Poor', 'Zachary Hawkins', 'Shannon Shea', 'Christal Williams', 'Germivy Tucker', 'Zion Webb', \"Spencer Steer's\", 'Savannah Pittman', 'Jennifer Kidd-Harrison', 'Jamiah Lewis', 'Gabi Hartley', 'Yolanda Thomas', 'James Oliver', 'Rocky Top', 'Follow Katie Tucker', 'Rebecca Santana', 'fundadora de Marisol Cooks', 'Terence Crawford', 'Terri Robbins', 'Ben Martin', 'Peter Vail of Englewood', 'Holt Whatley', 'Lisbeth Martinez', 'Rose Garden', 'Bode Donovan', 'Brennan Carroll', 'Cam Vaughn', 'Cornelius Johnson', 'Brad Loyd', 'da Vinci Xi Surgical System', 'Alexander Ring', 'Paul Sparks', 'Patti Robinson', 'Jordyn Thomas', \"St George's\", 'Zoie St. John', 'Jemel Jones', 'Molly Reynolds', 'Oakwood Christian', 'Hillary Clinton', 'Keshaun Sanders', 'Oswago Harper', 'E.J. Jenkins', 'Paul Marie', 'Shannon MacDonald', 'Joann Oliver', 'Umpires Ramon De Jesus', 'Branson Robinson', 'Lisa Wilkes', 'M.D. Anderson', 'Olde Town Conyers', \"Sam Nicholson's\", 'Kooper Richardson', 'Maddie Underwood', 'Alan Jackson', 'LeQuint Allen', 'Cheyanne Porter', 'Thomas Kutz', 'Improving Birmingham', 'David Collins', 'Brice Wilkinson', 'Jalen Guyton', 'Aaron Glenn', 'Angie Martinez', 'Aurora Theatre', 'David Murphy', 'Rita Suzanne', 'Trone Garriott’s', 'Logan Cir', 'Ashton Adams', 'Josina Anderson', 'Eli Clarkson', 'Baldwin High', 'Bill 106', 'Veronica Griffin', 'BOWMAN SIDELINED', 'Frank Reynolds', 'Bobby Scott', 'Dank Whitlock', 'Avid Bookshop', 'Joseph Collins', 'Kyron Hudson', 'Brooke Williamson', 'Martha Puckett Middle School', 'Michelle Oliver', 'Mill St NE', 'Cady Helton', 'Charlotte St. Martin', 'Collin Miller', 'Kaden Beard', 'Amare Clark', 'James Allen Chastain', 'Braxton Floyd', 'Brody Nelson', 'Gary Krambeck', 'Anna Meiler', 'Apalachee Football', 'Justin Boswell', 'Jacob Stephens', 'Michael Taylor', 'Barak Richman', 'Gabe Jackson', 'Robby Ashford', 'Amy Johnson', 'Mary Louise', 'Clifton Ridge', 'Edward Cox', 'Ebenezer Scrooge', 'Kevin Lincoln', 'Jordin Sparks', 'Tana White', 'Will Clarke', 'Cooper Carry', 'Coach Jackson', 'Judy Bowman', 'Brian McNoldy', 'Kloe Osborne', 'Diontae Johnson', 'Kendrick Lamar', 'W. Ashley Avenue', 'Adrian Johnson', 'Elizabeth Campbell Thompson', 'Leo Thomas', 'John Norwood', 'Akivia Lewis', 'Zyon Mckenzie', 'Hurricane Camille', 'Gordy Parkway', 'Atlanta Ballet', 'Erik Randolph', 'Pam Murphy', 'Conor Garland', 'Riley Bord', 'Athens Hudson', 'Jalyn Hall', 'Rabun Gap', 'Kelly Crane', 'Lyric Stewart', 'Jackson Meeks', 'Rogena Walden', 'Tommy Henry', 'Steve Reynolds Boulevard', 'Jayce Jones', 'Marc Warren', 'Andy Morris', 'Ryan Fuquea', 'Kadyn Mitchell', 'WAYNE COUNTY', 'Demaryius Thomas', 'Woodward Academy', 'Thinks Barney Bashing', 'James Derek Baldwin', 'Emmylou Harris', 'Willie Stewart', 'Walton Communities', 'J.P. Crawford', 'Mike Sparks', 'Madileen Elliott Brown', 'Sloane Stephens', 'Oliver Schusser', 'J.J. Johnson', 'Wesley French', \"Mitch Keller's\", 'Edward Davila', 'Michael Thomas', 'Vintez Moss 46', 'Marcus Washington', 'Dakotah Mayo 63', 'Kimberly Barnett', 'John Jackson', 'Miles Robinson', 'Audrey Glickman', 'Kathleen Hall Jamieson', 'Couy Griffin', 'Shannon Lee Cantrell', 'Benjamin Banneker High School’s', 'Jay Crawford', 'Vanesa Morgan', 'Mitchell Walters', 'Russell Falcon', 'Alex Cannon', 'Reformation Brewery', 'Jacqueline Center', 'Percy Jackson', 'Tomas Nido', 'Hawk Lane', 'Roy Noble Lee', 'Michael Coleman', 'Rhea Durham', 'Mamie Thompson', 'Douglas Shapiro', 'Merle Roberts Johnson', 'Chloe Johnson', '-- Cal Raleigh', 'N. Avondale Plaza', 'Smart Dial', 'Jeff Dixon', 'Grace Kelly', 'Melissa Reynolds', 'Robert E. Lee Boulevard', 'Rosie Ln', 'Elise Preston', 'Seara Burton', 'Jaylah Jarrell', 'W. Broad St.', 'Kamille McKinney', 'Mike Fitzgerald', 'Sadie Ware', 'Perris Jones', 'Perry Beeman/Iowa Capital Dispatch', 'Bethany Blankley', 'Deana Martin', 'Millis Lane', 'Stephen Redfearn', \"Caullin Lacy's\", 'Devyn Collins', 'Elizabeth Kelly', 'Alexandra Grandfield', 'Errol Barnett', 'Josh Evans', 'Clark Howard', 'Rookie Matty Beniers', 'Brent Ryan Green', 'Julie White', 'Allie Fox', 'Brian O’Nora', 'Kelsey Kelley', 'Janice Laws Robinson', 'Franklin Williams', 'Macy Wilkerson', 'Augusta Tech', \"D'Angelo Russell\", 'Bill Russell', 'Eddie Kingston', 'William Few Parkway', 'Pedro Martinez', 'Pete Johnson', 'Mill Creek', 'Chester Ellis', 'Linda Drive', 'A.J. Minter', 'Norman Park', 'North Scott', 'Oliver Marmol', 'Breanna Johnson', 'RHP Zack Wheeler', 'Zach Boyden-Holmes/The Register\\nLocations', 'Kishelita Sparks', 'Brooks Kleinpeter', 'Jeff Westling', 'Seth Cordell', 'Sean Johnson', 'Ivory Durham', 'Malon Petty', 'Anna Caballero', 'Misty Hampton', 'Abby Irvin', 'Jayden Barnett', 'Bianca Johnson', \"Kim Reynolds'\", 'Mia Johnson', 'Gary Lamar Teague', 'Max Price', 'Reese McGuire', 'Milan Torres', 'Briton Williams', 'Gordon Jones', 'Lee Trone', 'Noel Pennington//Flickr', 'Zack Wheeler', 'Brandon Herd', 'Markeith Montgomery', 'Mary Beth', 'SGTC\\nFrom', 'Dave Martinez', 'Philip White', 'Tammy Baldwin', 'Martin Girard', 'Mikaree Stafford', 'Caleb Tannor', 'Nelson Woghiren', 'John Baker', 'Joe Cleamon Bowman', 'Alexis Faulkenberry', 'Colbert Heights', 'Donald Lee Hollowell', 'John Martin', 'Jaha Howard', 'Kameron Tucker', 'Adeline Tudor', 'Model High', 'Taylor Cornelius', 'Community Helping Place', 'Kevin Fleming', 'Mill Rd', 'Mac Bradley', 'Hamp Mill Rd', 'Emma Kingsman-Lloyd', \"Cooper Hummel's\", 'Allie Long', 'Walton Way', 'Woodstock High', 'Mellow Mushroom', 'Akyn Bailey', 'Jordan Hull', 'Kayden McDonald', 'Randolph Moss', 'Elijah Wilkinson', 'Mimi Ivey', 'Highland Ter', 'Palmyra Berkely Reagan-ET', 'Landon Collins', 'Tom Cotton', 'Don Maher', 'Michael C. McIntyre', 'J.C. Jackson', 'Jim McKee', 'a David Robinson', 'Chapman Way', 'La Vista', 'Brian Borland', 'Jonathan Taylor', 'Bo Bancroft', 'Cherokee Bluff', 'Susan Collins', 'Brad Radke', 'Chris Jackson', 'Sanai Young', 'Chris Martin', 'Jack Marlow', 'Emmett Griswold', 'Jon Keller', 'CJ Burton', 'Beverly Thompson', 'James Gray', 'James Franklin Frazier', 'Jeh Johnson', 'Mailee Smith', 'Nzingha Stewart', 'Piper Collins', 'Christopher Milburn', 'Virginia Drive', 'Thayer Thomas', 'Aimee Griffin', 'SLUP-14 ADP - TERRELL', 'Lee Soffer', 'Elenor Dietz', 'Chris Fulton', 'Joshua Jackson', 'Academy Award-winner', 'Matthew Sato', 'Don Rone', 'Lee St.', 'Dylan Coleman', 'Max Melton', 'Demariyon Houston', 'Ollie Gordon', 'Douglas County’s', 'Enmarket Arena', 'DeMarcus Lawrence', 'Shayna Vickery', 'Bessie V. Barrington', 'Mel Tucker', 'Harrison Frazar', 'Malik Henry', 'Charles Clifton', 'John Thomas', 'Saben Lee', 'Jim Calhoun', 'Sandy Springs', 'Williams Warehouse', 'Dalton Ryan Keane', 'Alexandra Montgomery', 'Blake Martinez', 'Josiah Milner', 'Isaiah Jackson', 'Caleb Reese Paul', 'Darryl Johnson', \"Port Wentworth's\", \"Alex Jones'\", 'Frankie Gray', 'Brian Jacobsen', 'Ryan Griffin', 'Ridge Spring-Monetta', 'Anne Kiley', 'Jalon Walker', 'Aydan White', 'Hood Streets', 'Shelly Nunez', 'Bill Center', 'Matt Murray', 'Hill Rd', 'Brad Underwood', 'Haley Jones', 'Mike Register', 'Chantyrose Davison', 'Valdosta State', 'Doopah Coleman', 'Walker Johnston', 'Jaida Thomas', 'Patricia Ann Talley Stephens', 'Skyler Williams', 'Nick Eaton', 'Without Atkinson', 'Ron Howard', 'Luis Guillorme', 'Timothy Kelly', 'Jodi Helmer', 'Simon Warren', 'Maddox Henry', 'Jayshon Jackson', 'Zachary New', 'Tucker Poolman', 'Henry Martin', 'Gwinnett County Public', 'Win Butler', 'Kevin Rincon', 'Zayquantez Jones', 'West Morgan', 'Collie Greenwood', 'Pisgah Christian', 'Edenbourgh Place', 'Amayah Dooley', 'Akila Atkins', 'Robert Mora', 'Denise Pitts', 'LaFayette Bulldogs', 'Corey Price', 'Paul Duke', 'Isidore Newman', 'Demarea Demond Carey', 'S. Lark Ingram', 'W. Sandtown Road', 'Bill Temple', 'Jennifer Lawrence', 'Kathy Bradley', 'Duce Chestnut', 'Richard Morgan', 'Rakim Jarrett', 'Stephen Groves', 'Aubrie Cordle', 'Wes Jones', 'Michael Ray', 'Rita Diana York', 'Lee Terry', 'Edward William Fitzalan-Howard', 'Clark RV', 'Lyla West', 'Chris Columbus', 'Rebecca Hoyt', 'Wright Memorial Mortuary - Rome', 'Sutton Rd', 'Jefferson Davis', 'Cornerback Xavien Howard', 'Aaron Feis', 'Lexi Stephens', 'Mark Cochran', 'Dekota Schubert', 'Wakisha Bailey', 'Conner Whitman', 'Sidney Lanier', 'ANDREW CABALLERO-REYNOLDS/AFP', 'Screenwriter Dennis Kelly', 'Jaelen Gill', 'Bret Stephens', 'Williams Jackson III', 'Aubery William Robinson', 'Beth Nelson', 'Glen Martin', 'Mark White', 'T. Dallas', 'Caroline Morgan', 'Landon Williams', 'Joseph Turner', 'Jepson Center', 'Dalton State', 'a Girl Scout', 'Dana Sargent', 'Luis Martins', 'Stan Clark', 'Plant Bowen', 'Ricky Johnson', 'Elisha Cuthbert', 'Brandy Norwood', 'Demario Douglas', 'Alexis Monroe', 'Laurell K. Hamilton\\n-', 'Zsakeba Henderson', 'Alice Harrison', 'Franklin St.', 'Ben Hall', 'Raymond Smith', 'Tom Fitton', 'Yasmine Durham', 'Bryson Johnson', 'Brad Starling', \"Mitch Trubisky's\", 'Emory Jones', 'Maddox Horner', 'Bryant Fitzgerald', 'Daphne Babcock', 'Kylee Brooks', 'Maya Rockeymoore Cummings', 'Fideles Christian', 'Harold Nelson', 'Dean Atkinson Jr.', 'W. McIntosh Road', 'Ven Johnson', 'James William Henry', 'Kristian Fulton', 'Devin Leary', 'Cobb Dems', 'Kelley Miller', 'E. Jean Carroll', 'Jack Butler', 'Andre Jackson', 'Buc Jameis Winston', 'Nick Cannon', 'Lillie Scott Phillips', 'Mitch Fifield', 'G. Grant Brantley', 'George R.R. Martin', 'Donnie Ray', 'T.W. Josey 0', 'Josey Jewell', 'Brad Means', 'Thomas Hasal', 'Bryan Baker', 'Bryan Garcia', 'Efeso Collins', 'Betty Pitts', 'Tifton Orgill Distribution', 'Doug McKenzie', 'Antwain Turner', 'Bruce Wayne', 'Javin Gordon', 'Pike County Schools', 'Jaylon Jordan', 'Todd Bradley-Glenn', 'Lorraine Carli', 'Georgia Podcast', 'Bill Thomas', 'Ray Kelly', 'Greg Kelly', 'Forsyth Park', 'Dwight Lamar Walraven', 'Casey Lawrence', 'Marcus Johnson', 'Matt Jackson', 'Franco Harris', 'Willie Calhoun', 'Thomas Jefferson', 'Sybil Jackson Gilliland', 'Alex Floyd', \"Flash Gordon'\", 'Buck Buchanan', 'John Scott', 'Anna - whose', 'Bella Faw', 'James “Jay” Atkins', 'Darren Clarke', 'Cara J. Russell', 'Dragos Nicolae Madaras', \"Mayans M.C.'\", 'Debra Lawrence', 'Martin Luther King Boulevard', 'Nick Garland', 'Betsy Z. Russell', 'Melanie Dallas', 'Cshanyse Allen', 'Kelley Crisp', 'Wade Herring', 'Byron Murphy', 'Lee Hyang-eun', 'Gordon Lee 26', 'Lauren “Bubba” McDonald', 'Kim Reynolds', 'Brooke Green', 'Noah Gray', 'Milton Overton', 'Lily Robinson', 'Warren Brinson', 'Dominick Johnson', 'Abilene Cooper', 'Roy Taylor', 'Gary Woodland', 'Michaela Baker', 'Isadora Pennington', 'Howard Ave', 'Veterans Plaza', 'Conley Ingram', 'Tiffany Jackson', 'Jud McCranie', 'Austin Douglas', 'Bryan Hicks', 'Kealy Williams', 'Floyd County Jail', 'Fred Jones', 'Barry Jackson', 'Ken Graham', 'Sergeant Brooks', 'Marian Ryan', 'Glenn Carrie Road', \"Ke'Shawn Vaughn\", 'Kelley Feigen', 'Elander Johnson', 'Kathleen Minor', 'Colquitt St.', 'Brett Dalton', \"Patty Jenkins'\", 'Matt Turner', 'Hamilton DiBoyan', 'Seaborn Porter Burton', 'David Thomas', 'Leslie Rojas', 'Taylor McClure', 'Justin Warren', 'Rodney D. Brooks', 'Peter D. Leary', 'Kavon Johnson', 'Madisyn Baldwin', 'Olive Hallek', 'Consort Camilla', 'Allison Memorial Chapel', 'Lily Houghton', 'Justin Fields', 'Hope Adams', 'Bob Pearson Field', 'Diane Houston', 'Rhogena Nicholas', 'Billy Turner', 'Scott Hudgens Drive', 'David O Russell', 'Madison Bonzo', 'Ben Ennis', 'Malachi Bacon', 'Dave Winfield', 'Siafa Lewis\\nSiafa Lewis', 'Doug Turnbull', 'Maarten Paes', 'Willie Gay', 'Javon Graham', 'Roberts Drive', 'Bobby Gene Thomas', 'Anna Lange', 'Jaeden Luke', 'James Hall', 'Keller Williams', 'Chelsea Mitchell', 'Michael Fleming', 'Danetha Doe', 'Bill Monroe', \"Douglas County's\", 'Ernie Catlett', 'Jean Stapleton', 'Kyle Hamilton', 'Nancy Altman', 'Charles Seabrook', 'Martin Lawrence', 'Tara Boulevard', 'Spencer Cox', 'Kelcy Allen', 'Sid Johnson', 'Spencer Petras', 'Warren McClendon', 'Ken Griffin', 'Vester Harvey Burton', 'Jaheem Murray', 'Adrianna Huffstuttler', 'Russell Todd Turner', 'pro tem', 'Ridge Oak Drive', 'Jim Montgomery', 'Mobbs Green', 'Davion Hampton', 'Jamal Murray', \"Mitch Fineran's\", 'Roberto Bautista Agut 5-7', 'Champney R. Bridge', 'Canon Butler', 'Romeo Alexander', 'Trieste Kelly Dunn', 'Ed O’Carroll', 'Zion Johnson', 'Phil Turner', 'Bobby Jones', 'Warren Stewart', 'Bryan Holmes', \"Cherokee - Wheeler's\", 'Zach Johnson', \"Queen Sugar'\", \"Therese Tucker's\", 'Jones Lane', 'Douglas Urbanski', 'Dasha Sharnell Bishop', 'Wayside Waifs', 'Bryon Threats', 'Olivier Niggli', 'Stephens Counties', 'Will Collins', 'Harold Loyd', 'Thomas Caldwell', 'Thomas Brown', 'Bruce Harkness', 'Kelvin Collins', 'Anne McCord Rodgers', 'Adrian Martinez', 'Patrick Gibbs', 'Rookie Riley Greene', 'Helen Mino Faukner', 'Devon Franklin', 'Cobb DOT', 'John Boy Walton', 'Jordan Turner', 'Lillie Henry Phillips', 'Kaiya Sheron', 'Ian Englewood 019', 'Jakob Reha', 'Cross Keys', 'Olivia Johnson', 'Dane Jackson', 'Ben Johnson', 'Hal Daub', 'Martin Landaluce', 'Liam McCullough', 'Ashton Woods', 'Ryan Reynolds', 'Aidan Thompson', 'Jet Wilkinson', 'Keegan Murray', 'Madison Chappell', 'Michael Hancock', 'Andy Lyons', 'Eliza Scarlet', 'Scott Mayfield', 'Jim R. Miller Park', 'Jennifer-Ruth Green', 'Deborah Gonzalez', 'Maverick Noonan', 'Brad Stewart Jr.', 'Felicia Franklin', 'Kathleen Ker', 'Merrick B. Garland', 'Rebecca Waddingham Stars', 'Alexis McGill Johnson', 'Mount Marty', 'Cory Burke', 'Alex Wiley', 'Gordon Lee 16', 'Douglas Whatley Jr.', 'Warren Wethington', 'North Clayton', 'Emma Slater', 'Laura Griffin', 'Uncle George', 'Marilyn Martinez', 'Lanie Nutt Baxter', 'Bulloch County Schools’', 'Macie Collins', 'Pedro Portal', 'Garrett Nelson', 'Sam Murphy', 'Benton Bixby', 'Heath Webb', 'Riley Patterson', 'Ryan Kelly', 'Abbey Hospice', 'Armoni Brooks', 'Bike Walk Savannah', 'Leesa Hagan', 'Westside Road', 'Dougie Hamilton', 'Peyton Gordon', 'Maxey Lane', 'Luther Guy Deavers Jr.', 'Ian Englewood 022', 'Emma Laing', 'Maralee Nichols', 'Wayne Taulapapa', 'Julia Harris', 'Walton Raiders', 'Kristen Clarke', 'Jr. Drive', 'Lili Taylor', 'Jesse White', 'Doug Harrell', 'P.J. Washington', 'Starr Phillips', 'Ann Marie Lane', 'Tara Molina\\nTara Molina', 'Simon Hopkins', 'Grady Bryant', 'Liz Weston’s', 'Joe Hamilton', 'Foxdale Properties', 'Grandma Walton', 'Adam Martin', 'Keion Wallace', 'Ashton Williams', 'Aaron Nola', 'MacKenzie Gore', 'Justin Coleman', 'Emma Bryan', 'Ridge Collins', 'Mike Schey', 'Tom Triplett Park', \"Isaac Rex's\", 'Jyshughn Turner', 'Rylen Stephenson', 'Ty Doran', 'Scott Perry', 'Liz Weston', 'Slutty Vegan', 'Dillon Doyle', 'Marty Hassett', 'Bill Stephens', 'Shari DeBenedetti', 'Ty Conyers', 'Sam Patterson', 'Liam Fitzgerald', 'Adriana McKenzie', 'Jeffrey D. Nicholls', 'Ava Carswell', 'Armani Jackson', 'Willie Edmondson', 'Ayden Jackson', 'Gary Voccio', 'Russ Brown', 'Ben Owens', \"J.D. Martinez's\", 'Logan Thomas', 'Anne Sacoolas', 'Restores ABC', 'Phil Pitts', 'Janet Montgomery', 'Blossom Drive', 'Johnson Grandstands', 'Willie Nelson', 'Quarterback Kyler Murray', 'Blaine Conzatti', 'Quez Watkins', 'Spencer Wilson', 'Alex Segal', 'Makallie Durham', 'Devin White', 'Neal McDonough', 'Beat Apalachee', 'Devonni Reed', 'Burke County', 'Eric Holland', 'North Oconee', 'Cornell Thomas', 'Larry Baker', 'Alyssa Farah Griffin', 'Blake Harris', 'Robert Fulton', 'Skylar Thompson', 'Clarkesville Mill', 'Jacob Gill', 'Cam Atkinson', 'Lake Lanier', 'ALAN MAINOR @', 'Marvin Burks 29', 'Grayson Belcher', 'Kathleen Patterson', 'Paige Vickery', 'Michael Hall', 'Mellie NeSmith Funeral Home', 'Jasmine Ln', 'Joyce Dolores Hall Brookshire', 'Zach Eaton', 'Franklin County', 'Helena Larsen', 'Skyler Parker', 'Jadon Thompson', 'jóvenes tengan', 'Mike Padgett Highway', 'Erik Johnson', 'Thomas Ray', 'KYLE WINGFIELD', 'Anne Alexander', 'Marcus Jones', 'Caleb Alexander', 'Megan Warfield', 'Brandon Banks', 'Kemare Bryan', 'Clayton Steward', 'Stephan A. Poole', 'Rochelle Robinson', 'Richard Thomas', 'Javon Bullard', 'Loganville Hwy.', 'Providence Canyon', 'Francys Johnson', 'Keith Jackson', 'Cianti Stewart-Reid', 'Matt Ruppel', 'Irene Windsor', 'Annie Rae', 'Bryan Love', 'Josh Norris', 'Jackson Coonley', 'Kate Martin', 'Chris Surgent', 'Woodward Avenue', 'Jessica Walden', 'Josh Winder', 'Covington Ford', 'Derek Mallow', 'Mechanicsville Rd', 'Tyler Gayer', 'Elijah Adams', 'Buddy Bennett', 'Hilaree Nelson', 'Martin Gore', 'Howard Dicus', 'Caresse Jackman', 'Gordon County’s', 'Brianna Bryan', 'Leslie Jo', 'JoAnn Oliver', 'Lee Niles', 'Nelson Velazquez', 'Richard Jackson', 'Dean Winchester', 'Cameron Harrelson', 'Follow Eric Tucker', 'Mayes Ward-Dobbins Funeral Home Macland Chapel', 'Geoffrey Crawford', 'Worry Rock', 'Reilly Revord', 'Dom Williams', 'Aeneas Dennis', 'Tyler Fleming', 'Mark Kelly', 'Nick Offerman', 'Karin Warren', 'Alan Mainor', 'Maddie Hall', 'Gerry Bolton', 'Kelly Werthmann', 'Sandy Creek', 'Lamar Ln', 'John Grey', 'Kennesaw Mountain', 'Noah Brown', 'Lisa Turner', 'Jaxon Pate', 'Jennifer P. Collins', 'NAMI Walk Birmingham', 'Adam Baldwin', 'Roberta Schultz', 'Kailyn Scott', 'Margaret Toman', 'Michelle L. Price', 'Luqman Salam', 'Danny White', 'Christen Miller', 'Jim Bishop', 'Armstrong Campus', 'Sindang Station', 'Erica Jones', 'Ava Matz', 'Ted Turner Drive', 'Tyron Vrede', 'Wildwood Crest', 'Kara Richardson', 'pasan más de 400', 'Jaben Compton', 'Sacramento Kings', 'Tyler Atkinson', 'Amari Burney', 'Alan Taylor', 'Tymere Burton', 'Dennis Bergin', 'Kinridge Court', 'Tanner Brown', 'Amour Fou Vienna', 'Taylor Gray', 'Jether Cochran', 'Mollie Howard', 'Drew Stevens', 'Barry Coleman', 'Spencer Gaddis', 'Rick Ennis', 'Oliver Ridings', 'Tyrell Robinson', 'Marion LeRoy', 'Sara Nelson', 'L.C. Mullaly', 'Jack Nicholson', 'Wil Johnson', 'Don Patterson', 'Josiah Gray', 'Jeff Rader', 'Jonnie MacDaniel Miller', 'Thomas Howard', 'Ilene Burton Goble Bowman', 'Ernest W. Barrett Parkway', 'Malakiah Echols', 'Chelsea Sawyer', 'Martha J. Beard Stewart', 'DJ Coleman', 'Rob Sand', 'Tim Rosenman', 'Emma O’Brien', 'Gary Hastings', 'Tom Demmer', 'Dionte Jones', 'Clay County', 'John Bynum', 'Fallen Oak', 'Ridge Ashworth', 'Christy Hall', 'John Ward Road', 'Navajo Trail', 'Stephen Bishop', 'Craig Perry', 'Penny Taylor', 'Clarence Patterson', 'Wayne Woodward', \"Sydney O'Neal\", 'Jaylon Johnson', 'Tim Cobb', 'Charlie Bethel', 'Johnny Knoxville', 'Taylor Widener', 'Sharon Cooper', 'Clyde Bailey', 'Aaron Pierre', 'Leonard Funeral Home', 'Joe Murphy', 'Stephen Colbert', 'Wright St.', 'Aaron Jonesruns', 'Demarcus Clark', 'Avery Hudson', 'Compass Prep', 'Brooke Henderson', 'Kerry Butler', 'Estella Patterson', \"Ja'Varrius Johnson\", 'West Laurens', 'Alex Torres', 'Kevis Thomas', 'Rick Ware', 'North Gwinnett', 'Graham Mertz', 'Elise Berlan', 'Chaz Chambliss', 'Pierce County Schools', 'Brad Scott', 'Aubrey King', 'Mark Morgan', 'Jeanie Murphy', 'Patty Murray', 'Marc Evan Jackson', 'Chamblee et al', 'Callyn Chosewood', 'Keir Thomas', 'Keller @ Large', 'Tim Hardy', 'JIM NELSON', 'Jody Ray', 'Charlie Baker', 'Brandin Echols', 'Steve Reynolds Industrial Pkwy', 'Howard 0', 'Preston Nestrick 73', 'Harmony Crossing', 'Clay Homes', \"Kyle Pitts'\", 'Laura E.G. Warren', 'Alma Mexicana', 'Adrian Gongora', 'Willie Yvonne', 'Andrew Lewis Caldwell', 'DeShawn Taylor', 'Josh Harris', 'Dave Tucker', 'David Hastings', 'Lorna Warwick', 'Markella Johnson', 'R. Kelly', 'Stuart Countess', 'Boyd Ashworth', 'Central Gwinnett’s', 'Aaron Robinson', 'McKenzie Jones', 'Paulina Alexis', 'Kaden Hamilton', \"Qualan Jones'\", 'George Walton Academy', 'Matthew Perry', 'Jayden Carswell', 'SAM Shortline', 'Bryson Donald', 'Grant St. SE', 'Bill Walton', 'Giving Kitchen', 'William Duffey Jr.', 'Gutierrez Illan', 'Deandre Buchannon', 'Colin Johnson', 'Nellie Estelle Patterson', 'Collin Black', 'Brooklyn Nichols', 'Ryan K. Buchanan', 'Dana Rymer', 'Reliever Alexis Diaz', 'North Gwinnett’s', 'Bilal Nichols', 'Pepper Pike', 'Lucy Inman', 'Justin Aaron', 'Jersey Wiseguys', 'Ruby Taylor', 'Louis DeJoy', 'Corbin Carroll', 'Alexandre Rochatte', 'Kennedy Harp', 'Drake Thomas', 'Wesley Woods', 'Atlanta Hwy', 'Linsey Burke', 'Donzella James', 'Susan Wiley', 'Susan S. Snead', 'Ashtyn Hawkins', 'Jasmine Thomas', 'Frazer Harrison', 'Laura Jean Shannon', 'Liam Rogers', 'Jamie Blanche Wiley Crane', 'Abby Richmond', 'Mineral Wax', 'Tanner Conner', 'Madison Hardy', 'la de Sharon', 'Jonathan Nelson', 'Colson Baker -', 'Kaevon Merriweather', 'Sumter Blvd', 'Tom Hoge', 'Cynthia Addai-Robinson', 'Glen Winter', 'Tom Chorley', 'Timothy Hammond', 'Kevin White', 'Andrico Jackson', 'Noemi Griffin', 'Sheryl McCollum', 'Luis Bayo', 'Emma McIntyre', 'Rylie Smith', 'Steve Jones', 'John Felton', 'Jackson Sparks', 'Tommy Danos', 'Rebecca Eaton', 'Perry Haynes', 'Kara McClure', 'Timothy Thomas', 'Queen Sugar', 'Rani Rose', 'James Seaborn Burton', 'Lucy Tara', 'Joe Whitfield', 'Bob Morgan', 'Deborah McDaniel', 'Bella Vista', 'Jeff Davis County', 'Baldinos Giant', 'Marissa Moreland', 'Michael David Whatley', 'Lee Graham', \"K'Andre Miller\", 'Mary Hampton', 'Lionel Alexander', 'Sheryl Brooks', 'Clarence Thomas', 'Simone Jasper', 'Alexus Humphries', 'Sherrill Ann Haynes', 'Grayson Stallings', 'Jarrick Bernard-Converse', 'Mike Houston', 'Arieann Harrison', 'Clayton Poulnott', 'Payton Gordon', 'LHP Jordan Montgomery', 'Sean Philip Glasgow', 'Wyatt Russell', 'Norvin Bruns', 'Norwich St.', 'Jacarri Thomas', 'Lauren Turner', 'North Gwinnett Bulldogs', 'Kristy Hurst', 'JK Murphy', 'Olivia Walton', 'Lee Brown', 'Messiah Bacon', 'Yakitori Jinbei', 'Jakobe Turner', 'Harry Dunn', 'Jaren Hall', 'Tae Harris', 'Jude Kelley', 'Georgia Quick Start', 'Kit Clarke', 'Bruce Greenwood', 'Ilhan Omar D-Minn.', 'Sean Murray', 'Ariel Henry', 'Jordan Taylor', 'I-75 North', 'Carl Ware', 'Douglas Park', 'Spenser Watkins', 'Wiederkehr McDonald', 'Emma Acosta', 'Douglas Teague', 'Johnny Lester Cochran', 'Tanner Morgan', 'Austin Lane', 'Bill Hanna', 'Clark Hungerford', 'Joe Thomas', 'Jordan Bishop', 'Elizabeth Strafford', 'Russell Thompson', 'Buddy Darden', 'Griffin Hebert', 'Jamyest Williams', 'Chloe Jones', 'Rocky Face', 'Jon Gray', 'Harris County', 'Taylor Decker', 'Sue Robbins', 'Ridge Rd', 'Forsyth Central', 'Andre Montgomery', 'TIM HYNDS', 'AJ Reynolds', 'D.J. Coleman', 'Kelly Green', 'Jimmy Terrell', 'Taylor County', 'Charles Martin', 'Ross Wilburn', 'Grant Brantley', 'Patrick Johnson', 'Heather Ennis', 'Ari Scharg', 'Michael Syrop', 'Alto Moore', 'Emma Sanchez-Vaznaugh', 'Hamish Hamilton', 'Warren Bradford', 'Marysa Rylee', 'Evan Bouchard', 'Morris Brown', 'Melissa Fitzgerald', 'Steve Martin', 'Taylor Marr', 'Ethan Bulard', 'Leslie Rutledge', 'Sharon Looney', 'Whitt Bowden', 'Matt Olmstead', 'Brian Cornell', 'Carol Blood', 'Keytaon Thompson', 'Butterworth Lane', 'Josh Jackson', 'Marty Deeks', 'Ogeechee Rd', 'Johnna Patterson', 'Logan Thompson', 'Allie Young', 'Girl Scout', 'Clark Jones', 'Russell Feagin', 'Van Dyke', \"Henry II's\", 'Season Four', 'Jayaun Albert,', 'Peter Hall', 'Hudson Gray', 'Tramel Walthour', 'Bryson Harrison', 'Bill Johnson', 'Westminster Hall', 'Anna DeBerry', 'Indiana Jones', 'Mitchell Trubisky', 'Derijuana Porter', 'Andy Isabella', 'Bear Alexander', 'Joellyn Phillips', 'James Jackson III', 'David Lyons', 'Kevin Emmanuel', 'Jack Martin', 'Sweetwater Creek', 'Nick Phillips 25', 'Wayne Memorial Hospital', 'Josh Raymond', 'Jerick McKinnon', 'Zaire Franklin', 'Mershawn Rice', 'Hannah Farrar', 'Alexia Denly', 'Head Start', 'Whitney Belin', 'Brian Kavanaugh-Jones', 'Ellen Denise Jones', \"Tallulah Falls'\", 'Aubrey Blanton', 'Amy Holden Jones', 'Jackson Mitchell', 'Craig DeWitt', 'Booster Club', 'Witness Cameron Aten', 'Damian Dunn', 'Tony Hall', 'Ben Baldwin', 'Lauren Ambrose', 'Elsie Jo Thomas', 'Harold Murphy', 'Christopher “Cutty” Clark', 'Veterans Hall', 'John Albers', 'Van Johnson', 'Jeff Dennis', 'Olyvia Webb', 'Alyssa McCravy', 'Monroe St.', 'Taylor Alxndr', 'Bert Auburn', 'Joyce Lynn', 'Hickman Drive', 'Christopher Ogle', 'Pam Jones', 'Kristen Vining', 'Gordon Lee High School', 'Angel City', 'Tom Krisher', 'William Jackson III', 'McMullen Bushman', 'Keaton Mitchell', 'Zoe Thompson', 'Brodie McWhorter', 'Leslie Ruddell', 'Jaxen Turner', 'Larry Lane', 'Glynn Academy', 'Gail Early Jokerst', 'Dawn DeWitt', 'Wayne Panton', 'Merica Lynn', 'Cory Keller', 'Chester A. Ellis', 'Tom Kellermann', 'Gee Scott', 'Judy Jackson', 'LEE 9', 'Charles Scott', 'Blake Wheeler', 'J.D. Payne', 'Nick Lyon', 'Karl Oakman', 'C. Ashley Royal', 'Spencer Dutton', 'Bryce Bowens', 'Zoey DeFoor', 'Peter Mansfield', 'Ellen McDonald Burke Bowers', 'Keith Howard', 'Jeffrey Lynn Jones', 'Stuart Cundy', 'Bowman Mill Road', 'Karlton Clay', 'Scott Nelson', 'Rodriquez Dunn', 'Cleotha Henderson', 'Sacovie White', 'Tanner Banks', 'John Henry White', 'Nyla Harper', 'Tallulah Falls', 'James Whit', 'Don Shainess', 'Jackson Sirmon', 'Shaw Pittman', 'Douglas Poland', 'Chris Taylor', 'Jersey Subs', 'Camden Orth', 'East Hamilton', 'Franklin County Citizen', 'Jeremy Banks', 'Keenan Media', 'Dakotah Mayo 59', 'K.J. Martin', 'Kirsten Mitchell', 'Kevin Baldwin', 'Lafayette Square', 'Jordan Spieth/Justin Thomas', 'Brode Lewis', 'Jefferson High', 'Carter Center', 'CJ Donaldson', 'Julian Fleming', 'Thalia Martin', 'Pearson Cook', 'Robby Gordon', 'Jenny Murray', 'Janerious Jackson', 'Anne-Marie Green', 'Javaris Harris', 'Maddie Johnson', 'Kym Garraway-Braley', 'Mark Van Buren', 'Kendre Miller', 'Davis Sr', 'Rashard Lawrence', 'Jerry Beach', 'Duke Russell', 'Elizabeth Nouryeh-Clay', 'Bob Thomas', 'John Kelly', 'Kaitlan Collins', 'Rosario Dawson', 'Ian Murray', 'Earnest Jackson', 'Betsy Johnson', 'Dogwood Drive', 'Michael Kelly', 'Don Granato', 'Ann Hall Mathis', 'Tim Lee', 'Club Drive', 'Ann Dean Perkins', 'Aaron Civale', 'Austin Montgomery', 'Sprayberry 2', 'Stephen Cliffgard Lee', 'Robert Reed Warren', 'Lee Atkins Freeman', 'Tucker Carlson’s', 'Lawrence Butler', 'Frederick Douglass HS', 'Cairo Santos', 'Tyrese Martin', 'Davis Cobb', 'Emma Hunt', 'Bill Hancock', 'Follow Effingham', 'Sam Walker Dr.', 'Heard Elementary', 'Henry Herald', 'Zoey Gray-Martin', 'Clayton Keller', 'Noah Hynick', 'Hunter Greene', 'Shorter Hawks', 'Anne Gorsuch', 'Cavalier Johnson', 'Macy Martin', 'Burt Reynolds', 'Ally Brooke -', \"Thinks JC Would Win '\", 'Warren St.', 'Jeremy Nelson', 'Hamilton Tiger-Cats', 'Anna Karolina Schmiedlova', 'Howard Holloway', 'Velma Jackson', 'Jeramy Tipton', 'Riley Womack', 'Tim Parrott', 'Marian Collins', 'Phil Walters', 'Sherri Washington', 'Bryan Spreyne', 'Helen Doherty', 'Tate Ruth', 'Jimmy Townsend', 'Chavis Marshall', 'Charles Cannon', 'Rollin Richmond', 'Jason Hall', 'Joining Murray', 'Pete Carroll', 'Dara Bitler', 'Gail Berman', 'Thomas Pilgrim', 'Dakota Hudson', 'Donald Patrick', 'Jim, Hubert', 'Dallas Turner', 'Douglas Chapel', 'Nancy Cottle', 'Lawrence Murphy', 'Edward Scott', 'Sheila Hanahan Taylor', 'Michael Martin', 'Andre Gray', 'Steven S. Coughlin', 'Tishaura Jones', 'Jaheim Bell', 'James Denton', 'Al Hagan', 'Shai Miller Peck', 'Zion Rutledge', 'Luiz Araujo', 'Christopher Wray', 'Ala. Finley', 'Tate Gunnerson', 'Preston Fox', 'Keyan Burnett’s', 'Devon Caldwell', 'Emily Hamilton', 'Auston Matthews', 'Registered Surveyor', 'Holly Smith', 'Theo Jackson', 'Shelby Green', 'JaJuan Russell', 'Gary Sparks', 'Helen Lee Bouygues', 'Sarah Wren', 'Austin Tucker', 'Chip Kelly', 'Alon Shtruzman', 'Jack Jenkins', 'John Robert', 'Rob Jones', 'Travis Thomas', 'Patrick Dougherty', 'William Millard Taylor', 'Jeff Hall', 'Xavier Green', 'Mockingbird Lane', 'Alex Cobb', 'Jessica Berman', 'Bill Rankin', 'Christopher Hampton', 'Eric Hart', 'Jason Alexander', 'Paul Harris', 'Rich Fitzgerald', 'Czar Harris', 'Adrian Folmar', 'TOM COTTON', 'Davey Martinez', 'Phil Reeve Stadium', 'Scott Small', 'Daniel “Hondo” Harrelson', 'Tommy Edman', 'Chase Warrington', 'Allie Church', 'Jonathan Johnson', 'Jeremiah Aaron', 'Jenkins Smith', 'Jonas Griffith', 'Katie Denis', 'Wai Kai Waterfront', 'Wesley Brownlee', 'Forenza Rakeem Murphy', 'Daren Grover', 'Praise Martin-Oguike', 'Carla Court', 'Jimmie Oakman', 'Cobb Solicitor', 'Hubert Hurkacz', 'Lee Jong-sup', 'Dylan Price', 'Nicholas Pearson', 'Madison Lennon', 'Farm Arena', 'Violet Martin', 'David Morgan', 'Ragan Whitlock', 'Josh Brooks', 'Aaron Spelling', 'Alex Raynor', 'Kevin Mitchell', 'Barry Bostwick', 'Alison Gilmore', 'Tracey Holland', 'Shaylyn Ridley', 'Marie Foster-Bruns', 'Caydee Carroll', 'Councilman Bruce Turner', 'Benji Harrison', 'Camden Yards', 'Billy Mathis', 'Dianne Warren', 'Hal Presley', 'Lester Pearson', 'Etan Thomas', 'Elbert County', 'Gordon County', 'Mike Matthews', 'David Robinson', 'J.J. Jones', 'Kathleen Clark', 'Johnnie Coleman', 'Andy Lyons/Getty Images', 'Nico Collins', 'Healthy Savannah’s', 'Cam Ranh Bay', 'Donald Whitfield', 'Graham Nicholson', 'Jim Franklin', 'Shad White', 'Mitch Rossi', 'Joy Randolph', 'Jordan Montgomery', 'Ahmari Douglas', 'Gloria Johnson', 'Boy Willie', 'Tariq Castro-Fields', 'Jaquan Johnson', 'Cactus Buddy', 'Jesse Jackson', 'Chuck Harris', \"Jo'quavious Marks\", 'Zack Nelson', 'E. Franklin St.', 'Kecalf Franklin', 'North Face', 'Pearry Reginald Teo\\n- Stacker', 'Daniel Jackson', 'Carroll Rivas', 'Jefferson City Schools', 'Monica Pearson', 'Joyce Jones', 'GM Scott Harris', 'Wayne County Outfitters', 'Rodney Harrison', 'Wayne County Superior Court', 'Devonn Lane', 'Phyllis Brenda Wall Purdy', 'Tre Harris', 'Monroe Area', 'Paulette Dillard', 'Marissa Goldberg', 'Jamal Scott', 'Lamar Garrett', 'Cleta Mitchell', 'Doug Logan', 'Madison Jenkins', 'Thomas Warnack', 'Douglas County Sheriff', 'Anne Chastain', 'Nick Perry', 'John Howard', 'Art Bridges', 'Matthew Schmidt', 'Evan Lewandowski', 'Clara Harrison', 'Shawn McIntosh', 'Barbara A. Perry', 'WALTER McINTYRE', 'Alyssa Thomas', 'Don Dyer', 'Sara Collins', 'Will Douglas', 'Jalen Holston', 'Nick Jackson', 'Douglas Counties', 'Lu Thi Harris', 'Jefferson Center', 'Josh Harrison', 'Jake Thomas', 'Doug Jarvis', 'Ponderosa Drive', 'Alvin “Creepy” Karpis', 'Landing Mitchell', 'Nebraska DOT', 'Jefferson Dragons', 'Kevin Carroll', 'Mae B. Payne', 'Steve Taylor', 'Mother Williams', 'Matt Jones', 'Aaron Philo', 'Hailey White', 'Mary Ellen', 'Trevor Morgan', 'Kylah Harris', 'Stephen Lawson', 'Kareem Jackson', 'Great Plains', 'Pam Simpkins Taylor', 'Jordin Duran', 'Lyndie Freeman', 'Michael Collins', 'Jaire Alexander', 'David Carroll', 'Mitchell Robinson', 'Nick Bolton', 'Kent Johnson', 'Monica Kaufman Pearson', 'Renee Martinez', 'Toryn Wilkins', 'Jace Downs', 'Marley Cook', 'Don Thompson', 'Jessica Nelson', 'Steve Burkhalter', 'Merry P. Kirk', 'Jonathan Martin', 'Cooper Scott', 'Zaylee Drew', 'Augusta Christian', 'Tucker Observer', 'Jacob Nelson', 'Don Bell', 'Rara Thomas', 'Craig Robinson', 'Antavious Murphy', 'Ted Watkins', 'Burton 4-H Center', 'Bella Cleveland', 'Kelcie Moseley-Morris', 'Scott Taylor', 'Ida Walker', 'Marian Leitner-Waldman', 'Ben Taylor', 'Jason Wiley', 'Green R. Vasomotor', 'John Wesley Kerce', 'Omega Phi', 'Griff Lynch', 'Candler Rd', 'Hannah Odom', 'Gunner Stockton', 'Gladys Baxter', 'Priscilla Ficklin', 'Ryan Evans', 'Perry of Fort Oglethorpe', 'Tommy Collins', 'Lee Gelernt', 'Henry II', 'Jane Tucker', 'James Johnson', 'Anna Bardeen', 'Denisha Montgomery', 'Brynn Anderson', 'Alicia Whatley', 'Joan Murray', 'Linda Russell', 'Seth Martinez', 'Joel Collins', 'Young Harris', 'Ann Brooks', 'Don Walton', 'Marty Kemp', 'East Laurens', 'Josh Dempsey', 'Alexandra Cunningham', 'Alex Kalim', 'Jaylen Lilley', 'Sharon Clark', 'Trone Garriott', 'Tyler Macon', 'Michael Bradley', 'Constantine Dallis', 'Mark Butler', 'B.J. Williams', 'Stephen Brennwald', 'Bryce Stephens', 'Witney Carson', 'Pat Garland', 'Johnson Ferry', 'Adam Pennell', 'Douglas LaMalfa', 'Mitchell Haaseth', 'Radium Springs Middle Football', \"Matt Vientos'\", 'Alex Williams', 'Tom Riden Stadium', 'Abha Khanna', 'Miles P. Hendrix', 'Audrey Abbott', 'Don Bullard', 'Rosalind Russell', 'Betty Trotter Thomas', 'Patty Apple', 'Jefferson TD', 'Richard B. Russell Regional Airport', 'Simon Johnson', 'W.H. Felton', 'Kim Griffin', 'Michelin Raceway Road', 'Detective Hailey Upton', 'Maison James', 'Kole Calhoun', 'Kenry Wall', 'Noah Jenkins', 'Athan Kaliakmanis', 'Francis Don Twombley', 'Willie Clark', 'Kohen Rogers', 'Keilan Robinson', 'Cal Thomas', 'Shirley Franklin', 'Harvey Clay', \"Matt Gay's\", 'Robert Scott', 'Cody Martin', 'H.D. Freeman', 'Tyler Scott', 'Phoebe Sumter', 'Ralph Henry Woltering', 'Jack Bech', 'Caden Williams', 'Trey Woosley', 'Shelby Payne', 'Darryl Jones', 'Lucille Dewberry Drew', 'Sam Smith Park', 'Kimberly Crawford', 'David Turner', 'Kevin Roberts', 'Marty Seagraves', 'Bryan Wynbrandt', 'Hal Harrell', 'Lewina Lee', 'Dior Johnson', 'Wayne County High School', 'Bryan Johnson', 'Raheem Blackshear', 'Café Brulee', 'Cora Allen Mitchell', 'Henry R. Muñoz III', 'Dominic Martinez', 'Brandon Clarke', 'Dawn N. Ison', 'Alpine Coaster', 'Chandra X-ray', 'Follow Ed White', 'Jaxton Carson', 'John Clarke', 'Jackson Progress-Argus', 'Riley Nelson', 'Isaiah Sanders', 'Brad Asbury', 'Paul Cochran', 'J. Todd Lawrence', 'Bradley DeFoor', 'Reggie Jackson', 'Tracy Murrell', 'Anne Murray', 'Corey Fields', 'Sean Tucker', 'Anton Washington', 'Frances Morrison Reece', 'Kylie Bell', 'Brent Bowman', 'Cailyn Poole', 'Sophia Hall', 'Carli Skaggs', 'Payton Turner', 'Rick White', 'Daniel Evans', 'Jordan Ln', 'Tim Mayza', 'Amber Perry', 'Banana Ball', 'Daniel Scott', 'Reese Taylor', 'Elgton Jenkins', 'Leonard Taylor', 'Westside Trail', 'Chris Matthews', 'Ty Harrison Bray', 'Geoff Burke-USA', 'Daniel Sumner', 'Justin Robinson', 'Wayne Ivey', 'David Brooks', 'Joiner Anderson Funeral Home', 'Floyd County', 'Luke Logan', 'Xavien Howard', 'Quiannis Jones', 'Blane Lane', 'Jack Clayton\\n- Metascore', 'Jerjuan Newton', 'Bryson Brooks', 'Alexandra Sasse', 'David Durand', 'C. Freeman Pool Senior Center', 'Dominique Perry', 'Ralph Lovett', 'Loy Howard', 'Nalin Scott', 'Mathieu Mondro', 'Perry Allen Reece', 'Cait Collins', 'Trayvon Martin', 'Emma Hare', 'Dennis Gates', 'Virginia Baxter', 'Evan Arthur Hall', 'Peter Baker', 'Harrison Tillou', 'Lawrence Berkeley', 'Byron Amos', 'Curtis Polk', 'Mauddaine Warren Baker', 'Alex Young', 'Kindergartener Maddox', 'Baylee Lehmann', 'Johnny Mercer Boulevard', 'Percy Hynes White', 'Beau Evans', 'Riley Dixon’s', \"Z'yon Norton\", 'Stephen Goutman', 'Steve Harris', 'Devontae Houston', 'Kathryn Nobles', 'Cobb Schools', 'Carla Phillips Butler', 'Evan Hull', 'Zelus Hicks', 'Amy Berman Jackson', 'Zac Taylor', 'Danny Beryl Cochran', 'Sheppard Denton', 'Michael Hastings', 'Rebecca Siegel', 'Conner Freeze', 'Najee Harris', 'Harrison Fell', 'Ben Raybon', 'Billy Dillard Road', 'Emma Harper', 'Goaltender Alex Nedeljkovic', 'Sevyn Banks', 'Miada Jones', 'Gavin Wilkinson', 'Marjee Williams', 'Dakarai Anderson', 'Healthy Savannah', 'Catherine Townsend', 'Follow Wayne Parry', 'Bryan Simpkins', 'Mary Margaret Oliver', 'Leonard Ronald Cochran', 'Jewell Dean', 'Billy Martin', 'Giving Annie Lennox', 'Hilary Banks', 'Mick Jones', 'Truffula Pink', 'Alex Nelson', 'Rose McIntyre', 'Jane Woo', 'Tom White', 'Brittany Gilleland', 'Grace Graham', 'Bulloch County Sheriff’s Office', 'Matthew Redd', 'Jon Hamilton', 'Lanier Longhorns', 'Liz Hausmann', 'Jordan Franklin', 'Ventrell Miller', 'Amy Osley', 'Braxten Johnson', 'Kim Evans', 'Marqueece Harris-Dawson', 'Martha Berry Highway', 'Justin Turner', 'Tara Blvd', 'Christopher Drive', 'Jamie Rhome', 'Matthew Gordon', 'Ann Jones', 'Aidan Morrow', 'Ryan Germany', 'Berman Jackson', 'Christian Jenkins', 'Emanuel County Schools', 'Randy Durham', 'Sandtown Rd', 'Don Bacon', 'Lurie K. Hall', 'Jehan Gordon-Booth', 'Joey Sanders', 'Rita Scott', 'Tom Hamilton', 'Devon Matthews', 'Brian Gould', 'Charla Clifton', 'Joseph West', 'Willie Faye Martin', 'Cody Bartlow', 'Lee Kyung', 'Mary Jones', 'Tanya Tucker', 'Reserve Logan', 'Addison Judas', 'Chris Hagan', 'Alexis Goldberg', 'Chelsea Aaron', 'Thomas Jefferson 54', 'Douglas P. DeFelice', 'Everett Springs Road', 'Jace Martinez', 'Don Harmon', \"Geoff Collins'\", 'N. Main St.', 'Matthew Rosen', 'Cappelleri JC', 'Herman Burton', 'Northwest Whitfield', 'Jordan Allen', 'Rachel Mitchell', 'Cheryl Logan', 'Bijan Robinson', 'Gypsy Kitchen', 'Jalen Johnson', 'Charles Helton Hawkins', 'Oliver Wahlstrom', 'Javon Richardson', 'Elizabeth Holcomb Taylor', 'Sam Jackson', 'Lou Hogan', 'Bryce Dallas', 'Graham Peaslee', 'Brennan Jackson', 'Chipper Jones', 'Lautaro Martínez', 'Prince Albert', 'Tom Wilkison', 'Taylor Bryant', 'Loretta Bailey', 'Stephen C. Foster State Park', 'Aisha Harris', 'Cassidy Hutchinson', 'Wings Over', 'Toni Lee', 'Jamarco Jones', 'Maren Morris', 'Delanie Jewell', 'Samuel Flournoy', 'Ian Fleming', 'Jacob Harris', \"East Jackson's\", 'Ivan Johnson', 'Jennifer Kaytin Robinson', 'Katie Tucker', 'Samantha Leslie', 'L. Robert Lovett', 'Jordan Poole', 'Tom Weiler', 'DeAndre Buchannon', 'Lee Miringoff', 'Lovejoy 7\\nWorth County', 'John Henry', 'Dekalb Peachtree Arpt', 'Carol Menefee', 'Colt Levy', 'RB Tony Jones', 'Troy Taylor', 'Rochelle Knight', 'Marshall Burke', 'Laura Hailey Bryan', 'Tim Locastro', 'Lorenzo Heard', 'Dakarri Hollis', 'Trey Townsend', 'Fair Play', 'King Williams', 'Demeioun Robinson', 'Zakiya Thomas', 'Concert Hall', 'MALCOLM DENEMARK', 'Justin Johnson', 'Denny Dobbs Park', 'Jordan Lane', 'Juliette Goodrich', 'Isaiah Copeland', 'Alvin Mason', 'Yashua Martinez', 'Lady Liberty', 'Percy Luther Johnson', 'Pat Buchanan', 'Cole Cannon', 'Barnhardt Circle', \"Savannah DeMelo's\", 'Emanuel Clase', 'Jennifer McRae', 'Joni Mitchell', 'Gordon County Schools', 'Barrett Funeral Home', 'East Forsyth', 'Steven Cree', 'Andy Harris', 'Young Lee', 'Shaman Lewis', 'Tyree Davison', 'Ameesha Butler', 'Teresa Robinson', 'Don Chapman', 'Blanca Gay', 'John E. Niedrach', 'Oliver Lynn', 'Alex Collins', 'Piers Morgan', 'Sophia Patterson', 'Rusty Russell', 'Augusta Prep', 'Lane Johnson', 'Marlee Johnson', 'Everett Collection', \"Noah Burnette's\", 'Scott J. Bryan publisher@tribune-georgian.com', 'Corbin Burnes', 'Holly Berry Terrace', 'Ronnie Gene Dunn', 'Anne Hoen', 'B. J. Reece Orchards', 'Esias Tompkins', 'Charles Brantley', 'Bryan Cutler', 'Bass Pro Shops', 'Derek Griffith', 'Miles Bridges', 'Ann Dorrington', 'Tammy Nichols', 'Jake Turner', 'Lorie Hughes', 'Tom Norgard', 'Gary Johnson', 'Qualan Jones', 'Jamarious Towns', 'Luis Frias', 'Harrison Hayward', 'Kathleen George', 'Brady Logan', 'Mary Gretchen Griggs Vaughan', 'Taylor Pendrith', 'Mallie McKenzie', 'Belle Brooks', 'Helen Raikes', 'Kim Jones', 'Edna Jackson', 'Eatonton Messenger', 'David Martin', 'Maddy Anderson', 'NaVorro Bowman', 'Colson Baker', 'Laura de Mille', 'Ryan Wingo 51', 'Madison Adams', 'Erik Jones', 'John Benevolent', 'Quay Whitfield', 'Ryan Baker', 'Matthew Mills', 'Monroe Drive', 'Jordan Bowen', 'Georgia Southern', 'Myles Gardner', 'Madison Oliver', 'William Lafayette', 'Warren Baker', 'LuLu Parkhill', 'Henry Waine', 'Riley Johnson', 'Asha Randolph', 'Lindsey Tanner', 'Jason Baker', 'Ann Darrow', 'Grant Godfrey', 'Abbey Donaldson', 'Britt Stewart', 'Jaxson Kirkland', 'Sirhan shot Kennedy', 'Jeb Burton', 'Bijan Nichols', 'Tim Houston', 'Michael Stewart', \"Matthew Dennis'\", 'Emma Young', 'Cameron Carroll', 'Sally Harrington', 'Derek Dennis', 'Decatur Ghost Tour', 'Guitarist Mick Thomson', 'Rakim Tate', 'Jayden Thomas', 'Claire Jordan', 'Robert Woods', 'Kris Winter', 'Cal Evert', 'Michele Gay', 'Solomon Leslie', 'Clark Dennis', 'Kemar Lawrence']\n",
            "6076\n",
            "['Hope', 'Corbin', 'Norwich', 'Patterson', 'Chickamauga', 'Lanier', 'Aaron', 'Moseley', 'Statham', 'Harrington', 'Roosevelt', 'Prescott', 'McDonough', 'Harris', 'Terrell', 'Chapman’s', 'Eileen', 'Anderson', 'Evan', 'Rehoboth', 'Weber', 'Miller', 'Lakeview', 'Pyne', 'Gordy', 'Douglas', 'Carlyon', 'Porter', 'Jewell', 'Jamestown', 'Beulah', 'Westlake', 'Bowden', 'Gill', 'Ruskin', 'Bethel', 'Sylvia', 'Candler', 'Noah', 'Hart', 'Levy', 'Harville', 'Alex', 'Sonoraville', 'Hill', 'McKinney', 'Hall', 'Randolph', 'JEFF', 'Dykes', 'Salter', 'Chapman', 'Tanner', 'Anna', 'Hyatt', 'Larry', 'Habersham', 'Chehaw', 'Charles', 'Jennie', 'Hannah', 'Invest', 'Thunder', 'Caleb', 'Blackshear', 'Anton', 'Remington', 'Hamby', 'Valdosta', 'Oglesby', 'McRae', 'Emme', 'Felton', 'Aronne', 'Lex', 'Padgett', 'Chick', 'Lewis', 'Buckhead', 'Wallace', 'Darlington', 'Wren', 'Turner', 'Beth', 'Ashford', 'Irvin', 'Dickson', 'Odesa', 'Milano', 'Suzanne', 'Brooke', 'Newton', 'Billy', 'Upson-Lee', 'Pitts', 'Knoxville', 'HAMILTON', 'Paxton', 'Matthews', 'Chamberlin', 'Bronco', 'Augustus', 'Jarrell', 'Watkins', 'Albert', 'Burke', 'Dietz', 'Auburn', 'Brinson', 'Metcalfe', 'Dacula', 'Twins', 'Allatoona', 'Clarkston', 'Beverley', 'Holsonback', 'Curtis', 'Danville', 'Stuckey', 'Hamer', 'Grovetown', 'Probasco', 'Rays', 'HAL', 'Lily', 'Huffaker', 'Jarrard', 'West', 'Eastland', 'Merryweather', 'Holl', 'Cap', 'Irene', 'Clarkson', 'JONES', 'Pringle', 'JAMES', 'Gladys', 'Bell', 'Russell', 'Ludowici', 'Brighton', 'Mar', 'Lambert', 'McKenzie', '9/15/2022', 'Becca', 'Benefield', 'Baxley', 'Lovejoy', 'Tift', 'Pace', 'Waynesboro', 'Barrington', 'Ava', 'Longview', 'Brent', 'TX', 'Randall', 'Roman', 'Hutchison', 'Collins', 'Wilkerson', 'Meggs', 'Sumner', 'Banks', 'Bullard', 'Woodhaven', 'Robbins', 'Tx', 'Hastings', 'BRYAN', 'Farmington', 'Treutlen', 'Norcross', 'Macon', 'Glen', 'Lindberg', 'Whitfield', 'Madisen', 'McIntyre', 'Doughty', 'Griffin', 'Graden', 'Carnesville', 'Winston', 'McKee', 'Eastman', 'Monterrey', 'Seckinger', 'Scarborough', 'Wilcox', 'Rosa', 'Chestnut', 'Olive', 'Carroll', 'Denny', 'Bortles', 'Robert', 'Ivey', 'Powell', 'Peach', 'Hazel', 'Gatewood', 'WilliamSparks', 'Drones', 'Kingsley', 'Mat', 'Ken', 'Darren', 'Evin', 'Montgomery', 'Manchester', 'Mari', 'LaGrange', 'Greene', 'Parkview', 'Stephens', 'Greenbrier', 'POWELL', 'Pennington', 'Granger', 'Clarke', 'Naomi', 'Quinton', 'Bowen', 'Cagle', 'Senoia', 'WR', 'Montezuma', 'Phoenix', 'Gipson', 'Lovett', 'Upson', 'ELIZABETH', 'Thornton', 'Alcovy', 'Gilmore', 'Bone', 'Williams', 'Downs', 'MACE', 'ACC)-', 'Karl', 'Clinton', 'Kanon', 'Barney', 'Jacksonville', 'Wilburn', 'Walton', 'Marshall', 'Pisgah', 'W', 'Eden', 'Sarah', 'Jake', 'Osbourne', 'Grady', 'Grayson', 'Heritage-Catoosa', 'McWhorter', 'KELLEY', 'Thompson', 'Young', 'Homer', 'Jekyll', 'Lindale', 'Broughton', 'Cordele', 'Maryville', 'Cummins', 'Sibley', 'Sgt', 'Tompkins', 'Winner', 'Hull', 'McDonald', 'Sandy', 'Morgan', 'graham', 'Soccer', 'Winterville', 'Coosa', 'Ripley', 'Barrett', 'Pendergrass', 'Ash', 'Edmonton', 'Ashe', 'Louise', 'Holly', 'Dillon', 'Boulder', 'Daniels', 'Jersey', 'Fleming', 'Panhandle', 'Miller-Meeks', 'Major', 'Osborne', 'Robin', 'Dobbins', 'Rossville', 'Murph', 'Paterson', 'Gilgeous-Alexander', 'Stewart', 'Chelsea', 'JOHNSON', 'Alpine', 'Pink', 'Atkins', 'Jackson', 'Woodall', 'Westside', 'Sprayberry', 'Bowman', 'Parkers', 'Merriweather', 'Lila', 'Faye', 'Lula', 'Vic', 'Sanders', 'Donald', 'Doyle', 'https://runsignup.com/Race/GA/Lawrenceville/GeorgiaRaceforAutism5K10K', 'Goss', 'Allen', 'Winter', 'Dyches', 'Trent', 'Clayton', 'Pitt', 'Whitefield', 'Dumas', 'Westside-Macon', 'Hogansville', 'Doeren', 'Ald', 'Havlen', 'Townsend', 'Bostwick', 'Perie', 'Welch', 'Prior', 'Stratford', 'Leeds', 'Warwick', 'Jeff', 'Screven', 'Burner', 'DeLoach', 'Elizabeth', 'Raleigh', 'Ellard', 'Hatcher', 'Holley', 'Castleberry', 'Wyley', 'Bolton', 'Rex', 'Raulerson', 'Rentz', 'Ellijay', 'Beatrice', 'Merriam-Webster', 'Erwin', 'Stephens-Brown', 'Axon', 'Euharlee', 'Pettersen', 'Wes', 'Tyree', 'Bermuda', 'McGREGOR', 'Sumter', 'Nash', 'ex-Albert', 'Ponderosa', 'Raymond', 'Tara', 'Nicholson', 'Seagraves', 'LaFayette', 'STEWART', 'Alto', 'Cobb', 'Adams', 'Liberty', 'Conner', 'Roswell', 'Sewanee', 'Helaena', 'Dallis', 'Apalachee', 'DeSoto', 'Harrison', 'Kirk', 'McIntyres', 'Aemma', 'Sacketts', 'Triton', 'Roper', 'Hightower', 'Kempe', 'Temple', 'Brownlee', 'Washington', 'Phelps', 'Brantley', 'Kings', 'Dennis', 'Bluff', 'Oliver', 'Ambrose', 'Loudermilk-Young', 'Wrightsville', 'Hanna', 'Armstrong', 'Limerick', 'Oglethorpe', 'Lakeside', 'Edens', 'Chippewa', 'Faw', 'DeWitt', 'Noble', 'McDaniel', 'BBB', 'Petty', 'Waltons', 'Bradley', 'Dickey', 'Dougherty', 'Potter', 'Oliver]', 'Raoul', 'Huntsville', 'Aubrey', 'Butler', 'Stephen', 'Booster', 'Ragsdale', 'Jordan', 'Ninety', 'Covington', 'Morningside', 'Mayo', 'Webber', 'Cook', 'Ga', 'Hammond', 'Colquitt', 'Bogart', 'Haupert-Johnson', 'Cornell', 'Rains', 'Bernie', 'Thunderbolt', 'Rising', 'cook', 'Cameron', 'Vincent', 'Livingston', 'Pickers', 'Together', 'Eureka', 'Roberto', 'Phillips', 'Northside', 'Rollins', 'Stratton', 'Scott', 'Tiger', 'Camden', 'Jefferson', 'Coles', 'Hood', 'Norm', 'Vikings', 'Harding', 'Bulloch', 'Baldwin', 'Vaughan', 'Haralson', 'Roberta', 'Kerry', 'Fitzgerald', 'Bass', 'Woodland', 'Ball', 'Juliet', 'Bath', 'Harper', 'baker', 'Martinez', 'Richman', 'Berkley', 'Isabella', 'Waters', 'Tucker', 'Polsani', 'Beall', 'Ty', 'Duluth', 'Hammer', 'Mitch', 'Roy', 'RUSSELL', 'Browning', 'Sirmons', 'McIntosh', 'Romeo', 'Luke', 'Lynn', 'Alexandria', 'Douglasville', 'Hines', 'Adairsville', 'Polk', 'Mullen', 'Scotbilt', 'Ypsilanti', 'Troup', 'Bridgewater', 'George', 'Laurens', 'Register', 'Flynt', 'CI', 'Danielsville', 'Trion', 'Stevens', 'Statesboro', 'Jenni', 'Ashburn', 'Montebello', 'Enclave', 'Kelley', 'Emmanuel', 'Karefa-Johnson', 'Lilia', 'ESTELLE', 'Bacon', 'Cunning', 'Beverly', 'Providence', 'Rec', 'Renfrow', 'Stark', 'Bat', 'Perkins', 'Warfield', 'Dooley', 'Umontuen', 'Georgie', 'Gordon', 'Willey', 'Springer', 'Osborn', 'Alex]', 'Lauren', 'Ashton', 'Thomas', 'Mooney', 'Aplington-Parkersburg', 'Buford', 'Tillman', 'Wheeler', 'Shelly', 'Berkmar', 'Walden', 'Sr', 'Zebulon', 'Harlow', 'Brookhill', 'Lassiter', 'Barnesville', 'Walker', 'Ethridge', 'Mullen.', 'Hancock', 'Maysville', 'Robinson', 'Chamblee', 'Mercer', 'Herring', 'Tigger', 'Stockton', 'Irwin', 'Pyke', 'Cartecay', 'Cannon', 'Melo', 'Henderson', 'Dempsey', '11:51', 'Hazzard', 'Al', 'Coal', 'Hilton', 'Lamar', 'Sky', 'Hillgrove', 'Rayle', 'Mackinnon', 'Stallings', 'Siloam', 'Coleman', 'Holtzman', 'Maxwell', 'Wellington', 'George,', 'Moultrie', 'Preston', 'McDaniels', 'Sharon', 'Brookwood', 'Alie-Cox', 'Hagan', 'Gainesville', 'Molina', 'Gibson', 'Hillside', 'Alexander', 'Meigs', 'Evelyn', 'Logan', 'Nelson', 'Nikolai', 'Warren', 'Pts', 'Beach', 'Lindell', 'Kimberly', 'Glasgow', 'Carlton', 'Bolgla', 'Demorest', 'Neville', 'Barrow', 'Nottingham', 'Claxton', 'Gray', 'Elba', 'MacDonald', 'Neil', 'Odessa', 'Stockbridge', 'Ema', 'Marie', 'Deerfield', 'Stonewall', 'Westberry', 'Walthour', 'Westgate', 'Berrien', 'Scot', 'Wiete', 'Lamont', 'Kell', 'Caudelle', 'Birdie', 'Spooner', 'Ferry', 'Neal', 'Grubbs', 'Telfair', 'Woodlawn', 'Burnett', 'Christopher', 'Nicolas', 'Noonan', 'Newman', 'Darrisaw', 'N.W.', 'Cherokees', 'Redan', 'Victoria', 'Gragson', 'Lili', 'Deloach', 'Hutchinson', 'LEE', 'Therrell', 'Rockmart', 'Baxter', 'Boden', 'Nichols', 'Bucha', 'Sherrod', 'Glisson', 'Argyle', 'Mayfield', 'Dade', 'Woodstock', 'Magnolia', 'Forsyth', 'Harp', 'Calhoun', 'Godfrey', 'Wizard', 'Marlowe', 'Gilmer', '00:32', 'Canon', 'Pierson', 'Meeks', 'Green', 'McEachern', 'Floyd', 'Batt', 'Donovan', 'Goldfein', 'Pearson', 'Lee-Curtis', 'Fulcher', 'Durden', 'McEntire', 'Greensboro', 'Collie', 'Aikens', 'Williamson', 'Sanford', 'Georgians', 'Elder', 'Katherine', 'Pickens', 'Emma', 'Barker', 'WAYNE', 'Maddox', 'Ringgold', 'Heard', 'Wesley', 'Raines', 'Lowndes', 'Johnson-Gainesville', 'www.georgiasouthern.edu/pac', 'Hephzibah', 'Circle', 'Mariana', 'Cuthbert', 'Whitlock', 'Riverside', 'Griffiths', 'Howard', 'Bluffton', 'Spurlin', 'Eaton', 'Tom', 'Rogers', 'Franklin', 'Pebblebrook', 'Chester', 'Whitewater', 'CDT', 'Hedingham', 'Helene', 'Wrens', 'Bobo', 'Spelman', 'Hinesville', 'Jenkins', 'Trimble', 'Irving', 'Celeste', 'Cary', 'Cochran', 'Reynolds', 'Dracula', 'McBride', 'LaGuardia', 'Fields', 'Leslie', 'Everett', 'McDuffie', 'Evnen', 'Jewel', 'Reinhardt', 'Blanton', 'Lehigh', 'Krei', 'Myrtle', 'Camille', 'Charlton', 'Howell', 'Dillmon', 'DeLonge', 'Deadwyler', 'Juno', 'Airsoft', 'Chastain', 'Eatonton', 'McCaysville', 'Frederica', 'Bainbridge', 'Lee', 'Armuchee', 'JLCM', 'McDonagh', 'Tate', 'Mrvan', 'WCHS', 'FLOYD', 'Tygart', 'Redmond', 'Corben', 'Kelly', 'Rhinehart', 'Tollison', 'Moreland', 'High', 'Laney', 'Romo', 'Miner', 'Hoult', 'Sycamore', 'Mariota', 'Jarrett', 'Edman', 'Emanuel', 'Barnes', 'Graves', 'Hutchins', 'Keller', 'Bonneville', 'FORSYTH', 'Martín', 'TAYLOR', 'Savannah', 'Royal', 'Vinings', 'Piedmont', 'Perrie', 'LAWRENCE', 'BAKER', 'Pittman', 'Mirren', 'Alker', 'Sautee', 'Willett', 'Don', 'AL-ANON', 'Hoschton', 'Grandy', 'Alvin', 'Edgewater', 'Rodgers', 'Denis', 'Highway', 'Richardson', 'Walters', 'Lavina', 'Berry', 'Chattooga', 'Dalton', 'Crisp', 'Yates', 'Dewitt', 'Jesus', 'Melton', 'Hoover', 'Wilder', 'John', 'Luella', 'Milner', 'Cox', 'Omahan', 'Somerset', 'Giddens', 'Holcomb', 'Len', 'Cass', 'Henry', 'Goff', 'Coolidge', 'Ellen', 'Bailey', 'Joliet', 'Salam', 'Sardis', 'Augusta', 'Brandon', 'Joel', 'Wayne', 'Eason', 'Copeland', 'Walkers', 'Four-Ball', 'Talula', 'Swanson', 'Windrush', 'Freeman', 'Wilkinson', 'Constantine', 'Wesleyan', 'Greenbriar', 'Colman', 'Matt', 'Soto', 'Abel', 'Bruton', 'Hardwick', 'Claus', 'Athens', 'Lytle', 'Gucci', 'Milton', 'Reed', 'Whitman', 'Juneau', 'Spence', 'Barner', 'Lea', 'Studio', 'Cowan', 'Adele', 'Cotton', 'Kate', \"Louis'\", 'Elton', 'al', 'Pumpkins', 'Lillie', 'Bridges', 'Kansan', 'Kinlaw', 'Lewis-Nyawo', 'Marner', 'Stinchcomb', 'Dumas-Johnson', 'Lafayette', 'gore', 'Thomsen', 'Corbitt', 'Westwood', 'llamar', 'Line', 'Gravitt', 'Emory', 'Tallapoosa', 'Garland', 'GeorgiaCares', 'McCravy', '01:32', 'Hopkins', 'Princeton', 'Marks', 'Elko', 'Kimberley', 'Tal', 'Cornelius', 'Braselton', 'Elberton', 'Pelham', 'Loganville', 'Barnett', 'KEMP', 'Breen', 'Roxanne', 'Mitchell', 'Dunagan', 'Buckeye', 'Price', 'Long', 'Doran', 'Murphy', 'Betts', 'Lakeland', 'Hamilton', 'Lincoln', 'Irvine', 'Dub', 'Presley', 'Barkley', 'Stafford', 'Etowah', 'Mathew', 'Murray', 'Andersen', 'Hendley', 'McCrary', 'Fitzpatrick', 'Kingsbury', 'Wander', 'Bishop', 'Hudson', 'Ally', 'Galloway', 'Saunders', 'Julia', 'McClure', 'Hogan', 'Gertrude', 'Metcalf', 'Dudley', 'Marion', 'Britt', 'Hartwick', 'AL', 'Drayton', 'Gwyneth', 'Evansville', 'Gerard', 'Effingham', 'Hooper', 'Thomaston', 'Pruitt', 'Rebeka', 'Alma', 'Branch', 'Sand', 'Carvana', 'Lowery', 'Highlands', 'Hayes', 'Carey', 'Folkston', 'Al-Anon', 'Bryan', 'Dunn', 'Crawford', 'Douglass', 'Mayfairs', 'Wilmington', 'Reno', 'Benton', 'Ellington', 'Johnson', 'Burrow', 'Gardner', 'Huntington-Ashland', 'Warrington', 'Daniel', 'Dexter', 'Gowens', 'Resaca', 'Oostanaula', 'Linton', 'White', 'Basley', 'Camilla', 'Kramer', 'Herndon', 'Ollie', 'Hahira', 'Clearwater', 'Seminoles', 'Hawkins', 'Glenn', 'Radloff', 'Frazier', 'Hillmon', 'Leo', 'Drew', 'Naylor', 'Malone', 'Madison', 'Suwanee', 'BF.7', 'Grandview', 'Matthew', 'Kemp', 'Wiley', 'Tumlin', 'Plains', 'Willard', 'Dawsonville', 'Atkinson', 'Weatherford', 'Westfield', 'Smarr', 'Andersson', 'Gainey', 'Lillian', 'Whitney', 'Blackwood', 'Elbert', 'Martínez', 'Compton', 'Newnan', 'Oconee', 'Varsity', 'Reynold', 'Omega', 'Lulu', 'Starr', 'Rose', 'Hubert', 'Pearl', 'Ila', 'Winder', 'Barstow', 'Chatman', 'McGregor', 'Midday', 'Caldwell', 'Rehobeth', 'Glennville', 'Circles', 'Hartsfield', 'Saxon', 'Linden', 'Tattnall', 'Eugene-Springfield', 'Eva', 'Summer', 'Whitmeyer', 'Pacelli', 'Diamond', 'Benedict', 'Huston', 'Connelly', 'Aten', 'Reeve', 'Jones', 'Gasps', 'Underwood', 'Lyons', 'Morton', 'Conley', 'Bullock', 'Maynard', 'Vega', 'Coney', 'Alby', 'Netter', 'Edgewood', 'Martin', 'Bucknell', 'Cowart', '00:34', 'Clay', 'Scottsboro', 'Sonia', 'Camella', 'Pataula', 'Thomson', 'Ainsley', 'Westport', 'Stuckeys', 'Dale', 'Harrelson', 'Lester', 'Tifton', 'Greenwood', 'Hen', 'Burk', 'Garfield', 'Duncanville', 'Garlin', 'Fiveash', 'Coley', 'Kathleen', 'Midlands', 'Sanderson', 'Kinnamon', 'Fish', 'Val', 'Maryn', 'Gwinnett', 'Mansfield', 'Roger', 'Meansville', '9:51', 'Fry', 'Bibb', 'Hal', 'Ernest', 'Dorsett', 'Blount', 'Cathleen', 'Gresham', 'Damien', 'Ellis', 'Byron', 'Margaret', 'Waterloo', 'CI]', 'Chatsworth', 'Oasis', 'Kingsport-Bristol', 'Trudy', 'Talulah', 'Sylvester', 'Minter', 'Skyline', 'Ann', 'Echols', 'Rylee', 'Adel', 'Westminster', 'Mini', 'Winchester', 'Zeigler', 'Bragg', 'Norman', 'Shanna', 'Beard', 'Webb', 'Stuart', 'Chatham', 'Rebecca', 'Alexis', 'Turman', 'https://www.ultrasignup.com/register.aspx?did=94921', 'Barretts', 'Sterling', 'Taylor', 'Melody', 'berry', 'Bryce', 'Roundtree', 'Hartley', 'Fannin-Render', 'Buchanan', 'Wear', 'Clifton', 'Gema', 'Whatley', 'McCall', 'Lithuanian', 'Worth', 'Wilkison', 'Carrollton', 'Dorsey', 'Lilley', 'Superintendent', 'Babcock', 'Patten', 'Bowdon', 'Braxton', 'Morris', 'Elwood', 'Hapeville', 'Deering', 'Millen', 'Howard]', 'Brogdon', 'Arcade', 'DeKalb', 'Brooker', 'Brookhaven', 'Richfield', 'Alexandra', 'Jesup', 'Bartlett', 'Sandersville', 'Rupert', 'Bryant', 'Gay', 'Denmark', 'Mulberry', 'Jump', 'Wiregrass', 'Evans', 'Keysville', 'Clarkesville', 'Pre-K', 'Bogaerts', 'Graham', 'Rayburn', 'Canady', 'Horne', 'Cassandra', 'Jeannie', 'McCullough', 'Paine', 'Griffith', 'Atwater', 'Shawnee', 'Leary', 'Griggs', 'Branson', 'Hawkinsville', 'Odom', 'Ola', 'Austell', 'Clarksville', 'Edith', 'Heri', 'Whitley-Garner', 'Moss', 'Greys', 'Memorial', 'Milledgeville', 'Barber', 'Kennedy', 'Doug', 'Lyon', 'Veach', 'Brunswick', 'Clement', 'Dahlonega', 'Nicholas', 'Langford', 'Kirby', 'CHRISTOPHER', 'Colbert', 'Johnson-Brock', 'Plymel', 'Hiram', 'Barley', 'Flemington', 'Brock', 'Brooks', 'Elijah', 'Lilburn', 'Foxboro', 'gwinnett', 'Gary', 'Demarest', 'BR', 'Centerville', 'Denise', 'Cyril', 'Moran', 'Carol', 'Dora', 'Buffington', 'Allie', 'Jonesboro', 'County', 'Garrison', \"O'Neal\", 'Meadowcreek', 'Marty', 'Cobert', 'Forrester', 'Perry', 'Thomasville', 'Metter', 'Ebenezer', 'Lumpkin', 'Simpson', 'Zion', 'Millian', 'Carl', 'Floyd.org/Mammogram', 'Helen', 'Northview', 'Middleton', 'ANDERSON', 'Baggett', 'Kelli', 'Kiker', 'Durham', 'Fairchild', 'Owen', 'Webster', 'Godfree', 'Caruso', 'Mora', 'Ray', 'Willie', 'Whiten', 'Fairbairn', 'Genoa', 'Fannin', 'James', 'Nelms', 'Lawrence', 'McCallie', 'Chattanooga', 'SoCal', 'Upton', 'Monticello', 'Rack-O', 'DENVER', 'Belin', 'Shenault', 'Yorkrite', 'Thomason', 'Daugherty', 'Rebekah', 'Macron', 'Ross', 'Riverdale', 'Beaches', 'Abilene', 'McMullen', 'Marietta', 'Grey', 'Renfroe', 'Goolsby', 'Wimberly', 'Lindsey', 'Ranger', 'FOXBORO', 'Thomas-Oliver', 'Nestle', 'Madonna', 'Glynn', 'Skipper', 'Berman', 'Scarlet', 'Lorenzo', 'Peaches', 'Pierce', 'Nixon', 'Sasser', 'Daisy', 'Peljovich', 'Keith', 'Willy', 'Baumann', 'Linder', 'Dillard', '8:51', 'Thommy', 'Kyle', 'Atlas', 'https://www.eventeny.com/events/vendor/?id=5881', 'Collier', 'Rhodes', 'McPherson', 'Grow', 'Gore', 'Cartersville', 'Kamille', 'Monroe', 'Purvis', 'Retina', 'Guyton', '01:46', 'Lions', 'Juliette', 'Alfredo', 'Coweta', 'Baker', 'Glascock', 'Dalt', 'Bloomfield', 'Conyers', 'WILLIAMS', 'Clark', 'Rockdale', 'Meadows', 'Ziegler']\n",
            "1441\n"
          ]
        }
      ]
    },
    {
      "cell_type": "code",
      "source": [
        "# remove bracket and quotes\n",
        "df['ner_places_orgs_clean'] = df['ner_places_orgs'].astype(str).apply(lambda x: re.sub(r'[{}]', '', x))\n",
        "#df['ner_places_clean'] = df['ner_places_clean'].str.replace(r\" \\(GPE\\)\",\"\")\n",
        "df['ner_places_orgs_clean'] = df['ner_places_orgs_clean'].str.replace(r\"\\', \\'\", \" \")\n",
        "df['ner_places_orgs_clean'] = df['ner_places_orgs_clean'].str.rstrip(\"'\")\n",
        "df['ner_places_orgs_clean'] = df['ner_places_orgs_clean'].str.lstrip(\"'\")\n",
        "\n"
      ],
      "metadata": {
        "colab": {
          "base_uri": "https://localhost:8080/"
        },
        "id": "OdGflXnZUISK",
        "outputId": "bfa7eec1-2dd3-4ea7-a7b0-5980fa758900"
      },
      "execution_count": null,
      "outputs": [
        {
          "output_type": "stream",
          "name": "stderr",
          "text": [
            "<ipython-input-35-f0dd36788dd3>:4: FutureWarning: The default value of regex will change from True to False in a future version.\n",
            "  df['ner_places_orgs_clean'] = df['ner_places_orgs_clean'].str.replace(r\"\\', \\'\", \" \")\n"
          ]
        }
      ]
    },
    {
      "cell_type": "code",
      "source": [
        "# remove bracket and quotes\n",
        "df['ner_person_clean'] = df['ner_person'].astype(str).apply(lambda x: re.sub(r'[{}]', '', x))\n",
        "#df['ner_places_clean'] = df['ner_places_clean'].str.replace(r\" \\(GPE\\)\",\"\")\n",
        "df['ner_person_clean'] = df['ner_person_clean'].str.replace(r\"\\', \\'\", \" \")\n",
        "df['ner_person_clean'] = df['ner_person_clean'].str.rstrip(\"'\")\n",
        "df['ner_person_clean'] = df['ner_person_clean'].str.lstrip(\"'\")\n",
        "\n"
      ],
      "metadata": {
        "colab": {
          "base_uri": "https://localhost:8080/"
        },
        "id": "G0pkzdXhI-3C",
        "outputId": "df535d42-6a7f-417b-93fa-1c833382d6fb"
      },
      "execution_count": null,
      "outputs": [
        {
          "output_type": "stream",
          "name": "stderr",
          "text": [
            "<ipython-input-17-7945c3ae87cb>:4: FutureWarning: The default value of regex will change from True to False in a future version.\n",
            "  df['ner_person_clean'] = df['ner_person_clean'].str.replace(r\"\\', \\'\", \" \")\n"
          ]
        }
      ]
    },
    {
      "cell_type": "code",
      "source": [
        "\n",
        "# only for what spaCy found\n",
        "\n",
        "df['person_ner1'] = df['ner_person_clean'].astype(str).apply(lambda x: set.intersection(set(x.split(' ')), word_unigrams_done))\n",
        "df['person_ner2'] = df['ner_person_clean'].astype(str).apply(lambda x: [i for i in word_bigrams_done if i in x])\n",
        "\n"
      ],
      "metadata": {
        "id": "yaNXAtOFLJtw"
      },
      "execution_count": null,
      "outputs": []
    },
    {
      "cell_type": "code",
      "source": [
        "\n",
        "# only for what spaCy found\n",
        "\n",
        "df['person_ner3'] = df['ner_places_orgs_clean'].astype(str).apply(lambda x: set.intersection(set(x.split(' ')), word_unigrams_done))\n",
        "df['person_ner4'] = df['ner_places_orgs_clean'].astype(str).apply(lambda x: [i for i in word_bigrams_done if i in x])\n",
        "\n"
      ],
      "metadata": {
        "id": "nJ6P4Xe3UPPc"
      },
      "execution_count": null,
      "outputs": []
    },
    {
      "cell_type": "code",
      "source": [
        "# ner identification\n",
        "\n",
        "df_temp1 = df[(df['person_ner1'].str.len()) >= 1]\n",
        "df_temp2 = df[(df['person_ner2'].str.len()) >= 1]\n",
        "df_temp3 = df[(df['person_ner3'].str.len()) >= 1]\n",
        "df_temp4 = df[(df['person_ner4'].str.len()) >= 1]\n",
        "\n",
        "df_temp1 = df_temp1[['id', 'source', 'person_ner1', 'article_final']]\n",
        "df_temp2 = df_temp2[['id', 'source', 'person_ner2', 'article_final']]\n",
        "df_temp3 = df_temp3[['id', 'source', 'person_ner3', 'article_final']]\n",
        "df_temp4 = df_temp4[['id', 'source', 'person_ner4', 'article_final']]\n",
        "\n",
        "df_temp1_exp = df_temp1.explode('person_ner1')\n",
        "df_temp2_exp = df_temp2.explode('person_ner2')\n",
        "df_temp3_exp = df_temp3.explode('person_ner3')\n",
        "df_temp4_exp = df_temp4.explode('person_ner4')\n",
        "\n",
        "df_temp1_exp = df_temp1_exp.rename(columns={'person_ner1': 'person_ner'})\n",
        "df_temp2_exp = df_temp2_exp.rename(columns={'person_ner2': 'person_ner'})\n",
        "df_temp3_exp = df_temp3_exp.rename(columns={'person_ner3': 'person_ner'})\n",
        "df_temp4_exp = df_temp4_exp.rename(columns={'person_ner4': 'person_ner'})\n",
        "\n",
        "df_ng_all2 = pd.concat([df_temp1_exp, df_temp2_exp, df_temp3_exp, df_temp4_exp])\n",
        "\n",
        "df_sentence = df_ng_all2[['id', 'article_final']].drop_duplicates(subset=['id', 'article_final'])\n"
      ],
      "metadata": {
        "id": "Lv8JfGN7I5ng"
      },
      "execution_count": null,
      "outputs": []
    },
    {
      "cell_type": "code",
      "source": [
        "len(df_sentence)"
      ],
      "metadata": {
        "colab": {
          "base_uri": "https://localhost:8080/"
        },
        "id": "MEKz0mmkVdlz",
        "outputId": "0db6d8fd-a207-406f-f2f5-9a64843ba9cd"
      },
      "execution_count": null,
      "outputs": [
        {
          "output_type": "execute_result",
          "data": {
            "text/plain": [
              "128641"
            ]
          },
          "metadata": {},
          "execution_count": 38
        }
      ]
    },
    {
      "cell_type": "code",
      "source": [
        "\n",
        "# split an article into sentences\n",
        "\n",
        "from nltk.tokenize import sent_tokenize\n",
        "by_sentence = df_sentence['article_final'].apply(lambda x : sent_tokenize(x)).apply(pd.Series,1).stack()\n",
        "by_sentence_df = pd.DataFrame(by_sentence)\n",
        "by_sentence_df.rename(columns={0:'sentence_each'}, inplace=True)\n",
        "\n",
        "by_sentence_df['sentence_turn'] = by_sentence_df.index.get_level_values(1)\n",
        "by_sentence_df.index = by_sentence_df.index.get_level_values(0)\n",
        "\n",
        "merge_uni = pd.merge(df_ng_all2, by_sentence_df, left_index=True, right_index=True)\n",
        "\n",
        "merge_uni['search_words'] = merge_uni.apply(lambda x: x.person_ner in x.sentence_each, axis=1)\n",
        "\n",
        "merge_uni_TRUE = merge_uni[merge_uni['search_words']==True]"
      ],
      "metadata": {
        "id": "gifJ_zqSORTv"
      },
      "execution_count": null,
      "outputs": []
    },
    {
      "cell_type": "code",
      "source": [
        "merge_uni_TRUE_st = merge_uni_TRUE[['id','source','person_ner','sentence_each']]\n",
        "merge_temp = merge_uni_TRUE_st.groupby('person_ner').count() #\n"
      ],
      "metadata": {
        "id": "ax1BNEioOo5r"
      },
      "execution_count": null,
      "outputs": []
    },
    {
      "cell_type": "code",
      "source": [
        "\n",
        "# articles mentioned a location less than 10\n",
        "merge_temp_less10 = merge_temp[merge_temp['sentence_each'] < 10].reset_index()\n",
        "merge_temp_less10_places = merge_temp_less10.person_ner.values.tolist()\n"
      ],
      "metadata": {
        "id": "8tLjELEtPx27"
      },
      "execution_count": null,
      "outputs": []
    },
    {
      "cell_type": "code",
      "source": [
        "merge_uni_TRUE_st_less10 = merge_uni_TRUE_st[merge_uni_TRUE_st['person_ner'].isin(merge_temp_less10_places)]\n"
      ],
      "metadata": {
        "id": "Vl0GZYoIaIuG"
      },
      "execution_count": null,
      "outputs": []
    },
    {
      "cell_type": "code",
      "source": [
        "len(merge_temp_less10_places)"
      ],
      "metadata": {
        "colab": {
          "base_uri": "https://localhost:8080/"
        },
        "id": "HTr7wQInS44r",
        "outputId": "dc5b57a1-2e66-470c-ddf0-07076cd153f7"
      },
      "execution_count": null,
      "outputs": [
        {
          "output_type": "execute_result",
          "data": {
            "text/plain": [
              "2874"
            ]
          },
          "metadata": {},
          "execution_count": 47
        }
      ]
    },
    {
      "cell_type": "code",
      "source": [
        "\n",
        "# articles mentioned a location more than 10 --> random sample\n",
        "\n",
        "merge_uni_TRUE_st_rest = merge_uni_TRUE_st[~merge_uni_TRUE_st['person_ner'].isin(merge_temp_less10_places)]\n",
        "merge_uni_TRUE_st_more10 = merge_uni_TRUE_st_rest.groupby('person_ner').apply(lambda x: x.sample(10, replace=False)).reset_index(drop=True)"
      ],
      "metadata": {
        "id": "DATs-5zsP0TK"
      },
      "execution_count": null,
      "outputs": []
    },
    {
      "cell_type": "code",
      "source": [
        "# merge 10 samples + those with less than 10 \n",
        "merge_all = pd.concat([merge_uni_TRUE_st_more10, merge_uni_TRUE_st_less10]).reset_index()"
      ],
      "metadata": {
        "id": "Uuz3JgafZ0bc"
      },
      "execution_count": null,
      "outputs": []
    },
    {
      "cell_type": "code",
      "source": [
        "\n",
        "merge_all = merge_all.sort_values('person_ner')\n",
        "merge_all['sentenceID'] = merge_all.groupby('person_ner')['person_ner'].rank(method='first')\n",
        "\n",
        "merge_all_pivot = merge_all.pivot(index='person_ner', columns = 'sentenceID', values='sentence_each').reset_index()\n",
        "\n",
        "merge_all_pivot.rename(columns={1:'s1', 2:'s2', 3:'s3', 4:'s4', 5:'s5', 6:'s6', 7:'s7', 8:'s8', 9:'s9', 10:'s10'}, inplace=True)\n"
      ],
      "metadata": {
        "id": "dYuIagGOPHw0"
      },
      "execution_count": null,
      "outputs": []
    },
    {
      "cell_type": "code",
      "source": [
        "merge_all_pivot"
      ],
      "metadata": {
        "colab": {
          "base_uri": "https://localhost:8080/",
          "height": 1000
        },
        "id": "KTKh0s3Faj7m",
        "outputId": "920be3b7-8c30-41e5-de15-752417ed634e"
      },
      "execution_count": null,
      "outputs": [
        {
          "output_type": "execute_result",
          "data": {
            "text/plain": [
              "sentenceID                             person_ner  \\\n",
              "0                                  -- Cal Raleigh   \n",
              "1                                 -- Kyler Murray   \n",
              "2                                           00:32   \n",
              "3                                           00:34   \n",
              "4                                           01:46   \n",
              "...                                           ...   \n",
              "7437                                squirrel hunt   \n",
              "7438        the John J. Cochran Veterans Hospital   \n",
              "7439                           the Marilyn Monroe   \n",
              "7440                  www.georgiasouthern.edu/pac   \n",
              "7441                               “Van Lear Rose   \n",
              "\n",
              "sentenceID                                                 s1  \\\n",
              "0           Seattle Mariners -- Cal Raleigh, who launched ...   \n",
              "1           For the Cardinals -- who haven't won at home s...   \n",
              "2           Protest against Iranian policies held in Westw...   \n",
              "3           Secret Walls paint competition happening Wedne...   \n",
              "4           Fire burns suspected pot growing operation in ...   \n",
              "...                                                       ...   \n",
              "7437        Watch CBS News\\nUncle accidentally shoots neph...   \n",
              "7438        Earlier this week the restaurant announce the ...   \n",
              "7439             Farrah was the Marilyn Monroe of the moment.   \n",
              "7440        Tickets available by calling (912) 478-7999, b...   \n",
              "7441        “Van Lear Rose” was a collaboration with rocke...   \n",
              "\n",
              "sentenceID                                                 s2  \\\n",
              "0           Seattle Mariners -- Cal Raleigh, who launched ...   \n",
              "1           For the Cardinals -- who haven't won at home s...   \n",
              "2           Gunpoint robbery caught on video in Queens\\nGu...   \n",
              "3           Report: Orioles hired Goldman Sachs to assess ...   \n",
              "4           CIA director on Putin's draft and nuclear thre...   \n",
              "...                                                       ...   \n",
              "7437        Uncle accidentally shoots nephew during squirr...   \n",
              "7438        Earlier this week the restaurant announce the ...   \n",
              "7439             Farrah was the Marilyn Monroe of the moment.   \n",
              "7440        Tickets available by calling (912) 478-7999, b...   \n",
              "7441        “Van Lear Rose” was a collaboration with rocke...   \n",
              "\n",
              "sentenceID                                                 s3  \\\n",
              "0           Seattle Mariners -- Cal Raleigh, who launched ...   \n",
              "1           For the Cardinals -- who haven't won at home s...   \n",
              "2           Temple University holds gala at Met honoring i...   \n",
              "3                                                         NaN   \n",
              "4           Ford Unveils 2024 Mustang\\nFord Unveils 2024 M...   \n",
              "...                                                       ...   \n",
              "7437        Uncle accidentally shoots nephew during squirr...   \n",
              "7438        Earlier this week the restaurant announce the ...   \n",
              "7439             Farrah was the Marilyn Monroe of the moment.   \n",
              "7440        Tickets available by calling (912) 478-7999, b...   \n",
              "7441        Long after her commercial peak, Lynn won two G...   \n",
              "\n",
              "sentenceID                                                 s4  \\\n",
              "0           Seattle Mariners -- Cal Raleigh, who launched ...   \n",
              "1           For the Cardinals -- who haven't won at home s...   \n",
              "2           I-Team: Serial bank robber arrested for attemp...   \n",
              "3                                                         NaN   \n",
              "4           Ravens prepare for Sunday square off against N...   \n",
              "...                                                       ...   \n",
              "7437                                                      NaN   \n",
              "7438        Earlier this week the restaurant announce the ...   \n",
              "7439             Farrah was the Marilyn Monroe of the moment.   \n",
              "7440        Tickets available by calling (912) 478-7999, b...   \n",
              "7441        Long after her commercial peak, Lynn won two G...   \n",
              "\n",
              "sentenceID                                                 s5  \\\n",
              "0           Seattle Mariners -- Cal Raleigh, who launched ...   \n",
              "1           For the Cardinals -- who haven't won at home s...   \n",
              "2           15-year-old girl sexually assaulted on bike pa...   \n",
              "3                                                         NaN   \n",
              "4                                                         NaN   \n",
              "...                                                       ...   \n",
              "7437                                                      NaN   \n",
              "7438        Earlier this week the restaurant announce the ...   \n",
              "7439             Farrah was the Marilyn Monroe of the moment.   \n",
              "7440        Tickets available by calling (912) 478-7999, b...   \n",
              "7441        Long after her commercial peak, Lynn won two G...   \n",
              "\n",
              "sentenceID                                                 s6  \\\n",
              "0                                                         NaN   \n",
              "1                                                         NaN   \n",
              "2           Indigenous Coloradans observe Indigenous Peopl...   \n",
              "3                                                         NaN   \n",
              "4                                                         NaN   \n",
              "...                                                       ...   \n",
              "7437                                                      NaN   \n",
              "7438        Earlier this week the restaurant announce the ...   \n",
              "7439             Farrah was the Marilyn Monroe of the moment.   \n",
              "7440        Tickets available by calling (912) 478-7999, b...   \n",
              "7441        Long after her commercial peak, Lynn won two G...   \n",
              "\n",
              "sentenceID                                                 s7  \\\n",
              "0                                                         NaN   \n",
              "1                                                         NaN   \n",
              "2           Tree falls onto parked car, snaps utility pole...   \n",
              "3                                                         NaN   \n",
              "4                                                         NaN   \n",
              "...                                                       ...   \n",
              "7437                                                      NaN   \n",
              "7438        Earlier this week the restaurant announce the ...   \n",
              "7439             Farrah was the Marilyn Monroe of the moment.   \n",
              "7440        Tickets available by calling (912) 478-7999, b...   \n",
              "7441        “Van Lear Rose” was a collaboration with rocke...   \n",
              "\n",
              "sentenceID                                                 s8  \\\n",
              "0                                                         NaN   \n",
              "1                                                         NaN   \n",
              "2                                                         NaN   \n",
              "3                                                         NaN   \n",
              "4                                                         NaN   \n",
              "...                                                       ...   \n",
              "7437                                                      NaN   \n",
              "7438        Earlier this week the restaurant announce the ...   \n",
              "7439             Farrah was the Marilyn Monroe of the moment.   \n",
              "7440        Tickets available by calling (912) 478-7999, b...   \n",
              "7441        Long after her commercial peak, Lynn won two G...   \n",
              "\n",
              "sentenceID                                                 s9  \\\n",
              "0                                                         NaN   \n",
              "1                                                         NaN   \n",
              "2                                                         NaN   \n",
              "3                                                         NaN   \n",
              "4                                                         NaN   \n",
              "...                                                       ...   \n",
              "7437                                                      NaN   \n",
              "7438                                                      NaN   \n",
              "7439                                                      NaN   \n",
              "7440        Visit the Box Office in person Monday-Friday, ...   \n",
              "7441        “Van Lear Rose” was a collaboration with rocke...   \n",
              "\n",
              "sentenceID                                                s10  \n",
              "0                                                         NaN  \n",
              "1                                                         NaN  \n",
              "2                                                         NaN  \n",
              "3                                                         NaN  \n",
              "4                                                         NaN  \n",
              "...                                                       ...  \n",
              "7437                                                      NaN  \n",
              "7438                                                      NaN  \n",
              "7439                                                      NaN  \n",
              "7440        Visit the box office in person Monday-Friday, ...  \n",
              "7441        Long after her commercial peak, Lynn won two G...  \n",
              "\n",
              "[7442 rows x 11 columns]"
            ],
            "text/html": [
              "\n",
              "  <div id=\"df-8ec11a5b-9f65-446a-aa74-1b09dacd1323\">\n",
              "    <div class=\"colab-df-container\">\n",
              "      <div>\n",
              "<style scoped>\n",
              "    .dataframe tbody tr th:only-of-type {\n",
              "        vertical-align: middle;\n",
              "    }\n",
              "\n",
              "    .dataframe tbody tr th {\n",
              "        vertical-align: top;\n",
              "    }\n",
              "\n",
              "    .dataframe thead th {\n",
              "        text-align: right;\n",
              "    }\n",
              "</style>\n",
              "<table border=\"1\" class=\"dataframe\">\n",
              "  <thead>\n",
              "    <tr style=\"text-align: right;\">\n",
              "      <th>sentenceID</th>\n",
              "      <th>person_ner</th>\n",
              "      <th>s1</th>\n",
              "      <th>s2</th>\n",
              "      <th>s3</th>\n",
              "      <th>s4</th>\n",
              "      <th>s5</th>\n",
              "      <th>s6</th>\n",
              "      <th>s7</th>\n",
              "      <th>s8</th>\n",
              "      <th>s9</th>\n",
              "      <th>s10</th>\n",
              "    </tr>\n",
              "  </thead>\n",
              "  <tbody>\n",
              "    <tr>\n",
              "      <th>0</th>\n",
              "      <td>-- Cal Raleigh</td>\n",
              "      <td>Seattle Mariners -- Cal Raleigh, who launched ...</td>\n",
              "      <td>Seattle Mariners -- Cal Raleigh, who launched ...</td>\n",
              "      <td>Seattle Mariners -- Cal Raleigh, who launched ...</td>\n",
              "      <td>Seattle Mariners -- Cal Raleigh, who launched ...</td>\n",
              "      <td>Seattle Mariners -- Cal Raleigh, who launched ...</td>\n",
              "      <td>NaN</td>\n",
              "      <td>NaN</td>\n",
              "      <td>NaN</td>\n",
              "      <td>NaN</td>\n",
              "      <td>NaN</td>\n",
              "    </tr>\n",
              "    <tr>\n",
              "      <th>1</th>\n",
              "      <td>-- Kyler Murray</td>\n",
              "      <td>For the Cardinals -- who haven't won at home s...</td>\n",
              "      <td>For the Cardinals -- who haven't won at home s...</td>\n",
              "      <td>For the Cardinals -- who haven't won at home s...</td>\n",
              "      <td>For the Cardinals -- who haven't won at home s...</td>\n",
              "      <td>For the Cardinals -- who haven't won at home s...</td>\n",
              "      <td>NaN</td>\n",
              "      <td>NaN</td>\n",
              "      <td>NaN</td>\n",
              "      <td>NaN</td>\n",
              "      <td>NaN</td>\n",
              "    </tr>\n",
              "    <tr>\n",
              "      <th>2</th>\n",
              "      <td>00:32</td>\n",
              "      <td>Protest against Iranian policies held in Westw...</td>\n",
              "      <td>Gunpoint robbery caught on video in Queens\\nGu...</td>\n",
              "      <td>Temple University holds gala at Met honoring i...</td>\n",
              "      <td>I-Team: Serial bank robber arrested for attemp...</td>\n",
              "      <td>15-year-old girl sexually assaulted on bike pa...</td>\n",
              "      <td>Indigenous Coloradans observe Indigenous Peopl...</td>\n",
              "      <td>Tree falls onto parked car, snaps utility pole...</td>\n",
              "      <td>NaN</td>\n",
              "      <td>NaN</td>\n",
              "      <td>NaN</td>\n",
              "    </tr>\n",
              "    <tr>\n",
              "      <th>3</th>\n",
              "      <td>00:34</td>\n",
              "      <td>Secret Walls paint competition happening Wedne...</td>\n",
              "      <td>Report: Orioles hired Goldman Sachs to assess ...</td>\n",
              "      <td>NaN</td>\n",
              "      <td>NaN</td>\n",
              "      <td>NaN</td>\n",
              "      <td>NaN</td>\n",
              "      <td>NaN</td>\n",
              "      <td>NaN</td>\n",
              "      <td>NaN</td>\n",
              "      <td>NaN</td>\n",
              "    </tr>\n",
              "    <tr>\n",
              "      <th>4</th>\n",
              "      <td>01:46</td>\n",
              "      <td>Fire burns suspected pot growing operation in ...</td>\n",
              "      <td>CIA director on Putin's draft and nuclear thre...</td>\n",
              "      <td>Ford Unveils 2024 Mustang\\nFord Unveils 2024 M...</td>\n",
              "      <td>Ravens prepare for Sunday square off against N...</td>\n",
              "      <td>NaN</td>\n",
              "      <td>NaN</td>\n",
              "      <td>NaN</td>\n",
              "      <td>NaN</td>\n",
              "      <td>NaN</td>\n",
              "      <td>NaN</td>\n",
              "    </tr>\n",
              "    <tr>\n",
              "      <th>...</th>\n",
              "      <td>...</td>\n",
              "      <td>...</td>\n",
              "      <td>...</td>\n",
              "      <td>...</td>\n",
              "      <td>...</td>\n",
              "      <td>...</td>\n",
              "      <td>...</td>\n",
              "      <td>...</td>\n",
              "      <td>...</td>\n",
              "      <td>...</td>\n",
              "      <td>...</td>\n",
              "    </tr>\n",
              "    <tr>\n",
              "      <th>7437</th>\n",
              "      <td>squirrel hunt</td>\n",
              "      <td>Watch CBS News\\nUncle accidentally shoots neph...</td>\n",
              "      <td>Uncle accidentally shoots nephew during squirr...</td>\n",
              "      <td>Uncle accidentally shoots nephew during squirr...</td>\n",
              "      <td>NaN</td>\n",
              "      <td>NaN</td>\n",
              "      <td>NaN</td>\n",
              "      <td>NaN</td>\n",
              "      <td>NaN</td>\n",
              "      <td>NaN</td>\n",
              "      <td>NaN</td>\n",
              "    </tr>\n",
              "    <tr>\n",
              "      <th>7438</th>\n",
              "      <td>the John J. Cochran Veterans Hospital</td>\n",
              "      <td>Earlier this week the restaurant announce the ...</td>\n",
              "      <td>Earlier this week the restaurant announce the ...</td>\n",
              "      <td>Earlier this week the restaurant announce the ...</td>\n",
              "      <td>Earlier this week the restaurant announce the ...</td>\n",
              "      <td>Earlier this week the restaurant announce the ...</td>\n",
              "      <td>Earlier this week the restaurant announce the ...</td>\n",
              "      <td>Earlier this week the restaurant announce the ...</td>\n",
              "      <td>Earlier this week the restaurant announce the ...</td>\n",
              "      <td>NaN</td>\n",
              "      <td>NaN</td>\n",
              "    </tr>\n",
              "    <tr>\n",
              "      <th>7439</th>\n",
              "      <td>the Marilyn Monroe</td>\n",
              "      <td>Farrah was the Marilyn Monroe of the moment.</td>\n",
              "      <td>Farrah was the Marilyn Monroe of the moment.</td>\n",
              "      <td>Farrah was the Marilyn Monroe of the moment.</td>\n",
              "      <td>Farrah was the Marilyn Monroe of the moment.</td>\n",
              "      <td>Farrah was the Marilyn Monroe of the moment.</td>\n",
              "      <td>Farrah was the Marilyn Monroe of the moment.</td>\n",
              "      <td>Farrah was the Marilyn Monroe of the moment.</td>\n",
              "      <td>Farrah was the Marilyn Monroe of the moment.</td>\n",
              "      <td>NaN</td>\n",
              "      <td>NaN</td>\n",
              "    </tr>\n",
              "    <tr>\n",
              "      <th>7440</th>\n",
              "      <td>www.georgiasouthern.edu/pac</td>\n",
              "      <td>Tickets available by calling (912) 478-7999, b...</td>\n",
              "      <td>Tickets available by calling (912) 478-7999, b...</td>\n",
              "      <td>Tickets available by calling (912) 478-7999, b...</td>\n",
              "      <td>Tickets available by calling (912) 478-7999, b...</td>\n",
              "      <td>Tickets available by calling (912) 478-7999, b...</td>\n",
              "      <td>Tickets available by calling (912) 478-7999, b...</td>\n",
              "      <td>Tickets available by calling (912) 478-7999, b...</td>\n",
              "      <td>Tickets available by calling (912) 478-7999, b...</td>\n",
              "      <td>Visit the Box Office in person Monday-Friday, ...</td>\n",
              "      <td>Visit the box office in person Monday-Friday, ...</td>\n",
              "    </tr>\n",
              "    <tr>\n",
              "      <th>7441</th>\n",
              "      <td>“Van Lear Rose</td>\n",
              "      <td>“Van Lear Rose” was a collaboration with rocke...</td>\n",
              "      <td>“Van Lear Rose” was a collaboration with rocke...</td>\n",
              "      <td>Long after her commercial peak, Lynn won two G...</td>\n",
              "      <td>Long after her commercial peak, Lynn won two G...</td>\n",
              "      <td>Long after her commercial peak, Lynn won two G...</td>\n",
              "      <td>Long after her commercial peak, Lynn won two G...</td>\n",
              "      <td>“Van Lear Rose” was a collaboration with rocke...</td>\n",
              "      <td>Long after her commercial peak, Lynn won two G...</td>\n",
              "      <td>“Van Lear Rose” was a collaboration with rocke...</td>\n",
              "      <td>Long after her commercial peak, Lynn won two G...</td>\n",
              "    </tr>\n",
              "  </tbody>\n",
              "</table>\n",
              "<p>7442 rows × 11 columns</p>\n",
              "</div>\n",
              "      <button class=\"colab-df-convert\" onclick=\"convertToInteractive('df-8ec11a5b-9f65-446a-aa74-1b09dacd1323')\"\n",
              "              title=\"Convert this dataframe to an interactive table.\"\n",
              "              style=\"display:none;\">\n",
              "        \n",
              "  <svg xmlns=\"http://www.w3.org/2000/svg\" height=\"24px\"viewBox=\"0 0 24 24\"\n",
              "       width=\"24px\">\n",
              "    <path d=\"M0 0h24v24H0V0z\" fill=\"none\"/>\n",
              "    <path d=\"M18.56 5.44l.94 2.06.94-2.06 2.06-.94-2.06-.94-.94-2.06-.94 2.06-2.06.94zm-11 1L8.5 8.5l.94-2.06 2.06-.94-2.06-.94L8.5 2.5l-.94 2.06-2.06.94zm10 10l.94 2.06.94-2.06 2.06-.94-2.06-.94-.94-2.06-.94 2.06-2.06.94z\"/><path d=\"M17.41 7.96l-1.37-1.37c-.4-.4-.92-.59-1.43-.59-.52 0-1.04.2-1.43.59L10.3 9.45l-7.72 7.72c-.78.78-.78 2.05 0 2.83L4 21.41c.39.39.9.59 1.41.59.51 0 1.02-.2 1.41-.59l7.78-7.78 2.81-2.81c.8-.78.8-2.07 0-2.86zM5.41 20L4 18.59l7.72-7.72 1.47 1.35L5.41 20z\"/>\n",
              "  </svg>\n",
              "      </button>\n",
              "      \n",
              "  <style>\n",
              "    .colab-df-container {\n",
              "      display:flex;\n",
              "      flex-wrap:wrap;\n",
              "      gap: 12px;\n",
              "    }\n",
              "\n",
              "    .colab-df-convert {\n",
              "      background-color: #E8F0FE;\n",
              "      border: none;\n",
              "      border-radius: 50%;\n",
              "      cursor: pointer;\n",
              "      display: none;\n",
              "      fill: #1967D2;\n",
              "      height: 32px;\n",
              "      padding: 0 0 0 0;\n",
              "      width: 32px;\n",
              "    }\n",
              "\n",
              "    .colab-df-convert:hover {\n",
              "      background-color: #E2EBFA;\n",
              "      box-shadow: 0px 1px 2px rgba(60, 64, 67, 0.3), 0px 1px 3px 1px rgba(60, 64, 67, 0.15);\n",
              "      fill: #174EA6;\n",
              "    }\n",
              "\n",
              "    [theme=dark] .colab-df-convert {\n",
              "      background-color: #3B4455;\n",
              "      fill: #D2E3FC;\n",
              "    }\n",
              "\n",
              "    [theme=dark] .colab-df-convert:hover {\n",
              "      background-color: #434B5C;\n",
              "      box-shadow: 0px 1px 3px 1px rgba(0, 0, 0, 0.15);\n",
              "      filter: drop-shadow(0px 1px 2px rgba(0, 0, 0, 0.3));\n",
              "      fill: #FFFFFF;\n",
              "    }\n",
              "  </style>\n",
              "\n",
              "      <script>\n",
              "        const buttonEl =\n",
              "          document.querySelector('#df-8ec11a5b-9f65-446a-aa74-1b09dacd1323 button.colab-df-convert');\n",
              "        buttonEl.style.display =\n",
              "          google.colab.kernel.accessAllowed ? 'block' : 'none';\n",
              "\n",
              "        async function convertToInteractive(key) {\n",
              "          const element = document.querySelector('#df-8ec11a5b-9f65-446a-aa74-1b09dacd1323');\n",
              "          const dataTable =\n",
              "            await google.colab.kernel.invokeFunction('convertToInteractive',\n",
              "                                                     [key], {});\n",
              "          if (!dataTable) return;\n",
              "\n",
              "          const docLinkHtml = 'Like what you see? Visit the ' +\n",
              "            '<a target=\"_blank\" href=https://colab.research.google.com/notebooks/data_table.ipynb>data table notebook</a>'\n",
              "            + ' to learn more about interactive tables.';\n",
              "          element.innerHTML = '';\n",
              "          dataTable['output_type'] = 'display_data';\n",
              "          await google.colab.output.renderOutput(dataTable, element);\n",
              "          const docLink = document.createElement('div');\n",
              "          docLink.innerHTML = docLinkHtml;\n",
              "          element.appendChild(docLink);\n",
              "        }\n",
              "      </script>\n",
              "    </div>\n",
              "  </div>\n",
              "  "
            ]
          },
          "metadata": {},
          "execution_count": 55
        }
      ]
    },
    {
      "cell_type": "code",
      "source": [
        "ner_person"
      ],
      "metadata": {
        "colab": {
          "base_uri": "https://localhost:8080/",
          "height": 887
        },
        "id": "LyHM4DW4aPO3",
        "outputId": "616f01af-c6e1-41cb-f34f-28895d0759c7"
      },
      "execution_count": null,
      "outputs": [
        {
          "output_type": "execute_result",
          "data": {
            "text/plain": [
              "                                          ner_person  \\\n",
              "0                            -- Cal Raleigh, GA, USA   \n",
              "1                           -- Kyler Murray, GA, USA   \n",
              "2                                     00:32, GA, USA   \n",
              "3                                     00:34, GA, USA   \n",
              "4                                     01:32, GA, USA   \n",
              "...                                              ...   \n",
              "7512                          squirrel hunt, GA, USA   \n",
              "7513  the John J. Cochran Veterans Hospital, GA, USA   \n",
              "7514                     the Marilyn Monroe, GA, USA   \n",
              "7515            www.georgiasouthern.edu/pac, GA, USA   \n",
              "7516                         “Van Lear Rose, GA, USA   \n",
              "\n",
              "                               ner_original    uid  \\\n",
              "0                            -- Cal Raleigh      1   \n",
              "1                           -- Kyler Murray      6   \n",
              "2                                     00:32     20   \n",
              "3                                     00:34     21   \n",
              "4                                     01:32     22   \n",
              "...                                     ...    ...   \n",
              "7512                          squirrel hunt  44168   \n",
              "7513  the John J. Cochran Veterans Hospital  44219   \n",
              "7514                     the Marilyn Monroe  44225   \n",
              "7515            www.georgiasouthern.edu/pac  44302   \n",
              "7516                         “Van Lear Rose  44315   \n",
              "\n",
              "                                    address_1  \\\n",
              "0                      Raleigh, GA 30293, USA   \n",
              "1                      Murray County, GA, USA   \n",
              "2           0 GA-32, Brunswick, GA 31523, USA   \n",
              "3            0 GA-34, Franklin, GA 30217, USA   \n",
              "4           1 GA-32, Brunswick, GA 31523, USA   \n",
              "...                                       ...   \n",
              "7512        Squirrel Hunting Rd, Georgia, USA   \n",
              "7513                   Cochran, GA 31014, USA   \n",
              "7514                          Monroe, GA, USA   \n",
              "7515  847 Plant Dr, Statesboro, GA 30460, USA   \n",
              "7516                      Rose, GA 31018, USA   \n",
              "\n",
              "                                    address_2 address_3 address_4 address_5  \\\n",
              "0                                         NaN       NaN       NaN       NaN   \n",
              "1                                         NaN       NaN       NaN       NaN   \n",
              "2                                         NaN       NaN       NaN       NaN   \n",
              "3                                         NaN       NaN       NaN       NaN   \n",
              "4                                         NaN       NaN       NaN       NaN   \n",
              "...                                       ...       ...       ...       ...   \n",
              "7512  Squirrel Hunting Rd, Georgia 30536, USA       NaN       NaN       NaN   \n",
              "7513                                      NaN       NaN       NaN       NaN   \n",
              "7514                                      NaN       NaN       NaN       NaN   \n",
              "7515                                      NaN       NaN       NaN       NaN   \n",
              "7516                                      NaN       NaN       NaN       NaN   \n",
              "\n",
              "     address_6 address_7 address_8 address_9 address_10  \n",
              "0          NaN       NaN       NaN       NaN        NaN  \n",
              "1          NaN       NaN       NaN       NaN        NaN  \n",
              "2          NaN       NaN       NaN       NaN        NaN  \n",
              "3          NaN       NaN       NaN       NaN        NaN  \n",
              "4          NaN       NaN       NaN       NaN        NaN  \n",
              "...        ...       ...       ...       ...        ...  \n",
              "7512       NaN       NaN       NaN       NaN        NaN  \n",
              "7513       NaN       NaN       NaN       NaN        NaN  \n",
              "7514       NaN       NaN       NaN       NaN        NaN  \n",
              "7515       NaN       NaN       NaN       NaN        NaN  \n",
              "7516       NaN       NaN       NaN       NaN        NaN  \n",
              "\n",
              "[7517 rows x 13 columns]"
            ],
            "text/html": [
              "\n",
              "  <div id=\"df-95cd4467-0b99-43b0-81d2-4b26d81159dc\">\n",
              "    <div class=\"colab-df-container\">\n",
              "      <div>\n",
              "<style scoped>\n",
              "    .dataframe tbody tr th:only-of-type {\n",
              "        vertical-align: middle;\n",
              "    }\n",
              "\n",
              "    .dataframe tbody tr th {\n",
              "        vertical-align: top;\n",
              "    }\n",
              "\n",
              "    .dataframe thead th {\n",
              "        text-align: right;\n",
              "    }\n",
              "</style>\n",
              "<table border=\"1\" class=\"dataframe\">\n",
              "  <thead>\n",
              "    <tr style=\"text-align: right;\">\n",
              "      <th></th>\n",
              "      <th>ner_person</th>\n",
              "      <th>ner_original</th>\n",
              "      <th>uid</th>\n",
              "      <th>address_1</th>\n",
              "      <th>address_2</th>\n",
              "      <th>address_3</th>\n",
              "      <th>address_4</th>\n",
              "      <th>address_5</th>\n",
              "      <th>address_6</th>\n",
              "      <th>address_7</th>\n",
              "      <th>address_8</th>\n",
              "      <th>address_9</th>\n",
              "      <th>address_10</th>\n",
              "    </tr>\n",
              "  </thead>\n",
              "  <tbody>\n",
              "    <tr>\n",
              "      <th>0</th>\n",
              "      <td>-- Cal Raleigh, GA, USA</td>\n",
              "      <td>-- Cal Raleigh</td>\n",
              "      <td>1</td>\n",
              "      <td>Raleigh, GA 30293, USA</td>\n",
              "      <td>NaN</td>\n",
              "      <td>NaN</td>\n",
              "      <td>NaN</td>\n",
              "      <td>NaN</td>\n",
              "      <td>NaN</td>\n",
              "      <td>NaN</td>\n",
              "      <td>NaN</td>\n",
              "      <td>NaN</td>\n",
              "      <td>NaN</td>\n",
              "    </tr>\n",
              "    <tr>\n",
              "      <th>1</th>\n",
              "      <td>-- Kyler Murray, GA, USA</td>\n",
              "      <td>-- Kyler Murray</td>\n",
              "      <td>6</td>\n",
              "      <td>Murray County, GA, USA</td>\n",
              "      <td>NaN</td>\n",
              "      <td>NaN</td>\n",
              "      <td>NaN</td>\n",
              "      <td>NaN</td>\n",
              "      <td>NaN</td>\n",
              "      <td>NaN</td>\n",
              "      <td>NaN</td>\n",
              "      <td>NaN</td>\n",
              "      <td>NaN</td>\n",
              "    </tr>\n",
              "    <tr>\n",
              "      <th>2</th>\n",
              "      <td>00:32, GA, USA</td>\n",
              "      <td>00:32</td>\n",
              "      <td>20</td>\n",
              "      <td>0 GA-32, Brunswick, GA 31523, USA</td>\n",
              "      <td>NaN</td>\n",
              "      <td>NaN</td>\n",
              "      <td>NaN</td>\n",
              "      <td>NaN</td>\n",
              "      <td>NaN</td>\n",
              "      <td>NaN</td>\n",
              "      <td>NaN</td>\n",
              "      <td>NaN</td>\n",
              "      <td>NaN</td>\n",
              "    </tr>\n",
              "    <tr>\n",
              "      <th>3</th>\n",
              "      <td>00:34, GA, USA</td>\n",
              "      <td>00:34</td>\n",
              "      <td>21</td>\n",
              "      <td>0 GA-34, Franklin, GA 30217, USA</td>\n",
              "      <td>NaN</td>\n",
              "      <td>NaN</td>\n",
              "      <td>NaN</td>\n",
              "      <td>NaN</td>\n",
              "      <td>NaN</td>\n",
              "      <td>NaN</td>\n",
              "      <td>NaN</td>\n",
              "      <td>NaN</td>\n",
              "      <td>NaN</td>\n",
              "    </tr>\n",
              "    <tr>\n",
              "      <th>4</th>\n",
              "      <td>01:32, GA, USA</td>\n",
              "      <td>01:32</td>\n",
              "      <td>22</td>\n",
              "      <td>1 GA-32, Brunswick, GA 31523, USA</td>\n",
              "      <td>NaN</td>\n",
              "      <td>NaN</td>\n",
              "      <td>NaN</td>\n",
              "      <td>NaN</td>\n",
              "      <td>NaN</td>\n",
              "      <td>NaN</td>\n",
              "      <td>NaN</td>\n",
              "      <td>NaN</td>\n",
              "      <td>NaN</td>\n",
              "    </tr>\n",
              "    <tr>\n",
              "      <th>...</th>\n",
              "      <td>...</td>\n",
              "      <td>...</td>\n",
              "      <td>...</td>\n",
              "      <td>...</td>\n",
              "      <td>...</td>\n",
              "      <td>...</td>\n",
              "      <td>...</td>\n",
              "      <td>...</td>\n",
              "      <td>...</td>\n",
              "      <td>...</td>\n",
              "      <td>...</td>\n",
              "      <td>...</td>\n",
              "      <td>...</td>\n",
              "    </tr>\n",
              "    <tr>\n",
              "      <th>7512</th>\n",
              "      <td>squirrel hunt, GA, USA</td>\n",
              "      <td>squirrel hunt</td>\n",
              "      <td>44168</td>\n",
              "      <td>Squirrel Hunting Rd, Georgia, USA</td>\n",
              "      <td>Squirrel Hunting Rd, Georgia 30536, USA</td>\n",
              "      <td>NaN</td>\n",
              "      <td>NaN</td>\n",
              "      <td>NaN</td>\n",
              "      <td>NaN</td>\n",
              "      <td>NaN</td>\n",
              "      <td>NaN</td>\n",
              "      <td>NaN</td>\n",
              "      <td>NaN</td>\n",
              "    </tr>\n",
              "    <tr>\n",
              "      <th>7513</th>\n",
              "      <td>the John J. Cochran Veterans Hospital, GA, USA</td>\n",
              "      <td>the John J. Cochran Veterans Hospital</td>\n",
              "      <td>44219</td>\n",
              "      <td>Cochran, GA 31014, USA</td>\n",
              "      <td>NaN</td>\n",
              "      <td>NaN</td>\n",
              "      <td>NaN</td>\n",
              "      <td>NaN</td>\n",
              "      <td>NaN</td>\n",
              "      <td>NaN</td>\n",
              "      <td>NaN</td>\n",
              "      <td>NaN</td>\n",
              "      <td>NaN</td>\n",
              "    </tr>\n",
              "    <tr>\n",
              "      <th>7514</th>\n",
              "      <td>the Marilyn Monroe, GA, USA</td>\n",
              "      <td>the Marilyn Monroe</td>\n",
              "      <td>44225</td>\n",
              "      <td>Monroe, GA, USA</td>\n",
              "      <td>NaN</td>\n",
              "      <td>NaN</td>\n",
              "      <td>NaN</td>\n",
              "      <td>NaN</td>\n",
              "      <td>NaN</td>\n",
              "      <td>NaN</td>\n",
              "      <td>NaN</td>\n",
              "      <td>NaN</td>\n",
              "      <td>NaN</td>\n",
              "    </tr>\n",
              "    <tr>\n",
              "      <th>7515</th>\n",
              "      <td>www.georgiasouthern.edu/pac, GA, USA</td>\n",
              "      <td>www.georgiasouthern.edu/pac</td>\n",
              "      <td>44302</td>\n",
              "      <td>847 Plant Dr, Statesboro, GA 30460, USA</td>\n",
              "      <td>NaN</td>\n",
              "      <td>NaN</td>\n",
              "      <td>NaN</td>\n",
              "      <td>NaN</td>\n",
              "      <td>NaN</td>\n",
              "      <td>NaN</td>\n",
              "      <td>NaN</td>\n",
              "      <td>NaN</td>\n",
              "      <td>NaN</td>\n",
              "    </tr>\n",
              "    <tr>\n",
              "      <th>7516</th>\n",
              "      <td>“Van Lear Rose, GA, USA</td>\n",
              "      <td>“Van Lear Rose</td>\n",
              "      <td>44315</td>\n",
              "      <td>Rose, GA 31018, USA</td>\n",
              "      <td>NaN</td>\n",
              "      <td>NaN</td>\n",
              "      <td>NaN</td>\n",
              "      <td>NaN</td>\n",
              "      <td>NaN</td>\n",
              "      <td>NaN</td>\n",
              "      <td>NaN</td>\n",
              "      <td>NaN</td>\n",
              "      <td>NaN</td>\n",
              "    </tr>\n",
              "  </tbody>\n",
              "</table>\n",
              "<p>7517 rows × 13 columns</p>\n",
              "</div>\n",
              "      <button class=\"colab-df-convert\" onclick=\"convertToInteractive('df-95cd4467-0b99-43b0-81d2-4b26d81159dc')\"\n",
              "              title=\"Convert this dataframe to an interactive table.\"\n",
              "              style=\"display:none;\">\n",
              "        \n",
              "  <svg xmlns=\"http://www.w3.org/2000/svg\" height=\"24px\"viewBox=\"0 0 24 24\"\n",
              "       width=\"24px\">\n",
              "    <path d=\"M0 0h24v24H0V0z\" fill=\"none\"/>\n",
              "    <path d=\"M18.56 5.44l.94 2.06.94-2.06 2.06-.94-2.06-.94-.94-2.06-.94 2.06-2.06.94zm-11 1L8.5 8.5l.94-2.06 2.06-.94-2.06-.94L8.5 2.5l-.94 2.06-2.06.94zm10 10l.94 2.06.94-2.06 2.06-.94-2.06-.94-.94-2.06-.94 2.06-2.06.94z\"/><path d=\"M17.41 7.96l-1.37-1.37c-.4-.4-.92-.59-1.43-.59-.52 0-1.04.2-1.43.59L10.3 9.45l-7.72 7.72c-.78.78-.78 2.05 0 2.83L4 21.41c.39.39.9.59 1.41.59.51 0 1.02-.2 1.41-.59l7.78-7.78 2.81-2.81c.8-.78.8-2.07 0-2.86zM5.41 20L4 18.59l7.72-7.72 1.47 1.35L5.41 20z\"/>\n",
              "  </svg>\n",
              "      </button>\n",
              "      \n",
              "  <style>\n",
              "    .colab-df-container {\n",
              "      display:flex;\n",
              "      flex-wrap:wrap;\n",
              "      gap: 12px;\n",
              "    }\n",
              "\n",
              "    .colab-df-convert {\n",
              "      background-color: #E8F0FE;\n",
              "      border: none;\n",
              "      border-radius: 50%;\n",
              "      cursor: pointer;\n",
              "      display: none;\n",
              "      fill: #1967D2;\n",
              "      height: 32px;\n",
              "      padding: 0 0 0 0;\n",
              "      width: 32px;\n",
              "    }\n",
              "\n",
              "    .colab-df-convert:hover {\n",
              "      background-color: #E2EBFA;\n",
              "      box-shadow: 0px 1px 2px rgba(60, 64, 67, 0.3), 0px 1px 3px 1px rgba(60, 64, 67, 0.15);\n",
              "      fill: #174EA6;\n",
              "    }\n",
              "\n",
              "    [theme=dark] .colab-df-convert {\n",
              "      background-color: #3B4455;\n",
              "      fill: #D2E3FC;\n",
              "    }\n",
              "\n",
              "    [theme=dark] .colab-df-convert:hover {\n",
              "      background-color: #434B5C;\n",
              "      box-shadow: 0px 1px 3px 1px rgba(0, 0, 0, 0.15);\n",
              "      filter: drop-shadow(0px 1px 2px rgba(0, 0, 0, 0.3));\n",
              "      fill: #FFFFFF;\n",
              "    }\n",
              "  </style>\n",
              "\n",
              "      <script>\n",
              "        const buttonEl =\n",
              "          document.querySelector('#df-95cd4467-0b99-43b0-81d2-4b26d81159dc button.colab-df-convert');\n",
              "        buttonEl.style.display =\n",
              "          google.colab.kernel.accessAllowed ? 'block' : 'none';\n",
              "\n",
              "        async function convertToInteractive(key) {\n",
              "          const element = document.querySelector('#df-95cd4467-0b99-43b0-81d2-4b26d81159dc');\n",
              "          const dataTable =\n",
              "            await google.colab.kernel.invokeFunction('convertToInteractive',\n",
              "                                                     [key], {});\n",
              "          if (!dataTable) return;\n",
              "\n",
              "          const docLinkHtml = 'Like what you see? Visit the ' +\n",
              "            '<a target=\"_blank\" href=https://colab.research.google.com/notebooks/data_table.ipynb>data table notebook</a>'\n",
              "            + ' to learn more about interactive tables.';\n",
              "          element.innerHTML = '';\n",
              "          dataTable['output_type'] = 'display_data';\n",
              "          await google.colab.output.renderOutput(dataTable, element);\n",
              "          const docLink = document.createElement('div');\n",
              "          docLink.innerHTML = docLinkHtml;\n",
              "          element.appendChild(docLink);\n",
              "        }\n",
              "      </script>\n",
              "    </div>\n",
              "  </div>\n",
              "  "
            ]
          },
          "metadata": {},
          "execution_count": 54
        }
      ]
    },
    {
      "cell_type": "code",
      "source": [
        "\n",
        "ner_person['person_ner'] = ner_person['ner_original']\n",
        "\n",
        "merge_all_pivot_merge = pd.merge(merge_all_pivot, ner_person, on=\"person_ner\", how='left')\n"
      ],
      "metadata": {
        "id": "gCtOI7FIP89I"
      },
      "execution_count": null,
      "outputs": []
    },
    {
      "cell_type": "code",
      "source": [
        "merge_all_pivot_merge.to_excel('/content/drive/MyDrive/Georgia/Locations Analysis/Validation_test/Georgia_ner_person_validation_10_sent_example.xlsx')\n"
      ],
      "metadata": {
        "id": "LOhnvwGSax21"
      },
      "execution_count": null,
      "outputs": []
    },
    {
      "cell_type": "code",
      "source": [
        "# those only with more than 10 examples\n",
        "merge_all_pivot_merge_filter = merge_all_pivot_merge.dropna(subset=['s1', 's2', 's3', 's4', 's5', 's6', 's7', 's8', 's9', 's10' ])\n",
        "\n",
        "merge_all_pivot_merge_filter.to_excel('/content/drive/MyDrive/Georgia/Locations Analysis/Validation_test/Georgia_ner_person_validation_10_sent_example_m10.xlsx')\n"
      ],
      "metadata": {
        "id": "Gk4-SEGobVn6"
      },
      "execution_count": null,
      "outputs": []
    },
    {
      "cell_type": "code",
      "source": [
        "# exclude those that are in the ner place worksheet\n",
        "\n",
        "ner_place = pd.read_excel('/content/drive/MyDrive/Georgia/Locations Analysis/Georgia_ner_places_validation_10_sent_example.xlsx')"
      ],
      "metadata": {
        "id": "I2_-gvpEdRti"
      },
      "execution_count": null,
      "outputs": []
    },
    {
      "cell_type": "code",
      "source": [
        "ner_place_raw = list(set(ner_place['place_ner'].tolist()))\n",
        "merge_all_pivot_merge_rest = merge_all_pivot_merge[~merge_all_pivot_merge['person_ner'].isin(ner_place_raw)]\n"
      ],
      "metadata": {
        "id": "-XnEYWR_dn94"
      },
      "execution_count": null,
      "outputs": []
    },
    {
      "cell_type": "code",
      "source": [
        "len(merge_all_pivot_merge)"
      ],
      "metadata": {
        "colab": {
          "base_uri": "https://localhost:8080/"
        },
        "id": "2tioorureLh7",
        "outputId": "2ce4e4f2-e966-4bc3-fe55-b83f696bee6a"
      },
      "execution_count": null,
      "outputs": [
        {
          "output_type": "execute_result",
          "data": {
            "text/plain": [
              "7442"
            ]
          },
          "metadata": {},
          "execution_count": 65
        }
      ]
    },
    {
      "cell_type": "code",
      "source": [
        "len(merge_all_pivot_merge_rest)"
      ],
      "metadata": {
        "colab": {
          "base_uri": "https://localhost:8080/"
        },
        "id": "LgLv4DOheIb2",
        "outputId": "9d66e00c-8627-4d51-85d6-21ada8350f57"
      },
      "execution_count": null,
      "outputs": [
        {
          "output_type": "execute_result",
          "data": {
            "text/plain": [
              "6728"
            ]
          },
          "metadata": {},
          "execution_count": 64
        }
      ]
    },
    {
      "cell_type": "code",
      "source": [
        "merge_all_pivot_merge_rest2 = merge_all_pivot_merge_filter[~merge_all_pivot_merge_filter['person_ner'].isin(ner_place_raw)]\n"
      ],
      "metadata": {
        "id": "yTpnbsI9eQfM"
      },
      "execution_count": null,
      "outputs": []
    },
    {
      "cell_type": "code",
      "source": [
        "len(merge_all_pivot_merge_rest2)"
      ],
      "metadata": {
        "colab": {
          "base_uri": "https://localhost:8080/"
        },
        "id": "kMYoeEXeeTli",
        "outputId": "ec4d8bb2-b7e8-435f-bd88-37d9fd1e5837"
      },
      "execution_count": null,
      "outputs": [
        {
          "output_type": "execute_result",
          "data": {
            "text/plain": [
              "3854"
            ]
          },
          "metadata": {},
          "execution_count": 67
        }
      ]
    },
    {
      "cell_type": "code",
      "source": [
        "merge_all_pivot_merge_rest2.to_excel('/content/drive/MyDrive/Georgia/Locations Analysis/Validation_test/Georgia_ner_person_validation_10_sent_example_m10_rest.xlsx')\n"
      ],
      "metadata": {
        "id": "jNrtppyJenyD"
      },
      "execution_count": null,
      "outputs": []
    },
    {
      "cell_type": "markdown",
      "source": [
        "## Look up location (w updated data) on articles"
      ],
      "metadata": {
        "id": "cY1vi4e0QNqS"
      }
    },
    {
      "cell_type": "code",
      "source": [
        "%cd /content/drive/MyDrive/Georgia/Locations Analysis"
      ],
      "metadata": {
        "id": "rEsOC72WTTib",
        "colab": {
          "base_uri": "https://localhost:8080/"
        },
        "outputId": "99782fab-576e-44f5-c0fc-5ff0931eb287"
      },
      "execution_count": null,
      "outputs": [
        {
          "output_type": "stream",
          "name": "stdout",
          "text": [
            "/content/drive/.shortcut-targets-by-id/1YSQ9BBnwwRu7fyeM_9V6eoFgKQBPl4Rr/Georgia/Locations Analysis\n"
          ]
        }
      ]
    },
    {
      "cell_type": "code",
      "source": [
        "# data created by manual coding\n",
        "\n",
        "import pandas as pd\n",
        "\n",
        "location_final = pd.read_excel('Georgia_place_validation_counties.xlsx')"
      ],
      "metadata": {
        "id": "6vkKM1LjQRXC"
      },
      "execution_count": null,
      "outputs": []
    },
    {
      "cell_type": "code",
      "source": [
        "location_final = location_final[location_final['final_selection']==1]"
      ],
      "metadata": {
        "id": "IhdmM7NvcwJ2"
      },
      "execution_count": null,
      "outputs": []
    },
    {
      "cell_type": "code",
      "source": [
        "location_final_st = location_final[['ner_place_clean','county_level', 'final_selection']]"
      ],
      "metadata": {
        "id": "qYuxviOCj0FF"
      },
      "execution_count": null,
      "outputs": []
    },
    {
      "cell_type": "code",
      "source": [
        "location_final_st = location_final_st.dropna()"
      ],
      "metadata": {
        "id": "l7_56rt2yiVy"
      },
      "execution_count": null,
      "outputs": []
    },
    {
      "cell_type": "code",
      "source": [
        "len(location_final_st)"
      ],
      "metadata": {
        "colab": {
          "base_uri": "https://localhost:8080/"
        },
        "id": "AzUCzxNbmsBr",
        "outputId": "7785a631-df28-4b65-9e1c-33896fdcb010"
      },
      "execution_count": null,
      "outputs": [
        {
          "output_type": "execute_result",
          "data": {
            "text/plain": [
              "1930"
            ]
          },
          "metadata": {},
          "execution_count": 9
        }
      ]
    },
    {
      "cell_type": "code",
      "source": [
        "location_final_st"
      ],
      "metadata": {
        "colab": {
          "base_uri": "https://localhost:8080/",
          "height": 424
        },
        "id": "MyGCPiwxPcuz",
        "outputId": "b0b81207-e938-4fe0-e180-b16ea8933e53"
      },
      "execution_count": null,
      "outputs": [
        {
          "output_type": "execute_result",
          "data": {
            "text/plain": [
              "             ner_place_clean      county_level  final_selection\n",
              "0           110 Airport Road  Habersham County                1\n",
              "1          1495 Roswell Road       Cobb County                1\n",
              "2                26th Street     Fulton County                1\n",
              "3         3227 Roswell Rd NE     Fulton County                1\n",
              "4               46 Plaza Way      Rabun County                1\n",
              "...                      ...               ...              ...\n",
              "1950  Yonah Memorial Gardens  Habersham County                1\n",
              "1951                    York      Rabun County                1\n",
              "1952              Youngstown      Union County                1\n",
              "1953               Ypsilanti     Talbot County                1\n",
              "1954            Zebulon Road       Bibb County                1\n",
              "\n",
              "[1930 rows x 3 columns]"
            ],
            "text/html": [
              "\n",
              "  <div id=\"df-e43d515d-d2fd-482b-b575-c030e118fa07\">\n",
              "    <div class=\"colab-df-container\">\n",
              "      <div>\n",
              "<style scoped>\n",
              "    .dataframe tbody tr th:only-of-type {\n",
              "        vertical-align: middle;\n",
              "    }\n",
              "\n",
              "    .dataframe tbody tr th {\n",
              "        vertical-align: top;\n",
              "    }\n",
              "\n",
              "    .dataframe thead th {\n",
              "        text-align: right;\n",
              "    }\n",
              "</style>\n",
              "<table border=\"1\" class=\"dataframe\">\n",
              "  <thead>\n",
              "    <tr style=\"text-align: right;\">\n",
              "      <th></th>\n",
              "      <th>ner_place_clean</th>\n",
              "      <th>county_level</th>\n",
              "      <th>final_selection</th>\n",
              "    </tr>\n",
              "  </thead>\n",
              "  <tbody>\n",
              "    <tr>\n",
              "      <th>0</th>\n",
              "      <td>110 Airport Road</td>\n",
              "      <td>Habersham County</td>\n",
              "      <td>1</td>\n",
              "    </tr>\n",
              "    <tr>\n",
              "      <th>1</th>\n",
              "      <td>1495 Roswell Road</td>\n",
              "      <td>Cobb County</td>\n",
              "      <td>1</td>\n",
              "    </tr>\n",
              "    <tr>\n",
              "      <th>2</th>\n",
              "      <td>26th Street</td>\n",
              "      <td>Fulton County</td>\n",
              "      <td>1</td>\n",
              "    </tr>\n",
              "    <tr>\n",
              "      <th>3</th>\n",
              "      <td>3227 Roswell Rd NE</td>\n",
              "      <td>Fulton County</td>\n",
              "      <td>1</td>\n",
              "    </tr>\n",
              "    <tr>\n",
              "      <th>4</th>\n",
              "      <td>46 Plaza Way</td>\n",
              "      <td>Rabun County</td>\n",
              "      <td>1</td>\n",
              "    </tr>\n",
              "    <tr>\n",
              "      <th>...</th>\n",
              "      <td>...</td>\n",
              "      <td>...</td>\n",
              "      <td>...</td>\n",
              "    </tr>\n",
              "    <tr>\n",
              "      <th>1950</th>\n",
              "      <td>Yonah Memorial Gardens</td>\n",
              "      <td>Habersham County</td>\n",
              "      <td>1</td>\n",
              "    </tr>\n",
              "    <tr>\n",
              "      <th>1951</th>\n",
              "      <td>York</td>\n",
              "      <td>Rabun County</td>\n",
              "      <td>1</td>\n",
              "    </tr>\n",
              "    <tr>\n",
              "      <th>1952</th>\n",
              "      <td>Youngstown</td>\n",
              "      <td>Union County</td>\n",
              "      <td>1</td>\n",
              "    </tr>\n",
              "    <tr>\n",
              "      <th>1953</th>\n",
              "      <td>Ypsilanti</td>\n",
              "      <td>Talbot County</td>\n",
              "      <td>1</td>\n",
              "    </tr>\n",
              "    <tr>\n",
              "      <th>1954</th>\n",
              "      <td>Zebulon Road</td>\n",
              "      <td>Bibb County</td>\n",
              "      <td>1</td>\n",
              "    </tr>\n",
              "  </tbody>\n",
              "</table>\n",
              "<p>1930 rows × 3 columns</p>\n",
              "</div>\n",
              "      <button class=\"colab-df-convert\" onclick=\"convertToInteractive('df-e43d515d-d2fd-482b-b575-c030e118fa07')\"\n",
              "              title=\"Convert this dataframe to an interactive table.\"\n",
              "              style=\"display:none;\">\n",
              "        \n",
              "  <svg xmlns=\"http://www.w3.org/2000/svg\" height=\"24px\"viewBox=\"0 0 24 24\"\n",
              "       width=\"24px\">\n",
              "    <path d=\"M0 0h24v24H0V0z\" fill=\"none\"/>\n",
              "    <path d=\"M18.56 5.44l.94 2.06.94-2.06 2.06-.94-2.06-.94-.94-2.06-.94 2.06-2.06.94zm-11 1L8.5 8.5l.94-2.06 2.06-.94-2.06-.94L8.5 2.5l-.94 2.06-2.06.94zm10 10l.94 2.06.94-2.06 2.06-.94-2.06-.94-.94-2.06-.94 2.06-2.06.94z\"/><path d=\"M17.41 7.96l-1.37-1.37c-.4-.4-.92-.59-1.43-.59-.52 0-1.04.2-1.43.59L10.3 9.45l-7.72 7.72c-.78.78-.78 2.05 0 2.83L4 21.41c.39.39.9.59 1.41.59.51 0 1.02-.2 1.41-.59l7.78-7.78 2.81-2.81c.8-.78.8-2.07 0-2.86zM5.41 20L4 18.59l7.72-7.72 1.47 1.35L5.41 20z\"/>\n",
              "  </svg>\n",
              "      </button>\n",
              "      \n",
              "  <style>\n",
              "    .colab-df-container {\n",
              "      display:flex;\n",
              "      flex-wrap:wrap;\n",
              "      gap: 12px;\n",
              "    }\n",
              "\n",
              "    .colab-df-convert {\n",
              "      background-color: #E8F0FE;\n",
              "      border: none;\n",
              "      border-radius: 50%;\n",
              "      cursor: pointer;\n",
              "      display: none;\n",
              "      fill: #1967D2;\n",
              "      height: 32px;\n",
              "      padding: 0 0 0 0;\n",
              "      width: 32px;\n",
              "    }\n",
              "\n",
              "    .colab-df-convert:hover {\n",
              "      background-color: #E2EBFA;\n",
              "      box-shadow: 0px 1px 2px rgba(60, 64, 67, 0.3), 0px 1px 3px 1px rgba(60, 64, 67, 0.15);\n",
              "      fill: #174EA6;\n",
              "    }\n",
              "\n",
              "    [theme=dark] .colab-df-convert {\n",
              "      background-color: #3B4455;\n",
              "      fill: #D2E3FC;\n",
              "    }\n",
              "\n",
              "    [theme=dark] .colab-df-convert:hover {\n",
              "      background-color: #434B5C;\n",
              "      box-shadow: 0px 1px 3px 1px rgba(0, 0, 0, 0.15);\n",
              "      filter: drop-shadow(0px 1px 2px rgba(0, 0, 0, 0.3));\n",
              "      fill: #FFFFFF;\n",
              "    }\n",
              "  </style>\n",
              "\n",
              "      <script>\n",
              "        const buttonEl =\n",
              "          document.querySelector('#df-e43d515d-d2fd-482b-b575-c030e118fa07 button.colab-df-convert');\n",
              "        buttonEl.style.display =\n",
              "          google.colab.kernel.accessAllowed ? 'block' : 'none';\n",
              "\n",
              "        async function convertToInteractive(key) {\n",
              "          const element = document.querySelector('#df-e43d515d-d2fd-482b-b575-c030e118fa07');\n",
              "          const dataTable =\n",
              "            await google.colab.kernel.invokeFunction('convertToInteractive',\n",
              "                                                     [key], {});\n",
              "          if (!dataTable) return;\n",
              "\n",
              "          const docLinkHtml = 'Like what you see? Visit the ' +\n",
              "            '<a target=\"_blank\" href=https://colab.research.google.com/notebooks/data_table.ipynb>data table notebook</a>'\n",
              "            + ' to learn more about interactive tables.';\n",
              "          element.innerHTML = '';\n",
              "          dataTable['output_type'] = 'display_data';\n",
              "          await google.colab.output.renderOutput(dataTable, element);\n",
              "          const docLink = document.createElement('div');\n",
              "          docLink.innerHTML = docLinkHtml;\n",
              "          element.appendChild(docLink);\n",
              "        }\n",
              "      </script>\n",
              "    </div>\n",
              "  </div>\n",
              "  "
            ]
          },
          "metadata": {},
          "execution_count": 10
        }
      ]
    },
    {
      "cell_type": "code",
      "source": [
        "# # multiple counties deleted\n",
        "# location_final_st = location_final_st[location_final_st['county_level'].str.contains('Counties')==False]"
      ],
      "metadata": {
        "id": "cKbOXVZsmb1F"
      },
      "execution_count": null,
      "outputs": []
    },
    {
      "cell_type": "code",
      "source": [
        "len(set(location_final_st.county_level.values.tolist()))"
      ],
      "metadata": {
        "colab": {
          "base_uri": "https://localhost:8080/"
        },
        "id": "hFPKsq8gsiaX",
        "outputId": "ee3996d5-5087-4f14-e711-72a88052a9dd"
      },
      "execution_count": null,
      "outputs": [
        {
          "output_type": "execute_result",
          "data": {
            "text/plain": [
              "159"
            ]
          },
          "metadata": {},
          "execution_count": 10
        }
      ]
    },
    {
      "cell_type": "code",
      "source": [
        "location_final_list = list(set(location_final_st['ner_place_clean'].tolist()))"
      ],
      "metadata": {
        "id": "d3UqVKMGgFCw"
      },
      "execution_count": null,
      "outputs": []
    },
    {
      "cell_type": "code",
      "source": [
        "import pandas as pd\n",
        "\n",
        "df = pd.read_pickle('/content/drive/MyDrive/Georgia/Web Scraping/Georgia_data_v2_translation_ner2_lem.pkl')\n"
      ],
      "metadata": {
        "id": "opLFb-2OdJzM"
      },
      "execution_count": null,
      "outputs": []
    },
    {
      "cell_type": "code",
      "source": [
        "# remove bracket and quotes\n",
        "df['ner_places_clean'] = df['ner_places'].apply(lambda x: re.sub(r'[{}]', '', x))\n",
        "#df['ner_places_clean'] = df['ner_places_clean'].str.replace(r\" \\(GPE\\)\",\"\")\n",
        "df['ner_places_clean'] = df['ner_places_clean'].str.replace(r\"\\', \\'\", \" \")\n",
        "df['ner_places_clean'] = df['ner_places_clean'].str.rstrip(\"'\")\n",
        "df['ner_places_clean'] = df['ner_places_clean'].str.lstrip(\"'\")\n",
        "\n"
      ],
      "metadata": {
        "colab": {
          "base_uri": "https://localhost:8080/"
        },
        "id": "f1hoxb6XZmjz",
        "outputId": "19424e2d-0444-4c7e-cc11-8ad5ebbd296a"
      },
      "execution_count": null,
      "outputs": [
        {
          "output_type": "stream",
          "name": "stderr",
          "text": [
            "<ipython-input-205-8034ae93aaa5>:3: FutureWarning: The default value of regex will change from True to False in a future version.\n",
            "  df['ner_places_clean'] = df['ner_places_clean'].str.replace(r\"\\', \\'\", \" \")\n"
          ]
        }
      ]
    },
    {
      "cell_type": "code",
      "source": [
        "\n",
        "import re\n",
        "\n",
        "def bigrams(s):\n",
        "    return [i for i in s if re.search(r'\\s', i) ]\n",
        "  \n",
        "def unigrams(s):\n",
        "    return [i for i in s if not re.search(r'\\s', i) ]\n",
        "\n",
        "word_bigrams_done = list(set(bigrams(location_final_list)))\n",
        "print(word_bigrams_done)\n",
        "print(len(word_bigrams_done))\n",
        "                       \n",
        "word_unigrams_done = unigrams(location_final_list)\n",
        "print(word_unigrams_done)\n",
        "print(len(word_unigrams_done))\n"
      ],
      "metadata": {
        "colab": {
          "base_uri": "https://localhost:8080/"
        },
        "id": "hbjFlI7bdKsu",
        "outputId": "f16b0483-52fd-41f9-b41a-1d73018929ec"
      },
      "execution_count": null,
      "outputs": [
        {
          "output_type": "stream",
          "name": "stdout",
          "text": [
            "['Magnolia Street', 'Cherry Street', 'Cherokee Avenue', 'Vogel State Park', 'Lee Road', 'Oak Hill Drive', 'Oak St.', 'Oglethorpe County High School', 'Historic District', 'Randolph Street', 'White County’s', 'Rainbow Drive', 'North Dahlonega', 'North Clayton', 'North DeKalb Stadium', 'Highway 411', 'Habersham Central 1977', 'Northcutt Stadium', 'Cobb DOT road', 'Sims Funeral Home', 'the Callaway Conference Center', 'Mount Pisgah', 'Mount Zion United Methodist Church', 'Liberty Road', 'Hardman Rd.', 'West Atlanta', 'Whitlock Avenue', 'Cauble Park', 'Laurel Island Links', 'Floyd County Jail', 'Liberty Street', 'the UGA Bookstore', 'Emanuel County Jail', 'Wormsloe Historic Site Updated', 'Prince Avenue Christian', 'McDowell Road', 'the King Trail', 'Cobb Parkway NW', 'Bethlehem Road', 'Mud Creek Road', 'New Hampstead', 'Coolray Field', '1495 Roswell Road', 'Kendrick Road', 'W May Street', 'Willow Ridge', 'Troup County Fire', 'Lawrenceville Square', 'Cape Street', 'North Rome', 'Rose Garden', 'The City of Pineville', 'North Heights', 'Cheatham Hills Memorial Park', 'Britain Drive', 'Shannon Way', 'Bartley Rd.', 'Gordy Parkway', 'Broadrick Drive', 'Douglas Medical Center', 'Mountain View', 'Jones Island', 'Hall County Jail', 'Crisp County Jail', 'Bailey York', 'Grayson Stadium', 'Dawson Road', 'Swamp Park', 'Kona Ice', 'Rimrock Road', 'Barron Stadium', 'the City of Fairfax', 'Virginia Drive', 'Kings Island', 'Windy Ridge Road', 'S Broad St.', 'Macedonia Road', 'west Georgia', 'Ponderosa Drive', 'the Dawson County', 'South Atlanta', 'Avalon Ridge Place', 'Miller Ferry Road', 'Columbus 58th Wettest', 'Robins Air Force Base', 'Perimeter Mall', 'Holt Avenue', 'Colfax Avenue', 'the Summit on Fire Prevention', 'Copper Creek Lane', 'River Valley Road', 'West Englewood', 'the Columbia County Detention Center', 'BRYAN COUNTY', 'Hammond Park', 'Eatonton Road', 'the Dacula at', 'West Atlanta Street', 'Callaway Gardens', 'Edwards Park', 'St. Simons', 'TYBEE ISLAND', 'Advent Health Gordon', 'the Village Green', 'Sandy Creek Park', 'Oakland City', '5900 Sugarloaf Parkway', 'East Georgia Regional Airport', 'South Fulton’s', 'Stokes Avenue', 'Butler Avenue', 'the DeSoto Theatre', 'the City of Auburn', 'the Hilton Atlanta/Marietta Hotel & Conference Center', 'Dale County', 'White Hall', 'Habersham Central', 'Ft. Valley', 'West Point Road', 'Jackson Memorial Gardens', 'East Forsyth', 'PnB Rock', 'Barrett Parkway', 'FORT BENNING', 'McFarland Avenue', '5274 Dogwood Drive', 'Peachtree Creek', 'Brownlee Mountain Road', 'Waters Avenue', 'Orchard Park', 'Fair Haven', 'Baskin Road', 'Clark Street', 'Newcastle Street', 'Saddle Creek Road', 'Lewiston Road', 'the Truman Parkway', 'Tybee Island', 'North Point Circle', 'Drake Field', 'The Peach State', 'Sky Valley', 'East Rome', 'Access Road', 'Fairview Street', 'Kurt Drive', 'South Park Square', 'Five Star Stadium', 'Greene County High School', 'Hinesville Updated', 'Swift Cantrell Park', 'Red Bud Road', 'Canton Road', 'Greenville Drive', 'Chestnut Drive', 'Mirror Lake', 'Burnt Hickory Road', 'Talking Rock', 'Shorter Avenue', 'Magnolia St.', 'Chapel Drive', 'Bates Road', 'Sand Mountain', 'the Conyers Depot on Railroad Street', 'the Rose Garden', 'the 405 Freeway', 'Bullard Road', 'Lindbergh Center Station', 'Washington St.', 'Griffin Memorial Stadium', 'the Brunswick River', 'Roswell City Hall', 'Middle Georgia', 'Collins Street', 'Westover Boulevard', 'Camp Gordon', 'Chastain Rd', 'McEver Road', 'Southern Oaks Drive', 'the Braselton Civic Center', 'Clayton Street', 'Way Northeast', 'Mt. Pleasant', 'Kinridge Road', 'Blue Ridge Drive', 'Cobb Countys', 'Tara Boulevard', 'Columbus 89.5', 'Brookhaven Park', 'East Washington', 'the Oglethorpe Mall', 'Providence Canyon', 'East View Cemetery', 'Fayette County Jail', 'Courthouse Square', 'District Live', 'Pearl Street', 'Sylvan Road', 'Victory Home Lane', 'Ponce City Market', 'Wesley Chapel Road', 'Galleria Parkway', 'the Grand Opera House', 'Partin Park', 'Fayetteville Drive', 'the Oconee River', 'Middle Georgias', 'Twin City', 'Sky Valley Way', 'South Forsyths', 'the Henry County Kiwanis Fair', 'Rabbit Valley', 'Wisteria Ridge', 'Newnan 31', 'Hillcrest Dr', 'AL East', 'Oglethorpe Avenue', 'Fahm Street', 'St. Simon’s', 'the Jefferson Civic Center', 'Westend Area', 'Gwinnett County Fire', 'Georgia Avenue', 'City of Refuge', 'Bethany Hospice', 'the Mount Paran North Church', 'Emery Highway', 'the Wardlaw-Bible Meeting Room of the LaFayette-Walker County Library', 'New Holland', 'Myrtle Hill’s', 'Atlanta Vintage Books', 'North Gwinnett’s', 'HABERSHAM COUNTY', 'Monarch Village Way', 'East Georgia', 'Highland Av', 'West Franklin', 'the Lake Erie Walleye Trail', 'Arkose Drive', 'Oregon Park Baseball', 'the City of Boston', 'Henderson Stadium', 'Strand Avenue', 'Plant Bowen', 'North Oconee’s', 'South DeKalb', 'Peach Orchard Road', 'the Rome-Floyd County Library', 'the Gilmer County Library', 'the Hall County Jail', 'Clifton Road NE', 'Atlanta City Hall', 'Hickory Grove Road', 'Oak Ridge', 'Lake Blackshear', 'Canton Rd', 'Decatur Square', 'Silver Mine Trail', 'Nashville Street', 'Decatur Area', 'Speedway Boulevard', 'Butler Island', 'East-West Connector', 'Logan Farm Park', 'West Sandtown Road', 'the Truist Park', 'Mount Vernon Road', 'Roswell Area Park', 'the Cobb Civic Center', 'Buford Highway', 'Memorial Parkway', 'Woolfork Avenue', 'Jackson County Jail', 'Russell Street', 'Carver Street', 'West Jackson', 'Stone Mountain Park', 'North Marietta Parkway', 'Shaw Road', 'Peachtree Dunwoody Road', 'Braves Field', 'Bailey Reidling', 'Highway 53', 'Webster Street', 'Hillside Memorial Chapel', 'Eastern Wharf', 'Oak Drive', 'Lula Road', 'Mineral Springs Road', 'Lake Sinclair', 'Pass Road', 'W May St.', 'Mountain Valley', 'Bulloch Memorial Gardens', 'the Stephens County Courthouse', 'Truman Parkway', 'Lexington Heights', 'Fort Valley State University', 'the City of Madison’s', 'the Sonoraville Recreation Center', 'Chehaw Park', 'Oglesby Bridge Road', 'Lexington city', 'North Georgia', 'Harris Drive', 'Rocky Mount', 'the Buckhead Saloon', 'Paris Lake', 'Sawyer Road Elementary', 'Cherokee Bluff', 'Middle Georgia’s', 'the Gordon County Campus', 'Albany City', 'Bentley Rd', 'Callaway Middle', 'Lake Oconee', 'Greater Atlanta', 'the Gordon Central High School’s', 'the Golden Isles', 'Ledo Road', 'Logan Farm House', 'Peterson Street', 'South Effingham’s', 'Long Branch', 'S. Columbia Drive', 'Kilgore Street', 'Fairmont State', 'Southwest DeKalb', 'Muscogee County Sheriff', 'the Coastal Empire', 'La Crosse', 'Jardine Stadium', 'Hickory Hills', 'Southeast Atlanta', 'Chattahoochee Avenue', 'James Street', 'Cumberland Boulevard SE', 'the Georgia Diagnostic and', 'Bartow in', 'Haralson County High School', 'Mill Creek’s', 'Wooten Lake Road', 'East County Line Road', 'West Cobb Funeral Home and Crematory', 'the Buckhalter Road', 'Atlanta Highway', 'the Sandy Springs Performing Arts Center', 'Brumby Hall', 'State Farm Stadium', 'Olmsted Linear Park', 'Brantley Middle', 'River Ridge', 'the Ocmulgee River', 'Coffee County Jail', 'the Teacher Walk of Honor on Marietta Square', 'East Point’s', 'Rafe Banks Park', 'East Second Street', 'North 25th Street', 'the Buckner Rd Sidewalk', 'Grady Memorial Hospital', 'Chester Avenue', 'New Georgia', 'Union Grove', 'Rocky Mountain', 'Six Flags Parkway', 'the Economy Inn on Deans Bridge Road', 'Hiram Douglasville Highway', 'Lewis Nail Road', 'Phipps Plaza', 'Thomasville Heights', 'Watkins Pond Road', 'Shaw Park', 'West Side', 'Wake County', 'the Gwinnett County Animal Shelter', 'Al Bishop Drive', 'Pleasant Valley', 'Buford City', 'Butler County', 'Jefferson County Jail', 'Callaway Road', 'East Cobb’s', 'Red Hill', 'Avondale Estates City Hall', 'Forsyth Park', 'Main S', 'Kennesaw Avenue', 'Red Rock Search', 'Macon State Prison', 'Keith Road in Ringgold', 'Mt. Sinai Road', 'Holy Ground Baptist', 'the Garden District', 'Dunwoody City Hall', 'Academy Drive', 'Piedmont Village', 'Valhalla Stadium', 'Morningside Road', 'Loch Highland Pass', 'West End', 'Caldwell County', 'Ball Ground', 'Douglas County Jail', 'Cotton Hall', 'University Parkway', 'Silver Creek', 'Public Safety Drive', 'North Green Street', 'Park Ridge', 'Myrtle Avenue', 'W. Sandtown Road', 'St. Anne-Pacelli', 'the Walker County', 'Princeton Road', 'Callaway Stadium', 'Crest Lawn', 'Rose Hill Cemetery', 'Georgia State', 'the Cedartown Performing Arts Center', 'Tybee Island’s', 'Wade Walker Park', 'Mineral Bluff', 'Dogwood Drive', 'the Georgia State Capitol', 'St. Georges', 'Woodland of Cartersville', 'Poplar Street', 'Center City', 'Washington Farms', 'Wild Adventures', 'Colony Square', 'North Dakota', 'Old Airport Road', 'Clayton State', 'Holly Hill', 'Richmond Hill 28', 'Phoebe Putney Memorial Hospital', 'La Vista', 'Gallery West', 'Old Town', 'Prospect Heights', 'Browns Bridge Road', 'Western Springs', 'ORCHARD PARK', 'the Satilla River', 'North Brown Road Suite', 'the J.W. Marriott Savannah', 'Bailey Avenue', 'Atlanta Airport', 'Peachtree Street NE', 'Lake Dow Road', 'the Georgia Theatre', 'Whitaker Street', 'the Augusta Marriott', 'West Georgia Tech', 'Allen Road', 'Calhoun Square', 'the Garden City Police Department', 'St. Charles', 'Colonial Park Cemetery', 'South Calhoun Bypass', 'Trammell Road', 'Pleasant Hill Road', 'Gaines Road', 'Rabbit Valley Christmas Markets', 'Ford Avenue', 'Lenox Square', 'Tattnall Square', 'Jefferson River Rd', 'North Park Square', 'Pine Avenue', 'Gainesville 55', 'Bluffs Parkway', 'Little River', 'Anderson Avenue', 'Epps Bridge Parkway', 'the Port of Savannah', 'Chatham County District', 'Georgia National Cemetery', 'the Ritz Theatre', 'Brampton Avenue', 'Veterans Park', 'the Henry Grady College of Journalism', 'Trident Training Facility', 'Highway 80', 'Mt. Zion Road', 'the Georgia Aquarium', 'Cordova Street', 'the Calhoun Rec. Department', 'Mt. Vernon', 'the Cumberland Island', 'Center Stage', 'Old Savannah City Mission', 'North Cobb High School', 'the Georgia State Prison', 'Shorty Howell Park', '110 Airport Road', 'Lynwood Park', 'Windsor Parkway', 'Cobb Parkway N.', 'Holiday Park', 'El Don', 'Jackson Street', 'Georgia Highway', 'the East River', 'West Lake Street', 'Lake Trahlyta', 'Riverview Park', 'Mount Moriah Road', 'West Forsyth', 'West 14th Street', 'Cobb County Water', 'Floyd Memory Gardens', 'Johnstonville Road', 'Park Street', 'Heritage Point Park', 'Villa Rica', 'Mooty Bridge Rd', 'Shallowford Road', 'Paulding County’s', 'Pinecrest Drive', 'Richmond Hill', 'Parkway South', 'Cobb Parkway S.', 'Mount Paran Christian', 'the City of Tybee Island', 'Bobo Street', 'the Lee County Jail', 'Bay Street', 'Franklin Springs', 'North Shore', 'Key Road', 'Monroe Area', 'Veterans Memorial Pkwy', 'Cherokee County’s', 'Jaycee Stadium', 'Granger Park', 'the Powder Springs Library', 'the William Root House', 'Vidalia 36', 'Garrard Avenue', 'Cobb County Water System', 'Fort Benning', 'Lookout Mountain', 'Liberty Avenue', 'Oak Hill', 'Beacon Hill', 'Adamson Square', 'Baconton Charter', 'Calhoun P.D.', 'Lawrence Street', 'Sunset Drive', 'West Savannah Street', 'West Madison', 'Plant Atkinson Road', 'Hallford Stadium', 'Almond Street', 'Chattahoochee Hills', 'South Cobb', 'Bulldog Stadium', 'Fair Road', 'Hickory Hills Elementary School PTA', 'the White Oak Road Farm', 'W Candler Street', 'Patterson Street', 'Joint Venture Park', 'Abercorn Street', 'Hampton Street', 'Beech Island', 'Myrtle Street', 'the Gwinnett County Fair', 'Walker County Sheriff', 'Gwendolyn Street', 'T.H. Slater Elementary', 'West Ave.', 'Clairmont Road', 'the Douglas County Courthouse', 'the City of White', 'the Georgia International', 'Spencer Park', 'Franklin County Citize', 'Beech Avenue', 'Macland Road', 'Palo Alto', 'Newton Ridge Drive', 'Lavonia Road', 'Liberty Plaza', 'West Lake', 'the Granite Bowl', 'Frances Avenue', 'Neptune Park', 'Greystone Drive', 'Fairground Street', 'the Olde Town Pavilion', 'North Hills', 'Little Cumberland Island', 'Cherokee Street', 'Plant Riverside District', 'Veterans Plaza', 'Lindbergh Center', 'Joe Stock Memorial Park', 'North Street', 'Trickum Road', 'Bobo Drive', 'Peyton Place', 'Glenn Hills', 'Atlanta Street Trail/Cobb', 'East Jackson', 'Calhoun State Prison', 'north metro', 'Plant Wansley', 'Taliaferro County', 'Adams Park', 'Butts Mutts', 'the Kia Georgia Training Center', 'Northwest Whitfield', 'Beverly Hills', 'Crystal Springs', 'the City of Dahlonega', 'the Cobb County Water System', 'Clayton City Hall', 'Favor Road', 'Riverside Drive', 'Giving Kitchen', 'Michelin Raceway Road', 'JEFFERSON PD', 'Kennesaw Mountain Park', 'the Richmond Hill City Center', 'Bells Ferry Road', 'Hinesville City Hall', 'Peachtree Street', 'the Etowah River', 'Hickman Drive', 'Junction City', 'Sapelo Island', 'Fields Ferry Golf Club', 'Boling Park', 'Edmondson Avenue', 'Lake Park', 'West Armuchee', 'Local Church Forsyth', 'Still Family Farm', 'Curtis Parkway', 'Blue Ridge', 'the Hartwell First United Methodist Church', 'Hammond Drive', 'Zebulon Road', 'Chastain Road', 'Glendale Avenue', 'Battery Avenue SE', 'Broughton Street', 'Pyne Road', 'the Georgia Dome', 'Pine Street', 'a White House', 'Walter Cantrell Stadium', 'Central Georgia', 'Floyd County Jail Records', 'Kennesaw Memorial Park', 'Monroe County Jail', 'William Walker Recreation Center', 'Allatoona Creek Park', 'the Griffin Bears', 'the Jepson Center', 'East Park Square', 'the Marietta Square', 'Beaver Dam Creek', 'Blossom Drive', 'the Carter Center', 'the Toccoa River', 'Memorial Drive', 'Old Alabama Road', 'Altama Avenue', 'Park Avenue', 'Tallulah Gorge State Park', 'Carrollton City', 'Mall Blvd', 'Eastview Cemetery', 'Arnall Drive', 'Southwest Macon', 'New Macland Road/Cobb', 'Pleasant Grove Road', 'Missouri River Bluffs', 'Crown Mountain Place', 'Flint Avenue', 'the Houlihan Bridge', 'Lower Woolsey Road', 'Crazy P Arena', 'Forrest Road', 'Marietta City Hall', 'Cumberland Point Drive', 'the Cobb Galleria Centre', 'Burr Park', 'Giles Road', 'Rountree Stadium', 'Erwin Street', 'West Ponce de Leon Avenue', 'the Plant Riverside District', 'The Carter Center', 'North Springs', 'Pierce County Schools', 'Diver’s Den', 'Jackson County High School', 'Oglethorpe Mall', 'First Street', 'East Atlanta Village', 'Eveline Avenue', 'Oak City Cemetery', 'Church Street', 'Lake Oconee Village', 'Oak Grove', 'The Talmadge Bridge', 'Washington Highway', 'Red Devil Hill', 'Lafayette Road', 'North Druid Hills Road', 'Lilburn City Park', 'Monroe Street', 'T.A. Wright Stadium', 'Saddle Ridge', 'the Carroll County Jail', 'North Paulding', 'Atlanta Medical Center', 'Jonesboro Road', 'Statesboro Regional Library', 'Hicks Road', 'Collins Circle', 'the Talmadge Bridge', 'Cobb Parkway', 'the Barrow County Detention Center', 'Arbor Place Mall', 'the Savannah Area Chamber of Commerce', 'South Augusta', 'Dean Avenue', 'Matthews Field', 'Interstate 475', 'Morgan County Citizen', 'Amerson River Park', 'Union City’s', 'Mariposa Farms', 'Sun Valley', 'Augusta Regional Airport', 'the Rome Civic Center', 'Fieldale Farms', 'Old Pendergrass Rd', 'Coastal Georgia', 'Old River Road South', 'Cateechee Golf Center', 'West Cobb Funeral Home and', 'the Superior Plumbing VECTR Center', 'Wayne County High School', 'Talmadge Bridge', 'Rocky Face', 'Quail Valley Road', 'North Point', 'Washington Road', 'Swainsboro City Cemetery', 'Hartley Bridge Road', 'the Fox Theatre', 'Wilder Center', 'Windy Hill Road', 'Brown Bridge Road', 'the Stephens County Senior Center', 'Rocky Creek', 'River City Bank', 'Kennedy Funeral Homes', 'The City of Tempe', 'North Cobb', 'Carter Center', 'East 4th Street Woodbine', 'Healthy Savannah', 'River Street', 'Deans Bridge Road', 'The Oglethorpe Echo', 'Eisenhower Plaza', 'Oak Lawn', 'Perimeter Center West', 'KIPP Atlanta', 'The City of Valdosta', 'East 4th Street', 'Langford Parkway', 'Hotel Tybee', 'Piedmont Center', 'Little Cottage Brewery', 'the GGC Tennis Facility', 'the Madison County Library', 'Bethesda Academy Savannah', 'The Hostess City', 'the Middle District', 'Buckhead Village', 'Mossy Creek United Methodist Church', 'the Macon City Auditorium', 'the Albany Mall', 'Highland Ter', 'Pine Hills Golf Course', 'the Savannah Civic Center', 'South Gwinnett', 'West Avenue', 'the Saint Andrews', 'Tybee Islands', 'the Columbia County Exhibition Center', 'Gascoigne Bluff', 'West Main', 'Cobb Galleria', 'the Star Bar', 'Fort Gillem', 'Turner Lake Road', 'Cobb St.', 'Euclid Avenue', 'McLeod Drive', 'Reynolds Street', 'North Wildwood', 'Lake Acworth', 'Sanford Stadium', 'South Forsyth', 'North Pierce Avenue', 'Hampton Glen', 'Forest Lake', 'Alverson Rd.', 'Grey Hill Cemetery', 'Roosevelt Boulevard', '900 Newnan Road', 'Brookhaven City Hall', 'the Calhoun Middle School', 'Etowah River Park', 'Macon Regional Crime Stoppers', 'Wildwood Park', 'River View Nursing Home', 'Presbyterian Village', 'the Decatur Square', 'New River', 'Saint Mary’s', 'Amberly Drive', 'Calhoun City Park', 'Lee Street', 'Jekyll Island', 'Buena Vista', 'Rossville Recreation Association', 'Central Gwinnett', 'the Olmstead Homes', 'the Russell Union', 'Cochran Road', 'Jacksonville State', 'Silver Bluff', 'South Georgia Tech', 'Wesley Woods of', 'Old River Road', 'Mableton Parkway', 'Marietta Square', 'West Main Street', 'Atlanta Rd', 'New Macland Road', 'Paulson Stadium', 'Santa Claus', 'Holloman Road', 'Skidaway Road', 'Bobby Dodd Stadium', 'Mt. Paran', 'St. John Bosco', 'Titan Stadium', 'the Oostanaula River', 'the City of St. Marys', 'Georgetown Drive', 'Indian Hills', 'Cook County State’s', 'Wrightsboro Road', 'King Island', '49 Hammond Drive', 'Rabbit Valley Farmers Market in', 'the Lees Crossing Clubhouse', 'Center Parc Stadium', 'Mt. Zion-Carrollton', 'Capitol Avenue', 'Murray County High School', 'Renaissance Park', 'Polk County Jail', 'Marietta High', 'Evans Memorial Updated', 'Ga. Highway', 'Amicalola Creek', 'Four Oaks', 'Forest Park 10', 'Holcomb Bridge Road', 'Henry County’s', 'West Highland Street', 'Calhoun City Schools', 'Cumberland Mall', 'Sandy Creek', 'East Atlanta', 'Concord Rd', 'the Battery Atlanta', 'the Highland Park', 'Granade Street', 'the City of Smyrna', 'Red Rock', 'Oak Forest', 'Oak Street', 'Lazy River Motocross', 'Woodruff Riverfront Park', 'West Hartford', 'Camp Creek Elementary', 'Red Rocks', 'Pennsylvania Avenue', 'Douglas County Courthouse', 'New Hope', 'Pleasant Hill', 'the North Georgia State Fair', 'The Port of Savannah', 'Redmond Circle', 'Briarcliff Road', 'Cook Street', 'Commerce Rd', 'Old Horseshoe Bend Road', 'South Marietta Parkway', 'Yahoola Creek Park', 'Southwest Regional Airport', 'Lanier Islands Parkway', 'Cresta Drive', 'Rock Hill', 'Apple Valley Rd', 'East Broad', 'the Noonday Creek Trail', 'Kennesaw Mountain', 'Lakeview-Fort Oglethorpe', 'Forsyth Street', 'West Chester', 'Cobb Medical Center', 'Crooked River State Park', 'Lake Allatoona', 'Bentley Road', 'Whitesville Rd.', 'North Academy', 'Crooked Creek Rd', 'Etheridge Road', 'Fulton County Stadium', 'Mount Carmel', 'Savannah Airport', 'East Macon', 'the Polk County Jail', 'the Gordon County Fire Department Station', 'Mount Parans', 'Kennesaw Memorial Park Cemetery', 'los recuerdos', 'The Classic Center', 'Bob Pearson Field', 'Clay County', 'Southeast Bulloch', 'North 27th Street', 'Parkway Trail', 'Cobb Pkwy NW', 'Turtle Creek Drive', 'Mount Pleasant', 'Cobb Parkway SE', 'Southside Commercial Parkway', 'East Forsyths', 'Cumberland Valleys', 'Oak Brook', 'the Historic District', 'Lake Acworth Drive', 'Truist Park', 'MacArthur Drive', 'the Dalton Convention Center', 'Gordon County Schools', 'Welcome All Park', 'Agnes Scott', 'Manchester Avenue', 'Benson Street', 'Downing Street', 'Mount Paran Road', 'The Lee County', 'the Ogeechee River', 'Tommy Cash Stadium', 'the Hartwell Library', 'Field Street', 'Mt. Bethel', 'Lincoln Park', 'the Georgia National Cemetery', 'West Point Rd.', 'the Chickamauga Public Library', 'Seaboard Ind.', 'Beaver Ruin Road', 'St. Simons Island', 'Moreland Avenue', 'Grove Level Park', 'Mimosa Boulevard', 'West Broad', 'the Children’s Advocacy Center', 'Heritage Park', 'Oglethorpe Road', 'Cobb Parkway North', 'Mill Creek High School Football Game', 'Cedar Point', 'Bristol Bay', 'Windsor contributed', 'North Macedonia', 'Decatur City Hall', 'Brockton Rd', 'Duncan Bridge Rd', 'Capitol View', 'Ft. Oglethorpe', 'Southview Cemetery', 'River Road', 'Southern Soul Barbecue', 'Stephens Memorial Gardens', 'Georgia Memorial Park', 'South Main', 'the Washington W. King/College Avenue Bridge', 'Cunningham Road', 'New Milford', 'Auburn Street', 'Mirror Lake Connector', 'Bryson Park', 'Big Springs', 'Middle Atlantic', 'Goshen Road', 'Mt. Paran Christian', 'Statesboro City Hall', 'the Coosa Valley Fair', 'Lake Lanier', 'Indian Lake Drive', 'Mount Paran North', 'Lake Toccoa', 'Fort Valley State', 'Lamar Murphy Park', 'Cedar Crest', 'Fort Screven', 'Pike County Schools', 'Alabama Highway', 'Lincoln Heights', 'Crestlawn Memorial Park Cemetery', 'Brodie Field', 'Dougherty County Jail', 'the Flovilla City Hall', 'Sugarloaf Mills Mall', 'Azalea Park Apartments', 'the Rossville Public Library', 'Cedar Creek', 'New Manchester', 'Sawyer Road', 'South Cobbs', 'Calhoun Georgia', 'Godfrey Stadium', 'Peachtree Road', 'Butts County’s', 'the Georgia Sports Hall of Fame', 'Travelers Rest', 'City Pond Park', 'Wildcat Bridge Road', 'Saint Louis', 'Wilson Avenue', 'W Athens Street', 'the Habersham County Extension', 'the Coca-Cola Roxy', 'Newnan 14', 'Rock City', 'Grindstone Drive', 'Bristol Farms', 'The Houlihan Bridge', 'St. Vincent de Paul', 'Dallas Highway', 'McLane Riverview Memorial Gardens', 'South State Street', 'Peachtree Ridge', 'Sandy Springs United Methodist Church Preschool', 'Adair Park', 'North Murray', 'Cedartown Memorial Stadium', 'North Murray’s', 'the Cheatham Hill', 'the Ruby Fulbright Aquatic Center', 'Flat Rock', 'the Houston County District', 'the Rabun County Detention Center', 'Atlanta Botanical Garden', 'Springfield Street', 'Southeast Whitfield', 'East Central', 'Richardson Street', 'the Golden Isles Alzheimer’s Walk', 'Peachtree Rd', 'Discovery Boulevard', 'Interstate 575', 'Rabbit Valley Farmers Market in Ringgold', 'Roberts Drive', 'Buckhead Saloon', 'Habersham Central 21', 'Unicoi State Park', 'Meadowlark Drive', 'Albany State', 'the Carson McLane Funeral Home', 'Ada Street', 'the Bowers Meeting Room of the Rossville Public Library', 'Cumberland Island', 'Pleasant Grove', 'the Chatham County Police Department’s', 'Powder Springs Rd', 'Stephens County High School', 'West Cobb Funeral Home', 'East Tugalo Street', 'Coahulla Creek', 'the Butts County Animal Shelter', 'Isle of Hope', 'Cedar Valley', 'Sugarloaf Parkway', 'South Georgia Medical Center', 'E. Park Place Blvd', 'Naval Submarine Base Kings Bay', 'West Road NW', 'Apple Valley', 'Oak Grove Rd', 'the City of Elberton', 'McGregor Street', 'Northside Drive', 'Maddox Rd', 'Chapel Hill High School', 'Dahlonega Funeral Home', 'Hamilton Medical Center', 'Sea Island', 'Prince Tate', 'East Cherokee Drive', 'Catoosa Parkway', 'Columbus Avenue', 'the South Forsyth', 'North Oconee', 'Mimosa Drive', 'Adams Stadium', 'Iris Drive', 'Stone Mountain Lake', 'Gainesville’s Memorial Park Cemetery', 'The Wimberly Center for Community Development', 'Mt. Pisgah', 'Dougherty County’s', 'West Georgia’s', 'Winkenhofer Pine Ridge Funeral Home', 'White Bluff Road', 'Eisenhower Drive', 'Gordon County’s', 'Willingham Avenue', 'Univeter Road', 'West Village', 'Davis Street', 'the City of Decatur', 'the St. Simons Casino Theater', 'Bailey Falter', 'Cascade Drive', 'East Lake Drive', 'the Golden Isles Development Authority', 'Panola Road', 'Red Bud', 'Habersham Central 0', 'the Garden City Terminal', 'Oslo Road', 'Seaboard Industrial', 'Bedford Park Boulevard', 'Clay Street', 'Haralson County Rebels', 'Cherokee County Fire and Emergency Services', 'Covington Square', 'Burns Road', 'Morris Street', 'Gwinnett County Jail', 'Corky Kell Stadium', 'Thomas County Central', 'the Enmarket Arena', 'Anderson Street', 'River North', 'Weaver Street', 'West Hill Avenue', 'the Glynn County Detention Center', 'Redfern Village', 'Oaknoll Memorial Gardens', 'North Cobb’s', 'Bell Auditorium', 'Plum Orchard', 'Sugar Valley', 'Henry Street', '26th Street', 'South Effingham', 'South Paulding', 'Heritage Hills', 'Mack Tharpe Stadium', 'Parker Road', 'Bluff Drive', 'Clay Road', 'Henderson Park', 'Crawford County', 'the Upson Beacon', 'North West', 'Floyd County Superior Court', 'North Broad Street', 'the Stimson Center', 'Atlanta Street', 'Gas South Arena', 'Thompson Stadium', 'Burruss Elementary School', 'Buford Drive', 'Paper Mill Road', 'Pine Island Road', 'Dan Pitts Stadium', 'Hamilton Street', 'Floyd Springs', 'Underground Atlanta', 'Austell Road', 'the Georgia Constitution', 'Cotton Avenue', 'Mount de Sales', 'Interstate 520', 'Cedar Avenue', 'Ridge Ferry Park', 'Airport Road', 'Mount Vernon', 'Craigtown Road', 'Cedar Grove', 'Cave Spring', 'the Coosa Valley Fairgrounds', 'Buckhalter Road', 'Old Decatur Cemetery', 'Peters Street', 'the East Side', 'Newnan 34', 'Oregon Park', 'South Main Street', 'Atlanta Road', 'New England', 'Bethany Lilly', 'the White City', '46 Plaza Way', 'Rivaridge Drive', 'West Georgia', 'the Alliance Theatre', '3227 Roswell Rd NE', 'Bridal Veil Falls', 'Salem Road', 'the Rome Area History Center', 'Butterworth Lane', 'North Greenville', 'The Battery Atlanta', 'Old Mountain Road', 'the Acree-Davis Funeral Home', 'Meadowbrook Memory Gardens', 'Avondale Stadium', 'Cleveland Avenue', 'North Gwinnett', 'Marietta 0', 'FORSYTH PARK', 'White Bluff', 'Balus Creek Park', 'Sugarloaf Mill', 'Pulaski Street', 'Jaren Hall', 'County Road 380', 'the Enmarket Arena Updated', 'Peachtree Industrial Boulevard', 'St. Francis Hospital', 'Cobb mall', 'Buckner Rd', 'Pulaski Square', 'the Sidney Lanier Bridge', 'East Cobb Park', 'Douglas Countys', 'Valdosta State', 'Diamond Lakes Park', 'Poplar Springs Road', 'Carmichael Funeral Home', 'Midway Road', 'Olde Town', 'Albany Street', 'North Main Street', 'West Laurens', 'Burn Center', 'the Cedar Valley', 'Yonah Memorial Gardens', 'Riverside Parkway', 'Coosa Valley', 'Meriweather County', 'Bailey Warnix', 'Wayne County High', 'South Forsyth’s', 'West Hill Cemetery', 'Fort Gordon', 'Lawrenceville Highway', 'Benton Harbor', 'Lewis Ridge Circle', 'East Broughton Street', 'Maple Grove', 'Hamilton Road', 'Carroll Memory Gardens', 'The Grand Opera House', 'Silverton Road', 'Madison Countys', 'the Lumpkin County', 'the Historic Fourth Ward Park', 'Park Place Restaurant', 'Madison Street', 'Osprey Cove Drive', 'Pine Mountain', 'Clifton Road', 'Lakewood Stadium', 'Lula Grocery', 'Tunnel Hill', 'West Street', 'Sunset Hill Cemetery', 'Watts Drive', 'Orange Street', 'Tiftarea 21', 'Southern Willow Farms', 'The City of Rome', 'Lithonia Park', 'the City of Winder', 'Piedmont Park', 'Townpark Drive', 'Grizzard Park', 'Brook Run Park', 'Green Street', 'Kelly’s Market', 'Jackson Heights', 'West Central', 'Saint Simons Island', 'the Sapelo Island Welcome Center', 'Mountain Views', 'Cloudland Canyon State Park', 'the Albany Civic Center', 'Black Rock Mountain State Park', 'Dalton State', 'Chandler Road', 'Valdosta State Prison', 'Lake Marion', 'Magnolia Drive North', 'Beachview Drive', 'Paulding Avenue', 'Lanier Drive', 'Omaha Fire', 'the Ogeechee River Basin', 'Jenkins County High School', 'Athens Highway', 'the Hostess City', 'Walton -', 'Piedmont Henry', 'West Savannah', 'Pooler Parkway', 'Inman Park', 'Chestnut Hill', 'Peach Belt Conference', 'the Knights Inn on Boy Scout Road', 'the Rome Tennis Center', 'Westside Road', 'Chapel Hill', 'Mt. Bethel’s', 'Maple Avenue', 'Northeast Georgia', 'Belle Isle', 'Fairview Avenue', 'Tumlin Park', 'Candler Park', 'Riverside Park', 'Buckhead City', 'Turner Lake Park', 'St. Pius', 'Brewton Cemetery', 'Westside Drive', 'Shiloh Valley Drive', 'Islands Stadium', 'Roswell Road', 'Atlanta City', 'Diamond Lakes', 'Clinton County', 'Herb St. John Stadium']\n",
            "1368\n",
            "['R-Acworth', 'Cedartown', 'Aquinas', 'Andalusia', 'Wheeler', 'Menlo', 'Beach', 'Barnesville', 'Collinsville', 'Pressley', 'Whitesburg', 'Gough', 'Sylvester', 'Whitesville', 'Crandall', 'Lewiston', 'Levy', 'Marlborough', 'Jake', 'Ithaca', 'Bates', 'Franklin', 'RINGGOLD', 'Glennville', 'Middleton', 'PLAINFIELD', 'Magnolia', 'Lyons', 'Durham', 'Rydal', 'Sherrod', 'Rollins', 'Salem', 'Suwanee.', 'Boulder', 'Chatsworth', 'Milford', 'Clarkston', 'Murphy', 'Allen', 'Betts', 'Redmond', 'Chastain', 'Redding', 'Louise', 'Thurman', 'Nashville', 'Mitchell', 'Leefield', 'Potter', 'Stephens', 'Kirkland', 'Monterey', 'Skyline', 'Woodbury', 'Benton', 'Rossville', 'Colbert', 'Matthews', 'Shenandoah', 'APPLING', 'Dacula', 'Whitworth', 'Naylor', 'Braxton', 'Hogansville', 'Mooney', 'STOCKTON', 'Morton', 'York', 'Greensboro', 'casa', 'Malibu', 'Abbeville', 'Gordon', 'Howard', 'Ringgold', 'Martin', 'Leesburg', 'Anguilla', 'Blairsville', 'Blakely', 'Darlington', 'Owensboro', 'Homerville', 'Hoschton', 'Pitt', 'Bridgewater', 'Tatemville', 'Clarksville', 'Northwestern', 'Leary', 'Boynton', 'Wrens', 'Bailey', 'Oakville', 'Atkinson', 'Coosa', 'Cleveland', 'Atwater', 'Auburn', 'Warrenton', 'Demorest', 'Ellaville', 'Oakland', 'Midway', 'Omaha', 'Linwood', 'Bowman', 'Smokey', 'Oliver', 'Sacketts', 'Armuchee', 'Swainsboro', 'Newport', 'BOULDER', 'Rebecca', 'Branson', 'Eatonton', 'Collins', 'Jenkinsburg', 'Parent', 'Appling', 'Richardson', 'Donalsonville', 'Turnerville', 'Hiawassee', 'Westchester', 'Bogart', 'Pittman', 'Montreal', 'Lakeland', 'LOUISVILLE', 'Ridgeland', 'Marshallville', 'Ellijay', 'Maxeys', 'Parkersburg', 'Lafayette', 'Bridgeport', 'Metter', 'Camelot', 'Marshall', 'Buffalo', 'Colonnade', 'Dawsonville', 'Ripley', 'Lula', 'Minn.', 'Bulletin', 'Bartow', 'Cochran', 'Roland', 'Brownsville', 'Raymond', 'Manheim', 'Meansville', 'Rock', 'Carlton', 'Portland', 'Woodland', 'Bellevue', 'Molena', 'Lakewood', 'Lilburn', 'Cary', 'Weston', 'Reno', 'Berryville', 'Leland', 'ARLINGTON', 'Riverwood', 'BLUFFTON', 'Oglethorpe', 'Darien', 'STATENVILLE', 'ST', 'Pretoria', 'Mayfield', 'Guyton', 'Nevils', 'Bostwick', 'Carvana', 'Capitol', 'Westbrook', 'Ballground', 'Curtis', 'Alma', 'Plainville', 'Dubois', 'Astoria', 'Marks', 'Lavina', 'BIRMINGHAM', 'Bellville', 'Milan', 'Collier', 'Pineville', 'Brewton', 'Norwich', 'Monticello', 'Rockville', 'Brookfield', 'Corinth', 'R-Dahlonega', 'Mayfair', 'Roopville', 'NORMAN', 'Shiloh', 'Brownlee', 'Bryant', 'Hartsfield', 'Winnersville', 'Crestview', 'Newark', 'NASHVILLE', 'Moreland', 'Hillsboro', 'Pelham', 'Wellington', 'RICHFIELD', 'Westfield', 'Lester', 'Westwood', 'Waynesville', 'Pembroke', 'Youngstown', 'Bonaire', 'Pineland', 'Piedmont', 'NAHUNTA', 'Southgate', 'DECATUR', 'Montevideo', 'Bladen', 'Pleasant', 'Lakeview', 'Aquarium', 'Birmingham', 'Glenwood', 'Inman', 'Bethesda', 'Horn', 'Allendale', 'Decatur', 'Lehigh', 'Caruso', 'Westside-Macon', 'Hazlehurst', 'Cisco', 'Quitman', 'Norristown', 'Chicopee', 'Sylvania', 'Doerun', 'Oostanaula', 'Madison', 'Berkmar', 'Phoenix', 'Carnesville', 'Adairsville', 'Byron', 'Broxton', 'Mershon', 'Etowah', 'NEWARK', 'Lumpkin', 'Maplewood', 'Northview', 'Clifton', 'Woodmont', 'Boston', 'cottonwood', 'Brighton', 'Panhandle', 'Southside', 'Hawkinsville', 'Bullard', 'Princeton', 'R-York', 'Claxton', 'Amsterdam', 'Juliette', 'Cannon', 'Lithuania', 'Montpelier', 'Victory', 'Harlem', 'Bermuda', 'Nicholasville', 'Altamaha', 'Trenton', 'Canon', 'Hartley', 'PROVIDENCE', 'Wesleyan', 'Loving', 'Lisbon', 'Reece', 'Veranda', 'Orange', 'Chester', 'Clinton', 'Hull', 'Carmel', 'Adrian', 'Colquitt', 'Brooklyn', 'Pumpkin', 'Plymouth', 'Moore', 'Marysville', 'Pearson', 'Millen', 'Ludowici', 'Bay', 'NE', 'Brentwood', 'Blackshear', 'Ypsilanti', 'Flovilla', 'Linden', 'N.E.', 'McKinnon', 'Winterville', 'LaFayette', 'Alamo', 'Lagrange', 'Rosemont', 'N.H.', 'Bristol', 'Jersey', 'Westside', 'Clyattville', 'Beulah', 'Knoxville', 'Lewis', 'Unionville', 'Haddock', 'Cobbham', 'Windsor', 'Haralson', 'Norman', 'Newborn', 'Fairmount', 'Canterfield', 'Lakemont', 'Pitts', 'Pasco', 'Gillsville', 'Beaumont', 'BRISTOL', 'Lynn', 'Clarkesville', 'Wildwood', 'Wrightsville', 'Hephzibah', 'Berry', 'Belmont', 'GROVETOWN', 'Maddox', 'Prescott', 'Clyo', 'Nottingham', 'Midville', 'Loganville', 'Macedonia', 'Soperton', 'Bowdon', 'Rutledge', 'Westlake', 'Normandy', 'Meridian', 'DENVER', 'Villanow', 'Normaltown', 'Jarrett', 'Bennington', 'Charles', 'Roscoe', 'Hartwell', 'Randall', 'Redfield', 'Smithville', 'Lowery', 'Jekyll', 'Sautee', 'Fairfield', 'Woodlawn', 'Yatesville', 'Comer', 'Riverside', 'Lawton', 'Grovetown', 'Williamsburg', 'Pruitt', 'Westminister', 'Woodbine', 'Clayton', 'FORSYTH', 'Wiley', 'THOMSON', 'Providence', 'Danielsville', 'Baxley', 'Murrayville', 'Alps', 'Register', 'Hortense', 'Norris', 'Oldtown', 'Winston', 'Hinesville', 'Siloam', 'Southlake', 'Cottonwood', 'Morgan', 'Rogers', 'Reese', 'Allatoona', 'Rutland', 'Chickamauga', 'Pearl', 'Pebblebrook', 'Tibet', 'Phillips', 'Tybee', 'Relay', 'Nelms', 'BOSTON', 'Dutchtown', 'Patterson', 'Aubrey', 'Briarwood', 'Sardis', 'Bradley', 'Chestatee', 'Copeland', 'Weatherford', 'Fannin', 'Davisboro', 'Brooks', 'Wesley', 'Crawfordville', 'Eastman', 'Brooklet', 'Bloomingdale', 'LEXINGTON', 'DeSoto', 'Millard', 'Trafford', 'Millwood', 'Rockmart', 'Billy', 'Reinhardt', 'DOVER', 'Morganton', 'Barrington', 'Kimberly', 'Baconton', 'Whitewater', 'Folkston', 'Sanford', 'Roseville', 'Morris', 'Chula', 'canoe', 'Sandy', 'Carbondale', 'Chattahoochee', 'Abbotsford', 'Drayton', 'GEORGETOWN', 'Chamberlin', 'Manassas', 'Merrillville', 'Ashland', 'Butler', 'Grady', 'Budapest', 'Ashburn', 'Forsyth', 'White', 'Rochelle', 'Dover', 'Plainfield', 'Broughton', 'Cordele', 'Anna', 'Westover', 'Barnes', 'Maysville', 'Dawson', 'Burlington', 'Browning', 'LEO', 'Suwanee', 'Bucktown', 'Newtown', 'Roberta', 'Paxton', 'Hebron', 'Rosewood', 'Lithonia', 'Cordova', 'Waleska', 'Dahlonega', 'Bowersville', 'Pace', 'Plains', 'Hahira', 'Pittsburg', 'Kathleen', 'Maynard', 'Adamsville', 'Butner', 'Moca', 'Broncos', 'Elberton', 'Burnsville', 'Lombard', 'Rialto', 'Oxford', 'Rentz', 'Waynesboro', 'Clarksdale', 'Lincolnton', 'Pomona', 'Rincon', 'Adel', 'BEVERLY', 'PHOENIX', 'Dillard', 'Lexington', 'Birdy', 'Riceboro', 'Raleigh', 'Douglassville', 'Louisville', 'Beverly', 'Flint', 'Fairburn', 'Centegix', 'Portal', 'Brookwood', 'Miramar', 'Nahunta', 'Center', 'Calgary', 'CLAXTON', 'R-Minnesota', 'Alto', 'Indianola', 'Lowell', 'Barretts', 'Blanton', 'Royston', 'S.M.', 'Bethany', 'William', 'Odessa', 'Lavonia']\n",
            "562\n"
          ]
        }
      ]
    },
    {
      "cell_type": "code",
      "source": [
        "import numpy as np\n",
        "df['place_ng1'] = df['article_final'].astype(str).apply(lambda x: set.intersection(set(x.split(' ')), word_unigrams_done))\n",
        "df['place_ng2'] = df['article_final'].astype(str).apply(lambda x: [i for i in word_bigrams_done if i in x])\n"
      ],
      "metadata": {
        "id": "GuIb9pjICaGS"
      },
      "execution_count": null,
      "outputs": []
    },
    {
      "cell_type": "code",
      "source": [
        "\n",
        "# only for what spaCy found\n",
        "\n",
        "df['place_ner1'] = df['ner_places_clean'].astype(str).apply(lambda x: set.intersection(set(x.split(' ')), word_unigrams_done))\n",
        "df['place_ner2'] = df['ner_places_clean'].astype(str).apply(lambda x: [i for i in word_bigrams_done if i in x])\n"
      ],
      "metadata": {
        "id": "NuLnSpGCgXyr"
      },
      "execution_count": null,
      "outputs": []
    },
    {
      "cell_type": "code",
      "source": [
        "# article identification\n",
        "\n",
        "df_uni = df[(df['place_ng1'].str.len()) >= 1]\n",
        "df_bi = df[(df['place_ng2'].str.len()) >= 1]\n",
        "\n",
        "df_uni = df_uni[['id', 'source', 'place_ng1']]\n",
        "df_bi = df_bi[['id', 'source', 'place_ng2']]\n",
        "\n",
        "df_uni_df = df_uni.explode('place_ng1')\n",
        "df_bi_df = df_bi.explode('place_ng2')\n",
        "\n",
        "df_uni_df = df_uni_df.rename(columns={'place_ng1': 'place_ner'})\n",
        "df_bi_df = df_bi_df.rename(columns={'place_ng2': 'place_ner'})\n"
      ],
      "metadata": {
        "id": "83NMMSwcggCD"
      },
      "execution_count": null,
      "outputs": []
    },
    {
      "cell_type": "code",
      "source": [
        "df_ng_all = pd.concat([df_uni_df, df_bi_df])"
      ],
      "metadata": {
        "id": "FbOHNB_whKXX"
      },
      "execution_count": null,
      "outputs": []
    },
    {
      "cell_type": "code",
      "source": [
        "# ner identification\n",
        "\n",
        "df_uni2 = df[(df['place_ner1'].str.len()) >= 1]\n",
        "df_bi2 = df[(df['place_ner2'].str.len()) >= 1]\n",
        "\n",
        "df_uni2 = df_uni2[['id', 'source', 'place_ner1']]\n",
        "df_bi2 = df_bi2[['id', 'source', 'place_ner2']]\n",
        "\n",
        "df_uni_df2 = df_uni2.explode('place_ner1')\n",
        "df_bi_df2 = df_bi2.explode('place_ner2')\n",
        "\n",
        "df_uni_df2 = df_uni_df2.rename(columns={'place_ner1': 'place_ner'})\n",
        "df_bi_df2 = df_bi_df2.rename(columns={'place_ner2': 'place_ner'})\n"
      ],
      "metadata": {
        "id": "bVLKHF8hEVww"
      },
      "execution_count": null,
      "outputs": []
    },
    {
      "cell_type": "code",
      "source": [
        "df_ng_all2 = pd.concat([df_uni_df2, df_bi_df2])"
      ],
      "metadata": {
        "id": "nwpS8B_4EVmz"
      },
      "execution_count": null,
      "outputs": []
    },
    {
      "cell_type": "code",
      "source": [
        "count = df_ng_all.groupby(['source']).count()"
      ],
      "metadata": {
        "id": "xDdANgf1hdTH"
      },
      "execution_count": null,
      "outputs": []
    },
    {
      "cell_type": "code",
      "source": [
        "count_20 = count[count['place_ner'] >= 20].reset_index()"
      ],
      "metadata": {
        "id": "tHu85ziIhfyT"
      },
      "execution_count": null,
      "outputs": []
    },
    {
      "cell_type": "code",
      "source": [
        "count2 = df_ng_all2.groupby(['source']).count()"
      ],
      "metadata": {
        "id": "RICKWHAzErbv"
      },
      "execution_count": null,
      "outputs": []
    },
    {
      "cell_type": "code",
      "source": [
        "count2_20 = count2[count2['place_ner'] >= 20].reset_index()"
      ],
      "metadata": {
        "id": "0kQhPeL0EuJP"
      },
      "execution_count": null,
      "outputs": []
    },
    {
      "cell_type": "code",
      "source": [
        "count_20"
      ],
      "metadata": {
        "colab": {
          "base_uri": "https://localhost:8080/",
          "height": 424
        },
        "id": "nKnexzgeFD5-",
        "outputId": "a8e5b4d1-a106-40c5-8bc8-56f5d837a479"
      },
      "execution_count": null,
      "outputs": [
        {
          "output_type": "execute_result",
          "data": {
            "text/plain": [
              "                      source    id  place_ner\n",
              "0              Albany Herald  1476       1476\n",
              "1                 Alma Times    66         66\n",
              "2    Alpharetta Revue & News    88         88\n",
              "3    Americus Times Recorder   298        298\n",
              "4                Appen Media   223        223\n",
              "..                       ...   ...        ...\n",
              "193           Walton Tribune   133        133\n",
              "194  Waycross Journal Herald   255        255\n",
              "195  Waynesboro True Citizen   281        281\n",
              "196        White County News   848        848\n",
              "197              Youth Today    39         39\n",
              "\n",
              "[198 rows x 3 columns]"
            ],
            "text/html": [
              "\n",
              "  <div id=\"df-efc2ed82-955b-46dd-8e3b-6fe475399285\">\n",
              "    <div class=\"colab-df-container\">\n",
              "      <div>\n",
              "<style scoped>\n",
              "    .dataframe tbody tr th:only-of-type {\n",
              "        vertical-align: middle;\n",
              "    }\n",
              "\n",
              "    .dataframe tbody tr th {\n",
              "        vertical-align: top;\n",
              "    }\n",
              "\n",
              "    .dataframe thead th {\n",
              "        text-align: right;\n",
              "    }\n",
              "</style>\n",
              "<table border=\"1\" class=\"dataframe\">\n",
              "  <thead>\n",
              "    <tr style=\"text-align: right;\">\n",
              "      <th></th>\n",
              "      <th>source</th>\n",
              "      <th>id</th>\n",
              "      <th>place_ner</th>\n",
              "    </tr>\n",
              "  </thead>\n",
              "  <tbody>\n",
              "    <tr>\n",
              "      <th>0</th>\n",
              "      <td>Albany Herald</td>\n",
              "      <td>1476</td>\n",
              "      <td>1476</td>\n",
              "    </tr>\n",
              "    <tr>\n",
              "      <th>1</th>\n",
              "      <td>Alma Times</td>\n",
              "      <td>66</td>\n",
              "      <td>66</td>\n",
              "    </tr>\n",
              "    <tr>\n",
              "      <th>2</th>\n",
              "      <td>Alpharetta Revue &amp; News</td>\n",
              "      <td>88</td>\n",
              "      <td>88</td>\n",
              "    </tr>\n",
              "    <tr>\n",
              "      <th>3</th>\n",
              "      <td>Americus Times Recorder</td>\n",
              "      <td>298</td>\n",
              "      <td>298</td>\n",
              "    </tr>\n",
              "    <tr>\n",
              "      <th>4</th>\n",
              "      <td>Appen Media</td>\n",
              "      <td>223</td>\n",
              "      <td>223</td>\n",
              "    </tr>\n",
              "    <tr>\n",
              "      <th>...</th>\n",
              "      <td>...</td>\n",
              "      <td>...</td>\n",
              "      <td>...</td>\n",
              "    </tr>\n",
              "    <tr>\n",
              "      <th>193</th>\n",
              "      <td>Walton Tribune</td>\n",
              "      <td>133</td>\n",
              "      <td>133</td>\n",
              "    </tr>\n",
              "    <tr>\n",
              "      <th>194</th>\n",
              "      <td>Waycross Journal Herald</td>\n",
              "      <td>255</td>\n",
              "      <td>255</td>\n",
              "    </tr>\n",
              "    <tr>\n",
              "      <th>195</th>\n",
              "      <td>Waynesboro True Citizen</td>\n",
              "      <td>281</td>\n",
              "      <td>281</td>\n",
              "    </tr>\n",
              "    <tr>\n",
              "      <th>196</th>\n",
              "      <td>White County News</td>\n",
              "      <td>848</td>\n",
              "      <td>848</td>\n",
              "    </tr>\n",
              "    <tr>\n",
              "      <th>197</th>\n",
              "      <td>Youth Today</td>\n",
              "      <td>39</td>\n",
              "      <td>39</td>\n",
              "    </tr>\n",
              "  </tbody>\n",
              "</table>\n",
              "<p>198 rows × 3 columns</p>\n",
              "</div>\n",
              "      <button class=\"colab-df-convert\" onclick=\"convertToInteractive('df-efc2ed82-955b-46dd-8e3b-6fe475399285')\"\n",
              "              title=\"Convert this dataframe to an interactive table.\"\n",
              "              style=\"display:none;\">\n",
              "        \n",
              "  <svg xmlns=\"http://www.w3.org/2000/svg\" height=\"24px\"viewBox=\"0 0 24 24\"\n",
              "       width=\"24px\">\n",
              "    <path d=\"M0 0h24v24H0V0z\" fill=\"none\"/>\n",
              "    <path d=\"M18.56 5.44l.94 2.06.94-2.06 2.06-.94-2.06-.94-.94-2.06-.94 2.06-2.06.94zm-11 1L8.5 8.5l.94-2.06 2.06-.94-2.06-.94L8.5 2.5l-.94 2.06-2.06.94zm10 10l.94 2.06.94-2.06 2.06-.94-2.06-.94-.94-2.06-.94 2.06-2.06.94z\"/><path d=\"M17.41 7.96l-1.37-1.37c-.4-.4-.92-.59-1.43-.59-.52 0-1.04.2-1.43.59L10.3 9.45l-7.72 7.72c-.78.78-.78 2.05 0 2.83L4 21.41c.39.39.9.59 1.41.59.51 0 1.02-.2 1.41-.59l7.78-7.78 2.81-2.81c.8-.78.8-2.07 0-2.86zM5.41 20L4 18.59l7.72-7.72 1.47 1.35L5.41 20z\"/>\n",
              "  </svg>\n",
              "      </button>\n",
              "      \n",
              "  <style>\n",
              "    .colab-df-container {\n",
              "      display:flex;\n",
              "      flex-wrap:wrap;\n",
              "      gap: 12px;\n",
              "    }\n",
              "\n",
              "    .colab-df-convert {\n",
              "      background-color: #E8F0FE;\n",
              "      border: none;\n",
              "      border-radius: 50%;\n",
              "      cursor: pointer;\n",
              "      display: none;\n",
              "      fill: #1967D2;\n",
              "      height: 32px;\n",
              "      padding: 0 0 0 0;\n",
              "      width: 32px;\n",
              "    }\n",
              "\n",
              "    .colab-df-convert:hover {\n",
              "      background-color: #E2EBFA;\n",
              "      box-shadow: 0px 1px 2px rgba(60, 64, 67, 0.3), 0px 1px 3px 1px rgba(60, 64, 67, 0.15);\n",
              "      fill: #174EA6;\n",
              "    }\n",
              "\n",
              "    [theme=dark] .colab-df-convert {\n",
              "      background-color: #3B4455;\n",
              "      fill: #D2E3FC;\n",
              "    }\n",
              "\n",
              "    [theme=dark] .colab-df-convert:hover {\n",
              "      background-color: #434B5C;\n",
              "      box-shadow: 0px 1px 3px 1px rgba(0, 0, 0, 0.15);\n",
              "      filter: drop-shadow(0px 1px 2px rgba(0, 0, 0, 0.3));\n",
              "      fill: #FFFFFF;\n",
              "    }\n",
              "  </style>\n",
              "\n",
              "      <script>\n",
              "        const buttonEl =\n",
              "          document.querySelector('#df-efc2ed82-955b-46dd-8e3b-6fe475399285 button.colab-df-convert');\n",
              "        buttonEl.style.display =\n",
              "          google.colab.kernel.accessAllowed ? 'block' : 'none';\n",
              "\n",
              "        async function convertToInteractive(key) {\n",
              "          const element = document.querySelector('#df-efc2ed82-955b-46dd-8e3b-6fe475399285');\n",
              "          const dataTable =\n",
              "            await google.colab.kernel.invokeFunction('convertToInteractive',\n",
              "                                                     [key], {});\n",
              "          if (!dataTable) return;\n",
              "\n",
              "          const docLinkHtml = 'Like what you see? Visit the ' +\n",
              "            '<a target=\"_blank\" href=https://colab.research.google.com/notebooks/data_table.ipynb>data table notebook</a>'\n",
              "            + ' to learn more about interactive tables.';\n",
              "          element.innerHTML = '';\n",
              "          dataTable['output_type'] = 'display_data';\n",
              "          await google.colab.output.renderOutput(dataTable, element);\n",
              "          const docLink = document.createElement('div');\n",
              "          docLink.innerHTML = docLinkHtml;\n",
              "          element.appendChild(docLink);\n",
              "        }\n",
              "      </script>\n",
              "    </div>\n",
              "  </div>\n",
              "  "
            ]
          },
          "metadata": {},
          "execution_count": 38
        }
      ]
    },
    {
      "cell_type": "code",
      "source": [
        "count2_20"
      ],
      "metadata": {
        "colab": {
          "base_uri": "https://localhost:8080/",
          "height": 424
        },
        "id": "RM-qVXxgFSmw",
        "outputId": "75ca7b9e-83f7-4c17-fde8-7df04d2892db"
      },
      "execution_count": null,
      "outputs": [
        {
          "output_type": "execute_result",
          "data": {
            "text/plain": [
              "                      source   id  place_ner\n",
              "0              Albany Herald  392        392\n",
              "1    Alpharetta Revue & News   28         28\n",
              "2    Americus Times Recorder   62         62\n",
              "3                Appen Media   59         59\n",
              "4                    ArtsATL   39         39\n",
              "..                       ...  ...        ...\n",
              "159  Walker County Messenger   65         65\n",
              "160           Walton Tribune   31         31\n",
              "161  Waycross Journal Herald   49         49\n",
              "162  Waynesboro True Citizen   55         55\n",
              "163        White County News  135        135\n",
              "\n",
              "[164 rows x 3 columns]"
            ],
            "text/html": [
              "\n",
              "  <div id=\"df-36498f3a-b620-46b6-8774-baad341a00d3\">\n",
              "    <div class=\"colab-df-container\">\n",
              "      <div>\n",
              "<style scoped>\n",
              "    .dataframe tbody tr th:only-of-type {\n",
              "        vertical-align: middle;\n",
              "    }\n",
              "\n",
              "    .dataframe tbody tr th {\n",
              "        vertical-align: top;\n",
              "    }\n",
              "\n",
              "    .dataframe thead th {\n",
              "        text-align: right;\n",
              "    }\n",
              "</style>\n",
              "<table border=\"1\" class=\"dataframe\">\n",
              "  <thead>\n",
              "    <tr style=\"text-align: right;\">\n",
              "      <th></th>\n",
              "      <th>source</th>\n",
              "      <th>id</th>\n",
              "      <th>place_ner</th>\n",
              "    </tr>\n",
              "  </thead>\n",
              "  <tbody>\n",
              "    <tr>\n",
              "      <th>0</th>\n",
              "      <td>Albany Herald</td>\n",
              "      <td>392</td>\n",
              "      <td>392</td>\n",
              "    </tr>\n",
              "    <tr>\n",
              "      <th>1</th>\n",
              "      <td>Alpharetta Revue &amp; News</td>\n",
              "      <td>28</td>\n",
              "      <td>28</td>\n",
              "    </tr>\n",
              "    <tr>\n",
              "      <th>2</th>\n",
              "      <td>Americus Times Recorder</td>\n",
              "      <td>62</td>\n",
              "      <td>62</td>\n",
              "    </tr>\n",
              "    <tr>\n",
              "      <th>3</th>\n",
              "      <td>Appen Media</td>\n",
              "      <td>59</td>\n",
              "      <td>59</td>\n",
              "    </tr>\n",
              "    <tr>\n",
              "      <th>4</th>\n",
              "      <td>ArtsATL</td>\n",
              "      <td>39</td>\n",
              "      <td>39</td>\n",
              "    </tr>\n",
              "    <tr>\n",
              "      <th>...</th>\n",
              "      <td>...</td>\n",
              "      <td>...</td>\n",
              "      <td>...</td>\n",
              "    </tr>\n",
              "    <tr>\n",
              "      <th>159</th>\n",
              "      <td>Walker County Messenger</td>\n",
              "      <td>65</td>\n",
              "      <td>65</td>\n",
              "    </tr>\n",
              "    <tr>\n",
              "      <th>160</th>\n",
              "      <td>Walton Tribune</td>\n",
              "      <td>31</td>\n",
              "      <td>31</td>\n",
              "    </tr>\n",
              "    <tr>\n",
              "      <th>161</th>\n",
              "      <td>Waycross Journal Herald</td>\n",
              "      <td>49</td>\n",
              "      <td>49</td>\n",
              "    </tr>\n",
              "    <tr>\n",
              "      <th>162</th>\n",
              "      <td>Waynesboro True Citizen</td>\n",
              "      <td>55</td>\n",
              "      <td>55</td>\n",
              "    </tr>\n",
              "    <tr>\n",
              "      <th>163</th>\n",
              "      <td>White County News</td>\n",
              "      <td>135</td>\n",
              "      <td>135</td>\n",
              "    </tr>\n",
              "  </tbody>\n",
              "</table>\n",
              "<p>164 rows × 3 columns</p>\n",
              "</div>\n",
              "      <button class=\"colab-df-convert\" onclick=\"convertToInteractive('df-36498f3a-b620-46b6-8774-baad341a00d3')\"\n",
              "              title=\"Convert this dataframe to an interactive table.\"\n",
              "              style=\"display:none;\">\n",
              "        \n",
              "  <svg xmlns=\"http://www.w3.org/2000/svg\" height=\"24px\"viewBox=\"0 0 24 24\"\n",
              "       width=\"24px\">\n",
              "    <path d=\"M0 0h24v24H0V0z\" fill=\"none\"/>\n",
              "    <path d=\"M18.56 5.44l.94 2.06.94-2.06 2.06-.94-2.06-.94-.94-2.06-.94 2.06-2.06.94zm-11 1L8.5 8.5l.94-2.06 2.06-.94-2.06-.94L8.5 2.5l-.94 2.06-2.06.94zm10 10l.94 2.06.94-2.06 2.06-.94-2.06-.94-.94-2.06-.94 2.06-2.06.94z\"/><path d=\"M17.41 7.96l-1.37-1.37c-.4-.4-.92-.59-1.43-.59-.52 0-1.04.2-1.43.59L10.3 9.45l-7.72 7.72c-.78.78-.78 2.05 0 2.83L4 21.41c.39.39.9.59 1.41.59.51 0 1.02-.2 1.41-.59l7.78-7.78 2.81-2.81c.8-.78.8-2.07 0-2.86zM5.41 20L4 18.59l7.72-7.72 1.47 1.35L5.41 20z\"/>\n",
              "  </svg>\n",
              "      </button>\n",
              "      \n",
              "  <style>\n",
              "    .colab-df-container {\n",
              "      display:flex;\n",
              "      flex-wrap:wrap;\n",
              "      gap: 12px;\n",
              "    }\n",
              "\n",
              "    .colab-df-convert {\n",
              "      background-color: #E8F0FE;\n",
              "      border: none;\n",
              "      border-radius: 50%;\n",
              "      cursor: pointer;\n",
              "      display: none;\n",
              "      fill: #1967D2;\n",
              "      height: 32px;\n",
              "      padding: 0 0 0 0;\n",
              "      width: 32px;\n",
              "    }\n",
              "\n",
              "    .colab-df-convert:hover {\n",
              "      background-color: #E2EBFA;\n",
              "      box-shadow: 0px 1px 2px rgba(60, 64, 67, 0.3), 0px 1px 3px 1px rgba(60, 64, 67, 0.15);\n",
              "      fill: #174EA6;\n",
              "    }\n",
              "\n",
              "    [theme=dark] .colab-df-convert {\n",
              "      background-color: #3B4455;\n",
              "      fill: #D2E3FC;\n",
              "    }\n",
              "\n",
              "    [theme=dark] .colab-df-convert:hover {\n",
              "      background-color: #434B5C;\n",
              "      box-shadow: 0px 1px 3px 1px rgba(0, 0, 0, 0.15);\n",
              "      filter: drop-shadow(0px 1px 2px rgba(0, 0, 0, 0.3));\n",
              "      fill: #FFFFFF;\n",
              "    }\n",
              "  </style>\n",
              "\n",
              "      <script>\n",
              "        const buttonEl =\n",
              "          document.querySelector('#df-36498f3a-b620-46b6-8774-baad341a00d3 button.colab-df-convert');\n",
              "        buttonEl.style.display =\n",
              "          google.colab.kernel.accessAllowed ? 'block' : 'none';\n",
              "\n",
              "        async function convertToInteractive(key) {\n",
              "          const element = document.querySelector('#df-36498f3a-b620-46b6-8774-baad341a00d3');\n",
              "          const dataTable =\n",
              "            await google.colab.kernel.invokeFunction('convertToInteractive',\n",
              "                                                     [key], {});\n",
              "          if (!dataTable) return;\n",
              "\n",
              "          const docLinkHtml = 'Like what you see? Visit the ' +\n",
              "            '<a target=\"_blank\" href=https://colab.research.google.com/notebooks/data_table.ipynb>data table notebook</a>'\n",
              "            + ' to learn more about interactive tables.';\n",
              "          element.innerHTML = '';\n",
              "          dataTable['output_type'] = 'display_data';\n",
              "          await google.colab.output.renderOutput(dataTable, element);\n",
              "          const docLink = document.createElement('div');\n",
              "          docLink.innerHTML = docLinkHtml;\n",
              "          element.appendChild(docLink);\n",
              "        }\n",
              "      </script>\n",
              "    </div>\n",
              "  </div>\n",
              "  "
            ]
          },
          "metadata": {},
          "execution_count": 213
        }
      ]
    },
    {
      "cell_type": "code",
      "source": [
        "count_20_id = list(set(count_20['source'].tolist()))\n",
        "\n",
        "df_ng_all_m20 = df_ng_all[df_ng_all['source'].isin(count_20_id)]\n"
      ],
      "metadata": {
        "id": "IvB7I52rhsHg"
      },
      "execution_count": null,
      "outputs": []
    },
    {
      "cell_type": "code",
      "source": [
        "len(count_20_id)"
      ],
      "metadata": {
        "colab": {
          "base_uri": "https://localhost:8080/"
        },
        "id": "1awRlpXFkXzD",
        "outputId": "0794f78c-3984-4142-addc-0239f032eb3e"
      },
      "execution_count": null,
      "outputs": [
        {
          "output_type": "execute_result",
          "data": {
            "text/plain": [
              "198"
            ]
          },
          "metadata": {},
          "execution_count": 23
        }
      ]
    },
    {
      "cell_type": "code",
      "source": [
        "location_final_st = location_final_st.rename(columns={'ner_place_clean': 'place_ner'})\n"
      ],
      "metadata": {
        "id": "imJj-NCGkOZz"
      },
      "execution_count": null,
      "outputs": []
    },
    {
      "cell_type": "code",
      "source": [
        "df_ng_all_m20_county = pd.merge(df_ng_all_m20, location_final_st, how='left', on='place_ner')"
      ],
      "metadata": {
        "id": "Ry1nnH47h1h4"
      },
      "execution_count": null,
      "outputs": []
    },
    {
      "cell_type": "code",
      "source": [
        "df_ng_all_m20_county_unique = df_ng_all_m20_county.drop_duplicates(subset=['id', 'source', 'county_level'])"
      ],
      "metadata": {
        "id": "qeTXN7_YkrEM"
      },
      "execution_count": null,
      "outputs": []
    },
    {
      "cell_type": "code",
      "source": [
        "df_ng_all_m20_county_unique_count = df_ng_all_m20_county_unique.groupby(['source','county_level'])['id'].count().reset_index()"
      ],
      "metadata": {
        "id": "RC6nhVn2lbLm"
      },
      "execution_count": null,
      "outputs": []
    },
    {
      "cell_type": "code",
      "source": [
        "df_ng_all_m20_county_unique_count = df_ng_all_m20_county_unique_count.rename(columns={'id': 'article_id_count'})\n"
      ],
      "metadata": {
        "id": "yfmDfAVDfV6H"
      },
      "execution_count": null,
      "outputs": []
    },
    {
      "cell_type": "code",
      "source": [
        "df_ng_all_m20_county_unique_count.to_excel('Georgia_m20_county_unique_count_v2.xlsx')"
      ],
      "metadata": {
        "id": "ZyOM2c0klvSB"
      },
      "execution_count": null,
      "outputs": []
    },
    {
      "cell_type": "markdown",
      "source": [
        "## Take random samples for manual validation"
      ],
      "metadata": {
        "id": "mrLqWfgvYG9c"
      }
    },
    {
      "cell_type": "code",
      "source": [
        "df_sample_20 = df.sample(20)"
      ],
      "metadata": {
        "id": "1fhJjwyJxDYd"
      },
      "execution_count": null,
      "outputs": []
    },
    {
      "cell_type": "code",
      "source": [
        "df_sample_20.to_excel('Georgia_20_articles_for_place_review.xlsx')"
      ],
      "metadata": {
        "id": "SozgdBXBxF4Q"
      },
      "execution_count": null,
      "outputs": []
    },
    {
      "cell_type": "code",
      "source": [
        "df_sample_15 = df.sample(15)"
      ],
      "metadata": {
        "id": "pPDvTeeedrg1"
      },
      "execution_count": null,
      "outputs": []
    },
    {
      "cell_type": "code",
      "source": [
        "df_sample_15.to_excel('Georgia_15_articles_for_place_review.xlsx')"
      ],
      "metadata": {
        "id": "JqV6rTW9dtny"
      },
      "execution_count": null,
      "outputs": []
    },
    {
      "cell_type": "code",
      "source": [
        "%cd /content/drive/MyDrive/Georgia/Locations Analysis/Validation_test"
      ],
      "metadata": {
        "colab": {
          "base_uri": "https://localhost:8080/"
        },
        "id": "Mn9JjtKW50eq",
        "outputId": "eaff0edd-d74a-4359-d3c6-c5b473b082d1"
      },
      "execution_count": null,
      "outputs": [
        {
          "output_type": "stream",
          "name": "stdout",
          "text": [
            "/content/drive/.shortcut-targets-by-id/1YSQ9BBnwwRu7fyeM_9V6eoFgKQBPl4Rr/Georgia/Locations Analysis/Validation_test\n"
          ]
        }
      ]
    },
    {
      "cell_type": "code",
      "source": [
        "import pandas as pd\n",
        "\n",
        "rnd1 = pd.read_excel('/content/drive/MyDrive/Georgia/Locations Analysis/Validation_test/Copy of Georgia_15_articles_for_place_review.xlsx')\n",
        "rnd2 = pd.read_excel('/content/drive/MyDrive/Georgia/Locations Analysis/Validation_test/Copy of Georgia_20_articles_for_place_review.xlsx')"
      ],
      "metadata": {
        "id": "EliNbKvB59ht"
      },
      "execution_count": null,
      "outputs": []
    },
    {
      "cell_type": "code",
      "source": [
        "rnd1_st = rnd1[['id', 'ner_places', 'article_final']]\n",
        "rnd2_st = rnd2[['id', 'ner_places', 'article_final']]"
      ],
      "metadata": {
        "id": "eIrVoIwP6FGb"
      },
      "execution_count": null,
      "outputs": []
    },
    {
      "cell_type": "code",
      "source": [
        "set_merge = pd.concat([rnd1_st, rnd2_st])"
      ],
      "metadata": {
        "id": "bVvyj-S26Ngb"
      },
      "execution_count": null,
      "outputs": []
    },
    {
      "cell_type": "code",
      "source": [
        "temp = 'MARIETTA — The renovation of northeast Cobb’s Gritters Library, originally budgeted as a $2.9 million project, could soon cost $10.5 million after Tuesday’s Board of Commissioners meeting. The ballooning budget is a result not only of rising construction costs, but of a project that’s now envisioned as a full rebuild of the aging library. The board was expected to vote Tuesday on approving a $2.5 million transfer to fill out the budget, though support for the move appeared to waver at a Monday morning work session. Tucked into the woods alongside Shaw Park off of Canton Road, Gritters, according to Library Director Helen Poyer, “sits in a swampland” and is “an old cedar building that’s in very poor condition.” Major features of the rebuild will include building out reading and study rooms, expanding an existing multipurpose room, creating an outdoor programming space, and consolidating services into a one-stop service desk. Poyer added that in 2014, when the library system lobbied for the building to be put on the 2016 SPLOST list, she already knew a complete rebuild would be required and probably cost about $8.6 million. Instead, the library got just $2.9 million from the SPLOST. Commissioners supplemented that with a $2 million allocation from revenue above projections — extra cash generated by the sales tax. And to top it off, the county received $1.9 million in funding from Georgia’s Board of Regents last year. That brought the budget up to $6.8 million. The county’s also elected to fold in $1.2 million set aside for the Shaw Park community center, consolidating the space into the library itself and bringing the budget to $8 million. The final $2.5 million, if approved, would come from county reserve funds. But Commissioner Keli Gambrill took issue with using general budget dollars to pay for a SPLOST project. “How many other 2016 SPLOST projects that are not completed are going to be in the same position?” she asked. “… If we we knew (the project cost) going into this, and now we’re using general funds — I mean, when’s it going to end?” Sharon Stanley, who heads up the county’s support services agency, said the previous budgets were believed to be sufficient to cover the costs in full. But rising construction prices had brought the price tag north of the $10 million mark, with contractor Batson-Cook offering the current price tag as a guaranteed ceiling. The county saw similar cost overruns with a new police precinct it’s building in northeast Cobb, which required a roughly 10% increase in its budget earlier this year. “If we don’t get funded, or this is not approved, then we’ll be back out on the market again,” said Property Management Director Travis Stalcup. “And then … we’ll just face what we’ve been facing the whole time: escalating material prices, labor shortages.” Commissioner JoAnn Birrell, who represents the area, said she would meet with her colleagues Monday to gauge support for moving forward. “If we don’t (have support), I’m pulling it,” she said. The board will meet at 7 p.m. Tuesday at 100 Cherokee Street in Marietta.\t'"
      ],
      "metadata": {
        "id": "pC1EpgBhC2Q7"
      },
      "execution_count": null,
      "outputs": []
    },
    {
      "cell_type": "code",
      "source": [
        "set_merge.iloc[6]['article_final']"
      ],
      "metadata": {
        "colab": {
          "base_uri": "https://localhost:8080/",
          "height": 160
        },
        "id": "7QVtp178AbZd",
        "outputId": "94129c44-5a6b-459a-de60-db30e5857f69"
      },
      "execution_count": null,
      "outputs": [
        {
          "output_type": "execute_result",
          "data": {
            "text/plain": [
              "\"Morningside's Brody Nelson takes down Hastings' Jaishawn Wright during Morningside University vs Hastings College football action in Sioux City, Iowa, Saturday, Oct. 8, 2022.\\n\\nJesse Brothers Sioux City Journal\\n\\nTags\\n\\nSioux City\\nSports\\nFootball\\nMorningside\\nMorningside University\\nHastings College\\nElwood Olsen Stadium\\n\\nLocations\\n\\nIowa\\nSioux City\\n\\nAs featured on\\n\\nPhotos: Morningside vs Hastings football\\n\\nMorningside University defeats Hastings College football in at Elwood Olsen Stadium, Saturday.\\n\\nMorningside Mustangs ready for long trip to face Jamestown\\n\\nNo. 1 Morningside takes on Jamestown Saturday afternoon, at 1 p.m., in Jamestown. The Mustangs are looking to take advantage of a night in a hotel to come closer as a team.\\n\\nGPAC FOOTBALL RANKINGS: Who is the best 3-3 team in the conference?\\n\\nBefore I get into the week that was in the GPAC, I figure it’s about time to make an announcement.\""
            ],
            "application/vnd.google.colaboratory.intrinsic+json": {
              "type": "string"
            }
          },
          "metadata": {},
          "execution_count": 55
        }
      ]
    },
    {
      "cell_type": "code",
      "source": [
        "text_ner_all(temp)"
      ],
      "metadata": {
        "colab": {
          "base_uri": "https://localhost:8080/",
          "height": 160
        },
        "id": "ZqFuLeHb1NdD",
        "outputId": "272c5d85-b65c-4988-d3be-8b9b1ebefda2"
      },
      "execution_count": null,
      "outputs": [
        {
          "output_type": "execute_result",
          "data": {
            "text/plain": [
              "\"{'Shaw Park (GPE)', '2014 (DATE)', '$2.9 million (MONEY)', 'Gritters Library (PERSON)', 'Batson-Cook (PERSON)', 'earlier this year (DATE)', 'Cobb (GPE)', 'morning (TIME)', 'Board of Commissioners (ORG)', 'one (CARDINAL)', 'Library (PERSON)', 'about $8.6 million (MONEY)', 'Keli Gambrill (PERSON)', 'Tuesday (DATE)', 'up to $6.8 million (MONEY)', 'JoAnn Birrell (PERSON)', 'Property (ORG)', 'Shaw Park (FAC)', 'Georgia (GPE)', '$2.5 million (MONEY)', '$8 million (MONEY)', 'roughly 10% (PERCENT)', '$1.2 million (MONEY)', 'just $2.9 million (MONEY)', 'Travis Stalcup (PERSON)', 'Sharon Stanley (PERSON)', '100 Cherokee Street (MONEY)', 'Helen Poyer (PERSON)', 'Canton Road (FAC)', 'Board of Regents (ORG)', '$1.9 million (MONEY)', 'SPLOST (ORG)', '$2 million (MONEY)', '$10.5 million (MONEY)', '$10 million (MONEY)', 'Monday (DATE)', '7 p.m. (TIME)', '2016 (DATE)', 'Marietta (GPE)', 'last year (DATE)'}\""
            ],
            "application/vnd.google.colaboratory.intrinsic+json": {
              "type": "string"
            }
          },
          "metadata": {},
          "execution_count": 57
        }
      ]
    },
    {
      "cell_type": "code",
      "source": [
        "text_ner_place(temp)"
      ],
      "metadata": {
        "colab": {
          "base_uri": "https://localhost:8080/",
          "height": 35
        },
        "id": "zYaVb7QuBXsj",
        "outputId": "7f1bf11e-8e7c-4d1f-ac95-e9c274900094"
      },
      "execution_count": null,
      "outputs": [
        {
          "output_type": "execute_result",
          "data": {
            "text/plain": [
              "\"{'Shaw Park (GPE)', 'Cobb (GPE)', 'Shaw Park (FAC)', 'Canton Road (FAC)', 'Marietta (GPE)', 'Georgia (GPE)'}\""
            ],
            "application/vnd.google.colaboratory.intrinsic+json": {
              "type": "string"
            }
          },
          "metadata": {},
          "execution_count": 58
        }
      ]
    },
    {
      "cell_type": "code",
      "source": [
        "text_ner_place2(temp)"
      ],
      "metadata": {
        "colab": {
          "base_uri": "https://localhost:8080/",
          "height": 35
        },
        "id": "F-543HdED_-Z",
        "outputId": "0dd90904-b35a-4137-870f-19e0cd3c14dd"
      },
      "execution_count": null,
      "outputs": [
        {
          "output_type": "execute_result",
          "data": {
            "text/plain": [
              "\"{'Shaw Park (GPE)', 'Cobb (GPE)', 'Shaw Park (FAC)', 'Canton Road (FAC)', 'Marietta (GPE)', 'Georgia (GPE)'}\""
            ],
            "application/vnd.google.colaboratory.intrinsic+json": {
              "type": "string"
            }
          },
          "metadata": {},
          "execution_count": 62
        }
      ]
    },
    {
      "cell_type": "code",
      "source": [
        "df_temp['ner_all'] = df_temp['article_final'].astype(str).apply(text_ner_all)\n",
        "df_temp['ner_place_2nd'] = df_temp['article_final'].astype(str).apply(text_ner_place)"
      ],
      "metadata": {
        "id": "Csy4nbswF0-_"
      },
      "execution_count": null,
      "outputs": []
    },
    {
      "cell_type": "code",
      "source": [
        "df_temp['ner_place_org'] = df_temp['article_final'].astype(str).apply(text_ner_place2)"
      ],
      "metadata": {
        "id": "YqP9VsmuJeP2"
      },
      "execution_count": null,
      "outputs": []
    },
    {
      "cell_type": "code",
      "source": [
        "df_temp"
      ],
      "metadata": {
        "colab": {
          "base_uri": "https://localhost:8080/",
          "height": 1000
        },
        "id": "0Ika-zxdJh4O",
        "outputId": "5fc54772-21df-488e-a6fe-2b47ad037233"
      },
      "execution_count": null,
      "outputs": [
        {
          "output_type": "execute_result",
          "data": {
            "text/plain": [
              "         index                   source  en_source  \\\n",
              "158153  158153          WUPA TV 69 (CW)        1.0   \n",
              "97443    97443       Northside Neighbor        1.0   \n",
              "162469  162469              WRFC AM 960        1.0   \n",
              "13064    13064         WJCL TV 22 (ABC)        1.0   \n",
              "127710  127710               WPCH TV 17        1.0   \n",
              "73657    73657   Marietta Daily Journal        1.0   \n",
              "9946      9946  WRDW News CBS 12 NBC 26        1.0   \n",
              "67244    67244   Marietta Daily Journal        1.0   \n",
              "76067    76067       Baxley News Banner        1.0   \n",
              "162159  162159              WRFC AM 960        1.0   \n",
              "\n",
              "                                                  website  \\\n",
              "158153                     http://cwatlanta.cbslocal.com/   \n",
              "97443   https://www.mdjonline.com/neighbor_newspapers/...   \n",
              "162469                          http://www.960theref.com/   \n",
              "13064                                    http://wjcl.com/   \n",
              "127710                        http://www.peachtreetv.com/   \n",
              "73657                           http://www.mdjonline.com/   \n",
              "9946                                 http://www.wrdw.com/   \n",
              "67244                           http://www.mdjonline.com/   \n",
              "76067                    http://www.baxleynewsbanner.com/   \n",
              "162159                          http://www.960theref.com/   \n",
              "\n",
              "                                              article_url  \\\n",
              "158153  https://www.cbsnews.com/sacramento/news/vacavi...   \n",
              "97443   https://www.mdjonline.com/fieldlevel/lions-try...   \n",
              "162469  https://www.960theref.com/news/national/joe-ha...   \n",
              "13064   https://www.wjcl.com/article/shots-fired-repor...   \n",
              "127710  https://www.peachtreetv.com/video/2022/09/27/f...   \n",
              "73657   https://www.mdjonline.com/petitekynleebradley-...   \n",
              "9946    https://www.wrdw.com/video/2022/10/15/dickinso...   \n",
              "67244   https://www.mdjonline.com/neighbor_newspapers/...   \n",
              "76067   https://www.baxleynewsbanner.com/online_featur...   \n",
              "162159  https://www.960theref.com/news/national/aaron-...   \n",
              "\n",
              "                                            article_title  \\\n",
              "158153  Vacaville police honor inmates and officer for...   \n",
              "97443   Lions try to get back on track vs. hapless Red...   \n",
              "162469  Joe Haden reportedly signs one-day contract to...   \n",
              "13064   School Shooter Hoax: FBI aiding in investigati...   \n",
              "127710       Frost threat prompts sensitive plant warning   \n",
              "73657                             PetiteKynleeBradley.jpg   \n",
              "9946    Dickinson artists one step closer to opening a...   \n",
              "67244   Air Pollution Tied to Stroke and Trajectories ...   \n",
              "76067   When did American teachers lose their lunch br...   \n",
              "162159  Aaron Judge's epic run to 62 homers transcende...   \n",
              "\n",
              "                        article_author date_published  \\\n",
              "158153                     CBS13 Staff     2022-10-14   \n",
              "97443                Field Level Media     2022-09-29   \n",
              "162469  Tyler Greenawalt, Yahoo Sports     2022-09-21   \n",
              "13064                    Brooke Butler     2022-10-06   \n",
              "127710                             NaN     2022-09-27   \n",
              "73657                          Special     2022-09-30   \n",
              "9946                               NaN     2022-10-15   \n",
              "67244                              NaN     2022-10-04   \n",
              "76067                 Brandpoint (BPT)     2022-09-28   \n",
              "162159       Zach Crizer, Yahoo Sports     2022-10-05   \n",
              "\n",
              "                                            article_final  \\\n",
              "158153  Vacaville Police Department honors inmate and ...   \n",
              "97443   The good news for the B.C. Lions last week was...   \n",
              "162469  Veteran cornerback Joe Haden will retire with ...   \n",
              "13064   Update 6:49 p.m.: WJCL spoke with parents and ...   \n",
              "127710  Frost threat prompts sensitive plant warning\\n...   \n",
              "73657   Petite Miss North Georgia State Fair winner Ky...   \n",
              "9946                                Evening Report at Six   \n",
              "67244   Tags\\n\\nPhysician's Briefing\\n\\nAs featured on...   \n",
              "76067   (BPT) - Educators and school staff play some o...   \n",
              "162159  On opening day, we didn't know how much the Ne...   \n",
              "\n",
              "                                               ner_places  \\\n",
              "158153                                {'Vacaville (GPE)'}   \n",
              "97443   {'B.C. (GPE)', 'the Calgary Stampeders (FAC)',...   \n",
              "162469  {'Florida (GPE)', 'Pittsburgh (GPE)', 'Clevela...   \n",
              "13064   {'Beaufort County (GPE)', 'the South Carolina ...   \n",
              "127710                                              set()   \n",
              "73657              {'the North Georgia State Fair (FAC)'}   \n",
              "9946                                                set()   \n",
              "67244                                               set()   \n",
              "76067                                               set()   \n",
              "162159  {'Giambi (GPE)', 'Boras (GPE)', 'San Francisco...   \n",
              "\n",
              "                                                 ner_orgs  \\\n",
              "158153  {'VACAVILLE (ORG)', 'The Vacaville Police Depa...   \n",
              "97443   {'the Lions and Redblacks (ORG)', 'CFL (ORG)',...   \n",
              "162469  {'NFL (ORG)', 'the Cleveland Browns (ORG)', 'H...   \n",
              "13064   {'Beaufort High School, Tanner (ORG)', 'Hampto...   \n",
              "127710                                              set()   \n",
              "73657   {'State Fair (ORG)', 'North Georgia State Fair...   \n",
              "9946                                                set()   \n",
              "67244   {'Neurology (ORG)', 'Stroke and Trajectories A...   \n",
              "76067   {'the Catering for Educators (ORG)', 'Catering...   \n",
              "162159  {'Statcast (ORG)', 'Freddie Freeman (ORG)', 't...   \n",
              "\n",
              "                                        article_lemma_num      id  \\\n",
              "158153  vacaville police department honor inmate offic...  158154   \n",
              "97443   good news bc lion week clinch cfl playoff bert...   97444   \n",
              "162469  veteran cornerback joe haden retire team draft...  162470   \n",
              "13064   update 649 pm wjcl speak parent student impact...   13065   \n",
              "127710  frost threat prompt sensitive plant warning  s...  127711   \n",
              "73657   petite miss north georgia state fair winner ky...   73658   \n",
              "9946                                       evening report    9947   \n",
              "67244   tag  physician briefing  feature  air pollutio...   67245   \n",
              "76067   bpt educator school staff play critical role c...   76068   \n",
              "162159  open day know new york yankees pay aaron judge...  162160   \n",
              "\n",
              "                                                  ner_all  \\\n",
              "158153  {'Darnell Armstrong (PERSON)', '00:47\\nVACAVIL...   \n",
              "97443   {'Friday (DATE)', 'Montreal (GPE)', 'Redblacks...   \n",
              "162469  {'Adam Schefter (PERSON)', 'the 2017 season (D...   \n",
              "13064   {'1:15 p.m. (TIME)', 'More than 80 (CARDINAL)'...   \n",
              "127710  {'7:45 pm EDT (TIME)', 'September 27, 2022 (DA...   \n",
              "73657   {'the North Georgia State Fair Pageant (FAC)',...   \n",
              "9946                                       {'Six (DATE)'}   \n",
              "67244   {'Air Pollution Tied to (WORK_OF_ART)', 'Physi...   \n",
              "76067   {'Freezer (PERSON)', 'six (CARDINAL)', 'more t...   \n",
              "162159  {'Albert Pujols (PERSON)', 'opening day (DATE)...   \n",
              "\n",
              "                                            ner_place_2nd  \\\n",
              "158153             {'Vacaville (FAC)', 'Vacaville (GPE)'}   \n",
              "97443   {'Ottawa (GPE)', 'Calgary (GPE)', 'Montreal (G...   \n",
              "162469  {'Florida (GPE)', 'Cleveland (GPE)', 'Pittsbur...   \n",
              "13064   {'Greenville (GPE)', 'the Beaufort PD (FAC)', ...   \n",
              "127710                                              set()   \n",
              "73657      {'the North Georgia State Fair Pageant (FAC)'}   \n",
              "9946                                                set()   \n",
              "67244                                               set()   \n",
              "76067                                  {\"Subway's (FAC)\"}   \n",
              "162159  {'New York (GPE)', 'Giambi (GPE)', 'Bronx (GPE...   \n",
              "\n",
              "                                            ner_place_org  \n",
              "158153  {Vacaville (FAC), Vacaville Police Department ...  \n",
              "97443   {Ottawa (GPE), the Calgary Stampeders (ORG), C...  \n",
              "162469  {Pittsburgh (GPE), Steelers (ORG), the Pittsbu...  \n",
              "13064   {the Beaufort High School (ORG), the Port Roya...  \n",
              "127710                                                 {}  \n",
              "73657   {North Georgia State Fair (ORG), Georgia State...  \n",
              "9946                                                   {}  \n",
              "67244                              {HealthDay News (ORG)}  \n",
              "76067   {CateringforEducators.com (ORG), the Catering ...  \n",
              "162159  {Angels (ORG), the San Francisco Giants (ORG),...  "
            ],
            "text/html": [
              "\n",
              "  <div id=\"df-3c8e429d-2688-4b06-8235-0b911a589ce3\">\n",
              "    <div class=\"colab-df-container\">\n",
              "      <div>\n",
              "<style scoped>\n",
              "    .dataframe tbody tr th:only-of-type {\n",
              "        vertical-align: middle;\n",
              "    }\n",
              "\n",
              "    .dataframe tbody tr th {\n",
              "        vertical-align: top;\n",
              "    }\n",
              "\n",
              "    .dataframe thead th {\n",
              "        text-align: right;\n",
              "    }\n",
              "</style>\n",
              "<table border=\"1\" class=\"dataframe\">\n",
              "  <thead>\n",
              "    <tr style=\"text-align: right;\">\n",
              "      <th></th>\n",
              "      <th>index</th>\n",
              "      <th>source</th>\n",
              "      <th>en_source</th>\n",
              "      <th>website</th>\n",
              "      <th>article_url</th>\n",
              "      <th>article_title</th>\n",
              "      <th>article_author</th>\n",
              "      <th>date_published</th>\n",
              "      <th>article_final</th>\n",
              "      <th>ner_places</th>\n",
              "      <th>ner_orgs</th>\n",
              "      <th>article_lemma_num</th>\n",
              "      <th>id</th>\n",
              "      <th>ner_all</th>\n",
              "      <th>ner_place_2nd</th>\n",
              "      <th>ner_place_org</th>\n",
              "    </tr>\n",
              "  </thead>\n",
              "  <tbody>\n",
              "    <tr>\n",
              "      <th>158153</th>\n",
              "      <td>158153</td>\n",
              "      <td>WUPA TV 69 (CW)</td>\n",
              "      <td>1.0</td>\n",
              "      <td>http://cwatlanta.cbslocal.com/</td>\n",
              "      <td>https://www.cbsnews.com/sacramento/news/vacavi...</td>\n",
              "      <td>Vacaville police honor inmates and officer for...</td>\n",
              "      <td>CBS13 Staff</td>\n",
              "      <td>2022-10-14</td>\n",
              "      <td>Vacaville Police Department honors inmate and ...</td>\n",
              "      <td>{'Vacaville (GPE)'}</td>\n",
              "      <td>{'VACAVILLE (ORG)', 'The Vacaville Police Depa...</td>\n",
              "      <td>vacaville police department honor inmate offic...</td>\n",
              "      <td>158154</td>\n",
              "      <td>{'Darnell Armstrong (PERSON)', '00:47\\nVACAVIL...</td>\n",
              "      <td>{'Vacaville (FAC)', 'Vacaville (GPE)'}</td>\n",
              "      <td>{Vacaville (FAC), Vacaville Police Department ...</td>\n",
              "    </tr>\n",
              "    <tr>\n",
              "      <th>97443</th>\n",
              "      <td>97443</td>\n",
              "      <td>Northside Neighbor</td>\n",
              "      <td>1.0</td>\n",
              "      <td>https://www.mdjonline.com/neighbor_newspapers/...</td>\n",
              "      <td>https://www.mdjonline.com/fieldlevel/lions-try...</td>\n",
              "      <td>Lions try to get back on track vs. hapless Red...</td>\n",
              "      <td>Field Level Media</td>\n",
              "      <td>2022-09-29</td>\n",
              "      <td>The good news for the B.C. Lions last week was...</td>\n",
              "      <td>{'B.C. (GPE)', 'the Calgary Stampeders (FAC)',...</td>\n",
              "      <td>{'the Lions and Redblacks (ORG)', 'CFL (ORG)',...</td>\n",
              "      <td>good news bc lion week clinch cfl playoff bert...</td>\n",
              "      <td>97444</td>\n",
              "      <td>{'Friday (DATE)', 'Montreal (GPE)', 'Redblacks...</td>\n",
              "      <td>{'Ottawa (GPE)', 'Calgary (GPE)', 'Montreal (G...</td>\n",
              "      <td>{Ottawa (GPE), the Calgary Stampeders (ORG), C...</td>\n",
              "    </tr>\n",
              "    <tr>\n",
              "      <th>162469</th>\n",
              "      <td>162469</td>\n",
              "      <td>WRFC AM 960</td>\n",
              "      <td>1.0</td>\n",
              "      <td>http://www.960theref.com/</td>\n",
              "      <td>https://www.960theref.com/news/national/joe-ha...</td>\n",
              "      <td>Joe Haden reportedly signs one-day contract to...</td>\n",
              "      <td>Tyler Greenawalt, Yahoo Sports</td>\n",
              "      <td>2022-09-21</td>\n",
              "      <td>Veteran cornerback Joe Haden will retire with ...</td>\n",
              "      <td>{'Florida (GPE)', 'Pittsburgh (GPE)', 'Clevela...</td>\n",
              "      <td>{'NFL (ORG)', 'the Cleveland Browns (ORG)', 'H...</td>\n",
              "      <td>veteran cornerback joe haden retire team draft...</td>\n",
              "      <td>162470</td>\n",
              "      <td>{'Adam Schefter (PERSON)', 'the 2017 season (D...</td>\n",
              "      <td>{'Florida (GPE)', 'Cleveland (GPE)', 'Pittsbur...</td>\n",
              "      <td>{Pittsburgh (GPE), Steelers (ORG), the Pittsbu...</td>\n",
              "    </tr>\n",
              "    <tr>\n",
              "      <th>13064</th>\n",
              "      <td>13064</td>\n",
              "      <td>WJCL TV 22 (ABC)</td>\n",
              "      <td>1.0</td>\n",
              "      <td>http://wjcl.com/</td>\n",
              "      <td>https://www.wjcl.com/article/shots-fired-repor...</td>\n",
              "      <td>School Shooter Hoax: FBI aiding in investigati...</td>\n",
              "      <td>Brooke Butler</td>\n",
              "      <td>2022-10-06</td>\n",
              "      <td>Update 6:49 p.m.: WJCL spoke with parents and ...</td>\n",
              "      <td>{'Beaufort County (GPE)', 'the South Carolina ...</td>\n",
              "      <td>{'Beaufort High School, Tanner (ORG)', 'Hampto...</td>\n",
              "      <td>update 649 pm wjcl speak parent student impact...</td>\n",
              "      <td>13065</td>\n",
              "      <td>{'1:15 p.m. (TIME)', 'More than 80 (CARDINAL)'...</td>\n",
              "      <td>{'Greenville (GPE)', 'the Beaufort PD (FAC)', ...</td>\n",
              "      <td>{the Beaufort High School (ORG), the Port Roya...</td>\n",
              "    </tr>\n",
              "    <tr>\n",
              "      <th>127710</th>\n",
              "      <td>127710</td>\n",
              "      <td>WPCH TV 17</td>\n",
              "      <td>1.0</td>\n",
              "      <td>http://www.peachtreetv.com/</td>\n",
              "      <td>https://www.peachtreetv.com/video/2022/09/27/f...</td>\n",
              "      <td>Frost threat prompts sensitive plant warning</td>\n",
              "      <td>NaN</td>\n",
              "      <td>2022-09-27</td>\n",
              "      <td>Frost threat prompts sensitive plant warning\\n...</td>\n",
              "      <td>set()</td>\n",
              "      <td>set()</td>\n",
              "      <td>frost threat prompt sensitive plant warning  s...</td>\n",
              "      <td>127711</td>\n",
              "      <td>{'7:45 pm EDT (TIME)', 'September 27, 2022 (DA...</td>\n",
              "      <td>set()</td>\n",
              "      <td>{}</td>\n",
              "    </tr>\n",
              "    <tr>\n",
              "      <th>73657</th>\n",
              "      <td>73657</td>\n",
              "      <td>Marietta Daily Journal</td>\n",
              "      <td>1.0</td>\n",
              "      <td>http://www.mdjonline.com/</td>\n",
              "      <td>https://www.mdjonline.com/petitekynleebradley-...</td>\n",
              "      <td>PetiteKynleeBradley.jpg</td>\n",
              "      <td>Special</td>\n",
              "      <td>2022-09-30</td>\n",
              "      <td>Petite Miss North Georgia State Fair winner Ky...</td>\n",
              "      <td>{'the North Georgia State Fair (FAC)'}</td>\n",
              "      <td>{'State Fair (ORG)', 'North Georgia State Fair...</td>\n",
              "      <td>petite miss north georgia state fair winner ky...</td>\n",
              "      <td>73658</td>\n",
              "      <td>{'the North Georgia State Fair Pageant (FAC)',...</td>\n",
              "      <td>{'the North Georgia State Fair Pageant (FAC)'}</td>\n",
              "      <td>{North Georgia State Fair (ORG), Georgia State...</td>\n",
              "    </tr>\n",
              "    <tr>\n",
              "      <th>9946</th>\n",
              "      <td>9946</td>\n",
              "      <td>WRDW News CBS 12 NBC 26</td>\n",
              "      <td>1.0</td>\n",
              "      <td>http://www.wrdw.com/</td>\n",
              "      <td>https://www.wrdw.com/video/2022/10/15/dickinso...</td>\n",
              "      <td>Dickinson artists one step closer to opening a...</td>\n",
              "      <td>NaN</td>\n",
              "      <td>2022-10-15</td>\n",
              "      <td>Evening Report at Six</td>\n",
              "      <td>set()</td>\n",
              "      <td>set()</td>\n",
              "      <td>evening report</td>\n",
              "      <td>9947</td>\n",
              "      <td>{'Six (DATE)'}</td>\n",
              "      <td>set()</td>\n",
              "      <td>{}</td>\n",
              "    </tr>\n",
              "    <tr>\n",
              "      <th>67244</th>\n",
              "      <td>67244</td>\n",
              "      <td>Marietta Daily Journal</td>\n",
              "      <td>1.0</td>\n",
              "      <td>http://www.mdjonline.com/</td>\n",
              "      <td>https://www.mdjonline.com/neighbor_newspapers/...</td>\n",
              "      <td>Air Pollution Tied to Stroke and Trajectories ...</td>\n",
              "      <td>NaN</td>\n",
              "      <td>2022-10-04</td>\n",
              "      <td>Tags\\n\\nPhysician's Briefing\\n\\nAs featured on...</td>\n",
              "      <td>set()</td>\n",
              "      <td>{'Neurology (ORG)', 'Stroke and Trajectories A...</td>\n",
              "      <td>tag  physician briefing  feature  air pollutio...</td>\n",
              "      <td>67245</td>\n",
              "      <td>{'Air Pollution Tied to (WORK_OF_ART)', 'Physi...</td>\n",
              "      <td>set()</td>\n",
              "      <td>{HealthDay News (ORG)}</td>\n",
              "    </tr>\n",
              "    <tr>\n",
              "      <th>76067</th>\n",
              "      <td>76067</td>\n",
              "      <td>Baxley News Banner</td>\n",
              "      <td>1.0</td>\n",
              "      <td>http://www.baxleynewsbanner.com/</td>\n",
              "      <td>https://www.baxleynewsbanner.com/online_featur...</td>\n",
              "      <td>When did American teachers lose their lunch br...</td>\n",
              "      <td>Brandpoint (BPT)</td>\n",
              "      <td>2022-09-28</td>\n",
              "      <td>(BPT) - Educators and school staff play some o...</td>\n",
              "      <td>set()</td>\n",
              "      <td>{'the Catering for Educators (ORG)', 'Catering...</td>\n",
              "      <td>bpt educator school staff play critical role c...</td>\n",
              "      <td>76068</td>\n",
              "      <td>{'Freezer (PERSON)', 'six (CARDINAL)', 'more t...</td>\n",
              "      <td>{\"Subway's (FAC)\"}</td>\n",
              "      <td>{CateringforEducators.com (ORG), the Catering ...</td>\n",
              "    </tr>\n",
              "    <tr>\n",
              "      <th>162159</th>\n",
              "      <td>162159</td>\n",
              "      <td>WRFC AM 960</td>\n",
              "      <td>1.0</td>\n",
              "      <td>http://www.960theref.com/</td>\n",
              "      <td>https://www.960theref.com/news/national/aaron-...</td>\n",
              "      <td>Aaron Judge's epic run to 62 homers transcende...</td>\n",
              "      <td>Zach Crizer, Yahoo Sports</td>\n",
              "      <td>2022-10-05</td>\n",
              "      <td>On opening day, we didn't know how much the Ne...</td>\n",
              "      <td>{'Giambi (GPE)', 'Boras (GPE)', 'San Francisco...</td>\n",
              "      <td>{'Statcast (ORG)', 'Freddie Freeman (ORG)', 't...</td>\n",
              "      <td>open day know new york yankees pay aaron judge...</td>\n",
              "      <td>162160</td>\n",
              "      <td>{'Albert Pujols (PERSON)', 'opening day (DATE)...</td>\n",
              "      <td>{'New York (GPE)', 'Giambi (GPE)', 'Bronx (GPE...</td>\n",
              "      <td>{Angels (ORG), the San Francisco Giants (ORG),...</td>\n",
              "    </tr>\n",
              "  </tbody>\n",
              "</table>\n",
              "</div>\n",
              "      <button class=\"colab-df-convert\" onclick=\"convertToInteractive('df-3c8e429d-2688-4b06-8235-0b911a589ce3')\"\n",
              "              title=\"Convert this dataframe to an interactive table.\"\n",
              "              style=\"display:none;\">\n",
              "        \n",
              "  <svg xmlns=\"http://www.w3.org/2000/svg\" height=\"24px\"viewBox=\"0 0 24 24\"\n",
              "       width=\"24px\">\n",
              "    <path d=\"M0 0h24v24H0V0z\" fill=\"none\"/>\n",
              "    <path d=\"M18.56 5.44l.94 2.06.94-2.06 2.06-.94-2.06-.94-.94-2.06-.94 2.06-2.06.94zm-11 1L8.5 8.5l.94-2.06 2.06-.94-2.06-.94L8.5 2.5l-.94 2.06-2.06.94zm10 10l.94 2.06.94-2.06 2.06-.94-2.06-.94-.94-2.06-.94 2.06-2.06.94z\"/><path d=\"M17.41 7.96l-1.37-1.37c-.4-.4-.92-.59-1.43-.59-.52 0-1.04.2-1.43.59L10.3 9.45l-7.72 7.72c-.78.78-.78 2.05 0 2.83L4 21.41c.39.39.9.59 1.41.59.51 0 1.02-.2 1.41-.59l7.78-7.78 2.81-2.81c.8-.78.8-2.07 0-2.86zM5.41 20L4 18.59l7.72-7.72 1.47 1.35L5.41 20z\"/>\n",
              "  </svg>\n",
              "      </button>\n",
              "      \n",
              "  <style>\n",
              "    .colab-df-container {\n",
              "      display:flex;\n",
              "      flex-wrap:wrap;\n",
              "      gap: 12px;\n",
              "    }\n",
              "\n",
              "    .colab-df-convert {\n",
              "      background-color: #E8F0FE;\n",
              "      border: none;\n",
              "      border-radius: 50%;\n",
              "      cursor: pointer;\n",
              "      display: none;\n",
              "      fill: #1967D2;\n",
              "      height: 32px;\n",
              "      padding: 0 0 0 0;\n",
              "      width: 32px;\n",
              "    }\n",
              "\n",
              "    .colab-df-convert:hover {\n",
              "      background-color: #E2EBFA;\n",
              "      box-shadow: 0px 1px 2px rgba(60, 64, 67, 0.3), 0px 1px 3px 1px rgba(60, 64, 67, 0.15);\n",
              "      fill: #174EA6;\n",
              "    }\n",
              "\n",
              "    [theme=dark] .colab-df-convert {\n",
              "      background-color: #3B4455;\n",
              "      fill: #D2E3FC;\n",
              "    }\n",
              "\n",
              "    [theme=dark] .colab-df-convert:hover {\n",
              "      background-color: #434B5C;\n",
              "      box-shadow: 0px 1px 3px 1px rgba(0, 0, 0, 0.15);\n",
              "      filter: drop-shadow(0px 1px 2px rgba(0, 0, 0, 0.3));\n",
              "      fill: #FFFFFF;\n",
              "    }\n",
              "  </style>\n",
              "\n",
              "      <script>\n",
              "        const buttonEl =\n",
              "          document.querySelector('#df-3c8e429d-2688-4b06-8235-0b911a589ce3 button.colab-df-convert');\n",
              "        buttonEl.style.display =\n",
              "          google.colab.kernel.accessAllowed ? 'block' : 'none';\n",
              "\n",
              "        async function convertToInteractive(key) {\n",
              "          const element = document.querySelector('#df-3c8e429d-2688-4b06-8235-0b911a589ce3');\n",
              "          const dataTable =\n",
              "            await google.colab.kernel.invokeFunction('convertToInteractive',\n",
              "                                                     [key], {});\n",
              "          if (!dataTable) return;\n",
              "\n",
              "          const docLinkHtml = 'Like what you see? Visit the ' +\n",
              "            '<a target=\"_blank\" href=https://colab.research.google.com/notebooks/data_table.ipynb>data table notebook</a>'\n",
              "            + ' to learn more about interactive tables.';\n",
              "          element.innerHTML = '';\n",
              "          dataTable['output_type'] = 'display_data';\n",
              "          await google.colab.output.renderOutput(dataTable, element);\n",
              "          const docLink = document.createElement('div');\n",
              "          docLink.innerHTML = docLinkHtml;\n",
              "          element.appendChild(docLink);\n",
              "        }\n",
              "      </script>\n",
              "    </div>\n",
              "  </div>\n",
              "  "
            ]
          },
          "metadata": {},
          "execution_count": 73
        }
      ]
    },
    {
      "cell_type": "code",
      "source": [
        "df_temp[['ner_places', 'ner_place_2nd']]"
      ],
      "metadata": {
        "colab": {
          "base_uri": "https://localhost:8080/",
          "height": 388
        },
        "id": "B-km3hQAG41e",
        "outputId": "15aaec88-c2fb-45c0-879d-436f81c885a2"
      },
      "execution_count": null,
      "outputs": [
        {
          "output_type": "execute_result",
          "data": {
            "text/plain": [
              "                                               ner_places  \\\n",
              "158153                                {'Vacaville (GPE)'}   \n",
              "97443   {'B.C. (GPE)', 'the Calgary Stampeders (FAC)',...   \n",
              "162469  {'Florida (GPE)', 'Pittsburgh (GPE)', 'Clevela...   \n",
              "13064   {'Beaufort County (GPE)', 'the South Carolina ...   \n",
              "127710                                              set()   \n",
              "73657              {'the North Georgia State Fair (FAC)'}   \n",
              "9946                                                set()   \n",
              "67244                                               set()   \n",
              "76067                                               set()   \n",
              "162159  {'Giambi (GPE)', 'Boras (GPE)', 'San Francisco...   \n",
              "\n",
              "                                            ner_place_2nd  \n",
              "158153             {'Vacaville (FAC)', 'Vacaville (GPE)'}  \n",
              "97443   {'Ottawa (GPE)', 'Calgary (GPE)', 'Montreal (G...  \n",
              "162469  {'Florida (GPE)', 'Cleveland (GPE)', 'Pittsbur...  \n",
              "13064   {'Greenville (GPE)', 'the Beaufort PD (FAC)', ...  \n",
              "127710                                              set()  \n",
              "73657      {'the North Georgia State Fair Pageant (FAC)'}  \n",
              "9946                                                set()  \n",
              "67244                                               set()  \n",
              "76067                                  {\"Subway's (FAC)\"}  \n",
              "162159  {'New York (GPE)', 'Giambi (GPE)', 'Bronx (GPE...  "
            ],
            "text/html": [
              "\n",
              "  <div id=\"df-779251d5-246a-4a1c-a28f-178412454799\">\n",
              "    <div class=\"colab-df-container\">\n",
              "      <div>\n",
              "<style scoped>\n",
              "    .dataframe tbody tr th:only-of-type {\n",
              "        vertical-align: middle;\n",
              "    }\n",
              "\n",
              "    .dataframe tbody tr th {\n",
              "        vertical-align: top;\n",
              "    }\n",
              "\n",
              "    .dataframe thead th {\n",
              "        text-align: right;\n",
              "    }\n",
              "</style>\n",
              "<table border=\"1\" class=\"dataframe\">\n",
              "  <thead>\n",
              "    <tr style=\"text-align: right;\">\n",
              "      <th></th>\n",
              "      <th>ner_places</th>\n",
              "      <th>ner_place_2nd</th>\n",
              "    </tr>\n",
              "  </thead>\n",
              "  <tbody>\n",
              "    <tr>\n",
              "      <th>158153</th>\n",
              "      <td>{'Vacaville (GPE)'}</td>\n",
              "      <td>{'Vacaville (FAC)', 'Vacaville (GPE)'}</td>\n",
              "    </tr>\n",
              "    <tr>\n",
              "      <th>97443</th>\n",
              "      <td>{'B.C. (GPE)', 'the Calgary Stampeders (FAC)',...</td>\n",
              "      <td>{'Ottawa (GPE)', 'Calgary (GPE)', 'Montreal (G...</td>\n",
              "    </tr>\n",
              "    <tr>\n",
              "      <th>162469</th>\n",
              "      <td>{'Florida (GPE)', 'Pittsburgh (GPE)', 'Clevela...</td>\n",
              "      <td>{'Florida (GPE)', 'Cleveland (GPE)', 'Pittsbur...</td>\n",
              "    </tr>\n",
              "    <tr>\n",
              "      <th>13064</th>\n",
              "      <td>{'Beaufort County (GPE)', 'the South Carolina ...</td>\n",
              "      <td>{'Greenville (GPE)', 'the Beaufort PD (FAC)', ...</td>\n",
              "    </tr>\n",
              "    <tr>\n",
              "      <th>127710</th>\n",
              "      <td>set()</td>\n",
              "      <td>set()</td>\n",
              "    </tr>\n",
              "    <tr>\n",
              "      <th>73657</th>\n",
              "      <td>{'the North Georgia State Fair (FAC)'}</td>\n",
              "      <td>{'the North Georgia State Fair Pageant (FAC)'}</td>\n",
              "    </tr>\n",
              "    <tr>\n",
              "      <th>9946</th>\n",
              "      <td>set()</td>\n",
              "      <td>set()</td>\n",
              "    </tr>\n",
              "    <tr>\n",
              "      <th>67244</th>\n",
              "      <td>set()</td>\n",
              "      <td>set()</td>\n",
              "    </tr>\n",
              "    <tr>\n",
              "      <th>76067</th>\n",
              "      <td>set()</td>\n",
              "      <td>{\"Subway's (FAC)\"}</td>\n",
              "    </tr>\n",
              "    <tr>\n",
              "      <th>162159</th>\n",
              "      <td>{'Giambi (GPE)', 'Boras (GPE)', 'San Francisco...</td>\n",
              "      <td>{'New York (GPE)', 'Giambi (GPE)', 'Bronx (GPE...</td>\n",
              "    </tr>\n",
              "  </tbody>\n",
              "</table>\n",
              "</div>\n",
              "      <button class=\"colab-df-convert\" onclick=\"convertToInteractive('df-779251d5-246a-4a1c-a28f-178412454799')\"\n",
              "              title=\"Convert this dataframe to an interactive table.\"\n",
              "              style=\"display:none;\">\n",
              "        \n",
              "  <svg xmlns=\"http://www.w3.org/2000/svg\" height=\"24px\"viewBox=\"0 0 24 24\"\n",
              "       width=\"24px\">\n",
              "    <path d=\"M0 0h24v24H0V0z\" fill=\"none\"/>\n",
              "    <path d=\"M18.56 5.44l.94 2.06.94-2.06 2.06-.94-2.06-.94-.94-2.06-.94 2.06-2.06.94zm-11 1L8.5 8.5l.94-2.06 2.06-.94-2.06-.94L8.5 2.5l-.94 2.06-2.06.94zm10 10l.94 2.06.94-2.06 2.06-.94-2.06-.94-.94-2.06-.94 2.06-2.06.94z\"/><path d=\"M17.41 7.96l-1.37-1.37c-.4-.4-.92-.59-1.43-.59-.52 0-1.04.2-1.43.59L10.3 9.45l-7.72 7.72c-.78.78-.78 2.05 0 2.83L4 21.41c.39.39.9.59 1.41.59.51 0 1.02-.2 1.41-.59l7.78-7.78 2.81-2.81c.8-.78.8-2.07 0-2.86zM5.41 20L4 18.59l7.72-7.72 1.47 1.35L5.41 20z\"/>\n",
              "  </svg>\n",
              "      </button>\n",
              "      \n",
              "  <style>\n",
              "    .colab-df-container {\n",
              "      display:flex;\n",
              "      flex-wrap:wrap;\n",
              "      gap: 12px;\n",
              "    }\n",
              "\n",
              "    .colab-df-convert {\n",
              "      background-color: #E8F0FE;\n",
              "      border: none;\n",
              "      border-radius: 50%;\n",
              "      cursor: pointer;\n",
              "      display: none;\n",
              "      fill: #1967D2;\n",
              "      height: 32px;\n",
              "      padding: 0 0 0 0;\n",
              "      width: 32px;\n",
              "    }\n",
              "\n",
              "    .colab-df-convert:hover {\n",
              "      background-color: #E2EBFA;\n",
              "      box-shadow: 0px 1px 2px rgba(60, 64, 67, 0.3), 0px 1px 3px 1px rgba(60, 64, 67, 0.15);\n",
              "      fill: #174EA6;\n",
              "    }\n",
              "\n",
              "    [theme=dark] .colab-df-convert {\n",
              "      background-color: #3B4455;\n",
              "      fill: #D2E3FC;\n",
              "    }\n",
              "\n",
              "    [theme=dark] .colab-df-convert:hover {\n",
              "      background-color: #434B5C;\n",
              "      box-shadow: 0px 1px 3px 1px rgba(0, 0, 0, 0.15);\n",
              "      filter: drop-shadow(0px 1px 2px rgba(0, 0, 0, 0.3));\n",
              "      fill: #FFFFFF;\n",
              "    }\n",
              "  </style>\n",
              "\n",
              "      <script>\n",
              "        const buttonEl =\n",
              "          document.querySelector('#df-779251d5-246a-4a1c-a28f-178412454799 button.colab-df-convert');\n",
              "        buttonEl.style.display =\n",
              "          google.colab.kernel.accessAllowed ? 'block' : 'none';\n",
              "\n",
              "        async function convertToInteractive(key) {\n",
              "          const element = document.querySelector('#df-779251d5-246a-4a1c-a28f-178412454799');\n",
              "          const dataTable =\n",
              "            await google.colab.kernel.invokeFunction('convertToInteractive',\n",
              "                                                     [key], {});\n",
              "          if (!dataTable) return;\n",
              "\n",
              "          const docLinkHtml = 'Like what you see? Visit the ' +\n",
              "            '<a target=\"_blank\" href=https://colab.research.google.com/notebooks/data_table.ipynb>data table notebook</a>'\n",
              "            + ' to learn more about interactive tables.';\n",
              "          element.innerHTML = '';\n",
              "          dataTable['output_type'] = 'display_data';\n",
              "          await google.colab.output.renderOutput(dataTable, element);\n",
              "          const docLink = document.createElement('div');\n",
              "          docLink.innerHTML = docLinkHtml;\n",
              "          element.appendChild(docLink);\n",
              "        }\n",
              "      </script>\n",
              "    </div>\n",
              "  </div>\n",
              "  "
            ]
          },
          "metadata": {},
          "execution_count": 69
        }
      ]
    },
    {
      "cell_type": "code",
      "source": [
        "set_merge['ner_all'] = set_merge['article_final'].astype(str).apply(text_ner_all)"
      ],
      "metadata": {
        "id": "C98YUnZtzso4"
      },
      "execution_count": null,
      "outputs": []
    },
    {
      "cell_type": "code",
      "source": [
        "set_merge['ner_place_org'] = set_merge['article_final'].astype(str).apply(text_ner_place2)"
      ],
      "metadata": {
        "id": "NYyAjvHSJrow"
      },
      "execution_count": null,
      "outputs": []
    },
    {
      "cell_type": "code",
      "source": [
        "set_merge.to_excel(\"/content/drive/MyDrive/Georgia/Locations Analysis/Validation_test/spacy_place_org.xlsx\")"
      ],
      "metadata": {
        "id": "eOCVpfUZzyjQ"
      },
      "execution_count": null,
      "outputs": []
    },
    {
      "cell_type": "code",
      "source": [
        "manual = pd.read_excel('/content/drive/MyDrive/Georgia/Locations Analysis/Validation_test/Rand 35 GA articles_places mentioned.xlsx')\n"
      ],
      "metadata": {
        "id": "Ktesv0P-13FG"
      },
      "execution_count": null,
      "outputs": []
    },
    {
      "cell_type": "code",
      "source": [
        "\n",
        "manual['merge'] = manual.groupby(['id'])['Location'].transform(lambda x: ', '.join(x))\n"
      ],
      "metadata": {
        "id": "qLNf2xBj1_kB"
      },
      "execution_count": null,
      "outputs": []
    },
    {
      "cell_type": "code",
      "source": [
        "manual = manual.drop_duplicates(subset=['id', 'merge'])"
      ],
      "metadata": {
        "id": "-JV05m3z2p8S"
      },
      "execution_count": null,
      "outputs": []
    },
    {
      "cell_type": "code",
      "source": [
        "manual = manual[['id', 'merge']]"
      ],
      "metadata": {
        "id": "f9WCxEFH21Au"
      },
      "execution_count": null,
      "outputs": []
    },
    {
      "cell_type": "code",
      "source": [
        "set_merge = pd.merge(set_merge, manual, how='left', on='id')"
      ],
      "metadata": {
        "id": "Ii7gO8Jz25ho"
      },
      "execution_count": null,
      "outputs": []
    },
    {
      "cell_type": "code",
      "source": [
        "set_merge.to_excel(\"/content/drive/MyDrive/Georgia/Locations Analysis/Validation_test/spacy_manual_validation.xlsx\")"
      ],
      "metadata": {
        "id": "NI1eMTHK3Whg"
      },
      "execution_count": null,
      "outputs": []
    },
    {
      "cell_type": "code",
      "source": [
        "df_sample_temp = df.sample(100)"
      ],
      "metadata": {
        "id": "_gb7hW6LF7NA"
      },
      "execution_count": null,
      "outputs": []
    },
    {
      "cell_type": "code",
      "source": [
        "df_sample_temp"
      ],
      "metadata": {
        "colab": {
          "base_uri": "https://localhost:8080/",
          "height": 1000
        },
        "id": "aB57Dan-HhbQ",
        "outputId": "8fcfee14-b31a-4012-cfac-7bcc67d147c2"
      },
      "execution_count": null,
      "outputs": [
        {
          "output_type": "execute_result",
          "data": {
            "text/plain": [
              "         index                        source  en_source  \\\n",
              "80399    80399             McDuffie Progress        1.0   \n",
              "6867      6867       WRDW News CBS 12 NBC 26        1.0   \n",
              "11752    11752         Savannah Morning News        1.0   \n",
              "110326  110326                   WVCC AM 720        1.0   \n",
              "29666    29666        Madison County Journal        1.0   \n",
              "...        ...                           ...        ...   \n",
              "43682    43682              Chatsworth Times        1.0   \n",
              "139727  139727               WUPA TV 69 (CW)        1.0   \n",
              "134422  134422                    WPCH TV 17        1.0   \n",
              "92832    92832  Polk County Standard Journal        1.0   \n",
              "185201    1074              WALB TV 10 (NBC)        NaN   \n",
              "\n",
              "                                                  website  \\\n",
              "80399                    http://www.mcduffieprogress.com/   \n",
              "6867                                 http://www.wrdw.com/   \n",
              "11752             http://www.savannahbusinessjournal.com/   \n",
              "110326                    https://720thevoice.iheart.com/   \n",
              "29666                 http://www.madisonjournaltoday.com/   \n",
              "...                                                   ...   \n",
              "43682                     http://www.chatsworthtimes.com/   \n",
              "139727                     http://cwatlanta.cbslocal.com/   \n",
              "134422                        http://www.peachtreetv.com/   \n",
              "92832   http://www.northwestgeorgianews.com/polkfishwrap/   \n",
              "185201                               http://www.walb.com/   \n",
              "\n",
              "                                              article_url  \\\n",
              "80399   https://www.mcduffieprogress.com/lifestyles/en...   \n",
              "6867    https://www.wrdw.com/video/2022/09/29/shopo-re...   \n",
              "11752   https://www.savannahbusinessjournal.com/online...   \n",
              "110326  https://720thevoice.iheart.com/content/2022-09...   \n",
              "29666   https://www.mainstreetnews.com/sports/jhs/foot...   \n",
              "...                                                   ...   \n",
              "43682   https://chatsworthtimes.com/stories/jim-cox,12194   \n",
              "139727  https://www.cbsnews.com/baltimore/video/southw...   \n",
              "134422  https://www.peachtreetv.com/video/2022/10/13/m...   \n",
              "92832   https://www.northwestgeorgianews.com/tribune/s...   \n",
              "185201  https://www.walb.com/2022/09/30/bidens-host-ce...   \n",
              "\n",
              "                                            article_title  \\\n",
              "80399         Selma Blair's joy at dancing without a cane   \n",
              "6867    SHOPO releases survey critical of Kauai Police...   \n",
              "11752   Ban all PFAS? A new study shows that not all c...   \n",
              "110326  WATCH: Ted Lasso, AFC Richmond Club To Be Feat...   \n",
              "29666   FOOTBALL: Dragons win region opener behind def...   \n",
              "...                                                   ...   \n",
              "43682                             \\n\\t\\t\\t\\t\\t\\t\\tJim Cox   \n",
              "139727  Southwest Airlines attendents to join protest ...   \n",
              "134422  Mammogram screening on wheels coming to Wilmin...   \n",
              "92832   Shoppers are returning. Have malls stemmed the...   \n",
              "185201         Bidens host celebration of Jewish New Year   \n",
              "\n",
              "                               article_author date_published  \\\n",
              "80399                         Celebretainment     2022-09-21   \n",
              "6867                                      NaN     2022-09-29   \n",
              "11752                        Brandpoint (BPT)     2022-09-20   \n",
              "110326                             Jason Hall     2022-09-21   \n",
              "29666                                     NaN     2022-09-24   \n",
              "...                                       ...            ...   \n",
              "43682                                     NaN     2022-09-29   \n",
              "139727                                    NaN     2022-09-27   \n",
              "134422                                    NaN     2022-10-13   \n",
              "92832   Daniel Neman, St. Louis Post-Dispatch     2022-10-04   \n",
              "185201                        Gray News staff     2022-09-30   \n",
              "\n",
              "                                            article_final  \\\n",
              "80399   Selma Blair felt she was part of a \"\"fairy tal...   \n",
              "6867    A majority of those surveyed pointed to low mo...   \n",
              "11752   (BPT) - By Jay West, Executive Director of the...   \n",
              "110326  Fans of the award-winning Apple TV+ series Ted...   \n",
              "29666   ATHENS — On an up-and-down evening for Jeffers...   \n",
              "...                                                   ...   \n",
              "43682   Jim “Ox” Cox, age 88, of Chatsworth passed awa...   \n",
              "139727  Watch CBS News\\nSouthwest Airlines attendents ...   \n",
              "134422  Mammogram screening on wheels coming to Wilmin...   \n",
              "92832   You know the cliché: Shopping malls are desola...   \n",
              "185201  WASHINGTON (Gray News) – President Joe Biden a...   \n",
              "\n",
              "                                               ner_places  \\\n",
              "80399                                     {'Sasha (GPE)'}   \n",
              "6867                                                set()   \n",
              "11752                                {'Washington (GPE)'}   \n",
              "110326  {'Sudeikis (GPE)', 'Emmy Awards (GPE)', 'Richm...   \n",
              "29666              {'Botts (GPE)', 'Oconee County (GPE)'}   \n",
              "...                                                   ...   \n",
              "43682   {'Chatsworth (GPE)', 'the Sumach Cumberland Pr...   \n",
              "139727                                              set()   \n",
              "134422                               {'Wilmington (GPE)'}   \n",
              "92832   {'North Carolina (GPE)', 'Staenberg (GPE)', 'C...   \n",
              "185201  {'Israel (GPE)', 'Charlottesville (GPE)', 'the...   \n",
              "\n",
              "                                                 ner_orgs  \\\n",
              "80399   {'Selma (ORG)', \"The 'Cruel Intentions' (ORG)\"...   \n",
              "6867                                                set()   \n",
              "11752   {'PFP (ORG)', 'PFAS (ORG)', 'PLC (ORG)', 'the ...   \n",
              "110326  {'AFC Richmond (ORG)', 'World (ORG)', 'EA SPOR...   \n",
              "29666   {'Jefferson’s (ORG)', 'ATHENS (ORG)', 'Aldridg...   \n",
              "...                                                   ...   \n",
              "43682             {'Chatsworth (ORG)', 'Crematory (ORG)'}   \n",
              "139727  {'BWI (ORG)', 'Southwest Airlines (ORG)', 'CBS...   \n",
              "134422  {'Mammogram (ORG)', 'Wilmington\\nOctober 13, 2...   \n",
              "92832   {'Pure Perfection Candles (ORG)', 'Exit Ramp 3...   \n",
              "185201  {'Gray Media Group (ORG)', 'Gray News (ORG)', ...   \n",
              "\n",
              "                                        article_lemma_num      id  \\\n",
              "80399   selma blair feel fairy tale dance cane dance s...   80400   \n",
              "6867    majority survey point low morale give chief lo...    6868   \n",
              "11752   bpt jay west executive director performance fl...   11753   \n",
              "110326  fan award win apple tv series ted lasso soon a...  110327   \n",
              "29666   athens evening jefferson offense dragon stingy...   29667   \n",
              "...                                                   ...     ...   \n",
              "43682   jim ox cox age 88 chatsworth pass away peacefu...   43683   \n",
              "139727  watch cbs news  southwest airline attendent jo...  139728   \n",
              "134422  mammogram screening wheel come wilmington  oct...  134423   \n",
              "92832   know clich shopping mall desolate deserted pla...   92833   \n",
              "185201  washington gray news president joe biden lady ...  185202   \n",
              "\n",
              "                           place_ng1 place_ng2    place_ner1 place_ner2  \\\n",
              "80399                             {}        []            {}         []   \n",
              "6867                              {}        []            {}         []   \n",
              "11752                             {}        []            {}         []   \n",
              "110326                            {}        []            {}         []   \n",
              "29666                       {Bryant}        []            {}         []   \n",
              "...                              ...       ...           ...        ...   \n",
              "43682          {Chatsworth, Millard}        []  {Chatsworth}         []   \n",
              "139727                            {}        []            {}         []   \n",
              "134422                            {}        []            {}         []   \n",
              "92832   {Center, Phillips, Brighton}        []      {Center}         []   \n",
              "185201                       {White}        []       {White}         []   \n",
              "\n",
              "                                         ner_places_clean  \n",
              "80399                                         Sasha (GPE)  \n",
              "6867                                                set()  \n",
              "11752                                    Washington (GPE)  \n",
              "110326    Sudeikis (GPE) Emmy Awards (GPE) Richmond (GPE)  \n",
              "29666                     Botts (GPE) Oconee County (GPE)  \n",
              "...                                                   ...  \n",
              "43682   Chatsworth (GPE) the Sumach Cumberland Presbyt...  \n",
              "139727                                              set()  \n",
              "134422                                   Wilmington (GPE)  \n",
              "92832   North Carolina (GPE) Staenberg (GPE) Cross Cre...  \n",
              "185201  Israel (GPE) Charlottesville (GPE) the United ...  \n",
              "\n",
              "[100 rows x 18 columns]"
            ],
            "text/html": [
              "\n",
              "  <div id=\"df-b69dd135-2a32-4694-9b40-a42af49c6940\">\n",
              "    <div class=\"colab-df-container\">\n",
              "      <div>\n",
              "<style scoped>\n",
              "    .dataframe tbody tr th:only-of-type {\n",
              "        vertical-align: middle;\n",
              "    }\n",
              "\n",
              "    .dataframe tbody tr th {\n",
              "        vertical-align: top;\n",
              "    }\n",
              "\n",
              "    .dataframe thead th {\n",
              "        text-align: right;\n",
              "    }\n",
              "</style>\n",
              "<table border=\"1\" class=\"dataframe\">\n",
              "  <thead>\n",
              "    <tr style=\"text-align: right;\">\n",
              "      <th></th>\n",
              "      <th>index</th>\n",
              "      <th>source</th>\n",
              "      <th>en_source</th>\n",
              "      <th>website</th>\n",
              "      <th>article_url</th>\n",
              "      <th>article_title</th>\n",
              "      <th>article_author</th>\n",
              "      <th>date_published</th>\n",
              "      <th>article_final</th>\n",
              "      <th>ner_places</th>\n",
              "      <th>ner_orgs</th>\n",
              "      <th>article_lemma_num</th>\n",
              "      <th>id</th>\n",
              "      <th>place_ng1</th>\n",
              "      <th>place_ng2</th>\n",
              "      <th>place_ner1</th>\n",
              "      <th>place_ner2</th>\n",
              "      <th>ner_places_clean</th>\n",
              "    </tr>\n",
              "  </thead>\n",
              "  <tbody>\n",
              "    <tr>\n",
              "      <th>80399</th>\n",
              "      <td>80399</td>\n",
              "      <td>McDuffie Progress</td>\n",
              "      <td>1.0</td>\n",
              "      <td>http://www.mcduffieprogress.com/</td>\n",
              "      <td>https://www.mcduffieprogress.com/lifestyles/en...</td>\n",
              "      <td>Selma Blair's joy at dancing without a cane</td>\n",
              "      <td>Celebretainment</td>\n",
              "      <td>2022-09-21</td>\n",
              "      <td>Selma Blair felt she was part of a \"\"fairy tal...</td>\n",
              "      <td>{'Sasha (GPE)'}</td>\n",
              "      <td>{'Selma (ORG)', \"The 'Cruel Intentions' (ORG)\"...</td>\n",
              "      <td>selma blair feel fairy tale dance cane dance s...</td>\n",
              "      <td>80400</td>\n",
              "      <td>{}</td>\n",
              "      <td>[]</td>\n",
              "      <td>{}</td>\n",
              "      <td>[]</td>\n",
              "      <td>Sasha (GPE)</td>\n",
              "    </tr>\n",
              "    <tr>\n",
              "      <th>6867</th>\n",
              "      <td>6867</td>\n",
              "      <td>WRDW News CBS 12 NBC 26</td>\n",
              "      <td>1.0</td>\n",
              "      <td>http://www.wrdw.com/</td>\n",
              "      <td>https://www.wrdw.com/video/2022/09/29/shopo-re...</td>\n",
              "      <td>SHOPO releases survey critical of Kauai Police...</td>\n",
              "      <td>NaN</td>\n",
              "      <td>2022-09-29</td>\n",
              "      <td>A majority of those surveyed pointed to low mo...</td>\n",
              "      <td>set()</td>\n",
              "      <td>set()</td>\n",
              "      <td>majority survey point low morale give chief lo...</td>\n",
              "      <td>6868</td>\n",
              "      <td>{}</td>\n",
              "      <td>[]</td>\n",
              "      <td>{}</td>\n",
              "      <td>[]</td>\n",
              "      <td>set()</td>\n",
              "    </tr>\n",
              "    <tr>\n",
              "      <th>11752</th>\n",
              "      <td>11752</td>\n",
              "      <td>Savannah Morning News</td>\n",
              "      <td>1.0</td>\n",
              "      <td>http://www.savannahbusinessjournal.com/</td>\n",
              "      <td>https://www.savannahbusinessjournal.com/online...</td>\n",
              "      <td>Ban all PFAS? A new study shows that not all c...</td>\n",
              "      <td>Brandpoint (BPT)</td>\n",
              "      <td>2022-09-20</td>\n",
              "      <td>(BPT) - By Jay West, Executive Director of the...</td>\n",
              "      <td>{'Washington (GPE)'}</td>\n",
              "      <td>{'PFP (ORG)', 'PFAS (ORG)', 'PLC (ORG)', 'the ...</td>\n",
              "      <td>bpt jay west executive director performance fl...</td>\n",
              "      <td>11753</td>\n",
              "      <td>{}</td>\n",
              "      <td>[]</td>\n",
              "      <td>{}</td>\n",
              "      <td>[]</td>\n",
              "      <td>Washington (GPE)</td>\n",
              "    </tr>\n",
              "    <tr>\n",
              "      <th>110326</th>\n",
              "      <td>110326</td>\n",
              "      <td>WVCC AM 720</td>\n",
              "      <td>1.0</td>\n",
              "      <td>https://720thevoice.iheart.com/</td>\n",
              "      <td>https://720thevoice.iheart.com/content/2022-09...</td>\n",
              "      <td>WATCH: Ted Lasso, AFC Richmond Club To Be Feat...</td>\n",
              "      <td>Jason Hall</td>\n",
              "      <td>2022-09-21</td>\n",
              "      <td>Fans of the award-winning Apple TV+ series Ted...</td>\n",
              "      <td>{'Sudeikis (GPE)', 'Emmy Awards (GPE)', 'Richm...</td>\n",
              "      <td>{'AFC Richmond (ORG)', 'World (ORG)', 'EA SPOR...</td>\n",
              "      <td>fan award win apple tv series ted lasso soon a...</td>\n",
              "      <td>110327</td>\n",
              "      <td>{}</td>\n",
              "      <td>[]</td>\n",
              "      <td>{}</td>\n",
              "      <td>[]</td>\n",
              "      <td>Sudeikis (GPE) Emmy Awards (GPE) Richmond (GPE)</td>\n",
              "    </tr>\n",
              "    <tr>\n",
              "      <th>29666</th>\n",
              "      <td>29666</td>\n",
              "      <td>Madison County Journal</td>\n",
              "      <td>1.0</td>\n",
              "      <td>http://www.madisonjournaltoday.com/</td>\n",
              "      <td>https://www.mainstreetnews.com/sports/jhs/foot...</td>\n",
              "      <td>FOOTBALL: Dragons win region opener behind def...</td>\n",
              "      <td>NaN</td>\n",
              "      <td>2022-09-24</td>\n",
              "      <td>ATHENS — On an up-and-down evening for Jeffers...</td>\n",
              "      <td>{'Botts (GPE)', 'Oconee County (GPE)'}</td>\n",
              "      <td>{'Jefferson’s (ORG)', 'ATHENS (ORG)', 'Aldridg...</td>\n",
              "      <td>athens evening jefferson offense dragon stingy...</td>\n",
              "      <td>29667</td>\n",
              "      <td>{Bryant}</td>\n",
              "      <td>[]</td>\n",
              "      <td>{}</td>\n",
              "      <td>[]</td>\n",
              "      <td>Botts (GPE) Oconee County (GPE)</td>\n",
              "    </tr>\n",
              "    <tr>\n",
              "      <th>...</th>\n",
              "      <td>...</td>\n",
              "      <td>...</td>\n",
              "      <td>...</td>\n",
              "      <td>...</td>\n",
              "      <td>...</td>\n",
              "      <td>...</td>\n",
              "      <td>...</td>\n",
              "      <td>...</td>\n",
              "      <td>...</td>\n",
              "      <td>...</td>\n",
              "      <td>...</td>\n",
              "      <td>...</td>\n",
              "      <td>...</td>\n",
              "      <td>...</td>\n",
              "      <td>...</td>\n",
              "      <td>...</td>\n",
              "      <td>...</td>\n",
              "      <td>...</td>\n",
              "    </tr>\n",
              "    <tr>\n",
              "      <th>43682</th>\n",
              "      <td>43682</td>\n",
              "      <td>Chatsworth Times</td>\n",
              "      <td>1.0</td>\n",
              "      <td>http://www.chatsworthtimes.com/</td>\n",
              "      <td>https://chatsworthtimes.com/stories/jim-cox,12194</td>\n",
              "      <td>\\n\\t\\t\\t\\t\\t\\t\\tJim Cox</td>\n",
              "      <td>NaN</td>\n",
              "      <td>2022-09-29</td>\n",
              "      <td>Jim “Ox” Cox, age 88, of Chatsworth passed awa...</td>\n",
              "      <td>{'Chatsworth (GPE)', 'the Sumach Cumberland Pr...</td>\n",
              "      <td>{'Chatsworth (ORG)', 'Crematory (ORG)'}</td>\n",
              "      <td>jim ox cox age 88 chatsworth pass away peacefu...</td>\n",
              "      <td>43683</td>\n",
              "      <td>{Chatsworth, Millard}</td>\n",
              "      <td>[]</td>\n",
              "      <td>{Chatsworth}</td>\n",
              "      <td>[]</td>\n",
              "      <td>Chatsworth (GPE) the Sumach Cumberland Presbyt...</td>\n",
              "    </tr>\n",
              "    <tr>\n",
              "      <th>139727</th>\n",
              "      <td>139727</td>\n",
              "      <td>WUPA TV 69 (CW)</td>\n",
              "      <td>1.0</td>\n",
              "      <td>http://cwatlanta.cbslocal.com/</td>\n",
              "      <td>https://www.cbsnews.com/baltimore/video/southw...</td>\n",
              "      <td>Southwest Airlines attendents to join protest ...</td>\n",
              "      <td>NaN</td>\n",
              "      <td>2022-09-27</td>\n",
              "      <td>Watch CBS News\\nSouthwest Airlines attendents ...</td>\n",
              "      <td>set()</td>\n",
              "      <td>{'BWI (ORG)', 'Southwest Airlines (ORG)', 'CBS...</td>\n",
              "      <td>watch cbs news  southwest airline attendent jo...</td>\n",
              "      <td>139728</td>\n",
              "      <td>{}</td>\n",
              "      <td>[]</td>\n",
              "      <td>{}</td>\n",
              "      <td>[]</td>\n",
              "      <td>set()</td>\n",
              "    </tr>\n",
              "    <tr>\n",
              "      <th>134422</th>\n",
              "      <td>134422</td>\n",
              "      <td>WPCH TV 17</td>\n",
              "      <td>1.0</td>\n",
              "      <td>http://www.peachtreetv.com/</td>\n",
              "      <td>https://www.peachtreetv.com/video/2022/10/13/m...</td>\n",
              "      <td>Mammogram screening on wheels coming to Wilmin...</td>\n",
              "      <td>NaN</td>\n",
              "      <td>2022-10-13</td>\n",
              "      <td>Mammogram screening on wheels coming to Wilmin...</td>\n",
              "      <td>{'Wilmington (GPE)'}</td>\n",
              "      <td>{'Mammogram (ORG)', 'Wilmington\\nOctober 13, 2...</td>\n",
              "      <td>mammogram screening wheel come wilmington  oct...</td>\n",
              "      <td>134423</td>\n",
              "      <td>{}</td>\n",
              "      <td>[]</td>\n",
              "      <td>{}</td>\n",
              "      <td>[]</td>\n",
              "      <td>Wilmington (GPE)</td>\n",
              "    </tr>\n",
              "    <tr>\n",
              "      <th>92832</th>\n",
              "      <td>92832</td>\n",
              "      <td>Polk County Standard Journal</td>\n",
              "      <td>1.0</td>\n",
              "      <td>http://www.northwestgeorgianews.com/polkfishwrap/</td>\n",
              "      <td>https://www.northwestgeorgianews.com/tribune/s...</td>\n",
              "      <td>Shoppers are returning. Have malls stemmed the...</td>\n",
              "      <td>Daniel Neman, St. Louis Post-Dispatch</td>\n",
              "      <td>2022-10-04</td>\n",
              "      <td>You know the cliché: Shopping malls are desola...</td>\n",
              "      <td>{'North Carolina (GPE)', 'Staenberg (GPE)', 'C...</td>\n",
              "      <td>{'Pure Perfection Candles (ORG)', 'Exit Ramp 3...</td>\n",
              "      <td>know clich shopping mall desolate deserted pla...</td>\n",
              "      <td>92833</td>\n",
              "      <td>{Center, Phillips, Brighton}</td>\n",
              "      <td>[]</td>\n",
              "      <td>{Center}</td>\n",
              "      <td>[]</td>\n",
              "      <td>North Carolina (GPE) Staenberg (GPE) Cross Cre...</td>\n",
              "    </tr>\n",
              "    <tr>\n",
              "      <th>185201</th>\n",
              "      <td>1074</td>\n",
              "      <td>WALB TV 10 (NBC)</td>\n",
              "      <td>NaN</td>\n",
              "      <td>http://www.walb.com/</td>\n",
              "      <td>https://www.walb.com/2022/09/30/bidens-host-ce...</td>\n",
              "      <td>Bidens host celebration of Jewish New Year</td>\n",
              "      <td>Gray News staff</td>\n",
              "      <td>2022-09-30</td>\n",
              "      <td>WASHINGTON (Gray News) – President Joe Biden a...</td>\n",
              "      <td>{'Israel (GPE)', 'Charlottesville (GPE)', 'the...</td>\n",
              "      <td>{'Gray Media Group (ORG)', 'Gray News (ORG)', ...</td>\n",
              "      <td>washington gray news president joe biden lady ...</td>\n",
              "      <td>185202</td>\n",
              "      <td>{White}</td>\n",
              "      <td>[]</td>\n",
              "      <td>{White}</td>\n",
              "      <td>[]</td>\n",
              "      <td>Israel (GPE) Charlottesville (GPE) the United ...</td>\n",
              "    </tr>\n",
              "  </tbody>\n",
              "</table>\n",
              "<p>100 rows × 18 columns</p>\n",
              "</div>\n",
              "      <button class=\"colab-df-convert\" onclick=\"convertToInteractive('df-b69dd135-2a32-4694-9b40-a42af49c6940')\"\n",
              "              title=\"Convert this dataframe to an interactive table.\"\n",
              "              style=\"display:none;\">\n",
              "        \n",
              "  <svg xmlns=\"http://www.w3.org/2000/svg\" height=\"24px\"viewBox=\"0 0 24 24\"\n",
              "       width=\"24px\">\n",
              "    <path d=\"M0 0h24v24H0V0z\" fill=\"none\"/>\n",
              "    <path d=\"M18.56 5.44l.94 2.06.94-2.06 2.06-.94-2.06-.94-.94-2.06-.94 2.06-2.06.94zm-11 1L8.5 8.5l.94-2.06 2.06-.94-2.06-.94L8.5 2.5l-.94 2.06-2.06.94zm10 10l.94 2.06.94-2.06 2.06-.94-2.06-.94-.94-2.06-.94 2.06-2.06.94z\"/><path d=\"M17.41 7.96l-1.37-1.37c-.4-.4-.92-.59-1.43-.59-.52 0-1.04.2-1.43.59L10.3 9.45l-7.72 7.72c-.78.78-.78 2.05 0 2.83L4 21.41c.39.39.9.59 1.41.59.51 0 1.02-.2 1.41-.59l7.78-7.78 2.81-2.81c.8-.78.8-2.07 0-2.86zM5.41 20L4 18.59l7.72-7.72 1.47 1.35L5.41 20z\"/>\n",
              "  </svg>\n",
              "      </button>\n",
              "      \n",
              "  <style>\n",
              "    .colab-df-container {\n",
              "      display:flex;\n",
              "      flex-wrap:wrap;\n",
              "      gap: 12px;\n",
              "    }\n",
              "\n",
              "    .colab-df-convert {\n",
              "      background-color: #E8F0FE;\n",
              "      border: none;\n",
              "      border-radius: 50%;\n",
              "      cursor: pointer;\n",
              "      display: none;\n",
              "      fill: #1967D2;\n",
              "      height: 32px;\n",
              "      padding: 0 0 0 0;\n",
              "      width: 32px;\n",
              "    }\n",
              "\n",
              "    .colab-df-convert:hover {\n",
              "      background-color: #E2EBFA;\n",
              "      box-shadow: 0px 1px 2px rgba(60, 64, 67, 0.3), 0px 1px 3px 1px rgba(60, 64, 67, 0.15);\n",
              "      fill: #174EA6;\n",
              "    }\n",
              "\n",
              "    [theme=dark] .colab-df-convert {\n",
              "      background-color: #3B4455;\n",
              "      fill: #D2E3FC;\n",
              "    }\n",
              "\n",
              "    [theme=dark] .colab-df-convert:hover {\n",
              "      background-color: #434B5C;\n",
              "      box-shadow: 0px 1px 3px 1px rgba(0, 0, 0, 0.15);\n",
              "      filter: drop-shadow(0px 1px 2px rgba(0, 0, 0, 0.3));\n",
              "      fill: #FFFFFF;\n",
              "    }\n",
              "  </style>\n",
              "\n",
              "      <script>\n",
              "        const buttonEl =\n",
              "          document.querySelector('#df-b69dd135-2a32-4694-9b40-a42af49c6940 button.colab-df-convert');\n",
              "        buttonEl.style.display =\n",
              "          google.colab.kernel.accessAllowed ? 'block' : 'none';\n",
              "\n",
              "        async function convertToInteractive(key) {\n",
              "          const element = document.querySelector('#df-b69dd135-2a32-4694-9b40-a42af49c6940');\n",
              "          const dataTable =\n",
              "            await google.colab.kernel.invokeFunction('convertToInteractive',\n",
              "                                                     [key], {});\n",
              "          if (!dataTable) return;\n",
              "\n",
              "          const docLinkHtml = 'Like what you see? Visit the ' +\n",
              "            '<a target=\"_blank\" href=https://colab.research.google.com/notebooks/data_table.ipynb>data table notebook</a>'\n",
              "            + ' to learn more about interactive tables.';\n",
              "          element.innerHTML = '';\n",
              "          dataTable['output_type'] = 'display_data';\n",
              "          await google.colab.output.renderOutput(dataTable, element);\n",
              "          const docLink = document.createElement('div');\n",
              "          docLink.innerHTML = docLinkHtml;\n",
              "          element.appendChild(docLink);\n",
              "        }\n",
              "      </script>\n",
              "    </div>\n",
              "  </div>\n",
              "  "
            ]
          },
          "metadata": {},
          "execution_count": 216
        }
      ]
    },
    {
      "cell_type": "code",
      "source": [
        "# # continued from the above\n",
        "\n",
        "# # article \n",
        "# df_sample_20 = df[ ( df['place_ng1'].str.len() >= 1) | ( df['place_ng2'].str.len() >= 1) ].sample(20)\n",
        "\n",
        "\n",
        "# # place ner\n",
        "# df_sample_20 = df[ ( df['place_ner1'].str.len() >= 1) | ( df['place_ner2'].str.len() >= 1) ].sample(20)"
      ],
      "metadata": {
        "id": "61P3XUGgYKyJ"
      },
      "execution_count": null,
      "outputs": []
    },
    {
      "cell_type": "code",
      "source": [
        "## article test\n",
        "\n",
        "temp_uni = df_sample_temp[(df_sample_temp['place_ng1'].str.len()) >= 1]\n",
        "temp_bi = df_sample_temp[(df_sample_temp['place_ng2'].str.len()) >= 1]\n",
        "\n",
        "temp_uni = temp_uni[['id', 'source', 'place_ng1', 'article_final']]\n",
        "temp_bi = temp_bi[['id', 'source', 'place_ng2', 'article_final']]\n",
        "\n",
        "temp_uni_df = temp_uni.explode('place_ng1')\n",
        "temp_bi_df = temp_bi.explode('place_ng2')\n",
        "\n",
        "temp_uni_df = temp_uni_df.rename(columns={'place_ng1': 'place_ner'})\n",
        "temp_bi_df = temp_bi_df.rename(columns={'place_ng2': 'place_ner'})\n",
        "\n",
        "## place ner test\n",
        "\n",
        "temp_uni2 = df_sample_temp[(df_sample_temp['place_ner1'].str.len()) >= 1]\n",
        "temp_bi2 = df_sample_temp[(df_sample_temp['place_ner2'].str.len()) >= 1]\n",
        "\n",
        "temp_uni2 = temp_uni2[['id', 'source', 'place_ner1', 'article_final']]\n",
        "temp_bi2 = temp_bi2[['id', 'source', 'place_ner2', 'article_final']]\n",
        "\n",
        "temp_uni2_df = temp_uni2.explode('place_ner1')\n",
        "temp_bi2_df = temp_bi2.explode('place_ner2')\n",
        "\n",
        "temp_uni2_df = temp_uni2_df.rename(columns={'place_ner1': 'place_ner'})\n",
        "temp_bi2_df = temp_bi2_df.rename(columns={'place_ner2': 'place_ner'})\n"
      ],
      "metadata": {
        "id": "lds-YShQbbTz"
      },
      "execution_count": null,
      "outputs": []
    },
    {
      "cell_type": "code",
      "source": [
        "temp_df_all = pd.concat([temp_uni_df, temp_bi_df])\n",
        "temp_df2_all = pd.concat([temp_uni2_df, temp_bi2_df])"
      ],
      "metadata": {
        "id": "16x28NuScyzM"
      },
      "execution_count": null,
      "outputs": []
    },
    {
      "cell_type": "code",
      "source": [
        "import nltk\n",
        "nltk.download('punkt')\n",
        "\n",
        "from nltk.tokenize import sent_tokenize\n",
        "by_sentence = temp_df_all['article_final'].apply(lambda x : sent_tokenize(x)).apply(pd.Series,1).stack()\n",
        "by_sentence_df = pd.DataFrame(by_sentence)\n",
        "by_sentence_df.rename(columns={0:'sentence_each'}, inplace=True)\n",
        "\n",
        "by_sentence_df['sentence_turn'] = by_sentence_df.index.get_level_values(1)\n",
        "by_sentence_df.index = by_sentence_df.index.get_level_values(0)\n"
      ],
      "metadata": {
        "colab": {
          "base_uri": "https://localhost:8080/"
        },
        "id": "jKE2BNCBYQdc",
        "outputId": "d0eea953-e6ee-4e9d-fd25-6a8208482e66"
      },
      "execution_count": null,
      "outputs": [
        {
          "output_type": "stream",
          "name": "stderr",
          "text": [
            "[nltk_data] Downloading package punkt to /root/nltk_data...\n",
            "[nltk_data]   Package punkt is already up-to-date!\n"
          ]
        }
      ]
    },
    {
      "cell_type": "code",
      "source": [
        "merge_all_join = pd.merge(temp_df_all, by_sentence_df, left_index=True, right_index=True)\n",
        "merge_all_join2 = pd.merge(temp_df2_all, by_sentence_df, left_index=True, right_index=True)\n"
      ],
      "metadata": {
        "id": "dvcrkUODc-G0"
      },
      "execution_count": null,
      "outputs": []
    },
    {
      "cell_type": "code",
      "source": [
        "merge_all_join['place_YN'] = merge_all_join.apply(lambda x: x.place_ner in x.sentence_each, axis=1)\n",
        "merge_all_join2['place_YN'] = merge_all_join2.apply(lambda x: x.place_ner in x.sentence_each, axis=1)"
      ],
      "metadata": {
        "id": "Y7NNV7OPc7ub"
      },
      "execution_count": null,
      "outputs": []
    },
    {
      "cell_type": "code",
      "source": [
        "merge_all_join_in = merge_all_join[ (merge_all_join['place_YN']== True)]\n",
        "merge_all_join2_in = merge_all_join2[ (merge_all_join2['place_YN']== True)]\n"
      ],
      "metadata": {
        "id": "Y_yR_qgIdy14"
      },
      "execution_count": null,
      "outputs": []
    },
    {
      "cell_type": "code",
      "source": [
        "location_final['place_ner'] = location_final['ner_place_clean'].copy()"
      ],
      "metadata": {
        "id": "JxyTF-hqetLn"
      },
      "execution_count": null,
      "outputs": []
    },
    {
      "cell_type": "code",
      "source": [
        "location_final_short = location_final[['place_ner', 'county_level', 'formatted_address']]"
      ],
      "metadata": {
        "id": "lsRV5uhvfC5s"
      },
      "execution_count": null,
      "outputs": []
    },
    {
      "cell_type": "code",
      "source": [
        "merge_all_join_in = pd.merge(merge_all_join_in, location_final_short, how='left', on='place_ner')\n",
        "merge_all_join2_in = pd.merge(merge_all_join2_in, location_final_short, how='left', on='place_ner')"
      ],
      "metadata": {
        "id": "uBPg1I6XeBqi"
      },
      "execution_count": null,
      "outputs": []
    },
    {
      "cell_type": "code",
      "source": [
        "merge_all_join_in = merge_all_join_in[['id', 'source','place_ner', 'sentence_each', 'county_level', 'formatted_address']]\n",
        "merge_all_join2_in = merge_all_join2_in[['id', 'source','place_ner', 'sentence_each', 'county_level', 'formatted_address']]"
      ],
      "metadata": {
        "id": "qpOrWI5FfUFO"
      },
      "execution_count": null,
      "outputs": []
    },
    {
      "cell_type": "code",
      "source": [
        "merge_all_join_in = merge_all_join_in.drop_duplicates()\n",
        "merge_all_join2_in = merge_all_join2_in.drop_duplicates()"
      ],
      "metadata": {
        "id": "GmF49o43gXsC"
      },
      "execution_count": null,
      "outputs": []
    },
    {
      "cell_type": "code",
      "source": [
        "\n",
        "merge_all_join_in.to_excel('Georgia_place_sample_test_article_identification.xlsx')\n",
        "merge_all_join2_in.to_excel('Georgia_place_sample_test_spacy_ner_identification.xlsx')"
      ],
      "metadata": {
        "id": "En17dVfhfhPy"
      },
      "execution_count": null,
      "outputs": []
    },
    {
      "cell_type": "code",
      "source": [
        "df.sample(100)"
      ],
      "metadata": {
        "id": "LvQdjJt4fpdx",
        "colab": {
          "base_uri": "https://localhost:8080/",
          "height": 1000
        },
        "outputId": "5f0fbd81-89d0-436f-ebd4-4293b1af9e79"
      },
      "execution_count": null,
      "outputs": [
        {
          "output_type": "execute_result",
          "data": {
            "text/plain": [
              "         index                        source  en_source  \\\n",
              "61662    61662   Georgia Public Broadcasting        1.0   \n",
              "177833    3706        Jackson Progress-Argus        NaN   \n",
              "91662    91662  Polk County Standard Journal        1.0   \n",
              "30742    30742                    WSB AM 750        1.0   \n",
              "147574  147574               WUPA TV 69 (CW)        1.0   \n",
              "...        ...                           ...        ...   \n",
              "25764    25764                    Decaturish        1.0   \n",
              "48101    48101             Paulding Neighbor        1.0   \n",
              "39974    39974              WGCL TV 46 (CBS)        1.0   \n",
              "114897  114897              WTOC TV 11 (CBS)        1.0   \n",
              "188302    4175              WALB TV 10 (NBC)        NaN   \n",
              "\n",
              "                                                  website  \\\n",
              "61662                                 https://www.gpb.org   \n",
              "177833              http://www.jacksonprogress-argus.com/   \n",
              "91662   http://www.northwestgeorgianews.com/polkfishwrap/   \n",
              "30742                            http://www.wsbradio.com/   \n",
              "147574                     http://cwatlanta.cbslocal.com/   \n",
              "...                                                   ...   \n",
              "25764                             https://decaturish.com/   \n",
              "48101   https://www.mdjonline.com/neighbor_newspapers/...   \n",
              "39974                               http://www.cbs46.com/   \n",
              "114897                               http://www.wtoc.com/   \n",
              "188302                               http://www.walb.com/   \n",
              "\n",
              "                                              article_url  \\\n",
              "61662   https://www.gpb.org/news/goats-and-soda/2022/0...   \n",
              "177833  https://www.jacksonprogress-argus.com/sports/f...   \n",
              "91662   https://www.northwestgeorgianews.com/tribune/l...   \n",
              "30742   https://www.wsbradio.com/news/local/georgia-wo...   \n",
              "147574  https://www.cbsnews.com/losangeles/video/amber...   \n",
              "...                                                   ...   \n",
              "25764   https://decaturish.com/2022/10/placita-latina-...   \n",
              "48101   https://www.mdjonline.com/neighbor_newspapers/...   \n",
              "39974   https://www.cbs46.com/video/2022/09/26/proceed...   \n",
              "114897  https://www.wtoc.com/video/2022/09/16/heartlan...   \n",
              "188302  https://www.walb.com/video/2022/09/27/city-stu...   \n",
              "\n",
              "                                            article_title  \\\n",
              "61662         4 ways the world messed up its pandemic ...   \n",
              "177833  Falcons, Buccaneers to clash for first place i...   \n",
              "91662   Juneteenth activist Opal Lee’s journey from se...   \n",
              "30742   Georgia woman dies after falling from cliff in...   \n",
              "147574            Amber Lee's weather forecast (Sept. 22)   \n",
              "...                                                   ...   \n",
              "25764   Placita Latina Festival hosting artist showcas...   \n",
              "48101   Ricketts rules out appointing himself to fill ...   \n",
              "39974   Proceeds from Henry Vilas Zoo ‘Run Wild’ to su...   \n",
              "114897            Heartland Football Friday preview  9/16   \n",
              "188302  City study finds top 10 roads that need improv...   \n",
              "\n",
              "                                           article_author date_published  \\\n",
              "61662   Ari Daniel, Sheila Mulrooney Eldred, Diaa Hadi...     2022-09-15   \n",
              "177833                      Jon Gallo Staff Correspondent     2022-10-05   \n",
              "91662   Jessika Harkay and David Silva Ramirez, Fort W...     2022-10-05   \n",
              "30742                                                 NaN     2022-09-20   \n",
              "147574                                                NaN     2022-09-22   \n",
              "...                                                   ...            ...   \n",
              "25764                                          Zoe Seiler     2022-10-10   \n",
              "48101                     DON WALTON Lincoln Journal Star     2022-10-07   \n",
              "39974                                                 NaN     2022-09-26   \n",
              "114897                                                NaN     2022-09-16   \n",
              "188302                                                NaN     2022-09-27   \n",
              "\n",
              "                                            article_final  \\\n",
              "61662   Updated September 15, 2022 at 10:28 AM ET\\nA n...   \n",
              "177833  Tampa Bay coach Todd Bowles is concerned.\\nHis...   \n",
              "91662   FORT WORTH, Texas — At 95 years old, Opal Lee ...   \n",
              "30742   A Georgia woman is dead after falling from a c...   \n",
              "147574  Watch CBS News\\nAmber Lee's weather forecast (...   \n",
              "...                                                   ...   \n",
              "25764   Decatur, GA — Placita Latina’s artist showcase...   \n",
              "48101   Gov. Pete Ricketts said Friday that he will le...   \n",
              "39974   More than 1,000 community members of all ages ...   \n",
              "114897  Sports Director Todd Richards previews Week 5 ...   \n",
              "188302  VOD recording of FOX Carolina's The Ten O'Cloc...   \n",
              "\n",
              "                                               ner_places  \\\n",
              "61662                                      {'U.S. (GPE)'}   \n",
              "177833  {'Tampa Bay (LOC)', 'Kansas City’s (GPE)', 'Ta...   \n",
              "91662   {'Fort Worth (GPE)', 'Forest Park (FAC)', 'Eva...   \n",
              "30742   {'Maine (GPE)', 'Calhoun (GPE)', 'Gordon Count...   \n",
              "147574                                              set()   \n",
              "...                                                   ...   \n",
              "25764   {'Puerto Rico (GPE)', 'Costa Rica (GPE)', 'the...   \n",
              "48101   {'Capitol Hill (LOC)', 'Massachusetts (GPE)', ...   \n",
              "39974                       {'the Henry Vilas Zoo (FAC)'}   \n",
              "114897                                   {'Dublin (GPE)'}   \n",
              "188302                                              set()   \n",
              "\n",
              "                                                 ner_orgs  \\\n",
              "61662   {'The World Health Organization (ORG)', 'the I...   \n",
              "177833  {'the NFC South Division (ORG)', 'the Dallas C...   \n",
              "91662   {'the Oval Office (ORG)', 'the White House (OR...   \n",
              "30742   {'the Portland Press Herald (ORG)', 'Media Gro...   \n",
              "147574                                 {'CBS News (ORG)'}   \n",
              "...                                                   ...   \n",
              "25764   {'Clairemont Ave. (ORG)', 'the Decatur Visitor...   \n",
              "48101   {'Shane Osborn (ORG)', 'MARTIN/The Associated ...   \n",
              "39974                                               set()   \n",
              "114897  {'Heartland Football (ORG)', 'Football\\nBeaufo...   \n",
              "188302                           {\"FOX Carolina's (ORG)\"}   \n",
              "\n",
              "                                        article_lemma_num      id  \\\n",
              "61662   update september 15 2022 1028 et  new report i...   61663   \n",
              "177833  tampa bay coach todd bowle concern  buccaneer ...  177834   \n",
              "91662   fort worth texas 95 year old opal lee simply t...   91663   \n",
              "30742   georgia woman dead fall cliffside scarborough ...   30743   \n",
              "147574  watch cbs news  amber lee weather forecast sep...  147575   \n",
              "...                                                   ...     ...   \n",
              "25764   decatur ga placita latina artist showcase year...   25765   \n",
              "48101   gov pete rickett say friday leave new incoming...   48102   \n",
              "39974   1000 community member age lace shoe sunday mor...   39975   \n",
              "114897  sport director todd richard preview week 5 hea...  114898   \n",
              "188302             vod recording fox carolina oclock news  188303   \n",
              "\n",
              "                                                place_ng1  \\\n",
              "61662                                            {Center}   \n",
              "177833                        {Bay, Patterson, Cleveland}   \n",
              "91662         {Wiley, Roland, Riverside, Marshall, White}   \n",
              "30742                                  {Gordon, Portland}   \n",
              "147574                                                 {}   \n",
              "...                                                   ...   \n",
              "25764                                           {Decatur}   \n",
              "48101   {NE, Millard, Capitol, Bellevue, Omaha, Rock, ...   \n",
              "39974                                                  {}   \n",
              "114897                                                 {}   \n",
              "188302                                                 {}   \n",
              "\n",
              "                                   place_ng2  \\\n",
              "61662                                     []   \n",
              "177833                                    []   \n",
              "91662                          [Santa Claus]   \n",
              "30742                                     []   \n",
              "147574                                    []   \n",
              "...                                      ...   \n",
              "25764   [Decatur Square, the Decatur Square]   \n",
              "48101                                     []   \n",
              "39974                                     []   \n",
              "114897                                    []   \n",
              "188302                                    []   \n",
              "\n",
              "                                     place_ner1  \\\n",
              "61662                                        {}   \n",
              "177833                         {Bay, Cleveland}   \n",
              "91662             {Roland, Marshall, Riverside}   \n",
              "30742                                  {Gordon}   \n",
              "147574                                       {}   \n",
              "...                                         ...   \n",
              "25764                         {Center, Decatur}   \n",
              "48101   {NE, Millard, Capitol, Bellevue, Omaha}   \n",
              "39974                                        {}   \n",
              "114897                                       {}   \n",
              "188302                                       {}   \n",
              "\n",
              "                                  place_ner2  \\\n",
              "61662                                     []   \n",
              "177833                                    []   \n",
              "91662                          [Santa Claus]   \n",
              "30742                                     []   \n",
              "147574                                    []   \n",
              "...                                      ...   \n",
              "25764   [Decatur Square, the Decatur Square]   \n",
              "48101                                     []   \n",
              "39974                                     []   \n",
              "114897                                    []   \n",
              "188302                                    []   \n",
              "\n",
              "                                         ner_places_clean  \n",
              "61662                                          U.S. (GPE)  \n",
              "177833  Tampa Bay (LOC) Kansas City’s (GPE) Tampa (GPE...  \n",
              "91662   Fort Worth (GPE) Forest Park (FAC) Evans Avenu...  \n",
              "30742   Maine (GPE) Calhoun (GPE) Gordon County (GPE) ...  \n",
              "147574                                              set()  \n",
              "...                                                   ...  \n",
              "25764   Puerto Rico (GPE) Costa Rica (GPE) the Decatur...  \n",
              "48101   Capitol Hill (LOC) Massachusetts (GPE) the Lin...  \n",
              "39974                           the Henry Vilas Zoo (FAC)  \n",
              "114897                                       Dublin (GPE)  \n",
              "188302                                              set()  \n",
              "\n",
              "[100 rows x 18 columns]"
            ],
            "text/html": [
              "\n",
              "  <div id=\"df-ffe9e540-4396-4c67-b02c-0077dab2544c\">\n",
              "    <div class=\"colab-df-container\">\n",
              "      <div>\n",
              "<style scoped>\n",
              "    .dataframe tbody tr th:only-of-type {\n",
              "        vertical-align: middle;\n",
              "    }\n",
              "\n",
              "    .dataframe tbody tr th {\n",
              "        vertical-align: top;\n",
              "    }\n",
              "\n",
              "    .dataframe thead th {\n",
              "        text-align: right;\n",
              "    }\n",
              "</style>\n",
              "<table border=\"1\" class=\"dataframe\">\n",
              "  <thead>\n",
              "    <tr style=\"text-align: right;\">\n",
              "      <th></th>\n",
              "      <th>index</th>\n",
              "      <th>source</th>\n",
              "      <th>en_source</th>\n",
              "      <th>website</th>\n",
              "      <th>article_url</th>\n",
              "      <th>article_title</th>\n",
              "      <th>article_author</th>\n",
              "      <th>date_published</th>\n",
              "      <th>article_final</th>\n",
              "      <th>ner_places</th>\n",
              "      <th>ner_orgs</th>\n",
              "      <th>article_lemma_num</th>\n",
              "      <th>id</th>\n",
              "      <th>place_ng1</th>\n",
              "      <th>place_ng2</th>\n",
              "      <th>place_ner1</th>\n",
              "      <th>place_ner2</th>\n",
              "      <th>ner_places_clean</th>\n",
              "    </tr>\n",
              "  </thead>\n",
              "  <tbody>\n",
              "    <tr>\n",
              "      <th>61662</th>\n",
              "      <td>61662</td>\n",
              "      <td>Georgia Public Broadcasting</td>\n",
              "      <td>1.0</td>\n",
              "      <td>https://www.gpb.org</td>\n",
              "      <td>https://www.gpb.org/news/goats-and-soda/2022/0...</td>\n",
              "      <td>4 ways the world messed up its pandemic ...</td>\n",
              "      <td>Ari Daniel, Sheila Mulrooney Eldred, Diaa Hadi...</td>\n",
              "      <td>2022-09-15</td>\n",
              "      <td>Updated September 15, 2022 at 10:28 AM ET\\nA n...</td>\n",
              "      <td>{'U.S. (GPE)'}</td>\n",
              "      <td>{'The World Health Organization (ORG)', 'the I...</td>\n",
              "      <td>update september 15 2022 1028 et  new report i...</td>\n",
              "      <td>61663</td>\n",
              "      <td>{Center}</td>\n",
              "      <td>[]</td>\n",
              "      <td>{}</td>\n",
              "      <td>[]</td>\n",
              "      <td>U.S. (GPE)</td>\n",
              "    </tr>\n",
              "    <tr>\n",
              "      <th>177833</th>\n",
              "      <td>3706</td>\n",
              "      <td>Jackson Progress-Argus</td>\n",
              "      <td>NaN</td>\n",
              "      <td>http://www.jacksonprogress-argus.com/</td>\n",
              "      <td>https://www.jacksonprogress-argus.com/sports/f...</td>\n",
              "      <td>Falcons, Buccaneers to clash for first place i...</td>\n",
              "      <td>Jon Gallo Staff Correspondent</td>\n",
              "      <td>2022-10-05</td>\n",
              "      <td>Tampa Bay coach Todd Bowles is concerned.\\nHis...</td>\n",
              "      <td>{'Tampa Bay (LOC)', 'Kansas City’s (GPE)', 'Ta...</td>\n",
              "      <td>{'the NFC South Division (ORG)', 'the Dallas C...</td>\n",
              "      <td>tampa bay coach todd bowle concern  buccaneer ...</td>\n",
              "      <td>177834</td>\n",
              "      <td>{Bay, Patterson, Cleveland}</td>\n",
              "      <td>[]</td>\n",
              "      <td>{Bay, Cleveland}</td>\n",
              "      <td>[]</td>\n",
              "      <td>Tampa Bay (LOC) Kansas City’s (GPE) Tampa (GPE...</td>\n",
              "    </tr>\n",
              "    <tr>\n",
              "      <th>91662</th>\n",
              "      <td>91662</td>\n",
              "      <td>Polk County Standard Journal</td>\n",
              "      <td>1.0</td>\n",
              "      <td>http://www.northwestgeorgianews.com/polkfishwrap/</td>\n",
              "      <td>https://www.northwestgeorgianews.com/tribune/l...</td>\n",
              "      <td>Juneteenth activist Opal Lee’s journey from se...</td>\n",
              "      <td>Jessika Harkay and David Silva Ramirez, Fort W...</td>\n",
              "      <td>2022-10-05</td>\n",
              "      <td>FORT WORTH, Texas — At 95 years old, Opal Lee ...</td>\n",
              "      <td>{'Fort Worth (GPE)', 'Forest Park (FAC)', 'Eva...</td>\n",
              "      <td>{'the Oval Office (ORG)', 'the White House (OR...</td>\n",
              "      <td>fort worth texas 95 year old opal lee simply t...</td>\n",
              "      <td>91663</td>\n",
              "      <td>{Wiley, Roland, Riverside, Marshall, White}</td>\n",
              "      <td>[Santa Claus]</td>\n",
              "      <td>{Roland, Marshall, Riverside}</td>\n",
              "      <td>[Santa Claus]</td>\n",
              "      <td>Fort Worth (GPE) Forest Park (FAC) Evans Avenu...</td>\n",
              "    </tr>\n",
              "    <tr>\n",
              "      <th>30742</th>\n",
              "      <td>30742</td>\n",
              "      <td>WSB AM 750</td>\n",
              "      <td>1.0</td>\n",
              "      <td>http://www.wsbradio.com/</td>\n",
              "      <td>https://www.wsbradio.com/news/local/georgia-wo...</td>\n",
              "      <td>Georgia woman dies after falling from cliff in...</td>\n",
              "      <td>NaN</td>\n",
              "      <td>2022-09-20</td>\n",
              "      <td>A Georgia woman is dead after falling from a c...</td>\n",
              "      <td>{'Maine (GPE)', 'Calhoun (GPE)', 'Gordon Count...</td>\n",
              "      <td>{'the Portland Press Herald (ORG)', 'Media Gro...</td>\n",
              "      <td>georgia woman dead fall cliffside scarborough ...</td>\n",
              "      <td>30743</td>\n",
              "      <td>{Gordon, Portland}</td>\n",
              "      <td>[]</td>\n",
              "      <td>{Gordon}</td>\n",
              "      <td>[]</td>\n",
              "      <td>Maine (GPE) Calhoun (GPE) Gordon County (GPE) ...</td>\n",
              "    </tr>\n",
              "    <tr>\n",
              "      <th>147574</th>\n",
              "      <td>147574</td>\n",
              "      <td>WUPA TV 69 (CW)</td>\n",
              "      <td>1.0</td>\n",
              "      <td>http://cwatlanta.cbslocal.com/</td>\n",
              "      <td>https://www.cbsnews.com/losangeles/video/amber...</td>\n",
              "      <td>Amber Lee's weather forecast (Sept. 22)</td>\n",
              "      <td>NaN</td>\n",
              "      <td>2022-09-22</td>\n",
              "      <td>Watch CBS News\\nAmber Lee's weather forecast (...</td>\n",
              "      <td>set()</td>\n",
              "      <td>{'CBS News (ORG)'}</td>\n",
              "      <td>watch cbs news  amber lee weather forecast sep...</td>\n",
              "      <td>147575</td>\n",
              "      <td>{}</td>\n",
              "      <td>[]</td>\n",
              "      <td>{}</td>\n",
              "      <td>[]</td>\n",
              "      <td>set()</td>\n",
              "    </tr>\n",
              "    <tr>\n",
              "      <th>...</th>\n",
              "      <td>...</td>\n",
              "      <td>...</td>\n",
              "      <td>...</td>\n",
              "      <td>...</td>\n",
              "      <td>...</td>\n",
              "      <td>...</td>\n",
              "      <td>...</td>\n",
              "      <td>...</td>\n",
              "      <td>...</td>\n",
              "      <td>...</td>\n",
              "      <td>...</td>\n",
              "      <td>...</td>\n",
              "      <td>...</td>\n",
              "      <td>...</td>\n",
              "      <td>...</td>\n",
              "      <td>...</td>\n",
              "      <td>...</td>\n",
              "      <td>...</td>\n",
              "    </tr>\n",
              "    <tr>\n",
              "      <th>25764</th>\n",
              "      <td>25764</td>\n",
              "      <td>Decaturish</td>\n",
              "      <td>1.0</td>\n",
              "      <td>https://decaturish.com/</td>\n",
              "      <td>https://decaturish.com/2022/10/placita-latina-...</td>\n",
              "      <td>Placita Latina Festival hosting artist showcas...</td>\n",
              "      <td>Zoe Seiler</td>\n",
              "      <td>2022-10-10</td>\n",
              "      <td>Decatur, GA — Placita Latina’s artist showcase...</td>\n",
              "      <td>{'Puerto Rico (GPE)', 'Costa Rica (GPE)', 'the...</td>\n",
              "      <td>{'Clairemont Ave. (ORG)', 'the Decatur Visitor...</td>\n",
              "      <td>decatur ga placita latina artist showcase year...</td>\n",
              "      <td>25765</td>\n",
              "      <td>{Decatur}</td>\n",
              "      <td>[Decatur Square, the Decatur Square]</td>\n",
              "      <td>{Center, Decatur}</td>\n",
              "      <td>[Decatur Square, the Decatur Square]</td>\n",
              "      <td>Puerto Rico (GPE) Costa Rica (GPE) the Decatur...</td>\n",
              "    </tr>\n",
              "    <tr>\n",
              "      <th>48101</th>\n",
              "      <td>48101</td>\n",
              "      <td>Paulding Neighbor</td>\n",
              "      <td>1.0</td>\n",
              "      <td>https://www.mdjonline.com/neighbor_newspapers/...</td>\n",
              "      <td>https://www.mdjonline.com/neighbor_newspapers/...</td>\n",
              "      <td>Ricketts rules out appointing himself to fill ...</td>\n",
              "      <td>DON WALTON Lincoln Journal Star</td>\n",
              "      <td>2022-10-07</td>\n",
              "      <td>Gov. Pete Ricketts said Friday that he will le...</td>\n",
              "      <td>{'Capitol Hill (LOC)', 'Massachusetts (GPE)', ...</td>\n",
              "      <td>{'Shane Osborn (ORG)', 'MARTIN/The Associated ...</td>\n",
              "      <td>gov pete rickett say friday leave new incoming...</td>\n",
              "      <td>48102</td>\n",
              "      <td>{NE, Millard, Capitol, Bellevue, Omaha, Rock, ...</td>\n",
              "      <td>[]</td>\n",
              "      <td>{NE, Millard, Capitol, Bellevue, Omaha}</td>\n",
              "      <td>[]</td>\n",
              "      <td>Capitol Hill (LOC) Massachusetts (GPE) the Lin...</td>\n",
              "    </tr>\n",
              "    <tr>\n",
              "      <th>39974</th>\n",
              "      <td>39974</td>\n",
              "      <td>WGCL TV 46 (CBS)</td>\n",
              "      <td>1.0</td>\n",
              "      <td>http://www.cbs46.com/</td>\n",
              "      <td>https://www.cbs46.com/video/2022/09/26/proceed...</td>\n",
              "      <td>Proceeds from Henry Vilas Zoo ‘Run Wild’ to su...</td>\n",
              "      <td>NaN</td>\n",
              "      <td>2022-09-26</td>\n",
              "      <td>More than 1,000 community members of all ages ...</td>\n",
              "      <td>{'the Henry Vilas Zoo (FAC)'}</td>\n",
              "      <td>set()</td>\n",
              "      <td>1000 community member age lace shoe sunday mor...</td>\n",
              "      <td>39975</td>\n",
              "      <td>{}</td>\n",
              "      <td>[]</td>\n",
              "      <td>{}</td>\n",
              "      <td>[]</td>\n",
              "      <td>the Henry Vilas Zoo (FAC)</td>\n",
              "    </tr>\n",
              "    <tr>\n",
              "      <th>114897</th>\n",
              "      <td>114897</td>\n",
              "      <td>WTOC TV 11 (CBS)</td>\n",
              "      <td>1.0</td>\n",
              "      <td>http://www.wtoc.com/</td>\n",
              "      <td>https://www.wtoc.com/video/2022/09/16/heartlan...</td>\n",
              "      <td>Heartland Football Friday preview  9/16</td>\n",
              "      <td>NaN</td>\n",
              "      <td>2022-09-16</td>\n",
              "      <td>Sports Director Todd Richards previews Week 5 ...</td>\n",
              "      <td>{'Dublin (GPE)'}</td>\n",
              "      <td>{'Heartland Football (ORG)', 'Football\\nBeaufo...</td>\n",
              "      <td>sport director todd richard preview week 5 hea...</td>\n",
              "      <td>114898</td>\n",
              "      <td>{}</td>\n",
              "      <td>[]</td>\n",
              "      <td>{}</td>\n",
              "      <td>[]</td>\n",
              "      <td>Dublin (GPE)</td>\n",
              "    </tr>\n",
              "    <tr>\n",
              "      <th>188302</th>\n",
              "      <td>4175</td>\n",
              "      <td>WALB TV 10 (NBC)</td>\n",
              "      <td>NaN</td>\n",
              "      <td>http://www.walb.com/</td>\n",
              "      <td>https://www.walb.com/video/2022/09/27/city-stu...</td>\n",
              "      <td>City study finds top 10 roads that need improv...</td>\n",
              "      <td>NaN</td>\n",
              "      <td>2022-09-27</td>\n",
              "      <td>VOD recording of FOX Carolina's The Ten O'Cloc...</td>\n",
              "      <td>set()</td>\n",
              "      <td>{\"FOX Carolina's (ORG)\"}</td>\n",
              "      <td>vod recording fox carolina oclock news</td>\n",
              "      <td>188303</td>\n",
              "      <td>{}</td>\n",
              "      <td>[]</td>\n",
              "      <td>{}</td>\n",
              "      <td>[]</td>\n",
              "      <td>set()</td>\n",
              "    </tr>\n",
              "  </tbody>\n",
              "</table>\n",
              "<p>100 rows × 18 columns</p>\n",
              "</div>\n",
              "      <button class=\"colab-df-convert\" onclick=\"convertToInteractive('df-ffe9e540-4396-4c67-b02c-0077dab2544c')\"\n",
              "              title=\"Convert this dataframe to an interactive table.\"\n",
              "              style=\"display:none;\">\n",
              "        \n",
              "  <svg xmlns=\"http://www.w3.org/2000/svg\" height=\"24px\"viewBox=\"0 0 24 24\"\n",
              "       width=\"24px\">\n",
              "    <path d=\"M0 0h24v24H0V0z\" fill=\"none\"/>\n",
              "    <path d=\"M18.56 5.44l.94 2.06.94-2.06 2.06-.94-2.06-.94-.94-2.06-.94 2.06-2.06.94zm-11 1L8.5 8.5l.94-2.06 2.06-.94-2.06-.94L8.5 2.5l-.94 2.06-2.06.94zm10 10l.94 2.06.94-2.06 2.06-.94-2.06-.94-.94-2.06-.94 2.06-2.06.94z\"/><path d=\"M17.41 7.96l-1.37-1.37c-.4-.4-.92-.59-1.43-.59-.52 0-1.04.2-1.43.59L10.3 9.45l-7.72 7.72c-.78.78-.78 2.05 0 2.83L4 21.41c.39.39.9.59 1.41.59.51 0 1.02-.2 1.41-.59l7.78-7.78 2.81-2.81c.8-.78.8-2.07 0-2.86zM5.41 20L4 18.59l7.72-7.72 1.47 1.35L5.41 20z\"/>\n",
              "  </svg>\n",
              "      </button>\n",
              "      \n",
              "  <style>\n",
              "    .colab-df-container {\n",
              "      display:flex;\n",
              "      flex-wrap:wrap;\n",
              "      gap: 12px;\n",
              "    }\n",
              "\n",
              "    .colab-df-convert {\n",
              "      background-color: #E8F0FE;\n",
              "      border: none;\n",
              "      border-radius: 50%;\n",
              "      cursor: pointer;\n",
              "      display: none;\n",
              "      fill: #1967D2;\n",
              "      height: 32px;\n",
              "      padding: 0 0 0 0;\n",
              "      width: 32px;\n",
              "    }\n",
              "\n",
              "    .colab-df-convert:hover {\n",
              "      background-color: #E2EBFA;\n",
              "      box-shadow: 0px 1px 2px rgba(60, 64, 67, 0.3), 0px 1px 3px 1px rgba(60, 64, 67, 0.15);\n",
              "      fill: #174EA6;\n",
              "    }\n",
              "\n",
              "    [theme=dark] .colab-df-convert {\n",
              "      background-color: #3B4455;\n",
              "      fill: #D2E3FC;\n",
              "    }\n",
              "\n",
              "    [theme=dark] .colab-df-convert:hover {\n",
              "      background-color: #434B5C;\n",
              "      box-shadow: 0px 1px 3px 1px rgba(0, 0, 0, 0.15);\n",
              "      filter: drop-shadow(0px 1px 2px rgba(0, 0, 0, 0.3));\n",
              "      fill: #FFFFFF;\n",
              "    }\n",
              "  </style>\n",
              "\n",
              "      <script>\n",
              "        const buttonEl =\n",
              "          document.querySelector('#df-ffe9e540-4396-4c67-b02c-0077dab2544c button.colab-df-convert');\n",
              "        buttonEl.style.display =\n",
              "          google.colab.kernel.accessAllowed ? 'block' : 'none';\n",
              "\n",
              "        async function convertToInteractive(key) {\n",
              "          const element = document.querySelector('#df-ffe9e540-4396-4c67-b02c-0077dab2544c');\n",
              "          const dataTable =\n",
              "            await google.colab.kernel.invokeFunction('convertToInteractive',\n",
              "                                                     [key], {});\n",
              "          if (!dataTable) return;\n",
              "\n",
              "          const docLinkHtml = 'Like what you see? Visit the ' +\n",
              "            '<a target=\"_blank\" href=https://colab.research.google.com/notebooks/data_table.ipynb>data table notebook</a>'\n",
              "            + ' to learn more about interactive tables.';\n",
              "          element.innerHTML = '';\n",
              "          dataTable['output_type'] = 'display_data';\n",
              "          await google.colab.output.renderOutput(dataTable, element);\n",
              "          const docLink = document.createElement('div');\n",
              "          docLink.innerHTML = docLinkHtml;\n",
              "          element.appendChild(docLink);\n",
              "        }\n",
              "      </script>\n",
              "    </div>\n",
              "  </div>\n",
              "  "
            ]
          },
          "metadata": {},
          "execution_count": 231
        }
      ]
    },
    {
      "cell_type": "code",
      "source": [],
      "metadata": {
        "id": "PazaDYm-iDgm"
      },
      "execution_count": null,
      "outputs": []
    }
  ]
}