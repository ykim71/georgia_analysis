{
  "nbformat": 4,
  "nbformat_minor": 0,
  "metadata": {
    "colab": {
      "provenance": [],
      "collapsed_sections": [
        "rNLrohlw7Wh5",
        "XY7I_gYVKEsa",
        "Ggu0MvMFQmx-",
        "E_2Yq8CIL-Cy",
        "WhN88B4bG-L4"
      ],
      "machine_shape": "hm",
      "include_colab_link": true
    },
    "kernelspec": {
      "name": "python3",
      "display_name": "Python 3"
    },
    "language_info": {
      "name": "python"
    },
    "gpuClass": "standard"
  },
  "cells": [
    {
      "cell_type": "markdown",
      "metadata": {
        "id": "view-in-github",
        "colab_type": "text"
      },
      "source": [
        "<a href=\"https://colab.research.google.com/github/ykim71/georgia_analysis/blob/main/(3)_Georgia_topic_analysis.ipynb\" target=\"_parent\"><img src=\"https://colab.research.google.com/assets/colab-badge.svg\" alt=\"Open In Colab\"/></a>"
      ]
    },
    {
      "cell_type": "code",
      "execution_count": null,
      "metadata": {
        "id": "e7PpN2VVxH5c",
        "colab": {
          "base_uri": "https://localhost:8080/"
        },
        "outputId": "9c0890b3-b5f4-4af0-bc2a-1c30496ee0a1"
      },
      "outputs": [
        {
          "output_type": "stream",
          "name": "stdout",
          "text": [
            "Mounted at /content/drive\n"
          ]
        }
      ],
      "source": [
        "from google.colab import drive\n",
        "drive.mount('/content/drive')"
      ]
    },
    {
      "cell_type": "code",
      "source": [
        "# need access to the folder(s) below:\n",
        "\n",
        "#%cd /content/drive/MyDrive/Georgia/\n"
      ],
      "metadata": {
        "id": "aPvEBRBtxzje",
        "colab": {
          "base_uri": "https://localhost:8080/"
        },
        "outputId": "ae273421-18f5-44ab-fb44-8797ca3ade05"
      },
      "execution_count": null,
      "outputs": [
        {
          "output_type": "stream",
          "name": "stdout",
          "text": [
            "/content/drive/.shortcut-targets-by-id/1YSQ9BBnwwRu7fyeM_9V6eoFgKQBPl4Rr/Georgia/Locations Analysis\n"
          ]
        }
      ]
    },
    {
      "cell_type": "markdown",
      "source": [
        "# Topic analysis"
      ],
      "metadata": {
        "id": "Ew4iO66-Lx25"
      }
    },
    {
      "cell_type": "markdown",
      "source": [
        "## Prep for topic analysis"
      ],
      "metadata": {
        "id": "fbrosYrr-aUs"
      }
    },
    {
      "cell_type": "code",
      "source": [
        "%cd /content/drive/MyDrive/Georgia/Topic Dictionaries\n",
        "\n",
        "import pandas as pd\n",
        "\n",
        "df = pd.read_pickle('/content/drive/MyDrive/Georgia/Web Scraping/Georgia_data_v2_translation_ner2_lem.pkl')\n"
      ],
      "metadata": {
        "id": "ffQuVIAKTdgi"
      },
      "execution_count": null,
      "outputs": []
    },
    {
      "cell_type": "code",
      "source": [
        "# lemmatization if needed\n",
        "import spacy\n",
        "import re\n",
        "\n",
        "nlp = spacy.load(\"en_core_web_sm\", disable=['ner', 'parser']) # disabling Named Entity Recognition for speed\n"
      ],
      "metadata": {
        "id": "SdihvUuVapaU",
        "colab": {
          "base_uri": "https://localhost:8080/"
        },
        "outputId": "e133579e-6354-43be-b7d0-b978ce05ddf0"
      },
      "execution_count": null,
      "outputs": [
        {
          "output_type": "stream",
          "name": "stderr",
          "text": [
            "/usr/local/lib/python3.9/dist-packages/torch/cuda/__init__.py:497: UserWarning: Can't initialize NVML\n",
            "  warnings.warn(\"Can't initialize NVML\")\n"
          ]
        }
      ]
    },
    {
      "cell_type": "code",
      "source": [
        "import re\n",
        "\n",
        "def get_lemmas_num(text):\n",
        "\n",
        "    regex = re.compile('[^a-zA-Z0-9]')\n",
        "\n",
        "    lemmas = []\n",
        "    \n",
        "    doc = nlp(text)\n",
        "\n",
        "    for token in doc: \n",
        "        if ((token.is_stop == False) and (token.is_punct == False)) and (token.pos_ != 'PRON') and (token.text != 'NA'):\n",
        "            lemmas.append(regex.sub('', token.lemma_))\n",
        "    \n",
        "    return ' '.join(lemmas)"
      ],
      "metadata": {
        "id": "yakNpLYL9r9n"
      },
      "execution_count": null,
      "outputs": []
    },
    {
      "cell_type": "code",
      "source": [
        "df['article_lemma_num'] = df['article_final'].str.lower().astype(str).apply(get_lemmas_num)\n"
      ],
      "metadata": {
        "id": "ntrfoKZe-iW5"
      },
      "execution_count": null,
      "outputs": []
    },
    {
      "cell_type": "code",
      "source": [
        "#df_source_merge_final.to_pickle('Georgia_data_v2_translation_ner_lem.pkl') # commented this line to prevent from saving it"
      ],
      "metadata": {
        "id": "HSZvqDkHbXHs"
      },
      "execution_count": null,
      "outputs": []
    },
    {
      "cell_type": "markdown",
      "source": [
        "## word2vec training"
      ],
      "metadata": {
        "id": "YgibHH31AoJb"
      }
    },
    {
      "cell_type": "code",
      "source": [
        "%cd /content/drive/MyDrive/Georgia/Topic Dictionaries\n",
        "\n",
        "import pandas as pd\n",
        "\n",
        "df = pd.read_pickle('/content/drive/MyDrive/Georgia/Web Scraping/Georgia_data_v2_translation_ner2_lem.pkl')\n"
      ],
      "metadata": {
        "id": "iHdF4EcuA-am"
      },
      "execution_count": null,
      "outputs": []
    },
    {
      "cell_type": "code",
      "source": [
        "import pandas as pd\n",
        "# To extract n-gram from text\n",
        "from gensim.models.phrases import Phrases, Phraser\n",
        "# To train word2vec\n",
        "from gensim.models import Word2Vec\n",
        "# To load pre trained word2vec\n",
        "from gensim.models import KeyedVectors\n"
      ],
      "metadata": {
        "id": "8LVAo2rRAq7J"
      },
      "execution_count": null,
      "outputs": []
    },
    {
      "cell_type": "code",
      "source": [
        "df.columns"
      ],
      "metadata": {
        "colab": {
          "base_uri": "https://localhost:8080/"
        },
        "id": "3MOfvyxRD4Bx",
        "outputId": "6997e369-c9e9-4998-ddd4-9ef31ae5ddb1"
      },
      "execution_count": null,
      "outputs": [
        {
          "output_type": "execute_result",
          "data": {
            "text/plain": [
              "Index(['source', 'en_source', 'website', 'article_url', 'article_title',\n",
              "       'article_author', 'date_published', 'article_final', 'ner_places',\n",
              "       'ner_orgs', 'article_lemma_num'],\n",
              "      dtype='object')"
            ]
          },
          "metadata": {},
          "execution_count": 12
        }
      ]
    },
    {
      "cell_type": "code",
      "source": [
        "# As Phrases() takes list of list as it's input\n",
        "# Converting dataframe to list of list\n",
        "\n",
        "## all lower cases\n",
        "\n",
        "sentence_stream = [doc.split(\" \") for doc in df['article_lemma_num']]\n",
        "bigram = Phrases(sentence_stream, min_count= 10, delimiter=b' ') # v2 threshold as default\n",
        "bigram_phraser = Phraser(bigram)\n",
        "\n",
        "# bigram = Phrases(sentence_stream, min_count=10, threshold= 10, delimiter=b' ') # higher threshold fewer phrases.\n",
        "# trigram = Phrases(bigram[sentence_stream], threshold= 100, delimiter=b' ') # include bi- and tri-grams\n",
        "\n",
        "\n",
        "# Extract bigram for gensim word2vec\n",
        "bigram_token = []\n",
        "\n",
        "for sent in sentence_stream:\n",
        "    bigram_token.append(bigram_phraser[sent])\n",
        "\n",
        "article_model_bigram = Word2Vec(bigram_token, min_count=10, size= 40, workers=5, window = 5, sg = 0)\n",
        "article_model_bigram.save(\"Georgia_language_lemma_num10_v2\") # v2 : with updated dataset\n"
      ],
      "metadata": {
        "id": "GTERUu_BAwA0"
      },
      "execution_count": null,
      "outputs": []
    },
    {
      "cell_type": "markdown",
      "source": [
        "## topic words identification"
      ],
      "metadata": {
        "id": "nAA4zyzcJOmD"
      }
    },
    {
      "cell_type": "markdown",
      "source": [
        "### separate analysis for words with asterisk"
      ],
      "metadata": {
        "id": "E_2Yq8CIL-Cy"
      }
    },
    {
      "cell_type": "code",
      "source": [
        "%cd /content/drive/MyDrive/Georgia/Topic Dictionaries\n"
      ],
      "metadata": {
        "id": "XVCZh-ePZM1X"
      },
      "execution_count": null,
      "outputs": []
    },
    {
      "cell_type": "code",
      "source": [
        "topics = pd.read_excel(\"topics.xlsx\")\n",
        "\n",
        "topics['word_lemma'] = topics['word'].str.lower().astype(str).apply(get_lemmas_num)\n"
      ],
      "metadata": {
        "id": "pyA2T_rwULKN"
      },
      "execution_count": null,
      "outputs": []
    },
    {
      "cell_type": "code",
      "source": [
        "import numpy as np\n",
        "\n",
        "star_phrases = topics['word'].str.contains('\\*{1}', case=False, regex=True)\n",
        "\n",
        "topics['word_star'] = np.where(star_phrases, 1, 0)\n"
      ],
      "metadata": {
        "id": "_YqgUSRTHRiG"
      },
      "execution_count": null,
      "outputs": []
    },
    {
      "cell_type": "code",
      "source": [
        "topics_st = topics[['topic', 'word_lemma', 'word_star']].drop_duplicates()\n",
        "topics_st.sample(3)"
      ],
      "metadata": {
        "colab": {
          "base_uri": "https://localhost:8080/",
          "height": 143
        },
        "id": "zhcPzCVHAiex",
        "outputId": "1e292a5d-9ef0-45a5-84fb-781092a6b28d"
      },
      "execution_count": null,
      "outputs": [
        {
          "output_type": "execute_result",
          "data": {
            "text/plain": [
              "              topic       word_lemma  word_star\n",
              "376       Education     kindergarten          0\n",
              "411           Crime          assault          0\n",
              "250  Climate change  endanger specie          0"
            ],
            "text/html": [
              "\n",
              "  <div id=\"df-1333f200-3f8d-4e77-acb2-53d1a40d2754\">\n",
              "    <div class=\"colab-df-container\">\n",
              "      <div>\n",
              "<style scoped>\n",
              "    .dataframe tbody tr th:only-of-type {\n",
              "        vertical-align: middle;\n",
              "    }\n",
              "\n",
              "    .dataframe tbody tr th {\n",
              "        vertical-align: top;\n",
              "    }\n",
              "\n",
              "    .dataframe thead th {\n",
              "        text-align: right;\n",
              "    }\n",
              "</style>\n",
              "<table border=\"1\" class=\"dataframe\">\n",
              "  <thead>\n",
              "    <tr style=\"text-align: right;\">\n",
              "      <th></th>\n",
              "      <th>topic</th>\n",
              "      <th>word_lemma</th>\n",
              "      <th>word_star</th>\n",
              "    </tr>\n",
              "  </thead>\n",
              "  <tbody>\n",
              "    <tr>\n",
              "      <th>376</th>\n",
              "      <td>Education</td>\n",
              "      <td>kindergarten</td>\n",
              "      <td>0</td>\n",
              "    </tr>\n",
              "    <tr>\n",
              "      <th>411</th>\n",
              "      <td>Crime</td>\n",
              "      <td>assault</td>\n",
              "      <td>0</td>\n",
              "    </tr>\n",
              "    <tr>\n",
              "      <th>250</th>\n",
              "      <td>Climate change</td>\n",
              "      <td>endanger specie</td>\n",
              "      <td>0</td>\n",
              "    </tr>\n",
              "  </tbody>\n",
              "</table>\n",
              "</div>\n",
              "      <button class=\"colab-df-convert\" onclick=\"convertToInteractive('df-1333f200-3f8d-4e77-acb2-53d1a40d2754')\"\n",
              "              title=\"Convert this dataframe to an interactive table.\"\n",
              "              style=\"display:none;\">\n",
              "        \n",
              "  <svg xmlns=\"http://www.w3.org/2000/svg\" height=\"24px\"viewBox=\"0 0 24 24\"\n",
              "       width=\"24px\">\n",
              "    <path d=\"M0 0h24v24H0V0z\" fill=\"none\"/>\n",
              "    <path d=\"M18.56 5.44l.94 2.06.94-2.06 2.06-.94-2.06-.94-.94-2.06-.94 2.06-2.06.94zm-11 1L8.5 8.5l.94-2.06 2.06-.94-2.06-.94L8.5 2.5l-.94 2.06-2.06.94zm10 10l.94 2.06.94-2.06 2.06-.94-2.06-.94-.94-2.06-.94 2.06-2.06.94z\"/><path d=\"M17.41 7.96l-1.37-1.37c-.4-.4-.92-.59-1.43-.59-.52 0-1.04.2-1.43.59L10.3 9.45l-7.72 7.72c-.78.78-.78 2.05 0 2.83L4 21.41c.39.39.9.59 1.41.59.51 0 1.02-.2 1.41-.59l7.78-7.78 2.81-2.81c.8-.78.8-2.07 0-2.86zM5.41 20L4 18.59l7.72-7.72 1.47 1.35L5.41 20z\"/>\n",
              "  </svg>\n",
              "      </button>\n",
              "      \n",
              "  <style>\n",
              "    .colab-df-container {\n",
              "      display:flex;\n",
              "      flex-wrap:wrap;\n",
              "      gap: 12px;\n",
              "    }\n",
              "\n",
              "    .colab-df-convert {\n",
              "      background-color: #E8F0FE;\n",
              "      border: none;\n",
              "      border-radius: 50%;\n",
              "      cursor: pointer;\n",
              "      display: none;\n",
              "      fill: #1967D2;\n",
              "      height: 32px;\n",
              "      padding: 0 0 0 0;\n",
              "      width: 32px;\n",
              "    }\n",
              "\n",
              "    .colab-df-convert:hover {\n",
              "      background-color: #E2EBFA;\n",
              "      box-shadow: 0px 1px 2px rgba(60, 64, 67, 0.3), 0px 1px 3px 1px rgba(60, 64, 67, 0.15);\n",
              "      fill: #174EA6;\n",
              "    }\n",
              "\n",
              "    [theme=dark] .colab-df-convert {\n",
              "      background-color: #3B4455;\n",
              "      fill: #D2E3FC;\n",
              "    }\n",
              "\n",
              "    [theme=dark] .colab-df-convert:hover {\n",
              "      background-color: #434B5C;\n",
              "      box-shadow: 0px 1px 3px 1px rgba(0, 0, 0, 0.15);\n",
              "      filter: drop-shadow(0px 1px 2px rgba(0, 0, 0, 0.3));\n",
              "      fill: #FFFFFF;\n",
              "    }\n",
              "  </style>\n",
              "\n",
              "      <script>\n",
              "        const buttonEl =\n",
              "          document.querySelector('#df-1333f200-3f8d-4e77-acb2-53d1a40d2754 button.colab-df-convert');\n",
              "        buttonEl.style.display =\n",
              "          google.colab.kernel.accessAllowed ? 'block' : 'none';\n",
              "\n",
              "        async function convertToInteractive(key) {\n",
              "          const element = document.querySelector('#df-1333f200-3f8d-4e77-acb2-53d1a40d2754');\n",
              "          const dataTable =\n",
              "            await google.colab.kernel.invokeFunction('convertToInteractive',\n",
              "                                                     [key], {});\n",
              "          if (!dataTable) return;\n",
              "\n",
              "          const docLinkHtml = 'Like what you see? Visit the ' +\n",
              "            '<a target=\"_blank\" href=https://colab.research.google.com/notebooks/data_table.ipynb>data table notebook</a>'\n",
              "            + ' to learn more about interactive tables.';\n",
              "          element.innerHTML = '';\n",
              "          dataTable['output_type'] = 'display_data';\n",
              "          await google.colab.output.renderOutput(dataTable, element);\n",
              "          const docLink = document.createElement('div');\n",
              "          docLink.innerHTML = docLinkHtml;\n",
              "          element.appendChild(docLink);\n",
              "        }\n",
              "      </script>\n",
              "    </div>\n",
              "  </div>\n",
              "  "
            ]
          },
          "metadata": {},
          "execution_count": 30
        }
      ]
    },
    {
      "cell_type": "code",
      "source": [
        "topics_st_asterisk = topics_st[topics_st['word_star']==1]"
      ],
      "metadata": {
        "id": "WEKPq4s4GN01"
      },
      "execution_count": null,
      "outputs": []
    },
    {
      "cell_type": "code",
      "source": [
        "topics_st_asterisk_list = topics_st_asterisk['word_lemma'].values.tolist()"
      ],
      "metadata": {
        "id": "4EgT2Wu0GaAv"
      },
      "execution_count": null,
      "outputs": []
    },
    {
      "cell_type": "code",
      "source": [
        "words = pd.DataFrame(list(article_model_bigram.wv.vocab.keys()))\n",
        "words.rename(columns={0:'n_grams'}, inplace=True)\n"
      ],
      "metadata": {
        "id": "tcl3Blzk_2cy"
      },
      "execution_count": null,
      "outputs": []
    },
    {
      "cell_type": "code",
      "source": [
        "words['word_lemma'] = words['n_grams'].astype(str).apply(lambda x: [i for i in topics_st_asterisk_list if i in x])\n"
      ],
      "metadata": {
        "id": "FnxeX_OK_-rN"
      },
      "execution_count": null,
      "outputs": []
    },
    {
      "cell_type": "code",
      "source": [
        "words_filter = words[ words['word_lemma'].str.len() > 0 ]"
      ],
      "metadata": {
        "id": "u4y0zJfcBG2P"
      },
      "execution_count": null,
      "outputs": []
    },
    {
      "cell_type": "code",
      "source": [
        "words_filter_unnest = words_filter.explode('word_lemma')\n"
      ],
      "metadata": {
        "id": "UUky0NOlBVf3"
      },
      "execution_count": null,
      "outputs": []
    },
    {
      "cell_type": "code",
      "source": [
        "words_filter_unnest = pd.merge(words_filter_unnest, topics_st_asterisk, on=\"word_lemma\", how='left')"
      ],
      "metadata": {
        "id": "TlVEqsKpBp2A"
      },
      "execution_count": null,
      "outputs": []
    },
    {
      "cell_type": "code",
      "source": [
        "words_filter_unnest.to_excel('additional_topic_words_v2.xlsx')"
      ],
      "metadata": {
        "id": "Di7aiqlvEuwl"
      },
      "execution_count": null,
      "outputs": []
    },
    {
      "cell_type": "code",
      "source": [
        "additional_topic_words_v2 = pd.read_excel('additional_topic_words_v2.xlsx')\n",
        "additional_topic_words_v1 = pd.read_excel('additional_topic_words.xlsx')"
      ],
      "metadata": {
        "id": "v6bZ2O7gIZBD"
      },
      "execution_count": null,
      "outputs": []
    },
    {
      "cell_type": "code",
      "source": [
        "additional_topic_words_v1['version'] = 'v1'\n",
        "additional_topic_words_v2['version'] = 'v2'\n",
        "\n",
        "add_topic_words_merge = pd.merge( additional_topic_words_v1, additional_topic_words_v2, how=\"outer\", on=[\"n_grams\", \"topic\"])"
      ],
      "metadata": {
        "id": "0Sng_9ZXIyBA"
      },
      "execution_count": null,
      "outputs": []
    },
    {
      "cell_type": "code",
      "source": [
        "add_topic_words_merge = add_topic_words_merge[['n_grams', 'topic', 'FINAL', 'version_x', 'version_y']]"
      ],
      "metadata": {
        "id": "9CmxVQ8uI8n-"
      },
      "execution_count": null,
      "outputs": []
    },
    {
      "cell_type": "code",
      "source": [
        "add_topic_words_merge.to_excel('Topic_words_review1_v1_v2_diff.xlsx')\n"
      ],
      "metadata": {
        "id": "td-FXK8tJdrW"
      },
      "execution_count": null,
      "outputs": []
    },
    {
      "cell_type": "code",
      "source": [
        "#add_topic_words_merge_NA = add_topic_words_merge[ (add_topic_words_merge['version_x'].isnull()) | (add_topic_words_merge['version_y'].isnull()) ]\n"
      ],
      "metadata": {
        "id": "9SL8C72nJTFb"
      },
      "execution_count": null,
      "outputs": []
    },
    {
      "cell_type": "markdown",
      "source": [
        "### final list prep"
      ],
      "metadata": {
        "id": "WhN88B4bG-L4"
      }
    },
    {
      "cell_type": "code",
      "source": [
        "add_words = pd.read_excel(\"/content/drive/MyDrive/Georgia/Topic Dictionaries/Topic_words_review1_v1_v2_diff.xlsx\")"
      ],
      "metadata": {
        "id": "qAyonRI6Q8Ie"
      },
      "execution_count": null,
      "outputs": []
    },
    {
      "cell_type": "code",
      "source": [
        "topics_R1 = topics_st[topics_st['word_star'] == 0]\n",
        "topics_R1 = topics_R1[['topic', 'word_lemma']]"
      ],
      "metadata": {
        "id": "tA0GH_PDMMrz"
      },
      "execution_count": null,
      "outputs": []
    },
    {
      "cell_type": "code",
      "source": [
        "topics_add = add_words[add_words['FINAL2'] == 1]\n",
        "topics_add = topics_add[['topic', 'n_grams']]\n",
        "topics_add.rename(columns={'n_grams': 'word_lemma'}, inplace=True)\n"
      ],
      "metadata": {
        "id": "_BbWjwacM2FE"
      },
      "execution_count": null,
      "outputs": []
    },
    {
      "cell_type": "code",
      "source": [
        "topic_final = pd.concat([topics_R1, topics_add])"
      ],
      "metadata": {
        "id": "YX4RV-36NCP1"
      },
      "execution_count": null,
      "outputs": []
    },
    {
      "cell_type": "code",
      "source": [
        "topic_final = topic_final.drop_duplicates()"
      ],
      "metadata": {
        "id": "ByBnKmEpNwbW"
      },
      "execution_count": null,
      "outputs": []
    },
    {
      "cell_type": "code",
      "source": [
        "topic_final"
      ],
      "metadata": {
        "colab": {
          "base_uri": "https://localhost:8080/",
          "height": 424
        },
        "id": "8cNrFSYagZWL",
        "outputId": "43088576-cc1e-47ca-a414-e064d3b5fdb7"
      },
      "execution_count": null,
      "outputs": [
        {
          "output_type": "execute_result",
          "data": {
            "text/plain": [
              "                  topic         word_lemma\n",
              "0             Inflation          cost live\n",
              "1             Inflation          inflation\n",
              "3             Inflation             afford\n",
              "4             Inflation      affordability\n",
              "5             Inflation         affordable\n",
              "...                 ...                ...\n",
              "2848  Racial inequality           minority\n",
              "2858  Racial inequality  nondiscrimination\n",
              "2882  Racial inequality             stigma\n",
              "2890  Racial inequality         stigmatize\n",
              "2896  Racial inequality      unarmed black\n",
              "\n",
              "[575 rows x 2 columns]"
            ],
            "text/html": [
              "\n",
              "  <div id=\"df-102e065d-7895-41e4-bdd3-94fa5de3c0b6\">\n",
              "    <div class=\"colab-df-container\">\n",
              "      <div>\n",
              "<style scoped>\n",
              "    .dataframe tbody tr th:only-of-type {\n",
              "        vertical-align: middle;\n",
              "    }\n",
              "\n",
              "    .dataframe tbody tr th {\n",
              "        vertical-align: top;\n",
              "    }\n",
              "\n",
              "    .dataframe thead th {\n",
              "        text-align: right;\n",
              "    }\n",
              "</style>\n",
              "<table border=\"1\" class=\"dataframe\">\n",
              "  <thead>\n",
              "    <tr style=\"text-align: right;\">\n",
              "      <th></th>\n",
              "      <th>topic</th>\n",
              "      <th>word_lemma</th>\n",
              "    </tr>\n",
              "  </thead>\n",
              "  <tbody>\n",
              "    <tr>\n",
              "      <th>0</th>\n",
              "      <td>Inflation</td>\n",
              "      <td>cost live</td>\n",
              "    </tr>\n",
              "    <tr>\n",
              "      <th>1</th>\n",
              "      <td>Inflation</td>\n",
              "      <td>inflation</td>\n",
              "    </tr>\n",
              "    <tr>\n",
              "      <th>3</th>\n",
              "      <td>Inflation</td>\n",
              "      <td>afford</td>\n",
              "    </tr>\n",
              "    <tr>\n",
              "      <th>4</th>\n",
              "      <td>Inflation</td>\n",
              "      <td>affordability</td>\n",
              "    </tr>\n",
              "    <tr>\n",
              "      <th>5</th>\n",
              "      <td>Inflation</td>\n",
              "      <td>affordable</td>\n",
              "    </tr>\n",
              "    <tr>\n",
              "      <th>...</th>\n",
              "      <td>...</td>\n",
              "      <td>...</td>\n",
              "    </tr>\n",
              "    <tr>\n",
              "      <th>2848</th>\n",
              "      <td>Racial inequality</td>\n",
              "      <td>minority</td>\n",
              "    </tr>\n",
              "    <tr>\n",
              "      <th>2858</th>\n",
              "      <td>Racial inequality</td>\n",
              "      <td>nondiscrimination</td>\n",
              "    </tr>\n",
              "    <tr>\n",
              "      <th>2882</th>\n",
              "      <td>Racial inequality</td>\n",
              "      <td>stigma</td>\n",
              "    </tr>\n",
              "    <tr>\n",
              "      <th>2890</th>\n",
              "      <td>Racial inequality</td>\n",
              "      <td>stigmatize</td>\n",
              "    </tr>\n",
              "    <tr>\n",
              "      <th>2896</th>\n",
              "      <td>Racial inequality</td>\n",
              "      <td>unarmed black</td>\n",
              "    </tr>\n",
              "  </tbody>\n",
              "</table>\n",
              "<p>575 rows × 2 columns</p>\n",
              "</div>\n",
              "      <button class=\"colab-df-convert\" onclick=\"convertToInteractive('df-102e065d-7895-41e4-bdd3-94fa5de3c0b6')\"\n",
              "              title=\"Convert this dataframe to an interactive table.\"\n",
              "              style=\"display:none;\">\n",
              "        \n",
              "  <svg xmlns=\"http://www.w3.org/2000/svg\" height=\"24px\"viewBox=\"0 0 24 24\"\n",
              "       width=\"24px\">\n",
              "    <path d=\"M0 0h24v24H0V0z\" fill=\"none\"/>\n",
              "    <path d=\"M18.56 5.44l.94 2.06.94-2.06 2.06-.94-2.06-.94-.94-2.06-.94 2.06-2.06.94zm-11 1L8.5 8.5l.94-2.06 2.06-.94-2.06-.94L8.5 2.5l-.94 2.06-2.06.94zm10 10l.94 2.06.94-2.06 2.06-.94-2.06-.94-.94-2.06-.94 2.06-2.06.94z\"/><path d=\"M17.41 7.96l-1.37-1.37c-.4-.4-.92-.59-1.43-.59-.52 0-1.04.2-1.43.59L10.3 9.45l-7.72 7.72c-.78.78-.78 2.05 0 2.83L4 21.41c.39.39.9.59 1.41.59.51 0 1.02-.2 1.41-.59l7.78-7.78 2.81-2.81c.8-.78.8-2.07 0-2.86zM5.41 20L4 18.59l7.72-7.72 1.47 1.35L5.41 20z\"/>\n",
              "  </svg>\n",
              "      </button>\n",
              "      \n",
              "  <style>\n",
              "    .colab-df-container {\n",
              "      display:flex;\n",
              "      flex-wrap:wrap;\n",
              "      gap: 12px;\n",
              "    }\n",
              "\n",
              "    .colab-df-convert {\n",
              "      background-color: #E8F0FE;\n",
              "      border: none;\n",
              "      border-radius: 50%;\n",
              "      cursor: pointer;\n",
              "      display: none;\n",
              "      fill: #1967D2;\n",
              "      height: 32px;\n",
              "      padding: 0 0 0 0;\n",
              "      width: 32px;\n",
              "    }\n",
              "\n",
              "    .colab-df-convert:hover {\n",
              "      background-color: #E2EBFA;\n",
              "      box-shadow: 0px 1px 2px rgba(60, 64, 67, 0.3), 0px 1px 3px 1px rgba(60, 64, 67, 0.15);\n",
              "      fill: #174EA6;\n",
              "    }\n",
              "\n",
              "    [theme=dark] .colab-df-convert {\n",
              "      background-color: #3B4455;\n",
              "      fill: #D2E3FC;\n",
              "    }\n",
              "\n",
              "    [theme=dark] .colab-df-convert:hover {\n",
              "      background-color: #434B5C;\n",
              "      box-shadow: 0px 1px 3px 1px rgba(0, 0, 0, 0.15);\n",
              "      filter: drop-shadow(0px 1px 2px rgba(0, 0, 0, 0.3));\n",
              "      fill: #FFFFFF;\n",
              "    }\n",
              "  </style>\n",
              "\n",
              "      <script>\n",
              "        const buttonEl =\n",
              "          document.querySelector('#df-102e065d-7895-41e4-bdd3-94fa5de3c0b6 button.colab-df-convert');\n",
              "        buttonEl.style.display =\n",
              "          google.colab.kernel.accessAllowed ? 'block' : 'none';\n",
              "\n",
              "        async function convertToInteractive(key) {\n",
              "          const element = document.querySelector('#df-102e065d-7895-41e4-bdd3-94fa5de3c0b6');\n",
              "          const dataTable =\n",
              "            await google.colab.kernel.invokeFunction('convertToInteractive',\n",
              "                                                     [key], {});\n",
              "          if (!dataTable) return;\n",
              "\n",
              "          const docLinkHtml = 'Like what you see? Visit the ' +\n",
              "            '<a target=\"_blank\" href=https://colab.research.google.com/notebooks/data_table.ipynb>data table notebook</a>'\n",
              "            + ' to learn more about interactive tables.';\n",
              "          element.innerHTML = '';\n",
              "          dataTable['output_type'] = 'display_data';\n",
              "          await google.colab.output.renderOutput(dataTable, element);\n",
              "          const docLink = document.createElement('div');\n",
              "          docLink.innerHTML = docLinkHtml;\n",
              "          element.appendChild(docLink);\n",
              "        }\n",
              "      </script>\n",
              "    </div>\n",
              "  </div>\n",
              "  "
            ]
          },
          "metadata": {},
          "execution_count": 75
        }
      ]
    },
    {
      "cell_type": "markdown",
      "source": [
        "## topic words similarity"
      ],
      "metadata": {
        "id": "qi6QX_OVMGSj"
      }
    },
    {
      "cell_type": "code",
      "source": [
        "%cd /content/drive/MyDrive/Georgia/Topic Dictionaries\n",
        "\n",
        "import gensim\n",
        "\n",
        "article_model_bigram = gensim.models.Word2Vec.load(\"Georgia_language_lemma_num10_v2\")\n"
      ],
      "metadata": {
        "id": "SBEInW-dwVbg"
      },
      "execution_count": null,
      "outputs": []
    },
    {
      "cell_type": "code",
      "source": [
        "topic_dictionary = list(set(topic_final.word_lemma.tolist()))"
      ],
      "metadata": {
        "id": "F2_X1utJUXtY"
      },
      "execution_count": null,
      "outputs": []
    },
    {
      "cell_type": "code",
      "source": [
        "## update this code to create a dataset with topic words; do it again among the lsd words\n",
        "\n",
        "word_list_scores = []\n",
        "\n",
        "for topic_word in topic_dictionary:\n",
        "  try:\n",
        "    word_list_scores.append( (topic_word, article_model_bigram.wv.most_similar(topic_word, topn=10)) )\n",
        "  except KeyError:\n",
        "    word_list_scores.append( (topic_word, 'NA') )"
      ],
      "metadata": {
        "id": "P2WbrRAWU6MJ"
      },
      "execution_count": null,
      "outputs": []
    },
    {
      "cell_type": "code",
      "source": [
        "df_test = pd.DataFrame ( word_list_scores )\n"
      ],
      "metadata": {
        "id": "XzNa2aekVHTI"
      },
      "execution_count": null,
      "outputs": []
    },
    {
      "cell_type": "code",
      "source": [
        "df_test.rename(columns={0: 'word_lemma', 1: 'similar_words'}, inplace=True)\n",
        "\n",
        "df_text_spread = df_test.explode('similar_words')"
      ],
      "metadata": {
        "id": "GlTr1vGsRaCT"
      },
      "execution_count": null,
      "outputs": []
    },
    {
      "cell_type": "code",
      "source": [
        "# df_text_spread_NA = df_text_spread[df_text_spread['similar_words']=='NA']\n",
        "# df_text_spread_NA.to_excel('FINA_topic_words_not_include_review.xlsx')"
      ],
      "metadata": {
        "id": "Dyxvej7kXSWE"
      },
      "execution_count": null,
      "outputs": []
    },
    {
      "cell_type": "code",
      "source": [
        "df_text_spread = df_text_spread[df_text_spread['similar_words']!='NA']\n",
        "df_text_spread['similar_word'], df_text_spread['similarity'] = df_text_spread.similar_words.str[0], df_text_spread.similar_words.str[1]\n",
        "df_text_spread = df_text_spread.drop('similar_words', axis=1)"
      ],
      "metadata": {
        "colab": {
          "base_uri": "https://localhost:8080/"
        },
        "id": "QF57ZiFxT2iq",
        "outputId": "cc31efaf-183d-4104-f4b4-24ad4b91fea7"
      },
      "execution_count": null,
      "outputs": [
        {
          "output_type": "stream",
          "name": "stderr",
          "text": [
            "<ipython-input-80-b3f5d5179380>:2: SettingWithCopyWarning: \n",
            "A value is trying to be set on a copy of a slice from a DataFrame.\n",
            "Try using .loc[row_indexer,col_indexer] = value instead\n",
            "\n",
            "See the caveats in the documentation: https://pandas.pydata.org/pandas-docs/stable/user_guide/indexing.html#returning-a-view-versus-a-copy\n",
            "  df_text_spread['similar_word'], df_text_spread['similarity'] = df_text_spread.similar_words.str[0], df_text_spread.similar_words.str[1]\n"
          ]
        }
      ]
    },
    {
      "cell_type": "code",
      "source": [
        "df_text_spread_merge = pd.merge(df_text_spread, topic_final, how='left', on='word_lemma')"
      ],
      "metadata": {
        "id": "SG_AhCT3VpGO"
      },
      "execution_count": null,
      "outputs": []
    },
    {
      "cell_type": "code",
      "source": [
        "# those with higher than 0.7 similarity\n",
        "\n",
        "df_test_sim07 = df_text_spread_merge[ df_text_spread_merge['similarity'] > 0.7  ]"
      ],
      "metadata": {
        "id": "5we-KjteYNv3"
      },
      "execution_count": null,
      "outputs": []
    },
    {
      "cell_type": "code",
      "source": [
        "# 4681 previous\n",
        "# 4391 current"
      ],
      "metadata": {
        "id": "bL1wgQttginZ"
      },
      "execution_count": null,
      "outputs": []
    },
    {
      "cell_type": "code",
      "source": [
        "df_test_sim07 # 4681"
      ],
      "metadata": {
        "colab": {
          "base_uri": "https://localhost:8080/",
          "height": 424
        },
        "id": "e_8iE0h_brGk",
        "outputId": "04b9ee8a-ee99-4bbc-f8e4-2afc3c2c4a0b"
      },
      "execution_count": null,
      "outputs": [
        {
          "output_type": "execute_result",
          "data": {
            "text/plain": [
              "     word_lemma     similar_word  similarity           topic\n",
              "10      recycle          compost    0.844696  Climate change\n",
              "11      recycle         reusable    0.805904  Climate change\n",
              "12      recycle        container    0.798560  Climate change\n",
              "13      recycle            reuse    0.794733  Climate change\n",
              "14      recycle       recyclable    0.794667  Climate change\n",
              "...         ...              ...         ...             ...\n",
              "5105     salary  retention bonus    0.715568  Economy / Jobs\n",
              "5106     salary             wage    0.714138  Economy / Jobs\n",
              "5107     salary          pension    0.713663  Economy / Jobs\n",
              "5108     salary          earning    0.710439  Economy / Jobs\n",
              "5109     salary          payroll    0.707564  Economy / Jobs\n",
              "\n",
              "[4391 rows x 4 columns]"
            ],
            "text/html": [
              "\n",
              "  <div id=\"df-82c6d5b7-7109-4914-8534-22ee2a1745ca\">\n",
              "    <div class=\"colab-df-container\">\n",
              "      <div>\n",
              "<style scoped>\n",
              "    .dataframe tbody tr th:only-of-type {\n",
              "        vertical-align: middle;\n",
              "    }\n",
              "\n",
              "    .dataframe tbody tr th {\n",
              "        vertical-align: top;\n",
              "    }\n",
              "\n",
              "    .dataframe thead th {\n",
              "        text-align: right;\n",
              "    }\n",
              "</style>\n",
              "<table border=\"1\" class=\"dataframe\">\n",
              "  <thead>\n",
              "    <tr style=\"text-align: right;\">\n",
              "      <th></th>\n",
              "      <th>word_lemma</th>\n",
              "      <th>similar_word</th>\n",
              "      <th>similarity</th>\n",
              "      <th>topic</th>\n",
              "    </tr>\n",
              "  </thead>\n",
              "  <tbody>\n",
              "    <tr>\n",
              "      <th>10</th>\n",
              "      <td>recycle</td>\n",
              "      <td>compost</td>\n",
              "      <td>0.844696</td>\n",
              "      <td>Climate change</td>\n",
              "    </tr>\n",
              "    <tr>\n",
              "      <th>11</th>\n",
              "      <td>recycle</td>\n",
              "      <td>reusable</td>\n",
              "      <td>0.805904</td>\n",
              "      <td>Climate change</td>\n",
              "    </tr>\n",
              "    <tr>\n",
              "      <th>12</th>\n",
              "      <td>recycle</td>\n",
              "      <td>container</td>\n",
              "      <td>0.798560</td>\n",
              "      <td>Climate change</td>\n",
              "    </tr>\n",
              "    <tr>\n",
              "      <th>13</th>\n",
              "      <td>recycle</td>\n",
              "      <td>reuse</td>\n",
              "      <td>0.794733</td>\n",
              "      <td>Climate change</td>\n",
              "    </tr>\n",
              "    <tr>\n",
              "      <th>14</th>\n",
              "      <td>recycle</td>\n",
              "      <td>recyclable</td>\n",
              "      <td>0.794667</td>\n",
              "      <td>Climate change</td>\n",
              "    </tr>\n",
              "    <tr>\n",
              "      <th>...</th>\n",
              "      <td>...</td>\n",
              "      <td>...</td>\n",
              "      <td>...</td>\n",
              "      <td>...</td>\n",
              "    </tr>\n",
              "    <tr>\n",
              "      <th>5105</th>\n",
              "      <td>salary</td>\n",
              "      <td>retention bonus</td>\n",
              "      <td>0.715568</td>\n",
              "      <td>Economy / Jobs</td>\n",
              "    </tr>\n",
              "    <tr>\n",
              "      <th>5106</th>\n",
              "      <td>salary</td>\n",
              "      <td>wage</td>\n",
              "      <td>0.714138</td>\n",
              "      <td>Economy / Jobs</td>\n",
              "    </tr>\n",
              "    <tr>\n",
              "      <th>5107</th>\n",
              "      <td>salary</td>\n",
              "      <td>pension</td>\n",
              "      <td>0.713663</td>\n",
              "      <td>Economy / Jobs</td>\n",
              "    </tr>\n",
              "    <tr>\n",
              "      <th>5108</th>\n",
              "      <td>salary</td>\n",
              "      <td>earning</td>\n",
              "      <td>0.710439</td>\n",
              "      <td>Economy / Jobs</td>\n",
              "    </tr>\n",
              "    <tr>\n",
              "      <th>5109</th>\n",
              "      <td>salary</td>\n",
              "      <td>payroll</td>\n",
              "      <td>0.707564</td>\n",
              "      <td>Economy / Jobs</td>\n",
              "    </tr>\n",
              "  </tbody>\n",
              "</table>\n",
              "<p>4391 rows × 4 columns</p>\n",
              "</div>\n",
              "      <button class=\"colab-df-convert\" onclick=\"convertToInteractive('df-82c6d5b7-7109-4914-8534-22ee2a1745ca')\"\n",
              "              title=\"Convert this dataframe to an interactive table.\"\n",
              "              style=\"display:none;\">\n",
              "        \n",
              "  <svg xmlns=\"http://www.w3.org/2000/svg\" height=\"24px\"viewBox=\"0 0 24 24\"\n",
              "       width=\"24px\">\n",
              "    <path d=\"M0 0h24v24H0V0z\" fill=\"none\"/>\n",
              "    <path d=\"M18.56 5.44l.94 2.06.94-2.06 2.06-.94-2.06-.94-.94-2.06-.94 2.06-2.06.94zm-11 1L8.5 8.5l.94-2.06 2.06-.94-2.06-.94L8.5 2.5l-.94 2.06-2.06.94zm10 10l.94 2.06.94-2.06 2.06-.94-2.06-.94-.94-2.06-.94 2.06-2.06.94z\"/><path d=\"M17.41 7.96l-1.37-1.37c-.4-.4-.92-.59-1.43-.59-.52 0-1.04.2-1.43.59L10.3 9.45l-7.72 7.72c-.78.78-.78 2.05 0 2.83L4 21.41c.39.39.9.59 1.41.59.51 0 1.02-.2 1.41-.59l7.78-7.78 2.81-2.81c.8-.78.8-2.07 0-2.86zM5.41 20L4 18.59l7.72-7.72 1.47 1.35L5.41 20z\"/>\n",
              "  </svg>\n",
              "      </button>\n",
              "      \n",
              "  <style>\n",
              "    .colab-df-container {\n",
              "      display:flex;\n",
              "      flex-wrap:wrap;\n",
              "      gap: 12px;\n",
              "    }\n",
              "\n",
              "    .colab-df-convert {\n",
              "      background-color: #E8F0FE;\n",
              "      border: none;\n",
              "      border-radius: 50%;\n",
              "      cursor: pointer;\n",
              "      display: none;\n",
              "      fill: #1967D2;\n",
              "      height: 32px;\n",
              "      padding: 0 0 0 0;\n",
              "      width: 32px;\n",
              "    }\n",
              "\n",
              "    .colab-df-convert:hover {\n",
              "      background-color: #E2EBFA;\n",
              "      box-shadow: 0px 1px 2px rgba(60, 64, 67, 0.3), 0px 1px 3px 1px rgba(60, 64, 67, 0.15);\n",
              "      fill: #174EA6;\n",
              "    }\n",
              "\n",
              "    [theme=dark] .colab-df-convert {\n",
              "      background-color: #3B4455;\n",
              "      fill: #D2E3FC;\n",
              "    }\n",
              "\n",
              "    [theme=dark] .colab-df-convert:hover {\n",
              "      background-color: #434B5C;\n",
              "      box-shadow: 0px 1px 3px 1px rgba(0, 0, 0, 0.15);\n",
              "      filter: drop-shadow(0px 1px 2px rgba(0, 0, 0, 0.3));\n",
              "      fill: #FFFFFF;\n",
              "    }\n",
              "  </style>\n",
              "\n",
              "      <script>\n",
              "        const buttonEl =\n",
              "          document.querySelector('#df-82c6d5b7-7109-4914-8534-22ee2a1745ca button.colab-df-convert');\n",
              "        buttonEl.style.display =\n",
              "          google.colab.kernel.accessAllowed ? 'block' : 'none';\n",
              "\n",
              "        async function convertToInteractive(key) {\n",
              "          const element = document.querySelector('#df-82c6d5b7-7109-4914-8534-22ee2a1745ca');\n",
              "          const dataTable =\n",
              "            await google.colab.kernel.invokeFunction('convertToInteractive',\n",
              "                                                     [key], {});\n",
              "          if (!dataTable) return;\n",
              "\n",
              "          const docLinkHtml = 'Like what you see? Visit the ' +\n",
              "            '<a target=\"_blank\" href=https://colab.research.google.com/notebooks/data_table.ipynb>data table notebook</a>'\n",
              "            + ' to learn more about interactive tables.';\n",
              "          element.innerHTML = '';\n",
              "          dataTable['output_type'] = 'display_data';\n",
              "          await google.colab.output.renderOutput(dataTable, element);\n",
              "          const docLink = document.createElement('div');\n",
              "          docLink.innerHTML = docLinkHtml;\n",
              "          element.appendChild(docLink);\n",
              "        }\n",
              "      </script>\n",
              "    </div>\n",
              "  </div>\n",
              "  "
            ]
          },
          "metadata": {},
          "execution_count": 83
        }
      ]
    },
    {
      "cell_type": "code",
      "source": [
        "df_test_sim07_black = df_test_sim07[df_test_sim07['word_lemma']=='black']\n",
        "df_test_sim07_black"
      ],
      "metadata": {
        "colab": {
          "base_uri": "https://localhost:8080/",
          "height": 112
        },
        "id": "7M0jSew9dnkH",
        "outputId": "d6a06ac3-29c4-464c-ff83-4180b1878081"
      },
      "execution_count": null,
      "outputs": [
        {
          "output_type": "execute_result",
          "data": {
            "text/plain": [
              "     word_lemma similar_word  similarity              topic\n",
              "4420      black        white    0.844675  Racial inequality\n",
              "4421      black        color    0.715145  Racial inequality"
            ],
            "text/html": [
              "\n",
              "  <div id=\"df-3e1a6396-d65a-4cf4-9b80-076aa268d79f\">\n",
              "    <div class=\"colab-df-container\">\n",
              "      <div>\n",
              "<style scoped>\n",
              "    .dataframe tbody tr th:only-of-type {\n",
              "        vertical-align: middle;\n",
              "    }\n",
              "\n",
              "    .dataframe tbody tr th {\n",
              "        vertical-align: top;\n",
              "    }\n",
              "\n",
              "    .dataframe thead th {\n",
              "        text-align: right;\n",
              "    }\n",
              "</style>\n",
              "<table border=\"1\" class=\"dataframe\">\n",
              "  <thead>\n",
              "    <tr style=\"text-align: right;\">\n",
              "      <th></th>\n",
              "      <th>word_lemma</th>\n",
              "      <th>similar_word</th>\n",
              "      <th>similarity</th>\n",
              "      <th>topic</th>\n",
              "    </tr>\n",
              "  </thead>\n",
              "  <tbody>\n",
              "    <tr>\n",
              "      <th>4420</th>\n",
              "      <td>black</td>\n",
              "      <td>white</td>\n",
              "      <td>0.844675</td>\n",
              "      <td>Racial inequality</td>\n",
              "    </tr>\n",
              "    <tr>\n",
              "      <th>4421</th>\n",
              "      <td>black</td>\n",
              "      <td>color</td>\n",
              "      <td>0.715145</td>\n",
              "      <td>Racial inequality</td>\n",
              "    </tr>\n",
              "  </tbody>\n",
              "</table>\n",
              "</div>\n",
              "      <button class=\"colab-df-convert\" onclick=\"convertToInteractive('df-3e1a6396-d65a-4cf4-9b80-076aa268d79f')\"\n",
              "              title=\"Convert this dataframe to an interactive table.\"\n",
              "              style=\"display:none;\">\n",
              "        \n",
              "  <svg xmlns=\"http://www.w3.org/2000/svg\" height=\"24px\"viewBox=\"0 0 24 24\"\n",
              "       width=\"24px\">\n",
              "    <path d=\"M0 0h24v24H0V0z\" fill=\"none\"/>\n",
              "    <path d=\"M18.56 5.44l.94 2.06.94-2.06 2.06-.94-2.06-.94-.94-2.06-.94 2.06-2.06.94zm-11 1L8.5 8.5l.94-2.06 2.06-.94-2.06-.94L8.5 2.5l-.94 2.06-2.06.94zm10 10l.94 2.06.94-2.06 2.06-.94-2.06-.94-.94-2.06-.94 2.06-2.06.94z\"/><path d=\"M17.41 7.96l-1.37-1.37c-.4-.4-.92-.59-1.43-.59-.52 0-1.04.2-1.43.59L10.3 9.45l-7.72 7.72c-.78.78-.78 2.05 0 2.83L4 21.41c.39.39.9.59 1.41.59.51 0 1.02-.2 1.41-.59l7.78-7.78 2.81-2.81c.8-.78.8-2.07 0-2.86zM5.41 20L4 18.59l7.72-7.72 1.47 1.35L5.41 20z\"/>\n",
              "  </svg>\n",
              "      </button>\n",
              "      \n",
              "  <style>\n",
              "    .colab-df-container {\n",
              "      display:flex;\n",
              "      flex-wrap:wrap;\n",
              "      gap: 12px;\n",
              "    }\n",
              "\n",
              "    .colab-df-convert {\n",
              "      background-color: #E8F0FE;\n",
              "      border: none;\n",
              "      border-radius: 50%;\n",
              "      cursor: pointer;\n",
              "      display: none;\n",
              "      fill: #1967D2;\n",
              "      height: 32px;\n",
              "      padding: 0 0 0 0;\n",
              "      width: 32px;\n",
              "    }\n",
              "\n",
              "    .colab-df-convert:hover {\n",
              "      background-color: #E2EBFA;\n",
              "      box-shadow: 0px 1px 2px rgba(60, 64, 67, 0.3), 0px 1px 3px 1px rgba(60, 64, 67, 0.15);\n",
              "      fill: #174EA6;\n",
              "    }\n",
              "\n",
              "    [theme=dark] .colab-df-convert {\n",
              "      background-color: #3B4455;\n",
              "      fill: #D2E3FC;\n",
              "    }\n",
              "\n",
              "    [theme=dark] .colab-df-convert:hover {\n",
              "      background-color: #434B5C;\n",
              "      box-shadow: 0px 1px 3px 1px rgba(0, 0, 0, 0.15);\n",
              "      filter: drop-shadow(0px 1px 2px rgba(0, 0, 0, 0.3));\n",
              "      fill: #FFFFFF;\n",
              "    }\n",
              "  </style>\n",
              "\n",
              "      <script>\n",
              "        const buttonEl =\n",
              "          document.querySelector('#df-3e1a6396-d65a-4cf4-9b80-076aa268d79f button.colab-df-convert');\n",
              "        buttonEl.style.display =\n",
              "          google.colab.kernel.accessAllowed ? 'block' : 'none';\n",
              "\n",
              "        async function convertToInteractive(key) {\n",
              "          const element = document.querySelector('#df-3e1a6396-d65a-4cf4-9b80-076aa268d79f');\n",
              "          const dataTable =\n",
              "            await google.colab.kernel.invokeFunction('convertToInteractive',\n",
              "                                                     [key], {});\n",
              "          if (!dataTable) return;\n",
              "\n",
              "          const docLinkHtml = 'Like what you see? Visit the ' +\n",
              "            '<a target=\"_blank\" href=https://colab.research.google.com/notebooks/data_table.ipynb>data table notebook</a>'\n",
              "            + ' to learn more about interactive tables.';\n",
              "          element.innerHTML = '';\n",
              "          dataTable['output_type'] = 'display_data';\n",
              "          await google.colab.output.renderOutput(dataTable, element);\n",
              "          const docLink = document.createElement('div');\n",
              "          docLink.innerHTML = docLinkHtml;\n",
              "          element.appendChild(docLink);\n",
              "        }\n",
              "      </script>\n",
              "    </div>\n",
              "  </div>\n",
              "  "
            ]
          },
          "metadata": {},
          "execution_count": 84
        }
      ]
    },
    {
      "cell_type": "code",
      "source": [
        "df_test_sim07_nondup = df_test_sim07[['similar_word', 'topic']].drop_duplicates()"
      ],
      "metadata": {
        "id": "3L6DTlDPYdWD"
      },
      "execution_count": null,
      "outputs": []
    },
    {
      "cell_type": "code",
      "source": [
        "df_test_sim07_nondup = df_test_sim07.drop_duplicates(subset=['similar_word', 'topic'])"
      ],
      "metadata": {
        "id": "AHVaXR0Ee1wV"
      },
      "execution_count": null,
      "outputs": []
    },
    {
      "cell_type": "code",
      "source": [
        "df_test_sim07_nondup # 3289 non-duplicates --> 3145"
      ],
      "metadata": {
        "colab": {
          "base_uri": "https://localhost:8080/",
          "height": 424
        },
        "id": "Lv4tRhMsbfAq",
        "outputId": "3b552cb5-6c81-499b-9be8-8cfd706b61ce"
      },
      "execution_count": null,
      "outputs": [
        {
          "output_type": "execute_result",
          "data": {
            "text/plain": [
              "      word_lemma       similar_word  similarity           topic\n",
              "10       recycle            compost    0.844696  Climate change\n",
              "11       recycle           reusable    0.805904  Climate change\n",
              "12       recycle          container    0.798560  Climate change\n",
              "13       recycle              reuse    0.794733  Climate change\n",
              "14       recycle         recyclable    0.794667  Climate change\n",
              "...          ...                ...         ...             ...\n",
              "5095  vaccinated         prevalence    0.778021        COVID-19\n",
              "5096  vaccinated     severe illness    0.774695        COVID-19\n",
              "5097  vaccinated        virus cause    0.773555        COVID-19\n",
              "5098  vaccinated  syndrome mutation    0.771601        COVID-19\n",
              "5105      salary    retention bonus    0.715568  Economy / Jobs\n",
              "\n",
              "[3145 rows x 4 columns]"
            ],
            "text/html": [
              "\n",
              "  <div id=\"df-9a5fd4b5-5e68-4e9e-906a-fa0710165b68\">\n",
              "    <div class=\"colab-df-container\">\n",
              "      <div>\n",
              "<style scoped>\n",
              "    .dataframe tbody tr th:only-of-type {\n",
              "        vertical-align: middle;\n",
              "    }\n",
              "\n",
              "    .dataframe tbody tr th {\n",
              "        vertical-align: top;\n",
              "    }\n",
              "\n",
              "    .dataframe thead th {\n",
              "        text-align: right;\n",
              "    }\n",
              "</style>\n",
              "<table border=\"1\" class=\"dataframe\">\n",
              "  <thead>\n",
              "    <tr style=\"text-align: right;\">\n",
              "      <th></th>\n",
              "      <th>word_lemma</th>\n",
              "      <th>similar_word</th>\n",
              "      <th>similarity</th>\n",
              "      <th>topic</th>\n",
              "    </tr>\n",
              "  </thead>\n",
              "  <tbody>\n",
              "    <tr>\n",
              "      <th>10</th>\n",
              "      <td>recycle</td>\n",
              "      <td>compost</td>\n",
              "      <td>0.844696</td>\n",
              "      <td>Climate change</td>\n",
              "    </tr>\n",
              "    <tr>\n",
              "      <th>11</th>\n",
              "      <td>recycle</td>\n",
              "      <td>reusable</td>\n",
              "      <td>0.805904</td>\n",
              "      <td>Climate change</td>\n",
              "    </tr>\n",
              "    <tr>\n",
              "      <th>12</th>\n",
              "      <td>recycle</td>\n",
              "      <td>container</td>\n",
              "      <td>0.798560</td>\n",
              "      <td>Climate change</td>\n",
              "    </tr>\n",
              "    <tr>\n",
              "      <th>13</th>\n",
              "      <td>recycle</td>\n",
              "      <td>reuse</td>\n",
              "      <td>0.794733</td>\n",
              "      <td>Climate change</td>\n",
              "    </tr>\n",
              "    <tr>\n",
              "      <th>14</th>\n",
              "      <td>recycle</td>\n",
              "      <td>recyclable</td>\n",
              "      <td>0.794667</td>\n",
              "      <td>Climate change</td>\n",
              "    </tr>\n",
              "    <tr>\n",
              "      <th>...</th>\n",
              "      <td>...</td>\n",
              "      <td>...</td>\n",
              "      <td>...</td>\n",
              "      <td>...</td>\n",
              "    </tr>\n",
              "    <tr>\n",
              "      <th>5095</th>\n",
              "      <td>vaccinated</td>\n",
              "      <td>prevalence</td>\n",
              "      <td>0.778021</td>\n",
              "      <td>COVID-19</td>\n",
              "    </tr>\n",
              "    <tr>\n",
              "      <th>5096</th>\n",
              "      <td>vaccinated</td>\n",
              "      <td>severe illness</td>\n",
              "      <td>0.774695</td>\n",
              "      <td>COVID-19</td>\n",
              "    </tr>\n",
              "    <tr>\n",
              "      <th>5097</th>\n",
              "      <td>vaccinated</td>\n",
              "      <td>virus cause</td>\n",
              "      <td>0.773555</td>\n",
              "      <td>COVID-19</td>\n",
              "    </tr>\n",
              "    <tr>\n",
              "      <th>5098</th>\n",
              "      <td>vaccinated</td>\n",
              "      <td>syndrome mutation</td>\n",
              "      <td>0.771601</td>\n",
              "      <td>COVID-19</td>\n",
              "    </tr>\n",
              "    <tr>\n",
              "      <th>5105</th>\n",
              "      <td>salary</td>\n",
              "      <td>retention bonus</td>\n",
              "      <td>0.715568</td>\n",
              "      <td>Economy / Jobs</td>\n",
              "    </tr>\n",
              "  </tbody>\n",
              "</table>\n",
              "<p>3145 rows × 4 columns</p>\n",
              "</div>\n",
              "      <button class=\"colab-df-convert\" onclick=\"convertToInteractive('df-9a5fd4b5-5e68-4e9e-906a-fa0710165b68')\"\n",
              "              title=\"Convert this dataframe to an interactive table.\"\n",
              "              style=\"display:none;\">\n",
              "        \n",
              "  <svg xmlns=\"http://www.w3.org/2000/svg\" height=\"24px\"viewBox=\"0 0 24 24\"\n",
              "       width=\"24px\">\n",
              "    <path d=\"M0 0h24v24H0V0z\" fill=\"none\"/>\n",
              "    <path d=\"M18.56 5.44l.94 2.06.94-2.06 2.06-.94-2.06-.94-.94-2.06-.94 2.06-2.06.94zm-11 1L8.5 8.5l.94-2.06 2.06-.94-2.06-.94L8.5 2.5l-.94 2.06-2.06.94zm10 10l.94 2.06.94-2.06 2.06-.94-2.06-.94-.94-2.06-.94 2.06-2.06.94z\"/><path d=\"M17.41 7.96l-1.37-1.37c-.4-.4-.92-.59-1.43-.59-.52 0-1.04.2-1.43.59L10.3 9.45l-7.72 7.72c-.78.78-.78 2.05 0 2.83L4 21.41c.39.39.9.59 1.41.59.51 0 1.02-.2 1.41-.59l7.78-7.78 2.81-2.81c.8-.78.8-2.07 0-2.86zM5.41 20L4 18.59l7.72-7.72 1.47 1.35L5.41 20z\"/>\n",
              "  </svg>\n",
              "      </button>\n",
              "      \n",
              "  <style>\n",
              "    .colab-df-container {\n",
              "      display:flex;\n",
              "      flex-wrap:wrap;\n",
              "      gap: 12px;\n",
              "    }\n",
              "\n",
              "    .colab-df-convert {\n",
              "      background-color: #E8F0FE;\n",
              "      border: none;\n",
              "      border-radius: 50%;\n",
              "      cursor: pointer;\n",
              "      display: none;\n",
              "      fill: #1967D2;\n",
              "      height: 32px;\n",
              "      padding: 0 0 0 0;\n",
              "      width: 32px;\n",
              "    }\n",
              "\n",
              "    .colab-df-convert:hover {\n",
              "      background-color: #E2EBFA;\n",
              "      box-shadow: 0px 1px 2px rgba(60, 64, 67, 0.3), 0px 1px 3px 1px rgba(60, 64, 67, 0.15);\n",
              "      fill: #174EA6;\n",
              "    }\n",
              "\n",
              "    [theme=dark] .colab-df-convert {\n",
              "      background-color: #3B4455;\n",
              "      fill: #D2E3FC;\n",
              "    }\n",
              "\n",
              "    [theme=dark] .colab-df-convert:hover {\n",
              "      background-color: #434B5C;\n",
              "      box-shadow: 0px 1px 3px 1px rgba(0, 0, 0, 0.15);\n",
              "      filter: drop-shadow(0px 1px 2px rgba(0, 0, 0, 0.3));\n",
              "      fill: #FFFFFF;\n",
              "    }\n",
              "  </style>\n",
              "\n",
              "      <script>\n",
              "        const buttonEl =\n",
              "          document.querySelector('#df-9a5fd4b5-5e68-4e9e-906a-fa0710165b68 button.colab-df-convert');\n",
              "        buttonEl.style.display =\n",
              "          google.colab.kernel.accessAllowed ? 'block' : 'none';\n",
              "\n",
              "        async function convertToInteractive(key) {\n",
              "          const element = document.querySelector('#df-9a5fd4b5-5e68-4e9e-906a-fa0710165b68');\n",
              "          const dataTable =\n",
              "            await google.colab.kernel.invokeFunction('convertToInteractive',\n",
              "                                                     [key], {});\n",
              "          if (!dataTable) return;\n",
              "\n",
              "          const docLinkHtml = 'Like what you see? Visit the ' +\n",
              "            '<a target=\"_blank\" href=https://colab.research.google.com/notebooks/data_table.ipynb>data table notebook</a>'\n",
              "            + ' to learn more about interactive tables.';\n",
              "          element.innerHTML = '';\n",
              "          dataTable['output_type'] = 'display_data';\n",
              "          await google.colab.output.renderOutput(dataTable, element);\n",
              "          const docLink = document.createElement('div');\n",
              "          docLink.innerHTML = docLinkHtml;\n",
              "          element.appendChild(docLink);\n",
              "        }\n",
              "      </script>\n",
              "    </div>\n",
              "  </div>\n",
              "  "
            ]
          },
          "metadata": {},
          "execution_count": 87
        }
      ]
    },
    {
      "cell_type": "code",
      "source": [
        "# exclude those from the topic dictionary\n",
        "df_test_sim07_final = df_test_sim07_nondup[~df_test_sim07_nondup['similar_word'].isin(topic_dictionary)]\n"
      ],
      "metadata": {
        "id": "c9XeZHqeZGI8"
      },
      "execution_count": null,
      "outputs": []
    },
    {
      "cell_type": "code",
      "source": [
        "df_test_sim07_final.to_excel('df_test_sim07_top10_no_duplicates2_v2.xlsx')"
      ],
      "metadata": {
        "id": "IgyDqf6JeJ_s"
      },
      "execution_count": null,
      "outputs": []
    },
    {
      "cell_type": "code",
      "source": [
        "df_test_sim07_top10_v1 = pd.read_excel('df_test_sim07_top10_no_duplicates2.xlsx')\n",
        "df_test_sim07_top10_v2 = pd.read_excel('df_test_sim07_top10_no_duplicates2_v2.xlsx')\n",
        "\n"
      ],
      "metadata": {
        "id": "uRw84HixbDey"
      },
      "execution_count": null,
      "outputs": []
    },
    {
      "cell_type": "code",
      "source": [
        "df_test_sim07_top10_v1 = df_test_sim07_top10_v1[['similar_word', 'topic', 'FINAL']]"
      ],
      "metadata": {
        "id": "J4cOkXK2g0d9"
      },
      "execution_count": null,
      "outputs": []
    },
    {
      "cell_type": "code",
      "source": [
        "df_test_sim07_top10_v2 = df_test_sim07_top10_v2[['similar_word', 'topic']]"
      ],
      "metadata": {
        "id": "OzgArSRgg2TW"
      },
      "execution_count": null,
      "outputs": []
    },
    {
      "cell_type": "code",
      "source": [
        "df_test_sim07_top10_v2['version'] = 'v2'"
      ],
      "metadata": {
        "colab": {
          "base_uri": "https://localhost:8080/"
        },
        "id": "LkdsZHTSiM6J",
        "outputId": "65784eeb-5067-4384-ba44-ef5a96760172"
      },
      "execution_count": null,
      "outputs": [
        {
          "output_type": "stream",
          "name": "stderr",
          "text": [
            "<ipython-input-145-1b2dc470a668>:1: SettingWithCopyWarning: \n",
            "A value is trying to be set on a copy of a slice from a DataFrame.\n",
            "Try using .loc[row_indexer,col_indexer] = value instead\n",
            "\n",
            "See the caveats in the documentation: https://pandas.pydata.org/pandas-docs/stable/user_guide/indexing.html#returning-a-view-versus-a-copy\n",
            "  df_test_sim07_top10_v2['version'] = 'v2'\n"
          ]
        }
      ]
    },
    {
      "cell_type": "code",
      "source": [
        "df_sim07_top10_merge = pd.merge( df_test_sim07_top10_v1, df_test_sim07_top10_v2, how=\"outer\", on=[\"similar_word\", \"topic\"])"
      ],
      "metadata": {
        "id": "kUgrCwNghX0t"
      },
      "execution_count": null,
      "outputs": []
    },
    {
      "cell_type": "code",
      "source": [
        "df_sim07_top10_merge[df_sim07_top10_merge['version'].isnull()]"
      ],
      "metadata": {
        "colab": {
          "base_uri": "https://localhost:8080/",
          "height": 424
        },
        "id": "7ZoY7nbShh_S",
        "outputId": "96e2ee97-297e-4507-d564-7e17418fd4af"
      },
      "execution_count": null,
      "outputs": [
        {
          "output_type": "execute_result",
          "data": {
            "text/plain": [
              "           similar_word              topic  FINAL version\n",
              "2             exception           Abortion    0.0     NaN\n",
              "4          conservative           Abortion    0.0     NaN\n",
              "5     expand electorate           Abortion    0.0     NaN\n",
              "6       fellow democrat           Abortion    0.0     NaN\n",
              "7         gop candidate           Abortion    0.0     NaN\n",
              "...                 ...                ...    ...     ...\n",
              "2886               woke  Racial inequality    0.0     NaN\n",
              "2891     court decision      Supreme Court    0.0     NaN\n",
              "2892       court ruling      Supreme Court    0.0     NaN\n",
              "2893               dobb      Supreme Court    0.0     NaN\n",
              "2894            justice      Supreme Court    0.0     NaN\n",
              "\n",
              "[1789 rows x 4 columns]"
            ],
            "text/html": [
              "\n",
              "  <div id=\"df-a6f4c9d1-cdd3-45fe-bdde-16a584effb82\">\n",
              "    <div class=\"colab-df-container\">\n",
              "      <div>\n",
              "<style scoped>\n",
              "    .dataframe tbody tr th:only-of-type {\n",
              "        vertical-align: middle;\n",
              "    }\n",
              "\n",
              "    .dataframe tbody tr th {\n",
              "        vertical-align: top;\n",
              "    }\n",
              "\n",
              "    .dataframe thead th {\n",
              "        text-align: right;\n",
              "    }\n",
              "</style>\n",
              "<table border=\"1\" class=\"dataframe\">\n",
              "  <thead>\n",
              "    <tr style=\"text-align: right;\">\n",
              "      <th></th>\n",
              "      <th>similar_word</th>\n",
              "      <th>topic</th>\n",
              "      <th>FINAL</th>\n",
              "      <th>version</th>\n",
              "    </tr>\n",
              "  </thead>\n",
              "  <tbody>\n",
              "    <tr>\n",
              "      <th>2</th>\n",
              "      <td>exception</td>\n",
              "      <td>Abortion</td>\n",
              "      <td>0.0</td>\n",
              "      <td>NaN</td>\n",
              "    </tr>\n",
              "    <tr>\n",
              "      <th>4</th>\n",
              "      <td>conservative</td>\n",
              "      <td>Abortion</td>\n",
              "      <td>0.0</td>\n",
              "      <td>NaN</td>\n",
              "    </tr>\n",
              "    <tr>\n",
              "      <th>5</th>\n",
              "      <td>expand electorate</td>\n",
              "      <td>Abortion</td>\n",
              "      <td>0.0</td>\n",
              "      <td>NaN</td>\n",
              "    </tr>\n",
              "    <tr>\n",
              "      <th>6</th>\n",
              "      <td>fellow democrat</td>\n",
              "      <td>Abortion</td>\n",
              "      <td>0.0</td>\n",
              "      <td>NaN</td>\n",
              "    </tr>\n",
              "    <tr>\n",
              "      <th>7</th>\n",
              "      <td>gop candidate</td>\n",
              "      <td>Abortion</td>\n",
              "      <td>0.0</td>\n",
              "      <td>NaN</td>\n",
              "    </tr>\n",
              "    <tr>\n",
              "      <th>...</th>\n",
              "      <td>...</td>\n",
              "      <td>...</td>\n",
              "      <td>...</td>\n",
              "      <td>...</td>\n",
              "    </tr>\n",
              "    <tr>\n",
              "      <th>2886</th>\n",
              "      <td>woke</td>\n",
              "      <td>Racial inequality</td>\n",
              "      <td>0.0</td>\n",
              "      <td>NaN</td>\n",
              "    </tr>\n",
              "    <tr>\n",
              "      <th>2891</th>\n",
              "      <td>court decision</td>\n",
              "      <td>Supreme Court</td>\n",
              "      <td>0.0</td>\n",
              "      <td>NaN</td>\n",
              "    </tr>\n",
              "    <tr>\n",
              "      <th>2892</th>\n",
              "      <td>court ruling</td>\n",
              "      <td>Supreme Court</td>\n",
              "      <td>0.0</td>\n",
              "      <td>NaN</td>\n",
              "    </tr>\n",
              "    <tr>\n",
              "      <th>2893</th>\n",
              "      <td>dobb</td>\n",
              "      <td>Supreme Court</td>\n",
              "      <td>0.0</td>\n",
              "      <td>NaN</td>\n",
              "    </tr>\n",
              "    <tr>\n",
              "      <th>2894</th>\n",
              "      <td>justice</td>\n",
              "      <td>Supreme Court</td>\n",
              "      <td>0.0</td>\n",
              "      <td>NaN</td>\n",
              "    </tr>\n",
              "  </tbody>\n",
              "</table>\n",
              "<p>1789 rows × 4 columns</p>\n",
              "</div>\n",
              "      <button class=\"colab-df-convert\" onclick=\"convertToInteractive('df-a6f4c9d1-cdd3-45fe-bdde-16a584effb82')\"\n",
              "              title=\"Convert this dataframe to an interactive table.\"\n",
              "              style=\"display:none;\">\n",
              "        \n",
              "  <svg xmlns=\"http://www.w3.org/2000/svg\" height=\"24px\"viewBox=\"0 0 24 24\"\n",
              "       width=\"24px\">\n",
              "    <path d=\"M0 0h24v24H0V0z\" fill=\"none\"/>\n",
              "    <path d=\"M18.56 5.44l.94 2.06.94-2.06 2.06-.94-2.06-.94-.94-2.06-.94 2.06-2.06.94zm-11 1L8.5 8.5l.94-2.06 2.06-.94-2.06-.94L8.5 2.5l-.94 2.06-2.06.94zm10 10l.94 2.06.94-2.06 2.06-.94-2.06-.94-.94-2.06-.94 2.06-2.06.94z\"/><path d=\"M17.41 7.96l-1.37-1.37c-.4-.4-.92-.59-1.43-.59-.52 0-1.04.2-1.43.59L10.3 9.45l-7.72 7.72c-.78.78-.78 2.05 0 2.83L4 21.41c.39.39.9.59 1.41.59.51 0 1.02-.2 1.41-.59l7.78-7.78 2.81-2.81c.8-.78.8-2.07 0-2.86zM5.41 20L4 18.59l7.72-7.72 1.47 1.35L5.41 20z\"/>\n",
              "  </svg>\n",
              "      </button>\n",
              "      \n",
              "  <style>\n",
              "    .colab-df-container {\n",
              "      display:flex;\n",
              "      flex-wrap:wrap;\n",
              "      gap: 12px;\n",
              "    }\n",
              "\n",
              "    .colab-df-convert {\n",
              "      background-color: #E8F0FE;\n",
              "      border: none;\n",
              "      border-radius: 50%;\n",
              "      cursor: pointer;\n",
              "      display: none;\n",
              "      fill: #1967D2;\n",
              "      height: 32px;\n",
              "      padding: 0 0 0 0;\n",
              "      width: 32px;\n",
              "    }\n",
              "\n",
              "    .colab-df-convert:hover {\n",
              "      background-color: #E2EBFA;\n",
              "      box-shadow: 0px 1px 2px rgba(60, 64, 67, 0.3), 0px 1px 3px 1px rgba(60, 64, 67, 0.15);\n",
              "      fill: #174EA6;\n",
              "    }\n",
              "\n",
              "    [theme=dark] .colab-df-convert {\n",
              "      background-color: #3B4455;\n",
              "      fill: #D2E3FC;\n",
              "    }\n",
              "\n",
              "    [theme=dark] .colab-df-convert:hover {\n",
              "      background-color: #434B5C;\n",
              "      box-shadow: 0px 1px 3px 1px rgba(0, 0, 0, 0.15);\n",
              "      filter: drop-shadow(0px 1px 2px rgba(0, 0, 0, 0.3));\n",
              "      fill: #FFFFFF;\n",
              "    }\n",
              "  </style>\n",
              "\n",
              "      <script>\n",
              "        const buttonEl =\n",
              "          document.querySelector('#df-a6f4c9d1-cdd3-45fe-bdde-16a584effb82 button.colab-df-convert');\n",
              "        buttonEl.style.display =\n",
              "          google.colab.kernel.accessAllowed ? 'block' : 'none';\n",
              "\n",
              "        async function convertToInteractive(key) {\n",
              "          const element = document.querySelector('#df-a6f4c9d1-cdd3-45fe-bdde-16a584effb82');\n",
              "          const dataTable =\n",
              "            await google.colab.kernel.invokeFunction('convertToInteractive',\n",
              "                                                     [key], {});\n",
              "          if (!dataTable) return;\n",
              "\n",
              "          const docLinkHtml = 'Like what you see? Visit the ' +\n",
              "            '<a target=\"_blank\" href=https://colab.research.google.com/notebooks/data_table.ipynb>data table notebook</a>'\n",
              "            + ' to learn more about interactive tables.';\n",
              "          element.innerHTML = '';\n",
              "          dataTable['output_type'] = 'display_data';\n",
              "          await google.colab.output.renderOutput(dataTable, element);\n",
              "          const docLink = document.createElement('div');\n",
              "          docLink.innerHTML = docLinkHtml;\n",
              "          element.appendChild(docLink);\n",
              "        }\n",
              "      </script>\n",
              "    </div>\n",
              "  </div>\n",
              "  "
            ]
          },
          "metadata": {},
          "execution_count": 147
        }
      ]
    },
    {
      "cell_type": "code",
      "source": [
        "df_sim07_top10_merge[df_sim07_top10_merge['version']=='v2']"
      ],
      "metadata": {
        "colab": {
          "base_uri": "https://localhost:8080/",
          "height": 424
        },
        "id": "7hBoCBxSo7Mo",
        "outputId": "fbdc08e1-1238-4699-9aa9-b9c20d72df35"
      },
      "execution_count": null,
      "outputs": [
        {
          "output_type": "execute_result",
          "data": {
            "text/plain": [
              "           similar_word           topic  FINAL version\n",
              "0          abortion ban        Abortion    0.0      v2\n",
              "1          ban abortion        Abortion    0.0      v2\n",
              "3       oppose abortion        Abortion    0.0      v2\n",
              "12               choose        Abortion    0.0      v2\n",
              "13               prefer        Abortion    0.0      v2\n",
              "...                 ...             ...    ...     ...\n",
              "4545         prevalence        COVID-19    NaN      v2\n",
              "4546     severe illness        COVID-19    NaN      v2\n",
              "4547        virus cause        COVID-19    NaN      v2\n",
              "4548  syndrome mutation        COVID-19    NaN      v2\n",
              "4549    retention bonus  Economy / Jobs    NaN      v2\n",
              "\n",
              "[2761 rows x 4 columns]"
            ],
            "text/html": [
              "\n",
              "  <div id=\"df-cc4774cd-694d-400e-9fec-3653a381d81a\">\n",
              "    <div class=\"colab-df-container\">\n",
              "      <div>\n",
              "<style scoped>\n",
              "    .dataframe tbody tr th:only-of-type {\n",
              "        vertical-align: middle;\n",
              "    }\n",
              "\n",
              "    .dataframe tbody tr th {\n",
              "        vertical-align: top;\n",
              "    }\n",
              "\n",
              "    .dataframe thead th {\n",
              "        text-align: right;\n",
              "    }\n",
              "</style>\n",
              "<table border=\"1\" class=\"dataframe\">\n",
              "  <thead>\n",
              "    <tr style=\"text-align: right;\">\n",
              "      <th></th>\n",
              "      <th>similar_word</th>\n",
              "      <th>topic</th>\n",
              "      <th>FINAL</th>\n",
              "      <th>version</th>\n",
              "    </tr>\n",
              "  </thead>\n",
              "  <tbody>\n",
              "    <tr>\n",
              "      <th>0</th>\n",
              "      <td>abortion ban</td>\n",
              "      <td>Abortion</td>\n",
              "      <td>0.0</td>\n",
              "      <td>v2</td>\n",
              "    </tr>\n",
              "    <tr>\n",
              "      <th>1</th>\n",
              "      <td>ban abortion</td>\n",
              "      <td>Abortion</td>\n",
              "      <td>0.0</td>\n",
              "      <td>v2</td>\n",
              "    </tr>\n",
              "    <tr>\n",
              "      <th>3</th>\n",
              "      <td>oppose abortion</td>\n",
              "      <td>Abortion</td>\n",
              "      <td>0.0</td>\n",
              "      <td>v2</td>\n",
              "    </tr>\n",
              "    <tr>\n",
              "      <th>12</th>\n",
              "      <td>choose</td>\n",
              "      <td>Abortion</td>\n",
              "      <td>0.0</td>\n",
              "      <td>v2</td>\n",
              "    </tr>\n",
              "    <tr>\n",
              "      <th>13</th>\n",
              "      <td>prefer</td>\n",
              "      <td>Abortion</td>\n",
              "      <td>0.0</td>\n",
              "      <td>v2</td>\n",
              "    </tr>\n",
              "    <tr>\n",
              "      <th>...</th>\n",
              "      <td>...</td>\n",
              "      <td>...</td>\n",
              "      <td>...</td>\n",
              "      <td>...</td>\n",
              "    </tr>\n",
              "    <tr>\n",
              "      <th>4545</th>\n",
              "      <td>prevalence</td>\n",
              "      <td>COVID-19</td>\n",
              "      <td>NaN</td>\n",
              "      <td>v2</td>\n",
              "    </tr>\n",
              "    <tr>\n",
              "      <th>4546</th>\n",
              "      <td>severe illness</td>\n",
              "      <td>COVID-19</td>\n",
              "      <td>NaN</td>\n",
              "      <td>v2</td>\n",
              "    </tr>\n",
              "    <tr>\n",
              "      <th>4547</th>\n",
              "      <td>virus cause</td>\n",
              "      <td>COVID-19</td>\n",
              "      <td>NaN</td>\n",
              "      <td>v2</td>\n",
              "    </tr>\n",
              "    <tr>\n",
              "      <th>4548</th>\n",
              "      <td>syndrome mutation</td>\n",
              "      <td>COVID-19</td>\n",
              "      <td>NaN</td>\n",
              "      <td>v2</td>\n",
              "    </tr>\n",
              "    <tr>\n",
              "      <th>4549</th>\n",
              "      <td>retention bonus</td>\n",
              "      <td>Economy / Jobs</td>\n",
              "      <td>NaN</td>\n",
              "      <td>v2</td>\n",
              "    </tr>\n",
              "  </tbody>\n",
              "</table>\n",
              "<p>2761 rows × 4 columns</p>\n",
              "</div>\n",
              "      <button class=\"colab-df-convert\" onclick=\"convertToInteractive('df-cc4774cd-694d-400e-9fec-3653a381d81a')\"\n",
              "              title=\"Convert this dataframe to an interactive table.\"\n",
              "              style=\"display:none;\">\n",
              "        \n",
              "  <svg xmlns=\"http://www.w3.org/2000/svg\" height=\"24px\"viewBox=\"0 0 24 24\"\n",
              "       width=\"24px\">\n",
              "    <path d=\"M0 0h24v24H0V0z\" fill=\"none\"/>\n",
              "    <path d=\"M18.56 5.44l.94 2.06.94-2.06 2.06-.94-2.06-.94-.94-2.06-.94 2.06-2.06.94zm-11 1L8.5 8.5l.94-2.06 2.06-.94-2.06-.94L8.5 2.5l-.94 2.06-2.06.94zm10 10l.94 2.06.94-2.06 2.06-.94-2.06-.94-.94-2.06-.94 2.06-2.06.94z\"/><path d=\"M17.41 7.96l-1.37-1.37c-.4-.4-.92-.59-1.43-.59-.52 0-1.04.2-1.43.59L10.3 9.45l-7.72 7.72c-.78.78-.78 2.05 0 2.83L4 21.41c.39.39.9.59 1.41.59.51 0 1.02-.2 1.41-.59l7.78-7.78 2.81-2.81c.8-.78.8-2.07 0-2.86zM5.41 20L4 18.59l7.72-7.72 1.47 1.35L5.41 20z\"/>\n",
              "  </svg>\n",
              "      </button>\n",
              "      \n",
              "  <style>\n",
              "    .colab-df-container {\n",
              "      display:flex;\n",
              "      flex-wrap:wrap;\n",
              "      gap: 12px;\n",
              "    }\n",
              "\n",
              "    .colab-df-convert {\n",
              "      background-color: #E8F0FE;\n",
              "      border: none;\n",
              "      border-radius: 50%;\n",
              "      cursor: pointer;\n",
              "      display: none;\n",
              "      fill: #1967D2;\n",
              "      height: 32px;\n",
              "      padding: 0 0 0 0;\n",
              "      width: 32px;\n",
              "    }\n",
              "\n",
              "    .colab-df-convert:hover {\n",
              "      background-color: #E2EBFA;\n",
              "      box-shadow: 0px 1px 2px rgba(60, 64, 67, 0.3), 0px 1px 3px 1px rgba(60, 64, 67, 0.15);\n",
              "      fill: #174EA6;\n",
              "    }\n",
              "\n",
              "    [theme=dark] .colab-df-convert {\n",
              "      background-color: #3B4455;\n",
              "      fill: #D2E3FC;\n",
              "    }\n",
              "\n",
              "    [theme=dark] .colab-df-convert:hover {\n",
              "      background-color: #434B5C;\n",
              "      box-shadow: 0px 1px 3px 1px rgba(0, 0, 0, 0.15);\n",
              "      filter: drop-shadow(0px 1px 2px rgba(0, 0, 0, 0.3));\n",
              "      fill: #FFFFFF;\n",
              "    }\n",
              "  </style>\n",
              "\n",
              "      <script>\n",
              "        const buttonEl =\n",
              "          document.querySelector('#df-cc4774cd-694d-400e-9fec-3653a381d81a button.colab-df-convert');\n",
              "        buttonEl.style.display =\n",
              "          google.colab.kernel.accessAllowed ? 'block' : 'none';\n",
              "\n",
              "        async function convertToInteractive(key) {\n",
              "          const element = document.querySelector('#df-cc4774cd-694d-400e-9fec-3653a381d81a');\n",
              "          const dataTable =\n",
              "            await google.colab.kernel.invokeFunction('convertToInteractive',\n",
              "                                                     [key], {});\n",
              "          if (!dataTable) return;\n",
              "\n",
              "          const docLinkHtml = 'Like what you see? Visit the ' +\n",
              "            '<a target=\"_blank\" href=https://colab.research.google.com/notebooks/data_table.ipynb>data table notebook</a>'\n",
              "            + ' to learn more about interactive tables.';\n",
              "          element.innerHTML = '';\n",
              "          dataTable['output_type'] = 'display_data';\n",
              "          await google.colab.output.renderOutput(dataTable, element);\n",
              "          const docLink = document.createElement('div');\n",
              "          docLink.innerHTML = docLinkHtml;\n",
              "          element.appendChild(docLink);\n",
              "        }\n",
              "      </script>\n",
              "    </div>\n",
              "  </div>\n",
              "  "
            ]
          },
          "metadata": {},
          "execution_count": 167
        }
      ]
    },
    {
      "cell_type": "code",
      "source": [
        "df_sim07_top10_merge.to_excel('df_sim07_top10_merge_v1_v2_diff.xlsx')"
      ],
      "metadata": {
        "id": "211vLcIpip7-"
      },
      "execution_count": null,
      "outputs": []
    },
    {
      "cell_type": "code",
      "source": [
        "topic_final_r1 = topic_final.copy()\n",
        "topic_final_r1['topic_final'] = 1"
      ],
      "metadata": {
        "id": "SC2iEmwJmAKh"
      },
      "execution_count": null,
      "outputs": []
    },
    {
      "cell_type": "code",
      "source": [
        "topic_final_r1.rename(columns={'word_lemma': 'similar_word'}, inplace=True)\n"
      ],
      "metadata": {
        "id": "bXA5cOVkmL_W"
      },
      "execution_count": null,
      "outputs": []
    },
    {
      "cell_type": "code",
      "source": [
        "df_sim07_top10_merge_all = pd.merge(df_sim07_top10_merge, topic_final_r1, how=\"outer\", on=[\"similar_word\", \"topic\"])"
      ],
      "metadata": {
        "id": "EwyEm1ramVHX"
      },
      "execution_count": null,
      "outputs": []
    },
    {
      "cell_type": "code",
      "source": [
        "df_sim07_top10_merge_all['review_done'] = np.where(  (df_sim07_top10_merge_all['FINAL']== 0) & (df_sim07_top10_merge_all['version']== \"v2\"), 1, 0  )\n"
      ],
      "metadata": {
        "id": "NFPQR1sknlfR"
      },
      "execution_count": null,
      "outputs": []
    },
    {
      "cell_type": "code",
      "source": [
        "df_sim07_top10_merge_all.to_excel('df_sim07_top10_merge_v1_v2_diff.xlsx')"
      ],
      "metadata": {
        "id": "aPTZRhpfmp1k"
      },
      "execution_count": null,
      "outputs": []
    },
    {
      "cell_type": "markdown",
      "source": [
        "## final topic word list"
      ],
      "metadata": {
        "id": "wBNlb9iMSLBT"
      }
    },
    {
      "cell_type": "code",
      "source": [
        "import pandas as pd\n",
        "topic_R2 = pd.read_excel('df_test_sim07_top10_no_duplicates2.xlsx')"
      ],
      "metadata": {
        "id": "r-ADGfcZZGyU"
      },
      "execution_count": null,
      "outputs": []
    },
    {
      "cell_type": "code",
      "source": [
        "topic_R2 = topic_R2[topic_R2['FINAL'] == 1]\n",
        "topic_R2 = topic_R2[['topic', 'similar_word']]\n",
        "topic_R2.rename(columns={'similar_word': 'word_lemma'}, inplace=True)\n"
      ],
      "metadata": {
        "id": "RstZ7ll8kMYL"
      },
      "execution_count": null,
      "outputs": []
    },
    {
      "cell_type": "code",
      "source": [
        "topic_R2_add = pd.read_excel('additional_words_manual.xlsx') \n",
        "topic_R2_add.rename(columns={'similar_word': 'word_lemma'}, inplace=True)\n"
      ],
      "metadata": {
        "id": "RqOx6nlVkRsF"
      },
      "execution_count": null,
      "outputs": []
    },
    {
      "cell_type": "code",
      "source": [
        "topic_final"
      ],
      "metadata": {
        "colab": {
          "base_uri": "https://localhost:8080/",
          "height": 424
        },
        "id": "LXpWbvFlJ4h6",
        "outputId": "41c7afe7-8df1-4661-d3ad-30082743cf93"
      },
      "execution_count": null,
      "outputs": [
        {
          "output_type": "execute_result",
          "data": {
            "text/plain": [
              "                  topic     word_lemma\n",
              "0             Inflation      cost live\n",
              "1             Inflation      inflation\n",
              "3             Inflation         afford\n",
              "4             Inflation  affordability\n",
              "5             Inflation     affordable\n",
              "...                 ...            ...\n",
              "2082  Racial inequality    marginalize\n",
              "2085  Racial inequality   marginalized\n",
              "2092  Racial inequality       minority\n",
              "2107  Racial inequality         stigma\n",
              "2112  Racial inequality     stigmatize\n",
              "\n",
              "[565 rows x 2 columns]"
            ],
            "text/html": [
              "\n",
              "  <div id=\"df-47bd7a1f-bf71-4e4b-8278-8f4a57f0e3a0\">\n",
              "    <div class=\"colab-df-container\">\n",
              "      <div>\n",
              "<style scoped>\n",
              "    .dataframe tbody tr th:only-of-type {\n",
              "        vertical-align: middle;\n",
              "    }\n",
              "\n",
              "    .dataframe tbody tr th {\n",
              "        vertical-align: top;\n",
              "    }\n",
              "\n",
              "    .dataframe thead th {\n",
              "        text-align: right;\n",
              "    }\n",
              "</style>\n",
              "<table border=\"1\" class=\"dataframe\">\n",
              "  <thead>\n",
              "    <tr style=\"text-align: right;\">\n",
              "      <th></th>\n",
              "      <th>topic</th>\n",
              "      <th>word_lemma</th>\n",
              "    </tr>\n",
              "  </thead>\n",
              "  <tbody>\n",
              "    <tr>\n",
              "      <th>0</th>\n",
              "      <td>Inflation</td>\n",
              "      <td>cost live</td>\n",
              "    </tr>\n",
              "    <tr>\n",
              "      <th>1</th>\n",
              "      <td>Inflation</td>\n",
              "      <td>inflation</td>\n",
              "    </tr>\n",
              "    <tr>\n",
              "      <th>3</th>\n",
              "      <td>Inflation</td>\n",
              "      <td>afford</td>\n",
              "    </tr>\n",
              "    <tr>\n",
              "      <th>4</th>\n",
              "      <td>Inflation</td>\n",
              "      <td>affordability</td>\n",
              "    </tr>\n",
              "    <tr>\n",
              "      <th>5</th>\n",
              "      <td>Inflation</td>\n",
              "      <td>affordable</td>\n",
              "    </tr>\n",
              "    <tr>\n",
              "      <th>...</th>\n",
              "      <td>...</td>\n",
              "      <td>...</td>\n",
              "    </tr>\n",
              "    <tr>\n",
              "      <th>2082</th>\n",
              "      <td>Racial inequality</td>\n",
              "      <td>marginalize</td>\n",
              "    </tr>\n",
              "    <tr>\n",
              "      <th>2085</th>\n",
              "      <td>Racial inequality</td>\n",
              "      <td>marginalized</td>\n",
              "    </tr>\n",
              "    <tr>\n",
              "      <th>2092</th>\n",
              "      <td>Racial inequality</td>\n",
              "      <td>minority</td>\n",
              "    </tr>\n",
              "    <tr>\n",
              "      <th>2107</th>\n",
              "      <td>Racial inequality</td>\n",
              "      <td>stigma</td>\n",
              "    </tr>\n",
              "    <tr>\n",
              "      <th>2112</th>\n",
              "      <td>Racial inequality</td>\n",
              "      <td>stigmatize</td>\n",
              "    </tr>\n",
              "  </tbody>\n",
              "</table>\n",
              "<p>565 rows × 2 columns</p>\n",
              "</div>\n",
              "      <button class=\"colab-df-convert\" onclick=\"convertToInteractive('df-47bd7a1f-bf71-4e4b-8278-8f4a57f0e3a0')\"\n",
              "              title=\"Convert this dataframe to an interactive table.\"\n",
              "              style=\"display:none;\">\n",
              "        \n",
              "  <svg xmlns=\"http://www.w3.org/2000/svg\" height=\"24px\"viewBox=\"0 0 24 24\"\n",
              "       width=\"24px\">\n",
              "    <path d=\"M0 0h24v24H0V0z\" fill=\"none\"/>\n",
              "    <path d=\"M18.56 5.44l.94 2.06.94-2.06 2.06-.94-2.06-.94-.94-2.06-.94 2.06-2.06.94zm-11 1L8.5 8.5l.94-2.06 2.06-.94-2.06-.94L8.5 2.5l-.94 2.06-2.06.94zm10 10l.94 2.06.94-2.06 2.06-.94-2.06-.94-.94-2.06-.94 2.06-2.06.94z\"/><path d=\"M17.41 7.96l-1.37-1.37c-.4-.4-.92-.59-1.43-.59-.52 0-1.04.2-1.43.59L10.3 9.45l-7.72 7.72c-.78.78-.78 2.05 0 2.83L4 21.41c.39.39.9.59 1.41.59.51 0 1.02-.2 1.41-.59l7.78-7.78 2.81-2.81c.8-.78.8-2.07 0-2.86zM5.41 20L4 18.59l7.72-7.72 1.47 1.35L5.41 20z\"/>\n",
              "  </svg>\n",
              "      </button>\n",
              "      \n",
              "  <style>\n",
              "    .colab-df-container {\n",
              "      display:flex;\n",
              "      flex-wrap:wrap;\n",
              "      gap: 12px;\n",
              "    }\n",
              "\n",
              "    .colab-df-convert {\n",
              "      background-color: #E8F0FE;\n",
              "      border: none;\n",
              "      border-radius: 50%;\n",
              "      cursor: pointer;\n",
              "      display: none;\n",
              "      fill: #1967D2;\n",
              "      height: 32px;\n",
              "      padding: 0 0 0 0;\n",
              "      width: 32px;\n",
              "    }\n",
              "\n",
              "    .colab-df-convert:hover {\n",
              "      background-color: #E2EBFA;\n",
              "      box-shadow: 0px 1px 2px rgba(60, 64, 67, 0.3), 0px 1px 3px 1px rgba(60, 64, 67, 0.15);\n",
              "      fill: #174EA6;\n",
              "    }\n",
              "\n",
              "    [theme=dark] .colab-df-convert {\n",
              "      background-color: #3B4455;\n",
              "      fill: #D2E3FC;\n",
              "    }\n",
              "\n",
              "    [theme=dark] .colab-df-convert:hover {\n",
              "      background-color: #434B5C;\n",
              "      box-shadow: 0px 1px 3px 1px rgba(0, 0, 0, 0.15);\n",
              "      filter: drop-shadow(0px 1px 2px rgba(0, 0, 0, 0.3));\n",
              "      fill: #FFFFFF;\n",
              "    }\n",
              "  </style>\n",
              "\n",
              "      <script>\n",
              "        const buttonEl =\n",
              "          document.querySelector('#df-47bd7a1f-bf71-4e4b-8278-8f4a57f0e3a0 button.colab-df-convert');\n",
              "        buttonEl.style.display =\n",
              "          google.colab.kernel.accessAllowed ? 'block' : 'none';\n",
              "\n",
              "        async function convertToInteractive(key) {\n",
              "          const element = document.querySelector('#df-47bd7a1f-bf71-4e4b-8278-8f4a57f0e3a0');\n",
              "          const dataTable =\n",
              "            await google.colab.kernel.invokeFunction('convertToInteractive',\n",
              "                                                     [key], {});\n",
              "          if (!dataTable) return;\n",
              "\n",
              "          const docLinkHtml = 'Like what you see? Visit the ' +\n",
              "            '<a target=\"_blank\" href=https://colab.research.google.com/notebooks/data_table.ipynb>data table notebook</a>'\n",
              "            + ' to learn more about interactive tables.';\n",
              "          element.innerHTML = '';\n",
              "          dataTable['output_type'] = 'display_data';\n",
              "          await google.colab.output.renderOutput(dataTable, element);\n",
              "          const docLink = document.createElement('div');\n",
              "          docLink.innerHTML = docLinkHtml;\n",
              "          element.appendChild(docLink);\n",
              "        }\n",
              "      </script>\n",
              "    </div>\n",
              "  </div>\n",
              "  "
            ]
          },
          "metadata": {},
          "execution_count": 25
        }
      ]
    },
    {
      "cell_type": "code",
      "source": [
        "topic_final[topic_final['word_lemma']=='undocumente']"
      ],
      "metadata": {
        "colab": {
          "base_uri": "https://localhost:8080/",
          "height": 81
        },
        "id": "oa0APF4oy_7n",
        "outputId": "de3409f5-789d-453d-a3a2-da32613f091e"
      },
      "execution_count": null,
      "outputs": [
        {
          "output_type": "execute_result",
          "data": {
            "text/plain": [
              "                             topic   word_lemma\n",
              "122  Immigration / border security  undocumente"
            ],
            "text/html": [
              "\n",
              "  <div id=\"df-e6311fab-17b7-4b84-8f8d-1e6ed0f56c69\">\n",
              "    <div class=\"colab-df-container\">\n",
              "      <div>\n",
              "<style scoped>\n",
              "    .dataframe tbody tr th:only-of-type {\n",
              "        vertical-align: middle;\n",
              "    }\n",
              "\n",
              "    .dataframe tbody tr th {\n",
              "        vertical-align: top;\n",
              "    }\n",
              "\n",
              "    .dataframe thead th {\n",
              "        text-align: right;\n",
              "    }\n",
              "</style>\n",
              "<table border=\"1\" class=\"dataframe\">\n",
              "  <thead>\n",
              "    <tr style=\"text-align: right;\">\n",
              "      <th></th>\n",
              "      <th>topic</th>\n",
              "      <th>word_lemma</th>\n",
              "    </tr>\n",
              "  </thead>\n",
              "  <tbody>\n",
              "    <tr>\n",
              "      <th>122</th>\n",
              "      <td>Immigration / border security</td>\n",
              "      <td>undocumente</td>\n",
              "    </tr>\n",
              "  </tbody>\n",
              "</table>\n",
              "</div>\n",
              "      <button class=\"colab-df-convert\" onclick=\"convertToInteractive('df-e6311fab-17b7-4b84-8f8d-1e6ed0f56c69')\"\n",
              "              title=\"Convert this dataframe to an interactive table.\"\n",
              "              style=\"display:none;\">\n",
              "        \n",
              "  <svg xmlns=\"http://www.w3.org/2000/svg\" height=\"24px\"viewBox=\"0 0 24 24\"\n",
              "       width=\"24px\">\n",
              "    <path d=\"M0 0h24v24H0V0z\" fill=\"none\"/>\n",
              "    <path d=\"M18.56 5.44l.94 2.06.94-2.06 2.06-.94-2.06-.94-.94-2.06-.94 2.06-2.06.94zm-11 1L8.5 8.5l.94-2.06 2.06-.94-2.06-.94L8.5 2.5l-.94 2.06-2.06.94zm10 10l.94 2.06.94-2.06 2.06-.94-2.06-.94-.94-2.06-.94 2.06-2.06.94z\"/><path d=\"M17.41 7.96l-1.37-1.37c-.4-.4-.92-.59-1.43-.59-.52 0-1.04.2-1.43.59L10.3 9.45l-7.72 7.72c-.78.78-.78 2.05 0 2.83L4 21.41c.39.39.9.59 1.41.59.51 0 1.02-.2 1.41-.59l7.78-7.78 2.81-2.81c.8-.78.8-2.07 0-2.86zM5.41 20L4 18.59l7.72-7.72 1.47 1.35L5.41 20z\"/>\n",
              "  </svg>\n",
              "      </button>\n",
              "      \n",
              "  <style>\n",
              "    .colab-df-container {\n",
              "      display:flex;\n",
              "      flex-wrap:wrap;\n",
              "      gap: 12px;\n",
              "    }\n",
              "\n",
              "    .colab-df-convert {\n",
              "      background-color: #E8F0FE;\n",
              "      border: none;\n",
              "      border-radius: 50%;\n",
              "      cursor: pointer;\n",
              "      display: none;\n",
              "      fill: #1967D2;\n",
              "      height: 32px;\n",
              "      padding: 0 0 0 0;\n",
              "      width: 32px;\n",
              "    }\n",
              "\n",
              "    .colab-df-convert:hover {\n",
              "      background-color: #E2EBFA;\n",
              "      box-shadow: 0px 1px 2px rgba(60, 64, 67, 0.3), 0px 1px 3px 1px rgba(60, 64, 67, 0.15);\n",
              "      fill: #174EA6;\n",
              "    }\n",
              "\n",
              "    [theme=dark] .colab-df-convert {\n",
              "      background-color: #3B4455;\n",
              "      fill: #D2E3FC;\n",
              "    }\n",
              "\n",
              "    [theme=dark] .colab-df-convert:hover {\n",
              "      background-color: #434B5C;\n",
              "      box-shadow: 0px 1px 3px 1px rgba(0, 0, 0, 0.15);\n",
              "      filter: drop-shadow(0px 1px 2px rgba(0, 0, 0, 0.3));\n",
              "      fill: #FFFFFF;\n",
              "    }\n",
              "  </style>\n",
              "\n",
              "      <script>\n",
              "        const buttonEl =\n",
              "          document.querySelector('#df-e6311fab-17b7-4b84-8f8d-1e6ed0f56c69 button.colab-df-convert');\n",
              "        buttonEl.style.display =\n",
              "          google.colab.kernel.accessAllowed ? 'block' : 'none';\n",
              "\n",
              "        async function convertToInteractive(key) {\n",
              "          const element = document.querySelector('#df-e6311fab-17b7-4b84-8f8d-1e6ed0f56c69');\n",
              "          const dataTable =\n",
              "            await google.colab.kernel.invokeFunction('convertToInteractive',\n",
              "                                                     [key], {});\n",
              "          if (!dataTable) return;\n",
              "\n",
              "          const docLinkHtml = 'Like what you see? Visit the ' +\n",
              "            '<a target=\"_blank\" href=https://colab.research.google.com/notebooks/data_table.ipynb>data table notebook</a>'\n",
              "            + ' to learn more about interactive tables.';\n",
              "          element.innerHTML = '';\n",
              "          dataTable['output_type'] = 'display_data';\n",
              "          await google.colab.output.renderOutput(dataTable, element);\n",
              "          const docLink = document.createElement('div');\n",
              "          docLink.innerHTML = docLinkHtml;\n",
              "          element.appendChild(docLink);\n",
              "        }\n",
              "      </script>\n",
              "    </div>\n",
              "  </div>\n",
              "  "
            ]
          },
          "metadata": {},
          "execution_count": 16
        }
      ]
    },
    {
      "cell_type": "code",
      "source": [
        "topic_final2 = pd.concat([topic_final, topic_R2, topic_R2_add])"
      ],
      "metadata": {
        "id": "xOnlJkw9k3x9"
      },
      "execution_count": null,
      "outputs": []
    },
    {
      "cell_type": "code",
      "source": [
        "topic_final2"
      ],
      "metadata": {
        "colab": {
          "base_uri": "https://localhost:8080/",
          "height": 424
        },
        "id": "0MqeVNYhJ62L",
        "outputId": "08e908b9-f58f-4577-bb88-dc71909cad2a"
      },
      "execution_count": null,
      "outputs": [
        {
          "output_type": "execute_result",
          "data": {
            "text/plain": [
              "             topic     word_lemma\n",
              "0        Inflation      cost live\n",
              "1        Inflation      inflation\n",
              "3        Inflation         afford\n",
              "4        Inflation  affordability\n",
              "5        Inflation     affordable\n",
              "..             ...            ...\n",
              "0         Abortion      prochoice\n",
              "1         Abortion     antichoice\n",
              "2         Abortion          dobbs\n",
              "3            Crime        gunfire\n",
              "4   Economy / Jobs       creditor\n",
              "\n",
              "[940 rows x 2 columns]"
            ],
            "text/html": [
              "\n",
              "  <div id=\"df-e33c6f8d-51c3-4e91-ba12-c66ad251e60a\">\n",
              "    <div class=\"colab-df-container\">\n",
              "      <div>\n",
              "<style scoped>\n",
              "    .dataframe tbody tr th:only-of-type {\n",
              "        vertical-align: middle;\n",
              "    }\n",
              "\n",
              "    .dataframe tbody tr th {\n",
              "        vertical-align: top;\n",
              "    }\n",
              "\n",
              "    .dataframe thead th {\n",
              "        text-align: right;\n",
              "    }\n",
              "</style>\n",
              "<table border=\"1\" class=\"dataframe\">\n",
              "  <thead>\n",
              "    <tr style=\"text-align: right;\">\n",
              "      <th></th>\n",
              "      <th>topic</th>\n",
              "      <th>word_lemma</th>\n",
              "    </tr>\n",
              "  </thead>\n",
              "  <tbody>\n",
              "    <tr>\n",
              "      <th>0</th>\n",
              "      <td>Inflation</td>\n",
              "      <td>cost live</td>\n",
              "    </tr>\n",
              "    <tr>\n",
              "      <th>1</th>\n",
              "      <td>Inflation</td>\n",
              "      <td>inflation</td>\n",
              "    </tr>\n",
              "    <tr>\n",
              "      <th>3</th>\n",
              "      <td>Inflation</td>\n",
              "      <td>afford</td>\n",
              "    </tr>\n",
              "    <tr>\n",
              "      <th>4</th>\n",
              "      <td>Inflation</td>\n",
              "      <td>affordability</td>\n",
              "    </tr>\n",
              "    <tr>\n",
              "      <th>5</th>\n",
              "      <td>Inflation</td>\n",
              "      <td>affordable</td>\n",
              "    </tr>\n",
              "    <tr>\n",
              "      <th>...</th>\n",
              "      <td>...</td>\n",
              "      <td>...</td>\n",
              "    </tr>\n",
              "    <tr>\n",
              "      <th>0</th>\n",
              "      <td>Abortion</td>\n",
              "      <td>prochoice</td>\n",
              "    </tr>\n",
              "    <tr>\n",
              "      <th>1</th>\n",
              "      <td>Abortion</td>\n",
              "      <td>antichoice</td>\n",
              "    </tr>\n",
              "    <tr>\n",
              "      <th>2</th>\n",
              "      <td>Abortion</td>\n",
              "      <td>dobbs</td>\n",
              "    </tr>\n",
              "    <tr>\n",
              "      <th>3</th>\n",
              "      <td>Crime</td>\n",
              "      <td>gunfire</td>\n",
              "    </tr>\n",
              "    <tr>\n",
              "      <th>4</th>\n",
              "      <td>Economy / Jobs</td>\n",
              "      <td>creditor</td>\n",
              "    </tr>\n",
              "  </tbody>\n",
              "</table>\n",
              "<p>940 rows × 2 columns</p>\n",
              "</div>\n",
              "      <button class=\"colab-df-convert\" onclick=\"convertToInteractive('df-e33c6f8d-51c3-4e91-ba12-c66ad251e60a')\"\n",
              "              title=\"Convert this dataframe to an interactive table.\"\n",
              "              style=\"display:none;\">\n",
              "        \n",
              "  <svg xmlns=\"http://www.w3.org/2000/svg\" height=\"24px\"viewBox=\"0 0 24 24\"\n",
              "       width=\"24px\">\n",
              "    <path d=\"M0 0h24v24H0V0z\" fill=\"none\"/>\n",
              "    <path d=\"M18.56 5.44l.94 2.06.94-2.06 2.06-.94-2.06-.94-.94-2.06-.94 2.06-2.06.94zm-11 1L8.5 8.5l.94-2.06 2.06-.94-2.06-.94L8.5 2.5l-.94 2.06-2.06.94zm10 10l.94 2.06.94-2.06 2.06-.94-2.06-.94-.94-2.06-.94 2.06-2.06.94z\"/><path d=\"M17.41 7.96l-1.37-1.37c-.4-.4-.92-.59-1.43-.59-.52 0-1.04.2-1.43.59L10.3 9.45l-7.72 7.72c-.78.78-.78 2.05 0 2.83L4 21.41c.39.39.9.59 1.41.59.51 0 1.02-.2 1.41-.59l7.78-7.78 2.81-2.81c.8-.78.8-2.07 0-2.86zM5.41 20L4 18.59l7.72-7.72 1.47 1.35L5.41 20z\"/>\n",
              "  </svg>\n",
              "      </button>\n",
              "      \n",
              "  <style>\n",
              "    .colab-df-container {\n",
              "      display:flex;\n",
              "      flex-wrap:wrap;\n",
              "      gap: 12px;\n",
              "    }\n",
              "\n",
              "    .colab-df-convert {\n",
              "      background-color: #E8F0FE;\n",
              "      border: none;\n",
              "      border-radius: 50%;\n",
              "      cursor: pointer;\n",
              "      display: none;\n",
              "      fill: #1967D2;\n",
              "      height: 32px;\n",
              "      padding: 0 0 0 0;\n",
              "      width: 32px;\n",
              "    }\n",
              "\n",
              "    .colab-df-convert:hover {\n",
              "      background-color: #E2EBFA;\n",
              "      box-shadow: 0px 1px 2px rgba(60, 64, 67, 0.3), 0px 1px 3px 1px rgba(60, 64, 67, 0.15);\n",
              "      fill: #174EA6;\n",
              "    }\n",
              "\n",
              "    [theme=dark] .colab-df-convert {\n",
              "      background-color: #3B4455;\n",
              "      fill: #D2E3FC;\n",
              "    }\n",
              "\n",
              "    [theme=dark] .colab-df-convert:hover {\n",
              "      background-color: #434B5C;\n",
              "      box-shadow: 0px 1px 3px 1px rgba(0, 0, 0, 0.15);\n",
              "      filter: drop-shadow(0px 1px 2px rgba(0, 0, 0, 0.3));\n",
              "      fill: #FFFFFF;\n",
              "    }\n",
              "  </style>\n",
              "\n",
              "      <script>\n",
              "        const buttonEl =\n",
              "          document.querySelector('#df-e33c6f8d-51c3-4e91-ba12-c66ad251e60a button.colab-df-convert');\n",
              "        buttonEl.style.display =\n",
              "          google.colab.kernel.accessAllowed ? 'block' : 'none';\n",
              "\n",
              "        async function convertToInteractive(key) {\n",
              "          const element = document.querySelector('#df-e33c6f8d-51c3-4e91-ba12-c66ad251e60a');\n",
              "          const dataTable =\n",
              "            await google.colab.kernel.invokeFunction('convertToInteractive',\n",
              "                                                     [key], {});\n",
              "          if (!dataTable) return;\n",
              "\n",
              "          const docLinkHtml = 'Like what you see? Visit the ' +\n",
              "            '<a target=\"_blank\" href=https://colab.research.google.com/notebooks/data_table.ipynb>data table notebook</a>'\n",
              "            + ' to learn more about interactive tables.';\n",
              "          element.innerHTML = '';\n",
              "          dataTable['output_type'] = 'display_data';\n",
              "          await google.colab.output.renderOutput(dataTable, element);\n",
              "          const docLink = document.createElement('div');\n",
              "          docLink.innerHTML = docLinkHtml;\n",
              "          element.appendChild(docLink);\n",
              "        }\n",
              "      </script>\n",
              "    </div>\n",
              "  </div>\n",
              "  "
            ]
          },
          "metadata": {},
          "execution_count": 33
        }
      ]
    },
    {
      "cell_type": "code",
      "source": [
        "len(topic_final2)"
      ],
      "metadata": {
        "colab": {
          "base_uri": "https://localhost:8080/"
        },
        "id": "FRgasMWrIBjQ",
        "outputId": "90643a0a-4b53-457f-bd4a-c6b9d9b9222c"
      },
      "execution_count": null,
      "outputs": [
        {
          "output_type": "execute_result",
          "data": {
            "text/plain": [
              "940"
            ]
          },
          "metadata": {},
          "execution_count": 18
        }
      ]
    },
    {
      "cell_type": "code",
      "source": [
        "topic_final2 = topic_final2.drop_duplicates().sort_values(['topic','word_lemma']).reset_index()"
      ],
      "metadata": {
        "id": "zyrctQdrlFJ0"
      },
      "execution_count": null,
      "outputs": []
    },
    {
      "cell_type": "code",
      "source": [
        "topic_final2 = topic_final2[['topic','word_lemma']]"
      ],
      "metadata": {
        "id": "Kn0U0jufoTcu"
      },
      "execution_count": null,
      "outputs": []
    },
    {
      "cell_type": "code",
      "source": [
        "# delete depression AND lay from Economy / Jobs\t\n",
        "# delete traffic from Immigration / border security AND Crime"
      ],
      "metadata": {
        "id": "aNlNqadjSPiZ"
      },
      "execution_count": null,
      "outputs": []
    },
    {
      "cell_type": "code",
      "source": [
        "topic_final2[topic_final2['word_lemma'] == 'undocumented'] # 467\n"
      ],
      "metadata": {
        "colab": {
          "base_uri": "https://localhost:8080/",
          "height": 81
        },
        "id": "7tfAWimOIgKa",
        "outputId": "386c15f2-636a-4f40-85d0-3775685f24dd"
      },
      "execution_count": null,
      "outputs": [
        {
          "output_type": "execute_result",
          "data": {
            "text/plain": [
              "                             topic    word_lemma\n",
              "821  Immigration / border security  undocumented"
            ],
            "text/html": [
              "\n",
              "  <div id=\"df-df324ebd-c3fc-4c7d-bb62-17bb9ce555e3\">\n",
              "    <div class=\"colab-df-container\">\n",
              "      <div>\n",
              "<style scoped>\n",
              "    .dataframe tbody tr th:only-of-type {\n",
              "        vertical-align: middle;\n",
              "    }\n",
              "\n",
              "    .dataframe tbody tr th {\n",
              "        vertical-align: top;\n",
              "    }\n",
              "\n",
              "    .dataframe thead th {\n",
              "        text-align: right;\n",
              "    }\n",
              "</style>\n",
              "<table border=\"1\" class=\"dataframe\">\n",
              "  <thead>\n",
              "    <tr style=\"text-align: right;\">\n",
              "      <th></th>\n",
              "      <th>topic</th>\n",
              "      <th>word_lemma</th>\n",
              "    </tr>\n",
              "  </thead>\n",
              "  <tbody>\n",
              "    <tr>\n",
              "      <th>821</th>\n",
              "      <td>Immigration / border security</td>\n",
              "      <td>undocumented</td>\n",
              "    </tr>\n",
              "  </tbody>\n",
              "</table>\n",
              "</div>\n",
              "      <button class=\"colab-df-convert\" onclick=\"convertToInteractive('df-df324ebd-c3fc-4c7d-bb62-17bb9ce555e3')\"\n",
              "              title=\"Convert this dataframe to an interactive table.\"\n",
              "              style=\"display:none;\">\n",
              "        \n",
              "  <svg xmlns=\"http://www.w3.org/2000/svg\" height=\"24px\"viewBox=\"0 0 24 24\"\n",
              "       width=\"24px\">\n",
              "    <path d=\"M0 0h24v24H0V0z\" fill=\"none\"/>\n",
              "    <path d=\"M18.56 5.44l.94 2.06.94-2.06 2.06-.94-2.06-.94-.94-2.06-.94 2.06-2.06.94zm-11 1L8.5 8.5l.94-2.06 2.06-.94-2.06-.94L8.5 2.5l-.94 2.06-2.06.94zm10 10l.94 2.06.94-2.06 2.06-.94-2.06-.94-.94-2.06-.94 2.06-2.06.94z\"/><path d=\"M17.41 7.96l-1.37-1.37c-.4-.4-.92-.59-1.43-.59-.52 0-1.04.2-1.43.59L10.3 9.45l-7.72 7.72c-.78.78-.78 2.05 0 2.83L4 21.41c.39.39.9.59 1.41.59.51 0 1.02-.2 1.41-.59l7.78-7.78 2.81-2.81c.8-.78.8-2.07 0-2.86zM5.41 20L4 18.59l7.72-7.72 1.47 1.35L5.41 20z\"/>\n",
              "  </svg>\n",
              "      </button>\n",
              "      \n",
              "  <style>\n",
              "    .colab-df-container {\n",
              "      display:flex;\n",
              "      flex-wrap:wrap;\n",
              "      gap: 12px;\n",
              "    }\n",
              "\n",
              "    .colab-df-convert {\n",
              "      background-color: #E8F0FE;\n",
              "      border: none;\n",
              "      border-radius: 50%;\n",
              "      cursor: pointer;\n",
              "      display: none;\n",
              "      fill: #1967D2;\n",
              "      height: 32px;\n",
              "      padding: 0 0 0 0;\n",
              "      width: 32px;\n",
              "    }\n",
              "\n",
              "    .colab-df-convert:hover {\n",
              "      background-color: #E2EBFA;\n",
              "      box-shadow: 0px 1px 2px rgba(60, 64, 67, 0.3), 0px 1px 3px 1px rgba(60, 64, 67, 0.15);\n",
              "      fill: #174EA6;\n",
              "    }\n",
              "\n",
              "    [theme=dark] .colab-df-convert {\n",
              "      background-color: #3B4455;\n",
              "      fill: #D2E3FC;\n",
              "    }\n",
              "\n",
              "    [theme=dark] .colab-df-convert:hover {\n",
              "      background-color: #434B5C;\n",
              "      box-shadow: 0px 1px 3px 1px rgba(0, 0, 0, 0.15);\n",
              "      filter: drop-shadow(0px 1px 2px rgba(0, 0, 0, 0.3));\n",
              "      fill: #FFFFFF;\n",
              "    }\n",
              "  </style>\n",
              "\n",
              "      <script>\n",
              "        const buttonEl =\n",
              "          document.querySelector('#df-df324ebd-c3fc-4c7d-bb62-17bb9ce555e3 button.colab-df-convert');\n",
              "        buttonEl.style.display =\n",
              "          google.colab.kernel.accessAllowed ? 'block' : 'none';\n",
              "\n",
              "        async function convertToInteractive(key) {\n",
              "          const element = document.querySelector('#df-df324ebd-c3fc-4c7d-bb62-17bb9ce555e3');\n",
              "          const dataTable =\n",
              "            await google.colab.kernel.invokeFunction('convertToInteractive',\n",
              "                                                     [key], {});\n",
              "          if (!dataTable) return;\n",
              "\n",
              "          const docLinkHtml = 'Like what you see? Visit the ' +\n",
              "            '<a target=\"_blank\" href=https://colab.research.google.com/notebooks/data_table.ipynb>data table notebook</a>'\n",
              "            + ' to learn more about interactive tables.';\n",
              "          element.innerHTML = '';\n",
              "          dataTable['output_type'] = 'display_data';\n",
              "          await google.colab.output.renderOutput(dataTable, element);\n",
              "          const docLink = document.createElement('div');\n",
              "          docLink.innerHTML = docLinkHtml;\n",
              "          element.appendChild(docLink);\n",
              "        }\n",
              "      </script>\n",
              "    </div>\n",
              "  </div>\n",
              "  "
            ]
          },
          "metadata": {},
          "execution_count": 36
        }
      ]
    },
    {
      "cell_type": "code",
      "source": [
        "topic_final2[topic_final2['word_lemma'] == 'depression'] # 418\n",
        "topic_final2[topic_final2['word_lemma'] == 'lay'] # 467\n",
        "topic_final2[topic_final2['word_lemma'] == 'traffic'] # 371, 818\n",
        "topic_final2[topic_final2['word_lemma'] == 'undocumente'] # 820"
      ],
      "metadata": {
        "colab": {
          "base_uri": "https://localhost:8080/",
          "height": 81
        },
        "id": "GKLVsp0Nm4Kt",
        "outputId": "6eae0d86-2b7b-4944-fd04-30a671c7de82"
      },
      "execution_count": null,
      "outputs": [
        {
          "output_type": "execute_result",
          "data": {
            "text/plain": [
              "                             topic   word_lemma\n",
              "820  Immigration / border security  undocumente"
            ],
            "text/html": [
              "\n",
              "  <div id=\"df-34b69d84-b6e9-422d-b001-d5d0a0d289d8\">\n",
              "    <div class=\"colab-df-container\">\n",
              "      <div>\n",
              "<style scoped>\n",
              "    .dataframe tbody tr th:only-of-type {\n",
              "        vertical-align: middle;\n",
              "    }\n",
              "\n",
              "    .dataframe tbody tr th {\n",
              "        vertical-align: top;\n",
              "    }\n",
              "\n",
              "    .dataframe thead th {\n",
              "        text-align: right;\n",
              "    }\n",
              "</style>\n",
              "<table border=\"1\" class=\"dataframe\">\n",
              "  <thead>\n",
              "    <tr style=\"text-align: right;\">\n",
              "      <th></th>\n",
              "      <th>topic</th>\n",
              "      <th>word_lemma</th>\n",
              "    </tr>\n",
              "  </thead>\n",
              "  <tbody>\n",
              "    <tr>\n",
              "      <th>820</th>\n",
              "      <td>Immigration / border security</td>\n",
              "      <td>undocumente</td>\n",
              "    </tr>\n",
              "  </tbody>\n",
              "</table>\n",
              "</div>\n",
              "      <button class=\"colab-df-convert\" onclick=\"convertToInteractive('df-34b69d84-b6e9-422d-b001-d5d0a0d289d8')\"\n",
              "              title=\"Convert this dataframe to an interactive table.\"\n",
              "              style=\"display:none;\">\n",
              "        \n",
              "  <svg xmlns=\"http://www.w3.org/2000/svg\" height=\"24px\"viewBox=\"0 0 24 24\"\n",
              "       width=\"24px\">\n",
              "    <path d=\"M0 0h24v24H0V0z\" fill=\"none\"/>\n",
              "    <path d=\"M18.56 5.44l.94 2.06.94-2.06 2.06-.94-2.06-.94-.94-2.06-.94 2.06-2.06.94zm-11 1L8.5 8.5l.94-2.06 2.06-.94-2.06-.94L8.5 2.5l-.94 2.06-2.06.94zm10 10l.94 2.06.94-2.06 2.06-.94-2.06-.94-.94-2.06-.94 2.06-2.06.94z\"/><path d=\"M17.41 7.96l-1.37-1.37c-.4-.4-.92-.59-1.43-.59-.52 0-1.04.2-1.43.59L10.3 9.45l-7.72 7.72c-.78.78-.78 2.05 0 2.83L4 21.41c.39.39.9.59 1.41.59.51 0 1.02-.2 1.41-.59l7.78-7.78 2.81-2.81c.8-.78.8-2.07 0-2.86zM5.41 20L4 18.59l7.72-7.72 1.47 1.35L5.41 20z\"/>\n",
              "  </svg>\n",
              "      </button>\n",
              "      \n",
              "  <style>\n",
              "    .colab-df-container {\n",
              "      display:flex;\n",
              "      flex-wrap:wrap;\n",
              "      gap: 12px;\n",
              "    }\n",
              "\n",
              "    .colab-df-convert {\n",
              "      background-color: #E8F0FE;\n",
              "      border: none;\n",
              "      border-radius: 50%;\n",
              "      cursor: pointer;\n",
              "      display: none;\n",
              "      fill: #1967D2;\n",
              "      height: 32px;\n",
              "      padding: 0 0 0 0;\n",
              "      width: 32px;\n",
              "    }\n",
              "\n",
              "    .colab-df-convert:hover {\n",
              "      background-color: #E2EBFA;\n",
              "      box-shadow: 0px 1px 2px rgba(60, 64, 67, 0.3), 0px 1px 3px 1px rgba(60, 64, 67, 0.15);\n",
              "      fill: #174EA6;\n",
              "    }\n",
              "\n",
              "    [theme=dark] .colab-df-convert {\n",
              "      background-color: #3B4455;\n",
              "      fill: #D2E3FC;\n",
              "    }\n",
              "\n",
              "    [theme=dark] .colab-df-convert:hover {\n",
              "      background-color: #434B5C;\n",
              "      box-shadow: 0px 1px 3px 1px rgba(0, 0, 0, 0.15);\n",
              "      filter: drop-shadow(0px 1px 2px rgba(0, 0, 0, 0.3));\n",
              "      fill: #FFFFFF;\n",
              "    }\n",
              "  </style>\n",
              "\n",
              "      <script>\n",
              "        const buttonEl =\n",
              "          document.querySelector('#df-34b69d84-b6e9-422d-b001-d5d0a0d289d8 button.colab-df-convert');\n",
              "        buttonEl.style.display =\n",
              "          google.colab.kernel.accessAllowed ? 'block' : 'none';\n",
              "\n",
              "        async function convertToInteractive(key) {\n",
              "          const element = document.querySelector('#df-34b69d84-b6e9-422d-b001-d5d0a0d289d8');\n",
              "          const dataTable =\n",
              "            await google.colab.kernel.invokeFunction('convertToInteractive',\n",
              "                                                     [key], {});\n",
              "          if (!dataTable) return;\n",
              "\n",
              "          const docLinkHtml = 'Like what you see? Visit the ' +\n",
              "            '<a target=\"_blank\" href=https://colab.research.google.com/notebooks/data_table.ipynb>data table notebook</a>'\n",
              "            + ' to learn more about interactive tables.';\n",
              "          element.innerHTML = '';\n",
              "          dataTable['output_type'] = 'display_data';\n",
              "          await google.colab.output.renderOutput(dataTable, element);\n",
              "          const docLink = document.createElement('div');\n",
              "          docLink.innerHTML = docLinkHtml;\n",
              "          element.appendChild(docLink);\n",
              "        }\n",
              "      </script>\n",
              "    </div>\n",
              "  </div>\n",
              "  "
            ]
          },
          "metadata": {},
          "execution_count": 37
        }
      ]
    },
    {
      "cell_type": "code",
      "source": [
        "topic_final2[topic_final2['word_lemma'] == 'cap trade '] # 94"
      ],
      "metadata": {
        "colab": {
          "base_uri": "https://localhost:8080/",
          "height": 81
        },
        "id": "sNZeWyeH3GyM",
        "outputId": "e289ec50-209c-46bd-cfb8-fd569d305e41"
      },
      "execution_count": null,
      "outputs": [
        {
          "output_type": "execute_result",
          "data": {
            "text/plain": [
              "             topic  word_lemma\n",
              "94  Climate change  cap trade "
            ],
            "text/html": [
              "\n",
              "  <div id=\"df-230ca05b-3751-49e4-9106-be9834ad9b1b\">\n",
              "    <div class=\"colab-df-container\">\n",
              "      <div>\n",
              "<style scoped>\n",
              "    .dataframe tbody tr th:only-of-type {\n",
              "        vertical-align: middle;\n",
              "    }\n",
              "\n",
              "    .dataframe tbody tr th {\n",
              "        vertical-align: top;\n",
              "    }\n",
              "\n",
              "    .dataframe thead th {\n",
              "        text-align: right;\n",
              "    }\n",
              "</style>\n",
              "<table border=\"1\" class=\"dataframe\">\n",
              "  <thead>\n",
              "    <tr style=\"text-align: right;\">\n",
              "      <th></th>\n",
              "      <th>topic</th>\n",
              "      <th>word_lemma</th>\n",
              "    </tr>\n",
              "  </thead>\n",
              "  <tbody>\n",
              "    <tr>\n",
              "      <th>94</th>\n",
              "      <td>Climate change</td>\n",
              "      <td>cap trade</td>\n",
              "    </tr>\n",
              "  </tbody>\n",
              "</table>\n",
              "</div>\n",
              "      <button class=\"colab-df-convert\" onclick=\"convertToInteractive('df-230ca05b-3751-49e4-9106-be9834ad9b1b')\"\n",
              "              title=\"Convert this dataframe to an interactive table.\"\n",
              "              style=\"display:none;\">\n",
              "        \n",
              "  <svg xmlns=\"http://www.w3.org/2000/svg\" height=\"24px\"viewBox=\"0 0 24 24\"\n",
              "       width=\"24px\">\n",
              "    <path d=\"M0 0h24v24H0V0z\" fill=\"none\"/>\n",
              "    <path d=\"M18.56 5.44l.94 2.06.94-2.06 2.06-.94-2.06-.94-.94-2.06-.94 2.06-2.06.94zm-11 1L8.5 8.5l.94-2.06 2.06-.94-2.06-.94L8.5 2.5l-.94 2.06-2.06.94zm10 10l.94 2.06.94-2.06 2.06-.94-2.06-.94-.94-2.06-.94 2.06-2.06.94z\"/><path d=\"M17.41 7.96l-1.37-1.37c-.4-.4-.92-.59-1.43-.59-.52 0-1.04.2-1.43.59L10.3 9.45l-7.72 7.72c-.78.78-.78 2.05 0 2.83L4 21.41c.39.39.9.59 1.41.59.51 0 1.02-.2 1.41-.59l7.78-7.78 2.81-2.81c.8-.78.8-2.07 0-2.86zM5.41 20L4 18.59l7.72-7.72 1.47 1.35L5.41 20z\"/>\n",
              "  </svg>\n",
              "      </button>\n",
              "      \n",
              "  <style>\n",
              "    .colab-df-container {\n",
              "      display:flex;\n",
              "      flex-wrap:wrap;\n",
              "      gap: 12px;\n",
              "    }\n",
              "\n",
              "    .colab-df-convert {\n",
              "      background-color: #E8F0FE;\n",
              "      border: none;\n",
              "      border-radius: 50%;\n",
              "      cursor: pointer;\n",
              "      display: none;\n",
              "      fill: #1967D2;\n",
              "      height: 32px;\n",
              "      padding: 0 0 0 0;\n",
              "      width: 32px;\n",
              "    }\n",
              "\n",
              "    .colab-df-convert:hover {\n",
              "      background-color: #E2EBFA;\n",
              "      box-shadow: 0px 1px 2px rgba(60, 64, 67, 0.3), 0px 1px 3px 1px rgba(60, 64, 67, 0.15);\n",
              "      fill: #174EA6;\n",
              "    }\n",
              "\n",
              "    [theme=dark] .colab-df-convert {\n",
              "      background-color: #3B4455;\n",
              "      fill: #D2E3FC;\n",
              "    }\n",
              "\n",
              "    [theme=dark] .colab-df-convert:hover {\n",
              "      background-color: #434B5C;\n",
              "      box-shadow: 0px 1px 3px 1px rgba(0, 0, 0, 0.15);\n",
              "      filter: drop-shadow(0px 1px 2px rgba(0, 0, 0, 0.3));\n",
              "      fill: #FFFFFF;\n",
              "    }\n",
              "  </style>\n",
              "\n",
              "      <script>\n",
              "        const buttonEl =\n",
              "          document.querySelector('#df-230ca05b-3751-49e4-9106-be9834ad9b1b button.colab-df-convert');\n",
              "        buttonEl.style.display =\n",
              "          google.colab.kernel.accessAllowed ? 'block' : 'none';\n",
              "\n",
              "        async function convertToInteractive(key) {\n",
              "          const element = document.querySelector('#df-230ca05b-3751-49e4-9106-be9834ad9b1b');\n",
              "          const dataTable =\n",
              "            await google.colab.kernel.invokeFunction('convertToInteractive',\n",
              "                                                     [key], {});\n",
              "          if (!dataTable) return;\n",
              "\n",
              "          const docLinkHtml = 'Like what you see? Visit the ' +\n",
              "            '<a target=\"_blank\" href=https://colab.research.google.com/notebooks/data_table.ipynb>data table notebook</a>'\n",
              "            + ' to learn more about interactive tables.';\n",
              "          element.innerHTML = '';\n",
              "          dataTable['output_type'] = 'display_data';\n",
              "          await google.colab.output.renderOutput(dataTable, element);\n",
              "          const docLink = document.createElement('div');\n",
              "          docLink.innerHTML = docLinkHtml;\n",
              "          element.appendChild(docLink);\n",
              "        }\n",
              "      </script>\n",
              "    </div>\n",
              "  </div>\n",
              "  "
            ]
          },
          "metadata": {},
          "execution_count": 38
        }
      ]
    },
    {
      "cell_type": "code",
      "source": [
        "topic_final2.drop([94, 418,467, 371, 818, 820], axis=0, inplace=True)\n"
      ],
      "metadata": {
        "id": "fNAy6SnKn5HG"
      },
      "execution_count": null,
      "outputs": []
    },
    {
      "cell_type": "code",
      "source": [
        "topic_final2.to_excel('FINAL_topic_words_R2_review.xlsx')"
      ],
      "metadata": {
        "id": "5lY3IiO2myfv"
      },
      "execution_count": null,
      "outputs": []
    },
    {
      "cell_type": "markdown",
      "source": [
        "## mturk review for v2"
      ],
      "metadata": {
        "id": "XLERolTyaquo"
      }
    },
    {
      "cell_type": "code",
      "source": [
        "%cd /content/drive/MyDrive/Georgia/Topic Dictionaries\n",
        "\n",
        "import pandas as pd\n",
        "\n",
        "review_v2 = pd.read_excel('/content/drive/MyDrive/Georgia/Topic Dictionaries/FINAL_sim07_top10_merge.xlsx')"
      ],
      "metadata": {
        "colab": {
          "base_uri": "https://localhost:8080/"
        },
        "id": "ppyOsferau2Y",
        "outputId": "beaf57b5-375d-46ab-fef5-82ccc35a0f82"
      },
      "execution_count": null,
      "outputs": [
        {
          "output_type": "stream",
          "name": "stdout",
          "text": [
            "/content/drive/.shortcut-targets-by-id/1YSQ9BBnwwRu7fyeM_9V6eoFgKQBPl4Rr/Georgia/Topic Dictionaries\n"
          ]
        }
      ]
    },
    {
      "cell_type": "code",
      "source": [
        "review_v2_review = review_v2[ (review_v2['FINAL_ADD']==1)]"
      ],
      "metadata": {
        "id": "XTEt6QXkbS8M"
      },
      "execution_count": null,
      "outputs": []
    },
    {
      "cell_type": "code",
      "source": [
        "review_v2_review_st = review_v2_review[['similar_word', 'topic']]"
      ],
      "metadata": {
        "id": "RvsmSZJnbwhq"
      },
      "execution_count": null,
      "outputs": []
    },
    {
      "cell_type": "code",
      "source": [
        "len(review_v2_review_st)"
      ],
      "metadata": {
        "colab": {
          "base_uri": "https://localhost:8080/"
        },
        "id": "QhzmeVI27cZQ",
        "outputId": "22b47856-2a1c-48b7-e630-8e82761e21aa"
      },
      "execution_count": null,
      "outputs": [
        {
          "output_type": "execute_result",
          "data": {
            "text/plain": [
              "317"
            ]
          },
          "metadata": {},
          "execution_count": 19
        }
      ]
    },
    {
      "cell_type": "markdown",
      "source": [
        "## find example sentences"
      ],
      "metadata": {
        "id": "uvAgji2wq_Tk"
      }
    },
    {
      "cell_type": "code",
      "source": [
        "import pandas as pd\n",
        "\n",
        "df = pd.read_pickle('/content/drive/MyDrive/Georgia/Web Scraping/Georgia_data_v2_translation_ner2_lem.pkl')\n"
      ],
      "metadata": {
        "id": "wZS2vHekr3Wx"
      },
      "execution_count": null,
      "outputs": []
    },
    {
      "cell_type": "code",
      "source": [
        "len(df[df['article_lemma_num'].isnull()])"
      ],
      "metadata": {
        "colab": {
          "base_uri": "https://localhost:8080/"
        },
        "id": "nX0zdcERdMjY",
        "outputId": "c3fead07-52cb-4b20-85c7-917d26721bec"
      },
      "execution_count": null,
      "outputs": [
        {
          "output_type": "execute_result",
          "data": {
            "text/plain": [
              "0"
            ]
          },
          "metadata": {},
          "execution_count": 8
        }
      ]
    },
    {
      "cell_type": "markdown",
      "source": [
        "### round 1"
      ],
      "metadata": {
        "id": "-vML6pTCc1zO"
      }
    },
    {
      "cell_type": "code",
      "source": [
        "topic_final2 = pd.read_excel('FINAL_topic_words_R2_review.xlsx')"
      ],
      "metadata": {
        "id": "O1mBGy6OrszW"
      },
      "execution_count": null,
      "outputs": []
    },
    {
      "cell_type": "code",
      "source": [
        "topic_final2.rename(columns={'word_lemma': 'topic_ng'}, inplace=True)\n"
      ],
      "metadata": {
        "id": "2NNGJ1BLuQxB"
      },
      "execution_count": null,
      "outputs": []
    },
    {
      "cell_type": "code",
      "source": [
        "topic_final2 = topic_final2[['topic','topic_ng']].drop_duplicates() # 933"
      ],
      "metadata": {
        "id": "qbmXcO2sr60o"
      },
      "execution_count": null,
      "outputs": []
    },
    {
      "cell_type": "code",
      "source": [
        "topic_final2 = topic_final2[topic_final2['topic_ng'] != 'choice'] # remove choice \n"
      ],
      "metadata": {
        "id": "mZu4jOhETY6_"
      },
      "execution_count": null,
      "outputs": []
    },
    {
      "cell_type": "markdown",
      "source": [
        "### round 2"
      ],
      "metadata": {
        "id": "ppkRdw_bc6EJ"
      }
    },
    {
      "cell_type": "code",
      "source": [
        "review_v2_review_st = review_v2_review[['similar_word', 'topic']]\n",
        "review_v2_review_st.rename(columns={'similar_word': 'topic_ng'}, inplace=True)\n",
        "review_v2_review_st = review_v2_review_st[['topic','topic_ng']].drop_duplicates() # 313"
      ],
      "metadata": {
        "colab": {
          "base_uri": "https://localhost:8080/"
        },
        "id": "eFbAwjDbc_Qm",
        "outputId": "76b44ac9-9075-4e62-e3a8-2c153eb60380"
      },
      "execution_count": null,
      "outputs": [
        {
          "output_type": "stream",
          "name": "stderr",
          "text": [
            "/usr/local/lib/python3.9/dist-packages/pandas/core/frame.py:5039: SettingWithCopyWarning: \n",
            "A value is trying to be set on a copy of a slice from a DataFrame\n",
            "\n",
            "See the caveats in the documentation: https://pandas.pydata.org/pandas-docs/stable/user_guide/indexing.html#returning-a-view-versus-a-copy\n",
            "  return super().rename(\n"
          ]
        }
      ]
    },
    {
      "cell_type": "code",
      "source": [
        "len(review_v2_review_st)"
      ],
      "metadata": {
        "colab": {
          "base_uri": "https://localhost:8080/"
        },
        "id": "39CS08m-dGiH",
        "outputId": "f9b03290-a29c-4d0c-afd6-f17cc3f1b507"
      },
      "execution_count": null,
      "outputs": [
        {
          "output_type": "execute_result",
          "data": {
            "text/plain": [
              "313"
            ]
          },
          "metadata": {},
          "execution_count": 21
        }
      ]
    },
    {
      "cell_type": "code",
      "source": [
        "\n",
        "import re\n",
        "\n",
        "def bigrams(s):\n",
        "    return [i for i in s if re.search(r'\\s', i) ]\n",
        "  \n",
        "def unigrams(s):\n",
        "    return [i for i in s if not re.search(r'\\s', i) ]\n",
        "\n",
        "\n",
        "topic_words = list(set(review_v2_review_st['topic_ng'].tolist()))\n",
        "\n",
        "word_bigrams_done = list(set(bigrams(topic_words)))\n",
        "print(word_bigrams_done)\n",
        "print(len(word_bigrams_done))\n",
        "                       \n",
        "word_unigrams_done = unigrams(topic_words)\n",
        "print(word_unigrams_done)\n",
        "print(len(word_unigrams_done))"
      ],
      "metadata": {
        "colab": {
          "base_uri": "https://localhost:8080/"
        },
        "id": "8yjQCf7grpgq",
        "outputId": "70f39212-7269-465c-d81d-c41d55a40093"
      },
      "execution_count": null,
      "outputs": [
        {
          "output_type": "stream",
          "name": "stdout",
          "text": [
            "['gas emission', 'source methane', 'emergency contraception', 'taxable income', 'conspiracy commit', 'illegally enter', 'reverence life', 'growth slow', 'anxiety screening', 'request asylum', 'venous thromboembolism', 'foreign national', 'arm dealer', 'death penalty', 'delta variant', 'blood thinner', 'certify presidential', 'brittany fonteno', 'coral reef', 'supply shortage', 'fda approve', 'deficit reduction', 'bodily autonomy', 'enroll medicare', 'arm trafficking', 'accusation sexual', 'dismiss illegitimate', 'knee surgery', 'unplanned pregnancy', 'break in', 'abbott bus', 'legal pathway', 'corona 19', 'financial institution', 'sleep habit', 'equity diversity', 'racial disparity', 'aggravate battery', 'american academy', 'attempt overturn', 'charge aggravated', 'birth defect', 'cost effective', 'gang relate', 'cognitive impairment', 'arrest allegedly', 'southern border', 'wildfire smoke', 'stock index', 'hearing aid', 'consumer spending', 'border mexico', 'primary caregiver', 'stock bond', 'possession methamphetamine', 'coal fire', 'central bank', 'practice disproportionately', 'armed dangerous', 'assault battery', 'treasury yield', 'felony warrant', 'double mastectomy', 'fed raise', 'count aggravated', 'nuclear plant', 'methane emission', 'immigrate us', 'cut taxis', 'gender transition', 'espionage act', 'housing affordability', 'price soar', 'citizenship immigration', 'suicide bombing', 'retirement saving', 'migrant cross', 'burglary suspect', 'pension fund', 'americans disability', 'repeatedly punch', 'animal cruelty', 'independent contractor', 'equitable inclusive', 'death sentence', 'food stamp', 'seasonal depression', 'erosion control', 'drug alcohol', 'opioid addiction', 'cleveland clinic', 'fed chair', 'fifth grader', 'cognitive behavioral', '10th grade', 'atrial fibrillation', 'educational institution', 'elementary middle', 'drug addict', 'anxiety depression', 'coinsurance copayment', 'oath allegiance', 'illegally cross', 'cell metabolism', 'riot capitol', 'legal status', 'price gasoline', 'agricultural land', 'breast milk', 'deadly mass', 'apply asylum', 'brain damage', 'nuclear power', 'vulnerable specie', 'commit theft', 'life unborn', 'possession intent', 'plastic surgery', 'private equity', 'electoral process', 'threat democracy', 'cancer diagnosis', 'raise interest', 'protest racial', 'pay upfront', 'dental care', 'monoclonal antibody', 'post traumatic', 'high schooler', 'mri scan', 'bodily injury', 'treasury department', 'personhood law', 'surgical procedure', 'housing shortage', 'mobile clinic', 'perform cpr', 'qualified staffing', 'semiautomatic rifle', 'birth control', 'accuse kill', 'assault weapon', 'shortage affordable', 'access reproductive', 'carbon pipeline', 'unwanted pregnancy', 'income household', 'tuition fee', 'bottled water', 'borrower creditworthiness', 'water conservation', 'capitol breach', 'chronic illness', 'jan 6', 'private insurer', 'sleep duration', 'illicit market', 'doctorate degree', 'ethanol plant', 'defer action', 'drug smuggling', 'kindergarten class', 'sanctuary city', 'assault possession', 'illegally possess', 'stress disorder', 'border security', 'inflation fed', 'wealth gap', 'possess intent', 'hike interest', 'supply demand', 'suspect custody', 'goldman sachs', 'ivy league', 'indecent exposure', 'occupational therapist', 'autoimmune disease', 'nato visa', 'water contaminate', 'healthy lifestyle']\n",
            "181\n",
            "['racialize', 'bullet', 'urology', 'psychosocial', 'neurosurgeon', 'payday', 'remission', 'nih', 'carjacker', 'sanofi', 'aquifer', 'adhd', 'kaiser', 'orthopedic', 'optometrist', 'foreclosure', 'payable', 'lethal', 'blackmail', 'aluminum', 'cortisone', 'surgical', 'methane', 'ib', 'neurologist', 'ebt', 'tif', 'aap', 'audit', 'refinance', 'discretionary', 'anticancer', 'cancer', 'otc', 'schizophrenia', 'erosion', 'cost', 'hbcu', 'diversification', 'ect', 'undergrad', 'tutoring', 'endangered', 'lumpectomy', 'instructional', 'ba45', 'castration', 'greenhouse', 'psychiatry', 'osteoporosis', 'inflation', 'fetal', 'obstetrician', 'asylum', 'developer', 'criminally', 'pregnant', 'migrate', 'apartment', 'rainforest', 'molestation', 'deductible', 'immigrate', 'physiological', 'steal', 'blm', 'discrimination', 'depletion', 'cardiomyopathy', 'poverty', 'ghgs', 'homebuyer', 'kill', 'pacemaker', 'combustion', 'agriculture', 'mri', 'ba46', 'nursing', 'surplus', 'funding', 'coastline', 'ak47', 'disabled', 'atmospheric', 'prejudicial', 'coal', 'embryo', 'authoritarian', 'business', 'racketeering', 'subdivision', 'scar', 'disenfranchisement', 'antidepressant', 'genocide', 'audits', 'orthopaedic', 'reuse', 'copd', 'alcoholism', 'infectious', 'stretcher', 'instruction', 'biomass', 'taxation', 'strangle', 'repatriation', 'injury', 'prognosis', 'endocrinologist', 'schooling', 'thyroidectomy', 'embezzlement', 'overdraft', 'psychology', 'shooting', 'ventilator', 'insomnia', 'legally', 'adderall', 'marginalization', 'wastewater', 'hospital', 'pregnancy', 'vacant', 'schizophrenic', 'menstruation']\n",
            "128\n"
          ]
        }
      ]
    },
    {
      "cell_type": "code",
      "source": [
        "\n",
        "import numpy as np\n",
        "\n",
        "df['topic_ng1'] = df['article_lemma_num'].astype(str).apply(lambda x: set.intersection(set(x.split(' ')), word_unigrams_done))\n",
        "df['topic_ng2'] = df['article_lemma_num'].astype(str).apply(lambda x: [i for i in word_bigrams_done if i in x])\n"
      ],
      "metadata": {
        "id": "zhPMTw_Ypge0"
      },
      "execution_count": null,
      "outputs": []
    },
    {
      "cell_type": "code",
      "source": [
        "df.sample(3)"
      ],
      "metadata": {
        "colab": {
          "base_uri": "https://localhost:8080/",
          "height": 433
        },
        "id": "WsEv3y-tdcBm",
        "outputId": "749c2964-0e7f-4b8d-8014-abd509a66856"
      },
      "execution_count": null,
      "outputs": [
        {
          "output_type": "execute_result",
          "data": {
            "text/plain": [
              "                              source  \\\n",
              "30481   Polk County Standard Journal   \n",
              "1796         Douglas County Sentinel   \n",
              "125048               WAGA TV 5 (Fox)   \n",
              "\n",
              "                                                  website  \\\n",
              "30481   http://www.northwestgeorgianews.com/polkfishwrap/   \n",
              "1796                http://www.douglascountysentinel.com/   \n",
              "125048                       http://www.myfoxatlanta.com/   \n",
              "\n",
              "                                              article_url  \\\n",
              "30481   https://www.northwestgeorgianews.com/fieldleve...   \n",
              "1796    https://www.douglascountysentinel.com/lifestyl...   \n",
              "125048  https://www.fox5atlanta.com/news/shaw-universi...   \n",
              "\n",
              "                                            article_title  \\\n",
              "30481   Bret Bielema faces old team, Illinois visits W...   \n",
              "1796    AI Could Improve Diagnostic Accuracy of Breast...   \n",
              "125048  Shaw University students stopped, searched in ...   \n",
              "\n",
              "                    article_author date_published  \\\n",
              "30481            Field Level Media     2022-09-26   \n",
              "1796    Physician’s Briefing Staff     2022-10-07   \n",
              "125048  FOX 5 Atlanta Digital Team     2022-10-11   \n",
              "\n",
              "                                               ner_places  \\\n",
              "30481   {'Italy (GPE)', 'Canada (GPE)', 'Republic of I...   \n",
              "1796    {'New York City (GPE)', 'Ph.D. (GPE)', 'Poland...   \n",
              "125048  {'Atlanta (GPE)', 'Raleigh (GPE)', 'North Caro...   \n",
              "\n",
              "                                        article_lemma_num  \\\n",
              "30481   country united states america virgin islands u...   \n",
              "1796    friday oct 7 2022 healthday news deep learning...   \n",
              "125048  article exterior shaw university locate raleig...   \n",
              "\n",
              "                                            article_final  translation_YN  \\\n",
              "30481   Country United States of America US Virgin Isl...               0   \n",
              "1796    FRIDAY, Oct. 7, 2022 (HealthDay News) -- A dee...               0   \n",
              "125048  article Exterior of Shaw University, located i...               0   \n",
              "\n",
              "            id                                           ner_orgs  \\\n",
              "30481    30482  {'Grand Duchy of Macao (ORG)', 'Republic of Bo...   \n",
              "1796      1797  {'Science Translational Medicine (ORG)', 'BI-R...   \n",
              "125048  125049  {'Shaw University (ORG)', 'the Center for Fina...   \n",
              "\n",
              "            topic_ng1           topic_ng2  \n",
              "30481              {}                  []  \n",
              "1796    {cancer, mri}  [cancer diagnosis]  \n",
              "125048             {}                  []  "
            ],
            "text/html": [
              "\n",
              "  <div id=\"df-76257451-799b-4541-8fdc-238731f64b13\">\n",
              "    <div class=\"colab-df-container\">\n",
              "      <div>\n",
              "<style scoped>\n",
              "    .dataframe tbody tr th:only-of-type {\n",
              "        vertical-align: middle;\n",
              "    }\n",
              "\n",
              "    .dataframe tbody tr th {\n",
              "        vertical-align: top;\n",
              "    }\n",
              "\n",
              "    .dataframe thead th {\n",
              "        text-align: right;\n",
              "    }\n",
              "</style>\n",
              "<table border=\"1\" class=\"dataframe\">\n",
              "  <thead>\n",
              "    <tr style=\"text-align: right;\">\n",
              "      <th></th>\n",
              "      <th>source</th>\n",
              "      <th>website</th>\n",
              "      <th>article_url</th>\n",
              "      <th>article_title</th>\n",
              "      <th>article_author</th>\n",
              "      <th>date_published</th>\n",
              "      <th>ner_places</th>\n",
              "      <th>article_lemma_num</th>\n",
              "      <th>article_final</th>\n",
              "      <th>translation_YN</th>\n",
              "      <th>id</th>\n",
              "      <th>ner_orgs</th>\n",
              "      <th>topic_ng1</th>\n",
              "      <th>topic_ng2</th>\n",
              "    </tr>\n",
              "  </thead>\n",
              "  <tbody>\n",
              "    <tr>\n",
              "      <th>30481</th>\n",
              "      <td>Polk County Standard Journal</td>\n",
              "      <td>http://www.northwestgeorgianews.com/polkfishwrap/</td>\n",
              "      <td>https://www.northwestgeorgianews.com/fieldleve...</td>\n",
              "      <td>Bret Bielema faces old team, Illinois visits W...</td>\n",
              "      <td>Field Level Media</td>\n",
              "      <td>2022-09-26</td>\n",
              "      <td>{'Italy (GPE)', 'Canada (GPE)', 'Republic of I...</td>\n",
              "      <td>country united states america virgin islands u...</td>\n",
              "      <td>Country United States of America US Virgin Isl...</td>\n",
              "      <td>0</td>\n",
              "      <td>30482</td>\n",
              "      <td>{'Grand Duchy of Macao (ORG)', 'Republic of Bo...</td>\n",
              "      <td>{}</td>\n",
              "      <td>[]</td>\n",
              "    </tr>\n",
              "    <tr>\n",
              "      <th>1796</th>\n",
              "      <td>Douglas County Sentinel</td>\n",
              "      <td>http://www.douglascountysentinel.com/</td>\n",
              "      <td>https://www.douglascountysentinel.com/lifestyl...</td>\n",
              "      <td>AI Could Improve Diagnostic Accuracy of Breast...</td>\n",
              "      <td>Physician’s Briefing Staff</td>\n",
              "      <td>2022-10-07</td>\n",
              "      <td>{'New York City (GPE)', 'Ph.D. (GPE)', 'Poland...</td>\n",
              "      <td>friday oct 7 2022 healthday news deep learning...</td>\n",
              "      <td>FRIDAY, Oct. 7, 2022 (HealthDay News) -- A dee...</td>\n",
              "      <td>0</td>\n",
              "      <td>1797</td>\n",
              "      <td>{'Science Translational Medicine (ORG)', 'BI-R...</td>\n",
              "      <td>{cancer, mri}</td>\n",
              "      <td>[cancer diagnosis]</td>\n",
              "    </tr>\n",
              "    <tr>\n",
              "      <th>125048</th>\n",
              "      <td>WAGA TV 5 (Fox)</td>\n",
              "      <td>http://www.myfoxatlanta.com/</td>\n",
              "      <td>https://www.fox5atlanta.com/news/shaw-universi...</td>\n",
              "      <td>Shaw University students stopped, searched in ...</td>\n",
              "      <td>FOX 5 Atlanta Digital Team</td>\n",
              "      <td>2022-10-11</td>\n",
              "      <td>{'Atlanta (GPE)', 'Raleigh (GPE)', 'North Caro...</td>\n",
              "      <td>article exterior shaw university locate raleig...</td>\n",
              "      <td>article Exterior of Shaw University, located i...</td>\n",
              "      <td>0</td>\n",
              "      <td>125049</td>\n",
              "      <td>{'Shaw University (ORG)', 'the Center for Fina...</td>\n",
              "      <td>{}</td>\n",
              "      <td>[]</td>\n",
              "    </tr>\n",
              "  </tbody>\n",
              "</table>\n",
              "</div>\n",
              "      <button class=\"colab-df-convert\" onclick=\"convertToInteractive('df-76257451-799b-4541-8fdc-238731f64b13')\"\n",
              "              title=\"Convert this dataframe to an interactive table.\"\n",
              "              style=\"display:none;\">\n",
              "        \n",
              "  <svg xmlns=\"http://www.w3.org/2000/svg\" height=\"24px\"viewBox=\"0 0 24 24\"\n",
              "       width=\"24px\">\n",
              "    <path d=\"M0 0h24v24H0V0z\" fill=\"none\"/>\n",
              "    <path d=\"M18.56 5.44l.94 2.06.94-2.06 2.06-.94-2.06-.94-.94-2.06-.94 2.06-2.06.94zm-11 1L8.5 8.5l.94-2.06 2.06-.94-2.06-.94L8.5 2.5l-.94 2.06-2.06.94zm10 10l.94 2.06.94-2.06 2.06-.94-2.06-.94-.94-2.06-.94 2.06-2.06.94z\"/><path d=\"M17.41 7.96l-1.37-1.37c-.4-.4-.92-.59-1.43-.59-.52 0-1.04.2-1.43.59L10.3 9.45l-7.72 7.72c-.78.78-.78 2.05 0 2.83L4 21.41c.39.39.9.59 1.41.59.51 0 1.02-.2 1.41-.59l7.78-7.78 2.81-2.81c.8-.78.8-2.07 0-2.86zM5.41 20L4 18.59l7.72-7.72 1.47 1.35L5.41 20z\"/>\n",
              "  </svg>\n",
              "      </button>\n",
              "      \n",
              "  <style>\n",
              "    .colab-df-container {\n",
              "      display:flex;\n",
              "      flex-wrap:wrap;\n",
              "      gap: 12px;\n",
              "    }\n",
              "\n",
              "    .colab-df-convert {\n",
              "      background-color: #E8F0FE;\n",
              "      border: none;\n",
              "      border-radius: 50%;\n",
              "      cursor: pointer;\n",
              "      display: none;\n",
              "      fill: #1967D2;\n",
              "      height: 32px;\n",
              "      padding: 0 0 0 0;\n",
              "      width: 32px;\n",
              "    }\n",
              "\n",
              "    .colab-df-convert:hover {\n",
              "      background-color: #E2EBFA;\n",
              "      box-shadow: 0px 1px 2px rgba(60, 64, 67, 0.3), 0px 1px 3px 1px rgba(60, 64, 67, 0.15);\n",
              "      fill: #174EA6;\n",
              "    }\n",
              "\n",
              "    [theme=dark] .colab-df-convert {\n",
              "      background-color: #3B4455;\n",
              "      fill: #D2E3FC;\n",
              "    }\n",
              "\n",
              "    [theme=dark] .colab-df-convert:hover {\n",
              "      background-color: #434B5C;\n",
              "      box-shadow: 0px 1px 3px 1px rgba(0, 0, 0, 0.15);\n",
              "      filter: drop-shadow(0px 1px 2px rgba(0, 0, 0, 0.3));\n",
              "      fill: #FFFFFF;\n",
              "    }\n",
              "  </style>\n",
              "\n",
              "      <script>\n",
              "        const buttonEl =\n",
              "          document.querySelector('#df-76257451-799b-4541-8fdc-238731f64b13 button.colab-df-convert');\n",
              "        buttonEl.style.display =\n",
              "          google.colab.kernel.accessAllowed ? 'block' : 'none';\n",
              "\n",
              "        async function convertToInteractive(key) {\n",
              "          const element = document.querySelector('#df-76257451-799b-4541-8fdc-238731f64b13');\n",
              "          const dataTable =\n",
              "            await google.colab.kernel.invokeFunction('convertToInteractive',\n",
              "                                                     [key], {});\n",
              "          if (!dataTable) return;\n",
              "\n",
              "          const docLinkHtml = 'Like what you see? Visit the ' +\n",
              "            '<a target=\"_blank\" href=https://colab.research.google.com/notebooks/data_table.ipynb>data table notebook</a>'\n",
              "            + ' to learn more about interactive tables.';\n",
              "          element.innerHTML = '';\n",
              "          dataTable['output_type'] = 'display_data';\n",
              "          await google.colab.output.renderOutput(dataTable, element);\n",
              "          const docLink = document.createElement('div');\n",
              "          docLink.innerHTML = docLinkHtml;\n",
              "          element.appendChild(docLink);\n",
              "        }\n",
              "      </script>\n",
              "    </div>\n",
              "  </div>\n",
              "  "
            ]
          },
          "metadata": {},
          "execution_count": 24
        }
      ]
    },
    {
      "cell_type": "code",
      "source": [
        "\n",
        "text_df_uni = df[(df['topic_ng1'].str.len()) > 0]\n",
        "text_df_bi = df[(df['topic_ng2'].str.len()) > 0]\n",
        "\n",
        "text_df_uni = text_df_uni[['id', 'source', 'article_final', 'topic_ng1']]\n",
        "text_df_bi = text_df_bi[['id', 'source','article_final', 'topic_ng2']]\n",
        "\n",
        "text_df_uni_df = text_df_uni.explode('topic_ng1')\n",
        "text_df_bi_df = text_df_bi.explode('topic_ng2')\n",
        "\n",
        "text_df_uni_df = text_df_uni_df.rename(columns={'topic_ng1': 'topic_ng'})\n",
        "text_df_bi_df = text_df_bi_df.rename(columns={'topic_ng2': 'topic_ng'})\n",
        "\n",
        "text_df_ng_all = pd.concat([text_df_uni_df, text_df_bi_df])\n",
        "\n"
      ],
      "metadata": {
        "id": "btr5QPVHsOvM"
      },
      "execution_count": null,
      "outputs": []
    },
    {
      "cell_type": "code",
      "source": [
        "text_df_ng_all = pd.merge(text_df_ng_all, review_v2_review_st, how='left', on = 'topic_ng')"
      ],
      "metadata": {
        "id": "hovRE3jCuMQZ"
      },
      "execution_count": null,
      "outputs": []
    },
    {
      "cell_type": "code",
      "source": [
        "text_df_ng_all # three words missing"
      ],
      "metadata": {
        "colab": {
          "base_uri": "https://localhost:8080/",
          "height": 424
        },
        "id": "BSTe2mXFTKbT",
        "outputId": "52a6b81d-584f-475b-e6e3-096f513fd720"
      },
      "execution_count": null,
      "outputs": [
        {
          "output_type": "execute_result",
          "data": {
            "text/plain": [
              "            id       source  \\\n",
              "0       173704    285 South   \n",
              "1       173702    285 South   \n",
              "2       173703    285 South   \n",
              "3       173705    285 South   \n",
              "4       173705    285 South   \n",
              "...        ...          ...   \n",
              "102757    3813  WQXI AM 790   \n",
              "102758    3813  WQXI AM 790   \n",
              "102759    3814  WQXI AM 790   \n",
              "102760    3815  WQXI AM 790   \n",
              "102761    3815  WQXI AM 790   \n",
              "\n",
              "                                            article_final        topic_ng  \\\n",
              "0       The GOP effort to court Hispanic voters: Repub...        shooting   \n",
              "1       The Guatemalan population in Georgia has almos...         migrate   \n",
              "2       It\\u2019s a busy month - lots of fundraisers a...        business   \n",
              "3       Sara Naqvi, publisher of the blog The Pakistan...        business   \n",
              "4       Sara Naqvi, publisher of the blog The Pakistan...       immigrate   \n",
              "...                                                   ...             ...   \n",
              "102757  Mi, 3 consecutive Giant Step… Return to the RO...       fed raise   \n",
              "102758  Mi, 3 consecutive Giant Step… Return to the RO...  raise interest   \n",
              "102759  2022 Fiscal year, more than 2 million immigran...   migrant cross   \n",
              "102760  The Fed's Economic Analyst is a 0.75 point inc...       fed raise   \n",
              "102761  The Fed's Economic Analyst is a 0.75 point inc...  raise interest   \n",
              "\n",
              "                                topic  \n",
              "0                                Guns  \n",
              "1       Immigration / border security  \n",
              "2                      Economy / Jobs  \n",
              "3                      Economy / Jobs  \n",
              "4       Immigration / border security  \n",
              "...                               ...  \n",
              "102757                 Economy / Jobs  \n",
              "102758                 Economy / Jobs  \n",
              "102759  Immigration / border security  \n",
              "102760                 Economy / Jobs  \n",
              "102761                 Economy / Jobs  \n",
              "\n",
              "[102762 rows x 5 columns]"
            ],
            "text/html": [
              "\n",
              "  <div id=\"df-f158b47a-4c68-4c5a-add3-0bd87b57c436\">\n",
              "    <div class=\"colab-df-container\">\n",
              "      <div>\n",
              "<style scoped>\n",
              "    .dataframe tbody tr th:only-of-type {\n",
              "        vertical-align: middle;\n",
              "    }\n",
              "\n",
              "    .dataframe tbody tr th {\n",
              "        vertical-align: top;\n",
              "    }\n",
              "\n",
              "    .dataframe thead th {\n",
              "        text-align: right;\n",
              "    }\n",
              "</style>\n",
              "<table border=\"1\" class=\"dataframe\">\n",
              "  <thead>\n",
              "    <tr style=\"text-align: right;\">\n",
              "      <th></th>\n",
              "      <th>id</th>\n",
              "      <th>source</th>\n",
              "      <th>article_final</th>\n",
              "      <th>topic_ng</th>\n",
              "      <th>topic</th>\n",
              "    </tr>\n",
              "  </thead>\n",
              "  <tbody>\n",
              "    <tr>\n",
              "      <th>0</th>\n",
              "      <td>173704</td>\n",
              "      <td>285 South</td>\n",
              "      <td>The GOP effort to court Hispanic voters: Repub...</td>\n",
              "      <td>shooting</td>\n",
              "      <td>Guns</td>\n",
              "    </tr>\n",
              "    <tr>\n",
              "      <th>1</th>\n",
              "      <td>173702</td>\n",
              "      <td>285 South</td>\n",
              "      <td>The Guatemalan population in Georgia has almos...</td>\n",
              "      <td>migrate</td>\n",
              "      <td>Immigration / border security</td>\n",
              "    </tr>\n",
              "    <tr>\n",
              "      <th>2</th>\n",
              "      <td>173703</td>\n",
              "      <td>285 South</td>\n",
              "      <td>It\\u2019s a busy month - lots of fundraisers a...</td>\n",
              "      <td>business</td>\n",
              "      <td>Economy / Jobs</td>\n",
              "    </tr>\n",
              "    <tr>\n",
              "      <th>3</th>\n",
              "      <td>173705</td>\n",
              "      <td>285 South</td>\n",
              "      <td>Sara Naqvi, publisher of the blog The Pakistan...</td>\n",
              "      <td>business</td>\n",
              "      <td>Economy / Jobs</td>\n",
              "    </tr>\n",
              "    <tr>\n",
              "      <th>4</th>\n",
              "      <td>173705</td>\n",
              "      <td>285 South</td>\n",
              "      <td>Sara Naqvi, publisher of the blog The Pakistan...</td>\n",
              "      <td>immigrate</td>\n",
              "      <td>Immigration / border security</td>\n",
              "    </tr>\n",
              "    <tr>\n",
              "      <th>...</th>\n",
              "      <td>...</td>\n",
              "      <td>...</td>\n",
              "      <td>...</td>\n",
              "      <td>...</td>\n",
              "      <td>...</td>\n",
              "    </tr>\n",
              "    <tr>\n",
              "      <th>102757</th>\n",
              "      <td>3813</td>\n",
              "      <td>WQXI AM 790</td>\n",
              "      <td>Mi, 3 consecutive Giant Step… Return to the RO...</td>\n",
              "      <td>fed raise</td>\n",
              "      <td>Economy / Jobs</td>\n",
              "    </tr>\n",
              "    <tr>\n",
              "      <th>102758</th>\n",
              "      <td>3813</td>\n",
              "      <td>WQXI AM 790</td>\n",
              "      <td>Mi, 3 consecutive Giant Step… Return to the RO...</td>\n",
              "      <td>raise interest</td>\n",
              "      <td>Economy / Jobs</td>\n",
              "    </tr>\n",
              "    <tr>\n",
              "      <th>102759</th>\n",
              "      <td>3814</td>\n",
              "      <td>WQXI AM 790</td>\n",
              "      <td>2022 Fiscal year, more than 2 million immigran...</td>\n",
              "      <td>migrant cross</td>\n",
              "      <td>Immigration / border security</td>\n",
              "    </tr>\n",
              "    <tr>\n",
              "      <th>102760</th>\n",
              "      <td>3815</td>\n",
              "      <td>WQXI AM 790</td>\n",
              "      <td>The Fed's Economic Analyst is a 0.75 point inc...</td>\n",
              "      <td>fed raise</td>\n",
              "      <td>Economy / Jobs</td>\n",
              "    </tr>\n",
              "    <tr>\n",
              "      <th>102761</th>\n",
              "      <td>3815</td>\n",
              "      <td>WQXI AM 790</td>\n",
              "      <td>The Fed's Economic Analyst is a 0.75 point inc...</td>\n",
              "      <td>raise interest</td>\n",
              "      <td>Economy / Jobs</td>\n",
              "    </tr>\n",
              "  </tbody>\n",
              "</table>\n",
              "<p>102762 rows × 5 columns</p>\n",
              "</div>\n",
              "      <button class=\"colab-df-convert\" onclick=\"convertToInteractive('df-f158b47a-4c68-4c5a-add3-0bd87b57c436')\"\n",
              "              title=\"Convert this dataframe to an interactive table.\"\n",
              "              style=\"display:none;\">\n",
              "        \n",
              "  <svg xmlns=\"http://www.w3.org/2000/svg\" height=\"24px\"viewBox=\"0 0 24 24\"\n",
              "       width=\"24px\">\n",
              "    <path d=\"M0 0h24v24H0V0z\" fill=\"none\"/>\n",
              "    <path d=\"M18.56 5.44l.94 2.06.94-2.06 2.06-.94-2.06-.94-.94-2.06-.94 2.06-2.06.94zm-11 1L8.5 8.5l.94-2.06 2.06-.94-2.06-.94L8.5 2.5l-.94 2.06-2.06.94zm10 10l.94 2.06.94-2.06 2.06-.94-2.06-.94-.94-2.06-.94 2.06-2.06.94z\"/><path d=\"M17.41 7.96l-1.37-1.37c-.4-.4-.92-.59-1.43-.59-.52 0-1.04.2-1.43.59L10.3 9.45l-7.72 7.72c-.78.78-.78 2.05 0 2.83L4 21.41c.39.39.9.59 1.41.59.51 0 1.02-.2 1.41-.59l7.78-7.78 2.81-2.81c.8-.78.8-2.07 0-2.86zM5.41 20L4 18.59l7.72-7.72 1.47 1.35L5.41 20z\"/>\n",
              "  </svg>\n",
              "      </button>\n",
              "      \n",
              "  <style>\n",
              "    .colab-df-container {\n",
              "      display:flex;\n",
              "      flex-wrap:wrap;\n",
              "      gap: 12px;\n",
              "    }\n",
              "\n",
              "    .colab-df-convert {\n",
              "      background-color: #E8F0FE;\n",
              "      border: none;\n",
              "      border-radius: 50%;\n",
              "      cursor: pointer;\n",
              "      display: none;\n",
              "      fill: #1967D2;\n",
              "      height: 32px;\n",
              "      padding: 0 0 0 0;\n",
              "      width: 32px;\n",
              "    }\n",
              "\n",
              "    .colab-df-convert:hover {\n",
              "      background-color: #E2EBFA;\n",
              "      box-shadow: 0px 1px 2px rgba(60, 64, 67, 0.3), 0px 1px 3px 1px rgba(60, 64, 67, 0.15);\n",
              "      fill: #174EA6;\n",
              "    }\n",
              "\n",
              "    [theme=dark] .colab-df-convert {\n",
              "      background-color: #3B4455;\n",
              "      fill: #D2E3FC;\n",
              "    }\n",
              "\n",
              "    [theme=dark] .colab-df-convert:hover {\n",
              "      background-color: #434B5C;\n",
              "      box-shadow: 0px 1px 3px 1px rgba(0, 0, 0, 0.15);\n",
              "      filter: drop-shadow(0px 1px 2px rgba(0, 0, 0, 0.3));\n",
              "      fill: #FFFFFF;\n",
              "    }\n",
              "  </style>\n",
              "\n",
              "      <script>\n",
              "        const buttonEl =\n",
              "          document.querySelector('#df-f158b47a-4c68-4c5a-add3-0bd87b57c436 button.colab-df-convert');\n",
              "        buttonEl.style.display =\n",
              "          google.colab.kernel.accessAllowed ? 'block' : 'none';\n",
              "\n",
              "        async function convertToInteractive(key) {\n",
              "          const element = document.querySelector('#df-f158b47a-4c68-4c5a-add3-0bd87b57c436');\n",
              "          const dataTable =\n",
              "            await google.colab.kernel.invokeFunction('convertToInteractive',\n",
              "                                                     [key], {});\n",
              "          if (!dataTable) return;\n",
              "\n",
              "          const docLinkHtml = 'Like what you see? Visit the ' +\n",
              "            '<a target=\"_blank\" href=https://colab.research.google.com/notebooks/data_table.ipynb>data table notebook</a>'\n",
              "            + ' to learn more about interactive tables.';\n",
              "          element.innerHTML = '';\n",
              "          dataTable['output_type'] = 'display_data';\n",
              "          await google.colab.output.renderOutput(dataTable, element);\n",
              "          const docLink = document.createElement('div');\n",
              "          docLink.innerHTML = docLinkHtml;\n",
              "          element.appendChild(docLink);\n",
              "        }\n",
              "      </script>\n",
              "    </div>\n",
              "  </div>\n",
              "  "
            ]
          },
          "metadata": {},
          "execution_count": 27
        }
      ]
    },
    {
      "cell_type": "code",
      "source": [
        "temp_count = text_df_ng_all.groupby(['topic', 'topic_ng']).count().reset_index()"
      ],
      "metadata": {
        "id": "TWY_o74MubRr"
      },
      "execution_count": null,
      "outputs": []
    },
    {
      "cell_type": "code",
      "source": [
        "temp_count"
      ],
      "metadata": {
        "colab": {
          "base_uri": "https://localhost:8080/",
          "height": 424
        },
        "id": "RlLY1SA2fnbj",
        "outputId": "fc7c8d58-6044-46fd-83f6-2e6cc468a517"
      },
      "execution_count": null,
      "outputs": [
        {
          "output_type": "execute_result",
          "data": {
            "text/plain": [
              "                 topic                     topic_ng   id  source  \\\n",
              "0             Abortion          access reproductive   41      41   \n",
              "1             Abortion              bodily autonomy   35      35   \n",
              "2             Abortion             brittany fonteno   10      10   \n",
              "3             Abortion                        fetal  243     243   \n",
              "4             Abortion                  life unborn   24      24   \n",
              "..                 ...                          ...  ...     ...   \n",
              "306  Racial inequality  practice disproportionately   30      30   \n",
              "307  Racial inequality                  prejudicial   31      31   \n",
              "308  Racial inequality               protest racial   22      22   \n",
              "309  Racial inequality             racial disparity   60      60   \n",
              "310  Racial inequality                    racialize   14      14   \n",
              "\n",
              "     article_final  \n",
              "0               41  \n",
              "1               35  \n",
              "2               10  \n",
              "3              243  \n",
              "4               24  \n",
              "..             ...  \n",
              "306             30  \n",
              "307             31  \n",
              "308             22  \n",
              "309             60  \n",
              "310             14  \n",
              "\n",
              "[311 rows x 5 columns]"
            ],
            "text/html": [
              "\n",
              "  <div id=\"df-4560351a-3774-4485-9e84-23b8ab227b7b\">\n",
              "    <div class=\"colab-df-container\">\n",
              "      <div>\n",
              "<style scoped>\n",
              "    .dataframe tbody tr th:only-of-type {\n",
              "        vertical-align: middle;\n",
              "    }\n",
              "\n",
              "    .dataframe tbody tr th {\n",
              "        vertical-align: top;\n",
              "    }\n",
              "\n",
              "    .dataframe thead th {\n",
              "        text-align: right;\n",
              "    }\n",
              "</style>\n",
              "<table border=\"1\" class=\"dataframe\">\n",
              "  <thead>\n",
              "    <tr style=\"text-align: right;\">\n",
              "      <th></th>\n",
              "      <th>topic</th>\n",
              "      <th>topic_ng</th>\n",
              "      <th>id</th>\n",
              "      <th>source</th>\n",
              "      <th>article_final</th>\n",
              "    </tr>\n",
              "  </thead>\n",
              "  <tbody>\n",
              "    <tr>\n",
              "      <th>0</th>\n",
              "      <td>Abortion</td>\n",
              "      <td>access reproductive</td>\n",
              "      <td>41</td>\n",
              "      <td>41</td>\n",
              "      <td>41</td>\n",
              "    </tr>\n",
              "    <tr>\n",
              "      <th>1</th>\n",
              "      <td>Abortion</td>\n",
              "      <td>bodily autonomy</td>\n",
              "      <td>35</td>\n",
              "      <td>35</td>\n",
              "      <td>35</td>\n",
              "    </tr>\n",
              "    <tr>\n",
              "      <th>2</th>\n",
              "      <td>Abortion</td>\n",
              "      <td>brittany fonteno</td>\n",
              "      <td>10</td>\n",
              "      <td>10</td>\n",
              "      <td>10</td>\n",
              "    </tr>\n",
              "    <tr>\n",
              "      <th>3</th>\n",
              "      <td>Abortion</td>\n",
              "      <td>fetal</td>\n",
              "      <td>243</td>\n",
              "      <td>243</td>\n",
              "      <td>243</td>\n",
              "    </tr>\n",
              "    <tr>\n",
              "      <th>4</th>\n",
              "      <td>Abortion</td>\n",
              "      <td>life unborn</td>\n",
              "      <td>24</td>\n",
              "      <td>24</td>\n",
              "      <td>24</td>\n",
              "    </tr>\n",
              "    <tr>\n",
              "      <th>...</th>\n",
              "      <td>...</td>\n",
              "      <td>...</td>\n",
              "      <td>...</td>\n",
              "      <td>...</td>\n",
              "      <td>...</td>\n",
              "    </tr>\n",
              "    <tr>\n",
              "      <th>306</th>\n",
              "      <td>Racial inequality</td>\n",
              "      <td>practice disproportionately</td>\n",
              "      <td>30</td>\n",
              "      <td>30</td>\n",
              "      <td>30</td>\n",
              "    </tr>\n",
              "    <tr>\n",
              "      <th>307</th>\n",
              "      <td>Racial inequality</td>\n",
              "      <td>prejudicial</td>\n",
              "      <td>31</td>\n",
              "      <td>31</td>\n",
              "      <td>31</td>\n",
              "    </tr>\n",
              "    <tr>\n",
              "      <th>308</th>\n",
              "      <td>Racial inequality</td>\n",
              "      <td>protest racial</td>\n",
              "      <td>22</td>\n",
              "      <td>22</td>\n",
              "      <td>22</td>\n",
              "    </tr>\n",
              "    <tr>\n",
              "      <th>309</th>\n",
              "      <td>Racial inequality</td>\n",
              "      <td>racial disparity</td>\n",
              "      <td>60</td>\n",
              "      <td>60</td>\n",
              "      <td>60</td>\n",
              "    </tr>\n",
              "    <tr>\n",
              "      <th>310</th>\n",
              "      <td>Racial inequality</td>\n",
              "      <td>racialize</td>\n",
              "      <td>14</td>\n",
              "      <td>14</td>\n",
              "      <td>14</td>\n",
              "    </tr>\n",
              "  </tbody>\n",
              "</table>\n",
              "<p>311 rows × 5 columns</p>\n",
              "</div>\n",
              "      <button class=\"colab-df-convert\" onclick=\"convertToInteractive('df-4560351a-3774-4485-9e84-23b8ab227b7b')\"\n",
              "              title=\"Convert this dataframe to an interactive table.\"\n",
              "              style=\"display:none;\">\n",
              "        \n",
              "  <svg xmlns=\"http://www.w3.org/2000/svg\" height=\"24px\"viewBox=\"0 0 24 24\"\n",
              "       width=\"24px\">\n",
              "    <path d=\"M0 0h24v24H0V0z\" fill=\"none\"/>\n",
              "    <path d=\"M18.56 5.44l.94 2.06.94-2.06 2.06-.94-2.06-.94-.94-2.06-.94 2.06-2.06.94zm-11 1L8.5 8.5l.94-2.06 2.06-.94-2.06-.94L8.5 2.5l-.94 2.06-2.06.94zm10 10l.94 2.06.94-2.06 2.06-.94-2.06-.94-.94-2.06-.94 2.06-2.06.94z\"/><path d=\"M17.41 7.96l-1.37-1.37c-.4-.4-.92-.59-1.43-.59-.52 0-1.04.2-1.43.59L10.3 9.45l-7.72 7.72c-.78.78-.78 2.05 0 2.83L4 21.41c.39.39.9.59 1.41.59.51 0 1.02-.2 1.41-.59l7.78-7.78 2.81-2.81c.8-.78.8-2.07 0-2.86zM5.41 20L4 18.59l7.72-7.72 1.47 1.35L5.41 20z\"/>\n",
              "  </svg>\n",
              "      </button>\n",
              "      \n",
              "  <style>\n",
              "    .colab-df-container {\n",
              "      display:flex;\n",
              "      flex-wrap:wrap;\n",
              "      gap: 12px;\n",
              "    }\n",
              "\n",
              "    .colab-df-convert {\n",
              "      background-color: #E8F0FE;\n",
              "      border: none;\n",
              "      border-radius: 50%;\n",
              "      cursor: pointer;\n",
              "      display: none;\n",
              "      fill: #1967D2;\n",
              "      height: 32px;\n",
              "      padding: 0 0 0 0;\n",
              "      width: 32px;\n",
              "    }\n",
              "\n",
              "    .colab-df-convert:hover {\n",
              "      background-color: #E2EBFA;\n",
              "      box-shadow: 0px 1px 2px rgba(60, 64, 67, 0.3), 0px 1px 3px 1px rgba(60, 64, 67, 0.15);\n",
              "      fill: #174EA6;\n",
              "    }\n",
              "\n",
              "    [theme=dark] .colab-df-convert {\n",
              "      background-color: #3B4455;\n",
              "      fill: #D2E3FC;\n",
              "    }\n",
              "\n",
              "    [theme=dark] .colab-df-convert:hover {\n",
              "      background-color: #434B5C;\n",
              "      box-shadow: 0px 1px 3px 1px rgba(0, 0, 0, 0.15);\n",
              "      filter: drop-shadow(0px 1px 2px rgba(0, 0, 0, 0.3));\n",
              "      fill: #FFFFFF;\n",
              "    }\n",
              "  </style>\n",
              "\n",
              "      <script>\n",
              "        const buttonEl =\n",
              "          document.querySelector('#df-4560351a-3774-4485-9e84-23b8ab227b7b button.colab-df-convert');\n",
              "        buttonEl.style.display =\n",
              "          google.colab.kernel.accessAllowed ? 'block' : 'none';\n",
              "\n",
              "        async function convertToInteractive(key) {\n",
              "          const element = document.querySelector('#df-4560351a-3774-4485-9e84-23b8ab227b7b');\n",
              "          const dataTable =\n",
              "            await google.colab.kernel.invokeFunction('convertToInteractive',\n",
              "                                                     [key], {});\n",
              "          if (!dataTable) return;\n",
              "\n",
              "          const docLinkHtml = 'Like what you see? Visit the ' +\n",
              "            '<a target=\"_blank\" href=https://colab.research.google.com/notebooks/data_table.ipynb>data table notebook</a>'\n",
              "            + ' to learn more about interactive tables.';\n",
              "          element.innerHTML = '';\n",
              "          dataTable['output_type'] = 'display_data';\n",
              "          await google.colab.output.renderOutput(dataTable, element);\n",
              "          const docLink = document.createElement('div');\n",
              "          docLink.innerHTML = docLinkHtml;\n",
              "          element.appendChild(docLink);\n",
              "        }\n",
              "      </script>\n",
              "    </div>\n",
              "  </div>\n",
              "  "
            ]
          },
          "metadata": {},
          "execution_count": 29
        }
      ]
    },
    {
      "cell_type": "code",
      "source": [
        "# merge_uni_m10 = text_df_ng_all[~text_df_ng_all['topic_ng'].isin(temp_count_l10_topic)]\n",
        "# merge_uni_m10_group = merge_uni_m10.groupby('topic_ng').apply(lambda x: x.sample(10, replace=False)).reset_index(drop=True)\n",
        "\n",
        "# merge_uni_l10 = text_df_ng_all[text_df_ng_all['topic_ng'].isin(temp_count_l10_topic)]\n",
        "# merge_uni_l10_group = merge_uni_l10.groupby('topic_ng').apply(lambda x: x.sample(10, replace=True)).reset_index(drop=True)\n",
        "\n",
        "# merge_uni_both = pd.concat([merge_uni_m10_group, merge_uni_l10_group])\n",
        "\n",
        "merge_uni_both = text_df_ng_all.groupby(['topic', 'topic_ng']).apply(lambda x: x.sample(10, replace=True)).reset_index(drop=True)\n"
      ],
      "metadata": {
        "id": "Td31S1CqusoG"
      },
      "execution_count": null,
      "outputs": []
    },
    {
      "cell_type": "code",
      "source": [
        "merge_uni_both"
      ],
      "metadata": {
        "colab": {
          "base_uri": "https://localhost:8080/",
          "height": 424
        },
        "id": "nqZm9zQtS-Ih",
        "outputId": "a1b3e6ef-1e9d-4fd6-a0de-d0b63db4ac3f"
      },
      "execution_count": null,
      "outputs": [
        {
          "output_type": "execute_result",
          "data": {
            "text/plain": [
              "          id              source  \\\n",
              "0     141601          Decaturish   \n",
              "1     182746   WRBL News 3 (CBS)   \n",
              "2     180022     WJBF TV 6 (ABC)   \n",
              "3      48707    WGCL TV 46 (CBS)   \n",
              "4      68691          WSB AM 750   \n",
              "...      ...                 ...   \n",
              "3105   19927  Atlanta Black Star   \n",
              "3106  186815      WSB TV 2 (ABC)   \n",
              "3107   67742         WRFC AM 960   \n",
              "3108   67616         WRFC AM 960   \n",
              "3109   97695    Atlanta Magazine   \n",
              "\n",
              "                                          article_final             topic_ng  \\\n",
              "0     Decaturish and Tucker Observer sent candidate ...  access reproductive   \n",
              "1     (NerdWallet) – Would you be able to quickly ob...  access reproductive   \n",
              "2     (NerdWallet) – Would you be able to quickly ob...  access reproductive   \n",
              "3     WASHINGTON (AP) — With few options for strengt...  access reproductive   \n",
              "4     As abortion remains a key issue in the upcomin...  access reproductive   \n",
              "...                                                 ...                  ...   \n",
              "3105  The white woman who made headlines in 2020 for...            racialize   \n",
              "3106  A single pair of Levi’s jeans, dating to the 1...            racialize   \n",
              "3107  A single pair of Levi’s jeans, dating to the 1...            racialize   \n",
              "3108  Tulsi Gabbard says she is leaving the Democrat...            racialize   \n",
              "3109  Jalyn Hall and Danielle Deadwyler as Emmett Ti...            racialize   \n",
              "\n",
              "                  topic  \n",
              "0              Abortion  \n",
              "1              Abortion  \n",
              "2              Abortion  \n",
              "3              Abortion  \n",
              "4              Abortion  \n",
              "...                 ...  \n",
              "3105  Racial inequality  \n",
              "3106  Racial inequality  \n",
              "3107  Racial inequality  \n",
              "3108  Racial inequality  \n",
              "3109  Racial inequality  \n",
              "\n",
              "[3110 rows x 5 columns]"
            ],
            "text/html": [
              "\n",
              "  <div id=\"df-b63ca351-e465-4cd9-b557-72d03fcf6cad\">\n",
              "    <div class=\"colab-df-container\">\n",
              "      <div>\n",
              "<style scoped>\n",
              "    .dataframe tbody tr th:only-of-type {\n",
              "        vertical-align: middle;\n",
              "    }\n",
              "\n",
              "    .dataframe tbody tr th {\n",
              "        vertical-align: top;\n",
              "    }\n",
              "\n",
              "    .dataframe thead th {\n",
              "        text-align: right;\n",
              "    }\n",
              "</style>\n",
              "<table border=\"1\" class=\"dataframe\">\n",
              "  <thead>\n",
              "    <tr style=\"text-align: right;\">\n",
              "      <th></th>\n",
              "      <th>id</th>\n",
              "      <th>source</th>\n",
              "      <th>article_final</th>\n",
              "      <th>topic_ng</th>\n",
              "      <th>topic</th>\n",
              "    </tr>\n",
              "  </thead>\n",
              "  <tbody>\n",
              "    <tr>\n",
              "      <th>0</th>\n",
              "      <td>141601</td>\n",
              "      <td>Decaturish</td>\n",
              "      <td>Decaturish and Tucker Observer sent candidate ...</td>\n",
              "      <td>access reproductive</td>\n",
              "      <td>Abortion</td>\n",
              "    </tr>\n",
              "    <tr>\n",
              "      <th>1</th>\n",
              "      <td>182746</td>\n",
              "      <td>WRBL News 3 (CBS)</td>\n",
              "      <td>(NerdWallet) – Would you be able to quickly ob...</td>\n",
              "      <td>access reproductive</td>\n",
              "      <td>Abortion</td>\n",
              "    </tr>\n",
              "    <tr>\n",
              "      <th>2</th>\n",
              "      <td>180022</td>\n",
              "      <td>WJBF TV 6 (ABC)</td>\n",
              "      <td>(NerdWallet) – Would you be able to quickly ob...</td>\n",
              "      <td>access reproductive</td>\n",
              "      <td>Abortion</td>\n",
              "    </tr>\n",
              "    <tr>\n",
              "      <th>3</th>\n",
              "      <td>48707</td>\n",
              "      <td>WGCL TV 46 (CBS)</td>\n",
              "      <td>WASHINGTON (AP) — With few options for strengt...</td>\n",
              "      <td>access reproductive</td>\n",
              "      <td>Abortion</td>\n",
              "    </tr>\n",
              "    <tr>\n",
              "      <th>4</th>\n",
              "      <td>68691</td>\n",
              "      <td>WSB AM 750</td>\n",
              "      <td>As abortion remains a key issue in the upcomin...</td>\n",
              "      <td>access reproductive</td>\n",
              "      <td>Abortion</td>\n",
              "    </tr>\n",
              "    <tr>\n",
              "      <th>...</th>\n",
              "      <td>...</td>\n",
              "      <td>...</td>\n",
              "      <td>...</td>\n",
              "      <td>...</td>\n",
              "      <td>...</td>\n",
              "    </tr>\n",
              "    <tr>\n",
              "      <th>3105</th>\n",
              "      <td>19927</td>\n",
              "      <td>Atlanta Black Star</td>\n",
              "      <td>The white woman who made headlines in 2020 for...</td>\n",
              "      <td>racialize</td>\n",
              "      <td>Racial inequality</td>\n",
              "    </tr>\n",
              "    <tr>\n",
              "      <th>3106</th>\n",
              "      <td>186815</td>\n",
              "      <td>WSB TV 2 (ABC)</td>\n",
              "      <td>A single pair of Levi’s jeans, dating to the 1...</td>\n",
              "      <td>racialize</td>\n",
              "      <td>Racial inequality</td>\n",
              "    </tr>\n",
              "    <tr>\n",
              "      <th>3107</th>\n",
              "      <td>67742</td>\n",
              "      <td>WRFC AM 960</td>\n",
              "      <td>A single pair of Levi’s jeans, dating to the 1...</td>\n",
              "      <td>racialize</td>\n",
              "      <td>Racial inequality</td>\n",
              "    </tr>\n",
              "    <tr>\n",
              "      <th>3108</th>\n",
              "      <td>67616</td>\n",
              "      <td>WRFC AM 960</td>\n",
              "      <td>Tulsi Gabbard says she is leaving the Democrat...</td>\n",
              "      <td>racialize</td>\n",
              "      <td>Racial inequality</td>\n",
              "    </tr>\n",
              "    <tr>\n",
              "      <th>3109</th>\n",
              "      <td>97695</td>\n",
              "      <td>Atlanta Magazine</td>\n",
              "      <td>Jalyn Hall and Danielle Deadwyler as Emmett Ti...</td>\n",
              "      <td>racialize</td>\n",
              "      <td>Racial inequality</td>\n",
              "    </tr>\n",
              "  </tbody>\n",
              "</table>\n",
              "<p>3110 rows × 5 columns</p>\n",
              "</div>\n",
              "      <button class=\"colab-df-convert\" onclick=\"convertToInteractive('df-b63ca351-e465-4cd9-b557-72d03fcf6cad')\"\n",
              "              title=\"Convert this dataframe to an interactive table.\"\n",
              "              style=\"display:none;\">\n",
              "        \n",
              "  <svg xmlns=\"http://www.w3.org/2000/svg\" height=\"24px\"viewBox=\"0 0 24 24\"\n",
              "       width=\"24px\">\n",
              "    <path d=\"M0 0h24v24H0V0z\" fill=\"none\"/>\n",
              "    <path d=\"M18.56 5.44l.94 2.06.94-2.06 2.06-.94-2.06-.94-.94-2.06-.94 2.06-2.06.94zm-11 1L8.5 8.5l.94-2.06 2.06-.94-2.06-.94L8.5 2.5l-.94 2.06-2.06.94zm10 10l.94 2.06.94-2.06 2.06-.94-2.06-.94-.94-2.06-.94 2.06-2.06.94z\"/><path d=\"M17.41 7.96l-1.37-1.37c-.4-.4-.92-.59-1.43-.59-.52 0-1.04.2-1.43.59L10.3 9.45l-7.72 7.72c-.78.78-.78 2.05 0 2.83L4 21.41c.39.39.9.59 1.41.59.51 0 1.02-.2 1.41-.59l7.78-7.78 2.81-2.81c.8-.78.8-2.07 0-2.86zM5.41 20L4 18.59l7.72-7.72 1.47 1.35L5.41 20z\"/>\n",
              "  </svg>\n",
              "      </button>\n",
              "      \n",
              "  <style>\n",
              "    .colab-df-container {\n",
              "      display:flex;\n",
              "      flex-wrap:wrap;\n",
              "      gap: 12px;\n",
              "    }\n",
              "\n",
              "    .colab-df-convert {\n",
              "      background-color: #E8F0FE;\n",
              "      border: none;\n",
              "      border-radius: 50%;\n",
              "      cursor: pointer;\n",
              "      display: none;\n",
              "      fill: #1967D2;\n",
              "      height: 32px;\n",
              "      padding: 0 0 0 0;\n",
              "      width: 32px;\n",
              "    }\n",
              "\n",
              "    .colab-df-convert:hover {\n",
              "      background-color: #E2EBFA;\n",
              "      box-shadow: 0px 1px 2px rgba(60, 64, 67, 0.3), 0px 1px 3px 1px rgba(60, 64, 67, 0.15);\n",
              "      fill: #174EA6;\n",
              "    }\n",
              "\n",
              "    [theme=dark] .colab-df-convert {\n",
              "      background-color: #3B4455;\n",
              "      fill: #D2E3FC;\n",
              "    }\n",
              "\n",
              "    [theme=dark] .colab-df-convert:hover {\n",
              "      background-color: #434B5C;\n",
              "      box-shadow: 0px 1px 3px 1px rgba(0, 0, 0, 0.15);\n",
              "      filter: drop-shadow(0px 1px 2px rgba(0, 0, 0, 0.3));\n",
              "      fill: #FFFFFF;\n",
              "    }\n",
              "  </style>\n",
              "\n",
              "      <script>\n",
              "        const buttonEl =\n",
              "          document.querySelector('#df-b63ca351-e465-4cd9-b557-72d03fcf6cad button.colab-df-convert');\n",
              "        buttonEl.style.display =\n",
              "          google.colab.kernel.accessAllowed ? 'block' : 'none';\n",
              "\n",
              "        async function convertToInteractive(key) {\n",
              "          const element = document.querySelector('#df-b63ca351-e465-4cd9-b557-72d03fcf6cad');\n",
              "          const dataTable =\n",
              "            await google.colab.kernel.invokeFunction('convertToInteractive',\n",
              "                                                     [key], {});\n",
              "          if (!dataTable) return;\n",
              "\n",
              "          const docLinkHtml = 'Like what you see? Visit the ' +\n",
              "            '<a target=\"_blank\" href=https://colab.research.google.com/notebooks/data_table.ipynb>data table notebook</a>'\n",
              "            + ' to learn more about interactive tables.';\n",
              "          element.innerHTML = '';\n",
              "          dataTable['output_type'] = 'display_data';\n",
              "          await google.colab.output.renderOutput(dataTable, element);\n",
              "          const docLink = document.createElement('div');\n",
              "          docLink.innerHTML = docLinkHtml;\n",
              "          element.appendChild(docLink);\n",
              "        }\n",
              "      </script>\n",
              "    </div>\n",
              "  </div>\n",
              "  "
            ]
          },
          "metadata": {},
          "execution_count": 31
        }
      ]
    },
    {
      "cell_type": "code",
      "source": [
        "import nltk\n",
        "nltk.download('punkt')\n",
        "from nltk.tokenize import sent_tokenize\n",
        "by_sentence = merge_uni_both['article_final'].apply(lambda x : sent_tokenize(x)).apply(pd.Series,1).stack()\n",
        "by_sentence_df = pd.DataFrame(by_sentence)\n",
        "by_sentence_df.rename(columns={0:'sentence_each'}, inplace=True)\n",
        "\n",
        "by_sentence_df['sentence_turn'] = by_sentence_df.index.get_level_values(1)\n",
        "by_sentence_df.index = by_sentence_df.index.get_level_values(0)\n"
      ],
      "metadata": {
        "colab": {
          "base_uri": "https://localhost:8080/"
        },
        "id": "UQgRuaERuuoW",
        "outputId": "93fa24d8-835c-4ece-a5e8-26a8b4361590"
      },
      "execution_count": null,
      "outputs": [
        {
          "output_type": "stream",
          "name": "stderr",
          "text": [
            "[nltk_data] Downloading package punkt to /root/nltk_data...\n",
            "[nltk_data]   Package punkt is already up-to-date!\n"
          ]
        }
      ]
    },
    {
      "cell_type": "code",
      "source": [
        "merge_all_join = pd.concat([merge_uni_both, by_sentence_df], axis=1)\n",
        "merge_all_join['sentence_each_lemma'] = merge_all_join['sentence_each'].str.lower().astype(str).apply(get_lemmas_num)\n",
        "\n"
      ],
      "metadata": {
        "id": "jtbMCBWc7nS2"
      },
      "execution_count": null,
      "outputs": []
    },
    {
      "cell_type": "code",
      "source": [
        "merge_all_join['topic_words_YN'] = merge_all_join.apply(lambda x: x.topic_ng in x.sentence_each_lemma, axis=1)\n",
        "merge_all_join['topic_words_YN_lead'] = merge_all_join.groupby(['topic', 'topic_ng'])['topic_words_YN'].shift(-1)\n",
        "merge_all_join.reset_index(drop=True, inplace=True)\n",
        "\n"
      ],
      "metadata": {
        "id": "9h1_-IaE8gh4"
      },
      "execution_count": null,
      "outputs": []
    },
    {
      "cell_type": "code",
      "source": [
        "merge_all_join[\"row_id\"] = merge_all_join.index + 1\n"
      ],
      "metadata": {
        "id": "qDHaKE-g9mws"
      },
      "execution_count": null,
      "outputs": []
    },
    {
      "cell_type": "code",
      "source": [
        "merge_sentence_select_in = merge_all_join[ (merge_all_join['topic_words_YN']== True)]\n"
      ],
      "metadata": {
        "id": "_10He27MegqP"
      },
      "execution_count": null,
      "outputs": []
    },
    {
      "cell_type": "code",
      "source": [
        "merge_sentence_only = merge_sentence_select_in.drop(columns=['article_final'])\n",
        "merge_sentence_only['str_count'] = merge_sentence_only.sentence_each.str.count(\" \") # remove string count less than 3"
      ],
      "metadata": {
        "id": "B9peqlCpeEiV"
      },
      "execution_count": null,
      "outputs": []
    },
    {
      "cell_type": "code",
      "source": [
        "merge_sentence_only = merge_sentence_only[merge_sentence_only['str_count'] >= 3]"
      ],
      "metadata": {
        "id": "vZUA96nEexxk"
      },
      "execution_count": null,
      "outputs": []
    },
    {
      "cell_type": "code",
      "source": [
        "merge_sentence_only_10 = merge_sentence_only.groupby(['topic', 'topic_ng']).apply(lambda x: x.sample(10, replace=True)).reset_index(drop=True)\n"
      ],
      "metadata": {
        "id": "Ri0biYJ8PR_j"
      },
      "execution_count": null,
      "outputs": []
    },
    {
      "cell_type": "code",
      "source": [
        "test = merge_sentence_only_10.groupby(['topic', 'topic_ng']).count().reset_index()\n",
        "test"
      ],
      "metadata": {
        "colab": {
          "base_uri": "https://localhost:8080/",
          "height": 592
        },
        "id": "iZSXpew4fROE",
        "outputId": "5e264a85-d9bb-4328-99fd-a74112560c5d"
      },
      "execution_count": null,
      "outputs": [
        {
          "output_type": "execute_result",
          "data": {
            "text/plain": [
              "                 topic                     topic_ng  id  source  \\\n",
              "0             Abortion          access reproductive  10      10   \n",
              "1             Abortion              bodily autonomy  10      10   \n",
              "2             Abortion             brittany fonteno  10      10   \n",
              "3             Abortion                        fetal  10      10   \n",
              "4             Abortion                  life unborn  10      10   \n",
              "..                 ...                          ...  ..     ...   \n",
              "306  Racial inequality  practice disproportionately  10      10   \n",
              "307  Racial inequality                  prejudicial  10      10   \n",
              "308  Racial inequality               protest racial  10      10   \n",
              "309  Racial inequality             racial disparity  10      10   \n",
              "310  Racial inequality                    racialize  10      10   \n",
              "\n",
              "     sentence_each  sentence_turn  sentence_each_lemma  topic_words_YN  \\\n",
              "0               10             10                   10              10   \n",
              "1               10             10                   10              10   \n",
              "2               10             10                   10              10   \n",
              "3               10             10                   10              10   \n",
              "4               10             10                   10              10   \n",
              "..             ...            ...                  ...             ...   \n",
              "306             10             10                   10              10   \n",
              "307             10             10                   10              10   \n",
              "308             10             10                   10              10   \n",
              "309             10             10                   10              10   \n",
              "310             10             10                   10              10   \n",
              "\n",
              "     topic_words_YN_lead  row_id  str_count  \n",
              "0                     10      10         10  \n",
              "1                     10      10         10  \n",
              "2                     10      10         10  \n",
              "3                     10      10         10  \n",
              "4                     10      10         10  \n",
              "..                   ...     ...        ...  \n",
              "306                   10      10         10  \n",
              "307                   10      10         10  \n",
              "308                   10      10         10  \n",
              "309                   10      10         10  \n",
              "310                   10      10         10  \n",
              "\n",
              "[311 rows x 11 columns]"
            ],
            "text/html": [
              "\n",
              "  <div id=\"df-9beb5738-f4e1-4735-8d7e-897c01fb6585\">\n",
              "    <div class=\"colab-df-container\">\n",
              "      <div>\n",
              "<style scoped>\n",
              "    .dataframe tbody tr th:only-of-type {\n",
              "        vertical-align: middle;\n",
              "    }\n",
              "\n",
              "    .dataframe tbody tr th {\n",
              "        vertical-align: top;\n",
              "    }\n",
              "\n",
              "    .dataframe thead th {\n",
              "        text-align: right;\n",
              "    }\n",
              "</style>\n",
              "<table border=\"1\" class=\"dataframe\">\n",
              "  <thead>\n",
              "    <tr style=\"text-align: right;\">\n",
              "      <th></th>\n",
              "      <th>topic</th>\n",
              "      <th>topic_ng</th>\n",
              "      <th>id</th>\n",
              "      <th>source</th>\n",
              "      <th>sentence_each</th>\n",
              "      <th>sentence_turn</th>\n",
              "      <th>sentence_each_lemma</th>\n",
              "      <th>topic_words_YN</th>\n",
              "      <th>topic_words_YN_lead</th>\n",
              "      <th>row_id</th>\n",
              "      <th>str_count</th>\n",
              "    </tr>\n",
              "  </thead>\n",
              "  <tbody>\n",
              "    <tr>\n",
              "      <th>0</th>\n",
              "      <td>Abortion</td>\n",
              "      <td>access reproductive</td>\n",
              "      <td>10</td>\n",
              "      <td>10</td>\n",
              "      <td>10</td>\n",
              "      <td>10</td>\n",
              "      <td>10</td>\n",
              "      <td>10</td>\n",
              "      <td>10</td>\n",
              "      <td>10</td>\n",
              "      <td>10</td>\n",
              "    </tr>\n",
              "    <tr>\n",
              "      <th>1</th>\n",
              "      <td>Abortion</td>\n",
              "      <td>bodily autonomy</td>\n",
              "      <td>10</td>\n",
              "      <td>10</td>\n",
              "      <td>10</td>\n",
              "      <td>10</td>\n",
              "      <td>10</td>\n",
              "      <td>10</td>\n",
              "      <td>10</td>\n",
              "      <td>10</td>\n",
              "      <td>10</td>\n",
              "    </tr>\n",
              "    <tr>\n",
              "      <th>2</th>\n",
              "      <td>Abortion</td>\n",
              "      <td>brittany fonteno</td>\n",
              "      <td>10</td>\n",
              "      <td>10</td>\n",
              "      <td>10</td>\n",
              "      <td>10</td>\n",
              "      <td>10</td>\n",
              "      <td>10</td>\n",
              "      <td>10</td>\n",
              "      <td>10</td>\n",
              "      <td>10</td>\n",
              "    </tr>\n",
              "    <tr>\n",
              "      <th>3</th>\n",
              "      <td>Abortion</td>\n",
              "      <td>fetal</td>\n",
              "      <td>10</td>\n",
              "      <td>10</td>\n",
              "      <td>10</td>\n",
              "      <td>10</td>\n",
              "      <td>10</td>\n",
              "      <td>10</td>\n",
              "      <td>10</td>\n",
              "      <td>10</td>\n",
              "      <td>10</td>\n",
              "    </tr>\n",
              "    <tr>\n",
              "      <th>4</th>\n",
              "      <td>Abortion</td>\n",
              "      <td>life unborn</td>\n",
              "      <td>10</td>\n",
              "      <td>10</td>\n",
              "      <td>10</td>\n",
              "      <td>10</td>\n",
              "      <td>10</td>\n",
              "      <td>10</td>\n",
              "      <td>10</td>\n",
              "      <td>10</td>\n",
              "      <td>10</td>\n",
              "    </tr>\n",
              "    <tr>\n",
              "      <th>...</th>\n",
              "      <td>...</td>\n",
              "      <td>...</td>\n",
              "      <td>...</td>\n",
              "      <td>...</td>\n",
              "      <td>...</td>\n",
              "      <td>...</td>\n",
              "      <td>...</td>\n",
              "      <td>...</td>\n",
              "      <td>...</td>\n",
              "      <td>...</td>\n",
              "      <td>...</td>\n",
              "    </tr>\n",
              "    <tr>\n",
              "      <th>306</th>\n",
              "      <td>Racial inequality</td>\n",
              "      <td>practice disproportionately</td>\n",
              "      <td>10</td>\n",
              "      <td>10</td>\n",
              "      <td>10</td>\n",
              "      <td>10</td>\n",
              "      <td>10</td>\n",
              "      <td>10</td>\n",
              "      <td>10</td>\n",
              "      <td>10</td>\n",
              "      <td>10</td>\n",
              "    </tr>\n",
              "    <tr>\n",
              "      <th>307</th>\n",
              "      <td>Racial inequality</td>\n",
              "      <td>prejudicial</td>\n",
              "      <td>10</td>\n",
              "      <td>10</td>\n",
              "      <td>10</td>\n",
              "      <td>10</td>\n",
              "      <td>10</td>\n",
              "      <td>10</td>\n",
              "      <td>10</td>\n",
              "      <td>10</td>\n",
              "      <td>10</td>\n",
              "    </tr>\n",
              "    <tr>\n",
              "      <th>308</th>\n",
              "      <td>Racial inequality</td>\n",
              "      <td>protest racial</td>\n",
              "      <td>10</td>\n",
              "      <td>10</td>\n",
              "      <td>10</td>\n",
              "      <td>10</td>\n",
              "      <td>10</td>\n",
              "      <td>10</td>\n",
              "      <td>10</td>\n",
              "      <td>10</td>\n",
              "      <td>10</td>\n",
              "    </tr>\n",
              "    <tr>\n",
              "      <th>309</th>\n",
              "      <td>Racial inequality</td>\n",
              "      <td>racial disparity</td>\n",
              "      <td>10</td>\n",
              "      <td>10</td>\n",
              "      <td>10</td>\n",
              "      <td>10</td>\n",
              "      <td>10</td>\n",
              "      <td>10</td>\n",
              "      <td>10</td>\n",
              "      <td>10</td>\n",
              "      <td>10</td>\n",
              "    </tr>\n",
              "    <tr>\n",
              "      <th>310</th>\n",
              "      <td>Racial inequality</td>\n",
              "      <td>racialize</td>\n",
              "      <td>10</td>\n",
              "      <td>10</td>\n",
              "      <td>10</td>\n",
              "      <td>10</td>\n",
              "      <td>10</td>\n",
              "      <td>10</td>\n",
              "      <td>10</td>\n",
              "      <td>10</td>\n",
              "      <td>10</td>\n",
              "    </tr>\n",
              "  </tbody>\n",
              "</table>\n",
              "<p>311 rows × 11 columns</p>\n",
              "</div>\n",
              "      <button class=\"colab-df-convert\" onclick=\"convertToInteractive('df-9beb5738-f4e1-4735-8d7e-897c01fb6585')\"\n",
              "              title=\"Convert this dataframe to an interactive table.\"\n",
              "              style=\"display:none;\">\n",
              "        \n",
              "  <svg xmlns=\"http://www.w3.org/2000/svg\" height=\"24px\"viewBox=\"0 0 24 24\"\n",
              "       width=\"24px\">\n",
              "    <path d=\"M0 0h24v24H0V0z\" fill=\"none\"/>\n",
              "    <path d=\"M18.56 5.44l.94 2.06.94-2.06 2.06-.94-2.06-.94-.94-2.06-.94 2.06-2.06.94zm-11 1L8.5 8.5l.94-2.06 2.06-.94-2.06-.94L8.5 2.5l-.94 2.06-2.06.94zm10 10l.94 2.06.94-2.06 2.06-.94-2.06-.94-.94-2.06-.94 2.06-2.06.94z\"/><path d=\"M17.41 7.96l-1.37-1.37c-.4-.4-.92-.59-1.43-.59-.52 0-1.04.2-1.43.59L10.3 9.45l-7.72 7.72c-.78.78-.78 2.05 0 2.83L4 21.41c.39.39.9.59 1.41.59.51 0 1.02-.2 1.41-.59l7.78-7.78 2.81-2.81c.8-.78.8-2.07 0-2.86zM5.41 20L4 18.59l7.72-7.72 1.47 1.35L5.41 20z\"/>\n",
              "  </svg>\n",
              "      </button>\n",
              "      \n",
              "  <style>\n",
              "    .colab-df-container {\n",
              "      display:flex;\n",
              "      flex-wrap:wrap;\n",
              "      gap: 12px;\n",
              "    }\n",
              "\n",
              "    .colab-df-convert {\n",
              "      background-color: #E8F0FE;\n",
              "      border: none;\n",
              "      border-radius: 50%;\n",
              "      cursor: pointer;\n",
              "      display: none;\n",
              "      fill: #1967D2;\n",
              "      height: 32px;\n",
              "      padding: 0 0 0 0;\n",
              "      width: 32px;\n",
              "    }\n",
              "\n",
              "    .colab-df-convert:hover {\n",
              "      background-color: #E2EBFA;\n",
              "      box-shadow: 0px 1px 2px rgba(60, 64, 67, 0.3), 0px 1px 3px 1px rgba(60, 64, 67, 0.15);\n",
              "      fill: #174EA6;\n",
              "    }\n",
              "\n",
              "    [theme=dark] .colab-df-convert {\n",
              "      background-color: #3B4455;\n",
              "      fill: #D2E3FC;\n",
              "    }\n",
              "\n",
              "    [theme=dark] .colab-df-convert:hover {\n",
              "      background-color: #434B5C;\n",
              "      box-shadow: 0px 1px 3px 1px rgba(0, 0, 0, 0.15);\n",
              "      filter: drop-shadow(0px 1px 2px rgba(0, 0, 0, 0.3));\n",
              "      fill: #FFFFFF;\n",
              "    }\n",
              "  </style>\n",
              "\n",
              "      <script>\n",
              "        const buttonEl =\n",
              "          document.querySelector('#df-9beb5738-f4e1-4735-8d7e-897c01fb6585 button.colab-df-convert');\n",
              "        buttonEl.style.display =\n",
              "          google.colab.kernel.accessAllowed ? 'block' : 'none';\n",
              "\n",
              "        async function convertToInteractive(key) {\n",
              "          const element = document.querySelector('#df-9beb5738-f4e1-4735-8d7e-897c01fb6585');\n",
              "          const dataTable =\n",
              "            await google.colab.kernel.invokeFunction('convertToInteractive',\n",
              "                                                     [key], {});\n",
              "          if (!dataTable) return;\n",
              "\n",
              "          const docLinkHtml = 'Like what you see? Visit the ' +\n",
              "            '<a target=\"_blank\" href=https://colab.research.google.com/notebooks/data_table.ipynb>data table notebook</a>'\n",
              "            + ' to learn more about interactive tables.';\n",
              "          element.innerHTML = '';\n",
              "          dataTable['output_type'] = 'display_data';\n",
              "          await google.colab.output.renderOutput(dataTable, element);\n",
              "          const docLink = document.createElement('div');\n",
              "          docLink.innerHTML = docLinkHtml;\n",
              "          element.appendChild(docLink);\n",
              "        }\n",
              "      </script>\n",
              "    </div>\n",
              "  </div>\n",
              "  "
            ]
          },
          "metadata": {},
          "execution_count": 43
        }
      ]
    },
    {
      "cell_type": "code",
      "source": [
        "merge_sentence_only_10.sample(3)"
      ],
      "metadata": {
        "colab": {
          "base_uri": "https://localhost:8080/",
          "height": 346
        },
        "id": "LMreAHbDg17_",
        "outputId": "af7f0965-3061-46f3-a105-b7c7f88aa978"
      },
      "execution_count": null,
      "outputs": [
        {
          "output_type": "execute_result",
          "data": {
            "text/plain": [
              "          id                source         topic_ng           topic  \\\n",
              "1305     417             La Visión   price gasoline  Economy / Jobs   \n",
              "1882  141132  Dalton Daily Citizen   cardiomyopathy     Health care   \n",
              "636    26801    Lanier County News  armed dangerous           Crime   \n",
              "\n",
              "                                          sentence_each  sentence_turn  \\\n",
              "1305  The prices of gasoline in the Metropolitan Are...              0   \n",
              "1882  His mother said jailers refused to take him to...             14   \n",
              "636   Jashun Wilkins is considered armed and dangerous.             14   \n",
              "\n",
              "                                    sentence_each_lemma  topic_words_YN  \\\n",
              "1305  price gasoline metropolitan area atlanta shoot...            True   \n",
              "1882  mother say jailer refuse hospital medical care...            True   \n",
              "636              jashun wilkin consider armed dangerous            True   \n",
              "\n",
              "     topic_words_YN_lead  row_id  str_count  \n",
              "1305               False   49776         29  \n",
              "1882               False   70731         19  \n",
              "636                False   25765          6  "
            ],
            "text/html": [
              "\n",
              "  <div id=\"df-c5a53f0b-f04d-4e1e-8e7e-59353a9ee5b4\">\n",
              "    <div class=\"colab-df-container\">\n",
              "      <div>\n",
              "<style scoped>\n",
              "    .dataframe tbody tr th:only-of-type {\n",
              "        vertical-align: middle;\n",
              "    }\n",
              "\n",
              "    .dataframe tbody tr th {\n",
              "        vertical-align: top;\n",
              "    }\n",
              "\n",
              "    .dataframe thead th {\n",
              "        text-align: right;\n",
              "    }\n",
              "</style>\n",
              "<table border=\"1\" class=\"dataframe\">\n",
              "  <thead>\n",
              "    <tr style=\"text-align: right;\">\n",
              "      <th></th>\n",
              "      <th>id</th>\n",
              "      <th>source</th>\n",
              "      <th>topic_ng</th>\n",
              "      <th>topic</th>\n",
              "      <th>sentence_each</th>\n",
              "      <th>sentence_turn</th>\n",
              "      <th>sentence_each_lemma</th>\n",
              "      <th>topic_words_YN</th>\n",
              "      <th>topic_words_YN_lead</th>\n",
              "      <th>row_id</th>\n",
              "      <th>str_count</th>\n",
              "    </tr>\n",
              "  </thead>\n",
              "  <tbody>\n",
              "    <tr>\n",
              "      <th>1305</th>\n",
              "      <td>417</td>\n",
              "      <td>La Visión</td>\n",
              "      <td>price gasoline</td>\n",
              "      <td>Economy / Jobs</td>\n",
              "      <td>The prices of gasoline in the Metropolitan Are...</td>\n",
              "      <td>0</td>\n",
              "      <td>price gasoline metropolitan area atlanta shoot...</td>\n",
              "      <td>True</td>\n",
              "      <td>False</td>\n",
              "      <td>49776</td>\n",
              "      <td>29</td>\n",
              "    </tr>\n",
              "    <tr>\n",
              "      <th>1882</th>\n",
              "      <td>141132</td>\n",
              "      <td>Dalton Daily Citizen</td>\n",
              "      <td>cardiomyopathy</td>\n",
              "      <td>Health care</td>\n",
              "      <td>His mother said jailers refused to take him to...</td>\n",
              "      <td>14</td>\n",
              "      <td>mother say jailer refuse hospital medical care...</td>\n",
              "      <td>True</td>\n",
              "      <td>False</td>\n",
              "      <td>70731</td>\n",
              "      <td>19</td>\n",
              "    </tr>\n",
              "    <tr>\n",
              "      <th>636</th>\n",
              "      <td>26801</td>\n",
              "      <td>Lanier County News</td>\n",
              "      <td>armed dangerous</td>\n",
              "      <td>Crime</td>\n",
              "      <td>Jashun Wilkins is considered armed and dangerous.</td>\n",
              "      <td>14</td>\n",
              "      <td>jashun wilkin consider armed dangerous</td>\n",
              "      <td>True</td>\n",
              "      <td>False</td>\n",
              "      <td>25765</td>\n",
              "      <td>6</td>\n",
              "    </tr>\n",
              "  </tbody>\n",
              "</table>\n",
              "</div>\n",
              "      <button class=\"colab-df-convert\" onclick=\"convertToInteractive('df-c5a53f0b-f04d-4e1e-8e7e-59353a9ee5b4')\"\n",
              "              title=\"Convert this dataframe to an interactive table.\"\n",
              "              style=\"display:none;\">\n",
              "        \n",
              "  <svg xmlns=\"http://www.w3.org/2000/svg\" height=\"24px\"viewBox=\"0 0 24 24\"\n",
              "       width=\"24px\">\n",
              "    <path d=\"M0 0h24v24H0V0z\" fill=\"none\"/>\n",
              "    <path d=\"M18.56 5.44l.94 2.06.94-2.06 2.06-.94-2.06-.94-.94-2.06-.94 2.06-2.06.94zm-11 1L8.5 8.5l.94-2.06 2.06-.94-2.06-.94L8.5 2.5l-.94 2.06-2.06.94zm10 10l.94 2.06.94-2.06 2.06-.94-2.06-.94-.94-2.06-.94 2.06-2.06.94z\"/><path d=\"M17.41 7.96l-1.37-1.37c-.4-.4-.92-.59-1.43-.59-.52 0-1.04.2-1.43.59L10.3 9.45l-7.72 7.72c-.78.78-.78 2.05 0 2.83L4 21.41c.39.39.9.59 1.41.59.51 0 1.02-.2 1.41-.59l7.78-7.78 2.81-2.81c.8-.78.8-2.07 0-2.86zM5.41 20L4 18.59l7.72-7.72 1.47 1.35L5.41 20z\"/>\n",
              "  </svg>\n",
              "      </button>\n",
              "      \n",
              "  <style>\n",
              "    .colab-df-container {\n",
              "      display:flex;\n",
              "      flex-wrap:wrap;\n",
              "      gap: 12px;\n",
              "    }\n",
              "\n",
              "    .colab-df-convert {\n",
              "      background-color: #E8F0FE;\n",
              "      border: none;\n",
              "      border-radius: 50%;\n",
              "      cursor: pointer;\n",
              "      display: none;\n",
              "      fill: #1967D2;\n",
              "      height: 32px;\n",
              "      padding: 0 0 0 0;\n",
              "      width: 32px;\n",
              "    }\n",
              "\n",
              "    .colab-df-convert:hover {\n",
              "      background-color: #E2EBFA;\n",
              "      box-shadow: 0px 1px 2px rgba(60, 64, 67, 0.3), 0px 1px 3px 1px rgba(60, 64, 67, 0.15);\n",
              "      fill: #174EA6;\n",
              "    }\n",
              "\n",
              "    [theme=dark] .colab-df-convert {\n",
              "      background-color: #3B4455;\n",
              "      fill: #D2E3FC;\n",
              "    }\n",
              "\n",
              "    [theme=dark] .colab-df-convert:hover {\n",
              "      background-color: #434B5C;\n",
              "      box-shadow: 0px 1px 3px 1px rgba(0, 0, 0, 0.15);\n",
              "      filter: drop-shadow(0px 1px 2px rgba(0, 0, 0, 0.3));\n",
              "      fill: #FFFFFF;\n",
              "    }\n",
              "  </style>\n",
              "\n",
              "      <script>\n",
              "        const buttonEl =\n",
              "          document.querySelector('#df-c5a53f0b-f04d-4e1e-8e7e-59353a9ee5b4 button.colab-df-convert');\n",
              "        buttonEl.style.display =\n",
              "          google.colab.kernel.accessAllowed ? 'block' : 'none';\n",
              "\n",
              "        async function convertToInteractive(key) {\n",
              "          const element = document.querySelector('#df-c5a53f0b-f04d-4e1e-8e7e-59353a9ee5b4');\n",
              "          const dataTable =\n",
              "            await google.colab.kernel.invokeFunction('convertToInteractive',\n",
              "                                                     [key], {});\n",
              "          if (!dataTable) return;\n",
              "\n",
              "          const docLinkHtml = 'Like what you see? Visit the ' +\n",
              "            '<a target=\"_blank\" href=https://colab.research.google.com/notebooks/data_table.ipynb>data table notebook</a>'\n",
              "            + ' to learn more about interactive tables.';\n",
              "          element.innerHTML = '';\n",
              "          dataTable['output_type'] = 'display_data';\n",
              "          await google.colab.output.renderOutput(dataTable, element);\n",
              "          const docLink = document.createElement('div');\n",
              "          docLink.innerHTML = docLinkHtml;\n",
              "          element.appendChild(docLink);\n",
              "        }\n",
              "      </script>\n",
              "    </div>\n",
              "  </div>\n",
              "  "
            ]
          },
          "metadata": {},
          "execution_count": 44
        }
      ]
    },
    {
      "cell_type": "code",
      "source": [
        "merge_sentence_only_10_st = merge_sentence_only_10[['id','topic_ng','topic','sentence_each']]"
      ],
      "metadata": {
        "id": "dKKPRrfig4IG"
      },
      "execution_count": null,
      "outputs": []
    },
    {
      "cell_type": "code",
      "source": [
        "# # remove choice\n",
        "\n",
        "# merge_sentence_only_10_st = merge_sentence_only_10_st[merge_sentence_only_10_st['topic_ng'] != 'choice']"
      ],
      "metadata": {
        "id": "rWUfgmnfiOHD"
      },
      "execution_count": null,
      "outputs": []
    },
    {
      "cell_type": "code",
      "source": [
        "len(merge_sentence_only_10_st)"
      ],
      "metadata": {
        "colab": {
          "base_uri": "https://localhost:8080/"
        },
        "id": "vWBpgZjZlSOP",
        "outputId": "23f32018-96ba-47e9-ba86-518f15fff197"
      },
      "execution_count": null,
      "outputs": [
        {
          "output_type": "execute_result",
          "data": {
            "text/plain": [
              "3110"
            ]
          },
          "metadata": {},
          "execution_count": 46
        }
      ]
    },
    {
      "cell_type": "code",
      "source": [
        "merge_sentence_only_10_st = merge_sentence_only_10_st.sample(len(merge_sentence_only_10_st))\n",
        "merge_sentence_only_10_st.to_excel('Georgia_topic_words_validation_sentence10_v2.xlsx')"
      ],
      "metadata": {
        "id": "y1GqYQnWgC6F"
      },
      "execution_count": null,
      "outputs": []
    }
  ]
}