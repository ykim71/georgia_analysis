{
  "nbformat": 4,
  "nbformat_minor": 0,
  "metadata": {
    "colab": {
      "provenance": [],
      "collapsed_sections": [
        "XY7I_gYVKEsa"
      ],
      "machine_shape": "hm",
      "include_colab_link": true
    },
    "kernelspec": {
      "name": "python3",
      "display_name": "Python 3"
    },
    "language_info": {
      "name": "python"
    },
    "gpuClass": "standard"
  },
  "cells": [
    {
      "cell_type": "markdown",
      "metadata": {
        "id": "view-in-github",
        "colab_type": "text"
      },
      "source": [
        "<a href=\"https://colab.research.google.com/github/ykim71/georgia_analysis/blob/main/(1)_Georgia_data_preparation.ipynb\" target=\"_parent\"><img src=\"https://colab.research.google.com/assets/colab-badge.svg\" alt=\"Open In Colab\"/></a>"
      ]
    },
    {
      "cell_type": "code",
      "execution_count": null,
      "metadata": {
        "id": "e7PpN2VVxH5c",
        "colab": {
          "base_uri": "https://localhost:8080/"
        },
        "outputId": "55ab182b-d335-44af-d96b-0dac5a248321"
      },
      "outputs": [
        {
          "output_type": "stream",
          "name": "stdout",
          "text": [
            "Mounted at /content/drive\n"
          ]
        }
      ],
      "source": [
        "from google.colab import drive\n",
        "drive.mount('/content/drive')"
      ]
    },
    {
      "cell_type": "code",
      "source": [
        "# need access to the folder(s) below:\n",
        "\n",
        "#%cd /content/drive/MyDrive/Georgia/\n"
      ],
      "metadata": {
        "id": "aPvEBRBtxzje"
      },
      "execution_count": null,
      "outputs": []
    },
    {
      "cell_type": "markdown",
      "source": [
        "## Data load/prep for translation"
      ],
      "metadata": {
        "id": "yDB2Hw3DPhw8"
      }
    },
    {
      "cell_type": "markdown",
      "source": [
        "### previous data (for tracking history purpose-only)"
      ],
      "metadata": {
        "id": "rNLrohlw7Wh5"
      }
    },
    {
      "cell_type": "code",
      "source": [
        "# not needed anymore\n",
        "#%cd /content/drive/MyDrive/Marquee data\n",
        "\n",
        "import pandas as pd\n",
        "import os\n",
        "path = os.getcwd()\n",
        "files = os.listdir(path)\n",
        "\n",
        "files_xls = [f for f in files if f[-4:] == 'xlsx']\n",
        "files_xls\n"
      ],
      "metadata": {
        "colab": {
          "base_uri": "https://localhost:8080/"
        },
        "id": "jF_YfqrxyWsD",
        "outputId": "3f98556e-f334-405e-afa2-0ed41df87bc3"
      },
      "execution_count": null,
      "outputs": [
        {
          "output_type": "execute_result",
          "data": {
            "text/plain": [
              "['addl_2_2023-01-30.xlsx',\n",
              " 'batch_1_2023-01-30.xlsx',\n",
              " 'batch_2_2023-01-30.xlsx',\n",
              " 'batch_3_2023-01-30.xlsx',\n",
              " 'batch_4_2023-01-30.xlsx',\n",
              " 'addl_1_2023-01-30.xlsx']"
            ]
          },
          "metadata": {},
          "execution_count": 12
        }
      ]
    },
    {
      "cell_type": "code",
      "source": [
        "df_list = []\n",
        "\n",
        "for f in files_xls:\n",
        "    data = pd.read_excel(f, dtype=object)\n",
        "    df_list.append(data)"
      ],
      "metadata": {
        "id": "GH8Cba7Mytdz"
      },
      "execution_count": null,
      "outputs": []
    },
    {
      "cell_type": "code",
      "source": [
        "df_frame = pd.concat(df_list, axis=0, ignore_index=True)\n"
      ],
      "metadata": {
        "id": "eHnmlNhpyt_T"
      },
      "execution_count": null,
      "outputs": []
    },
    {
      "cell_type": "code",
      "source": [
        "df_frame_nna = df_frame.dropna(subset=['article_text'])"
      ],
      "metadata": {
        "id": "yHhRdGZq82MT"
      },
      "execution_count": null,
      "outputs": []
    },
    {
      "cell_type": "code",
      "source": [
        "df_frame_nna = df_frame_nna.sort_values(by='source')"
      ],
      "metadata": {
        "id": "-yyujE1q1lMt"
      },
      "execution_count": null,
      "outputs": []
    },
    {
      "cell_type": "code",
      "source": [
        "samples_count = df_frame_nna.groupby('source').count()"
      ],
      "metadata": {
        "id": "N7w2TW1q4-fG"
      },
      "execution_count": null,
      "outputs": []
    },
    {
      "cell_type": "code",
      "source": [
        "min(df_frame_nna.date_published)"
      ],
      "metadata": {
        "colab": {
          "base_uri": "https://localhost:8080/",
          "height": 35
        },
        "id": "eERbYQqk5Bz3",
        "outputId": "aa82049a-593f-4231-c0b2-99c478c2363e"
      },
      "execution_count": null,
      "outputs": [
        {
          "output_type": "execute_result",
          "data": {
            "text/plain": [
              "'2022-09-15'"
            ],
            "application/vnd.google.colaboratory.intrinsic+json": {
              "type": "string"
            }
          },
          "metadata": {},
          "execution_count": 73
        }
      ]
    },
    {
      "cell_type": "code",
      "source": [
        "max(df_frame_nna.date_published)"
      ],
      "metadata": {
        "colab": {
          "base_uri": "https://localhost:8080/",
          "height": 35
        },
        "id": "edzi8qXk5RSi",
        "outputId": "fa8e14ef-af72-4e73-dc74-ab8541d54fb5"
      },
      "execution_count": null,
      "outputs": [
        {
          "output_type": "execute_result",
          "data": {
            "text/plain": [
              "'2022-10-15'"
            ],
            "application/vnd.google.colaboratory.intrinsic+json": {
              "type": "string"
            }
          },
          "metadata": {},
          "execution_count": 74
        }
      ]
    },
    {
      "cell_type": "code",
      "source": [
        "# remove line breaks\n",
        "df_frame_nna['article_text'] = df_frame_nna['article_text'].astype(str)\n",
        "df_frame_nna['article_text'] = df_frame_nna['article_text'].map(lambda x: x.replace('\\n', ' '))"
      ],
      "metadata": {
        "id": "B7xHPwlf9ZfL"
      },
      "execution_count": null,
      "outputs": []
    },
    {
      "cell_type": "code",
      "source": [
        "%cd /content/drive/MyDrive/Georgia\n",
        "\n",
        "df_frame_nna.to_pickle('Georgia_data_all.pkl')"
      ],
      "metadata": {
        "colab": {
          "base_uri": "https://localhost:8080/"
        },
        "id": "RqniIriS9tzV",
        "outputId": "0b40cf63-9633-4082-c101-0c79300ef933"
      },
      "execution_count": null,
      "outputs": [
        {
          "output_type": "stream",
          "name": "stdout",
          "text": [
            "/content/drive/MyDrive/Georgia\n"
          ]
        }
      ]
    },
    {
      "cell_type": "code",
      "source": [
        "import pandas as pd\n",
        "\n",
        "df_frame_nna = pd.read_pickle('Georgia_data_all.pkl')"
      ],
      "metadata": {
        "id": "En-I--YQYvG_"
      },
      "execution_count": null,
      "outputs": []
    },
    {
      "cell_type": "code",
      "source": [
        "import pandas as pd\n",
        "\n",
        "df_frame_nna = pd.read_pickle('Georgia_data_all_ner_lem.pkl')"
      ],
      "metadata": {
        "id": "vwX2pTsHE9Ez"
      },
      "execution_count": null,
      "outputs": []
    },
    {
      "cell_type": "code",
      "source": [
        "count = df_frame_nna.groupby('source')['article_text'].count()"
      ],
      "metadata": {
        "id": "s4UJHjHuFAQw"
      },
      "execution_count": null,
      "outputs": []
    },
    {
      "cell_type": "code",
      "source": [
        "count.to_excel('Georgia_source_list.xlsx')"
      ],
      "metadata": {
        "id": "WjDri-1SFLc4"
      },
      "execution_count": null,
      "outputs": []
    },
    {
      "cell_type": "markdown",
      "source": [
        "### updated version"
      ],
      "metadata": {
        "id": "XWekPoyZ7Y5A"
      }
    },
    {
      "cell_type": "code",
      "source": [
        "import pandas as pd\n",
        "\n",
        "df = pd.read_excel('/content/drive/MyDrive/Georgia (1)/Web Scraping /Updated Marquee data/delivery_2023-03-02.xlsx')"
      ],
      "metadata": {
        "id": "-Pi2-GOT7aqv"
      },
      "execution_count": null,
      "outputs": []
    },
    {
      "cell_type": "code",
      "source": [
        "df.columns"
      ],
      "metadata": {
        "colab": {
          "base_uri": "https://localhost:8080/"
        },
        "id": "_bmQHcM37zF8",
        "outputId": "9713afda-b19d-4392-9b56-7deec3b2f92a"
      },
      "execution_count": null,
      "outputs": [
        {
          "output_type": "execute_result",
          "data": {
            "text/plain": [
              "Index(['source', 'website', 'article_url', 'article_title', 'article_author',\n",
              "       'date_published', 'article_text'],\n",
              "      dtype='object')"
            ]
          },
          "metadata": {},
          "execution_count": 7
        }
      ]
    },
    {
      "cell_type": "code",
      "source": [
        "temp = df.groupby(['source']).count().reset_index()\n",
        "temp[temp['source'].str.contains(\"Northside Neighbor|Paulding Neighbor|South Fulton Neighbor|Marietta Daily Journal\")]\n",
        "# Northside Neighbor, Paulding Neighbor, South Fulton Neighbor, Marietta Daily Journal"
      ],
      "metadata": {
        "colab": {
          "base_uri": "https://localhost:8080/",
          "height": 175
        },
        "id": "TLeQNgt47iOu",
        "outputId": "afb56085-9fa1-4ef4-cb84-530168ca0330"
      },
      "execution_count": null,
      "outputs": [
        {
          "output_type": "execute_result",
          "data": {
            "text/plain": [
              "                     source  website  article_url  article_title  \\\n",
              "120  Marietta Daily Journal    11695        11695          11695   \n",
              "132      Northside Neighbor     4601         4601           4601   \n",
              "138       Paulding Neighbor     4416         4416           4416   \n",
              "154   South Fulton Neighbor     7354         7354           7354   \n",
              "\n",
              "     article_author  date_published  article_text  \n",
              "120            9739           11695         11619  \n",
              "132            4096            4601          4599  \n",
              "138            3979            4416          4414  \n",
              "154            6565            7354          7351  "
            ],
            "text/html": [
              "\n",
              "  <div id=\"df-4c572965-4482-4e83-9fb3-18fc9b65ea15\">\n",
              "    <div class=\"colab-df-container\">\n",
              "      <div>\n",
              "<style scoped>\n",
              "    .dataframe tbody tr th:only-of-type {\n",
              "        vertical-align: middle;\n",
              "    }\n",
              "\n",
              "    .dataframe tbody tr th {\n",
              "        vertical-align: top;\n",
              "    }\n",
              "\n",
              "    .dataframe thead th {\n",
              "        text-align: right;\n",
              "    }\n",
              "</style>\n",
              "<table border=\"1\" class=\"dataframe\">\n",
              "  <thead>\n",
              "    <tr style=\"text-align: right;\">\n",
              "      <th></th>\n",
              "      <th>source</th>\n",
              "      <th>website</th>\n",
              "      <th>article_url</th>\n",
              "      <th>article_title</th>\n",
              "      <th>article_author</th>\n",
              "      <th>date_published</th>\n",
              "      <th>article_text</th>\n",
              "    </tr>\n",
              "  </thead>\n",
              "  <tbody>\n",
              "    <tr>\n",
              "      <th>120</th>\n",
              "      <td>Marietta Daily Journal</td>\n",
              "      <td>11695</td>\n",
              "      <td>11695</td>\n",
              "      <td>11695</td>\n",
              "      <td>9739</td>\n",
              "      <td>11695</td>\n",
              "      <td>11619</td>\n",
              "    </tr>\n",
              "    <tr>\n",
              "      <th>132</th>\n",
              "      <td>Northside Neighbor</td>\n",
              "      <td>4601</td>\n",
              "      <td>4601</td>\n",
              "      <td>4601</td>\n",
              "      <td>4096</td>\n",
              "      <td>4601</td>\n",
              "      <td>4599</td>\n",
              "    </tr>\n",
              "    <tr>\n",
              "      <th>138</th>\n",
              "      <td>Paulding Neighbor</td>\n",
              "      <td>4416</td>\n",
              "      <td>4416</td>\n",
              "      <td>4416</td>\n",
              "      <td>3979</td>\n",
              "      <td>4416</td>\n",
              "      <td>4414</td>\n",
              "    </tr>\n",
              "    <tr>\n",
              "      <th>154</th>\n",
              "      <td>South Fulton Neighbor</td>\n",
              "      <td>7354</td>\n",
              "      <td>7354</td>\n",
              "      <td>7354</td>\n",
              "      <td>6565</td>\n",
              "      <td>7354</td>\n",
              "      <td>7351</td>\n",
              "    </tr>\n",
              "  </tbody>\n",
              "</table>\n",
              "</div>\n",
              "      <button class=\"colab-df-convert\" onclick=\"convertToInteractive('df-4c572965-4482-4e83-9fb3-18fc9b65ea15')\"\n",
              "              title=\"Convert this dataframe to an interactive table.\"\n",
              "              style=\"display:none;\">\n",
              "        \n",
              "  <svg xmlns=\"http://www.w3.org/2000/svg\" height=\"24px\"viewBox=\"0 0 24 24\"\n",
              "       width=\"24px\">\n",
              "    <path d=\"M0 0h24v24H0V0z\" fill=\"none\"/>\n",
              "    <path d=\"M18.56 5.44l.94 2.06.94-2.06 2.06-.94-2.06-.94-.94-2.06-.94 2.06-2.06.94zm-11 1L8.5 8.5l.94-2.06 2.06-.94-2.06-.94L8.5 2.5l-.94 2.06-2.06.94zm10 10l.94 2.06.94-2.06 2.06-.94-2.06-.94-.94-2.06-.94 2.06-2.06.94z\"/><path d=\"M17.41 7.96l-1.37-1.37c-.4-.4-.92-.59-1.43-.59-.52 0-1.04.2-1.43.59L10.3 9.45l-7.72 7.72c-.78.78-.78 2.05 0 2.83L4 21.41c.39.39.9.59 1.41.59.51 0 1.02-.2 1.41-.59l7.78-7.78 2.81-2.81c.8-.78.8-2.07 0-2.86zM5.41 20L4 18.59l7.72-7.72 1.47 1.35L5.41 20z\"/>\n",
              "  </svg>\n",
              "      </button>\n",
              "      \n",
              "  <style>\n",
              "    .colab-df-container {\n",
              "      display:flex;\n",
              "      flex-wrap:wrap;\n",
              "      gap: 12px;\n",
              "    }\n",
              "\n",
              "    .colab-df-convert {\n",
              "      background-color: #E8F0FE;\n",
              "      border: none;\n",
              "      border-radius: 50%;\n",
              "      cursor: pointer;\n",
              "      display: none;\n",
              "      fill: #1967D2;\n",
              "      height: 32px;\n",
              "      padding: 0 0 0 0;\n",
              "      width: 32px;\n",
              "    }\n",
              "\n",
              "    .colab-df-convert:hover {\n",
              "      background-color: #E2EBFA;\n",
              "      box-shadow: 0px 1px 2px rgba(60, 64, 67, 0.3), 0px 1px 3px 1px rgba(60, 64, 67, 0.15);\n",
              "      fill: #174EA6;\n",
              "    }\n",
              "\n",
              "    [theme=dark] .colab-df-convert {\n",
              "      background-color: #3B4455;\n",
              "      fill: #D2E3FC;\n",
              "    }\n",
              "\n",
              "    [theme=dark] .colab-df-convert:hover {\n",
              "      background-color: #434B5C;\n",
              "      box-shadow: 0px 1px 3px 1px rgba(0, 0, 0, 0.15);\n",
              "      filter: drop-shadow(0px 1px 2px rgba(0, 0, 0, 0.3));\n",
              "      fill: #FFFFFF;\n",
              "    }\n",
              "  </style>\n",
              "\n",
              "      <script>\n",
              "        const buttonEl =\n",
              "          document.querySelector('#df-4c572965-4482-4e83-9fb3-18fc9b65ea15 button.colab-df-convert');\n",
              "        buttonEl.style.display =\n",
              "          google.colab.kernel.accessAllowed ? 'block' : 'none';\n",
              "\n",
              "        async function convertToInteractive(key) {\n",
              "          const element = document.querySelector('#df-4c572965-4482-4e83-9fb3-18fc9b65ea15');\n",
              "          const dataTable =\n",
              "            await google.colab.kernel.invokeFunction('convertToInteractive',\n",
              "                                                     [key], {});\n",
              "          if (!dataTable) return;\n",
              "\n",
              "          const docLinkHtml = 'Like what you see? Visit the ' +\n",
              "            '<a target=\"_blank\" href=https://colab.research.google.com/notebooks/data_table.ipynb>data table notebook</a>'\n",
              "            + ' to learn more about interactive tables.';\n",
              "          element.innerHTML = '';\n",
              "          dataTable['output_type'] = 'display_data';\n",
              "          await google.colab.output.renderOutput(dataTable, element);\n",
              "          const docLink = document.createElement('div');\n",
              "          docLink.innerHTML = docLinkHtml;\n",
              "          element.appendChild(docLink);\n",
              "        }\n",
              "      </script>\n",
              "    </div>\n",
              "  </div>\n",
              "  "
            ]
          },
          "metadata": {},
          "execution_count": 28
        }
      ]
    },
    {
      "cell_type": "code",
      "source": [
        "df_nna = df.dropna(subset=['article_text']) # this was for checking to see how many duplicated articles (some sources function like AP publishing the same articles)"
      ],
      "metadata": {
        "id": "GFyjTZO2Ek2f"
      },
      "execution_count": null,
      "outputs": []
    },
    {
      "cell_type": "code",
      "source": [
        "print(len(df_nna))\n",
        "print(len(df))"
      ],
      "metadata": {
        "colab": {
          "base_uri": "https://localhost:8080/"
        },
        "id": "StT4BWGdFKnb",
        "outputId": "97184bb7-6d8b-4430-daeb-92d452609cc7"
      },
      "execution_count": null,
      "outputs": [
        {
          "output_type": "stream",
          "name": "stdout",
          "text": [
            "192206\n",
            "214945\n"
          ]
        }
      ]
    },
    {
      "cell_type": "code",
      "source": [
        "df_nna_sample = df_nna.groupby('source').apply(lambda x: x.sample(10, replace=False)).reset_index(drop=True) # see random 10 samplesl but there are some sources that have less than 10 articles published\n",
        "df_nna_sample.to_excel('df_nna_sample.xlsx')"
      ],
      "metadata": {
        "id": "RurI0ukfHTjs"
      },
      "execution_count": null,
      "outputs": []
    },
    {
      "cell_type": "code",
      "source": [
        "len(df_nna_sample)"
      ],
      "metadata": {
        "colab": {
          "base_uri": "https://localhost:8080/"
        },
        "id": "FCo6PRQfIk-o",
        "outputId": "68409031-df5d-479c-90d2-d5c2078d8472"
      },
      "execution_count": null,
      "outputs": [
        {
          "output_type": "execute_result",
          "data": {
            "text/plain": [
              "2310"
            ]
          },
          "metadata": {},
          "execution_count": 34
        }
      ]
    },
    {
      "cell_type": "markdown",
      "source": [
        "### translation"
      ],
      "metadata": {
        "id": "XY7I_gYVKEsa"
      }
    },
    {
      "cell_type": "code",
      "source": [
        "%cd /content/drive/MyDrive/Georgia_YK"
      ],
      "metadata": {
        "id": "xnT_RJV-ShUc"
      },
      "execution_count": null,
      "outputs": []
    },
    {
      "cell_type": "code",
      "source": [
        "# this file is from df_nna_sample.xlsx with checking what language is used in the article on Google Sheet \n",
        "# how other languages than english is written in the random 10 articles \n",
        "df_sample_lang = pd.read_excel('df_nna_sample_wlang.xlsx') "
      ],
      "metadata": {
        "id": "_wHxYXpdK1cP"
      },
      "execution_count": null,
      "outputs": []
    },
    {
      "cell_type": "code",
      "source": [
        "df_sample_lang = df_sample_lang[['source', 'LANGUAGE']].dropna(subset=['LANGUAGE']).drop_duplicates()"
      ],
      "metadata": {
        "id": "nHz_rM9qK7cr"
      },
      "execution_count": null,
      "outputs": []
    },
    {
      "cell_type": "code",
      "source": [
        "df_sample_lang_article = pd.merge(df_sample_lang, df_nna, how=\"left\", on=\"source\")"
      ],
      "metadata": {
        "id": "4Dhma9CkLwdm"
      },
      "execution_count": null,
      "outputs": []
    },
    {
      "cell_type": "code",
      "source": [
        "df_sample_lang_article.to_excel('df_sample_lang_article_translation.xlsx')"
      ],
      "metadata": {
        "id": "fkA1IEGIL2DG"
      },
      "execution_count": null,
      "outputs": []
    },
    {
      "cell_type": "code",
      "source": [
        "#df_sample_lang_article[0:5000].to_excel('df_sample_lang_article_translation_file1.xlsx')\n",
        "df_sample_lang_article[5000:10000].to_excel('df_sample_lang_article_translation_file2.xlsx')\n",
        "df_sample_lang_article[10000:15000].to_excel('df_sample_lang_article_translation_file3.xlsx')\n",
        "df_sample_lang_article[15000:len(df_sample_lang_article)].to_excel('df_sample_lang_article_translation_file4.xlsx')"
      ],
      "metadata": {
        "id": "U15RGOy7M6Q4"
      },
      "execution_count": null,
      "outputs": []
    },
    {
      "cell_type": "code",
      "source": [
        "# translated version; files have been moved or deleted\n",
        "temp1 = pd.read_excel('translation/df_sample_lang_article_translation_file1.xlsx')\n",
        "temp2 = pd.read_excel('translation/df_sample_lang_article_translation_file2.xlsx')\n",
        "temp3 = pd.read_excel('translation/df_sample_lang_article_translation_file3.xlsx')\n",
        "temp4 = pd.read_excel('translation/df_sample_lang_article_translation_file4.xlsx')\n"
      ],
      "metadata": {
        "id": "q7Pthe4aYTaA"
      },
      "execution_count": null,
      "outputs": []
    },
    {
      "cell_type": "code",
      "source": [
        "df_translation = pd.concat([temp1, temp2, temp3, temp4]) "
      ],
      "metadata": {
        "id": "lukXsQm9b8XP"
      },
      "execution_count": null,
      "outputs": []
    },
    {
      "cell_type": "code",
      "source": [
        "# merging those articles in other languages with those in English\n",
        "import numpy as np\n",
        "\n",
        "df_translation['article_text2'] = np.where(df_translation['article_text_translated'].isnull(), \n",
        "                                           df_translation['article_text'],\n",
        "                                           df_translation['article_text_translated'])\n"
      ],
      "metadata": {
        "id": "Y46J391NvFep"
      },
      "execution_count": null,
      "outputs": []
    },
    {
      "cell_type": "code",
      "source": [
        "df_translation.columns"
      ],
      "metadata": {
        "colab": {
          "base_uri": "https://localhost:8080/"
        },
        "id": "mROyNgzVwJpD",
        "outputId": "726a0fbb-416f-40de-8f4f-e8077b5aa2b8"
      },
      "execution_count": null,
      "outputs": [
        {
          "output_type": "execute_result",
          "data": {
            "text/plain": [
              "Index(['source', 'LANGUAGE', 'website', 'article_url', 'article_title',\n",
              "       'article_author', 'date_published', 'article_text',\n",
              "       'article_text_translated', 'LANGUAGE.1', 'article_text2'],\n",
              "      dtype='object')"
            ]
          },
          "metadata": {},
          "execution_count": 122
        }
      ]
    },
    {
      "cell_type": "code",
      "source": [
        "test = df_translation.groupby(['source','LANGUAGE'])['article_text_translated'].count().reset_index()\n"
      ],
      "metadata": {
        "id": "_SYpCQx7dGV7"
      },
      "execution_count": null,
      "outputs": []
    },
    {
      "cell_type": "code",
      "source": [
        "test[test['LANGUAGE']=='es']['article_text_translated'].sum()"
      ],
      "metadata": {
        "colab": {
          "base_uri": "https://localhost:8080/"
        },
        "id": "5eOmVmDBo4Vy",
        "outputId": "e9c3806f-7f90-4e2e-a908-1f13c55645aa"
      },
      "execution_count": null,
      "outputs": [
        {
          "output_type": "execute_result",
          "data": {
            "text/plain": [
              "3404"
            ]
          },
          "metadata": {},
          "execution_count": 90
        }
      ]
    },
    {
      "cell_type": "code",
      "source": [
        "test[test['LANGUAGE']=='fil']['article_text_translated'].sum()"
      ],
      "metadata": {
        "colab": {
          "base_uri": "https://localhost:8080/"
        },
        "id": "fV0RWEZ2qGwr",
        "outputId": "7c153f45-736c-42fd-9557-1ea13f7c2b65"
      },
      "execution_count": null,
      "outputs": [
        {
          "output_type": "execute_result",
          "data": {
            "text/plain": [
              "1"
            ]
          },
          "metadata": {},
          "execution_count": 91
        }
      ]
    },
    {
      "cell_type": "code",
      "source": [
        "test[test['LANGUAGE']=='ko']['article_text_translated'].sum()"
      ],
      "metadata": {
        "colab": {
          "base_uri": "https://localhost:8080/"
        },
        "id": "jv_3FB_-qTHA",
        "outputId": "1b75fdcc-422a-4983-fa65-0b6891ecad4c"
      },
      "execution_count": null,
      "outputs": [
        {
          "output_type": "execute_result",
          "data": {
            "text/plain": [
              "803"
            ]
          },
          "metadata": {},
          "execution_count": 92
        }
      ]
    },
    {
      "cell_type": "code",
      "source": [
        "len(test[test['LANGUAGE']==\"es\"])"
      ],
      "metadata": {
        "colab": {
          "base_uri": "https://localhost:8080/"
        },
        "id": "3RZij7pcoxts",
        "outputId": "1fc71a8c-60d4-428a-bce4-8cdac925227b"
      },
      "execution_count": null,
      "outputs": [
        {
          "output_type": "execute_result",
          "data": {
            "text/plain": [
              "17"
            ]
          },
          "metadata": {},
          "execution_count": 85
        }
      ]
    },
    {
      "cell_type": "code",
      "source": [
        "df_sample_lang_list = list(set(df_sample_lang.source.values.tolist()))\n",
        "df_source_list = list(set(df_nna.source.values.tolist()))\n"
      ],
      "metadata": {
        "id": "D-_p--WUsK3I"
      },
      "execution_count": null,
      "outputs": []
    },
    {
      "cell_type": "code",
      "source": [
        "df_source_list_en = [i for i in df_source_list if i not in df_sample_lang_list]"
      ],
      "metadata": {
        "id": "_buW2WMJs2uF"
      },
      "execution_count": null,
      "outputs": []
    },
    {
      "cell_type": "code",
      "source": [
        "print(len(df_source_list_en))\n",
        "print(len(df_source_list))\n",
        "print(len(df_sample_lang_list))"
      ],
      "metadata": {
        "colab": {
          "base_uri": "https://localhost:8080/"
        },
        "id": "fupxOeWqtT2f",
        "outputId": "7e7146df-3c93-4a17-f26c-bcc9990c0056"
      },
      "execution_count": null,
      "outputs": [
        {
          "output_type": "stream",
          "name": "stdout",
          "text": [
            "212\n",
            "231\n",
            "19\n"
          ]
        }
      ]
    },
    {
      "cell_type": "code",
      "source": [
        "df_source_list_en_only = pd.DataFrame(df_source_list_en, columns = [\"source\"])"
      ],
      "metadata": {
        "id": "Toul7wfDuFYf"
      },
      "execution_count": null,
      "outputs": []
    },
    {
      "cell_type": "code",
      "source": [
        "df_source_list_en_only['en_source'] = 1"
      ],
      "metadata": {
        "id": "48U0DroBuKOm"
      },
      "execution_count": null,
      "outputs": []
    },
    {
      "cell_type": "code",
      "source": [
        "df_source_list_en_only = pd.merge(df_source_list_en_only, df_nna, how=\"left\", on=\"source\")"
      ],
      "metadata": {
        "id": "iVSDrFcIuKHT"
      },
      "execution_count": null,
      "outputs": []
    },
    {
      "cell_type": "code",
      "source": [
        "df_translation_done = df_translation[['source', 'website', 'article_url', 'article_title',\n",
        "       'article_author', 'date_published', 'article_text2']]\n"
      ],
      "metadata": {
        "id": "px9Lmnf3wVsx"
      },
      "execution_count": null,
      "outputs": []
    },
    {
      "cell_type": "code",
      "source": [
        "df_source_merge = pd.concat([df_source_list_en_only, df_translation_done])"
      ],
      "metadata": {
        "id": "mw4Ze04UuYZX"
      },
      "execution_count": null,
      "outputs": []
    },
    {
      "cell_type": "code",
      "source": [
        "print(len(df_nna))\n",
        "print(len(df_source_merge))"
      ],
      "metadata": {
        "colab": {
          "base_uri": "https://localhost:8080/"
        },
        "id": "Mhe12lllukQ-",
        "outputId": "7cb10e1d-1204-493c-fb2c-c41a35bbc4a6"
      },
      "execution_count": null,
      "outputs": [
        {
          "output_type": "stream",
          "name": "stdout",
          "text": [
            "192206\n",
            "192206\n"
          ]
        }
      ]
    },
    {
      "cell_type": "code",
      "source": [
        "df_source_merge['article_final'] = np.where(df_source_merge['article_text2'].isnull(), df_source_merge['article_text'], df_source_merge['article_text2']) #CO: consider double-checking. I don't see anything wrong but I'm not familiar with np.where and this step seems important.)"
      ],
      "metadata": {
        "id": "bbu9Anz9wuGM"
      },
      "execution_count": null,
      "outputs": []
    },
    {
      "cell_type": "code",
      "source": [
        "df_source_merge['article_final'].isnull().sum()"
      ],
      "metadata": {
        "id": "vdxCW6V-wNkn",
        "colab": {
          "base_uri": "https://localhost:8080/"
        },
        "outputId": "dd14a926-9d0c-4b02-8d7e-421a24c03f25"
      },
      "execution_count": null,
      "outputs": [
        {
          "output_type": "execute_result",
          "data": {
            "text/plain": [
              "0"
            ]
          },
          "metadata": {},
          "execution_count": 132
        }
      ]
    },
    {
      "cell_type": "code",
      "source": [
        "df_source_merge_final = df_source_merge.drop(columns = ['article_text', 'article_text2'])"
      ],
      "metadata": {
        "id": "dCrLLRSFxCiz"
      },
      "execution_count": null,
      "outputs": []
    },
    {
      "cell_type": "code",
      "source": [
        "df_source_merge_final.to_pickle('Georgia_data_v2_translation.pkl') # this is a first version of merge data with translation (deleted)"
      ],
      "metadata": {
        "id": "WG0HhPz6xKKi"
      },
      "execution_count": null,
      "outputs": []
    },
    {
      "cell_type": "markdown",
      "source": [
        "## Prep for topic analysis"
      ],
      "metadata": {
        "id": "fbrosYrr-aUs"
      }
    },
    {
      "cell_type": "code",
      "source": [
        "%cd /content/drive/MyDrive/Georgia/Topic Dictionaries"
      ],
      "metadata": {
        "id": "ffQuVIAKTdgi"
      },
      "execution_count": null,
      "outputs": []
    },
    {
      "cell_type": "code",
      "source": [
        "# lemmatization if needed\n",
        "import spacy\n",
        "import re\n",
        "\n",
        "nlp = spacy.load(\"en_core_web_sm\", disable=['ner', 'parser']) # disabling Named Entity Recognition for speed\n"
      ],
      "metadata": {
        "id": "SdihvUuVapaU",
        "colab": {
          "base_uri": "https://localhost:8080/"
        },
        "outputId": "e133579e-6354-43be-b7d0-b978ce05ddf0"
      },
      "execution_count": null,
      "outputs": [
        {
          "output_type": "stream",
          "name": "stderr",
          "text": [
            "/usr/local/lib/python3.9/dist-packages/torch/cuda/__init__.py:497: UserWarning: Can't initialize NVML\n",
            "  warnings.warn(\"Can't initialize NVML\")\n"
          ]
        }
      ]
    },
    {
      "cell_type": "code",
      "source": [
        "def get_lemmas_num(text): \n",
        "\n",
        "    regex = re.compile('[^a-zA-Z0-9]')\n",
        "\n",
        "    lemmas = []\n",
        "    \n",
        "    doc = nlp(text)\n",
        "\n",
        "    for token in doc: \n",
        "        if ((token.is_stop == False) and (token.is_punct == False)) and (token.pos_ != 'PRON') and (token.text != 'NA'): # spaCy has some issues by printing pronoun tagger\n",
        "            lemmas.append(regex.sub('', token.lemma_)) #CO: consider double-checking\n",
        "    \n",
        "    return ' '.join(lemmas)"
      ],
      "metadata": {
        "id": "yakNpLYL9r9n"
      },
      "execution_count": null,
      "outputs": []
    },
    {
      "cell_type": "code",
      "source": [
        "df_source_merge_final['article_lemma_num'] = df_source_merge_final['article_final'].str.lower().astype(str).apply(get_lemmas_num) # lematization not require capitalization \n"
      ],
      "metadata": {
        "id": "ntrfoKZe-iW5"
      },
      "execution_count": null,
      "outputs": []
    },
    {
      "cell_type": "code",
      "source": [
        "#df_source_merge_final.to_pickle('Georgia_data_v2_translation_ner_lem.pkl') # commented this line to prevent from saving it"
      ],
      "metadata": {
        "id": "HSZvqDkHbXHs"
      },
      "execution_count": null,
      "outputs": []
    },
    {
      "cell_type": "markdown",
      "source": [
        "## Prep for place analysis"
      ],
      "metadata": {
        "id": "JgTpKxDx-YMU"
      }
    },
    {
      "cell_type": "code",
      "source": [
        "%cd /content/drive/MyDrive/Georgia/Locations Analysis"
      ],
      "metadata": {
        "id": "PFZz3K7xSlBq"
      },
      "execution_count": null,
      "outputs": []
    },
    {
      "cell_type": "code",
      "source": [
        "import pandas as pd #CO: alread imported above\n",
        "\n",
        "df_source_merge_final = pd.read_pickle('/content/drive/MyDrive/Georgia/Web Scraping/Georgia_data_v2_translation_ner2_lem.pkl') #CO: file name differs from what I'm seeing in the folder\n"
      ],
      "metadata": {
        "id": "7WKF8OS4RkoU"
      },
      "execution_count": null,
      "outputs": []
    },
    {
      "cell_type": "code",
      "source": [
        "# lemmatization if needed\n",
        "import spacy #CO: alread imported above\n",
        "from spacy import displacy\n",
        "\n",
        "sp = spacy.load('en_core_web_sm', disable=[\"tok2vec\", \"tagger\", \"parser\", \"attribute_ruler\", \"lemmatizer\"])\n"
      ],
      "metadata": {
        "id": "Leu0aduT9jp5",
        "colab": {
          "base_uri": "https://localhost:8080/"
        },
        "outputId": "ba7617ad-0b88-42e7-bd25-f7eb6322fa49"
      },
      "execution_count": null,
      "outputs": [
        {
          "output_type": "stream",
          "name": "stderr",
          "text": [
            "/usr/local/lib/python3.8/dist-packages/torch/cuda/__init__.py:497: UserWarning: Can't initialize NVML\n",
            "  warnings.warn(\"Can't initialize NVML\")\n"
          ]
        }
      ]
    },
    {
      "cell_type": "code",
      "source": [
        "#CO: this also seems to be in the script \"(2)_Georgia_place_analysis.ipynb\". Maybe you only need it once?\n",
        "\n",
        "def text_ner_place(text):\n",
        "  text = sp(text)\n",
        "  \n",
        "  ner_list = []\n",
        "  \n",
        "  for entity in text.ents:\n",
        "    if entity.label_ == \"FAC\":\n",
        "      ner_list.append(entity.text + \" (\" + entity.label_ + \")\")\n",
        "    if entity.label_ == \"GPE\":\n",
        "      ner_list.append(entity.text + \" (\" + entity.label_ + \")\")\n",
        "    if entity.label_ == \"LOC\":\n",
        "      ner_list.append(entity.text + \" (\" + entity.label_ + \")\")\n",
        "    else:\n",
        "      None\n",
        "  return str(set(ner_list))\n"
      ],
      "metadata": {
        "id": "r2S86oeO-Pqd"
      },
      "execution_count": null,
      "outputs": []
    },
    {
      "cell_type": "code",
      "source": [
        "df_source_merge_final['ner_places'] = df_source_merge_final['article_final'].astype(str).apply(text_ner_place)"
      ],
      "metadata": {
        "id": "ydmHijaN-WNn"
      },
      "execution_count": null,
      "outputs": []
    },
    {
      "cell_type": "code",
      "source": [
        "#df_source_merge_final.to_pickle('Georgia_data_v2_translation_ner.pkl') # commented this line to prevent from saving it"
      ],
      "metadata": {
        "id": "lKyUNAawaALt"
      },
      "execution_count": null,
      "outputs": []
    }
  ]
}