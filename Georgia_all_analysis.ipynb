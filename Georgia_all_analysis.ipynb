{
  "nbformat": 4,
  "nbformat_minor": 0,
  "metadata": {
    "colab": {
      "provenance": [],
      "collapsed_sections": [
        "rNLrohlw7Wh5",
        "XY7I_gYVKEsa",
        "Ggu0MvMFQmx-",
        "E_2Yq8CIL-Cy",
        "WhN88B4bG-L4"
      ],
      "machine_shape": "hm",
      "include_colab_link": true
    },
    "kernelspec": {
      "name": "python3",
      "display_name": "Python 3"
    },
    "language_info": {
      "name": "python"
    },
    "gpuClass": "standard"
  },
  "cells": [
    {
      "cell_type": "markdown",
      "metadata": {
        "id": "view-in-github",
        "colab_type": "text"
      },
      "source": [
        "<a href=\"https://colab.research.google.com/github/ykim71/georgia_analysis/blob/main/Georgia_all_analysis.ipynb\" target=\"_parent\"><img src=\"https://colab.research.google.com/assets/colab-badge.svg\" alt=\"Open In Colab\"/></a>"
      ]
    },
    {
      "cell_type": "code",
      "execution_count": null,
      "metadata": {
        "id": "e7PpN2VVxH5c",
        "colab": {
          "base_uri": "https://localhost:8080/"
        },
        "outputId": "9c0890b3-b5f4-4af0-bc2a-1c30496ee0a1"
      },
      "outputs": [
        {
          "output_type": "stream",
          "name": "stdout",
          "text": [
            "Mounted at /content/drive\n"
          ]
        }
      ],
      "source": [
        "from google.colab import drive\n",
        "drive.mount('/content/drive')"
      ]
    },
    {
      "cell_type": "code",
      "source": [
        "# need access to the folder(s) below:\n",
        "\n",
        "#%cd /content/drive/MyDrive/Georgia/\n"
      ],
      "metadata": {
        "id": "aPvEBRBtxzje",
        "colab": {
          "base_uri": "https://localhost:8080/"
        },
        "outputId": "ae273421-18f5-44ab-fb44-8797ca3ade05"
      },
      "execution_count": null,
      "outputs": [
        {
          "output_type": "stream",
          "name": "stdout",
          "text": [
            "/content/drive/.shortcut-targets-by-id/1YSQ9BBnwwRu7fyeM_9V6eoFgKQBPl4Rr/Georgia/Locations Analysis\n"
          ]
        }
      ]
    },
    {
      "cell_type": "markdown",
      "source": [
        "## Data load/prep for translation"
      ],
      "metadata": {
        "id": "yDB2Hw3DPhw8"
      }
    },
    {
      "cell_type": "markdown",
      "source": [
        "### previous data"
      ],
      "metadata": {
        "id": "rNLrohlw7Wh5"
      }
    },
    {
      "cell_type": "code",
      "source": [
        "# not needed anymore\n",
        "#%cd /content/drive/MyDrive/Marquee data\n",
        "\n",
        "import pandas as pd\n",
        "import os\n",
        "path = os.getcwd()\n",
        "files = os.listdir(path)\n",
        "\n",
        "files_xls = [f for f in files if f[-4:] == 'xlsx']\n",
        "files_xls\n"
      ],
      "metadata": {
        "colab": {
          "base_uri": "https://localhost:8080/"
        },
        "id": "jF_YfqrxyWsD",
        "outputId": "3f98556e-f334-405e-afa2-0ed41df87bc3"
      },
      "execution_count": null,
      "outputs": [
        {
          "output_type": "execute_result",
          "data": {
            "text/plain": [
              "['addl_2_2023-01-30.xlsx',\n",
              " 'batch_1_2023-01-30.xlsx',\n",
              " 'batch_2_2023-01-30.xlsx',\n",
              " 'batch_3_2023-01-30.xlsx',\n",
              " 'batch_4_2023-01-30.xlsx',\n",
              " 'addl_1_2023-01-30.xlsx']"
            ]
          },
          "metadata": {},
          "execution_count": 12
        }
      ]
    },
    {
      "cell_type": "code",
      "source": [
        "df_list = []\n",
        "\n",
        "for f in files_xls:\n",
        "    data = pd.read_excel(f, dtype=object)\n",
        "    df_list.append(data)"
      ],
      "metadata": {
        "id": "GH8Cba7Mytdz"
      },
      "execution_count": null,
      "outputs": []
    },
    {
      "cell_type": "code",
      "source": [
        "df_frame = pd.concat(df_list, axis=0, ignore_index=True)\n"
      ],
      "metadata": {
        "id": "eHnmlNhpyt_T"
      },
      "execution_count": null,
      "outputs": []
    },
    {
      "cell_type": "code",
      "source": [
        "df_frame_nna = df_frame.dropna(subset=['article_text'])"
      ],
      "metadata": {
        "id": "yHhRdGZq82MT"
      },
      "execution_count": null,
      "outputs": []
    },
    {
      "cell_type": "code",
      "source": [
        "df_frame_nna = df_frame_nna.sort_values(by='source')"
      ],
      "metadata": {
        "id": "-yyujE1q1lMt"
      },
      "execution_count": null,
      "outputs": []
    },
    {
      "cell_type": "code",
      "source": [
        "samples_count = df_frame_nna.groupby('source').count()"
      ],
      "metadata": {
        "id": "N7w2TW1q4-fG"
      },
      "execution_count": null,
      "outputs": []
    },
    {
      "cell_type": "code",
      "source": [
        "samples_count"
      ],
      "metadata": {
        "id": "V8OsxKzbcySJ"
      },
      "execution_count": null,
      "outputs": []
    },
    {
      "cell_type": "code",
      "source": [
        "min(df_frame_nna.date_published)"
      ],
      "metadata": {
        "colab": {
          "base_uri": "https://localhost:8080/",
          "height": 35
        },
        "id": "eERbYQqk5Bz3",
        "outputId": "aa82049a-593f-4231-c0b2-99c478c2363e"
      },
      "execution_count": null,
      "outputs": [
        {
          "output_type": "execute_result",
          "data": {
            "text/plain": [
              "'2022-09-15'"
            ],
            "application/vnd.google.colaboratory.intrinsic+json": {
              "type": "string"
            }
          },
          "metadata": {},
          "execution_count": 73
        }
      ]
    },
    {
      "cell_type": "code",
      "source": [
        "max(df_frame_nna.date_published)"
      ],
      "metadata": {
        "colab": {
          "base_uri": "https://localhost:8080/",
          "height": 35
        },
        "id": "edzi8qXk5RSi",
        "outputId": "fa8e14ef-af72-4e73-dc74-ab8541d54fb5"
      },
      "execution_count": null,
      "outputs": [
        {
          "output_type": "execute_result",
          "data": {
            "text/plain": [
              "'2022-10-15'"
            ],
            "application/vnd.google.colaboratory.intrinsic+json": {
              "type": "string"
            }
          },
          "metadata": {},
          "execution_count": 74
        }
      ]
    },
    {
      "cell_type": "code",
      "source": [
        "len(df_frame)"
      ],
      "metadata": {
        "colab": {
          "base_uri": "https://localhost:8080/"
        },
        "id": "7Tk6WRLH8zWX",
        "outputId": "1c5ed518-1b48-4549-cc21-5ababc3607b6"
      },
      "execution_count": null,
      "outputs": [
        {
          "output_type": "execute_result",
          "data": {
            "text/plain": [
              "215346"
            ]
          },
          "metadata": {},
          "execution_count": 68
        }
      ]
    },
    {
      "cell_type": "code",
      "source": [
        "len(df_frame_nna)"
      ],
      "metadata": {
        "colab": {
          "base_uri": "https://localhost:8080/"
        },
        "id": "MNGhvaNO88es",
        "outputId": "d868c70f-d7b1-4973-c9f0-018f15f4fe66"
      },
      "execution_count": null,
      "outputs": [
        {
          "output_type": "execute_result",
          "data": {
            "text/plain": [
              "212997"
            ]
          },
          "metadata": {},
          "execution_count": 76
        }
      ]
    },
    {
      "cell_type": "code",
      "source": [
        "# remove line breaks\n",
        "df_frame_nna['article_text'] = df_frame_nna['article_text'].astype(str)\n",
        "df_frame_nna['article_text'] = df_frame_nna['article_text'].map(lambda x: x.replace('\\n', ' '))"
      ],
      "metadata": {
        "id": "B7xHPwlf9ZfL"
      },
      "execution_count": null,
      "outputs": []
    },
    {
      "cell_type": "code",
      "source": [
        "%cd /content/drive/MyDrive/Georgia\n",
        "\n",
        "df_frame_nna.to_pickle('Georgia_data_all.pkl')"
      ],
      "metadata": {
        "colab": {
          "base_uri": "https://localhost:8080/"
        },
        "id": "RqniIriS9tzV",
        "outputId": "0b40cf63-9633-4082-c101-0c79300ef933"
      },
      "execution_count": null,
      "outputs": [
        {
          "output_type": "stream",
          "name": "stdout",
          "text": [
            "/content/drive/MyDrive/Georgia\n"
          ]
        }
      ]
    },
    {
      "cell_type": "code",
      "source": [
        "import pandas as pd\n",
        "\n",
        "df_frame_nna = pd.read_pickle('Georgia_data_all.pkl')"
      ],
      "metadata": {
        "id": "En-I--YQYvG_"
      },
      "execution_count": null,
      "outputs": []
    },
    {
      "cell_type": "code",
      "source": [
        "import pandas as pd\n",
        "\n",
        "df_frame_nna = pd.read_pickle('Georgia_data_all_ner_lem.pkl')"
      ],
      "metadata": {
        "id": "vwX2pTsHE9Ez"
      },
      "execution_count": null,
      "outputs": []
    },
    {
      "cell_type": "code",
      "source": [
        "count = df_frame_nna.groupby('source')['article_text'].count()"
      ],
      "metadata": {
        "id": "s4UJHjHuFAQw"
      },
      "execution_count": null,
      "outputs": []
    },
    {
      "cell_type": "code",
      "source": [
        "count.to_excel('Georgia_source_list.xlsx')"
      ],
      "metadata": {
        "id": "WjDri-1SFLc4"
      },
      "execution_count": null,
      "outputs": []
    },
    {
      "cell_type": "markdown",
      "source": [
        "### updated version"
      ],
      "metadata": {
        "id": "XWekPoyZ7Y5A"
      }
    },
    {
      "cell_type": "code",
      "source": [
        "import pandas as pd\n",
        "\n",
        "df = pd.read_excel('/content/drive/MyDrive/Georgia (1)/Web Scraping /Updated Marquee data/delivery_2023-03-02.xlsx')"
      ],
      "metadata": {
        "id": "-Pi2-GOT7aqv"
      },
      "execution_count": null,
      "outputs": []
    },
    {
      "cell_type": "code",
      "source": [
        "df.columns"
      ],
      "metadata": {
        "colab": {
          "base_uri": "https://localhost:8080/"
        },
        "id": "_bmQHcM37zF8",
        "outputId": "9713afda-b19d-4392-9b56-7deec3b2f92a"
      },
      "execution_count": null,
      "outputs": [
        {
          "output_type": "execute_result",
          "data": {
            "text/plain": [
              "Index(['source', 'website', 'article_url', 'article_title', 'article_author',\n",
              "       'date_published', 'article_text'],\n",
              "      dtype='object')"
            ]
          },
          "metadata": {},
          "execution_count": 7
        }
      ]
    },
    {
      "cell_type": "code",
      "source": [
        "temp = df.groupby(['source']).count().reset_index()\n",
        "temp[temp['source'].str.contains(\"Northside Neighbor|Paulding Neighbor|South Fulton Neighbor|Marietta Daily Journal\")]\n",
        "# Northside Neighbor, Paulding Neighbor, South Fulton Neighbor, Marietta Daily Journal"
      ],
      "metadata": {
        "colab": {
          "base_uri": "https://localhost:8080/",
          "height": 175
        },
        "id": "TLeQNgt47iOu",
        "outputId": "afb56085-9fa1-4ef4-cb84-530168ca0330"
      },
      "execution_count": null,
      "outputs": [
        {
          "output_type": "execute_result",
          "data": {
            "text/plain": [
              "                     source  website  article_url  article_title  \\\n",
              "120  Marietta Daily Journal    11695        11695          11695   \n",
              "132      Northside Neighbor     4601         4601           4601   \n",
              "138       Paulding Neighbor     4416         4416           4416   \n",
              "154   South Fulton Neighbor     7354         7354           7354   \n",
              "\n",
              "     article_author  date_published  article_text  \n",
              "120            9739           11695         11619  \n",
              "132            4096            4601          4599  \n",
              "138            3979            4416          4414  \n",
              "154            6565            7354          7351  "
            ],
            "text/html": [
              "\n",
              "  <div id=\"df-4c572965-4482-4e83-9fb3-18fc9b65ea15\">\n",
              "    <div class=\"colab-df-container\">\n",
              "      <div>\n",
              "<style scoped>\n",
              "    .dataframe tbody tr th:only-of-type {\n",
              "        vertical-align: middle;\n",
              "    }\n",
              "\n",
              "    .dataframe tbody tr th {\n",
              "        vertical-align: top;\n",
              "    }\n",
              "\n",
              "    .dataframe thead th {\n",
              "        text-align: right;\n",
              "    }\n",
              "</style>\n",
              "<table border=\"1\" class=\"dataframe\">\n",
              "  <thead>\n",
              "    <tr style=\"text-align: right;\">\n",
              "      <th></th>\n",
              "      <th>source</th>\n",
              "      <th>website</th>\n",
              "      <th>article_url</th>\n",
              "      <th>article_title</th>\n",
              "      <th>article_author</th>\n",
              "      <th>date_published</th>\n",
              "      <th>article_text</th>\n",
              "    </tr>\n",
              "  </thead>\n",
              "  <tbody>\n",
              "    <tr>\n",
              "      <th>120</th>\n",
              "      <td>Marietta Daily Journal</td>\n",
              "      <td>11695</td>\n",
              "      <td>11695</td>\n",
              "      <td>11695</td>\n",
              "      <td>9739</td>\n",
              "      <td>11695</td>\n",
              "      <td>11619</td>\n",
              "    </tr>\n",
              "    <tr>\n",
              "      <th>132</th>\n",
              "      <td>Northside Neighbor</td>\n",
              "      <td>4601</td>\n",
              "      <td>4601</td>\n",
              "      <td>4601</td>\n",
              "      <td>4096</td>\n",
              "      <td>4601</td>\n",
              "      <td>4599</td>\n",
              "    </tr>\n",
              "    <tr>\n",
              "      <th>138</th>\n",
              "      <td>Paulding Neighbor</td>\n",
              "      <td>4416</td>\n",
              "      <td>4416</td>\n",
              "      <td>4416</td>\n",
              "      <td>3979</td>\n",
              "      <td>4416</td>\n",
              "      <td>4414</td>\n",
              "    </tr>\n",
              "    <tr>\n",
              "      <th>154</th>\n",
              "      <td>South Fulton Neighbor</td>\n",
              "      <td>7354</td>\n",
              "      <td>7354</td>\n",
              "      <td>7354</td>\n",
              "      <td>6565</td>\n",
              "      <td>7354</td>\n",
              "      <td>7351</td>\n",
              "    </tr>\n",
              "  </tbody>\n",
              "</table>\n",
              "</div>\n",
              "      <button class=\"colab-df-convert\" onclick=\"convertToInteractive('df-4c572965-4482-4e83-9fb3-18fc9b65ea15')\"\n",
              "              title=\"Convert this dataframe to an interactive table.\"\n",
              "              style=\"display:none;\">\n",
              "        \n",
              "  <svg xmlns=\"http://www.w3.org/2000/svg\" height=\"24px\"viewBox=\"0 0 24 24\"\n",
              "       width=\"24px\">\n",
              "    <path d=\"M0 0h24v24H0V0z\" fill=\"none\"/>\n",
              "    <path d=\"M18.56 5.44l.94 2.06.94-2.06 2.06-.94-2.06-.94-.94-2.06-.94 2.06-2.06.94zm-11 1L8.5 8.5l.94-2.06 2.06-.94-2.06-.94L8.5 2.5l-.94 2.06-2.06.94zm10 10l.94 2.06.94-2.06 2.06-.94-2.06-.94-.94-2.06-.94 2.06-2.06.94z\"/><path d=\"M17.41 7.96l-1.37-1.37c-.4-.4-.92-.59-1.43-.59-.52 0-1.04.2-1.43.59L10.3 9.45l-7.72 7.72c-.78.78-.78 2.05 0 2.83L4 21.41c.39.39.9.59 1.41.59.51 0 1.02-.2 1.41-.59l7.78-7.78 2.81-2.81c.8-.78.8-2.07 0-2.86zM5.41 20L4 18.59l7.72-7.72 1.47 1.35L5.41 20z\"/>\n",
              "  </svg>\n",
              "      </button>\n",
              "      \n",
              "  <style>\n",
              "    .colab-df-container {\n",
              "      display:flex;\n",
              "      flex-wrap:wrap;\n",
              "      gap: 12px;\n",
              "    }\n",
              "\n",
              "    .colab-df-convert {\n",
              "      background-color: #E8F0FE;\n",
              "      border: none;\n",
              "      border-radius: 50%;\n",
              "      cursor: pointer;\n",
              "      display: none;\n",
              "      fill: #1967D2;\n",
              "      height: 32px;\n",
              "      padding: 0 0 0 0;\n",
              "      width: 32px;\n",
              "    }\n",
              "\n",
              "    .colab-df-convert:hover {\n",
              "      background-color: #E2EBFA;\n",
              "      box-shadow: 0px 1px 2px rgba(60, 64, 67, 0.3), 0px 1px 3px 1px rgba(60, 64, 67, 0.15);\n",
              "      fill: #174EA6;\n",
              "    }\n",
              "\n",
              "    [theme=dark] .colab-df-convert {\n",
              "      background-color: #3B4455;\n",
              "      fill: #D2E3FC;\n",
              "    }\n",
              "\n",
              "    [theme=dark] .colab-df-convert:hover {\n",
              "      background-color: #434B5C;\n",
              "      box-shadow: 0px 1px 3px 1px rgba(0, 0, 0, 0.15);\n",
              "      filter: drop-shadow(0px 1px 2px rgba(0, 0, 0, 0.3));\n",
              "      fill: #FFFFFF;\n",
              "    }\n",
              "  </style>\n",
              "\n",
              "      <script>\n",
              "        const buttonEl =\n",
              "          document.querySelector('#df-4c572965-4482-4e83-9fb3-18fc9b65ea15 button.colab-df-convert');\n",
              "        buttonEl.style.display =\n",
              "          google.colab.kernel.accessAllowed ? 'block' : 'none';\n",
              "\n",
              "        async function convertToInteractive(key) {\n",
              "          const element = document.querySelector('#df-4c572965-4482-4e83-9fb3-18fc9b65ea15');\n",
              "          const dataTable =\n",
              "            await google.colab.kernel.invokeFunction('convertToInteractive',\n",
              "                                                     [key], {});\n",
              "          if (!dataTable) return;\n",
              "\n",
              "          const docLinkHtml = 'Like what you see? Visit the ' +\n",
              "            '<a target=\"_blank\" href=https://colab.research.google.com/notebooks/data_table.ipynb>data table notebook</a>'\n",
              "            + ' to learn more about interactive tables.';\n",
              "          element.innerHTML = '';\n",
              "          dataTable['output_type'] = 'display_data';\n",
              "          await google.colab.output.renderOutput(dataTable, element);\n",
              "          const docLink = document.createElement('div');\n",
              "          docLink.innerHTML = docLinkHtml;\n",
              "          element.appendChild(docLink);\n",
              "        }\n",
              "      </script>\n",
              "    </div>\n",
              "  </div>\n",
              "  "
            ]
          },
          "metadata": {},
          "execution_count": 28
        }
      ]
    },
    {
      "cell_type": "code",
      "source": [
        "df_nna = df.dropna(subset=['article_text'])"
      ],
      "metadata": {
        "id": "GFyjTZO2Ek2f"
      },
      "execution_count": null,
      "outputs": []
    },
    {
      "cell_type": "code",
      "source": [
        "print(len(df_nna))\n",
        "print(len(df))"
      ],
      "metadata": {
        "colab": {
          "base_uri": "https://localhost:8080/"
        },
        "id": "StT4BWGdFKnb",
        "outputId": "97184bb7-6d8b-4430-daeb-92d452609cc7"
      },
      "execution_count": null,
      "outputs": [
        {
          "output_type": "stream",
          "name": "stdout",
          "text": [
            "192206\n",
            "214945\n"
          ]
        }
      ]
    },
    {
      "cell_type": "code",
      "source": [
        "df_nna_sample = df_nna.groupby('source').apply(lambda x: x.sample(10, replace=True)).reset_index(drop=True)\n",
        "df_nna_sample.to_excel('df_nna_sample.xlsx')"
      ],
      "metadata": {
        "id": "RurI0ukfHTjs"
      },
      "execution_count": null,
      "outputs": []
    },
    {
      "cell_type": "code",
      "source": [
        "len(df_nna_sample)"
      ],
      "metadata": {
        "colab": {
          "base_uri": "https://localhost:8080/"
        },
        "id": "FCo6PRQfIk-o",
        "outputId": "68409031-df5d-479c-90d2-d5c2078d8472"
      },
      "execution_count": null,
      "outputs": [
        {
          "output_type": "execute_result",
          "data": {
            "text/plain": [
              "2310"
            ]
          },
          "metadata": {},
          "execution_count": 34
        }
      ]
    },
    {
      "cell_type": "markdown",
      "source": [
        "### translation"
      ],
      "metadata": {
        "id": "XY7I_gYVKEsa"
      }
    },
    {
      "cell_type": "code",
      "source": [
        "%cd /content/drive/MyDrive/Georgia_YK"
      ],
      "metadata": {
        "id": "xnT_RJV-ShUc"
      },
      "execution_count": null,
      "outputs": []
    },
    {
      "cell_type": "code",
      "source": [
        "df_sample_lang = pd.read_excel('df_nna_sample_wlang.xlsx')"
      ],
      "metadata": {
        "id": "_wHxYXpdK1cP"
      },
      "execution_count": null,
      "outputs": []
    },
    {
      "cell_type": "code",
      "source": [
        "df_sample_lang = df_sample_lang[['source', 'LANGUAGE']].dropna(subset=['LANGUAGE']).drop_duplicates()"
      ],
      "metadata": {
        "id": "nHz_rM9qK7cr"
      },
      "execution_count": null,
      "outputs": []
    },
    {
      "cell_type": "code",
      "source": [
        "df_sample_lang_article = pd.merge(df_sample_lang, df_nna, how=\"left\", on=\"source\")"
      ],
      "metadata": {
        "id": "4Dhma9CkLwdm"
      },
      "execution_count": null,
      "outputs": []
    },
    {
      "cell_type": "code",
      "source": [
        "df_sample_lang_article.to_excel('df_sample_lang_article_translation.xlsx')"
      ],
      "metadata": {
        "id": "fkA1IEGIL2DG"
      },
      "execution_count": null,
      "outputs": []
    },
    {
      "cell_type": "code",
      "source": [
        "#df_sample_lang_article[0:5000].to_excel('df_sample_lang_article_translation_file1.xlsx')\n",
        "df_sample_lang_article[5000:10000].to_excel('df_sample_lang_article_translation_file2.xlsx')\n",
        "df_sample_lang_article[10000:15000].to_excel('df_sample_lang_article_translation_file3.xlsx')\n",
        "df_sample_lang_article[15000:len(df_sample_lang_article)].to_excel('df_sample_lang_article_translation_file4.xlsx')"
      ],
      "metadata": {
        "id": "U15RGOy7M6Q4"
      },
      "execution_count": null,
      "outputs": []
    },
    {
      "cell_type": "code",
      "source": [
        "# translated version\n",
        "temp1 = pd.read_excel('translation/df_sample_lang_article_translation_file1.xlsx')\n",
        "temp2 = pd.read_excel('translation/df_sample_lang_article_translation_file2.xlsx')\n",
        "temp3 = pd.read_excel('translation/df_sample_lang_article_translation_file3.xlsx')\n",
        "temp4 = pd.read_excel('translation/df_sample_lang_article_translation_file4.xlsx')"
      ],
      "metadata": {
        "id": "q7Pthe4aYTaA"
      },
      "execution_count": null,
      "outputs": []
    },
    {
      "cell_type": "code",
      "source": [
        "df_translation = pd.concat([temp1, temp2, temp3, temp4])"
      ],
      "metadata": {
        "id": "lukXsQm9b8XP"
      },
      "execution_count": null,
      "outputs": []
    },
    {
      "cell_type": "code",
      "source": [
        "import numpy as np\n",
        "\n",
        "df_translation['article_text2'] = np.where(df_translation['article_text_translated'].isnull(), \n",
        "                                           df_translation['article_text'],\n",
        "                                           df_translation['article_text_translated'])"
      ],
      "metadata": {
        "id": "Y46J391NvFep"
      },
      "execution_count": null,
      "outputs": []
    },
    {
      "cell_type": "code",
      "source": [
        "df_translation.columns"
      ],
      "metadata": {
        "colab": {
          "base_uri": "https://localhost:8080/"
        },
        "id": "mROyNgzVwJpD",
        "outputId": "726a0fbb-416f-40de-8f4f-e8077b5aa2b8"
      },
      "execution_count": null,
      "outputs": [
        {
          "output_type": "execute_result",
          "data": {
            "text/plain": [
              "Index(['source', 'LANGUAGE', 'website', 'article_url', 'article_title',\n",
              "       'article_author', 'date_published', 'article_text',\n",
              "       'article_text_translated', 'LANGUAGE.1', 'article_text2'],\n",
              "      dtype='object')"
            ]
          },
          "metadata": {},
          "execution_count": 122
        }
      ]
    },
    {
      "cell_type": "code",
      "source": [
        "test = df_translation.groupby(['source','LANGUAGE'])['article_text_translated'].count().reset_index()\n"
      ],
      "metadata": {
        "id": "_SYpCQx7dGV7"
      },
      "execution_count": null,
      "outputs": []
    },
    {
      "cell_type": "code",
      "source": [
        "test[test['LANGUAGE']=='es']['article_text_translated'].sum()"
      ],
      "metadata": {
        "colab": {
          "base_uri": "https://localhost:8080/"
        },
        "id": "5eOmVmDBo4Vy",
        "outputId": "e9c3806f-7f90-4e2e-a908-1f13c55645aa"
      },
      "execution_count": null,
      "outputs": [
        {
          "output_type": "execute_result",
          "data": {
            "text/plain": [
              "3404"
            ]
          },
          "metadata": {},
          "execution_count": 90
        }
      ]
    },
    {
      "cell_type": "code",
      "source": [
        "test[test['LANGUAGE']=='fil']['article_text_translated'].sum()"
      ],
      "metadata": {
        "colab": {
          "base_uri": "https://localhost:8080/"
        },
        "id": "fV0RWEZ2qGwr",
        "outputId": "7c153f45-736c-42fd-9557-1ea13f7c2b65"
      },
      "execution_count": null,
      "outputs": [
        {
          "output_type": "execute_result",
          "data": {
            "text/plain": [
              "1"
            ]
          },
          "metadata": {},
          "execution_count": 91
        }
      ]
    },
    {
      "cell_type": "code",
      "source": [
        "test[test['LANGUAGE']=='ko']['article_text_translated'].sum()"
      ],
      "metadata": {
        "colab": {
          "base_uri": "https://localhost:8080/"
        },
        "id": "jv_3FB_-qTHA",
        "outputId": "1b75fdcc-422a-4983-fa65-0b6891ecad4c"
      },
      "execution_count": null,
      "outputs": [
        {
          "output_type": "execute_result",
          "data": {
            "text/plain": [
              "803"
            ]
          },
          "metadata": {},
          "execution_count": 92
        }
      ]
    },
    {
      "cell_type": "code",
      "source": [
        "len(test[test['LANGUAGE']==\"es\"])"
      ],
      "metadata": {
        "colab": {
          "base_uri": "https://localhost:8080/"
        },
        "id": "3RZij7pcoxts",
        "outputId": "1fc71a8c-60d4-428a-bce4-8cdac925227b"
      },
      "execution_count": null,
      "outputs": [
        {
          "output_type": "execute_result",
          "data": {
            "text/plain": [
              "17"
            ]
          },
          "metadata": {},
          "execution_count": 85
        }
      ]
    },
    {
      "cell_type": "code",
      "source": [
        "df_sample_lang_list = list(set(df_sample_lang.source.values.tolist()))\n",
        "df_source_list = list(set(df_nna.source.values.tolist()))\n"
      ],
      "metadata": {
        "id": "D-_p--WUsK3I"
      },
      "execution_count": null,
      "outputs": []
    },
    {
      "cell_type": "code",
      "source": [
        "df_source_list_en = [i for i in df_source_list if i not in df_sample_lang_list]"
      ],
      "metadata": {
        "id": "_buW2WMJs2uF"
      },
      "execution_count": null,
      "outputs": []
    },
    {
      "cell_type": "code",
      "source": [
        "print(len(df_source_list_en))\n",
        "print(len(df_source_list))\n",
        "print(len(df_sample_lang_list))"
      ],
      "metadata": {
        "colab": {
          "base_uri": "https://localhost:8080/"
        },
        "id": "fupxOeWqtT2f",
        "outputId": "7e7146df-3c93-4a17-f26c-bcc9990c0056"
      },
      "execution_count": null,
      "outputs": [
        {
          "output_type": "stream",
          "name": "stdout",
          "text": [
            "212\n",
            "231\n",
            "19\n"
          ]
        }
      ]
    },
    {
      "cell_type": "code",
      "source": [
        "df_source_list_en_only = pd.DataFrame(df_source_list_en, columns = [\"source\"])"
      ],
      "metadata": {
        "id": "Toul7wfDuFYf"
      },
      "execution_count": null,
      "outputs": []
    },
    {
      "cell_type": "code",
      "source": [
        "df_source_list_en_only['en_source'] = 1"
      ],
      "metadata": {
        "id": "48U0DroBuKOm"
      },
      "execution_count": null,
      "outputs": []
    },
    {
      "cell_type": "code",
      "source": [
        "df_source_list_en_only = pd.merge(df_source_list_en_only, df_nna, how=\"left\", on=\"source\")"
      ],
      "metadata": {
        "id": "iVSDrFcIuKHT"
      },
      "execution_count": null,
      "outputs": []
    },
    {
      "cell_type": "code",
      "source": [
        "df_translation_done = df_translation[['source', 'website', 'article_url', 'article_title',\n",
        "       'article_author', 'date_published', 'article_text2']]\n"
      ],
      "metadata": {
        "id": "px9Lmnf3wVsx"
      },
      "execution_count": null,
      "outputs": []
    },
    {
      "cell_type": "code",
      "source": [
        "df_source_merge = pd.concat([df_source_list_en_only, df_translation_done])"
      ],
      "metadata": {
        "id": "mw4Ze04UuYZX"
      },
      "execution_count": null,
      "outputs": []
    },
    {
      "cell_type": "code",
      "source": [
        "print(len(df_nna))\n",
        "print(len(df_source_merge))"
      ],
      "metadata": {
        "colab": {
          "base_uri": "https://localhost:8080/"
        },
        "id": "Mhe12lllukQ-",
        "outputId": "7cb10e1d-1204-493c-fb2c-c41a35bbc4a6"
      },
      "execution_count": null,
      "outputs": [
        {
          "output_type": "stream",
          "name": "stdout",
          "text": [
            "192206\n",
            "192206\n"
          ]
        }
      ]
    },
    {
      "cell_type": "code",
      "source": [
        "import numpy as np\n",
        "\n",
        "df_source_merge['article_final'] = np.where(df_source_merge['article_text2'].isnull(), df_source_merge['article_text'], df_source_merge['article_text2'])"
      ],
      "metadata": {
        "id": "bbu9Anz9wuGM"
      },
      "execution_count": null,
      "outputs": []
    },
    {
      "cell_type": "code",
      "source": [
        "df_source_merge['article_final'].isnull().sum()"
      ],
      "metadata": {
        "id": "vdxCW6V-wNkn",
        "colab": {
          "base_uri": "https://localhost:8080/"
        },
        "outputId": "dd14a926-9d0c-4b02-8d7e-421a24c03f25"
      },
      "execution_count": null,
      "outputs": [
        {
          "output_type": "execute_result",
          "data": {
            "text/plain": [
              "0"
            ]
          },
          "metadata": {},
          "execution_count": 132
        }
      ]
    },
    {
      "cell_type": "code",
      "source": [
        "df_source_merge_final = df_source_merge.drop(columns = ['article_text', 'article_text2'])"
      ],
      "metadata": {
        "id": "dCrLLRSFxCiz"
      },
      "execution_count": null,
      "outputs": []
    },
    {
      "cell_type": "code",
      "source": [
        "df_source_merge_final.to_pickle('Georgia_data_v2_translation.pkl')"
      ],
      "metadata": {
        "id": "WG0HhPz6xKKi"
      },
      "execution_count": null,
      "outputs": []
    },
    {
      "cell_type": "markdown",
      "source": [
        "# Location analysis"
      ],
      "metadata": {
        "id": "5yLkNpuLL3Sr"
      }
    },
    {
      "cell_type": "markdown",
      "source": [
        "## Prep for place analysis"
      ],
      "metadata": {
        "id": "JgTpKxDx-YMU"
      }
    },
    {
      "cell_type": "code",
      "source": [
        "%cd /content/drive/MyDrive/Georgia/Locations Analysis"
      ],
      "metadata": {
        "id": "PFZz3K7xSlBq"
      },
      "execution_count": null,
      "outputs": []
    },
    {
      "cell_type": "code",
      "source": [
        "import pandas as pd\n",
        "\n",
        "df_source_merge_final = pd.read_pickle('/content/drive/MyDrive/Georgia/Web Scraping/Georgia_data_v2_translation_ner2_lem.pkl')\n"
      ],
      "metadata": {
        "id": "7WKF8OS4RkoU"
      },
      "execution_count": null,
      "outputs": []
    },
    {
      "cell_type": "code",
      "source": [
        "# lemmatization if needed\n",
        "import spacy\n",
        "from spacy import displacy\n",
        "\n",
        "sp = spacy.load('en_core_web_sm', disable=[\"tok2vec\", \"tagger\", \"parser\", \"attribute_ruler\", \"lemmatizer\"])\n"
      ],
      "metadata": {
        "id": "Leu0aduT9jp5",
        "colab": {
          "base_uri": "https://localhost:8080/"
        },
        "outputId": "ba7617ad-0b88-42e7-bd25-f7eb6322fa49"
      },
      "execution_count": null,
      "outputs": [
        {
          "output_type": "stream",
          "name": "stderr",
          "text": [
            "/usr/local/lib/python3.8/dist-packages/torch/cuda/__init__.py:497: UserWarning: Can't initialize NVML\n",
            "  warnings.warn(\"Can't initialize NVML\")\n"
          ]
        }
      ]
    },
    {
      "cell_type": "code",
      "source": [
        "\n",
        "def text_ner_place(text):\n",
        "  text = sp(text)\n",
        "  \n",
        "  ner_list = []\n",
        "  \n",
        "  for entity in text.ents:\n",
        "    if entity.label_ == \"FAC\":\n",
        "      ner_list.append(entity.text + \" (\" + entity.label_ + \")\")\n",
        "    if entity.label_ == \"GPE\":\n",
        "      ner_list.append(entity.text + \" (\" + entity.label_ + \")\")\n",
        "    if entity.label_ == \"LOC\":\n",
        "      ner_list.append(entity.text + \" (\" + entity.label_ + \")\")\n",
        "    else:\n",
        "      None\n",
        "  return str(set(ner_list))\n"
      ],
      "metadata": {
        "id": "r2S86oeO-Pqd"
      },
      "execution_count": null,
      "outputs": []
    },
    {
      "cell_type": "code",
      "source": [
        "df_source_merge_final['ner_places'] = df_source_merge_final['article_final'].astype(str).apply(text_ner_place)"
      ],
      "metadata": {
        "id": "ydmHijaN-WNn"
      },
      "execution_count": null,
      "outputs": []
    },
    {
      "cell_type": "code",
      "source": [
        "#df_source_merge_final.to_pickle('Georgia_data_v2_translation_ner.pkl') # commented this line to prevent from saving it"
      ],
      "metadata": {
        "id": "lKyUNAawaALt"
      },
      "execution_count": null,
      "outputs": []
    },
    {
      "cell_type": "markdown",
      "source": [
        "## Find rough location from spaCy"
      ],
      "metadata": {
        "id": "R2H0iUp_X1Hh"
      }
    },
    {
      "cell_type": "code",
      "source": [
        "import pandas as pd\n",
        "\n",
        "df = pd.read_pickle('/content/drive/MyDrive/Georgia/Web Scraping/Georgia_data_v2_translation_ner2_lem.pkl')\n"
      ],
      "metadata": {
        "id": "vh4PyWlOX0Wq"
      },
      "execution_count": null,
      "outputs": []
    },
    {
      "cell_type": "code",
      "source": [
        "df_ner = df.loc[df['ner_places'] != 'set()']"
      ],
      "metadata": {
        "id": "yy41J8P9PlYN"
      },
      "execution_count": null,
      "outputs": []
    },
    {
      "cell_type": "code",
      "source": [
        "print(len(df))\n",
        "print(len(df_ner))"
      ],
      "metadata": {
        "colab": {
          "base_uri": "https://localhost:8080/"
        },
        "id": "Uj_17ZSjQeRP",
        "outputId": "90d6de0e-1585-4cb6-f957-c0fbb573c2be"
      },
      "execution_count": null,
      "outputs": [
        {
          "output_type": "stream",
          "name": "stdout",
          "text": [
            "192206\n",
            "144929\n"
          ]
        }
      ]
    },
    {
      "cell_type": "code",
      "source": [
        "df_expand = df_ner['ner_places'].str.split(',').explode().str.strip('{} ')\n"
      ],
      "metadata": {
        "id": "ucqy79j7QbkQ"
      },
      "execution_count": null,
      "outputs": []
    },
    {
      "cell_type": "code",
      "source": [
        "df_expand = pd.DataFrame(df_expand)\n"
      ],
      "metadata": {
        "id": "pLmMPrC4Qo0n"
      },
      "execution_count": null,
      "outputs": []
    },
    {
      "cell_type": "code",
      "source": [
        "df_expand['ner_places_clean'] = df_expand['ner_places'].str.replace(r\"\\'\",\"\")\n",
        "df_expand['ner_places_clean'] = df_expand['ner_places_clean'].str.replace(r\" \\\"\",\"\")\n",
        "df_expand['ner_places_clean'] = df_expand['ner_places_clean'].str.replace(r\"\\\"\",\"\")\n",
        "df_expand['ner_places_clean'] = df_expand['ner_places_clean'].str.replace(r\"\\(.*\\)\",\"\")"
      ],
      "metadata": {
        "colab": {
          "base_uri": "https://localhost:8080/"
        },
        "id": "NPh4arGwQqEg",
        "outputId": "f395a42c-aa77-4c8e-8e66-e280f33e7239"
      },
      "execution_count": null,
      "outputs": [
        {
          "output_type": "stream",
          "name": "stderr",
          "text": [
            "<ipython-input-8-03789092516e>:1: FutureWarning: The default value of regex will change from True to False in a future version.\n",
            "  df_expand['ner_places_clean'] = df_expand['ner_places'].str.replace(r\"\\'\",\"\")\n",
            "<ipython-input-8-03789092516e>:2: FutureWarning: The default value of regex will change from True to False in a future version.\n",
            "  df_expand['ner_places_clean'] = df_expand['ner_places_clean'].str.replace(r\" \\\"\",\"\")\n",
            "<ipython-input-8-03789092516e>:3: FutureWarning: The default value of regex will change from True to False in a future version.\n",
            "  df_expand['ner_places_clean'] = df_expand['ner_places_clean'].str.replace(r\"\\\"\",\"\")\n",
            "<ipython-input-8-03789092516e>:4: FutureWarning: The default value of regex will change from True to False in a future version.\n",
            "  df_expand['ner_places_clean'] = df_expand['ner_places_clean'].str.replace(r\"\\(.*\\)\",\"\")\n"
          ]
        }
      ]
    },
    {
      "cell_type": "code",
      "source": [
        "df_expand_count = df_expand.groupby('ner_places_clean').count().reset_index()"
      ],
      "metadata": {
        "id": "40t2DcFSRamc"
      },
      "execution_count": null,
      "outputs": []
    },
    {
      "cell_type": "code",
      "source": [
        "df_freq_n5 = df_expand_count[df_expand_count[\"ner_places\"] >= 5]\n",
        "df_freq_n5.to_excel('df_freq_n5_ner_v2.xlsx')"
      ],
      "metadata": {
        "id": "fdLEo3K0Rt71"
      },
      "execution_count": null,
      "outputs": []
    },
    {
      "cell_type": "code",
      "source": [
        "# # compare place entities with v1\n",
        "\n",
        "# df_freq_n5_v2 = pd.read_excel('df_freq_n5_ner_v2.xlsx')\n",
        "# df_freq_n5_v1 = pd.read_excel('df_freq_n5_ner.xlsx')\n",
        "\n",
        "# df_freq_n5_v1['version'] = 'v1'\n",
        "# df_freq_n5_v2['version'] = 'v2'\n",
        "\n",
        "# df_freq_n5_merge = pd.merge( df_freq_n5_v1,df_freq_n5_v2, how=\"outer\", on=[\"ner_places_clean\"])"
      ],
      "metadata": {
        "id": "TG-YAtO6xsDf"
      },
      "execution_count": null,
      "outputs": []
    },
    {
      "cell_type": "markdown",
      "source": [
        "## Find sentence example of location"
      ],
      "metadata": {
        "id": "Ggu0MvMFQmx-"
      }
    },
    {
      "cell_type": "code",
      "source": [
        "import pandas as pd\n",
        "\n",
        "#ner_places = pd.read_csv('Georgia_ner_places.csv') # previous data\n",
        "ner_places = pd.read_csv('Georgia_ner_places_v2.csv') # updated data"
      ],
      "metadata": {
        "id": "ZU1S_6coQpR5"
      },
      "execution_count": null,
      "outputs": []
    },
    {
      "cell_type": "code",
      "source": [
        "ner_places['ner_places_clean'] = ner_places['ner_places_clean'].str.rstrip()"
      ],
      "metadata": {
        "id": "Dd9WWAzOR4D6"
      },
      "execution_count": null,
      "outputs": []
    },
    {
      "cell_type": "code",
      "source": [
        "ner_places_raw = list(set(ner_places['ner_places_clean'].tolist()))"
      ],
      "metadata": {
        "id": "XLlz4OzHRpob"
      },
      "execution_count": null,
      "outputs": []
    },
    {
      "cell_type": "code",
      "source": [
        "import nltk\n",
        "nltk.download('punkt')"
      ],
      "metadata": {
        "colab": {
          "base_uri": "https://localhost:8080/"
        },
        "id": "EWfelpd-Q7zr",
        "outputId": "5ca60a2d-9972-48d2-f773-ecb6c49b663c"
      },
      "execution_count": null,
      "outputs": [
        {
          "output_type": "stream",
          "name": "stderr",
          "text": [
            "[nltk_data] Downloading package punkt to /root/nltk_data...\n",
            "[nltk_data]   Unzipping tokenizers/punkt.zip.\n"
          ]
        },
        {
          "output_type": "execute_result",
          "data": {
            "text/plain": [
              "True"
            ]
          },
          "metadata": {},
          "execution_count": 72
        }
      ]
    },
    {
      "cell_type": "code",
      "source": [
        "# df[\"id\"] = df.index + 1\n",
        "df_ner = df.loc[df['ner_places'] != 'set()']"
      ],
      "metadata": {
        "id": "pqUoeTQCQ_aI"
      },
      "execution_count": null,
      "outputs": []
    },
    {
      "cell_type": "code",
      "source": [
        "\n",
        "import numpy as np\n",
        "\n",
        "df_ner['place_ng1'] = df_ner['article_final'].astype(str).apply(lambda x: [i for i in ner_places_raw if i in x])\n"
      ],
      "metadata": {
        "colab": {
          "base_uri": "https://localhost:8080/"
        },
        "id": "3ChBQadJQ4LC",
        "outputId": "bf22103e-4f13-4b8e-ba20-366236b3440c"
      },
      "execution_count": null,
      "outputs": [
        {
          "output_type": "stream",
          "name": "stderr",
          "text": [
            "<ipython-input-76-22b7966504e5>:3: SettingWithCopyWarning: \n",
            "A value is trying to be set on a copy of a slice from a DataFrame.\n",
            "Try using .loc[row_indexer,col_indexer] = value instead\n",
            "\n",
            "See the caveats in the documentation: https://pandas.pydata.org/pandas-docs/stable/user_guide/indexing.html#returning-a-view-versus-a-copy\n",
            "  df_ner['place_ng1'] = df_ner['article_final'].astype(str).apply(lambda x: [i for i in ner_places_raw if i in x])\n"
          ]
        }
      ]
    },
    {
      "cell_type": "code",
      "source": [
        "text_df_uni_dict = df_ner[['id',  'place_ng1']]\n",
        "text_df_uni_article = df_ner[['id', \"article_final\"]]\n"
      ],
      "metadata": {
        "id": "-xeJVvdJgd5q"
      },
      "execution_count": null,
      "outputs": []
    },
    {
      "cell_type": "code",
      "source": [
        "\n",
        "sample_sentence = text_df_uni_dict['place_ng1'].astype(str).str.split(',').explode().str.strip('[] ')\n",
        "sample_sentence_df = pd.DataFrame(sample_sentence)"
      ],
      "metadata": {
        "id": "YI4Sb5o_gf0x"
      },
      "execution_count": null,
      "outputs": []
    },
    {
      "cell_type": "code",
      "source": [
        "merge_uni = pd.merge(sample_sentence_df, text_df_uni_article, left_index=True, right_index=True)\n",
        "\n",
        "merge_uni['place_ng1'] = merge_uni['place_ng1'].str.strip('\\'')"
      ],
      "metadata": {
        "id": "XG3Hpg9GTFFM"
      },
      "execution_count": null,
      "outputs": []
    },
    {
      "cell_type": "code",
      "source": [
        "merge_uni_count = merge_uni.groupby('place_ng1').count() #\n"
      ],
      "metadata": {
        "id": "fcHSmbdKb_DV"
      },
      "execution_count": null,
      "outputs": []
    },
    {
      "cell_type": "code",
      "source": [
        "# articles mentioned a location less than 3\n",
        "merge_uni_count_l3 = merge_uni_count[merge_uni_count['article_final'] < 3].reset_index()\n"
      ],
      "metadata": {
        "id": "7mMK-srPLvtN"
      },
      "execution_count": null,
      "outputs": []
    },
    {
      "cell_type": "code",
      "source": [
        "merge_uni_count_l3_places = merge_uni_count_l3.place_ng1.values.tolist()\n",
        "merge_uni_count_l3_places"
      ],
      "metadata": {
        "colab": {
          "base_uri": "https://localhost:8080/"
        },
        "id": "9GCZ_VtNLyt2",
        "outputId": "1cf8a0c5-eaa3-44af-c708-a6f11278d79a"
      },
      "execution_count": null,
      "outputs": [
        {
          "output_type": "execute_result",
          "data": {
            "text/plain": [
              "['Mountain Views',\n",
              " 'St. Giles Cathedral',\n",
              " 'St. Judes',\n",
              " 'the State Fire Marshals Office']"
            ]
          },
          "metadata": {},
          "execution_count": 83
        }
      ]
    },
    {
      "cell_type": "code",
      "source": [
        "merge_uni_l3 = merge_uni[merge_uni['place_ng1'].isin(merge_uni_count_l3_places)]\n",
        "merge_uni_l3_group = merge_uni_l3.groupby('place_ng1').apply(lambda x: x.sample(3, replace=True)).reset_index(drop=True)"
      ],
      "metadata": {
        "id": "7Nb6l6aAcraj"
      },
      "execution_count": null,
      "outputs": []
    },
    {
      "cell_type": "code",
      "source": [
        "# articles mentioned a location more than 3 --> random sample\n",
        "\n",
        "merge_uni_m3 = merge_uni[~merge_uni['place_ng1'].isin(merge_uni_count_l3_places)]\n",
        "merge_uni_m3_group = merge_uni_m3.groupby('place_ng1').apply(lambda x: x.sample(3, replace=False)).reset_index(drop=True)\n"
      ],
      "metadata": {
        "id": "ikE7eLK3L4eK"
      },
      "execution_count": null,
      "outputs": []
    },
    {
      "cell_type": "code",
      "source": [
        "# merge 3 samples + those with less than 3 \n",
        "merge_uni_m3_group2 = pd.concat([merge_uni_m3_group, merge_uni_l3_group]).reset_index()"
      ],
      "metadata": {
        "id": "TrUO6epMhDjO"
      },
      "execution_count": null,
      "outputs": []
    },
    {
      "cell_type": "code",
      "source": [
        "merge_uni_m3_group2.rename(columns={'place_ng1':'places'}, inplace=True)\n"
      ],
      "metadata": {
        "id": "TdAGYk_AhPdP"
      },
      "execution_count": null,
      "outputs": []
    },
    {
      "cell_type": "code",
      "source": [
        "merge_uni_m3_group2"
      ],
      "metadata": {
        "colab": {
          "base_uri": "https://localhost:8080/",
          "height": 424
        },
        "id": "vYjcABVpd-I5",
        "outputId": "7459dd8b-5947-41e6-a558-1f0090d13260"
      },
      "execution_count": null,
      "outputs": [
        {
          "output_type": "execute_result",
          "data": {
            "text/plain": [
              "      index                          places      id  \\\n",
              "0         0                                  158151   \n",
              "1         1                                   39128   \n",
              "2         2                                  152966   \n",
              "3         3                  14 W. Main St.   47531   \n",
              "4         4                  14 W. Main St.   30084   \n",
              "...     ...                             ...     ...   \n",
              "8284      7                       St. Judes  173845   \n",
              "8285      8                       St. Judes  173907   \n",
              "8286      9  the State Fire Marshals Office  102767   \n",
              "8287     10  the State Fire Marshals Office  102767   \n",
              "8288     11  the State Fire Marshals Office  102767   \n",
              "\n",
              "                                          article_final  \n",
              "0     Panel recommends anxiety screening for adults ...  \n",
              "1     This month, we’re recognizing a Springfield ed...  \n",
              "2     Watch CBS News\\n\"\"Broadway in the Boros\"\" brin...  \n",
              "3     GRAFTON — A new attraction described as a \"\"th...  \n",
              "4     Gazebo Downtown Franklin decorated for Fall. p...  \n",
              "...                                                 ...  \n",
              "8284  September 23, 2022\\nPublication: Northeast Geo...  \n",
              "8285  By News Staff\\nSeptember 23, 2022\\nPublication...  \n",
              "8286  SUMMERVILLE, S.C. (WCBD) – A deadly early morn...  \n",
              "8287  SUMMERVILLE, S.C. (WCBD) – A deadly early morn...  \n",
              "8288  SUMMERVILLE, S.C. (WCBD) – A deadly early morn...  \n",
              "\n",
              "[8289 rows x 4 columns]"
            ],
            "text/html": [
              "\n",
              "  <div id=\"df-6dfa8884-1b09-4521-8271-b356ba723f4f\">\n",
              "    <div class=\"colab-df-container\">\n",
              "      <div>\n",
              "<style scoped>\n",
              "    .dataframe tbody tr th:only-of-type {\n",
              "        vertical-align: middle;\n",
              "    }\n",
              "\n",
              "    .dataframe tbody tr th {\n",
              "        vertical-align: top;\n",
              "    }\n",
              "\n",
              "    .dataframe thead th {\n",
              "        text-align: right;\n",
              "    }\n",
              "</style>\n",
              "<table border=\"1\" class=\"dataframe\">\n",
              "  <thead>\n",
              "    <tr style=\"text-align: right;\">\n",
              "      <th></th>\n",
              "      <th>index</th>\n",
              "      <th>places</th>\n",
              "      <th>id</th>\n",
              "      <th>article_final</th>\n",
              "    </tr>\n",
              "  </thead>\n",
              "  <tbody>\n",
              "    <tr>\n",
              "      <th>0</th>\n",
              "      <td>0</td>\n",
              "      <td></td>\n",
              "      <td>158151</td>\n",
              "      <td>Panel recommends anxiety screening for adults ...</td>\n",
              "    </tr>\n",
              "    <tr>\n",
              "      <th>1</th>\n",
              "      <td>1</td>\n",
              "      <td></td>\n",
              "      <td>39128</td>\n",
              "      <td>This month, we’re recognizing a Springfield ed...</td>\n",
              "    </tr>\n",
              "    <tr>\n",
              "      <th>2</th>\n",
              "      <td>2</td>\n",
              "      <td></td>\n",
              "      <td>152966</td>\n",
              "      <td>Watch CBS News\\n\"\"Broadway in the Boros\"\" brin...</td>\n",
              "    </tr>\n",
              "    <tr>\n",
              "      <th>3</th>\n",
              "      <td>3</td>\n",
              "      <td>14 W. Main St.</td>\n",
              "      <td>47531</td>\n",
              "      <td>GRAFTON — A new attraction described as a \"\"th...</td>\n",
              "    </tr>\n",
              "    <tr>\n",
              "      <th>4</th>\n",
              "      <td>4</td>\n",
              "      <td>14 W. Main St.</td>\n",
              "      <td>30084</td>\n",
              "      <td>Gazebo Downtown Franklin decorated for Fall. p...</td>\n",
              "    </tr>\n",
              "    <tr>\n",
              "      <th>...</th>\n",
              "      <td>...</td>\n",
              "      <td>...</td>\n",
              "      <td>...</td>\n",
              "      <td>...</td>\n",
              "    </tr>\n",
              "    <tr>\n",
              "      <th>8284</th>\n",
              "      <td>7</td>\n",
              "      <td>St. Judes</td>\n",
              "      <td>173845</td>\n",
              "      <td>September 23, 2022\\nPublication: Northeast Geo...</td>\n",
              "    </tr>\n",
              "    <tr>\n",
              "      <th>8285</th>\n",
              "      <td>8</td>\n",
              "      <td>St. Judes</td>\n",
              "      <td>173907</td>\n",
              "      <td>By News Staff\\nSeptember 23, 2022\\nPublication...</td>\n",
              "    </tr>\n",
              "    <tr>\n",
              "      <th>8286</th>\n",
              "      <td>9</td>\n",
              "      <td>the State Fire Marshals Office</td>\n",
              "      <td>102767</td>\n",
              "      <td>SUMMERVILLE, S.C. (WCBD) – A deadly early morn...</td>\n",
              "    </tr>\n",
              "    <tr>\n",
              "      <th>8287</th>\n",
              "      <td>10</td>\n",
              "      <td>the State Fire Marshals Office</td>\n",
              "      <td>102767</td>\n",
              "      <td>SUMMERVILLE, S.C. (WCBD) – A deadly early morn...</td>\n",
              "    </tr>\n",
              "    <tr>\n",
              "      <th>8288</th>\n",
              "      <td>11</td>\n",
              "      <td>the State Fire Marshals Office</td>\n",
              "      <td>102767</td>\n",
              "      <td>SUMMERVILLE, S.C. (WCBD) – A deadly early morn...</td>\n",
              "    </tr>\n",
              "  </tbody>\n",
              "</table>\n",
              "<p>8289 rows × 4 columns</p>\n",
              "</div>\n",
              "      <button class=\"colab-df-convert\" onclick=\"convertToInteractive('df-6dfa8884-1b09-4521-8271-b356ba723f4f')\"\n",
              "              title=\"Convert this dataframe to an interactive table.\"\n",
              "              style=\"display:none;\">\n",
              "        \n",
              "  <svg xmlns=\"http://www.w3.org/2000/svg\" height=\"24px\"viewBox=\"0 0 24 24\"\n",
              "       width=\"24px\">\n",
              "    <path d=\"M0 0h24v24H0V0z\" fill=\"none\"/>\n",
              "    <path d=\"M18.56 5.44l.94 2.06.94-2.06 2.06-.94-2.06-.94-.94-2.06-.94 2.06-2.06.94zm-11 1L8.5 8.5l.94-2.06 2.06-.94-2.06-.94L8.5 2.5l-.94 2.06-2.06.94zm10 10l.94 2.06.94-2.06 2.06-.94-2.06-.94-.94-2.06-.94 2.06-2.06.94z\"/><path d=\"M17.41 7.96l-1.37-1.37c-.4-.4-.92-.59-1.43-.59-.52 0-1.04.2-1.43.59L10.3 9.45l-7.72 7.72c-.78.78-.78 2.05 0 2.83L4 21.41c.39.39.9.59 1.41.59.51 0 1.02-.2 1.41-.59l7.78-7.78 2.81-2.81c.8-.78.8-2.07 0-2.86zM5.41 20L4 18.59l7.72-7.72 1.47 1.35L5.41 20z\"/>\n",
              "  </svg>\n",
              "      </button>\n",
              "      \n",
              "  <style>\n",
              "    .colab-df-container {\n",
              "      display:flex;\n",
              "      flex-wrap:wrap;\n",
              "      gap: 12px;\n",
              "    }\n",
              "\n",
              "    .colab-df-convert {\n",
              "      background-color: #E8F0FE;\n",
              "      border: none;\n",
              "      border-radius: 50%;\n",
              "      cursor: pointer;\n",
              "      display: none;\n",
              "      fill: #1967D2;\n",
              "      height: 32px;\n",
              "      padding: 0 0 0 0;\n",
              "      width: 32px;\n",
              "    }\n",
              "\n",
              "    .colab-df-convert:hover {\n",
              "      background-color: #E2EBFA;\n",
              "      box-shadow: 0px 1px 2px rgba(60, 64, 67, 0.3), 0px 1px 3px 1px rgba(60, 64, 67, 0.15);\n",
              "      fill: #174EA6;\n",
              "    }\n",
              "\n",
              "    [theme=dark] .colab-df-convert {\n",
              "      background-color: #3B4455;\n",
              "      fill: #D2E3FC;\n",
              "    }\n",
              "\n",
              "    [theme=dark] .colab-df-convert:hover {\n",
              "      background-color: #434B5C;\n",
              "      box-shadow: 0px 1px 3px 1px rgba(0, 0, 0, 0.15);\n",
              "      filter: drop-shadow(0px 1px 2px rgba(0, 0, 0, 0.3));\n",
              "      fill: #FFFFFF;\n",
              "    }\n",
              "  </style>\n",
              "\n",
              "      <script>\n",
              "        const buttonEl =\n",
              "          document.querySelector('#df-6dfa8884-1b09-4521-8271-b356ba723f4f button.colab-df-convert');\n",
              "        buttonEl.style.display =\n",
              "          google.colab.kernel.accessAllowed ? 'block' : 'none';\n",
              "\n",
              "        async function convertToInteractive(key) {\n",
              "          const element = document.querySelector('#df-6dfa8884-1b09-4521-8271-b356ba723f4f');\n",
              "          const dataTable =\n",
              "            await google.colab.kernel.invokeFunction('convertToInteractive',\n",
              "                                                     [key], {});\n",
              "          if (!dataTable) return;\n",
              "\n",
              "          const docLinkHtml = 'Like what you see? Visit the ' +\n",
              "            '<a target=\"_blank\" href=https://colab.research.google.com/notebooks/data_table.ipynb>data table notebook</a>'\n",
              "            + ' to learn more about interactive tables.';\n",
              "          element.innerHTML = '';\n",
              "          dataTable['output_type'] = 'display_data';\n",
              "          await google.colab.output.renderOutput(dataTable, element);\n",
              "          const docLink = document.createElement('div');\n",
              "          docLink.innerHTML = docLinkHtml;\n",
              "          element.appendChild(docLink);\n",
              "        }\n",
              "      </script>\n",
              "    </div>\n",
              "  </div>\n",
              "  "
            ]
          },
          "metadata": {},
          "execution_count": 101
        }
      ]
    },
    {
      "cell_type": "code",
      "source": [
        "# split an article into sentences\n",
        "\n",
        "from nltk.tokenize import sent_tokenize\n",
        "by_sentence = merge_uni_m3_group2['article_final'].apply(lambda x : sent_tokenize(x)).apply(pd.Series,1).stack()\n",
        "by_sentence_df = pd.DataFrame(by_sentence)\n",
        "by_sentence_df.rename(columns={0:'sentence_each'}, inplace=True)\n",
        "\n",
        "by_sentence_df['sentence_turn'] = by_sentence_df.index.get_level_values(1)\n",
        "by_sentence_df.index = by_sentence_df.index.get_level_values(0)\n"
      ],
      "metadata": {
        "id": "NVb3pCFWhLSI"
      },
      "execution_count": null,
      "outputs": []
    },
    {
      "cell_type": "code",
      "source": [
        "by_sentence_df"
      ],
      "metadata": {
        "colab": {
          "base_uri": "https://localhost:8080/",
          "height": 424
        },
        "id": "3JYgzu7hde2c",
        "outputId": "1ae93734-dea6-4c48-de18-4e0598544840"
      },
      "execution_count": null,
      "outputs": [
        {
          "output_type": "execute_result",
          "data": {
            "text/plain": [
              "                                          sentence_each  sentence_turn\n",
              "0     Panel recommends anxiety screening for adults ...              0\n",
              "0     The proposed measure intends to identify early...              1\n",
              "0     \"\"Screening all adults for depression, includi...              2\n",
              "0     The panel includes generalized anxiety disorde...              3\n",
              "0     According to the panel, screening and follow-u...              4\n",
              "...                                                 ...            ...\n",
              "8288  The cause of the fire is being investigated by...             12\n",
              "8288                             “It’s cooling off now.             13\n",
              "8288  We’re going to go in and try to collect eviden...             14\n",
              "8288  Editor’s Note: This is developing with updates...             15\n",
              "8288                            Count on 2 for updates.             16\n",
              "\n",
              "[280020 rows x 2 columns]"
            ],
            "text/html": [
              "\n",
              "  <div id=\"df-afea8550-66f5-4f34-b8a2-b02d08f3c9c5\">\n",
              "    <div class=\"colab-df-container\">\n",
              "      <div>\n",
              "<style scoped>\n",
              "    .dataframe tbody tr th:only-of-type {\n",
              "        vertical-align: middle;\n",
              "    }\n",
              "\n",
              "    .dataframe tbody tr th {\n",
              "        vertical-align: top;\n",
              "    }\n",
              "\n",
              "    .dataframe thead th {\n",
              "        text-align: right;\n",
              "    }\n",
              "</style>\n",
              "<table border=\"1\" class=\"dataframe\">\n",
              "  <thead>\n",
              "    <tr style=\"text-align: right;\">\n",
              "      <th></th>\n",
              "      <th>sentence_each</th>\n",
              "      <th>sentence_turn</th>\n",
              "    </tr>\n",
              "  </thead>\n",
              "  <tbody>\n",
              "    <tr>\n",
              "      <th>0</th>\n",
              "      <td>Panel recommends anxiety screening for adults ...</td>\n",
              "      <td>0</td>\n",
              "    </tr>\n",
              "    <tr>\n",
              "      <th>0</th>\n",
              "      <td>The proposed measure intends to identify early...</td>\n",
              "      <td>1</td>\n",
              "    </tr>\n",
              "    <tr>\n",
              "      <th>0</th>\n",
              "      <td>\"\"Screening all adults for depression, includi...</td>\n",
              "      <td>2</td>\n",
              "    </tr>\n",
              "    <tr>\n",
              "      <th>0</th>\n",
              "      <td>The panel includes generalized anxiety disorde...</td>\n",
              "      <td>3</td>\n",
              "    </tr>\n",
              "    <tr>\n",
              "      <th>0</th>\n",
              "      <td>According to the panel, screening and follow-u...</td>\n",
              "      <td>4</td>\n",
              "    </tr>\n",
              "    <tr>\n",
              "      <th>...</th>\n",
              "      <td>...</td>\n",
              "      <td>...</td>\n",
              "    </tr>\n",
              "    <tr>\n",
              "      <th>8288</th>\n",
              "      <td>The cause of the fire is being investigated by...</td>\n",
              "      <td>12</td>\n",
              "    </tr>\n",
              "    <tr>\n",
              "      <th>8288</th>\n",
              "      <td>“It’s cooling off now.</td>\n",
              "      <td>13</td>\n",
              "    </tr>\n",
              "    <tr>\n",
              "      <th>8288</th>\n",
              "      <td>We’re going to go in and try to collect eviden...</td>\n",
              "      <td>14</td>\n",
              "    </tr>\n",
              "    <tr>\n",
              "      <th>8288</th>\n",
              "      <td>Editor’s Note: This is developing with updates...</td>\n",
              "      <td>15</td>\n",
              "    </tr>\n",
              "    <tr>\n",
              "      <th>8288</th>\n",
              "      <td>Count on 2 for updates.</td>\n",
              "      <td>16</td>\n",
              "    </tr>\n",
              "  </tbody>\n",
              "</table>\n",
              "<p>280020 rows × 2 columns</p>\n",
              "</div>\n",
              "      <button class=\"colab-df-convert\" onclick=\"convertToInteractive('df-afea8550-66f5-4f34-b8a2-b02d08f3c9c5')\"\n",
              "              title=\"Convert this dataframe to an interactive table.\"\n",
              "              style=\"display:none;\">\n",
              "        \n",
              "  <svg xmlns=\"http://www.w3.org/2000/svg\" height=\"24px\"viewBox=\"0 0 24 24\"\n",
              "       width=\"24px\">\n",
              "    <path d=\"M0 0h24v24H0V0z\" fill=\"none\"/>\n",
              "    <path d=\"M18.56 5.44l.94 2.06.94-2.06 2.06-.94-2.06-.94-.94-2.06-.94 2.06-2.06.94zm-11 1L8.5 8.5l.94-2.06 2.06-.94-2.06-.94L8.5 2.5l-.94 2.06-2.06.94zm10 10l.94 2.06.94-2.06 2.06-.94-2.06-.94-.94-2.06-.94 2.06-2.06.94z\"/><path d=\"M17.41 7.96l-1.37-1.37c-.4-.4-.92-.59-1.43-.59-.52 0-1.04.2-1.43.59L10.3 9.45l-7.72 7.72c-.78.78-.78 2.05 0 2.83L4 21.41c.39.39.9.59 1.41.59.51 0 1.02-.2 1.41-.59l7.78-7.78 2.81-2.81c.8-.78.8-2.07 0-2.86zM5.41 20L4 18.59l7.72-7.72 1.47 1.35L5.41 20z\"/>\n",
              "  </svg>\n",
              "      </button>\n",
              "      \n",
              "  <style>\n",
              "    .colab-df-container {\n",
              "      display:flex;\n",
              "      flex-wrap:wrap;\n",
              "      gap: 12px;\n",
              "    }\n",
              "\n",
              "    .colab-df-convert {\n",
              "      background-color: #E8F0FE;\n",
              "      border: none;\n",
              "      border-radius: 50%;\n",
              "      cursor: pointer;\n",
              "      display: none;\n",
              "      fill: #1967D2;\n",
              "      height: 32px;\n",
              "      padding: 0 0 0 0;\n",
              "      width: 32px;\n",
              "    }\n",
              "\n",
              "    .colab-df-convert:hover {\n",
              "      background-color: #E2EBFA;\n",
              "      box-shadow: 0px 1px 2px rgba(60, 64, 67, 0.3), 0px 1px 3px 1px rgba(60, 64, 67, 0.15);\n",
              "      fill: #174EA6;\n",
              "    }\n",
              "\n",
              "    [theme=dark] .colab-df-convert {\n",
              "      background-color: #3B4455;\n",
              "      fill: #D2E3FC;\n",
              "    }\n",
              "\n",
              "    [theme=dark] .colab-df-convert:hover {\n",
              "      background-color: #434B5C;\n",
              "      box-shadow: 0px 1px 3px 1px rgba(0, 0, 0, 0.15);\n",
              "      filter: drop-shadow(0px 1px 2px rgba(0, 0, 0, 0.3));\n",
              "      fill: #FFFFFF;\n",
              "    }\n",
              "  </style>\n",
              "\n",
              "      <script>\n",
              "        const buttonEl =\n",
              "          document.querySelector('#df-afea8550-66f5-4f34-b8a2-b02d08f3c9c5 button.colab-df-convert');\n",
              "        buttonEl.style.display =\n",
              "          google.colab.kernel.accessAllowed ? 'block' : 'none';\n",
              "\n",
              "        async function convertToInteractive(key) {\n",
              "          const element = document.querySelector('#df-afea8550-66f5-4f34-b8a2-b02d08f3c9c5');\n",
              "          const dataTable =\n",
              "            await google.colab.kernel.invokeFunction('convertToInteractive',\n",
              "                                                     [key], {});\n",
              "          if (!dataTable) return;\n",
              "\n",
              "          const docLinkHtml = 'Like what you see? Visit the ' +\n",
              "            '<a target=\"_blank\" href=https://colab.research.google.com/notebooks/data_table.ipynb>data table notebook</a>'\n",
              "            + ' to learn more about interactive tables.';\n",
              "          element.innerHTML = '';\n",
              "          dataTable['output_type'] = 'display_data';\n",
              "          await google.colab.output.renderOutput(dataTable, element);\n",
              "          const docLink = document.createElement('div');\n",
              "          docLink.innerHTML = docLinkHtml;\n",
              "          element.appendChild(docLink);\n",
              "        }\n",
              "      </script>\n",
              "    </div>\n",
              "  </div>\n",
              "  "
            ]
          },
          "metadata": {},
          "execution_count": 103
        }
      ]
    },
    {
      "cell_type": "code",
      "source": [
        "# merging split sentences to the article level\n",
        "merge_all_m3_join = pd.concat([merge_uni_m3_group2, by_sentence_df], axis=1)\n"
      ],
      "metadata": {
        "id": "Ol3WC85ghWgd"
      },
      "execution_count": null,
      "outputs": []
    },
    {
      "cell_type": "code",
      "source": [
        "merge_all_m3_join['search_words'] = merge_all_m3_join.apply(lambda x: x.places in x.sentence_each, axis=1)\n"
      ],
      "metadata": {
        "id": "y1l5DuylhZXL"
      },
      "execution_count": null,
      "outputs": []
    },
    {
      "cell_type": "code",
      "source": [
        "merge_all_m3_join['article_id'] = merge_all_m3_join.index.get_level_values(0)\n",
        "merge_all_m3_join.reset_index(drop=True, inplace=True)\n"
      ],
      "metadata": {
        "id": "KxrA6OwDWX3T"
      },
      "execution_count": null,
      "outputs": []
    },
    {
      "cell_type": "code",
      "source": [
        "# find those sentences that contain searching words (locations)\n",
        "\n",
        "merge_all_m3_join_TRUE = merge_all_m3_join[merge_all_m3_join['search_words']==True]"
      ],
      "metadata": {
        "id": "Wd_SJ1biiBUB"
      },
      "execution_count": null,
      "outputs": []
    },
    {
      "cell_type": "code",
      "source": [
        "merge_temp = merge_all_m3_join_TRUE.groupby('places').count() #"
      ],
      "metadata": {
        "colab": {
          "base_uri": "https://localhost:8080/",
          "height": 455
        },
        "id": "V7b9pXkwTeHZ",
        "outputId": "ccc32c73-65d8-4330-907b-cb5d18a12134"
      },
      "execution_count": null,
      "outputs": [
        {
          "output_type": "execute_result",
          "data": {
            "text/plain": [
              "                   index  id  article_final  sentence_each  sentence_turn  \\\n",
              "places                                                                      \n",
              "                      22  22             22             22             22   \n",
              "14 W. Main St.         3   3              3              3              3   \n",
              "1495 Roswell Road      3   3              3              3              3   \n",
              "169/28                 3   3              3              3              3   \n",
              "1:48                   3   3              3              3              3   \n",
              "...                  ...  ..            ...            ...            ...   \n",
              "uk                     5   5              5              5              5   \n",
              "west Lincoln           3   3              3              3              3   \n",
              "west Tennessee         3   3              3              3              3   \n",
              "west entrance          9   9              9              9              9   \n",
              "west.                  3   3              3              3              3   \n",
              "\n",
              "                   search_words  article_id  \n",
              "places                                       \n",
              "                             22          22  \n",
              "14 W. Main St.                3           3  \n",
              "1495 Roswell Road             3           3  \n",
              "169/28                        3           3  \n",
              "1:48                          3           3  \n",
              "...                         ...         ...  \n",
              "uk                            5           5  \n",
              "west Lincoln                  3           3  \n",
              "west Tennessee                3           3  \n",
              "west entrance                 9           9  \n",
              "west.                         3           3  \n",
              "\n",
              "[2753 rows x 7 columns]"
            ],
            "text/html": [
              "\n",
              "  <div id=\"df-659b804b-eea8-495d-a5f3-fbfc7cc1c130\">\n",
              "    <div class=\"colab-df-container\">\n",
              "      <div>\n",
              "<style scoped>\n",
              "    .dataframe tbody tr th:only-of-type {\n",
              "        vertical-align: middle;\n",
              "    }\n",
              "\n",
              "    .dataframe tbody tr th {\n",
              "        vertical-align: top;\n",
              "    }\n",
              "\n",
              "    .dataframe thead th {\n",
              "        text-align: right;\n",
              "    }\n",
              "</style>\n",
              "<table border=\"1\" class=\"dataframe\">\n",
              "  <thead>\n",
              "    <tr style=\"text-align: right;\">\n",
              "      <th></th>\n",
              "      <th>index</th>\n",
              "      <th>id</th>\n",
              "      <th>article_final</th>\n",
              "      <th>sentence_each</th>\n",
              "      <th>sentence_turn</th>\n",
              "      <th>search_words</th>\n",
              "      <th>article_id</th>\n",
              "    </tr>\n",
              "    <tr>\n",
              "      <th>places</th>\n",
              "      <th></th>\n",
              "      <th></th>\n",
              "      <th></th>\n",
              "      <th></th>\n",
              "      <th></th>\n",
              "      <th></th>\n",
              "      <th></th>\n",
              "    </tr>\n",
              "  </thead>\n",
              "  <tbody>\n",
              "    <tr>\n",
              "      <th></th>\n",
              "      <td>22</td>\n",
              "      <td>22</td>\n",
              "      <td>22</td>\n",
              "      <td>22</td>\n",
              "      <td>22</td>\n",
              "      <td>22</td>\n",
              "      <td>22</td>\n",
              "    </tr>\n",
              "    <tr>\n",
              "      <th>14 W. Main St.</th>\n",
              "      <td>3</td>\n",
              "      <td>3</td>\n",
              "      <td>3</td>\n",
              "      <td>3</td>\n",
              "      <td>3</td>\n",
              "      <td>3</td>\n",
              "      <td>3</td>\n",
              "    </tr>\n",
              "    <tr>\n",
              "      <th>1495 Roswell Road</th>\n",
              "      <td>3</td>\n",
              "      <td>3</td>\n",
              "      <td>3</td>\n",
              "      <td>3</td>\n",
              "      <td>3</td>\n",
              "      <td>3</td>\n",
              "      <td>3</td>\n",
              "    </tr>\n",
              "    <tr>\n",
              "      <th>169/28</th>\n",
              "      <td>3</td>\n",
              "      <td>3</td>\n",
              "      <td>3</td>\n",
              "      <td>3</td>\n",
              "      <td>3</td>\n",
              "      <td>3</td>\n",
              "      <td>3</td>\n",
              "    </tr>\n",
              "    <tr>\n",
              "      <th>1:48</th>\n",
              "      <td>3</td>\n",
              "      <td>3</td>\n",
              "      <td>3</td>\n",
              "      <td>3</td>\n",
              "      <td>3</td>\n",
              "      <td>3</td>\n",
              "      <td>3</td>\n",
              "    </tr>\n",
              "    <tr>\n",
              "      <th>...</th>\n",
              "      <td>...</td>\n",
              "      <td>...</td>\n",
              "      <td>...</td>\n",
              "      <td>...</td>\n",
              "      <td>...</td>\n",
              "      <td>...</td>\n",
              "      <td>...</td>\n",
              "    </tr>\n",
              "    <tr>\n",
              "      <th>uk</th>\n",
              "      <td>5</td>\n",
              "      <td>5</td>\n",
              "      <td>5</td>\n",
              "      <td>5</td>\n",
              "      <td>5</td>\n",
              "      <td>5</td>\n",
              "      <td>5</td>\n",
              "    </tr>\n",
              "    <tr>\n",
              "      <th>west Lincoln</th>\n",
              "      <td>3</td>\n",
              "      <td>3</td>\n",
              "      <td>3</td>\n",
              "      <td>3</td>\n",
              "      <td>3</td>\n",
              "      <td>3</td>\n",
              "      <td>3</td>\n",
              "    </tr>\n",
              "    <tr>\n",
              "      <th>west Tennessee</th>\n",
              "      <td>3</td>\n",
              "      <td>3</td>\n",
              "      <td>3</td>\n",
              "      <td>3</td>\n",
              "      <td>3</td>\n",
              "      <td>3</td>\n",
              "      <td>3</td>\n",
              "    </tr>\n",
              "    <tr>\n",
              "      <th>west entrance</th>\n",
              "      <td>9</td>\n",
              "      <td>9</td>\n",
              "      <td>9</td>\n",
              "      <td>9</td>\n",
              "      <td>9</td>\n",
              "      <td>9</td>\n",
              "      <td>9</td>\n",
              "    </tr>\n",
              "    <tr>\n",
              "      <th>west.</th>\n",
              "      <td>3</td>\n",
              "      <td>3</td>\n",
              "      <td>3</td>\n",
              "      <td>3</td>\n",
              "      <td>3</td>\n",
              "      <td>3</td>\n",
              "      <td>3</td>\n",
              "    </tr>\n",
              "  </tbody>\n",
              "</table>\n",
              "<p>2753 rows × 7 columns</p>\n",
              "</div>\n",
              "      <button class=\"colab-df-convert\" onclick=\"convertToInteractive('df-659b804b-eea8-495d-a5f3-fbfc7cc1c130')\"\n",
              "              title=\"Convert this dataframe to an interactive table.\"\n",
              "              style=\"display:none;\">\n",
              "        \n",
              "  <svg xmlns=\"http://www.w3.org/2000/svg\" height=\"24px\"viewBox=\"0 0 24 24\"\n",
              "       width=\"24px\">\n",
              "    <path d=\"M0 0h24v24H0V0z\" fill=\"none\"/>\n",
              "    <path d=\"M18.56 5.44l.94 2.06.94-2.06 2.06-.94-2.06-.94-.94-2.06-.94 2.06-2.06.94zm-11 1L8.5 8.5l.94-2.06 2.06-.94-2.06-.94L8.5 2.5l-.94 2.06-2.06.94zm10 10l.94 2.06.94-2.06 2.06-.94-2.06-.94-.94-2.06-.94 2.06-2.06.94z\"/><path d=\"M17.41 7.96l-1.37-1.37c-.4-.4-.92-.59-1.43-.59-.52 0-1.04.2-1.43.59L10.3 9.45l-7.72 7.72c-.78.78-.78 2.05 0 2.83L4 21.41c.39.39.9.59 1.41.59.51 0 1.02-.2 1.41-.59l7.78-7.78 2.81-2.81c.8-.78.8-2.07 0-2.86zM5.41 20L4 18.59l7.72-7.72 1.47 1.35L5.41 20z\"/>\n",
              "  </svg>\n",
              "      </button>\n",
              "      \n",
              "  <style>\n",
              "    .colab-df-container {\n",
              "      display:flex;\n",
              "      flex-wrap:wrap;\n",
              "      gap: 12px;\n",
              "    }\n",
              "\n",
              "    .colab-df-convert {\n",
              "      background-color: #E8F0FE;\n",
              "      border: none;\n",
              "      border-radius: 50%;\n",
              "      cursor: pointer;\n",
              "      display: none;\n",
              "      fill: #1967D2;\n",
              "      height: 32px;\n",
              "      padding: 0 0 0 0;\n",
              "      width: 32px;\n",
              "    }\n",
              "\n",
              "    .colab-df-convert:hover {\n",
              "      background-color: #E2EBFA;\n",
              "      box-shadow: 0px 1px 2px rgba(60, 64, 67, 0.3), 0px 1px 3px 1px rgba(60, 64, 67, 0.15);\n",
              "      fill: #174EA6;\n",
              "    }\n",
              "\n",
              "    [theme=dark] .colab-df-convert {\n",
              "      background-color: #3B4455;\n",
              "      fill: #D2E3FC;\n",
              "    }\n",
              "\n",
              "    [theme=dark] .colab-df-convert:hover {\n",
              "      background-color: #434B5C;\n",
              "      box-shadow: 0px 1px 3px 1px rgba(0, 0, 0, 0.15);\n",
              "      filter: drop-shadow(0px 1px 2px rgba(0, 0, 0, 0.3));\n",
              "      fill: #FFFFFF;\n",
              "    }\n",
              "  </style>\n",
              "\n",
              "      <script>\n",
              "        const buttonEl =\n",
              "          document.querySelector('#df-659b804b-eea8-495d-a5f3-fbfc7cc1c130 button.colab-df-convert');\n",
              "        buttonEl.style.display =\n",
              "          google.colab.kernel.accessAllowed ? 'block' : 'none';\n",
              "\n",
              "        async function convertToInteractive(key) {\n",
              "          const element = document.querySelector('#df-659b804b-eea8-495d-a5f3-fbfc7cc1c130');\n",
              "          const dataTable =\n",
              "            await google.colab.kernel.invokeFunction('convertToInteractive',\n",
              "                                                     [key], {});\n",
              "          if (!dataTable) return;\n",
              "\n",
              "          const docLinkHtml = 'Like what you see? Visit the ' +\n",
              "            '<a target=\"_blank\" href=https://colab.research.google.com/notebooks/data_table.ipynb>data table notebook</a>'\n",
              "            + ' to learn more about interactive tables.';\n",
              "          element.innerHTML = '';\n",
              "          dataTable['output_type'] = 'display_data';\n",
              "          await google.colab.output.renderOutput(dataTable, element);\n",
              "          const docLink = document.createElement('div');\n",
              "          docLink.innerHTML = docLinkHtml;\n",
              "          element.appendChild(docLink);\n",
              "        }\n",
              "      </script>\n",
              "    </div>\n",
              "  </div>\n",
              "  "
            ]
          },
          "metadata": {},
          "execution_count": 108
        }
      ]
    },
    {
      "cell_type": "code",
      "source": [
        "# extract 3 random sentences containing the searching word (location) only\n",
        "\n",
        "merge_temp_m3_group = merge_all_m3_join_TRUE.groupby('places').apply(lambda x: x.sample(3, replace=False)).reset_index(drop=True)\n"
      ],
      "metadata": {
        "id": "jYGpxaBwTso8"
      },
      "execution_count": null,
      "outputs": []
    },
    {
      "cell_type": "code",
      "source": [
        "merge_temp_m3_group"
      ],
      "metadata": {
        "colab": {
          "base_uri": "https://localhost:8080/",
          "height": 468
        },
        "id": "Ns4uUaC0er4J",
        "outputId": "b6ed7e86-1b3a-45fa-bb1d-4e092fd8359a"
      },
      "execution_count": null,
      "outputs": [
        {
          "output_type": "execute_result",
          "data": {
            "text/plain": [
              "      index          places      id  \\\n",
              "0         0                  158151   \n",
              "1         0                  158151   \n",
              "2         0                  158151   \n",
              "3         3  14 W. Main St.   47531   \n",
              "4         4  14 W. Main St.   30084   \n",
              "...     ...             ...     ...   \n",
              "8254   8271   west entrance   48058   \n",
              "8255   8272   west entrance   47270   \n",
              "8256   8275           west.   92690   \n",
              "8257   8276           west.  105640   \n",
              "8258   8274           west.  168295   \n",
              "\n",
              "                                          article_final  \\\n",
              "0     Panel recommends anxiety screening for adults ...   \n",
              "1     Panel recommends anxiety screening for adults ...   \n",
              "2     Panel recommends anxiety screening for adults ...   \n",
              "3     GRAFTON — A new attraction described as a \"\"th...   \n",
              "4     Gazebo Downtown Franklin decorated for Fall. p...   \n",
              "...                                                 ...   \n",
              "8254  UNI-Dome Render 1\\n\\nUpdated Oct 11, 2022\\n\\nA...   \n",
              "8255  Iowa pork producers would suffer huge negative...   \n",
              "8256  PHILADELPHIA — A local Republican Party in Sou...   \n",
              "8257  Darrell Brooks trial: Waukesha parade's younge...   \n",
              "8258  Ema Horvath is to star in a remake of 'The Str...   \n",
              "\n",
              "                                          sentence_each  sentence_turn  \\\n",
              "0     According to the panel, screening and follow-u...              4   \n",
              "1     In 2020, the National Alliance on Mental Illne...             10   \n",
              "2     \"\"After diagnosis, people should participate i...             14   \n",
              "3     The coaster ride is expected to be open year-r...             10   \n",
              "4     American Legion Macon Post 108 and American Le...             13   \n",
              "...                                                 ...            ...   \n",
              "8254  UNI-Dome Render 6\\n\\nUpdated Oct 11, 2022\\n\\nT...              8   \n",
              "8255  UNI-Dome Render 3\\n\\nUpdated Oct 11, 2022\\n\\nA...             36   \n",
              "8256  Now Richard Ringer, a former journalist, is ru...             54   \n",
              "8257  He said he was concerned with 25 frames as the...            169   \n",
              "8258  Renny Harlin is directing the remake, with the...              5   \n",
              "\n",
              "      search_words  article_id  \n",
              "0             True           0  \n",
              "1             True           0  \n",
              "2             True           0  \n",
              "3             True           3  \n",
              "4             True           4  \n",
              "...            ...         ...  \n",
              "8254          True        8271  \n",
              "8255          True        8272  \n",
              "8256          True        8275  \n",
              "8257          True        8276  \n",
              "8258          True        8274  \n",
              "\n",
              "[8259 rows x 8 columns]"
            ],
            "text/html": [
              "\n",
              "  <div id=\"df-c120a7f7-3cdd-4a26-8466-373b13b99b0e\">\n",
              "    <div class=\"colab-df-container\">\n",
              "      <div>\n",
              "<style scoped>\n",
              "    .dataframe tbody tr th:only-of-type {\n",
              "        vertical-align: middle;\n",
              "    }\n",
              "\n",
              "    .dataframe tbody tr th {\n",
              "        vertical-align: top;\n",
              "    }\n",
              "\n",
              "    .dataframe thead th {\n",
              "        text-align: right;\n",
              "    }\n",
              "</style>\n",
              "<table border=\"1\" class=\"dataframe\">\n",
              "  <thead>\n",
              "    <tr style=\"text-align: right;\">\n",
              "      <th></th>\n",
              "      <th>index</th>\n",
              "      <th>places</th>\n",
              "      <th>id</th>\n",
              "      <th>article_final</th>\n",
              "      <th>sentence_each</th>\n",
              "      <th>sentence_turn</th>\n",
              "      <th>search_words</th>\n",
              "      <th>article_id</th>\n",
              "    </tr>\n",
              "  </thead>\n",
              "  <tbody>\n",
              "    <tr>\n",
              "      <th>0</th>\n",
              "      <td>0</td>\n",
              "      <td></td>\n",
              "      <td>158151</td>\n",
              "      <td>Panel recommends anxiety screening for adults ...</td>\n",
              "      <td>According to the panel, screening and follow-u...</td>\n",
              "      <td>4</td>\n",
              "      <td>True</td>\n",
              "      <td>0</td>\n",
              "    </tr>\n",
              "    <tr>\n",
              "      <th>1</th>\n",
              "      <td>0</td>\n",
              "      <td></td>\n",
              "      <td>158151</td>\n",
              "      <td>Panel recommends anxiety screening for adults ...</td>\n",
              "      <td>In 2020, the National Alliance on Mental Illne...</td>\n",
              "      <td>10</td>\n",
              "      <td>True</td>\n",
              "      <td>0</td>\n",
              "    </tr>\n",
              "    <tr>\n",
              "      <th>2</th>\n",
              "      <td>0</td>\n",
              "      <td></td>\n",
              "      <td>158151</td>\n",
              "      <td>Panel recommends anxiety screening for adults ...</td>\n",
              "      <td>\"\"After diagnosis, people should participate i...</td>\n",
              "      <td>14</td>\n",
              "      <td>True</td>\n",
              "      <td>0</td>\n",
              "    </tr>\n",
              "    <tr>\n",
              "      <th>3</th>\n",
              "      <td>3</td>\n",
              "      <td>14 W. Main St.</td>\n",
              "      <td>47531</td>\n",
              "      <td>GRAFTON — A new attraction described as a \"\"th...</td>\n",
              "      <td>The coaster ride is expected to be open year-r...</td>\n",
              "      <td>10</td>\n",
              "      <td>True</td>\n",
              "      <td>3</td>\n",
              "    </tr>\n",
              "    <tr>\n",
              "      <th>4</th>\n",
              "      <td>4</td>\n",
              "      <td>14 W. Main St.</td>\n",
              "      <td>30084</td>\n",
              "      <td>Gazebo Downtown Franklin decorated for Fall. p...</td>\n",
              "      <td>American Legion Macon Post 108 and American Le...</td>\n",
              "      <td>13</td>\n",
              "      <td>True</td>\n",
              "      <td>4</td>\n",
              "    </tr>\n",
              "    <tr>\n",
              "      <th>...</th>\n",
              "      <td>...</td>\n",
              "      <td>...</td>\n",
              "      <td>...</td>\n",
              "      <td>...</td>\n",
              "      <td>...</td>\n",
              "      <td>...</td>\n",
              "      <td>...</td>\n",
              "      <td>...</td>\n",
              "    </tr>\n",
              "    <tr>\n",
              "      <th>8254</th>\n",
              "      <td>8271</td>\n",
              "      <td>west entrance</td>\n",
              "      <td>48058</td>\n",
              "      <td>UNI-Dome Render 1\\n\\nUpdated Oct 11, 2022\\n\\nA...</td>\n",
              "      <td>UNI-Dome Render 6\\n\\nUpdated Oct 11, 2022\\n\\nT...</td>\n",
              "      <td>8</td>\n",
              "      <td>True</td>\n",
              "      <td>8271</td>\n",
              "    </tr>\n",
              "    <tr>\n",
              "      <th>8255</th>\n",
              "      <td>8272</td>\n",
              "      <td>west entrance</td>\n",
              "      <td>47270</td>\n",
              "      <td>Iowa pork producers would suffer huge negative...</td>\n",
              "      <td>UNI-Dome Render 3\\n\\nUpdated Oct 11, 2022\\n\\nA...</td>\n",
              "      <td>36</td>\n",
              "      <td>True</td>\n",
              "      <td>8272</td>\n",
              "    </tr>\n",
              "    <tr>\n",
              "      <th>8256</th>\n",
              "      <td>8275</td>\n",
              "      <td>west.</td>\n",
              "      <td>92690</td>\n",
              "      <td>PHILADELPHIA — A local Republican Party in Sou...</td>\n",
              "      <td>Now Richard Ringer, a former journalist, is ru...</td>\n",
              "      <td>54</td>\n",
              "      <td>True</td>\n",
              "      <td>8275</td>\n",
              "    </tr>\n",
              "    <tr>\n",
              "      <th>8257</th>\n",
              "      <td>8276</td>\n",
              "      <td>west.</td>\n",
              "      <td>105640</td>\n",
              "      <td>Darrell Brooks trial: Waukesha parade's younge...</td>\n",
              "      <td>He said he was concerned with 25 frames as the...</td>\n",
              "      <td>169</td>\n",
              "      <td>True</td>\n",
              "      <td>8276</td>\n",
              "    </tr>\n",
              "    <tr>\n",
              "      <th>8258</th>\n",
              "      <td>8274</td>\n",
              "      <td>west.</td>\n",
              "      <td>168295</td>\n",
              "      <td>Ema Horvath is to star in a remake of 'The Str...</td>\n",
              "      <td>Renny Harlin is directing the remake, with the...</td>\n",
              "      <td>5</td>\n",
              "      <td>True</td>\n",
              "      <td>8274</td>\n",
              "    </tr>\n",
              "  </tbody>\n",
              "</table>\n",
              "<p>8259 rows × 8 columns</p>\n",
              "</div>\n",
              "      <button class=\"colab-df-convert\" onclick=\"convertToInteractive('df-c120a7f7-3cdd-4a26-8466-373b13b99b0e')\"\n",
              "              title=\"Convert this dataframe to an interactive table.\"\n",
              "              style=\"display:none;\">\n",
              "        \n",
              "  <svg xmlns=\"http://www.w3.org/2000/svg\" height=\"24px\"viewBox=\"0 0 24 24\"\n",
              "       width=\"24px\">\n",
              "    <path d=\"M0 0h24v24H0V0z\" fill=\"none\"/>\n",
              "    <path d=\"M18.56 5.44l.94 2.06.94-2.06 2.06-.94-2.06-.94-.94-2.06-.94 2.06-2.06.94zm-11 1L8.5 8.5l.94-2.06 2.06-.94-2.06-.94L8.5 2.5l-.94 2.06-2.06.94zm10 10l.94 2.06.94-2.06 2.06-.94-2.06-.94-.94-2.06-.94 2.06-2.06.94z\"/><path d=\"M17.41 7.96l-1.37-1.37c-.4-.4-.92-.59-1.43-.59-.52 0-1.04.2-1.43.59L10.3 9.45l-7.72 7.72c-.78.78-.78 2.05 0 2.83L4 21.41c.39.39.9.59 1.41.59.51 0 1.02-.2 1.41-.59l7.78-7.78 2.81-2.81c.8-.78.8-2.07 0-2.86zM5.41 20L4 18.59l7.72-7.72 1.47 1.35L5.41 20z\"/>\n",
              "  </svg>\n",
              "      </button>\n",
              "      \n",
              "  <style>\n",
              "    .colab-df-container {\n",
              "      display:flex;\n",
              "      flex-wrap:wrap;\n",
              "      gap: 12px;\n",
              "    }\n",
              "\n",
              "    .colab-df-convert {\n",
              "      background-color: #E8F0FE;\n",
              "      border: none;\n",
              "      border-radius: 50%;\n",
              "      cursor: pointer;\n",
              "      display: none;\n",
              "      fill: #1967D2;\n",
              "      height: 32px;\n",
              "      padding: 0 0 0 0;\n",
              "      width: 32px;\n",
              "    }\n",
              "\n",
              "    .colab-df-convert:hover {\n",
              "      background-color: #E2EBFA;\n",
              "      box-shadow: 0px 1px 2px rgba(60, 64, 67, 0.3), 0px 1px 3px 1px rgba(60, 64, 67, 0.15);\n",
              "      fill: #174EA6;\n",
              "    }\n",
              "\n",
              "    [theme=dark] .colab-df-convert {\n",
              "      background-color: #3B4455;\n",
              "      fill: #D2E3FC;\n",
              "    }\n",
              "\n",
              "    [theme=dark] .colab-df-convert:hover {\n",
              "      background-color: #434B5C;\n",
              "      box-shadow: 0px 1px 3px 1px rgba(0, 0, 0, 0.15);\n",
              "      filter: drop-shadow(0px 1px 2px rgba(0, 0, 0, 0.3));\n",
              "      fill: #FFFFFF;\n",
              "    }\n",
              "  </style>\n",
              "\n",
              "      <script>\n",
              "        const buttonEl =\n",
              "          document.querySelector('#df-c120a7f7-3cdd-4a26-8466-373b13b99b0e button.colab-df-convert');\n",
              "        buttonEl.style.display =\n",
              "          google.colab.kernel.accessAllowed ? 'block' : 'none';\n",
              "\n",
              "        async function convertToInteractive(key) {\n",
              "          const element = document.querySelector('#df-c120a7f7-3cdd-4a26-8466-373b13b99b0e');\n",
              "          const dataTable =\n",
              "            await google.colab.kernel.invokeFunction('convertToInteractive',\n",
              "                                                     [key], {});\n",
              "          if (!dataTable) return;\n",
              "\n",
              "          const docLinkHtml = 'Like what you see? Visit the ' +\n",
              "            '<a target=\"_blank\" href=https://colab.research.google.com/notebooks/data_table.ipynb>data table notebook</a>'\n",
              "            + ' to learn more about interactive tables.';\n",
              "          element.innerHTML = '';\n",
              "          dataTable['output_type'] = 'display_data';\n",
              "          await google.colab.output.renderOutput(dataTable, element);\n",
              "          const docLink = document.createElement('div');\n",
              "          docLink.innerHTML = docLinkHtml;\n",
              "          element.appendChild(docLink);\n",
              "        }\n",
              "      </script>\n",
              "    </div>\n",
              "  </div>\n",
              "  "
            ]
          },
          "metadata": {},
          "execution_count": 111
        }
      ]
    },
    {
      "cell_type": "code",
      "source": [
        "merge_temp_m3_group2 = merge_temp_m3_group[['places','id','sentence_each']]"
      ],
      "metadata": {
        "id": "IuA8GtipjnN9"
      },
      "execution_count": null,
      "outputs": []
    },
    {
      "cell_type": "code",
      "source": [
        "merge_temp_m3_group2['domainId'] = merge_temp_m3_group2.groupby('places')['places'].rank(method='first')\n"
      ],
      "metadata": {
        "id": "H_ta7WfUkRgb",
        "colab": {
          "base_uri": "https://localhost:8080/"
        },
        "outputId": "319e653e-f9ab-4bac-80e9-a3ff5c15affe"
      },
      "execution_count": null,
      "outputs": [
        {
          "output_type": "stream",
          "name": "stderr",
          "text": [
            "<ipython-input-114-32e3fd288afa>:1: SettingWithCopyWarning: \n",
            "A value is trying to be set on a copy of a slice from a DataFrame.\n",
            "Try using .loc[row_indexer,col_indexer] = value instead\n",
            "\n",
            "See the caveats in the documentation: https://pandas.pydata.org/pandas-docs/stable/user_guide/indexing.html#returning-a-view-versus-a-copy\n",
            "  merge_temp_m3_group2['domainId'] = merge_temp_m3_group2.groupby('places')['places'].rank(method='first')\n"
          ]
        }
      ]
    },
    {
      "cell_type": "code",
      "source": [
        "merge_temp_m3_group2.sort_values('places')"
      ],
      "metadata": {
        "colab": {
          "base_uri": "https://localhost:8080/",
          "height": 424
        },
        "id": "BiNKPGHkmz-9",
        "outputId": "627e9d4f-cea5-473d-eec7-d5811c483654"
      },
      "execution_count": null,
      "outputs": [
        {
          "output_type": "execute_result",
          "data": {
            "text/plain": [
              "              places      id  \\\n",
              "0                     158151   \n",
              "1                     158151   \n",
              "2                     158151   \n",
              "3     14 W. Main St.   47531   \n",
              "4     14 W. Main St.   30084   \n",
              "...              ...     ...   \n",
              "8253   west entrance   48058   \n",
              "8255   west entrance   47270   \n",
              "8257           west.  105640   \n",
              "8256           west.   92690   \n",
              "8258           west.  168295   \n",
              "\n",
              "                                          sentence_each  domainId  \n",
              "0     According to the panel, screening and follow-u...       1.0  \n",
              "1     In 2020, the National Alliance on Mental Illne...       2.0  \n",
              "2     \"\"After diagnosis, people should participate i...       3.0  \n",
              "3     The coaster ride is expected to be open year-r...       1.0  \n",
              "4     American Legion Macon Post 108 and American Le...       2.0  \n",
              "...                                                 ...       ...  \n",
              "8253  UNI-Dome Render 3\\n\\nUpdated Oct 11, 2022\\n\\nA...       1.0  \n",
              "8255  UNI-Dome Render 3\\n\\nUpdated Oct 11, 2022\\n\\nA...       3.0  \n",
              "8257  He said he was concerned with 25 frames as the...       2.0  \n",
              "8256  Now Richard Ringer, a former journalist, is ru...       1.0  \n",
              "8258  Renny Harlin is directing the remake, with the...       3.0  \n",
              "\n",
              "[8259 rows x 4 columns]"
            ],
            "text/html": [
              "\n",
              "  <div id=\"df-2a2dab76-6bc4-4694-ba8f-f6c0fc2fdfa0\">\n",
              "    <div class=\"colab-df-container\">\n",
              "      <div>\n",
              "<style scoped>\n",
              "    .dataframe tbody tr th:only-of-type {\n",
              "        vertical-align: middle;\n",
              "    }\n",
              "\n",
              "    .dataframe tbody tr th {\n",
              "        vertical-align: top;\n",
              "    }\n",
              "\n",
              "    .dataframe thead th {\n",
              "        text-align: right;\n",
              "    }\n",
              "</style>\n",
              "<table border=\"1\" class=\"dataframe\">\n",
              "  <thead>\n",
              "    <tr style=\"text-align: right;\">\n",
              "      <th></th>\n",
              "      <th>places</th>\n",
              "      <th>id</th>\n",
              "      <th>sentence_each</th>\n",
              "      <th>domainId</th>\n",
              "    </tr>\n",
              "  </thead>\n",
              "  <tbody>\n",
              "    <tr>\n",
              "      <th>0</th>\n",
              "      <td></td>\n",
              "      <td>158151</td>\n",
              "      <td>According to the panel, screening and follow-u...</td>\n",
              "      <td>1.0</td>\n",
              "    </tr>\n",
              "    <tr>\n",
              "      <th>1</th>\n",
              "      <td></td>\n",
              "      <td>158151</td>\n",
              "      <td>In 2020, the National Alliance on Mental Illne...</td>\n",
              "      <td>2.0</td>\n",
              "    </tr>\n",
              "    <tr>\n",
              "      <th>2</th>\n",
              "      <td></td>\n",
              "      <td>158151</td>\n",
              "      <td>\"\"After diagnosis, people should participate i...</td>\n",
              "      <td>3.0</td>\n",
              "    </tr>\n",
              "    <tr>\n",
              "      <th>3</th>\n",
              "      <td>14 W. Main St.</td>\n",
              "      <td>47531</td>\n",
              "      <td>The coaster ride is expected to be open year-r...</td>\n",
              "      <td>1.0</td>\n",
              "    </tr>\n",
              "    <tr>\n",
              "      <th>4</th>\n",
              "      <td>14 W. Main St.</td>\n",
              "      <td>30084</td>\n",
              "      <td>American Legion Macon Post 108 and American Le...</td>\n",
              "      <td>2.0</td>\n",
              "    </tr>\n",
              "    <tr>\n",
              "      <th>...</th>\n",
              "      <td>...</td>\n",
              "      <td>...</td>\n",
              "      <td>...</td>\n",
              "      <td>...</td>\n",
              "    </tr>\n",
              "    <tr>\n",
              "      <th>8253</th>\n",
              "      <td>west entrance</td>\n",
              "      <td>48058</td>\n",
              "      <td>UNI-Dome Render 3\\n\\nUpdated Oct 11, 2022\\n\\nA...</td>\n",
              "      <td>1.0</td>\n",
              "    </tr>\n",
              "    <tr>\n",
              "      <th>8255</th>\n",
              "      <td>west entrance</td>\n",
              "      <td>47270</td>\n",
              "      <td>UNI-Dome Render 3\\n\\nUpdated Oct 11, 2022\\n\\nA...</td>\n",
              "      <td>3.0</td>\n",
              "    </tr>\n",
              "    <tr>\n",
              "      <th>8257</th>\n",
              "      <td>west.</td>\n",
              "      <td>105640</td>\n",
              "      <td>He said he was concerned with 25 frames as the...</td>\n",
              "      <td>2.0</td>\n",
              "    </tr>\n",
              "    <tr>\n",
              "      <th>8256</th>\n",
              "      <td>west.</td>\n",
              "      <td>92690</td>\n",
              "      <td>Now Richard Ringer, a former journalist, is ru...</td>\n",
              "      <td>1.0</td>\n",
              "    </tr>\n",
              "    <tr>\n",
              "      <th>8258</th>\n",
              "      <td>west.</td>\n",
              "      <td>168295</td>\n",
              "      <td>Renny Harlin is directing the remake, with the...</td>\n",
              "      <td>3.0</td>\n",
              "    </tr>\n",
              "  </tbody>\n",
              "</table>\n",
              "<p>8259 rows × 4 columns</p>\n",
              "</div>\n",
              "      <button class=\"colab-df-convert\" onclick=\"convertToInteractive('df-2a2dab76-6bc4-4694-ba8f-f6c0fc2fdfa0')\"\n",
              "              title=\"Convert this dataframe to an interactive table.\"\n",
              "              style=\"display:none;\">\n",
              "        \n",
              "  <svg xmlns=\"http://www.w3.org/2000/svg\" height=\"24px\"viewBox=\"0 0 24 24\"\n",
              "       width=\"24px\">\n",
              "    <path d=\"M0 0h24v24H0V0z\" fill=\"none\"/>\n",
              "    <path d=\"M18.56 5.44l.94 2.06.94-2.06 2.06-.94-2.06-.94-.94-2.06-.94 2.06-2.06.94zm-11 1L8.5 8.5l.94-2.06 2.06-.94-2.06-.94L8.5 2.5l-.94 2.06-2.06.94zm10 10l.94 2.06.94-2.06 2.06-.94-2.06-.94-.94-2.06-.94 2.06-2.06.94z\"/><path d=\"M17.41 7.96l-1.37-1.37c-.4-.4-.92-.59-1.43-.59-.52 0-1.04.2-1.43.59L10.3 9.45l-7.72 7.72c-.78.78-.78 2.05 0 2.83L4 21.41c.39.39.9.59 1.41.59.51 0 1.02-.2 1.41-.59l7.78-7.78 2.81-2.81c.8-.78.8-2.07 0-2.86zM5.41 20L4 18.59l7.72-7.72 1.47 1.35L5.41 20z\"/>\n",
              "  </svg>\n",
              "      </button>\n",
              "      \n",
              "  <style>\n",
              "    .colab-df-container {\n",
              "      display:flex;\n",
              "      flex-wrap:wrap;\n",
              "      gap: 12px;\n",
              "    }\n",
              "\n",
              "    .colab-df-convert {\n",
              "      background-color: #E8F0FE;\n",
              "      border: none;\n",
              "      border-radius: 50%;\n",
              "      cursor: pointer;\n",
              "      display: none;\n",
              "      fill: #1967D2;\n",
              "      height: 32px;\n",
              "      padding: 0 0 0 0;\n",
              "      width: 32px;\n",
              "    }\n",
              "\n",
              "    .colab-df-convert:hover {\n",
              "      background-color: #E2EBFA;\n",
              "      box-shadow: 0px 1px 2px rgba(60, 64, 67, 0.3), 0px 1px 3px 1px rgba(60, 64, 67, 0.15);\n",
              "      fill: #174EA6;\n",
              "    }\n",
              "\n",
              "    [theme=dark] .colab-df-convert {\n",
              "      background-color: #3B4455;\n",
              "      fill: #D2E3FC;\n",
              "    }\n",
              "\n",
              "    [theme=dark] .colab-df-convert:hover {\n",
              "      background-color: #434B5C;\n",
              "      box-shadow: 0px 1px 3px 1px rgba(0, 0, 0, 0.15);\n",
              "      filter: drop-shadow(0px 1px 2px rgba(0, 0, 0, 0.3));\n",
              "      fill: #FFFFFF;\n",
              "    }\n",
              "  </style>\n",
              "\n",
              "      <script>\n",
              "        const buttonEl =\n",
              "          document.querySelector('#df-2a2dab76-6bc4-4694-ba8f-f6c0fc2fdfa0 button.colab-df-convert');\n",
              "        buttonEl.style.display =\n",
              "          google.colab.kernel.accessAllowed ? 'block' : 'none';\n",
              "\n",
              "        async function convertToInteractive(key) {\n",
              "          const element = document.querySelector('#df-2a2dab76-6bc4-4694-ba8f-f6c0fc2fdfa0');\n",
              "          const dataTable =\n",
              "            await google.colab.kernel.invokeFunction('convertToInteractive',\n",
              "                                                     [key], {});\n",
              "          if (!dataTable) return;\n",
              "\n",
              "          const docLinkHtml = 'Like what you see? Visit the ' +\n",
              "            '<a target=\"_blank\" href=https://colab.research.google.com/notebooks/data_table.ipynb>data table notebook</a>'\n",
              "            + ' to learn more about interactive tables.';\n",
              "          element.innerHTML = '';\n",
              "          dataTable['output_type'] = 'display_data';\n",
              "          await google.colab.output.renderOutput(dataTable, element);\n",
              "          const docLink = document.createElement('div');\n",
              "          docLink.innerHTML = docLinkHtml;\n",
              "          element.appendChild(docLink);\n",
              "        }\n",
              "      </script>\n",
              "    </div>\n",
              "  </div>\n",
              "  "
            ]
          },
          "metadata": {},
          "execution_count": 115
        }
      ]
    },
    {
      "cell_type": "code",
      "source": [
        "merge_temp_m3_group2_pivot = merge_temp_m3_group2.pivot(index='places', columns = 'domainId', values='sentence_each').reset_index()\n"
      ],
      "metadata": {
        "id": "9ZfRNhH_jB-S"
      },
      "execution_count": null,
      "outputs": []
    },
    {
      "cell_type": "code",
      "source": [
        "merge_temp_m3_group2_pivot.rename(columns={1:'sent_1', 2:'sent_2', 3:'sent_3'}, inplace=True)\n",
        "merge_temp_m3_group2_pivot\n"
      ],
      "metadata": {
        "colab": {
          "base_uri": "https://localhost:8080/",
          "height": 424
        },
        "id": "s7DqboNzUDOr",
        "outputId": "9f53f48d-61f8-4113-e114-37ccc83ce573"
      },
      "execution_count": null,
      "outputs": [
        {
          "output_type": "execute_result",
          "data": {
            "text/plain": [
              "domainId             places  \\\n",
              "0                             \n",
              "1            14 W. Main St.   \n",
              "2         1495 Roswell Road   \n",
              "3                    169/28   \n",
              "4                      1:48   \n",
              "...                     ...   \n",
              "2748                     uk   \n",
              "2749           west Lincoln   \n",
              "2750         west Tennessee   \n",
              "2751          west entrance   \n",
              "2752                  west.   \n",
              "\n",
              "domainId                                             sent_1  \\\n",
              "0         According to the panel, screening and follow-u...   \n",
              "1         The coaster ride is expected to be open year-r...   \n",
              "2         According to investigators, around 9:15 p.m. o...   \n",
              "3         Box: Troy Buchanan 44, Timberland 12\\n\\nUpdate...   \n",
              "4         Biden creates national monument in Colorado - ...   \n",
              "...                                                     ...   \n",
              "2748      The trio is one shot ahead of Ken Duke, who po...   \n",
              "2749      Police find 10 spent shell casings after gunsh...   \n",
              "2750      A west Tennessee woman's accused of murdering ...   \n",
              "2751      UNI-Dome Render 3\\n\\nUpdated Oct 11, 2022\\n\\nA...   \n",
              "2752      Now Richard Ringer, a former journalist, is ru...   \n",
              "\n",
              "domainId                                             sent_2  \\\n",
              "0         In 2020, the National Alliance on Mental Illne...   \n",
              "1         American Legion Macon Post 108 and American Le...   \n",
              "2         According to police, around 9:15 p.m. Saturday...   \n",
              "3         1 2 3 4 Final\\nVirden North Mac 15 7 14 14 50\\...   \n",
              "4         South Korea’s Joint Chiefs of Staff said in a ...   \n",
              "...                                                     ...   \n",
              "2748      “The DPRK clearly deems nuclear tests essentia...   \n",
              "2749      Police find 10 spent shell casings after gunsh...   \n",
              "2750      A west Tennessee woman's accused of murdering ...   \n",
              "2751      UNI-Dome Render 6\\n\\nUpdated Oct 11, 2022\\n\\nT...   \n",
              "2752      He said he was concerned with 25 frames as the...   \n",
              "\n",
              "domainId                                             sent_3  \n",
              "0         \"\"After diagnosis, people should participate i...  \n",
              "1         The coaster ride is expected to be open year-r...  \n",
              "2         Marietta PD’s Selective Traffic Enforcement Pr...  \n",
              "3         Box: Troy Buchanan 44, Timberland 12\\n\\nUpdate...  \n",
              "4         South Korea’s Joint Chiefs of Staff said in a ...  \n",
              "...                                                     ...  \n",
              "2748      Senate Minority Leader Mitch McConnell, R-Ky.,...  \n",
              "2749      Police find 10 spent shell casings after gunsh...  \n",
              "2750      A west Tennessee woman's accused of murdering ...  \n",
              "2751      UNI-Dome Render 3\\n\\nUpdated Oct 11, 2022\\n\\nA...  \n",
              "2752      Renny Harlin is directing the remake, with the...  \n",
              "\n",
              "[2753 rows x 4 columns]"
            ],
            "text/html": [
              "\n",
              "  <div id=\"df-317c0237-6322-4c52-8656-ad178217ecad\">\n",
              "    <div class=\"colab-df-container\">\n",
              "      <div>\n",
              "<style scoped>\n",
              "    .dataframe tbody tr th:only-of-type {\n",
              "        vertical-align: middle;\n",
              "    }\n",
              "\n",
              "    .dataframe tbody tr th {\n",
              "        vertical-align: top;\n",
              "    }\n",
              "\n",
              "    .dataframe thead th {\n",
              "        text-align: right;\n",
              "    }\n",
              "</style>\n",
              "<table border=\"1\" class=\"dataframe\">\n",
              "  <thead>\n",
              "    <tr style=\"text-align: right;\">\n",
              "      <th>domainId</th>\n",
              "      <th>places</th>\n",
              "      <th>sent_1</th>\n",
              "      <th>sent_2</th>\n",
              "      <th>sent_3</th>\n",
              "    </tr>\n",
              "  </thead>\n",
              "  <tbody>\n",
              "    <tr>\n",
              "      <th>0</th>\n",
              "      <td></td>\n",
              "      <td>According to the panel, screening and follow-u...</td>\n",
              "      <td>In 2020, the National Alliance on Mental Illne...</td>\n",
              "      <td>\"\"After diagnosis, people should participate i...</td>\n",
              "    </tr>\n",
              "    <tr>\n",
              "      <th>1</th>\n",
              "      <td>14 W. Main St.</td>\n",
              "      <td>The coaster ride is expected to be open year-r...</td>\n",
              "      <td>American Legion Macon Post 108 and American Le...</td>\n",
              "      <td>The coaster ride is expected to be open year-r...</td>\n",
              "    </tr>\n",
              "    <tr>\n",
              "      <th>2</th>\n",
              "      <td>1495 Roswell Road</td>\n",
              "      <td>According to investigators, around 9:15 p.m. o...</td>\n",
              "      <td>According to police, around 9:15 p.m. Saturday...</td>\n",
              "      <td>Marietta PD’s Selective Traffic Enforcement Pr...</td>\n",
              "    </tr>\n",
              "    <tr>\n",
              "      <th>3</th>\n",
              "      <td>169/28</td>\n",
              "      <td>Box: Troy Buchanan 44, Timberland 12\\n\\nUpdate...</td>\n",
              "      <td>1 2 3 4 Final\\nVirden North Mac 15 7 14 14 50\\...</td>\n",
              "      <td>Box: Troy Buchanan 44, Timberland 12\\n\\nUpdate...</td>\n",
              "    </tr>\n",
              "    <tr>\n",
              "      <th>4</th>\n",
              "      <td>1:48</td>\n",
              "      <td>Biden creates national monument in Colorado - ...</td>\n",
              "      <td>South Korea’s Joint Chiefs of Staff said in a ...</td>\n",
              "      <td>South Korea’s Joint Chiefs of Staff said in a ...</td>\n",
              "    </tr>\n",
              "    <tr>\n",
              "      <th>...</th>\n",
              "      <td>...</td>\n",
              "      <td>...</td>\n",
              "      <td>...</td>\n",
              "      <td>...</td>\n",
              "    </tr>\n",
              "    <tr>\n",
              "      <th>2748</th>\n",
              "      <td>uk</td>\n",
              "      <td>The trio is one shot ahead of Ken Duke, who po...</td>\n",
              "      <td>“The DPRK clearly deems nuclear tests essentia...</td>\n",
              "      <td>Senate Minority Leader Mitch McConnell, R-Ky.,...</td>\n",
              "    </tr>\n",
              "    <tr>\n",
              "      <th>2749</th>\n",
              "      <td>west Lincoln</td>\n",
              "      <td>Police find 10 spent shell casings after gunsh...</td>\n",
              "      <td>Police find 10 spent shell casings after gunsh...</td>\n",
              "      <td>Police find 10 spent shell casings after gunsh...</td>\n",
              "    </tr>\n",
              "    <tr>\n",
              "      <th>2750</th>\n",
              "      <td>west Tennessee</td>\n",
              "      <td>A west Tennessee woman's accused of murdering ...</td>\n",
              "      <td>A west Tennessee woman's accused of murdering ...</td>\n",
              "      <td>A west Tennessee woman's accused of murdering ...</td>\n",
              "    </tr>\n",
              "    <tr>\n",
              "      <th>2751</th>\n",
              "      <td>west entrance</td>\n",
              "      <td>UNI-Dome Render 3\\n\\nUpdated Oct 11, 2022\\n\\nA...</td>\n",
              "      <td>UNI-Dome Render 6\\n\\nUpdated Oct 11, 2022\\n\\nT...</td>\n",
              "      <td>UNI-Dome Render 3\\n\\nUpdated Oct 11, 2022\\n\\nA...</td>\n",
              "    </tr>\n",
              "    <tr>\n",
              "      <th>2752</th>\n",
              "      <td>west.</td>\n",
              "      <td>Now Richard Ringer, a former journalist, is ru...</td>\n",
              "      <td>He said he was concerned with 25 frames as the...</td>\n",
              "      <td>Renny Harlin is directing the remake, with the...</td>\n",
              "    </tr>\n",
              "  </tbody>\n",
              "</table>\n",
              "<p>2753 rows × 4 columns</p>\n",
              "</div>\n",
              "      <button class=\"colab-df-convert\" onclick=\"convertToInteractive('df-317c0237-6322-4c52-8656-ad178217ecad')\"\n",
              "              title=\"Convert this dataframe to an interactive table.\"\n",
              "              style=\"display:none;\">\n",
              "        \n",
              "  <svg xmlns=\"http://www.w3.org/2000/svg\" height=\"24px\"viewBox=\"0 0 24 24\"\n",
              "       width=\"24px\">\n",
              "    <path d=\"M0 0h24v24H0V0z\" fill=\"none\"/>\n",
              "    <path d=\"M18.56 5.44l.94 2.06.94-2.06 2.06-.94-2.06-.94-.94-2.06-.94 2.06-2.06.94zm-11 1L8.5 8.5l.94-2.06 2.06-.94-2.06-.94L8.5 2.5l-.94 2.06-2.06.94zm10 10l.94 2.06.94-2.06 2.06-.94-2.06-.94-.94-2.06-.94 2.06-2.06.94z\"/><path d=\"M17.41 7.96l-1.37-1.37c-.4-.4-.92-.59-1.43-.59-.52 0-1.04.2-1.43.59L10.3 9.45l-7.72 7.72c-.78.78-.78 2.05 0 2.83L4 21.41c.39.39.9.59 1.41.59.51 0 1.02-.2 1.41-.59l7.78-7.78 2.81-2.81c.8-.78.8-2.07 0-2.86zM5.41 20L4 18.59l7.72-7.72 1.47 1.35L5.41 20z\"/>\n",
              "  </svg>\n",
              "      </button>\n",
              "      \n",
              "  <style>\n",
              "    .colab-df-container {\n",
              "      display:flex;\n",
              "      flex-wrap:wrap;\n",
              "      gap: 12px;\n",
              "    }\n",
              "\n",
              "    .colab-df-convert {\n",
              "      background-color: #E8F0FE;\n",
              "      border: none;\n",
              "      border-radius: 50%;\n",
              "      cursor: pointer;\n",
              "      display: none;\n",
              "      fill: #1967D2;\n",
              "      height: 32px;\n",
              "      padding: 0 0 0 0;\n",
              "      width: 32px;\n",
              "    }\n",
              "\n",
              "    .colab-df-convert:hover {\n",
              "      background-color: #E2EBFA;\n",
              "      box-shadow: 0px 1px 2px rgba(60, 64, 67, 0.3), 0px 1px 3px 1px rgba(60, 64, 67, 0.15);\n",
              "      fill: #174EA6;\n",
              "    }\n",
              "\n",
              "    [theme=dark] .colab-df-convert {\n",
              "      background-color: #3B4455;\n",
              "      fill: #D2E3FC;\n",
              "    }\n",
              "\n",
              "    [theme=dark] .colab-df-convert:hover {\n",
              "      background-color: #434B5C;\n",
              "      box-shadow: 0px 1px 3px 1px rgba(0, 0, 0, 0.15);\n",
              "      filter: drop-shadow(0px 1px 2px rgba(0, 0, 0, 0.3));\n",
              "      fill: #FFFFFF;\n",
              "    }\n",
              "  </style>\n",
              "\n",
              "      <script>\n",
              "        const buttonEl =\n",
              "          document.querySelector('#df-317c0237-6322-4c52-8656-ad178217ecad button.colab-df-convert');\n",
              "        buttonEl.style.display =\n",
              "          google.colab.kernel.accessAllowed ? 'block' : 'none';\n",
              "\n",
              "        async function convertToInteractive(key) {\n",
              "          const element = document.querySelector('#df-317c0237-6322-4c52-8656-ad178217ecad');\n",
              "          const dataTable =\n",
              "            await google.colab.kernel.invokeFunction('convertToInteractive',\n",
              "                                                     [key], {});\n",
              "          if (!dataTable) return;\n",
              "\n",
              "          const docLinkHtml = 'Like what you see? Visit the ' +\n",
              "            '<a target=\"_blank\" href=https://colab.research.google.com/notebooks/data_table.ipynb>data table notebook</a>'\n",
              "            + ' to learn more about interactive tables.';\n",
              "          element.innerHTML = '';\n",
              "          dataTable['output_type'] = 'display_data';\n",
              "          await google.colab.output.renderOutput(dataTable, element);\n",
              "          const docLink = document.createElement('div');\n",
              "          docLink.innerHTML = docLinkHtml;\n",
              "          element.appendChild(docLink);\n",
              "        }\n",
              "      </script>\n",
              "    </div>\n",
              "  </div>\n",
              "  "
            ]
          },
          "metadata": {},
          "execution_count": 117
        }
      ]
    },
    {
      "cell_type": "code",
      "source": [
        "ner_places['places'] = ner_places['ner_places_clean']"
      ],
      "metadata": {
        "id": "wwHdQ-R7iony"
      },
      "execution_count": null,
      "outputs": []
    },
    {
      "cell_type": "code",
      "source": [
        "merge_temp_final = pd.merge(ner_places, merge_temp_m3_group2_pivot, on=\"places\", how='left').reset_index()\n"
      ],
      "metadata": {
        "id": "zDopHL8lnnGW"
      },
      "execution_count": null,
      "outputs": []
    },
    {
      "cell_type": "code",
      "source": [
        "merge_temp_final['sent_1'] = merge_temp_final['sent_1'].str.replace('\\n', ' ')\n",
        "merge_temp_final['sent_2'] = merge_temp_final['sent_2'].str.replace('\\n', ' ')\n",
        "merge_temp_final['sent_3'] = merge_temp_final['sent_3'].str.replace('\\n', ' ')"
      ],
      "metadata": {
        "id": "rEJHlTVfhavY"
      },
      "execution_count": null,
      "outputs": []
    },
    {
      "cell_type": "code",
      "source": [
        "# Mt. Pisgah\n",
        "#merge_temp_final.to_excel('merge_temp_final.xlsx')\n",
        "merge_temp_final.to_excel('/content/drive/MyDrive/Georgia/Locations Analysis/Georgia_ner_places_v2_wsent.xlsx')"
      ],
      "metadata": {
        "id": "Z2lYrXCaprjW"
      },
      "execution_count": null,
      "outputs": []
    },
    {
      "cell_type": "markdown",
      "source": [
        "### missing values\n"
      ],
      "metadata": {
        "id": "U5RsZ_0UaYg-"
      }
    },
    {
      "cell_type": "code",
      "source": [
        "# missing values\n",
        "\n",
        "merge_temp_final_na = merge_temp_final[merge_temp_final['sent_1'].isnull()]\n"
      ],
      "metadata": {
        "id": "XS6heVJgUeJ8"
      },
      "execution_count": null,
      "outputs": []
    },
    {
      "cell_type": "code",
      "source": [
        "\n",
        "missing_words = merge_temp_final_na.ner_places_clean.values.tolist()\n",
        "len(missing_words)\n",
        "                       "
      ],
      "metadata": {
        "colab": {
          "base_uri": "https://localhost:8080/"
        },
        "id": "Tuk_heiDcb65",
        "outputId": "3bb638c5-43f8-4f97-d7dd-77b8c682cbf4"
      },
      "execution_count": null,
      "outputs": [
        {
          "output_type": "execute_result",
          "data": {
            "text/plain": [
              "125"
            ]
          },
          "metadata": {},
          "execution_count": 111
        }
      ]
    },
    {
      "cell_type": "code",
      "source": [
        "df_ner['place_na'] = df_ner['article_final'].astype(str).apply(lambda x: [i for i in missing_words if i in x])\n"
      ],
      "metadata": {
        "colab": {
          "base_uri": "https://localhost:8080/"
        },
        "id": "qJ0cRelpZcai",
        "outputId": "9477ae57-be86-4432-98ce-155126025e4f"
      },
      "execution_count": null,
      "outputs": [
        {
          "output_type": "stream",
          "name": "stderr",
          "text": [
            "<ipython-input-112-1a733eefd377>:1: SettingWithCopyWarning: \n",
            "A value is trying to be set on a copy of a slice from a DataFrame.\n",
            "Try using .loc[row_indexer,col_indexer] = value instead\n",
            "\n",
            "See the caveats in the documentation: https://pandas.pydata.org/pandas-docs/stable/user_guide/indexing.html#returning-a-view-versus-a-copy\n",
            "  df_ner['place_na'] = df_ner['article_final'].astype(str).apply(lambda x: [i for i in missing_words if i in x])\n"
          ]
        }
      ]
    },
    {
      "cell_type": "code",
      "source": [
        "df_ner_place_na = df_ner[ df_ner['place_na'].str.len() > 0]"
      ],
      "metadata": {
        "id": "6GNZyoP_b4ar"
      },
      "execution_count": null,
      "outputs": []
    },
    {
      "cell_type": "code",
      "source": [
        "df_ner_place_na "
      ],
      "metadata": {
        "colab": {
          "base_uri": "https://localhost:8080/",
          "height": 1000
        },
        "id": "0C9pNXljcQDH",
        "outputId": "2cb25026-a155-4e45-b05d-df1e2a31a22a"
      },
      "execution_count": null,
      "outputs": [
        {
          "output_type": "execute_result",
          "data": {
            "text/plain": [
              "                              source                     website  \\\n",
              "175423                   Appen Media  https://www.appenmedia.com   \n",
              "201713          Athens Banner Herald    http://onlineathens.com/   \n",
              "95384   Atlanta Journal-Constitution         http://www.ajc.com/   \n",
              "94944   Atlanta Journal-Constitution         http://www.ajc.com/   \n",
              "95162   Atlanta Journal-Constitution         http://www.ajc.com/   \n",
              "...                              ...                         ...   \n",
              "2671                        MundoNow        https://mundonow.com   \n",
              "2721                        MundoNow        https://mundonow.com   \n",
              "2734                        MundoNow        https://mundonow.com   \n",
              "2898                        MundoNow        https://mundonow.com   \n",
              "2979                        MundoNow        https://mundonow.com   \n",
              "\n",
              "                                              article_url  \\\n",
              "175423  https://www.appenmedia.com/community/northern-...   \n",
              "201713  https://www.onlineathens.com/story/opinion/202...   \n",
              "95384   https://www.ajc.com/news/crime/commission-comp...   \n",
              "94944   https://www.ajc.com/sports/high-school-sports-...   \n",
              "95162   https://www.ajc.com/sports/high-school/halt-ke...   \n",
              "...                                                   ...   \n",
              "2671    https://mundonow.com/hombre-roba-motocicleta-2...   \n",
              "2721       https://mundonow.com/imagenes-sismo-michoacan/   \n",
              "2734     https://mundonow.com/muertos-sismo-68-en-mexico/   \n",
              "2898    https://mundonow.com/mhoni-vidente-sismos-mexico/   \n",
              "2979    https://mundonow.com/mueren-policias-ataque-ar...   \n",
              "\n",
              "                                            article_title  \\\n",
              "175423       Northern Ridge announces August Eagle Scouts   \n",
              "201713  Loran Smith: Stroll through campus brings back...   \n",
              "95384   Commission completes work to rename Fort Benni...   \n",
              "94944   Class 4A: Week 5 Primer, Region 4 takes center...   \n",
              "95162   Halt: Kennesaw Mt. Paran Christian pushes the ...   \n",
              "...                                                   ...   \n",
              "2671    Hombre roba motocicleta: tan solo 20 segundos ...   \n",
              "2721    Imágenes sismo Michoacán de madrugada se sient...   \n",
              "2734    Confirman dos muertos tras sismo de magnitud 6...   \n",
              "2898    Mhoni Vidente sismos México predicciones era d...   \n",
              "2979    Mueren policías ataque armado en el estado de ...   \n",
              "\n",
              "                      article_author date_published  \\\n",
              "175423                           NaN     2022-09-29   \n",
              "201713                   Loran Smith     2022-10-14   \n",
              "95384                    Jozsef Papp     2022-09-20   \n",
              "94944                 Craig Sager II     2022-09-15   \n",
              "95162                     Sports Bot     2022-09-17   \n",
              "...                              ...            ...   \n",
              "2671    Ernesto Iván Vargas Martínez     2022-09-21   \n",
              "2721               Cuauhtemoc Torres     2022-09-22   \n",
              "2734                        MundoNOW     2022-09-22   \n",
              "2898               Cuauhtemoc Torres     2022-09-27   \n",
              "2979               Cuauhtemoc Torres     2022-09-28   \n",
              "\n",
              "                                               ner_places  \\\n",
              "175423  {'the Dunwoody Nature Center (FAC)', 'St. Bene...   \n",
              "201713  {'Mt. Everest (LOC)', 'Georgia (GPE)', 'Dawgs ...   \n",
              "95384   {'Fort Liberty (GPE)', 'Fort Walker (GPE)', 'V...   \n",
              "94944   {'Cairo (GPE)', 'Wayne County (GPE)', 'Clarkst...   \n",
              "95162               {'Kennesaw (GPE)', 'Mt. Paran (LOC)'}   \n",
              "...                                                   ...   \n",
              "2671    {'Tiktok (GPE)', 'Latin America (LOC)', 'Colón...   \n",
              "2721    {'Michoacán (GPE)', 'Colima (GPE)', 'Jalisco (...   \n",
              "2734    {'Michoacán (GPE)', 'Earth (LOC)', 'Colima (GP...   \n",
              "2898    {'Chile (GPE)', 'Michoacán (GPE)', 'Oaxaca (GP...   \n",
              "2979    {'United States (GPE)', 'Mexico (GPE)', 'Zacat...   \n",
              "\n",
              "                                        article_lemma_num  \\\n",
              "175423  northern ridge boy scout district proud announ...   \n",
              "201713  inconvenience good push frustration serendipit...   \n",
              "95384   finish time spend quarter money authorize cong...   \n",
              "94944   limit opponent seven maybe possession stop tim...   \n",
              "95162   eagle register 34 0 advantage intermission war...   \n",
              "...                                                   ...   \n",
              "2671    man steal motorcycle exhibit thief break glass...   \n",
              "2721    impressive image earthquake circulate michoacn...   \n",
              "2734    earthquake mexico leave dead 387 million peopl...   \n",
              "2898    mhoni seer make prediction earthquake mexico s...   \n",
              "2979    police officer die armed attack mexico report ...   \n",
              "\n",
              "                                            article_final      id  \\\n",
              "175423  The Northern Ridge Boy Scout District is proud...  175424   \n",
              "201713  Sometimes when you are inconvenienced, it is b...  201714   \n",
              "95384   “We finished on time, spending only a quarter ...   95385   \n",
              "94944   “If we can limit an opponent to seven, maybe e...   94945   \n",
              "95162   The Eagles registered a 34-0 advantage at inte...   95163   \n",
              "...                                                   ...     ...   \n",
              "2671    Man steals a motorcycle that was being exhibit...    2672   \n",
              "2721    Impressive images of the earthquake circulate ...    2722   \n",
              "2734    Earthquake in Mexico leaves at least two dead ...    2735   \n",
              "2898    Mhoni seer makes predictions on earthquake in ...    2899   \n",
              "2979    Six police officers die in armed attack in Mex...    2980   \n",
              "\n",
              "                                                place_ng1  \\\n",
              "175423   [Center, Alpharetta, Alpha, St., Dunwoody, Park]   \n",
              "201713  [Street, Field Street, Camp, Sanford, Sanford ...   \n",
              "95384   [Alabama, North Carolina, Texas, Fort Walker, ...   \n",
              "94944   [Cherokee, Oconee, Richmond Hill, Grove, Walnu...   \n",
              "95162                               [Kennesaw, Mt. Paran]   \n",
              "...                                                   ...   \n",
              "2671    [La, Argentina, America, Córdoba, Latin Americ...   \n",
              "2721    [States, Zacatecas, the United States, Mexico ...   \n",
              "2734    [States, Zacatecas, the United States, Mexico ...   \n",
              "2898    [States, Papua New Guinea, Mexico City, Mexico...   \n",
              "2979           [States, Zacatecas, Mexico, United States]   \n",
              "\n",
              "                              place_na  \n",
              "175423                    [Mt. Pisgah]  \n",
              "201713                   [Mt. Everest]  \n",
              "95384                 [Fort A.P. Hill]  \n",
              "94944   [Mt. Zion, Mt. Zion-Jonesboro]  \n",
              "95162                      [Mt. Paran]  \n",
              "...                                ...  \n",
              "2671                         [Córdoba]  \n",
              "2721                       [Zacatecas]  \n",
              "2734                       [Zacatecas]  \n",
              "2898                       [Coalcomán]  \n",
              "2979                       [Zacatecas]  \n",
              "\n",
              "[494 rows x 12 columns]"
            ],
            "text/html": [
              "\n",
              "  <div id=\"df-91f63983-1d0f-4d27-84b3-b95d47dc13b0\">\n",
              "    <div class=\"colab-df-container\">\n",
              "      <div>\n",
              "<style scoped>\n",
              "    .dataframe tbody tr th:only-of-type {\n",
              "        vertical-align: middle;\n",
              "    }\n",
              "\n",
              "    .dataframe tbody tr th {\n",
              "        vertical-align: top;\n",
              "    }\n",
              "\n",
              "    .dataframe thead th {\n",
              "        text-align: right;\n",
              "    }\n",
              "</style>\n",
              "<table border=\"1\" class=\"dataframe\">\n",
              "  <thead>\n",
              "    <tr style=\"text-align: right;\">\n",
              "      <th></th>\n",
              "      <th>source</th>\n",
              "      <th>website</th>\n",
              "      <th>article_url</th>\n",
              "      <th>article_title</th>\n",
              "      <th>article_author</th>\n",
              "      <th>date_published</th>\n",
              "      <th>ner_places</th>\n",
              "      <th>article_lemma_num</th>\n",
              "      <th>article_final</th>\n",
              "      <th>id</th>\n",
              "      <th>place_ng1</th>\n",
              "      <th>place_na</th>\n",
              "    </tr>\n",
              "  </thead>\n",
              "  <tbody>\n",
              "    <tr>\n",
              "      <th>175423</th>\n",
              "      <td>Appen Media</td>\n",
              "      <td>https://www.appenmedia.com</td>\n",
              "      <td>https://www.appenmedia.com/community/northern-...</td>\n",
              "      <td>Northern Ridge announces August Eagle Scouts</td>\n",
              "      <td>NaN</td>\n",
              "      <td>2022-09-29</td>\n",
              "      <td>{'the Dunwoody Nature Center (FAC)', 'St. Bene...</td>\n",
              "      <td>northern ridge boy scout district proud announ...</td>\n",
              "      <td>The Northern Ridge Boy Scout District is proud...</td>\n",
              "      <td>175424</td>\n",
              "      <td>[Center, Alpharetta, Alpha, St., Dunwoody, Park]</td>\n",
              "      <td>[Mt. Pisgah]</td>\n",
              "    </tr>\n",
              "    <tr>\n",
              "      <th>201713</th>\n",
              "      <td>Athens Banner Herald</td>\n",
              "      <td>http://onlineathens.com/</td>\n",
              "      <td>https://www.onlineathens.com/story/opinion/202...</td>\n",
              "      <td>Loran Smith: Stroll through campus brings back...</td>\n",
              "      <td>Loran Smith</td>\n",
              "      <td>2022-10-14</td>\n",
              "      <td>{'Mt. Everest (LOC)', 'Georgia (GPE)', 'Dawgs ...</td>\n",
              "      <td>inconvenience good push frustration serendipit...</td>\n",
              "      <td>Sometimes when you are inconvenienced, it is b...</td>\n",
              "      <td>201714</td>\n",
              "      <td>[Street, Field Street, Camp, Sanford, Sanford ...</td>\n",
              "      <td>[Mt. Everest]</td>\n",
              "    </tr>\n",
              "    <tr>\n",
              "      <th>95384</th>\n",
              "      <td>Atlanta Journal-Constitution</td>\n",
              "      <td>http://www.ajc.com/</td>\n",
              "      <td>https://www.ajc.com/news/crime/commission-comp...</td>\n",
              "      <td>Commission completes work to rename Fort Benni...</td>\n",
              "      <td>Jozsef Papp</td>\n",
              "      <td>2022-09-20</td>\n",
              "      <td>{'Fort Liberty (GPE)', 'Fort Walker (GPE)', 'V...</td>\n",
              "      <td>finish time spend quarter money authorize cong...</td>\n",
              "      <td>“We finished on time, spending only a quarter ...</td>\n",
              "      <td>95385</td>\n",
              "      <td>[Alabama, North Carolina, Texas, Fort Walker, ...</td>\n",
              "      <td>[Fort A.P. Hill]</td>\n",
              "    </tr>\n",
              "    <tr>\n",
              "      <th>94944</th>\n",
              "      <td>Atlanta Journal-Constitution</td>\n",
              "      <td>http://www.ajc.com/</td>\n",
              "      <td>https://www.ajc.com/sports/high-school-sports-...</td>\n",
              "      <td>Class 4A: Week 5 Primer, Region 4 takes center...</td>\n",
              "      <td>Craig Sager II</td>\n",
              "      <td>2022-09-15</td>\n",
              "      <td>{'Cairo (GPE)', 'Wayne County (GPE)', 'Clarkst...</td>\n",
              "      <td>limit opponent seven maybe possession stop tim...</td>\n",
              "      <td>“If we can limit an opponent to seven, maybe e...</td>\n",
              "      <td>94945</td>\n",
              "      <td>[Cherokee, Oconee, Richmond Hill, Grove, Walnu...</td>\n",
              "      <td>[Mt. Zion, Mt. Zion-Jonesboro]</td>\n",
              "    </tr>\n",
              "    <tr>\n",
              "      <th>95162</th>\n",
              "      <td>Atlanta Journal-Constitution</td>\n",
              "      <td>http://www.ajc.com/</td>\n",
              "      <td>https://www.ajc.com/sports/high-school/halt-ke...</td>\n",
              "      <td>Halt: Kennesaw Mt. Paran Christian pushes the ...</td>\n",
              "      <td>Sports Bot</td>\n",
              "      <td>2022-09-17</td>\n",
              "      <td>{'Kennesaw (GPE)', 'Mt. Paran (LOC)'}</td>\n",
              "      <td>eagle register 34 0 advantage intermission war...</td>\n",
              "      <td>The Eagles registered a 34-0 advantage at inte...</td>\n",
              "      <td>95163</td>\n",
              "      <td>[Kennesaw, Mt. Paran]</td>\n",
              "      <td>[Mt. Paran]</td>\n",
              "    </tr>\n",
              "    <tr>\n",
              "      <th>...</th>\n",
              "      <td>...</td>\n",
              "      <td>...</td>\n",
              "      <td>...</td>\n",
              "      <td>...</td>\n",
              "      <td>...</td>\n",
              "      <td>...</td>\n",
              "      <td>...</td>\n",
              "      <td>...</td>\n",
              "      <td>...</td>\n",
              "      <td>...</td>\n",
              "      <td>...</td>\n",
              "      <td>...</td>\n",
              "    </tr>\n",
              "    <tr>\n",
              "      <th>2671</th>\n",
              "      <td>MundoNow</td>\n",
              "      <td>https://mundonow.com</td>\n",
              "      <td>https://mundonow.com/hombre-roba-motocicleta-2...</td>\n",
              "      <td>Hombre roba motocicleta: tan solo 20 segundos ...</td>\n",
              "      <td>Ernesto Iván Vargas Martínez</td>\n",
              "      <td>2022-09-21</td>\n",
              "      <td>{'Tiktok (GPE)', 'Latin America (LOC)', 'Colón...</td>\n",
              "      <td>man steal motorcycle exhibit thief break glass...</td>\n",
              "      <td>Man steals a motorcycle that was being exhibit...</td>\n",
              "      <td>2672</td>\n",
              "      <td>[La, Argentina, America, Córdoba, Latin Americ...</td>\n",
              "      <td>[Córdoba]</td>\n",
              "    </tr>\n",
              "    <tr>\n",
              "      <th>2721</th>\n",
              "      <td>MundoNow</td>\n",
              "      <td>https://mundonow.com</td>\n",
              "      <td>https://mundonow.com/imagenes-sismo-michoacan/</td>\n",
              "      <td>Imágenes sismo Michoacán de madrugada se sient...</td>\n",
              "      <td>Cuauhtemoc Torres</td>\n",
              "      <td>2022-09-22</td>\n",
              "      <td>{'Michoacán (GPE)', 'Colima (GPE)', 'Jalisco (...</td>\n",
              "      <td>impressive image earthquake circulate michoacn...</td>\n",
              "      <td>Impressive images of the earthquake circulate ...</td>\n",
              "      <td>2722</td>\n",
              "      <td>[States, Zacatecas, the United States, Mexico ...</td>\n",
              "      <td>[Zacatecas]</td>\n",
              "    </tr>\n",
              "    <tr>\n",
              "      <th>2734</th>\n",
              "      <td>MundoNow</td>\n",
              "      <td>https://mundonow.com</td>\n",
              "      <td>https://mundonow.com/muertos-sismo-68-en-mexico/</td>\n",
              "      <td>Confirman dos muertos tras sismo de magnitud 6...</td>\n",
              "      <td>MundoNOW</td>\n",
              "      <td>2022-09-22</td>\n",
              "      <td>{'Michoacán (GPE)', 'Earth (LOC)', 'Colima (GP...</td>\n",
              "      <td>earthquake mexico leave dead 387 million peopl...</td>\n",
              "      <td>Earthquake in Mexico leaves at least two dead ...</td>\n",
              "      <td>2735</td>\n",
              "      <td>[States, Zacatecas, the United States, Mexico ...</td>\n",
              "      <td>[Zacatecas]</td>\n",
              "    </tr>\n",
              "    <tr>\n",
              "      <th>2898</th>\n",
              "      <td>MundoNow</td>\n",
              "      <td>https://mundonow.com</td>\n",
              "      <td>https://mundonow.com/mhoni-vidente-sismos-mexico/</td>\n",
              "      <td>Mhoni Vidente sismos México predicciones era d...</td>\n",
              "      <td>Cuauhtemoc Torres</td>\n",
              "      <td>2022-09-27</td>\n",
              "      <td>{'Chile (GPE)', 'Michoacán (GPE)', 'Oaxaca (GP...</td>\n",
              "      <td>mhoni seer make prediction earthquake mexico s...</td>\n",
              "      <td>Mhoni seer makes predictions on earthquake in ...</td>\n",
              "      <td>2899</td>\n",
              "      <td>[States, Papua New Guinea, Mexico City, Mexico...</td>\n",
              "      <td>[Coalcomán]</td>\n",
              "    </tr>\n",
              "    <tr>\n",
              "      <th>2979</th>\n",
              "      <td>MundoNow</td>\n",
              "      <td>https://mundonow.com</td>\n",
              "      <td>https://mundonow.com/mueren-policias-ataque-ar...</td>\n",
              "      <td>Mueren policías ataque armado en el estado de ...</td>\n",
              "      <td>Cuauhtemoc Torres</td>\n",
              "      <td>2022-09-28</td>\n",
              "      <td>{'United States (GPE)', 'Mexico (GPE)', 'Zacat...</td>\n",
              "      <td>police officer die armed attack mexico report ...</td>\n",
              "      <td>Six police officers die in armed attack in Mex...</td>\n",
              "      <td>2980</td>\n",
              "      <td>[States, Zacatecas, Mexico, United States]</td>\n",
              "      <td>[Zacatecas]</td>\n",
              "    </tr>\n",
              "  </tbody>\n",
              "</table>\n",
              "<p>494 rows × 12 columns</p>\n",
              "</div>\n",
              "      <button class=\"colab-df-convert\" onclick=\"convertToInteractive('df-91f63983-1d0f-4d27-84b3-b95d47dc13b0')\"\n",
              "              title=\"Convert this dataframe to an interactive table.\"\n",
              "              style=\"display:none;\">\n",
              "        \n",
              "  <svg xmlns=\"http://www.w3.org/2000/svg\" height=\"24px\"viewBox=\"0 0 24 24\"\n",
              "       width=\"24px\">\n",
              "    <path d=\"M0 0h24v24H0V0z\" fill=\"none\"/>\n",
              "    <path d=\"M18.56 5.44l.94 2.06.94-2.06 2.06-.94-2.06-.94-.94-2.06-.94 2.06-2.06.94zm-11 1L8.5 8.5l.94-2.06 2.06-.94-2.06-.94L8.5 2.5l-.94 2.06-2.06.94zm10 10l.94 2.06.94-2.06 2.06-.94-2.06-.94-.94-2.06-.94 2.06-2.06.94z\"/><path d=\"M17.41 7.96l-1.37-1.37c-.4-.4-.92-.59-1.43-.59-.52 0-1.04.2-1.43.59L10.3 9.45l-7.72 7.72c-.78.78-.78 2.05 0 2.83L4 21.41c.39.39.9.59 1.41.59.51 0 1.02-.2 1.41-.59l7.78-7.78 2.81-2.81c.8-.78.8-2.07 0-2.86zM5.41 20L4 18.59l7.72-7.72 1.47 1.35L5.41 20z\"/>\n",
              "  </svg>\n",
              "      </button>\n",
              "      \n",
              "  <style>\n",
              "    .colab-df-container {\n",
              "      display:flex;\n",
              "      flex-wrap:wrap;\n",
              "      gap: 12px;\n",
              "    }\n",
              "\n",
              "    .colab-df-convert {\n",
              "      background-color: #E8F0FE;\n",
              "      border: none;\n",
              "      border-radius: 50%;\n",
              "      cursor: pointer;\n",
              "      display: none;\n",
              "      fill: #1967D2;\n",
              "      height: 32px;\n",
              "      padding: 0 0 0 0;\n",
              "      width: 32px;\n",
              "    }\n",
              "\n",
              "    .colab-df-convert:hover {\n",
              "      background-color: #E2EBFA;\n",
              "      box-shadow: 0px 1px 2px rgba(60, 64, 67, 0.3), 0px 1px 3px 1px rgba(60, 64, 67, 0.15);\n",
              "      fill: #174EA6;\n",
              "    }\n",
              "\n",
              "    [theme=dark] .colab-df-convert {\n",
              "      background-color: #3B4455;\n",
              "      fill: #D2E3FC;\n",
              "    }\n",
              "\n",
              "    [theme=dark] .colab-df-convert:hover {\n",
              "      background-color: #434B5C;\n",
              "      box-shadow: 0px 1px 3px 1px rgba(0, 0, 0, 0.15);\n",
              "      filter: drop-shadow(0px 1px 2px rgba(0, 0, 0, 0.3));\n",
              "      fill: #FFFFFF;\n",
              "    }\n",
              "  </style>\n",
              "\n",
              "      <script>\n",
              "        const buttonEl =\n",
              "          document.querySelector('#df-91f63983-1d0f-4d27-84b3-b95d47dc13b0 button.colab-df-convert');\n",
              "        buttonEl.style.display =\n",
              "          google.colab.kernel.accessAllowed ? 'block' : 'none';\n",
              "\n",
              "        async function convertToInteractive(key) {\n",
              "          const element = document.querySelector('#df-91f63983-1d0f-4d27-84b3-b95d47dc13b0');\n",
              "          const dataTable =\n",
              "            await google.colab.kernel.invokeFunction('convertToInteractive',\n",
              "                                                     [key], {});\n",
              "          if (!dataTable) return;\n",
              "\n",
              "          const docLinkHtml = 'Like what you see? Visit the ' +\n",
              "            '<a target=\"_blank\" href=https://colab.research.google.com/notebooks/data_table.ipynb>data table notebook</a>'\n",
              "            + ' to learn more about interactive tables.';\n",
              "          element.innerHTML = '';\n",
              "          dataTable['output_type'] = 'display_data';\n",
              "          await google.colab.output.renderOutput(dataTable, element);\n",
              "          const docLink = document.createElement('div');\n",
              "          docLink.innerHTML = docLinkHtml;\n",
              "          element.appendChild(docLink);\n",
              "        }\n",
              "      </script>\n",
              "    </div>\n",
              "  </div>\n",
              "  "
            ]
          },
          "metadata": {},
          "execution_count": 117
        }
      ]
    },
    {
      "cell_type": "markdown",
      "source": [
        "## Look up location (w updated data) on articles"
      ],
      "metadata": {
        "id": "cY1vi4e0QNqS"
      }
    },
    {
      "cell_type": "code",
      "source": [
        "%cd /content/drive/MyDrive/Georgia/Locations Analysis"
      ],
      "metadata": {
        "id": "rEsOC72WTTib"
      },
      "execution_count": null,
      "outputs": []
    },
    {
      "cell_type": "code",
      "source": [
        "# data created by manual coding\n",
        "\n",
        "import pandas as pd\n",
        "\n",
        "location_final = pd.read_excel('Georgia_place_validation_counties.xlsx')"
      ],
      "metadata": {
        "id": "6vkKM1LjQRXC"
      },
      "execution_count": null,
      "outputs": []
    },
    {
      "cell_type": "code",
      "source": [
        "location_final = location_final[location_final['final_selection']==1]"
      ],
      "metadata": {
        "id": "IhdmM7NvcwJ2"
      },
      "execution_count": null,
      "outputs": []
    },
    {
      "cell_type": "code",
      "source": [
        "location_final_st = location_final[['ner_place_clean','county_level', 'final_selection']]"
      ],
      "metadata": {
        "id": "qYuxviOCj0FF"
      },
      "execution_count": null,
      "outputs": []
    },
    {
      "cell_type": "code",
      "source": [
        "location_final_st = location_final_st.dropna()"
      ],
      "metadata": {
        "id": "l7_56rt2yiVy"
      },
      "execution_count": null,
      "outputs": []
    },
    {
      "cell_type": "code",
      "source": [
        "len(location_final_st)"
      ],
      "metadata": {
        "colab": {
          "base_uri": "https://localhost:8080/"
        },
        "id": "AzUCzxNbmsBr",
        "outputId": "cedabe8b-89dc-41db-92d0-04a297511c87"
      },
      "execution_count": null,
      "outputs": [
        {
          "output_type": "execute_result",
          "data": {
            "text/plain": [
              "1930"
            ]
          },
          "metadata": {},
          "execution_count": 8
        }
      ]
    },
    {
      "cell_type": "code",
      "source": [
        "location_final_st"
      ],
      "metadata": {
        "colab": {
          "base_uri": "https://localhost:8080/",
          "height": 424
        },
        "id": "MyGCPiwxPcuz",
        "outputId": "d05bb75a-790a-4343-f9d8-7590eeded3b7"
      },
      "execution_count": null,
      "outputs": [
        {
          "output_type": "execute_result",
          "data": {
            "text/plain": [
              "             ner_place_clean      county_level  final_selection\n",
              "0           110 Airport Road  Habersham County                1\n",
              "1          1495 Roswell Road       Cobb County                1\n",
              "2                26th Street     Fulton County                1\n",
              "3         3227 Roswell Rd NE     Fulton County                1\n",
              "4               46 Plaza Way      Rabun County                1\n",
              "...                      ...               ...              ...\n",
              "1950  Yonah Memorial Gardens  Habersham County                1\n",
              "1951                    York      Rabun County                1\n",
              "1952              Youngstown      Union County                1\n",
              "1953               Ypsilanti     Talbot County                1\n",
              "1954            Zebulon Road       Bibb County                1\n",
              "\n",
              "[1930 rows x 3 columns]"
            ],
            "text/html": [
              "\n",
              "  <div id=\"df-eeb076a6-0b36-43c2-a7dd-f9d4c8ee9b22\">\n",
              "    <div class=\"colab-df-container\">\n",
              "      <div>\n",
              "<style scoped>\n",
              "    .dataframe tbody tr th:only-of-type {\n",
              "        vertical-align: middle;\n",
              "    }\n",
              "\n",
              "    .dataframe tbody tr th {\n",
              "        vertical-align: top;\n",
              "    }\n",
              "\n",
              "    .dataframe thead th {\n",
              "        text-align: right;\n",
              "    }\n",
              "</style>\n",
              "<table border=\"1\" class=\"dataframe\">\n",
              "  <thead>\n",
              "    <tr style=\"text-align: right;\">\n",
              "      <th></th>\n",
              "      <th>ner_place_clean</th>\n",
              "      <th>county_level</th>\n",
              "      <th>final_selection</th>\n",
              "    </tr>\n",
              "  </thead>\n",
              "  <tbody>\n",
              "    <tr>\n",
              "      <th>0</th>\n",
              "      <td>110 Airport Road</td>\n",
              "      <td>Habersham County</td>\n",
              "      <td>1</td>\n",
              "    </tr>\n",
              "    <tr>\n",
              "      <th>1</th>\n",
              "      <td>1495 Roswell Road</td>\n",
              "      <td>Cobb County</td>\n",
              "      <td>1</td>\n",
              "    </tr>\n",
              "    <tr>\n",
              "      <th>2</th>\n",
              "      <td>26th Street</td>\n",
              "      <td>Fulton County</td>\n",
              "      <td>1</td>\n",
              "    </tr>\n",
              "    <tr>\n",
              "      <th>3</th>\n",
              "      <td>3227 Roswell Rd NE</td>\n",
              "      <td>Fulton County</td>\n",
              "      <td>1</td>\n",
              "    </tr>\n",
              "    <tr>\n",
              "      <th>4</th>\n",
              "      <td>46 Plaza Way</td>\n",
              "      <td>Rabun County</td>\n",
              "      <td>1</td>\n",
              "    </tr>\n",
              "    <tr>\n",
              "      <th>...</th>\n",
              "      <td>...</td>\n",
              "      <td>...</td>\n",
              "      <td>...</td>\n",
              "    </tr>\n",
              "    <tr>\n",
              "      <th>1950</th>\n",
              "      <td>Yonah Memorial Gardens</td>\n",
              "      <td>Habersham County</td>\n",
              "      <td>1</td>\n",
              "    </tr>\n",
              "    <tr>\n",
              "      <th>1951</th>\n",
              "      <td>York</td>\n",
              "      <td>Rabun County</td>\n",
              "      <td>1</td>\n",
              "    </tr>\n",
              "    <tr>\n",
              "      <th>1952</th>\n",
              "      <td>Youngstown</td>\n",
              "      <td>Union County</td>\n",
              "      <td>1</td>\n",
              "    </tr>\n",
              "    <tr>\n",
              "      <th>1953</th>\n",
              "      <td>Ypsilanti</td>\n",
              "      <td>Talbot County</td>\n",
              "      <td>1</td>\n",
              "    </tr>\n",
              "    <tr>\n",
              "      <th>1954</th>\n",
              "      <td>Zebulon Road</td>\n",
              "      <td>Bibb County</td>\n",
              "      <td>1</td>\n",
              "    </tr>\n",
              "  </tbody>\n",
              "</table>\n",
              "<p>1930 rows × 3 columns</p>\n",
              "</div>\n",
              "      <button class=\"colab-df-convert\" onclick=\"convertToInteractive('df-eeb076a6-0b36-43c2-a7dd-f9d4c8ee9b22')\"\n",
              "              title=\"Convert this dataframe to an interactive table.\"\n",
              "              style=\"display:none;\">\n",
              "        \n",
              "  <svg xmlns=\"http://www.w3.org/2000/svg\" height=\"24px\"viewBox=\"0 0 24 24\"\n",
              "       width=\"24px\">\n",
              "    <path d=\"M0 0h24v24H0V0z\" fill=\"none\"/>\n",
              "    <path d=\"M18.56 5.44l.94 2.06.94-2.06 2.06-.94-2.06-.94-.94-2.06-.94 2.06-2.06.94zm-11 1L8.5 8.5l.94-2.06 2.06-.94-2.06-.94L8.5 2.5l-.94 2.06-2.06.94zm10 10l.94 2.06.94-2.06 2.06-.94-2.06-.94-.94-2.06-.94 2.06-2.06.94z\"/><path d=\"M17.41 7.96l-1.37-1.37c-.4-.4-.92-.59-1.43-.59-.52 0-1.04.2-1.43.59L10.3 9.45l-7.72 7.72c-.78.78-.78 2.05 0 2.83L4 21.41c.39.39.9.59 1.41.59.51 0 1.02-.2 1.41-.59l7.78-7.78 2.81-2.81c.8-.78.8-2.07 0-2.86zM5.41 20L4 18.59l7.72-7.72 1.47 1.35L5.41 20z\"/>\n",
              "  </svg>\n",
              "      </button>\n",
              "      \n",
              "  <style>\n",
              "    .colab-df-container {\n",
              "      display:flex;\n",
              "      flex-wrap:wrap;\n",
              "      gap: 12px;\n",
              "    }\n",
              "\n",
              "    .colab-df-convert {\n",
              "      background-color: #E8F0FE;\n",
              "      border: none;\n",
              "      border-radius: 50%;\n",
              "      cursor: pointer;\n",
              "      display: none;\n",
              "      fill: #1967D2;\n",
              "      height: 32px;\n",
              "      padding: 0 0 0 0;\n",
              "      width: 32px;\n",
              "    }\n",
              "\n",
              "    .colab-df-convert:hover {\n",
              "      background-color: #E2EBFA;\n",
              "      box-shadow: 0px 1px 2px rgba(60, 64, 67, 0.3), 0px 1px 3px 1px rgba(60, 64, 67, 0.15);\n",
              "      fill: #174EA6;\n",
              "    }\n",
              "\n",
              "    [theme=dark] .colab-df-convert {\n",
              "      background-color: #3B4455;\n",
              "      fill: #D2E3FC;\n",
              "    }\n",
              "\n",
              "    [theme=dark] .colab-df-convert:hover {\n",
              "      background-color: #434B5C;\n",
              "      box-shadow: 0px 1px 3px 1px rgba(0, 0, 0, 0.15);\n",
              "      filter: drop-shadow(0px 1px 2px rgba(0, 0, 0, 0.3));\n",
              "      fill: #FFFFFF;\n",
              "    }\n",
              "  </style>\n",
              "\n",
              "      <script>\n",
              "        const buttonEl =\n",
              "          document.querySelector('#df-eeb076a6-0b36-43c2-a7dd-f9d4c8ee9b22 button.colab-df-convert');\n",
              "        buttonEl.style.display =\n",
              "          google.colab.kernel.accessAllowed ? 'block' : 'none';\n",
              "\n",
              "        async function convertToInteractive(key) {\n",
              "          const element = document.querySelector('#df-eeb076a6-0b36-43c2-a7dd-f9d4c8ee9b22');\n",
              "          const dataTable =\n",
              "            await google.colab.kernel.invokeFunction('convertToInteractive',\n",
              "                                                     [key], {});\n",
              "          if (!dataTable) return;\n",
              "\n",
              "          const docLinkHtml = 'Like what you see? Visit the ' +\n",
              "            '<a target=\"_blank\" href=https://colab.research.google.com/notebooks/data_table.ipynb>data table notebook</a>'\n",
              "            + ' to learn more about interactive tables.';\n",
              "          element.innerHTML = '';\n",
              "          dataTable['output_type'] = 'display_data';\n",
              "          await google.colab.output.renderOutput(dataTable, element);\n",
              "          const docLink = document.createElement('div');\n",
              "          docLink.innerHTML = docLinkHtml;\n",
              "          element.appendChild(docLink);\n",
              "        }\n",
              "      </script>\n",
              "    </div>\n",
              "  </div>\n",
              "  "
            ]
          },
          "metadata": {},
          "execution_count": 9
        }
      ]
    },
    {
      "cell_type": "code",
      "source": [
        "# # multiple counties deleted\n",
        "# location_final_st = location_final_st[location_final_st['county_level'].str.contains('Counties')==False]"
      ],
      "metadata": {
        "id": "cKbOXVZsmb1F"
      },
      "execution_count": null,
      "outputs": []
    },
    {
      "cell_type": "code",
      "source": [
        "len(set(location_final_st.county_level.values.tolist()))"
      ],
      "metadata": {
        "colab": {
          "base_uri": "https://localhost:8080/"
        },
        "id": "hFPKsq8gsiaX",
        "outputId": "ee3996d5-5087-4f14-e711-72a88052a9dd"
      },
      "execution_count": null,
      "outputs": [
        {
          "output_type": "execute_result",
          "data": {
            "text/plain": [
              "159"
            ]
          },
          "metadata": {},
          "execution_count": 10
        }
      ]
    },
    {
      "cell_type": "code",
      "source": [
        "location_final_list = list(set(location_final_st['ner_place_clean'].tolist()))"
      ],
      "metadata": {
        "id": "d3UqVKMGgFCw"
      },
      "execution_count": null,
      "outputs": []
    },
    {
      "cell_type": "code",
      "source": [
        "import pandas as pd\n",
        "\n",
        "df = pd.read_pickle('/content/drive/MyDrive/Georgia/Web Scraping/Georgia_data_v2_translation_ner2_lem.pkl')\n"
      ],
      "metadata": {
        "id": "opLFb-2OdJzM"
      },
      "execution_count": null,
      "outputs": []
    },
    {
      "cell_type": "code",
      "source": [
        "\n",
        "import re\n",
        "\n",
        "def bigrams(s):\n",
        "    return [i for i in s if re.search(r'\\s', i) ]\n",
        "  \n",
        "def unigrams(s):\n",
        "    return [i for i in s if not re.search(r'\\s', i) ]\n",
        "\n",
        "word_bigrams_done = list(set(bigrams(location_final_list)))\n",
        "print(word_bigrams_done)\n",
        "print(len(word_bigrams_done))\n",
        "                       \n",
        "word_unigrams_done = unigrams(location_final_list)\n",
        "print(word_unigrams_done)\n",
        "print(len(word_unigrams_done))\n"
      ],
      "metadata": {
        "colab": {
          "base_uri": "https://localhost:8080/"
        },
        "id": "hbjFlI7bdKsu",
        "outputId": "8de9b050-63b1-455a-e088-e52f9e646a43"
      },
      "execution_count": null,
      "outputs": [
        {
          "output_type": "stream",
          "name": "stdout",
          "text": [
            "['Mirror Lake Connector', 'North Green Street', 'Cobb DOT road', 'Greene County High School', 'Sugarloaf Parkway', 'the UGA Bookstore', 'Ridge Ferry Park', 'Meriweather County', 'Chestnut Drive', 'Peachtree Ridge', 'Grindstone Drive', 'the Fox Theatre', 'Statesboro Regional Library', 'West Armuchee', 'Covington Square', 'the Hartwell Library', 'West Georgia Tech', 'the Garden City Police Department', 'Capitol Avenue', 'Roosevelt Boulevard', 'Sandy Creek Park', 'The Classic Center', 'Rabbit Valley', 'Mirror Lake', 'Cobb Pkwy NW', 'Forest Lake', 'the Georgia Diagnostic and', 'Bobby Dodd Stadium', 'Wilder Center', 'the Wardlaw-Bible Meeting Room of the LaFayette-Walker County Library', 'Memorial Parkway', 'Kennesaw Memorial Park Cemetery', 'the Barrow County Detention Center', 'Old Mountain Road', 'Silver Creek', 'St. Charles', 'Lake Trahlyta', 'West Cobb Funeral Home and', 'Pearl Street', 'Wooten Lake Road', 'West Cobb Funeral Home', 'Bartow in', 'Gordon County’s', 'the White City', 'Five Star Stadium', 'Lookout Mountain', 'Coolray Field', 'the Griffin Bears', 'Western Springs', 'Cresta Drive', 'Southeast Whitfield', 'the East River', 'the Houlihan Bridge', 'Peachtree Creek', 'the Georgia Constitution', 'Robins Air Force Base', 'Columbus 89.5', 'Battery Avenue SE', 'Fayette County Jail', 'Healthy Savannah', 'Buckhalter Road', 'Camp Gordon', 'Grizzard Park', 'Mimosa Drive', 'E. Park Place Blvd', 'Lake Lanier', 'North Dakota', 'Capitol View', 'the Battery Atlanta', 'Salem Road', '3227 Roswell Rd NE', 'Tara Boulevard', 'Bullard Road', 'the Georgia International', 'Turner Lake Park', 'Lithonia Park', 'Kennesaw Avenue', 'Bulloch Memorial Gardens', 'los recuerdos', 'the Chickamauga Public Library', 'Santa Claus', 'T.H. Slater Elementary', 'Black Rock Mountain State Park', 'Beech Avenue', 'Abercorn Street', 'Emery Highway', 'Osprey Cove Drive', 'Oglethorpe Avenue', 'Dalton State', 'District Live', 'Britain Drive', 'Sawyer Road', 'Watkins Pond Road', 'Oak Grove', 'the City of Elberton', 'Lawrenceville Highway', 'Windy Hill Road', 'East County Line Road', 'T.A. Wright Stadium', 'Gallery West', 'Mall Blvd', 'Magnolia St.', 'the Gilmer County Library', 'Avondale Estates City Hall', 'Brumby Hall', 'Joint Venture Park', 'North Cobb', 'the City of Fairfax', 'Cedartown Memorial Stadium', 'West Sandtown Road', 'West Georgia', 'Statesboro City Hall', 'Wormsloe Historic Site Updated', 'Jones Island', 'White Bluff', 'Highland Ter', 'Dean Avenue', 'East Rome', 'East 4th Street Woodbine', 'Etowah River Park', 'Monroe Area', 'Poplar Street', 'Monroe County Jail', 'Mt. Vernon', 'Jekyll Island', 'La Crosse', 'Floyd County Jail Records', 'Chestnut Hill', 'the Golden Isles Alzheimer’s Walk', 'Coffee County Jail', 'Peyton Place', 'Bulldog Stadium', 'Cobb County Water System', 'Redfern Village', 'Mt. Paran', 'Wesley Chapel Road', 'Old Horseshoe Bend Road', 'East Central', 'North Druid Hills Road', 'Providence Canyon', 'Baconton Charter', 'Omaha Fire', 'the Ritz Theatre', 'Cobb Parkway North', 'Dallas Highway', 'Holy Ground Baptist', 'North Dahlonega', 'Clayton State', 'West Hartford', 'West Georgia’s', 'Beaver Dam Creek', 'Mossy Creek United Methodist Church', 'Ford Avenue', 'Old River Road South', 'Piedmont Center', 'W Candler Street', 'Hampton Glen', 'Oak Grove Rd', 'Alabama Highway', 'South Fulton’s', 'Lawrenceville Square', 'the Dacula at', 'the Lumpkin County', 'St. Francis Hospital', 'Lula Road', 'BRYAN COUNTY', 'River North', 'North Oconee', 'Phoebe Putney Memorial Hospital', 'Jaren Hall', 'Prince Avenue Christian', 'University Parkway', 'Bedford Park Boulevard', 'the Marietta Square', 'Cape Street', 'Fort Gillem', 'Clairmont Road', 'Beachview Drive', 'Old Decatur Cemetery', 'Cherokee Bluff', 'Roswell Area Park', 'Browns Bridge Road', 'Cedar Avenue', 'the Coosa Valley Fairgrounds', 'Almond Street', 'Lewis Nail Road', 'Mariposa Farms', 'Oregon Park Baseball', 'Rivaridge Drive', 'Godfrey Stadium', 'Lanier Islands Parkway', 'the Henry Grady College of Journalism', 'AL East', 'Ledo Road', 'Kurt Drive', 'Perimeter Mall', 'Alverson Rd.', 'Yahoola Creek Park', 'Georgia National Cemetery', 'Magnolia Drive North', 'Pine Mountain', 'North Shore', 'Floyd Springs', '5274 Dogwood Drive', 'JEFFERSON PD', 'Roswell Road', 'the Flovilla City Hall', 'Ada Street', 'Frances Avenue', 'Partin Park', 'Burruss Elementary School', 'Cherokee County Fire and Emergency Services', 'Callaway Gardens', 'Silver Mine Trail', 'Airport Road', 'Dougherty County’s', 'Shaw Park', 'Douglas Countys', 'the Port of Savannah', 'Paulding County’s', 'Morningside Road', 'the City of Auburn', 'Bluff Drive', 'the Coosa Valley Fair', 'Pleasant Hill', 'Gascoigne Bluff', 'the Ogeechee River Basin', 'the Grand Opera House', 'Miller Ferry Road', 'Tybee Island', 'West Road NW', 'North Greenville', 'Gas South Arena', 'the Etowah River', 'Park Place Restaurant', 'Azalea Park Apartments', 'Parkway South', 'Jacksonville State', 'the Truist Park', 'East Jackson', 'Morgan County Citizen', 'Rocky Mountain', 'White County’s', 'Poplar Springs Road', 'Floyd Memory Gardens', 'the Brunswick River', 'East Broughton Street', 'Barrett Parkway', '5900 Sugarloaf Parkway', 'the Ocmulgee River', 'The Oglethorpe Echo', 'the Augusta Marriott', 'Washington Road', 'The Port of Savannah', 'Union Grove', 'Red Rock Search', 'the Rome Tennis Center', 'Missouri River Bluffs', 'Pyne Road', 'New Hampstead', 'Peterson Street', 'Bridal Veil Falls', 'Allatoona Creek Park', 'Fulton County Stadium', 'Iris Drive', 'the Rabun County Detention Center', 'Lake Blackshear', 'West Hill Avenue', 'Adamson Square', 'Taliaferro County', 'St. John Bosco', 'Cumberland Mall', 'Lewis Ridge Circle', 'Univeter Road', 'the Decatur Square', 'Oak Lawn', 'Broughton Street', 'Townpark Drive', 'North Point Circle', 'Mt. Bethel', 'Brodie Field', 'Buckhead Village', 'Habersham Central', 'the Madison County Library', 'the Dawson County', 'Bethlehem Road', 'Cobb Parkway', 'Rossville Recreation Association', 'West Side', 'Bells Ferry Road', 'Plant Atkinson Road', 'Bristol Farms', 'Beacon Hill', 'The Battery Atlanta', 'Plant Wansley', 'Blossom Drive', 'Chandler Road', 'Michelin Raceway Road', 'Dunwoody City Hall', 'Palo Alto', 'Peachtree Rd', 'Buford Highway', 'Oglethorpe County High School', 'the Coastal Empire', 'Carroll Memory Gardens', 'North Hills', 'the South Forsyth', 'Holiday Park', 'the Enmarket Arena', 'Nashville Street', 'Orange Street', 'Hardman Rd.', 'Rafe Banks Park', 'the Olmstead Homes', 'Deans Bridge Road', 'West Main', 'Dale County', 'the Children’s Advocacy Center', 'Arkose Drive', 'Gwinnett County Jail', 'Mableton Parkway', 'South Marietta Parkway', 'Rabbit Valley Farmers Market in Ringgold', 'Altama Avenue', 'Glenn Hills', 'the Cobb County Water System', 'Bobo Drive', 'Eveline Avenue', 'Broadrick Drive', 'Trammell Road', 'Colfax Avenue', 'East Atlanta', 'Paper Mill Road', 'Hampton Street', 'Flat Rock', 'Augusta Regional Airport', 'Way Northeast', 'Riverside Drive', 'Southeast Atlanta', 'City of Refuge', 'W May St.', 'Pass Road', 'Kilgore Street', 'West Atlanta', 'Anderson Street', 'St. Pius', 'Phipps Plaza', 'the Buckhead Saloon', 'Wrightsboro Road', 'Gwinnett County Fire', 'Wisteria Ridge', 'Candler Park', 'Matthews Field', 'Pleasant Valley', 'Valdosta State Prison', 'Crisp County Jail', 'Crystal Springs', 'the Historic Fourth Ward Park', 'South Georgia Medical Center', 'Goshen Road', 'Commerce Rd', 'the Houston County District', 'the Buckner Rd Sidewalk', 'the Georgia National Cemetery', 'West Cobb Funeral Home and Crematory', 'Hickory Grove Road', 'Rabbit Valley Farmers Market in', 'South Main Street', 'Lawrence Street', 'North Cobb’s', 'Sylvan Road', 'Macon Regional Crime Stoppers', 'North Street', 'King Island', 'Heritage Point Park', 'Kennesaw Mountain', 'Drake Field', 'Murray County High School', 'the Sonoraville Recreation Center', 'Crooked River State Park', 'Habersham Central 1977', 'South Effingham', 'North Clayton', 'Coosa Valley', 'Twin City', 'Clinton County', 'Washington Highway', 'Union City’s', 'the Alliance Theatre', 'Forsyth Park', 'Discovery Boulevard', 'River Ridge', 'Plant Bowen', 'the Georgia Dome', 'Islands Stadium', 'North Park Square', 'the Garden City Terminal', 'the Oconee River', 'the White Oak Road Farm', 'Cobb Parkway SE', 'Red Bud Road', 'River View Nursing Home', 'Hinesville City Hall', 'Atlanta Highway', 'Callaway Road', 'Junction City', 'Villa Rica', 'the Garden District', 'the Cedartown Performing Arts Center', 'New Milford', 'Sanford Stadium', 'the Sapelo Island Welcome Center', 'Emanuel County Jail', 'South Augusta', 'the Sidney Lanier Bridge', 'Lilburn City Park', 'Cobb County Water', 'Lower Woolsey Road', 'Macedonia Road', 'the William Root House', 'Southside Commercial Parkway', 'the 405 Freeway', 'Atlanta Botanical Garden', 'Hinesville Updated', 'Fort Screven', 'Mill Creek High School Football Game', 'Pleasant Hill Road', 'South Park Square', 'Riverside Parkway', 'Collins Circle', 'Washington St.', 'Concord Rd', 'Benton Harbor', 'River Road', 'Shallowford Road', 'Panola Road', 'Rocky Creek', 'Indian Hills', 'William Walker Recreation Center', 'Maple Grove', 'Bell Auditorium', 'the Cobb Galleria Centre', 'Cauble Park', 'Russell Street', 'Burr Park', 'the Hostess City', 'Garrard Avenue', 'Hiram Douglasville Highway', 'Forsyth Street', 'Eisenhower Drive', 'the Powder Springs Library', 'Paris Lake', 'Wildcat Bridge Road', 'Willingham Avenue', 'Jonesboro Road', 'the Superior Plumbing VECTR Center', 'Unicoi State Park', 'the Oglethorpe Mall', 'the Braselton Civic Center', 'Cobb St.', 'Greater Atlanta', 'Buford Drive', 'McEver Road', 'New Macland Road', 'West Point Road', 'North Murray’s', 'Etheridge Road', 'River Valley Road', 'Westside Drive', 'East Georgia', 'Cascade Drive', 'Tattnall Square', 'Hotel Tybee', 'White Bluff Road', 'Stephens County High School', 'Walker County Sheriff', 'West Chester', 'Red Rock', 'Cherokee County’s', 'Meadowlark Drive', 'Southern Oaks Drive', 'Butts Mutts', 'Chehaw Park', 'Douglas County Courthouse', 'Dan Pitts Stadium', 'Ga. Highway', 'Bentley Rd', 'Still Family Farm', 'Cumberland Point Drive', 'Mt. Pleasant', 'the Jepson Center', 'Old Alabama Road', 'Welcome All Park', 'Downing Street', 'Advent Health Gordon', 'Shiloh Valley Drive', 'Tumlin Park', 'Mt. Pisgah', 'Newnan 31', 'Wayne County High School', 'Liberty Street', 'Macland Road', 'Veterans Park', 'Brampton Avenue', 'Dawson Road', 'Jefferson River Rd', 'Albany State', 'the Cheatham Hill', 'West Franklin', 'Brewton Cemetery', 'TYBEE ISLAND', 'the Savannah Area Chamber of Commerce', 'Red Bud', 'Albany Street', 'Oglesby Bridge Road', 'Cobb Parkway S.', 'Pike County Schools', 'the Butts County Animal Shelter', 'Virginia Drive', 'Beaver Ruin Road', 'Fairview Street', 'Maddox Rd', 'Vogel State Park', 'Weaver Street', 'Caldwell County', 'Greenville Drive', 'Quail Valley Road', 'Middle Georgias', 'State Farm Stadium', 'North Springs', 'McLane Riverview Memorial Gardens', 'East Cherokee Drive', 'Rimrock Road', 'Webster Street', 'St. Georges', 'Lynwood Park', 'Bristol Bay', 'West Central', 'the King Trail', 'Carter Center', 'Atlanta Vintage Books', 'Holt Avenue', 'Calhoun Georgia', 'Pierce County Schools', 'Mt. Paran Christian', 'Oak City Cemetery', 'Powder Springs Rd', 'Highway 80', 'Cotton Avenue', 'Bartley Rd.', 'the Toccoa River', 'Rose Garden', 'Windsor contributed', 'Clay County', 'Reynolds Street', 'Troup County Fire', 'Granger Park', 'East Park Square', 'the Upson Beacon', 'Galleria Parkway', 'the Calhoun Middle School', 'County Road 380', 'Fairground Street', 'Park Avenue', 'Chester Avenue', 'Bailey Warnix', 'Central Georgia', 'Adams Park', 'West Jackson', 'Old Pendergrass Rd', 'North 27th Street', 'South Gwinnett', 'Peach Orchard Road', 'Allen Road', 'Yonah Memorial Gardens', 'Lake Sinclair', 'Sapelo Island', 'Chapel Hill High School', 'W May Street', 'the Golden Isles', 'Dahlonega Funeral Home', 'the Plant Riverside District', 'Canton Road', 'the City of Madison’s', 'the Satilla River', 'Strand Avenue', 'the Stephens County Courthouse', 'Wake County', 'Center Stage', 'The Houlihan Bridge', 'Neptune Park', 'Tybee Islands', 'Favor Road', 'S Broad St.', 'Atlanta City', 'Mountain View', 'The Hostess City', 'South Effingham’s', 'Cook Street', 'Ft. Valley', 'Parker Road', 'Beech Island', 'First Street', 'Inman Park', 'Butler Island', 'St. Simons', 'Peachtree Road', 'The Lee County', 'the Highland Park', 'Butts County’s', 'the Truman Parkway', 'East Washington', 'Paulding Avenue', 'Boling Park', 'Ball Ground', 'Crazy P Arena', 'Oak St.', 'Lake Oconee', 'Mimosa Boulevard', 'Brown Bridge Road', 'the Conyers Depot on Railroad Street', 'Pulaski Square', 'Jackson Heights', 'Oak Street', 'Fort Benning', 'Sunset Drive', 'Saddle Ridge', 'Lee Road', 'Keith Road in Ringgold', 'Swamp Park', 'Blue Ridge', '110 Airport Road', 'the Ruby Fulbright Aquatic Center', 'Joe Stock Memorial Park', 'Clay Street', 'Tybee Island’s', 'Winkenhofer Pine Ridge Funeral Home', 'the Carter Center', 'North Oconee’s', 'Lake Park', 'Windsor Parkway', 'Westover Boulevard', 'East Cobb Park', 'Hillside Memorial Chapel', 'South Georgia Tech', 'Olmsted Linear Park', 'Wilson Avenue', 'Plum Orchard', 'Cedar Creek', 'South Calhoun Bypass', 'Butterworth Lane', 'Bobo Street', 'Apple Valley', 'Pulaski Street', 'New Manchester', 'Bethany Hospice', 'Auburn Street', 'Grey Hill Cemetery', 'Sugarloaf Mills Mall', 'Kendrick Road', 'HABERSHAM COUNTY', 'Buckhead City', 'Cobb Medical Center', 'Moreland Avenue', 'Pennsylvania Avenue', 'Cedar Point', 'Stone Mountain Lake', 'Decatur City Hall', 'Prospect Heights', 'Myrtle Avenue', 'Lake Allatoona', 'Kinridge Road', 'KIPP Atlanta', 'James Street', 'Sugar Valley', 'the Rome-Floyd County Library', 'the Teacher Walk of Honor on Marietta Square', 'Rock Hill', 'the Oostanaula River', 'The Carter Center', 'Arnall Drive', 'the Knights Inn on Boy Scout Road', 'the Gordon Central High School’s', 'Brookhaven Park', 'West Village', 'Underground Atlanta', 'East View Cemetery', 'the Georgia Sports Hall of Fame', 'Bryson Park', 'Decatur Square', 'Old River Road', 'South Cobb', 'Jackson Memorial Gardens', 'the Village Green', 'Old Savannah City Mission', 'the Sandy Springs Performing Arts Center', 'East Lake Drive', 'East Macon', 'Clayton Street', 'Ponderosa Drive', 'Lexington city', 'Fort Valley State', 'West Ponce de Leon Avenue', 'Richmond Hill', 'Stephens Memorial Gardens', 'Harris Drive', 'Wesley Woods of', 'Six Flags Parkway', 'the Ogeechee River', 'Richardson Street', 'Turner Lake Road', 'Logan Farm Park', 'Georgia State', 'the Rossville Public Library', 'Mount Pisgah', 'the Noonday Creek Trail', 'Red Rocks', 'Tommy Cash Stadium', 'Buford City', 'Paulson Stadium', 'Mill Creek’s', 'Lanier Drive', 'Dogwood Drive', 'Park Ridge', 'Edwards Park', 'Highland Av', 'the Rome Area History Center', 'Walton -', 'South Forsyth', 'the Summit on Fire Prevention', 'West Englewood', 'Jefferson County Jail', 'Fair Road', 'Carrollton City', 'Newnan 34', 'Bailey York', 'Rock City', 'Springfield Street', 'Hickman Drive', 'Lake Oconee Village', 'Cumberland Valleys', 'Cumberland Boulevard SE', 'Swift Cantrell Park', 'Lewiston Road', 'the Carson McLane Funeral Home', 'Woodland of Cartersville', 'the Bowers Meeting Room of the Rossville Public Library', 'the East Side', 'S. Columbia Drive', 'Pooler Parkway', 'Sun Valley', 'Zebulon Road', 'Wildwood Park', 'Pleasant Grove Road', 'The City of Rome', 'Mount Paran Christian', 'Roswell City Hall', 'Buckhead Saloon', 'Jackson Street', 'the Georgia Aquarium', 'South Main', 'Sand Mountain', 'North 25th Street', 'Saddle Creek Road', 'Oglethorpe Mall', 'Talking Rock', 'Beverly Hills', 'Coastal Georgia', 'Main S', 'Peach Belt Conference', 'the City of Decatur', 'Crooked Creek Rd', 'Athens Highway', 'Key Road', 'Orchard Park', 'North Gwinnett', 'the Callaway Conference Center', 'Floyd County Jail', 'the City of St. Marys', 'Adams Stadium', 'Decatur Area', 'Flint Avenue', 'Northside Drive', 'Stokes Avenue', 'Epps Bridge Parkway', 'Whitlock Avenue', 'Isle of Hope', 'FORSYTH PARK', 'North Pierce Avenue', 'Craigtown Road', 'West Madison', 'Fahm Street', 'Clifton Road', 'Plant Riverside District', 'Mount Carmel', 'Atlanta Road', 'the Cedar Valley', 'Cherry Street', 'the Rome Civic Center', 'Forrest Road', 'Brockton Rd', 'Savannah Airport', 'Bluffs Parkway', 'Little River', 'Walter Cantrell Stadium', 'River City Bank', 'North Macedonia', 'Lake Acworth Drive', 'the Macon City Auditorium', 'Laurel Island Links', 'the Glynn County Detention Center', 'Middle Georgia', 'Oak Forest', 'the Lake Erie Walleye Trail', 'Clifton Road NE', 'Pine Island Road', 'Bethesda Academy Savannah', 'Red Devil Hill', 'Tunnel Hill', 'Truman Parkway', 'Atlanta Street Trail/Cobb', 'the Chatham County Police Department’s', 'Peachtree Street', 'Lindbergh Center Station', 'South DeKalb', 'the Habersham County Extension', 'Meadowbrook Memory Gardens', '26th Street', 'Sky Valley Way', 'the Enmarket Arena Updated', 'Interstate 575', 'Barron Stadium', 'Southwest DeKalb', 'Floyd County Superior Court', 'Westend Area', 'Veterans Plaza', 'Crest Lawn', 'Little Cumberland Island', 'the Granite Bowl', 'Henry County’s', 'Gwendolyn Street', 'the Buckhalter Road', 'the Mount Paran North Church', 'Euclid Avenue', 'Heritage Hills', 'Southview Cemetery', 'Erwin Street', 'Mt. Bethel’s', 'Mt. Sinai Road', 'Titan Stadium', 'McDowell Road', 'Lake Dow Road', 'Holcomb Bridge Road', 'Old Airport Road', 'Anderson Avenue', 'Wild Adventures', 'Northcutt Stadium', 'North Point', 'St. Simons Island', 'Kelly’s Market', 'West Savannah Street', 'Mt. Zion Road', 'South State Street', 'Pinecrest Drive', 'Cobb Galleria', 'Fair Haven', 'Highway 53', 'Belle Isle', 'Buena Vista', 'Liberty Plaza', 'Oak Drive', 'East 4th Street', 'Gaines Road', 'Mount Pleasant', 'Gordon County Schools', 'West Street', 'Greystone Drive', 'East Tugalo Street', 'North Paulding', 'Saint Louis', 'Jenkins County High School', 'Oregon Park', 'Perimeter Center West', 'Valhalla Stadium', 'Clark Street', 'Habersham Central 21', 'New River', 'Mineral Springs Road', 'the Star Bar', 'the Columbia County Detention Center', 'Seaboard Ind.', 'Truist Park', 'Callaway Stadium', 'City Pond Park', 'the Walker County', 'the Hall County Jail', 'the Talmadge Bridge', 'South Cobbs', 'Butler Avenue', 'Lake Toccoa', 'Marietta Square', 'the GGC Tennis Facility', 'the J.W. Marriott Savannah', 'The City of Pineville', 'Jaycee Stadium', 'Calhoun Square', 'Georgia Highway', 'Manchester Avenue', 'Mountain Views', 'Parkway Trail', 'Center City', 'La Vista', 'Hamilton Road', 'East Forsyths', 'Willow Ridge', 'Morris Street', 'Sky Valley', 'Grayson Stadium', 'Jardine Stadium', 'Valdosta State', 'East Cobb’s', 'Local Church Forsyth', 'Thomasville Heights', 'Logan Farm House', 'Cochran Road', 'Granade Street', 'Peachtree Street NE', 'Middle Georgia’s', 'Fort Gordon', 'Coahulla Creek', 'Brownlee Mountain Road', 'North West', 'Atlanta Rd', 'Riverside Park', 'Georgetown Drive', 'Rainbow Drive', 'Grady Memorial Hospital', 'Lafayette Road', 'Roberts Drive', 'North Academy', 'Access Road', 'Cave Spring', 'Eisenhower Plaza', 'East Second Street', 'Mount Paran North', 'Chastain Rd', 'Arbor Place Mall', 'Presbyterian Village', 'Waters Avenue', 'Davis Street', 'Mount Moriah Road', 'Fairview Avenue', 'Kona Ice', 'west Georgia', 'The Grand Opera House', 'the Columbia County Exhibition Center', 'Franklin Springs', 'Marietta City Hall', 'Redmond Circle', 'Diamond Lakes', 'Johnstonville Road', 'Crown Mountain Place', 'Calhoun City Schools', 'Sea Island', 'Benson Street', 'Victory Home Lane', 'Cotton Hall', 'the Calhoun Rec. Department', 'Wayne County High', 'North DeKalb Stadium', 'Thompson Stadium', 'Lincoln Heights', 'Park Street', 'Northwest Whitfield', 'Northeast Georgia', 'West End', 'Columbus 58th Wettest', 'Westside Road', 'Cateechee Golf Center', 'Chatham County District', 'Ft. Oglethorpe', 'Swainsboro City Cemetery', 'Long Branch', 'Madison Street', 'Saint Mary’s', 'Four Oaks', 'Fayetteville Drive', 'Griffin Memorial Stadium', 'Stone Mountain Park', 'the Polk County Jail', 'the Middle District', 'South Atlanta', 'Big Springs', 'Pleasant Grove', 'Courthouse Square', 'Rose Hill Cemetery', 'Bethany Lilly', 'Al Bishop Drive', 'Buckner Rd', 'Bob Pearson Field', 'Jackson County Jail', 'Myrtle Hill’s', 'Renaissance Park', 'Albany City', 'Eastern Wharf', 'Lamar Murphy Park', 'Oak Hill', 'North Rome', 'Historic District', 'Seaboard Industrial', 'Newcastle Street', 'Dougherty County Jail', 'Kennedy Funeral Homes', 'Edmondson Avenue', 'Cleveland Avenue', 'Langford Parkway', 'Georgia Avenue', 'Center Parc Stadium', 'Naval Submarine Base Kings Bay', 'Memorial Drive', 'Mount Vernon', 'Herb St. John Stadium', 'Bates Road', 'McFarland Avenue', 'Olde Town', 'Adair Park', 'Rountree Stadium', 'the Stimson Center', 'West Ave.', 'Brantley Middle', 'Copper Creek Lane', 'Sunset Hill Cemetery', 'Brook Run Park', 'Oaknoll Memorial Gardens', 'Kennesaw Memorial Park', 'Windy Ridge Road', 'the Economy Inn on Deans Bridge Road', 'The City of Valdosta', 'St. Simon’s', 'Watts Drive', 'Hammond Drive', 'Old Town', 'Middle Atlantic', 'the Gordon County Fire Department Station', 'Holloman Road', 'Duncan Bridge Rd', 'the City of Smyrna', 'Diamond Lakes Park', 'the Lee County Jail', 'Avondale Stadium', 'MacArthur Drive', 'Hillcrest Dr', 'Burn Center', 'Cumberland Island', 'Curtis Parkway', 'Silver Bluff', 'West Forsyth', 'Southern Soul Barbecue', 'Atlanta City Hall', 'Speedway Boulevard', 'Polk County Jail', 'Talmadge Bridge', 'the Hilton Atlanta/Marietta Hotel & Conference Center', 'Grove Level Park', 'Interstate 475', 'Eastview Cemetery', 'Colony Square', 'the Olde Town Pavilion', 'Academy Drive', 'Burnt Hickory Road', 'Cobb Countys', 'Princeton Road', 'The Peach State', 'Woolfork Avenue', 'Shannon Way', 'Lazy River Motocross', 'Central Gwinnett', 'Shorty Howell Park', 'New England', 'the Rose Garden', 'Mount Paran Road', 'Madison Countys', 'Newton Ridge Drive', 'Crestlawn Memorial Park Cemetery', 'Chapel Hill', 'Lula Grocery', 'West Broad', 'Macon State Prison', 'Holly Hill', 'Richmond Hill 28', 'Kennesaw Mountain Park', 'Gainesville’s Memorial Park Cemetery', 'Oak Brook', 'Lake Acworth', 'Trident Training Facility', 'North Broad Street', 'Washington Farms', 'Callaway Middle', 'North Georgia', 'Henderson Park', 'North Gwinnett’s', 'Liberty Avenue', 'North Wildwood', 'New Georgia', 'Glendale Avenue', 'East Forsyth', 'Chattahoochee Hills', 'Chapel Drive', 'Carver Street', 'the Albany Civic Center', 'Eatonton Road', 'Oak Ridge', 'Pine Avenue', 'North Marietta Parkway', 'the Kia Georgia Training Center', 'Kings Island', 'Skidaway Road', 'Lakewood Stadium', 'the Carroll County Jail', 'The Wimberly Center for Community Development', 'Wade Walker Park', 'Tallulah Gorge State Park', 'the Richmond Hill City Center', 'the Georgia State Prison', 'McGregor Street', 'Mountain Valley', 'Muscogee County Sheriff', 'Riverview Park', 'Lenox Square', 'Blue Ridge Drive', 'Atlanta Airport', 'Mooty Bridge Rd', 'Georgia Memorial Park', 'Cedar Valley', 'Habersham Central 0', 'West Laurens', 'PnB Rock', 'the Dalton Convention Center', 'East Atlanta Village', 'Mount Zion United Methodist Church', 'the North Georgia State Fair', 'Bay Street', 'the Saint Andrews', 'Ponce City Market', 'Tiftarea 21', 'Baskin Road', 'the Georgia State Capitol', 'the City of Dahlonega', 'Columbus Avenue', 'Lakeview-Fort Oglethorpe', 'Crawford County', 'Public Safety Drive', 'Lavonia Road', 'South Forsyth’s', 'Mount de Sales', 'the Historic District', 'Marietta 0', 'Chattahoochee Avenue', 'Amberly Drive', 'Southwest Macon', 'Bailey Reidling', 'Evans Memorial Updated', 'West 14th Street', 'Austell Road', 'River Street', 'Lindbergh Center', 'Sandy Springs United Methodist Church Preschool', 'Travelers Rest', 'North Cobb High School', 'Mount Vernon Road', 'Avalon Ridge Place', 'the City of White', 'Calhoun State Prison', 'Brookhaven City Hall', 'Balus Creek Park', 'Rocky Face', 'Cherokee Street', 'the Henry County Kiwanis Fair', 'West Lake Street', 'the City of Winder', 'North Main Street', 'Oglethorpe Road', 'Indian Lake Drive', 'Field Street', 'Hamilton Street', 'the City of Boston', 'East Broad', 'Thomas County Central', 'Church Street', 'Maple Avenue', 'W Athens Street', 'Cobb Parkway N.', 'Turtle Creek Drive', 'the City of Tybee Island', 'Loch Highland Pass', 'Myrtle Street', 'Butler County', 'Bailey Falter', 'Cherokee Avenue', 'McLeod Drive', 'The Talmadge Bridge', 'Carmichael Funeral Home', 'Atlanta Medical Center', 'Southwest Regional Airport', 'Peters Street', 'Hall County Jail', 'East Point’s', 'West Atlanta Street', 'Patterson Street', 'West Point Rd.', 'South Forsyths', 'the Albany Mall', 'Prince Tate', 'North Murray', 'Sandy Creek', 'Mack Tharpe Stadium', 'Franklin County Citize', 'the Georgia Theatre', 'Hickory Hills', 'Red Hill', 'White Hall', 'Colonial Park Cemetery', 'Bailey Avenue', 'the Cumberland Island', 'Lexington Heights', 'Douglas County Jail', 'Oak Hill Drive', 'Shorter Avenue', 'Haralson County High School', 'Cunningham Road', 'the Savannah Civic Center', 'Mineral Bluff', 'the Stephens County Senior Center', 'Hallford Stadium', 'Interstate 520', 'West Highland Street', 'the Washington W. King/College Avenue Bridge', 'Mud Creek Road', 'Lake Marion', 'the Cobb Civic Center', 'the Coca-Cola Roxy', 'Oakland City', 'Hammond Park', 'Piedmont Park', 'Southeast Bulloch', 'Oslo Road', 'Cook County State’s', 'Liberty Road', 'Clay Road', 'Gordy Parkway', 'Hamilton Medical Center', 'a White House', 'Burns Road', 'Corky Kell Stadium', 'El Don', 'West Hill Cemetery', 'Piedmont Henry', 'West Lake', 'Forest Park 10', 'Fairmont State', 'Pine Street', 'Henderson Stadium', 'Agnes Scott', 'Camp Creek Elementary', 'Canton Rd', 'the Gwinnett County Fair', 'W. Sandtown Road', 'Hickory Hills Elementary School PTA', 'Cobb mall', 'North Brown Road Suite', 'ORCHARD PARK', 'the DeSoto Theatre', 'St. Vincent de Paul', 'Piedmont Village', 'the Douglas County Courthouse', 'Sawyer Road Elementary', 'Woodruff Riverfront Park', 'Amerson River Park', 'Marietta High', 'Catoosa Parkway', '46 Plaza Way', 'Cobb Parkway NW', 'Chastain Road', 'the Acree-Davis Funeral Home', 'FORT BENNING', 'South Paulding', 'Fieldale Farms', 'The City of Tempe', 'Peachtree Industrial Boulevard', 'Cheatham Hills Memorial Park', '900 Newnan Road', 'Whitaker Street', 'Clayton City Hall', 'North Heights', '49 Hammond Drive', 'Diver’s Den', 'the Golden Isles Development Authority', 'Monarch Village Way', 'Sims Funeral Home', 'Pine Hills Golf Course', 'Randolph Street', 'New Hope', 'Fields Ferry Golf Club', 'Vidalia 36', 'Midway Road', 'Southern Willow Farms', 'Highway 411', 'Mt. Zion-Carrollton', 'Haralson County Rebels', 'Veterans Memorial Pkwy', 'Giles Road', 'Lee Street', 'Silverton Road', 'Henry Street', 'East-West Connector', 'Lincoln Park', 'Hicks Road', 'Newnan 14', 'Heritage Park', 'Spencer Park', 'Whitesville Rd.', 'West Avenue', 'the St. Simons Casino Theater', 'West Main Street', 'Peachtree Dunwoody Road', 'Cordova Street', 'Atlanta Street', 'Cedar Grove', 'the Hartwell First United Methodist Church', 'Giving Kitchen', 'the Jefferson Civic Center', 'St. Anne-Pacelli', 'Calhoun P.D.', 'Hartley Bridge Road', '1495 Roswell Road', 'Saint Simons Island', 'the Lees Crossing Clubhouse', 'Trickum Road', 'the Russell Union', 'Cedar Crest', 'Calhoun City Park', 'Collins Street', 'Braves Field', 'New Macland Road/Cobb', 'New Holland', 'Rocky Mount', 'Bentley Road', 'Little Cottage Brewery', 'Douglas Medical Center', 'Rabbit Valley Christmas Markets', 'the Gwinnett County Animal Shelter', 'Magnolia Street', 'Monroe Street', 'Shaw Road', 'north metro', 'Green Street', 'West Savannah', 'Gainesville 55', 'East Georgia Regional Airport', 'Briarcliff Road', 'Mount Parans', 'Cloudland Canyon State Park', 'Apple Valley Rd', 'Amicalola Creek', 'Sugarloaf Mill', 'Jackson County High School', 'the Gordon County Campus', 'Fort Valley State University']\n",
            "1368\n",
            "['Pretoria', 'Ashburn', 'Allendale', 'Randall', 'Newborn', 'Cleveland', 'Atkinson', 'Malibu', 'canoe', 'Lagrange', 'Cochran', 'Hephzibah', 'Hartwell', 'Youngstown', 'Beverly', 'Alto', 'Ithaca', 'BOSTON', 'Brighton', 'NAHUNTA', 'Colonnade', 'Altamaha', 'Birdy', 'casa', 'Sherrod', 'Alma', 'Leary', 'Fairburn', 'Horn', 'Winterville', 'BIRMINGHAM', 'Oglethorpe', 'Adel', 'Astoria', 'PROVIDENCE', 'LaFayette', 'Marysville', 'Beach', 'Piedmont', 'Berkmar', 'Menlo', 'Crandall', 'Morgan', 'Omaha', 'Ripley', 'THOMSON', 'Cannon', 'Anguilla', 'Dacula', 'Carmel', 'Jekyll', 'Byron', 'Westchester', 'Plymouth', 'Broncos', 'Adamsville', 'Center', 'Dover', 'Shiloh', 'Browning', 'BOULDER', 'Rochelle', 'DOVER', 'Relay', 'Westside-Macon', 'Ypsilanti', 'Miramar', 'Bowman', 'Budapest', 'Bowdon', 'Westwood', 'Hartley', 'Parkersburg', 'Murphy', 'Hebron', 'Collier', 'Wrens', 'Blackshear', 'Homerville', 'Villanow', 'Kirkland', 'Pitts', 'Nahunta', 'Milan', 'PLAINFIELD', 'Bethesda', 'Drayton', 'Redfield', 'Monticello', 'Burlington', 'Brookfield', 'Potter', 'Grady', 'Pomona', 'William', 'Corinth', 'Bladen', 'Hillsboro', 'Southgate', 'Lilburn', 'Mayfair', 'Harlem', 'Durham', 'Maysville', 'Normandy', 'Reno', 'Bethany', 'Clayton', 'Northwestern', 'Westbrook', 'Cary', 'Caruso', 'N.H.', 'Naylor', 'Haddock', 'NEWARK', 'Marshallville', 'Manassas', 'Rosemont', 'Moca', 'Andalusia', 'Copeland', 'Newark', 'Davisboro', 'Brentwood', 'Morris', 'Patterson', 'Armuchee', 'Murrayville', 'Woodbury', 'Siloam', 'Ringgold', 'Bennington', 'Clinton', 'Brooklet', 'Prescott', 'Bates', 'Montreal', 'Trafford', 'Nelms', 'Rollins', 'Rogers', 'Wellington', 'ARLINGTON', 'Providence', 'Carlton', 'McKinnon', 'Beulah', 'Appling', 'Alamo', 'Rosewood', 'Chastain', 'Sylvania', 'Jersey', 'Milford', 'Phoenix', 'Charles', 'Bartow', 'Rockmart', 'Oxford', 'Bridgeport', 'DeSoto', 'Jarrett', 'Bonaire', 'Colbert', 'Adairsville', 'Blanton', 'Rossville', 'Magnolia', 'Betts', 'Soperton', 'Loganville', 'Shenandoah', 'Linwood', 'Kathleen', 'Hinesville', 'Lewiston', 'Bridgewater', 'Bellevue', 'Kimberly', 'Douglassville', 'Crestview', 'Collinsville', 'BEVERLY', 'Inman', 'Martin', 'Wesleyan', 'Branson', 'Indianola', 'Meridian', 'GROVETOWN', 'Oldtown', 'White', 'Lowery', 'Millwood', 'Aubrey', 'Portland', 'Sandy', 'Lisbon', 'Cordele', 'Lakewood', 'Manheim', 'Hull', 'Woodbine', 'Knoxville', 'Sacketts', 'Bloomingdale', 'LEXINGTON', 'Mershon', 'Mitchell', 'Abbotsford', 'Dutchtown', 'Beaumont', 'Clyattville', 'Chamberlin', 'Moore', 'Pittsburg', 'Centegix', 'Pembroke', 'Whitesville', 'Whitworth', 'Pumpkin', 'Redding', 'Amsterdam', 'ST', 'Coosa', 'Jake', 'Veranda', 'Pittman', 'Fairmount', 'Salem', 'Claxton', 'Westminister', 'Whitewater', 'Alps', 'Maxeys', 'Winnersville', 'Belmont', 'Swainsboro', 'Sanford', 'Leland', 'Bulletin', 'DENVER', 'Leesburg', 'Linden', 'Hazlehurst', 'Madison', 'Suwanee.', 'Merrillville', 'Weatherford', 'Newtown', 'Lewis', 'Guyton', 'BRISTOL', 'GEORGETOWN', 'Bay', 'Reinhardt', 'Rebecca', 'Loving', 'Baxley', 'Rockville', 'Capitol', 'Roscoe', 'Darien', 'Pressley', 'Greensboro', 'Howard', 'Wesley', 'Atwater', 'Register', 'Curtis', 'Redmond', 'Brooks', 'Riverwood', 'Aquinas', 'S.M.', 'Wildwood', 'Meansville', 'Smokey', 'Blakely', 'Folkston', 'Hogansville', 'Matthews', 'Lakemont', 'Chatsworth', 'Lehigh', 'Lavina', 'Chula', 'LEO', 'Baconton', 'Clarksville', 'Morganton', 'Canon', 'N.E.', 'Waynesboro', 'Plainville', 'Reese', 'Marshall', 'Eastman', 'Darlington', 'Montpelier', 'Clarkesville', 'Rutland', 'Warrenton', 'Ludowici', 'Rutledge', 'Minn.', 'Billy', 'Allen', 'Gough', 'Roseville', 'Oakland', 'RINGGOLD', 'Sautee', 'Turnerville', 'Demorest', 'Glennville', 'Morton', 'Plains', 'Brewton', 'Boulder', 'Decatur', 'Ballground', 'Sardis', 'Northview', 'Dawson', 'Waleska', 'Bostwick', 'Berryville', 'Adrian', 'Norwich', 'Fannin', 'Parent', 'Dahlonega', 'Butner', 'Marlborough', 'Nicholasville', 'FORSYTH', 'Skyline', 'Oakville', 'York', 'Woodland', 'Barnesville', 'Pasco', 'Nottingham', 'R-Acworth', 'Montevideo', 'Westlake', 'Etowah', 'Lincolnton', 'Doerun', 'Lithonia', 'Birmingham', 'Ashland', 'Brownlee', 'Broughton', 'Allatoona', 'Nevils', 'Quitman', 'Brooklyn', 'Hoschton', 'Westfield', 'Westover', 'Monterey', 'Levy', 'Oostanaula', 'Chestatee', 'Lumpkin', 'Barretts', 'Newport', 'Rialto', 'Plainfield', 'Hahira', 'Bogart', 'Anna', 'Riceboro', 'Lithuania', 'Bellville', 'Briarwood', 'Cordova', 'Cobbham', 'RICHFIELD', 'Barrington', 'Norris', 'Macedonia', 'Portal', 'Ridgeland', 'Ellaville', 'Hiawassee', 'Maplewood', 'Chickamauga', 'Suwanee', 'Rydal', 'Lyons', 'Pelham', 'Paxton', 'Forsyth', 'Louise', 'Calgary', 'Reece', 'Maynard', 'Pleasant', 'Panhandle', 'R-York', 'Barnes', 'Riverside', 'Richardson', 'Brownsville', 'Roberta', 'Gordon', 'Hawkinsville', 'Flint', 'Weston', 'Trenton', 'Broxton', 'Unionville', 'Yatesville', 'Butler', 'Dawsonville', 'Benton', 'Jenkinsburg', 'BLUFFTON', 'Camelot', 'Boynton', 'Williamsburg', 'Rock', 'Nashville', 'Orange', 'Raymond', 'Norristown', 'PHOENIX', 'Tatemville', 'Hartsfield', 'Boston', 'Bailey', 'Roland', 'Lula', 'Lawton', 'Maddox', 'Dillard', 'Mayfield', 'Chester', 'Southside', 'Pace', 'Bowersville', 'Chattahoochee', 'Owensboro', 'Leefield', 'Glenwood', 'Clarksdale', 'Pineville', 'Lavonia', 'Wiley', 'Phillips', 'NE', 'Woodmont', 'Cottonwood', 'Chicopee', 'Canterfield', 'Bradley', 'Mooney', 'Danielsville', 'Hortense', 'Juliette', 'Midville', 'Brookwood', 'Raleigh', 'Collins', 'LOUISVILLE', 'Clarkston', 'Lowell', 'Oliver', 'Pineland', 'STOCKTON', 'cottonwood', 'Princeton', 'Smithville', 'Lynn', 'Elberton', 'Blairsville', 'Moreland', 'Comer', 'Woodlawn', 'Odessa', 'Berry', 'Norman', 'Victory', 'Clifton', 'R-Minnesota', 'Pearl', 'Roopville', 'Tybee', 'Burnsville', 'Waynesville', 'Aquarium', 'Auburn', 'Cisco', 'Abbeville', 'Clyo', 'Rincon', 'Lexington', 'Lakeland', 'Midway', 'Pitt', 'Metter', 'CLAXTON', 'STATENVILLE', 'Sylvester', 'Fairfield', 'Louisville', 'Marks', 'Carnesville', 'Lafayette', 'Royston', 'Winston', 'Eatonton', 'Lombard', 'Buffalo', 'NORMAN', 'Lakeview', 'Tibet', 'Lester', 'Carbondale', 'Colquitt', 'Wrightsville', 'Crawfordville', 'DECATUR', 'Bullard', 'Stephens', 'Middleton', 'Haralson', 'Southlake', 'Bermuda', 'Rentz', 'Bristol', 'Dubois', 'Molena', 'Wheeler', 'Carvana', 'NASHVILLE', 'Braxton', 'Pearson', 'Pruitt', 'Whitesburg', 'Pebblebrook', 'Thurman', 'Normaltown', 'APPLING', 'Bucktown', 'Bryant', 'Gillsville', 'Westside', 'Cedartown', 'Millard', 'Grovetown', 'Windsor', 'Flovilla', 'R-Dahlonega', 'Ellijay', 'Franklin', 'Millen', 'Donalsonville']\n",
            "562\n"
          ]
        }
      ]
    },
    {
      "cell_type": "code",
      "source": [
        "\n",
        "import numpy as np\n",
        "\n",
        "df['place_ng1'] = df['article_final'].astype(str).apply(lambda x: set.intersection(set(x.split(' ')), word_unigrams_done))\n",
        "df['place_ng2'] = df['article_final'].astype(str).apply(lambda x: [i for i in word_bigrams_done if i in x])\n"
      ],
      "metadata": {
        "id": "NuLnSpGCgXyr"
      },
      "execution_count": null,
      "outputs": []
    },
    {
      "cell_type": "code",
      "source": [
        "df_uni = df[(df['place_ng1'].str.len()) >= 1]\n",
        "df_bi = df[(df['place_ng2'].str.len()) >= 1]\n",
        "\n",
        "df_uni = df_uni[['id', 'source', 'place_ng1']]\n",
        "df_bi = df_bi[['id', 'source', 'place_ng2']]\n",
        "\n",
        "df_uni_df = df_uni.explode('place_ng1')\n",
        "df_bi_df = df_bi.explode('place_ng2')\n",
        "\n",
        "df_uni_df = df_uni_df.rename(columns={'place_ng1': 'place_ner'})\n",
        "df_bi_df = df_bi_df.rename(columns={'place_ng2': 'place_ner'})\n"
      ],
      "metadata": {
        "id": "83NMMSwcggCD"
      },
      "execution_count": null,
      "outputs": []
    },
    {
      "cell_type": "code",
      "source": [
        "df_ng_all = pd.concat([df_uni_df, df_bi_df])"
      ],
      "metadata": {
        "id": "FbOHNB_whKXX"
      },
      "execution_count": null,
      "outputs": []
    },
    {
      "cell_type": "code",
      "source": [
        "count = df_ng_all.groupby(['source']).count()"
      ],
      "metadata": {
        "id": "xDdANgf1hdTH"
      },
      "execution_count": null,
      "outputs": []
    },
    {
      "cell_type": "code",
      "source": [
        "count_20 = count[count['place_ner'] >= 20].reset_index()"
      ],
      "metadata": {
        "id": "tHu85ziIhfyT"
      },
      "execution_count": null,
      "outputs": []
    },
    {
      "cell_type": "code",
      "source": [
        "count_20_id = list(set(count_20['source'].tolist()))\n",
        "\n",
        "df_ng_all_m20 = df_ng_all[df_ng_all['source'].isin(count_20_id)]\n"
      ],
      "metadata": {
        "id": "IvB7I52rhsHg"
      },
      "execution_count": null,
      "outputs": []
    },
    {
      "cell_type": "code",
      "source": [
        "len(count_20_id)"
      ],
      "metadata": {
        "colab": {
          "base_uri": "https://localhost:8080/"
        },
        "id": "1awRlpXFkXzD",
        "outputId": "86e89712-e6a1-4a37-ffee-7fe0e33e796a"
      },
      "execution_count": null,
      "outputs": [
        {
          "output_type": "execute_result",
          "data": {
            "text/plain": [
              "198"
            ]
          },
          "metadata": {},
          "execution_count": 48
        }
      ]
    },
    {
      "cell_type": "code",
      "source": [
        "location_final_st = location_final_st.rename(columns={'ner_place_clean': 'place_ner'})\n"
      ],
      "metadata": {
        "id": "imJj-NCGkOZz"
      },
      "execution_count": null,
      "outputs": []
    },
    {
      "cell_type": "code",
      "source": [
        "df_ng_all_m20_county = pd.merge(df_ng_all_m20, location_final_st, how='left', on='place_ner')"
      ],
      "metadata": {
        "id": "Ry1nnH47h1h4"
      },
      "execution_count": null,
      "outputs": []
    },
    {
      "cell_type": "code",
      "source": [
        "df_ng_all_m20_county"
      ],
      "metadata": {
        "colab": {
          "base_uri": "https://localhost:8080/",
          "height": 424
        },
        "id": "qiK6jMxOjoGi",
        "outputId": "3c45de5f-712c-4f2e-db28-ecfd163fefda"
      },
      "execution_count": null,
      "outputs": [
        {
          "output_type": "execute_result",
          "data": {
            "text/plain": [
              "            id             source             place_ner      county_level  \\\n",
              "0            3  Metter Advertiser               Charles     Toombs County   \n",
              "1            3  Metter Advertiser              Franklin      Heard County   \n",
              "2            3  Metter Advertiser                Metter    Candler County   \n",
              "3            3  Metter Advertiser               William    Chatham County   \n",
              "4            3  Metter Advertiser                Murphy   Colquitt County   \n",
              "...        ...                ...                   ...               ...   \n",
              "194285  191910   WALB TV 10 (NBC)     Osprey Cove Drive   Muscogee County   \n",
              "194286  191944   WALB TV 10 (NBC)  Magnolia Drive North  Effingham County   \n",
              "194287  191955   WALB TV 10 (NBC)           Pine Street     Fulton County   \n",
              "194288  191985   WALB TV 10 (NBC)           Wake County     Walker County   \n",
              "194289  192159   WALB TV 10 (NBC)         North Academy     Turner County   \n",
              "\n",
              "        final_selection  \n",
              "0                     1  \n",
              "1                     1  \n",
              "2                     1  \n",
              "3                     1  \n",
              "4                     1  \n",
              "...                 ...  \n",
              "194285                1  \n",
              "194286                1  \n",
              "194287                1  \n",
              "194288                1  \n",
              "194289                1  \n",
              "\n",
              "[194290 rows x 5 columns]"
            ],
            "text/html": [
              "\n",
              "  <div id=\"df-5e725cd4-583b-4cec-ab37-36cb4fcdd812\">\n",
              "    <div class=\"colab-df-container\">\n",
              "      <div>\n",
              "<style scoped>\n",
              "    .dataframe tbody tr th:only-of-type {\n",
              "        vertical-align: middle;\n",
              "    }\n",
              "\n",
              "    .dataframe tbody tr th {\n",
              "        vertical-align: top;\n",
              "    }\n",
              "\n",
              "    .dataframe thead th {\n",
              "        text-align: right;\n",
              "    }\n",
              "</style>\n",
              "<table border=\"1\" class=\"dataframe\">\n",
              "  <thead>\n",
              "    <tr style=\"text-align: right;\">\n",
              "      <th></th>\n",
              "      <th>id</th>\n",
              "      <th>source</th>\n",
              "      <th>place_ner</th>\n",
              "      <th>county_level</th>\n",
              "      <th>final_selection</th>\n",
              "    </tr>\n",
              "  </thead>\n",
              "  <tbody>\n",
              "    <tr>\n",
              "      <th>0</th>\n",
              "      <td>3</td>\n",
              "      <td>Metter Advertiser</td>\n",
              "      <td>Charles</td>\n",
              "      <td>Toombs County</td>\n",
              "      <td>1</td>\n",
              "    </tr>\n",
              "    <tr>\n",
              "      <th>1</th>\n",
              "      <td>3</td>\n",
              "      <td>Metter Advertiser</td>\n",
              "      <td>Franklin</td>\n",
              "      <td>Heard County</td>\n",
              "      <td>1</td>\n",
              "    </tr>\n",
              "    <tr>\n",
              "      <th>2</th>\n",
              "      <td>3</td>\n",
              "      <td>Metter Advertiser</td>\n",
              "      <td>Metter</td>\n",
              "      <td>Candler County</td>\n",
              "      <td>1</td>\n",
              "    </tr>\n",
              "    <tr>\n",
              "      <th>3</th>\n",
              "      <td>3</td>\n",
              "      <td>Metter Advertiser</td>\n",
              "      <td>William</td>\n",
              "      <td>Chatham County</td>\n",
              "      <td>1</td>\n",
              "    </tr>\n",
              "    <tr>\n",
              "      <th>4</th>\n",
              "      <td>3</td>\n",
              "      <td>Metter Advertiser</td>\n",
              "      <td>Murphy</td>\n",
              "      <td>Colquitt County</td>\n",
              "      <td>1</td>\n",
              "    </tr>\n",
              "    <tr>\n",
              "      <th>...</th>\n",
              "      <td>...</td>\n",
              "      <td>...</td>\n",
              "      <td>...</td>\n",
              "      <td>...</td>\n",
              "      <td>...</td>\n",
              "    </tr>\n",
              "    <tr>\n",
              "      <th>194285</th>\n",
              "      <td>191910</td>\n",
              "      <td>WALB TV 10 (NBC)</td>\n",
              "      <td>Osprey Cove Drive</td>\n",
              "      <td>Muscogee County</td>\n",
              "      <td>1</td>\n",
              "    </tr>\n",
              "    <tr>\n",
              "      <th>194286</th>\n",
              "      <td>191944</td>\n",
              "      <td>WALB TV 10 (NBC)</td>\n",
              "      <td>Magnolia Drive North</td>\n",
              "      <td>Effingham County</td>\n",
              "      <td>1</td>\n",
              "    </tr>\n",
              "    <tr>\n",
              "      <th>194287</th>\n",
              "      <td>191955</td>\n",
              "      <td>WALB TV 10 (NBC)</td>\n",
              "      <td>Pine Street</td>\n",
              "      <td>Fulton County</td>\n",
              "      <td>1</td>\n",
              "    </tr>\n",
              "    <tr>\n",
              "      <th>194288</th>\n",
              "      <td>191985</td>\n",
              "      <td>WALB TV 10 (NBC)</td>\n",
              "      <td>Wake County</td>\n",
              "      <td>Walker County</td>\n",
              "      <td>1</td>\n",
              "    </tr>\n",
              "    <tr>\n",
              "      <th>194289</th>\n",
              "      <td>192159</td>\n",
              "      <td>WALB TV 10 (NBC)</td>\n",
              "      <td>North Academy</td>\n",
              "      <td>Turner County</td>\n",
              "      <td>1</td>\n",
              "    </tr>\n",
              "  </tbody>\n",
              "</table>\n",
              "<p>194290 rows × 5 columns</p>\n",
              "</div>\n",
              "      <button class=\"colab-df-convert\" onclick=\"convertToInteractive('df-5e725cd4-583b-4cec-ab37-36cb4fcdd812')\"\n",
              "              title=\"Convert this dataframe to an interactive table.\"\n",
              "              style=\"display:none;\">\n",
              "        \n",
              "  <svg xmlns=\"http://www.w3.org/2000/svg\" height=\"24px\"viewBox=\"0 0 24 24\"\n",
              "       width=\"24px\">\n",
              "    <path d=\"M0 0h24v24H0V0z\" fill=\"none\"/>\n",
              "    <path d=\"M18.56 5.44l.94 2.06.94-2.06 2.06-.94-2.06-.94-.94-2.06-.94 2.06-2.06.94zm-11 1L8.5 8.5l.94-2.06 2.06-.94-2.06-.94L8.5 2.5l-.94 2.06-2.06.94zm10 10l.94 2.06.94-2.06 2.06-.94-2.06-.94-.94-2.06-.94 2.06-2.06.94z\"/><path d=\"M17.41 7.96l-1.37-1.37c-.4-.4-.92-.59-1.43-.59-.52 0-1.04.2-1.43.59L10.3 9.45l-7.72 7.72c-.78.78-.78 2.05 0 2.83L4 21.41c.39.39.9.59 1.41.59.51 0 1.02-.2 1.41-.59l7.78-7.78 2.81-2.81c.8-.78.8-2.07 0-2.86zM5.41 20L4 18.59l7.72-7.72 1.47 1.35L5.41 20z\"/>\n",
              "  </svg>\n",
              "      </button>\n",
              "      \n",
              "  <style>\n",
              "    .colab-df-container {\n",
              "      display:flex;\n",
              "      flex-wrap:wrap;\n",
              "      gap: 12px;\n",
              "    }\n",
              "\n",
              "    .colab-df-convert {\n",
              "      background-color: #E8F0FE;\n",
              "      border: none;\n",
              "      border-radius: 50%;\n",
              "      cursor: pointer;\n",
              "      display: none;\n",
              "      fill: #1967D2;\n",
              "      height: 32px;\n",
              "      padding: 0 0 0 0;\n",
              "      width: 32px;\n",
              "    }\n",
              "\n",
              "    .colab-df-convert:hover {\n",
              "      background-color: #E2EBFA;\n",
              "      box-shadow: 0px 1px 2px rgba(60, 64, 67, 0.3), 0px 1px 3px 1px rgba(60, 64, 67, 0.15);\n",
              "      fill: #174EA6;\n",
              "    }\n",
              "\n",
              "    [theme=dark] .colab-df-convert {\n",
              "      background-color: #3B4455;\n",
              "      fill: #D2E3FC;\n",
              "    }\n",
              "\n",
              "    [theme=dark] .colab-df-convert:hover {\n",
              "      background-color: #434B5C;\n",
              "      box-shadow: 0px 1px 3px 1px rgba(0, 0, 0, 0.15);\n",
              "      filter: drop-shadow(0px 1px 2px rgba(0, 0, 0, 0.3));\n",
              "      fill: #FFFFFF;\n",
              "    }\n",
              "  </style>\n",
              "\n",
              "      <script>\n",
              "        const buttonEl =\n",
              "          document.querySelector('#df-5e725cd4-583b-4cec-ab37-36cb4fcdd812 button.colab-df-convert');\n",
              "        buttonEl.style.display =\n",
              "          google.colab.kernel.accessAllowed ? 'block' : 'none';\n",
              "\n",
              "        async function convertToInteractive(key) {\n",
              "          const element = document.querySelector('#df-5e725cd4-583b-4cec-ab37-36cb4fcdd812');\n",
              "          const dataTable =\n",
              "            await google.colab.kernel.invokeFunction('convertToInteractive',\n",
              "                                                     [key], {});\n",
              "          if (!dataTable) return;\n",
              "\n",
              "          const docLinkHtml = 'Like what you see? Visit the ' +\n",
              "            '<a target=\"_blank\" href=https://colab.research.google.com/notebooks/data_table.ipynb>data table notebook</a>'\n",
              "            + ' to learn more about interactive tables.';\n",
              "          element.innerHTML = '';\n",
              "          dataTable['output_type'] = 'display_data';\n",
              "          await google.colab.output.renderOutput(dataTable, element);\n",
              "          const docLink = document.createElement('div');\n",
              "          docLink.innerHTML = docLinkHtml;\n",
              "          element.appendChild(docLink);\n",
              "        }\n",
              "      </script>\n",
              "    </div>\n",
              "  </div>\n",
              "  "
            ]
          },
          "metadata": {},
          "execution_count": 52
        }
      ]
    },
    {
      "cell_type": "code",
      "source": [
        "df_ng_all_m20_county_unique = df_ng_all_m20_county.drop_duplicates(subset=['id', 'source', 'county_level'])"
      ],
      "metadata": {
        "id": "qeTXN7_YkrEM"
      },
      "execution_count": null,
      "outputs": []
    },
    {
      "cell_type": "code",
      "source": [
        "df_ng_all_m20_county_unique_count = df_ng_all_m20_county_unique.groupby(['source','county_level'])['id'].count().reset_index()"
      ],
      "metadata": {
        "id": "RC6nhVn2lbLm"
      },
      "execution_count": null,
      "outputs": []
    },
    {
      "cell_type": "code",
      "source": [
        "df_ng_all_m20_county_unique_count = df_ng_all_m20_county_unique_count.rename(columns={'id': 'article_id_count'})\n"
      ],
      "metadata": {
        "id": "yfmDfAVDfV6H"
      },
      "execution_count": null,
      "outputs": []
    },
    {
      "cell_type": "code",
      "source": [
        "df_ng_all_m20_county_unique_count.to_excel('Georgia_m20_county_unique_count_v2.xlsx')"
      ],
      "metadata": {
        "id": "ZyOM2c0klvSB"
      },
      "execution_count": null,
      "outputs": []
    },
    {
      "cell_type": "markdown",
      "source": [
        "# Topic analysis"
      ],
      "metadata": {
        "id": "Ew4iO66-Lx25"
      }
    },
    {
      "cell_type": "markdown",
      "source": [
        "## Prep for topic analysis"
      ],
      "metadata": {
        "id": "fbrosYrr-aUs"
      }
    },
    {
      "cell_type": "code",
      "source": [
        "%cd /content/drive/MyDrive/Georgia/Topic Dictionaries\n"
      ],
      "metadata": {
        "id": "ffQuVIAKTdgi"
      },
      "execution_count": null,
      "outputs": []
    },
    {
      "cell_type": "code",
      "source": [
        "# lemmatization if needed\n",
        "import spacy\n",
        "import re\n",
        "\n",
        "nlp = spacy.load(\"en_core_web_sm\", disable=['ner', 'parser']) # disabling Named Entity Recognition for speed\n"
      ],
      "metadata": {
        "id": "SdihvUuVapaU",
        "colab": {
          "base_uri": "https://localhost:8080/"
        },
        "outputId": "e133579e-6354-43be-b7d0-b978ce05ddf0"
      },
      "execution_count": null,
      "outputs": [
        {
          "output_type": "stream",
          "name": "stderr",
          "text": [
            "/usr/local/lib/python3.9/dist-packages/torch/cuda/__init__.py:497: UserWarning: Can't initialize NVML\n",
            "  warnings.warn(\"Can't initialize NVML\")\n"
          ]
        }
      ]
    },
    {
      "cell_type": "code",
      "source": [
        "import re\n",
        "\n",
        "def get_lemmas_num(text):\n",
        "\n",
        "    regex = re.compile('[^a-zA-Z0-9]')\n",
        "\n",
        "    lemmas = []\n",
        "    \n",
        "    doc = nlp(text)\n",
        "\n",
        "    for token in doc: \n",
        "        if ((token.is_stop == False) and (token.is_punct == False)) and (token.pos_ != 'PRON') and (token.text != 'NA'):\n",
        "            lemmas.append(regex.sub('', token.lemma_))\n",
        "    \n",
        "    return ' '.join(lemmas)"
      ],
      "metadata": {
        "id": "yakNpLYL9r9n"
      },
      "execution_count": null,
      "outputs": []
    },
    {
      "cell_type": "code",
      "source": [
        "df_source_merge_final['article_lemma_num'] = df_source_merge_final['article_final'].str.lower().astype(str).apply(get_lemmas_num)\n"
      ],
      "metadata": {
        "id": "ntrfoKZe-iW5"
      },
      "execution_count": null,
      "outputs": []
    },
    {
      "cell_type": "code",
      "source": [
        "#df_source_merge_final.to_pickle('Georgia_data_v2_translation_ner_lem.pkl') # commented this line to prevent from saving it"
      ],
      "metadata": {
        "id": "HSZvqDkHbXHs"
      },
      "execution_count": null,
      "outputs": []
    },
    {
      "cell_type": "markdown",
      "source": [
        "## word2vec training"
      ],
      "metadata": {
        "id": "YgibHH31AoJb"
      }
    },
    {
      "cell_type": "code",
      "source": [
        "%cd /content/drive/MyDrive/Georgia/Topic Dictionaries\n",
        "\n",
        "import pandas as pd\n",
        "\n",
        "df = pd.read_pickle('/content/drive/MyDrive/Georgia/Web Scraping/Georgia_data_v2_translation_ner2_lem.pkl')\n"
      ],
      "metadata": {
        "id": "iHdF4EcuA-am"
      },
      "execution_count": null,
      "outputs": []
    },
    {
      "cell_type": "code",
      "source": [
        "import pandas as pd\n",
        "# To extract n-gram from text\n",
        "from gensim.models.phrases import Phrases, Phraser\n",
        "# To train word2vec\n",
        "from gensim.models import Word2Vec\n",
        "# To load pre trained word2vec\n",
        "from gensim.models import KeyedVectors\n"
      ],
      "metadata": {
        "id": "8LVAo2rRAq7J"
      },
      "execution_count": null,
      "outputs": []
    },
    {
      "cell_type": "code",
      "source": [
        "df.columns"
      ],
      "metadata": {
        "colab": {
          "base_uri": "https://localhost:8080/"
        },
        "id": "3MOfvyxRD4Bx",
        "outputId": "6997e369-c9e9-4998-ddd4-9ef31ae5ddb1"
      },
      "execution_count": null,
      "outputs": [
        {
          "output_type": "execute_result",
          "data": {
            "text/plain": [
              "Index(['source', 'en_source', 'website', 'article_url', 'article_title',\n",
              "       'article_author', 'date_published', 'article_final', 'ner_places',\n",
              "       'ner_orgs', 'article_lemma_num'],\n",
              "      dtype='object')"
            ]
          },
          "metadata": {},
          "execution_count": 12
        }
      ]
    },
    {
      "cell_type": "code",
      "source": [
        "# As Phrases() takes list of list as it's input\n",
        "# Converting dataframe to list of list\n",
        "\n",
        "## all lower cases\n",
        "\n",
        "sentence_stream = [doc.split(\" \") for doc in df['article_lemma_num']]\n",
        "bigram = Phrases(sentence_stream, min_count= 10, delimiter=b' ') # v2 threshold as default\n",
        "bigram_phraser = Phraser(bigram)\n",
        "\n",
        "# bigram = Phrases(sentence_stream, min_count=10, threshold= 10, delimiter=b' ') # higher threshold fewer phrases.\n",
        "# trigram = Phrases(bigram[sentence_stream], threshold= 100, delimiter=b' ') # include bi- and tri-grams\n",
        "\n",
        "\n",
        "# Extract bigram for gensim word2vec\n",
        "bigram_token = []\n",
        "\n",
        "for sent in sentence_stream:\n",
        "    bigram_token.append(bigram_phraser[sent])\n",
        "\n",
        "article_model_bigram = Word2Vec(bigram_token, min_count=10, size= 40, workers=5, window = 5, sg = 0)\n",
        "article_model_bigram.save(\"Georgia_language_lemma_num10_v2\") # v2 : with updated dataset\n"
      ],
      "metadata": {
        "id": "GTERUu_BAwA0"
      },
      "execution_count": null,
      "outputs": []
    },
    {
      "cell_type": "markdown",
      "source": [
        "## topic words identification"
      ],
      "metadata": {
        "id": "nAA4zyzcJOmD"
      }
    },
    {
      "cell_type": "markdown",
      "source": [
        "### separate analysis for words with asterisk"
      ],
      "metadata": {
        "id": "E_2Yq8CIL-Cy"
      }
    },
    {
      "cell_type": "code",
      "source": [
        "%cd /content/drive/MyDrive/Georgia/Topic Dictionaries\n"
      ],
      "metadata": {
        "id": "XVCZh-ePZM1X"
      },
      "execution_count": null,
      "outputs": []
    },
    {
      "cell_type": "code",
      "source": [
        "topics = pd.read_excel(\"topics.xlsx\")\n",
        "\n",
        "topics['word_lemma'] = topics['word'].str.lower().astype(str).apply(get_lemmas_num)\n"
      ],
      "metadata": {
        "id": "pyA2T_rwULKN"
      },
      "execution_count": null,
      "outputs": []
    },
    {
      "cell_type": "code",
      "source": [
        "import numpy as np\n",
        "\n",
        "star_phrases = topics['word'].str.contains('\\*{1}', case=False, regex=True)\n",
        "\n",
        "topics['word_star'] = np.where(star_phrases, 1, 0)\n"
      ],
      "metadata": {
        "id": "_YqgUSRTHRiG"
      },
      "execution_count": null,
      "outputs": []
    },
    {
      "cell_type": "code",
      "source": [
        "topics_st = topics[['topic', 'word_lemma', 'word_star']].drop_duplicates()\n",
        "topics_st.sample(3)"
      ],
      "metadata": {
        "colab": {
          "base_uri": "https://localhost:8080/",
          "height": 143
        },
        "id": "zhcPzCVHAiex",
        "outputId": "1e292a5d-9ef0-45a5-84fb-781092a6b28d"
      },
      "execution_count": null,
      "outputs": [
        {
          "output_type": "execute_result",
          "data": {
            "text/plain": [
              "              topic       word_lemma  word_star\n",
              "376       Education     kindergarten          0\n",
              "411           Crime          assault          0\n",
              "250  Climate change  endanger specie          0"
            ],
            "text/html": [
              "\n",
              "  <div id=\"df-1333f200-3f8d-4e77-acb2-53d1a40d2754\">\n",
              "    <div class=\"colab-df-container\">\n",
              "      <div>\n",
              "<style scoped>\n",
              "    .dataframe tbody tr th:only-of-type {\n",
              "        vertical-align: middle;\n",
              "    }\n",
              "\n",
              "    .dataframe tbody tr th {\n",
              "        vertical-align: top;\n",
              "    }\n",
              "\n",
              "    .dataframe thead th {\n",
              "        text-align: right;\n",
              "    }\n",
              "</style>\n",
              "<table border=\"1\" class=\"dataframe\">\n",
              "  <thead>\n",
              "    <tr style=\"text-align: right;\">\n",
              "      <th></th>\n",
              "      <th>topic</th>\n",
              "      <th>word_lemma</th>\n",
              "      <th>word_star</th>\n",
              "    </tr>\n",
              "  </thead>\n",
              "  <tbody>\n",
              "    <tr>\n",
              "      <th>376</th>\n",
              "      <td>Education</td>\n",
              "      <td>kindergarten</td>\n",
              "      <td>0</td>\n",
              "    </tr>\n",
              "    <tr>\n",
              "      <th>411</th>\n",
              "      <td>Crime</td>\n",
              "      <td>assault</td>\n",
              "      <td>0</td>\n",
              "    </tr>\n",
              "    <tr>\n",
              "      <th>250</th>\n",
              "      <td>Climate change</td>\n",
              "      <td>endanger specie</td>\n",
              "      <td>0</td>\n",
              "    </tr>\n",
              "  </tbody>\n",
              "</table>\n",
              "</div>\n",
              "      <button class=\"colab-df-convert\" onclick=\"convertToInteractive('df-1333f200-3f8d-4e77-acb2-53d1a40d2754')\"\n",
              "              title=\"Convert this dataframe to an interactive table.\"\n",
              "              style=\"display:none;\">\n",
              "        \n",
              "  <svg xmlns=\"http://www.w3.org/2000/svg\" height=\"24px\"viewBox=\"0 0 24 24\"\n",
              "       width=\"24px\">\n",
              "    <path d=\"M0 0h24v24H0V0z\" fill=\"none\"/>\n",
              "    <path d=\"M18.56 5.44l.94 2.06.94-2.06 2.06-.94-2.06-.94-.94-2.06-.94 2.06-2.06.94zm-11 1L8.5 8.5l.94-2.06 2.06-.94-2.06-.94L8.5 2.5l-.94 2.06-2.06.94zm10 10l.94 2.06.94-2.06 2.06-.94-2.06-.94-.94-2.06-.94 2.06-2.06.94z\"/><path d=\"M17.41 7.96l-1.37-1.37c-.4-.4-.92-.59-1.43-.59-.52 0-1.04.2-1.43.59L10.3 9.45l-7.72 7.72c-.78.78-.78 2.05 0 2.83L4 21.41c.39.39.9.59 1.41.59.51 0 1.02-.2 1.41-.59l7.78-7.78 2.81-2.81c.8-.78.8-2.07 0-2.86zM5.41 20L4 18.59l7.72-7.72 1.47 1.35L5.41 20z\"/>\n",
              "  </svg>\n",
              "      </button>\n",
              "      \n",
              "  <style>\n",
              "    .colab-df-container {\n",
              "      display:flex;\n",
              "      flex-wrap:wrap;\n",
              "      gap: 12px;\n",
              "    }\n",
              "\n",
              "    .colab-df-convert {\n",
              "      background-color: #E8F0FE;\n",
              "      border: none;\n",
              "      border-radius: 50%;\n",
              "      cursor: pointer;\n",
              "      display: none;\n",
              "      fill: #1967D2;\n",
              "      height: 32px;\n",
              "      padding: 0 0 0 0;\n",
              "      width: 32px;\n",
              "    }\n",
              "\n",
              "    .colab-df-convert:hover {\n",
              "      background-color: #E2EBFA;\n",
              "      box-shadow: 0px 1px 2px rgba(60, 64, 67, 0.3), 0px 1px 3px 1px rgba(60, 64, 67, 0.15);\n",
              "      fill: #174EA6;\n",
              "    }\n",
              "\n",
              "    [theme=dark] .colab-df-convert {\n",
              "      background-color: #3B4455;\n",
              "      fill: #D2E3FC;\n",
              "    }\n",
              "\n",
              "    [theme=dark] .colab-df-convert:hover {\n",
              "      background-color: #434B5C;\n",
              "      box-shadow: 0px 1px 3px 1px rgba(0, 0, 0, 0.15);\n",
              "      filter: drop-shadow(0px 1px 2px rgba(0, 0, 0, 0.3));\n",
              "      fill: #FFFFFF;\n",
              "    }\n",
              "  </style>\n",
              "\n",
              "      <script>\n",
              "        const buttonEl =\n",
              "          document.querySelector('#df-1333f200-3f8d-4e77-acb2-53d1a40d2754 button.colab-df-convert');\n",
              "        buttonEl.style.display =\n",
              "          google.colab.kernel.accessAllowed ? 'block' : 'none';\n",
              "\n",
              "        async function convertToInteractive(key) {\n",
              "          const element = document.querySelector('#df-1333f200-3f8d-4e77-acb2-53d1a40d2754');\n",
              "          const dataTable =\n",
              "            await google.colab.kernel.invokeFunction('convertToInteractive',\n",
              "                                                     [key], {});\n",
              "          if (!dataTable) return;\n",
              "\n",
              "          const docLinkHtml = 'Like what you see? Visit the ' +\n",
              "            '<a target=\"_blank\" href=https://colab.research.google.com/notebooks/data_table.ipynb>data table notebook</a>'\n",
              "            + ' to learn more about interactive tables.';\n",
              "          element.innerHTML = '';\n",
              "          dataTable['output_type'] = 'display_data';\n",
              "          await google.colab.output.renderOutput(dataTable, element);\n",
              "          const docLink = document.createElement('div');\n",
              "          docLink.innerHTML = docLinkHtml;\n",
              "          element.appendChild(docLink);\n",
              "        }\n",
              "      </script>\n",
              "    </div>\n",
              "  </div>\n",
              "  "
            ]
          },
          "metadata": {},
          "execution_count": 30
        }
      ]
    },
    {
      "cell_type": "code",
      "source": [
        "topics_st_asterisk = topics_st[topics_st['word_star']==1]"
      ],
      "metadata": {
        "id": "WEKPq4s4GN01"
      },
      "execution_count": null,
      "outputs": []
    },
    {
      "cell_type": "code",
      "source": [
        "topics_st_asterisk_list = topics_st_asterisk['word_lemma'].values.tolist()"
      ],
      "metadata": {
        "id": "4EgT2Wu0GaAv"
      },
      "execution_count": null,
      "outputs": []
    },
    {
      "cell_type": "code",
      "source": [
        "words = pd.DataFrame(list(article_model_bigram.wv.vocab.keys()))\n",
        "words.rename(columns={0:'n_grams'}, inplace=True)\n"
      ],
      "metadata": {
        "id": "tcl3Blzk_2cy"
      },
      "execution_count": null,
      "outputs": []
    },
    {
      "cell_type": "code",
      "source": [
        "words['word_lemma'] = words['n_grams'].astype(str).apply(lambda x: [i for i in topics_st_asterisk_list if i in x])\n"
      ],
      "metadata": {
        "id": "FnxeX_OK_-rN"
      },
      "execution_count": null,
      "outputs": []
    },
    {
      "cell_type": "code",
      "source": [
        "words_filter = words[ words['word_lemma'].str.len() > 0 ]"
      ],
      "metadata": {
        "id": "u4y0zJfcBG2P"
      },
      "execution_count": null,
      "outputs": []
    },
    {
      "cell_type": "code",
      "source": [
        "words_filter_unnest = words_filter.explode('word_lemma')\n"
      ],
      "metadata": {
        "id": "UUky0NOlBVf3"
      },
      "execution_count": null,
      "outputs": []
    },
    {
      "cell_type": "code",
      "source": [
        "words_filter_unnest = pd.merge(words_filter_unnest, topics_st_asterisk, on=\"word_lemma\", how='left')"
      ],
      "metadata": {
        "id": "TlVEqsKpBp2A"
      },
      "execution_count": null,
      "outputs": []
    },
    {
      "cell_type": "code",
      "source": [
        "words_filter_unnest.to_excel('additional_topic_words_v2.xlsx')"
      ],
      "metadata": {
        "id": "Di7aiqlvEuwl"
      },
      "execution_count": null,
      "outputs": []
    },
    {
      "cell_type": "code",
      "source": [
        "additional_topic_words_v2 = pd.read_excel('additional_topic_words_v2.xlsx')\n",
        "additional_topic_words_v1 = pd.read_excel('additional_topic_words.xlsx')"
      ],
      "metadata": {
        "id": "v6bZ2O7gIZBD"
      },
      "execution_count": null,
      "outputs": []
    },
    {
      "cell_type": "code",
      "source": [
        "additional_topic_words_v1['version'] = 'v1'\n",
        "additional_topic_words_v2['version'] = 'v2'\n",
        "\n",
        "add_topic_words_merge = pd.merge( additional_topic_words_v1, additional_topic_words_v2, how=\"outer\", on=[\"n_grams\", \"topic\"])"
      ],
      "metadata": {
        "id": "0Sng_9ZXIyBA"
      },
      "execution_count": null,
      "outputs": []
    },
    {
      "cell_type": "code",
      "source": [
        "add_topic_words_merge = add_topic_words_merge[['n_grams', 'topic', 'FINAL', 'version_x', 'version_y']]"
      ],
      "metadata": {
        "id": "9CmxVQ8uI8n-"
      },
      "execution_count": null,
      "outputs": []
    },
    {
      "cell_type": "code",
      "source": [
        "add_topic_words_merge.to_excel('Topic_words_review1_v1_v2_diff.xlsx')\n"
      ],
      "metadata": {
        "id": "td-FXK8tJdrW"
      },
      "execution_count": null,
      "outputs": []
    },
    {
      "cell_type": "code",
      "source": [
        "#add_topic_words_merge_NA = add_topic_words_merge[ (add_topic_words_merge['version_x'].isnull()) | (add_topic_words_merge['version_y'].isnull()) ]\n"
      ],
      "metadata": {
        "id": "9SL8C72nJTFb"
      },
      "execution_count": null,
      "outputs": []
    },
    {
      "cell_type": "markdown",
      "source": [
        "### final list prep"
      ],
      "metadata": {
        "id": "WhN88B4bG-L4"
      }
    },
    {
      "cell_type": "code",
      "source": [
        "add_words = pd.read_excel(\"/content/drive/MyDrive/Georgia/Topic Dictionaries/Topic_words_review1_v1_v2_diff.xlsx\")"
      ],
      "metadata": {
        "id": "qAyonRI6Q8Ie"
      },
      "execution_count": null,
      "outputs": []
    },
    {
      "cell_type": "code",
      "source": [
        "topics_R1 = topics_st[topics_st['word_star'] == 0]\n",
        "topics_R1 = topics_R1[['topic', 'word_lemma']]"
      ],
      "metadata": {
        "id": "tA0GH_PDMMrz"
      },
      "execution_count": null,
      "outputs": []
    },
    {
      "cell_type": "code",
      "source": [
        "topics_add = add_words[add_words['FINAL2'] == 1]\n",
        "topics_add = topics_add[['topic', 'n_grams']]\n",
        "topics_add.rename(columns={'n_grams': 'word_lemma'}, inplace=True)\n"
      ],
      "metadata": {
        "id": "_BbWjwacM2FE"
      },
      "execution_count": null,
      "outputs": []
    },
    {
      "cell_type": "code",
      "source": [
        "topic_final = pd.concat([topics_R1, topics_add])"
      ],
      "metadata": {
        "id": "YX4RV-36NCP1"
      },
      "execution_count": null,
      "outputs": []
    },
    {
      "cell_type": "code",
      "source": [
        "topic_final = topic_final.drop_duplicates()"
      ],
      "metadata": {
        "id": "ByBnKmEpNwbW"
      },
      "execution_count": null,
      "outputs": []
    },
    {
      "cell_type": "code",
      "source": [
        "topic_final"
      ],
      "metadata": {
        "colab": {
          "base_uri": "https://localhost:8080/",
          "height": 424
        },
        "id": "8cNrFSYagZWL",
        "outputId": "43088576-cc1e-47ca-a414-e064d3b5fdb7"
      },
      "execution_count": null,
      "outputs": [
        {
          "output_type": "execute_result",
          "data": {
            "text/plain": [
              "                  topic         word_lemma\n",
              "0             Inflation          cost live\n",
              "1             Inflation          inflation\n",
              "3             Inflation             afford\n",
              "4             Inflation      affordability\n",
              "5             Inflation         affordable\n",
              "...                 ...                ...\n",
              "2848  Racial inequality           minority\n",
              "2858  Racial inequality  nondiscrimination\n",
              "2882  Racial inequality             stigma\n",
              "2890  Racial inequality         stigmatize\n",
              "2896  Racial inequality      unarmed black\n",
              "\n",
              "[575 rows x 2 columns]"
            ],
            "text/html": [
              "\n",
              "  <div id=\"df-102e065d-7895-41e4-bdd3-94fa5de3c0b6\">\n",
              "    <div class=\"colab-df-container\">\n",
              "      <div>\n",
              "<style scoped>\n",
              "    .dataframe tbody tr th:only-of-type {\n",
              "        vertical-align: middle;\n",
              "    }\n",
              "\n",
              "    .dataframe tbody tr th {\n",
              "        vertical-align: top;\n",
              "    }\n",
              "\n",
              "    .dataframe thead th {\n",
              "        text-align: right;\n",
              "    }\n",
              "</style>\n",
              "<table border=\"1\" class=\"dataframe\">\n",
              "  <thead>\n",
              "    <tr style=\"text-align: right;\">\n",
              "      <th></th>\n",
              "      <th>topic</th>\n",
              "      <th>word_lemma</th>\n",
              "    </tr>\n",
              "  </thead>\n",
              "  <tbody>\n",
              "    <tr>\n",
              "      <th>0</th>\n",
              "      <td>Inflation</td>\n",
              "      <td>cost live</td>\n",
              "    </tr>\n",
              "    <tr>\n",
              "      <th>1</th>\n",
              "      <td>Inflation</td>\n",
              "      <td>inflation</td>\n",
              "    </tr>\n",
              "    <tr>\n",
              "      <th>3</th>\n",
              "      <td>Inflation</td>\n",
              "      <td>afford</td>\n",
              "    </tr>\n",
              "    <tr>\n",
              "      <th>4</th>\n",
              "      <td>Inflation</td>\n",
              "      <td>affordability</td>\n",
              "    </tr>\n",
              "    <tr>\n",
              "      <th>5</th>\n",
              "      <td>Inflation</td>\n",
              "      <td>affordable</td>\n",
              "    </tr>\n",
              "    <tr>\n",
              "      <th>...</th>\n",
              "      <td>...</td>\n",
              "      <td>...</td>\n",
              "    </tr>\n",
              "    <tr>\n",
              "      <th>2848</th>\n",
              "      <td>Racial inequality</td>\n",
              "      <td>minority</td>\n",
              "    </tr>\n",
              "    <tr>\n",
              "      <th>2858</th>\n",
              "      <td>Racial inequality</td>\n",
              "      <td>nondiscrimination</td>\n",
              "    </tr>\n",
              "    <tr>\n",
              "      <th>2882</th>\n",
              "      <td>Racial inequality</td>\n",
              "      <td>stigma</td>\n",
              "    </tr>\n",
              "    <tr>\n",
              "      <th>2890</th>\n",
              "      <td>Racial inequality</td>\n",
              "      <td>stigmatize</td>\n",
              "    </tr>\n",
              "    <tr>\n",
              "      <th>2896</th>\n",
              "      <td>Racial inequality</td>\n",
              "      <td>unarmed black</td>\n",
              "    </tr>\n",
              "  </tbody>\n",
              "</table>\n",
              "<p>575 rows × 2 columns</p>\n",
              "</div>\n",
              "      <button class=\"colab-df-convert\" onclick=\"convertToInteractive('df-102e065d-7895-41e4-bdd3-94fa5de3c0b6')\"\n",
              "              title=\"Convert this dataframe to an interactive table.\"\n",
              "              style=\"display:none;\">\n",
              "        \n",
              "  <svg xmlns=\"http://www.w3.org/2000/svg\" height=\"24px\"viewBox=\"0 0 24 24\"\n",
              "       width=\"24px\">\n",
              "    <path d=\"M0 0h24v24H0V0z\" fill=\"none\"/>\n",
              "    <path d=\"M18.56 5.44l.94 2.06.94-2.06 2.06-.94-2.06-.94-.94-2.06-.94 2.06-2.06.94zm-11 1L8.5 8.5l.94-2.06 2.06-.94-2.06-.94L8.5 2.5l-.94 2.06-2.06.94zm10 10l.94 2.06.94-2.06 2.06-.94-2.06-.94-.94-2.06-.94 2.06-2.06.94z\"/><path d=\"M17.41 7.96l-1.37-1.37c-.4-.4-.92-.59-1.43-.59-.52 0-1.04.2-1.43.59L10.3 9.45l-7.72 7.72c-.78.78-.78 2.05 0 2.83L4 21.41c.39.39.9.59 1.41.59.51 0 1.02-.2 1.41-.59l7.78-7.78 2.81-2.81c.8-.78.8-2.07 0-2.86zM5.41 20L4 18.59l7.72-7.72 1.47 1.35L5.41 20z\"/>\n",
              "  </svg>\n",
              "      </button>\n",
              "      \n",
              "  <style>\n",
              "    .colab-df-container {\n",
              "      display:flex;\n",
              "      flex-wrap:wrap;\n",
              "      gap: 12px;\n",
              "    }\n",
              "\n",
              "    .colab-df-convert {\n",
              "      background-color: #E8F0FE;\n",
              "      border: none;\n",
              "      border-radius: 50%;\n",
              "      cursor: pointer;\n",
              "      display: none;\n",
              "      fill: #1967D2;\n",
              "      height: 32px;\n",
              "      padding: 0 0 0 0;\n",
              "      width: 32px;\n",
              "    }\n",
              "\n",
              "    .colab-df-convert:hover {\n",
              "      background-color: #E2EBFA;\n",
              "      box-shadow: 0px 1px 2px rgba(60, 64, 67, 0.3), 0px 1px 3px 1px rgba(60, 64, 67, 0.15);\n",
              "      fill: #174EA6;\n",
              "    }\n",
              "\n",
              "    [theme=dark] .colab-df-convert {\n",
              "      background-color: #3B4455;\n",
              "      fill: #D2E3FC;\n",
              "    }\n",
              "\n",
              "    [theme=dark] .colab-df-convert:hover {\n",
              "      background-color: #434B5C;\n",
              "      box-shadow: 0px 1px 3px 1px rgba(0, 0, 0, 0.15);\n",
              "      filter: drop-shadow(0px 1px 2px rgba(0, 0, 0, 0.3));\n",
              "      fill: #FFFFFF;\n",
              "    }\n",
              "  </style>\n",
              "\n",
              "      <script>\n",
              "        const buttonEl =\n",
              "          document.querySelector('#df-102e065d-7895-41e4-bdd3-94fa5de3c0b6 button.colab-df-convert');\n",
              "        buttonEl.style.display =\n",
              "          google.colab.kernel.accessAllowed ? 'block' : 'none';\n",
              "\n",
              "        async function convertToInteractive(key) {\n",
              "          const element = document.querySelector('#df-102e065d-7895-41e4-bdd3-94fa5de3c0b6');\n",
              "          const dataTable =\n",
              "            await google.colab.kernel.invokeFunction('convertToInteractive',\n",
              "                                                     [key], {});\n",
              "          if (!dataTable) return;\n",
              "\n",
              "          const docLinkHtml = 'Like what you see? Visit the ' +\n",
              "            '<a target=\"_blank\" href=https://colab.research.google.com/notebooks/data_table.ipynb>data table notebook</a>'\n",
              "            + ' to learn more about interactive tables.';\n",
              "          element.innerHTML = '';\n",
              "          dataTable['output_type'] = 'display_data';\n",
              "          await google.colab.output.renderOutput(dataTable, element);\n",
              "          const docLink = document.createElement('div');\n",
              "          docLink.innerHTML = docLinkHtml;\n",
              "          element.appendChild(docLink);\n",
              "        }\n",
              "      </script>\n",
              "    </div>\n",
              "  </div>\n",
              "  "
            ]
          },
          "metadata": {},
          "execution_count": 75
        }
      ]
    },
    {
      "cell_type": "markdown",
      "source": [
        "## topic words similarity"
      ],
      "metadata": {
        "id": "qi6QX_OVMGSj"
      }
    },
    {
      "cell_type": "code",
      "source": [
        "%cd /content/drive/MyDrive/Georgia/Topic Dictionaries\n",
        "\n",
        "import gensim\n",
        "\n",
        "article_model_bigram = gensim.models.Word2Vec.load(\"Georgia_language_lemma_num10_v2\")\n"
      ],
      "metadata": {
        "id": "SBEInW-dwVbg"
      },
      "execution_count": null,
      "outputs": []
    },
    {
      "cell_type": "code",
      "source": [
        "topic_dictionary = list(set(topic_final.word_lemma.tolist()))"
      ],
      "metadata": {
        "id": "F2_X1utJUXtY"
      },
      "execution_count": null,
      "outputs": []
    },
    {
      "cell_type": "code",
      "source": [
        "## update this code to create a dataset with topic words; do it again among the lsd words\n",
        "\n",
        "word_list_scores = []\n",
        "\n",
        "for topic_word in topic_dictionary:\n",
        "  try:\n",
        "    word_list_scores.append( (topic_word, article_model_bigram.wv.most_similar(topic_word, topn=10)) )\n",
        "  except KeyError:\n",
        "    word_list_scores.append( (topic_word, 'NA') )"
      ],
      "metadata": {
        "id": "P2WbrRAWU6MJ"
      },
      "execution_count": null,
      "outputs": []
    },
    {
      "cell_type": "code",
      "source": [
        "df_test = pd.DataFrame ( word_list_scores )\n"
      ],
      "metadata": {
        "id": "XzNa2aekVHTI"
      },
      "execution_count": null,
      "outputs": []
    },
    {
      "cell_type": "code",
      "source": [
        "df_test.rename(columns={0: 'word_lemma', 1: 'similar_words'}, inplace=True)\n",
        "\n",
        "df_text_spread = df_test.explode('similar_words')"
      ],
      "metadata": {
        "id": "GlTr1vGsRaCT"
      },
      "execution_count": null,
      "outputs": []
    },
    {
      "cell_type": "code",
      "source": [
        "# df_text_spread_NA = df_text_spread[df_text_spread['similar_words']=='NA']\n",
        "# df_text_spread_NA.to_excel('FINA_topic_words_not_include_review.xlsx')"
      ],
      "metadata": {
        "id": "Dyxvej7kXSWE"
      },
      "execution_count": null,
      "outputs": []
    },
    {
      "cell_type": "code",
      "source": [
        "df_text_spread = df_text_spread[df_text_spread['similar_words']!='NA']\n",
        "df_text_spread['similar_word'], df_text_spread['similarity'] = df_text_spread.similar_words.str[0], df_text_spread.similar_words.str[1]\n",
        "df_text_spread = df_text_spread.drop('similar_words', axis=1)"
      ],
      "metadata": {
        "colab": {
          "base_uri": "https://localhost:8080/"
        },
        "id": "QF57ZiFxT2iq",
        "outputId": "cc31efaf-183d-4104-f4b4-24ad4b91fea7"
      },
      "execution_count": null,
      "outputs": [
        {
          "output_type": "stream",
          "name": "stderr",
          "text": [
            "<ipython-input-80-b3f5d5179380>:2: SettingWithCopyWarning: \n",
            "A value is trying to be set on a copy of a slice from a DataFrame.\n",
            "Try using .loc[row_indexer,col_indexer] = value instead\n",
            "\n",
            "See the caveats in the documentation: https://pandas.pydata.org/pandas-docs/stable/user_guide/indexing.html#returning-a-view-versus-a-copy\n",
            "  df_text_spread['similar_word'], df_text_spread['similarity'] = df_text_spread.similar_words.str[0], df_text_spread.similar_words.str[1]\n"
          ]
        }
      ]
    },
    {
      "cell_type": "code",
      "source": [
        "df_text_spread_merge = pd.merge(df_text_spread, topic_final, how='left', on='word_lemma')"
      ],
      "metadata": {
        "id": "SG_AhCT3VpGO"
      },
      "execution_count": null,
      "outputs": []
    },
    {
      "cell_type": "code",
      "source": [
        "# those with higher than 0.7 similarity\n",
        "\n",
        "df_test_sim07 = df_text_spread_merge[ df_text_spread_merge['similarity'] > 0.7  ]"
      ],
      "metadata": {
        "id": "5we-KjteYNv3"
      },
      "execution_count": null,
      "outputs": []
    },
    {
      "cell_type": "code",
      "source": [
        "# 4681 previous\n",
        "# 4391 current"
      ],
      "metadata": {
        "id": "bL1wgQttginZ"
      },
      "execution_count": null,
      "outputs": []
    },
    {
      "cell_type": "code",
      "source": [
        "df_test_sim07 # 4681"
      ],
      "metadata": {
        "colab": {
          "base_uri": "https://localhost:8080/",
          "height": 424
        },
        "id": "e_8iE0h_brGk",
        "outputId": "04b9ee8a-ee99-4bbc-f8e4-2afc3c2c4a0b"
      },
      "execution_count": null,
      "outputs": [
        {
          "output_type": "execute_result",
          "data": {
            "text/plain": [
              "     word_lemma     similar_word  similarity           topic\n",
              "10      recycle          compost    0.844696  Climate change\n",
              "11      recycle         reusable    0.805904  Climate change\n",
              "12      recycle        container    0.798560  Climate change\n",
              "13      recycle            reuse    0.794733  Climate change\n",
              "14      recycle       recyclable    0.794667  Climate change\n",
              "...         ...              ...         ...             ...\n",
              "5105     salary  retention bonus    0.715568  Economy / Jobs\n",
              "5106     salary             wage    0.714138  Economy / Jobs\n",
              "5107     salary          pension    0.713663  Economy / Jobs\n",
              "5108     salary          earning    0.710439  Economy / Jobs\n",
              "5109     salary          payroll    0.707564  Economy / Jobs\n",
              "\n",
              "[4391 rows x 4 columns]"
            ],
            "text/html": [
              "\n",
              "  <div id=\"df-82c6d5b7-7109-4914-8534-22ee2a1745ca\">\n",
              "    <div class=\"colab-df-container\">\n",
              "      <div>\n",
              "<style scoped>\n",
              "    .dataframe tbody tr th:only-of-type {\n",
              "        vertical-align: middle;\n",
              "    }\n",
              "\n",
              "    .dataframe tbody tr th {\n",
              "        vertical-align: top;\n",
              "    }\n",
              "\n",
              "    .dataframe thead th {\n",
              "        text-align: right;\n",
              "    }\n",
              "</style>\n",
              "<table border=\"1\" class=\"dataframe\">\n",
              "  <thead>\n",
              "    <tr style=\"text-align: right;\">\n",
              "      <th></th>\n",
              "      <th>word_lemma</th>\n",
              "      <th>similar_word</th>\n",
              "      <th>similarity</th>\n",
              "      <th>topic</th>\n",
              "    </tr>\n",
              "  </thead>\n",
              "  <tbody>\n",
              "    <tr>\n",
              "      <th>10</th>\n",
              "      <td>recycle</td>\n",
              "      <td>compost</td>\n",
              "      <td>0.844696</td>\n",
              "      <td>Climate change</td>\n",
              "    </tr>\n",
              "    <tr>\n",
              "      <th>11</th>\n",
              "      <td>recycle</td>\n",
              "      <td>reusable</td>\n",
              "      <td>0.805904</td>\n",
              "      <td>Climate change</td>\n",
              "    </tr>\n",
              "    <tr>\n",
              "      <th>12</th>\n",
              "      <td>recycle</td>\n",
              "      <td>container</td>\n",
              "      <td>0.798560</td>\n",
              "      <td>Climate change</td>\n",
              "    </tr>\n",
              "    <tr>\n",
              "      <th>13</th>\n",
              "      <td>recycle</td>\n",
              "      <td>reuse</td>\n",
              "      <td>0.794733</td>\n",
              "      <td>Climate change</td>\n",
              "    </tr>\n",
              "    <tr>\n",
              "      <th>14</th>\n",
              "      <td>recycle</td>\n",
              "      <td>recyclable</td>\n",
              "      <td>0.794667</td>\n",
              "      <td>Climate change</td>\n",
              "    </tr>\n",
              "    <tr>\n",
              "      <th>...</th>\n",
              "      <td>...</td>\n",
              "      <td>...</td>\n",
              "      <td>...</td>\n",
              "      <td>...</td>\n",
              "    </tr>\n",
              "    <tr>\n",
              "      <th>5105</th>\n",
              "      <td>salary</td>\n",
              "      <td>retention bonus</td>\n",
              "      <td>0.715568</td>\n",
              "      <td>Economy / Jobs</td>\n",
              "    </tr>\n",
              "    <tr>\n",
              "      <th>5106</th>\n",
              "      <td>salary</td>\n",
              "      <td>wage</td>\n",
              "      <td>0.714138</td>\n",
              "      <td>Economy / Jobs</td>\n",
              "    </tr>\n",
              "    <tr>\n",
              "      <th>5107</th>\n",
              "      <td>salary</td>\n",
              "      <td>pension</td>\n",
              "      <td>0.713663</td>\n",
              "      <td>Economy / Jobs</td>\n",
              "    </tr>\n",
              "    <tr>\n",
              "      <th>5108</th>\n",
              "      <td>salary</td>\n",
              "      <td>earning</td>\n",
              "      <td>0.710439</td>\n",
              "      <td>Economy / Jobs</td>\n",
              "    </tr>\n",
              "    <tr>\n",
              "      <th>5109</th>\n",
              "      <td>salary</td>\n",
              "      <td>payroll</td>\n",
              "      <td>0.707564</td>\n",
              "      <td>Economy / Jobs</td>\n",
              "    </tr>\n",
              "  </tbody>\n",
              "</table>\n",
              "<p>4391 rows × 4 columns</p>\n",
              "</div>\n",
              "      <button class=\"colab-df-convert\" onclick=\"convertToInteractive('df-82c6d5b7-7109-4914-8534-22ee2a1745ca')\"\n",
              "              title=\"Convert this dataframe to an interactive table.\"\n",
              "              style=\"display:none;\">\n",
              "        \n",
              "  <svg xmlns=\"http://www.w3.org/2000/svg\" height=\"24px\"viewBox=\"0 0 24 24\"\n",
              "       width=\"24px\">\n",
              "    <path d=\"M0 0h24v24H0V0z\" fill=\"none\"/>\n",
              "    <path d=\"M18.56 5.44l.94 2.06.94-2.06 2.06-.94-2.06-.94-.94-2.06-.94 2.06-2.06.94zm-11 1L8.5 8.5l.94-2.06 2.06-.94-2.06-.94L8.5 2.5l-.94 2.06-2.06.94zm10 10l.94 2.06.94-2.06 2.06-.94-2.06-.94-.94-2.06-.94 2.06-2.06.94z\"/><path d=\"M17.41 7.96l-1.37-1.37c-.4-.4-.92-.59-1.43-.59-.52 0-1.04.2-1.43.59L10.3 9.45l-7.72 7.72c-.78.78-.78 2.05 0 2.83L4 21.41c.39.39.9.59 1.41.59.51 0 1.02-.2 1.41-.59l7.78-7.78 2.81-2.81c.8-.78.8-2.07 0-2.86zM5.41 20L4 18.59l7.72-7.72 1.47 1.35L5.41 20z\"/>\n",
              "  </svg>\n",
              "      </button>\n",
              "      \n",
              "  <style>\n",
              "    .colab-df-container {\n",
              "      display:flex;\n",
              "      flex-wrap:wrap;\n",
              "      gap: 12px;\n",
              "    }\n",
              "\n",
              "    .colab-df-convert {\n",
              "      background-color: #E8F0FE;\n",
              "      border: none;\n",
              "      border-radius: 50%;\n",
              "      cursor: pointer;\n",
              "      display: none;\n",
              "      fill: #1967D2;\n",
              "      height: 32px;\n",
              "      padding: 0 0 0 0;\n",
              "      width: 32px;\n",
              "    }\n",
              "\n",
              "    .colab-df-convert:hover {\n",
              "      background-color: #E2EBFA;\n",
              "      box-shadow: 0px 1px 2px rgba(60, 64, 67, 0.3), 0px 1px 3px 1px rgba(60, 64, 67, 0.15);\n",
              "      fill: #174EA6;\n",
              "    }\n",
              "\n",
              "    [theme=dark] .colab-df-convert {\n",
              "      background-color: #3B4455;\n",
              "      fill: #D2E3FC;\n",
              "    }\n",
              "\n",
              "    [theme=dark] .colab-df-convert:hover {\n",
              "      background-color: #434B5C;\n",
              "      box-shadow: 0px 1px 3px 1px rgba(0, 0, 0, 0.15);\n",
              "      filter: drop-shadow(0px 1px 2px rgba(0, 0, 0, 0.3));\n",
              "      fill: #FFFFFF;\n",
              "    }\n",
              "  </style>\n",
              "\n",
              "      <script>\n",
              "        const buttonEl =\n",
              "          document.querySelector('#df-82c6d5b7-7109-4914-8534-22ee2a1745ca button.colab-df-convert');\n",
              "        buttonEl.style.display =\n",
              "          google.colab.kernel.accessAllowed ? 'block' : 'none';\n",
              "\n",
              "        async function convertToInteractive(key) {\n",
              "          const element = document.querySelector('#df-82c6d5b7-7109-4914-8534-22ee2a1745ca');\n",
              "          const dataTable =\n",
              "            await google.colab.kernel.invokeFunction('convertToInteractive',\n",
              "                                                     [key], {});\n",
              "          if (!dataTable) return;\n",
              "\n",
              "          const docLinkHtml = 'Like what you see? Visit the ' +\n",
              "            '<a target=\"_blank\" href=https://colab.research.google.com/notebooks/data_table.ipynb>data table notebook</a>'\n",
              "            + ' to learn more about interactive tables.';\n",
              "          element.innerHTML = '';\n",
              "          dataTable['output_type'] = 'display_data';\n",
              "          await google.colab.output.renderOutput(dataTable, element);\n",
              "          const docLink = document.createElement('div');\n",
              "          docLink.innerHTML = docLinkHtml;\n",
              "          element.appendChild(docLink);\n",
              "        }\n",
              "      </script>\n",
              "    </div>\n",
              "  </div>\n",
              "  "
            ]
          },
          "metadata": {},
          "execution_count": 83
        }
      ]
    },
    {
      "cell_type": "code",
      "source": [
        "df_test_sim07_black = df_test_sim07[df_test_sim07['word_lemma']=='black']\n",
        "df_test_sim07_black"
      ],
      "metadata": {
        "colab": {
          "base_uri": "https://localhost:8080/",
          "height": 112
        },
        "id": "7M0jSew9dnkH",
        "outputId": "d6a06ac3-29c4-464c-ff83-4180b1878081"
      },
      "execution_count": null,
      "outputs": [
        {
          "output_type": "execute_result",
          "data": {
            "text/plain": [
              "     word_lemma similar_word  similarity              topic\n",
              "4420      black        white    0.844675  Racial inequality\n",
              "4421      black        color    0.715145  Racial inequality"
            ],
            "text/html": [
              "\n",
              "  <div id=\"df-3e1a6396-d65a-4cf4-9b80-076aa268d79f\">\n",
              "    <div class=\"colab-df-container\">\n",
              "      <div>\n",
              "<style scoped>\n",
              "    .dataframe tbody tr th:only-of-type {\n",
              "        vertical-align: middle;\n",
              "    }\n",
              "\n",
              "    .dataframe tbody tr th {\n",
              "        vertical-align: top;\n",
              "    }\n",
              "\n",
              "    .dataframe thead th {\n",
              "        text-align: right;\n",
              "    }\n",
              "</style>\n",
              "<table border=\"1\" class=\"dataframe\">\n",
              "  <thead>\n",
              "    <tr style=\"text-align: right;\">\n",
              "      <th></th>\n",
              "      <th>word_lemma</th>\n",
              "      <th>similar_word</th>\n",
              "      <th>similarity</th>\n",
              "      <th>topic</th>\n",
              "    </tr>\n",
              "  </thead>\n",
              "  <tbody>\n",
              "    <tr>\n",
              "      <th>4420</th>\n",
              "      <td>black</td>\n",
              "      <td>white</td>\n",
              "      <td>0.844675</td>\n",
              "      <td>Racial inequality</td>\n",
              "    </tr>\n",
              "    <tr>\n",
              "      <th>4421</th>\n",
              "      <td>black</td>\n",
              "      <td>color</td>\n",
              "      <td>0.715145</td>\n",
              "      <td>Racial inequality</td>\n",
              "    </tr>\n",
              "  </tbody>\n",
              "</table>\n",
              "</div>\n",
              "      <button class=\"colab-df-convert\" onclick=\"convertToInteractive('df-3e1a6396-d65a-4cf4-9b80-076aa268d79f')\"\n",
              "              title=\"Convert this dataframe to an interactive table.\"\n",
              "              style=\"display:none;\">\n",
              "        \n",
              "  <svg xmlns=\"http://www.w3.org/2000/svg\" height=\"24px\"viewBox=\"0 0 24 24\"\n",
              "       width=\"24px\">\n",
              "    <path d=\"M0 0h24v24H0V0z\" fill=\"none\"/>\n",
              "    <path d=\"M18.56 5.44l.94 2.06.94-2.06 2.06-.94-2.06-.94-.94-2.06-.94 2.06-2.06.94zm-11 1L8.5 8.5l.94-2.06 2.06-.94-2.06-.94L8.5 2.5l-.94 2.06-2.06.94zm10 10l.94 2.06.94-2.06 2.06-.94-2.06-.94-.94-2.06-.94 2.06-2.06.94z\"/><path d=\"M17.41 7.96l-1.37-1.37c-.4-.4-.92-.59-1.43-.59-.52 0-1.04.2-1.43.59L10.3 9.45l-7.72 7.72c-.78.78-.78 2.05 0 2.83L4 21.41c.39.39.9.59 1.41.59.51 0 1.02-.2 1.41-.59l7.78-7.78 2.81-2.81c.8-.78.8-2.07 0-2.86zM5.41 20L4 18.59l7.72-7.72 1.47 1.35L5.41 20z\"/>\n",
              "  </svg>\n",
              "      </button>\n",
              "      \n",
              "  <style>\n",
              "    .colab-df-container {\n",
              "      display:flex;\n",
              "      flex-wrap:wrap;\n",
              "      gap: 12px;\n",
              "    }\n",
              "\n",
              "    .colab-df-convert {\n",
              "      background-color: #E8F0FE;\n",
              "      border: none;\n",
              "      border-radius: 50%;\n",
              "      cursor: pointer;\n",
              "      display: none;\n",
              "      fill: #1967D2;\n",
              "      height: 32px;\n",
              "      padding: 0 0 0 0;\n",
              "      width: 32px;\n",
              "    }\n",
              "\n",
              "    .colab-df-convert:hover {\n",
              "      background-color: #E2EBFA;\n",
              "      box-shadow: 0px 1px 2px rgba(60, 64, 67, 0.3), 0px 1px 3px 1px rgba(60, 64, 67, 0.15);\n",
              "      fill: #174EA6;\n",
              "    }\n",
              "\n",
              "    [theme=dark] .colab-df-convert {\n",
              "      background-color: #3B4455;\n",
              "      fill: #D2E3FC;\n",
              "    }\n",
              "\n",
              "    [theme=dark] .colab-df-convert:hover {\n",
              "      background-color: #434B5C;\n",
              "      box-shadow: 0px 1px 3px 1px rgba(0, 0, 0, 0.15);\n",
              "      filter: drop-shadow(0px 1px 2px rgba(0, 0, 0, 0.3));\n",
              "      fill: #FFFFFF;\n",
              "    }\n",
              "  </style>\n",
              "\n",
              "      <script>\n",
              "        const buttonEl =\n",
              "          document.querySelector('#df-3e1a6396-d65a-4cf4-9b80-076aa268d79f button.colab-df-convert');\n",
              "        buttonEl.style.display =\n",
              "          google.colab.kernel.accessAllowed ? 'block' : 'none';\n",
              "\n",
              "        async function convertToInteractive(key) {\n",
              "          const element = document.querySelector('#df-3e1a6396-d65a-4cf4-9b80-076aa268d79f');\n",
              "          const dataTable =\n",
              "            await google.colab.kernel.invokeFunction('convertToInteractive',\n",
              "                                                     [key], {});\n",
              "          if (!dataTable) return;\n",
              "\n",
              "          const docLinkHtml = 'Like what you see? Visit the ' +\n",
              "            '<a target=\"_blank\" href=https://colab.research.google.com/notebooks/data_table.ipynb>data table notebook</a>'\n",
              "            + ' to learn more about interactive tables.';\n",
              "          element.innerHTML = '';\n",
              "          dataTable['output_type'] = 'display_data';\n",
              "          await google.colab.output.renderOutput(dataTable, element);\n",
              "          const docLink = document.createElement('div');\n",
              "          docLink.innerHTML = docLinkHtml;\n",
              "          element.appendChild(docLink);\n",
              "        }\n",
              "      </script>\n",
              "    </div>\n",
              "  </div>\n",
              "  "
            ]
          },
          "metadata": {},
          "execution_count": 84
        }
      ]
    },
    {
      "cell_type": "code",
      "source": [
        "df_test_sim07_nondup = df_test_sim07[['similar_word', 'topic']].drop_duplicates()"
      ],
      "metadata": {
        "id": "3L6DTlDPYdWD"
      },
      "execution_count": null,
      "outputs": []
    },
    {
      "cell_type": "code",
      "source": [
        "df_test_sim07_nondup = df_test_sim07.drop_duplicates(subset=['similar_word', 'topic'])"
      ],
      "metadata": {
        "id": "AHVaXR0Ee1wV"
      },
      "execution_count": null,
      "outputs": []
    },
    {
      "cell_type": "code",
      "source": [
        "df_test_sim07_nondup # 3289 non-duplicates --> 3145"
      ],
      "metadata": {
        "colab": {
          "base_uri": "https://localhost:8080/",
          "height": 424
        },
        "id": "Lv4tRhMsbfAq",
        "outputId": "3b552cb5-6c81-499b-9be8-8cfd706b61ce"
      },
      "execution_count": null,
      "outputs": [
        {
          "output_type": "execute_result",
          "data": {
            "text/plain": [
              "      word_lemma       similar_word  similarity           topic\n",
              "10       recycle            compost    0.844696  Climate change\n",
              "11       recycle           reusable    0.805904  Climate change\n",
              "12       recycle          container    0.798560  Climate change\n",
              "13       recycle              reuse    0.794733  Climate change\n",
              "14       recycle         recyclable    0.794667  Climate change\n",
              "...          ...                ...         ...             ...\n",
              "5095  vaccinated         prevalence    0.778021        COVID-19\n",
              "5096  vaccinated     severe illness    0.774695        COVID-19\n",
              "5097  vaccinated        virus cause    0.773555        COVID-19\n",
              "5098  vaccinated  syndrome mutation    0.771601        COVID-19\n",
              "5105      salary    retention bonus    0.715568  Economy / Jobs\n",
              "\n",
              "[3145 rows x 4 columns]"
            ],
            "text/html": [
              "\n",
              "  <div id=\"df-9a5fd4b5-5e68-4e9e-906a-fa0710165b68\">\n",
              "    <div class=\"colab-df-container\">\n",
              "      <div>\n",
              "<style scoped>\n",
              "    .dataframe tbody tr th:only-of-type {\n",
              "        vertical-align: middle;\n",
              "    }\n",
              "\n",
              "    .dataframe tbody tr th {\n",
              "        vertical-align: top;\n",
              "    }\n",
              "\n",
              "    .dataframe thead th {\n",
              "        text-align: right;\n",
              "    }\n",
              "</style>\n",
              "<table border=\"1\" class=\"dataframe\">\n",
              "  <thead>\n",
              "    <tr style=\"text-align: right;\">\n",
              "      <th></th>\n",
              "      <th>word_lemma</th>\n",
              "      <th>similar_word</th>\n",
              "      <th>similarity</th>\n",
              "      <th>topic</th>\n",
              "    </tr>\n",
              "  </thead>\n",
              "  <tbody>\n",
              "    <tr>\n",
              "      <th>10</th>\n",
              "      <td>recycle</td>\n",
              "      <td>compost</td>\n",
              "      <td>0.844696</td>\n",
              "      <td>Climate change</td>\n",
              "    </tr>\n",
              "    <tr>\n",
              "      <th>11</th>\n",
              "      <td>recycle</td>\n",
              "      <td>reusable</td>\n",
              "      <td>0.805904</td>\n",
              "      <td>Climate change</td>\n",
              "    </tr>\n",
              "    <tr>\n",
              "      <th>12</th>\n",
              "      <td>recycle</td>\n",
              "      <td>container</td>\n",
              "      <td>0.798560</td>\n",
              "      <td>Climate change</td>\n",
              "    </tr>\n",
              "    <tr>\n",
              "      <th>13</th>\n",
              "      <td>recycle</td>\n",
              "      <td>reuse</td>\n",
              "      <td>0.794733</td>\n",
              "      <td>Climate change</td>\n",
              "    </tr>\n",
              "    <tr>\n",
              "      <th>14</th>\n",
              "      <td>recycle</td>\n",
              "      <td>recyclable</td>\n",
              "      <td>0.794667</td>\n",
              "      <td>Climate change</td>\n",
              "    </tr>\n",
              "    <tr>\n",
              "      <th>...</th>\n",
              "      <td>...</td>\n",
              "      <td>...</td>\n",
              "      <td>...</td>\n",
              "      <td>...</td>\n",
              "    </tr>\n",
              "    <tr>\n",
              "      <th>5095</th>\n",
              "      <td>vaccinated</td>\n",
              "      <td>prevalence</td>\n",
              "      <td>0.778021</td>\n",
              "      <td>COVID-19</td>\n",
              "    </tr>\n",
              "    <tr>\n",
              "      <th>5096</th>\n",
              "      <td>vaccinated</td>\n",
              "      <td>severe illness</td>\n",
              "      <td>0.774695</td>\n",
              "      <td>COVID-19</td>\n",
              "    </tr>\n",
              "    <tr>\n",
              "      <th>5097</th>\n",
              "      <td>vaccinated</td>\n",
              "      <td>virus cause</td>\n",
              "      <td>0.773555</td>\n",
              "      <td>COVID-19</td>\n",
              "    </tr>\n",
              "    <tr>\n",
              "      <th>5098</th>\n",
              "      <td>vaccinated</td>\n",
              "      <td>syndrome mutation</td>\n",
              "      <td>0.771601</td>\n",
              "      <td>COVID-19</td>\n",
              "    </tr>\n",
              "    <tr>\n",
              "      <th>5105</th>\n",
              "      <td>salary</td>\n",
              "      <td>retention bonus</td>\n",
              "      <td>0.715568</td>\n",
              "      <td>Economy / Jobs</td>\n",
              "    </tr>\n",
              "  </tbody>\n",
              "</table>\n",
              "<p>3145 rows × 4 columns</p>\n",
              "</div>\n",
              "      <button class=\"colab-df-convert\" onclick=\"convertToInteractive('df-9a5fd4b5-5e68-4e9e-906a-fa0710165b68')\"\n",
              "              title=\"Convert this dataframe to an interactive table.\"\n",
              "              style=\"display:none;\">\n",
              "        \n",
              "  <svg xmlns=\"http://www.w3.org/2000/svg\" height=\"24px\"viewBox=\"0 0 24 24\"\n",
              "       width=\"24px\">\n",
              "    <path d=\"M0 0h24v24H0V0z\" fill=\"none\"/>\n",
              "    <path d=\"M18.56 5.44l.94 2.06.94-2.06 2.06-.94-2.06-.94-.94-2.06-.94 2.06-2.06.94zm-11 1L8.5 8.5l.94-2.06 2.06-.94-2.06-.94L8.5 2.5l-.94 2.06-2.06.94zm10 10l.94 2.06.94-2.06 2.06-.94-2.06-.94-.94-2.06-.94 2.06-2.06.94z\"/><path d=\"M17.41 7.96l-1.37-1.37c-.4-.4-.92-.59-1.43-.59-.52 0-1.04.2-1.43.59L10.3 9.45l-7.72 7.72c-.78.78-.78 2.05 0 2.83L4 21.41c.39.39.9.59 1.41.59.51 0 1.02-.2 1.41-.59l7.78-7.78 2.81-2.81c.8-.78.8-2.07 0-2.86zM5.41 20L4 18.59l7.72-7.72 1.47 1.35L5.41 20z\"/>\n",
              "  </svg>\n",
              "      </button>\n",
              "      \n",
              "  <style>\n",
              "    .colab-df-container {\n",
              "      display:flex;\n",
              "      flex-wrap:wrap;\n",
              "      gap: 12px;\n",
              "    }\n",
              "\n",
              "    .colab-df-convert {\n",
              "      background-color: #E8F0FE;\n",
              "      border: none;\n",
              "      border-radius: 50%;\n",
              "      cursor: pointer;\n",
              "      display: none;\n",
              "      fill: #1967D2;\n",
              "      height: 32px;\n",
              "      padding: 0 0 0 0;\n",
              "      width: 32px;\n",
              "    }\n",
              "\n",
              "    .colab-df-convert:hover {\n",
              "      background-color: #E2EBFA;\n",
              "      box-shadow: 0px 1px 2px rgba(60, 64, 67, 0.3), 0px 1px 3px 1px rgba(60, 64, 67, 0.15);\n",
              "      fill: #174EA6;\n",
              "    }\n",
              "\n",
              "    [theme=dark] .colab-df-convert {\n",
              "      background-color: #3B4455;\n",
              "      fill: #D2E3FC;\n",
              "    }\n",
              "\n",
              "    [theme=dark] .colab-df-convert:hover {\n",
              "      background-color: #434B5C;\n",
              "      box-shadow: 0px 1px 3px 1px rgba(0, 0, 0, 0.15);\n",
              "      filter: drop-shadow(0px 1px 2px rgba(0, 0, 0, 0.3));\n",
              "      fill: #FFFFFF;\n",
              "    }\n",
              "  </style>\n",
              "\n",
              "      <script>\n",
              "        const buttonEl =\n",
              "          document.querySelector('#df-9a5fd4b5-5e68-4e9e-906a-fa0710165b68 button.colab-df-convert');\n",
              "        buttonEl.style.display =\n",
              "          google.colab.kernel.accessAllowed ? 'block' : 'none';\n",
              "\n",
              "        async function convertToInteractive(key) {\n",
              "          const element = document.querySelector('#df-9a5fd4b5-5e68-4e9e-906a-fa0710165b68');\n",
              "          const dataTable =\n",
              "            await google.colab.kernel.invokeFunction('convertToInteractive',\n",
              "                                                     [key], {});\n",
              "          if (!dataTable) return;\n",
              "\n",
              "          const docLinkHtml = 'Like what you see? Visit the ' +\n",
              "            '<a target=\"_blank\" href=https://colab.research.google.com/notebooks/data_table.ipynb>data table notebook</a>'\n",
              "            + ' to learn more about interactive tables.';\n",
              "          element.innerHTML = '';\n",
              "          dataTable['output_type'] = 'display_data';\n",
              "          await google.colab.output.renderOutput(dataTable, element);\n",
              "          const docLink = document.createElement('div');\n",
              "          docLink.innerHTML = docLinkHtml;\n",
              "          element.appendChild(docLink);\n",
              "        }\n",
              "      </script>\n",
              "    </div>\n",
              "  </div>\n",
              "  "
            ]
          },
          "metadata": {},
          "execution_count": 87
        }
      ]
    },
    {
      "cell_type": "code",
      "source": [
        "# exclude those from the topic dictionary\n",
        "df_test_sim07_final = df_test_sim07_nondup[~df_test_sim07_nondup['similar_word'].isin(topic_dictionary)]\n"
      ],
      "metadata": {
        "id": "c9XeZHqeZGI8"
      },
      "execution_count": null,
      "outputs": []
    },
    {
      "cell_type": "code",
      "source": [
        "df_test_sim07_final.to_excel('df_test_sim07_top10_no_duplicates2_v2.xlsx')"
      ],
      "metadata": {
        "id": "IgyDqf6JeJ_s"
      },
      "execution_count": null,
      "outputs": []
    },
    {
      "cell_type": "code",
      "source": [
        "df_test_sim07_top10_v1 = pd.read_excel('df_test_sim07_top10_no_duplicates2.xlsx')\n",
        "df_test_sim07_top10_v2 = pd.read_excel('df_test_sim07_top10_no_duplicates2_v2.xlsx')\n",
        "\n"
      ],
      "metadata": {
        "id": "uRw84HixbDey"
      },
      "execution_count": null,
      "outputs": []
    },
    {
      "cell_type": "code",
      "source": [
        "df_test_sim07_top10_v1 = df_test_sim07_top10_v1[['similar_word', 'topic', 'FINAL']]"
      ],
      "metadata": {
        "id": "J4cOkXK2g0d9"
      },
      "execution_count": null,
      "outputs": []
    },
    {
      "cell_type": "code",
      "source": [
        "df_test_sim07_top10_v2 = df_test_sim07_top10_v2[['similar_word', 'topic']]"
      ],
      "metadata": {
        "id": "OzgArSRgg2TW"
      },
      "execution_count": null,
      "outputs": []
    },
    {
      "cell_type": "code",
      "source": [
        "df_test_sim07_top10_v2['version'] = 'v2'"
      ],
      "metadata": {
        "colab": {
          "base_uri": "https://localhost:8080/"
        },
        "id": "LkdsZHTSiM6J",
        "outputId": "65784eeb-5067-4384-ba44-ef5a96760172"
      },
      "execution_count": null,
      "outputs": [
        {
          "output_type": "stream",
          "name": "stderr",
          "text": [
            "<ipython-input-145-1b2dc470a668>:1: SettingWithCopyWarning: \n",
            "A value is trying to be set on a copy of a slice from a DataFrame.\n",
            "Try using .loc[row_indexer,col_indexer] = value instead\n",
            "\n",
            "See the caveats in the documentation: https://pandas.pydata.org/pandas-docs/stable/user_guide/indexing.html#returning-a-view-versus-a-copy\n",
            "  df_test_sim07_top10_v2['version'] = 'v2'\n"
          ]
        }
      ]
    },
    {
      "cell_type": "code",
      "source": [
        "df_sim07_top10_merge = pd.merge( df_test_sim07_top10_v1, df_test_sim07_top10_v2, how=\"outer\", on=[\"similar_word\", \"topic\"])"
      ],
      "metadata": {
        "id": "kUgrCwNghX0t"
      },
      "execution_count": null,
      "outputs": []
    },
    {
      "cell_type": "code",
      "source": [
        "df_sim07_top10_merge[df_sim07_top10_merge['version'].isnull()]"
      ],
      "metadata": {
        "colab": {
          "base_uri": "https://localhost:8080/",
          "height": 424
        },
        "id": "7ZoY7nbShh_S",
        "outputId": "96e2ee97-297e-4507-d564-7e17418fd4af"
      },
      "execution_count": null,
      "outputs": [
        {
          "output_type": "execute_result",
          "data": {
            "text/plain": [
              "           similar_word              topic  FINAL version\n",
              "2             exception           Abortion    0.0     NaN\n",
              "4          conservative           Abortion    0.0     NaN\n",
              "5     expand electorate           Abortion    0.0     NaN\n",
              "6       fellow democrat           Abortion    0.0     NaN\n",
              "7         gop candidate           Abortion    0.0     NaN\n",
              "...                 ...                ...    ...     ...\n",
              "2886               woke  Racial inequality    0.0     NaN\n",
              "2891     court decision      Supreme Court    0.0     NaN\n",
              "2892       court ruling      Supreme Court    0.0     NaN\n",
              "2893               dobb      Supreme Court    0.0     NaN\n",
              "2894            justice      Supreme Court    0.0     NaN\n",
              "\n",
              "[1789 rows x 4 columns]"
            ],
            "text/html": [
              "\n",
              "  <div id=\"df-a6f4c9d1-cdd3-45fe-bdde-16a584effb82\">\n",
              "    <div class=\"colab-df-container\">\n",
              "      <div>\n",
              "<style scoped>\n",
              "    .dataframe tbody tr th:only-of-type {\n",
              "        vertical-align: middle;\n",
              "    }\n",
              "\n",
              "    .dataframe tbody tr th {\n",
              "        vertical-align: top;\n",
              "    }\n",
              "\n",
              "    .dataframe thead th {\n",
              "        text-align: right;\n",
              "    }\n",
              "</style>\n",
              "<table border=\"1\" class=\"dataframe\">\n",
              "  <thead>\n",
              "    <tr style=\"text-align: right;\">\n",
              "      <th></th>\n",
              "      <th>similar_word</th>\n",
              "      <th>topic</th>\n",
              "      <th>FINAL</th>\n",
              "      <th>version</th>\n",
              "    </tr>\n",
              "  </thead>\n",
              "  <tbody>\n",
              "    <tr>\n",
              "      <th>2</th>\n",
              "      <td>exception</td>\n",
              "      <td>Abortion</td>\n",
              "      <td>0.0</td>\n",
              "      <td>NaN</td>\n",
              "    </tr>\n",
              "    <tr>\n",
              "      <th>4</th>\n",
              "      <td>conservative</td>\n",
              "      <td>Abortion</td>\n",
              "      <td>0.0</td>\n",
              "      <td>NaN</td>\n",
              "    </tr>\n",
              "    <tr>\n",
              "      <th>5</th>\n",
              "      <td>expand electorate</td>\n",
              "      <td>Abortion</td>\n",
              "      <td>0.0</td>\n",
              "      <td>NaN</td>\n",
              "    </tr>\n",
              "    <tr>\n",
              "      <th>6</th>\n",
              "      <td>fellow democrat</td>\n",
              "      <td>Abortion</td>\n",
              "      <td>0.0</td>\n",
              "      <td>NaN</td>\n",
              "    </tr>\n",
              "    <tr>\n",
              "      <th>7</th>\n",
              "      <td>gop candidate</td>\n",
              "      <td>Abortion</td>\n",
              "      <td>0.0</td>\n",
              "      <td>NaN</td>\n",
              "    </tr>\n",
              "    <tr>\n",
              "      <th>...</th>\n",
              "      <td>...</td>\n",
              "      <td>...</td>\n",
              "      <td>...</td>\n",
              "      <td>...</td>\n",
              "    </tr>\n",
              "    <tr>\n",
              "      <th>2886</th>\n",
              "      <td>woke</td>\n",
              "      <td>Racial inequality</td>\n",
              "      <td>0.0</td>\n",
              "      <td>NaN</td>\n",
              "    </tr>\n",
              "    <tr>\n",
              "      <th>2891</th>\n",
              "      <td>court decision</td>\n",
              "      <td>Supreme Court</td>\n",
              "      <td>0.0</td>\n",
              "      <td>NaN</td>\n",
              "    </tr>\n",
              "    <tr>\n",
              "      <th>2892</th>\n",
              "      <td>court ruling</td>\n",
              "      <td>Supreme Court</td>\n",
              "      <td>0.0</td>\n",
              "      <td>NaN</td>\n",
              "    </tr>\n",
              "    <tr>\n",
              "      <th>2893</th>\n",
              "      <td>dobb</td>\n",
              "      <td>Supreme Court</td>\n",
              "      <td>0.0</td>\n",
              "      <td>NaN</td>\n",
              "    </tr>\n",
              "    <tr>\n",
              "      <th>2894</th>\n",
              "      <td>justice</td>\n",
              "      <td>Supreme Court</td>\n",
              "      <td>0.0</td>\n",
              "      <td>NaN</td>\n",
              "    </tr>\n",
              "  </tbody>\n",
              "</table>\n",
              "<p>1789 rows × 4 columns</p>\n",
              "</div>\n",
              "      <button class=\"colab-df-convert\" onclick=\"convertToInteractive('df-a6f4c9d1-cdd3-45fe-bdde-16a584effb82')\"\n",
              "              title=\"Convert this dataframe to an interactive table.\"\n",
              "              style=\"display:none;\">\n",
              "        \n",
              "  <svg xmlns=\"http://www.w3.org/2000/svg\" height=\"24px\"viewBox=\"0 0 24 24\"\n",
              "       width=\"24px\">\n",
              "    <path d=\"M0 0h24v24H0V0z\" fill=\"none\"/>\n",
              "    <path d=\"M18.56 5.44l.94 2.06.94-2.06 2.06-.94-2.06-.94-.94-2.06-.94 2.06-2.06.94zm-11 1L8.5 8.5l.94-2.06 2.06-.94-2.06-.94L8.5 2.5l-.94 2.06-2.06.94zm10 10l.94 2.06.94-2.06 2.06-.94-2.06-.94-.94-2.06-.94 2.06-2.06.94z\"/><path d=\"M17.41 7.96l-1.37-1.37c-.4-.4-.92-.59-1.43-.59-.52 0-1.04.2-1.43.59L10.3 9.45l-7.72 7.72c-.78.78-.78 2.05 0 2.83L4 21.41c.39.39.9.59 1.41.59.51 0 1.02-.2 1.41-.59l7.78-7.78 2.81-2.81c.8-.78.8-2.07 0-2.86zM5.41 20L4 18.59l7.72-7.72 1.47 1.35L5.41 20z\"/>\n",
              "  </svg>\n",
              "      </button>\n",
              "      \n",
              "  <style>\n",
              "    .colab-df-container {\n",
              "      display:flex;\n",
              "      flex-wrap:wrap;\n",
              "      gap: 12px;\n",
              "    }\n",
              "\n",
              "    .colab-df-convert {\n",
              "      background-color: #E8F0FE;\n",
              "      border: none;\n",
              "      border-radius: 50%;\n",
              "      cursor: pointer;\n",
              "      display: none;\n",
              "      fill: #1967D2;\n",
              "      height: 32px;\n",
              "      padding: 0 0 0 0;\n",
              "      width: 32px;\n",
              "    }\n",
              "\n",
              "    .colab-df-convert:hover {\n",
              "      background-color: #E2EBFA;\n",
              "      box-shadow: 0px 1px 2px rgba(60, 64, 67, 0.3), 0px 1px 3px 1px rgba(60, 64, 67, 0.15);\n",
              "      fill: #174EA6;\n",
              "    }\n",
              "\n",
              "    [theme=dark] .colab-df-convert {\n",
              "      background-color: #3B4455;\n",
              "      fill: #D2E3FC;\n",
              "    }\n",
              "\n",
              "    [theme=dark] .colab-df-convert:hover {\n",
              "      background-color: #434B5C;\n",
              "      box-shadow: 0px 1px 3px 1px rgba(0, 0, 0, 0.15);\n",
              "      filter: drop-shadow(0px 1px 2px rgba(0, 0, 0, 0.3));\n",
              "      fill: #FFFFFF;\n",
              "    }\n",
              "  </style>\n",
              "\n",
              "      <script>\n",
              "        const buttonEl =\n",
              "          document.querySelector('#df-a6f4c9d1-cdd3-45fe-bdde-16a584effb82 button.colab-df-convert');\n",
              "        buttonEl.style.display =\n",
              "          google.colab.kernel.accessAllowed ? 'block' : 'none';\n",
              "\n",
              "        async function convertToInteractive(key) {\n",
              "          const element = document.querySelector('#df-a6f4c9d1-cdd3-45fe-bdde-16a584effb82');\n",
              "          const dataTable =\n",
              "            await google.colab.kernel.invokeFunction('convertToInteractive',\n",
              "                                                     [key], {});\n",
              "          if (!dataTable) return;\n",
              "\n",
              "          const docLinkHtml = 'Like what you see? Visit the ' +\n",
              "            '<a target=\"_blank\" href=https://colab.research.google.com/notebooks/data_table.ipynb>data table notebook</a>'\n",
              "            + ' to learn more about interactive tables.';\n",
              "          element.innerHTML = '';\n",
              "          dataTable['output_type'] = 'display_data';\n",
              "          await google.colab.output.renderOutput(dataTable, element);\n",
              "          const docLink = document.createElement('div');\n",
              "          docLink.innerHTML = docLinkHtml;\n",
              "          element.appendChild(docLink);\n",
              "        }\n",
              "      </script>\n",
              "    </div>\n",
              "  </div>\n",
              "  "
            ]
          },
          "metadata": {},
          "execution_count": 147
        }
      ]
    },
    {
      "cell_type": "code",
      "source": [
        "df_sim07_top10_merge[df_sim07_top10_merge['version']=='v2']"
      ],
      "metadata": {
        "colab": {
          "base_uri": "https://localhost:8080/",
          "height": 424
        },
        "id": "7hBoCBxSo7Mo",
        "outputId": "fbdc08e1-1238-4699-9aa9-b9c20d72df35"
      },
      "execution_count": null,
      "outputs": [
        {
          "output_type": "execute_result",
          "data": {
            "text/plain": [
              "           similar_word           topic  FINAL version\n",
              "0          abortion ban        Abortion    0.0      v2\n",
              "1          ban abortion        Abortion    0.0      v2\n",
              "3       oppose abortion        Abortion    0.0      v2\n",
              "12               choose        Abortion    0.0      v2\n",
              "13               prefer        Abortion    0.0      v2\n",
              "...                 ...             ...    ...     ...\n",
              "4545         prevalence        COVID-19    NaN      v2\n",
              "4546     severe illness        COVID-19    NaN      v2\n",
              "4547        virus cause        COVID-19    NaN      v2\n",
              "4548  syndrome mutation        COVID-19    NaN      v2\n",
              "4549    retention bonus  Economy / Jobs    NaN      v2\n",
              "\n",
              "[2761 rows x 4 columns]"
            ],
            "text/html": [
              "\n",
              "  <div id=\"df-cc4774cd-694d-400e-9fec-3653a381d81a\">\n",
              "    <div class=\"colab-df-container\">\n",
              "      <div>\n",
              "<style scoped>\n",
              "    .dataframe tbody tr th:only-of-type {\n",
              "        vertical-align: middle;\n",
              "    }\n",
              "\n",
              "    .dataframe tbody tr th {\n",
              "        vertical-align: top;\n",
              "    }\n",
              "\n",
              "    .dataframe thead th {\n",
              "        text-align: right;\n",
              "    }\n",
              "</style>\n",
              "<table border=\"1\" class=\"dataframe\">\n",
              "  <thead>\n",
              "    <tr style=\"text-align: right;\">\n",
              "      <th></th>\n",
              "      <th>similar_word</th>\n",
              "      <th>topic</th>\n",
              "      <th>FINAL</th>\n",
              "      <th>version</th>\n",
              "    </tr>\n",
              "  </thead>\n",
              "  <tbody>\n",
              "    <tr>\n",
              "      <th>0</th>\n",
              "      <td>abortion ban</td>\n",
              "      <td>Abortion</td>\n",
              "      <td>0.0</td>\n",
              "      <td>v2</td>\n",
              "    </tr>\n",
              "    <tr>\n",
              "      <th>1</th>\n",
              "      <td>ban abortion</td>\n",
              "      <td>Abortion</td>\n",
              "      <td>0.0</td>\n",
              "      <td>v2</td>\n",
              "    </tr>\n",
              "    <tr>\n",
              "      <th>3</th>\n",
              "      <td>oppose abortion</td>\n",
              "      <td>Abortion</td>\n",
              "      <td>0.0</td>\n",
              "      <td>v2</td>\n",
              "    </tr>\n",
              "    <tr>\n",
              "      <th>12</th>\n",
              "      <td>choose</td>\n",
              "      <td>Abortion</td>\n",
              "      <td>0.0</td>\n",
              "      <td>v2</td>\n",
              "    </tr>\n",
              "    <tr>\n",
              "      <th>13</th>\n",
              "      <td>prefer</td>\n",
              "      <td>Abortion</td>\n",
              "      <td>0.0</td>\n",
              "      <td>v2</td>\n",
              "    </tr>\n",
              "    <tr>\n",
              "      <th>...</th>\n",
              "      <td>...</td>\n",
              "      <td>...</td>\n",
              "      <td>...</td>\n",
              "      <td>...</td>\n",
              "    </tr>\n",
              "    <tr>\n",
              "      <th>4545</th>\n",
              "      <td>prevalence</td>\n",
              "      <td>COVID-19</td>\n",
              "      <td>NaN</td>\n",
              "      <td>v2</td>\n",
              "    </tr>\n",
              "    <tr>\n",
              "      <th>4546</th>\n",
              "      <td>severe illness</td>\n",
              "      <td>COVID-19</td>\n",
              "      <td>NaN</td>\n",
              "      <td>v2</td>\n",
              "    </tr>\n",
              "    <tr>\n",
              "      <th>4547</th>\n",
              "      <td>virus cause</td>\n",
              "      <td>COVID-19</td>\n",
              "      <td>NaN</td>\n",
              "      <td>v2</td>\n",
              "    </tr>\n",
              "    <tr>\n",
              "      <th>4548</th>\n",
              "      <td>syndrome mutation</td>\n",
              "      <td>COVID-19</td>\n",
              "      <td>NaN</td>\n",
              "      <td>v2</td>\n",
              "    </tr>\n",
              "    <tr>\n",
              "      <th>4549</th>\n",
              "      <td>retention bonus</td>\n",
              "      <td>Economy / Jobs</td>\n",
              "      <td>NaN</td>\n",
              "      <td>v2</td>\n",
              "    </tr>\n",
              "  </tbody>\n",
              "</table>\n",
              "<p>2761 rows × 4 columns</p>\n",
              "</div>\n",
              "      <button class=\"colab-df-convert\" onclick=\"convertToInteractive('df-cc4774cd-694d-400e-9fec-3653a381d81a')\"\n",
              "              title=\"Convert this dataframe to an interactive table.\"\n",
              "              style=\"display:none;\">\n",
              "        \n",
              "  <svg xmlns=\"http://www.w3.org/2000/svg\" height=\"24px\"viewBox=\"0 0 24 24\"\n",
              "       width=\"24px\">\n",
              "    <path d=\"M0 0h24v24H0V0z\" fill=\"none\"/>\n",
              "    <path d=\"M18.56 5.44l.94 2.06.94-2.06 2.06-.94-2.06-.94-.94-2.06-.94 2.06-2.06.94zm-11 1L8.5 8.5l.94-2.06 2.06-.94-2.06-.94L8.5 2.5l-.94 2.06-2.06.94zm10 10l.94 2.06.94-2.06 2.06-.94-2.06-.94-.94-2.06-.94 2.06-2.06.94z\"/><path d=\"M17.41 7.96l-1.37-1.37c-.4-.4-.92-.59-1.43-.59-.52 0-1.04.2-1.43.59L10.3 9.45l-7.72 7.72c-.78.78-.78 2.05 0 2.83L4 21.41c.39.39.9.59 1.41.59.51 0 1.02-.2 1.41-.59l7.78-7.78 2.81-2.81c.8-.78.8-2.07 0-2.86zM5.41 20L4 18.59l7.72-7.72 1.47 1.35L5.41 20z\"/>\n",
              "  </svg>\n",
              "      </button>\n",
              "      \n",
              "  <style>\n",
              "    .colab-df-container {\n",
              "      display:flex;\n",
              "      flex-wrap:wrap;\n",
              "      gap: 12px;\n",
              "    }\n",
              "\n",
              "    .colab-df-convert {\n",
              "      background-color: #E8F0FE;\n",
              "      border: none;\n",
              "      border-radius: 50%;\n",
              "      cursor: pointer;\n",
              "      display: none;\n",
              "      fill: #1967D2;\n",
              "      height: 32px;\n",
              "      padding: 0 0 0 0;\n",
              "      width: 32px;\n",
              "    }\n",
              "\n",
              "    .colab-df-convert:hover {\n",
              "      background-color: #E2EBFA;\n",
              "      box-shadow: 0px 1px 2px rgba(60, 64, 67, 0.3), 0px 1px 3px 1px rgba(60, 64, 67, 0.15);\n",
              "      fill: #174EA6;\n",
              "    }\n",
              "\n",
              "    [theme=dark] .colab-df-convert {\n",
              "      background-color: #3B4455;\n",
              "      fill: #D2E3FC;\n",
              "    }\n",
              "\n",
              "    [theme=dark] .colab-df-convert:hover {\n",
              "      background-color: #434B5C;\n",
              "      box-shadow: 0px 1px 3px 1px rgba(0, 0, 0, 0.15);\n",
              "      filter: drop-shadow(0px 1px 2px rgba(0, 0, 0, 0.3));\n",
              "      fill: #FFFFFF;\n",
              "    }\n",
              "  </style>\n",
              "\n",
              "      <script>\n",
              "        const buttonEl =\n",
              "          document.querySelector('#df-cc4774cd-694d-400e-9fec-3653a381d81a button.colab-df-convert');\n",
              "        buttonEl.style.display =\n",
              "          google.colab.kernel.accessAllowed ? 'block' : 'none';\n",
              "\n",
              "        async function convertToInteractive(key) {\n",
              "          const element = document.querySelector('#df-cc4774cd-694d-400e-9fec-3653a381d81a');\n",
              "          const dataTable =\n",
              "            await google.colab.kernel.invokeFunction('convertToInteractive',\n",
              "                                                     [key], {});\n",
              "          if (!dataTable) return;\n",
              "\n",
              "          const docLinkHtml = 'Like what you see? Visit the ' +\n",
              "            '<a target=\"_blank\" href=https://colab.research.google.com/notebooks/data_table.ipynb>data table notebook</a>'\n",
              "            + ' to learn more about interactive tables.';\n",
              "          element.innerHTML = '';\n",
              "          dataTable['output_type'] = 'display_data';\n",
              "          await google.colab.output.renderOutput(dataTable, element);\n",
              "          const docLink = document.createElement('div');\n",
              "          docLink.innerHTML = docLinkHtml;\n",
              "          element.appendChild(docLink);\n",
              "        }\n",
              "      </script>\n",
              "    </div>\n",
              "  </div>\n",
              "  "
            ]
          },
          "metadata": {},
          "execution_count": 167
        }
      ]
    },
    {
      "cell_type": "code",
      "source": [
        "df_sim07_top10_merge.to_excel('df_sim07_top10_merge_v1_v2_diff.xlsx')"
      ],
      "metadata": {
        "id": "211vLcIpip7-"
      },
      "execution_count": null,
      "outputs": []
    },
    {
      "cell_type": "code",
      "source": [
        "topic_final_r1 = topic_final.copy()\n",
        "topic_final_r1['topic_final'] = 1"
      ],
      "metadata": {
        "id": "SC2iEmwJmAKh"
      },
      "execution_count": null,
      "outputs": []
    },
    {
      "cell_type": "code",
      "source": [
        "topic_final_r1.rename(columns={'word_lemma': 'similar_word'}, inplace=True)\n"
      ],
      "metadata": {
        "id": "bXA5cOVkmL_W"
      },
      "execution_count": null,
      "outputs": []
    },
    {
      "cell_type": "code",
      "source": [
        "df_sim07_top10_merge_all = pd.merge(df_sim07_top10_merge, topic_final_r1, how=\"outer\", on=[\"similar_word\", \"topic\"])"
      ],
      "metadata": {
        "id": "EwyEm1ramVHX"
      },
      "execution_count": null,
      "outputs": []
    },
    {
      "cell_type": "code",
      "source": [
        "df_sim07_top10_merge_all['review_done'] = np.where(  (df_sim07_top10_merge_all['FINAL']== 0) & (df_sim07_top10_merge_all['version']== \"v2\"), 1, 0  )\n"
      ],
      "metadata": {
        "id": "NFPQR1sknlfR"
      },
      "execution_count": null,
      "outputs": []
    },
    {
      "cell_type": "code",
      "source": [
        "df_sim07_top10_merge_all.to_excel('df_sim07_top10_merge_v1_v2_diff.xlsx')"
      ],
      "metadata": {
        "id": "aPTZRhpfmp1k"
      },
      "execution_count": null,
      "outputs": []
    },
    {
      "cell_type": "markdown",
      "source": [
        "## final topic word list"
      ],
      "metadata": {
        "id": "wBNlb9iMSLBT"
      }
    },
    {
      "cell_type": "code",
      "source": [
        "import pandas as pd\n",
        "topic_R2 = pd.read_excel('df_test_sim07_top10_no_duplicates2.xlsx')"
      ],
      "metadata": {
        "id": "r-ADGfcZZGyU"
      },
      "execution_count": null,
      "outputs": []
    },
    {
      "cell_type": "code",
      "source": [
        "topic_R2 = topic_R2[topic_R2['FINAL'] == 1]\n",
        "topic_R2 = topic_R2[['topic', 'similar_word']]\n",
        "topic_R2.rename(columns={'similar_word': 'word_lemma'}, inplace=True)\n"
      ],
      "metadata": {
        "id": "RstZ7ll8kMYL"
      },
      "execution_count": null,
      "outputs": []
    },
    {
      "cell_type": "code",
      "source": [
        "topic_R2_add = pd.read_excel('additional_words_manual.xlsx') \n",
        "topic_R2_add.rename(columns={'similar_word': 'word_lemma'}, inplace=True)\n"
      ],
      "metadata": {
        "id": "RqOx6nlVkRsF"
      },
      "execution_count": null,
      "outputs": []
    },
    {
      "cell_type": "code",
      "source": [
        "topic_final"
      ],
      "metadata": {
        "colab": {
          "base_uri": "https://localhost:8080/",
          "height": 424
        },
        "id": "LXpWbvFlJ4h6",
        "outputId": "41c7afe7-8df1-4661-d3ad-30082743cf93"
      },
      "execution_count": null,
      "outputs": [
        {
          "output_type": "execute_result",
          "data": {
            "text/plain": [
              "                  topic     word_lemma\n",
              "0             Inflation      cost live\n",
              "1             Inflation      inflation\n",
              "3             Inflation         afford\n",
              "4             Inflation  affordability\n",
              "5             Inflation     affordable\n",
              "...                 ...            ...\n",
              "2082  Racial inequality    marginalize\n",
              "2085  Racial inequality   marginalized\n",
              "2092  Racial inequality       minority\n",
              "2107  Racial inequality         stigma\n",
              "2112  Racial inequality     stigmatize\n",
              "\n",
              "[565 rows x 2 columns]"
            ],
            "text/html": [
              "\n",
              "  <div id=\"df-47bd7a1f-bf71-4e4b-8278-8f4a57f0e3a0\">\n",
              "    <div class=\"colab-df-container\">\n",
              "      <div>\n",
              "<style scoped>\n",
              "    .dataframe tbody tr th:only-of-type {\n",
              "        vertical-align: middle;\n",
              "    }\n",
              "\n",
              "    .dataframe tbody tr th {\n",
              "        vertical-align: top;\n",
              "    }\n",
              "\n",
              "    .dataframe thead th {\n",
              "        text-align: right;\n",
              "    }\n",
              "</style>\n",
              "<table border=\"1\" class=\"dataframe\">\n",
              "  <thead>\n",
              "    <tr style=\"text-align: right;\">\n",
              "      <th></th>\n",
              "      <th>topic</th>\n",
              "      <th>word_lemma</th>\n",
              "    </tr>\n",
              "  </thead>\n",
              "  <tbody>\n",
              "    <tr>\n",
              "      <th>0</th>\n",
              "      <td>Inflation</td>\n",
              "      <td>cost live</td>\n",
              "    </tr>\n",
              "    <tr>\n",
              "      <th>1</th>\n",
              "      <td>Inflation</td>\n",
              "      <td>inflation</td>\n",
              "    </tr>\n",
              "    <tr>\n",
              "      <th>3</th>\n",
              "      <td>Inflation</td>\n",
              "      <td>afford</td>\n",
              "    </tr>\n",
              "    <tr>\n",
              "      <th>4</th>\n",
              "      <td>Inflation</td>\n",
              "      <td>affordability</td>\n",
              "    </tr>\n",
              "    <tr>\n",
              "      <th>5</th>\n",
              "      <td>Inflation</td>\n",
              "      <td>affordable</td>\n",
              "    </tr>\n",
              "    <tr>\n",
              "      <th>...</th>\n",
              "      <td>...</td>\n",
              "      <td>...</td>\n",
              "    </tr>\n",
              "    <tr>\n",
              "      <th>2082</th>\n",
              "      <td>Racial inequality</td>\n",
              "      <td>marginalize</td>\n",
              "    </tr>\n",
              "    <tr>\n",
              "      <th>2085</th>\n",
              "      <td>Racial inequality</td>\n",
              "      <td>marginalized</td>\n",
              "    </tr>\n",
              "    <tr>\n",
              "      <th>2092</th>\n",
              "      <td>Racial inequality</td>\n",
              "      <td>minority</td>\n",
              "    </tr>\n",
              "    <tr>\n",
              "      <th>2107</th>\n",
              "      <td>Racial inequality</td>\n",
              "      <td>stigma</td>\n",
              "    </tr>\n",
              "    <tr>\n",
              "      <th>2112</th>\n",
              "      <td>Racial inequality</td>\n",
              "      <td>stigmatize</td>\n",
              "    </tr>\n",
              "  </tbody>\n",
              "</table>\n",
              "<p>565 rows × 2 columns</p>\n",
              "</div>\n",
              "      <button class=\"colab-df-convert\" onclick=\"convertToInteractive('df-47bd7a1f-bf71-4e4b-8278-8f4a57f0e3a0')\"\n",
              "              title=\"Convert this dataframe to an interactive table.\"\n",
              "              style=\"display:none;\">\n",
              "        \n",
              "  <svg xmlns=\"http://www.w3.org/2000/svg\" height=\"24px\"viewBox=\"0 0 24 24\"\n",
              "       width=\"24px\">\n",
              "    <path d=\"M0 0h24v24H0V0z\" fill=\"none\"/>\n",
              "    <path d=\"M18.56 5.44l.94 2.06.94-2.06 2.06-.94-2.06-.94-.94-2.06-.94 2.06-2.06.94zm-11 1L8.5 8.5l.94-2.06 2.06-.94-2.06-.94L8.5 2.5l-.94 2.06-2.06.94zm10 10l.94 2.06.94-2.06 2.06-.94-2.06-.94-.94-2.06-.94 2.06-2.06.94z\"/><path d=\"M17.41 7.96l-1.37-1.37c-.4-.4-.92-.59-1.43-.59-.52 0-1.04.2-1.43.59L10.3 9.45l-7.72 7.72c-.78.78-.78 2.05 0 2.83L4 21.41c.39.39.9.59 1.41.59.51 0 1.02-.2 1.41-.59l7.78-7.78 2.81-2.81c.8-.78.8-2.07 0-2.86zM5.41 20L4 18.59l7.72-7.72 1.47 1.35L5.41 20z\"/>\n",
              "  </svg>\n",
              "      </button>\n",
              "      \n",
              "  <style>\n",
              "    .colab-df-container {\n",
              "      display:flex;\n",
              "      flex-wrap:wrap;\n",
              "      gap: 12px;\n",
              "    }\n",
              "\n",
              "    .colab-df-convert {\n",
              "      background-color: #E8F0FE;\n",
              "      border: none;\n",
              "      border-radius: 50%;\n",
              "      cursor: pointer;\n",
              "      display: none;\n",
              "      fill: #1967D2;\n",
              "      height: 32px;\n",
              "      padding: 0 0 0 0;\n",
              "      width: 32px;\n",
              "    }\n",
              "\n",
              "    .colab-df-convert:hover {\n",
              "      background-color: #E2EBFA;\n",
              "      box-shadow: 0px 1px 2px rgba(60, 64, 67, 0.3), 0px 1px 3px 1px rgba(60, 64, 67, 0.15);\n",
              "      fill: #174EA6;\n",
              "    }\n",
              "\n",
              "    [theme=dark] .colab-df-convert {\n",
              "      background-color: #3B4455;\n",
              "      fill: #D2E3FC;\n",
              "    }\n",
              "\n",
              "    [theme=dark] .colab-df-convert:hover {\n",
              "      background-color: #434B5C;\n",
              "      box-shadow: 0px 1px 3px 1px rgba(0, 0, 0, 0.15);\n",
              "      filter: drop-shadow(0px 1px 2px rgba(0, 0, 0, 0.3));\n",
              "      fill: #FFFFFF;\n",
              "    }\n",
              "  </style>\n",
              "\n",
              "      <script>\n",
              "        const buttonEl =\n",
              "          document.querySelector('#df-47bd7a1f-bf71-4e4b-8278-8f4a57f0e3a0 button.colab-df-convert');\n",
              "        buttonEl.style.display =\n",
              "          google.colab.kernel.accessAllowed ? 'block' : 'none';\n",
              "\n",
              "        async function convertToInteractive(key) {\n",
              "          const element = document.querySelector('#df-47bd7a1f-bf71-4e4b-8278-8f4a57f0e3a0');\n",
              "          const dataTable =\n",
              "            await google.colab.kernel.invokeFunction('convertToInteractive',\n",
              "                                                     [key], {});\n",
              "          if (!dataTable) return;\n",
              "\n",
              "          const docLinkHtml = 'Like what you see? Visit the ' +\n",
              "            '<a target=\"_blank\" href=https://colab.research.google.com/notebooks/data_table.ipynb>data table notebook</a>'\n",
              "            + ' to learn more about interactive tables.';\n",
              "          element.innerHTML = '';\n",
              "          dataTable['output_type'] = 'display_data';\n",
              "          await google.colab.output.renderOutput(dataTable, element);\n",
              "          const docLink = document.createElement('div');\n",
              "          docLink.innerHTML = docLinkHtml;\n",
              "          element.appendChild(docLink);\n",
              "        }\n",
              "      </script>\n",
              "    </div>\n",
              "  </div>\n",
              "  "
            ]
          },
          "metadata": {},
          "execution_count": 25
        }
      ]
    },
    {
      "cell_type": "code",
      "source": [
        "topic_final[topic_final['word_lemma']=='undocumente']"
      ],
      "metadata": {
        "colab": {
          "base_uri": "https://localhost:8080/",
          "height": 81
        },
        "id": "oa0APF4oy_7n",
        "outputId": "de3409f5-789d-453d-a3a2-da32613f091e"
      },
      "execution_count": null,
      "outputs": [
        {
          "output_type": "execute_result",
          "data": {
            "text/plain": [
              "                             topic   word_lemma\n",
              "122  Immigration / border security  undocumente"
            ],
            "text/html": [
              "\n",
              "  <div id=\"df-e6311fab-17b7-4b84-8f8d-1e6ed0f56c69\">\n",
              "    <div class=\"colab-df-container\">\n",
              "      <div>\n",
              "<style scoped>\n",
              "    .dataframe tbody tr th:only-of-type {\n",
              "        vertical-align: middle;\n",
              "    }\n",
              "\n",
              "    .dataframe tbody tr th {\n",
              "        vertical-align: top;\n",
              "    }\n",
              "\n",
              "    .dataframe thead th {\n",
              "        text-align: right;\n",
              "    }\n",
              "</style>\n",
              "<table border=\"1\" class=\"dataframe\">\n",
              "  <thead>\n",
              "    <tr style=\"text-align: right;\">\n",
              "      <th></th>\n",
              "      <th>topic</th>\n",
              "      <th>word_lemma</th>\n",
              "    </tr>\n",
              "  </thead>\n",
              "  <tbody>\n",
              "    <tr>\n",
              "      <th>122</th>\n",
              "      <td>Immigration / border security</td>\n",
              "      <td>undocumente</td>\n",
              "    </tr>\n",
              "  </tbody>\n",
              "</table>\n",
              "</div>\n",
              "      <button class=\"colab-df-convert\" onclick=\"convertToInteractive('df-e6311fab-17b7-4b84-8f8d-1e6ed0f56c69')\"\n",
              "              title=\"Convert this dataframe to an interactive table.\"\n",
              "              style=\"display:none;\">\n",
              "        \n",
              "  <svg xmlns=\"http://www.w3.org/2000/svg\" height=\"24px\"viewBox=\"0 0 24 24\"\n",
              "       width=\"24px\">\n",
              "    <path d=\"M0 0h24v24H0V0z\" fill=\"none\"/>\n",
              "    <path d=\"M18.56 5.44l.94 2.06.94-2.06 2.06-.94-2.06-.94-.94-2.06-.94 2.06-2.06.94zm-11 1L8.5 8.5l.94-2.06 2.06-.94-2.06-.94L8.5 2.5l-.94 2.06-2.06.94zm10 10l.94 2.06.94-2.06 2.06-.94-2.06-.94-.94-2.06-.94 2.06-2.06.94z\"/><path d=\"M17.41 7.96l-1.37-1.37c-.4-.4-.92-.59-1.43-.59-.52 0-1.04.2-1.43.59L10.3 9.45l-7.72 7.72c-.78.78-.78 2.05 0 2.83L4 21.41c.39.39.9.59 1.41.59.51 0 1.02-.2 1.41-.59l7.78-7.78 2.81-2.81c.8-.78.8-2.07 0-2.86zM5.41 20L4 18.59l7.72-7.72 1.47 1.35L5.41 20z\"/>\n",
              "  </svg>\n",
              "      </button>\n",
              "      \n",
              "  <style>\n",
              "    .colab-df-container {\n",
              "      display:flex;\n",
              "      flex-wrap:wrap;\n",
              "      gap: 12px;\n",
              "    }\n",
              "\n",
              "    .colab-df-convert {\n",
              "      background-color: #E8F0FE;\n",
              "      border: none;\n",
              "      border-radius: 50%;\n",
              "      cursor: pointer;\n",
              "      display: none;\n",
              "      fill: #1967D2;\n",
              "      height: 32px;\n",
              "      padding: 0 0 0 0;\n",
              "      width: 32px;\n",
              "    }\n",
              "\n",
              "    .colab-df-convert:hover {\n",
              "      background-color: #E2EBFA;\n",
              "      box-shadow: 0px 1px 2px rgba(60, 64, 67, 0.3), 0px 1px 3px 1px rgba(60, 64, 67, 0.15);\n",
              "      fill: #174EA6;\n",
              "    }\n",
              "\n",
              "    [theme=dark] .colab-df-convert {\n",
              "      background-color: #3B4455;\n",
              "      fill: #D2E3FC;\n",
              "    }\n",
              "\n",
              "    [theme=dark] .colab-df-convert:hover {\n",
              "      background-color: #434B5C;\n",
              "      box-shadow: 0px 1px 3px 1px rgba(0, 0, 0, 0.15);\n",
              "      filter: drop-shadow(0px 1px 2px rgba(0, 0, 0, 0.3));\n",
              "      fill: #FFFFFF;\n",
              "    }\n",
              "  </style>\n",
              "\n",
              "      <script>\n",
              "        const buttonEl =\n",
              "          document.querySelector('#df-e6311fab-17b7-4b84-8f8d-1e6ed0f56c69 button.colab-df-convert');\n",
              "        buttonEl.style.display =\n",
              "          google.colab.kernel.accessAllowed ? 'block' : 'none';\n",
              "\n",
              "        async function convertToInteractive(key) {\n",
              "          const element = document.querySelector('#df-e6311fab-17b7-4b84-8f8d-1e6ed0f56c69');\n",
              "          const dataTable =\n",
              "            await google.colab.kernel.invokeFunction('convertToInteractive',\n",
              "                                                     [key], {});\n",
              "          if (!dataTable) return;\n",
              "\n",
              "          const docLinkHtml = 'Like what you see? Visit the ' +\n",
              "            '<a target=\"_blank\" href=https://colab.research.google.com/notebooks/data_table.ipynb>data table notebook</a>'\n",
              "            + ' to learn more about interactive tables.';\n",
              "          element.innerHTML = '';\n",
              "          dataTable['output_type'] = 'display_data';\n",
              "          await google.colab.output.renderOutput(dataTable, element);\n",
              "          const docLink = document.createElement('div');\n",
              "          docLink.innerHTML = docLinkHtml;\n",
              "          element.appendChild(docLink);\n",
              "        }\n",
              "      </script>\n",
              "    </div>\n",
              "  </div>\n",
              "  "
            ]
          },
          "metadata": {},
          "execution_count": 16
        }
      ]
    },
    {
      "cell_type": "code",
      "source": [
        "topic_final2 = pd.concat([topic_final, topic_R2, topic_R2_add])"
      ],
      "metadata": {
        "id": "xOnlJkw9k3x9"
      },
      "execution_count": null,
      "outputs": []
    },
    {
      "cell_type": "code",
      "source": [
        "topic_final2"
      ],
      "metadata": {
        "colab": {
          "base_uri": "https://localhost:8080/",
          "height": 424
        },
        "id": "0MqeVNYhJ62L",
        "outputId": "08e908b9-f58f-4577-bb88-dc71909cad2a"
      },
      "execution_count": null,
      "outputs": [
        {
          "output_type": "execute_result",
          "data": {
            "text/plain": [
              "             topic     word_lemma\n",
              "0        Inflation      cost live\n",
              "1        Inflation      inflation\n",
              "3        Inflation         afford\n",
              "4        Inflation  affordability\n",
              "5        Inflation     affordable\n",
              "..             ...            ...\n",
              "0         Abortion      prochoice\n",
              "1         Abortion     antichoice\n",
              "2         Abortion          dobbs\n",
              "3            Crime        gunfire\n",
              "4   Economy / Jobs       creditor\n",
              "\n",
              "[940 rows x 2 columns]"
            ],
            "text/html": [
              "\n",
              "  <div id=\"df-e33c6f8d-51c3-4e91-ba12-c66ad251e60a\">\n",
              "    <div class=\"colab-df-container\">\n",
              "      <div>\n",
              "<style scoped>\n",
              "    .dataframe tbody tr th:only-of-type {\n",
              "        vertical-align: middle;\n",
              "    }\n",
              "\n",
              "    .dataframe tbody tr th {\n",
              "        vertical-align: top;\n",
              "    }\n",
              "\n",
              "    .dataframe thead th {\n",
              "        text-align: right;\n",
              "    }\n",
              "</style>\n",
              "<table border=\"1\" class=\"dataframe\">\n",
              "  <thead>\n",
              "    <tr style=\"text-align: right;\">\n",
              "      <th></th>\n",
              "      <th>topic</th>\n",
              "      <th>word_lemma</th>\n",
              "    </tr>\n",
              "  </thead>\n",
              "  <tbody>\n",
              "    <tr>\n",
              "      <th>0</th>\n",
              "      <td>Inflation</td>\n",
              "      <td>cost live</td>\n",
              "    </tr>\n",
              "    <tr>\n",
              "      <th>1</th>\n",
              "      <td>Inflation</td>\n",
              "      <td>inflation</td>\n",
              "    </tr>\n",
              "    <tr>\n",
              "      <th>3</th>\n",
              "      <td>Inflation</td>\n",
              "      <td>afford</td>\n",
              "    </tr>\n",
              "    <tr>\n",
              "      <th>4</th>\n",
              "      <td>Inflation</td>\n",
              "      <td>affordability</td>\n",
              "    </tr>\n",
              "    <tr>\n",
              "      <th>5</th>\n",
              "      <td>Inflation</td>\n",
              "      <td>affordable</td>\n",
              "    </tr>\n",
              "    <tr>\n",
              "      <th>...</th>\n",
              "      <td>...</td>\n",
              "      <td>...</td>\n",
              "    </tr>\n",
              "    <tr>\n",
              "      <th>0</th>\n",
              "      <td>Abortion</td>\n",
              "      <td>prochoice</td>\n",
              "    </tr>\n",
              "    <tr>\n",
              "      <th>1</th>\n",
              "      <td>Abortion</td>\n",
              "      <td>antichoice</td>\n",
              "    </tr>\n",
              "    <tr>\n",
              "      <th>2</th>\n",
              "      <td>Abortion</td>\n",
              "      <td>dobbs</td>\n",
              "    </tr>\n",
              "    <tr>\n",
              "      <th>3</th>\n",
              "      <td>Crime</td>\n",
              "      <td>gunfire</td>\n",
              "    </tr>\n",
              "    <tr>\n",
              "      <th>4</th>\n",
              "      <td>Economy / Jobs</td>\n",
              "      <td>creditor</td>\n",
              "    </tr>\n",
              "  </tbody>\n",
              "</table>\n",
              "<p>940 rows × 2 columns</p>\n",
              "</div>\n",
              "      <button class=\"colab-df-convert\" onclick=\"convertToInteractive('df-e33c6f8d-51c3-4e91-ba12-c66ad251e60a')\"\n",
              "              title=\"Convert this dataframe to an interactive table.\"\n",
              "              style=\"display:none;\">\n",
              "        \n",
              "  <svg xmlns=\"http://www.w3.org/2000/svg\" height=\"24px\"viewBox=\"0 0 24 24\"\n",
              "       width=\"24px\">\n",
              "    <path d=\"M0 0h24v24H0V0z\" fill=\"none\"/>\n",
              "    <path d=\"M18.56 5.44l.94 2.06.94-2.06 2.06-.94-2.06-.94-.94-2.06-.94 2.06-2.06.94zm-11 1L8.5 8.5l.94-2.06 2.06-.94-2.06-.94L8.5 2.5l-.94 2.06-2.06.94zm10 10l.94 2.06.94-2.06 2.06-.94-2.06-.94-.94-2.06-.94 2.06-2.06.94z\"/><path d=\"M17.41 7.96l-1.37-1.37c-.4-.4-.92-.59-1.43-.59-.52 0-1.04.2-1.43.59L10.3 9.45l-7.72 7.72c-.78.78-.78 2.05 0 2.83L4 21.41c.39.39.9.59 1.41.59.51 0 1.02-.2 1.41-.59l7.78-7.78 2.81-2.81c.8-.78.8-2.07 0-2.86zM5.41 20L4 18.59l7.72-7.72 1.47 1.35L5.41 20z\"/>\n",
              "  </svg>\n",
              "      </button>\n",
              "      \n",
              "  <style>\n",
              "    .colab-df-container {\n",
              "      display:flex;\n",
              "      flex-wrap:wrap;\n",
              "      gap: 12px;\n",
              "    }\n",
              "\n",
              "    .colab-df-convert {\n",
              "      background-color: #E8F0FE;\n",
              "      border: none;\n",
              "      border-radius: 50%;\n",
              "      cursor: pointer;\n",
              "      display: none;\n",
              "      fill: #1967D2;\n",
              "      height: 32px;\n",
              "      padding: 0 0 0 0;\n",
              "      width: 32px;\n",
              "    }\n",
              "\n",
              "    .colab-df-convert:hover {\n",
              "      background-color: #E2EBFA;\n",
              "      box-shadow: 0px 1px 2px rgba(60, 64, 67, 0.3), 0px 1px 3px 1px rgba(60, 64, 67, 0.15);\n",
              "      fill: #174EA6;\n",
              "    }\n",
              "\n",
              "    [theme=dark] .colab-df-convert {\n",
              "      background-color: #3B4455;\n",
              "      fill: #D2E3FC;\n",
              "    }\n",
              "\n",
              "    [theme=dark] .colab-df-convert:hover {\n",
              "      background-color: #434B5C;\n",
              "      box-shadow: 0px 1px 3px 1px rgba(0, 0, 0, 0.15);\n",
              "      filter: drop-shadow(0px 1px 2px rgba(0, 0, 0, 0.3));\n",
              "      fill: #FFFFFF;\n",
              "    }\n",
              "  </style>\n",
              "\n",
              "      <script>\n",
              "        const buttonEl =\n",
              "          document.querySelector('#df-e33c6f8d-51c3-4e91-ba12-c66ad251e60a button.colab-df-convert');\n",
              "        buttonEl.style.display =\n",
              "          google.colab.kernel.accessAllowed ? 'block' : 'none';\n",
              "\n",
              "        async function convertToInteractive(key) {\n",
              "          const element = document.querySelector('#df-e33c6f8d-51c3-4e91-ba12-c66ad251e60a');\n",
              "          const dataTable =\n",
              "            await google.colab.kernel.invokeFunction('convertToInteractive',\n",
              "                                                     [key], {});\n",
              "          if (!dataTable) return;\n",
              "\n",
              "          const docLinkHtml = 'Like what you see? Visit the ' +\n",
              "            '<a target=\"_blank\" href=https://colab.research.google.com/notebooks/data_table.ipynb>data table notebook</a>'\n",
              "            + ' to learn more about interactive tables.';\n",
              "          element.innerHTML = '';\n",
              "          dataTable['output_type'] = 'display_data';\n",
              "          await google.colab.output.renderOutput(dataTable, element);\n",
              "          const docLink = document.createElement('div');\n",
              "          docLink.innerHTML = docLinkHtml;\n",
              "          element.appendChild(docLink);\n",
              "        }\n",
              "      </script>\n",
              "    </div>\n",
              "  </div>\n",
              "  "
            ]
          },
          "metadata": {},
          "execution_count": 33
        }
      ]
    },
    {
      "cell_type": "code",
      "source": [
        "len(topic_final2)"
      ],
      "metadata": {
        "colab": {
          "base_uri": "https://localhost:8080/"
        },
        "id": "FRgasMWrIBjQ",
        "outputId": "90643a0a-4b53-457f-bd4a-c6b9d9b9222c"
      },
      "execution_count": null,
      "outputs": [
        {
          "output_type": "execute_result",
          "data": {
            "text/plain": [
              "940"
            ]
          },
          "metadata": {},
          "execution_count": 18
        }
      ]
    },
    {
      "cell_type": "code",
      "source": [
        "topic_final2 = topic_final2.drop_duplicates().sort_values(['topic','word_lemma']).reset_index()"
      ],
      "metadata": {
        "id": "zyrctQdrlFJ0"
      },
      "execution_count": null,
      "outputs": []
    },
    {
      "cell_type": "code",
      "source": [
        "topic_final2 = topic_final2[['topic','word_lemma']]"
      ],
      "metadata": {
        "id": "Kn0U0jufoTcu"
      },
      "execution_count": null,
      "outputs": []
    },
    {
      "cell_type": "code",
      "source": [
        "# delete depression AND lay from Economy / Jobs\t\n",
        "# delete traffic from Immigration / border security AND Crime"
      ],
      "metadata": {
        "id": "aNlNqadjSPiZ"
      },
      "execution_count": null,
      "outputs": []
    },
    {
      "cell_type": "code",
      "source": [
        "topic_final2[topic_final2['word_lemma'] == 'undocumented'] # 467\n"
      ],
      "metadata": {
        "colab": {
          "base_uri": "https://localhost:8080/",
          "height": 81
        },
        "id": "7tfAWimOIgKa",
        "outputId": "386c15f2-636a-4f40-85d0-3775685f24dd"
      },
      "execution_count": null,
      "outputs": [
        {
          "output_type": "execute_result",
          "data": {
            "text/plain": [
              "                             topic    word_lemma\n",
              "821  Immigration / border security  undocumented"
            ],
            "text/html": [
              "\n",
              "  <div id=\"df-df324ebd-c3fc-4c7d-bb62-17bb9ce555e3\">\n",
              "    <div class=\"colab-df-container\">\n",
              "      <div>\n",
              "<style scoped>\n",
              "    .dataframe tbody tr th:only-of-type {\n",
              "        vertical-align: middle;\n",
              "    }\n",
              "\n",
              "    .dataframe tbody tr th {\n",
              "        vertical-align: top;\n",
              "    }\n",
              "\n",
              "    .dataframe thead th {\n",
              "        text-align: right;\n",
              "    }\n",
              "</style>\n",
              "<table border=\"1\" class=\"dataframe\">\n",
              "  <thead>\n",
              "    <tr style=\"text-align: right;\">\n",
              "      <th></th>\n",
              "      <th>topic</th>\n",
              "      <th>word_lemma</th>\n",
              "    </tr>\n",
              "  </thead>\n",
              "  <tbody>\n",
              "    <tr>\n",
              "      <th>821</th>\n",
              "      <td>Immigration / border security</td>\n",
              "      <td>undocumented</td>\n",
              "    </tr>\n",
              "  </tbody>\n",
              "</table>\n",
              "</div>\n",
              "      <button class=\"colab-df-convert\" onclick=\"convertToInteractive('df-df324ebd-c3fc-4c7d-bb62-17bb9ce555e3')\"\n",
              "              title=\"Convert this dataframe to an interactive table.\"\n",
              "              style=\"display:none;\">\n",
              "        \n",
              "  <svg xmlns=\"http://www.w3.org/2000/svg\" height=\"24px\"viewBox=\"0 0 24 24\"\n",
              "       width=\"24px\">\n",
              "    <path d=\"M0 0h24v24H0V0z\" fill=\"none\"/>\n",
              "    <path d=\"M18.56 5.44l.94 2.06.94-2.06 2.06-.94-2.06-.94-.94-2.06-.94 2.06-2.06.94zm-11 1L8.5 8.5l.94-2.06 2.06-.94-2.06-.94L8.5 2.5l-.94 2.06-2.06.94zm10 10l.94 2.06.94-2.06 2.06-.94-2.06-.94-.94-2.06-.94 2.06-2.06.94z\"/><path d=\"M17.41 7.96l-1.37-1.37c-.4-.4-.92-.59-1.43-.59-.52 0-1.04.2-1.43.59L10.3 9.45l-7.72 7.72c-.78.78-.78 2.05 0 2.83L4 21.41c.39.39.9.59 1.41.59.51 0 1.02-.2 1.41-.59l7.78-7.78 2.81-2.81c.8-.78.8-2.07 0-2.86zM5.41 20L4 18.59l7.72-7.72 1.47 1.35L5.41 20z\"/>\n",
              "  </svg>\n",
              "      </button>\n",
              "      \n",
              "  <style>\n",
              "    .colab-df-container {\n",
              "      display:flex;\n",
              "      flex-wrap:wrap;\n",
              "      gap: 12px;\n",
              "    }\n",
              "\n",
              "    .colab-df-convert {\n",
              "      background-color: #E8F0FE;\n",
              "      border: none;\n",
              "      border-radius: 50%;\n",
              "      cursor: pointer;\n",
              "      display: none;\n",
              "      fill: #1967D2;\n",
              "      height: 32px;\n",
              "      padding: 0 0 0 0;\n",
              "      width: 32px;\n",
              "    }\n",
              "\n",
              "    .colab-df-convert:hover {\n",
              "      background-color: #E2EBFA;\n",
              "      box-shadow: 0px 1px 2px rgba(60, 64, 67, 0.3), 0px 1px 3px 1px rgba(60, 64, 67, 0.15);\n",
              "      fill: #174EA6;\n",
              "    }\n",
              "\n",
              "    [theme=dark] .colab-df-convert {\n",
              "      background-color: #3B4455;\n",
              "      fill: #D2E3FC;\n",
              "    }\n",
              "\n",
              "    [theme=dark] .colab-df-convert:hover {\n",
              "      background-color: #434B5C;\n",
              "      box-shadow: 0px 1px 3px 1px rgba(0, 0, 0, 0.15);\n",
              "      filter: drop-shadow(0px 1px 2px rgba(0, 0, 0, 0.3));\n",
              "      fill: #FFFFFF;\n",
              "    }\n",
              "  </style>\n",
              "\n",
              "      <script>\n",
              "        const buttonEl =\n",
              "          document.querySelector('#df-df324ebd-c3fc-4c7d-bb62-17bb9ce555e3 button.colab-df-convert');\n",
              "        buttonEl.style.display =\n",
              "          google.colab.kernel.accessAllowed ? 'block' : 'none';\n",
              "\n",
              "        async function convertToInteractive(key) {\n",
              "          const element = document.querySelector('#df-df324ebd-c3fc-4c7d-bb62-17bb9ce555e3');\n",
              "          const dataTable =\n",
              "            await google.colab.kernel.invokeFunction('convertToInteractive',\n",
              "                                                     [key], {});\n",
              "          if (!dataTable) return;\n",
              "\n",
              "          const docLinkHtml = 'Like what you see? Visit the ' +\n",
              "            '<a target=\"_blank\" href=https://colab.research.google.com/notebooks/data_table.ipynb>data table notebook</a>'\n",
              "            + ' to learn more about interactive tables.';\n",
              "          element.innerHTML = '';\n",
              "          dataTable['output_type'] = 'display_data';\n",
              "          await google.colab.output.renderOutput(dataTable, element);\n",
              "          const docLink = document.createElement('div');\n",
              "          docLink.innerHTML = docLinkHtml;\n",
              "          element.appendChild(docLink);\n",
              "        }\n",
              "      </script>\n",
              "    </div>\n",
              "  </div>\n",
              "  "
            ]
          },
          "metadata": {},
          "execution_count": 36
        }
      ]
    },
    {
      "cell_type": "code",
      "source": [
        "topic_final2[topic_final2['word_lemma'] == 'depression'] # 418\n",
        "topic_final2[topic_final2['word_lemma'] == 'lay'] # 467\n",
        "topic_final2[topic_final2['word_lemma'] == 'traffic'] # 371, 818\n",
        "topic_final2[topic_final2['word_lemma'] == 'undocumente'] # 820"
      ],
      "metadata": {
        "colab": {
          "base_uri": "https://localhost:8080/",
          "height": 81
        },
        "id": "GKLVsp0Nm4Kt",
        "outputId": "6eae0d86-2b7b-4944-fd04-30a671c7de82"
      },
      "execution_count": null,
      "outputs": [
        {
          "output_type": "execute_result",
          "data": {
            "text/plain": [
              "                             topic   word_lemma\n",
              "820  Immigration / border security  undocumente"
            ],
            "text/html": [
              "\n",
              "  <div id=\"df-34b69d84-b6e9-422d-b001-d5d0a0d289d8\">\n",
              "    <div class=\"colab-df-container\">\n",
              "      <div>\n",
              "<style scoped>\n",
              "    .dataframe tbody tr th:only-of-type {\n",
              "        vertical-align: middle;\n",
              "    }\n",
              "\n",
              "    .dataframe tbody tr th {\n",
              "        vertical-align: top;\n",
              "    }\n",
              "\n",
              "    .dataframe thead th {\n",
              "        text-align: right;\n",
              "    }\n",
              "</style>\n",
              "<table border=\"1\" class=\"dataframe\">\n",
              "  <thead>\n",
              "    <tr style=\"text-align: right;\">\n",
              "      <th></th>\n",
              "      <th>topic</th>\n",
              "      <th>word_lemma</th>\n",
              "    </tr>\n",
              "  </thead>\n",
              "  <tbody>\n",
              "    <tr>\n",
              "      <th>820</th>\n",
              "      <td>Immigration / border security</td>\n",
              "      <td>undocumente</td>\n",
              "    </tr>\n",
              "  </tbody>\n",
              "</table>\n",
              "</div>\n",
              "      <button class=\"colab-df-convert\" onclick=\"convertToInteractive('df-34b69d84-b6e9-422d-b001-d5d0a0d289d8')\"\n",
              "              title=\"Convert this dataframe to an interactive table.\"\n",
              "              style=\"display:none;\">\n",
              "        \n",
              "  <svg xmlns=\"http://www.w3.org/2000/svg\" height=\"24px\"viewBox=\"0 0 24 24\"\n",
              "       width=\"24px\">\n",
              "    <path d=\"M0 0h24v24H0V0z\" fill=\"none\"/>\n",
              "    <path d=\"M18.56 5.44l.94 2.06.94-2.06 2.06-.94-2.06-.94-.94-2.06-.94 2.06-2.06.94zm-11 1L8.5 8.5l.94-2.06 2.06-.94-2.06-.94L8.5 2.5l-.94 2.06-2.06.94zm10 10l.94 2.06.94-2.06 2.06-.94-2.06-.94-.94-2.06-.94 2.06-2.06.94z\"/><path d=\"M17.41 7.96l-1.37-1.37c-.4-.4-.92-.59-1.43-.59-.52 0-1.04.2-1.43.59L10.3 9.45l-7.72 7.72c-.78.78-.78 2.05 0 2.83L4 21.41c.39.39.9.59 1.41.59.51 0 1.02-.2 1.41-.59l7.78-7.78 2.81-2.81c.8-.78.8-2.07 0-2.86zM5.41 20L4 18.59l7.72-7.72 1.47 1.35L5.41 20z\"/>\n",
              "  </svg>\n",
              "      </button>\n",
              "      \n",
              "  <style>\n",
              "    .colab-df-container {\n",
              "      display:flex;\n",
              "      flex-wrap:wrap;\n",
              "      gap: 12px;\n",
              "    }\n",
              "\n",
              "    .colab-df-convert {\n",
              "      background-color: #E8F0FE;\n",
              "      border: none;\n",
              "      border-radius: 50%;\n",
              "      cursor: pointer;\n",
              "      display: none;\n",
              "      fill: #1967D2;\n",
              "      height: 32px;\n",
              "      padding: 0 0 0 0;\n",
              "      width: 32px;\n",
              "    }\n",
              "\n",
              "    .colab-df-convert:hover {\n",
              "      background-color: #E2EBFA;\n",
              "      box-shadow: 0px 1px 2px rgba(60, 64, 67, 0.3), 0px 1px 3px 1px rgba(60, 64, 67, 0.15);\n",
              "      fill: #174EA6;\n",
              "    }\n",
              "\n",
              "    [theme=dark] .colab-df-convert {\n",
              "      background-color: #3B4455;\n",
              "      fill: #D2E3FC;\n",
              "    }\n",
              "\n",
              "    [theme=dark] .colab-df-convert:hover {\n",
              "      background-color: #434B5C;\n",
              "      box-shadow: 0px 1px 3px 1px rgba(0, 0, 0, 0.15);\n",
              "      filter: drop-shadow(0px 1px 2px rgba(0, 0, 0, 0.3));\n",
              "      fill: #FFFFFF;\n",
              "    }\n",
              "  </style>\n",
              "\n",
              "      <script>\n",
              "        const buttonEl =\n",
              "          document.querySelector('#df-34b69d84-b6e9-422d-b001-d5d0a0d289d8 button.colab-df-convert');\n",
              "        buttonEl.style.display =\n",
              "          google.colab.kernel.accessAllowed ? 'block' : 'none';\n",
              "\n",
              "        async function convertToInteractive(key) {\n",
              "          const element = document.querySelector('#df-34b69d84-b6e9-422d-b001-d5d0a0d289d8');\n",
              "          const dataTable =\n",
              "            await google.colab.kernel.invokeFunction('convertToInteractive',\n",
              "                                                     [key], {});\n",
              "          if (!dataTable) return;\n",
              "\n",
              "          const docLinkHtml = 'Like what you see? Visit the ' +\n",
              "            '<a target=\"_blank\" href=https://colab.research.google.com/notebooks/data_table.ipynb>data table notebook</a>'\n",
              "            + ' to learn more about interactive tables.';\n",
              "          element.innerHTML = '';\n",
              "          dataTable['output_type'] = 'display_data';\n",
              "          await google.colab.output.renderOutput(dataTable, element);\n",
              "          const docLink = document.createElement('div');\n",
              "          docLink.innerHTML = docLinkHtml;\n",
              "          element.appendChild(docLink);\n",
              "        }\n",
              "      </script>\n",
              "    </div>\n",
              "  </div>\n",
              "  "
            ]
          },
          "metadata": {},
          "execution_count": 37
        }
      ]
    },
    {
      "cell_type": "code",
      "source": [
        "topic_final2[topic_final2['word_lemma'] == 'cap trade '] # 94"
      ],
      "metadata": {
        "colab": {
          "base_uri": "https://localhost:8080/",
          "height": 81
        },
        "id": "sNZeWyeH3GyM",
        "outputId": "e289ec50-209c-46bd-cfb8-fd569d305e41"
      },
      "execution_count": null,
      "outputs": [
        {
          "output_type": "execute_result",
          "data": {
            "text/plain": [
              "             topic  word_lemma\n",
              "94  Climate change  cap trade "
            ],
            "text/html": [
              "\n",
              "  <div id=\"df-230ca05b-3751-49e4-9106-be9834ad9b1b\">\n",
              "    <div class=\"colab-df-container\">\n",
              "      <div>\n",
              "<style scoped>\n",
              "    .dataframe tbody tr th:only-of-type {\n",
              "        vertical-align: middle;\n",
              "    }\n",
              "\n",
              "    .dataframe tbody tr th {\n",
              "        vertical-align: top;\n",
              "    }\n",
              "\n",
              "    .dataframe thead th {\n",
              "        text-align: right;\n",
              "    }\n",
              "</style>\n",
              "<table border=\"1\" class=\"dataframe\">\n",
              "  <thead>\n",
              "    <tr style=\"text-align: right;\">\n",
              "      <th></th>\n",
              "      <th>topic</th>\n",
              "      <th>word_lemma</th>\n",
              "    </tr>\n",
              "  </thead>\n",
              "  <tbody>\n",
              "    <tr>\n",
              "      <th>94</th>\n",
              "      <td>Climate change</td>\n",
              "      <td>cap trade</td>\n",
              "    </tr>\n",
              "  </tbody>\n",
              "</table>\n",
              "</div>\n",
              "      <button class=\"colab-df-convert\" onclick=\"convertToInteractive('df-230ca05b-3751-49e4-9106-be9834ad9b1b')\"\n",
              "              title=\"Convert this dataframe to an interactive table.\"\n",
              "              style=\"display:none;\">\n",
              "        \n",
              "  <svg xmlns=\"http://www.w3.org/2000/svg\" height=\"24px\"viewBox=\"0 0 24 24\"\n",
              "       width=\"24px\">\n",
              "    <path d=\"M0 0h24v24H0V0z\" fill=\"none\"/>\n",
              "    <path d=\"M18.56 5.44l.94 2.06.94-2.06 2.06-.94-2.06-.94-.94-2.06-.94 2.06-2.06.94zm-11 1L8.5 8.5l.94-2.06 2.06-.94-2.06-.94L8.5 2.5l-.94 2.06-2.06.94zm10 10l.94 2.06.94-2.06 2.06-.94-2.06-.94-.94-2.06-.94 2.06-2.06.94z\"/><path d=\"M17.41 7.96l-1.37-1.37c-.4-.4-.92-.59-1.43-.59-.52 0-1.04.2-1.43.59L10.3 9.45l-7.72 7.72c-.78.78-.78 2.05 0 2.83L4 21.41c.39.39.9.59 1.41.59.51 0 1.02-.2 1.41-.59l7.78-7.78 2.81-2.81c.8-.78.8-2.07 0-2.86zM5.41 20L4 18.59l7.72-7.72 1.47 1.35L5.41 20z\"/>\n",
              "  </svg>\n",
              "      </button>\n",
              "      \n",
              "  <style>\n",
              "    .colab-df-container {\n",
              "      display:flex;\n",
              "      flex-wrap:wrap;\n",
              "      gap: 12px;\n",
              "    }\n",
              "\n",
              "    .colab-df-convert {\n",
              "      background-color: #E8F0FE;\n",
              "      border: none;\n",
              "      border-radius: 50%;\n",
              "      cursor: pointer;\n",
              "      display: none;\n",
              "      fill: #1967D2;\n",
              "      height: 32px;\n",
              "      padding: 0 0 0 0;\n",
              "      width: 32px;\n",
              "    }\n",
              "\n",
              "    .colab-df-convert:hover {\n",
              "      background-color: #E2EBFA;\n",
              "      box-shadow: 0px 1px 2px rgba(60, 64, 67, 0.3), 0px 1px 3px 1px rgba(60, 64, 67, 0.15);\n",
              "      fill: #174EA6;\n",
              "    }\n",
              "\n",
              "    [theme=dark] .colab-df-convert {\n",
              "      background-color: #3B4455;\n",
              "      fill: #D2E3FC;\n",
              "    }\n",
              "\n",
              "    [theme=dark] .colab-df-convert:hover {\n",
              "      background-color: #434B5C;\n",
              "      box-shadow: 0px 1px 3px 1px rgba(0, 0, 0, 0.15);\n",
              "      filter: drop-shadow(0px 1px 2px rgba(0, 0, 0, 0.3));\n",
              "      fill: #FFFFFF;\n",
              "    }\n",
              "  </style>\n",
              "\n",
              "      <script>\n",
              "        const buttonEl =\n",
              "          document.querySelector('#df-230ca05b-3751-49e4-9106-be9834ad9b1b button.colab-df-convert');\n",
              "        buttonEl.style.display =\n",
              "          google.colab.kernel.accessAllowed ? 'block' : 'none';\n",
              "\n",
              "        async function convertToInteractive(key) {\n",
              "          const element = document.querySelector('#df-230ca05b-3751-49e4-9106-be9834ad9b1b');\n",
              "          const dataTable =\n",
              "            await google.colab.kernel.invokeFunction('convertToInteractive',\n",
              "                                                     [key], {});\n",
              "          if (!dataTable) return;\n",
              "\n",
              "          const docLinkHtml = 'Like what you see? Visit the ' +\n",
              "            '<a target=\"_blank\" href=https://colab.research.google.com/notebooks/data_table.ipynb>data table notebook</a>'\n",
              "            + ' to learn more about interactive tables.';\n",
              "          element.innerHTML = '';\n",
              "          dataTable['output_type'] = 'display_data';\n",
              "          await google.colab.output.renderOutput(dataTable, element);\n",
              "          const docLink = document.createElement('div');\n",
              "          docLink.innerHTML = docLinkHtml;\n",
              "          element.appendChild(docLink);\n",
              "        }\n",
              "      </script>\n",
              "    </div>\n",
              "  </div>\n",
              "  "
            ]
          },
          "metadata": {},
          "execution_count": 38
        }
      ]
    },
    {
      "cell_type": "code",
      "source": [
        "topic_final2.drop([94, 418,467, 371, 818, 820], axis=0, inplace=True)\n"
      ],
      "metadata": {
        "id": "fNAy6SnKn5HG"
      },
      "execution_count": null,
      "outputs": []
    },
    {
      "cell_type": "code",
      "source": [
        "topic_final2.to_excel('FINAL_topic_words_R2_review.xlsx')"
      ],
      "metadata": {
        "id": "5lY3IiO2myfv"
      },
      "execution_count": null,
      "outputs": []
    },
    {
      "cell_type": "markdown",
      "source": [
        "## mturk review for v2"
      ],
      "metadata": {
        "id": "XLERolTyaquo"
      }
    },
    {
      "cell_type": "code",
      "source": [
        "%cd /content/drive/MyDrive/Georgia/Topic Dictionaries\n",
        "\n",
        "import pandas as pd\n",
        "\n",
        "review_v2 = pd.read_excel('/content/drive/MyDrive/Georgia/Topic Dictionaries/FINAL_sim07_top10_merge.xlsx')"
      ],
      "metadata": {
        "colab": {
          "base_uri": "https://localhost:8080/"
        },
        "id": "ppyOsferau2Y",
        "outputId": "beaf57b5-375d-46ab-fef5-82ccc35a0f82"
      },
      "execution_count": null,
      "outputs": [
        {
          "output_type": "stream",
          "name": "stdout",
          "text": [
            "/content/drive/.shortcut-targets-by-id/1YSQ9BBnwwRu7fyeM_9V6eoFgKQBPl4Rr/Georgia/Topic Dictionaries\n"
          ]
        }
      ]
    },
    {
      "cell_type": "code",
      "source": [
        "review_v2_review = review_v2[ (review_v2['FINAL_ADD']==1)]"
      ],
      "metadata": {
        "id": "XTEt6QXkbS8M"
      },
      "execution_count": null,
      "outputs": []
    },
    {
      "cell_type": "code",
      "source": [
        "review_v2_review_st = review_v2_review[['similar_word', 'topic']]"
      ],
      "metadata": {
        "id": "RvsmSZJnbwhq"
      },
      "execution_count": null,
      "outputs": []
    },
    {
      "cell_type": "code",
      "source": [
        "len(review_v2_review_st)"
      ],
      "metadata": {
        "colab": {
          "base_uri": "https://localhost:8080/"
        },
        "id": "QhzmeVI27cZQ",
        "outputId": "22b47856-2a1c-48b7-e630-8e82761e21aa"
      },
      "execution_count": null,
      "outputs": [
        {
          "output_type": "execute_result",
          "data": {
            "text/plain": [
              "317"
            ]
          },
          "metadata": {},
          "execution_count": 19
        }
      ]
    },
    {
      "cell_type": "markdown",
      "source": [
        "## find example sentences"
      ],
      "metadata": {
        "id": "uvAgji2wq_Tk"
      }
    },
    {
      "cell_type": "code",
      "source": [
        "import pandas as pd\n",
        "\n",
        "df = pd.read_pickle('/content/drive/MyDrive/Georgia/Web Scraping/Georgia_data_v2_translation_ner2_lem.pkl')\n"
      ],
      "metadata": {
        "id": "wZS2vHekr3Wx"
      },
      "execution_count": null,
      "outputs": []
    },
    {
      "cell_type": "code",
      "source": [
        "len(df[df['article_lemma_num'].isnull()])"
      ],
      "metadata": {
        "colab": {
          "base_uri": "https://localhost:8080/"
        },
        "id": "nX0zdcERdMjY",
        "outputId": "c3fead07-52cb-4b20-85c7-917d26721bec"
      },
      "execution_count": null,
      "outputs": [
        {
          "output_type": "execute_result",
          "data": {
            "text/plain": [
              "0"
            ]
          },
          "metadata": {},
          "execution_count": 8
        }
      ]
    },
    {
      "cell_type": "markdown",
      "source": [
        "### round 1"
      ],
      "metadata": {
        "id": "-vML6pTCc1zO"
      }
    },
    {
      "cell_type": "code",
      "source": [
        "topic_final2 = pd.read_excel('FINAL_topic_words_R2_review.xlsx')"
      ],
      "metadata": {
        "id": "O1mBGy6OrszW"
      },
      "execution_count": null,
      "outputs": []
    },
    {
      "cell_type": "code",
      "source": [
        "topic_final2.rename(columns={'word_lemma': 'topic_ng'}, inplace=True)\n"
      ],
      "metadata": {
        "id": "2NNGJ1BLuQxB"
      },
      "execution_count": null,
      "outputs": []
    },
    {
      "cell_type": "code",
      "source": [
        "topic_final2 = topic_final2[['topic','topic_ng']].drop_duplicates() # 933"
      ],
      "metadata": {
        "id": "qbmXcO2sr60o"
      },
      "execution_count": null,
      "outputs": []
    },
    {
      "cell_type": "code",
      "source": [
        "topic_final2 = topic_final2[topic_final2['topic_ng'] != 'choice'] # remove choice \n"
      ],
      "metadata": {
        "id": "mZu4jOhETY6_"
      },
      "execution_count": null,
      "outputs": []
    },
    {
      "cell_type": "markdown",
      "source": [
        "### round 2"
      ],
      "metadata": {
        "id": "ppkRdw_bc6EJ"
      }
    },
    {
      "cell_type": "code",
      "source": [
        "review_v2_review_st = review_v2_review[['similar_word', 'topic']]\n",
        "review_v2_review_st.rename(columns={'similar_word': 'topic_ng'}, inplace=True)\n",
        "review_v2_review_st = review_v2_review_st[['topic','topic_ng']].drop_duplicates() # 313"
      ],
      "metadata": {
        "colab": {
          "base_uri": "https://localhost:8080/"
        },
        "id": "eFbAwjDbc_Qm",
        "outputId": "76b44ac9-9075-4e62-e3a8-2c153eb60380"
      },
      "execution_count": null,
      "outputs": [
        {
          "output_type": "stream",
          "name": "stderr",
          "text": [
            "/usr/local/lib/python3.9/dist-packages/pandas/core/frame.py:5039: SettingWithCopyWarning: \n",
            "A value is trying to be set on a copy of a slice from a DataFrame\n",
            "\n",
            "See the caveats in the documentation: https://pandas.pydata.org/pandas-docs/stable/user_guide/indexing.html#returning-a-view-versus-a-copy\n",
            "  return super().rename(\n"
          ]
        }
      ]
    },
    {
      "cell_type": "code",
      "source": [
        "len(review_v2_review_st)"
      ],
      "metadata": {
        "colab": {
          "base_uri": "https://localhost:8080/"
        },
        "id": "39CS08m-dGiH",
        "outputId": "f9b03290-a29c-4d0c-afd6-f17cc3f1b507"
      },
      "execution_count": null,
      "outputs": [
        {
          "output_type": "execute_result",
          "data": {
            "text/plain": [
              "313"
            ]
          },
          "metadata": {},
          "execution_count": 21
        }
      ]
    },
    {
      "cell_type": "code",
      "source": [
        "\n",
        "import re\n",
        "\n",
        "def bigrams(s):\n",
        "    return [i for i in s if re.search(r'\\s', i) ]\n",
        "  \n",
        "def unigrams(s):\n",
        "    return [i for i in s if not re.search(r'\\s', i) ]\n",
        "\n",
        "\n",
        "topic_words = list(set(review_v2_review_st['topic_ng'].tolist()))\n",
        "\n",
        "word_bigrams_done = list(set(bigrams(topic_words)))\n",
        "print(word_bigrams_done)\n",
        "print(len(word_bigrams_done))\n",
        "                       \n",
        "word_unigrams_done = unigrams(topic_words)\n",
        "print(word_unigrams_done)\n",
        "print(len(word_unigrams_done))"
      ],
      "metadata": {
        "colab": {
          "base_uri": "https://localhost:8080/"
        },
        "id": "8yjQCf7grpgq",
        "outputId": "70f39212-7269-465c-d81d-c41d55a40093"
      },
      "execution_count": null,
      "outputs": [
        {
          "output_type": "stream",
          "name": "stdout",
          "text": [
            "['gas emission', 'source methane', 'emergency contraception', 'taxable income', 'conspiracy commit', 'illegally enter', 'reverence life', 'growth slow', 'anxiety screening', 'request asylum', 'venous thromboembolism', 'foreign national', 'arm dealer', 'death penalty', 'delta variant', 'blood thinner', 'certify presidential', 'brittany fonteno', 'coral reef', 'supply shortage', 'fda approve', 'deficit reduction', 'bodily autonomy', 'enroll medicare', 'arm trafficking', 'accusation sexual', 'dismiss illegitimate', 'knee surgery', 'unplanned pregnancy', 'break in', 'abbott bus', 'legal pathway', 'corona 19', 'financial institution', 'sleep habit', 'equity diversity', 'racial disparity', 'aggravate battery', 'american academy', 'attempt overturn', 'charge aggravated', 'birth defect', 'cost effective', 'gang relate', 'cognitive impairment', 'arrest allegedly', 'southern border', 'wildfire smoke', 'stock index', 'hearing aid', 'consumer spending', 'border mexico', 'primary caregiver', 'stock bond', 'possession methamphetamine', 'coal fire', 'central bank', 'practice disproportionately', 'armed dangerous', 'assault battery', 'treasury yield', 'felony warrant', 'double mastectomy', 'fed raise', 'count aggravated', 'nuclear plant', 'methane emission', 'immigrate us', 'cut taxis', 'gender transition', 'espionage act', 'housing affordability', 'price soar', 'citizenship immigration', 'suicide bombing', 'retirement saving', 'migrant cross', 'burglary suspect', 'pension fund', 'americans disability', 'repeatedly punch', 'animal cruelty', 'independent contractor', 'equitable inclusive', 'death sentence', 'food stamp', 'seasonal depression', 'erosion control', 'drug alcohol', 'opioid addiction', 'cleveland clinic', 'fed chair', 'fifth grader', 'cognitive behavioral', '10th grade', 'atrial fibrillation', 'educational institution', 'elementary middle', 'drug addict', 'anxiety depression', 'coinsurance copayment', 'oath allegiance', 'illegally cross', 'cell metabolism', 'riot capitol', 'legal status', 'price gasoline', 'agricultural land', 'breast milk', 'deadly mass', 'apply asylum', 'brain damage', 'nuclear power', 'vulnerable specie', 'commit theft', 'life unborn', 'possession intent', 'plastic surgery', 'private equity', 'electoral process', 'threat democracy', 'cancer diagnosis', 'raise interest', 'protest racial', 'pay upfront', 'dental care', 'monoclonal antibody', 'post traumatic', 'high schooler', 'mri scan', 'bodily injury', 'treasury department', 'personhood law', 'surgical procedure', 'housing shortage', 'mobile clinic', 'perform cpr', 'qualified staffing', 'semiautomatic rifle', 'birth control', 'accuse kill', 'assault weapon', 'shortage affordable', 'access reproductive', 'carbon pipeline', 'unwanted pregnancy', 'income household', 'tuition fee', 'bottled water', 'borrower creditworthiness', 'water conservation', 'capitol breach', 'chronic illness', 'jan 6', 'private insurer', 'sleep duration', 'illicit market', 'doctorate degree', 'ethanol plant', 'defer action', 'drug smuggling', 'kindergarten class', 'sanctuary city', 'assault possession', 'illegally possess', 'stress disorder', 'border security', 'inflation fed', 'wealth gap', 'possess intent', 'hike interest', 'supply demand', 'suspect custody', 'goldman sachs', 'ivy league', 'indecent exposure', 'occupational therapist', 'autoimmune disease', 'nato visa', 'water contaminate', 'healthy lifestyle']\n",
            "181\n",
            "['racialize', 'bullet', 'urology', 'psychosocial', 'neurosurgeon', 'payday', 'remission', 'nih', 'carjacker', 'sanofi', 'aquifer', 'adhd', 'kaiser', 'orthopedic', 'optometrist', 'foreclosure', 'payable', 'lethal', 'blackmail', 'aluminum', 'cortisone', 'surgical', 'methane', 'ib', 'neurologist', 'ebt', 'tif', 'aap', 'audit', 'refinance', 'discretionary', 'anticancer', 'cancer', 'otc', 'schizophrenia', 'erosion', 'cost', 'hbcu', 'diversification', 'ect', 'undergrad', 'tutoring', 'endangered', 'lumpectomy', 'instructional', 'ba45', 'castration', 'greenhouse', 'psychiatry', 'osteoporosis', 'inflation', 'fetal', 'obstetrician', 'asylum', 'developer', 'criminally', 'pregnant', 'migrate', 'apartment', 'rainforest', 'molestation', 'deductible', 'immigrate', 'physiological', 'steal', 'blm', 'discrimination', 'depletion', 'cardiomyopathy', 'poverty', 'ghgs', 'homebuyer', 'kill', 'pacemaker', 'combustion', 'agriculture', 'mri', 'ba46', 'nursing', 'surplus', 'funding', 'coastline', 'ak47', 'disabled', 'atmospheric', 'prejudicial', 'coal', 'embryo', 'authoritarian', 'business', 'racketeering', 'subdivision', 'scar', 'disenfranchisement', 'antidepressant', 'genocide', 'audits', 'orthopaedic', 'reuse', 'copd', 'alcoholism', 'infectious', 'stretcher', 'instruction', 'biomass', 'taxation', 'strangle', 'repatriation', 'injury', 'prognosis', 'endocrinologist', 'schooling', 'thyroidectomy', 'embezzlement', 'overdraft', 'psychology', 'shooting', 'ventilator', 'insomnia', 'legally', 'adderall', 'marginalization', 'wastewater', 'hospital', 'pregnancy', 'vacant', 'schizophrenic', 'menstruation']\n",
            "128\n"
          ]
        }
      ]
    },
    {
      "cell_type": "code",
      "source": [
        "\n",
        "import numpy as np\n",
        "\n",
        "df['topic_ng1'] = df['article_lemma_num'].astype(str).apply(lambda x: set.intersection(set(x.split(' ')), word_unigrams_done))\n",
        "df['topic_ng2'] = df['article_lemma_num'].astype(str).apply(lambda x: [i for i in word_bigrams_done if i in x])\n"
      ],
      "metadata": {
        "id": "zhPMTw_Ypge0"
      },
      "execution_count": null,
      "outputs": []
    },
    {
      "cell_type": "code",
      "source": [
        "df.sample(3)"
      ],
      "metadata": {
        "colab": {
          "base_uri": "https://localhost:8080/",
          "height": 433
        },
        "id": "WsEv3y-tdcBm",
        "outputId": "749c2964-0e7f-4b8d-8014-abd509a66856"
      },
      "execution_count": null,
      "outputs": [
        {
          "output_type": "execute_result",
          "data": {
            "text/plain": [
              "                              source  \\\n",
              "30481   Polk County Standard Journal   \n",
              "1796         Douglas County Sentinel   \n",
              "125048               WAGA TV 5 (Fox)   \n",
              "\n",
              "                                                  website  \\\n",
              "30481   http://www.northwestgeorgianews.com/polkfishwrap/   \n",
              "1796                http://www.douglascountysentinel.com/   \n",
              "125048                       http://www.myfoxatlanta.com/   \n",
              "\n",
              "                                              article_url  \\\n",
              "30481   https://www.northwestgeorgianews.com/fieldleve...   \n",
              "1796    https://www.douglascountysentinel.com/lifestyl...   \n",
              "125048  https://www.fox5atlanta.com/news/shaw-universi...   \n",
              "\n",
              "                                            article_title  \\\n",
              "30481   Bret Bielema faces old team, Illinois visits W...   \n",
              "1796    AI Could Improve Diagnostic Accuracy of Breast...   \n",
              "125048  Shaw University students stopped, searched in ...   \n",
              "\n",
              "                    article_author date_published  \\\n",
              "30481            Field Level Media     2022-09-26   \n",
              "1796    Physician’s Briefing Staff     2022-10-07   \n",
              "125048  FOX 5 Atlanta Digital Team     2022-10-11   \n",
              "\n",
              "                                               ner_places  \\\n",
              "30481   {'Italy (GPE)', 'Canada (GPE)', 'Republic of I...   \n",
              "1796    {'New York City (GPE)', 'Ph.D. (GPE)', 'Poland...   \n",
              "125048  {'Atlanta (GPE)', 'Raleigh (GPE)', 'North Caro...   \n",
              "\n",
              "                                        article_lemma_num  \\\n",
              "30481   country united states america virgin islands u...   \n",
              "1796    friday oct 7 2022 healthday news deep learning...   \n",
              "125048  article exterior shaw university locate raleig...   \n",
              "\n",
              "                                            article_final  translation_YN  \\\n",
              "30481   Country United States of America US Virgin Isl...               0   \n",
              "1796    FRIDAY, Oct. 7, 2022 (HealthDay News) -- A dee...               0   \n",
              "125048  article Exterior of Shaw University, located i...               0   \n",
              "\n",
              "            id                                           ner_orgs  \\\n",
              "30481    30482  {'Grand Duchy of Macao (ORG)', 'Republic of Bo...   \n",
              "1796      1797  {'Science Translational Medicine (ORG)', 'BI-R...   \n",
              "125048  125049  {'Shaw University (ORG)', 'the Center for Fina...   \n",
              "\n",
              "            topic_ng1           topic_ng2  \n",
              "30481              {}                  []  \n",
              "1796    {cancer, mri}  [cancer diagnosis]  \n",
              "125048             {}                  []  "
            ],
            "text/html": [
              "\n",
              "  <div id=\"df-76257451-799b-4541-8fdc-238731f64b13\">\n",
              "    <div class=\"colab-df-container\">\n",
              "      <div>\n",
              "<style scoped>\n",
              "    .dataframe tbody tr th:only-of-type {\n",
              "        vertical-align: middle;\n",
              "    }\n",
              "\n",
              "    .dataframe tbody tr th {\n",
              "        vertical-align: top;\n",
              "    }\n",
              "\n",
              "    .dataframe thead th {\n",
              "        text-align: right;\n",
              "    }\n",
              "</style>\n",
              "<table border=\"1\" class=\"dataframe\">\n",
              "  <thead>\n",
              "    <tr style=\"text-align: right;\">\n",
              "      <th></th>\n",
              "      <th>source</th>\n",
              "      <th>website</th>\n",
              "      <th>article_url</th>\n",
              "      <th>article_title</th>\n",
              "      <th>article_author</th>\n",
              "      <th>date_published</th>\n",
              "      <th>ner_places</th>\n",
              "      <th>article_lemma_num</th>\n",
              "      <th>article_final</th>\n",
              "      <th>translation_YN</th>\n",
              "      <th>id</th>\n",
              "      <th>ner_orgs</th>\n",
              "      <th>topic_ng1</th>\n",
              "      <th>topic_ng2</th>\n",
              "    </tr>\n",
              "  </thead>\n",
              "  <tbody>\n",
              "    <tr>\n",
              "      <th>30481</th>\n",
              "      <td>Polk County Standard Journal</td>\n",
              "      <td>http://www.northwestgeorgianews.com/polkfishwrap/</td>\n",
              "      <td>https://www.northwestgeorgianews.com/fieldleve...</td>\n",
              "      <td>Bret Bielema faces old team, Illinois visits W...</td>\n",
              "      <td>Field Level Media</td>\n",
              "      <td>2022-09-26</td>\n",
              "      <td>{'Italy (GPE)', 'Canada (GPE)', 'Republic of I...</td>\n",
              "      <td>country united states america virgin islands u...</td>\n",
              "      <td>Country United States of America US Virgin Isl...</td>\n",
              "      <td>0</td>\n",
              "      <td>30482</td>\n",
              "      <td>{'Grand Duchy of Macao (ORG)', 'Republic of Bo...</td>\n",
              "      <td>{}</td>\n",
              "      <td>[]</td>\n",
              "    </tr>\n",
              "    <tr>\n",
              "      <th>1796</th>\n",
              "      <td>Douglas County Sentinel</td>\n",
              "      <td>http://www.douglascountysentinel.com/</td>\n",
              "      <td>https://www.douglascountysentinel.com/lifestyl...</td>\n",
              "      <td>AI Could Improve Diagnostic Accuracy of Breast...</td>\n",
              "      <td>Physician’s Briefing Staff</td>\n",
              "      <td>2022-10-07</td>\n",
              "      <td>{'New York City (GPE)', 'Ph.D. (GPE)', 'Poland...</td>\n",
              "      <td>friday oct 7 2022 healthday news deep learning...</td>\n",
              "      <td>FRIDAY, Oct. 7, 2022 (HealthDay News) -- A dee...</td>\n",
              "      <td>0</td>\n",
              "      <td>1797</td>\n",
              "      <td>{'Science Translational Medicine (ORG)', 'BI-R...</td>\n",
              "      <td>{cancer, mri}</td>\n",
              "      <td>[cancer diagnosis]</td>\n",
              "    </tr>\n",
              "    <tr>\n",
              "      <th>125048</th>\n",
              "      <td>WAGA TV 5 (Fox)</td>\n",
              "      <td>http://www.myfoxatlanta.com/</td>\n",
              "      <td>https://www.fox5atlanta.com/news/shaw-universi...</td>\n",
              "      <td>Shaw University students stopped, searched in ...</td>\n",
              "      <td>FOX 5 Atlanta Digital Team</td>\n",
              "      <td>2022-10-11</td>\n",
              "      <td>{'Atlanta (GPE)', 'Raleigh (GPE)', 'North Caro...</td>\n",
              "      <td>article exterior shaw university locate raleig...</td>\n",
              "      <td>article Exterior of Shaw University, located i...</td>\n",
              "      <td>0</td>\n",
              "      <td>125049</td>\n",
              "      <td>{'Shaw University (ORG)', 'the Center for Fina...</td>\n",
              "      <td>{}</td>\n",
              "      <td>[]</td>\n",
              "    </tr>\n",
              "  </tbody>\n",
              "</table>\n",
              "</div>\n",
              "      <button class=\"colab-df-convert\" onclick=\"convertToInteractive('df-76257451-799b-4541-8fdc-238731f64b13')\"\n",
              "              title=\"Convert this dataframe to an interactive table.\"\n",
              "              style=\"display:none;\">\n",
              "        \n",
              "  <svg xmlns=\"http://www.w3.org/2000/svg\" height=\"24px\"viewBox=\"0 0 24 24\"\n",
              "       width=\"24px\">\n",
              "    <path d=\"M0 0h24v24H0V0z\" fill=\"none\"/>\n",
              "    <path d=\"M18.56 5.44l.94 2.06.94-2.06 2.06-.94-2.06-.94-.94-2.06-.94 2.06-2.06.94zm-11 1L8.5 8.5l.94-2.06 2.06-.94-2.06-.94L8.5 2.5l-.94 2.06-2.06.94zm10 10l.94 2.06.94-2.06 2.06-.94-2.06-.94-.94-2.06-.94 2.06-2.06.94z\"/><path d=\"M17.41 7.96l-1.37-1.37c-.4-.4-.92-.59-1.43-.59-.52 0-1.04.2-1.43.59L10.3 9.45l-7.72 7.72c-.78.78-.78 2.05 0 2.83L4 21.41c.39.39.9.59 1.41.59.51 0 1.02-.2 1.41-.59l7.78-7.78 2.81-2.81c.8-.78.8-2.07 0-2.86zM5.41 20L4 18.59l7.72-7.72 1.47 1.35L5.41 20z\"/>\n",
              "  </svg>\n",
              "      </button>\n",
              "      \n",
              "  <style>\n",
              "    .colab-df-container {\n",
              "      display:flex;\n",
              "      flex-wrap:wrap;\n",
              "      gap: 12px;\n",
              "    }\n",
              "\n",
              "    .colab-df-convert {\n",
              "      background-color: #E8F0FE;\n",
              "      border: none;\n",
              "      border-radius: 50%;\n",
              "      cursor: pointer;\n",
              "      display: none;\n",
              "      fill: #1967D2;\n",
              "      height: 32px;\n",
              "      padding: 0 0 0 0;\n",
              "      width: 32px;\n",
              "    }\n",
              "\n",
              "    .colab-df-convert:hover {\n",
              "      background-color: #E2EBFA;\n",
              "      box-shadow: 0px 1px 2px rgba(60, 64, 67, 0.3), 0px 1px 3px 1px rgba(60, 64, 67, 0.15);\n",
              "      fill: #174EA6;\n",
              "    }\n",
              "\n",
              "    [theme=dark] .colab-df-convert {\n",
              "      background-color: #3B4455;\n",
              "      fill: #D2E3FC;\n",
              "    }\n",
              "\n",
              "    [theme=dark] .colab-df-convert:hover {\n",
              "      background-color: #434B5C;\n",
              "      box-shadow: 0px 1px 3px 1px rgba(0, 0, 0, 0.15);\n",
              "      filter: drop-shadow(0px 1px 2px rgba(0, 0, 0, 0.3));\n",
              "      fill: #FFFFFF;\n",
              "    }\n",
              "  </style>\n",
              "\n",
              "      <script>\n",
              "        const buttonEl =\n",
              "          document.querySelector('#df-76257451-799b-4541-8fdc-238731f64b13 button.colab-df-convert');\n",
              "        buttonEl.style.display =\n",
              "          google.colab.kernel.accessAllowed ? 'block' : 'none';\n",
              "\n",
              "        async function convertToInteractive(key) {\n",
              "          const element = document.querySelector('#df-76257451-799b-4541-8fdc-238731f64b13');\n",
              "          const dataTable =\n",
              "            await google.colab.kernel.invokeFunction('convertToInteractive',\n",
              "                                                     [key], {});\n",
              "          if (!dataTable) return;\n",
              "\n",
              "          const docLinkHtml = 'Like what you see? Visit the ' +\n",
              "            '<a target=\"_blank\" href=https://colab.research.google.com/notebooks/data_table.ipynb>data table notebook</a>'\n",
              "            + ' to learn more about interactive tables.';\n",
              "          element.innerHTML = '';\n",
              "          dataTable['output_type'] = 'display_data';\n",
              "          await google.colab.output.renderOutput(dataTable, element);\n",
              "          const docLink = document.createElement('div');\n",
              "          docLink.innerHTML = docLinkHtml;\n",
              "          element.appendChild(docLink);\n",
              "        }\n",
              "      </script>\n",
              "    </div>\n",
              "  </div>\n",
              "  "
            ]
          },
          "metadata": {},
          "execution_count": 24
        }
      ]
    },
    {
      "cell_type": "code",
      "source": [
        "\n",
        "text_df_uni = df[(df['topic_ng1'].str.len()) > 0]\n",
        "text_df_bi = df[(df['topic_ng2'].str.len()) > 0]\n",
        "\n",
        "text_df_uni = text_df_uni[['id', 'source', 'article_final', 'topic_ng1']]\n",
        "text_df_bi = text_df_bi[['id', 'source','article_final', 'topic_ng2']]\n",
        "\n",
        "text_df_uni_df = text_df_uni.explode('topic_ng1')\n",
        "text_df_bi_df = text_df_bi.explode('topic_ng2')\n",
        "\n",
        "text_df_uni_df = text_df_uni_df.rename(columns={'topic_ng1': 'topic_ng'})\n",
        "text_df_bi_df = text_df_bi_df.rename(columns={'topic_ng2': 'topic_ng'})\n",
        "\n",
        "text_df_ng_all = pd.concat([text_df_uni_df, text_df_bi_df])\n",
        "\n"
      ],
      "metadata": {
        "id": "btr5QPVHsOvM"
      },
      "execution_count": null,
      "outputs": []
    },
    {
      "cell_type": "code",
      "source": [
        "text_df_ng_all = pd.merge(text_df_ng_all, review_v2_review_st, how='left', on = 'topic_ng')"
      ],
      "metadata": {
        "id": "hovRE3jCuMQZ"
      },
      "execution_count": null,
      "outputs": []
    },
    {
      "cell_type": "code",
      "source": [
        "text_df_ng_all # three words missing"
      ],
      "metadata": {
        "colab": {
          "base_uri": "https://localhost:8080/",
          "height": 424
        },
        "id": "BSTe2mXFTKbT",
        "outputId": "52a6b81d-584f-475b-e6e3-096f513fd720"
      },
      "execution_count": null,
      "outputs": [
        {
          "output_type": "execute_result",
          "data": {
            "text/plain": [
              "            id       source  \\\n",
              "0       173704    285 South   \n",
              "1       173702    285 South   \n",
              "2       173703    285 South   \n",
              "3       173705    285 South   \n",
              "4       173705    285 South   \n",
              "...        ...          ...   \n",
              "102757    3813  WQXI AM 790   \n",
              "102758    3813  WQXI AM 790   \n",
              "102759    3814  WQXI AM 790   \n",
              "102760    3815  WQXI AM 790   \n",
              "102761    3815  WQXI AM 790   \n",
              "\n",
              "                                            article_final        topic_ng  \\\n",
              "0       The GOP effort to court Hispanic voters: Repub...        shooting   \n",
              "1       The Guatemalan population in Georgia has almos...         migrate   \n",
              "2       It\\u2019s a busy month - lots of fundraisers a...        business   \n",
              "3       Sara Naqvi, publisher of the blog The Pakistan...        business   \n",
              "4       Sara Naqvi, publisher of the blog The Pakistan...       immigrate   \n",
              "...                                                   ...             ...   \n",
              "102757  Mi, 3 consecutive Giant Step… Return to the RO...       fed raise   \n",
              "102758  Mi, 3 consecutive Giant Step… Return to the RO...  raise interest   \n",
              "102759  2022 Fiscal year, more than 2 million immigran...   migrant cross   \n",
              "102760  The Fed's Economic Analyst is a 0.75 point inc...       fed raise   \n",
              "102761  The Fed's Economic Analyst is a 0.75 point inc...  raise interest   \n",
              "\n",
              "                                topic  \n",
              "0                                Guns  \n",
              "1       Immigration / border security  \n",
              "2                      Economy / Jobs  \n",
              "3                      Economy / Jobs  \n",
              "4       Immigration / border security  \n",
              "...                               ...  \n",
              "102757                 Economy / Jobs  \n",
              "102758                 Economy / Jobs  \n",
              "102759  Immigration / border security  \n",
              "102760                 Economy / Jobs  \n",
              "102761                 Economy / Jobs  \n",
              "\n",
              "[102762 rows x 5 columns]"
            ],
            "text/html": [
              "\n",
              "  <div id=\"df-f158b47a-4c68-4c5a-add3-0bd87b57c436\">\n",
              "    <div class=\"colab-df-container\">\n",
              "      <div>\n",
              "<style scoped>\n",
              "    .dataframe tbody tr th:only-of-type {\n",
              "        vertical-align: middle;\n",
              "    }\n",
              "\n",
              "    .dataframe tbody tr th {\n",
              "        vertical-align: top;\n",
              "    }\n",
              "\n",
              "    .dataframe thead th {\n",
              "        text-align: right;\n",
              "    }\n",
              "</style>\n",
              "<table border=\"1\" class=\"dataframe\">\n",
              "  <thead>\n",
              "    <tr style=\"text-align: right;\">\n",
              "      <th></th>\n",
              "      <th>id</th>\n",
              "      <th>source</th>\n",
              "      <th>article_final</th>\n",
              "      <th>topic_ng</th>\n",
              "      <th>topic</th>\n",
              "    </tr>\n",
              "  </thead>\n",
              "  <tbody>\n",
              "    <tr>\n",
              "      <th>0</th>\n",
              "      <td>173704</td>\n",
              "      <td>285 South</td>\n",
              "      <td>The GOP effort to court Hispanic voters: Repub...</td>\n",
              "      <td>shooting</td>\n",
              "      <td>Guns</td>\n",
              "    </tr>\n",
              "    <tr>\n",
              "      <th>1</th>\n",
              "      <td>173702</td>\n",
              "      <td>285 South</td>\n",
              "      <td>The Guatemalan population in Georgia has almos...</td>\n",
              "      <td>migrate</td>\n",
              "      <td>Immigration / border security</td>\n",
              "    </tr>\n",
              "    <tr>\n",
              "      <th>2</th>\n",
              "      <td>173703</td>\n",
              "      <td>285 South</td>\n",
              "      <td>It\\u2019s a busy month - lots of fundraisers a...</td>\n",
              "      <td>business</td>\n",
              "      <td>Economy / Jobs</td>\n",
              "    </tr>\n",
              "    <tr>\n",
              "      <th>3</th>\n",
              "      <td>173705</td>\n",
              "      <td>285 South</td>\n",
              "      <td>Sara Naqvi, publisher of the blog The Pakistan...</td>\n",
              "      <td>business</td>\n",
              "      <td>Economy / Jobs</td>\n",
              "    </tr>\n",
              "    <tr>\n",
              "      <th>4</th>\n",
              "      <td>173705</td>\n",
              "      <td>285 South</td>\n",
              "      <td>Sara Naqvi, publisher of the blog The Pakistan...</td>\n",
              "      <td>immigrate</td>\n",
              "      <td>Immigration / border security</td>\n",
              "    </tr>\n",
              "    <tr>\n",
              "      <th>...</th>\n",
              "      <td>...</td>\n",
              "      <td>...</td>\n",
              "      <td>...</td>\n",
              "      <td>...</td>\n",
              "      <td>...</td>\n",
              "    </tr>\n",
              "    <tr>\n",
              "      <th>102757</th>\n",
              "      <td>3813</td>\n",
              "      <td>WQXI AM 790</td>\n",
              "      <td>Mi, 3 consecutive Giant Step… Return to the RO...</td>\n",
              "      <td>fed raise</td>\n",
              "      <td>Economy / Jobs</td>\n",
              "    </tr>\n",
              "    <tr>\n",
              "      <th>102758</th>\n",
              "      <td>3813</td>\n",
              "      <td>WQXI AM 790</td>\n",
              "      <td>Mi, 3 consecutive Giant Step… Return to the RO...</td>\n",
              "      <td>raise interest</td>\n",
              "      <td>Economy / Jobs</td>\n",
              "    </tr>\n",
              "    <tr>\n",
              "      <th>102759</th>\n",
              "      <td>3814</td>\n",
              "      <td>WQXI AM 790</td>\n",
              "      <td>2022 Fiscal year, more than 2 million immigran...</td>\n",
              "      <td>migrant cross</td>\n",
              "      <td>Immigration / border security</td>\n",
              "    </tr>\n",
              "    <tr>\n",
              "      <th>102760</th>\n",
              "      <td>3815</td>\n",
              "      <td>WQXI AM 790</td>\n",
              "      <td>The Fed's Economic Analyst is a 0.75 point inc...</td>\n",
              "      <td>fed raise</td>\n",
              "      <td>Economy / Jobs</td>\n",
              "    </tr>\n",
              "    <tr>\n",
              "      <th>102761</th>\n",
              "      <td>3815</td>\n",
              "      <td>WQXI AM 790</td>\n",
              "      <td>The Fed's Economic Analyst is a 0.75 point inc...</td>\n",
              "      <td>raise interest</td>\n",
              "      <td>Economy / Jobs</td>\n",
              "    </tr>\n",
              "  </tbody>\n",
              "</table>\n",
              "<p>102762 rows × 5 columns</p>\n",
              "</div>\n",
              "      <button class=\"colab-df-convert\" onclick=\"convertToInteractive('df-f158b47a-4c68-4c5a-add3-0bd87b57c436')\"\n",
              "              title=\"Convert this dataframe to an interactive table.\"\n",
              "              style=\"display:none;\">\n",
              "        \n",
              "  <svg xmlns=\"http://www.w3.org/2000/svg\" height=\"24px\"viewBox=\"0 0 24 24\"\n",
              "       width=\"24px\">\n",
              "    <path d=\"M0 0h24v24H0V0z\" fill=\"none\"/>\n",
              "    <path d=\"M18.56 5.44l.94 2.06.94-2.06 2.06-.94-2.06-.94-.94-2.06-.94 2.06-2.06.94zm-11 1L8.5 8.5l.94-2.06 2.06-.94-2.06-.94L8.5 2.5l-.94 2.06-2.06.94zm10 10l.94 2.06.94-2.06 2.06-.94-2.06-.94-.94-2.06-.94 2.06-2.06.94z\"/><path d=\"M17.41 7.96l-1.37-1.37c-.4-.4-.92-.59-1.43-.59-.52 0-1.04.2-1.43.59L10.3 9.45l-7.72 7.72c-.78.78-.78 2.05 0 2.83L4 21.41c.39.39.9.59 1.41.59.51 0 1.02-.2 1.41-.59l7.78-7.78 2.81-2.81c.8-.78.8-2.07 0-2.86zM5.41 20L4 18.59l7.72-7.72 1.47 1.35L5.41 20z\"/>\n",
              "  </svg>\n",
              "      </button>\n",
              "      \n",
              "  <style>\n",
              "    .colab-df-container {\n",
              "      display:flex;\n",
              "      flex-wrap:wrap;\n",
              "      gap: 12px;\n",
              "    }\n",
              "\n",
              "    .colab-df-convert {\n",
              "      background-color: #E8F0FE;\n",
              "      border: none;\n",
              "      border-radius: 50%;\n",
              "      cursor: pointer;\n",
              "      display: none;\n",
              "      fill: #1967D2;\n",
              "      height: 32px;\n",
              "      padding: 0 0 0 0;\n",
              "      width: 32px;\n",
              "    }\n",
              "\n",
              "    .colab-df-convert:hover {\n",
              "      background-color: #E2EBFA;\n",
              "      box-shadow: 0px 1px 2px rgba(60, 64, 67, 0.3), 0px 1px 3px 1px rgba(60, 64, 67, 0.15);\n",
              "      fill: #174EA6;\n",
              "    }\n",
              "\n",
              "    [theme=dark] .colab-df-convert {\n",
              "      background-color: #3B4455;\n",
              "      fill: #D2E3FC;\n",
              "    }\n",
              "\n",
              "    [theme=dark] .colab-df-convert:hover {\n",
              "      background-color: #434B5C;\n",
              "      box-shadow: 0px 1px 3px 1px rgba(0, 0, 0, 0.15);\n",
              "      filter: drop-shadow(0px 1px 2px rgba(0, 0, 0, 0.3));\n",
              "      fill: #FFFFFF;\n",
              "    }\n",
              "  </style>\n",
              "\n",
              "      <script>\n",
              "        const buttonEl =\n",
              "          document.querySelector('#df-f158b47a-4c68-4c5a-add3-0bd87b57c436 button.colab-df-convert');\n",
              "        buttonEl.style.display =\n",
              "          google.colab.kernel.accessAllowed ? 'block' : 'none';\n",
              "\n",
              "        async function convertToInteractive(key) {\n",
              "          const element = document.querySelector('#df-f158b47a-4c68-4c5a-add3-0bd87b57c436');\n",
              "          const dataTable =\n",
              "            await google.colab.kernel.invokeFunction('convertToInteractive',\n",
              "                                                     [key], {});\n",
              "          if (!dataTable) return;\n",
              "\n",
              "          const docLinkHtml = 'Like what you see? Visit the ' +\n",
              "            '<a target=\"_blank\" href=https://colab.research.google.com/notebooks/data_table.ipynb>data table notebook</a>'\n",
              "            + ' to learn more about interactive tables.';\n",
              "          element.innerHTML = '';\n",
              "          dataTable['output_type'] = 'display_data';\n",
              "          await google.colab.output.renderOutput(dataTable, element);\n",
              "          const docLink = document.createElement('div');\n",
              "          docLink.innerHTML = docLinkHtml;\n",
              "          element.appendChild(docLink);\n",
              "        }\n",
              "      </script>\n",
              "    </div>\n",
              "  </div>\n",
              "  "
            ]
          },
          "metadata": {},
          "execution_count": 27
        }
      ]
    },
    {
      "cell_type": "code",
      "source": [
        "temp_count = text_df_ng_all.groupby(['topic', 'topic_ng']).count().reset_index()"
      ],
      "metadata": {
        "id": "TWY_o74MubRr"
      },
      "execution_count": null,
      "outputs": []
    },
    {
      "cell_type": "code",
      "source": [
        "temp_count"
      ],
      "metadata": {
        "colab": {
          "base_uri": "https://localhost:8080/",
          "height": 424
        },
        "id": "RlLY1SA2fnbj",
        "outputId": "fc7c8d58-6044-46fd-83f6-2e6cc468a517"
      },
      "execution_count": null,
      "outputs": [
        {
          "output_type": "execute_result",
          "data": {
            "text/plain": [
              "                 topic                     topic_ng   id  source  \\\n",
              "0             Abortion          access reproductive   41      41   \n",
              "1             Abortion              bodily autonomy   35      35   \n",
              "2             Abortion             brittany fonteno   10      10   \n",
              "3             Abortion                        fetal  243     243   \n",
              "4             Abortion                  life unborn   24      24   \n",
              "..                 ...                          ...  ...     ...   \n",
              "306  Racial inequality  practice disproportionately   30      30   \n",
              "307  Racial inequality                  prejudicial   31      31   \n",
              "308  Racial inequality               protest racial   22      22   \n",
              "309  Racial inequality             racial disparity   60      60   \n",
              "310  Racial inequality                    racialize   14      14   \n",
              "\n",
              "     article_final  \n",
              "0               41  \n",
              "1               35  \n",
              "2               10  \n",
              "3              243  \n",
              "4               24  \n",
              "..             ...  \n",
              "306             30  \n",
              "307             31  \n",
              "308             22  \n",
              "309             60  \n",
              "310             14  \n",
              "\n",
              "[311 rows x 5 columns]"
            ],
            "text/html": [
              "\n",
              "  <div id=\"df-4560351a-3774-4485-9e84-23b8ab227b7b\">\n",
              "    <div class=\"colab-df-container\">\n",
              "      <div>\n",
              "<style scoped>\n",
              "    .dataframe tbody tr th:only-of-type {\n",
              "        vertical-align: middle;\n",
              "    }\n",
              "\n",
              "    .dataframe tbody tr th {\n",
              "        vertical-align: top;\n",
              "    }\n",
              "\n",
              "    .dataframe thead th {\n",
              "        text-align: right;\n",
              "    }\n",
              "</style>\n",
              "<table border=\"1\" class=\"dataframe\">\n",
              "  <thead>\n",
              "    <tr style=\"text-align: right;\">\n",
              "      <th></th>\n",
              "      <th>topic</th>\n",
              "      <th>topic_ng</th>\n",
              "      <th>id</th>\n",
              "      <th>source</th>\n",
              "      <th>article_final</th>\n",
              "    </tr>\n",
              "  </thead>\n",
              "  <tbody>\n",
              "    <tr>\n",
              "      <th>0</th>\n",
              "      <td>Abortion</td>\n",
              "      <td>access reproductive</td>\n",
              "      <td>41</td>\n",
              "      <td>41</td>\n",
              "      <td>41</td>\n",
              "    </tr>\n",
              "    <tr>\n",
              "      <th>1</th>\n",
              "      <td>Abortion</td>\n",
              "      <td>bodily autonomy</td>\n",
              "      <td>35</td>\n",
              "      <td>35</td>\n",
              "      <td>35</td>\n",
              "    </tr>\n",
              "    <tr>\n",
              "      <th>2</th>\n",
              "      <td>Abortion</td>\n",
              "      <td>brittany fonteno</td>\n",
              "      <td>10</td>\n",
              "      <td>10</td>\n",
              "      <td>10</td>\n",
              "    </tr>\n",
              "    <tr>\n",
              "      <th>3</th>\n",
              "      <td>Abortion</td>\n",
              "      <td>fetal</td>\n",
              "      <td>243</td>\n",
              "      <td>243</td>\n",
              "      <td>243</td>\n",
              "    </tr>\n",
              "    <tr>\n",
              "      <th>4</th>\n",
              "      <td>Abortion</td>\n",
              "      <td>life unborn</td>\n",
              "      <td>24</td>\n",
              "      <td>24</td>\n",
              "      <td>24</td>\n",
              "    </tr>\n",
              "    <tr>\n",
              "      <th>...</th>\n",
              "      <td>...</td>\n",
              "      <td>...</td>\n",
              "      <td>...</td>\n",
              "      <td>...</td>\n",
              "      <td>...</td>\n",
              "    </tr>\n",
              "    <tr>\n",
              "      <th>306</th>\n",
              "      <td>Racial inequality</td>\n",
              "      <td>practice disproportionately</td>\n",
              "      <td>30</td>\n",
              "      <td>30</td>\n",
              "      <td>30</td>\n",
              "    </tr>\n",
              "    <tr>\n",
              "      <th>307</th>\n",
              "      <td>Racial inequality</td>\n",
              "      <td>prejudicial</td>\n",
              "      <td>31</td>\n",
              "      <td>31</td>\n",
              "      <td>31</td>\n",
              "    </tr>\n",
              "    <tr>\n",
              "      <th>308</th>\n",
              "      <td>Racial inequality</td>\n",
              "      <td>protest racial</td>\n",
              "      <td>22</td>\n",
              "      <td>22</td>\n",
              "      <td>22</td>\n",
              "    </tr>\n",
              "    <tr>\n",
              "      <th>309</th>\n",
              "      <td>Racial inequality</td>\n",
              "      <td>racial disparity</td>\n",
              "      <td>60</td>\n",
              "      <td>60</td>\n",
              "      <td>60</td>\n",
              "    </tr>\n",
              "    <tr>\n",
              "      <th>310</th>\n",
              "      <td>Racial inequality</td>\n",
              "      <td>racialize</td>\n",
              "      <td>14</td>\n",
              "      <td>14</td>\n",
              "      <td>14</td>\n",
              "    </tr>\n",
              "  </tbody>\n",
              "</table>\n",
              "<p>311 rows × 5 columns</p>\n",
              "</div>\n",
              "      <button class=\"colab-df-convert\" onclick=\"convertToInteractive('df-4560351a-3774-4485-9e84-23b8ab227b7b')\"\n",
              "              title=\"Convert this dataframe to an interactive table.\"\n",
              "              style=\"display:none;\">\n",
              "        \n",
              "  <svg xmlns=\"http://www.w3.org/2000/svg\" height=\"24px\"viewBox=\"0 0 24 24\"\n",
              "       width=\"24px\">\n",
              "    <path d=\"M0 0h24v24H0V0z\" fill=\"none\"/>\n",
              "    <path d=\"M18.56 5.44l.94 2.06.94-2.06 2.06-.94-2.06-.94-.94-2.06-.94 2.06-2.06.94zm-11 1L8.5 8.5l.94-2.06 2.06-.94-2.06-.94L8.5 2.5l-.94 2.06-2.06.94zm10 10l.94 2.06.94-2.06 2.06-.94-2.06-.94-.94-2.06-.94 2.06-2.06.94z\"/><path d=\"M17.41 7.96l-1.37-1.37c-.4-.4-.92-.59-1.43-.59-.52 0-1.04.2-1.43.59L10.3 9.45l-7.72 7.72c-.78.78-.78 2.05 0 2.83L4 21.41c.39.39.9.59 1.41.59.51 0 1.02-.2 1.41-.59l7.78-7.78 2.81-2.81c.8-.78.8-2.07 0-2.86zM5.41 20L4 18.59l7.72-7.72 1.47 1.35L5.41 20z\"/>\n",
              "  </svg>\n",
              "      </button>\n",
              "      \n",
              "  <style>\n",
              "    .colab-df-container {\n",
              "      display:flex;\n",
              "      flex-wrap:wrap;\n",
              "      gap: 12px;\n",
              "    }\n",
              "\n",
              "    .colab-df-convert {\n",
              "      background-color: #E8F0FE;\n",
              "      border: none;\n",
              "      border-radius: 50%;\n",
              "      cursor: pointer;\n",
              "      display: none;\n",
              "      fill: #1967D2;\n",
              "      height: 32px;\n",
              "      padding: 0 0 0 0;\n",
              "      width: 32px;\n",
              "    }\n",
              "\n",
              "    .colab-df-convert:hover {\n",
              "      background-color: #E2EBFA;\n",
              "      box-shadow: 0px 1px 2px rgba(60, 64, 67, 0.3), 0px 1px 3px 1px rgba(60, 64, 67, 0.15);\n",
              "      fill: #174EA6;\n",
              "    }\n",
              "\n",
              "    [theme=dark] .colab-df-convert {\n",
              "      background-color: #3B4455;\n",
              "      fill: #D2E3FC;\n",
              "    }\n",
              "\n",
              "    [theme=dark] .colab-df-convert:hover {\n",
              "      background-color: #434B5C;\n",
              "      box-shadow: 0px 1px 3px 1px rgba(0, 0, 0, 0.15);\n",
              "      filter: drop-shadow(0px 1px 2px rgba(0, 0, 0, 0.3));\n",
              "      fill: #FFFFFF;\n",
              "    }\n",
              "  </style>\n",
              "\n",
              "      <script>\n",
              "        const buttonEl =\n",
              "          document.querySelector('#df-4560351a-3774-4485-9e84-23b8ab227b7b button.colab-df-convert');\n",
              "        buttonEl.style.display =\n",
              "          google.colab.kernel.accessAllowed ? 'block' : 'none';\n",
              "\n",
              "        async function convertToInteractive(key) {\n",
              "          const element = document.querySelector('#df-4560351a-3774-4485-9e84-23b8ab227b7b');\n",
              "          const dataTable =\n",
              "            await google.colab.kernel.invokeFunction('convertToInteractive',\n",
              "                                                     [key], {});\n",
              "          if (!dataTable) return;\n",
              "\n",
              "          const docLinkHtml = 'Like what you see? Visit the ' +\n",
              "            '<a target=\"_blank\" href=https://colab.research.google.com/notebooks/data_table.ipynb>data table notebook</a>'\n",
              "            + ' to learn more about interactive tables.';\n",
              "          element.innerHTML = '';\n",
              "          dataTable['output_type'] = 'display_data';\n",
              "          await google.colab.output.renderOutput(dataTable, element);\n",
              "          const docLink = document.createElement('div');\n",
              "          docLink.innerHTML = docLinkHtml;\n",
              "          element.appendChild(docLink);\n",
              "        }\n",
              "      </script>\n",
              "    </div>\n",
              "  </div>\n",
              "  "
            ]
          },
          "metadata": {},
          "execution_count": 29
        }
      ]
    },
    {
      "cell_type": "code",
      "source": [
        "# merge_uni_m10 = text_df_ng_all[~text_df_ng_all['topic_ng'].isin(temp_count_l10_topic)]\n",
        "# merge_uni_m10_group = merge_uni_m10.groupby('topic_ng').apply(lambda x: x.sample(10, replace=False)).reset_index(drop=True)\n",
        "\n",
        "# merge_uni_l10 = text_df_ng_all[text_df_ng_all['topic_ng'].isin(temp_count_l10_topic)]\n",
        "# merge_uni_l10_group = merge_uni_l10.groupby('topic_ng').apply(lambda x: x.sample(10, replace=True)).reset_index(drop=True)\n",
        "\n",
        "# merge_uni_both = pd.concat([merge_uni_m10_group, merge_uni_l10_group])\n",
        "\n",
        "merge_uni_both = text_df_ng_all.groupby(['topic', 'topic_ng']).apply(lambda x: x.sample(10, replace=True)).reset_index(drop=True)\n"
      ],
      "metadata": {
        "id": "Td31S1CqusoG"
      },
      "execution_count": null,
      "outputs": []
    },
    {
      "cell_type": "code",
      "source": [
        "merge_uni_both"
      ],
      "metadata": {
        "colab": {
          "base_uri": "https://localhost:8080/",
          "height": 424
        },
        "id": "nqZm9zQtS-Ih",
        "outputId": "a1b3e6ef-1e9d-4fd6-a0de-d0b63db4ac3f"
      },
      "execution_count": null,
      "outputs": [
        {
          "output_type": "execute_result",
          "data": {
            "text/plain": [
              "          id              source  \\\n",
              "0     141601          Decaturish   \n",
              "1     182746   WRBL News 3 (CBS)   \n",
              "2     180022     WJBF TV 6 (ABC)   \n",
              "3      48707    WGCL TV 46 (CBS)   \n",
              "4      68691          WSB AM 750   \n",
              "...      ...                 ...   \n",
              "3105   19927  Atlanta Black Star   \n",
              "3106  186815      WSB TV 2 (ABC)   \n",
              "3107   67742         WRFC AM 960   \n",
              "3108   67616         WRFC AM 960   \n",
              "3109   97695    Atlanta Magazine   \n",
              "\n",
              "                                          article_final             topic_ng  \\\n",
              "0     Decaturish and Tucker Observer sent candidate ...  access reproductive   \n",
              "1     (NerdWallet) – Would you be able to quickly ob...  access reproductive   \n",
              "2     (NerdWallet) – Would you be able to quickly ob...  access reproductive   \n",
              "3     WASHINGTON (AP) — With few options for strengt...  access reproductive   \n",
              "4     As abortion remains a key issue in the upcomin...  access reproductive   \n",
              "...                                                 ...                  ...   \n",
              "3105  The white woman who made headlines in 2020 for...            racialize   \n",
              "3106  A single pair of Levi’s jeans, dating to the 1...            racialize   \n",
              "3107  A single pair of Levi’s jeans, dating to the 1...            racialize   \n",
              "3108  Tulsi Gabbard says she is leaving the Democrat...            racialize   \n",
              "3109  Jalyn Hall and Danielle Deadwyler as Emmett Ti...            racialize   \n",
              "\n",
              "                  topic  \n",
              "0              Abortion  \n",
              "1              Abortion  \n",
              "2              Abortion  \n",
              "3              Abortion  \n",
              "4              Abortion  \n",
              "...                 ...  \n",
              "3105  Racial inequality  \n",
              "3106  Racial inequality  \n",
              "3107  Racial inequality  \n",
              "3108  Racial inequality  \n",
              "3109  Racial inequality  \n",
              "\n",
              "[3110 rows x 5 columns]"
            ],
            "text/html": [
              "\n",
              "  <div id=\"df-b63ca351-e465-4cd9-b557-72d03fcf6cad\">\n",
              "    <div class=\"colab-df-container\">\n",
              "      <div>\n",
              "<style scoped>\n",
              "    .dataframe tbody tr th:only-of-type {\n",
              "        vertical-align: middle;\n",
              "    }\n",
              "\n",
              "    .dataframe tbody tr th {\n",
              "        vertical-align: top;\n",
              "    }\n",
              "\n",
              "    .dataframe thead th {\n",
              "        text-align: right;\n",
              "    }\n",
              "</style>\n",
              "<table border=\"1\" class=\"dataframe\">\n",
              "  <thead>\n",
              "    <tr style=\"text-align: right;\">\n",
              "      <th></th>\n",
              "      <th>id</th>\n",
              "      <th>source</th>\n",
              "      <th>article_final</th>\n",
              "      <th>topic_ng</th>\n",
              "      <th>topic</th>\n",
              "    </tr>\n",
              "  </thead>\n",
              "  <tbody>\n",
              "    <tr>\n",
              "      <th>0</th>\n",
              "      <td>141601</td>\n",
              "      <td>Decaturish</td>\n",
              "      <td>Decaturish and Tucker Observer sent candidate ...</td>\n",
              "      <td>access reproductive</td>\n",
              "      <td>Abortion</td>\n",
              "    </tr>\n",
              "    <tr>\n",
              "      <th>1</th>\n",
              "      <td>182746</td>\n",
              "      <td>WRBL News 3 (CBS)</td>\n",
              "      <td>(NerdWallet) – Would you be able to quickly ob...</td>\n",
              "      <td>access reproductive</td>\n",
              "      <td>Abortion</td>\n",
              "    </tr>\n",
              "    <tr>\n",
              "      <th>2</th>\n",
              "      <td>180022</td>\n",
              "      <td>WJBF TV 6 (ABC)</td>\n",
              "      <td>(NerdWallet) – Would you be able to quickly ob...</td>\n",
              "      <td>access reproductive</td>\n",
              "      <td>Abortion</td>\n",
              "    </tr>\n",
              "    <tr>\n",
              "      <th>3</th>\n",
              "      <td>48707</td>\n",
              "      <td>WGCL TV 46 (CBS)</td>\n",
              "      <td>WASHINGTON (AP) — With few options for strengt...</td>\n",
              "      <td>access reproductive</td>\n",
              "      <td>Abortion</td>\n",
              "    </tr>\n",
              "    <tr>\n",
              "      <th>4</th>\n",
              "      <td>68691</td>\n",
              "      <td>WSB AM 750</td>\n",
              "      <td>As abortion remains a key issue in the upcomin...</td>\n",
              "      <td>access reproductive</td>\n",
              "      <td>Abortion</td>\n",
              "    </tr>\n",
              "    <tr>\n",
              "      <th>...</th>\n",
              "      <td>...</td>\n",
              "      <td>...</td>\n",
              "      <td>...</td>\n",
              "      <td>...</td>\n",
              "      <td>...</td>\n",
              "    </tr>\n",
              "    <tr>\n",
              "      <th>3105</th>\n",
              "      <td>19927</td>\n",
              "      <td>Atlanta Black Star</td>\n",
              "      <td>The white woman who made headlines in 2020 for...</td>\n",
              "      <td>racialize</td>\n",
              "      <td>Racial inequality</td>\n",
              "    </tr>\n",
              "    <tr>\n",
              "      <th>3106</th>\n",
              "      <td>186815</td>\n",
              "      <td>WSB TV 2 (ABC)</td>\n",
              "      <td>A single pair of Levi’s jeans, dating to the 1...</td>\n",
              "      <td>racialize</td>\n",
              "      <td>Racial inequality</td>\n",
              "    </tr>\n",
              "    <tr>\n",
              "      <th>3107</th>\n",
              "      <td>67742</td>\n",
              "      <td>WRFC AM 960</td>\n",
              "      <td>A single pair of Levi’s jeans, dating to the 1...</td>\n",
              "      <td>racialize</td>\n",
              "      <td>Racial inequality</td>\n",
              "    </tr>\n",
              "    <tr>\n",
              "      <th>3108</th>\n",
              "      <td>67616</td>\n",
              "      <td>WRFC AM 960</td>\n",
              "      <td>Tulsi Gabbard says she is leaving the Democrat...</td>\n",
              "      <td>racialize</td>\n",
              "      <td>Racial inequality</td>\n",
              "    </tr>\n",
              "    <tr>\n",
              "      <th>3109</th>\n",
              "      <td>97695</td>\n",
              "      <td>Atlanta Magazine</td>\n",
              "      <td>Jalyn Hall and Danielle Deadwyler as Emmett Ti...</td>\n",
              "      <td>racialize</td>\n",
              "      <td>Racial inequality</td>\n",
              "    </tr>\n",
              "  </tbody>\n",
              "</table>\n",
              "<p>3110 rows × 5 columns</p>\n",
              "</div>\n",
              "      <button class=\"colab-df-convert\" onclick=\"convertToInteractive('df-b63ca351-e465-4cd9-b557-72d03fcf6cad')\"\n",
              "              title=\"Convert this dataframe to an interactive table.\"\n",
              "              style=\"display:none;\">\n",
              "        \n",
              "  <svg xmlns=\"http://www.w3.org/2000/svg\" height=\"24px\"viewBox=\"0 0 24 24\"\n",
              "       width=\"24px\">\n",
              "    <path d=\"M0 0h24v24H0V0z\" fill=\"none\"/>\n",
              "    <path d=\"M18.56 5.44l.94 2.06.94-2.06 2.06-.94-2.06-.94-.94-2.06-.94 2.06-2.06.94zm-11 1L8.5 8.5l.94-2.06 2.06-.94-2.06-.94L8.5 2.5l-.94 2.06-2.06.94zm10 10l.94 2.06.94-2.06 2.06-.94-2.06-.94-.94-2.06-.94 2.06-2.06.94z\"/><path d=\"M17.41 7.96l-1.37-1.37c-.4-.4-.92-.59-1.43-.59-.52 0-1.04.2-1.43.59L10.3 9.45l-7.72 7.72c-.78.78-.78 2.05 0 2.83L4 21.41c.39.39.9.59 1.41.59.51 0 1.02-.2 1.41-.59l7.78-7.78 2.81-2.81c.8-.78.8-2.07 0-2.86zM5.41 20L4 18.59l7.72-7.72 1.47 1.35L5.41 20z\"/>\n",
              "  </svg>\n",
              "      </button>\n",
              "      \n",
              "  <style>\n",
              "    .colab-df-container {\n",
              "      display:flex;\n",
              "      flex-wrap:wrap;\n",
              "      gap: 12px;\n",
              "    }\n",
              "\n",
              "    .colab-df-convert {\n",
              "      background-color: #E8F0FE;\n",
              "      border: none;\n",
              "      border-radius: 50%;\n",
              "      cursor: pointer;\n",
              "      display: none;\n",
              "      fill: #1967D2;\n",
              "      height: 32px;\n",
              "      padding: 0 0 0 0;\n",
              "      width: 32px;\n",
              "    }\n",
              "\n",
              "    .colab-df-convert:hover {\n",
              "      background-color: #E2EBFA;\n",
              "      box-shadow: 0px 1px 2px rgba(60, 64, 67, 0.3), 0px 1px 3px 1px rgba(60, 64, 67, 0.15);\n",
              "      fill: #174EA6;\n",
              "    }\n",
              "\n",
              "    [theme=dark] .colab-df-convert {\n",
              "      background-color: #3B4455;\n",
              "      fill: #D2E3FC;\n",
              "    }\n",
              "\n",
              "    [theme=dark] .colab-df-convert:hover {\n",
              "      background-color: #434B5C;\n",
              "      box-shadow: 0px 1px 3px 1px rgba(0, 0, 0, 0.15);\n",
              "      filter: drop-shadow(0px 1px 2px rgba(0, 0, 0, 0.3));\n",
              "      fill: #FFFFFF;\n",
              "    }\n",
              "  </style>\n",
              "\n",
              "      <script>\n",
              "        const buttonEl =\n",
              "          document.querySelector('#df-b63ca351-e465-4cd9-b557-72d03fcf6cad button.colab-df-convert');\n",
              "        buttonEl.style.display =\n",
              "          google.colab.kernel.accessAllowed ? 'block' : 'none';\n",
              "\n",
              "        async function convertToInteractive(key) {\n",
              "          const element = document.querySelector('#df-b63ca351-e465-4cd9-b557-72d03fcf6cad');\n",
              "          const dataTable =\n",
              "            await google.colab.kernel.invokeFunction('convertToInteractive',\n",
              "                                                     [key], {});\n",
              "          if (!dataTable) return;\n",
              "\n",
              "          const docLinkHtml = 'Like what you see? Visit the ' +\n",
              "            '<a target=\"_blank\" href=https://colab.research.google.com/notebooks/data_table.ipynb>data table notebook</a>'\n",
              "            + ' to learn more about interactive tables.';\n",
              "          element.innerHTML = '';\n",
              "          dataTable['output_type'] = 'display_data';\n",
              "          await google.colab.output.renderOutput(dataTable, element);\n",
              "          const docLink = document.createElement('div');\n",
              "          docLink.innerHTML = docLinkHtml;\n",
              "          element.appendChild(docLink);\n",
              "        }\n",
              "      </script>\n",
              "    </div>\n",
              "  </div>\n",
              "  "
            ]
          },
          "metadata": {},
          "execution_count": 31
        }
      ]
    },
    {
      "cell_type": "code",
      "source": [
        "import nltk\n",
        "nltk.download('punkt')\n",
        "from nltk.tokenize import sent_tokenize\n",
        "by_sentence = merge_uni_both['article_final'].apply(lambda x : sent_tokenize(x)).apply(pd.Series,1).stack()\n",
        "by_sentence_df = pd.DataFrame(by_sentence)\n",
        "by_sentence_df.rename(columns={0:'sentence_each'}, inplace=True)\n",
        "\n",
        "by_sentence_df['sentence_turn'] = by_sentence_df.index.get_level_values(1)\n",
        "by_sentence_df.index = by_sentence_df.index.get_level_values(0)\n"
      ],
      "metadata": {
        "colab": {
          "base_uri": "https://localhost:8080/"
        },
        "id": "UQgRuaERuuoW",
        "outputId": "93fa24d8-835c-4ece-a5e8-26a8b4361590"
      },
      "execution_count": null,
      "outputs": [
        {
          "output_type": "stream",
          "name": "stderr",
          "text": [
            "[nltk_data] Downloading package punkt to /root/nltk_data...\n",
            "[nltk_data]   Package punkt is already up-to-date!\n"
          ]
        }
      ]
    },
    {
      "cell_type": "code",
      "source": [
        "merge_all_join = pd.concat([merge_uni_both, by_sentence_df], axis=1)\n",
        "merge_all_join['sentence_each_lemma'] = merge_all_join['sentence_each'].str.lower().astype(str).apply(get_lemmas_num)\n",
        "\n"
      ],
      "metadata": {
        "id": "jtbMCBWc7nS2"
      },
      "execution_count": null,
      "outputs": []
    },
    {
      "cell_type": "code",
      "source": [
        "merge_all_join['topic_words_YN'] = merge_all_join.apply(lambda x: x.topic_ng in x.sentence_each_lemma, axis=1)\n",
        "merge_all_join['topic_words_YN_lead'] = merge_all_join.groupby(['topic', 'topic_ng'])['topic_words_YN'].shift(-1)\n",
        "merge_all_join.reset_index(drop=True, inplace=True)\n",
        "\n"
      ],
      "metadata": {
        "id": "9h1_-IaE8gh4"
      },
      "execution_count": null,
      "outputs": []
    },
    {
      "cell_type": "code",
      "source": [
        "merge_all_join[\"row_id\"] = merge_all_join.index + 1\n"
      ],
      "metadata": {
        "id": "qDHaKE-g9mws"
      },
      "execution_count": null,
      "outputs": []
    },
    {
      "cell_type": "code",
      "source": [
        "merge_sentence_select_in = merge_all_join[ (merge_all_join['topic_words_YN']== True)]\n"
      ],
      "metadata": {
        "id": "_10He27MegqP"
      },
      "execution_count": null,
      "outputs": []
    },
    {
      "cell_type": "code",
      "source": [
        "merge_sentence_only = merge_sentence_select_in.drop(columns=['article_final'])\n",
        "merge_sentence_only['str_count'] = merge_sentence_only.sentence_each.str.count(\" \") # remove string count less than 3"
      ],
      "metadata": {
        "id": "B9peqlCpeEiV"
      },
      "execution_count": null,
      "outputs": []
    },
    {
      "cell_type": "code",
      "source": [
        "merge_sentence_only = merge_sentence_only[merge_sentence_only['str_count'] >= 3]"
      ],
      "metadata": {
        "id": "vZUA96nEexxk"
      },
      "execution_count": null,
      "outputs": []
    },
    {
      "cell_type": "code",
      "source": [
        "merge_sentence_only_10 = merge_sentence_only.groupby(['topic', 'topic_ng']).apply(lambda x: x.sample(10, replace=True)).reset_index(drop=True)\n"
      ],
      "metadata": {
        "id": "Ri0biYJ8PR_j"
      },
      "execution_count": null,
      "outputs": []
    },
    {
      "cell_type": "code",
      "source": [
        "test = merge_sentence_only_10.groupby(['topic', 'topic_ng']).count().reset_index()\n",
        "test"
      ],
      "metadata": {
        "colab": {
          "base_uri": "https://localhost:8080/",
          "height": 592
        },
        "id": "iZSXpew4fROE",
        "outputId": "5e264a85-d9bb-4328-99fd-a74112560c5d"
      },
      "execution_count": null,
      "outputs": [
        {
          "output_type": "execute_result",
          "data": {
            "text/plain": [
              "                 topic                     topic_ng  id  source  \\\n",
              "0             Abortion          access reproductive  10      10   \n",
              "1             Abortion              bodily autonomy  10      10   \n",
              "2             Abortion             brittany fonteno  10      10   \n",
              "3             Abortion                        fetal  10      10   \n",
              "4             Abortion                  life unborn  10      10   \n",
              "..                 ...                          ...  ..     ...   \n",
              "306  Racial inequality  practice disproportionately  10      10   \n",
              "307  Racial inequality                  prejudicial  10      10   \n",
              "308  Racial inequality               protest racial  10      10   \n",
              "309  Racial inequality             racial disparity  10      10   \n",
              "310  Racial inequality                    racialize  10      10   \n",
              "\n",
              "     sentence_each  sentence_turn  sentence_each_lemma  topic_words_YN  \\\n",
              "0               10             10                   10              10   \n",
              "1               10             10                   10              10   \n",
              "2               10             10                   10              10   \n",
              "3               10             10                   10              10   \n",
              "4               10             10                   10              10   \n",
              "..             ...            ...                  ...             ...   \n",
              "306             10             10                   10              10   \n",
              "307             10             10                   10              10   \n",
              "308             10             10                   10              10   \n",
              "309             10             10                   10              10   \n",
              "310             10             10                   10              10   \n",
              "\n",
              "     topic_words_YN_lead  row_id  str_count  \n",
              "0                     10      10         10  \n",
              "1                     10      10         10  \n",
              "2                     10      10         10  \n",
              "3                     10      10         10  \n",
              "4                     10      10         10  \n",
              "..                   ...     ...        ...  \n",
              "306                   10      10         10  \n",
              "307                   10      10         10  \n",
              "308                   10      10         10  \n",
              "309                   10      10         10  \n",
              "310                   10      10         10  \n",
              "\n",
              "[311 rows x 11 columns]"
            ],
            "text/html": [
              "\n",
              "  <div id=\"df-9beb5738-f4e1-4735-8d7e-897c01fb6585\">\n",
              "    <div class=\"colab-df-container\">\n",
              "      <div>\n",
              "<style scoped>\n",
              "    .dataframe tbody tr th:only-of-type {\n",
              "        vertical-align: middle;\n",
              "    }\n",
              "\n",
              "    .dataframe tbody tr th {\n",
              "        vertical-align: top;\n",
              "    }\n",
              "\n",
              "    .dataframe thead th {\n",
              "        text-align: right;\n",
              "    }\n",
              "</style>\n",
              "<table border=\"1\" class=\"dataframe\">\n",
              "  <thead>\n",
              "    <tr style=\"text-align: right;\">\n",
              "      <th></th>\n",
              "      <th>topic</th>\n",
              "      <th>topic_ng</th>\n",
              "      <th>id</th>\n",
              "      <th>source</th>\n",
              "      <th>sentence_each</th>\n",
              "      <th>sentence_turn</th>\n",
              "      <th>sentence_each_lemma</th>\n",
              "      <th>topic_words_YN</th>\n",
              "      <th>topic_words_YN_lead</th>\n",
              "      <th>row_id</th>\n",
              "      <th>str_count</th>\n",
              "    </tr>\n",
              "  </thead>\n",
              "  <tbody>\n",
              "    <tr>\n",
              "      <th>0</th>\n",
              "      <td>Abortion</td>\n",
              "      <td>access reproductive</td>\n",
              "      <td>10</td>\n",
              "      <td>10</td>\n",
              "      <td>10</td>\n",
              "      <td>10</td>\n",
              "      <td>10</td>\n",
              "      <td>10</td>\n",
              "      <td>10</td>\n",
              "      <td>10</td>\n",
              "      <td>10</td>\n",
              "    </tr>\n",
              "    <tr>\n",
              "      <th>1</th>\n",
              "      <td>Abortion</td>\n",
              "      <td>bodily autonomy</td>\n",
              "      <td>10</td>\n",
              "      <td>10</td>\n",
              "      <td>10</td>\n",
              "      <td>10</td>\n",
              "      <td>10</td>\n",
              "      <td>10</td>\n",
              "      <td>10</td>\n",
              "      <td>10</td>\n",
              "      <td>10</td>\n",
              "    </tr>\n",
              "    <tr>\n",
              "      <th>2</th>\n",
              "      <td>Abortion</td>\n",
              "      <td>brittany fonteno</td>\n",
              "      <td>10</td>\n",
              "      <td>10</td>\n",
              "      <td>10</td>\n",
              "      <td>10</td>\n",
              "      <td>10</td>\n",
              "      <td>10</td>\n",
              "      <td>10</td>\n",
              "      <td>10</td>\n",
              "      <td>10</td>\n",
              "    </tr>\n",
              "    <tr>\n",
              "      <th>3</th>\n",
              "      <td>Abortion</td>\n",
              "      <td>fetal</td>\n",
              "      <td>10</td>\n",
              "      <td>10</td>\n",
              "      <td>10</td>\n",
              "      <td>10</td>\n",
              "      <td>10</td>\n",
              "      <td>10</td>\n",
              "      <td>10</td>\n",
              "      <td>10</td>\n",
              "      <td>10</td>\n",
              "    </tr>\n",
              "    <tr>\n",
              "      <th>4</th>\n",
              "      <td>Abortion</td>\n",
              "      <td>life unborn</td>\n",
              "      <td>10</td>\n",
              "      <td>10</td>\n",
              "      <td>10</td>\n",
              "      <td>10</td>\n",
              "      <td>10</td>\n",
              "      <td>10</td>\n",
              "      <td>10</td>\n",
              "      <td>10</td>\n",
              "      <td>10</td>\n",
              "    </tr>\n",
              "    <tr>\n",
              "      <th>...</th>\n",
              "      <td>...</td>\n",
              "      <td>...</td>\n",
              "      <td>...</td>\n",
              "      <td>...</td>\n",
              "      <td>...</td>\n",
              "      <td>...</td>\n",
              "      <td>...</td>\n",
              "      <td>...</td>\n",
              "      <td>...</td>\n",
              "      <td>...</td>\n",
              "      <td>...</td>\n",
              "    </tr>\n",
              "    <tr>\n",
              "      <th>306</th>\n",
              "      <td>Racial inequality</td>\n",
              "      <td>practice disproportionately</td>\n",
              "      <td>10</td>\n",
              "      <td>10</td>\n",
              "      <td>10</td>\n",
              "      <td>10</td>\n",
              "      <td>10</td>\n",
              "      <td>10</td>\n",
              "      <td>10</td>\n",
              "      <td>10</td>\n",
              "      <td>10</td>\n",
              "    </tr>\n",
              "    <tr>\n",
              "      <th>307</th>\n",
              "      <td>Racial inequality</td>\n",
              "      <td>prejudicial</td>\n",
              "      <td>10</td>\n",
              "      <td>10</td>\n",
              "      <td>10</td>\n",
              "      <td>10</td>\n",
              "      <td>10</td>\n",
              "      <td>10</td>\n",
              "      <td>10</td>\n",
              "      <td>10</td>\n",
              "      <td>10</td>\n",
              "    </tr>\n",
              "    <tr>\n",
              "      <th>308</th>\n",
              "      <td>Racial inequality</td>\n",
              "      <td>protest racial</td>\n",
              "      <td>10</td>\n",
              "      <td>10</td>\n",
              "      <td>10</td>\n",
              "      <td>10</td>\n",
              "      <td>10</td>\n",
              "      <td>10</td>\n",
              "      <td>10</td>\n",
              "      <td>10</td>\n",
              "      <td>10</td>\n",
              "    </tr>\n",
              "    <tr>\n",
              "      <th>309</th>\n",
              "      <td>Racial inequality</td>\n",
              "      <td>racial disparity</td>\n",
              "      <td>10</td>\n",
              "      <td>10</td>\n",
              "      <td>10</td>\n",
              "      <td>10</td>\n",
              "      <td>10</td>\n",
              "      <td>10</td>\n",
              "      <td>10</td>\n",
              "      <td>10</td>\n",
              "      <td>10</td>\n",
              "    </tr>\n",
              "    <tr>\n",
              "      <th>310</th>\n",
              "      <td>Racial inequality</td>\n",
              "      <td>racialize</td>\n",
              "      <td>10</td>\n",
              "      <td>10</td>\n",
              "      <td>10</td>\n",
              "      <td>10</td>\n",
              "      <td>10</td>\n",
              "      <td>10</td>\n",
              "      <td>10</td>\n",
              "      <td>10</td>\n",
              "      <td>10</td>\n",
              "    </tr>\n",
              "  </tbody>\n",
              "</table>\n",
              "<p>311 rows × 11 columns</p>\n",
              "</div>\n",
              "      <button class=\"colab-df-convert\" onclick=\"convertToInteractive('df-9beb5738-f4e1-4735-8d7e-897c01fb6585')\"\n",
              "              title=\"Convert this dataframe to an interactive table.\"\n",
              "              style=\"display:none;\">\n",
              "        \n",
              "  <svg xmlns=\"http://www.w3.org/2000/svg\" height=\"24px\"viewBox=\"0 0 24 24\"\n",
              "       width=\"24px\">\n",
              "    <path d=\"M0 0h24v24H0V0z\" fill=\"none\"/>\n",
              "    <path d=\"M18.56 5.44l.94 2.06.94-2.06 2.06-.94-2.06-.94-.94-2.06-.94 2.06-2.06.94zm-11 1L8.5 8.5l.94-2.06 2.06-.94-2.06-.94L8.5 2.5l-.94 2.06-2.06.94zm10 10l.94 2.06.94-2.06 2.06-.94-2.06-.94-.94-2.06-.94 2.06-2.06.94z\"/><path d=\"M17.41 7.96l-1.37-1.37c-.4-.4-.92-.59-1.43-.59-.52 0-1.04.2-1.43.59L10.3 9.45l-7.72 7.72c-.78.78-.78 2.05 0 2.83L4 21.41c.39.39.9.59 1.41.59.51 0 1.02-.2 1.41-.59l7.78-7.78 2.81-2.81c.8-.78.8-2.07 0-2.86zM5.41 20L4 18.59l7.72-7.72 1.47 1.35L5.41 20z\"/>\n",
              "  </svg>\n",
              "      </button>\n",
              "      \n",
              "  <style>\n",
              "    .colab-df-container {\n",
              "      display:flex;\n",
              "      flex-wrap:wrap;\n",
              "      gap: 12px;\n",
              "    }\n",
              "\n",
              "    .colab-df-convert {\n",
              "      background-color: #E8F0FE;\n",
              "      border: none;\n",
              "      border-radius: 50%;\n",
              "      cursor: pointer;\n",
              "      display: none;\n",
              "      fill: #1967D2;\n",
              "      height: 32px;\n",
              "      padding: 0 0 0 0;\n",
              "      width: 32px;\n",
              "    }\n",
              "\n",
              "    .colab-df-convert:hover {\n",
              "      background-color: #E2EBFA;\n",
              "      box-shadow: 0px 1px 2px rgba(60, 64, 67, 0.3), 0px 1px 3px 1px rgba(60, 64, 67, 0.15);\n",
              "      fill: #174EA6;\n",
              "    }\n",
              "\n",
              "    [theme=dark] .colab-df-convert {\n",
              "      background-color: #3B4455;\n",
              "      fill: #D2E3FC;\n",
              "    }\n",
              "\n",
              "    [theme=dark] .colab-df-convert:hover {\n",
              "      background-color: #434B5C;\n",
              "      box-shadow: 0px 1px 3px 1px rgba(0, 0, 0, 0.15);\n",
              "      filter: drop-shadow(0px 1px 2px rgba(0, 0, 0, 0.3));\n",
              "      fill: #FFFFFF;\n",
              "    }\n",
              "  </style>\n",
              "\n",
              "      <script>\n",
              "        const buttonEl =\n",
              "          document.querySelector('#df-9beb5738-f4e1-4735-8d7e-897c01fb6585 button.colab-df-convert');\n",
              "        buttonEl.style.display =\n",
              "          google.colab.kernel.accessAllowed ? 'block' : 'none';\n",
              "\n",
              "        async function convertToInteractive(key) {\n",
              "          const element = document.querySelector('#df-9beb5738-f4e1-4735-8d7e-897c01fb6585');\n",
              "          const dataTable =\n",
              "            await google.colab.kernel.invokeFunction('convertToInteractive',\n",
              "                                                     [key], {});\n",
              "          if (!dataTable) return;\n",
              "\n",
              "          const docLinkHtml = 'Like what you see? Visit the ' +\n",
              "            '<a target=\"_blank\" href=https://colab.research.google.com/notebooks/data_table.ipynb>data table notebook</a>'\n",
              "            + ' to learn more about interactive tables.';\n",
              "          element.innerHTML = '';\n",
              "          dataTable['output_type'] = 'display_data';\n",
              "          await google.colab.output.renderOutput(dataTable, element);\n",
              "          const docLink = document.createElement('div');\n",
              "          docLink.innerHTML = docLinkHtml;\n",
              "          element.appendChild(docLink);\n",
              "        }\n",
              "      </script>\n",
              "    </div>\n",
              "  </div>\n",
              "  "
            ]
          },
          "metadata": {},
          "execution_count": 43
        }
      ]
    },
    {
      "cell_type": "code",
      "source": [
        "merge_sentence_only_10.sample(3)"
      ],
      "metadata": {
        "colab": {
          "base_uri": "https://localhost:8080/",
          "height": 346
        },
        "id": "LMreAHbDg17_",
        "outputId": "af7f0965-3061-46f3-a105-b7c7f88aa978"
      },
      "execution_count": null,
      "outputs": [
        {
          "output_type": "execute_result",
          "data": {
            "text/plain": [
              "          id                source         topic_ng           topic  \\\n",
              "1305     417             La Visión   price gasoline  Economy / Jobs   \n",
              "1882  141132  Dalton Daily Citizen   cardiomyopathy     Health care   \n",
              "636    26801    Lanier County News  armed dangerous           Crime   \n",
              "\n",
              "                                          sentence_each  sentence_turn  \\\n",
              "1305  The prices of gasoline in the Metropolitan Are...              0   \n",
              "1882  His mother said jailers refused to take him to...             14   \n",
              "636   Jashun Wilkins is considered armed and dangerous.             14   \n",
              "\n",
              "                                    sentence_each_lemma  topic_words_YN  \\\n",
              "1305  price gasoline metropolitan area atlanta shoot...            True   \n",
              "1882  mother say jailer refuse hospital medical care...            True   \n",
              "636              jashun wilkin consider armed dangerous            True   \n",
              "\n",
              "     topic_words_YN_lead  row_id  str_count  \n",
              "1305               False   49776         29  \n",
              "1882               False   70731         19  \n",
              "636                False   25765          6  "
            ],
            "text/html": [
              "\n",
              "  <div id=\"df-c5a53f0b-f04d-4e1e-8e7e-59353a9ee5b4\">\n",
              "    <div class=\"colab-df-container\">\n",
              "      <div>\n",
              "<style scoped>\n",
              "    .dataframe tbody tr th:only-of-type {\n",
              "        vertical-align: middle;\n",
              "    }\n",
              "\n",
              "    .dataframe tbody tr th {\n",
              "        vertical-align: top;\n",
              "    }\n",
              "\n",
              "    .dataframe thead th {\n",
              "        text-align: right;\n",
              "    }\n",
              "</style>\n",
              "<table border=\"1\" class=\"dataframe\">\n",
              "  <thead>\n",
              "    <tr style=\"text-align: right;\">\n",
              "      <th></th>\n",
              "      <th>id</th>\n",
              "      <th>source</th>\n",
              "      <th>topic_ng</th>\n",
              "      <th>topic</th>\n",
              "      <th>sentence_each</th>\n",
              "      <th>sentence_turn</th>\n",
              "      <th>sentence_each_lemma</th>\n",
              "      <th>topic_words_YN</th>\n",
              "      <th>topic_words_YN_lead</th>\n",
              "      <th>row_id</th>\n",
              "      <th>str_count</th>\n",
              "    </tr>\n",
              "  </thead>\n",
              "  <tbody>\n",
              "    <tr>\n",
              "      <th>1305</th>\n",
              "      <td>417</td>\n",
              "      <td>La Visión</td>\n",
              "      <td>price gasoline</td>\n",
              "      <td>Economy / Jobs</td>\n",
              "      <td>The prices of gasoline in the Metropolitan Are...</td>\n",
              "      <td>0</td>\n",
              "      <td>price gasoline metropolitan area atlanta shoot...</td>\n",
              "      <td>True</td>\n",
              "      <td>False</td>\n",
              "      <td>49776</td>\n",
              "      <td>29</td>\n",
              "    </tr>\n",
              "    <tr>\n",
              "      <th>1882</th>\n",
              "      <td>141132</td>\n",
              "      <td>Dalton Daily Citizen</td>\n",
              "      <td>cardiomyopathy</td>\n",
              "      <td>Health care</td>\n",
              "      <td>His mother said jailers refused to take him to...</td>\n",
              "      <td>14</td>\n",
              "      <td>mother say jailer refuse hospital medical care...</td>\n",
              "      <td>True</td>\n",
              "      <td>False</td>\n",
              "      <td>70731</td>\n",
              "      <td>19</td>\n",
              "    </tr>\n",
              "    <tr>\n",
              "      <th>636</th>\n",
              "      <td>26801</td>\n",
              "      <td>Lanier County News</td>\n",
              "      <td>armed dangerous</td>\n",
              "      <td>Crime</td>\n",
              "      <td>Jashun Wilkins is considered armed and dangerous.</td>\n",
              "      <td>14</td>\n",
              "      <td>jashun wilkin consider armed dangerous</td>\n",
              "      <td>True</td>\n",
              "      <td>False</td>\n",
              "      <td>25765</td>\n",
              "      <td>6</td>\n",
              "    </tr>\n",
              "  </tbody>\n",
              "</table>\n",
              "</div>\n",
              "      <button class=\"colab-df-convert\" onclick=\"convertToInteractive('df-c5a53f0b-f04d-4e1e-8e7e-59353a9ee5b4')\"\n",
              "              title=\"Convert this dataframe to an interactive table.\"\n",
              "              style=\"display:none;\">\n",
              "        \n",
              "  <svg xmlns=\"http://www.w3.org/2000/svg\" height=\"24px\"viewBox=\"0 0 24 24\"\n",
              "       width=\"24px\">\n",
              "    <path d=\"M0 0h24v24H0V0z\" fill=\"none\"/>\n",
              "    <path d=\"M18.56 5.44l.94 2.06.94-2.06 2.06-.94-2.06-.94-.94-2.06-.94 2.06-2.06.94zm-11 1L8.5 8.5l.94-2.06 2.06-.94-2.06-.94L8.5 2.5l-.94 2.06-2.06.94zm10 10l.94 2.06.94-2.06 2.06-.94-2.06-.94-.94-2.06-.94 2.06-2.06.94z\"/><path d=\"M17.41 7.96l-1.37-1.37c-.4-.4-.92-.59-1.43-.59-.52 0-1.04.2-1.43.59L10.3 9.45l-7.72 7.72c-.78.78-.78 2.05 0 2.83L4 21.41c.39.39.9.59 1.41.59.51 0 1.02-.2 1.41-.59l7.78-7.78 2.81-2.81c.8-.78.8-2.07 0-2.86zM5.41 20L4 18.59l7.72-7.72 1.47 1.35L5.41 20z\"/>\n",
              "  </svg>\n",
              "      </button>\n",
              "      \n",
              "  <style>\n",
              "    .colab-df-container {\n",
              "      display:flex;\n",
              "      flex-wrap:wrap;\n",
              "      gap: 12px;\n",
              "    }\n",
              "\n",
              "    .colab-df-convert {\n",
              "      background-color: #E8F0FE;\n",
              "      border: none;\n",
              "      border-radius: 50%;\n",
              "      cursor: pointer;\n",
              "      display: none;\n",
              "      fill: #1967D2;\n",
              "      height: 32px;\n",
              "      padding: 0 0 0 0;\n",
              "      width: 32px;\n",
              "    }\n",
              "\n",
              "    .colab-df-convert:hover {\n",
              "      background-color: #E2EBFA;\n",
              "      box-shadow: 0px 1px 2px rgba(60, 64, 67, 0.3), 0px 1px 3px 1px rgba(60, 64, 67, 0.15);\n",
              "      fill: #174EA6;\n",
              "    }\n",
              "\n",
              "    [theme=dark] .colab-df-convert {\n",
              "      background-color: #3B4455;\n",
              "      fill: #D2E3FC;\n",
              "    }\n",
              "\n",
              "    [theme=dark] .colab-df-convert:hover {\n",
              "      background-color: #434B5C;\n",
              "      box-shadow: 0px 1px 3px 1px rgba(0, 0, 0, 0.15);\n",
              "      filter: drop-shadow(0px 1px 2px rgba(0, 0, 0, 0.3));\n",
              "      fill: #FFFFFF;\n",
              "    }\n",
              "  </style>\n",
              "\n",
              "      <script>\n",
              "        const buttonEl =\n",
              "          document.querySelector('#df-c5a53f0b-f04d-4e1e-8e7e-59353a9ee5b4 button.colab-df-convert');\n",
              "        buttonEl.style.display =\n",
              "          google.colab.kernel.accessAllowed ? 'block' : 'none';\n",
              "\n",
              "        async function convertToInteractive(key) {\n",
              "          const element = document.querySelector('#df-c5a53f0b-f04d-4e1e-8e7e-59353a9ee5b4');\n",
              "          const dataTable =\n",
              "            await google.colab.kernel.invokeFunction('convertToInteractive',\n",
              "                                                     [key], {});\n",
              "          if (!dataTable) return;\n",
              "\n",
              "          const docLinkHtml = 'Like what you see? Visit the ' +\n",
              "            '<a target=\"_blank\" href=https://colab.research.google.com/notebooks/data_table.ipynb>data table notebook</a>'\n",
              "            + ' to learn more about interactive tables.';\n",
              "          element.innerHTML = '';\n",
              "          dataTable['output_type'] = 'display_data';\n",
              "          await google.colab.output.renderOutput(dataTable, element);\n",
              "          const docLink = document.createElement('div');\n",
              "          docLink.innerHTML = docLinkHtml;\n",
              "          element.appendChild(docLink);\n",
              "        }\n",
              "      </script>\n",
              "    </div>\n",
              "  </div>\n",
              "  "
            ]
          },
          "metadata": {},
          "execution_count": 44
        }
      ]
    },
    {
      "cell_type": "code",
      "source": [
        "merge_sentence_only_10_st = merge_sentence_only_10[['id','topic_ng','topic','sentence_each']]"
      ],
      "metadata": {
        "id": "dKKPRrfig4IG"
      },
      "execution_count": null,
      "outputs": []
    },
    {
      "cell_type": "code",
      "source": [
        "# # remove choice\n",
        "\n",
        "# merge_sentence_only_10_st = merge_sentence_only_10_st[merge_sentence_only_10_st['topic_ng'] != 'choice']"
      ],
      "metadata": {
        "id": "rWUfgmnfiOHD"
      },
      "execution_count": null,
      "outputs": []
    },
    {
      "cell_type": "code",
      "source": [
        "len(merge_sentence_only_10_st)"
      ],
      "metadata": {
        "colab": {
          "base_uri": "https://localhost:8080/"
        },
        "id": "vWBpgZjZlSOP",
        "outputId": "23f32018-96ba-47e9-ba86-518f15fff197"
      },
      "execution_count": null,
      "outputs": [
        {
          "output_type": "execute_result",
          "data": {
            "text/plain": [
              "3110"
            ]
          },
          "metadata": {},
          "execution_count": 46
        }
      ]
    },
    {
      "cell_type": "code",
      "source": [
        "merge_sentence_only_10_st = merge_sentence_only_10_st.sample(len(merge_sentence_only_10_st))\n",
        "merge_sentence_only_10_st.to_excel('Georgia_topic_words_validation_sentence10_v2.xlsx')"
      ],
      "metadata": {
        "id": "y1GqYQnWgC6F"
      },
      "execution_count": null,
      "outputs": []
    },
    {
      "cell_type": "markdown",
      "source": [
        "# Organization analysis"
      ],
      "metadata": {
        "id": "XA4a44GpUFEp"
      }
    },
    {
      "cell_type": "markdown",
      "source": [
        "## spaCy -- pulling organizations only"
      ],
      "metadata": {
        "id": "7zDkpAPAS2g1"
      }
    },
    {
      "cell_type": "code",
      "source": [
        "# lemmatization if needed\n",
        "import spacy\n",
        "from spacy import displacy\n",
        "\n",
        "#sp = spacy.load('en_core_web_sm')\n",
        "sp = spacy.load('en_core_web_sm', disable=[\"tok2vec\", \"tagger\", \"parser\", \"attribute_ruler\", \"lemmatizer\"])\n",
        "\n",
        "\n",
        "def text_ner_org(text):\n",
        "  text = sp(text)\n",
        "  \n",
        "  ner_list = []\n",
        "  \n",
        "  for entity in text.ents:\n",
        "    if entity.label_ == \"ORG\":\n",
        "      ner_list.append(entity.text + \" (\" + entity.label_ + \")\")\n",
        "    else:\n",
        "      None\n",
        "  return str(set(ner_list))"
      ],
      "metadata": {
        "id": "GBfxGENGTZOZ"
      },
      "execution_count": null,
      "outputs": []
    },
    {
      "cell_type": "markdown",
      "source": [
        "### org analysis"
      ],
      "metadata": {
        "id": "FWU7ncjLY2r_"
      }
    },
    {
      "cell_type": "code",
      "source": [
        "import pandas as pd\n",
        "\n",
        "df = pd.read_pickle('/content/drive/MyDrive/Georgia/Web Scraping/Georgia_data_v2_translation_ner2_lem.pkl')\n"
      ],
      "metadata": {
        "id": "X187GOiXWGit"
      },
      "execution_count": null,
      "outputs": []
    },
    {
      "cell_type": "code",
      "source": [
        "df['ner_orgs'] = df['article_final'].astype(str).apply(text_ner_org)"
      ],
      "metadata": {
        "id": "w3KL8tw6Mzzq"
      },
      "execution_count": null,
      "outputs": []
    },
    {
      "cell_type": "code",
      "source": [
        "max(df['date_published'])"
      ],
      "metadata": {
        "colab": {
          "base_uri": "https://localhost:8080/",
          "height": 35
        },
        "id": "Dg8XEDDWDgNW",
        "outputId": "111427ef-b9d8-4e16-986a-14f0a733e89e"
      },
      "execution_count": null,
      "outputs": [
        {
          "output_type": "execute_result",
          "data": {
            "text/plain": [
              "'2022-10-15'"
            ],
            "application/vnd.google.colaboratory.intrinsic+json": {
              "type": "string"
            }
          },
          "metadata": {},
          "execution_count": 185
        }
      ]
    },
    {
      "cell_type": "code",
      "source": [
        "min(df['date_published'])"
      ],
      "metadata": {
        "colab": {
          "base_uri": "https://localhost:8080/",
          "height": 35
        },
        "id": "t15xzJ7KDjRK",
        "outputId": "8265c97b-0328-4a83-af75-95a6aaffc471"
      },
      "execution_count": null,
      "outputs": [
        {
          "output_type": "execute_result",
          "data": {
            "text/plain": [
              "'2022-09-15'"
            ],
            "application/vnd.google.colaboratory.intrinsic+json": {
              "type": "string"
            }
          },
          "metadata": {},
          "execution_count": 186
        }
      ]
    },
    {
      "cell_type": "code",
      "source": [
        "df_ner_comp_no_set = df[df['ner_orgs'] != 'set()']"
      ],
      "metadata": {
        "id": "KA0SO1g-ZDAR"
      },
      "execution_count": null,
      "outputs": []
    },
    {
      "cell_type": "code",
      "source": [
        "df_ner_comp_no_set"
      ],
      "metadata": {
        "colab": {
          "base_uri": "https://localhost:8080/",
          "height": 1000
        },
        "id": "nGotAk5BumQH",
        "outputId": "c7b4db90-7cad-49d8-ebc1-67c59ab7294d"
      },
      "execution_count": null,
      "outputs": [
        {
          "output_type": "execute_result",
          "data": {
            "text/plain": [
              "         index       source                         website  \\\n",
              "0       173703    285 South  https://285south.bulletin.com/   \n",
              "1       173701    285 South  https://285south.bulletin.com/   \n",
              "2       173702    285 South  https://285south.bulletin.com/   \n",
              "3       173700    285 South  https://285south.bulletin.com/   \n",
              "4       173704    285 South  https://285south.bulletin.com/   \n",
              "...        ...          ...                             ...   \n",
              "212992    3825  WQXI AM 790  https://atlantaradiokorea.com/   \n",
              "212993    3826  WQXI AM 790  https://atlantaradiokorea.com/   \n",
              "212994    3827  WQXI AM 790  https://atlantaradiokorea.com/   \n",
              "212995    3828  WQXI AM 790  https://atlantaradiokorea.com/   \n",
              "212996    3829  WQXI AM 790  https://atlantaradiokorea.com/   \n",
              "\n",
              "                                              article_url  \\\n",
              "0       https://285south.bulletin.com/voters-elections...   \n",
              "1       https://285south.bulletin.com/as-the-guatemala...   \n",
              "2       https://285south.bulletin.com/events-around-to...   \n",
              "3       https://285south.bulletin.com/victor-mariachi-...   \n",
              "4       https://285south.bulletin.com/meet-sara-naqvi-...   \n",
              "...                                                   ...   \n",
              "212992  https://atlantaradiokorea.com/%ed%95%b4%ed%8a%...   \n",
              "212993  https://atlantaradiokorea.com/%ea%b2%80%ec%88%...   \n",
              "212994  https://atlantaradiokorea.com/%eb%af%b8-%ec%9e...   \n",
              "212995  https://atlantaradiokorea.com/%ea%b7%80%eb%84%...   \n",
              "212996  https://atlantaradiokorea.com/%ea%b2%80%ec%b0%...   \n",
              "\n",
              "                                            article_title  \\\n",
              "0                          Voters, elections, and voters.   \n",
              "1       As the Guatemalan community in Georgia grows, ...   \n",
              "2                                 October Events Calendar   \n",
              "3       Victor Mariachi didn't believe in voting. How ...   \n",
              "4       Meet Sara Naqvi:  Pakistani vegan and co-found...   \n",
              "...                                                   ...   \n",
              "212992                       해트트릭으로 부활한 손흥민, EPL 공식 베스트11   \n",
              "212993                       검수완박 권한쟁의 27일 공개변론…한동훈 직접 출석   \n",
              "212994                   미 재무부, '대북 석유수출' 개인 2명·사업체 3곳 제재   \n",
              "212995                              귀넷, 폭주 및 레이싱 차량 처벌 강화   \n",
              "212996                           검찰 '신당역 스토킹 살인' 전주환 구속기소   \n",
              "\n",
              "             article_author date_published  \\\n",
              "0            Sophia Qureshi     2022-10-12   \n",
              "1            Sophia Qureshi     2022-09-28   \n",
              "2            Sophia Qureshi     2022-09-30   \n",
              "3            Sophia Qureshi     2022-09-16   \n",
              "4            Sophia Qureshi     2022-10-14   \n",
              "...                     ...            ...   \n",
              "212992                뉴스투데이     2022-09-20   \n",
              "212993  Atlanta Radio Korea     2022-09-21   \n",
              "212994  Atlanta Radio Korea     2022-10-07   \n",
              "212995               김영철 기자     2022-10-06   \n",
              "212996  Atlanta Radio Korea     2022-10-06   \n",
              "\n",
              "                                               ner_places  \\\n",
              "0       {'Peachtree Corners (LOC)', 'Atlanta (GPE)', '...   \n",
              "1       {'Guatemala (GPE)', 'Chuj (GPE)', 'Atlanta (GP...   \n",
              "2       {'The City of Lawrenceville (GPE)', 'Johns Cre...   \n",
              "3       {'Phoenix (GPE)', 'Atlanta (GPE)', 'US (GPE)',...   \n",
              "4       {'Atlanta (GPE)', '\\\\\"\"foodie\\\\ (GPE)', 'Georg...   \n",
              "...                                                   ...   \n",
              "212992                                              set()   \n",
              "212993                                              set()   \n",
              "212994                                              set()   \n",
              "212995                                              set()   \n",
              "212996                                              set()   \n",
              "\n",
              "                                        article_lemma_num  \\\n",
              "0       gop effort court hispanic voter republican inc...   \n",
              "1       guatemalan population georgia double 68000 dec...   \n",
              "2       itu2019s busy month lot fundraiser event mark ...   \n",
              "3       285 south contributor phoebe quinton saturday ...   \n",
              "4       sara naqvi publisher blog pakistani vegan peop...   \n",
              "...                                                   ...   \n",
              "212992  million dollar evaporate land star usain bolt ...   \n",
              "212993  atlanta radio korea atlanta radio korea fm967 ...   \n",
              "212994  atlanta radio korea atlanta radio korea fm967 ...   \n",
              "212995  million dollar evaporate land star usain bolt ...   \n",
              "212996  atlanta radio korea atlanta radio korea fm967 ...   \n",
              "\n",
              "                                            article_final  translation_YN  \\\n",
              "0       The GOP effort to court Hispanic voters: Repub...               0   \n",
              "1       The Guatemalan population in Georgia has almos...               0   \n",
              "2       It\\u2019s a busy month - lots of fundraisers a...               0   \n",
              "3       By 285 South Contributor Phoebe Quinton On Sat...               0   \n",
              "4       Sara Naqvi, publisher of the blog The Pakistan...               0   \n",
              "...                                                   ...             ...   \n",
              "212992  Millions of dollars evaporated in the land sta...               1   \n",
              "212993  Atlanta Radio Korea Atlanta Radio Korea FM96.7...               1   \n",
              "212994  Atlanta Radio Korea Atlanta Radio Korea FM96.7...               1   \n",
              "212995  Millions of dollars evaporated in the land sta...               1   \n",
              "212996  Atlanta Radio Korea Atlanta Radio Korea FM96.7...               1   \n",
              "\n",
              "            id                                           ner_orgs  \n",
              "0            1  {'Latinos (ORG)', 'State Senate (ORG)', 'WABE ...  \n",
              "1            2  {'the Mayan Heritage Project (ORG)', 'Fundacio...  \n",
              "2            3  {'Noor Family Services Gala (ORG)', 'Labor (OR...  \n",
              "3            4  {'LCF (ORG)', 'Latino (ORG)', 'Super Humans (O...  \n",
              "4            5  {'Punjab Spice Company - a metro (ORG)', 'Rain...  \n",
              "...        ...                                                ...  \n",
              "212992  212993                 {\"Usain Bolt' (ORG)\", 'JAN (ORG)'}  \n",
              "212993  212994                      {'Atlanta Radio Korea (ORG)'}  \n",
              "212994  212995                      {'Atlanta Radio Korea (ORG)'}  \n",
              "212995  212996                 {\"Usain Bolt' (ORG)\", 'JAN (ORG)'}  \n",
              "212996  212997                      {'Atlanta Radio Korea (ORG)'}  \n",
              "\n",
              "[169912 rows x 13 columns]"
            ],
            "text/html": [
              "\n",
              "  <div id=\"df-bb87dcb3-8eee-45a0-831b-06b59db66464\">\n",
              "    <div class=\"colab-df-container\">\n",
              "      <div>\n",
              "<style scoped>\n",
              "    .dataframe tbody tr th:only-of-type {\n",
              "        vertical-align: middle;\n",
              "    }\n",
              "\n",
              "    .dataframe tbody tr th {\n",
              "        vertical-align: top;\n",
              "    }\n",
              "\n",
              "    .dataframe thead th {\n",
              "        text-align: right;\n",
              "    }\n",
              "</style>\n",
              "<table border=\"1\" class=\"dataframe\">\n",
              "  <thead>\n",
              "    <tr style=\"text-align: right;\">\n",
              "      <th></th>\n",
              "      <th>index</th>\n",
              "      <th>source</th>\n",
              "      <th>website</th>\n",
              "      <th>article_url</th>\n",
              "      <th>article_title</th>\n",
              "      <th>article_author</th>\n",
              "      <th>date_published</th>\n",
              "      <th>ner_places</th>\n",
              "      <th>article_lemma_num</th>\n",
              "      <th>article_final</th>\n",
              "      <th>translation_YN</th>\n",
              "      <th>id</th>\n",
              "      <th>ner_orgs</th>\n",
              "    </tr>\n",
              "  </thead>\n",
              "  <tbody>\n",
              "    <tr>\n",
              "      <th>0</th>\n",
              "      <td>173703</td>\n",
              "      <td>285 South</td>\n",
              "      <td>https://285south.bulletin.com/</td>\n",
              "      <td>https://285south.bulletin.com/voters-elections...</td>\n",
              "      <td>Voters, elections, and voters.</td>\n",
              "      <td>Sophia Qureshi</td>\n",
              "      <td>2022-10-12</td>\n",
              "      <td>{'Peachtree Corners (LOC)', 'Atlanta (GPE)', '...</td>\n",
              "      <td>gop effort court hispanic voter republican inc...</td>\n",
              "      <td>The GOP effort to court Hispanic voters: Repub...</td>\n",
              "      <td>0</td>\n",
              "      <td>1</td>\n",
              "      <td>{'Latinos (ORG)', 'State Senate (ORG)', 'WABE ...</td>\n",
              "    </tr>\n",
              "    <tr>\n",
              "      <th>1</th>\n",
              "      <td>173701</td>\n",
              "      <td>285 South</td>\n",
              "      <td>https://285south.bulletin.com/</td>\n",
              "      <td>https://285south.bulletin.com/as-the-guatemala...</td>\n",
              "      <td>As the Guatemalan community in Georgia grows, ...</td>\n",
              "      <td>Sophia Qureshi</td>\n",
              "      <td>2022-09-28</td>\n",
              "      <td>{'Guatemala (GPE)', 'Chuj (GPE)', 'Atlanta (GP...</td>\n",
              "      <td>guatemalan population georgia double 68000 dec...</td>\n",
              "      <td>The Guatemalan population in Georgia has almos...</td>\n",
              "      <td>0</td>\n",
              "      <td>2</td>\n",
              "      <td>{'the Mayan Heritage Project (ORG)', 'Fundacio...</td>\n",
              "    </tr>\n",
              "    <tr>\n",
              "      <th>2</th>\n",
              "      <td>173702</td>\n",
              "      <td>285 South</td>\n",
              "      <td>https://285south.bulletin.com/</td>\n",
              "      <td>https://285south.bulletin.com/events-around-to...</td>\n",
              "      <td>October Events Calendar</td>\n",
              "      <td>Sophia Qureshi</td>\n",
              "      <td>2022-09-30</td>\n",
              "      <td>{'The City of Lawrenceville (GPE)', 'Johns Cre...</td>\n",
              "      <td>itu2019s busy month lot fundraiser event mark ...</td>\n",
              "      <td>It\\u2019s a busy month - lots of fundraisers a...</td>\n",
              "      <td>0</td>\n",
              "      <td>3</td>\n",
              "      <td>{'Noor Family Services Gala (ORG)', 'Labor (OR...</td>\n",
              "    </tr>\n",
              "    <tr>\n",
              "      <th>3</th>\n",
              "      <td>173700</td>\n",
              "      <td>285 South</td>\n",
              "      <td>https://285south.bulletin.com/</td>\n",
              "      <td>https://285south.bulletin.com/victor-mariachi-...</td>\n",
              "      <td>Victor Mariachi didn't believe in voting. How ...</td>\n",
              "      <td>Sophia Qureshi</td>\n",
              "      <td>2022-09-16</td>\n",
              "      <td>{'Phoenix (GPE)', 'Atlanta (GPE)', 'US (GPE)',...</td>\n",
              "      <td>285 south contributor phoebe quinton saturday ...</td>\n",
              "      <td>By 285 South Contributor Phoebe Quinton On Sat...</td>\n",
              "      <td>0</td>\n",
              "      <td>4</td>\n",
              "      <td>{'LCF (ORG)', 'Latino (ORG)', 'Super Humans (O...</td>\n",
              "    </tr>\n",
              "    <tr>\n",
              "      <th>4</th>\n",
              "      <td>173704</td>\n",
              "      <td>285 South</td>\n",
              "      <td>https://285south.bulletin.com/</td>\n",
              "      <td>https://285south.bulletin.com/meet-sara-naqvi-...</td>\n",
              "      <td>Meet Sara Naqvi:  Pakistani vegan and co-found...</td>\n",
              "      <td>Sophia Qureshi</td>\n",
              "      <td>2022-10-14</td>\n",
              "      <td>{'Atlanta (GPE)', '\\\\\"\"foodie\\\\ (GPE)', 'Georg...</td>\n",
              "      <td>sara naqvi publisher blog pakistani vegan peop...</td>\n",
              "      <td>Sara Naqvi, publisher of the blog The Pakistan...</td>\n",
              "      <td>0</td>\n",
              "      <td>5</td>\n",
              "      <td>{'Punjab Spice Company - a metro (ORG)', 'Rain...</td>\n",
              "    </tr>\n",
              "    <tr>\n",
              "      <th>...</th>\n",
              "      <td>...</td>\n",
              "      <td>...</td>\n",
              "      <td>...</td>\n",
              "      <td>...</td>\n",
              "      <td>...</td>\n",
              "      <td>...</td>\n",
              "      <td>...</td>\n",
              "      <td>...</td>\n",
              "      <td>...</td>\n",
              "      <td>...</td>\n",
              "      <td>...</td>\n",
              "      <td>...</td>\n",
              "      <td>...</td>\n",
              "    </tr>\n",
              "    <tr>\n",
              "      <th>212992</th>\n",
              "      <td>3825</td>\n",
              "      <td>WQXI AM 790</td>\n",
              "      <td>https://atlantaradiokorea.com/</td>\n",
              "      <td>https://atlantaradiokorea.com/%ed%95%b4%ed%8a%...</td>\n",
              "      <td>해트트릭으로 부활한 손흥민, EPL 공식 베스트11</td>\n",
              "      <td>뉴스투데이</td>\n",
              "      <td>2022-09-20</td>\n",
              "      <td>set()</td>\n",
              "      <td>million dollar evaporate land star usain bolt ...</td>\n",
              "      <td>Millions of dollars evaporated in the land sta...</td>\n",
              "      <td>1</td>\n",
              "      <td>212993</td>\n",
              "      <td>{\"Usain Bolt' (ORG)\", 'JAN (ORG)'}</td>\n",
              "    </tr>\n",
              "    <tr>\n",
              "      <th>212993</th>\n",
              "      <td>3826</td>\n",
              "      <td>WQXI AM 790</td>\n",
              "      <td>https://atlantaradiokorea.com/</td>\n",
              "      <td>https://atlantaradiokorea.com/%ea%b2%80%ec%88%...</td>\n",
              "      <td>검수완박 권한쟁의 27일 공개변론…한동훈 직접 출석</td>\n",
              "      <td>Atlanta Radio Korea</td>\n",
              "      <td>2022-09-21</td>\n",
              "      <td>set()</td>\n",
              "      <td>atlanta radio korea atlanta radio korea fm967 ...</td>\n",
              "      <td>Atlanta Radio Korea Atlanta Radio Korea FM96.7...</td>\n",
              "      <td>1</td>\n",
              "      <td>212994</td>\n",
              "      <td>{'Atlanta Radio Korea (ORG)'}</td>\n",
              "    </tr>\n",
              "    <tr>\n",
              "      <th>212994</th>\n",
              "      <td>3827</td>\n",
              "      <td>WQXI AM 790</td>\n",
              "      <td>https://atlantaradiokorea.com/</td>\n",
              "      <td>https://atlantaradiokorea.com/%eb%af%b8-%ec%9e...</td>\n",
              "      <td>미 재무부, '대북 석유수출' 개인 2명·사업체 3곳 제재</td>\n",
              "      <td>Atlanta Radio Korea</td>\n",
              "      <td>2022-10-07</td>\n",
              "      <td>set()</td>\n",
              "      <td>atlanta radio korea atlanta radio korea fm967 ...</td>\n",
              "      <td>Atlanta Radio Korea Atlanta Radio Korea FM96.7...</td>\n",
              "      <td>1</td>\n",
              "      <td>212995</td>\n",
              "      <td>{'Atlanta Radio Korea (ORG)'}</td>\n",
              "    </tr>\n",
              "    <tr>\n",
              "      <th>212995</th>\n",
              "      <td>3828</td>\n",
              "      <td>WQXI AM 790</td>\n",
              "      <td>https://atlantaradiokorea.com/</td>\n",
              "      <td>https://atlantaradiokorea.com/%ea%b7%80%eb%84%...</td>\n",
              "      <td>귀넷, 폭주 및 레이싱 차량 처벌 강화</td>\n",
              "      <td>김영철 기자</td>\n",
              "      <td>2022-10-06</td>\n",
              "      <td>set()</td>\n",
              "      <td>million dollar evaporate land star usain bolt ...</td>\n",
              "      <td>Millions of dollars evaporated in the land sta...</td>\n",
              "      <td>1</td>\n",
              "      <td>212996</td>\n",
              "      <td>{\"Usain Bolt' (ORG)\", 'JAN (ORG)'}</td>\n",
              "    </tr>\n",
              "    <tr>\n",
              "      <th>212996</th>\n",
              "      <td>3829</td>\n",
              "      <td>WQXI AM 790</td>\n",
              "      <td>https://atlantaradiokorea.com/</td>\n",
              "      <td>https://atlantaradiokorea.com/%ea%b2%80%ec%b0%...</td>\n",
              "      <td>검찰 '신당역 스토킹 살인' 전주환 구속기소</td>\n",
              "      <td>Atlanta Radio Korea</td>\n",
              "      <td>2022-10-06</td>\n",
              "      <td>set()</td>\n",
              "      <td>atlanta radio korea atlanta radio korea fm967 ...</td>\n",
              "      <td>Atlanta Radio Korea Atlanta Radio Korea FM96.7...</td>\n",
              "      <td>1</td>\n",
              "      <td>212997</td>\n",
              "      <td>{'Atlanta Radio Korea (ORG)'}</td>\n",
              "    </tr>\n",
              "  </tbody>\n",
              "</table>\n",
              "<p>169912 rows × 13 columns</p>\n",
              "</div>\n",
              "      <button class=\"colab-df-convert\" onclick=\"convertToInteractive('df-bb87dcb3-8eee-45a0-831b-06b59db66464')\"\n",
              "              title=\"Convert this dataframe to an interactive table.\"\n",
              "              style=\"display:none;\">\n",
              "        \n",
              "  <svg xmlns=\"http://www.w3.org/2000/svg\" height=\"24px\"viewBox=\"0 0 24 24\"\n",
              "       width=\"24px\">\n",
              "    <path d=\"M0 0h24v24H0V0z\" fill=\"none\"/>\n",
              "    <path d=\"M18.56 5.44l.94 2.06.94-2.06 2.06-.94-2.06-.94-.94-2.06-.94 2.06-2.06.94zm-11 1L8.5 8.5l.94-2.06 2.06-.94-2.06-.94L8.5 2.5l-.94 2.06-2.06.94zm10 10l.94 2.06.94-2.06 2.06-.94-2.06-.94-.94-2.06-.94 2.06-2.06.94z\"/><path d=\"M17.41 7.96l-1.37-1.37c-.4-.4-.92-.59-1.43-.59-.52 0-1.04.2-1.43.59L10.3 9.45l-7.72 7.72c-.78.78-.78 2.05 0 2.83L4 21.41c.39.39.9.59 1.41.59.51 0 1.02-.2 1.41-.59l7.78-7.78 2.81-2.81c.8-.78.8-2.07 0-2.86zM5.41 20L4 18.59l7.72-7.72 1.47 1.35L5.41 20z\"/>\n",
              "  </svg>\n",
              "      </button>\n",
              "      \n",
              "  <style>\n",
              "    .colab-df-container {\n",
              "      display:flex;\n",
              "      flex-wrap:wrap;\n",
              "      gap: 12px;\n",
              "    }\n",
              "\n",
              "    .colab-df-convert {\n",
              "      background-color: #E8F0FE;\n",
              "      border: none;\n",
              "      border-radius: 50%;\n",
              "      cursor: pointer;\n",
              "      display: none;\n",
              "      fill: #1967D2;\n",
              "      height: 32px;\n",
              "      padding: 0 0 0 0;\n",
              "      width: 32px;\n",
              "    }\n",
              "\n",
              "    .colab-df-convert:hover {\n",
              "      background-color: #E2EBFA;\n",
              "      box-shadow: 0px 1px 2px rgba(60, 64, 67, 0.3), 0px 1px 3px 1px rgba(60, 64, 67, 0.15);\n",
              "      fill: #174EA6;\n",
              "    }\n",
              "\n",
              "    [theme=dark] .colab-df-convert {\n",
              "      background-color: #3B4455;\n",
              "      fill: #D2E3FC;\n",
              "    }\n",
              "\n",
              "    [theme=dark] .colab-df-convert:hover {\n",
              "      background-color: #434B5C;\n",
              "      box-shadow: 0px 1px 3px 1px rgba(0, 0, 0, 0.15);\n",
              "      filter: drop-shadow(0px 1px 2px rgba(0, 0, 0, 0.3));\n",
              "      fill: #FFFFFF;\n",
              "    }\n",
              "  </style>\n",
              "\n",
              "      <script>\n",
              "        const buttonEl =\n",
              "          document.querySelector('#df-bb87dcb3-8eee-45a0-831b-06b59db66464 button.colab-df-convert');\n",
              "        buttonEl.style.display =\n",
              "          google.colab.kernel.accessAllowed ? 'block' : 'none';\n",
              "\n",
              "        async function convertToInteractive(key) {\n",
              "          const element = document.querySelector('#df-bb87dcb3-8eee-45a0-831b-06b59db66464');\n",
              "          const dataTable =\n",
              "            await google.colab.kernel.invokeFunction('convertToInteractive',\n",
              "                                                     [key], {});\n",
              "          if (!dataTable) return;\n",
              "\n",
              "          const docLinkHtml = 'Like what you see? Visit the ' +\n",
              "            '<a target=\"_blank\" href=https://colab.research.google.com/notebooks/data_table.ipynb>data table notebook</a>'\n",
              "            + ' to learn more about interactive tables.';\n",
              "          element.innerHTML = '';\n",
              "          dataTable['output_type'] = 'display_data';\n",
              "          await google.colab.output.renderOutput(dataTable, element);\n",
              "          const docLink = document.createElement('div');\n",
              "          docLink.innerHTML = docLinkHtml;\n",
              "          element.appendChild(docLink);\n",
              "        }\n",
              "      </script>\n",
              "    </div>\n",
              "  </div>\n",
              "  "
            ]
          },
          "metadata": {},
          "execution_count": 35
        }
      ]
    },
    {
      "cell_type": "code",
      "source": [
        "print(len(df_ner_comp_no_set))\n",
        "print(len(df))"
      ],
      "metadata": {
        "colab": {
          "base_uri": "https://localhost:8080/"
        },
        "id": "t587JRRWs_oG",
        "outputId": "2be03e52-fb50-444f-d1dc-51e8ec161ebd"
      },
      "execution_count": null,
      "outputs": [
        {
          "output_type": "stream",
          "name": "stdout",
          "text": [
            "163005\n",
            "192206\n"
          ]
        }
      ]
    },
    {
      "cell_type": "code",
      "source": [
        "s = df_ner_comp_no_set['ner_orgs'].astype(str).str.split(',').explode().str.strip('{} ')\n"
      ],
      "metadata": {
        "id": "9W1jPR9EVIy8"
      },
      "execution_count": null,
      "outputs": []
    },
    {
      "cell_type": "code",
      "source": [
        "s_df = pd.DataFrame(s)"
      ],
      "metadata": {
        "id": "Ct5-DezYvBT-"
      },
      "execution_count": null,
      "outputs": []
    },
    {
      "cell_type": "code",
      "source": [
        "s_df['id'] = s_df.index + 1"
      ],
      "metadata": {
        "id": "0yPkL_tsDZnm"
      },
      "execution_count": null,
      "outputs": []
    },
    {
      "cell_type": "code",
      "source": [
        "# strip quotation mark\n",
        "s_df['ner_orgs'] = s_df['ner_orgs'].str.strip('\\'')\n",
        "s_df['ner_orgs'] = s_df['ner_orgs'].str.strip('\\\"')\n",
        "\n",
        "# strop text + parantheses \n",
        "s_df['ner_orgs'] = s_df['ner_orgs'].str.replace(r\"\\(.*\\)\",\"\")\n",
        "\n",
        "# # strip space in the last character\n",
        "# s_df['ner_orgs'] = s_df['ner_orgs'].str.rstrip('\\'s')\n",
        "# s_df['ner_orgs'] = s_df['ner_orgs'].str.rstrip('\\’s')\n",
        "\n",
        "\n",
        "# s_df['ner_orgs'] = s_df['ner_orgs'].str.rstrip('\\'')\n",
        "# s_df['ner_orgs'] = s_df['ner_orgs'].str.rstrip()\n",
        "\n",
        "# s_df['ner_orgs'] = s_df['ner_orgs'].str.strip('\\'')\n",
        "# s_df['ner_orgs'] = s_df['ner_orgs'].str.strip('\\\"')\n",
        "\n",
        "# # #\n",
        "# # s_df['ner_orgs'] = s_df['ner_orgs'].str.replace(r'“', '')\n",
        "\n",
        "# remove 'a '\n",
        "s_df['ner_orgs'] = s_df['ner_orgs'].str.replace(r'^the state ', '')\n",
        "s_df['ner_orgs'] = s_df['ner_orgs'].str.replace(r'^The state ', '')\n",
        "s_df['ner_orgs'] = s_df['ner_orgs'].str.replace(r'^the ', '')\n",
        "s_df['ner_orgs'] = s_df['ner_orgs'].str.replace(r'^The ', '')\n",
        "s_df['ner_orgs'] = s_df['ner_orgs'].str.replace(r'^an ', '')\n",
        "s_df['ner_orgs'] = s_df['ner_orgs'].str.replace(r'^a ', '')\n",
        "\n",
        "s_df['ner_orgs'] = s_df['ner_orgs'].str.rstrip()\n",
        "\n",
        "# # strip space in the last character\n",
        "# s_df['ner_orgs'] = s_df['ner_orgs'].str.rstrip('\\'s')\n",
        "# s_df['ner_orgs'] = s_df['ner_orgs'].str.rstrip('\\’s')\n",
        "\n",
        "\n",
        "\n",
        "# s_df['ner_orgs'] = s_df['ner_orgs'].str.rstrip('\\'s')\n",
        "# s_df['ner_orgs'] = s_df['ner_orgs'].str.rstrip('\\’s')\n",
        "\n",
        "# s_df['ner_orgs'] = s_df['ner_orgs'].str.replace(r'^\\'', '')\n",
        "# s_df['ner_orgs'] = s_df['ner_orgs'].str.replace(r'^\\‘', '')\n",
        "\n",
        "# s_df['ner_orgs'] = s_df['ner_orgs'].str.replace(r'^\\“', '')\n",
        "# s_df['ner_orgs'] = s_df['ner_orgs'].str.replace(r'^’s ', '')\n",
        "# s_df['ner_orgs'] = s_df['ner_orgs'].str.replace(r'^• ', '')\n",
        "\n",
        "\n",
        "# s_df['ner_orgs'] = s_df['ner_orgs'].str.replace(r'^\\'', '')\n",
        "# s_df['ner_orgs'] = s_df['ner_orgs'].str.rstrip('\\'')\n",
        "# s_df['ner_orgs'] = s_df['ner_orgs'].str.rstrip('\\'s')\n",
        "# s_df['ner_orgs'] = s_df['ner_orgs'].str.rstrip('\\’s')\n",
        "\n",
        "#"
      ],
      "metadata": {
        "colab": {
          "base_uri": "https://localhost:8080/"
        },
        "id": "FkzdFL6FXfm9",
        "outputId": "bd13c022-9b91-44ae-fcee-3d6e9fecc412"
      },
      "execution_count": null,
      "outputs": [
        {
          "output_type": "stream",
          "name": "stderr",
          "text": [
            "<ipython-input-39-b7b21fc4396d>:6: FutureWarning: The default value of regex will change from True to False in a future version.\n",
            "  s_df['ner_orgs'] = s_df['ner_orgs'].str.replace(r\"\\(.*\\)\",\"\")\n",
            "<ipython-input-39-b7b21fc4396d>:23: FutureWarning: The default value of regex will change from True to False in a future version.\n",
            "  s_df['ner_orgs'] = s_df['ner_orgs'].str.replace(r'^the state ', '')\n",
            "<ipython-input-39-b7b21fc4396d>:24: FutureWarning: The default value of regex will change from True to False in a future version.\n",
            "  s_df['ner_orgs'] = s_df['ner_orgs'].str.replace(r'^The state ', '')\n",
            "<ipython-input-39-b7b21fc4396d>:25: FutureWarning: The default value of regex will change from True to False in a future version.\n",
            "  s_df['ner_orgs'] = s_df['ner_orgs'].str.replace(r'^the ', '')\n",
            "<ipython-input-39-b7b21fc4396d>:26: FutureWarning: The default value of regex will change from True to False in a future version.\n",
            "  s_df['ner_orgs'] = s_df['ner_orgs'].str.replace(r'^The ', '')\n",
            "<ipython-input-39-b7b21fc4396d>:27: FutureWarning: The default value of regex will change from True to False in a future version.\n",
            "  s_df['ner_orgs'] = s_df['ner_orgs'].str.replace(r'^an ', '')\n",
            "<ipython-input-39-b7b21fc4396d>:28: FutureWarning: The default value of regex will change from True to False in a future version.\n",
            "  s_df['ner_orgs'] = s_df['ner_orgs'].str.replace(r'^a ', '')\n"
          ]
        }
      ]
    },
    {
      "cell_type": "code",
      "source": [
        "# drop duplicates\n",
        "s_df_nodup = s_df.drop_duplicates()"
      ],
      "metadata": {
        "id": "LR2Xc8ihGCCq"
      },
      "execution_count": null,
      "outputs": []
    },
    {
      "cell_type": "code",
      "source": [
        "# minimal + delete the/a\n",
        "print(len(s_df_nodup))\n",
        "print(len(s_df))"
      ],
      "metadata": {
        "colab": {
          "base_uri": "https://localhost:8080/"
        },
        "id": "kYMhBZbqG8PR",
        "outputId": "cd09c770-561c-4146-aae2-b7593f82f606"
      },
      "execution_count": null,
      "outputs": [
        {
          "output_type": "stream",
          "name": "stdout",
          "text": [
            "2149643\n",
            "2164469\n"
          ]
        }
      ]
    },
    {
      "cell_type": "code",
      "source": [
        "# minimal\n",
        "print(len(s_df_nodup))\n",
        "print(len(s_df))"
      ],
      "metadata": {
        "colab": {
          "base_uri": "https://localhost:8080/"
        },
        "id": "orGEX5D1Fabh",
        "outputId": "05154f88-4ff9-489d-95d7-da55bd83afb6"
      },
      "execution_count": null,
      "outputs": [
        {
          "output_type": "stream",
          "name": "stdout",
          "text": [
            "1146941\n",
            "1149027\n"
          ]
        }
      ]
    },
    {
      "cell_type": "code",
      "source": [
        "# delete the/a\n",
        "print(len(s_df_nodup))\n",
        "print(len(s_df))"
      ],
      "metadata": {
        "colab": {
          "base_uri": "https://localhost:8080/"
        },
        "id": "v7yNlgVO-Xcn",
        "outputId": "5b80383e-f281-478b-b049-f69ec2c642ac"
      },
      "execution_count": null,
      "outputs": [
        {
          "output_type": "stream",
          "name": "stdout",
          "text": [
            "1114636\n",
            "1149027\n"
          ]
        }
      ]
    },
    {
      "cell_type": "code",
      "source": [
        "# not deleting the/a\n",
        "print(len(s_df_nodup))\n",
        "print(len(s_df))"
      ],
      "metadata": {
        "colab": {
          "base_uri": "https://localhost:8080/"
        },
        "id": "UCDrpLxe2Msu",
        "outputId": "5aabe261-57ee-4e38-bfc1-0c8a57f1c30d"
      },
      "execution_count": null,
      "outputs": [
        {
          "output_type": "stream",
          "name": "stdout",
          "text": [
            "1135858\n",
            "1149027\n"
          ]
        }
      ]
    },
    {
      "cell_type": "code",
      "source": [
        "print(len(s_df_nodup))\n",
        "print(len(s_df))"
      ],
      "metadata": {
        "colab": {
          "base_uri": "https://localhost:8080/"
        },
        "id": "OAugIEHVGDNX",
        "outputId": "e3bba0d3-5450-4d0b-9b7d-879088b6f8fb"
      },
      "execution_count": null,
      "outputs": [
        {
          "output_type": "stream",
          "name": "stdout",
          "text": [
            "1114561\n",
            "1149027\n"
          ]
        }
      ]
    },
    {
      "cell_type": "code",
      "source": [
        "df_ner_comp_no_set_st = df_ner_comp_no_set[['id', 'source', 'article_final']]"
      ],
      "metadata": {
        "id": "gom1_E8cEHhS"
      },
      "execution_count": null,
      "outputs": []
    },
    {
      "cell_type": "code",
      "source": [
        "df_ner_comp_no_set_st = pd.merge(df_ner_comp_no_set_st, s_df_nodup, how='left', on='id')"
      ],
      "metadata": {
        "id": "JRfVXDBmEN-I"
      },
      "execution_count": null,
      "outputs": []
    },
    {
      "cell_type": "code",
      "source": [
        "df_ner_comp_no_set_st"
      ],
      "metadata": {
        "colab": {
          "base_uri": "https://localhost:8080/",
          "height": 424
        },
        "id": "Va5Aa_D4hA-I",
        "outputId": "dab8d151-29bc-45c9-da2d-86a333ffb1b2"
      },
      "execution_count": null,
      "outputs": [
        {
          "output_type": "execute_result",
          "data": {
            "text/plain": [
              "             id       source  \\\n",
              "0             1    285 South   \n",
              "1             1    285 South   \n",
              "2             1    285 South   \n",
              "3             1    285 South   \n",
              "4             1    285 South   \n",
              "...         ...          ...   \n",
              "2149638  212994  WQXI AM 790   \n",
              "2149639  212995  WQXI AM 790   \n",
              "2149640  212996  WQXI AM 790   \n",
              "2149641  212996  WQXI AM 790   \n",
              "2149642  212997  WQXI AM 790   \n",
              "\n",
              "                                             article_final  \\\n",
              "0        The GOP effort to court Hispanic voters: Repub...   \n",
              "1        The GOP effort to court Hispanic voters: Repub...   \n",
              "2        The GOP effort to court Hispanic voters: Repub...   \n",
              "3        The GOP effort to court Hispanic voters: Repub...   \n",
              "4        The GOP effort to court Hispanic voters: Repub...   \n",
              "...                                                    ...   \n",
              "2149638  Atlanta Radio Korea Atlanta Radio Korea FM96.7...   \n",
              "2149639  Atlanta Radio Korea Atlanta Radio Korea FM96.7...   \n",
              "2149640  Millions of dollars evaporated in the land sta...   \n",
              "2149641  Millions of dollars evaporated in the land sta...   \n",
              "2149642  Atlanta Radio Korea Atlanta Radio Korea FM96.7...   \n",
              "\n",
              "                                         ner_orgs  \n",
              "0                                         Latinos  \n",
              "1                                    State Senate  \n",
              "2                                  WABE Interview  \n",
              "3        Georgia Latino Alliance for Human Rights  \n",
              "4                                Emory University  \n",
              "...                                           ...  \n",
              "2149638                       Atlanta Radio Korea  \n",
              "2149639                       Atlanta Radio Korea  \n",
              "2149640                               Usain Bolt'  \n",
              "2149641                                       JAN  \n",
              "2149642                       Atlanta Radio Korea  \n",
              "\n",
              "[2149643 rows x 4 columns]"
            ],
            "text/html": [
              "\n",
              "  <div id=\"df-4b516aff-9e23-4b27-9856-7ff3fb6f4ac7\">\n",
              "    <div class=\"colab-df-container\">\n",
              "      <div>\n",
              "<style scoped>\n",
              "    .dataframe tbody tr th:only-of-type {\n",
              "        vertical-align: middle;\n",
              "    }\n",
              "\n",
              "    .dataframe tbody tr th {\n",
              "        vertical-align: top;\n",
              "    }\n",
              "\n",
              "    .dataframe thead th {\n",
              "        text-align: right;\n",
              "    }\n",
              "</style>\n",
              "<table border=\"1\" class=\"dataframe\">\n",
              "  <thead>\n",
              "    <tr style=\"text-align: right;\">\n",
              "      <th></th>\n",
              "      <th>id</th>\n",
              "      <th>source</th>\n",
              "      <th>article_final</th>\n",
              "      <th>ner_orgs</th>\n",
              "    </tr>\n",
              "  </thead>\n",
              "  <tbody>\n",
              "    <tr>\n",
              "      <th>0</th>\n",
              "      <td>1</td>\n",
              "      <td>285 South</td>\n",
              "      <td>The GOP effort to court Hispanic voters: Repub...</td>\n",
              "      <td>Latinos</td>\n",
              "    </tr>\n",
              "    <tr>\n",
              "      <th>1</th>\n",
              "      <td>1</td>\n",
              "      <td>285 South</td>\n",
              "      <td>The GOP effort to court Hispanic voters: Repub...</td>\n",
              "      <td>State Senate</td>\n",
              "    </tr>\n",
              "    <tr>\n",
              "      <th>2</th>\n",
              "      <td>1</td>\n",
              "      <td>285 South</td>\n",
              "      <td>The GOP effort to court Hispanic voters: Repub...</td>\n",
              "      <td>WABE Interview</td>\n",
              "    </tr>\n",
              "    <tr>\n",
              "      <th>3</th>\n",
              "      <td>1</td>\n",
              "      <td>285 South</td>\n",
              "      <td>The GOP effort to court Hispanic voters: Repub...</td>\n",
              "      <td>Georgia Latino Alliance for Human Rights</td>\n",
              "    </tr>\n",
              "    <tr>\n",
              "      <th>4</th>\n",
              "      <td>1</td>\n",
              "      <td>285 South</td>\n",
              "      <td>The GOP effort to court Hispanic voters: Repub...</td>\n",
              "      <td>Emory University</td>\n",
              "    </tr>\n",
              "    <tr>\n",
              "      <th>...</th>\n",
              "      <td>...</td>\n",
              "      <td>...</td>\n",
              "      <td>...</td>\n",
              "      <td>...</td>\n",
              "    </tr>\n",
              "    <tr>\n",
              "      <th>2149638</th>\n",
              "      <td>212994</td>\n",
              "      <td>WQXI AM 790</td>\n",
              "      <td>Atlanta Radio Korea Atlanta Radio Korea FM96.7...</td>\n",
              "      <td>Atlanta Radio Korea</td>\n",
              "    </tr>\n",
              "    <tr>\n",
              "      <th>2149639</th>\n",
              "      <td>212995</td>\n",
              "      <td>WQXI AM 790</td>\n",
              "      <td>Atlanta Radio Korea Atlanta Radio Korea FM96.7...</td>\n",
              "      <td>Atlanta Radio Korea</td>\n",
              "    </tr>\n",
              "    <tr>\n",
              "      <th>2149640</th>\n",
              "      <td>212996</td>\n",
              "      <td>WQXI AM 790</td>\n",
              "      <td>Millions of dollars evaporated in the land sta...</td>\n",
              "      <td>Usain Bolt'</td>\n",
              "    </tr>\n",
              "    <tr>\n",
              "      <th>2149641</th>\n",
              "      <td>212996</td>\n",
              "      <td>WQXI AM 790</td>\n",
              "      <td>Millions of dollars evaporated in the land sta...</td>\n",
              "      <td>JAN</td>\n",
              "    </tr>\n",
              "    <tr>\n",
              "      <th>2149642</th>\n",
              "      <td>212997</td>\n",
              "      <td>WQXI AM 790</td>\n",
              "      <td>Atlanta Radio Korea Atlanta Radio Korea FM96.7...</td>\n",
              "      <td>Atlanta Radio Korea</td>\n",
              "    </tr>\n",
              "  </tbody>\n",
              "</table>\n",
              "<p>2149643 rows × 4 columns</p>\n",
              "</div>\n",
              "      <button class=\"colab-df-convert\" onclick=\"convertToInteractive('df-4b516aff-9e23-4b27-9856-7ff3fb6f4ac7')\"\n",
              "              title=\"Convert this dataframe to an interactive table.\"\n",
              "              style=\"display:none;\">\n",
              "        \n",
              "  <svg xmlns=\"http://www.w3.org/2000/svg\" height=\"24px\"viewBox=\"0 0 24 24\"\n",
              "       width=\"24px\">\n",
              "    <path d=\"M0 0h24v24H0V0z\" fill=\"none\"/>\n",
              "    <path d=\"M18.56 5.44l.94 2.06.94-2.06 2.06-.94-2.06-.94-.94-2.06-.94 2.06-2.06.94zm-11 1L8.5 8.5l.94-2.06 2.06-.94-2.06-.94L8.5 2.5l-.94 2.06-2.06.94zm10 10l.94 2.06.94-2.06 2.06-.94-2.06-.94-.94-2.06-.94 2.06-2.06.94z\"/><path d=\"M17.41 7.96l-1.37-1.37c-.4-.4-.92-.59-1.43-.59-.52 0-1.04.2-1.43.59L10.3 9.45l-7.72 7.72c-.78.78-.78 2.05 0 2.83L4 21.41c.39.39.9.59 1.41.59.51 0 1.02-.2 1.41-.59l7.78-7.78 2.81-2.81c.8-.78.8-2.07 0-2.86zM5.41 20L4 18.59l7.72-7.72 1.47 1.35L5.41 20z\"/>\n",
              "  </svg>\n",
              "      </button>\n",
              "      \n",
              "  <style>\n",
              "    .colab-df-container {\n",
              "      display:flex;\n",
              "      flex-wrap:wrap;\n",
              "      gap: 12px;\n",
              "    }\n",
              "\n",
              "    .colab-df-convert {\n",
              "      background-color: #E8F0FE;\n",
              "      border: none;\n",
              "      border-radius: 50%;\n",
              "      cursor: pointer;\n",
              "      display: none;\n",
              "      fill: #1967D2;\n",
              "      height: 32px;\n",
              "      padding: 0 0 0 0;\n",
              "      width: 32px;\n",
              "    }\n",
              "\n",
              "    .colab-df-convert:hover {\n",
              "      background-color: #E2EBFA;\n",
              "      box-shadow: 0px 1px 2px rgba(60, 64, 67, 0.3), 0px 1px 3px 1px rgba(60, 64, 67, 0.15);\n",
              "      fill: #174EA6;\n",
              "    }\n",
              "\n",
              "    [theme=dark] .colab-df-convert {\n",
              "      background-color: #3B4455;\n",
              "      fill: #D2E3FC;\n",
              "    }\n",
              "\n",
              "    [theme=dark] .colab-df-convert:hover {\n",
              "      background-color: #434B5C;\n",
              "      box-shadow: 0px 1px 3px 1px rgba(0, 0, 0, 0.15);\n",
              "      filter: drop-shadow(0px 1px 2px rgba(0, 0, 0, 0.3));\n",
              "      fill: #FFFFFF;\n",
              "    }\n",
              "  </style>\n",
              "\n",
              "      <script>\n",
              "        const buttonEl =\n",
              "          document.querySelector('#df-4b516aff-9e23-4b27-9856-7ff3fb6f4ac7 button.colab-df-convert');\n",
              "        buttonEl.style.display =\n",
              "          google.colab.kernel.accessAllowed ? 'block' : 'none';\n",
              "\n",
              "        async function convertToInteractive(key) {\n",
              "          const element = document.querySelector('#df-4b516aff-9e23-4b27-9856-7ff3fb6f4ac7');\n",
              "          const dataTable =\n",
              "            await google.colab.kernel.invokeFunction('convertToInteractive',\n",
              "                                                     [key], {});\n",
              "          if (!dataTable) return;\n",
              "\n",
              "          const docLinkHtml = 'Like what you see? Visit the ' +\n",
              "            '<a target=\"_blank\" href=https://colab.research.google.com/notebooks/data_table.ipynb>data table notebook</a>'\n",
              "            + ' to learn more about interactive tables.';\n",
              "          element.innerHTML = '';\n",
              "          dataTable['output_type'] = 'display_data';\n",
              "          await google.colab.output.renderOutput(dataTable, element);\n",
              "          const docLink = document.createElement('div');\n",
              "          docLink.innerHTML = docLinkHtml;\n",
              "          element.appendChild(docLink);\n",
              "        }\n",
              "      </script>\n",
              "    </div>\n",
              "  </div>\n",
              "  "
            ]
          },
          "metadata": {},
          "execution_count": 44
        }
      ]
    },
    {
      "cell_type": "code",
      "source": [
        "df_ner_comp_no_set_st"
      ],
      "metadata": {
        "colab": {
          "base_uri": "https://localhost:8080/",
          "height": 424
        },
        "id": "EV5g4M6TGmwQ",
        "outputId": "cb3cd221-4b1a-4acf-f156-49ae42bcf4d6"
      },
      "execution_count": null,
      "outputs": [
        {
          "output_type": "execute_result",
          "data": {
            "text/plain": [
              "             id             source  \\\n",
              "0             1  Metter Advertiser   \n",
              "1             1  Metter Advertiser   \n",
              "2             1  Metter Advertiser   \n",
              "3             2  Metter Advertiser   \n",
              "4             2  Metter Advertiser   \n",
              "...         ...                ...   \n",
              "1126717  192185   WALB TV 10 (NBC)   \n",
              "1126718  192189   WALB TV 10 (NBC)   \n",
              "1126719  192193   WALB TV 10 (NBC)   \n",
              "1126720  192194   WALB TV 10 (NBC)   \n",
              "1126721  192194   WALB TV 10 (NBC)   \n",
              "\n",
              "                                             article_final  \\\n",
              "0        The American Pickers are excited to return to ...   \n",
              "1        The American Pickers are excited to return to ...   \n",
              "2        The American Pickers are excited to return to ...   \n",
              "3        Candler County Health Department and Southeast...   \n",
              "4        Candler County Health Department and Southeast...   \n",
              "...                                                    ...   \n",
              "1126717  Meagan Muhlbach stood by and let herself get h...   \n",
              "1126718  Saturday marked the sixth time in the series h...   \n",
              "1126719  Lexington Police are investigating the city's ...   \n",
              "1126720  Members and volunteers of Junior Achievement, ...   \n",
              "1126721  Members and volunteers of Junior Achievement, ...   \n",
              "\n",
              "                           ner_orgs  \n",
              "0                  American Pickers  \n",
              "1                               CDC  \n",
              "2          American Pickers TV Show  \n",
              "3               SE Broad Street and  \n",
              "4             Southeast Health Unit  \n",
              "...                             ...  \n",
              "1126717  Children’s Miracle Network  \n",
              "1126718                Crimson Tide  \n",
              "1126719            Lexington Police  \n",
              "1126720          Junior Achievement  \n",
              "1126721     Ramey Elementary School  \n",
              "\n",
              "[1126722 rows x 4 columns]"
            ],
            "text/html": [
              "\n",
              "  <div id=\"df-52bde244-d33e-4253-945f-90387de10ddd\">\n",
              "    <div class=\"colab-df-container\">\n",
              "      <div>\n",
              "<style scoped>\n",
              "    .dataframe tbody tr th:only-of-type {\n",
              "        vertical-align: middle;\n",
              "    }\n",
              "\n",
              "    .dataframe tbody tr th {\n",
              "        vertical-align: top;\n",
              "    }\n",
              "\n",
              "    .dataframe thead th {\n",
              "        text-align: right;\n",
              "    }\n",
              "</style>\n",
              "<table border=\"1\" class=\"dataframe\">\n",
              "  <thead>\n",
              "    <tr style=\"text-align: right;\">\n",
              "      <th></th>\n",
              "      <th>id</th>\n",
              "      <th>source</th>\n",
              "      <th>article_final</th>\n",
              "      <th>ner_orgs</th>\n",
              "    </tr>\n",
              "  </thead>\n",
              "  <tbody>\n",
              "    <tr>\n",
              "      <th>0</th>\n",
              "      <td>1</td>\n",
              "      <td>Metter Advertiser</td>\n",
              "      <td>The American Pickers are excited to return to ...</td>\n",
              "      <td>American Pickers</td>\n",
              "    </tr>\n",
              "    <tr>\n",
              "      <th>1</th>\n",
              "      <td>1</td>\n",
              "      <td>Metter Advertiser</td>\n",
              "      <td>The American Pickers are excited to return to ...</td>\n",
              "      <td>CDC</td>\n",
              "    </tr>\n",
              "    <tr>\n",
              "      <th>2</th>\n",
              "      <td>1</td>\n",
              "      <td>Metter Advertiser</td>\n",
              "      <td>The American Pickers are excited to return to ...</td>\n",
              "      <td>American Pickers TV Show</td>\n",
              "    </tr>\n",
              "    <tr>\n",
              "      <th>3</th>\n",
              "      <td>2</td>\n",
              "      <td>Metter Advertiser</td>\n",
              "      <td>Candler County Health Department and Southeast...</td>\n",
              "      <td>SE Broad Street and</td>\n",
              "    </tr>\n",
              "    <tr>\n",
              "      <th>4</th>\n",
              "      <td>2</td>\n",
              "      <td>Metter Advertiser</td>\n",
              "      <td>Candler County Health Department and Southeast...</td>\n",
              "      <td>Southeast Health Unit</td>\n",
              "    </tr>\n",
              "    <tr>\n",
              "      <th>...</th>\n",
              "      <td>...</td>\n",
              "      <td>...</td>\n",
              "      <td>...</td>\n",
              "      <td>...</td>\n",
              "    </tr>\n",
              "    <tr>\n",
              "      <th>1126717</th>\n",
              "      <td>192185</td>\n",
              "      <td>WALB TV 10 (NBC)</td>\n",
              "      <td>Meagan Muhlbach stood by and let herself get h...</td>\n",
              "      <td>Children’s Miracle Network</td>\n",
              "    </tr>\n",
              "    <tr>\n",
              "      <th>1126718</th>\n",
              "      <td>192189</td>\n",
              "      <td>WALB TV 10 (NBC)</td>\n",
              "      <td>Saturday marked the sixth time in the series h...</td>\n",
              "      <td>Crimson Tide</td>\n",
              "    </tr>\n",
              "    <tr>\n",
              "      <th>1126719</th>\n",
              "      <td>192193</td>\n",
              "      <td>WALB TV 10 (NBC)</td>\n",
              "      <td>Lexington Police are investigating the city's ...</td>\n",
              "      <td>Lexington Police</td>\n",
              "    </tr>\n",
              "    <tr>\n",
              "      <th>1126720</th>\n",
              "      <td>192194</td>\n",
              "      <td>WALB TV 10 (NBC)</td>\n",
              "      <td>Members and volunteers of Junior Achievement, ...</td>\n",
              "      <td>Junior Achievement</td>\n",
              "    </tr>\n",
              "    <tr>\n",
              "      <th>1126721</th>\n",
              "      <td>192194</td>\n",
              "      <td>WALB TV 10 (NBC)</td>\n",
              "      <td>Members and volunteers of Junior Achievement, ...</td>\n",
              "      <td>Ramey Elementary School</td>\n",
              "    </tr>\n",
              "  </tbody>\n",
              "</table>\n",
              "<p>1126722 rows × 4 columns</p>\n",
              "</div>\n",
              "      <button class=\"colab-df-convert\" onclick=\"convertToInteractive('df-52bde244-d33e-4253-945f-90387de10ddd')\"\n",
              "              title=\"Convert this dataframe to an interactive table.\"\n",
              "              style=\"display:none;\">\n",
              "        \n",
              "  <svg xmlns=\"http://www.w3.org/2000/svg\" height=\"24px\"viewBox=\"0 0 24 24\"\n",
              "       width=\"24px\">\n",
              "    <path d=\"M0 0h24v24H0V0z\" fill=\"none\"/>\n",
              "    <path d=\"M18.56 5.44l.94 2.06.94-2.06 2.06-.94-2.06-.94-.94-2.06-.94 2.06-2.06.94zm-11 1L8.5 8.5l.94-2.06 2.06-.94-2.06-.94L8.5 2.5l-.94 2.06-2.06.94zm10 10l.94 2.06.94-2.06 2.06-.94-2.06-.94-.94-2.06-.94 2.06-2.06.94z\"/><path d=\"M17.41 7.96l-1.37-1.37c-.4-.4-.92-.59-1.43-.59-.52 0-1.04.2-1.43.59L10.3 9.45l-7.72 7.72c-.78.78-.78 2.05 0 2.83L4 21.41c.39.39.9.59 1.41.59.51 0 1.02-.2 1.41-.59l7.78-7.78 2.81-2.81c.8-.78.8-2.07 0-2.86zM5.41 20L4 18.59l7.72-7.72 1.47 1.35L5.41 20z\"/>\n",
              "  </svg>\n",
              "      </button>\n",
              "      \n",
              "  <style>\n",
              "    .colab-df-container {\n",
              "      display:flex;\n",
              "      flex-wrap:wrap;\n",
              "      gap: 12px;\n",
              "    }\n",
              "\n",
              "    .colab-df-convert {\n",
              "      background-color: #E8F0FE;\n",
              "      border: none;\n",
              "      border-radius: 50%;\n",
              "      cursor: pointer;\n",
              "      display: none;\n",
              "      fill: #1967D2;\n",
              "      height: 32px;\n",
              "      padding: 0 0 0 0;\n",
              "      width: 32px;\n",
              "    }\n",
              "\n",
              "    .colab-df-convert:hover {\n",
              "      background-color: #E2EBFA;\n",
              "      box-shadow: 0px 1px 2px rgba(60, 64, 67, 0.3), 0px 1px 3px 1px rgba(60, 64, 67, 0.15);\n",
              "      fill: #174EA6;\n",
              "    }\n",
              "\n",
              "    [theme=dark] .colab-df-convert {\n",
              "      background-color: #3B4455;\n",
              "      fill: #D2E3FC;\n",
              "    }\n",
              "\n",
              "    [theme=dark] .colab-df-convert:hover {\n",
              "      background-color: #434B5C;\n",
              "      box-shadow: 0px 1px 3px 1px rgba(0, 0, 0, 0.15);\n",
              "      filter: drop-shadow(0px 1px 2px rgba(0, 0, 0, 0.3));\n",
              "      fill: #FFFFFF;\n",
              "    }\n",
              "  </style>\n",
              "\n",
              "      <script>\n",
              "        const buttonEl =\n",
              "          document.querySelector('#df-52bde244-d33e-4253-945f-90387de10ddd button.colab-df-convert');\n",
              "        buttonEl.style.display =\n",
              "          google.colab.kernel.accessAllowed ? 'block' : 'none';\n",
              "\n",
              "        async function convertToInteractive(key) {\n",
              "          const element = document.querySelector('#df-52bde244-d33e-4253-945f-90387de10ddd');\n",
              "          const dataTable =\n",
              "            await google.colab.kernel.invokeFunction('convertToInteractive',\n",
              "                                                     [key], {});\n",
              "          if (!dataTable) return;\n",
              "\n",
              "          const docLinkHtml = 'Like what you see? Visit the ' +\n",
              "            '<a target=\"_blank\" href=https://colab.research.google.com/notebooks/data_table.ipynb>data table notebook</a>'\n",
              "            + ' to learn more about interactive tables.';\n",
              "          element.innerHTML = '';\n",
              "          dataTable['output_type'] = 'display_data';\n",
              "          await google.colab.output.renderOutput(dataTable, element);\n",
              "          const docLink = document.createElement('div');\n",
              "          docLink.innerHTML = docLinkHtml;\n",
              "          element.appendChild(docLink);\n",
              "        }\n",
              "      </script>\n",
              "    </div>\n",
              "  </div>\n",
              "  "
            ]
          },
          "metadata": {},
          "execution_count": 46
        }
      ]
    },
    {
      "cell_type": "code",
      "source": [
        "ner_art_count = df_ner_comp_no_set_st.groupby('ner_orgs')['id'].count().reset_index()"
      ],
      "metadata": {
        "id": "7Y2Y-ngp3qmw"
      },
      "execution_count": null,
      "outputs": []
    },
    {
      "cell_type": "code",
      "source": [
        "ner_art_count_c5 = ner_art_count[ner_art_count['id'] >= 5]"
      ],
      "metadata": {
        "id": "thWPt5ZeGubj"
      },
      "execution_count": null,
      "outputs": []
    },
    {
      "cell_type": "code",
      "source": [
        "ner_art_count_c5 = ner_art_count_c5.sort_values('ner_orgs')"
      ],
      "metadata": {
        "id": "Y9REaoOmKaUN"
      },
      "execution_count": null,
      "outputs": []
    },
    {
      "cell_type": "code",
      "source": [
        "ner_art_count_c5 = ner_art_count_c5.reset_index()"
      ],
      "metadata": {
        "id": "inRp-YUiMtWI"
      },
      "execution_count": null,
      "outputs": []
    },
    {
      "cell_type": "code",
      "source": [
        "ner_art_count_c5 = ner_art_count_c5.iloc[0:34641,]"
      ],
      "metadata": {
        "id": "8bzgqypVLnG5"
      },
      "execution_count": null,
      "outputs": []
    },
    {
      "cell_type": "code",
      "source": [
        "ner_art_count_c5"
      ],
      "metadata": {
        "colab": {
          "base_uri": "https://localhost:8080/",
          "height": 424
        },
        "id": "x4Y_-oXqJAe4",
        "outputId": "d3962b2a-895e-4fbb-f89c-de366d0cec08"
      },
      "execution_count": null,
      "outputs": [
        {
          "output_type": "execute_result",
          "data": {
            "text/plain": [
              "                                    ner_orgs   id\n",
              "0                                             284\n",
              "24        & Movement Disorders Support Group   23\n",
              "29                                    & SI’s   33\n",
              "39                                       & ©   24\n",
              "44                           'American Idol'    5\n",
              "...                                      ...  ...\n",
              "154800  • Standalone Prescription Drug Plans   17\n",
              "154826                               • Trust   17\n",
              "154852      •Danielsville Evangelical Church    8\n",
              "154861        •Lighthouse Pentecostal Church    6\n",
              "154904                                     🟣    8\n",
              "\n",
              "[21376 rows x 2 columns]"
            ],
            "text/html": [
              "\n",
              "  <div id=\"df-38ec555a-5ea2-425a-b393-bfc29c0166df\">\n",
              "    <div class=\"colab-df-container\">\n",
              "      <div>\n",
              "<style scoped>\n",
              "    .dataframe tbody tr th:only-of-type {\n",
              "        vertical-align: middle;\n",
              "    }\n",
              "\n",
              "    .dataframe tbody tr th {\n",
              "        vertical-align: top;\n",
              "    }\n",
              "\n",
              "    .dataframe thead th {\n",
              "        text-align: right;\n",
              "    }\n",
              "</style>\n",
              "<table border=\"1\" class=\"dataframe\">\n",
              "  <thead>\n",
              "    <tr style=\"text-align: right;\">\n",
              "      <th></th>\n",
              "      <th>ner_orgs</th>\n",
              "      <th>id</th>\n",
              "    </tr>\n",
              "  </thead>\n",
              "  <tbody>\n",
              "    <tr>\n",
              "      <th>0</th>\n",
              "      <td></td>\n",
              "      <td>284</td>\n",
              "    </tr>\n",
              "    <tr>\n",
              "      <th>24</th>\n",
              "      <td>&amp; Movement Disorders Support Group</td>\n",
              "      <td>23</td>\n",
              "    </tr>\n",
              "    <tr>\n",
              "      <th>29</th>\n",
              "      <td>&amp; SI’s</td>\n",
              "      <td>33</td>\n",
              "    </tr>\n",
              "    <tr>\n",
              "      <th>39</th>\n",
              "      <td>&amp; ©</td>\n",
              "      <td>24</td>\n",
              "    </tr>\n",
              "    <tr>\n",
              "      <th>44</th>\n",
              "      <td>'American Idol'</td>\n",
              "      <td>5</td>\n",
              "    </tr>\n",
              "    <tr>\n",
              "      <th>...</th>\n",
              "      <td>...</td>\n",
              "      <td>...</td>\n",
              "    </tr>\n",
              "    <tr>\n",
              "      <th>154800</th>\n",
              "      <td>• Standalone Prescription Drug Plans</td>\n",
              "      <td>17</td>\n",
              "    </tr>\n",
              "    <tr>\n",
              "      <th>154826</th>\n",
              "      <td>• Trust</td>\n",
              "      <td>17</td>\n",
              "    </tr>\n",
              "    <tr>\n",
              "      <th>154852</th>\n",
              "      <td>•Danielsville Evangelical Church</td>\n",
              "      <td>8</td>\n",
              "    </tr>\n",
              "    <tr>\n",
              "      <th>154861</th>\n",
              "      <td>•Lighthouse Pentecostal Church</td>\n",
              "      <td>6</td>\n",
              "    </tr>\n",
              "    <tr>\n",
              "      <th>154904</th>\n",
              "      <td>🟣</td>\n",
              "      <td>8</td>\n",
              "    </tr>\n",
              "  </tbody>\n",
              "</table>\n",
              "<p>21376 rows × 2 columns</p>\n",
              "</div>\n",
              "      <button class=\"colab-df-convert\" onclick=\"convertToInteractive('df-38ec555a-5ea2-425a-b393-bfc29c0166df')\"\n",
              "              title=\"Convert this dataframe to an interactive table.\"\n",
              "              style=\"display:none;\">\n",
              "        \n",
              "  <svg xmlns=\"http://www.w3.org/2000/svg\" height=\"24px\"viewBox=\"0 0 24 24\"\n",
              "       width=\"24px\">\n",
              "    <path d=\"M0 0h24v24H0V0z\" fill=\"none\"/>\n",
              "    <path d=\"M18.56 5.44l.94 2.06.94-2.06 2.06-.94-2.06-.94-.94-2.06-.94 2.06-2.06.94zm-11 1L8.5 8.5l.94-2.06 2.06-.94-2.06-.94L8.5 2.5l-.94 2.06-2.06.94zm10 10l.94 2.06.94-2.06 2.06-.94-2.06-.94-.94-2.06-.94 2.06-2.06.94z\"/><path d=\"M17.41 7.96l-1.37-1.37c-.4-.4-.92-.59-1.43-.59-.52 0-1.04.2-1.43.59L10.3 9.45l-7.72 7.72c-.78.78-.78 2.05 0 2.83L4 21.41c.39.39.9.59 1.41.59.51 0 1.02-.2 1.41-.59l7.78-7.78 2.81-2.81c.8-.78.8-2.07 0-2.86zM5.41 20L4 18.59l7.72-7.72 1.47 1.35L5.41 20z\"/>\n",
              "  </svg>\n",
              "      </button>\n",
              "      \n",
              "  <style>\n",
              "    .colab-df-container {\n",
              "      display:flex;\n",
              "      flex-wrap:wrap;\n",
              "      gap: 12px;\n",
              "    }\n",
              "\n",
              "    .colab-df-convert {\n",
              "      background-color: #E8F0FE;\n",
              "      border: none;\n",
              "      border-radius: 50%;\n",
              "      cursor: pointer;\n",
              "      display: none;\n",
              "      fill: #1967D2;\n",
              "      height: 32px;\n",
              "      padding: 0 0 0 0;\n",
              "      width: 32px;\n",
              "    }\n",
              "\n",
              "    .colab-df-convert:hover {\n",
              "      background-color: #E2EBFA;\n",
              "      box-shadow: 0px 1px 2px rgba(60, 64, 67, 0.3), 0px 1px 3px 1px rgba(60, 64, 67, 0.15);\n",
              "      fill: #174EA6;\n",
              "    }\n",
              "\n",
              "    [theme=dark] .colab-df-convert {\n",
              "      background-color: #3B4455;\n",
              "      fill: #D2E3FC;\n",
              "    }\n",
              "\n",
              "    [theme=dark] .colab-df-convert:hover {\n",
              "      background-color: #434B5C;\n",
              "      box-shadow: 0px 1px 3px 1px rgba(0, 0, 0, 0.15);\n",
              "      filter: drop-shadow(0px 1px 2px rgba(0, 0, 0, 0.3));\n",
              "      fill: #FFFFFF;\n",
              "    }\n",
              "  </style>\n",
              "\n",
              "      <script>\n",
              "        const buttonEl =\n",
              "          document.querySelector('#df-38ec555a-5ea2-425a-b393-bfc29c0166df button.colab-df-convert');\n",
              "        buttonEl.style.display =\n",
              "          google.colab.kernel.accessAllowed ? 'block' : 'none';\n",
              "\n",
              "        async function convertToInteractive(key) {\n",
              "          const element = document.querySelector('#df-38ec555a-5ea2-425a-b393-bfc29c0166df');\n",
              "          const dataTable =\n",
              "            await google.colab.kernel.invokeFunction('convertToInteractive',\n",
              "                                                     [key], {});\n",
              "          if (!dataTable) return;\n",
              "\n",
              "          const docLinkHtml = 'Like what you see? Visit the ' +\n",
              "            '<a target=\"_blank\" href=https://colab.research.google.com/notebooks/data_table.ipynb>data table notebook</a>'\n",
              "            + ' to learn more about interactive tables.';\n",
              "          element.innerHTML = '';\n",
              "          dataTable['output_type'] = 'display_data';\n",
              "          await google.colab.output.renderOutput(dataTable, element);\n",
              "          const docLink = document.createElement('div');\n",
              "          docLink.innerHTML = docLinkHtml;\n",
              "          element.appendChild(docLink);\n",
              "        }\n",
              "      </script>\n",
              "    </div>\n",
              "  </div>\n",
              "  "
            ]
          },
          "metadata": {},
          "execution_count": 48
        }
      ]
    },
    {
      "cell_type": "code",
      "source": [
        "ner_art_count_c5.to_excel('Georgia_ner_orgs_art_c5_v1_pre.xlsx')"
      ],
      "metadata": {
        "id": "FKoqOfTZFuDz"
      },
      "execution_count": null,
      "outputs": []
    },
    {
      "cell_type": "code",
      "source": [
        "ner_art_count_c5 = ner_art_count_c5.sort_values('ner_orgs', ascending=False)"
      ],
      "metadata": {
        "id": "cEavbrpcMG8J"
      },
      "execution_count": null,
      "outputs": []
    },
    {
      "cell_type": "code",
      "source": [
        "35647-1006"
      ],
      "metadata": {
        "colab": {
          "base_uri": "https://localhost:8080/"
        },
        "id": "LT5KkYsq_yY7",
        "outputId": "02dfa8b0-048a-4cc8-8ab0-cfbb06c10db6"
      },
      "execution_count": null,
      "outputs": [
        {
          "output_type": "execute_result",
          "data": {
            "text/plain": [
              "34641"
            ]
          },
          "metadata": {},
          "execution_count": 56
        }
      ]
    },
    {
      "cell_type": "code",
      "source": [
        "34514-1006"
      ],
      "metadata": {
        "colab": {
          "base_uri": "https://localhost:8080/"
        },
        "id": "wHTcSxmy_3aH",
        "outputId": "481d909b-10b4-4817-f73f-6b3c7be648f7"
      },
      "execution_count": null,
      "outputs": [
        {
          "output_type": "execute_result",
          "data": {
            "text/plain": [
              "33508"
            ]
          },
          "metadata": {},
          "execution_count": 453
        }
      ]
    },
    {
      "cell_type": "code",
      "source": [
        "ner_art_count_c5"
      ],
      "metadata": {
        "colab": {
          "base_uri": "https://localhost:8080/",
          "height": 673
        },
        "id": "dJbyQlC58aeg",
        "outputId": "1f441d23-47b2-4e38-a7db-9195124af3f7"
      },
      "execution_count": null,
      "outputs": [
        {
          "output_type": "execute_result",
          "data": {
            "text/plain": [
              "        index                                  ner_orgs  id\n",
              "35646  185839                                         🟣   8\n",
              "35645  185829                                         🎥  15\n",
              "35644  185827  🌽 @daboot02 @coach_frost @HuskerFBNation   6\n",
              "35643  185804                                      −6.5   5\n",
              "35642  185803                                      −6.0   8\n",
              "...       ...                                       ...  ..\n",
              "1010     5479                             Air Force and   5\n",
              "1009     5478                         Air Force Veteran   7\n",
              "1008     5473                 Air Force Security Forces  10\n",
              "1007     5470                 Air Force Reserve Command   7\n",
              "1006     5469                         Air Force Reserve  22\n",
              "\n",
              "[34641 rows x 3 columns]"
            ],
            "text/html": [
              "\n",
              "  <div id=\"df-82a6606e-8c3c-47c0-aee5-e8a7bcfc752e\">\n",
              "    <div class=\"colab-df-container\">\n",
              "      <div>\n",
              "<style scoped>\n",
              "    .dataframe tbody tr th:only-of-type {\n",
              "        vertical-align: middle;\n",
              "    }\n",
              "\n",
              "    .dataframe tbody tr th {\n",
              "        vertical-align: top;\n",
              "    }\n",
              "\n",
              "    .dataframe thead th {\n",
              "        text-align: right;\n",
              "    }\n",
              "</style>\n",
              "<table border=\"1\" class=\"dataframe\">\n",
              "  <thead>\n",
              "    <tr style=\"text-align: right;\">\n",
              "      <th></th>\n",
              "      <th>index</th>\n",
              "      <th>ner_orgs</th>\n",
              "      <th>id</th>\n",
              "    </tr>\n",
              "  </thead>\n",
              "  <tbody>\n",
              "    <tr>\n",
              "      <th>35646</th>\n",
              "      <td>185839</td>\n",
              "      <td>🟣</td>\n",
              "      <td>8</td>\n",
              "    </tr>\n",
              "    <tr>\n",
              "      <th>35645</th>\n",
              "      <td>185829</td>\n",
              "      <td>🎥</td>\n",
              "      <td>15</td>\n",
              "    </tr>\n",
              "    <tr>\n",
              "      <th>35644</th>\n",
              "      <td>185827</td>\n",
              "      <td>🌽 @daboot02 @coach_frost @HuskerFBNation</td>\n",
              "      <td>6</td>\n",
              "    </tr>\n",
              "    <tr>\n",
              "      <th>35643</th>\n",
              "      <td>185804</td>\n",
              "      <td>−6.5</td>\n",
              "      <td>5</td>\n",
              "    </tr>\n",
              "    <tr>\n",
              "      <th>35642</th>\n",
              "      <td>185803</td>\n",
              "      <td>−6.0</td>\n",
              "      <td>8</td>\n",
              "    </tr>\n",
              "    <tr>\n",
              "      <th>...</th>\n",
              "      <td>...</td>\n",
              "      <td>...</td>\n",
              "      <td>...</td>\n",
              "    </tr>\n",
              "    <tr>\n",
              "      <th>1010</th>\n",
              "      <td>5479</td>\n",
              "      <td>Air Force and</td>\n",
              "      <td>5</td>\n",
              "    </tr>\n",
              "    <tr>\n",
              "      <th>1009</th>\n",
              "      <td>5478</td>\n",
              "      <td>Air Force Veteran</td>\n",
              "      <td>7</td>\n",
              "    </tr>\n",
              "    <tr>\n",
              "      <th>1008</th>\n",
              "      <td>5473</td>\n",
              "      <td>Air Force Security Forces</td>\n",
              "      <td>10</td>\n",
              "    </tr>\n",
              "    <tr>\n",
              "      <th>1007</th>\n",
              "      <td>5470</td>\n",
              "      <td>Air Force Reserve Command</td>\n",
              "      <td>7</td>\n",
              "    </tr>\n",
              "    <tr>\n",
              "      <th>1006</th>\n",
              "      <td>5469</td>\n",
              "      <td>Air Force Reserve</td>\n",
              "      <td>22</td>\n",
              "    </tr>\n",
              "  </tbody>\n",
              "</table>\n",
              "<p>34641 rows × 3 columns</p>\n",
              "</div>\n",
              "      <button class=\"colab-df-convert\" onclick=\"convertToInteractive('df-82a6606e-8c3c-47c0-aee5-e8a7bcfc752e')\"\n",
              "              title=\"Convert this dataframe to an interactive table.\"\n",
              "              style=\"display:none;\">\n",
              "        \n",
              "  <svg xmlns=\"http://www.w3.org/2000/svg\" height=\"24px\"viewBox=\"0 0 24 24\"\n",
              "       width=\"24px\">\n",
              "    <path d=\"M0 0h24v24H0V0z\" fill=\"none\"/>\n",
              "    <path d=\"M18.56 5.44l.94 2.06.94-2.06 2.06-.94-2.06-.94-.94-2.06-.94 2.06-2.06.94zm-11 1L8.5 8.5l.94-2.06 2.06-.94-2.06-.94L8.5 2.5l-.94 2.06-2.06.94zm10 10l.94 2.06.94-2.06 2.06-.94-2.06-.94-.94-2.06-.94 2.06-2.06.94z\"/><path d=\"M17.41 7.96l-1.37-1.37c-.4-.4-.92-.59-1.43-.59-.52 0-1.04.2-1.43.59L10.3 9.45l-7.72 7.72c-.78.78-.78 2.05 0 2.83L4 21.41c.39.39.9.59 1.41.59.51 0 1.02-.2 1.41-.59l7.78-7.78 2.81-2.81c.8-.78.8-2.07 0-2.86zM5.41 20L4 18.59l7.72-7.72 1.47 1.35L5.41 20z\"/>\n",
              "  </svg>\n",
              "      </button>\n",
              "      \n",
              "  <style>\n",
              "    .colab-df-container {\n",
              "      display:flex;\n",
              "      flex-wrap:wrap;\n",
              "      gap: 12px;\n",
              "    }\n",
              "\n",
              "    .colab-df-convert {\n",
              "      background-color: #E8F0FE;\n",
              "      border: none;\n",
              "      border-radius: 50%;\n",
              "      cursor: pointer;\n",
              "      display: none;\n",
              "      fill: #1967D2;\n",
              "      height: 32px;\n",
              "      padding: 0 0 0 0;\n",
              "      width: 32px;\n",
              "    }\n",
              "\n",
              "    .colab-df-convert:hover {\n",
              "      background-color: #E2EBFA;\n",
              "      box-shadow: 0px 1px 2px rgba(60, 64, 67, 0.3), 0px 1px 3px 1px rgba(60, 64, 67, 0.15);\n",
              "      fill: #174EA6;\n",
              "    }\n",
              "\n",
              "    [theme=dark] .colab-df-convert {\n",
              "      background-color: #3B4455;\n",
              "      fill: #D2E3FC;\n",
              "    }\n",
              "\n",
              "    [theme=dark] .colab-df-convert:hover {\n",
              "      background-color: #434B5C;\n",
              "      box-shadow: 0px 1px 3px 1px rgba(0, 0, 0, 0.15);\n",
              "      filter: drop-shadow(0px 1px 2px rgba(0, 0, 0, 0.3));\n",
              "      fill: #FFFFFF;\n",
              "    }\n",
              "  </style>\n",
              "\n",
              "      <script>\n",
              "        const buttonEl =\n",
              "          document.querySelector('#df-82a6606e-8c3c-47c0-aee5-e8a7bcfc752e button.colab-df-convert');\n",
              "        buttonEl.style.display =\n",
              "          google.colab.kernel.accessAllowed ? 'block' : 'none';\n",
              "\n",
              "        async function convertToInteractive(key) {\n",
              "          const element = document.querySelector('#df-82a6606e-8c3c-47c0-aee5-e8a7bcfc752e');\n",
              "          const dataTable =\n",
              "            await google.colab.kernel.invokeFunction('convertToInteractive',\n",
              "                                                     [key], {});\n",
              "          if (!dataTable) return;\n",
              "\n",
              "          const docLinkHtml = 'Like what you see? Visit the ' +\n",
              "            '<a target=\"_blank\" href=https://colab.research.google.com/notebooks/data_table.ipynb>data table notebook</a>'\n",
              "            + ' to learn more about interactive tables.';\n",
              "          element.innerHTML = '';\n",
              "          dataTable['output_type'] = 'display_data';\n",
              "          await google.colab.output.renderOutput(dataTable, element);\n",
              "          const docLink = document.createElement('div');\n",
              "          docLink.innerHTML = docLinkHtml;\n",
              "          element.appendChild(docLink);\n",
              "        }\n",
              "      </script>\n",
              "    </div>\n",
              "  </div>\n",
              "  "
            ]
          },
          "metadata": {},
          "execution_count": 58
        },
        {
          "output_type": "stream",
          "name": "stdout",
          "text": [
            "Warning: total number of rows (34641) exceeds max_rows (20000). Limiting to first (20000) rows.\n"
          ]
        }
      ]
    },
    {
      "cell_type": "code",
      "source": [
        "ner_art_count_c5.to_excel('Georgia_ner_orgs_art_c5_v2_add.xlsx')"
      ],
      "metadata": {
        "id": "8xxHCZaaNYn5"
      },
      "execution_count": null,
      "outputs": []
    },
    {
      "cell_type": "markdown",
      "source": [
        "## org topic count"
      ],
      "metadata": {
        "id": "_Cg9HwUJcY5R"
      }
    },
    {
      "cell_type": "code",
      "source": [
        "%cd /content/drive/MyDrive/Georgia/Organization Analysis\n"
      ],
      "metadata": {
        "id": "VeV8fMCufIzn"
      },
      "execution_count": null,
      "outputs": []
    },
    {
      "cell_type": "code",
      "source": [
        "import pandas as pd\n",
        "org_v2 = pd.read_excel('Georgia_ner_orgs_art_c5_v2.xlsx')\n",
        "org_v1 = pd.read_excel('Georgia_ner_orgs_art_c5_v1_pre.xlsx')"
      ],
      "metadata": {
        "colab": {
          "base_uri": "https://localhost:8080/"
        },
        "id": "83TfWrgucbtB",
        "outputId": "20253348-3292-418e-83cc-98029472a06d"
      },
      "execution_count": null,
      "outputs": [
        {
          "output_type": "stream",
          "name": "stdout",
          "text": [
            "/content/drive/.shortcut-targets-by-id/1YSQ9BBnwwRu7fyeM_9V6eoFgKQBPl4Rr/Georgia/Organization Analysis\n"
          ]
        }
      ]
    },
    {
      "cell_type": "code",
      "source": [
        "org_v1"
      ],
      "metadata": {
        "colab": {
          "base_uri": "https://localhost:8080/",
          "height": 424
        },
        "id": "FS48BzMleeAf",
        "outputId": "9424245b-ecf5-4782-c79c-1fabfb0b56b2"
      },
      "execution_count": null,
      "outputs": [
        {
          "output_type": "execute_result",
          "data": {
            "text/plain": [
              "       Unnamed: 0                              ner_orgs   id\n",
              "0               0                                   NaN  284\n",
              "1              24    & Movement Disorders Support Group   23\n",
              "2              29                                & SI’s   33\n",
              "3              39                                   & ©   24\n",
              "4              44                       'American Idol'    5\n",
              "...           ...                                   ...  ...\n",
              "21371      154800  • Standalone Prescription Drug Plans   17\n",
              "21372      154826                               • Trust   17\n",
              "21373      154852      •Danielsville Evangelical Church    8\n",
              "21374      154861        •Lighthouse Pentecostal Church    6\n",
              "21375      154904                                     🟣    8\n",
              "\n",
              "[21376 rows x 3 columns]"
            ],
            "text/html": [
              "\n",
              "  <div id=\"df-f384ad86-abe7-45e2-b692-e328fd1a1285\">\n",
              "    <div class=\"colab-df-container\">\n",
              "      <div>\n",
              "<style scoped>\n",
              "    .dataframe tbody tr th:only-of-type {\n",
              "        vertical-align: middle;\n",
              "    }\n",
              "\n",
              "    .dataframe tbody tr th {\n",
              "        vertical-align: top;\n",
              "    }\n",
              "\n",
              "    .dataframe thead th {\n",
              "        text-align: right;\n",
              "    }\n",
              "</style>\n",
              "<table border=\"1\" class=\"dataframe\">\n",
              "  <thead>\n",
              "    <tr style=\"text-align: right;\">\n",
              "      <th></th>\n",
              "      <th>Unnamed: 0</th>\n",
              "      <th>ner_orgs</th>\n",
              "      <th>id</th>\n",
              "    </tr>\n",
              "  </thead>\n",
              "  <tbody>\n",
              "    <tr>\n",
              "      <th>0</th>\n",
              "      <td>0</td>\n",
              "      <td>NaN</td>\n",
              "      <td>284</td>\n",
              "    </tr>\n",
              "    <tr>\n",
              "      <th>1</th>\n",
              "      <td>24</td>\n",
              "      <td>&amp; Movement Disorders Support Group</td>\n",
              "      <td>23</td>\n",
              "    </tr>\n",
              "    <tr>\n",
              "      <th>2</th>\n",
              "      <td>29</td>\n",
              "      <td>&amp; SI’s</td>\n",
              "      <td>33</td>\n",
              "    </tr>\n",
              "    <tr>\n",
              "      <th>3</th>\n",
              "      <td>39</td>\n",
              "      <td>&amp; ©</td>\n",
              "      <td>24</td>\n",
              "    </tr>\n",
              "    <tr>\n",
              "      <th>4</th>\n",
              "      <td>44</td>\n",
              "      <td>'American Idol'</td>\n",
              "      <td>5</td>\n",
              "    </tr>\n",
              "    <tr>\n",
              "      <th>...</th>\n",
              "      <td>...</td>\n",
              "      <td>...</td>\n",
              "      <td>...</td>\n",
              "    </tr>\n",
              "    <tr>\n",
              "      <th>21371</th>\n",
              "      <td>154800</td>\n",
              "      <td>• Standalone Prescription Drug Plans</td>\n",
              "      <td>17</td>\n",
              "    </tr>\n",
              "    <tr>\n",
              "      <th>21372</th>\n",
              "      <td>154826</td>\n",
              "      <td>• Trust</td>\n",
              "      <td>17</td>\n",
              "    </tr>\n",
              "    <tr>\n",
              "      <th>21373</th>\n",
              "      <td>154852</td>\n",
              "      <td>•Danielsville Evangelical Church</td>\n",
              "      <td>8</td>\n",
              "    </tr>\n",
              "    <tr>\n",
              "      <th>21374</th>\n",
              "      <td>154861</td>\n",
              "      <td>•Lighthouse Pentecostal Church</td>\n",
              "      <td>6</td>\n",
              "    </tr>\n",
              "    <tr>\n",
              "      <th>21375</th>\n",
              "      <td>154904</td>\n",
              "      <td>🟣</td>\n",
              "      <td>8</td>\n",
              "    </tr>\n",
              "  </tbody>\n",
              "</table>\n",
              "<p>21376 rows × 3 columns</p>\n",
              "</div>\n",
              "      <button class=\"colab-df-convert\" onclick=\"convertToInteractive('df-f384ad86-abe7-45e2-b692-e328fd1a1285')\"\n",
              "              title=\"Convert this dataframe to an interactive table.\"\n",
              "              style=\"display:none;\">\n",
              "        \n",
              "  <svg xmlns=\"http://www.w3.org/2000/svg\" height=\"24px\"viewBox=\"0 0 24 24\"\n",
              "       width=\"24px\">\n",
              "    <path d=\"M0 0h24v24H0V0z\" fill=\"none\"/>\n",
              "    <path d=\"M18.56 5.44l.94 2.06.94-2.06 2.06-.94-2.06-.94-.94-2.06-.94 2.06-2.06.94zm-11 1L8.5 8.5l.94-2.06 2.06-.94-2.06-.94L8.5 2.5l-.94 2.06-2.06.94zm10 10l.94 2.06.94-2.06 2.06-.94-2.06-.94-.94-2.06-.94 2.06-2.06.94z\"/><path d=\"M17.41 7.96l-1.37-1.37c-.4-.4-.92-.59-1.43-.59-.52 0-1.04.2-1.43.59L10.3 9.45l-7.72 7.72c-.78.78-.78 2.05 0 2.83L4 21.41c.39.39.9.59 1.41.59.51 0 1.02-.2 1.41-.59l7.78-7.78 2.81-2.81c.8-.78.8-2.07 0-2.86zM5.41 20L4 18.59l7.72-7.72 1.47 1.35L5.41 20z\"/>\n",
              "  </svg>\n",
              "      </button>\n",
              "      \n",
              "  <style>\n",
              "    .colab-df-container {\n",
              "      display:flex;\n",
              "      flex-wrap:wrap;\n",
              "      gap: 12px;\n",
              "    }\n",
              "\n",
              "    .colab-df-convert {\n",
              "      background-color: #E8F0FE;\n",
              "      border: none;\n",
              "      border-radius: 50%;\n",
              "      cursor: pointer;\n",
              "      display: none;\n",
              "      fill: #1967D2;\n",
              "      height: 32px;\n",
              "      padding: 0 0 0 0;\n",
              "      width: 32px;\n",
              "    }\n",
              "\n",
              "    .colab-df-convert:hover {\n",
              "      background-color: #E2EBFA;\n",
              "      box-shadow: 0px 1px 2px rgba(60, 64, 67, 0.3), 0px 1px 3px 1px rgba(60, 64, 67, 0.15);\n",
              "      fill: #174EA6;\n",
              "    }\n",
              "\n",
              "    [theme=dark] .colab-df-convert {\n",
              "      background-color: #3B4455;\n",
              "      fill: #D2E3FC;\n",
              "    }\n",
              "\n",
              "    [theme=dark] .colab-df-convert:hover {\n",
              "      background-color: #434B5C;\n",
              "      box-shadow: 0px 1px 3px 1px rgba(0, 0, 0, 0.15);\n",
              "      filter: drop-shadow(0px 1px 2px rgba(0, 0, 0, 0.3));\n",
              "      fill: #FFFFFF;\n",
              "    }\n",
              "  </style>\n",
              "\n",
              "      <script>\n",
              "        const buttonEl =\n",
              "          document.querySelector('#df-f384ad86-abe7-45e2-b692-e328fd1a1285 button.colab-df-convert');\n",
              "        buttonEl.style.display =\n",
              "          google.colab.kernel.accessAllowed ? 'block' : 'none';\n",
              "\n",
              "        async function convertToInteractive(key) {\n",
              "          const element = document.querySelector('#df-f384ad86-abe7-45e2-b692-e328fd1a1285');\n",
              "          const dataTable =\n",
              "            await google.colab.kernel.invokeFunction('convertToInteractive',\n",
              "                                                     [key], {});\n",
              "          if (!dataTable) return;\n",
              "\n",
              "          const docLinkHtml = 'Like what you see? Visit the ' +\n",
              "            '<a target=\"_blank\" href=https://colab.research.google.com/notebooks/data_table.ipynb>data table notebook</a>'\n",
              "            + ' to learn more about interactive tables.';\n",
              "          element.innerHTML = '';\n",
              "          dataTable['output_type'] = 'display_data';\n",
              "          await google.colab.output.renderOutput(dataTable, element);\n",
              "          const docLink = document.createElement('div');\n",
              "          docLink.innerHTML = docLinkHtml;\n",
              "          element.appendChild(docLink);\n",
              "        }\n",
              "      </script>\n",
              "    </div>\n",
              "  </div>\n",
              "  "
            ]
          },
          "metadata": {},
          "execution_count": 52
        }
      ]
    },
    {
      "cell_type": "code",
      "source": [
        "org_v1['version'] = 'v1'\n",
        "org_v2['version'] = 'v2'"
      ],
      "metadata": {
        "id": "7ZYkBtavc25H"
      },
      "execution_count": null,
      "outputs": []
    },
    {
      "cell_type": "code",
      "source": [
        "org_merge = pd.merge(org_v1, org_v2, how='outer', on=[\"ner_orgs\"])"
      ],
      "metadata": {
        "id": "UC6DjfGMcnM7"
      },
      "execution_count": null,
      "outputs": []
    },
    {
      "cell_type": "code",
      "source": [
        "org_merge"
      ],
      "metadata": {
        "colab": {
          "base_uri": "https://localhost:8080/",
          "height": 424
        },
        "id": "monNx32keisI",
        "outputId": "2676ac98-b07d-4d7d-d260-531505b3ea6c"
      },
      "execution_count": null,
      "outputs": [
        {
          "output_type": "execute_result",
          "data": {
            "text/plain": [
              "       Unnamed: 0                            ner_orgs   id_x version_x  id_y  \\\n",
              "0             0.0                                 NaN  284.0        v1  27.0   \n",
              "1         92026.0                                 NaN   28.0        v1  27.0   \n",
              "2            24.0  & Movement Disorders Support Group   23.0        v1   NaN   \n",
              "3            29.0                              & SI’s   33.0        v1   NaN   \n",
              "4            39.0                                 & ©   24.0        v1   NaN   \n",
              "...           ...                                 ...    ...       ...   ...   \n",
              "35409         NaN             Zuckerman Museum of Art    NaN       NaN   5.0   \n",
              "35410         NaN                          Zwangobani    NaN       NaN   8.0   \n",
              "35411         NaN                          Zyan Royal    NaN       NaN   6.0   \n",
              "35412         NaN                       Zyon McCollum    NaN       NaN  10.0   \n",
              "35413         NaN                       Zyon Mckenzie    NaN       NaN   8.0   \n",
              "\n",
              "      version_y  \n",
              "0            v2  \n",
              "1            v2  \n",
              "2           NaN  \n",
              "3           NaN  \n",
              "4           NaN  \n",
              "...         ...  \n",
              "35409        v2  \n",
              "35410        v2  \n",
              "35411        v2  \n",
              "35412        v2  \n",
              "35413        v2  \n",
              "\n",
              "[35414 rows x 6 columns]"
            ],
            "text/html": [
              "\n",
              "  <div id=\"df-f84f651c-b307-45d7-bfec-47681c54d23c\">\n",
              "    <div class=\"colab-df-container\">\n",
              "      <div>\n",
              "<style scoped>\n",
              "    .dataframe tbody tr th:only-of-type {\n",
              "        vertical-align: middle;\n",
              "    }\n",
              "\n",
              "    .dataframe tbody tr th {\n",
              "        vertical-align: top;\n",
              "    }\n",
              "\n",
              "    .dataframe thead th {\n",
              "        text-align: right;\n",
              "    }\n",
              "</style>\n",
              "<table border=\"1\" class=\"dataframe\">\n",
              "  <thead>\n",
              "    <tr style=\"text-align: right;\">\n",
              "      <th></th>\n",
              "      <th>Unnamed: 0</th>\n",
              "      <th>ner_orgs</th>\n",
              "      <th>id_x</th>\n",
              "      <th>version_x</th>\n",
              "      <th>id_y</th>\n",
              "      <th>version_y</th>\n",
              "    </tr>\n",
              "  </thead>\n",
              "  <tbody>\n",
              "    <tr>\n",
              "      <th>0</th>\n",
              "      <td>0.0</td>\n",
              "      <td>NaN</td>\n",
              "      <td>284.0</td>\n",
              "      <td>v1</td>\n",
              "      <td>27.0</td>\n",
              "      <td>v2</td>\n",
              "    </tr>\n",
              "    <tr>\n",
              "      <th>1</th>\n",
              "      <td>92026.0</td>\n",
              "      <td>NaN</td>\n",
              "      <td>28.0</td>\n",
              "      <td>v1</td>\n",
              "      <td>27.0</td>\n",
              "      <td>v2</td>\n",
              "    </tr>\n",
              "    <tr>\n",
              "      <th>2</th>\n",
              "      <td>24.0</td>\n",
              "      <td>&amp; Movement Disorders Support Group</td>\n",
              "      <td>23.0</td>\n",
              "      <td>v1</td>\n",
              "      <td>NaN</td>\n",
              "      <td>NaN</td>\n",
              "    </tr>\n",
              "    <tr>\n",
              "      <th>3</th>\n",
              "      <td>29.0</td>\n",
              "      <td>&amp; SI’s</td>\n",
              "      <td>33.0</td>\n",
              "      <td>v1</td>\n",
              "      <td>NaN</td>\n",
              "      <td>NaN</td>\n",
              "    </tr>\n",
              "    <tr>\n",
              "      <th>4</th>\n",
              "      <td>39.0</td>\n",
              "      <td>&amp; ©</td>\n",
              "      <td>24.0</td>\n",
              "      <td>v1</td>\n",
              "      <td>NaN</td>\n",
              "      <td>NaN</td>\n",
              "    </tr>\n",
              "    <tr>\n",
              "      <th>...</th>\n",
              "      <td>...</td>\n",
              "      <td>...</td>\n",
              "      <td>...</td>\n",
              "      <td>...</td>\n",
              "      <td>...</td>\n",
              "      <td>...</td>\n",
              "    </tr>\n",
              "    <tr>\n",
              "      <th>35409</th>\n",
              "      <td>NaN</td>\n",
              "      <td>Zuckerman Museum of Art</td>\n",
              "      <td>NaN</td>\n",
              "      <td>NaN</td>\n",
              "      <td>5.0</td>\n",
              "      <td>v2</td>\n",
              "    </tr>\n",
              "    <tr>\n",
              "      <th>35410</th>\n",
              "      <td>NaN</td>\n",
              "      <td>Zwangobani</td>\n",
              "      <td>NaN</td>\n",
              "      <td>NaN</td>\n",
              "      <td>8.0</td>\n",
              "      <td>v2</td>\n",
              "    </tr>\n",
              "    <tr>\n",
              "      <th>35411</th>\n",
              "      <td>NaN</td>\n",
              "      <td>Zyan Royal</td>\n",
              "      <td>NaN</td>\n",
              "      <td>NaN</td>\n",
              "      <td>6.0</td>\n",
              "      <td>v2</td>\n",
              "    </tr>\n",
              "    <tr>\n",
              "      <th>35412</th>\n",
              "      <td>NaN</td>\n",
              "      <td>Zyon McCollum</td>\n",
              "      <td>NaN</td>\n",
              "      <td>NaN</td>\n",
              "      <td>10.0</td>\n",
              "      <td>v2</td>\n",
              "    </tr>\n",
              "    <tr>\n",
              "      <th>35413</th>\n",
              "      <td>NaN</td>\n",
              "      <td>Zyon Mckenzie</td>\n",
              "      <td>NaN</td>\n",
              "      <td>NaN</td>\n",
              "      <td>8.0</td>\n",
              "      <td>v2</td>\n",
              "    </tr>\n",
              "  </tbody>\n",
              "</table>\n",
              "<p>35414 rows × 6 columns</p>\n",
              "</div>\n",
              "      <button class=\"colab-df-convert\" onclick=\"convertToInteractive('df-f84f651c-b307-45d7-bfec-47681c54d23c')\"\n",
              "              title=\"Convert this dataframe to an interactive table.\"\n",
              "              style=\"display:none;\">\n",
              "        \n",
              "  <svg xmlns=\"http://www.w3.org/2000/svg\" height=\"24px\"viewBox=\"0 0 24 24\"\n",
              "       width=\"24px\">\n",
              "    <path d=\"M0 0h24v24H0V0z\" fill=\"none\"/>\n",
              "    <path d=\"M18.56 5.44l.94 2.06.94-2.06 2.06-.94-2.06-.94-.94-2.06-.94 2.06-2.06.94zm-11 1L8.5 8.5l.94-2.06 2.06-.94-2.06-.94L8.5 2.5l-.94 2.06-2.06.94zm10 10l.94 2.06.94-2.06 2.06-.94-2.06-.94-.94-2.06-.94 2.06-2.06.94z\"/><path d=\"M17.41 7.96l-1.37-1.37c-.4-.4-.92-.59-1.43-.59-.52 0-1.04.2-1.43.59L10.3 9.45l-7.72 7.72c-.78.78-.78 2.05 0 2.83L4 21.41c.39.39.9.59 1.41.59.51 0 1.02-.2 1.41-.59l7.78-7.78 2.81-2.81c.8-.78.8-2.07 0-2.86zM5.41 20L4 18.59l7.72-7.72 1.47 1.35L5.41 20z\"/>\n",
              "  </svg>\n",
              "      </button>\n",
              "      \n",
              "  <style>\n",
              "    .colab-df-container {\n",
              "      display:flex;\n",
              "      flex-wrap:wrap;\n",
              "      gap: 12px;\n",
              "    }\n",
              "\n",
              "    .colab-df-convert {\n",
              "      background-color: #E8F0FE;\n",
              "      border: none;\n",
              "      border-radius: 50%;\n",
              "      cursor: pointer;\n",
              "      display: none;\n",
              "      fill: #1967D2;\n",
              "      height: 32px;\n",
              "      padding: 0 0 0 0;\n",
              "      width: 32px;\n",
              "    }\n",
              "\n",
              "    .colab-df-convert:hover {\n",
              "      background-color: #E2EBFA;\n",
              "      box-shadow: 0px 1px 2px rgba(60, 64, 67, 0.3), 0px 1px 3px 1px rgba(60, 64, 67, 0.15);\n",
              "      fill: #174EA6;\n",
              "    }\n",
              "\n",
              "    [theme=dark] .colab-df-convert {\n",
              "      background-color: #3B4455;\n",
              "      fill: #D2E3FC;\n",
              "    }\n",
              "\n",
              "    [theme=dark] .colab-df-convert:hover {\n",
              "      background-color: #434B5C;\n",
              "      box-shadow: 0px 1px 3px 1px rgba(0, 0, 0, 0.15);\n",
              "      filter: drop-shadow(0px 1px 2px rgba(0, 0, 0, 0.3));\n",
              "      fill: #FFFFFF;\n",
              "    }\n",
              "  </style>\n",
              "\n",
              "      <script>\n",
              "        const buttonEl =\n",
              "          document.querySelector('#df-f84f651c-b307-45d7-bfec-47681c54d23c button.colab-df-convert');\n",
              "        buttonEl.style.display =\n",
              "          google.colab.kernel.accessAllowed ? 'block' : 'none';\n",
              "\n",
              "        async function convertToInteractive(key) {\n",
              "          const element = document.querySelector('#df-f84f651c-b307-45d7-bfec-47681c54d23c');\n",
              "          const dataTable =\n",
              "            await google.colab.kernel.invokeFunction('convertToInteractive',\n",
              "                                                     [key], {});\n",
              "          if (!dataTable) return;\n",
              "\n",
              "          const docLinkHtml = 'Like what you see? Visit the ' +\n",
              "            '<a target=\"_blank\" href=https://colab.research.google.com/notebooks/data_table.ipynb>data table notebook</a>'\n",
              "            + ' to learn more about interactive tables.';\n",
              "          element.innerHTML = '';\n",
              "          dataTable['output_type'] = 'display_data';\n",
              "          await google.colab.output.renderOutput(dataTable, element);\n",
              "          const docLink = document.createElement('div');\n",
              "          docLink.innerHTML = docLinkHtml;\n",
              "          element.appendChild(docLink);\n",
              "        }\n",
              "      </script>\n",
              "    </div>\n",
              "  </div>\n",
              "  "
            ]
          },
          "metadata": {},
          "execution_count": 55
        }
      ]
    },
    {
      "cell_type": "code",
      "source": [
        "org_merge_st = org_merge[['ner_orgs', 'version_x', 'version_y', 'id_y']]"
      ],
      "metadata": {
        "id": "aL-URrXLdWze"
      },
      "execution_count": null,
      "outputs": []
    },
    {
      "cell_type": "code",
      "source": [
        "org_merge_repeat = org_merge_st[ (org_merge_st['version_x']=='v1') & (org_merge_st['version_y']==\"v2\")]"
      ],
      "metadata": {
        "id": "N1Ayu7uidi-Y"
      },
      "execution_count": null,
      "outputs": []
    },
    {
      "cell_type": "code",
      "source": [
        "org_merge_repeat"
      ],
      "metadata": {
        "id": "KcScipfehocz",
        "outputId": "73ec70fc-eea2-4eab-b216-2225532ca764",
        "colab": {
          "base_uri": "https://localhost:8080/",
          "height": 424
        }
      },
      "execution_count": null,
      "outputs": [
        {
          "output_type": "execute_result",
          "data": {
            "text/plain": [
              "                                      ner_orgs version_x version_y  id_y\n",
              "0                                          NaN        v1        v2  27.0\n",
              "1                                          NaN        v1        v2  27.0\n",
              "19     1.A Clear Understanding of Your Purpose        v1        v2  16.0\n",
              "20                           10 Downing Street        v1        v2   5.0\n",
              "21                                        100k        v1        v2  16.0\n",
              "...                                        ...       ...       ...   ...\n",
              "20562             Zoological Society of London        v1        v2   6.0\n",
              "20563                                     Zoom        v1        v2  12.0\n",
              "20564                               Zuckerberg        v1        v2  17.0\n",
              "20565                                     Zulu        v1        v2  20.0\n",
              "20567                    Zuzu African Acrobats        v1        v2  10.0\n",
              "\n",
              "[19593 rows x 4 columns]"
            ],
            "text/html": [
              "\n",
              "  <div id=\"df-c424d3bb-7a63-43c4-8c25-1527c94b1872\">\n",
              "    <div class=\"colab-df-container\">\n",
              "      <div>\n",
              "<style scoped>\n",
              "    .dataframe tbody tr th:only-of-type {\n",
              "        vertical-align: middle;\n",
              "    }\n",
              "\n",
              "    .dataframe tbody tr th {\n",
              "        vertical-align: top;\n",
              "    }\n",
              "\n",
              "    .dataframe thead th {\n",
              "        text-align: right;\n",
              "    }\n",
              "</style>\n",
              "<table border=\"1\" class=\"dataframe\">\n",
              "  <thead>\n",
              "    <tr style=\"text-align: right;\">\n",
              "      <th></th>\n",
              "      <th>ner_orgs</th>\n",
              "      <th>version_x</th>\n",
              "      <th>version_y</th>\n",
              "      <th>id_y</th>\n",
              "    </tr>\n",
              "  </thead>\n",
              "  <tbody>\n",
              "    <tr>\n",
              "      <th>0</th>\n",
              "      <td>NaN</td>\n",
              "      <td>v1</td>\n",
              "      <td>v2</td>\n",
              "      <td>27.0</td>\n",
              "    </tr>\n",
              "    <tr>\n",
              "      <th>1</th>\n",
              "      <td>NaN</td>\n",
              "      <td>v1</td>\n",
              "      <td>v2</td>\n",
              "      <td>27.0</td>\n",
              "    </tr>\n",
              "    <tr>\n",
              "      <th>19</th>\n",
              "      <td>1.A Clear Understanding of Your Purpose</td>\n",
              "      <td>v1</td>\n",
              "      <td>v2</td>\n",
              "      <td>16.0</td>\n",
              "    </tr>\n",
              "    <tr>\n",
              "      <th>20</th>\n",
              "      <td>10 Downing Street</td>\n",
              "      <td>v1</td>\n",
              "      <td>v2</td>\n",
              "      <td>5.0</td>\n",
              "    </tr>\n",
              "    <tr>\n",
              "      <th>21</th>\n",
              "      <td>100k</td>\n",
              "      <td>v1</td>\n",
              "      <td>v2</td>\n",
              "      <td>16.0</td>\n",
              "    </tr>\n",
              "    <tr>\n",
              "      <th>...</th>\n",
              "      <td>...</td>\n",
              "      <td>...</td>\n",
              "      <td>...</td>\n",
              "      <td>...</td>\n",
              "    </tr>\n",
              "    <tr>\n",
              "      <th>20562</th>\n",
              "      <td>Zoological Society of London</td>\n",
              "      <td>v1</td>\n",
              "      <td>v2</td>\n",
              "      <td>6.0</td>\n",
              "    </tr>\n",
              "    <tr>\n",
              "      <th>20563</th>\n",
              "      <td>Zoom</td>\n",
              "      <td>v1</td>\n",
              "      <td>v2</td>\n",
              "      <td>12.0</td>\n",
              "    </tr>\n",
              "    <tr>\n",
              "      <th>20564</th>\n",
              "      <td>Zuckerberg</td>\n",
              "      <td>v1</td>\n",
              "      <td>v2</td>\n",
              "      <td>17.0</td>\n",
              "    </tr>\n",
              "    <tr>\n",
              "      <th>20565</th>\n",
              "      <td>Zulu</td>\n",
              "      <td>v1</td>\n",
              "      <td>v2</td>\n",
              "      <td>20.0</td>\n",
              "    </tr>\n",
              "    <tr>\n",
              "      <th>20567</th>\n",
              "      <td>Zuzu African Acrobats</td>\n",
              "      <td>v1</td>\n",
              "      <td>v2</td>\n",
              "      <td>10.0</td>\n",
              "    </tr>\n",
              "  </tbody>\n",
              "</table>\n",
              "<p>19593 rows × 4 columns</p>\n",
              "</div>\n",
              "      <button class=\"colab-df-convert\" onclick=\"convertToInteractive('df-c424d3bb-7a63-43c4-8c25-1527c94b1872')\"\n",
              "              title=\"Convert this dataframe to an interactive table.\"\n",
              "              style=\"display:none;\">\n",
              "        \n",
              "  <svg xmlns=\"http://www.w3.org/2000/svg\" height=\"24px\"viewBox=\"0 0 24 24\"\n",
              "       width=\"24px\">\n",
              "    <path d=\"M0 0h24v24H0V0z\" fill=\"none\"/>\n",
              "    <path d=\"M18.56 5.44l.94 2.06.94-2.06 2.06-.94-2.06-.94-.94-2.06-.94 2.06-2.06.94zm-11 1L8.5 8.5l.94-2.06 2.06-.94-2.06-.94L8.5 2.5l-.94 2.06-2.06.94zm10 10l.94 2.06.94-2.06 2.06-.94-2.06-.94-.94-2.06-.94 2.06-2.06.94z\"/><path d=\"M17.41 7.96l-1.37-1.37c-.4-.4-.92-.59-1.43-.59-.52 0-1.04.2-1.43.59L10.3 9.45l-7.72 7.72c-.78.78-.78 2.05 0 2.83L4 21.41c.39.39.9.59 1.41.59.51 0 1.02-.2 1.41-.59l7.78-7.78 2.81-2.81c.8-.78.8-2.07 0-2.86zM5.41 20L4 18.59l7.72-7.72 1.47 1.35L5.41 20z\"/>\n",
              "  </svg>\n",
              "      </button>\n",
              "      \n",
              "  <style>\n",
              "    .colab-df-container {\n",
              "      display:flex;\n",
              "      flex-wrap:wrap;\n",
              "      gap: 12px;\n",
              "    }\n",
              "\n",
              "    .colab-df-convert {\n",
              "      background-color: #E8F0FE;\n",
              "      border: none;\n",
              "      border-radius: 50%;\n",
              "      cursor: pointer;\n",
              "      display: none;\n",
              "      fill: #1967D2;\n",
              "      height: 32px;\n",
              "      padding: 0 0 0 0;\n",
              "      width: 32px;\n",
              "    }\n",
              "\n",
              "    .colab-df-convert:hover {\n",
              "      background-color: #E2EBFA;\n",
              "      box-shadow: 0px 1px 2px rgba(60, 64, 67, 0.3), 0px 1px 3px 1px rgba(60, 64, 67, 0.15);\n",
              "      fill: #174EA6;\n",
              "    }\n",
              "\n",
              "    [theme=dark] .colab-df-convert {\n",
              "      background-color: #3B4455;\n",
              "      fill: #D2E3FC;\n",
              "    }\n",
              "\n",
              "    [theme=dark] .colab-df-convert:hover {\n",
              "      background-color: #434B5C;\n",
              "      box-shadow: 0px 1px 3px 1px rgba(0, 0, 0, 0.15);\n",
              "      filter: drop-shadow(0px 1px 2px rgba(0, 0, 0, 0.3));\n",
              "      fill: #FFFFFF;\n",
              "    }\n",
              "  </style>\n",
              "\n",
              "      <script>\n",
              "        const buttonEl =\n",
              "          document.querySelector('#df-c424d3bb-7a63-43c4-8c25-1527c94b1872 button.colab-df-convert');\n",
              "        buttonEl.style.display =\n",
              "          google.colab.kernel.accessAllowed ? 'block' : 'none';\n",
              "\n",
              "        async function convertToInteractive(key) {\n",
              "          const element = document.querySelector('#df-c424d3bb-7a63-43c4-8c25-1527c94b1872');\n",
              "          const dataTable =\n",
              "            await google.colab.kernel.invokeFunction('convertToInteractive',\n",
              "                                                     [key], {});\n",
              "          if (!dataTable) return;\n",
              "\n",
              "          const docLinkHtml = 'Like what you see? Visit the ' +\n",
              "            '<a target=\"_blank\" href=https://colab.research.google.com/notebooks/data_table.ipynb>data table notebook</a>'\n",
              "            + ' to learn more about interactive tables.';\n",
              "          element.innerHTML = '';\n",
              "          dataTable['output_type'] = 'display_data';\n",
              "          await google.colab.output.renderOutput(dataTable, element);\n",
              "          const docLink = document.createElement('div');\n",
              "          docLink.innerHTML = docLinkHtml;\n",
              "          element.appendChild(docLink);\n",
              "        }\n",
              "      </script>\n",
              "    </div>\n",
              "  </div>\n",
              "  "
            ]
          },
          "metadata": {},
          "execution_count": 58
        }
      ]
    },
    {
      "cell_type": "code",
      "source": [
        "org_merge_repeat.to_excel('Georgia_ner_orgs_art_c5_repeat.xlsx')"
      ],
      "metadata": {
        "id": "3zs3aJr8eKwL"
      },
      "execution_count": null,
      "outputs": []
    },
    {
      "cell_type": "code",
      "source": [
        "import pandas as pd\n",
        "%cd /content/drive/MyDrive/Georgia/Organization Analysis\n",
        "\n",
        "df = pd.read_pickle('/content/drive/MyDrive/Georgia/Web Scraping/Georgia_data_v2_translation_ner2_lem.pkl')\n",
        "\n",
        "org_merge_repeat = pd.read_excel('Georgia_ner_orgs_art_c5_repeat.xlsx')\n"
      ],
      "metadata": {
        "colab": {
          "base_uri": "https://localhost:8080/"
        },
        "id": "HOKHuaA51q2B",
        "outputId": "1a9a9826-a86e-4ce3-9f0b-a74d824bcc4e"
      },
      "execution_count": null,
      "outputs": [
        {
          "output_type": "stream",
          "name": "stdout",
          "text": [
            "/content/drive/.shortcut-targets-by-id/1YSQ9BBnwwRu7fyeM_9V6eoFgKQBPl4Rr/Georgia/Organization Analysis\n"
          ]
        }
      ]
    },
    {
      "cell_type": "code",
      "source": [
        "org_merge_repeat"
      ],
      "metadata": {
        "id": "1UzcDFYh2FVf",
        "outputId": "951cecbc-b85a-4554-aba2-9b1baef3c4fa",
        "colab": {
          "base_uri": "https://localhost:8080/",
          "height": 424
        }
      },
      "execution_count": null,
      "outputs": [
        {
          "output_type": "execute_result",
          "data": {
            "text/plain": [
              "       Unnamed: 0          ner_orgs version_x version_y   id_y\n",
              "0            2902          CBS News        v1        v2  14337\n",
              "1             290                AP        v1        v2   7110\n",
              "2            2898          CBS NEWS        v1        v2   6480\n",
              "3           12652               NFL        v1        v2   4877\n",
              "4            1270  Associated Press        v1        v2   4286\n",
              "...           ...               ...       ...       ...    ...\n",
              "19588       20532           Zatko $        v1        v2      5\n",
              "19589       20542            Zichal        v1        v2      5\n",
              "19590       20546       Zimmerman’s        v1        v2      5\n",
              "19591       20549       Zion Custis        v1        v2      5\n",
              "19592       20554           Zipties        v1        v2      5\n",
              "\n",
              "[19593 rows x 5 columns]"
            ],
            "text/html": [
              "\n",
              "  <div id=\"df-a2186f61-bf3e-476e-bd55-90d72b11a9d3\">\n",
              "    <div class=\"colab-df-container\">\n",
              "      <div>\n",
              "<style scoped>\n",
              "    .dataframe tbody tr th:only-of-type {\n",
              "        vertical-align: middle;\n",
              "    }\n",
              "\n",
              "    .dataframe tbody tr th {\n",
              "        vertical-align: top;\n",
              "    }\n",
              "\n",
              "    .dataframe thead th {\n",
              "        text-align: right;\n",
              "    }\n",
              "</style>\n",
              "<table border=\"1\" class=\"dataframe\">\n",
              "  <thead>\n",
              "    <tr style=\"text-align: right;\">\n",
              "      <th></th>\n",
              "      <th>Unnamed: 0</th>\n",
              "      <th>ner_orgs</th>\n",
              "      <th>version_x</th>\n",
              "      <th>version_y</th>\n",
              "      <th>id_y</th>\n",
              "    </tr>\n",
              "  </thead>\n",
              "  <tbody>\n",
              "    <tr>\n",
              "      <th>0</th>\n",
              "      <td>2902</td>\n",
              "      <td>CBS News</td>\n",
              "      <td>v1</td>\n",
              "      <td>v2</td>\n",
              "      <td>14337</td>\n",
              "    </tr>\n",
              "    <tr>\n",
              "      <th>1</th>\n",
              "      <td>290</td>\n",
              "      <td>AP</td>\n",
              "      <td>v1</td>\n",
              "      <td>v2</td>\n",
              "      <td>7110</td>\n",
              "    </tr>\n",
              "    <tr>\n",
              "      <th>2</th>\n",
              "      <td>2898</td>\n",
              "      <td>CBS NEWS</td>\n",
              "      <td>v1</td>\n",
              "      <td>v2</td>\n",
              "      <td>6480</td>\n",
              "    </tr>\n",
              "    <tr>\n",
              "      <th>3</th>\n",
              "      <td>12652</td>\n",
              "      <td>NFL</td>\n",
              "      <td>v1</td>\n",
              "      <td>v2</td>\n",
              "      <td>4877</td>\n",
              "    </tr>\n",
              "    <tr>\n",
              "      <th>4</th>\n",
              "      <td>1270</td>\n",
              "      <td>Associated Press</td>\n",
              "      <td>v1</td>\n",
              "      <td>v2</td>\n",
              "      <td>4286</td>\n",
              "    </tr>\n",
              "    <tr>\n",
              "      <th>...</th>\n",
              "      <td>...</td>\n",
              "      <td>...</td>\n",
              "      <td>...</td>\n",
              "      <td>...</td>\n",
              "      <td>...</td>\n",
              "    </tr>\n",
              "    <tr>\n",
              "      <th>19588</th>\n",
              "      <td>20532</td>\n",
              "      <td>Zatko $</td>\n",
              "      <td>v1</td>\n",
              "      <td>v2</td>\n",
              "      <td>5</td>\n",
              "    </tr>\n",
              "    <tr>\n",
              "      <th>19589</th>\n",
              "      <td>20542</td>\n",
              "      <td>Zichal</td>\n",
              "      <td>v1</td>\n",
              "      <td>v2</td>\n",
              "      <td>5</td>\n",
              "    </tr>\n",
              "    <tr>\n",
              "      <th>19590</th>\n",
              "      <td>20546</td>\n",
              "      <td>Zimmerman’s</td>\n",
              "      <td>v1</td>\n",
              "      <td>v2</td>\n",
              "      <td>5</td>\n",
              "    </tr>\n",
              "    <tr>\n",
              "      <th>19591</th>\n",
              "      <td>20549</td>\n",
              "      <td>Zion Custis</td>\n",
              "      <td>v1</td>\n",
              "      <td>v2</td>\n",
              "      <td>5</td>\n",
              "    </tr>\n",
              "    <tr>\n",
              "      <th>19592</th>\n",
              "      <td>20554</td>\n",
              "      <td>Zipties</td>\n",
              "      <td>v1</td>\n",
              "      <td>v2</td>\n",
              "      <td>5</td>\n",
              "    </tr>\n",
              "  </tbody>\n",
              "</table>\n",
              "<p>19593 rows × 5 columns</p>\n",
              "</div>\n",
              "      <button class=\"colab-df-convert\" onclick=\"convertToInteractive('df-a2186f61-bf3e-476e-bd55-90d72b11a9d3')\"\n",
              "              title=\"Convert this dataframe to an interactive table.\"\n",
              "              style=\"display:none;\">\n",
              "        \n",
              "  <svg xmlns=\"http://www.w3.org/2000/svg\" height=\"24px\"viewBox=\"0 0 24 24\"\n",
              "       width=\"24px\">\n",
              "    <path d=\"M0 0h24v24H0V0z\" fill=\"none\"/>\n",
              "    <path d=\"M18.56 5.44l.94 2.06.94-2.06 2.06-.94-2.06-.94-.94-2.06-.94 2.06-2.06.94zm-11 1L8.5 8.5l.94-2.06 2.06-.94-2.06-.94L8.5 2.5l-.94 2.06-2.06.94zm10 10l.94 2.06.94-2.06 2.06-.94-2.06-.94-.94-2.06-.94 2.06-2.06.94z\"/><path d=\"M17.41 7.96l-1.37-1.37c-.4-.4-.92-.59-1.43-.59-.52 0-1.04.2-1.43.59L10.3 9.45l-7.72 7.72c-.78.78-.78 2.05 0 2.83L4 21.41c.39.39.9.59 1.41.59.51 0 1.02-.2 1.41-.59l7.78-7.78 2.81-2.81c.8-.78.8-2.07 0-2.86zM5.41 20L4 18.59l7.72-7.72 1.47 1.35L5.41 20z\"/>\n",
              "  </svg>\n",
              "      </button>\n",
              "      \n",
              "  <style>\n",
              "    .colab-df-container {\n",
              "      display:flex;\n",
              "      flex-wrap:wrap;\n",
              "      gap: 12px;\n",
              "    }\n",
              "\n",
              "    .colab-df-convert {\n",
              "      background-color: #E8F0FE;\n",
              "      border: none;\n",
              "      border-radius: 50%;\n",
              "      cursor: pointer;\n",
              "      display: none;\n",
              "      fill: #1967D2;\n",
              "      height: 32px;\n",
              "      padding: 0 0 0 0;\n",
              "      width: 32px;\n",
              "    }\n",
              "\n",
              "    .colab-df-convert:hover {\n",
              "      background-color: #E2EBFA;\n",
              "      box-shadow: 0px 1px 2px rgba(60, 64, 67, 0.3), 0px 1px 3px 1px rgba(60, 64, 67, 0.15);\n",
              "      fill: #174EA6;\n",
              "    }\n",
              "\n",
              "    [theme=dark] .colab-df-convert {\n",
              "      background-color: #3B4455;\n",
              "      fill: #D2E3FC;\n",
              "    }\n",
              "\n",
              "    [theme=dark] .colab-df-convert:hover {\n",
              "      background-color: #434B5C;\n",
              "      box-shadow: 0px 1px 3px 1px rgba(0, 0, 0, 0.15);\n",
              "      filter: drop-shadow(0px 1px 2px rgba(0, 0, 0, 0.3));\n",
              "      fill: #FFFFFF;\n",
              "    }\n",
              "  </style>\n",
              "\n",
              "      <script>\n",
              "        const buttonEl =\n",
              "          document.querySelector('#df-a2186f61-bf3e-476e-bd55-90d72b11a9d3 button.colab-df-convert');\n",
              "        buttonEl.style.display =\n",
              "          google.colab.kernel.accessAllowed ? 'block' : 'none';\n",
              "\n",
              "        async function convertToInteractive(key) {\n",
              "          const element = document.querySelector('#df-a2186f61-bf3e-476e-bd55-90d72b11a9d3');\n",
              "          const dataTable =\n",
              "            await google.colab.kernel.invokeFunction('convertToInteractive',\n",
              "                                                     [key], {});\n",
              "          if (!dataTable) return;\n",
              "\n",
              "          const docLinkHtml = 'Like what you see? Visit the ' +\n",
              "            '<a target=\"_blank\" href=https://colab.research.google.com/notebooks/data_table.ipynb>data table notebook</a>'\n",
              "            + ' to learn more about interactive tables.';\n",
              "          element.innerHTML = '';\n",
              "          dataTable['output_type'] = 'display_data';\n",
              "          await google.colab.output.renderOutput(dataTable, element);\n",
              "          const docLink = document.createElement('div');\n",
              "          docLink.innerHTML = docLinkHtml;\n",
              "          element.appendChild(docLink);\n",
              "        }\n",
              "      </script>\n",
              "    </div>\n",
              "  </div>\n",
              "  "
            ]
          },
          "metadata": {},
          "execution_count": 4
        }
      ]
    },
    {
      "cell_type": "code",
      "source": [
        "df"
      ],
      "metadata": {
        "colab": {
          "base_uri": "https://localhost:8080/",
          "height": 1000
        },
        "id": "wLUYsSOp2Blf",
        "outputId": "b11dc610-48e3-45cb-c480-141c1638214b"
      },
      "execution_count": null,
      "outputs": [
        {
          "output_type": "execute_result",
          "data": {
            "text/plain": [
              "        index             source  en_source                           website  \\\n",
              "0           0  Metter Advertiser        1.0  http://www.metteradvertiser.com/   \n",
              "1           1  Metter Advertiser        1.0  http://www.metteradvertiser.com/   \n",
              "2           2  Metter Advertiser        1.0  http://www.metteradvertiser.com/   \n",
              "3           3  Metter Advertiser        1.0  http://www.metteradvertiser.com/   \n",
              "4           4  Metter Advertiser        1.0  http://www.metteradvertiser.com/   \n",
              "...       ...                ...        ...                               ...   \n",
              "192201   3074   WALB TV 10 (NBC)        NaN              http://www.walb.com/   \n",
              "192202   3075   WALB TV 10 (NBC)        NaN              http://www.walb.com/   \n",
              "192203   3076   WALB TV 10 (NBC)        NaN              http://www.walb.com/   \n",
              "192204   3077   WALB TV 10 (NBC)        NaN              http://www.walb.com/   \n",
              "192205   3078   WALB TV 10 (NBC)        NaN              http://www.walb.com/   \n",
              "\n",
              "                                              article_url  \\\n",
              "0       http://www.metteradvertiser.com/article_167b17...   \n",
              "1       http://www.metteradvertiser.com/article_248646...   \n",
              "2       http://www.metteradvertiser.com/article_2eccfd...   \n",
              "3       http://www.metteradvertiser.com/article_2f555e...   \n",
              "4       http://www.metteradvertiser.com/article_2fe7f1...   \n",
              "...                                                   ...   \n",
              "192201  https://www.walb.com/video/2022/10/22/your-fir...   \n",
              "192202  https://www.walb.com/video/2022/10/22/your-fir...   \n",
              "192203  https://www.walb.com/video/2022/10/24/organiza...   \n",
              "192204  https://www.walb.com/video/2022/10/25/fentanyl...   \n",
              "192205  https://www.walb.com/video/2022/11/16/pcom-bri...   \n",
              "\n",
              "                                            article_title article_author  \\\n",
              "0                     American Pickers to film in Georgia            NaN   \n",
              "1                    Free Covid test kits available TODAY            NaN   \n",
              "2       CLASS OF 2000 STILL LEADS THE WAY! Over $29K r...            NaN   \n",
              "3       MMS Lady Tigers to play for championship, MMS ...            NaN   \n",
              "4       ATTN Hunters & Anglers: Celebrate Hunting & Fi...            NaN   \n",
              "...                                                   ...            ...   \n",
              "192201  Your First Alert Forecast from late Sat. morni...            NaN   \n",
              "192202  Your First Alert Forecast from Sat. morning, O...            NaN   \n",
              "192203  Organizations help provide financial relief fo...            NaN   \n",
              "192204  Fentanyl fears prompts community roundtable in...            NaN   \n",
              "192205            PCOM bringing in more minority students            NaN   \n",
              "\n",
              "       date_published                                      article_final  \\\n",
              "0          2022-09-19  The American Pickers are excited to return to ...   \n",
              "1          2022-09-15  Candler County Health Department and Southeast...   \n",
              "2          2022-10-14  After the third week of the Education Foundati...   \n",
              "3          2022-09-27  Congratulations to the Metter Middle School La...   \n",
              "4          2022-09-22  In a proclamation recently signed by Gov. Bria...   \n",
              "...               ...                                                ...   \n",
              "192201     2022-10-14  Your First Alert Forecast from late Sat. morni...   \n",
              "192202     2022-10-14  Your First Alert Forecast from Sat. morning, O...   \n",
              "192203     2022-10-14  Some Nashville organizations are working to ma...   \n",
              "192204     2022-09-28  Parents, students, and professionals all gathe...   \n",
              "192205     2022-10-07            PCOM bringing in more minority students   \n",
              "\n",
              "                                               ner_places  \\\n",
              "0                      {'America (GPE)', 'Georgia (GPE)'}   \n",
              "1                                        {'Metter (GPE)'}   \n",
              "2                                                   set()   \n",
              "3       {'South Tattnall (GPE)', 'Bryan County (GPE)',...   \n",
              "4                                       {'Georgia (GPE)'}   \n",
              "...                                                   ...   \n",
              "192201                                              set()   \n",
              "192202                                              set()   \n",
              "192203                                {'Nashville (GPE)'}   \n",
              "192204                                 {'Glendale (GPE)'}   \n",
              "192205                                              set()   \n",
              "\n",
              "                                                 ner_orgs  \\\n",
              "0       {'American Pickers (ORG)', 'CDC (ORG)', 'The A...   \n",
              "1       {'SE Broad Street and (ORG)', 'Southeast Healt...   \n",
              "2       {'CarterFranklin (ORG)', 'Ronnie & Janie Sikes...   \n",
              "3       {'MHS (ORG)', 'the Metter Middle School Lady T...   \n",
              "4       {'Outdoor Adventure Days (ORG)', 'Congressiona...   \n",
              "...                                                   ...   \n",
              "192201                                              set()   \n",
              "192202                                              set()   \n",
              "192203                                              set()   \n",
              "192204                                              set()   \n",
              "192205                                              set()   \n",
              "\n",
              "                                        article_lemma_num      id  \n",
              "0       american picker excited return georgia plan fi...       1  \n",
              "1       candler county health department southeast hea...       2  \n",
              "2       week education foundation 2022 campaign class ...       3  \n",
              "3       congratulation metter middle school lady tiger...       4  \n",
              "4       proclamation recently sign gov brian kemp satu...       5  \n",
              "...                                                   ...     ...  \n",
              "192201        alert forecast late sat morning oct 22 2022  192202  \n",
              "192202             alert forecast sat morning oct 22 2022  192203  \n",
              "192203  nashville organization work get financial help...  192204  \n",
              "192204  parent student professional gather school glen...  192205  \n",
              "192205                        pcom bring minority student  192206  \n",
              "\n",
              "[192206 rows x 13 columns]"
            ],
            "text/html": [
              "\n",
              "  <div id=\"df-99e2b585-64e4-474d-976c-a0c6ea9dcf0d\">\n",
              "    <div class=\"colab-df-container\">\n",
              "      <div>\n",
              "<style scoped>\n",
              "    .dataframe tbody tr th:only-of-type {\n",
              "        vertical-align: middle;\n",
              "    }\n",
              "\n",
              "    .dataframe tbody tr th {\n",
              "        vertical-align: top;\n",
              "    }\n",
              "\n",
              "    .dataframe thead th {\n",
              "        text-align: right;\n",
              "    }\n",
              "</style>\n",
              "<table border=\"1\" class=\"dataframe\">\n",
              "  <thead>\n",
              "    <tr style=\"text-align: right;\">\n",
              "      <th></th>\n",
              "      <th>index</th>\n",
              "      <th>source</th>\n",
              "      <th>en_source</th>\n",
              "      <th>website</th>\n",
              "      <th>article_url</th>\n",
              "      <th>article_title</th>\n",
              "      <th>article_author</th>\n",
              "      <th>date_published</th>\n",
              "      <th>article_final</th>\n",
              "      <th>ner_places</th>\n",
              "      <th>ner_orgs</th>\n",
              "      <th>article_lemma_num</th>\n",
              "      <th>id</th>\n",
              "    </tr>\n",
              "  </thead>\n",
              "  <tbody>\n",
              "    <tr>\n",
              "      <th>0</th>\n",
              "      <td>0</td>\n",
              "      <td>Metter Advertiser</td>\n",
              "      <td>1.0</td>\n",
              "      <td>http://www.metteradvertiser.com/</td>\n",
              "      <td>http://www.metteradvertiser.com/article_167b17...</td>\n",
              "      <td>American Pickers to film in Georgia</td>\n",
              "      <td>NaN</td>\n",
              "      <td>2022-09-19</td>\n",
              "      <td>The American Pickers are excited to return to ...</td>\n",
              "      <td>{'America (GPE)', 'Georgia (GPE)'}</td>\n",
              "      <td>{'American Pickers (ORG)', 'CDC (ORG)', 'The A...</td>\n",
              "      <td>american picker excited return georgia plan fi...</td>\n",
              "      <td>1</td>\n",
              "    </tr>\n",
              "    <tr>\n",
              "      <th>1</th>\n",
              "      <td>1</td>\n",
              "      <td>Metter Advertiser</td>\n",
              "      <td>1.0</td>\n",
              "      <td>http://www.metteradvertiser.com/</td>\n",
              "      <td>http://www.metteradvertiser.com/article_248646...</td>\n",
              "      <td>Free Covid test kits available TODAY</td>\n",
              "      <td>NaN</td>\n",
              "      <td>2022-09-15</td>\n",
              "      <td>Candler County Health Department and Southeast...</td>\n",
              "      <td>{'Metter (GPE)'}</td>\n",
              "      <td>{'SE Broad Street and (ORG)', 'Southeast Healt...</td>\n",
              "      <td>candler county health department southeast hea...</td>\n",
              "      <td>2</td>\n",
              "    </tr>\n",
              "    <tr>\n",
              "      <th>2</th>\n",
              "      <td>2</td>\n",
              "      <td>Metter Advertiser</td>\n",
              "      <td>1.0</td>\n",
              "      <td>http://www.metteradvertiser.com/</td>\n",
              "      <td>http://www.metteradvertiser.com/article_2eccfd...</td>\n",
              "      <td>CLASS OF 2000 STILL LEADS THE WAY! Over $29K r...</td>\n",
              "      <td>NaN</td>\n",
              "      <td>2022-10-14</td>\n",
              "      <td>After the third week of the Education Foundati...</td>\n",
              "      <td>set()</td>\n",
              "      <td>{'CarterFranklin (ORG)', 'Ronnie &amp; Janie Sikes...</td>\n",
              "      <td>week education foundation 2022 campaign class ...</td>\n",
              "      <td>3</td>\n",
              "    </tr>\n",
              "    <tr>\n",
              "      <th>3</th>\n",
              "      <td>3</td>\n",
              "      <td>Metter Advertiser</td>\n",
              "      <td>1.0</td>\n",
              "      <td>http://www.metteradvertiser.com/</td>\n",
              "      <td>http://www.metteradvertiser.com/article_2f555e...</td>\n",
              "      <td>MMS Lady Tigers to play for championship, MMS ...</td>\n",
              "      <td>NaN</td>\n",
              "      <td>2022-09-27</td>\n",
              "      <td>Congratulations to the Metter Middle School La...</td>\n",
              "      <td>{'South Tattnall (GPE)', 'Bryan County (GPE)',...</td>\n",
              "      <td>{'MHS (ORG)', 'the Metter Middle School Lady T...</td>\n",
              "      <td>congratulation metter middle school lady tiger...</td>\n",
              "      <td>4</td>\n",
              "    </tr>\n",
              "    <tr>\n",
              "      <th>4</th>\n",
              "      <td>4</td>\n",
              "      <td>Metter Advertiser</td>\n",
              "      <td>1.0</td>\n",
              "      <td>http://www.metteradvertiser.com/</td>\n",
              "      <td>http://www.metteradvertiser.com/article_2fe7f1...</td>\n",
              "      <td>ATTN Hunters &amp; Anglers: Celebrate Hunting &amp; Fi...</td>\n",
              "      <td>NaN</td>\n",
              "      <td>2022-09-22</td>\n",
              "      <td>In a proclamation recently signed by Gov. Bria...</td>\n",
              "      <td>{'Georgia (GPE)'}</td>\n",
              "      <td>{'Outdoor Adventure Days (ORG)', 'Congressiona...</td>\n",
              "      <td>proclamation recently sign gov brian kemp satu...</td>\n",
              "      <td>5</td>\n",
              "    </tr>\n",
              "    <tr>\n",
              "      <th>...</th>\n",
              "      <td>...</td>\n",
              "      <td>...</td>\n",
              "      <td>...</td>\n",
              "      <td>...</td>\n",
              "      <td>...</td>\n",
              "      <td>...</td>\n",
              "      <td>...</td>\n",
              "      <td>...</td>\n",
              "      <td>...</td>\n",
              "      <td>...</td>\n",
              "      <td>...</td>\n",
              "      <td>...</td>\n",
              "      <td>...</td>\n",
              "    </tr>\n",
              "    <tr>\n",
              "      <th>192201</th>\n",
              "      <td>3074</td>\n",
              "      <td>WALB TV 10 (NBC)</td>\n",
              "      <td>NaN</td>\n",
              "      <td>http://www.walb.com/</td>\n",
              "      <td>https://www.walb.com/video/2022/10/22/your-fir...</td>\n",
              "      <td>Your First Alert Forecast from late Sat. morni...</td>\n",
              "      <td>NaN</td>\n",
              "      <td>2022-10-14</td>\n",
              "      <td>Your First Alert Forecast from late Sat. morni...</td>\n",
              "      <td>set()</td>\n",
              "      <td>set()</td>\n",
              "      <td>alert forecast late sat morning oct 22 2022</td>\n",
              "      <td>192202</td>\n",
              "    </tr>\n",
              "    <tr>\n",
              "      <th>192202</th>\n",
              "      <td>3075</td>\n",
              "      <td>WALB TV 10 (NBC)</td>\n",
              "      <td>NaN</td>\n",
              "      <td>http://www.walb.com/</td>\n",
              "      <td>https://www.walb.com/video/2022/10/22/your-fir...</td>\n",
              "      <td>Your First Alert Forecast from Sat. morning, O...</td>\n",
              "      <td>NaN</td>\n",
              "      <td>2022-10-14</td>\n",
              "      <td>Your First Alert Forecast from Sat. morning, O...</td>\n",
              "      <td>set()</td>\n",
              "      <td>set()</td>\n",
              "      <td>alert forecast sat morning oct 22 2022</td>\n",
              "      <td>192203</td>\n",
              "    </tr>\n",
              "    <tr>\n",
              "      <th>192203</th>\n",
              "      <td>3076</td>\n",
              "      <td>WALB TV 10 (NBC)</td>\n",
              "      <td>NaN</td>\n",
              "      <td>http://www.walb.com/</td>\n",
              "      <td>https://www.walb.com/video/2022/10/24/organiza...</td>\n",
              "      <td>Organizations help provide financial relief fo...</td>\n",
              "      <td>NaN</td>\n",
              "      <td>2022-10-14</td>\n",
              "      <td>Some Nashville organizations are working to ma...</td>\n",
              "      <td>{'Nashville (GPE)'}</td>\n",
              "      <td>set()</td>\n",
              "      <td>nashville organization work get financial help...</td>\n",
              "      <td>192204</td>\n",
              "    </tr>\n",
              "    <tr>\n",
              "      <th>192204</th>\n",
              "      <td>3077</td>\n",
              "      <td>WALB TV 10 (NBC)</td>\n",
              "      <td>NaN</td>\n",
              "      <td>http://www.walb.com/</td>\n",
              "      <td>https://www.walb.com/video/2022/10/25/fentanyl...</td>\n",
              "      <td>Fentanyl fears prompts community roundtable in...</td>\n",
              "      <td>NaN</td>\n",
              "      <td>2022-09-28</td>\n",
              "      <td>Parents, students, and professionals all gathe...</td>\n",
              "      <td>{'Glendale (GPE)'}</td>\n",
              "      <td>set()</td>\n",
              "      <td>parent student professional gather school glen...</td>\n",
              "      <td>192205</td>\n",
              "    </tr>\n",
              "    <tr>\n",
              "      <th>192205</th>\n",
              "      <td>3078</td>\n",
              "      <td>WALB TV 10 (NBC)</td>\n",
              "      <td>NaN</td>\n",
              "      <td>http://www.walb.com/</td>\n",
              "      <td>https://www.walb.com/video/2022/11/16/pcom-bri...</td>\n",
              "      <td>PCOM bringing in more minority students</td>\n",
              "      <td>NaN</td>\n",
              "      <td>2022-10-07</td>\n",
              "      <td>PCOM bringing in more minority students</td>\n",
              "      <td>set()</td>\n",
              "      <td>set()</td>\n",
              "      <td>pcom bring minority student</td>\n",
              "      <td>192206</td>\n",
              "    </tr>\n",
              "  </tbody>\n",
              "</table>\n",
              "<p>192206 rows × 13 columns</p>\n",
              "</div>\n",
              "      <button class=\"colab-df-convert\" onclick=\"convertToInteractive('df-99e2b585-64e4-474d-976c-a0c6ea9dcf0d')\"\n",
              "              title=\"Convert this dataframe to an interactive table.\"\n",
              "              style=\"display:none;\">\n",
              "        \n",
              "  <svg xmlns=\"http://www.w3.org/2000/svg\" height=\"24px\"viewBox=\"0 0 24 24\"\n",
              "       width=\"24px\">\n",
              "    <path d=\"M0 0h24v24H0V0z\" fill=\"none\"/>\n",
              "    <path d=\"M18.56 5.44l.94 2.06.94-2.06 2.06-.94-2.06-.94-.94-2.06-.94 2.06-2.06.94zm-11 1L8.5 8.5l.94-2.06 2.06-.94-2.06-.94L8.5 2.5l-.94 2.06-2.06.94zm10 10l.94 2.06.94-2.06 2.06-.94-2.06-.94-.94-2.06-.94 2.06-2.06.94z\"/><path d=\"M17.41 7.96l-1.37-1.37c-.4-.4-.92-.59-1.43-.59-.52 0-1.04.2-1.43.59L10.3 9.45l-7.72 7.72c-.78.78-.78 2.05 0 2.83L4 21.41c.39.39.9.59 1.41.59.51 0 1.02-.2 1.41-.59l7.78-7.78 2.81-2.81c.8-.78.8-2.07 0-2.86zM5.41 20L4 18.59l7.72-7.72 1.47 1.35L5.41 20z\"/>\n",
              "  </svg>\n",
              "      </button>\n",
              "      \n",
              "  <style>\n",
              "    .colab-df-container {\n",
              "      display:flex;\n",
              "      flex-wrap:wrap;\n",
              "      gap: 12px;\n",
              "    }\n",
              "\n",
              "    .colab-df-convert {\n",
              "      background-color: #E8F0FE;\n",
              "      border: none;\n",
              "      border-radius: 50%;\n",
              "      cursor: pointer;\n",
              "      display: none;\n",
              "      fill: #1967D2;\n",
              "      height: 32px;\n",
              "      padding: 0 0 0 0;\n",
              "      width: 32px;\n",
              "    }\n",
              "\n",
              "    .colab-df-convert:hover {\n",
              "      background-color: #E2EBFA;\n",
              "      box-shadow: 0px 1px 2px rgba(60, 64, 67, 0.3), 0px 1px 3px 1px rgba(60, 64, 67, 0.15);\n",
              "      fill: #174EA6;\n",
              "    }\n",
              "\n",
              "    [theme=dark] .colab-df-convert {\n",
              "      background-color: #3B4455;\n",
              "      fill: #D2E3FC;\n",
              "    }\n",
              "\n",
              "    [theme=dark] .colab-df-convert:hover {\n",
              "      background-color: #434B5C;\n",
              "      box-shadow: 0px 1px 3px 1px rgba(0, 0, 0, 0.15);\n",
              "      filter: drop-shadow(0px 1px 2px rgba(0, 0, 0, 0.3));\n",
              "      fill: #FFFFFF;\n",
              "    }\n",
              "  </style>\n",
              "\n",
              "      <script>\n",
              "        const buttonEl =\n",
              "          document.querySelector('#df-99e2b585-64e4-474d-976c-a0c6ea9dcf0d button.colab-df-convert');\n",
              "        buttonEl.style.display =\n",
              "          google.colab.kernel.accessAllowed ? 'block' : 'none';\n",
              "\n",
              "        async function convertToInteractive(key) {\n",
              "          const element = document.querySelector('#df-99e2b585-64e4-474d-976c-a0c6ea9dcf0d');\n",
              "          const dataTable =\n",
              "            await google.colab.kernel.invokeFunction('convertToInteractive',\n",
              "                                                     [key], {});\n",
              "          if (!dataTable) return;\n",
              "\n",
              "          const docLinkHtml = 'Like what you see? Visit the ' +\n",
              "            '<a target=\"_blank\" href=https://colab.research.google.com/notebooks/data_table.ipynb>data table notebook</a>'\n",
              "            + ' to learn more about interactive tables.';\n",
              "          element.innerHTML = '';\n",
              "          dataTable['output_type'] = 'display_data';\n",
              "          await google.colab.output.renderOutput(dataTable, element);\n",
              "          const docLink = document.createElement('div');\n",
              "          docLink.innerHTML = docLinkHtml;\n",
              "          element.appendChild(docLink);\n",
              "        }\n",
              "      </script>\n",
              "    </div>\n",
              "  </div>\n",
              "  "
            ]
          },
          "metadata": {},
          "execution_count": 3
        }
      ]
    },
    {
      "cell_type": "code",
      "source": [],
      "metadata": {
        "id": "NPD_Dbzc2EsJ"
      },
      "execution_count": null,
      "outputs": []
    }
  ]
}